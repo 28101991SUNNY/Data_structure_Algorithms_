{
 "cells": [
  {
   "cell_type": "code",
   "execution_count": 69,
   "id": "3907515a",
   "metadata": {},
   "outputs": [],
   "source": [
    "def convert_decimal_to_binary(num):\n",
    "    string = \"\"\n",
    "    while num > 0:\n",
    "        \n",
    "\n",
    "        bit = num % 2 \n",
    "        string += str(bit)\n",
    "        num = num //2\n",
    "       \n",
    "    return (string[::-1])"
   ]
  },
  {
   "cell_type": "code",
   "execution_count": null,
   "id": "92df338b",
   "metadata": {},
   "outputs": [],
   "source": []
  },
  {
   "cell_type": "code",
   "execution_count": null,
   "id": "1a149a97",
   "metadata": {},
   "outputs": [],
   "source": []
  },
  {
   "cell_type": "code",
   "execution_count": null,
   "id": "45dfca72",
   "metadata": {},
   "outputs": [],
   "source": []
  },
  {
   "cell_type": "code",
   "execution_count": null,
   "id": "aba8d42e",
   "metadata": {},
   "outputs": [],
   "source": []
  },
  {
   "cell_type": "raw",
   "id": "aa1d1b1e",
   "metadata": {},
   "source": [
    "chunking : \n",
    "    \n",
    "NORTH AMERICAN\n",
    "1. divide (something) into chunks.\n",
    "\"chunk four pounds of pears\"\n",
    "2.\n",
    "(in psychology or linguistic analysis) group together (connected items or words) so that they can be stored or processed as single concepts.\n",
    "\"pupils are able to chunk phrases or propositions into units\"\n",
    "\n",
    "\n",
    "\n",
    "\n",
    "Working memory\n",
    "\n",
    "\n",
    "\n",
    "Working memory is a cognitive system with a limited capacity that can hold information temporarily.\n",
    "Working memory is important for reasoning and the guidance of decision-making and behavior.\n",
    "Working memory is often used synonymously with short-term memory, but some theorists consider the two forms of memory distinct, assuming that working memory allows for the manipulation of stored information, whereas short-term memory only refers to the short-term storage of information.\n",
    "Working memory is a theoretical concept central to cognitive psychology, neuropsychology, and neuroscience.\n",
    "\n",
    "\n",
    "\n",
    "\n"
   ]
  },
  {
   "cell_type": "markdown",
   "id": "d83d68f3",
   "metadata": {},
   "source": [
    "# subarray "
   ]
  },
  {
   "cell_type": "raw",
   "id": "cbba54c0",
   "metadata": {},
   "source": [
    "# subarray \n",
    "\n",
    "- contiguous chunk of an array\n",
    "contiguous :  means Unbroken , 1 single part\n",
    "\n",
    "-subarrays are represented  by start and end index , 0 <= start <= end < n\n",
    "\n",
    "\n"
   ]
  },
  {
   "cell_type": "code",
   "execution_count": 2,
   "id": "8b2232e2",
   "metadata": {},
   "outputs": [
    {
     "name": "stdout",
     "output_type": "stream",
     "text": [
      "[1]\n",
      "[1, 3]\n",
      "[1, 3, 2]\n",
      "[1, 3, 2, 6]\n",
      "[1, 3, 2, 6, 6]\n",
      "[1, 3, 2, 6, 6, 0]\n",
      "[3]\n",
      "[3, 2]\n",
      "[3, 2, 6]\n",
      "[3, 2, 6, 6]\n",
      "[3, 2, 6, 6, 0]\n",
      "[2]\n",
      "[2, 6]\n",
      "[2, 6, 6]\n",
      "[2, 6, 6, 0]\n",
      "[6]\n",
      "[6, 6]\n",
      "[6, 6, 0]\n",
      "[6]\n",
      "[6, 0]\n",
      "[0]\n",
      "number of subarrays are :  21\n"
     ]
    }
   ],
   "source": [
    "A = [1,3,2,6,6,0]\n",
    "n = len(A)\n",
    "C = 0\n",
    "for s in range(n):\n",
    "    for e in range(s,n):\n",
    "        print(A[s:e+1])\n",
    "        C +=1\n",
    "print(\"number of subarrays are : \", C)"
   ]
  },
  {
   "cell_type": "raw",
   "id": "22d38d1e",
   "metadata": {},
   "source": [
    "in general total number of subarrays : \n",
    "[1]\n",
    "[1, 3]\n",
    "[1, 3, 2]\n",
    "[1, 3, 2, 6]\n",
    "[1, 3, 2, 6, 6]\n",
    "[1, 3, 2, 6, 6, 0]    = 6  (n-1)\n",
    "[3]\n",
    "[3, 2]\n",
    "[3, 2, 6]\n",
    "[3, 2, 6, 6]\n",
    "[3, 2, 6, 6, 0]             n-2\n",
    "[2]\n",
    "[2, 6]\n",
    "[2, 6, 6]\n",
    "[2, 6, 6, 0]                n-3\n",
    "[6] \n",
    "[6, 6]\n",
    "[6, 6, 0]                   n-4\n",
    "[6]\n",
    "[6, 0]                      n-5\n",
    "[0]                           1\n",
    "\n",
    "\n",
    "\n",
    "total number of subarrays : n-1 + n-2 + n-3 + .... + 1  == n(n+1)/2  == O(n^2)\n",
    "                     \n",
    "                     \n",
    "the array is itself a subarray.\n",
    "empty array [] is not a subarray.\n",
    "\n",
    "\n",
    "\n",
    "                     "
   ]
  },
  {
   "cell_type": "code",
   "execution_count": null,
   "id": "c1dbafd1",
   "metadata": {},
   "outputs": [],
   "source": []
  },
  {
   "cell_type": "markdown",
   "id": "6f057931",
   "metadata": {},
   "source": [
    "# subsequence"
   ]
  },
  {
   "cell_type": "raw",
   "id": "6cce63cf",
   "metadata": {},
   "source": [
    "\n",
    "sequence : is an ordered collection of items (arrangment)\n",
    "    \n",
    "\"subsequence of zerp pf more elements from  a collection in the same order of the original array\"\n",
    "    \n",
    "    \n",
    "not contiguous \n",
    "\n",
    "\n",
    "arrays     []\n",
    "sets       {,}\n",
    "dictionary {}\n",
    "tuples     ()\n",
    "sequences  <>\n",
    "\n",
    "whenever we are talking about subsequences : we are choosing zero or more elements\n",
    "\n",
    "\n",
    "A = [1,2,3,4,5]\n",
    "\n",
    "if we dont choose no elements : <> is a sub-sequence\n",
    "                    _ _ _ _ _ : <>\n",
    "                    _ _ X _ X : <3,5>\n",
    "                    X X X X X : <1,2,3,4,5>\n",
    "                              \n",
    "                              if \n",
    "          not possible:       <5,3> want to choose: \n",
    "                          as the order matters :\n",
    "\n",
    "A = [1,2,3,4,5]\n",
    "\n",
    "<>\n",
    "<1>\n",
    "<12>\n",
    "<13>\n",
    "<14>\n",
    "<15>\n",
    "<123>\n",
    "<124>\n",
    "<125>\n",
    "<134>\n",
    "<135>\n",
    "<145>\n",
    "<1235>\n",
    "<1234>\n",
    "<1245>\n",
    "<1345>\n",
    "<12345>\n",
    "<2>\n",
    "<23>\n",
    "<24>\n",
    "<25>\n",
    "<234>\n",
    "<235>\n",
    "<245>\n",
    "<2345>\n",
    "<3>\n",
    "<34>\n",
    "<35>\n",
    "<345>\n",
    "<4>\n",
    "<45>\n",
    "<5>\n",
    "\n",
    "number of subsequences : 2**n\n",
    "\n",
    "at every elements : we either pick the element or not pick for subsequence :\n",
    "so for every elements we have two choices : either include or exclude\n",
    "                          and these choices are independent\n",
    "                          \n",
    "                  incase of independent choices : posibilities multiply \n",
    "                  \n",
    "                    2*2*2*2*...*2 : n times : == 2**n\n",
    "                    \n",
    "                   \n",
    "                  \n",
    "entire array : valid subsequnce\n",
    "empty : yes valid\n",
    "\n",
    "\n",
    "\"\"\n",
    "but a continuous subsequence is a subarray\n",
    "and contiguous sequence cant be empty\n",
    "\n",
    "\n",
    "\"\"\n",
    "\n",
    "\n"
   ]
  },
  {
   "attachments": {
    "Screenshot%202022-04-08%20094753.jpeg": {
     "image/jpeg": "[encoded data removed]"
    }
   },
   "cell_type": "markdown",
   "id": "85c2813a",
   "metadata": {},
   "source": [
    "![Screenshot%202022-04-08%20094753.jpeg](attachment:Screenshot%202022-04-08%20094753.jpeg)"
   ]
  },
  {
   "cell_type": "code",
   "execution_count": 456,
   "id": "94af486b",
   "metadata": {},
   "outputs": [
    {
     "name": "stdout",
     "output_type": "stream",
     "text": [
      "0 0 []\n",
      "1 1 [5]\n",
      "2 10 [4]\n",
      "3 11 [4, 5]\n",
      "4 100 [3]\n",
      "5 101 [3, 5]\n",
      "6 110 [3, 4]\n",
      "7 111 [3, 4, 5]\n",
      "8 1000 [2]\n",
      "9 1001 [2, 5]\n",
      "10 1010 [2, 4]\n",
      "11 1011 [2, 4, 5]\n",
      "12 1100 [2, 3]\n",
      "13 1101 [2, 3, 5]\n",
      "14 1110 [2, 3, 4]\n",
      "15 1111 [2, 3, 4, 5]\n",
      "16 10000 [1]\n",
      "17 10001 [1, 5]\n",
      "18 10010 [1, 4]\n",
      "19 10011 [1, 4, 5]\n",
      "20 10100 [1, 3]\n",
      "21 10101 [1, 3, 5]\n",
      "22 10110 [1, 3, 4]\n",
      "23 10111 [1, 3, 4, 5]\n",
      "24 11000 [1, 2]\n",
      "25 11001 [1, 2, 5]\n",
      "26 11010 [1, 2, 4]\n",
      "27 11011 [1, 2, 4, 5]\n",
      "28 11100 [1, 2, 3]\n",
      "29 11101 [1, 2, 3, 5]\n",
      "30 11110 [1, 2, 3, 4]\n",
      "31 11111 [1, 2, 3, 4, 5]\n"
     ]
    }
   ],
   "source": [
    "A = [1,2,3,4,5]\n",
    "def generate_subsets(A):\n",
    "    n = len(A)\n",
    "    for i in range(2**n):\n",
    "        subset = []\n",
    "        s = bin(i)[2:]\n",
    "        s = s.rjust(n,\"0\")\n",
    "        x = 0 \n",
    "        for j in s:\n",
    "            if j == \"1\":\n",
    "                subset.append(A[x])\n",
    "            x += 1\n",
    "        print(i,bin(i)[2:],subset)\n",
    "        \n",
    "    \n",
    "generate_subsets(A)"
   ]
  },
  {
   "cell_type": "code",
   "execution_count": 439,
   "id": "2bbe2af8",
   "metadata": {},
   "outputs": [
    {
     "name": "stdout",
     "output_type": "stream",
     "text": [
      "[3, 5]\n"
     ]
    }
   ],
   "source": [
    "S = \"00101\"\n",
    "\n",
    "\n",
    "ans = []\n",
    "x = 0\n",
    "for i in S:\n",
    "    if i == \"1\":\n",
    "        ans.append(A[x])\n",
    "    x = x+1\n",
    "        \n",
    "print(ans)"
   ]
  },
  {
   "cell_type": "code",
   "execution_count": null,
   "id": "d2ba2d3c",
   "metadata": {},
   "outputs": [],
   "source": []
  },
  {
   "cell_type": "code",
   "execution_count": null,
   "id": "b49b09aa",
   "metadata": {},
   "outputs": [],
   "source": []
  },
  {
   "cell_type": "markdown",
   "id": "ef52703f",
   "metadata": {},
   "source": [
    "# subset "
   ]
  },
  {
   "cell_type": "raw",
   "id": "0f52ed25",
   "metadata": {},
   "source": [
    "\n",
    "\n",
    "subset : \n",
    "\n",
    "\n",
    "a selection of zeros or more elements from a collection \n",
    "\n",
    "\n",
    "1. similar to subsequence\n",
    "2. order doent matter          {1,2,3} == {1,3,2} == {2,3,1} == etc. \n",
    "\n",
    "3. repetition not allowed : if we want repetation \" we've to use multiset\n",
    "                                        (counts the repetition )\n",
    "                                        a frequency dictionary\n",
    "                               \n",
    "       \n",
    "total number of subsets : 2**n\n",
    "same as subsequence\n",
    "\n",
    "\n",
    "caution ⚠  !\n",
    "if A = [1,1] , then we have two subsets : [1] and  [] if we consider values\n",
    "                                                      repetation not allowed\n",
    "       \n",
    "       \n",
    "if we consider indices : [],[1],[1],[1,1]  here we have, 2**n subsets\n",
    "most cases we will consider indices .\n",
    "look examples of problem statement\n",
    "\n",
    "\n",
    "\n",
    "always clarify the problem \n",
    "\n",
    "\n",
    "\n",
    "\"\"\"\"\"\"------------------------------------------------------------------\n",
    "a proper subset \" subset but not the whole array set\n",
    "\n",
    "\n",
    "proper divisor : all the divisors but n \n",
    "proper subarrays - subarrays bt not include the whole array subarray\n",
    "\"\"\"\"\"-------------------------------------------------------------------\n",
    "\n",
    "\n",
    "\n",
    "\n"
   ]
  },
  {
   "cell_type": "markdown",
   "id": "3d39f610",
   "metadata": {},
   "source": []
  },
  {
   "cell_type": "markdown",
   "id": "e8689125",
   "metadata": {},
   "source": [
    "# Q! subset sum\n",
    "\n",
    "### given an array of integers and a number k , check if there's a subset of sum == k"
   ]
  },
  {
   "cell_type": "code",
   "execution_count": 7,
   "id": "5ae7cf90",
   "metadata": {},
   "outputs": [],
   "source": [
    "A = [2,3,6,-5,4]\n",
    "k = 7\n",
    "\n",
    "# subset having sum 7 : [3,4] , [2,4,6,-5]\n",
    "\n",
    "n = len(A)\n",
    "\n",
    "# brute force \": check all the subsets\"\n",
    "# generate all subsets\n",
    "# two ways to generate subsets : one is recursive .\n",
    "# second way is binary hack \n",
    "\n"
   ]
  },
  {
   "cell_type": "code",
   "execution_count": 44,
   "id": "a2c5bc65",
   "metadata": {},
   "outputs": [],
   "source": []
  },
  {
   "cell_type": "code",
   "execution_count": 433,
   "id": "d48af724",
   "metadata": {},
   "outputs": [
    {
     "name": "stdout",
     "output_type": "stream",
     "text": [
      "\n",
      "[3, 4]\n",
      "[2, 6, -5, 4]\n"
     ]
    }
   ],
   "source": [
    "def generate_subsets(A):\n",
    "    n = len(A)\n",
    "    big = []\n",
    "    for i in range(2**n):\n",
    "        subset = []\n",
    "        s = bin(i)[2:]\n",
    "        s = s.rjust(n,\"0\")\n",
    "        x = 0\n",
    "        for j in s:\n",
    "            if j == \"1\":\n",
    "                subset.append(A[x])\n",
    "            x += 1\n",
    "        big.append(subset)\n",
    "    return big\n",
    "        \n",
    "A = [2,3,6,-5,4]\n",
    "k = 7\n",
    "\n",
    "n = len(A)\n",
    "\n",
    "subsetlist = generate_subsets(A)\n",
    "#print(subsetlist)\n",
    "print()\n",
    "for sbst in subsetlist:\n",
    "    sm = 0\n",
    "    for i in sbst:\n",
    "        sm += i\n",
    "    if sm == k:\n",
    "        print(sbst)"
   ]
  },
  {
   "cell_type": "code",
   "execution_count": null,
   "id": "8fa15bf9",
   "metadata": {},
   "outputs": [],
   "source": []
  },
  {
   "cell_type": "code",
   "execution_count": 440,
   "id": "c3b94c73",
   "metadata": {},
   "outputs": [
    {
     "name": "stdout",
     "output_type": "stream",
     "text": [
      "[3, 4]\n",
      "[2, 6, -5, 4]\n"
     ]
    }
   ],
   "source": [
    "A = [2,3,6,-5,4]\n",
    "n= len(A)\n",
    "k = 7\n",
    "\n",
    "for i in range(2**n):\n",
    "    s = convert_decimal_to_binary(i)\n",
    "    s = s.rjust(n,\"0\")\n",
    "    x = 0\n",
    "    subset = []\n",
    "    for j in s:\n",
    "        if j == \"1\":\n",
    "            subset.append(A[x])\n",
    "        x += 1\n",
    "    summ = 0\n",
    "    for i in subset:\n",
    "        summ += i\n",
    "    if summ == k:\n",
    "        print(subset)"
   ]
  },
  {
   "cell_type": "code",
   "execution_count": null,
   "id": "bf2521c4",
   "metadata": {},
   "outputs": [],
   "source": []
  },
  {
   "cell_type": "code",
   "execution_count": 441,
   "id": "1bf21f09",
   "metadata": {},
   "outputs": [
    {
     "name": "stdout",
     "output_type": "stream",
     "text": [
      "[3, 4]\n",
      "[2, 6, -5, 4]\n"
     ]
    }
   ],
   "source": [
    "A = [2,3,6,-5,4]\n",
    "n= len(A)\n",
    "k = 7\n",
    "\n",
    "for i in range(2**n):\n",
    "    s = convert_decimal_to_binary(i)\n",
    "    s = s.rjust(n,\"0\")\n",
    "    x = 0\n",
    "    subset = []\n",
    "    summ = 0\n",
    "    for j in s:\n",
    "        if j == \"1\":\n",
    "            subset.append(A[x])\n",
    "            \n",
    "        x += 1\n",
    "        if sum(subset) == k:\n",
    "            print(subset)\n",
    "    "
   ]
  },
  {
   "cell_type": "code",
   "execution_count": null,
   "id": "bd4e57c0",
   "metadata": {},
   "outputs": [],
   "source": []
  },
  {
   "cell_type": "code",
   "execution_count": null,
   "id": "0f94fb0a",
   "metadata": {},
   "outputs": [],
   "source": []
  },
  {
   "cell_type": "code",
   "execution_count": null,
   "id": "12b27e01",
   "metadata": {},
   "outputs": [],
   "source": []
  },
  {
   "cell_type": "code",
   "execution_count": null,
   "id": "2505ff09",
   "metadata": {},
   "outputs": [],
   "source": []
  },
  {
   "cell_type": "code",
   "execution_count": null,
   "id": "4a01744e",
   "metadata": {},
   "outputs": [],
   "source": []
  },
  {
   "cell_type": "markdown",
   "id": "d832ad3f",
   "metadata": {},
   "source": [
    "# Q3. Subsequence-Sum Problem\n",
    "\n",
    "\n",
    "\n",
    "### You are given an array of integers of N size.\n",
    "\n",
    "### You have to find that there is any subsequence exists or not whose sum is equal to B."
   ]
  },
  {
   "cell_type": "code",
   "execution_count": 443,
   "id": "7c3a22fa",
   "metadata": {},
   "outputs": [
    {
     "data": {
      "text/plain": [
       "0"
      ]
     },
     "execution_count": 443,
     "metadata": {},
     "output_type": "execute_result"
    }
   ],
   "source": [
    "\n",
    "def solve(A, k):\n",
    "\n",
    "    for i in range(2**n):\n",
    "        s = bin(i)[2:]\n",
    "        s = s.rjust(n,\"0\")\n",
    "        x = 0\n",
    "        subset = []\n",
    "        summ = 0\n",
    "        for j in s:\n",
    "            if j == \"1\":\n",
    "                subset.append(A[x])\n",
    "\n",
    "            x += 1\n",
    "            if sum(subset) == k:\n",
    "                return 1\n",
    "    return 0\n",
    "\n",
    "A = [13]\n",
    "n= len(A)\n",
    "k = 1\n",
    "solve(A,k)"
   ]
  },
  {
   "cell_type": "code",
   "execution_count": null,
   "id": "8584f36a",
   "metadata": {},
   "outputs": [],
   "source": [
    "## carry forward\n"
   ]
  },
  {
   "cell_type": "code",
   "execution_count": 444,
   "id": "ff90934a",
   "metadata": {},
   "outputs": [
    {
     "data": {
      "text/plain": [
       "1"
      ]
     },
     "execution_count": 444,
     "metadata": {},
     "output_type": "execute_result"
    }
   ],
   "source": [
    "\n",
    "def Subsequence_Sum(A, k):\n",
    "\n",
    "    n = len(A)\n",
    "    for i in range(2**n):\n",
    "        s = bin(i)[2:]\n",
    "        s = s.rjust(n,\"0\")\n",
    "        x = 0\n",
    "        summ = 0\n",
    "        for j in s:\n",
    "            if j == \"1\":\n",
    "                summ += A[x]\n",
    "#                 print(A[x], end = \" \")\n",
    "\n",
    "            x += 1\n",
    "            if summ == k:\n",
    "                \n",
    "                return 1\n",
    "#         print()\n",
    "    return 0\n",
    "\n",
    "A = [2,3,6,-5,4]\n",
    "n= len(A)\n",
    "k = 7\n",
    "Subsequence_Sum(A,k)"
   ]
  },
  {
   "cell_type": "raw",
   "id": "c41cebac",
   "metadata": {},
   "source": [
    "# can we optimize the subset sum = k ? \n",
    "if k << 2^n : yes : via knapsack(dynamic programing )\n",
    "        else\n",
    "        NO"
   ]
  },
  {
   "cell_type": "code",
   "execution_count": null,
   "id": "a65cbf70",
   "metadata": {},
   "outputs": [],
   "source": []
  },
  {
   "cell_type": "code",
   "execution_count": 445,
   "id": "a3c437a3",
   "metadata": {},
   "outputs": [
    {
     "data": {
      "text/plain": [
       "1"
      ]
     },
     "execution_count": 445,
     "metadata": {},
     "output_type": "execute_result"
    }
   ],
   "source": [
    "\n",
    "def Subsequence_Sum(A, k):\n",
    "\n",
    "    n = len(A)\n",
    "    for i in range(2**n):\n",
    "        s = bin(i)[2:]\n",
    "        s = s.rjust(n,\"0\")\n",
    "        x = 0\n",
    "        summ = 0\n",
    "        for j in s:\n",
    "            if j == \"1\":\n",
    "                summ += A[x]\n",
    "#                 print(A[x], end = \" \")\n",
    "\n",
    "            x += 1\n",
    "            if summ == k:\n",
    "                \n",
    "                return 1\n",
    "#         print()\n",
    "    return 0\n",
    "\n",
    "A = [2,3,6,-5,4]\n",
    "n= len(A)\n",
    "k = 7\n",
    "Subsequence_Sum(A,k)"
   ]
  },
  {
   "cell_type": "code",
   "execution_count": 7,
   "id": "e3d25ae1",
   "metadata": {},
   "outputs": [
    {
     "data": {
      "text/plain": [
       "1"
      ]
     },
     "execution_count": 7,
     "metadata": {},
     "output_type": "execute_result"
    }
   ],
   "source": [
    "import sys\n",
    "sys.setrecursionlimit(10**9)\n",
    "\n",
    "def solve(A, k):\n",
    "\n",
    "    ans = []\n",
    "    def printSubsequences(A, index, subarr,k):\n",
    "        if index == len(A):\n",
    "\n",
    "            if len(subarr) != 0:\n",
    "\n",
    "                sumx = sum(subarr)\n",
    "                if sumx == k:\n",
    "                    ans.append(subarr)\n",
    "                    return\n",
    "        \n",
    "\n",
    "        else:\n",
    "            printSubsequences(A, index + 1, subarr,k)\n",
    "\n",
    "            printSubsequences(A, index + 1, subarr+[A[index]],k)\n",
    "        \n",
    "        return ans\n",
    "\n",
    "    if len(printSubsequences(A,0,[],k)) == 0:\n",
    "        return 0\n",
    "    else:\n",
    "        return 1\n",
    "\n",
    "           \n",
    "A = [ 25, 14, 53, 71, 80, 31, 17, 79, 26 ]\n",
    "B = 217\n",
    "solve(A, B)"
   ]
  },
  {
   "cell_type": "code",
   "execution_count": 2,
   "id": "541a2cb9",
   "metadata": {},
   "outputs": [
    {
     "name": "stdout",
     "output_type": "stream",
     "text": [
      "[3, 4]\n",
      "[2, 6, -5, 4]\n"
     ]
    }
   ],
   "source": [
    "\n",
    "\n",
    "def printSubsequences(A, index, subarr,k):\n",
    "    if index == len(A):\n",
    "        \n",
    "        if len(subarr) != 0:\n",
    "            \n",
    "            sumx = sum(subarr)\n",
    "            if sumx == k:\n",
    "                print(subarr)\n",
    "                \n",
    "       \n",
    "    else:\n",
    "        printSubsequences(A, index + 1, subarr,k)\n",
    "           \n",
    "        printSubsequences(A, index + 1, subarr+[A[index]],k)\n",
    "       \n",
    "    return \n",
    "           \n",
    "A = [2,3,6,-5,4]\n",
    "k = 7\n",
    "\n",
    "printSubsequences(A, 0, [],k)\n",
    "\n"
   ]
  },
  {
   "cell_type": "markdown",
   "id": "d0adb1cd",
   "metadata": {},
   "source": [
    "# Q2. Find subsequence\n",
    "\n",
    "\n",
    "### Given two strings A and B, find if A is a subsequence of B.\n",
    "\n",
    "### Return \"YES\" if A is a subsequence of B, else return \"NO\"."
   ]
  },
  {
   "cell_type": "code",
   "execution_count": 200,
   "id": "3ca72b3a",
   "metadata": {},
   "outputs": [
    {
     "name": "stdout",
     "output_type": "stream",
     "text": [
      "NO\n"
     ]
    }
   ],
   "source": [
    "A = \"dfbkjijgbbiihbmmt\"\n",
    "k = \"tm\"\n",
    "\n",
    "ans = \"NO\"\n",
    "n = len(A)\n",
    "for i in range(2**n):\n",
    "    subset = \"\"\n",
    "    s = (convert_decimal_to_binary(i))\n",
    "    s = s.rjust(n,\"0\")\n",
    "    x = 0\n",
    "    for j in s:\n",
    "        if j == \"1\":\n",
    "            subset += A[x]\n",
    "        x += 1\n",
    "        if subset == k:\n",
    "            ans = \"YES\"\n",
    "print(ans)\n",
    "\n",
    "    \n"
   ]
  },
  {
   "cell_type": "code",
   "execution_count": 160,
   "id": "34ce4121",
   "metadata": {},
   "outputs": [
    {
     "name": "stdout",
     "output_type": "stream",
     "text": [
      "NO\n"
     ]
    }
   ],
   "source": [
    "A = \"apple\"\n",
    "k = \"aplp\"\n",
    "\n",
    "ans = \"NO\"\n",
    "\n",
    "n = len(A)\n",
    "for i in range(2**n):\n",
    "    subset = \"\"\n",
    "    s = (convert_decimal_to_binary(i))\n",
    "    s = s.rjust(n,\"0\")\n",
    "    x = 0\n",
    "    for j in s:\n",
    "        if j == \"1\":\n",
    "            subset += A[x]\n",
    "        \n",
    "\n",
    "        x += 1\n",
    "        if subset == k:\n",
    "            ans = \"YES\"\n",
    "print(ans)"
   ]
  },
  {
   "cell_type": "code",
   "execution_count": 5,
   "id": "26d35832",
   "metadata": {},
   "outputs": [
    {
     "name": "stdout",
     "output_type": "stream",
     "text": [
      "d\n",
      "s\n",
      "sd\n",
      "a\n",
      "ad\n",
      "as\n",
      "asd\n"
     ]
    }
   ],
   "source": [
    "\n",
    "\n",
    "def printSubsequences(A, index, subarr,k):\n",
    "    if index == len(A):\n",
    "        \n",
    "        if len(subarr) != 0:\n",
    "            x = \"\".join(subarr)\n",
    "            print(x)\n",
    "                \n",
    "       \n",
    "    else:\n",
    "        printSubsequences(A, index + 1, subarr,k)\n",
    "           \n",
    "        printSubsequences(A, index + 1, subarr+[A[index]],k)\n",
    "       \n",
    "    return \n",
    "           \n",
    "A = [2,3,6,-5,4]\n",
    "k = 7\n",
    "\n",
    "printSubsequences(\"asd\", 0, [],k)\n",
    "\n"
   ]
  },
  {
   "cell_type": "code",
   "execution_count": null,
   "id": "0c608a1c",
   "metadata": {},
   "outputs": [],
   "source": []
  },
  {
   "cell_type": "code",
   "execution_count": null,
   "id": "a4847ff8",
   "metadata": {},
   "outputs": [],
   "source": []
  },
  {
   "cell_type": "code",
   "execution_count": null,
   "id": "5cc4113c",
   "metadata": {},
   "outputs": [],
   "source": []
  },
  {
   "cell_type": "markdown",
   "id": "deebcff2",
   "metadata": {},
   "source": [
    "# Q! All subset sum "
   ]
  },
  {
   "cell_type": "code",
   "execution_count": null,
   "id": "d1d45053",
   "metadata": {},
   "outputs": [],
   "source": []
  },
  {
   "cell_type": "code",
   "execution_count": 239,
   "id": "697a5a5e",
   "metadata": {},
   "outputs": [
    {
     "data": {
      "text/plain": [
       "32"
      ]
     },
     "execution_count": 239,
     "metadata": {},
     "output_type": "execute_result"
    }
   ],
   "source": [
    "        \n",
    "A = [3,-6,7,0]\n",
    "n = len(A)\n",
    "def all_subsets_sum(A):\n",
    "    n = len(A)\n",
    "    total = 0\n",
    "    for i in range(2**n):\n",
    "        subset = []\n",
    "        s = (convert_decimal_to_binary(i))\n",
    "        s = s.rjust(n,\"0\")\n",
    "        x = 0\n",
    "        summ = 0\n",
    "        for j in s:\n",
    "            if j == \"1\":\n",
    "                summ += A[x]\n",
    "            x += 1\n",
    "        total += summ\n",
    "    return total\n",
    "        \n",
    "all_subsets_sum(A)\n",
    "    \n",
    "            "
   ]
  },
  {
   "cell_type": "code",
   "execution_count": null,
   "id": "6586de7b",
   "metadata": {},
   "outputs": [],
   "source": []
  },
  {
   "cell_type": "code",
   "execution_count": null,
   "id": "eab7abe7",
   "metadata": {},
   "outputs": [],
   "source": []
  },
  {
   "cell_type": "raw",
   "id": "8f771005",
   "metadata": {},
   "source": [
    "# inverting the problem\n",
    " \n",
    "\n",
    "for each subset (2^n) : \n",
    "for each element  in subset (n)\n",
    "sum \n",
    "total sum \n",
    " \n",
    " \n",
    " ==\n",
    " \n",
    "for each element in A (n)\n",
    "for each subset containing element i\n",
    "summ \n",
    "\n",
    "find the contribution of each element \n"
   ]
  },
  {
   "cell_type": "code",
   "execution_count": 249,
   "id": "bd682ce5",
   "metadata": {},
   "outputs": [
    {
     "name": "stdout",
     "output_type": "stream",
     "text": [
      " []\n",
      "1 [0]\n",
      "10 [7]\n",
      "11 [7, 0]\n",
      "100 [-6]\n",
      "101 [-6, 0]\n",
      "110 [-6, 7]\n",
      "111 [-6, 7, 0]\n",
      "1000 [3]\n",
      "1001 [3, 0]\n",
      "1010 [3, 7]\n",
      "1011 [3, 7, 0]\n",
      "1100 [3, -6]\n",
      "1101 [3, -6, 0]\n",
      "1110 [3, -6, 7]\n",
      "1111 [3, -6, 7, 0]\n"
     ]
    }
   ],
   "source": [
    "\n",
    "def generate_subsets(A):\n",
    "    n = len(A)\n",
    "    for i in range(2**n):\n",
    "        subset = []\n",
    "        s = (convert_decimal_to_binary(i))\n",
    "        s = s.rjust(n,\"0\")\n",
    "        x = 0\n",
    "        for j in s:\n",
    "            if j == \"1\":\n",
    "                subset.append(A[x])\n",
    "#             else:\n",
    "#                 subset.append(0)\n",
    "            x += 1\n",
    "        print(convert_decimal_to_binary(i),subset)\n",
    "A = [3,-6,7,0]\n",
    "\n",
    "generate_subsets(A)\n"
   ]
  },
  {
   "cell_type": "code",
   "execution_count": 254,
   "id": "fce00265",
   "metadata": {},
   "outputs": [],
   "source": [
    "# 3 contains in 8 subsets\n",
    "# -6 contains in 8 subsets\n",
    "# 7 contains in 8 subsets\n",
    "# 0 contains in 8 subsets"
   ]
  },
  {
   "cell_type": "code",
   "execution_count": 431,
   "id": "409715c2",
   "metadata": {},
   "outputs": [
    {
     "name": "stdout",
     "output_type": "stream",
     "text": [
      " [0, 0, 0, 0, 0]\n",
      "1 [0, 0, 0, 0, 5]\n",
      "10 [0, 0, 0, 4, 0]\n",
      "11 [0, 0, 0, 4, 5]\n",
      "100 [0, 0, 3, 0, 0]\n",
      "101 [0, 0, 3, 0, 5]\n",
      "110 [0, 0, 3, 4, 0]\n",
      "111 [0, 0, 3, 4, 5]\n",
      "1000 [0, 2, 0, 0, 0]\n",
      "1001 [0, 2, 0, 0, 5]\n",
      "1010 [0, 2, 0, 4, 0]\n",
      "1011 [0, 2, 0, 4, 5]\n",
      "1100 [0, 2, 3, 0, 0]\n",
      "1101 [0, 2, 3, 0, 5]\n",
      "1110 [0, 2, 3, 4, 0]\n",
      "1111 [0, 2, 3, 4, 5]\n",
      "10000 [1, 0, 0, 0, 0]\n",
      "10001 [1, 0, 0, 0, 5]\n",
      "10010 [1, 0, 0, 4, 0]\n",
      "10011 [1, 0, 0, 4, 5]\n",
      "10100 [1, 0, 3, 0, 0]\n",
      "10101 [1, 0, 3, 0, 5]\n",
      "10110 [1, 0, 3, 4, 0]\n",
      "10111 [1, 0, 3, 4, 5]\n",
      "11000 [1, 2, 0, 0, 0]\n",
      "11001 [1, 2, 0, 0, 5]\n",
      "11010 [1, 2, 0, 4, 0]\n",
      "11011 [1, 2, 0, 4, 5]\n",
      "11100 [1, 2, 3, 0, 0]\n",
      "11101 [1, 2, 3, 0, 5]\n",
      "11110 [1, 2, 3, 4, 0]\n",
      "11111 [1, 2, 3, 4, 5]\n"
     ]
    }
   ],
   "source": [
    "\n",
    "def generate_subsets(A):\n",
    "    n = len(A)\n",
    "    for i in range(2**n):\n",
    "        subset = []\n",
    "        s = bin(i)[2:]\n",
    "        s = s.rjust(n,\"0\")\n",
    "        x = 0\n",
    "        for j in s:\n",
    "            if j == \"1\":\n",
    "                subset.append(A[x])\n",
    "            else:\n",
    "                subset.append(0)\n",
    "            x += 1\n",
    "        print(convert_decimal_to_binary(i),subset)\n",
    "A = [1,2,3,4,5]\n",
    "\n",
    "generate_subsets(A)\n"
   ]
  },
  {
   "cell_type": "raw",
   "id": "bfaad515",
   "metadata": {},
   "source": [
    "\n",
    "1 contains in 16 \n",
    "2             16 subsets\n",
    "3             16\n",
    "4             16\n",
    "5             16 \n",
    "\n",
    "n = 5\n",
    "here , total number of subset = 2**n == 32\n",
    "\n",
    "an element containing subsets are : 16 == 2**(n-1)\n"
   ]
  },
  {
   "cell_type": "code",
   "execution_count": 253,
   "id": "ed64ef50",
   "metadata": {},
   "outputs": [
    {
     "name": "stdout",
     "output_type": "stream",
     "text": [
      "32\n"
     ]
    }
   ],
   "source": [
    "A = [3,-6,7,0]\n",
    "n = len(A)\n",
    "summ = 0\n",
    "\n",
    "for i in A:\n",
    "    summ += (i*(2**(n-1)))\n",
    "print(summ)\n"
   ]
  },
  {
   "cell_type": "code",
   "execution_count": null,
   "id": "1d9e67bb",
   "metadata": {},
   "outputs": [],
   "source": []
  },
  {
   "cell_type": "code",
   "execution_count": null,
   "id": "0fef4663",
   "metadata": {},
   "outputs": [],
   "source": []
  },
  {
   "cell_type": "code",
   "execution_count": null,
   "id": "0fd56be3",
   "metadata": {},
   "outputs": [],
   "source": []
  },
  {
   "cell_type": "code",
   "execution_count": null,
   "id": "3f4ec6d8",
   "metadata": {},
   "outputs": [],
   "source": []
  },
  {
   "cell_type": "code",
   "execution_count": null,
   "id": "13cd96ab",
   "metadata": {},
   "outputs": [],
   "source": []
  },
  {
   "cell_type": "code",
   "execution_count": null,
   "id": "8b08e2f8",
   "metadata": {},
   "outputs": [],
   "source": []
  },
  {
   "cell_type": "code",
   "execution_count": null,
   "id": "fa112bc0",
   "metadata": {},
   "outputs": [],
   "source": []
  },
  {
   "cell_type": "code",
   "execution_count": null,
   "id": "106aa13e",
   "metadata": {},
   "outputs": [],
   "source": []
  },
  {
   "cell_type": "code",
   "execution_count": null,
   "id": "e99d7767",
   "metadata": {},
   "outputs": [],
   "source": []
  },
  {
   "cell_type": "code",
   "execution_count": null,
   "id": "a2515d47",
   "metadata": {},
   "outputs": [],
   "source": []
  },
  {
   "cell_type": "code",
   "execution_count": null,
   "id": "96bcb63a",
   "metadata": {},
   "outputs": [],
   "source": []
  },
  {
   "cell_type": "code",
   "execution_count": null,
   "id": "ba41ba30",
   "metadata": {},
   "outputs": [],
   "source": []
  },
  {
   "cell_type": "code",
   "execution_count": null,
   "id": "7e2b6fdb",
   "metadata": {},
   "outputs": [],
   "source": []
  },
  {
   "cell_type": "code",
   "execution_count": null,
   "id": "ba9eb81d",
   "metadata": {},
   "outputs": [],
   "source": []
  },
  {
   "cell_type": "code",
   "execution_count": null,
   "id": "a420d746",
   "metadata": {},
   "outputs": [],
   "source": []
  },
  {
   "cell_type": "code",
   "execution_count": null,
   "id": "30d02c03",
   "metadata": {},
   "outputs": [],
   "source": []
  },
  {
   "cell_type": "code",
   "execution_count": null,
   "id": "55ebe764",
   "metadata": {},
   "outputs": [],
   "source": []
  },
  {
   "cell_type": "code",
   "execution_count": null,
   "id": "fff8b3c4",
   "metadata": {},
   "outputs": [],
   "source": []
  },
  {
   "cell_type": "code",
   "execution_count": null,
   "id": "0eb74601",
   "metadata": {},
   "outputs": [],
   "source": []
  },
  {
   "cell_type": "code",
   "execution_count": null,
   "id": "b5371acd",
   "metadata": {},
   "outputs": [],
   "source": []
  },
  {
   "cell_type": "raw",
   "id": "c93979d3",
   "metadata": {},
   "source": []
  },
  {
   "cell_type": "code",
   "execution_count": 256,
   "id": "dac83eb4",
   "metadata": {},
   "outputs": [],
   "source": [
    "import math"
   ]
  },
  {
   "cell_type": "markdown",
   "id": "2791a940",
   "metadata": {},
   "source": [
    "# generating sub-sequences of size k"
   ]
  },
  {
   "cell_type": "code",
   "execution_count": 526,
   "id": "734029f4",
   "metadata": {},
   "outputs": [
    {
     "name": "stdout",
     "output_type": "stream",
     "text": [
      "[[3, 4, 5], [2, 4, 5], [2, 3, 5], [2, 3, 4], [1, 4, 5], [1, 3, 5], [1, 3, 4], [1, 2, 5], [1, 2, 4], [1, 2, 3]]\n",
      "\n",
      "[[], [5], [4], [4, 5], [3], [3, 5], [3, 4], [2], [2, 5], [2, 4], [2, 3], [2, 3, 4, 5], [1], [1, 5], [1, 4], [1, 3], [1, 3, 4, 5], [1, 2], [1, 2, 4, 5], [1, 2, 3, 5], [1, 2, 3, 4], [1, 2, 3, 4, 5]]\n"
     ]
    }
   ],
   "source": [
    "A = [1,2,3,4,5]\n",
    "k = 3\n",
    "\n",
    "n = len(A)   \n",
    "k_lensubsets = []\n",
    "rest_of_subsets = []\n",
    "for i in range(2**n):\n",
    "    subset = []\n",
    "    s = bin(i)[2:]\n",
    "    s = s.rjust(n,\"0\")\n",
    "    x = 0\n",
    "    for j in s:\n",
    "        if j == \"1\":\n",
    "            subset.append(A[x])\n",
    "        x += 1\n",
    "    \n",
    "    if len(subset) == k:\n",
    "        k_lensubsets.append(subset)\n",
    "    else:\n",
    "        rest_of_subsets.append(subset)\n",
    "print(k_lensubsets)\n",
    "print()\n",
    "print(rest_of_subsets)\n",
    "\n"
   ]
  },
  {
   "cell_type": "code",
   "execution_count": null,
   "id": "46636512",
   "metadata": {},
   "outputs": [],
   "source": []
  },
  {
   "cell_type": "code",
   "execution_count": 527,
   "id": "87b6604f",
   "metadata": {},
   "outputs": [
    {
     "name": "stdout",
     "output_type": "stream",
     "text": [
      "[3, 4, 5]\n",
      "[2, 4, 5]\n",
      "[2, 3, 5]\n",
      "[2, 3, 4]\n",
      "[1, 4, 5]\n",
      "[1, 3, 5]\n",
      "[1, 3, 4]\n",
      "[1, 2, 5]\n",
      "[1, 2, 4]\n",
      "[1, 2, 3]\n"
     ]
    }
   ],
   "source": [
    "def binarytodecimal(s):   # binary sting\n",
    "    s = str(s)\n",
    "    i = 0\n",
    "    result = 0\n",
    "    for d in s[::-1]:\n",
    "        result = result+ int(d)*(2**i)\n",
    "        i = i+1\n",
    "    return result\n",
    "def count_set_bits_right_shift(x):\n",
    "    cnt = 0\n",
    "    while x > 0:\n",
    "        cnt += x&1\n",
    "        x = x>>1\n",
    "    return cnt\n",
    "\n",
    "\n",
    "\n",
    "A = [1,2,3,4,5]\n",
    "k = 3\n",
    "\n",
    "n = len(A)   \n",
    "for i in range(2**n):\n",
    "    subset = []\n",
    "    subset_other = []\n",
    "    s = bin(i)[2:]\n",
    "    s = s.rjust(n,\"0\")\n",
    "    x = 0\n",
    "    if count_set_bits_right_shift(binarytodecimal(s)) == k:\n",
    "        \n",
    "        for j in s:\n",
    "            if j == \"1\":\n",
    "                subset.append(A[x])\n",
    "            x += 1\n",
    "        print(subset)\n",
    "   \n"
   ]
  },
  {
   "cell_type": "code",
   "execution_count": null,
   "id": "b3ed608c",
   "metadata": {},
   "outputs": [],
   "source": []
  },
  {
   "cell_type": "code",
   "execution_count": null,
   "id": "141c82d9",
   "metadata": {},
   "outputs": [],
   "source": []
  },
  {
   "cell_type": "code",
   "execution_count": null,
   "id": "a1263d20",
   "metadata": {},
   "outputs": [],
   "source": []
  },
  {
   "cell_type": "code",
   "execution_count": null,
   "id": "0a8824dc",
   "metadata": {},
   "outputs": [],
   "source": []
  },
  {
   "cell_type": "code",
   "execution_count": null,
   "id": "c41e0b6c",
   "metadata": {},
   "outputs": [],
   "source": []
  },
  {
   "cell_type": "code",
   "execution_count": null,
   "id": "cedbe530",
   "metadata": {},
   "outputs": [],
   "source": []
  },
  {
   "cell_type": "code",
   "execution_count": null,
   "id": "e53b0ac0",
   "metadata": {},
   "outputs": [],
   "source": []
  },
  {
   "cell_type": "code",
   "execution_count": null,
   "id": "c6a1b618",
   "metadata": {},
   "outputs": [],
   "source": []
  },
  {
   "cell_type": "code",
   "execution_count": null,
   "id": "f9c7f11c",
   "metadata": {},
   "outputs": [],
   "source": []
  },
  {
   "cell_type": "code",
   "execution_count": null,
   "id": "087df7ef",
   "metadata": {},
   "outputs": [],
   "source": []
  },
  {
   "cell_type": "code",
   "execution_count": null,
   "id": "92dcbf52",
   "metadata": {},
   "outputs": [],
   "source": []
  },
  {
   "cell_type": "code",
   "execution_count": null,
   "id": "e82c4ed1",
   "metadata": {},
   "outputs": [],
   "source": []
  },
  {
   "cell_type": "code",
   "execution_count": null,
   "id": "115d18be",
   "metadata": {},
   "outputs": [],
   "source": []
  },
  {
   "cell_type": "code",
   "execution_count": null,
   "id": "48023c43",
   "metadata": {},
   "outputs": [],
   "source": []
  },
  {
   "cell_type": "markdown",
   "id": "5ec08f98",
   "metadata": {},
   "source": [
    "#### # given an array  , and integer k \n",
    "#### pick any  k elements such that difference of the sum of k elements and \n",
    "#### the sum of remaining elements is minimum "
   ]
  },
  {
   "cell_type": "raw",
   "id": "815ec860",
   "metadata": {},
   "source": [
    "# given an array  , and integer k \n",
    "pick any  k elements such that difference of the sum of k elements and \n",
    "the sum of remaining elements is minimum "
   ]
  },
  {
   "cell_type": "code",
   "execution_count": null,
   "id": "65acb596",
   "metadata": {},
   "outputs": [],
   "source": []
  },
  {
   "cell_type": "code",
   "execution_count": 59,
   "id": "c12347e6",
   "metadata": {},
   "outputs": [
    {
     "data": {
      "text/plain": [
       "([[7, 2, 0],\n",
       "  [6, 2, 0],\n",
       "  [6, 7, 0],\n",
       "  [6, 7, 2],\n",
       "  [-1, 2, 0],\n",
       "  [-1, 7, 0],\n",
       "  [-1, 7, 2],\n",
       "  [-1, 6, 0],\n",
       "  [-1, 6, 2],\n",
       "  [-1, 6, 7],\n",
       "  [4, 2, 0],\n",
       "  [4, 7, 0],\n",
       "  [4, 7, 2],\n",
       "  [4, 6, 0],\n",
       "  [4, 6, 2],\n",
       "  [4, 6, 7],\n",
       "  [4, -1, 0],\n",
       "  [4, -1, 2],\n",
       "  [4, -1, 7],\n",
       "  [4, -1, 6],\n",
       "  [-2, 2, 0],\n",
       "  [-2, 7, 0],\n",
       "  [-2, 7, 2],\n",
       "  [-2, 6, 0],\n",
       "  [-2, 6, 2],\n",
       "  [-2, 6, 7],\n",
       "  [-2, -1, 0],\n",
       "  [-2, -1, 2],\n",
       "  [-2, -1, 7],\n",
       "  [-2, -1, 6],\n",
       "  [-2, 4, 0],\n",
       "  [-2, 4, 2],\n",
       "  [-2, 4, 7],\n",
       "  [-2, 4, 6],\n",
       "  [-2, 4, -1],\n",
       "  [3, 2, 0],\n",
       "  [3, 7, 0],\n",
       "  [3, 7, 2],\n",
       "  [3, 6, 0],\n",
       "  [3, 6, 2],\n",
       "  [3, 6, 7],\n",
       "  [3, -1, 0],\n",
       "  [3, -1, 2],\n",
       "  [3, -1, 7],\n",
       "  [3, -1, 6],\n",
       "  [3, 4, 0],\n",
       "  [3, 4, 2],\n",
       "  [3, 4, 7],\n",
       "  [3, 4, 6],\n",
       "  [3, 4, -1],\n",
       "  [3, -2, 0],\n",
       "  [3, -2, 2],\n",
       "  [3, -2, 7],\n",
       "  [3, -2, 6],\n",
       "  [3, -2, -1],\n",
       "  [3, -2, 4]],\n",
       " [[6, 7, 2, 0],\n",
       "  [-1, 7, 2, 0],\n",
       "  [-1, 6, 2, 0],\n",
       "  [-1, 6, 7, 0],\n",
       "  [-1, 6, 7, 2],\n",
       "  [-1, 6, 7, 2, 0],\n",
       "  [4, 7, 2, 0],\n",
       "  [4, 6, 2, 0],\n",
       "  [4, 6, 7, 0],\n",
       "  [4, 6, 7, 2],\n",
       "  [4, 6, 7, 2, 0],\n",
       "  [4, -1, 2, 0],\n",
       "  [4, -1, 7, 0],\n",
       "  [4, -1, 7, 2],\n",
       "  [4, -1, 7, 2, 0],\n",
       "  [4, -1, 6, 0],\n",
       "  [4, -1, 6, 2],\n",
       "  [4, -1, 6, 2, 0],\n",
       "  [4, -1, 6, 7],\n",
       "  [4, -1, 6, 7, 0],\n",
       "  [4, -1, 6, 7, 2],\n",
       "  [4, -1, 6, 7, 2, 0],\n",
       "  [-2, 7, 2, 0],\n",
       "  [-2, 6, 2, 0],\n",
       "  [-2, 6, 7, 0],\n",
       "  [-2, 6, 7, 2],\n",
       "  [-2, 6, 7, 2, 0],\n",
       "  [-2, -1, 2, 0],\n",
       "  [-2, -1, 7, 0],\n",
       "  [-2, -1, 7, 2],\n",
       "  [-2, -1, 7, 2, 0],\n",
       "  [-2, -1, 6, 0],\n",
       "  [-2, -1, 6, 2],\n",
       "  [-2, -1, 6, 2, 0],\n",
       "  [-2, -1, 6, 7],\n",
       "  [-2, -1, 6, 7, 0],\n",
       "  [-2, -1, 6, 7, 2],\n",
       "  [-2, -1, 6, 7, 2, 0],\n",
       "  [-2, 4, 2, 0],\n",
       "  [-2, 4, 7, 0],\n",
       "  [-2, 4, 7, 2],\n",
       "  [-2, 4, 7, 2, 0],\n",
       "  [-2, 4, 6, 0],\n",
       "  [-2, 4, 6, 2],\n",
       "  [-2, 4, 6, 2, 0],\n",
       "  [-2, 4, 6, 7],\n",
       "  [-2, 4, 6, 7, 0],\n",
       "  [-2, 4, 6, 7, 2],\n",
       "  [-2, 4, 6, 7, 2, 0],\n",
       "  [-2, 4, -1, 0],\n",
       "  [-2, 4, -1, 2],\n",
       "  [-2, 4, -1, 2, 0],\n",
       "  [-2, 4, -1, 7],\n",
       "  [-2, 4, -1, 7, 0],\n",
       "  [-2, 4, -1, 7, 2],\n",
       "  [-2, 4, -1, 7, 2, 0],\n",
       "  [-2, 4, -1, 6],\n",
       "  [-2, 4, -1, 6, 0],\n",
       "  [-2, 4, -1, 6, 2],\n",
       "  [-2, 4, -1, 6, 2, 0],\n",
       "  [-2, 4, -1, 6, 7],\n",
       "  [-2, 4, -1, 6, 7, 0],\n",
       "  [-2, 4, -1, 6, 7, 2],\n",
       "  [-2, 4, -1, 6, 7, 2, 0],\n",
       "  [3, 7, 2, 0],\n",
       "  [3, 6, 2, 0],\n",
       "  [3, 6, 7, 0],\n",
       "  [3, 6, 7, 2],\n",
       "  [3, 6, 7, 2, 0],\n",
       "  [3, -1, 2, 0],\n",
       "  [3, -1, 7, 0],\n",
       "  [3, -1, 7, 2],\n",
       "  [3, -1, 7, 2, 0],\n",
       "  [3, -1, 6, 0],\n",
       "  [3, -1, 6, 2],\n",
       "  [3, -1, 6, 2, 0],\n",
       "  [3, -1, 6, 7],\n",
       "  [3, -1, 6, 7, 0],\n",
       "  [3, -1, 6, 7, 2],\n",
       "  [3, -1, 6, 7, 2, 0],\n",
       "  [3, 4, 2, 0],\n",
       "  [3, 4, 7, 0],\n",
       "  [3, 4, 7, 2],\n",
       "  [3, 4, 7, 2, 0],\n",
       "  [3, 4, 6, 0],\n",
       "  [3, 4, 6, 2],\n",
       "  [3, 4, 6, 2, 0],\n",
       "  [3, 4, 6, 7],\n",
       "  [3, 4, 6, 7, 0],\n",
       "  [3, 4, 6, 7, 2],\n",
       "  [3, 4, 6, 7, 2, 0],\n",
       "  [3, 4, -1, 0],\n",
       "  [3, 4, -1, 2],\n",
       "  [3, 4, -1, 2, 0],\n",
       "  [3, 4, -1, 7],\n",
       "  [3, 4, -1, 7, 0],\n",
       "  [3, 4, -1, 7, 2],\n",
       "  [3, 4, -1, 7, 2, 0],\n",
       "  [3, 4, -1, 6],\n",
       "  [3, 4, -1, 6, 0],\n",
       "  [3, 4, -1, 6, 2],\n",
       "  [3, 4, -1, 6, 2, 0],\n",
       "  [3, 4, -1, 6, 7],\n",
       "  [3, 4, -1, 6, 7, 0],\n",
       "  [3, 4, -1, 6, 7, 2],\n",
       "  [3, 4, -1, 6, 7, 2, 0],\n",
       "  [3, -2, 2, 0],\n",
       "  [3, -2, 7, 0],\n",
       "  [3, -2, 7, 2],\n",
       "  [3, -2, 7, 2, 0],\n",
       "  [3, -2, 6, 0],\n",
       "  [3, -2, 6, 2],\n",
       "  [3, -2, 6, 2, 0],\n",
       "  [3, -2, 6, 7],\n",
       "  [3, -2, 6, 7, 0],\n",
       "  [3, -2, 6, 7, 2],\n",
       "  [3, -2, 6, 7, 2, 0],\n",
       "  [3, -2, -1, 0],\n",
       "  [3, -2, -1, 2],\n",
       "  [3, -2, -1, 2, 0],\n",
       "  [3, -2, -1, 7],\n",
       "  [3, -2, -1, 7, 0],\n",
       "  [3, -2, -1, 7, 2],\n",
       "  [3, -2, -1, 7, 2, 0],\n",
       "  [3, -2, -1, 6],\n",
       "  [3, -2, -1, 6, 0],\n",
       "  [3, -2, -1, 6, 2],\n",
       "  [3, -2, -1, 6, 2, 0],\n",
       "  [3, -2, -1, 6, 7],\n",
       "  [3, -2, -1, 6, 7, 0],\n",
       "  [3, -2, -1, 6, 7, 2],\n",
       "  [3, -2, -1, 6, 7, 2, 0],\n",
       "  [3, -2, 4, 0],\n",
       "  [3, -2, 4, 2],\n",
       "  [3, -2, 4, 2, 0],\n",
       "  [3, -2, 4, 7],\n",
       "  [3, -2, 4, 7, 0],\n",
       "  [3, -2, 4, 7, 2],\n",
       "  [3, -2, 4, 7, 2, 0],\n",
       "  [3, -2, 4, 6],\n",
       "  [3, -2, 4, 6, 0],\n",
       "  [3, -2, 4, 6, 2],\n",
       "  [3, -2, 4, 6, 2, 0],\n",
       "  [3, -2, 4, 6, 7],\n",
       "  [3, -2, 4, 6, 7, 0],\n",
       "  [3, -2, 4, 6, 7, 2],\n",
       "  [3, -2, 4, 6, 7, 2, 0],\n",
       "  [3, -2, 4, -1],\n",
       "  [3, -2, 4, -1, 0],\n",
       "  [3, -2, 4, -1, 2],\n",
       "  [3, -2, 4, -1, 2, 0],\n",
       "  [3, -2, 4, -1, 7],\n",
       "  [3, -2, 4, -1, 7, 0],\n",
       "  [3, -2, 4, -1, 7, 2],\n",
       "  [3, -2, 4, -1, 7, 2, 0],\n",
       "  [3, -2, 4, -1, 6],\n",
       "  [3, -2, 4, -1, 6, 0],\n",
       "  [3, -2, 4, -1, 6, 2],\n",
       "  [3, -2, 4, -1, 6, 2, 0],\n",
       "  [3, -2, 4, -1, 6, 7],\n",
       "  [3, -2, 4, -1, 6, 7, 0],\n",
       "  [3, -2, 4, -1, 6, 7, 2],\n",
       "  [3, -2, 4, -1, 6, 7, 2, 0]])"
      ]
     },
     "execution_count": 59,
     "metadata": {},
     "output_type": "execute_result"
    }
   ],
   "source": [
    "\n",
    "ans = []\n",
    "ans2= []\n",
    "def generate_subsequeneces(A, index, subarr,k):\n",
    "    if index == len(A):\n",
    "        \n",
    "        if len(subarr) == k :\n",
    "            \n",
    "            ans.append(subarr)\n",
    "        elif len(subarr) > k:\n",
    "            ans2.append(subarr)\n",
    "                \n",
    "       \n",
    "    else:\n",
    "        generate_subsequeneces(A, index + 1, subarr,k)\n",
    "           \n",
    "        generate_subsequeneces(A, index + 1, subarr+[A[index]],k)\n",
    "       \n",
    "    return ans , ans2\n",
    "\n",
    "\n",
    "\n",
    "A = [3,-2,4,-1,6,7,2,0]\n",
    "k = 3\n",
    "generate_subsequeneces(A, 0, [],k)\n"
   ]
  },
  {
   "cell_type": "code",
   "execution_count": null,
   "id": "839382c9",
   "metadata": {},
   "outputs": [],
   "source": []
  },
  {
   "cell_type": "code",
   "execution_count": null,
   "id": "04b02d91",
   "metadata": {},
   "outputs": [],
   "source": []
  },
  {
   "cell_type": "code",
   "execution_count": null,
   "id": "cf433f2a",
   "metadata": {},
   "outputs": [],
   "source": []
  },
  {
   "cell_type": "code",
   "execution_count": null,
   "id": "b7f27ea7",
   "metadata": {},
   "outputs": [],
   "source": []
  },
  {
   "cell_type": "code",
   "execution_count": null,
   "id": "96e10977",
   "metadata": {},
   "outputs": [],
   "source": []
  },
  {
   "cell_type": "code",
   "execution_count": null,
   "id": "d0e2a962",
   "metadata": {},
   "outputs": [],
   "source": []
  },
  {
   "cell_type": "code",
   "execution_count": null,
   "id": "9678101d",
   "metadata": {},
   "outputs": [],
   "source": []
  },
  {
   "cell_type": "code",
   "execution_count": null,
   "id": "7fab059c",
   "metadata": {},
   "outputs": [],
   "source": []
  },
  {
   "cell_type": "code",
   "execution_count": null,
   "id": "9c7614ba",
   "metadata": {},
   "outputs": [],
   "source": []
  },
  {
   "cell_type": "code",
   "execution_count": null,
   "id": "ddf343dc",
   "metadata": {},
   "outputs": [],
   "source": []
  },
  {
   "cell_type": "code",
   "execution_count": null,
   "id": "e43125a2",
   "metadata": {},
   "outputs": [],
   "source": []
  },
  {
   "cell_type": "code",
   "execution_count": null,
   "id": "e6e88ab5",
   "metadata": {},
   "outputs": [],
   "source": []
  },
  {
   "cell_type": "code",
   "execution_count": null,
   "id": "9553ff42",
   "metadata": {},
   "outputs": [],
   "source": []
  },
  {
   "cell_type": "code",
   "execution_count": null,
   "id": "da998f67",
   "metadata": {},
   "outputs": [],
   "source": []
  },
  {
   "cell_type": "code",
   "execution_count": null,
   "id": "21d26aab",
   "metadata": {},
   "outputs": [],
   "source": []
  },
  {
   "cell_type": "markdown",
   "id": "00bac3e4",
   "metadata": {},
   "source": [
    "# in case"
   ]
  },
  {
   "cell_type": "markdown",
   "id": "a8c8ff1b",
   "metadata": {},
   "source": [
    "#### given an array  , and integer k \n",
    "#### pick any  k elements such that difference of the sum of k elements and \n",
    "#### the sum of remaining elements is maximum "
   ]
  },
  {
   "cell_type": "code",
   "execution_count": 605,
   "id": "bc2964a1",
   "metadata": {},
   "outputs": [],
   "source": [
    "def max_difference_k_size_subsequences(Ax,k):\n",
    "    # maximise the differnce\n",
    "\n",
    "    # one side 2 elemenrts , 6 on other \n",
    "\n",
    "    A = sorted(Ax)\n",
    "    n = len(A)\n",
    "    #print(A)\n",
    "\n",
    "    if k < n/2:\n",
    "\n",
    "        K_side = A[:k]\n",
    "        print(K_side)\n",
    "\n",
    "        rest_side = A[k:]\n",
    "        print(rest_side)\n",
    "\n",
    "        ans = abs(sum(K_side) - sum(rest_side))\n",
    "        return (ans)\n",
    "\n",
    "    else:\n",
    "        left = A[k:]\n",
    "        print(left)\n",
    "\n",
    "        right = A[:k]\n",
    "        print(right)\n",
    "\n",
    "        ans = abs(sum(left) - sum(right))\n",
    "        return (ans)"
   ]
  },
  {
   "cell_type": "code",
   "execution_count": 606,
   "id": "62dfcf9c",
   "metadata": {},
   "outputs": [
    {
     "name": "stdout",
     "output_type": "stream",
     "text": [
      "[12, 100]\n",
      "[-60, -1, 0, 3, 6, 8, 10]\n"
     ]
    },
    {
     "data": {
      "text/plain": [
       "146"
      ]
     },
     "execution_count": 606,
     "metadata": {},
     "output_type": "execute_result"
    }
   ],
   "source": [
    "Ax = [-1,3,6,0,8,10,12,100,-60]\n",
    "k = 7\n",
    "max_difference_k_size_subsequences(Ax,k)"
   ]
  },
  {
   "cell_type": "code",
   "execution_count": 607,
   "id": "75f7d079",
   "metadata": {},
   "outputs": [
    {
     "name": "stdout",
     "output_type": "stream",
     "text": [
      "[1, 2]\n",
      "[3, 4, 5, 6, 7, 8]\n"
     ]
    },
    {
     "data": {
      "text/plain": [
       "30"
      ]
     },
     "execution_count": 607,
     "metadata": {},
     "output_type": "execute_result"
    }
   ],
   "source": [
    "Ax = [1,2,3,4,5,6,7,8]\n",
    "k = 2\n",
    "max_difference_k_size_subsequences(Ax,k)"
   ]
  },
  {
   "cell_type": "code",
   "execution_count": 608,
   "id": "d01588ba",
   "metadata": {},
   "outputs": [
    {
     "name": "stdout",
     "output_type": "stream",
     "text": [
      "[7, 8]\n",
      "[1, 2, 3, 4, 5, 6]\n"
     ]
    },
    {
     "data": {
      "text/plain": [
       "6"
      ]
     },
     "execution_count": 608,
     "metadata": {},
     "output_type": "execute_result"
    }
   ],
   "source": [
    "Ax = [1,2,3,4,5,6,7,8]\n",
    "k = 6\n",
    "max_difference_k_size_subsequences(Ax,k)"
   ]
  },
  {
   "cell_type": "code",
   "execution_count": 566,
   "id": "241a5d88",
   "metadata": {},
   "outputs": [],
   "source": [
    "# TC : O(nlogn)   because of sorting\n",
    "# SC : O(n)       because of sorting"
   ]
  },
  {
   "cell_type": "code",
   "execution_count": null,
   "id": "42aed21a",
   "metadata": {},
   "outputs": [],
   "source": []
  },
  {
   "cell_type": "code",
   "execution_count": null,
   "id": "2434110e",
   "metadata": {},
   "outputs": [],
   "source": []
  },
  {
   "cell_type": "code",
   "execution_count": null,
   "id": "ea531234",
   "metadata": {},
   "outputs": [],
   "source": []
  },
  {
   "cell_type": "code",
   "execution_count": null,
   "id": "f996bc61",
   "metadata": {},
   "outputs": [],
   "source": []
  },
  {
   "cell_type": "code",
   "execution_count": null,
   "id": "5f071a7d",
   "metadata": {},
   "outputs": [],
   "source": []
  },
  {
   "cell_type": "markdown",
   "id": "a6288ec5",
   "metadata": {},
   "source": [
    "# Q! given array, find sum of max of all subsequences"
   ]
  },
  {
   "cell_type": "raw",
   "id": "aeb346e0",
   "metadata": {},
   "source": [
    "A = [3,0,6,9]\n",
    "\n",
    "0 0 []   \n",
    "1 1 [9]                             9\n",
    "2 10 [6]                      6\n",
    "3 11 [6, 9]                         9\n",
    "4 100 [0]  \n",
    "5 101 [0, 9]                        9\n",
    "6 110 [0, 6]                  6\n",
    "7 111 [0, 6, 9]                     9\n",
    "8 1000 [3]               3\n",
    "9 1001 [3, 9]                       9\n",
    "10 1010 [3, 6]                6\n",
    "11 1011 [3, 6, 9]                   9\n",
    "12 1100 [3, 0]           3\n",
    "13 1101 [3, 0, 9]                   9 \n",
    "14 1110 [3, 0, 6]             6\n",
    "15 1111 [3, 0, 6, 9]                9\n",
    "\n",
    "total :      102\n",
    "\n",
    "8*9 + 6*4 + 3*2 + 0*0\n",
    "72 + 24 + 6\n",
    "96+6 = 102\n",
    "\n",
    "\n",
    "\n"
   ]
  },
  {
   "cell_type": "code",
   "execution_count": 639,
   "id": "637d5a7a",
   "metadata": {},
   "outputs": [
    {
     "data": {
      "text/plain": [
       "102"
      ]
     },
     "execution_count": 639,
     "metadata": {},
     "output_type": "execute_result"
    }
   ],
   "source": [
    "A = [3,0,6,9]\n",
    "\n",
    "def sum_of_max_of_subsets(A):\n",
    "    n = len(A)\n",
    "    totalsum = 0\n",
    "    for i in range(1,2**n):\n",
    "        subset = []\n",
    "        s = bin(i)[2:]\n",
    "        s = s.rjust(n,\"0\")\n",
    "        x = 0\n",
    "        maxel = -float('inf')\n",
    "        for j in s:\n",
    "            if j == \"1\":\n",
    "                maxel = max(maxel,A[x])\n",
    "                \n",
    "            \n",
    "            x += 1\n",
    "        totalsum += maxel\n",
    "    return totalsum\n",
    "sum_of_max_of_subsets(A)\n"
   ]
  },
  {
   "cell_type": "code",
   "execution_count": 649,
   "id": "32779ea7",
   "metadata": {},
   "outputs": [
    {
     "name": "stdout",
     "output_type": "stream",
     "text": [
      "[0, 3, 6, 9]\n"
     ]
    }
   ],
   "source": [
    "# # lets invert the problem \n",
    "\n",
    "# # for each element ,\n",
    "# # for each subseq : ele is max : add\n",
    "\n",
    "# now : \n",
    "#     # find number of subseq in which e is max : \n",
    "    \n",
    "Ax = [3,0,6,9] \n",
    "\n",
    "A = sorted(Ax)\n",
    "    \n",
    "print(A)"
   ]
  },
  {
   "cell_type": "code",
   "execution_count": null,
   "id": "263772d9",
   "metadata": {},
   "outputs": [],
   "source": [
    "# [0,   3,   6, 9]\n",
    "# 0*0  3*2  6*4  9*8\n",
    "\n",
    "# 2^0   2^1  2^2  2^3\n",
    "\n",
    "# 0 +   6 +  24 +  72 \n",
    "\n",
    "\n"
   ]
  },
  {
   "cell_type": "code",
   "execution_count": 60,
   "id": "5012490c",
   "metadata": {},
   "outputs": [
    {
     "name": "stdout",
     "output_type": "stream",
     "text": [
      "sum of all maximum number from subsequence :   102\n"
     ]
    }
   ],
   "source": [
    "    \n",
    "Ax = [9,3,6,0] \n",
    "\n",
    "A = sorted(Ax)\n",
    "\n",
    "total_sum = 0\n",
    "\n",
    "for i in range(len(A)):\n",
    "    total_sum += A[i]*2**i\n",
    "\n",
    "print(\"sum of all maximum number from subsequence :  \",total_sum)\n",
    "    "
   ]
  },
  {
   "cell_type": "code",
   "execution_count": 659,
   "id": "957ddc59",
   "metadata": {},
   "outputs": [
    {
     "name": "stdout",
     "output_type": "stream",
     "text": [
      "sum of all minimum number from subsequence :   33\n"
     ]
    }
   ],
   "source": [
    "# for min :\n",
    "# 9 6 6 0 0 0 3 3 3 3 0 0 0 0\n",
    "\n",
    "# 0  3  6  9\n",
    "# 8  4  2  1\n",
    "\n",
    "Ax = [0,3,6,9] \n",
    "\n",
    "A = sorted(Ax)\n",
    "\n",
    "total_sum = 0\n",
    "x = len(A)-1\n",
    "for i in range(len(A)):\n",
    "#     print(i,2**x,A[i])\n",
    "    total_sum += A[i]*(2**x)\n",
    "    \n",
    "    x = x-1\n",
    "print(\"sum of all minimum number from subsequence :  \",total_sum)\n",
    "    \n"
   ]
  },
  {
   "cell_type": "code",
   "execution_count": null,
   "id": "a338681e",
   "metadata": {},
   "outputs": [],
   "source": []
  },
  {
   "cell_type": "code",
   "execution_count": null,
   "id": "85334250",
   "metadata": {},
   "outputs": [],
   "source": []
  },
  {
   "cell_type": "code",
   "execution_count": null,
   "id": "68def1d9",
   "metadata": {},
   "outputs": [],
   "source": []
  },
  {
   "cell_type": "code",
   "execution_count": null,
   "id": "a52e80fe",
   "metadata": {},
   "outputs": [],
   "source": []
  },
  {
   "cell_type": "raw",
   "id": "771cb836",
   "metadata": {},
   "source": [
    "Given an integer array, A of size N.\n",
    "You have to find all possible non-empty subsequences of the array of numbers and then, for each subsequence, find the difference between the largest and smallest numbers in that subsequence. Then add up all the differences to get the number.\n",
    "\n",
    "As the number may be large, output the number modulo 1e9 + 7 (1000000007).\n",
    "\n",
    "NOTE: Subsequence can be non-contiguous."
   ]
  },
  {
   "cell_type": "code",
   "execution_count": 681,
   "id": "766744c4",
   "metadata": {},
   "outputs": [
    {
     "data": {
      "text/plain": [
       "44"
      ]
     },
     "execution_count": 681,
     "metadata": {},
     "output_type": "execute_result"
    }
   ],
   "source": [
    "A = [ 7, 8, 6 ,2]\n",
    "\n",
    "def sum_of_max_of_subsets(A):\n",
    "    n = len(A)\n",
    "    totalsum = 0\n",
    "    for i in range(1,2**n):\n",
    "        subset = []\n",
    "        s = bin(i)[2:]\n",
    "        s = s.rjust(n,\"0\")\n",
    "        x = 0\n",
    "        maxel = -float('inf')\n",
    "        minel = float(\"inf\")\n",
    "        for j in s:\n",
    "            if j == \"1\":\n",
    "                maxel = max(maxel,A[x])\n",
    "                minel = min(minel,A[x])\n",
    "                \n",
    "                \n",
    "            \n",
    "            x += 1\n",
    "        totalsum += maxel-minel\n",
    "        \n",
    "    return totalsum%1000000007\n",
    "sum_of_max_of_subsets(A)\n"
   ]
  },
  {
   "cell_type": "code",
   "execution_count": null,
   "id": "96ee32c8",
   "metadata": {},
   "outputs": [],
   "source": []
  },
  {
   "cell_type": "code",
   "execution_count": null,
   "id": "7e42710c",
   "metadata": {},
   "outputs": [],
   "source": []
  },
  {
   "cell_type": "code",
   "execution_count": null,
   "id": "b131ffdc",
   "metadata": {},
   "outputs": [],
   "source": []
  }
 ],
 "metadata": {
  "kernelspec": {
   "display_name": "Python 3 (ipykernel)",
   "language": "python",
   "name": "python3"
  },
  "language_info": {
   "codemirror_mode": {
    "name": "ipython",
    "version": 3
   },
   "file_extension": ".py",
   "mimetype": "text/x-python",
   "name": "python",
   "nbconvert_exporter": "python",
   "pygments_lexer": "ipython3",
   "version": "3.9.7"
  }
 },
 "nbformat": 4,
 "nbformat_minor": 5
}
