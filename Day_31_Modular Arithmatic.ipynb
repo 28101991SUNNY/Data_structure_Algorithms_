{
 "cells": [
  {
   "cell_type": "code",
   "execution_count": 15,
   "id": "82f2b95c",
   "metadata": {},
   "outputs": [
    {
     "data": {
      "text/plain": [
       "143"
      ]
     },
     "execution_count": 15,
     "metadata": {},
     "output_type": "execute_result"
    }
   ],
   "source": [
    "11*13"
   ]
  },
  {
   "cell_type": "code",
   "execution_count": null,
   "id": "47fdc8d9",
   "metadata": {},
   "outputs": [],
   "source": []
  },
  {
   "cell_type": "code",
   "execution_count": null,
   "id": "d54a22a6",
   "metadata": {},
   "outputs": [],
   "source": []
  },
  {
   "cell_type": "code",
   "execution_count": 20,
   "id": "edfc1312",
   "metadata": {},
   "outputs": [
    {
     "name": "stdout",
     "output_type": "stream",
     "text": [
      "Wall time: 0 ns\n"
     ]
    }
   ],
   "source": [
    "%%time\n",
    "def smartpower(a,b,M):\n",
    "    ans = 1\n",
    "    \n",
    "    for i in range(b):\n",
    "        ans = ( ans % M  *  a % M ) %  M\n",
    "    return ans"
   ]
  },
  {
   "cell_type": "code",
   "execution_count": 22,
   "id": "02854154",
   "metadata": {},
   "outputs": [
    {
     "name": "stdout",
     "output_type": "stream",
     "text": [
      "Wall time: 8.3 ms\n"
     ]
    },
    {
     "data": {
      "text/plain": [
       "819315335"
      ]
     },
     "execution_count": 22,
     "metadata": {},
     "output_type": "execute_result"
    }
   ],
   "source": [
    "%%time\n",
    "smartpower(200,10000,1000000007)"
   ]
  },
  {
   "cell_type": "code",
   "execution_count": null,
   "id": "af170153",
   "metadata": {},
   "outputs": [],
   "source": []
  },
  {
   "cell_type": "code",
   "execution_count": 30,
   "id": "6561d3aa",
   "metadata": {},
   "outputs": [],
   "source": [
    "def brute_power(a, b, M):\n",
    "    ans = 1\n",
    "    for i in range(b):\n",
    "        ans *= a\n",
    "    return ans%M"
   ]
  },
  {
   "cell_type": "code",
   "execution_count": 31,
   "id": "2accee6d",
   "metadata": {},
   "outputs": [
    {
     "name": "stdout",
     "output_type": "stream",
     "text": [
      "Wall time: 28 ms\n"
     ]
    },
    {
     "data": {
      "text/plain": [
       "819315335"
      ]
     },
     "execution_count": 31,
     "metadata": {},
     "output_type": "execute_result"
    }
   ],
   "source": [
    "%%time\n",
    "brute_power(200,10000,1000000007)"
   ]
  },
  {
   "cell_type": "code",
   "execution_count": null,
   "id": "603830d5",
   "metadata": {},
   "outputs": [],
   "source": []
  },
  {
   "cell_type": "code",
   "execution_count": null,
   "id": "a9c87428",
   "metadata": {},
   "outputs": [],
   "source": []
  },
  {
   "cell_type": "code",
   "execution_count": null,
   "id": "f044f057",
   "metadata": {},
   "outputs": [],
   "source": []
  },
  {
   "cell_type": "code",
   "execution_count": 5,
   "id": "05cff855",
   "metadata": {},
   "outputs": [],
   "source": [
    "\n",
    "def titleToNumber(A):\n",
    "    ans = 0\n",
    "    for i in range(len(A)):\n",
    "        ans *= 26\n",
    "        ans += ord(A[i]) - ord('A') + 1\n",
    "\n",
    "    return ans"
   ]
  },
  {
   "cell_type": "code",
   "execution_count": 38,
   "id": "344ab34a",
   "metadata": {},
   "outputs": [
    {
     "name": "stdout",
     "output_type": "stream",
     "text": [
      "Wall time: 0 ns\n"
     ]
    },
    {
     "data": {
      "text/plain": [
       "4"
      ]
     },
     "execution_count": 38,
     "metadata": {},
     "output_type": "execute_result"
    }
   ],
   "source": [
    "%%time\n",
    "titleToNumber('D')"
   ]
  },
  {
   "cell_type": "code",
   "execution_count": 72,
   "id": "e64e25c6",
   "metadata": {},
   "outputs": [
    {
     "name": "stdout",
     "output_type": "stream",
     "text": [
      "0    A     1\n",
      "26    B     2\n",
      "728    C     3\n",
      "19006    D     4\n",
      "494260    E     5\n",
      "12850890    F     6\n",
      "12850896\n"
     ]
    }
   ],
   "source": [
    "A = 'ABCDEF'\n",
    "ans = 0\n",
    "for i in range(len(A)):\n",
    "    \n",
    "    ans *= 26\n",
    "    print(ans,\"  \",A[i],\"   \",(ord(A[i])-ord('A')+1))\n",
    "    \n",
    "    ans = ans + ( ord(A[i]) - ord('A') + 1 )\n",
    "\n",
    "print(ans)"
   ]
  },
  {
   "cell_type": "code",
   "execution_count": null,
   "id": "0b21a930",
   "metadata": {},
   "outputs": [],
   "source": [
    "26"
   ]
  },
  {
   "cell_type": "code",
   "execution_count": 60,
   "id": "3692acb9",
   "metadata": {},
   "outputs": [
    {
     "data": {
      "text/plain": [
       "19011"
      ]
     },
     "execution_count": 60,
     "metadata": {},
     "output_type": "execute_result"
    }
   ],
   "source": [
    "ord(\"E\")-ord(\"A\")+1 + 19006"
   ]
  },
  {
   "cell_type": "code",
   "execution_count": 64,
   "id": "95d2f2d4",
   "metadata": {},
   "outputs": [
    {
     "data": {
      "text/plain": [
       "28"
      ]
     },
     "execution_count": 64,
     "metadata": {},
     "output_type": "execute_result"
    }
   ],
   "source": [
    "26 + ord(\"B\")-ord(\"A\")+1"
   ]
  },
  {
   "cell_type": "code",
   "execution_count": 65,
   "id": "f78335eb",
   "metadata": {},
   "outputs": [
    {
     "data": {
      "text/plain": [
       "728"
      ]
     },
     "execution_count": 65,
     "metadata": {},
     "output_type": "execute_result"
    }
   ],
   "source": [
    "28*26"
   ]
  },
  {
   "cell_type": "code",
   "execution_count": 66,
   "id": "0c714e0e",
   "metadata": {},
   "outputs": [
    {
     "data": {
      "text/plain": [
       "731"
      ]
     },
     "execution_count": 66,
     "metadata": {},
     "output_type": "execute_result"
    }
   ],
   "source": [
    "728 + ord(\"C\")-ord(\"A\")+1"
   ]
  },
  {
   "cell_type": "code",
   "execution_count": 67,
   "id": "36a3d871",
   "metadata": {},
   "outputs": [
    {
     "data": {
      "text/plain": [
       "19006"
      ]
     },
     "execution_count": 67,
     "metadata": {},
     "output_type": "execute_result"
    }
   ],
   "source": [
    "731*26"
   ]
  },
  {
   "cell_type": "code",
   "execution_count": 68,
   "id": "799bff86",
   "metadata": {},
   "outputs": [
    {
     "data": {
      "text/plain": [
       "19010"
      ]
     },
     "execution_count": 68,
     "metadata": {},
     "output_type": "execute_result"
    }
   ],
   "source": [
    "19006 + ord(\"D\")-ord(\"A\")+1\n"
   ]
  },
  {
   "cell_type": "code",
   "execution_count": 69,
   "id": "d38a8e94",
   "metadata": {},
   "outputs": [
    {
     "data": {
      "text/plain": [
       "494260"
      ]
     },
     "execution_count": 69,
     "metadata": {},
     "output_type": "execute_result"
    }
   ],
   "source": [
    "19010 * 26"
   ]
  },
  {
   "cell_type": "code",
   "execution_count": 70,
   "id": "5bdd5652",
   "metadata": {},
   "outputs": [
    {
     "data": {
      "text/plain": [
       "494265"
      ]
     },
     "execution_count": 70,
     "metadata": {},
     "output_type": "execute_result"
    }
   ],
   "source": [
    "494260 + ord(\"E\")-ord(\"A\")+1"
   ]
  },
  {
   "cell_type": "code",
   "execution_count": 73,
   "id": "c22a8fed",
   "metadata": {},
   "outputs": [
    {
     "data": {
      "text/plain": [
       "12850896"
      ]
     },
     "execution_count": 73,
     "metadata": {},
     "output_type": "execute_result"
    }
   ],
   "source": [
    "494265*26 +6"
   ]
  },
  {
   "cell_type": "code",
   "execution_count": null,
   "id": "2484c493",
   "metadata": {},
   "outputs": [],
   "source": []
  },
  {
   "cell_type": "code",
   "execution_count": null,
   "id": "b41d60ef",
   "metadata": {},
   "outputs": [],
   "source": []
  },
  {
   "cell_type": "code",
   "execution_count": null,
   "id": "fd3a5dda",
   "metadata": {},
   "outputs": [],
   "source": []
  },
  {
   "cell_type": "markdown",
   "id": "349c3ffa",
   "metadata": {},
   "source": [
    "# Given two integers A and B, find the greatest possible positive integer M, such that A % M = B % M."
   ]
  },
  {
   "cell_type": "code",
   "execution_count": 74,
   "id": "27d0367b",
   "metadata": {},
   "outputs": [],
   "source": [
    "\n",
    "def solve(A, B):\n",
    "    return abs(A-B)"
   ]
  },
  {
   "cell_type": "code",
   "execution_count": 89,
   "id": "c75a48e6",
   "metadata": {},
   "outputs": [
    {
     "data": {
      "text/plain": [
       "5"
      ]
     },
     "execution_count": 89,
     "metadata": {},
     "output_type": "execute_result"
    }
   ],
   "source": [
    "solve(5,10)"
   ]
  },
  {
   "cell_type": "code",
   "execution_count": 92,
   "id": "1dde1a24",
   "metadata": {},
   "outputs": [
    {
     "data": {
      "text/plain": [
       "6"
      ]
     },
     "execution_count": 92,
     "metadata": {},
     "output_type": "execute_result"
    }
   ],
   "source": [
    "'''\n",
    "given A and B, A>B, find # number of M's such that\n",
    "A % M = B % M\n",
    "'''\n",
    "\n",
    "def solve(A, B):\n",
    "    N = abs(A-B)\n",
    "    count = 0\n",
    "    for i in range(1,N+1):\n",
    "        if N%i == 0:\n",
    "            count +=1\n",
    "    return count\n",
    "solve(16,4)"
   ]
  },
  {
   "cell_type": "code",
   "execution_count": null,
   "id": "375e5c93",
   "metadata": {},
   "outputs": [],
   "source": []
  },
  {
   "cell_type": "code",
   "execution_count": null,
   "id": "6162f972",
   "metadata": {},
   "outputs": [],
   "source": []
  },
  {
   "cell_type": "code",
   "execution_count": null,
   "id": "f3a13b53",
   "metadata": {},
   "outputs": [],
   "source": []
  },
  {
   "cell_type": "code",
   "execution_count": null,
   "id": "b1cafcee",
   "metadata": {},
   "outputs": [],
   "source": [
    "#fermat's little theorm \n",
    "# given p , prime number L \n",
    " # a% p !=0\n",
    "    # (a**(p-1))%p = 1\n",
    "    \n",
    "#    given a ,b calculate A**(B!)%(10**9+7)\n",
    "\n",
    " "
   ]
  },
  {
   "cell_type": "code",
   "execution_count": null,
   "id": "a1ab2ec3",
   "metadata": {},
   "outputs": [],
   "source": []
  },
  {
   "cell_type": "code",
   "execution_count": null,
   "id": "e2825c29",
   "metadata": {},
   "outputs": [],
   "source": []
  },
  {
   "cell_type": "code",
   "execution_count": null,
   "id": "d1453968",
   "metadata": {},
   "outputs": [],
   "source": []
  },
  {
   "cell_type": "code",
   "execution_count": 60,
   "id": "8a0ce48a",
   "metadata": {},
   "outputs": [
    {
     "name": "stdout",
     "output_type": "stream",
     "text": [
      "[3, 1, 4, 6, 5, 0, 2]\n"
     ]
    }
   ],
   "source": [
    "A = [3,1,4,6,5,0,2]\n",
    "temp = A.copy()\n",
    "print(A)"
   ]
  },
  {
   "cell_type": "code",
   "execution_count": 61,
   "id": "bf11c8b9",
   "metadata": {},
   "outputs": [
    {
     "data": {
      "text/plain": [
       "[3, 1, 4, 6, 5, 0, 2]"
      ]
     },
     "execution_count": 61,
     "metadata": {},
     "output_type": "execute_result"
    }
   ],
   "source": [
    "temp"
   ]
  },
  {
   "cell_type": "code",
   "execution_count": 62,
   "id": "9c825408",
   "metadata": {},
   "outputs": [],
   "source": [
    "for i in range(len(A)):\n",
    "    temp[i]=A[A[i]]"
   ]
  },
  {
   "cell_type": "code",
   "execution_count": 63,
   "id": "7c866df2",
   "metadata": {},
   "outputs": [
    {
     "data": {
      "text/plain": [
       "[6, 1, 5, 2, 0, 3, 4]"
      ]
     },
     "execution_count": 63,
     "metadata": {},
     "output_type": "execute_result"
    }
   ],
   "source": [
    "temp"
   ]
  },
  {
   "cell_type": "code",
   "execution_count": 64,
   "id": "bf5c6b57",
   "metadata": {},
   "outputs": [],
   "source": [
    "for i in range(len(A)):\n",
    "    A[i] = temp[i]"
   ]
  },
  {
   "cell_type": "code",
   "execution_count": 65,
   "id": "5a2a526c",
   "metadata": {},
   "outputs": [
    {
     "name": "stdout",
     "output_type": "stream",
     "text": [
      "[6, 1, 5, 2, 0, 3, 4]\n"
     ]
    }
   ],
   "source": [
    "print(A)"
   ]
  },
  {
   "cell_type": "code",
   "execution_count": null,
   "id": "b8d4052c",
   "metadata": {},
   "outputs": [],
   "source": []
  },
  {
   "cell_type": "code",
   "execution_count": null,
   "id": "2f3e24d9",
   "metadata": {},
   "outputs": [],
   "source": []
  },
  {
   "cell_type": "markdown",
   "id": "2fb8d201",
   "metadata": {},
   "source": [
    "# RE-ARRANGE a[a[I]] : \n",
    "# without using extra memory"
   ]
  },
  {
   "cell_type": "code",
   "execution_count": 82,
   "id": "1879d50e",
   "metadata": {},
   "outputs": [
    {
     "name": "stdout",
     "output_type": "stream",
     "text": [
      "[21, 7, 28, 42, 35, 0, 14]\n"
     ]
    }
   ],
   "source": [
    "A = [3,1,4,6,5,0,2]\n",
    "n = len(A)\n",
    "for i in range(n):\n",
    "    A[i]= A[i]*len(A)\n",
    "print(A)\n",
    "\n",
    "\n"
   ]
  },
  {
   "cell_type": "code",
   "execution_count": 83,
   "id": "8c14f749",
   "metadata": {},
   "outputs": [],
   "source": [
    "for i in range(n):\n",
    "    A[i]= A[i]+ ((A[int(A[i]//n)])//n)"
   ]
  },
  {
   "cell_type": "code",
   "execution_count": 84,
   "id": "382ee4fa",
   "metadata": {},
   "outputs": [
    {
     "data": {
      "text/plain": [
       "[27, 8, 33, 44, 35, 3, 18]"
      ]
     },
     "execution_count": 84,
     "metadata": {},
     "output_type": "execute_result"
    }
   ],
   "source": [
    "A"
   ]
  },
  {
   "cell_type": "code",
   "execution_count": 85,
   "id": "45812133",
   "metadata": {},
   "outputs": [
    {
     "name": "stdout",
     "output_type": "stream",
     "text": [
      "[6, 1, 5, 2, 0, 3, 4]\n"
     ]
    }
   ],
   "source": [
    "for i in range(n):\n",
    "    A[i]= A[i]%n\n",
    "print(A)\n"
   ]
  },
  {
   "cell_type": "code",
   "execution_count": null,
   "id": "b21e3952",
   "metadata": {},
   "outputs": [],
   "source": []
  },
  {
   "cell_type": "code",
   "execution_count": null,
   "id": "65bf34ce",
   "metadata": {},
   "outputs": [],
   "source": []
  },
  {
   "cell_type": "code",
   "execution_count": 120,
   "id": "7a512532",
   "metadata": {},
   "outputs": [
    {
     "name": "stdout",
     "output_type": "stream",
     "text": [
      "[3, 1, 4, 6, 5, 0, 2]\n",
      "[21, 7, 28, 42, 35, 0, 14]\n"
     ]
    }
   ],
   "source": [
    "A = [3,1,4,6,5,0,2]\n",
    "n = len(A)\n",
    "print(A)\n",
    "for i in range(n):\n",
    "    A[i]= A[i]*len(A)\n",
    "print(A)\n"
   ]
  },
  {
   "cell_type": "code",
   "execution_count": 121,
   "id": "0a44ff65",
   "metadata": {},
   "outputs": [
    {
     "name": "stdout",
     "output_type": "stream",
     "text": [
      "6 1 5 2 0 3 4 "
     ]
    }
   ],
   "source": [
    "for i in range(n):\n",
    "    val = (A[int(A[i]//n)])//n\n",
    "    print(val,end = \" \")"
   ]
  },
  {
   "cell_type": "code",
   "execution_count": 122,
   "id": "41246f68",
   "metadata": {},
   "outputs": [
    {
     "name": "stdout",
     "output_type": "stream",
     "text": [
      "[27, 8, 33, 44, 35, 3, 18]\n"
     ]
    }
   ],
   "source": [
    "for i in range(n):\n",
    "    val = (A[int(A[i]//n)])//n\n",
    "    A[i] = A[i]+val\n",
    "print(A)"
   ]
  },
  {
   "cell_type": "code",
   "execution_count": 123,
   "id": "81805109",
   "metadata": {},
   "outputs": [
    {
     "name": "stdout",
     "output_type": "stream",
     "text": [
      "[6, 1, 5, 2, 0, 3, 4]\n"
     ]
    }
   ],
   "source": [
    "for i in range(n):\n",
    "    A[i]= A[i]%n\n",
    "print(A)\n"
   ]
  },
  {
   "cell_type": "code",
   "execution_count": null,
   "id": "615e7318",
   "metadata": {},
   "outputs": [],
   "source": []
  },
  {
   "cell_type": "code",
   "execution_count": null,
   "id": "d990fa57",
   "metadata": {},
   "outputs": [],
   "source": []
  },
  {
   "cell_type": "code",
   "execution_count": 129,
   "id": "54a8374b",
   "metadata": {},
   "outputs": [
    {
     "name": "stdout",
     "output_type": "stream",
     "text": [
      "[21, 7, 28, 42, 35, 0, 14]\n",
      "[27, 8, 33, 44, 35, 3, 18]\n",
      "[6, 1, 5, 2, 0, 3, 4]\n"
     ]
    }
   ],
   "source": [
    "A = [3,1,4,6,5,0,2]\n",
    "n = len(A)\n",
    "for i in range(n):\n",
    "    A[i]= A[i]*len(A)\n",
    "print(A)\n",
    "\n",
    "\n",
    "n = len(A)\n",
    "for i in range(n):\n",
    "    A[i]= A[i]+ (A[int(A[i]//n)])//n\n",
    "print(A)\n",
    "    \n",
    "for i in range(n):\n",
    "    A[i]= A[i]%n\n",
    "print(A)\n",
    "\n"
   ]
  },
  {
   "cell_type": "code",
   "execution_count": null,
   "id": "8720b64f",
   "metadata": {},
   "outputs": [],
   "source": []
  },
  {
   "cell_type": "code",
   "execution_count": null,
   "id": "7618b509",
   "metadata": {},
   "outputs": [],
   "source": []
  },
  {
   "cell_type": "code",
   "execution_count": null,
   "id": "2b54a932",
   "metadata": {},
   "outputs": [],
   "source": []
  },
  {
   "attachments": {
    "Screenshot%202022-03-26%20195416.jpeg": {
     "image/jpeg": "[encoded data removed]"
    }
   },
   "cell_type": "markdown",
   "id": "0d7034ac",
   "metadata": {},
   "source": [
    "![Screenshot%202022-03-26%20195416.jpeg](attachment:Screenshot%202022-03-26%20195416.jpeg)"
   ]
  },
  {
   "cell_type": "code",
   "execution_count": null,
   "id": "d33b2d01",
   "metadata": {},
   "outputs": [],
   "source": []
  },
  {
   "cell_type": "code",
   "execution_count": null,
   "id": "5420d1ed",
   "metadata": {},
   "outputs": [],
   "source": [
    "%%time\n",
    "def smartpower(a,b,M):\n",
    "    ans = 1\n",
    "    \n",
    "    for i in range(b):\n",
    "        ans = ( ans % M  *  a % M ) %  M\n",
    "    return ans"
   ]
  },
  {
   "cell_type": "code",
   "execution_count": null,
   "id": "fca7ece3",
   "metadata": {},
   "outputs": [],
   "source": []
  },
  {
   "cell_type": "code",
   "execution_count": null,
   "id": "1ce739d0",
   "metadata": {},
   "outputs": [],
   "source": []
  },
  {
   "cell_type": "code",
   "execution_count": null,
   "id": "ecfc4d39",
   "metadata": {},
   "outputs": [],
   "source": []
  },
  {
   "cell_type": "code",
   "execution_count": null,
   "id": "eb95e134",
   "metadata": {},
   "outputs": [],
   "source": []
  },
  {
   "cell_type": "code",
   "execution_count": null,
   "id": "e0f83b27",
   "metadata": {},
   "outputs": [],
   "source": []
  },
  {
   "cell_type": "code",
   "execution_count": null,
   "id": "4b722f72",
   "metadata": {},
   "outputs": [],
   "source": []
  }
 ],
 "metadata": {
  "kernelspec": {
   "display_name": "Python 3 (ipykernel)",
   "language": "python",
   "name": "python3"
  },
  "language_info": {
   "codemirror_mode": {
    "name": "ipython",
    "version": 3
   },
   "file_extension": ".py",
   "mimetype": "text/x-python",
   "name": "python",
   "nbconvert_exporter": "python",
   "pygments_lexer": "ipython3",
   "version": "3.9.7"
  }
 },
 "nbformat": 4,
 "nbformat_minor": 5
}
