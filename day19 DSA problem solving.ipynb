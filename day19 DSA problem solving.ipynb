{
 "cells": [
  {
   "cell_type": "markdown",
   "id": "6ab204d6",
   "metadata": {},
   "source": [
    "# prime or not!"
   ]
  },
  {
   "cell_type": "markdown",
   "id": "1ceb8feb",
   "metadata": {},
   "source": [
    "### first approach"
   ]
  },
  {
   "cell_type": "code",
   "execution_count": 10,
   "id": "8ee67b10",
   "metadata": {},
   "outputs": [],
   "source": [
    "def isprime(n):\n",
    "    \n",
    "    count = 0\n",
    "    \n",
    "    for f in range(1,n+1):\n",
    "        if n%f==0:\n",
    "            count = count+1\n",
    "    return count == 2"
   ]
  },
  {
   "cell_type": "code",
   "execution_count": 11,
   "id": "7fd4b8c3",
   "metadata": {},
   "outputs": [
    {
     "data": {
      "text/plain": [
       "True"
      ]
     },
     "execution_count": 11,
     "metadata": {},
     "output_type": "execute_result"
    }
   ],
   "source": [
    "isprime(67)"
   ]
  },
  {
   "cell_type": "code",
   "execution_count": null,
   "id": "f26f4a8a",
   "metadata": {},
   "outputs": [],
   "source": []
  },
  {
   "cell_type": "code",
   "execution_count": null,
   "id": "e78b76d8",
   "metadata": {},
   "outputs": [],
   "source": []
  },
  {
   "cell_type": "markdown",
   "id": "457e7b3b",
   "metadata": {},
   "source": [
    "### optimised "
   ]
  },
  {
   "cell_type": "code",
   "execution_count": 12,
   "id": "90b2da49",
   "metadata": {},
   "outputs": [],
   "source": [
    "def isprimeopt(n):\n",
    "    \n",
    "    count = 0\n",
    "    \n",
    "    for f in range(1,int(n**0.5)+1):\n",
    "        if n%f==0:\n",
    "            count = count+2\n",
    "    return count == 2"
   ]
  },
  {
   "cell_type": "code",
   "execution_count": 13,
   "id": "af68be24",
   "metadata": {},
   "outputs": [
    {
     "data": {
      "text/plain": [
       "True"
      ]
     },
     "execution_count": 13,
     "metadata": {},
     "output_type": "execute_result"
    }
   ],
   "source": [
    "isprimeopt(67)"
   ]
  },
  {
   "cell_type": "code",
   "execution_count": null,
   "id": "66d80cb4",
   "metadata": {
    "scrolled": true
   },
   "outputs": [],
   "source": []
  },
  {
   "cell_type": "code",
   "execution_count": null,
   "id": "022a4004",
   "metadata": {},
   "outputs": [],
   "source": [
    "\n"
   ]
  },
  {
   "cell_type": "markdown",
   "id": "b0b01b17",
   "metadata": {},
   "source": [
    "### optimised without using ** operator or square root"
   ]
  },
  {
   "cell_type": "code",
   "execution_count": 17,
   "id": "c673fb71",
   "metadata": {},
   "outputs": [],
   "source": [
    "def isprimeopt2(n):\n",
    "    \n",
    "    count = 0\n",
    "    f = 1\n",
    "    while f*f <= n:\n",
    "    \n",
    "        if n%f==0:\n",
    "            count = count+2\n",
    "        f = f+1\n",
    "    return count == 2"
   ]
  },
  {
   "cell_type": "code",
   "execution_count": 18,
   "id": "40adf068",
   "metadata": {},
   "outputs": [
    {
     "data": {
      "text/plain": [
       "True"
      ]
     },
     "execution_count": 18,
     "metadata": {},
     "output_type": "execute_result"
    }
   ],
   "source": [
    "isprimeopt2(67)"
   ]
  },
  {
   "cell_type": "markdown",
   "id": "3c8febdc",
   "metadata": {},
   "source": [
    "### optimised without using sq root and counter"
   ]
  },
  {
   "cell_type": "code",
   "execution_count": 36,
   "id": "a52756ac",
   "metadata": {},
   "outputs": [],
   "source": [
    "def isprimeopt3(n):\n",
    "    f = 2\n",
    "    while f*f <= n:\n",
    "    \n",
    "        if n%f==0:\n",
    "            return False\n",
    "        f +=1\n",
    "    return True"
   ]
  },
  {
   "cell_type": "code",
   "execution_count": 38,
   "id": "1a3633f4",
   "metadata": {},
   "outputs": [
    {
     "data": {
      "text/plain": [
       "True"
      ]
     },
     "execution_count": 38,
     "metadata": {},
     "output_type": "execute_result"
    }
   ],
   "source": [
    "isprimeopt3(67)"
   ]
  },
  {
   "cell_type": "code",
   "execution_count": null,
   "id": "4982f731",
   "metadata": {},
   "outputs": [],
   "source": []
  },
  {
   "cell_type": "code",
   "execution_count": null,
   "id": "8119dd9c",
   "metadata": {},
   "outputs": [],
   "source": []
  },
  {
   "cell_type": "code",
   "execution_count": null,
   "id": "7e81f377",
   "metadata": {},
   "outputs": [],
   "source": []
  },
  {
   "cell_type": "code",
   "execution_count": null,
   "id": "11e1fd0b",
   "metadata": {},
   "outputs": [],
   "source": []
  },
  {
   "cell_type": "code",
   "execution_count": null,
   "id": "9ddfea4d",
   "metadata": {},
   "outputs": [],
   "source": [
    " def squareroot(n):\n",
    "        for i in range(1,n+1):\n",
    "            if i*i == n:\n",
    "                return True\n",
    "            \n",
    "            \n",
    "        '''\n",
    "        this works only for perfect squares\n",
    "        '''"
   ]
  },
  {
   "cell_type": "code",
   "execution_count": null,
   "id": "723c1738",
   "metadata": {},
   "outputs": [],
   "source": [
    "\n",
    "        "
   ]
  },
  {
   "cell_type": "code",
   "execution_count": null,
   "id": "e0ea54e5",
   "metadata": {},
   "outputs": [],
   "source": []
  },
  {
   "cell_type": "code",
   "execution_count": null,
   "id": "25a719e0",
   "metadata": {},
   "outputs": [],
   "source": []
  },
  {
   "cell_type": "code",
   "execution_count": null,
   "id": "f4118030",
   "metadata": {},
   "outputs": [],
   "source": []
  },
  {
   "cell_type": "code",
   "execution_count": null,
   "id": "c2c7d9f4",
   "metadata": {},
   "outputs": [],
   "source": []
  },
  {
   "cell_type": "code",
   "execution_count": null,
   "id": "b1283fdd",
   "metadata": {},
   "outputs": [],
   "source": []
  },
  {
   "cell_type": "markdown",
   "id": "5dba8e6c",
   "metadata": {},
   "source": [
    "### perfect square or not ? "
   ]
  },
  {
   "cell_type": "code",
   "execution_count": 66,
   "id": "e7165a86",
   "metadata": {},
   "outputs": [
    {
     "name": "stdout",
     "output_type": "stream",
     "text": [
      "24\n",
      "NO\n"
     ]
    }
   ],
   "source": [
    "def main():\n",
    "    # YOUR CODE GOES HERE\n",
    "    # Please take input and print output to standard input/output (stdin/stdout)\n",
    "    # E.g. 'input()/raw_input()' for input & 'print' for output\n",
    "   \n",
    "\n",
    "    def squareroot(n):\n",
    "        for i in range(1,n+1):\n",
    "            if i*i == n:\n",
    "                return True\n",
    "            \n",
    "\n",
    "    n = int(input())\n",
    "    if squareroot(n):\n",
    "        print(\"YES\")\n",
    "    else:\n",
    "        print(\"NO\")\n",
    "        \n",
    "\n",
    "    return 0\n",
    "\n",
    "if __name__ == '__main__':\n",
    "    main()"
   ]
  },
  {
   "cell_type": "code",
   "execution_count": 28,
   "id": "a405876e",
   "metadata": {},
   "outputs": [],
   "source": [
    "\n",
    "def squareroot(n):\n",
    "    for i in range(1,n+1):\n",
    "        if i*i == n:\n",
    "            return i\n",
    "            "
   ]
  },
  {
   "cell_type": "code",
   "execution_count": 30,
   "id": "0d2727c8",
   "metadata": {},
   "outputs": [
    {
     "data": {
      "text/plain": [
       "13"
      ]
     },
     "execution_count": 30,
     "metadata": {},
     "output_type": "execute_result"
    }
   ],
   "source": [
    "squareroot(169)"
   ]
  },
  {
   "cell_type": "code",
   "execution_count": 31,
   "id": "df6d9bc6",
   "metadata": {},
   "outputs": [],
   "source": [
    "def sqroot(n):\n",
    "    i = 1\n",
    "    while i*i <=n:\n",
    "        i=i+1\n",
    "    return i-1"
   ]
  },
  {
   "cell_type": "code",
   "execution_count": 139,
   "id": "19937ce8",
   "metadata": {},
   "outputs": [
    {
     "data": {
      "text/plain": [
       "31"
      ]
     },
     "execution_count": 139,
     "metadata": {},
     "output_type": "execute_result"
    }
   ],
   "source": [
    "sqroot(1000)"
   ]
  },
  {
   "cell_type": "code",
   "execution_count": null,
   "id": "d26bcb5d",
   "metadata": {},
   "outputs": [],
   "source": []
  },
  {
   "cell_type": "code",
   "execution_count": null,
   "id": "ccfe8b0b",
   "metadata": {},
   "outputs": [],
   "source": []
  },
  {
   "cell_type": "code",
   "execution_count": null,
   "id": "e17c0952",
   "metadata": {},
   "outputs": [],
   "source": []
  },
  {
   "cell_type": "code",
   "execution_count": 71,
   "id": "6580873a",
   "metadata": {},
   "outputs": [
    {
     "name": "stdout",
     "output_type": "stream",
     "text": [
      "121\n",
      "11\n"
     ]
    }
   ],
   "source": [
    "def main():\n",
    "    # YOUR CODE GOES HERE\n",
    "    # Please take input and print output to standard input/output (stdin/stdout)\n",
    "    # E.g. 'input()/raw_input()' for input & 'print' for output\n",
    "   \n",
    "\n",
    "    def perfectsquare(n):\n",
    "        for i in range(1,n+1):\n",
    "            if i*i == n:\n",
    "                return True\n",
    "            \n",
    "\n",
    "    n = int(input())\n",
    "    if perfectsquare(n):\n",
    "        print(sqroot(n))\n",
    "              \n",
    "    else:\n",
    "        print(-1)\n",
    "        \n",
    "\n",
    "    return 0\n",
    "\n",
    "if __name__ == '__main__':\n",
    "    main()"
   ]
  },
  {
   "cell_type": "code",
   "execution_count": null,
   "id": "fcec6198",
   "metadata": {},
   "outputs": [],
   "source": []
  },
  {
   "cell_type": "code",
   "execution_count": null,
   "id": "9cde8ede",
   "metadata": {},
   "outputs": [],
   "source": []
  },
  {
   "cell_type": "code",
   "execution_count": null,
   "id": "cb799c24",
   "metadata": {},
   "outputs": [],
   "source": []
  },
  {
   "cell_type": "code",
   "execution_count": null,
   "id": "a578c97f",
   "metadata": {},
   "outputs": [],
   "source": []
  },
  {
   "cell_type": "code",
   "execution_count": null,
   "id": "5a034c26",
   "metadata": {},
   "outputs": [],
   "source": []
  },
  {
   "cell_type": "code",
   "execution_count": null,
   "id": "06f1a2f2",
   "metadata": {},
   "outputs": [],
   "source": []
  },
  {
   "cell_type": "code",
   "execution_count": null,
   "id": "5ce4db96",
   "metadata": {},
   "outputs": [],
   "source": []
  },
  {
   "cell_type": "code",
   "execution_count": null,
   "id": "c3c4dc42",
   "metadata": {},
   "outputs": [],
   "source": []
  },
  {
   "cell_type": "code",
   "execution_count": null,
   "id": "f03b8d7f",
   "metadata": {},
   "outputs": [],
   "source": []
  },
  {
   "cell_type": "code",
   "execution_count": null,
   "id": "bc231f43",
   "metadata": {},
   "outputs": [],
   "source": []
  },
  {
   "cell_type": "markdown",
   "id": "74e8fe22",
   "metadata": {},
   "source": [
    "# perfect number"
   ]
  },
  {
   "cell_type": "code",
   "execution_count": null,
   "id": "5fada157",
   "metadata": {},
   "outputs": [],
   "source": []
  },
  {
   "cell_type": "code",
   "execution_count": 60,
   "id": "0abe931d",
   "metadata": {},
   "outputs": [
    {
     "name": "stdout",
     "output_type": "stream",
     "text": [
      "2\n",
      "4\n",
      "NO\n",
      "6\n",
      "YES\n"
     ]
    }
   ],
   "source": [
    "def main():\n",
    "    # YOUR CODE GOES HERE\n",
    "    # Please take input and print output to standard input/output (stdin/stdout)\n",
    "    # E.g. 'input()/raw_input()' for input & 'print' for output\n",
    "    N = int(input())\n",
    "\n",
    "    def isperfect(n):\n",
    "        sum =0\n",
    "        for i in range(1,n):\n",
    "            if n%i==0:\n",
    "                sum = sum +i\n",
    "\n",
    "        if sum==n:\n",
    "            return True\n",
    "        \n",
    "\n",
    "\n",
    "    while N>0:\n",
    "        N= N-1\n",
    "\n",
    "        A = int(input())\n",
    "\n",
    "        if isperfect(A):\n",
    "            print(\"YES\")\n",
    "        else:\n",
    "            print(\"NO\")\n",
    "        \n",
    "\n",
    "    return 0\n",
    "\n",
    "if __name__ == '__main__':\n",
    "    main()"
   ]
  },
  {
   "cell_type": "code",
   "execution_count": null,
   "id": "4163425f",
   "metadata": {},
   "outputs": [],
   "source": []
  },
  {
   "cell_type": "code",
   "execution_count": null,
   "id": "f82ee94a",
   "metadata": {},
   "outputs": [],
   "source": []
  },
  {
   "cell_type": "code",
   "execution_count": null,
   "id": "9e1c0f4b",
   "metadata": {},
   "outputs": [],
   "source": []
  },
  {
   "cell_type": "code",
   "execution_count": null,
   "id": "2c45fa1a",
   "metadata": {},
   "outputs": [],
   "source": []
  },
  {
   "cell_type": "code",
   "execution_count": null,
   "id": "2c9fd72f",
   "metadata": {},
   "outputs": [],
   "source": []
  },
  {
   "cell_type": "markdown",
   "id": "cbc54364",
   "metadata": {},
   "source": [
    "## Armstrong numbers"
   ]
  },
  {
   "cell_type": "markdown",
   "id": "9506ba4c",
   "metadata": {},
   "source": [
    "You are given an integer N you need to print all the Armstrong Numbers between 1 to N.\n",
    "\n",
    "If sum of cubes of each digit of the number is equal to the number itself, then the number is called an Armstrong number.\n",
    "\n",
    "For example, 153 = ( 1 * 1 * 1 ) + ( 5 * 5 * 5 ) + ( 3 * 3 * 3 )."
   ]
  },
  {
   "cell_type": "code",
   "execution_count": null,
   "id": "f5704a36",
   "metadata": {},
   "outputs": [],
   "source": []
  },
  {
   "cell_type": "code",
   "execution_count": null,
   "id": "4a52f54c",
   "metadata": {},
   "outputs": [],
   "source": [
    "N = int(input())\n",
    "\n"
   ]
  },
  {
   "cell_type": "code",
   "execution_count": 247,
   "id": "ddb4f515",
   "metadata": {},
   "outputs": [],
   "source": [
    "def countDigit(n):\n",
    "    count = 0\n",
    "    while n!=0:\n",
    "        digit = n%10\n",
    "        count = count + 1\n",
    "        n=n//10\n",
    "    return count\n",
    "    \n",
    "def isamstrongnumber(num):\n",
    "    total = 0\n",
    "    original = num\n",
    "    if num == 1 or num >= 10 :\n",
    "        while num!=0:\n",
    "\n",
    "            digit = num%10\n",
    "            num //= 10\n",
    "            total += digit ** (countDigit(original))\n",
    "        return total == original\n",
    "    else:\n",
    "        return False"
   ]
  },
  {
   "cell_type": "code",
   "execution_count": 248,
   "id": "72f536f9",
   "metadata": {},
   "outputs": [],
   "source": [
    "def printarmstrongs(n):\n",
    "    for i in range(1,n+1):\n",
    "        if isamstrongnumber(i):\n",
    "            print(i)"
   ]
  },
  {
   "cell_type": "code",
   "execution_count": 249,
   "id": "cb090728",
   "metadata": {},
   "outputs": [
    {
     "name": "stdout",
     "output_type": "stream",
     "text": [
      "1\n"
     ]
    }
   ],
   "source": [
    "printarmstrongs(100)"
   ]
  },
  {
   "cell_type": "code",
   "execution_count": null,
   "id": "a90ae549",
   "metadata": {},
   "outputs": [],
   "source": []
  },
  {
   "cell_type": "code",
   "execution_count": 1,
   "id": "916ea48a",
   "metadata": {},
   "outputs": [
    {
     "data": {
      "text/plain": [
       "4"
      ]
     },
     "execution_count": 1,
     "metadata": {},
     "output_type": "execute_result"
    }
   ],
   "source": [
    "def countDigit(n):\n",
    "    count = 0\n",
    "    while n!=0:\n",
    "        digit = n%10\n",
    "        count = count + 1\n",
    "        n=n//10\n",
    "    return count\n",
    "countDigit(1110)"
   ]
  },
  {
   "cell_type": "code",
   "execution_count": null,
   "id": "81eba7ba",
   "metadata": {},
   "outputs": [],
   "source": []
  },
  {
   "cell_type": "code",
   "execution_count": null,
   "id": "3e467743",
   "metadata": {},
   "outputs": [],
   "source": []
  },
  {
   "cell_type": "code",
   "execution_count": 2,
   "id": "997270a7",
   "metadata": {},
   "outputs": [],
   "source": [
    "def isarms(n):\n",
    "    t = 0\n",
    "    org = n\n",
    "    while n != 0:\n",
    "        d = n % 10\n",
    "        n = n//10\n",
    "        t = t+ d** (countDigit(org))\n",
    "    return t == org"
   ]
  },
  {
   "cell_type": "code",
   "execution_count": 8,
   "id": "752c4b12",
   "metadata": {},
   "outputs": [
    {
     "data": {
      "text/plain": [
       "True"
      ]
     },
     "execution_count": 8,
     "metadata": {},
     "output_type": "execute_result"
    }
   ],
   "source": [
    "isarms(153)"
   ]
  },
  {
   "cell_type": "code",
   "execution_count": null,
   "id": "558de423",
   "metadata": {},
   "outputs": [],
   "source": []
  },
  {
   "cell_type": "code",
   "execution_count": null,
   "id": "c7f35387",
   "metadata": {},
   "outputs": [],
   "source": []
  },
  {
   "cell_type": "code",
   "execution_count": null,
   "id": "db774b89",
   "metadata": {},
   "outputs": [],
   "source": []
  },
  {
   "cell_type": "code",
   "execution_count": null,
   "id": "1d75984b",
   "metadata": {},
   "outputs": [],
   "source": []
  },
  {
   "cell_type": "code",
   "execution_count": null,
   "id": "98c9f1b2",
   "metadata": {},
   "outputs": [],
   "source": []
  },
  {
   "cell_type": "markdown",
   "id": "48e58565",
   "metadata": {},
   "source": [
    "# square root \n",
    "\n",
    "### optimized"
   ]
  },
  {
   "cell_type": "code",
   "execution_count": null,
   "id": "d2eedbcc",
   "metadata": {},
   "outputs": [],
   "source": [
    "### this approach will give floor value of a sqrt"
   ]
  },
  {
   "cell_type": "code",
   "execution_count": 147,
   "id": "cb616341",
   "metadata": {},
   "outputs": [],
   "source": [
    "def sqrtbn(n):\n",
    "    low = 1\n",
    "    high = n\n",
    "    \n",
    "    mid = ((high + low) // 2)\n",
    "    \n",
    "    while low <= high:\n",
    "        mid = ((high + low) // 2) \n",
    "        if mid*mid > n :\n",
    "            # mid is too large\n",
    "            # discard the right range\n",
    "            high = mid -1\n",
    "\n",
    "        elif mid*mid < n :\n",
    "            # mid is too small\n",
    "            low = mid+1\n",
    "        \n",
    "        else:\n",
    "            return mid\n",
    "    return high\n",
    "    \n",
    "        "
   ]
  },
  {
   "cell_type": "code",
   "execution_count": 149,
   "id": "83e2e835",
   "metadata": {},
   "outputs": [
    {
     "data": {
      "text/plain": [
       "6"
      ]
     },
     "execution_count": 149,
     "metadata": {},
     "output_type": "execute_result"
    }
   ],
   "source": [
    "sqrtbn(37)"
   ]
  },
  {
   "cell_type": "code",
   "execution_count": null,
   "id": "d77ad19d",
   "metadata": {},
   "outputs": [],
   "source": []
  },
  {
   "cell_type": "code",
   "execution_count": null,
   "id": "e4aec8b4",
   "metadata": {},
   "outputs": [],
   "source": [
    "# newton's method\n"
   ]
  },
  {
   "cell_type": "code",
   "execution_count": 145,
   "id": "22525892",
   "metadata": {},
   "outputs": [],
   "source": [
    "def sqrtnt(num):               # this has some bugs inti\n",
    "    left = 0\n",
    "    right = num \n",
    "    mid = (left+right)/2\n",
    "    sq = mid*mid\n",
    "    \n",
    "    while sq != num:\n",
    "         \n",
    "        if sq < num:\n",
    "            left = mid\n",
    "        elif sq > num:\n",
    "            right = mid\n",
    "        \n",
    "        mid = (left+right)/2\n",
    "        sq = mid*mid\n",
    "    return mid\n"
   ]
  },
  {
   "cell_type": "code",
   "execution_count": 146,
   "id": "3eb837c2",
   "metadata": {},
   "outputs": [
    {
     "ename": "KeyboardInterrupt",
     "evalue": "",
     "output_type": "error",
     "traceback": [
      "\u001b[1;31m---------------------------------------------------------------------------\u001b[0m",
      "\u001b[1;31mKeyboardInterrupt\u001b[0m                         Traceback (most recent call last)",
      "\u001b[1;32m~\\AppData\\Local\\Temp/ipykernel_12464/3226284830.py\u001b[0m in \u001b[0;36m<module>\u001b[1;34m\u001b[0m\n\u001b[1;32m----> 1\u001b[1;33m \u001b[0msqrtnt\u001b[0m\u001b[1;33m(\u001b[0m\u001b[1;36m102\u001b[0m\u001b[1;33m)\u001b[0m\u001b[1;33m\u001b[0m\u001b[1;33m\u001b[0m\u001b[0m\n\u001b[0m",
      "\u001b[1;32m~\\AppData\\Local\\Temp/ipykernel_12464/1510460241.py\u001b[0m in \u001b[0;36msqrtnt\u001b[1;34m(num)\u001b[0m\n\u001b[0;32m     12\u001b[0m             \u001b[0mright\u001b[0m \u001b[1;33m=\u001b[0m \u001b[0mmid\u001b[0m\u001b[1;33m\u001b[0m\u001b[1;33m\u001b[0m\u001b[0m\n\u001b[0;32m     13\u001b[0m \u001b[1;33m\u001b[0m\u001b[0m\n\u001b[1;32m---> 14\u001b[1;33m         \u001b[0mmid\u001b[0m \u001b[1;33m=\u001b[0m \u001b[1;33m(\u001b[0m\u001b[0mleft\u001b[0m\u001b[1;33m+\u001b[0m\u001b[0mright\u001b[0m\u001b[1;33m)\u001b[0m\u001b[1;33m/\u001b[0m\u001b[1;36m2\u001b[0m\u001b[1;33m\u001b[0m\u001b[1;33m\u001b[0m\u001b[0m\n\u001b[0m\u001b[0;32m     15\u001b[0m         \u001b[0msq\u001b[0m \u001b[1;33m=\u001b[0m \u001b[0mmid\u001b[0m\u001b[1;33m*\u001b[0m\u001b[0mmid\u001b[0m\u001b[1;33m\u001b[0m\u001b[1;33m\u001b[0m\u001b[0m\n\u001b[0;32m     16\u001b[0m     \u001b[1;32mreturn\u001b[0m \u001b[0mmid\u001b[0m\u001b[1;33m\u001b[0m\u001b[1;33m\u001b[0m\u001b[0m\n",
      "\u001b[1;31mKeyboardInterrupt\u001b[0m: "
     ]
    }
   ],
   "source": [
    "sqrtnt(102)"
   ]
  },
  {
   "cell_type": "code",
   "execution_count": 84,
   "id": "a6aab1bd",
   "metadata": {},
   "outputs": [],
   "source": [
    "def sqrtnt(num):       \n",
    "    left = 0\n",
    "    right = num +2   # for numbers from 0 to 0.9\n",
    "    mid = (left+right)/2\n",
    "    sq = mid*mid\n",
    "    \n",
    "    while abs(sq - num) >0.0000000000000001:\n",
    "        \n",
    "        if sq < num:\n",
    "            left = mid\n",
    "        elif sq > num:\n",
    "            right = mid\n",
    "        \n",
    "        mid = (left+right)/2\n",
    "        sq = mid*mid\n",
    "    return mid\n"
   ]
  },
  {
   "cell_type": "code",
   "execution_count": 144,
   "id": "504bc499",
   "metadata": {},
   "outputs": [
    {
     "data": {
      "text/plain": [
       "31.622776601683793"
      ]
     },
     "execution_count": 144,
     "metadata": {},
     "output_type": "execute_result"
    }
   ],
   "source": [
    "sqrtnt(1000)"
   ]
  },
  {
   "cell_type": "code",
   "execution_count": null,
   "id": "f4c77e94",
   "metadata": {},
   "outputs": [],
   "source": []
  },
  {
   "cell_type": "code",
   "execution_count": 98,
   "id": "7f201a44",
   "metadata": {},
   "outputs": [],
   "source": [
    "def qbrt(num):       \n",
    "    left = 0\n",
    "    right = num\n",
    "    mid = (left+right)/2\n",
    "    sq = mid*mid*mid\n",
    "    \n",
    "    while abs(sq - num) >0.000000000000000001:\n",
    "        \n",
    "        if sq < num:\n",
    "            left = mid\n",
    "        elif sq > num:\n",
    "            right = mid\n",
    "        \n",
    "        mid = (left+right)/2\n",
    "        sq = mid*mid*mid\n",
    "    return mid\n"
   ]
  },
  {
   "cell_type": "code",
   "execution_count": 143,
   "id": "cb030462",
   "metadata": {},
   "outputs": [
    {
     "data": {
      "text/plain": [
       "4.0"
      ]
     },
     "execution_count": 143,
     "metadata": {},
     "output_type": "execute_result"
    }
   ],
   "source": [
    "qbrt(64)"
   ]
  },
  {
   "cell_type": "code",
   "execution_count": null,
   "id": "b8c21987",
   "metadata": {},
   "outputs": [],
   "source": []
  },
  {
   "cell_type": "code",
   "execution_count": null,
   "id": "061d3e71",
   "metadata": {},
   "outputs": [],
   "source": []
  },
  {
   "cell_type": "code",
   "execution_count": null,
   "id": "5983b141",
   "metadata": {},
   "outputs": [],
   "source": []
  },
  {
   "cell_type": "markdown",
   "id": "96a367ad",
   "metadata": {},
   "source": [
    "# logarithm (integer constant)"
   ]
  },
  {
   "cell_type": "code",
   "execution_count": 102,
   "id": "a0e8acf7",
   "metadata": {},
   "outputs": [],
   "source": [
    "def log(x,b):\n",
    "    count = 0\n",
    "    while x>1:\n",
    "        x = x/b\n",
    "        count = count + 1\n",
    "    return count"
   ]
  },
  {
   "cell_type": "code",
   "execution_count": 105,
   "id": "1f87c4b5",
   "metadata": {},
   "outputs": [
    {
     "data": {
      "text/plain": [
       "4"
      ]
     },
     "execution_count": 105,
     "metadata": {},
     "output_type": "execute_result"
    }
   ],
   "source": [
    "log(81,3)"
   ]
  },
  {
   "cell_type": "code",
   "execution_count": 106,
   "id": "cd5ab097",
   "metadata": {},
   "outputs": [
    {
     "data": {
      "text/plain": [
       "3"
      ]
     },
     "execution_count": 106,
     "metadata": {},
     "output_type": "execute_result"
    }
   ],
   "source": [
    "log(8,2)"
   ]
  },
  {
   "cell_type": "code",
   "execution_count": null,
   "id": "52559729",
   "metadata": {},
   "outputs": [],
   "source": [
    "# above algo wont work for decimal point numbers\n"
   ]
  },
  {
   "cell_type": "code",
   "execution_count": null,
   "id": "c4cc0a73",
   "metadata": {},
   "outputs": [],
   "source": [
    "# so \n",
    "# newton's method \n"
   ]
  },
  {
   "cell_type": "code",
   "execution_count": 120,
   "id": "e21092ff",
   "metadata": {},
   "outputs": [],
   "source": [
    "def log(x,b):\n",
    "    \n",
    "    left= 0\n",
    "    right = x\n",
    "    \n",
    "    mid = (left+right)/2\n",
    "    \n",
    "    intermediate = b ** mid\n",
    "    \n",
    "    while abs(intermediate-x) > 1e-12:     #0.00000000000001:\n",
    "                                # that is 1* 10^(-13)\n",
    "        if intermediate < x:\n",
    "            left = mid\n",
    "        else:\n",
    "            right = mid\n",
    "        \n",
    "        mid = (left+right)/2\n",
    "        intermediate = b ** mid\n",
    "    return mid\n",
    "    "
   ]
  },
  {
   "cell_type": "code",
   "execution_count": 121,
   "id": "ad52f189",
   "metadata": {},
   "outputs": [
    {
     "data": {
      "text/plain": [
       "4.0"
      ]
     },
     "execution_count": 121,
     "metadata": {},
     "output_type": "execute_result"
    }
   ],
   "source": [
    "log(81,3)"
   ]
  },
  {
   "cell_type": "code",
   "execution_count": 123,
   "id": "2c8ac84b",
   "metadata": {},
   "outputs": [
    {
     "data": {
      "text/plain": [
       "1.0"
      ]
     },
     "execution_count": 123,
     "metadata": {},
     "output_type": "execute_result"
    }
   ],
   "source": [
    "log(2,2)"
   ]
  },
  {
   "cell_type": "code",
   "execution_count": null,
   "id": "469a032a",
   "metadata": {},
   "outputs": [],
   "source": []
  },
  {
   "cell_type": "code",
   "execution_count": null,
   "id": "c9f784a8",
   "metadata": {},
   "outputs": [],
   "source": []
  },
  {
   "cell_type": "code",
   "execution_count": 62,
   "id": "21e7bfab",
   "metadata": {},
   "outputs": [],
   "source": [
    "S = \"interviewbit scaler\""
   ]
  },
  {
   "cell_type": "code",
   "execution_count": 63,
   "id": "f2d1117c",
   "metadata": {},
   "outputs": [
    {
     "data": {
      "text/plain": [
       "'Interviewbit scaler'"
      ]
     },
     "execution_count": 63,
     "metadata": {},
     "output_type": "execute_result"
    }
   ],
   "source": [
    "S.capitalize()"
   ]
  },
  {
   "cell_type": "code",
   "execution_count": 64,
   "id": "e6709cd4",
   "metadata": {},
   "outputs": [
    {
     "data": {
      "text/plain": [
       "'interviewbit scaler'"
      ]
     },
     "execution_count": 64,
     "metadata": {},
     "output_type": "execute_result"
    }
   ],
   "source": [
    "S.casefold()"
   ]
  },
  {
   "cell_type": "code",
   "execution_count": 65,
   "id": "8d216577",
   "metadata": {},
   "outputs": [
    {
     "data": {
      "text/plain": [
       "'|||interviewbit scaler|||'"
      ]
     },
     "execution_count": 65,
     "metadata": {},
     "output_type": "execute_result"
    }
   ],
   "source": [
    "S.center(25,\"|\")"
   ]
  },
  {
   "cell_type": "code",
   "execution_count": 66,
   "id": "8d13d675",
   "metadata": {},
   "outputs": [
    {
     "data": {
      "text/plain": [
       "3"
      ]
     },
     "execution_count": 66,
     "metadata": {},
     "output_type": "execute_result"
    }
   ],
   "source": [
    "S.count(\"i\")"
   ]
  },
  {
   "cell_type": "code",
   "execution_count": 67,
   "id": "358c4d00",
   "metadata": {},
   "outputs": [
    {
     "data": {
      "text/plain": [
       "19"
      ]
     },
     "execution_count": 67,
     "metadata": {},
     "output_type": "execute_result"
    }
   ],
   "source": [
    "len(S)"
   ]
  },
  {
   "cell_type": "code",
   "execution_count": 68,
   "id": "4da8e6b3",
   "metadata": {},
   "outputs": [
    {
     "data": {
      "text/plain": [
       "b'interviewbit scaler'"
      ]
     },
     "execution_count": 68,
     "metadata": {},
     "output_type": "execute_result"
    }
   ],
   "source": [
    "S.encode()"
   ]
  },
  {
   "cell_type": "code",
   "execution_count": 69,
   "id": "c5b24d07",
   "metadata": {},
   "outputs": [],
   "source": [
    "S2 = 'hell    ö         w       ö      rld'"
   ]
  },
  {
   "cell_type": "code",
   "execution_count": 70,
   "id": "ae2b40a3",
   "metadata": {},
   "outputs": [
    {
     "data": {
      "text/plain": [
       "b'hell    \\xc3\\xb6         w       \\xc3\\xb6      rld'"
      ]
     },
     "execution_count": 70,
     "metadata": {},
     "output_type": "execute_result"
    }
   ],
   "source": [
    "S2.encode()"
   ]
  },
  {
   "cell_type": "code",
   "execution_count": null,
   "id": "26342a5e",
   "metadata": {},
   "outputs": [],
   "source": []
  },
  {
   "cell_type": "code",
   "execution_count": 71,
   "id": "ccc1b591",
   "metadata": {},
   "outputs": [
    {
     "data": {
      "text/plain": [
       "True"
      ]
     },
     "execution_count": 71,
     "metadata": {},
     "output_type": "execute_result"
    }
   ],
   "source": [
    "txt = \"Welcome to Machine\"\n",
    "\n",
    "txt.endswith(\"Machine\")\n"
   ]
  },
  {
   "cell_type": "code",
   "execution_count": 72,
   "id": "54a71ca6",
   "metadata": {},
   "outputs": [
    {
     "data": {
      "text/plain": [
       "False"
      ]
     },
     "execution_count": 72,
     "metadata": {},
     "output_type": "execute_result"
    }
   ],
   "source": [
    "txt.endswith(\"Machine2\")\n"
   ]
  },
  {
   "cell_type": "code",
   "execution_count": 73,
   "id": "81188095",
   "metadata": {},
   "outputs": [
    {
     "data": {
      "text/plain": [
       "True"
      ]
     },
     "execution_count": 73,
     "metadata": {},
     "output_type": "execute_result"
    }
   ],
   "source": [
    "txt.endswith(\"Welcome to Machine\")"
   ]
  },
  {
   "cell_type": "code",
   "execution_count": null,
   "id": "a8a1bc5a",
   "metadata": {},
   "outputs": [],
   "source": []
  },
  {
   "cell_type": "code",
   "execution_count": 74,
   "id": "f90d0095",
   "metadata": {},
   "outputs": [],
   "source": [
    "S = \"Hello , my name is Sunny Panchal\"\n",
    "\n"
   ]
  },
  {
   "cell_type": "code",
   "execution_count": 75,
   "id": "208a138d",
   "metadata": {},
   "outputs": [
    {
     "data": {
      "text/plain": [
       "19"
      ]
     },
     "execution_count": 75,
     "metadata": {},
     "output_type": "execute_result"
    }
   ],
   "source": [
    "S.find(\"Sunny\")"
   ]
  },
  {
   "cell_type": "code",
   "execution_count": 76,
   "id": "32b20b3f",
   "metadata": {},
   "outputs": [
    {
     "data": {
      "text/plain": [
       "-1"
      ]
     },
     "execution_count": 76,
     "metadata": {},
     "output_type": "execute_result"
    }
   ],
   "source": [
    "S.find(\"Sunny\",0,10)"
   ]
  },
  {
   "cell_type": "code",
   "execution_count": 77,
   "id": "0c14a2ee",
   "metadata": {},
   "outputs": [
    {
     "data": {
      "text/plain": [
       "8"
      ]
     },
     "execution_count": 77,
     "metadata": {},
     "output_type": "execute_result"
    }
   ],
   "source": [
    "S.find(\"my\",0,10)"
   ]
  },
  {
   "cell_type": "code",
   "execution_count": null,
   "id": "c3e5939c",
   "metadata": {},
   "outputs": [],
   "source": []
  },
  {
   "cell_type": "code",
   "execution_count": 78,
   "id": "6f097414",
   "metadata": {},
   "outputs": [
    {
     "data": {
      "text/plain": [
       "'Hello , my name is Sunny Panchal'"
      ]
     },
     "execution_count": 78,
     "metadata": {},
     "output_type": "execute_result"
    }
   ],
   "source": [
    "S"
   ]
  },
  {
   "cell_type": "code",
   "execution_count": null,
   "id": "2866436a",
   "metadata": {},
   "outputs": [],
   "source": []
  },
  {
   "cell_type": "code",
   "execution_count": null,
   "id": "aa1ade98",
   "metadata": {},
   "outputs": [],
   "source": []
  },
  {
   "cell_type": "code",
   "execution_count": 79,
   "id": "8d48a30f",
   "metadata": {},
   "outputs": [
    {
     "data": {
      "text/plain": [
       "'Hello , my name is Sunny Panchal'"
      ]
     },
     "execution_count": 79,
     "metadata": {},
     "output_type": "execute_result"
    }
   ],
   "source": [
    "S"
   ]
  },
  {
   "cell_type": "code",
   "execution_count": 85,
   "id": "cadef56f",
   "metadata": {},
   "outputs": [],
   "source": [
    "S = \" \""
   ]
  },
  {
   "cell_type": "code",
   "execution_count": 86,
   "id": "ac24c726",
   "metadata": {},
   "outputs": [
    {
     "data": {
      "text/plain": [
       "True"
      ]
     },
     "execution_count": 86,
     "metadata": {},
     "output_type": "execute_result"
    }
   ],
   "source": [
    "S.isspace()"
   ]
  },
  {
   "cell_type": "code",
   "execution_count": 90,
   "id": "31780421",
   "metadata": {},
   "outputs": [
    {
     "name": "stdout",
     "output_type": "stream",
     "text": [
      "SUNY\n"
     ]
    }
   ],
   "source": [
    "S = \"SuNy\"\n",
    "if S.isupper()==True:\n",
    "    print(S)\n",
    "else:\n",
    "    print(S.upper())"
   ]
  },
  {
   "cell_type": "code",
   "execution_count": null,
   "id": "f796870f",
   "metadata": {},
   "outputs": [],
   "source": []
  },
  {
   "cell_type": "code",
   "execution_count": 91,
   "id": "d8d29160",
   "metadata": {},
   "outputs": [],
   "source": [
    "S = \"Hello , my name is Sunny Panchal\""
   ]
  },
  {
   "cell_type": "code",
   "execution_count": 94,
   "id": "2d05a804",
   "metadata": {},
   "outputs": [
    {
     "data": {
      "text/plain": [
       "['Hello', ',', 'my', 'name', 'is', 'Sunny', 'Panchal']"
      ]
     },
     "execution_count": 94,
     "metadata": {},
     "output_type": "execute_result"
    }
   ],
   "source": [
    "listd = S.split()\n",
    "listd"
   ]
  },
  {
   "cell_type": "code",
   "execution_count": 99,
   "id": "6a1a7aad",
   "metadata": {},
   "outputs": [
    {
     "data": {
      "text/plain": [
       "'Hello , my name is Sunny Panchal'"
      ]
     },
     "execution_count": 99,
     "metadata": {},
     "output_type": "execute_result"
    }
   ],
   "source": [
    "\" \".join(listd)"
   ]
  },
  {
   "cell_type": "code",
   "execution_count": null,
   "id": "af10da23",
   "metadata": {},
   "outputs": [],
   "source": []
  },
  {
   "cell_type": "code",
   "execution_count": 100,
   "id": "5854931a",
   "metadata": {},
   "outputs": [
    {
     "data": {
      "text/plain": [
       "['Hello', ',', 'my', 'name', 'is', 'Sunny', 'Panchal']"
      ]
     },
     "execution_count": 100,
     "metadata": {},
     "output_type": "execute_result"
    }
   ],
   "source": [
    "S.rsplit()"
   ]
  },
  {
   "cell_type": "code",
   "execution_count": 108,
   "id": "a7833601",
   "metadata": {},
   "outputs": [
    {
     "data": {
      "text/plain": [
       "['Hello , my name is Sunny Panchal ', ' How are you ! ', 'please wait ']"
      ]
     },
     "execution_count": 108,
     "metadata": {},
     "output_type": "execute_result"
    }
   ],
   "source": [
    "S = \"Hello , my name is Sunny Panchal \\n How are you ! \\nplease wait \"\n",
    "S.splitlines()"
   ]
  },
  {
   "cell_type": "code",
   "execution_count": null,
   "id": "e26855ba",
   "metadata": {},
   "outputs": [],
   "source": []
  },
  {
   "cell_type": "code",
   "execution_count": null,
   "id": "a53a8e0a",
   "metadata": {},
   "outputs": [],
   "source": []
  },
  {
   "cell_type": "code",
   "execution_count": 111,
   "id": "43d26635",
   "metadata": {},
   "outputs": [],
   "source": [
    "S=\"SunnyPanchal\""
   ]
  },
  {
   "cell_type": "code",
   "execution_count": 112,
   "id": "7415ba4a",
   "metadata": {},
   "outputs": [
    {
     "name": "stdout",
     "output_type": "stream",
     "text": [
      "SunnyPanchal\n"
     ]
    }
   ],
   "source": [
    "print(S)"
   ]
  },
  {
   "cell_type": "code",
   "execution_count": 114,
   "id": "8d7dda9b",
   "metadata": {},
   "outputs": [
    {
     "data": {
      "text/plain": [
       "False"
      ]
     },
     "execution_count": 114,
     "metadata": {},
     "output_type": "execute_result"
    }
   ],
   "source": [
    "S.startswith(\"P\")"
   ]
  },
  {
   "cell_type": "code",
   "execution_count": 115,
   "id": "ab0b7c2a",
   "metadata": {},
   "outputs": [
    {
     "data": {
      "text/plain": [
       "'sdgdfg'"
      ]
     },
     "execution_count": 115,
     "metadata": {},
     "output_type": "execute_result"
    }
   ],
   "source": [
    "\"***sdgdfg***\".strip(\"*\")"
   ]
  },
  {
   "cell_type": "code",
   "execution_count": null,
   "id": "f90905b4",
   "metadata": {},
   "outputs": [],
   "source": []
  },
  {
   "cell_type": "code",
   "execution_count": 116,
   "id": "cae532ce",
   "metadata": {},
   "outputs": [
    {
     "data": {
      "text/plain": [
       "'SunnyPanchal'"
      ]
     },
     "execution_count": 116,
     "metadata": {},
     "output_type": "execute_result"
    }
   ],
   "source": [
    "S "
   ]
  },
  {
   "cell_type": "code",
   "execution_count": 118,
   "id": "447f22b9",
   "metadata": {},
   "outputs": [
    {
     "data": {
      "text/plain": [
       "'000SunnyPanchal'"
      ]
     },
     "execution_count": 118,
     "metadata": {},
     "output_type": "execute_result"
    }
   ],
   "source": [
    "S.zfill(15)"
   ]
  },
  {
   "cell_type": "code",
   "execution_count": 121,
   "id": "7f1251d9",
   "metadata": {},
   "outputs": [
    {
     "data": {
      "text/plain": [
       "'00000000SunnyPanchal'"
      ]
     },
     "execution_count": 121,
     "metadata": {},
     "output_type": "execute_result"
    }
   ],
   "source": [
    "S.zfill(20)"
   ]
  },
  {
   "cell_type": "code",
   "execution_count": null,
   "id": "22bcf113",
   "metadata": {},
   "outputs": [],
   "source": []
  },
  {
   "cell_type": "code",
   "execution_count": null,
   "id": "c391fdc0",
   "metadata": {},
   "outputs": [],
   "source": []
  },
  {
   "cell_type": "code",
   "execution_count": null,
   "id": "0bd29215",
   "metadata": {},
   "outputs": [],
   "source": []
  },
  {
   "cell_type": "markdown",
   "id": "3446ec8a",
   "metadata": {},
   "source": [
    "## given B distinct array elements,\n",
    "## each element : 0<= arr[i]<=n-1\n",
    "## rearrange : arr[i] = arr[arr[i]]"
   ]
  },
  {
   "cell_type": "code",
   "execution_count": 164,
   "id": "ebe06de8",
   "metadata": {},
   "outputs": [],
   "source": [
    "ar = [3,2,4,1,0]\n",
    "l = len(ar)"
   ]
  },
  {
   "cell_type": "code",
   "execution_count": 165,
   "id": "4b8f0b71",
   "metadata": {},
   "outputs": [
    {
     "data": {
      "text/plain": [
       "[1, 4, 0, 2, 3]"
      ]
     },
     "execution_count": 165,
     "metadata": {},
     "output_type": "execute_result"
    }
   ],
   "source": [
    "[ar[ar[0]],ar[ar[1]],ar[ar[2]],ar[ar[3]],ar[ar[4]]]"
   ]
  },
  {
   "cell_type": "code",
   "execution_count": 166,
   "id": "1b29db9e",
   "metadata": {},
   "outputs": [
    {
     "name": "stdout",
     "output_type": "stream",
     "text": [
      "[1, 4, 0, 2, 3]\n"
     ]
    }
   ],
   "source": [
    "result = []\n",
    "for i in range(0,l):\n",
    "    \n",
    "    result.append(ar[ar[i]])\n",
    "print(result)"
   ]
  },
  {
   "cell_type": "code",
   "execution_count": 167,
   "id": "264b2e92",
   "metadata": {},
   "outputs": [
    {
     "data": {
      "text/plain": [
       "[1, 4, 0, 2, 3]"
      ]
     },
     "execution_count": 167,
     "metadata": {},
     "output_type": "execute_result"
    }
   ],
   "source": [
    "result2 = [ ar[ar[i]] for i in range(0,len(ar)) ]\n",
    "result2"
   ]
  },
  {
   "cell_type": "code",
   "execution_count": 169,
   "id": "1f058f16",
   "metadata": {},
   "outputs": [
    {
     "data": {
      "text/plain": [
       "[6, 1, 5, 2, 0, 3, 4]"
      ]
     },
     "execution_count": 169,
     "metadata": {},
     "output_type": "execute_result"
    }
   ],
   "source": [
    "ar = [3,1,4,6,5,0,2]\n",
    "l = len(ar)\n",
    "result2 = [ ar[ar[i]] for i in range(l)]\n",
    "result2"
   ]
  },
  {
   "cell_type": "code",
   "execution_count": null,
   "id": "a350018f",
   "metadata": {},
   "outputs": [],
   "source": []
  },
  {
   "cell_type": "code",
   "execution_count": null,
   "id": "ae44c0e0",
   "metadata": {},
   "outputs": [],
   "source": []
  },
  {
   "cell_type": "markdown",
   "id": "fc1d8008",
   "metadata": {},
   "source": [
    "### without using extra space"
   ]
  },
  {
   "cell_type": "code",
   "execution_count": null,
   "id": "1a6eceee",
   "metadata": {},
   "outputs": [],
   "source": []
  },
  {
   "cell_type": "code",
   "execution_count": 303,
   "id": "70f59207",
   "metadata": {},
   "outputs": [
    {
     "name": "stdout",
     "output_type": "stream",
     "text": [
      "[3, 1, 4, 6, 5, 0, 2]\n"
     ]
    },
    {
     "data": {
      "text/plain": [
       "[6, 1, 5, 2, 0, 3, 4]"
      ]
     },
     "execution_count": 303,
     "metadata": {},
     "output_type": "execute_result"
    }
   ],
   "source": [
    "def rearrange(arr):\n",
    "    n = len(arr)\n",
    "    for i in range(0, n):\n",
    "        arr[i] += (arr[arr[i]] % n) * n\n",
    " \n",
    "   \n",
    "    for i in range(0, n):\n",
    "        arr[i] = int(arr[i] / n)\n",
    "\n",
    "    return arr\n",
    "arr = [3,1,4,6,5,0,2]\n",
    "n = len(arr)\n",
    "\n",
    "print(arr)\n",
    "\n",
    "rearrange(arr)\n",
    " "
   ]
  },
  {
   "cell_type": "code",
   "execution_count": null,
   "id": "f57e27fe",
   "metadata": {},
   "outputs": [],
   "source": []
  },
  {
   "cell_type": "code",
   "execution_count": null,
   "id": "d895df6a",
   "metadata": {},
   "outputs": [],
   "source": []
  },
  {
   "cell_type": "code",
   "execution_count": null,
   "id": "5f89265f",
   "metadata": {},
   "outputs": [],
   "source": [
    "A = [1,3,-1]\n",
    "\n"
   ]
  },
  {
   "cell_type": "code",
   "execution_count": 334,
   "id": "23efad49",
   "metadata": {},
   "outputs": [
    {
     "name": "stdout",
     "output_type": "stream",
     "text": [
      "6\n"
     ]
    }
   ],
   "source": [
    "A = [3,-1,2,2,2]\n",
    "l = len(A)\n",
    "result = []\n",
    "def functiona(i,j):\n",
    "        pass\n",
    "for i in range(0,l):\n",
    "    for j in range(0,l):\n",
    "        \n",
    "        result.append(abs(A[i]-A[j]) + abs(i - j))\n",
    "#         print(abs(A[i]-A[j]) + abs(i - j))\n",
    "#print(result)\n",
    "print(max(result))"
   ]
  },
  {
   "cell_type": "code",
   "execution_count": 322,
   "id": "c4f59417",
   "metadata": {},
   "outputs": [
    {
     "name": "stdout",
     "output_type": "stream",
     "text": [
      "[0]\n",
      "0\n"
     ]
    }
   ],
   "source": [
    "A = [2]\n",
    "l = len(A)\n",
    "result = []\n",
    "def functiona(i,j):\n",
    "        pass\n",
    "for i in range(0,l):\n",
    "    for j in range(0,l):\n",
    "        \n",
    "        result.append(abs(A[i]-A[j]) + abs(i - j))\n",
    "#         print(abs(A[i]-A[j]) + abs(i - j))\n",
    "print(result)\n",
    "print(max(result))"
   ]
  },
  {
   "cell_type": "code",
   "execution_count": null,
   "id": "6e8e0293",
   "metadata": {},
   "outputs": [],
   "source": []
  },
  {
   "cell_type": "code",
   "execution_count": 335,
   "id": "c551425b",
   "metadata": {},
   "outputs": [
    {
     "name": "stdout",
     "output_type": "stream",
     "text": [
      "5 1 2 3 4 5\n",
      "5 4 3 2 1 "
     ]
    }
   ],
   "source": [
    "\n",
    "def main():\n",
    "    inp = list(map(int,input().split()))\n",
    "    N = inp[0]\n",
    "    for i in range(1, N+1):\n",
    "        print(inp[N-i+1],end=' ')\n",
    "    return 0\n",
    "\n",
    "if __name__ == '__main__':\n",
    "    main()\n"
   ]
  },
  {
   "cell_type": "code",
   "execution_count": 346,
   "id": "99fa0e98",
   "metadata": {},
   "outputs": [
    {
     "name": "stdout",
     "output_type": "stream",
     "text": [
      "0 0\n",
      "0 1\n",
      "0 2\n",
      "0 3\n",
      "0 4\n",
      "1 1\n",
      "1 2\n",
      "1 3\n",
      "1 4\n",
      "2 2\n",
      "2 3\n",
      "2 4\n",
      "3 3\n",
      "3 4\n",
      "4 4\n"
     ]
    }
   ],
   "source": [
    "A = [1,2,3,4,5]\n",
    "l = len(A)\n",
    "for i in range(0,l):\n",
    "    for j in range(i,l):\n",
    "        print(i,j)\n",
    "        "
   ]
  },
  {
   "cell_type": "code",
   "execution_count": null,
   "id": "a0d98f36",
   "metadata": {},
   "outputs": [],
   "source": []
  },
  {
   "cell_type": "code",
   "execution_count": 347,
   "id": "b1c94e44",
   "metadata": {},
   "outputs": [
    {
     "data": {
      "text/plain": [
       "10"
      ]
     },
     "execution_count": 347,
     "metadata": {},
     "output_type": "execute_result"
    }
   ],
   "source": [
    "5+5"
   ]
  },
  {
   "cell_type": "code",
   "execution_count": null,
   "id": "61d26bb5",
   "metadata": {},
   "outputs": [],
   "source": []
  },
  {
   "cell_type": "code",
   "execution_count": null,
   "id": "17a10863",
   "metadata": {},
   "outputs": [],
   "source": []
  }
 ],
 "metadata": {
  "kernelspec": {
   "display_name": "Python 3 (ipykernel)",
   "language": "python",
   "name": "python3"
  },
  "language_info": {
   "codemirror_mode": {
    "name": "ipython",
    "version": 3
   },
   "file_extension": ".py",
   "mimetype": "text/x-python",
   "name": "python",
   "nbconvert_exporter": "python",
   "pygments_lexer": "ipython3",
   "version": "3.9.7"
  }
 },
 "nbformat": 4,
 "nbformat_minor": 5
}
