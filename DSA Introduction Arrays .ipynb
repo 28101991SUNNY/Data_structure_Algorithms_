{
 "cells": [
  {
   "cell_type": "code",
   "execution_count": null,
   "id": "7edeedc4",
   "metadata": {},
   "outputs": [],
   "source": []
  },
  {
   "cell_type": "code",
   "execution_count": 1,
   "id": "d173a561",
   "metadata": {},
   "outputs": [
    {
     "name": "stdout",
     "output_type": "stream",
     "text": [
      "5 1 2 3 4 5\n",
      "5 1\n"
     ]
    }
   ],
   "source": [
    "def main():\n",
    "    # YOUR CODE GOES HERE\n",
    "    # Please take input and print output to standard input/output (stdin/stdout)\n",
    "    # E.g. 'input()/raw_input()' for input & 'print' for output\n",
    "    A = list(map(int,input().split()))\n",
    "    N = A[0]\n",
    "    max = A[1]\n",
    "\n",
    "\n",
    "    for i in range(1,N+1):\n",
    "        if A[i] > max:\n",
    "            max = A[i]\n",
    "    \n",
    "    min = A[1]\n",
    "    for i in range(1,N):\n",
    "        if A[i]<min:\n",
    "            min = A[i]\n",
    "\n",
    "    print(max,min)\n",
    "\n",
    "    return 0\n",
    "\n",
    "if __name__ == '__main__':\n",
    "    main()"
   ]
  },
  {
   "cell_type": "code",
   "execution_count": null,
   "id": "85062eb6",
   "metadata": {},
   "outputs": [],
   "source": []
  },
  {
   "cell_type": "code",
   "execution_count": 2,
   "id": "598de75f",
   "metadata": {},
   "outputs": [
    {
     "data": {
      "text/plain": [
       "[10, 1, 1]"
      ]
     },
     "execution_count": 2,
     "metadata": {},
     "output_type": "execute_result"
    }
   ],
   "source": [
    "def reversearray(A):\n",
    "    l  = len(A)\n",
    "    revl = []\n",
    "    for i in range(len(A)-1,-1,-1):\n",
    "        revl.append(A[i])\n",
    "    return revl\n",
    "reversearray([1,1,10])"
   ]
  },
  {
   "cell_type": "code",
   "execution_count": null,
   "id": "eaf5dd0b",
   "metadata": {},
   "outputs": [],
   "source": []
  },
  {
   "cell_type": "code",
   "execution_count": 3,
   "id": "d9c4692f",
   "metadata": {},
   "outputs": [
    {
     "name": "stdout",
     "output_type": "stream",
     "text": [
      "[1, 4, 9, 16, 25, 36, 49, 64, 81, 100]\n"
     ]
    }
   ],
   "source": [
    "sq = []\n",
    "\n",
    "for i in range(1,11):\n",
    "    sq.append(i*i)\n",
    "print(sq)"
   ]
  },
  {
   "cell_type": "code",
   "execution_count": null,
   "id": "38806ad2",
   "metadata": {},
   "outputs": [],
   "source": []
  },
  {
   "cell_type": "code",
   "execution_count": 5,
   "id": "ea801a73",
   "metadata": {},
   "outputs": [
    {
     "data": {
      "text/plain": [
       "10"
      ]
     },
     "execution_count": 5,
     "metadata": {},
     "output_type": "execute_result"
    }
   ],
   "source": [
    "n = len(sq)\n",
    "n"
   ]
  },
  {
   "cell_type": "code",
   "execution_count": 6,
   "id": "17ced0b2",
   "metadata": {},
   "outputs": [
    {
     "data": {
      "text/plain": [
       "100"
      ]
     },
     "execution_count": 6,
     "metadata": {},
     "output_type": "execute_result"
    }
   ],
   "source": [
    "sq[-1]"
   ]
  },
  {
   "cell_type": "code",
   "execution_count": 7,
   "id": "21cedc4c",
   "metadata": {},
   "outputs": [
    {
     "data": {
      "text/plain": [
       "100"
      ]
     },
     "execution_count": 7,
     "metadata": {},
     "output_type": "execute_result"
    }
   ],
   "source": [
    "sq[n-1]"
   ]
  },
  {
   "cell_type": "code",
   "execution_count": null,
   "id": "405ee6c0",
   "metadata": {},
   "outputs": [],
   "source": []
  },
  {
   "cell_type": "code",
   "execution_count": null,
   "id": "3a5d3d75",
   "metadata": {},
   "outputs": [],
   "source": []
  },
  {
   "cell_type": "code",
   "execution_count": 8,
   "id": "b650cb5c",
   "metadata": {},
   "outputs": [
    {
     "name": "stdout",
     "output_type": "stream",
     "text": [
      "[1, 4, 9, 16, 25, 36, 49, 64, 81, 100]\n",
      "385\n"
     ]
    }
   ],
   "source": [
    "# find the sum\n",
    "print(sq)\n",
    "sum = 0\n",
    "for i in range(len(sq)):\n",
    "    sum = sum + sq[i]\n",
    "print(sum)"
   ]
  },
  {
   "cell_type": "code",
   "execution_count": null,
   "id": "025553bc",
   "metadata": {},
   "outputs": [],
   "source": []
  },
  {
   "cell_type": "code",
   "execution_count": 9,
   "id": "798ef6e7",
   "metadata": {},
   "outputs": [
    {
     "name": "stdout",
     "output_type": "stream",
     "text": [
      "385\n"
     ]
    }
   ],
   "source": [
    "sum = 0\n",
    "for v in sq:\n",
    "    sum = sum + v\n",
    "print(sum)"
   ]
  },
  {
   "cell_type": "code",
   "execution_count": 13,
   "id": "252e1410",
   "metadata": {},
   "outputs": [
    {
     "name": "stdout",
     "output_type": "stream",
     "text": [
      "120\n"
     ]
    }
   ],
   "source": [
    "#product of all elements\n",
    "\n",
    "A = [1,2,3,4,5]\n",
    "product = 1\n",
    "for value in A:\n",
    "    product *= value\n",
    "print(product)"
   ]
  },
  {
   "cell_type": "code",
   "execution_count": null,
   "id": "d2b0a4f4",
   "metadata": {},
   "outputs": [],
   "source": []
  },
  {
   "cell_type": "code",
   "execution_count": null,
   "id": "10564fc6",
   "metadata": {},
   "outputs": [],
   "source": []
  },
  {
   "cell_type": "code",
   "execution_count": null,
   "id": "3b4f056b",
   "metadata": {},
   "outputs": [],
   "source": [
    "# given a elements in a list, count the no of elements which have\n",
    "# atleast 1 ele greater than itself present in the list"
   ]
  },
  {
   "cell_type": "code",
   "execution_count": 16,
   "id": "ec29e164",
   "metadata": {},
   "outputs": [
    {
     "name": "stdout",
     "output_type": "stream",
     "text": [
      "10\n"
     ]
    }
   ],
   "source": [
    "A = [1,3,2,6,8,9,0,-30,-20,5]\n",
    "n=len(A)\n",
    "print(n)\n"
   ]
  },
  {
   "cell_type": "code",
   "execution_count": 1,
   "id": "15e15255",
   "metadata": {},
   "outputs": [
    {
     "name": "stdout",
     "output_type": "stream",
     "text": [
      "9\n"
     ]
    }
   ],
   "source": [
    "## brute force  , dint work in duplicate  valuies\n",
    "\n",
    "\n",
    "A = [2,5,1,4,8,0,8,1,3,8]\n",
    "count = 0\n",
    "for value in A:\n",
    "    haslarger = False # initialise flag var\n",
    "    for j in A:\n",
    "        if value > j:\n",
    "            haslarger = True\n",
    "        \n",
    "    if haslarger:\n",
    "        count += 1\n",
    "print(count)"
   ]
  },
  {
   "cell_type": "code",
   "execution_count": null,
   "id": "af560533",
   "metadata": {},
   "outputs": [],
   "source": [
    "# making some observation and otpimize code"
   ]
  },
  {
   "cell_type": "code",
   "execution_count": 1,
   "id": "94d9a785",
   "metadata": {},
   "outputs": [
    {
     "name": "stdout",
     "output_type": "stream",
     "text": [
      "7\n"
     ]
    }
   ],
   "source": [
    "A = [2,5,1,4,8,0,8,1,3,8]\n",
    "count = 0\n",
    "N = len(A)\n",
    "max = A[0]\n",
    "for val in A:\n",
    "    if val > max:\n",
    "        max = val\n",
    "for v in A:\n",
    "    if v == max:\n",
    "        count += 1\n",
    "print(N-count)"
   ]
  },
  {
   "cell_type": "code",
   "execution_count": 2,
   "id": "1fc3cbe3",
   "metadata": {},
   "outputs": [
    {
     "name": "stdout",
     "output_type": "stream",
     "text": [
      "7\n"
     ]
    }
   ],
   "source": [
    "A = [2,5,1,4,8,0,8,1,3,8]\n",
    "count = 0\n",
    "N = len(A)\n",
    "max = A[0]\n",
    "for val in A:\n",
    "    if val > max:\n",
    "        max = val\n",
    "for v in A:\n",
    "    if v < max:\n",
    "        count += 1\n",
    "print(count)"
   ]
  },
  {
   "cell_type": "code",
   "execution_count": null,
   "id": "6e292c67",
   "metadata": {},
   "outputs": [],
   "source": []
  },
  {
   "cell_type": "code",
   "execution_count": null,
   "id": "d87c1210",
   "metadata": {},
   "outputs": [],
   "source": []
  },
  {
   "cell_type": "code",
   "execution_count": null,
   "id": "1ef8b152",
   "metadata": {},
   "outputs": [],
   "source": []
  },
  {
   "cell_type": "code",
   "execution_count": 30,
   "id": "a862a33b",
   "metadata": {},
   "outputs": [],
   "source": [
    "# reverse the number : \n",
    "A= [1,10,3,6,8]"
   ]
  },
  {
   "cell_type": "code",
   "execution_count": 31,
   "id": "7e96f1c2",
   "metadata": {},
   "outputs": [
    {
     "name": "stdout",
     "output_type": "stream",
     "text": [
      "[8, 6, 3, 10, 1]\n"
     ]
    }
   ],
   "source": [
    "result = []\n",
    "for i in range(len(A)-1,-1,-1):\n",
    "    result.append(A[i])\n",
    "print(result)"
   ]
  },
  {
   "cell_type": "code",
   "execution_count": null,
   "id": "bd94a547",
   "metadata": {},
   "outputs": [],
   "source": [
    "# optimization\n",
    "\n",
    "# without using auxiliary memory \n",
    "# A[0]--A[n-1]\n",
    "# A[1]--A[n-2]\n",
    "# A[i]--A[n-i-1]"
   ]
  },
  {
   "cell_type": "code",
   "execution_count": 2,
   "id": "dcd19cab",
   "metadata": {},
   "outputs": [
    {
     "name": "stdout",
     "output_type": "stream",
     "text": [
      "[1, 2, 3, 4, 5, 6, 7, 8]\n",
      "[8, 7, 6, 5, 4, 3, 2, 1]\n"
     ]
    }
   ],
   "source": [
    "A = [1,2,3,4,5,6,7,8]\n",
    "print(A)\n",
    "n = len(A)\n",
    "for i in range(n//2):\n",
    "    j = n-i-1\n",
    "    A[i],A[j]=A[j],A[i]\n",
    "print(A) "
   ]
  },
  {
   "cell_type": "code",
   "execution_count": null,
   "id": "ca3871f2",
   "metadata": {},
   "outputs": [],
   "source": [
    "class Solution:\n",
    "    # @param A : tuple of integers\n",
    "    # @return a list of integers\n",
    "    def solve(self, A):\n",
    "        n = len(A)\n",
    "        ans = []\n",
    "        for i in range(0,n):\n",
    "            ans.append(A[n-i-1])\n",
    "        return ans"
   ]
  },
  {
   "cell_type": "code",
   "execution_count": null,
   "id": "d128ecfa",
   "metadata": {},
   "outputs": [],
   "source": []
  },
  {
   "cell_type": "code",
   "execution_count": null,
   "id": "d896f970",
   "metadata": {},
   "outputs": [],
   "source": []
  },
  {
   "cell_type": "code",
   "execution_count": null,
   "id": "1afd042c",
   "metadata": {},
   "outputs": [],
   "source": []
  },
  {
   "cell_type": "code",
   "execution_count": null,
   "id": "f0c18062",
   "metadata": {},
   "outputs": [],
   "source": []
  },
  {
   "cell_type": "code",
   "execution_count": 7,
   "id": "31db76b9",
   "metadata": {},
   "outputs": [],
   "source": [
    "\n",
    "def goodpair(A, B):\n",
    "\n",
    "    n = len(A)\n",
    "    for i in range(n):\n",
    "        for j in range(i,n):\n",
    "            if i!=j:\n",
    "                if A[i]+A[j]==B:\n",
    "                    return 1\n",
    "    return 0\n",
    "\n"
   ]
  },
  {
   "cell_type": "code",
   "execution_count": 8,
   "id": "ba97b160",
   "metadata": {},
   "outputs": [
    {
     "data": {
      "text/plain": [
       "1"
      ]
     },
     "execution_count": 8,
     "metadata": {},
     "output_type": "execute_result"
    }
   ],
   "source": [
    "goodpair([ 510827, 351151, 96897, 925335, 299818, 192489, 456948, 44720, 510589, 598577 ],808099)"
   ]
  },
  {
   "cell_type": "code",
   "execution_count": null,
   "id": "992f312a",
   "metadata": {},
   "outputs": [],
   "source": []
  },
  {
   "cell_type": "code",
   "execution_count": null,
   "id": "f16dc4eb",
   "metadata": {},
   "outputs": [],
   "source": []
  },
  {
   "cell_type": "code",
   "execution_count": null,
   "id": "3aab541c",
   "metadata": {},
   "outputs": [],
   "source": []
  },
  {
   "cell_type": "code",
   "execution_count": null,
   "id": "6f1608f0",
   "metadata": {},
   "outputs": [],
   "source": []
  },
  {
   "cell_type": "code",
   "execution_count": null,
   "id": "508f4981",
   "metadata": {},
   "outputs": [],
   "source": []
  },
  {
   "cell_type": "code",
   "execution_count": null,
   "id": "619afd74",
   "metadata": {},
   "outputs": [],
   "source": []
  },
  {
   "cell_type": "code",
   "execution_count": null,
   "id": "6c7051c6",
   "metadata": {},
   "outputs": [],
   "source": []
  },
  {
   "cell_type": "code",
   "execution_count": null,
   "id": "5bc00484",
   "metadata": {},
   "outputs": [],
   "source": []
  },
  {
   "cell_type": "code",
   "execution_count": 3,
   "id": "ea9ef9f3",
   "metadata": {},
   "outputs": [
    {
     "name": "stdout",
     "output_type": "stream",
     "text": [
      "5 5 4 3 2 1 \n",
      "2 \n",
      "2 1 5 4 3 "
     ]
    }
   ],
   "source": [
    "A = list(map(int,input().split()))\n",
    "B = int(input())\n",
    "\n",
    "n = A.pop(0)\n",
    "\n",
    "for i in range(B):\n",
    "    A.insert(0,A[-1])\n",
    "    A.pop(-1)\n",
    "# print(A)\n",
    "for i in A:\n",
    "    print(i,end = \" \")"
   ]
  },
  {
   "cell_type": "code",
   "execution_count": null,
   "id": "95aef34f",
   "metadata": {},
   "outputs": [],
   "source": []
  },
  {
   "cell_type": "code",
   "execution_count": null,
   "id": "edc5d258",
   "metadata": {},
   "outputs": [],
   "source": []
  },
  {
   "cell_type": "code",
   "execution_count": null,
   "id": "a74a2595",
   "metadata": {},
   "outputs": [],
   "source": []
  },
  {
   "cell_type": "code",
   "execution_count": null,
   "id": "456583fe",
   "metadata": {},
   "outputs": [],
   "source": []
  },
  {
   "cell_type": "code",
   "execution_count": 168,
   "id": "c0a9304e",
   "metadata": {},
   "outputs": [
    {
     "name": "stdout",
     "output_type": "stream",
     "text": [
      "2\n",
      "5\n",
      "1 2 3 4 5\n",
      "1 3 5 \n",
      "2 4 \n",
      "3\n",
      "4 2\n",
      "\n",
      "4 2 \n"
     ]
    }
   ],
   "source": [
    "def main():\n",
    "    # YOUR CODE GOES HERE\n",
    "    # Please take input and print output to standard input/output (stdin/stdout)\n",
    "    # E.g. 'input()/raw_input()' for input & 'print' for output\n",
    "    T = int(input())\n",
    "    while T>0:\n",
    "        T = T-1\n",
    "\n",
    "        L = int(input())\n",
    "        A = list(map(int,input().split()))\n",
    "        \n",
    "        odds = [x for x in A if x%2!=0]\n",
    "        even = [x for x in A if x%2==0]\n",
    "        #print(odds)\n",
    "        for i in odds:\n",
    "            print(i,end=\" \")\n",
    "        print()\n",
    "        for i in even:\n",
    "            print(i,end = \" \")\n",
    "        print()\n",
    "\n",
    "    return 0\n",
    "\n",
    "if __name__ == '__main__':\n",
    "    main()"
   ]
  },
  {
   "cell_type": "code",
   "execution_count": null,
   "id": "cd520c22",
   "metadata": {},
   "outputs": [],
   "source": []
  },
  {
   "cell_type": "code",
   "execution_count": null,
   "id": "f49f7a83",
   "metadata": {},
   "outputs": [],
   "source": [
    "def main():\n",
    "    # YOUR CODE GOES HERE\n",
    "    # Please take input and print output to standard input/output (stdin/stdout)\n",
    "    # E.g. 'input()/raw_input()' for input & 'print' for output\n",
    "    T = int(input())\n",
    "    while T>0:\n",
    "        T = T-1\n",
    "\n",
    "        L = int(input())\n",
    "        A = list(map(int,input().split()))\n",
    "        \n",
    "#         odds = [x for x in A if x%2!=0]\n",
    "#         even = [x for x in A if x%2==0]\n",
    "        \n",
    "        for i in A:\n",
    "            if i%2!=0:\n",
    "                print(i,end =\" \")\n",
    "        print()\n",
    "        for i in A:\n",
    "            if i%2==0:\n",
    "                print(i,end =\" \")\n",
    "        print()\n",
    "#         #print(odds)\n",
    "#         for i in odds:\n",
    "#             print(i,end=\" \")\n",
    "#         print()\n",
    "#         for i in even:\n",
    "#             print(i,end = \" \")\n",
    "#         print()\n",
    "\n",
    "    return 0\n",
    "\n",
    "if __name__ == '__main__':\n",
    "    main()"
   ]
  },
  {
   "cell_type": "code",
   "execution_count": null,
   "id": "56bc9cff",
   "metadata": {},
   "outputs": [],
   "source": []
  },
  {
   "cell_type": "code",
   "execution_count": null,
   "id": "e9468ad8",
   "metadata": {},
   "outputs": [],
   "source": []
  },
  {
   "cell_type": "code",
   "execution_count": 179,
   "id": "f52e6c26",
   "metadata": {},
   "outputs": [
    {
     "name": "stdout",
     "output_type": "stream",
     "text": [
      "[('a', 1), ('a', 2), ('a', 3), ('b', 1), ('b', 2), ('b', 3), ('c', 1), ('c', 2), ('c', 3)]\n"
     ]
    }
   ],
   "source": [
    "label = ['a','b','c']\n",
    "fix = [1,2,3]\n",
    "\n",
    "result = [(x,y) for x in label for y in fix]\n",
    "print(result)"
   ]
  },
  {
   "cell_type": "code",
   "execution_count": null,
   "id": "aad1051e",
   "metadata": {},
   "outputs": [],
   "source": []
  },
  {
   "cell_type": "code",
   "execution_count": null,
   "id": "238cd5bf",
   "metadata": {},
   "outputs": [],
   "source": []
  },
  {
   "cell_type": "code",
   "execution_count": 184,
   "id": "bcbee3e7",
   "metadata": {},
   "outputs": [
    {
     "name": "stdout",
     "output_type": "stream",
     "text": [
      "{'p', 'n', 'g', 'h', 'a', 't', 'i', 'r', 'o', 'm', 'y', ' '}\n"
     ]
    }
   ],
   "source": [
    "word = \"python programing\"\n",
    "\n",
    "alfa = {x for x in word}\n",
    "print(alfa)"
   ]
  },
  {
   "cell_type": "code",
   "execution_count": null,
   "id": "da57900b",
   "metadata": {},
   "outputs": [],
   "source": []
  },
  {
   "cell_type": "code",
   "execution_count": null,
   "id": "0ac290ca",
   "metadata": {},
   "outputs": [],
   "source": []
  },
  {
   "cell_type": "code",
   "execution_count": 187,
   "id": "7684b8ba",
   "metadata": {},
   "outputs": [
    {
     "name": "stdout",
     "output_type": "stream",
     "text": [
      "{1: 1, 2: 4, 3: 9, 4: 16, 5: 25}\n"
     ]
    }
   ],
   "source": [
    "num= [1,2,3,4,5]\n",
    "\n",
    "sq_dic = dict()\n",
    "\n",
    "for i in num:\n",
    "    sq_dic[i] = i**2\n",
    "\n",
    "print(sq_dic)"
   ]
  },
  {
   "cell_type": "code",
   "execution_count": 189,
   "id": "593f2459",
   "metadata": {},
   "outputs": [
    {
     "data": {
      "text/plain": [
       "{1: 1, 2: 4, 3: 9, 4: 16, 5: 25}"
      ]
     },
     "execution_count": 189,
     "metadata": {},
     "output_type": "execute_result"
    }
   ],
   "source": [
    "resultdict = {i:i**2 for i in num}\n",
    "resultdict"
   ]
  },
  {
   "cell_type": "code",
   "execution_count": null,
   "id": "ebe2bf72",
   "metadata": {},
   "outputs": [],
   "source": []
  },
  {
   "cell_type": "code",
   "execution_count": null,
   "id": "2752f202",
   "metadata": {},
   "outputs": [],
   "source": []
  },
  {
   "cell_type": "code",
   "execution_count": 198,
   "id": "45ab0119",
   "metadata": {},
   "outputs": [
    {
     "data": {
      "text/plain": [
       "{'milk': 1.02, 'coffee': 3.75, 'bread': 3.75}"
      ]
     },
     "execution_count": 198,
     "metadata": {},
     "output_type": "execute_result"
    }
   ],
   "source": [
    "oldprice = {\"milk\":1.02, \"coffee\":2.5 , \"bread\":2.5}\n",
    "new_price = {k:v*1.5 if v>2 else v for (k,v) in oldprice.items()} \n",
    "new_price"
   ]
  },
  {
   "cell_type": "code",
   "execution_count": 205,
   "id": "aae686d1",
   "metadata": {},
   "outputs": [],
   "source": [
    "oldprice = {\"milk\":1.02, \"coffee\":2.5 , \"bread\":2.5}\n",
    "\n",
    "new_price = {key:value*2.0 if key==\"milk\" else value for (key,value)\n",
    "             in oldprice.items()} \n"
   ]
  },
  {
   "cell_type": "code",
   "execution_count": 206,
   "id": "1f5151dd",
   "metadata": {},
   "outputs": [
    {
     "data": {
      "text/plain": [
       "{'milk': 2.04, 'coffee': 2.5, 'bread': 2.5}"
      ]
     },
     "execution_count": 206,
     "metadata": {},
     "output_type": "execute_result"
    }
   ],
   "source": [
    "new_price"
   ]
  },
  {
   "cell_type": "code",
   "execution_count": null,
   "id": "02b58ddf",
   "metadata": {},
   "outputs": [],
   "source": []
  },
  {
   "cell_type": "code",
   "execution_count": null,
   "id": "bc1824a7",
   "metadata": {},
   "outputs": [],
   "source": []
  },
  {
   "cell_type": "code",
   "execution_count": null,
   "id": "7a69b681",
   "metadata": {},
   "outputs": [],
   "source": []
  },
  {
   "cell_type": "code",
   "execution_count": null,
   "id": "82b917b7",
   "metadata": {},
   "outputs": [],
   "source": []
  },
  {
   "cell_type": "code",
   "execution_count": null,
   "id": "19c25ea8",
   "metadata": {},
   "outputs": [],
   "source": []
  },
  {
   "cell_type": "code",
   "execution_count": null,
   "id": "83fa25f6",
   "metadata": {},
   "outputs": [],
   "source": []
  },
  {
   "cell_type": "code",
   "execution_count": 20,
   "id": "e360d46d",
   "metadata": {},
   "outputs": [
    {
     "name": "stdout",
     "output_type": "stream",
     "text": [
      "1\n",
      "5\n",
      "1 2 3 4 5\n",
      "1 3 5 \n",
      "2 4 \n"
     ]
    }
   ],
   "source": [
    "def main():\n",
    "    # YOUR CODE GOES HERE\n",
    "    # Please take input and print output to standard input/output (stdin/stdout)\n",
    "    # E.g. 'input()/raw_input()' for input & 'print' for output\n",
    "    T = int(input())\n",
    "    while T>0:\n",
    "        T = T-1\n",
    "\n",
    "        L = int(input())\n",
    "        A = list(map(int,input().split()))\n",
    "\n",
    "        for i in A:\n",
    "            if i%2!=0:\n",
    "                print(i,end =\" \")\n",
    "\n",
    "        print()\n",
    "        for i in A:\n",
    "            if i%2==0:\n",
    "                print(i,end =\" \")\n",
    "        print()\n",
    "\n",
    "    return 0\n",
    "\n",
    "if __name__ == '__main__':\n",
    "    main()"
   ]
  },
  {
   "cell_type": "code",
   "execution_count": null,
   "id": "0d6799cc",
   "metadata": {},
   "outputs": [],
   "source": []
  },
  {
   "cell_type": "code",
   "execution_count": null,
   "id": "7220373b",
   "metadata": {},
   "outputs": [],
   "source": []
  },
  {
   "cell_type": "code",
   "execution_count": null,
   "id": "c69abca9",
   "metadata": {},
   "outputs": [],
   "source": []
  }
 ],
 "metadata": {
  "kernelspec": {
   "display_name": "Python 3 (ipykernel)",
   "language": "python",
   "name": "python3"
  },
  "language_info": {
   "codemirror_mode": {
    "name": "ipython",
    "version": 3
   },
   "file_extension": ".py",
   "mimetype": "text/x-python",
   "name": "python",
   "nbconvert_exporter": "python",
   "pygments_lexer": "ipython3",
   "version": "3.9.7"
  }
 },
 "nbformat": 4,
 "nbformat_minor": 5
}
