{
 "cells": [
  {
   "cell_type": "markdown",
   "id": "5f5ea558",
   "metadata": {},
   "source": [
    "Given an integer A, you have to tell whether it is a prime number or not.\n",
    "\n",
    "A prime number is a natural number greater than 1 which is divisible only by 1 and itself."
   ]
  },
  {
   "cell_type": "code",
   "execution_count": 1,
   "id": "d6db0bae",
   "metadata": {},
   "outputs": [
    {
     "name": "stdout",
     "output_type": "stream",
     "text": [
      "13\n",
      "YES\n"
     ]
    }
   ],
   "source": [
    "def main():\n",
    "    # YOUR CODE GOES HERE\n",
    "    # Please take input and print output to standard input/output (stdin/stdout)\n",
    "    # E.g. 'input()/raw_input()' for input & 'print' for output\n",
    "    n = int(input())\n",
    "    \n",
    "    def isprime(n):\n",
    "        f = 2\n",
    "\n",
    "        while f*f <= n :\n",
    "            if n%f == 0:\n",
    "                return False\n",
    "            f = f+1\n",
    "        return True\n",
    "\n",
    "    if isprime(n):\n",
    "        print(\"YES\") \n",
    "    else:\n",
    "        print(\"NO\")\n",
    "\n",
    "    return 0\n",
    "\n",
    "if __name__ == '__main__':\n",
    "    main()"
   ]
  },
  {
   "cell_type": "code",
   "execution_count": null,
   "id": "e5b83ed7",
   "metadata": {},
   "outputs": [],
   "source": []
  },
  {
   "cell_type": "code",
   "execution_count": null,
   "id": "771ecf0b",
   "metadata": {},
   "outputs": [],
   "source": []
  },
  {
   "cell_type": "code",
   "execution_count": null,
   "id": "0d24e779",
   "metadata": {},
   "outputs": [],
   "source": []
  },
  {
   "cell_type": "code",
   "execution_count": null,
   "id": "a10e2d18",
   "metadata": {},
   "outputs": [],
   "source": []
  },
  {
   "cell_type": "markdown",
   "id": "cf6cd480",
   "metadata": {},
   "source": [
    "You are given N positive integers.\n",
    "\n",
    "For each given integer A, you have to tell whether it is a perfect number or not.\n",
    "\n",
    "Perfect number is a positive integer which is equal to the sum of its proper positive divisors."
   ]
  },
  {
   "cell_type": "code",
   "execution_count": 2,
   "id": "4ec6391d",
   "metadata": {},
   "outputs": [
    {
     "name": "stdout",
     "output_type": "stream",
     "text": [
      "2\n",
      "4\n",
      "NO\n",
      "6\n",
      "YES\n"
     ]
    }
   ],
   "source": [
    "def main():\n",
    "    # YOUR CODE GOES HERE\n",
    "    # Please take input and print output to standard input/output (stdin/stdout)\n",
    "    # E.g. 'input()/raw_input()' for input & 'print' for output\n",
    "    N = int(input())\n",
    "\n",
    "    def isperfect(n):\n",
    "        sum =0\n",
    "        for i in range(1,n):\n",
    "            if n%i==0:\n",
    "                sum = sum +i\n",
    "\n",
    "        if sum==n:\n",
    "            return True\n",
    "        \n",
    "\n",
    "\n",
    "    while N>0:\n",
    "        N= N-1\n",
    "\n",
    "        A = int(input())\n",
    "\n",
    "        if isperfect(A):\n",
    "            print(\"YES\")\n",
    "        else:\n",
    "            print(\"NO\")\n",
    "        \n",
    "\n",
    "    return 0\n",
    "\n",
    "if __name__ == '__main__':\n",
    "    main()"
   ]
  },
  {
   "cell_type": "code",
   "execution_count": null,
   "id": "c80f0b28",
   "metadata": {},
   "outputs": [],
   "source": []
  },
  {
   "cell_type": "code",
   "execution_count": null,
   "id": "024ce829",
   "metadata": {},
   "outputs": [],
   "source": []
  },
  {
   "cell_type": "code",
   "execution_count": null,
   "id": "c0b7fb9f",
   "metadata": {},
   "outputs": [],
   "source": []
  },
  {
   "cell_type": "code",
   "execution_count": null,
   "id": "7aac89ff",
   "metadata": {},
   "outputs": [],
   "source": []
  },
  {
   "cell_type": "markdown",
   "id": "0158435e",
   "metadata": {},
   "source": [
    "Write a program to find sum all Natural numbers from 1 to N where you have to take N as input from user\n",
    "\n"
   ]
  },
  {
   "cell_type": "code",
   "execution_count": 3,
   "id": "9c06c250",
   "metadata": {},
   "outputs": [
    {
     "name": "stdout",
     "output_type": "stream",
     "text": [
      "5\n",
      "15\n"
     ]
    }
   ],
   "source": [
    "def main():\n",
    "    # YOUR CODE GOES HERE\n",
    "    # Please take input and print output to standard input/output (stdin/stdout)\n",
    "    # E.g. 'input()/raw_input()' for input & 'print' for output\n",
    "    N = int(input())\n",
    "\n",
    "    sum = 0\n",
    "\n",
    "    for i in range(0,N+1):\n",
    "        sum = sum + i\n",
    "    \n",
    "    print(sum)\n",
    "\n",
    "    return 0\n",
    "\n",
    "if __name__ == '__main__':\n",
    "    main()"
   ]
  },
  {
   "cell_type": "code",
   "execution_count": null,
   "id": "5ae5f7a7",
   "metadata": {},
   "outputs": [],
   "source": []
  },
  {
   "cell_type": "code",
   "execution_count": null,
   "id": "4e9d739c",
   "metadata": {},
   "outputs": [],
   "source": []
  },
  {
   "cell_type": "code",
   "execution_count": null,
   "id": "0879558e",
   "metadata": {},
   "outputs": [],
   "source": []
  },
  {
   "cell_type": "code",
   "execution_count": null,
   "id": "e74132cf",
   "metadata": {},
   "outputs": [],
   "source": []
  },
  {
   "cell_type": "code",
   "execution_count": null,
   "id": "ad7989ef",
   "metadata": {},
   "outputs": [],
   "source": []
  },
  {
   "cell_type": "markdown",
   "id": "9f67908d",
   "metadata": {},
   "source": [
    "Given a number A. Return square root of the number if it is perfect square otherwise return -1.\n",
    "\n"
   ]
  },
  {
   "cell_type": "code",
   "execution_count": null,
   "id": "b3ad07fe",
   "metadata": {},
   "outputs": [],
   "source": [
    "class Solution:\n",
    "    # @param A : integer\n",
    "    # @return an integer\n",
    "    def solve(self, A):\n",
    "                    \n",
    "        def perfectsquare(n):\n",
    "                for i in range(1,n+1):\n",
    "                    if i*i == n:\n",
    "                        return True\n",
    "                    \n",
    "        def sqroot(n):\n",
    "            i = 1\n",
    "            while i*i <=n:\n",
    "                i=i+1\n",
    "            return i-1\n",
    "\n",
    "            \n",
    "        if perfectsquare(A):\n",
    "            return (sqroot(A))\n",
    "        else:\n",
    "            return (-1)"
   ]
  },
  {
   "cell_type": "code",
   "execution_count": null,
   "id": "3c558a58",
   "metadata": {},
   "outputs": [],
   "source": []
  },
  {
   "cell_type": "code",
   "execution_count": null,
   "id": "c69500e7",
   "metadata": {},
   "outputs": [],
   "source": []
  },
  {
   "cell_type": "code",
   "execution_count": null,
   "id": "496da4a4",
   "metadata": {},
   "outputs": [],
   "source": []
  },
  {
   "cell_type": "code",
   "execution_count": null,
   "id": "38923a7d",
   "metadata": {},
   "outputs": [],
   "source": []
  },
  {
   "cell_type": "markdown",
   "id": "bf8f86a4",
   "metadata": {},
   "source": [
    "Problem Description\n",
    "\n",
    "You are given an integer N you need to print all the Armstrong Numbers between 1 to N.\n",
    "\n",
    "If sum of cubes of each digit of the number is equal to the number itself, then the number is called an Armstrong number.\n",
    "\n",
    "For example, 153 = ( 1 * 1 * 1 ) + ( 5 * 5 * 5 ) + ( 3 * 3 * 3 )."
   ]
  },
  {
   "cell_type": "code",
   "execution_count": 7,
   "id": "48821e5e",
   "metadata": {},
   "outputs": [
    {
     "name": "stdout",
     "output_type": "stream",
     "text": [
      "1000\n",
      "1\n",
      "153\n",
      "370\n",
      "371\n",
      "407\n",
      "None\n"
     ]
    }
   ],
   "source": [
    "def main():\n",
    "    # YOUR CODE GOES HERE\n",
    "    # Please take input and print output to standard input/output (stdin/stdout)\n",
    "    # E.g. 'input()/raw_input()' for input & 'print' for output\n",
    "    \n",
    "\n",
    "    def countDigit(n):\n",
    "        count = 0\n",
    "        while n!=0:\n",
    "            digit = n%10\n",
    "            count = count + 1\n",
    "            n=n//10\n",
    "        return count\n",
    "            \n",
    "    def isamstrongnumber(num):\n",
    "        total = 0\n",
    "        original = num\n",
    "        if num == 1 or num >= 10 :\n",
    "            while num!=0:\n",
    "\n",
    "                digit = num%10\n",
    "                num //= 10\n",
    "                total += digit ** (countDigit(original))\n",
    "            return total == original\n",
    "        else:\n",
    "            return False\n",
    "\n",
    "    def printarmstrongs(n):\n",
    "        for i in range(1,n+1):\n",
    "            if isamstrongnumber(i):\n",
    "                print(i)\n",
    "\n",
    "    n = int(input())\n",
    "\n",
    "    print(printarmstrongs(n))\n",
    "\n",
    "    return 0\n",
    "\n",
    "if __name__ == '__main__':\n",
    "    main()"
   ]
  },
  {
   "cell_type": "code",
   "execution_count": null,
   "id": "60eb64b4",
   "metadata": {},
   "outputs": [],
   "source": []
  },
  {
   "cell_type": "code",
   "execution_count": null,
   "id": "6691dd91",
   "metadata": {},
   "outputs": [],
   "source": []
  },
  {
   "cell_type": "code",
   "execution_count": null,
   "id": "87ec6980",
   "metadata": {},
   "outputs": [],
   "source": []
  },
  {
   "cell_type": "code",
   "execution_count": null,
   "id": "75ba9bb3",
   "metadata": {},
   "outputs": [],
   "source": []
  },
  {
   "cell_type": "code",
   "execution_count": null,
   "id": "a24a1a0a",
   "metadata": {},
   "outputs": [],
   "source": []
  },
  {
   "cell_type": "code",
   "execution_count": null,
   "id": "1fbcb6dc",
   "metadata": {},
   "outputs": [],
   "source": []
  },
  {
   "cell_type": "code",
   "execution_count": null,
   "id": "f599bb57",
   "metadata": {},
   "outputs": [],
   "source": []
  },
  {
   "cell_type": "code",
   "execution_count": null,
   "id": "727d79db",
   "metadata": {},
   "outputs": [],
   "source": []
  },
  {
   "cell_type": "code",
   "execution_count": null,
   "id": "fb479aef",
   "metadata": {},
   "outputs": [],
   "source": []
  },
  {
   "cell_type": "code",
   "execution_count": null,
   "id": "83dcb4cb",
   "metadata": {},
   "outputs": [],
   "source": []
  },
  {
   "cell_type": "code",
   "execution_count": null,
   "id": "74de1f85",
   "metadata": {},
   "outputs": [],
   "source": []
  },
  {
   "cell_type": "code",
   "execution_count": null,
   "id": "1485b4bc",
   "metadata": {},
   "outputs": [],
   "source": []
  },
  {
   "cell_type": "code",
   "execution_count": null,
   "id": "56ab1fb0",
   "metadata": {},
   "outputs": [],
   "source": []
  },
  {
   "cell_type": "code",
   "execution_count": null,
   "id": "3d9c5855",
   "metadata": {},
   "outputs": [],
   "source": []
  },
  {
   "cell_type": "code",
   "execution_count": null,
   "id": "ecb11192",
   "metadata": {},
   "outputs": [],
   "source": []
  },
  {
   "cell_type": "code",
   "execution_count": null,
   "id": "14ee341f",
   "metadata": {},
   "outputs": [],
   "source": []
  }
 ],
 "metadata": {
  "kernelspec": {
   "display_name": "Python 3 (ipykernel)",
   "language": "python",
   "name": "python3"
  },
  "language_info": {
   "codemirror_mode": {
    "name": "ipython",
    "version": 3
   },
   "file_extension": ".py",
   "mimetype": "text/x-python",
   "name": "python",
   "nbconvert_exporter": "python",
   "pygments_lexer": "ipython3",
   "version": "3.9.7"
  }
 },
 "nbformat": 4,
 "nbformat_minor": 5
}
