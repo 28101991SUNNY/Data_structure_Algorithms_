{
 "cells": [
  {
   "cell_type": "raw",
   "id": "70d044af",
   "metadata": {},
   "source": [
    "'''\n",
    "\n",
    "# sorting : to arange data in some order \n",
    "\n",
    "sorting : data : strings ,numbers , objects\n",
    "\n",
    "\n",
    "\n",
    "increasing / ascending \n",
    "decreasing / descending \n",
    "\n",
    "\n",
    "                            (strictly increasing / decreasing)\n",
    "                            \n",
    "                            \n",
    "[-10,-3,0,1,2,5,18,20]         A[i] < A[i+1]\n",
    "\n",
    "\n",
    "[50,40,25,23.287,20,PIE,-e]    A[i] > A[i+1]\n",
    "\n",
    "\n",
    "\n",
    "Non Increasing  [10,10,10,8,8,6,5,4] \n",
    "        : A[i] >= A[i+1] either decreasing or stays linear\n",
    "Non Decreasing  [-10,5,5,5,6,8,8,10]\n",
    "        : either increas or stay linear A[i]<=A[i+1]\n",
    "\n",
    "\n",
    "\n",
    "# lexicographic ( dictionary order )   >--  lexicon - token by token\n",
    "Q: ['apple','dog','god','scaler','algorithm ']\n",
    "\n",
    "A:  ['algorithms','apple','dog','god','scaler']  --lexicographically sorted\n",
    "\n",
    "\n",
    "\n",
    "# lexicographic is not equal to alphabetically\n",
    "\n",
    "\n",
    "# alphanumeric contains : [ A-Z , a-z , 0-9 , _ ]\n",
    "\n",
    "\n",
    "\n",
    "\n",
    "\n",
    "\n",
    ">>>--- how many alphabets does english have !  = 1\n",
    "--- alphabet  is a set of letters : \n",
    "in english alphabet has 26 letters. A to Z   ---<<<\n",
    "\n",
    ">>>--- HIndi has two alphabets : AA, AAA, E , ...\n",
    "                            : ka ,kha , ga                 ---<<<\n",
    "\n",
    "\n",
    "\n",
    "\n",
    "# we can also sort by key (arbitrary property ) like sorting by salary, height, weigth etc. \n",
    "\n",
    "list of people = sort by height\n",
    "\n",
    "list of strings = sort by length of strings\n",
    "\n",
    "\n",
    "\n",
    "list of integers = sort by absolute values\n",
    "A = [-10,5,6,10,12,-36]\n",
    "ans [5,6,-10,10,12,-36]\n",
    "\n",
    "\n",
    "\n",
    "\n",
    "\n",
    "# Popular sorting algorithms : \n",
    "\n",
    "1. Bubble sor  **\n",
    "2. Quick sort **\n",
    "3. Selection Sort **\n",
    "4. Tim sort\n",
    "5. insertion sort **\n",
    "6. heap sort\n",
    "7. counting sort **\n",
    "8. shell sort\n",
    "9. bucket sort\n",
    "10. merge sort\n",
    "11. radic sort **\n",
    "\n",
    "etc\n",
    "\n",
    "\n",
    "# Time complexity\n",
    "\n",
    "best case : O(n)\n",
    "avg case :  O(nlogn)\n",
    "worst case: O(nlogn)\n",
    "\n",
    "# space complexity\n",
    "\n",
    "worst case : O(1)    {excludibg stack}\n",
    ": in-place\n",
    "\n",
    "\n",
    "\n",
    "## stability : \n",
    "always assume that algorithm is stable\n",
    "#### >>>--- retaining the order of things  that compare equal\n",
    "\n",
    "A = -10  20  10  30  -30  60  5\n",
    "\n",
    "ans : 5  -10  10  20  30  -30  60\n",
    "\n",
    "sort the peope by age , and if age is equal , then by height :\n",
    "\n",
    "\n",
    "sort by height ------ stable------ sory by age"
   ]
  },
  {
   "cell_type": "code",
   "execution_count": 2,
   "id": "a9bddd94",
   "metadata": {},
   "outputs": [],
   "source": [
    "## sorting a collection \n",
    "\n",
    "A = [9,8,7,6,5,4,3,2,1]\n",
    "\n",
    "A.sort() # modifty the list A --- sorted asc by value # happes in place\n",
    "\n",
    "# SC : O(n)\n",
    "# TC : O(nlogn)"
   ]
  },
  {
   "cell_type": "code",
   "execution_count": 3,
   "id": "19c607a6",
   "metadata": {},
   "outputs": [
    {
     "data": {
      "text/plain": [
       "[1, 2, 3, 4, 5, 6, 7, 8, 9]"
      ]
     },
     "execution_count": 3,
     "metadata": {},
     "output_type": "execute_result"
    }
   ],
   "source": [
    "A"
   ]
  },
  {
   "cell_type": "code",
   "execution_count": 5,
   "id": "d00c23f3",
   "metadata": {},
   "outputs": [
    {
     "name": "stdout",
     "output_type": "stream",
     "text": [
      "[9, 8, 7, 6, 5, 4, 3, 2, 1]\n",
      "[1, 2, 3, 4, 5, 6, 7, 8, 9]\n"
     ]
    }
   ],
   "source": [
    "x = [9,8,7,6,5,4,3,2,1]\n",
    "B = sorted(A)                  # return new lost , doesn't modify originals\n",
    "\n",
    "print(x)\n",
    "print(B)\n",
    "\n",
    "# SC : O(n)\n",
    "# TC : O(nlogn)"
   ]
  },
  {
   "cell_type": "code",
   "execution_count": null,
   "id": "4cf9312d",
   "metadata": {},
   "outputs": [],
   "source": []
  },
  {
   "cell_type": "code",
   "execution_count": null,
   "id": "fd9b74da",
   "metadata": {},
   "outputs": [],
   "source": []
  },
  {
   "cell_type": "markdown",
   "id": "cc5b4ce0",
   "metadata": {},
   "source": [
    "# Q: give integer array A \"\n",
    "# find the minimum cost of removing all elements from array\n",
    "# cost of removing elements = sum of all the elements left in the array - before removing"
   ]
  },
  {
   "cell_type": "raw",
   "id": "a685dda8",
   "metadata": {},
   "source": [
    "A = [2,1,4]\n",
    "\n",
    "remove  : cost :  after removal\n",
    "    2     7        [1,4]\n",
    "    1     5        [4]\n",
    "    4     4        []\n",
    "    \n",
    "    total cost : 7 + 5 + 4 = 16 \n",
    "    \n",
    "remove  : cost :  after removal\n",
    "    4     7         [2,1]\n",
    "    2     3         [1]\n",
    "    1     1         [] \n",
    "    total cost : 7 + 3 + 1 = 11 \n",
    "\n",
    "\n",
    "diff ways we can remove elements \n",
    "\n",
    "2 1 4 : 7 + 5 + 4 = 16\n",
    "4 2 1 : 7 + 3 + 1 = 11     *****\n",
    "1 2 4 : 7 + 6 + 4 = 17\n",
    "1 4 2 : 7 + 6 + 2 = 15\n",
    "2 4 1   7 + 5 + 1 = 13\n",
    "4 1 2 : 7 + 3 + 2 = 12\n"
   ]
  },
  {
   "cell_type": "raw",
   "id": "0ffbab3c",
   "metadata": {},
   "source": [
    "{4, 6, 1}\n",
    "\n",
    "4 6 1  11+7+1     19\n",
    "4 1 6  11+7+6     24\n",
    "6 4 1  11+5+1     17    *****\n",
    "6 1 4  11+5+4     20\n",
    "1 6 4  11+10+4    25\n",
    "1 4 6  11+10+6    27\n"
   ]
  },
  {
   "cell_type": "raw",
   "id": "e547e970",
   "metadata": {},
   "source": [
    "{3, 5, 1, -3}\n",
    "\n",
    "3 5 1 -3   \n",
    " \n",
    "5 3 1 -3    6+1-2-3    2 "
   ]
  },
  {
   "cell_type": "markdown",
   "id": "17e9e331",
   "metadata": {},
   "source": [
    "###### brute force\n",
    "\n"
   ]
  },
  {
   "cell_type": "code",
   "execution_count": 1,
   "id": "06cb4f53",
   "metadata": {
    "scrolled": true
   },
   "outputs": [
    {
     "name": "stdout",
     "output_type": "stream",
     "text": [
      "[(2, 1, 4, 5), (2, 1, 5, 4), (2, 4, 1, 5), (2, 4, 5, 1), (2, 5, 1, 4), (2, 5, 4, 1), (1, 2, 4, 5), (1, 2, 5, 4), (1, 4, 2, 5), (1, 4, 5, 2), (1, 5, 2, 4), (1, 5, 4, 2), (4, 2, 1, 5), (4, 2, 5, 1), (4, 1, 2, 5), (4, 1, 5, 2), (4, 5, 2, 1), (4, 5, 1, 2), (5, 2, 1, 4), (5, 2, 4, 1), (5, 1, 2, 4), (5, 1, 4, 2), (5, 4, 2, 1), (5, 4, 1, 2)]\n",
      "[2, 1, 4, 5]\n",
      "sum 2\n",
      "sum 3\n",
      "sum 7\n",
      "sum 12\n",
      "24\n",
      "[2, 1, 5, 4]\n",
      "sum 2\n",
      "sum 3\n",
      "sum 8\n",
      "sum 12\n",
      "25\n",
      "[2, 4, 1, 5]\n",
      "sum 2\n",
      "sum 6\n",
      "sum 7\n",
      "sum 12\n",
      "27\n",
      "[2, 4, 5, 1]\n",
      "sum 2\n",
      "sum 6\n",
      "sum 11\n",
      "sum 12\n",
      "31\n",
      "[2, 5, 1, 4]\n",
      "sum 2\n",
      "sum 7\n",
      "sum 8\n",
      "sum 12\n",
      "29\n",
      "[2, 5, 4, 1]\n",
      "sum 2\n",
      "sum 7\n",
      "sum 11\n",
      "sum 12\n",
      "32\n",
      "[1, 2, 4, 5]\n",
      "sum 1\n",
      "sum 3\n",
      "sum 7\n",
      "sum 12\n",
      "23\n",
      "[1, 2, 5, 4]\n",
      "sum 1\n",
      "sum 3\n",
      "sum 8\n",
      "sum 12\n",
      "24\n",
      "[1, 4, 2, 5]\n",
      "sum 1\n",
      "sum 5\n",
      "sum 7\n",
      "sum 12\n",
      "25\n",
      "[1, 4, 5, 2]\n",
      "sum 1\n",
      "sum 5\n",
      "sum 10\n",
      "sum 12\n",
      "28\n",
      "[1, 5, 2, 4]\n",
      "sum 1\n",
      "sum 6\n",
      "sum 8\n",
      "sum 12\n",
      "27\n",
      "[1, 5, 4, 2]\n",
      "sum 1\n",
      "sum 6\n",
      "sum 10\n",
      "sum 12\n",
      "29\n",
      "[4, 2, 1, 5]\n",
      "sum 4\n",
      "sum 6\n",
      "sum 7\n",
      "sum 12\n",
      "29\n",
      "[4, 2, 5, 1]\n",
      "sum 4\n",
      "sum 6\n",
      "sum 11\n",
      "sum 12\n",
      "33\n",
      "[4, 1, 2, 5]\n",
      "sum 4\n",
      "sum 5\n",
      "sum 7\n",
      "sum 12\n",
      "28\n",
      "[4, 1, 5, 2]\n",
      "sum 4\n",
      "sum 5\n",
      "sum 10\n",
      "sum 12\n",
      "31\n",
      "[4, 5, 2, 1]\n",
      "sum 4\n",
      "sum 9\n",
      "sum 11\n",
      "sum 12\n",
      "36\n",
      "[4, 5, 1, 2]\n",
      "sum 4\n",
      "sum 9\n",
      "sum 10\n",
      "sum 12\n",
      "35\n",
      "[5, 2, 1, 4]\n",
      "sum 5\n",
      "sum 7\n",
      "sum 8\n",
      "sum 12\n",
      "32\n",
      "[5, 2, 4, 1]\n",
      "sum 5\n",
      "sum 7\n",
      "sum 11\n",
      "sum 12\n",
      "35\n",
      "[5, 1, 2, 4]\n",
      "sum 5\n",
      "sum 6\n",
      "sum 8\n",
      "sum 12\n",
      "31\n",
      "[5, 1, 4, 2]\n",
      "sum 5\n",
      "sum 6\n",
      "sum 10\n",
      "sum 12\n",
      "33\n",
      "[5, 4, 2, 1]\n",
      "sum 5\n",
      "sum 9\n",
      "sum 11\n",
      "sum 12\n",
      "37\n",
      "[5, 4, 1, 2]\n",
      "sum 5\n",
      "sum 9\n",
      "sum 10\n",
      "sum 12\n",
      "36\n",
      "\n",
      "23\n"
     ]
    }
   ],
   "source": [
    "from itertools import permutations\n",
    "\n",
    "A = [2,1,4,5]\n",
    "permutations_list = list(permutations(A))\n",
    "print(permutations_list)\n",
    "mincost = float('inf')\n",
    "\n",
    "for i in permutations_list:\n",
    "    total = 0\n",
    "    print(list(i))\n",
    "    summ = 0\n",
    "    for x in i:\n",
    "        summ = summ + x\n",
    "        print(\"sum\",summ)\n",
    "        total = total + summ\n",
    "    mincost = min(total,mincost)\n",
    "    print(total)\n",
    "print()\n",
    "print(mincost)"
   ]
  },
  {
   "cell_type": "code",
   "execution_count": 2,
   "id": "96fc5e4d",
   "metadata": {},
   "outputs": [
    {
     "name": "stdout",
     "output_type": "stream",
     "text": [
      "23\n"
     ]
    }
   ],
   "source": [
    "A = [2,1,4,5]\n",
    "permutations_list = list(permutations(A))\n",
    "mincost = float('inf')\n",
    "\n",
    "for i in permutations_list:\n",
    "    total = 0\n",
    "    summ = 0\n",
    "    for x in i:\n",
    "        summ = summ + x\n",
    "        total = total + summ\n",
    "    mincost = min(total,mincost)\n",
    "print(mincost)"
   ]
  },
  {
   "cell_type": "code",
   "execution_count": null,
   "id": "15cbd08c",
   "metadata": {},
   "outputs": [],
   "source": []
  },
  {
   "cell_type": "markdown",
   "id": "87130ea7",
   "metadata": {},
   "source": [
    "\n",
    "##### observations"
   ]
  },
  {
   "cell_type": "code",
   "execution_count": null,
   "id": "401e1ade",
   "metadata": {},
   "outputs": [],
   "source": [
    "# if we make observations ,\n",
    "# removing the largest element first , \n",
    "# gives the minmum answ"
   ]
  },
  {
   "cell_type": "raw",
   "id": "20a4c3f6",
   "metadata": {},
   "source": [
    "A = [a b c d] # sorted array in reverse order  and then ....  \n",
    "\n",
    "remove cost remaininh\n",
    "a   a+b+c+d  [b c d]\n",
    "b   b+c+d    [c d]\n",
    "c   c+d      [d]\n",
    "d   d        []\n",
    "\n",
    "total cost = a+b+c+d  +  b+c+d  +  c+d  +  d\n",
    "           = a + 2b + 3c + 4d\n",
    "           \n",
    "           # element removed last , has the heighest multiplication factor \n",
    "           # so if its smaller number , will minimise cost\n",
    "           # so we need to sort A in descending order\n",
    "           \n",
    "         \n",
    "        \n",
    "      TC:   O(nlogn)      \n",
    "      SC :  O(n)"
   ]
  },
  {
   "cell_type": "markdown",
   "id": "452a033d",
   "metadata": {},
   "source": [
    "###### optimal"
   ]
  },
  {
   "cell_type": "code",
   "execution_count": 10,
   "id": "4291a103",
   "metadata": {},
   "outputs": [
    {
     "name": "stdout",
     "output_type": "stream",
     "text": [
      "[5, 4, 2, 1]\n",
      "1 5 5\n",
      "2 4 8\n",
      "3 2 6\n",
      "4 1 4\n",
      "23\n"
     ]
    }
   ],
   "source": [
    "A = [2,1,4,5]\n",
    "B = sorted(A,reverse = True)\n",
    "print(B)\n",
    "total = 0\n",
    "x = 1\n",
    "for i in range(len(B)):\n",
    "    print(x,B[i], x*B[i])\n",
    "    total  += (x*B[i])\n",
    "    x += 1\n",
    "print(total)"
   ]
  },
  {
   "cell_type": "markdown",
   "id": "f58d26da",
   "metadata": {},
   "source": [
    "###### optimal using enumerate"
   ]
  },
  {
   "cell_type": "code",
   "execution_count": 60,
   "id": "60fc4afc",
   "metadata": {},
   "outputs": [
    {
     "name": "stdout",
     "output_type": "stream",
     "text": [
      "0 6\n",
      "1 4\n",
      "2 1\n",
      "\n",
      "ans :  17\n"
     ]
    }
   ],
   "source": [
    "A = [4,6,1]\n",
    "B = sorted(A,reverse = True)\n",
    "\n",
    "total = 0\n",
    "\n",
    "for i,x in enumerate(B):\n",
    "    print(i,x)\n",
    "    total  += (i+1)*x\n",
    "print()\n",
    "print(\"ans : \", total)"
   ]
  },
  {
   "cell_type": "code",
   "execution_count": 4,
   "id": "965ab136",
   "metadata": {},
   "outputs": [
    {
     "name": "stdout",
     "output_type": "stream",
     "text": [
      "\n",
      "ans :  17\n"
     ]
    }
   ],
   "source": [
    "A = [4,6,1]\n",
    "B = sorted(A,reverse = True)\n",
    "\n",
    "total_cost = 0\n",
    "\n",
    "for i,x in enumerate(B,start =1):\n",
    "    total_cost  += (i)*x\n",
    "print()\n",
    "print(\"ans : \", total_cost)"
   ]
  },
  {
   "cell_type": "code",
   "execution_count": null,
   "id": "cec7001b",
   "metadata": {},
   "outputs": [],
   "source": []
  },
  {
   "cell_type": "code",
   "execution_count": null,
   "id": "319206d3",
   "metadata": {},
   "outputs": [],
   "source": []
  },
  {
   "cell_type": "code",
   "execution_count": null,
   "id": "23d425c9",
   "metadata": {},
   "outputs": [],
   "source": []
  },
  {
   "cell_type": "code",
   "execution_count": null,
   "id": "f6d24cc6",
   "metadata": {},
   "outputs": [],
   "source": []
  },
  {
   "cell_type": "markdown",
   "id": "52979fe7",
   "metadata": {},
   "source": [
    "# Q: given N elements, count the no of nobel integers : \n",
    "# nobel integers : x is nobel if and only if \n",
    "# No of elements < x == x"
   ]
  },
  {
   "cell_type": "raw",
   "id": "2a793e92",
   "metadata": {},
   "source": [
    "A = 1 -5 3 5 5 -10 4\n",
    " #  2  1 3 5 5  0  4   # number of elements < x \n",
    "    \n",
    "         ^ ^ ^     ^ \n",
    "         above elements are nobel  and number of nobel elements = 4\n",
    "         \n",
    "A =  -3 0 2 5\n",
    "#    0  1 2 3\n",
    "          ^     ans = 1\n",
    "       \n",
    "  -10 -5 1 3 4 5 10\n",
    "#  0   1 2 3 4 5 6 \n",
    "           ^ ^ ^     ans = 3\n",
    "           \n",
    "     -10 1 1 3 100\n",
    " #    0  1 1 3  4     ans = 3\n",
    " \n",
    " "
   ]
  },
  {
   "cell_type": "code",
   "execution_count": 22,
   "id": "73f7e13c",
   "metadata": {},
   "outputs": [
    {
     "name": "stdout",
     "output_type": "stream",
     "text": [
      "3\n"
     ]
    }
   ],
   "source": [
    "# given each element count the items > it and check if it nobel \n",
    "##############                  #O(n**2),O(1)\n",
    "\n",
    "A = [-10,-1,1,2,4,4,4,8,10]\n",
    "\n",
    "n = len(A)\n",
    "nobel_count = 0\n",
    "for i in range(n):\n",
    "    less_numbers = 0\n",
    "    for j in range(n):\n",
    "        if A[j] < A[i]:\n",
    "            less_numbers += 1\n",
    "        \n",
    "   # print(A[i],less_numbers)\n",
    "    if A[i]==less_numbers:\n",
    "        nobel_count += 1\n",
    "#print()\n",
    "#print(nobel_count)\n",
    "\n",
    "if nobel_count == 0:\n",
    "    print(-1)\n",
    "else:\n",
    "    print(nobel_count)"
   ]
  },
  {
   "cell_type": "code",
   "execution_count": null,
   "id": "014d0bcb",
   "metadata": {},
   "outputs": [],
   "source": [
    "-10 1 1 3 100\n",
    "0   1 1 3   "
   ]
  },
  {
   "cell_type": "code",
   "execution_count": null,
   "id": "1fe73319",
   "metadata": {},
   "outputs": [],
   "source": [
    "'''\n",
    "negative numbers can never be nobel    ,as count can never  be negative\n",
    "\n",
    "\n",
    "'''"
   ]
  },
  {
   "cell_type": "code",
   "execution_count": 76,
   "id": "7a78dee6",
   "metadata": {},
   "outputs": [
    {
     "name": "stdout",
     "output_type": "stream",
     "text": [
      "3\n"
     ]
    }
   ],
   "source": [
    "'''\n",
    "in case of non duplicate values of array . ::\n",
    "\n",
    "if we sort in ascending : then index = number of elements < x\n",
    " index:   0  1  2 3 4 5 6\n",
    "  A =   [-10 -5 1 3 4 5 10]\n",
    "<x:       0  1  2 3 4 5 6 \n",
    "\n",
    "\n",
    " O(nlogn),O(n)\n",
    "'''\n",
    "\n",
    "\n",
    "A = [-10,-5,1,3,4,5,10]\n",
    "\n",
    "B = sorted(A)\n",
    "nobel_count = 0\n",
    "for i in range(len(B)):\n",
    "    if B[i]==i:\n",
    "        nobel_count += 1\n",
    "print(nobel_count)"
   ]
  },
  {
   "cell_type": "code",
   "execution_count": 3,
   "id": "3289fa69",
   "metadata": {},
   "outputs": [
    {
     "name": "stdout",
     "output_type": "stream",
     "text": [
      "3\n"
     ]
    }
   ],
   "source": [
    "A = [-10,-5,1,3,4,5,10]\n",
    "\n",
    "asc = sorted(A)\n",
    "nobel_count = 0\n",
    "\n",
    "for i,x in enumerate(asc):\n",
    "    if i == x:\n",
    "        nobel_count += 1\n",
    "print(nobel_count)\n"
   ]
  },
  {
   "cell_type": "code",
   "execution_count": null,
   "id": "276c4c7d",
   "metadata": {},
   "outputs": [],
   "source": []
  },
  {
   "cell_type": "code",
   "execution_count": 4,
   "id": "7c247afb",
   "metadata": {},
   "outputs": [
    {
     "data": {
      "text/plain": [
       "[-10, -2, 1, 3, 4, 5, 10]"
      ]
     },
     "execution_count": 4,
     "metadata": {},
     "output_type": "execute_result"
    }
   ],
   "source": [
    "A = [-10,-2,1,3,4,5,10]\n",
    "A.sort()\n",
    "A"
   ]
  },
  {
   "cell_type": "code",
   "execution_count": null,
   "id": "360cdc8c",
   "metadata": {},
   "outputs": [],
   "source": [
    "  0    1   2 3  4  5  6 "
   ]
  },
  {
   "cell_type": "markdown",
   "id": "8165a1c2",
   "metadata": {},
   "source": [
    "###### # now in case of duplicates:\n"
   ]
  },
  {
   "cell_type": "code",
   "execution_count": 6,
   "id": "d6c7b5b7",
   "metadata": {},
   "outputs": [
    {
     "name": "stdout",
     "output_type": "stream",
     "text": [
      "[-10, 1, 1, 2, 4, 4, 4, 8, 10]\n",
      "5\n"
     ]
    }
   ],
   "source": [
    "A = [-10,1,1,2,4,4,4,8,10]\n",
    "\n",
    "A.sort()\n",
    "print(A)\n",
    "\n",
    "nobel = 0\n",
    "\n",
    "prev_element  = None\n",
    "prev_index = None\n",
    "\n",
    "for i in range(len(A)):\n",
    "    \n",
    "    if A[i] == prev_element:\n",
    "        lesser_ele = prev_index\n",
    "    else:\n",
    "        lesser_ele = i\n",
    "        prev_element = A[i]\n",
    "        prev_index = i\n",
    "        \n",
    "        \n",
    "    if lesser_ele == A[i]:\n",
    "        nobel += 1\n",
    "print(nobel)"
   ]
  },
  {
   "cell_type": "code",
   "execution_count": 4,
   "id": "b63ea1c8",
   "metadata": {},
   "outputs": [
    {
     "name": "stdout",
     "output_type": "stream",
     "text": [
      "8\n"
     ]
    }
   ],
   "source": [
    "A = [-10,1,1,2,4,4,4,4,4,8,10]\n",
    "A = sorted(A)\n",
    "\n",
    "n = len(A)\n",
    "nobel  = 0\n",
    "lesser = 0\n",
    "for i in range(n):\n",
    "    if i > 0 and A[i] == A[i-1]:\n",
    "        nobel += 1\n",
    "        nobel -= 1  #  do not increase\n",
    "    else:\n",
    "        lesser = i  \n",
    "    if A[i] == lesser:\n",
    "        nobel += 1\n",
    "    \n",
    "print(nobel)"
   ]
  },
  {
   "cell_type": "code",
   "execution_count": 5,
   "id": "3f7ecf41",
   "metadata": {},
   "outputs": [
    {
     "data": {
      "text/plain": [
       "8"
      ]
     },
     "execution_count": 5,
     "metadata": {},
     "output_type": "execute_result"
    }
   ],
   "source": [
    "X = [-10,1,1,2,4,4,4,4,4,8,10]\n",
    "n = len(A)\n",
    "count = 0\n",
    "A =sorted(X)\n",
    "\n",
    "\n",
    "index  = None\n",
    "for i in range(1,n):\n",
    "    if i == A[i]:\n",
    "        count += 1\n",
    "        index = i\n",
    "    elif A[i-1] == A[i]:\n",
    "        if A[i] == index:\n",
    "            count += 1\n",
    "count\n",
    "        \n",
    "        \n",
    "    "
   ]
  },
  {
   "cell_type": "code",
   "execution_count": null,
   "id": "da768f9c",
   "metadata": {},
   "outputs": [],
   "source": []
  },
  {
   "cell_type": "code",
   "execution_count": null,
   "id": "a6a90225",
   "metadata": {},
   "outputs": [],
   "source": []
  },
  {
   "cell_type": "code",
   "execution_count": null,
   "id": "e94ae583",
   "metadata": {},
   "outputs": [],
   "source": []
  },
  {
   "cell_type": "code",
   "execution_count": null,
   "id": "5974af92",
   "metadata": {},
   "outputs": [],
   "source": []
  },
  {
   "cell_type": "code",
   "execution_count": null,
   "id": "73434834",
   "metadata": {},
   "outputs": [],
   "source": []
  },
  {
   "cell_type": "code",
   "execution_count": null,
   "id": "5596b10d",
   "metadata": {},
   "outputs": [],
   "source": []
  },
  {
   "cell_type": "code",
   "execution_count": null,
   "id": "826d1295",
   "metadata": {},
   "outputs": [],
   "source": []
  },
  {
   "cell_type": "markdown",
   "id": "5ad7cfa3",
   "metadata": {},
   "source": [
    "# Q!   largest Number : \n",
    "# given an array of non-negative integers , arrange them to for the largest number "
   ]
  },
  {
   "cell_type": "raw",
   "id": "cd6bcf91",
   "metadata": {},
   "source": [
    "A =   [ 1 , 2 , 5 , 98 ]\n",
    ">>  98521\n",
    "\n",
    "A =   [ 3, 30, 34, 5 ,9 ]\n",
    ">>  9534330\n",
    "\n",
    "\n"
   ]
  },
  {
   "cell_type": "markdown",
   "id": "ede39ec1",
   "metadata": {},
   "source": []
  },
  {
   "cell_type": "code",
   "execution_count": 9,
   "id": "dbbbb392",
   "metadata": {},
   "outputs": [
    {
     "name": "stdout",
     "output_type": "stream",
     "text": [
      "32222221201\n"
     ]
    }
   ],
   "source": [
    "from itertools import permutations\n",
    "\n",
    "X = [1 ,2,2,2,3,20,21,22]\n",
    "n = len(X)\n",
    "A = list(permutations(X))\n",
    "# print(A)\n",
    "largest = -float('inf')\n",
    "\n",
    "\n",
    "for i in range(len(A)):\n",
    "    ans = \"\"\n",
    "    for j in range(len(A[0])):\n",
    "        \n",
    "        STRING = str(A[i][j])\n",
    "        \n",
    "        ans = ans + STRING\n",
    "        #print(ans)\n",
    "        largest = max(largest,int(ans))\n",
    "print(largest)\n",
    "        "
   ]
  },
  {
   "cell_type": "code",
   "execution_count": null,
   "id": "f9f0e8a0",
   "metadata": {},
   "outputs": [],
   "source": [
    "32222221201"
   ]
  },
  {
   "cell_type": "code",
   "execution_count": 164,
   "id": "8507d7f1",
   "metadata": {},
   "outputs": [],
   "source": [
    "#  combinations : selections\n",
    "# permutations  : arrangements"
   ]
  },
  {
   "cell_type": "code",
   "execution_count": null,
   "id": "06373571",
   "metadata": {},
   "outputs": [],
   "source": [
    "3 22 2 2 2 21 20 1 "
   ]
  },
  {
   "cell_type": "code",
   "execution_count": null,
   "id": "cdb40898",
   "metadata": {},
   "outputs": [],
   "source": []
  },
  {
   "cell_type": "markdown",
   "id": "e0e16cd7",
   "metadata": {},
   "source": [
    "##### before above problems optimal solution : \n",
    "\n",
    "# comparators : \n",
    "\n",
    "## custom sorting (sorting by different properties )"
   ]
  },
  {
   "cell_type": "raw",
   "id": "1a616ca0",
   "metadata": {},
   "source": [
    "## custom sorting \n",
    "\n",
    "sorting by attributes  :\n",
    "we will supply our own function as a key to the sorting function \n",
    "\n",
    "\n",
    "\n",
    "\n",
    "\n",
    "\n"
   ]
  },
  {
   "cell_type": "code",
   "execution_count": 75,
   "id": "00e8e02f",
   "metadata": {},
   "outputs": [
    {
     "name": "stdout",
     "output_type": "stream",
     "text": [
      "[3, 4, 5, -5, 6, -10, 10, -44]\n"
     ]
    }
   ],
   "source": [
    "# return sorting array by abs values \n",
    "\n",
    "nums = [-10,3,5,6,10,4,-5,-44]\n",
    "\n",
    "from functools import cmp_to_key\n",
    "\n",
    "def compare_abs(a,b):\n",
    "    if abs(a) < abs(b):\n",
    "        return -1\n",
    "    elif abs(a) == abs(b):\n",
    "        return 0\n",
    "    else:\n",
    "        return 1\n",
    "    \n",
    "absorted = sorted( nums , key = cmp_to_key(compare_abs) )\n",
    "\n",
    "print(absorted)"
   ]
  },
  {
   "cell_type": "code",
   "execution_count": null,
   "id": "4ad356a1",
   "metadata": {},
   "outputs": [],
   "source": []
  },
  {
   "cell_type": "code",
   "execution_count": 16,
   "id": "9edb2cf6",
   "metadata": {},
   "outputs": [
    {
     "name": "stdout",
     "output_type": "stream",
     "text": [
      "[3, 4, 5, -5, 6, -10, 10, -44]\n"
     ]
    }
   ],
   "source": [
    "nums = [-10,3,5,6,10,4,-5,-44]\n",
    "absorted = sorted( nums , key = abs)\n",
    "print(absorted)"
   ]
  },
  {
   "cell_type": "code",
   "execution_count": null,
   "id": "33b91256",
   "metadata": {},
   "outputs": [],
   "source": []
  },
  {
   "cell_type": "code",
   "execution_count": 12,
   "id": "1aeb4af6",
   "metadata": {},
   "outputs": [
    {
     "name": "stdout",
     "output_type": "stream",
     "text": [
      "['a', 'aa', 'bab', 'aaaa', 'aaaa', 'bbaabb', 'aaasaaaa', 'aaaaaaaaa']\n"
     ]
    }
   ],
   "source": [
    "# return string array after sorting by length of each strings\n",
    "\n",
    "strings = ['aaaa','aa','a','aaaaaaaaa','aaaa','bbaabb','aaasaaaa','bab']\n",
    "\n",
    "\n",
    "    \n",
    "absorted = sorted( strings , key = len )\n",
    "\n",
    "print(absorted)"
   ]
  },
  {
   "cell_type": "code",
   "execution_count": null,
   "id": "e154568c",
   "metadata": {},
   "outputs": [],
   "source": []
  },
  {
   "cell_type": "code",
   "execution_count": null,
   "id": "80886f10",
   "metadata": {},
   "outputs": [],
   "source": []
  },
  {
   "cell_type": "code",
   "execution_count": 182,
   "id": "f689a3a9",
   "metadata": {},
   "outputs": [
    {
     "name": "stdout",
     "output_type": "stream",
     "text": [
      "original strings:\n",
      " ['apple', 'boy', 'do', 'sunny', 'bay', 'god', 'elephant', 'scaler', 'interviewbit ']\n",
      "\n",
      "sorted lexicographically: \n",
      " ['apple', 'bay', 'boy', 'do', 'elephant', 'god', 'interviewbit ', 'scaler', 'sunny']\n",
      "\n",
      "sorted by length of string :\n",
      "  ['do', 'boy', 'bay', 'god', 'apple', 'sunny', 'scaler', 'elephant', 'interviewbit ']\n"
     ]
    }
   ],
   "source": [
    "\n",
    "strings = ['apple','boy','do','sunny','bay','god','elephant','scaler','interviewbit ']\n",
    "print(\"original strings:\\n\",strings)\n",
    "print()\n",
    "lex = sorted(strings)\n",
    "print(\"sorted lexicographically: \\n\",lex)\n",
    "print()\n",
    "absorted = sorted( strings , key = len )\n",
    "print(\"sorted by length of string :\\n \",absorted)"
   ]
  },
  {
   "cell_type": "code",
   "execution_count": null,
   "id": "5a7f6c44",
   "metadata": {},
   "outputs": [],
   "source": []
  },
  {
   "cell_type": "code",
   "execution_count": 13,
   "id": "18e2841b",
   "metadata": {},
   "outputs": [
    {
     "name": "stdout",
     "output_type": "stream",
     "text": [
      "['do', 'god', 'bay', 'boy', 'apple', 'sunny', 'scaler', 'elephant', 'interviewbit ']\n",
      "do     211\n",
      "god     314\n",
      "bay     316\n",
      "boy     330\n",
      "apple     530\n",
      "sunny     573\n",
      "scaler     634\n",
      "elephant     849\n",
      "interviewbit      1340\n"
     ]
    }
   ],
   "source": [
    "strings = ['apple','boy','do','sunny','bay',\n",
    "           'god','elephant','scaler','interviewbit ']\n",
    "\n",
    "def value_strings(s):\n",
    "    total = 0\n",
    "    for i in s:\n",
    "        total += ord(i)\n",
    "    return total\n",
    "\n",
    "x = sorted(strings, key = value_strings)\n",
    "print(x)\n",
    "\n",
    "\n",
    "for i in x:\n",
    "    print(i,\"   \",value_strings(i))"
   ]
  },
  {
   "cell_type": "code",
   "execution_count": null,
   "id": "1aca1616",
   "metadata": {},
   "outputs": [],
   "source": []
  },
  {
   "cell_type": "code",
   "execution_count": null,
   "id": "7f9da6b3",
   "metadata": {},
   "outputs": [],
   "source": []
  },
  {
   "cell_type": "code",
   "execution_count": 72,
   "id": "1af849b2",
   "metadata": {},
   "outputs": [
    {
     "data": {
      "text/plain": [
       "778"
      ]
     },
     "execution_count": 72,
     "metadata": {},
     "output_type": "execute_result"
    }
   ],
   "source": [
    "def value_strings(s):\n",
    "    total = 0\n",
    "    for i in s:\n",
    "        total += ord(i)\n",
    "    return total\n",
    "value_strings('strings')"
   ]
  },
  {
   "cell_type": "code",
   "execution_count": null,
   "id": "8ae69a3a",
   "metadata": {},
   "outputs": [],
   "source": [
    "# same thing below"
   ]
  },
  {
   "cell_type": "code",
   "execution_count": 73,
   "id": "a36a43d6",
   "metadata": {},
   "outputs": [
    {
     "name": "stdout",
     "output_type": "stream",
     "text": [
      "['do', 'god', 'bay', 'boy', 'apple', 'sunny', 'scaler', 'elephant', 'interviewbit ']\n"
     ]
    }
   ],
   "source": [
    "def val_string(s):\n",
    "    return sum(map(ord,s))\n",
    "\n",
    "s = ['apple','boy','do','sunny','bay',\n",
    "           'god','elephant','scaler','interviewbit ']\n",
    "\n",
    "sortedS = sorted(s,key = val_string)\n",
    "print(sortedS)"
   ]
  },
  {
   "cell_type": "code",
   "execution_count": null,
   "id": "02fc749d",
   "metadata": {},
   "outputs": [],
   "source": []
  },
  {
   "cell_type": "code",
   "execution_count": null,
   "id": "2b0ab0b7",
   "metadata": {},
   "outputs": [],
   "source": []
  },
  {
   "cell_type": "code",
   "execution_count": null,
   "id": "cf54f7b5",
   "metadata": {},
   "outputs": [],
   "source": []
  },
  {
   "cell_type": "code",
   "execution_count": null,
   "id": "8c8e67a2",
   "metadata": {},
   "outputs": [],
   "source": []
  },
  {
   "cell_type": "code",
   "execution_count": 10,
   "id": "892aa044",
   "metadata": {},
   "outputs": [],
   "source": [
    "def factor_count(N):\n",
    "    i = 1\n",
    "    count = 0\n",
    "    while i <= N:\n",
    "        if N % i == 0:\n",
    "            count += 1\n",
    "            print(i,end = \" \")\n",
    "        i = i+1\n",
    "    return count\n"
   ]
  },
  {
   "cell_type": "code",
   "execution_count": 12,
   "id": "26094af8",
   "metadata": {},
   "outputs": [
    {
     "name": "stdout",
     "output_type": "stream",
     "text": [
      "1 2 4 8 19 38 76 152 "
     ]
    },
    {
     "data": {
      "text/plain": [
       "8"
      ]
     },
     "execution_count": 12,
     "metadata": {},
     "output_type": "execute_result"
    }
   ],
   "source": [
    "factor_count(152)"
   ]
  },
  {
   "cell_type": "code",
   "execution_count": 32,
   "id": "a47c7860",
   "metadata": {},
   "outputs": [],
   "source": [
    "def factor_count(N):\n",
    "    i = 1\n",
    "    count = 0\n",
    "    while i*i <= N:\n",
    "        if N % i == 0:\n",
    "            if i*i == N:\n",
    "                count += 1\n",
    "            else:\n",
    "                count += 2\n",
    "        i = i+1\n",
    "        \n",
    "    return count"
   ]
  },
  {
   "cell_type": "code",
   "execution_count": 33,
   "id": "175a5201",
   "metadata": {},
   "outputs": [
    {
     "data": {
      "text/plain": [
       "16"
      ]
     },
     "execution_count": 33,
     "metadata": {},
     "output_type": "execute_result"
    }
   ],
   "source": [
    "factor_count(1000)"
   ]
  },
  {
   "cell_type": "markdown",
   "id": "953eb5af",
   "metadata": {},
   "source": [
    "### there are cases in which keys are impossible \n",
    "#### for ex. sort / compare a group of chess players \n",
    "\n",
    "### keys are more intuitive  (like, sort by age, len)\n",
    "\n",
    "### keys are efficient with respect to time , but inefficient wrt space"
   ]
  },
  {
   "cell_type": "markdown",
   "id": "8d1c394f",
   "metadata": {},
   "source": []
  },
  {
   "cell_type": "markdown",
   "id": "08227ab6",
   "metadata": {},
   "source": [
    "### Q : sort integers of an array by number of factors they have"
   ]
  },
  {
   "cell_type": "code",
   "execution_count": 29,
   "id": "a0949ddb",
   "metadata": {},
   "outputs": [
    {
     "name": "stdout",
     "output_type": "stream",
     "text": [
      "[1, 2, 5, 10, 15, 6, 16]\n"
     ]
    }
   ],
   "source": [
    "items = [1, 2, 5, 10, 15, 16, 6]\n",
    "from functools import cmp_to_key\n",
    "def factor_count(N):\n",
    "    i = 1\n",
    "    count = 0\n",
    "    while i*i <= N:\n",
    "        if N % i == 0:\n",
    "            if i*i == N:\n",
    "                count += 1\n",
    "            else:\n",
    "                count += 2\n",
    "        i = i+1\n",
    "    return count\n",
    "\n",
    "\n",
    "\n",
    "def compare_by_factors(a,b):\n",
    "    a_count = factor_count(a)\n",
    "    b_count = factor_count(b)\n",
    "    \n",
    "    if a_count < b_count:\n",
    "        return -1\n",
    "    elif a_count == b_count:\n",
    "        return 0\n",
    "    else:\n",
    "        return 1\n",
    "    \n",
    "sortedlist = sorted(items,key = cmp_to_key(compare_by_factors))\n",
    "print(sortedlist)\n",
    "    "
   ]
  },
  {
   "cell_type": "code",
   "execution_count": 27,
   "id": "42e34c85",
   "metadata": {},
   "outputs": [
    {
     "data": {
      "text/plain": [
       "[1, 2, 5, 10, 15, 6, 16]"
      ]
     },
     "execution_count": 27,
     "metadata": {},
     "output_type": "execute_result"
    }
   ],
   "source": [
    "sorted(items, key = factor_count)"
   ]
  },
  {
   "cell_type": "code",
   "execution_count": 31,
   "id": "3091cf9d",
   "metadata": {},
   "outputs": [
    {
     "data": {
      "text/plain": [
       "[1, 2, 5, 10, 15, 6, 16]"
      ]
     },
     "execution_count": 31,
     "metadata": {},
     "output_type": "execute_result"
    }
   ],
   "source": [
    "sorted(items, key = factor_count)"
   ]
  },
  {
   "cell_type": "code",
   "execution_count": 23,
   "id": "8cb9d5e5",
   "metadata": {},
   "outputs": [
    {
     "name": "stdout",
     "output_type": "stream",
     "text": [
      "[0, 1, 2, 3, 5, 7, 11, 13, 17, 19, 4, 9, 6, 8, 10, 14, 15, 16, 12, 18]\n"
     ]
    }
   ],
   "source": [
    "X = list(range(20))\n",
    "print(sorted(X, key = factor_count))"
   ]
  },
  {
   "cell_type": "code",
   "execution_count": null,
   "id": "eed6b470",
   "metadata": {},
   "outputs": [],
   "source": []
  },
  {
   "cell_type": "markdown",
   "id": "370f42fd",
   "metadata": {},
   "source": [
    "### Q : sort integers of an array by number of factors they have  (descending)"
   ]
  },
  {
   "cell_type": "raw",
   "id": "477ba735",
   "metadata": {},
   "source": [
    "3 ways to set it in descending order : \n",
    "\n",
    "\n",
    "key = factor to \n",
    "key = -factor \n",
    "\n",
    "\n",
    "comp = -1 >      1 <\n",
    "        0 ==     0 == \n",
    "         1 <      1  >  \n",
    "         \n",
    "sorted(items, key= factor_count, reverse = True)"
   ]
  },
  {
   "cell_type": "code",
   "execution_count": 459,
   "id": "49d18287",
   "metadata": {},
   "outputs": [
    {
     "name": "stdout",
     "output_type": "stream",
     "text": [
      "[16, 10, 15, 6, 2, 5, 1]\n"
     ]
    }
   ],
   "source": [
    "items = [1, 2, 5, 10, 15, 16, 6]\n",
    "\n",
    "def factor_count(N):\n",
    "    i = 1\n",
    "    count = 0\n",
    "    while i*i <= N:\n",
    "        if N % i == 0:\n",
    "            if i*i == N:\n",
    "                count += 1\n",
    "            else:\n",
    "                count += 2 \n",
    "        i = i+1\n",
    "    return count\n",
    "\n",
    "def compare_by_factors(a,b):\n",
    "    a_count = factor_count(a)\n",
    "    b_count = factor_count(b)\n",
    "    \n",
    "    if a_count < b_count:\n",
    "        return 1\n",
    "    elif a_count == b_count:\n",
    "        return 0\n",
    "    else:\n",
    "        return -1\n",
    "    \n",
    "sortedlist = sorted(items,key = cmp_to_key(compare_by_factors))\n",
    "print(sortedlist)\n",
    "    \n"
   ]
  },
  {
   "cell_type": "code",
   "execution_count": 460,
   "id": "ede9996b",
   "metadata": {},
   "outputs": [
    {
     "data": {
      "text/plain": [
       "[16, 10, 15, 6, 2, 5, 1]"
      ]
     },
     "execution_count": 460,
     "metadata": {},
     "output_type": "execute_result"
    }
   ],
   "source": [
    "sorted(items, key= factor_count, reverse = True)"
   ]
  },
  {
   "cell_type": "code",
   "execution_count": null,
   "id": "69957cc9",
   "metadata": {},
   "outputs": [],
   "source": []
  },
  {
   "cell_type": "code",
   "execution_count": null,
   "id": "f35eadb5",
   "metadata": {},
   "outputs": [],
   "source": []
  },
  {
   "cell_type": "markdown",
   "id": "93fa5f11",
   "metadata": {},
   "source": [
    "### Q : sort integers of an array by number of factors they have  (descending)\n",
    "\n",
    "### if the number of factors are equal , then sort by value in ascending order , then sort by factor counts\n",
    "\n"
   ]
  },
  {
   "cell_type": "raw",
   "id": "096efd12",
   "metadata": {},
   "source": [
    "1 2 5 10 15 16 6\n",
    "1 2 2  4  4  5 4   factor count\n",
    "\n",
    "16 10 15 6 2 5 1\n",
    "5   4  4 4 2 2 1   sorted by factor count\n",
    "\n",
    "\n",
    "16 6 10 15 2 5 1\n",
    "5  4  4  4 2 2 1   sorted by factor count , if factor counts are equal , \n",
    "                    then sorted by the values itself in ascending order\n",
    "\n",
    "\n",
    "1 : way1 : exploit stability\n",
    "\n",
    "sort by A ------> then sort by B \n",
    "sort in reverse order : first sort by value then by factor count in desc.\n",
    "result = sorted(items)\n",
    "result = sorted(result, key = factor_counts, reverse = True)\n",
    "\n",
    "\n",
    "2 : way2 : tweak comparator\n",
    "def compare_by_factors(a,b):\n",
    "    a_count = factor_count(a)\n",
    "    b_count = factor_count(b)\n",
    "    \n",
    "    if a_count < b_count:\n",
    "        return 1\n",
    "    elif a_count > b_count:\n",
    "        return -1\n",
    "    else:\n",
    "        if a < b:\n",
    "            return -1\n",
    "        elif a > b: \n",
    "            return 1\n",
    "        elif a == b: \n",
    "            return 0\n",
    "            \n",
    "3: way3 : create a tupple \n",
    "def score(n):\n",
    "    return (-factor_count(n),n)"
   ]
  },
  {
   "cell_type": "code",
   "execution_count": null,
   "id": "dc2dfdf7",
   "metadata": {},
   "outputs": [],
   "source": [
    "# WAY 1 EXPLOIT STABILITY"
   ]
  },
  {
   "cell_type": "code",
   "execution_count": 458,
   "id": "6fc4fdb8",
   "metadata": {},
   "outputs": [
    {
     "name": "stdout",
     "output_type": "stream",
     "text": [
      "[12, 18, 16, 6, 8, 10, 14, 15, 4, 9, 2, 3, 5, 7, 11, 13, 17, 19, 1, 0]\n"
     ]
    }
   ],
   "source": [
    "def factor_count(N):\n",
    "    i = 1\n",
    "    count = 0\n",
    "    while i*i <= N:\n",
    "        if N % i == 0:\n",
    "            if i*i == N:\n",
    "                count += 1\n",
    "            else:\n",
    "                count += 2\n",
    "        i = i+1\n",
    "    return count\n",
    "\n",
    "items = list(range(20))\n",
    "result = sorted(items)\n",
    "result = sorted(result, key = factor_count, reverse = True)\n",
    "print(result)"
   ]
  },
  {
   "cell_type": "code",
   "execution_count": null,
   "id": "db144bca",
   "metadata": {},
   "outputs": [],
   "source": []
  },
  {
   "cell_type": "code",
   "execution_count": null,
   "id": "7a61cd3f",
   "metadata": {},
   "outputs": [],
   "source": []
  },
  {
   "cell_type": "code",
   "execution_count": null,
   "id": "5a4d313f",
   "metadata": {},
   "outputs": [],
   "source": [
    "# WAY 2 TWEAK COMPARATOR "
   ]
  },
  {
   "cell_type": "code",
   "execution_count": 470,
   "id": "64d05924",
   "metadata": {},
   "outputs": [
    {
     "name": "stdout",
     "output_type": "stream",
     "text": [
      "[12, 18, 16, 6, 8, 10, 14, 15, 4, 9, 2, 3, 5, 7, 11, 13, 17, 19, 1, 0]\n"
     ]
    }
   ],
   "source": [
    "def factor_count(N):\n",
    "    i = 1\n",
    "    count = 0\n",
    "    while i*i <= N:\n",
    "        if N % i == 0:\n",
    "            if i*i == N:\n",
    "                count += 1\n",
    "            else:\n",
    "                count += 2\n",
    "        i = i+1\n",
    "    return count\n",
    "\n",
    "def compare_by_factors(a,b):\n",
    "    a_count = factor_count(a)\n",
    "    b_count = factor_count(b)\n",
    "    \n",
    "    if a_count < b_count:\n",
    "        return 1\n",
    "    elif a_count > b_count:\n",
    "        return -1\n",
    "    else:\n",
    "        if a < b:\n",
    "            return -1\n",
    "        elif a == b: \n",
    "            return 0\n",
    "        else: \n",
    "            return 1\n",
    "\n",
    "X = list(range(20))\n",
    "print(sorted(X, key = cmp_to_key(compare_by_factors)))"
   ]
  },
  {
   "cell_type": "code",
   "execution_count": 472,
   "id": "3f033ee2",
   "metadata": {},
   "outputs": [],
   "source": [
    "#6   6   6   4  4  4   4  4   4   4   2   2 2  2  2  2   2   2   2   0"
   ]
  },
  {
   "cell_type": "code",
   "execution_count": null,
   "id": "87c1820d",
   "metadata": {},
   "outputs": [],
   "source": []
  },
  {
   "cell_type": "code",
   "execution_count": null,
   "id": "cd7d37f7",
   "metadata": {},
   "outputs": [],
   "source": [
    "# WAY 3 : USE TUPPLE COMPARAISION"
   ]
  },
  {
   "cell_type": "code",
   "execution_count": 88,
   "id": "4ee09400",
   "metadata": {},
   "outputs": [
    {
     "name": "stdout",
     "output_type": "stream",
     "text": [
      "[12, 18, 16, 6, 8, 10, 14, 15, 4, 9, 2, 3, 5, 7, 11, 13, 17, 19, 1, 0]\n"
     ]
    }
   ],
   "source": [
    "X = list(range(20))\n",
    "\n",
    "\n",
    "def custom_key(n):\n",
    "    return (-factor_count(n),n)\n",
    "print(sorted(X,key = custom_key))"
   ]
  },
  {
   "cell_type": "code",
   "execution_count": 89,
   "id": "d37e9c94",
   "metadata": {},
   "outputs": [
    {
     "data": {
      "text/plain": [
       "[0, 1, 2, 3, 4, 5, 6, 7, 8, 9, 10, 11, 12, 13, 14, 15, 16, 17, 18, 19]"
      ]
     },
     "execution_count": 89,
     "metadata": {},
     "output_type": "execute_result"
    }
   ],
   "source": [
    "X"
   ]
  },
  {
   "cell_type": "code",
   "execution_count": 92,
   "id": "969118b6",
   "metadata": {},
   "outputs": [
    {
     "data": {
      "text/plain": [
       "(-16, 1000)"
      ]
     },
     "execution_count": 92,
     "metadata": {},
     "output_type": "execute_result"
    }
   ],
   "source": [
    "custom_key(1000)"
   ]
  },
  {
   "cell_type": "code",
   "execution_count": 489,
   "id": "4d08dada",
   "metadata": {},
   "outputs": [
    {
     "data": {
      "text/plain": [
       "(-2, 19)"
      ]
     },
     "execution_count": 489,
     "metadata": {},
     "output_type": "execute_result"
    }
   ],
   "source": [
    "custom_key(19) "
   ]
  },
  {
   "cell_type": "code",
   "execution_count": 490,
   "id": "1a4a7d6b",
   "metadata": {},
   "outputs": [
    {
     "data": {
      "text/plain": [
       "(-6, 18)"
      ]
     },
     "execution_count": 490,
     "metadata": {},
     "output_type": "execute_result"
    }
   ],
   "source": [
    "custom_key(18)"
   ]
  },
  {
   "cell_type": "code",
   "execution_count": null,
   "id": "37be7ea3",
   "metadata": {},
   "outputs": [],
   "source": []
  },
  {
   "cell_type": "code",
   "execution_count": 486,
   "id": "48c14242",
   "metadata": {},
   "outputs": [
    {
     "data": {
      "text/plain": [
       "False"
      ]
     },
     "execution_count": 486,
     "metadata": {},
     "output_type": "execute_result"
    }
   ],
   "source": [
    "custom_key(10) > custom_key(11)"
   ]
  },
  {
   "cell_type": "code",
   "execution_count": 96,
   "id": "23b9713e",
   "metadata": {},
   "outputs": [
    {
     "name": "stdout",
     "output_type": "stream",
     "text": [
      "False\n",
      "(-2, 17) (-2, 23)\n"
     ]
    }
   ],
   "source": [
    "print(custom_key(17) > custom_key(23))\n",
    "print(custom_key(17) ,custom_key(23))"
   ]
  },
  {
   "cell_type": "code",
   "execution_count": 480,
   "id": "f3b199a6",
   "metadata": {},
   "outputs": [
    {
     "name": "stdout",
     "output_type": "stream",
     "text": [
      "True\n",
      "(-3, 4) (-4, 8)\n"
     ]
    }
   ],
   "source": [
    "print(custom_key(4) > custom_key(8))\n",
    "print(custom_key(4) ,custom_key(8))"
   ]
  },
  {
   "cell_type": "code",
   "execution_count": null,
   "id": "d3f2c94b",
   "metadata": {},
   "outputs": [],
   "source": []
  },
  {
   "cell_type": "code",
   "execution_count": 491,
   "id": "b9c9b259",
   "metadata": {},
   "outputs": [
    {
     "data": {
      "text/plain": [
       "True"
      ]
     },
     "execution_count": 491,
     "metadata": {},
     "output_type": "execute_result"
    }
   ],
   "source": [
    "(1,2) < (1,3)  # element by element comparision "
   ]
  },
  {
   "cell_type": "code",
   "execution_count": 494,
   "id": "c49eafb0",
   "metadata": {},
   "outputs": [
    {
     "data": {
      "text/plain": [
       "False"
      ]
     },
     "execution_count": 494,
     "metadata": {},
     "output_type": "execute_result"
    }
   ],
   "source": [
    "(1,2) > (2,1)"
   ]
  },
  {
   "cell_type": "code",
   "execution_count": null,
   "id": "bf80d0b1",
   "metadata": {},
   "outputs": [],
   "source": []
  },
  {
   "cell_type": "code",
   "execution_count": 2,
   "id": "6cf06a1a",
   "metadata": {},
   "outputs": [],
   "source": [
    "from functools import cmp_to_key"
   ]
  },
  {
   "cell_type": "markdown",
   "id": "1b09523b",
   "metadata": {},
   "source": [
    "# back to the problem \n",
    "\n",
    "\n",
    "\n",
    "# Q! largest Number :\n",
    "### given an array of non-negative integers , arrange them to for the largest number\n"
   ]
  },
  {
   "cell_type": "raw",
   "id": "8e09c1c0",
   "metadata": {},
   "source": [
    "# google , amazon , Goldman sachs \n"
   ]
  },
  {
   "cell_type": "code",
   "execution_count": 8,
   "id": "0b6751eb",
   "metadata": {},
   "outputs": [
    {
     "name": "stdout",
     "output_type": "stream",
     "text": [
      "99958575436245\n"
     ]
    }
   ],
   "source": [
    "from functools import cmp_to_key\n",
    "A = [85,75,99,4,95,245,36]\n",
    "\n",
    "def comparefunction(a,b):\n",
    "    x = int(str(a)+str(b))\n",
    "    y = int(str(b)+str(a))\n",
    "    \n",
    "    if x < y:\n",
    "        return 1\n",
    "    elif x == y:\n",
    "        return 0\n",
    "    else:\n",
    "        return -1\n",
    "\n",
    "AA = sorted(A,key = cmp_to_key(comparefunction))\n",
    "\n",
    "ans = \"\"\n",
    "\n",
    "for i in AA:\n",
    "    ans = ans+str(i)\n",
    "print(ans)"
   ]
  },
  {
   "cell_type": "code",
   "execution_count": null,
   "id": "a02c5e1d",
   "metadata": {},
   "outputs": [],
   "source": []
  },
  {
   "cell_type": "markdown",
   "id": "81ed1218",
   "metadata": {},
   "source": [
    "# COMPARATOR TAKE TWO VALUES AND RETURN -1,0,1\n",
    "\n",
    "# KEY() RETURN SCORING VALUE AND SORT FUCTION WILL COMPARE TAND SORT IT"
   ]
  },
  {
   "cell_type": "code",
   "execution_count": null,
   "id": "266aaa79",
   "metadata": {},
   "outputs": [],
   "source": []
  },
  {
   "cell_type": "code",
   "execution_count": null,
   "id": "1742ceb3",
   "metadata": {},
   "outputs": [],
   "source": []
  },
  {
   "cell_type": "code",
   "execution_count": null,
   "id": "b90b3b9b",
   "metadata": {},
   "outputs": [],
   "source": []
  },
  {
   "cell_type": "code",
   "execution_count": null,
   "id": "122a872c",
   "metadata": {},
   "outputs": [],
   "source": []
  },
  {
   "cell_type": "code",
   "execution_count": null,
   "id": "94432a22",
   "metadata": {},
   "outputs": [],
   "source": []
  },
  {
   "cell_type": "code",
   "execution_count": null,
   "id": "2e981b7e",
   "metadata": {},
   "outputs": [],
   "source": []
  },
  {
   "cell_type": "code",
   "execution_count": null,
   "id": "76eacc98",
   "metadata": {},
   "outputs": [],
   "source": []
  },
  {
   "cell_type": "code",
   "execution_count": null,
   "id": "2d39a9b9",
   "metadata": {},
   "outputs": [],
   "source": []
  },
  {
   "cell_type": "code",
   "execution_count": null,
   "id": "c803ab89",
   "metadata": {},
   "outputs": [],
   "source": []
  },
  {
   "cell_type": "code",
   "execution_count": null,
   "id": "46d0459a",
   "metadata": {},
   "outputs": [],
   "source": []
  },
  {
   "cell_type": "markdown",
   "id": "2ec18ead",
   "metadata": {},
   "source": [
    "# different prblem , different solu\n",
    "\n",
    "# if the given array , if we can break elements , \n",
    "generate largest number \n",
    "\n",
    "7 ,98 ,542 ,6369 ,857 ,74 ,2 ,5\n",
    "\n",
    "9988777665554432"
   ]
  },
  {
   "cell_type": "code",
   "execution_count": 33,
   "id": "dd0645d5",
   "metadata": {},
   "outputs": [],
   "source": [
    "A =   [7 ,98 ,542 ,6369 ,857 ,74 ,2 ,5]\n",
    "x = []"
   ]
  },
  {
   "cell_type": "code",
   "execution_count": 34,
   "id": "7e275680",
   "metadata": {},
   "outputs": [],
   "source": [
    "AA = sorted(A)"
   ]
  },
  {
   "cell_type": "code",
   "execution_count": 35,
   "id": "18ca75ba",
   "metadata": {},
   "outputs": [
    {
     "data": {
      "text/plain": [
       "[2, 5, 7, 74, 98, 542, 857, 6369]"
      ]
     },
     "execution_count": 35,
     "metadata": {},
     "output_type": "execute_result"
    }
   ],
   "source": [
    "AA"
   ]
  },
  {
   "cell_type": "code",
   "execution_count": 36,
   "id": "f09654e9",
   "metadata": {},
   "outputs": [],
   "source": [
    "for i in range(len(AA)):\n",
    "    AA[i] = str(AA[i])\n",
    "    "
   ]
  },
  {
   "cell_type": "code",
   "execution_count": 37,
   "id": "feaa8f79",
   "metadata": {},
   "outputs": [
    {
     "data": {
      "text/plain": [
       "['2', '5', '7', '74', '98', '542', '857', '6369']"
      ]
     },
     "execution_count": 37,
     "metadata": {},
     "output_type": "execute_result"
    }
   ],
   "source": [
    "AA"
   ]
  },
  {
   "cell_type": "code",
   "execution_count": 38,
   "id": "f8d5c320",
   "metadata": {},
   "outputs": [
    {
     "name": "stdout",
     "output_type": "stream",
     "text": [
      "[['2'], ['5'], ['7'], ['7'], ['4'], ['9'], ['8'], ['5'], ['4'], ['2'], ['8'], ['5'], ['7'], ['6'], ['3'], ['6'], ['9']]\n"
     ]
    }
   ],
   "source": [
    "for i in range(len(AA)):\n",
    "    for j in range(len(AA[i])):\n",
    "        x.append(AA[i][j].split())\n",
    "print(x)"
   ]
  },
  {
   "cell_type": "code",
   "execution_count": 315,
   "id": "f8a84ce3",
   "metadata": {},
   "outputs": [],
   "source": [
    "x.sort(reverse=True)"
   ]
  },
  {
   "cell_type": "code",
   "execution_count": 316,
   "id": "0c6573f4",
   "metadata": {},
   "outputs": [
    {
     "name": "stdout",
     "output_type": "stream",
     "text": [
      "99887776655544322\n"
     ]
    }
   ],
   "source": [
    "n = len(x)\n",
    "m = len(x[0])\n",
    "aaaa = \"\"\n",
    "for i in range(n):\n",
    "    for j in range(m):\n",
    "        aaaa += x[i][j]\n",
    "print(aaaa)"
   ]
  },
  {
   "cell_type": "code",
   "execution_count": 317,
   "id": "d33730ca",
   "metadata": {},
   "outputs": [
    {
     "data": {
      "text/plain": [
       "str"
      ]
     },
     "execution_count": 317,
     "metadata": {},
     "output_type": "execute_result"
    }
   ],
   "source": [
    "type(aaaa)"
   ]
  },
  {
   "cell_type": "code",
   "execution_count": null,
   "id": "f96c47dd",
   "metadata": {},
   "outputs": [],
   "source": []
  },
  {
   "cell_type": "code",
   "execution_count": 41,
   "id": "723e5956",
   "metadata": {},
   "outputs": [
    {
     "name": "stdout",
     "output_type": "stream",
     "text": [
      "['7', '8', '54', '55', '56', '74', '98', '996']\n",
      "[['7'], ['8'], ['5'], ['4'], ['5'], ['5'], ['5'], ['6'], ['7'], ['4'], ['9'], ['8'], ['9'], ['9'], ['6']]\n",
      "[['9'], ['9'], ['9'], ['8'], ['8'], ['7'], ['7'], ['6'], ['6'], ['5'], ['5'], ['5'], ['5'], ['4'], ['4']]\n",
      "999887766555544\n"
     ]
    }
   ],
   "source": [
    "A =   [55,74,98,7,56,8,996,54]\n",
    "x = []\n",
    "AA = sorted(A)\n",
    "for i in range(len(AA)):\n",
    "    AA[i] = str(AA[i])\n",
    "print(AA)\n",
    "for i in range(len(AA)):\n",
    "    for j in range(len(AA[i])):\n",
    "        x.append(AA[i][j].split())\n",
    "print(x)\n",
    "x.sort(reverse=True)\n",
    "print(x)\n",
    "n = len(x)\n",
    "m = len(x[0])\n",
    "aaaa = \"\"\n",
    "for i in range(n):\n",
    "    for j in range(m):\n",
    "        aaaa += x[i][j]\n",
    "print(aaaa)"
   ]
  },
  {
   "cell_type": "code",
   "execution_count": null,
   "id": "e9fdaa4e",
   "metadata": {},
   "outputs": [],
   "source": []
  },
  {
   "cell_type": "code",
   "execution_count": null,
   "id": "014238c2",
   "metadata": {},
   "outputs": [],
   "source": []
  },
  {
   "cell_type": "code",
   "execution_count": null,
   "id": "aaef4bb4",
   "metadata": {},
   "outputs": [],
   "source": []
  },
  {
   "cell_type": "markdown",
   "id": "84720931",
   "metadata": {},
   "source": [
    "# =============================================="
   ]
  },
  {
   "cell_type": "markdown",
   "id": "afd571b9",
   "metadata": {},
   "source": [
    "# strings # STRINGS"
   ]
  },
  {
   "cell_type": "code",
   "execution_count": 328,
   "id": "a32f77bc",
   "metadata": {},
   "outputs": [
    {
     "data": {
      "text/plain": [
       "'#'"
      ]
     },
     "execution_count": 328,
     "metadata": {},
     "output_type": "execute_result"
    }
   ],
   "source": [
    "chr(35)"
   ]
  },
  {
   "cell_type": "code",
   "execution_count": 329,
   "id": "48d816d7",
   "metadata": {},
   "outputs": [
    {
     "data": {
      "text/plain": [
       "35"
      ]
     },
     "execution_count": 329,
     "metadata": {},
     "output_type": "execute_result"
    }
   ],
   "source": [
    "ord('#')"
   ]
  },
  {
   "cell_type": "code",
   "execution_count": 101,
   "id": "a0692cb3",
   "metadata": {
    "scrolled": true
   },
   "outputs": [
    {
     "name": "stdout",
     "output_type": "stream",
     "text": [
      "1 \u0001|2 \u0002|3 \u0003|4 \u0004|5 \u0005|6 \u0006|7 \u0007|8 \b|9 \t|10 \n",
      "|11 \u000b",
      "|12 \f",
      "|13 \r",
      "|14 \u000e|15 \u000f|16 \u0010|17 \u0011|18 \u0012|19 \u0013|20 \u0014|21 \u0015|22 \u0016|23 \u0017|24 \u0018|25 \u0019|26 \u001a|27 \u001b|28 \u001c",
      "|29 \u001d",
      "|30 \u001e",
      "|31 \u001f|32  |33 !|34 \"|35 #|36 $|37 %|38 &|39 '|40 (|41 )|42 *|43 +|44 ,|45 -|46 .|47 /|48 0|49 1|50 2|51 3|52 4|53 5|54 6|55 7|56 8|57 9|58 :|59 ;|60 <|61 =|62 >|63 ?|64 @|65 A|66 B|67 C|68 D|69 E|70 F|71 G|72 H|73 I|74 J|75 K|76 L|77 M|78 N|79 O|80 P|81 Q|82 R|83 S|84 T|85 U|86 V|87 W|88 X|89 Y|90 Z|91 [|92 \\|93 ]|94 ^|95 _|96 `|97 a|98 b|99 c|100 d|101 e|102 f|103 g|104 h|105 i|106 j|107 k|108 l|109 m|110 n|111 o|112 p|113 q|114 r|115 s|116 t|117 u|118 v|119 w|120 x|121 y|122 z|123 {|124 ||125 }|126 ~|127 |128 |129 |130 |131 |132 |133 ",
      "|134 |135 |136 |137 |138 |139 |140 |141 |142 |143 |144 |145 |146 |147 |148 |149 |150 |151 |152 |153 |154 |155 |156 |157 |158 |159 |160  |161 ¡|162 ¢|163 £|164 ¤|165 ¥|166 ¦|167 §|168 ¨|169 ©|170 ª|171 «|172 ¬|173 ­|174 ®|175 ¯|176 °|177 ±|178 ²|179 ³|180 ´|181 µ|182 ¶|183 ·|184 ¸|185 ¹|186 º|187 »|188 ¼|189 ½|190 ¾|191 ¿|192 À|193 Á|194 Â|195 Ã|196 Ä|197 Å|198 Æ|199 Ç|200 È|201 É|202 Ê|203 Ë|204 Ì|205 Í|206 Î|207 Ï|208 Ð|209 Ñ|210 Ò|211 Ó|212 Ô|213 Õ|214 Ö|215 ×|216 Ø|217 Ù|218 Ú|219 Û|220 Ü|221 Ý|222 Þ|223 ß|224 à|225 á|226 â|227 ã|228 ä|229 å|230 æ|231 ç|232 è|233 é|234 ê|235 ë|236 ì|237 í|238 î|239 ï|240 ð|241 ñ|242 ò|243 ó|244 ô|245 õ|246 ö|247 ÷|248 ø|249 ù|250 ú|251 û|252 ü|253 ý|254 þ|255 ÿ|256 Ā|257 ā|258 Ă|259 ă|260 Ą|261 ą|262 Ć|263 ć|264 Ĉ|265 ĉ|266 Ċ|267 ċ|268 Č|269 č|270 Ď|271 ď|272 Đ|273 đ|274 Ē|275 ē|276 Ĕ|277 ĕ|278 Ė|279 ė|280 Ę|281 ę|282 Ě|283 ě|284 Ĝ|285 ĝ|286 Ğ|287 ğ|288 Ġ|289 ġ|290 Ģ|291 ģ|292 Ĥ|293 ĥ|294 Ħ|295 ħ|296 Ĩ|297 ĩ|298 Ī|299 ī|300 Ĭ|301 ĭ|302 Į|303 į|304 İ|305 ı|306 Ĳ|307 ĳ|308 Ĵ|309 ĵ|310 Ķ|311 ķ|312 ĸ|313 Ĺ|314 ĺ|315 Ļ|316 ļ|317 Ľ|318 ľ|319 Ŀ|320 ŀ|321 Ł|322 ł|323 Ń|324 ń|325 Ņ|326 ņ|327 Ň|328 ň|329 ŉ|330 Ŋ|331 ŋ|332 Ō|333 ō|334 Ŏ|335 ŏ|336 Ő|337 ő|338 Œ|339 œ|340 Ŕ|341 ŕ|342 Ŗ|343 ŗ|344 Ř|345 ř|346 Ś|347 ś|348 Ŝ|349 ŝ|350 Ş|351 ş|352 Š|353 š|354 Ţ|355 ţ|356 Ť|357 ť|358 Ŧ|359 ŧ|360 Ũ|361 ũ|362 Ū|363 ū|364 Ŭ|365 ŭ|366 Ů|367 ů|368 Ű|369 ű|370 Ų|371 ų|372 Ŵ|373 ŵ|374 Ŷ|375 ŷ|376 Ÿ|377 Ź|378 ź|379 Ż|380 ż|381 Ž|382 ž|383 ſ|384 ƀ|385 Ɓ|386 Ƃ|387 ƃ|388 Ƅ|389 ƅ|390 Ɔ|391 Ƈ|392 ƈ|393 Ɖ|394 Ɗ|395 Ƌ|396 ƌ|397 ƍ|398 Ǝ|399 Ə|400 Ɛ|401 Ƒ|402 ƒ|403 Ɠ|404 Ɣ|405 ƕ|406 Ɩ|407 Ɨ|408 Ƙ|409 ƙ|410 ƚ|411 ƛ|412 Ɯ|413 Ɲ|414 ƞ|415 Ɵ|416 Ơ|417 ơ|418 Ƣ|419 ƣ|420 Ƥ|421 ƥ|422 Ʀ|423 Ƨ|424 ƨ|425 Ʃ|426 ƪ|427 ƫ|428 Ƭ|429 ƭ|430 Ʈ|431 Ư|432 ư|433 Ʊ|434 Ʋ|435 Ƴ|436 ƴ|437 Ƶ|438 ƶ|439 Ʒ|440 Ƹ|441 ƹ|442 ƺ|443 ƻ|444 Ƽ|445 ƽ|446 ƾ|447 ƿ|448 ǀ|449 ǁ|450 ǂ|451 ǃ|452 Ǆ|453 ǅ|454 ǆ|455 Ǉ|456 ǈ|457 ǉ|458 Ǌ|459 ǋ|460 ǌ|461 Ǎ|462 ǎ|463 Ǐ|464 ǐ|465 Ǒ|466 ǒ|467 Ǔ|468 ǔ|469 Ǖ|470 ǖ|471 Ǘ|472 ǘ|473 Ǚ|474 ǚ|475 Ǜ|476 ǜ|477 ǝ|478 Ǟ|479 ǟ|480 Ǡ|481 ǡ|482 Ǣ|483 ǣ|484 Ǥ|485 ǥ|486 Ǧ|487 ǧ|488 Ǩ|489 ǩ|490 Ǫ|491 ǫ|492 Ǭ|493 ǭ|494 Ǯ|495 ǯ|496 ǰ|497 Ǳ|498 ǲ|499 ǳ|500 Ǵ|501 ǵ|502 Ƕ|503 Ƿ|504 Ǹ|505 ǹ|506 Ǻ|507 ǻ|508 Ǽ|509 ǽ|510 Ǿ|511 ǿ|512 Ȁ|513 ȁ|514 Ȃ|515 ȃ|516 Ȅ|517 ȅ|518 Ȇ|519 ȇ|520 Ȉ|521 ȉ|522 Ȋ|523 ȋ|524 Ȍ|525 ȍ|526 Ȏ|527 ȏ|528 Ȑ|529 ȑ|530 Ȓ|531 ȓ|532 Ȕ|533 ȕ|534 Ȗ|535 ȗ|536 Ș|537 ș|538 Ț|539 ț|540 Ȝ|541 ȝ|542 Ȟ|543 ȟ|544 Ƞ|545 ȡ|546 Ȣ|547 ȣ|548 Ȥ|549 ȥ|550 Ȧ|551 ȧ|552 Ȩ|553 ȩ|554 Ȫ|555 ȫ|556 Ȭ|557 ȭ|558 Ȯ|559 ȯ|560 Ȱ|561 ȱ|562 Ȳ|563 ȳ|564 ȴ|565 ȵ|566 ȶ|567 ȷ|568 ȸ|569 ȹ|570 Ⱥ|571 Ȼ|572 ȼ|573 Ƚ|574 Ⱦ|575 ȿ|576 ɀ|577 Ɂ|578 ɂ|579 Ƀ|580 Ʉ|581 Ʌ|582 Ɇ|583 ɇ|584 Ɉ|585 ɉ|586 Ɋ|587 ɋ|588 Ɍ|589 ɍ|590 Ɏ|591 ɏ|592 ɐ|593 ɑ|594 ɒ|595 ɓ|596 ɔ|597 ɕ|598 ɖ|599 ɗ|600 ɘ|601 ə|602 ɚ|603 ɛ|604 ɜ|605 ɝ|606 ɞ|607 ɟ|608 ɠ|609 ɡ|610 ɢ|611 ɣ|612 ɤ|613 ɥ|614 ɦ|615 ɧ|616 ɨ|617 ɩ|618 ɪ|619 ɫ|620 ɬ|621 ɭ|622 ɮ|623 ɯ|624 ɰ|625 ɱ|626 ɲ|627 ɳ|628 ɴ|629 ɵ|630 ɶ|631 ɷ|632 ɸ|633 ɹ|634 ɺ|635 ɻ|636 ɼ|637 ɽ|638 ɾ|639 ɿ|640 ʀ|641 ʁ|642 ʂ|643 ʃ|644 ʄ|645 ʅ|646 ʆ|647 ʇ|648 ʈ|649 ʉ|650 ʊ|651 ʋ|652 ʌ|653 ʍ|654 ʎ|655 ʏ|656 ʐ|657 ʑ|658 ʒ|659 ʓ|660 ʔ|661 ʕ|662 ʖ|663 ʗ|664 ʘ|665 ʙ|666 ʚ|667 ʛ|668 ʜ|669 ʝ|670 ʞ|671 ʟ|672 ʠ|673 ʡ|674 ʢ|675 ʣ|676 ʤ|677 ʥ|678 ʦ|679 ʧ|680 ʨ|681 ʩ|682 ʪ|683 ʫ|684 ʬ|685 ʭ|686 ʮ|687 ʯ|688 ʰ|689 ʱ|690 ʲ|691 ʳ|692 ʴ|693 ʵ|694 ʶ|695 ʷ|696 ʸ|697 ʹ|698 ʺ|699 ʻ|700 ʼ|701 ʽ|702 ʾ|703 ʿ|704 ˀ|705 ˁ|706 ˂|707 ˃|708 ˄|709 ˅|710 ˆ|711 ˇ|712 ˈ|713 ˉ|714 ˊ|715 ˋ|716 ˌ|717 ˍ|718 ˎ|719 ˏ|720 ː|721 ˑ|722 ˒|723 ˓|724 ˔|725 ˕|726 ˖|727 ˗|728 ˘|729 ˙|730 ˚|731 ˛|732 ˜|733 ˝|734 ˞|735 ˟|736 ˠ|737 ˡ|738 ˢ|739 ˣ|740 ˤ|741 ˥|742 ˦|743 ˧|744 ˨|745 ˩|746 ˪|747 ˫|748 ˬ|749 ˭|750 ˮ|751 ˯|752 ˰|753 ˱|754 ˲|755 ˳|756 ˴|757 ˵|758 ˶|759 ˷|760 ˸|761 ˹|762 ˺|763 ˻|764 ˼|765 ˽|766 ˾|767 ˿|768 ̀|769 ́|770 ̂|771 ̃|772 ̄|773 ̅|774 ̆|775 ̇|776 ̈|777 ̉|778 ̊|779 ̋|780 ̌|781 ̍|782 ̎|783 ̏|784 ̐|785 ̑|786 ̒|787 ̓|788 ̔|789 ̕|790 ̖|791 ̗|792 ̘|793 ̙|794 ̚|795 ̛|796 ̜|797 ̝|798 ̞|799 ̟|800 ̠|801 ̡|802 ̢|803 ̣|804 ̤|805 ̥|806 ̦|807 ̧|808 ̨|809 ̩|810 ̪|811 ̫|812 ̬|813 ̭|814 ̮|815 ̯|816 ̰|817 ̱|818 ̲|819 ̳|820 ̴|821 ̵|822 ̶|823 ̷|824 ̸|825 ̹|826 ̺|827 ̻|828 ̼|829 ̽|830 ̾|831 ̿|832 ̀|833 ́|834 ͂|835 ̓|836 ̈́|837 ͅ|838 ͆|839 ͇|840 ͈|841 ͉|842 ͊|843 ͋|844 ͌|845 ͍|846 ͎|847 ͏|848 ͐|849 ͑|850 ͒|851 ͓|852 ͔|853 ͕|854 ͖|855 ͗|856 ͘|857 ͙|858 ͚|859 ͛|860 ͜|861 ͝|862 ͞|863 ͟|864 ͠|865 ͡|866 ͢|867 ͣ|868 ͤ|869 ͥ|870 ͦ|871 ͧ|872 ͨ|873 ͩ|874 ͪ|875 ͫ|876 ͬ|877 ͭ|878 ͮ|879 ͯ|880 Ͱ|881 ͱ|882 Ͳ|883 ͳ|884 ʹ|885 ͵|886 Ͷ|887 ͷ|888 ͸|889 ͹|890 ͺ|891 ͻ|892 ͼ|893 ͽ|894 ;|895 Ϳ|896 ΀|897 ΁|898 ΂|899 ΃|900 ΄|901 ΅|902 Ά|903 ·|904 Έ|905 Ή|906 Ί|907 ΋|908 Ό|909 ΍|910 Ύ|911 Ώ|912 ΐ|913 Α|914 Β|915 Γ|916 Δ|917 Ε|918 Ζ|919 Η|920 Θ|921 Ι|922 Κ|923 Λ|924 Μ|925 Ν|926 Ξ|927 Ο|928 Π|929 Ρ|930 ΢|931 Σ|932 Τ|933 Υ|934 Φ|935 Χ|936 Ψ|937 Ω|938 Ϊ|939 Ϋ|940 ά|941 έ|942 ή|943 ί|944 ΰ|945 α|946 β|947 γ|948 δ|949 ε|950 ζ|951 η|952 θ|953 ι|954 κ|955 λ|956 μ|957 ν|958 ξ|959 ο|960 π|961 ρ|962 ς|963 σ|964 τ|965 υ|966 φ|967 χ|968 ψ|969 ω|970 ϊ|971 ϋ|972 ό|973 ύ|974 ώ|975 Ϗ|976 ϐ|977 ϑ|978 ϒ|979 ϓ|980 ϔ|981 ϕ|982 ϖ|983 ϗ|984 Ϙ|985 ϙ|986 Ϛ|987 ϛ|988 Ϝ|989 ϝ|990 Ϟ|991 ϟ|992 Ϡ|993 ϡ|994 Ϣ|995 ϣ|996 Ϥ|997 ϥ|998 Ϧ|999 ϧ|1000 Ϩ|"
     ]
    }
   ],
   "source": [
    "for i in range(1,1001):\n",
    "    print(i,chr(i),end = \"|\")"
   ]
  },
  {
   "cell_type": "code",
   "execution_count": 498,
   "id": "5be3b10e",
   "metadata": {},
   "outputs": [
    {
     "data": {
      "text/plain": [
       "0"
      ]
     },
     "execution_count": 498,
     "metadata": {},
     "output_type": "execute_result"
    }
   ],
   "source": []
  },
  {
   "cell_type": "code",
   "execution_count": 103,
   "id": "4a85fcdb",
   "metadata": {},
   "outputs": [
    {
     "data": {
      "text/plain": [
       "65536"
      ]
     },
     "execution_count": 103,
     "metadata": {},
     "output_type": "execute_result"
    }
   ],
   "source": [
    "2**16"
   ]
  },
  {
   "cell_type": "code",
   "execution_count": null,
   "id": "54a12a3b",
   "metadata": {},
   "outputs": [],
   "source": []
  },
  {
   "cell_type": "code",
   "execution_count": 112,
   "id": "c14c086d",
   "metadata": {},
   "outputs": [
    {
     "data": {
      "text/plain": [
       "'a'"
      ]
     },
     "execution_count": 112,
     "metadata": {},
     "output_type": "execute_result"
    }
   ],
   "source": [
    "S = \"S\"\n",
    "\n",
    "chr(ord(\"A\")+32)"
   ]
  },
  {
   "cell_type": "code",
   "execution_count": 113,
   "id": "fe0ad592",
   "metadata": {},
   "outputs": [
    {
     "data": {
      "text/plain": [
       "'A'"
      ]
     },
     "execution_count": 113,
     "metadata": {},
     "output_type": "execute_result"
    }
   ],
   "source": [
    "chr(ord(\"a\")-32)"
   ]
  },
  {
   "cell_type": "markdown",
   "id": "f74ce2e9",
   "metadata": {},
   "source": [
    "# Q1: toggle the case of each letter : "
   ]
  },
  {
   "cell_type": "code",
   "execution_count": 386,
   "id": "596f7cf1",
   "metadata": {},
   "outputs": [],
   "source": [
    "def toggle_case(s):\n",
    "    ans = \"\"\n",
    "    for i, c in enumerate(s):\n",
    "        code = ord(c)\n",
    "        \n",
    "        if 97 <= code <= 122:  # lower case char\n",
    "            ans += chr(code - 32)\n",
    "        if 65 <= code <= 90:\n",
    "            ans += chr(code + 32)\n",
    "        \n",
    "    return ans"
   ]
  },
  {
   "cell_type": "code",
   "execution_count": 387,
   "id": "278a5b8c",
   "metadata": {},
   "outputs": [
    {
     "data": {
      "text/plain": [
       "'sUnNy'"
      ]
     },
     "execution_count": 387,
     "metadata": {},
     "output_type": "execute_result"
    }
   ],
   "source": [
    "toggle_case(\"SuNnY\")"
   ]
  },
  {
   "cell_type": "code",
   "execution_count": 388,
   "id": "6c52653b",
   "metadata": {
    "scrolled": false
   },
   "outputs": [
    {
     "data": {
      "text/plain": [
       "'sCALERiSaWESOME'"
      ]
     },
     "execution_count": 388,
     "metadata": {},
     "output_type": "execute_result"
    }
   ],
   "source": [
    "toggle_case(\"Scaler Is Awesome!\")"
   ]
  },
  {
   "cell_type": "code",
   "execution_count": null,
   "id": "a9cfaf35",
   "metadata": {},
   "outputs": [],
   "source": []
  },
  {
   "cell_type": "code",
   "execution_count": null,
   "id": "9b29e437",
   "metadata": {},
   "outputs": [],
   "source": []
  },
  {
   "cell_type": "code",
   "execution_count": null,
   "id": "040636d5",
   "metadata": {},
   "outputs": [],
   "source": []
  },
  {
   "cell_type": "code",
   "execution_count": null,
   "id": "2615cf7c",
   "metadata": {},
   "outputs": [],
   "source": []
  },
  {
   "cell_type": "code",
   "execution_count": 116,
   "id": "4fc25677",
   "metadata": {},
   "outputs": [],
   "source": [
    "def toggle_case2(s):\n",
    "    liststring = list(s)\n",
    "    print(liststring)\n",
    "    for i in range(len(liststring)):\n",
    "                \n",
    "        code = ord(liststring[i])\n",
    "        \n",
    "        if 97 <= code <= 122:  # lower case char\n",
    "            liststring[i] = (chr(code - 32))\n",
    "        if 65 <= code <= 90:\n",
    "            liststring[i] = (chr(code + 32))\n",
    "    print(liststring)\n",
    "    \n",
    "    return \"\".join(liststring)\n",
    "    "
   ]
  },
  {
   "cell_type": "code",
   "execution_count": 118,
   "id": "abc6b690",
   "metadata": {},
   "outputs": [
    {
     "name": "stdout",
     "output_type": "stream",
     "text": [
      "['S', 'u', ' ', ' ', 'N', 'n', 'Y', ' ', '&', '*', '(', ')', ' ', 'P', ' ']\n",
      "['s', 'U', ' ', ' ', 'n', 'N', 'y', ' ', '&', '*', '(', ')', ' ', 'p', ' ']\n"
     ]
    },
    {
     "data": {
      "text/plain": [
       "'sU  nNy &*() p '"
      ]
     },
     "execution_count": 118,
     "metadata": {},
     "output_type": "execute_result"
    }
   ],
   "source": [
    "toggle_case2(\"Su  NnY &*() P \")"
   ]
  },
  {
   "cell_type": "code",
   "execution_count": 391,
   "id": "7af40411",
   "metadata": {},
   "outputs": [
    {
     "data": {
      "text/plain": [
       "'sCALER IS aWESOME.'"
      ]
     },
     "execution_count": 391,
     "metadata": {},
     "output_type": "execute_result"
    }
   ],
   "source": [
    "toggle_case2(\"Scaler is Awesome.\")"
   ]
  },
  {
   "cell_type": "code",
   "execution_count": null,
   "id": "026b88a9",
   "metadata": {},
   "outputs": [],
   "source": []
  },
  {
   "cell_type": "code",
   "execution_count": 129,
   "id": "a897cd42",
   "metadata": {},
   "outputs": [
    {
     "data": {
      "text/plain": [
       "(115, 83)"
      ]
     },
     "execution_count": 129,
     "metadata": {},
     "output_type": "execute_result"
    }
   ],
   "source": [
    "ord(\"S\")^32, ord(\"s\")^32"
   ]
  },
  {
   "cell_type": "code",
   "execution_count": 131,
   "id": "ba034fd6",
   "metadata": {},
   "outputs": [
    {
     "data": {
      "text/plain": [
       "('s', 'S')"
      ]
     },
     "execution_count": 131,
     "metadata": {},
     "output_type": "execute_result"
    }
   ],
   "source": [
    "chr(115), chr(83)"
   ]
  },
  {
   "cell_type": "code",
   "execution_count": null,
   "id": "38d9d787",
   "metadata": {},
   "outputs": [],
   "source": []
  },
  {
   "cell_type": "code",
   "execution_count": null,
   "id": "b408445e",
   "metadata": {},
   "outputs": [],
   "source": []
  },
  {
   "cell_type": "code",
   "execution_count": 392,
   "id": "02a831a0",
   "metadata": {},
   "outputs": [],
   "source": [
    "def toggle_case3(s):\n",
    "    liststring = list(s)\n",
    "    for i in range(len(liststring)):\n",
    "                \n",
    "        code = ord(liststring[i])\n",
    "        \n",
    "        if (97 <= code <= 122) or (65 <= code <= 90):\n",
    "            liststring[i] = (chr(code ^ 32))\n",
    "        \n",
    "    \n",
    "    return \"\".join(liststring)"
   ]
  },
  {
   "cell_type": "code",
   "execution_count": 393,
   "id": "60740eba",
   "metadata": {},
   "outputs": [
    {
     "data": {
      "text/plain": [
       "'ggfLKJjgf;LJhgf'"
      ]
     },
     "execution_count": 393,
     "metadata": {},
     "output_type": "execute_result"
    }
   ],
   "source": [
    "toggle_case3(\"GGFlkjJGF;ljHGF\")"
   ]
  },
  {
   "cell_type": "code",
   "execution_count": null,
   "id": "ec5e8f9b",
   "metadata": {},
   "outputs": [],
   "source": []
  },
  {
   "cell_type": "code",
   "execution_count": null,
   "id": "0778d646",
   "metadata": {},
   "outputs": [],
   "source": []
  },
  {
   "cell_type": "code",
   "execution_count": 124,
   "id": "f8a81add",
   "metadata": {},
   "outputs": [
    {
     "name": "stdout",
     "output_type": "stream",
     "text": [
      "s\n",
      "sc\n",
      "sca\n",
      "scal\n",
      "scale\n",
      "scaler\n",
      "\n",
      "scaler\n"
     ]
    }
   ],
   "source": [
    "letters = ['s','c','a','l','e','r']\n",
    "ans = \"\"\n",
    "\n",
    "for x in letters:  # O(n**2)\n",
    "    ans += x\n",
    "    print(ans)\n",
    "print()\n",
    "print(ans)"
   ]
  },
  {
   "cell_type": "code",
   "execution_count": null,
   "id": "7767ffc6",
   "metadata": {},
   "outputs": [],
   "source": []
  },
  {
   "cell_type": "code",
   "execution_count": 43,
   "id": "d0489605",
   "metadata": {},
   "outputs": [
    {
     "name": "stdout",
     "output_type": "stream",
     "text": [
      "['k', 'j', 'd', 'j', 'b', 'a', 's', 'j', 'k', 'b', 'g']\n"
     ]
    }
   ],
   "source": [
    "z = \"kjdjbasjkbg\"\n",
    "ls = list(z)\n",
    "print(ls)"
   ]
  },
  {
   "cell_type": "code",
   "execution_count": null,
   "id": "5dcedd63",
   "metadata": {},
   "outputs": [],
   "source": []
  },
  {
   "cell_type": "code",
   "execution_count": 119,
   "id": "88e2d979",
   "metadata": {},
   "outputs": [
    {
     "name": "stdout",
     "output_type": "stream",
     "text": [
      "['Scaler', 'is', 'Awesome']\n",
      "['relacS', 'si', 'emosewA']\n",
      "relacS si emosewA\n"
     ]
    }
   ],
   "source": [
    "S = \"Scaler is Awesome\"\n",
    "\n",
    "\n",
    "Slist = S.split()\n",
    "print(Slist)\n",
    "ans = []\n",
    "for word in Slist:\n",
    "    ans.append(word[::-1])\n",
    "    \n",
    "print(ans) \n",
    "\n",
    "print(\" \".join(ans))"
   ]
  },
  {
   "cell_type": "code",
   "execution_count": 120,
   "id": "46cf09cb",
   "metadata": {},
   "outputs": [
    {
     "name": "stdout",
     "output_type": "stream",
     "text": [
      "['Scaler', 'is', 'Awesome']\n",
      "Awesome is Scaler\n"
     ]
    }
   ],
   "source": [
    "S = \"Scaler is Awesome\"\n",
    "\n",
    "\n",
    "Slist = S.split()\n",
    "print(Slist)\n",
    "ans = Slist[::-1]\n",
    "print(\" \".join(ans))"
   ]
  },
  {
   "cell_type": "code",
   "execution_count": 377,
   "id": "ef266b8e",
   "metadata": {},
   "outputs": [
    {
     "data": {
      "text/plain": [
       "['Awesome', 'is', 'Scaler']"
      ]
     },
     "execution_count": 377,
     "metadata": {},
     "output_type": "execute_result"
    }
   ],
   "source": []
  },
  {
   "cell_type": "code",
   "execution_count": null,
   "id": "d4aa4150",
   "metadata": {},
   "outputs": [],
   "source": []
  },
  {
   "cell_type": "code",
   "execution_count": null,
   "id": "4a70c72d",
   "metadata": {},
   "outputs": [],
   "source": []
  },
  {
   "cell_type": "code",
   "execution_count": null,
   "id": "41399bb7",
   "metadata": {},
   "outputs": [],
   "source": []
  },
  {
   "cell_type": "markdown",
   "id": "37e58e76",
   "metadata": {},
   "source": [
    "# counting sort    \n",
    "\n",
    "##### no comparision here, only counting based sort\n",
    "\n",
    "### O(n) time and space complexity"
   ]
  },
  {
   "cell_type": "code",
   "execution_count": 150,
   "id": "41ae634f",
   "metadata": {},
   "outputs": [
    {
     "name": "stdout",
     "output_type": "stream",
     "text": [
      "[3, 1, 0, 5, 1, 3, 0, 0, 0, 0, 0, 0, 0, 0, 0, 0, 0, 0, 5, 0, 0, 1, 0, 3, 0, 0]\n",
      "\n",
      "['aaa', 'b', '', 'ddddd', 'e', 'fff', '', '', '', '', '', '', '', '', '', '', '', '', 'sssss', '', '', 'v', '', 'xxx', '', '']\n",
      "\n",
      "ans >>--:-->>  aaabdddddefffsssssvxxx\n"
     ]
    }
   ],
   "source": [
    "# sort lower case strings \n",
    "# without using sort function \n",
    "# without sorting\n",
    "\n",
    "A = \"dadbsvsfadasxeffxddxss\"\n",
    "\n",
    "counts =  [0] * 26\n",
    "for chars in A:\n",
    "    code =ord(chars)-97\n",
    "    counts[code] +=  1\n",
    "print(counts)\n",
    "print()\n",
    "letters = []\n",
    "\n",
    "for i in range(len(counts)):                      # O(26)\n",
    "    letters.append(chr(i+97)*counts[i])       \n",
    "print(letters)\n",
    "print()\n",
    "print(\"ans >>--:-->> \",\"\".join(letters))"
   ]
  },
  {
   "cell_type": "code",
   "execution_count": null,
   "id": "55b5ee17",
   "metadata": {},
   "outputs": [],
   "source": []
  },
  {
   "cell_type": "code",
   "execution_count": 3,
   "id": "8679fedb",
   "metadata": {},
   "outputs": [
    {
     "name": "stdout",
     "output_type": "stream",
     "text": [
      "A\n",
      "AB\n",
      "ABC\n",
      "ABCD\n",
      "B\n",
      "BC\n",
      "BCD\n",
      "C\n",
      "CD\n",
      "D\n"
     ]
    }
   ],
   "source": [
    "A = \"ABCD\"\n",
    "\n",
    "for s in range(len(A)):\n",
    "    for e in range(s,len(A)):\n",
    "        print(A[s:e+1])"
   ]
  },
  {
   "cell_type": "code",
   "execution_count": null,
   "id": "339e651f",
   "metadata": {},
   "outputs": [],
   "source": []
  },
  {
   "cell_type": "code",
   "execution_count": 163,
   "id": "a1be4b1b",
   "metadata": {},
   "outputs": [
    {
     "name": "stdout",
     "output_type": "stream",
     "text": [
      "['a', 'a', 'a', 'b', 'd', 'd', 'd', 'd', 'd', 'e', 'f', 'f', 'f', 's', 's', 's', 's', 's', 'v', 'x', 'x', 'x']\n",
      "\n",
      "\n",
      "aaabdddddefffsssssvxxx\n"
     ]
    }
   ],
   "source": [
    "A = \"dadbsvsfadasxeffxddxss\"\n",
    "\n",
    "\n",
    "\n",
    "AA = sorted(a)\n",
    "print(AA)\n",
    "print()\n",
    "print()\n",
    "print(\"\".join(AA))"
   ]
  },
  {
   "cell_type": "code",
   "execution_count": null,
   "id": "a8ed560a",
   "metadata": {},
   "outputs": [],
   "source": []
  },
  {
   "cell_type": "code",
   "execution_count": 164,
   "id": "1e9a467f",
   "metadata": {},
   "outputs": [
    {
     "name": "stdout",
     "output_type": "stream",
     "text": [
      "aaabdddddefffsssssvxxx\n"
     ]
    }
   ],
   "source": [
    "A = \"dadbsvsfadasxeffxddxss\"\n",
    "\n",
    "\n",
    "\n",
    "print(\"\".join(sorted(a)))"
   ]
  },
  {
   "cell_type": "code",
   "execution_count": null,
   "id": "8c486ec3",
   "metadata": {
    "scrolled": true
   },
   "outputs": [],
   "source": []
  },
  {
   "cell_type": "code",
   "execution_count": null,
   "id": "944f8f41",
   "metadata": {},
   "outputs": [],
   "source": []
  },
  {
   "cell_type": "code",
   "execution_count": 166,
   "id": "06d1e7a9",
   "metadata": {},
   "outputs": [
    {
     "name": "stdout",
     "output_type": "stream",
     "text": [
      "<enumerate object at 0x000001E187B0DB00>\n"
     ]
    }
   ],
   "source": [
    "print(enumerate([10,20,30]))"
   ]
  },
  {
   "cell_type": "code",
   "execution_count": null,
   "id": "704c9d21",
   "metadata": {},
   "outputs": [],
   "source": []
  },
  {
   "cell_type": "code",
   "execution_count": null,
   "id": "a6c1cf8b",
   "metadata": {},
   "outputs": [],
   "source": []
  },
  {
   "cell_type": "code",
   "execution_count": null,
   "id": "f3de5a5c",
   "metadata": {},
   "outputs": [],
   "source": []
  },
  {
   "cell_type": "code",
   "execution_count": 548,
   "id": "d7d2b326",
   "metadata": {},
   "outputs": [],
   "source": [
    "class Solution:\n",
    "    # @param A : string\n",
    "    # @return an integer\n",
    "    def solve(self, A):\n",
    "        s = \"bob\"\n",
    "        n = len(A)\n",
    "        ans = 0\n",
    "        for i in range(len(A)-len(s)+1):\n",
    "            j = 0\n",
    "            while j < len(s) :\n",
    "                if A[i+j] != s[j]:\n",
    "                    break\n",
    "                j += 1\n",
    "            \n",
    "            if j == len(s):\n",
    "                ans += 1\n",
    "        return (ans)\n",
    "\n",
    "\n",
    "'''\n",
    "Find the number of occurrences of bob in string A consisting of lowercase English alphabets\n",
    "'''\n"
   ]
  },
  {
   "cell_type": "code",
   "execution_count": 179,
   "id": "161f2b78",
   "metadata": {},
   "outputs": [
    {
     "data": {
      "text/plain": [
       "4"
      ]
     },
     "execution_count": 179,
     "metadata": {},
     "output_type": "execute_result"
    }
   ],
   "source": [
    "A = \"asdBOBOBasBOdasdBOBOB\"\n",
    "\n",
    "def count_occurance(A,s):\n",
    "    n = len(A)\n",
    "    m = len(s)\n",
    "    ans = 0\n",
    "    \n",
    "    for i in range(n-m+1):\n",
    "        j = 0\n",
    "        while j < m:\n",
    "            if A[i+j] != s[j]:\n",
    "                break\n",
    "            j += 1\n",
    "#         print(j)\n",
    "        if j == m:\n",
    "            ans += 1\n",
    "    return ans\n",
    "                \n",
    "count_occurance(A,\"BOB\")    "
   ]
  },
  {
   "cell_type": "code",
   "execution_count": null,
   "id": "96ca1c53",
   "metadata": {},
   "outputs": [],
   "source": []
  },
  {
   "cell_type": "code",
   "execution_count": null,
   "id": "a06c1fe9",
   "metadata": {},
   "outputs": [],
   "source": []
  },
  {
   "cell_type": "code",
   "execution_count": null,
   "id": "1f4ac2d7",
   "metadata": {},
   "outputs": [],
   "source": []
  },
  {
   "cell_type": "code",
   "execution_count": 197,
   "id": "02175b72",
   "metadata": {},
   "outputs": [
    {
     "name": "stdout",
     "output_type": "stream",
     "text": [
      "6\n"
     ]
    },
    {
     "data": {
      "text/plain": [
       "'xca'"
      ]
     },
     "execution_count": 197,
     "metadata": {},
     "output_type": "execute_result"
    }
   ],
   "source": [
    "def longestCommonPrefix(A):\n",
    "\n",
    "\n",
    "\n",
    "\n",
    "# minlenstring = minlen\n",
    "    minlen = float('inf')\n",
    "    for i in range(len(A)):\n",
    "        element_l = len(A[i])\n",
    "        minlen = min(element_l, minlen)\n",
    "    print(minlen)\n",
    "    ans = \"\"   \n",
    "    for i in range(0,minlen):\n",
    "        validation = True\n",
    "        ch = A[0][i]\n",
    "        for j in range(0,len(A)):\n",
    "            if A[j][i] != ch:\n",
    "                validation = False\n",
    "                break\n",
    "        if validation:\n",
    "            ans = ans + ch\n",
    "        else:\n",
    "            return (ans)\n",
    "    return (ans)\n",
    "A = [\"xcabinger\",\"xcabring\",\"xcable\",\"xcassdf\"]\n",
    "longestCommonPrefix(A)"
   ]
  },
  {
   "cell_type": "code",
   "execution_count": 198,
   "id": "c2634636",
   "metadata": {},
   "outputs": [
    {
     "name": "stdout",
     "output_type": "stream",
     "text": [
      "6\n"
     ]
    },
    {
     "data": {
      "text/plain": [
       "'xca'"
      ]
     },
     "execution_count": 198,
     "metadata": {},
     "output_type": "execute_result"
    }
   ],
   "source": [
    "longestCommonPrefix(A)"
   ]
  },
  {
   "cell_type": "code",
   "execution_count": null,
   "id": "d01d7949",
   "metadata": {},
   "outputs": [],
   "source": []
  },
  {
   "cell_type": "code",
   "execution_count": 89,
   "id": "4a65b042",
   "metadata": {},
   "outputs": [
    {
     "data": {
      "text/plain": [
       "'xca'"
      ]
     },
     "execution_count": 89,
     "metadata": {},
     "output_type": "execute_result"
    }
   ],
   "source": [
    "A = [\"xcabinger\",\"xcabring\",\"xcable\",\"xcassdf\"]\n",
    "def pragy_longest_prefix(A):\n",
    "    n = len(A)\n",
    "    m = len(A[0])\n",
    "    ans = None\n",
    "    for col in range(len(A[0])):\n",
    "        \n",
    "        ch = A[0][col]\n",
    "        \n",
    "        for row in range(n):\n",
    "            if col >= len(A[row]):\n",
    "                return  col\n",
    "            if A[row][col] != ch:\n",
    "                return col\n",
    "    \n",
    "    \n",
    "def pragy_longest_prefix_final(A):\n",
    "    return A[0][:pragy_longest_prefix(A)]\n",
    "\n",
    "pragy_longest_prefix_final(A)"
   ]
  },
  {
   "cell_type": "code",
   "execution_count": 86,
   "id": "731c0527",
   "metadata": {},
   "outputs": [
    {
     "data": {
      "text/plain": [
       "'xca'"
      ]
     },
     "execution_count": 86,
     "metadata": {},
     "output_type": "execute_result"
    }
   ],
   "source": [
    "A[0][:3]"
   ]
  },
  {
   "cell_type": "code",
   "execution_count": 572,
   "id": "882f3404",
   "metadata": {},
   "outputs": [
    {
     "data": {
      "text/plain": [
       "35"
      ]
     },
     "execution_count": 572,
     "metadata": {},
     "output_type": "execute_result"
    }
   ],
   "source": [
    "ord(\"#\")"
   ]
  },
  {
   "cell_type": "code",
   "execution_count": 575,
   "id": "9ada943e",
   "metadata": {
    "scrolled": false
   },
   "outputs": [
    {
     "name": "stdout",
     "output_type": "stream",
     "text": [
      "120\n",
      "53\n"
     ]
    }
   ],
   "source": [
    "A = [\"x\",\"5\"]\n",
    "\n",
    "for i in A:\n",
    "    print(ord(i))"
   ]
  },
  {
   "cell_type": "code",
   "execution_count": null,
   "id": "c4fb90ac",
   "metadata": {},
   "outputs": [],
   "source": []
  },
  {
   "cell_type": "code",
   "execution_count": 95,
   "id": "a1930b6c",
   "metadata": {},
   "outputs": [
    {
     "name": "stdout",
     "output_type": "stream",
     "text": [
      "3\n"
     ]
    }
   ],
   "source": [
    "A = \"ldjlfbjklbobgbabobslkjvhalbosdlfjbob\"\n",
    "n = len(A)\n",
    "count = 0\n",
    "for i in range(n-2):\n",
    "    if A[i] == 'b' and A[i+1] == 'o' and A[i+2] == 'b':\n",
    "        count += 1\n",
    "print(count)"
   ]
  },
  {
   "cell_type": "code",
   "execution_count": null,
   "id": "ae76c7d3",
   "metadata": {},
   "outputs": [],
   "source": []
  },
  {
   "cell_type": "code",
   "execution_count": null,
   "id": "0c70f1ce",
   "metadata": {},
   "outputs": [],
   "source": []
  },
  {
   "cell_type": "code",
   "execution_count": null,
   "id": "22647ce9",
   "metadata": {},
   "outputs": [],
   "source": []
  },
  {
   "cell_type": "code",
   "execution_count": null,
   "id": "2c5e709a",
   "metadata": {},
   "outputs": [],
   "source": []
  },
  {
   "cell_type": "code",
   "execution_count": 136,
   "id": "52289622",
   "metadata": {},
   "outputs": [
    {
     "name": "stdout",
     "output_type": "stream",
     "text": [
      "123\n",
      "[1, 12, 123, 2, 23, 3]\n",
      "{1: 1, 12: 2, 123: 6, 2: 2, 23: 6, 3: 3}\n",
      "\n",
      "dict_values([1, 2, 6, 2, 6, 3])\n",
      "{1, 2, 3, 6}\n",
      "yes\n"
     ]
    }
   ],
   "source": [
    "Ax = 123\n",
    "from  collections  import Counter\n",
    "\n",
    "A = str(Ax)\n",
    "print(A)\n",
    "n = len(A)\n",
    "req_seq = []\n",
    "\n",
    "for s in range(n):\n",
    "    for e in range(s,n):\n",
    "        req_seq.append(int(A[s:e+1]))\n",
    "print(req_seq)\n",
    "\n",
    "\n",
    "def product(n):\n",
    "    product = 1\n",
    "    while n != 0:\n",
    "        digit = n%10\n",
    "        product *= digit\n",
    "        n = n//10\n",
    "    return product\n",
    "\n",
    "freq = {}\n",
    "\n",
    "for i in req_seq:\n",
    "    freq[i] = product(i)\n",
    "\n",
    "print(freq)\n",
    "\n",
    "l = freq.values()\n",
    "\n",
    "print()\n",
    "print(l)\n",
    "\n",
    "asd = (set(l))\n",
    "print(asd)\n",
    "if len(asd) != len(l):\n",
    "    print(\"yes\")\n",
    "else:\n",
    "    print(\"NO\")"
   ]
  },
  {
   "cell_type": "code",
   "execution_count": 113,
   "id": "f7b09db8",
   "metadata": {},
   "outputs": [],
   "source": []
  },
  {
   "cell_type": "code",
   "execution_count": null,
   "id": "b160b8ee",
   "metadata": {},
   "outputs": [],
   "source": []
  },
  {
   "cell_type": "code",
   "execution_count": null,
   "id": "6f6b4d43",
   "metadata": {},
   "outputs": [],
   "source": []
  },
  {
   "cell_type": "code",
   "execution_count": null,
   "id": "307e3996",
   "metadata": {},
   "outputs": [],
   "source": []
  },
  {
   "cell_type": "code",
   "execution_count": 162,
   "id": "a6a874cc",
   "metadata": {},
   "outputs": [
    {
     "name": "stdout",
     "output_type": "stream",
     "text": [
      "[2, 3]\n",
      "set()\n",
      "{2}\n",
      "{2, 6}\n"
     ]
    },
    {
     "data": {
      "text/plain": [
       "1"
      ]
     },
     "execution_count": 162,
     "metadata": {},
     "output_type": "execute_result"
    }
   ],
   "source": [
    "A = 23\n",
    "def color(A):\n",
    "    x = []\n",
    "    while A >0:\n",
    "        digit = A%10\n",
    "        x.append(digit)\n",
    "        A //= 10\n",
    "    x.reverse()\n",
    "    n = len(x)\n",
    "    asd = set()\n",
    "    print(x)\n",
    "    for s in range(n):\n",
    "        product = 1\n",
    "        for e in range(s,n):\n",
    "            product *= x[e]\n",
    "            print(asd)\n",
    "            if product in asd:\n",
    "                return 0\n",
    "            \n",
    "            asd.add(product)\n",
    "    return 1\n",
    "color(A)"
   ]
  },
  {
   "cell_type": "code",
   "execution_count": null,
   "id": "7ac8a000",
   "metadata": {},
   "outputs": [],
   "source": []
  },
  {
   "cell_type": "code",
   "execution_count": 181,
   "id": "22ab1df5",
   "metadata": {},
   "outputs": [
    {
     "data": {
      "text/plain": [
       "0"
      ]
     },
     "execution_count": 181,
     "metadata": {},
     "output_type": "execute_result"
    }
   ],
   "source": [
    "Ax = 5423\n",
    "def colorrrrr(Ax):\n",
    "    A = []\n",
    "    while Ax > 0:\n",
    "        d = Ax % 10\n",
    "        A.append(d)\n",
    "        Ax  = Ax//10\n",
    "    A.reverse()    \n",
    "    n = len(A)\n",
    "    seett = set()\n",
    "    for s in range(n):\n",
    "        product = 1\n",
    "        for e in range(s,n):\n",
    "            product *= A[e]\n",
    "            if product in seett:\n",
    "                return 0\n",
    "            seett.add(product)\n",
    "    return 1\n",
    "colorrrrr(123)"
   ]
  },
  {
   "cell_type": "code",
   "execution_count": null,
   "id": "fba801bb",
   "metadata": {},
   "outputs": [],
   "source": []
  },
  {
   "cell_type": "code",
   "execution_count": null,
   "id": "41229322",
   "metadata": {},
   "outputs": [],
   "source": []
  },
  {
   "cell_type": "code",
   "execution_count": 188,
   "id": "7b7229c9",
   "metadata": {},
   "outputs": [
    {
     "data": {
      "text/plain": [
       "1"
      ]
     },
     "execution_count": 188,
     "metadata": {},
     "output_type": "execute_result"
    }
   ],
   "source": [
    "def diffPossible(A, k):\n",
    "    for i in A:\n",
    "        target = i - k\n",
    "        if target in set(A):\n",
    "            return 1\n",
    "    return 0\n",
    "\n",
    "diffPossible([0],0)"
   ]
  },
  {
   "cell_type": "code",
   "execution_count": null,
   "id": "8fb569ce",
   "metadata": {},
   "outputs": [],
   "source": []
  },
  {
   "cell_type": "code",
   "execution_count": null,
   "id": "d0b88e7f",
   "metadata": {},
   "outputs": [],
   "source": [
    "A = \"aaaabaaa\"\n",
    "start = None\n",
    "end = None\n",
    "for i in range(len(A)):\n",
    "    \n",
    "\n"
   ]
  },
  {
   "cell_type": "code",
   "execution_count": 205,
   "id": "ba3a8ed0",
   "metadata": {},
   "outputs": [
    {
     "name": "stdout",
     "output_type": "stream",
     "text": [
      "aaaa\n"
     ]
    }
   ],
   "source": [
    "A = \"aaaacbaaca\"\n",
    "maxlen = -float('inf')\n",
    "n = len(A)\n",
    "ans = None\n",
    "for s in range(n):\n",
    "    for e in range(s,n):\n",
    "        x = A[s:e+1]\n",
    "        if x == x[::-1]:\n",
    "            length = e-s+1  \n",
    "            if length > maxlen:\n",
    "                maxlen = length\n",
    "                ans = x\n",
    "print(ans)"
   ]
  },
  {
   "cell_type": "code",
   "execution_count": 209,
   "id": "643c1695",
   "metadata": {},
   "outputs": [],
   "source": [
    "def ispalindrome(A):\n",
    "    if A == A[::-1]:\n",
    "        return True\n",
    "    return False\n",
    "        "
   ]
  },
  {
   "cell_type": "code",
   "execution_count": 211,
   "id": "35ad69e7",
   "metadata": {},
   "outputs": [
    {
     "data": {
      "text/plain": [
       "False"
      ]
     },
     "execution_count": 211,
     "metadata": {},
     "output_type": "execute_result"
    }
   ],
   "source": [
    "ispalindrome(\"TENT\")"
   ]
  },
  {
   "cell_type": "code",
   "execution_count": 231,
   "id": "65044f32",
   "metadata": {},
   "outputs": [],
   "source": [
    "A = \"aaadabaaa\"\n",
    "n = len(A)\n",
    "start = 0\n",
    "end = n-1\n",
    "answer = None"
   ]
  },
  {
   "cell_type": "code",
   "execution_count": 2,
   "id": "6a61f335",
   "metadata": {},
   "outputs": [
    {
     "data": {
      "text/plain": [
       "'AADDAA'"
      ]
     },
     "execution_count": 2,
     "metadata": {},
     "output_type": "execute_result"
    }
   ],
   "source": [
    "\n",
    "def longestPalindrome(A):\n",
    "    aLen = len(A)\n",
    "    if aLen == 0:\n",
    "        return A\n",
    "    A2 = \"|\"\n",
    "    for x in A:\n",
    "        A2 += x + \"|\"\n",
    "    p = [0] * (2 * aLen + 1)\n",
    "    c = 0\n",
    "    r = 0\n",
    "    m = 0\n",
    "    n = 0\n",
    "    for i in range(1, 2 * aLen + 1):\n",
    "        if i > r:\n",
    "            p[i] = 0\n",
    "            m = i - 1\n",
    "            n = i + 1\n",
    "        else:\n",
    "            i2 = c * 2 - i\n",
    "            if p[i2] < r - i:\n",
    "                p[i] = p[i2]\n",
    "                m = -1\n",
    "            else:\n",
    "                p[i] = r - i\n",
    "                n = r + 1\n",
    "                m = i * 2 - n\n",
    "        while m >= 0 and n < 2 * aLen + 1 and A2[m] == A2[n]:\n",
    "            p[i] += 1\n",
    "            m -= 1\n",
    "            n += 1\n",
    "        if i + p[i] > r:\n",
    "            c = i\n",
    "            r = i + p[i]\n",
    "    leng = 0\n",
    "    c = 0\n",
    "    for i in range(1, 2 * aLen + 1):\n",
    "        if leng < p[i]:\n",
    "            leng = p[i]\n",
    "            c = i\n",
    "    ret = A2[c - leng + 1 : c + leng + 1 : 2]\n",
    "    \n",
    "    return ret\n",
    "\n",
    "\n",
    "longestPalindrome(\"ASDASAADDAAD\")"
   ]
  },
  {
   "cell_type": "code",
   "execution_count": null,
   "id": "896e002c",
   "metadata": {},
   "outputs": [],
   "source": []
  },
  {
   "cell_type": "code",
   "execution_count": null,
   "id": "30612680",
   "metadata": {},
   "outputs": [],
   "source": []
  },
  {
   "cell_type": "code",
   "execution_count": null,
   "id": "1d21e7f4",
   "metadata": {},
   "outputs": [],
   "source": []
  }
 ],
 "metadata": {
  "kernelspec": {
   "display_name": "Python 3 (ipykernel)",
   "language": "python",
   "name": "python3"
  },
  "language_info": {
   "codemirror_mode": {
    "name": "ipython",
    "version": 3
   },
   "file_extension": ".py",
   "mimetype": "text/x-python",
   "name": "python",
   "nbconvert_exporter": "python",
   "pygments_lexer": "ipython3",
   "version": "3.9.7"
  }
 },
 "nbformat": 4,
 "nbformat_minor": 5
}
