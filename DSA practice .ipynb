{
 "cells": [
  {
   "cell_type": "code",
   "execution_count": 1,
   "id": "14a926ff",
   "metadata": {},
   "outputs": [
    {
     "name": "stdout",
     "output_type": "stream",
     "text": [
      "\n",
      "Here is a list of the Python keywords.  Enter any keyword to get more help.\n",
      "\n",
      "False               break               for                 not\n",
      "None                class               from                or\n",
      "True                continue            global              pass\n",
      "__peg_parser__      def                 if                  raise\n",
      "and                 del                 import              return\n",
      "as                  elif                in                  try\n",
      "assert              else                is                  while\n",
      "async               except              lambda              with\n",
      "await               finally             nonlocal            yield\n",
      "\n"
     ]
    }
   ],
   "source": [
    "help(\"keywords\")"
   ]
  },
  {
   "cell_type": "code",
   "execution_count": 2,
   "id": "335a219d",
   "metadata": {},
   "outputs": [],
   "source": [
    "import math"
   ]
  },
  {
   "cell_type": "markdown",
   "id": "c8318e2d",
   "metadata": {},
   "source": [
    "#### Given a number N>=1, when can we say it is a prime number ?\n",
    "\n",
    "    When no of factors are == 2\n",
    "    \n",
    "    \n",
    "    \n",
    "    Number 1 neither prime not composit \n",
    "    2 is prime \n",
    "    3 is prime \n",
    "    4 is composite. ... \n",
    "    "
   ]
  },
  {
   "cell_type": "markdown",
   "id": "de91c578",
   "metadata": {},
   "source": [
    "## if prime ? "
   ]
  },
  {
   "cell_type": "code",
   "execution_count": 3,
   "id": "4f4ea9af",
   "metadata": {},
   "outputs": [
    {
     "data": {
      "text/plain": [
       "'1 is neither prime nor composite'"
      ]
     },
     "execution_count": 3,
     "metadata": {},
     "output_type": "execute_result"
    }
   ],
   "source": [
    "N = 1\n",
    "def isprime(N):\n",
    "    if N == 1:\n",
    "        return \"1 is neither prime nor composite\"\n",
    "    f = 0\n",
    "    for i in range(1,N+1):\n",
    "        if N%i == 0:\n",
    "            f += 1\n",
    "    return f  == 2\n",
    "    \n",
    "isprime(1)"
   ]
  },
  {
   "cell_type": "code",
   "execution_count": 4,
   "id": "49c93a65",
   "metadata": {},
   "outputs": [
    {
     "data": {
      "text/plain": [
       "False"
      ]
     },
     "execution_count": 4,
     "metadata": {},
     "output_type": "execute_result"
    }
   ],
   "source": [
    "isprime(4)"
   ]
  },
  {
   "cell_type": "code",
   "execution_count": 5,
   "id": "ad9ec9a2",
   "metadata": {},
   "outputs": [
    {
     "data": {
      "text/plain": [
       "True"
      ]
     },
     "execution_count": 5,
     "metadata": {},
     "output_type": "execute_result"
    }
   ],
   "source": [
    "isprime(3)"
   ]
  },
  {
   "cell_type": "code",
   "execution_count": null,
   "id": "3efbf10c",
   "metadata": {},
   "outputs": [],
   "source": []
  },
  {
   "cell_type": "code",
   "execution_count": 6,
   "id": "23927927",
   "metadata": {},
   "outputs": [
    {
     "data": {
      "text/plain": [
       "True"
      ]
     },
     "execution_count": 6,
     "metadata": {},
     "output_type": "execute_result"
    }
   ],
   "source": [
    "N = 1\n",
    "def isprime(N):\n",
    "    if N == 1:\n",
    "        return \"1 is neither prime nor composite\"\n",
    "    for i in range(2,N):\n",
    "        if N%i == 0:\n",
    "            return False\n",
    "    return True\n",
    "    \n",
    "    \n",
    "isprime(97)"
   ]
  },
  {
   "cell_type": "code",
   "execution_count": null,
   "id": "01c33e98",
   "metadata": {},
   "outputs": [],
   "source": []
  },
  {
   "cell_type": "markdown",
   "id": "3c4f5bfd",
   "metadata": {},
   "source": [
    "    approximately a computer can handle 10^8 iterations in 1 seconds .\n",
    "    \n",
    "    if we want to find if ( 10^9 + 7 ) a prime number ,\n",
    "    this will take 10 seconds approximately with O(n) algorithm \n",
    "    \n",
    "    if we want to find if ( 10^18) a prime number ,\n",
    "    above algorithm O(n) will take 10 billion seconds =~ 317 years .\n",
    "    \n",
    "    \n",
    "    so we need to optimize the time taken to run : "
   ]
  },
  {
   "cell_type": "markdown",
   "id": "03068840",
   "metadata": {},
   "source": [
    "    N = 60\n",
    "\n",
    "    factors of 60 \n",
    "    -------------\n",
    "    1  * 60     i < N\n",
    "    2  * 30\n",
    "    3  * 20\n",
    "    4  * 15\n",
    "    5  * 12\n",
    "    6  * 10\n",
    "    --------factors are repeting after this point (factos appear in pairs) \n",
    "    10 * 6      i > N/i\n",
    "    12 * 5\n",
    "    15 * 4\n",
    "    20 * 3\n",
    "    30 * 2\n",
    "    60 * 1      \n",
    "    -------------"
   ]
  },
  {
   "cell_type": "markdown",
   "id": "5a7c18f3",
   "metadata": {},
   "source": [
    "    24:\n",
    "    \n",
    "    1    24     a < b\n",
    "    2    12\n",
    "    3    8\n",
    "    4    6\n",
    "    -------------\n",
    "    6    4      a > b\n",
    "    8    3\n",
    "    12   2\n",
    "    24   1\n",
    "    \n",
    "    \n",
    "    a > b\n",
    "    a*b = N\n",
    "    a = N/b\n",
    "    \n",
    "    a > b\n",
    "    N/b > b \n",
    "    N > b**2\n",
    "    \n",
    "    sq(N) > b\n",
    "    \n",
    "    "
   ]
  },
  {
   "cell_type": "markdown",
   "id": "7c15be1b",
   "metadata": {},
   "source": [
    "    instead of looping from 1 to N\n",
    "    we can only loop till square root of N as after that we wont find any new factors."
   ]
  },
  {
   "cell_type": "code",
   "execution_count": 7,
   "id": "ad3be2fb",
   "metadata": {},
   "outputs": [],
   "source": [
    "import math"
   ]
  },
  {
   "cell_type": "code",
   "execution_count": null,
   "id": "95044b9d",
   "metadata": {},
   "outputs": [],
   "source": []
  },
  {
   "cell_type": "code",
   "execution_count": 8,
   "id": "d9cf1a63",
   "metadata": {},
   "outputs": [
    {
     "data": {
      "text/plain": [
       "(True, False, True)"
      ]
     },
     "execution_count": 8,
     "metadata": {},
     "output_type": "execute_result"
    }
   ],
   "source": [
    "N = 1\n",
    "\n",
    "def isprime(N):\n",
    "    if N == 1:\n",
    "        return \"1 is neither prime nor composite\"\n",
    "    factor_count = 0\n",
    "    for i in range(1,(int(math.sqrt(N))+1)):\n",
    "        if N%i == 0:\n",
    "            factor_count += 2\n",
    "    return factor_count == 2\n",
    "    \n",
    "    \n",
    "isprime(97),isprime(98),isprime(13)"
   ]
  },
  {
   "cell_type": "markdown",
   "id": "044e8375",
   "metadata": {},
   "source": [
    "    # from above code, we will be able to calculate if 10**18 is prime or not in just 10 seconds "
   ]
  },
  {
   "cell_type": "markdown",
   "id": "ac4864b5",
   "metadata": {},
   "source": [
    "    (math.sqrt(10**18))/10**8 = 10"
   ]
  },
  {
   "cell_type": "code",
   "execution_count": null,
   "id": "9d59a769",
   "metadata": {},
   "outputs": [],
   "source": []
  },
  {
   "cell_type": "code",
   "execution_count": null,
   "id": "8655f22f",
   "metadata": {},
   "outputs": [],
   "source": []
  },
  {
   "cell_type": "code",
   "execution_count": 9,
   "id": "b64fbd3f",
   "metadata": {},
   "outputs": [],
   "source": [
    "# if we dont want to use math library or pythonic way (N)**0.5:"
   ]
  },
  {
   "cell_type": "markdown",
   "id": "8090ef42",
   "metadata": {},
   "source": [
    "    i < sqrt(N) +1 \n",
    "    i^2 < (sqrt(N)+1)^2\n",
    "    i^2 < N+1"
   ]
  },
  {
   "cell_type": "code",
   "execution_count": 10,
   "id": "4d64bb6b",
   "metadata": {},
   "outputs": [
    {
     "data": {
      "text/plain": [
       "(True, False, True, True)"
      ]
     },
     "execution_count": 10,
     "metadata": {},
     "output_type": "execute_result"
    }
   ],
   "source": [
    "N = 1\n",
    "def isprime(N):\n",
    "    \n",
    "    i = 1\n",
    "    factor_count = 0\n",
    "    \n",
    "    while i*i <= N:\n",
    "        \n",
    "        if N%i == 0:\n",
    "            factor_count += 2\n",
    "        i += 1\n",
    "        \n",
    "    return factor_count == 2\n",
    "    \n",
    "    \n",
    "isprime(97),isprime(98),isprime(13),isprime(3)"
   ]
  },
  {
   "cell_type": "code",
   "execution_count": null,
   "id": "59ca08bb",
   "metadata": {},
   "outputs": [],
   "source": []
  },
  {
   "cell_type": "code",
   "execution_count": null,
   "id": "e771e660",
   "metadata": {},
   "outputs": [],
   "source": []
  },
  {
   "cell_type": "code",
   "execution_count": 11,
   "id": "71f1ed4f",
   "metadata": {},
   "outputs": [
    {
     "data": {
      "text/plain": [
       "(True, False, True, True, False, False)"
      ]
     },
     "execution_count": 11,
     "metadata": {},
     "output_type": "execute_result"
    }
   ],
   "source": [
    "N = 1\n",
    "def isprime(N):\n",
    "    \n",
    "    i = 2\n",
    "    \n",
    "    while i*i <= N:\n",
    "        \n",
    "        if N%i == 0:\n",
    "            return False\n",
    "        i += 1\n",
    "        \n",
    "    return True\n",
    "    \n",
    "    \n",
    "isprime(97),isprime(98),isprime(13),isprime(3),isprime(4),isprime(25)"
   ]
  },
  {
   "cell_type": "code",
   "execution_count": null,
   "id": "7a77628f",
   "metadata": {},
   "outputs": [],
   "source": [
    "## gcd "
   ]
  },
  {
   "cell_type": "code",
   "execution_count": 1218,
   "id": "c0fb2e7c",
   "metadata": {},
   "outputs": [
    {
     "data": {
      "text/plain": [
       "3"
      ]
     },
     "execution_count": 1218,
     "metadata": {},
     "output_type": "execute_result"
    }
   ],
   "source": [
    "a = 12\n",
    "b = 15\n",
    "def gcd(a,b):\n",
    "    while a != 0:\n",
    "        a,b = b%a,a\n",
    "        return(a)\n",
    "gcd(a,b)"
   ]
  },
  {
   "cell_type": "code",
   "execution_count": 1219,
   "id": "35583974",
   "metadata": {},
   "outputs": [
    {
     "data": {
      "text/plain": [
       "3"
      ]
     },
     "execution_count": 1219,
     "metadata": {},
     "output_type": "execute_result"
    }
   ],
   "source": [
    "def gcd(a,b):\n",
    "    if a== 0:\n",
    "        return b\n",
    "    return gcd(b%a,a)\n",
    "gcd(a,b)"
   ]
  },
  {
   "cell_type": "code",
   "execution_count": 1221,
   "id": "e0cfa8c9",
   "metadata": {},
   "outputs": [
    {
     "data": {
      "text/plain": [
       "3"
      ]
     },
     "execution_count": 1221,
     "metadata": {},
     "output_type": "execute_result"
    }
   ],
   "source": [
    "def gcd(a,b):\n",
    "    for i in range(min(a,b),0,-1):\n",
    "        if a % i == 0 and b % i == 0:\n",
    "            return i\n",
    "gcd(a,b)"
   ]
  },
  {
   "cell_type": "markdown",
   "id": "bd2b6c19",
   "metadata": {},
   "source": [
    "## given a number N find floor largest number  <= sqrt(N)\n",
    "## ignore the factorial part (round down)\n",
    "    \n",
    "        sqrt(49) = 7\n",
    "        sqrt(24) = 4\n",
    "        sqrt(25) = 5\n",
    "        sqrt(26) = 5"
   ]
  },
  {
   "cell_type": "code",
   "execution_count": 12,
   "id": "345384d2",
   "metadata": {},
   "outputs": [],
   "source": [
    "# O(sqrt(N))"
   ]
  },
  {
   "cell_type": "code",
   "execution_count": 13,
   "id": "2309b0e7",
   "metadata": {},
   "outputs": [
    {
     "data": {
      "text/plain": [
       "(5, 5, 4)"
      ]
     },
     "execution_count": 13,
     "metadata": {},
     "output_type": "execute_result"
    }
   ],
   "source": [
    "def returnPerfectSQ_o_sq(N):\n",
    "    i = 1\n",
    "    while i*i <= N:\n",
    "        i += 1\n",
    "    return i-1\n",
    "        \n",
    "returnPerfectSQ_o_sq(25),returnPerfectSQ_o_sq(26),returnPerfectSQ_o_sq(23)"
   ]
  },
  {
   "cell_type": "code",
   "execution_count": 14,
   "id": "19e087b3",
   "metadata": {},
   "outputs": [],
   "source": [
    "## using binary search (O(log(n)))"
   ]
  },
  {
   "cell_type": "code",
   "execution_count": 15,
   "id": "4cdead8e",
   "metadata": {},
   "outputs": [],
   "source": [
    "def returnPerfectSQ(N):\n",
    "    high = N\n",
    "    low = 1\n",
    "    \n",
    "    \n",
    "    while low <= high:  \n",
    "        mid = ( high + low ) // 2 \n",
    "        \n",
    "        \n",
    "        if mid * mid > N:\n",
    "            high = mid - 1\n",
    "            \n",
    "            \n",
    "        elif mid * mid < N:\n",
    "            low = mid + 1\n",
    "        \n",
    "        else:\n",
    "            return mid\n",
    "            \n",
    "        \n",
    "    return high\n",
    "            "
   ]
  },
  {
   "cell_type": "code",
   "execution_count": 16,
   "id": "8ba8a8e7",
   "metadata": {},
   "outputs": [
    {
     "data": {
      "text/plain": [
       "(5, 5, 4)"
      ]
     },
     "execution_count": 16,
     "metadata": {},
     "output_type": "execute_result"
    }
   ],
   "source": [
    "returnPerfectSQ(26),returnPerfectSQ(25),returnPerfectSQ(24)"
   ]
  },
  {
   "cell_type": "code",
   "execution_count": null,
   "id": "34ef030e",
   "metadata": {},
   "outputs": [],
   "source": []
  },
  {
   "cell_type": "code",
   "execution_count": 17,
   "id": "9c2d5955",
   "metadata": {},
   "outputs": [
    {
     "data": {
      "text/plain": [
       "1000000000"
      ]
     },
     "execution_count": 17,
     "metadata": {},
     "output_type": "execute_result"
    }
   ],
   "source": [
    "returnPerfectSQ(10**18) # takes 0.6 micro seconds "
   ]
  },
  {
   "cell_type": "code",
   "execution_count": null,
   "id": "9ca52437",
   "metadata": {},
   "outputs": [],
   "source": []
  },
  {
   "cell_type": "markdown",
   "id": "750bed4c",
   "metadata": {},
   "source": [
    "### Square root of a number\n",
    "\n",
    "#### Given a number A. Return square root of the number if it is perfect square otherwise return -1.\n",
    "\n",
    "\n",
    "\n",
    "    Problem Constraints\n",
    "\n",
    "    1 <= A <= 108\n",
    "\n",
    "\n",
    "\n",
    "    Input Format\n",
    "\n",
    "    First argument is an integer A.\n",
    "\n",
    "\n",
    "\n",
    "    Output Format\n",
    "\n",
    "    Return an integer which is the square root of A if A is perfect square otherwise return -1.\n",
    "\n",
    "\n",
    "\n",
    "    Example Input\n",
    "\n",
    "    Input 1:\n",
    "\n",
    "    A = 4\n",
    "    Input 2:\n",
    "\n",
    "    A = 1001\n",
    "\n",
    "\n",
    "    Example Output\n",
    "\n",
    "    Output 1:\n",
    "\n",
    "    2\n",
    "    Output 2:\n",
    "\n",
    "    -1\n",
    "\n",
    "\n",
    "    Example Explanation\n",
    "\n",
    "    Explanation 1:\n",
    "\n",
    "    sqrt(4) = 2\n",
    "    Explanation 2:\n",
    "\n",
    "    1001 is not a perfect square."
   ]
  },
  {
   "cell_type": "code",
   "execution_count": 18,
   "id": "f3830829",
   "metadata": {},
   "outputs": [],
   "source": [
    "def perfect_(A):\n",
    "\n",
    "    def perfect_square(n):\n",
    "\n",
    "        low = 1\n",
    "        high = n\n",
    "\n",
    "        while low <= high: \n",
    "            mid = (low + high)//2\n",
    "            if mid * mid > n:\n",
    "                high = mid - 1 \n",
    "\n",
    "            elif mid * mid < n:\n",
    "                low = mid + 1\n",
    "            else:\n",
    "                return mid\n",
    "        return None\n",
    "\n",
    "    def sqrt_num_if_perfect_sq(n):\n",
    "        if perfect_square(n) != None:\n",
    "            return perfect_square(n) \n",
    "        return -1\n",
    "\n",
    "    return sqrt_num_if_perfect_sq(A)      "
   ]
  },
  {
   "cell_type": "code",
   "execution_count": 19,
   "id": "ab255a63",
   "metadata": {},
   "outputs": [
    {
     "data": {
      "text/plain": [
       "-1"
      ]
     },
     "execution_count": 19,
     "metadata": {},
     "output_type": "execute_result"
    }
   ],
   "source": [
    "perfect_(37)"
   ]
  },
  {
   "cell_type": "code",
   "execution_count": 20,
   "id": "804ef8c7",
   "metadata": {},
   "outputs": [
    {
     "data": {
      "text/plain": [
       "6"
      ]
     },
     "execution_count": 20,
     "metadata": {},
     "output_type": "execute_result"
    }
   ],
   "source": [
    "perfect_(36)"
   ]
  },
  {
   "cell_type": "code",
   "execution_count": null,
   "id": "95d4f1fe",
   "metadata": {},
   "outputs": [],
   "source": []
  },
  {
   "cell_type": "markdown",
   "id": "f4e710d8",
   "metadata": {},
   "source": [
    " ### Is It Perfect?\n",
    "\n",
    "#### You are given N positive integers. For each given integer A, you have to tell whether it is a perfect number or not. A perfect number is a positive integer which is equal to the sum of its proper positive divisors.\n",
    "\n",
    "\n",
    "\n",
    "    Problem Constraints\n",
    "\n",
    "    1 <= N <= 10\n",
    "\n",
    "    1 <= A <= 106\n",
    "\n",
    "\n",
    "\n",
    "    Input Format\n",
    "\n",
    "    The first line of the input contains a single integer N.\n",
    "\n",
    "    Each of the next N lines contains a single integer A.\n",
    "\n",
    "\n",
    "\n",
    "    Output Format\n",
    "\n",
    "    In a separate line, print YES if a given integer is perfect, else print NO.\n",
    "\n",
    "\n",
    "\n",
    "    Example Input\n",
    "\n",
    "    Input 1:\n",
    "\n",
    "     2\n",
    "     4\n",
    "     6 \n",
    "    Input 2:\n",
    "\n",
    "     1\n",
    "     3 \n",
    "\n",
    "\n",
    "    Example Output\n",
    "\n",
    "    Output 1:\n",
    "\n",
    "     NO\n",
    "     YES \n",
    "    Output 2:\n",
    "\n",
    "     NO \n",
    "\n",
    "\n",
    "    Example Explanation\n",
    "\n",
    "    Explanation 1:\n",
    "\n",
    "     For A = 4, the answer is \"NO\" as sum of its proper divisors = 1 + 2 = 3, is not equal to 4. \n",
    "     For A = 6, the answer is \"YES\" as sum of its proper divisors = 1 + 2 + 3 = 6, is equal to 6. \n",
    "    Explanation 2:\n",
    "\n",
    "     For A = 3, the answer is \"NO\" as sum of its proper divisors = 1, is not equal to 3. "
   ]
  },
  {
   "cell_type": "code",
   "execution_count": 21,
   "id": "b85ac9cb",
   "metadata": {},
   "outputs": [
    {
     "name": "stdout",
     "output_type": "stream",
     "text": [
      "1\n",
      "2\n",
      "3\n"
     ]
    },
    {
     "data": {
      "text/plain": [
       "True"
      ]
     },
     "execution_count": 21,
     "metadata": {},
     "output_type": "execute_result"
    }
   ],
   "source": [
    "def isperfect(n):\n",
    "    factors = 0 \n",
    "    for i in range(1,n):\n",
    "        if n%i == 0:\n",
    "            print(i)\n",
    "            factors += i\n",
    "    if factors == n:\n",
    "        return True\n",
    "    return False\n",
    "            \n",
    "    \n",
    "isperfect(6)"
   ]
  },
  {
   "cell_type": "code",
   "execution_count": null,
   "id": "ec8d88a9",
   "metadata": {},
   "outputs": [],
   "source": []
  },
  {
   "cell_type": "code",
   "execution_count": 22,
   "id": "b6f7f901",
   "metadata": {},
   "outputs": [
    {
     "name": "stdout",
     "output_type": "stream",
     "text": [
      "1\n",
      "2\n",
      "3\n"
     ]
    },
    {
     "data": {
      "text/plain": [
       "True"
      ]
     },
     "execution_count": 22,
     "metadata": {},
     "output_type": "execute_result"
    }
   ],
   "source": [
    "def isperfect(n):\n",
    "    factors = 0 \n",
    "    i = 1\n",
    "    while i < n:\n",
    "        if n%i == 0:\n",
    "            print(i)\n",
    "            factors += i\n",
    "        i+=1\n",
    "    if factors == n:\n",
    "        return True\n",
    "    return False\n",
    "            \n",
    "    \n",
    "isperfect(6)"
   ]
  },
  {
   "cell_type": "code",
   "execution_count": null,
   "id": "7325fc9a",
   "metadata": {},
   "outputs": [],
   "source": []
  },
  {
   "cell_type": "markdown",
   "id": "b4ac6d08",
   "metadata": {},
   "source": [
    "### Armstrong Numbers!\n",
    "\n",
    "#### You are given an integer N you need to print all the Armstrong Numbers between 1 to N.  If sum of cubes of each digit of the number is equal to the number itself, then the number is called an Armstrong number.  \n",
    "    For example, 153 = ( 1 * 1 * 1 ) + ( 5 * 5 * 5 ) + ( 3 * 3 * 3 ).\n",
    "\n",
    "        Problem Constraints\n",
    "        1 <= N <= 500\n",
    "\n",
    "        Input Format\n",
    "        First and only line of input contains an integer N.\n",
    "\n",
    "        Output Format\n",
    "        Output all the Armstrong numbers in range [1,N] each in a new line.\n",
    "\n",
    "        Example Input\n",
    "        Input 1:\n",
    "         5\n",
    "        Input 2:\n",
    "         200\n",
    "\n",
    "        Example Output\n",
    "        Output 1:\n",
    "        1\n",
    "        Output 2:\n",
    "        1\n",
    "        153\n",
    "\n",
    "        Example Explanation\n",
    "        Explanation 1:\n",
    "        1 is an armstrong number.\n",
    "        Explanation 2:\n",
    "        1 and 153 are armstrong number under 200."
   ]
  },
  {
   "cell_type": "code",
   "execution_count": 23,
   "id": "4c89aecf",
   "metadata": {},
   "outputs": [],
   "source": [
    "def isArmstrong(n):\n",
    "    total = 0\n",
    "    original = n\n",
    "    while n != 0:\n",
    "        digit = n % 10\n",
    "        n = n//10\n",
    "        total += (digit)**(len(str(original)))\n",
    "    \n",
    "    if total == original:\n",
    "        return True\n",
    "    return False\n",
    "    \n",
    "        "
   ]
  },
  {
   "cell_type": "code",
   "execution_count": 24,
   "id": "67265877",
   "metadata": {},
   "outputs": [
    {
     "data": {
      "text/plain": [
       "True"
      ]
     },
     "execution_count": 24,
     "metadata": {},
     "output_type": "execute_result"
    }
   ],
   "source": [
    "isArmstrong(548834)"
   ]
  },
  {
   "cell_type": "code",
   "execution_count": null,
   "id": "4908fd3b",
   "metadata": {},
   "outputs": [],
   "source": []
  },
  {
   "cell_type": "code",
   "execution_count": 25,
   "id": "247c9f37",
   "metadata": {},
   "outputs": [
    {
     "name": "stdout",
     "output_type": "stream",
     "text": [
      "0\n",
      "1\n",
      "2\n",
      "3\n",
      "4\n",
      "5\n",
      "6\n",
      "7\n",
      "8\n",
      "9\n",
      "153\n",
      "370\n",
      "371\n",
      "407\n",
      "1634\n",
      "8208\n",
      "9474\n",
      "54748\n",
      "92727\n",
      "93084\n"
     ]
    }
   ],
   "source": [
    "for i in range(100000):\n",
    "    if isArmstrong(i):\n",
    "        print(i)\n",
    "    "
   ]
  },
  {
   "cell_type": "code",
   "execution_count": null,
   "id": "a598c713",
   "metadata": {},
   "outputs": [],
   "source": []
  },
  {
   "cell_type": "code",
   "execution_count": null,
   "id": "cf9e3da0",
   "metadata": {},
   "outputs": [],
   "source": []
  },
  {
   "cell_type": "code",
   "execution_count": null,
   "id": "e879d7de",
   "metadata": {},
   "outputs": [],
   "source": []
  },
  {
   "cell_type": "markdown",
   "id": "4e0e083b",
   "metadata": {},
   "source": [
    "    N = 2048   \n",
    "\n",
    "    step   value\n",
    "    0   2048       N\n",
    "    1   1024       N/2\n",
    "    2   512        N/4\n",
    "    3   256        N/8\n",
    "    4   128        N/2**4\n",
    "    5   64         N/2**5 \n",
    "    6   32\n",
    "    7   16\n",
    "    8   8\n",
    "    9   4\n",
    "    10  2\n",
    "    11  1\n",
    "    .\n",
    "    .\n",
    "    .\n",
    "    k             N/2**k  = 1\n",
    "\n",
    "    N = 2**k\n",
    "\n",
    "    logN =  k  = numbers of steps we want"
   ]
  },
  {
   "cell_type": "code",
   "execution_count": null,
   "id": "ff063f28",
   "metadata": {},
   "outputs": [],
   "source": []
  },
  {
   "cell_type": "markdown",
   "id": "865d9b00",
   "metadata": {},
   "source": [
    "## How many digits are there in 2^46 : "
   ]
  },
  {
   "cell_type": "markdown",
   "id": "319a9b62",
   "metadata": {},
   "source": [
    "    10 ^ ?  = 2^46\n"
   ]
  },
  {
   "cell_type": "markdown",
   "id": "c509ada9",
   "metadata": {},
   "source": [
    "    2^46 = 10^(46/log2(10))"
   ]
  },
  {
   "cell_type": "code",
   "execution_count": 26,
   "id": "c291a2b8",
   "metadata": {},
   "outputs": [
    {
     "data": {
      "text/plain": [
       "70368744177664"
      ]
     },
     "execution_count": 26,
     "metadata": {},
     "output_type": "execute_result"
    }
   ],
   "source": [
    "2**46"
   ]
  },
  {
   "cell_type": "code",
   "execution_count": 27,
   "id": "75dfa1f6",
   "metadata": {},
   "outputs": [
    {
     "data": {
      "text/plain": [
       "14"
      ]
     },
     "execution_count": 27,
     "metadata": {},
     "output_type": "execute_result"
    }
   ],
   "source": [
    "int(46/math.log2(10))+1"
   ]
  },
  {
   "cell_type": "code",
   "execution_count": 28,
   "id": "375d07ea",
   "metadata": {},
   "outputs": [
    {
     "data": {
      "text/plain": [
       "70368744177664.14"
      ]
     },
     "execution_count": 28,
     "metadata": {},
     "output_type": "execute_result"
    }
   ],
   "source": [
    "10**(46/math.log2(10))"
   ]
  },
  {
   "cell_type": "code",
   "execution_count": null,
   "id": "f52e1dd4",
   "metadata": {},
   "outputs": [],
   "source": []
  },
  {
   "cell_type": "code",
   "execution_count": null,
   "id": "2777468b",
   "metadata": {},
   "outputs": [],
   "source": []
  },
  {
   "cell_type": "code",
   "execution_count": 29,
   "id": "324d4fec",
   "metadata": {},
   "outputs": [
    {
     "data": {
      "text/plain": [
       "14348907"
      ]
     },
     "execution_count": 29,
     "metadata": {},
     "output_type": "execute_result"
    }
   ],
   "source": [
    "3**15"
   ]
  },
  {
   "cell_type": "code",
   "execution_count": 30,
   "id": "95a69e98",
   "metadata": {},
   "outputs": [
    {
     "data": {
      "text/plain": [
       "8"
      ]
     },
     "execution_count": 30,
     "metadata": {},
     "output_type": "execute_result"
    }
   ],
   "source": [
    "int(15/math.log(10,3))+1"
   ]
  },
  {
   "cell_type": "code",
   "execution_count": null,
   "id": "bd88b0ec",
   "metadata": {},
   "outputs": [],
   "source": []
  },
  {
   "cell_type": "code",
   "execution_count": null,
   "id": "4173e3f0",
   "metadata": {},
   "outputs": [],
   "source": []
  },
  {
   "cell_type": "markdown",
   "id": "f58d728b",
   "metadata": {},
   "source": [
    "### Create a list of all squares of 1 till 10"
   ]
  },
  {
   "cell_type": "code",
   "execution_count": 31,
   "id": "d98639f6",
   "metadata": {},
   "outputs": [
    {
     "name": "stdout",
     "output_type": "stream",
     "text": [
      "[1, 4, 9, 16, 25, 36, 49, 64, 81, 100]\n"
     ]
    }
   ],
   "source": [
    "sq = []\n",
    "for i in range(1,11):\n",
    "    sq.append(i*i)\n",
    "print(sq)"
   ]
  },
  {
   "cell_type": "code",
   "execution_count": 32,
   "id": "ad033afe",
   "metadata": {},
   "outputs": [
    {
     "data": {
      "text/plain": [
       "[1, 4, 9, 16, 25, 36, 49, 64, 81, 100]"
      ]
     },
     "execution_count": 32,
     "metadata": {},
     "output_type": "execute_result"
    }
   ],
   "source": [
    "[i*i for i in range(1,11)]"
   ]
  },
  {
   "cell_type": "code",
   "execution_count": null,
   "id": "7dbeb8e5",
   "metadata": {},
   "outputs": [],
   "source": []
  },
  {
   "cell_type": "code",
   "execution_count": null,
   "id": "fc9c6950",
   "metadata": {},
   "outputs": [],
   "source": []
  },
  {
   "cell_type": "markdown",
   "id": "0e18eb10",
   "metadata": {},
   "source": [
    "#### What is the time complexity of accessing element at the ith index in an array of size N? Time complexity to access arr[i] ?\n",
    "\n",
    "    O(1)"
   ]
  },
  {
   "cell_type": "code",
   "execution_count": null,
   "id": "a74f694e",
   "metadata": {},
   "outputs": [],
   "source": []
  },
  {
   "cell_type": "markdown",
   "id": "c3fe1d61",
   "metadata": {},
   "source": [
    "### find the sum of array : "
   ]
  },
  {
   "cell_type": "code",
   "execution_count": 33,
   "id": "2f91135f",
   "metadata": {},
   "outputs": [
    {
     "data": {
      "text/plain": [
       "55"
      ]
     },
     "execution_count": 33,
     "metadata": {},
     "output_type": "execute_result"
    }
   ],
   "source": [
    "def sum_array(A):\n",
    "    total =  0\n",
    "    for i in range(len(A)):\n",
    "        total += A[i]\n",
    "    return total\n",
    "sum_array([1,2,3,4,5,6,7,8,9,10])"
   ]
  },
  {
   "cell_type": "code",
   "execution_count": 34,
   "id": "faeeab68",
   "metadata": {},
   "outputs": [
    {
     "data": {
      "text/plain": [
       "55"
      ]
     },
     "execution_count": 34,
     "metadata": {},
     "output_type": "execute_result"
    }
   ],
   "source": [
    "def sum_array(A):\n",
    "    total =  0\n",
    "    for i in A:\n",
    "        total += i\n",
    "    return total\n",
    "sum_array([1,2,3,4,5,6,7,8,9,10])"
   ]
  },
  {
   "cell_type": "code",
   "execution_count": null,
   "id": "317af0b6",
   "metadata": {},
   "outputs": [],
   "source": []
  },
  {
   "cell_type": "markdown",
   "id": "3ef97bd8",
   "metadata": {},
   "source": [
    "### Given N elements in list ,count number of elements which have atleast 1 element greater than itself present in the list : "
   ]
  },
  {
   "cell_type": "code",
   "execution_count": 35,
   "id": "a10f8416",
   "metadata": {},
   "outputs": [
    {
     "data": {
      "text/plain": [
       "9"
      ]
     },
     "execution_count": 35,
     "metadata": {},
     "output_type": "execute_result"
    }
   ],
   "source": [
    "A = [1,3,2,6,8,9,0,-30,-20,5]\n",
    "\n",
    "def count_greater_elements(A):\n",
    "    n = len(A)\n",
    "    count = 0\n",
    "    for x in A:\n",
    "        haslarger = False\n",
    "        for value in A:\n",
    "            if value > x:\n",
    "                haslarger = True\n",
    "        if haslarger:\n",
    "            count += 1\n",
    "    return count\n",
    "count_greater_elements(A)"
   ]
  },
  {
   "cell_type": "code",
   "execution_count": 36,
   "id": "547b65e5",
   "metadata": {},
   "outputs": [
    {
     "data": {
      "text/plain": [
       "2"
      ]
     },
     "execution_count": 36,
     "metadata": {},
     "output_type": "execute_result"
    }
   ],
   "source": [
    "count_greater_elements([8,8,8,1,8,8,8,2])"
   ]
  },
  {
   "cell_type": "code",
   "execution_count": null,
   "id": "bb1f305e",
   "metadata": {},
   "outputs": [],
   "source": []
  },
  {
   "cell_type": "code",
   "execution_count": 37,
   "id": "4ee9358f",
   "metadata": {},
   "outputs": [
    {
     "data": {
      "text/plain": [
       "2"
      ]
     },
     "execution_count": 37,
     "metadata": {},
     "output_type": "execute_result"
    }
   ],
   "source": [
    "def count_greater_elements(A):\n",
    "    \n",
    "    n = len(A)\n",
    "    maxval = -float(\"inf\")\n",
    "    \n",
    "    for i in A:\n",
    "        if i > maxval:\n",
    "            maxval = i\n",
    "\n",
    "    not_max_count = 0\n",
    "    \n",
    "    for x in A:\n",
    "        if x < maxval:\n",
    "            not_max_count += 1\n",
    "            \n",
    "    return not_max_count\n",
    "            \n",
    "    \n",
    "    \n",
    "count_greater_elements([8,8,8,1,8,8,8,2])"
   ]
  },
  {
   "cell_type": "code",
   "execution_count": null,
   "id": "d0661633",
   "metadata": {},
   "outputs": [],
   "source": []
  },
  {
   "cell_type": "markdown",
   "id": "62dd5a64",
   "metadata": {},
   "source": [
    "### Reverse the given list : "
   ]
  },
  {
   "cell_type": "code",
   "execution_count": 38,
   "id": "bc23f99e",
   "metadata": {},
   "outputs": [
    {
     "data": {
      "text/plain": [
       "[8, 6, 3, 10, 1]"
      ]
     },
     "execution_count": 38,
     "metadata": {},
     "output_type": "execute_result"
    }
   ],
   "source": [
    "A = [1,10,3,6,8]\n",
    "A[::-1]"
   ]
  },
  {
   "cell_type": "code",
   "execution_count": 39,
   "id": "cb0f12d4",
   "metadata": {},
   "outputs": [
    {
     "data": {
      "text/plain": [
       "[8, 6, 3, 10, 1]"
      ]
     },
     "execution_count": 39,
     "metadata": {},
     "output_type": "execute_result"
    }
   ],
   "source": [
    "def reverse_list(A):\n",
    "    \n",
    "    n = len(A)\n",
    "    reversed_list = []\n",
    "    for i in reversed(range(len(A))):\n",
    "        reversed_list.append(A[i])\n",
    "        \n",
    "    return reversed_list\n",
    "\n",
    "reverse_list(A)"
   ]
  },
  {
   "cell_type": "code",
   "execution_count": 40,
   "id": "e673d402",
   "metadata": {},
   "outputs": [
    {
     "data": {
      "text/plain": [
       "[8, 6, 3, 10, 1]"
      ]
     },
     "execution_count": 40,
     "metadata": {},
     "output_type": "execute_result"
    }
   ],
   "source": [
    "def reverse_list(A):\n",
    "    \n",
    "    n = len(A)\n",
    "    \n",
    "    for i in range(len(A)//2):\n",
    "        A[i],A[n-i-1] = A[n-i-1],A[i]    # tuple unpacking \n",
    "    return A\n",
    "\n",
    "reverse_list(A)"
   ]
  },
  {
   "cell_type": "markdown",
   "id": "a1921d38",
   "metadata": {},
   "source": [
    "    i   <>  n-1\n",
    "    i+1 <>  n-i-1\n",
    "    \n",
    "    0 <> 5\n",
    "    1 <> 4\n",
    "    2 <> 3 stop here. n//2\n",
    "    3 <> 2 \n",
    "    "
   ]
  },
  {
   "cell_type": "code",
   "execution_count": 41,
   "id": "f7b55bea",
   "metadata": {},
   "outputs": [
    {
     "data": {
      "text/plain": [
       "[8, 6, 3, 10, 1]"
      ]
     },
     "execution_count": 41,
     "metadata": {},
     "output_type": "execute_result"
    }
   ],
   "source": [
    "def reverse_list(A):\n",
    "    \n",
    "    n = len(A)\n",
    "    \n",
    "    for i in range(len(A)//2):\n",
    "        temp = A[i]\n",
    "        A[i] = A[n-i-1]\n",
    "        A[n-i-1] = temp\n",
    "        \n",
    "    return A\n",
    "\n",
    "A = [1,10,3,6,8]\n",
    "\n",
    "reverse_list(A)"
   ]
  },
  {
   "cell_type": "code",
   "execution_count": null,
   "id": "dedd0186",
   "metadata": {},
   "outputs": [],
   "source": []
  },
  {
   "cell_type": "markdown",
   "id": "dec664af",
   "metadata": {},
   "source": [
    "###  Rotation Game\n",
    "\n",
    "### Given an integer array A of size N and an integer B, you have to print the same array after rotating it B times towards the right.\n",
    "\n",
    "\n",
    "    Problem Constraints\n",
    "    1 <= N <= 106\n",
    "    1 <= A[i] <=108\n",
    "    1 <= B <= 109\n",
    "\n",
    "\n",
    "    Input Format\n",
    "    There are 2 lines in the input\n",
    "\n",
    "    Line 1: The first number is the size N of the array A. Then N numbers follow which indicate the elements in the array A.\n",
    "\n",
    "    Line 2: A single integer B.\n",
    "\n",
    "\n",
    "    Output Format\n",
    "    Print array A after rotating it B times towards the right.\n",
    "\n",
    "\n",
    "    Example Input\n",
    "    Input 1 :\n",
    "    4 1 2 3 4\n",
    "    2\n",
    "\n",
    "\n",
    "    Example Output\n",
    "    Output 1 :\n",
    "    3 4 1 2\n",
    "\n",
    "\n",
    "    Example Explanation\n",
    "    Example 1 :\n",
    "\n",
    "    N = 4, A = [1, 2, 3, 4] and B = 2.\n",
    "\n",
    "    Rotate towards the right 2 times - [1, 2, 3, 4] => [4, 1, 2, 3] => [3, 4, 1, 2]\n",
    "\n",
    "    Final array = [3, 4, 1, 2]\n"
   ]
  },
  {
   "cell_type": "code",
   "execution_count": 42,
   "id": "3147e0ed",
   "metadata": {},
   "outputs": [
    {
     "name": "stdout",
     "output_type": "stream",
     "text": [
      "5 1 2 3 4 5\n",
      "2\n",
      "length of array:  5\n",
      "Array: [1, 2, 3, 4, 5]\n"
     ]
    },
    {
     "data": {
      "text/plain": [
       "[4, 5, 1, 2, 3]"
      ]
     },
     "execution_count": 42,
     "metadata": {},
     "output_type": "execute_result"
    }
   ],
   "source": [
    "A = list(map(int,input().split()))\n",
    "\n",
    "rotations = int(input())\n",
    "n = A.pop(0)\n",
    "print(\"length of array: \",n)\n",
    "print(\"Array:\",A)\n",
    "\n",
    "rotations = rotations % n\n",
    "\n",
    "for i in range(rotations):\n",
    "    A.insert(0,A.pop())\n",
    "    \n",
    "A    \n"
   ]
  },
  {
   "cell_type": "code",
   "execution_count": null,
   "id": "f6ee3675",
   "metadata": {},
   "outputs": [],
   "source": []
  },
  {
   "cell_type": "markdown",
   "id": "4660b324",
   "metadata": {},
   "source": [
    "### Good Pair\n",
    "\n",
    "### Given an array A and an integer B. A pair(i, j) in the array is a good pair if i != j and (A[i] + A[j] == B). Check if any good pair exist or not.\n",
    "\n",
    "    Problem Constraints\n",
    "    1 <= A.size() <= 104\n",
    "    1 <= A[i] <= 109\n",
    "    1 <= B <= 109\n",
    "\n",
    "    Input Format\n",
    "    First argument is an integer array A.\n",
    "    Second argument is an integer B.\n",
    "\n",
    "    Output Format\n",
    "    Return 1 if good pair exist otherwise return 0.\n",
    "\n",
    "    Example Input\n",
    "    Input 1:\n",
    "    A = [1,2,3,4]\n",
    "    B = 7\n",
    "    Input 2:\n",
    "    A = [1,2,4]\n",
    "    B = 4\n",
    "    Input 3:\n",
    "    A = [1,2,2]\n",
    "    B = 4\n",
    "\n",
    "    Example Output\n",
    "    Output 1:\n",
    "    1\n",
    "    Output 2:\n",
    "    0\n",
    "    Output 3:\n",
    "    1\n",
    "\n",
    "    Example Explanation\n",
    "    Explanation 1:\n",
    "     (i,j) = (3,4)\n",
    "    Explanation 2:\n",
    "    No pair has sum equal to 4.\n",
    "    Explanation 3:\n",
    "     (i,j) = (2,3)"
   ]
  },
  {
   "cell_type": "code",
   "execution_count": 49,
   "id": "bfdd7223",
   "metadata": {},
   "outputs": [
    {
     "data": {
      "text/plain": [
       "1"
      ]
     },
     "execution_count": 49,
     "metadata": {},
     "output_type": "execute_result"
    }
   ],
   "source": [
    "# what is asked n question:\n",
    "\n",
    "def GoodPair(A,k):\n",
    "    n = len(A)\n",
    "    for i in range(n):\n",
    "        for j in range(i,n):\n",
    "            if i!=j:\n",
    "                if A[i]+A[j]==k:\n",
    "                    return 1\n",
    "    return 0\n",
    "\n",
    "A = [1,2,3,4]\n",
    "k = 7\n",
    "GoodPair(A,k) "
   ]
  },
  {
   "cell_type": "code",
   "execution_count": 50,
   "id": "722e5161",
   "metadata": {},
   "outputs": [],
   "source": [
    "# variations : "
   ]
  },
  {
   "cell_type": "code",
   "execution_count": 53,
   "id": "db9c877a",
   "metadata": {},
   "outputs": [
    {
     "name": "stdout",
     "output_type": "stream",
     "text": [
      "1\n"
     ]
    }
   ],
   "source": [
    "A = [1,2,3,4]\n",
    "k = 7\n",
    "\n",
    "n = len(A)\n",
    "c = 0\n",
    "for i in range(n):\n",
    "    for j in range(i,n):\n",
    "        if A[i]+A[j] == k:\n",
    "            c+=1\n",
    "print(c)\n",
    "\n",
    "A = [1,2,3,4,4,3]\n",
    "k = 7\n",
    "   # combination pair counts"
   ]
  },
  {
   "cell_type": "code",
   "execution_count": 54,
   "id": "ad4784c7",
   "metadata": {},
   "outputs": [],
   "source": [
    "# individual pair counts "
   ]
  },
  {
   "cell_type": "code",
   "execution_count": 55,
   "id": "7b2e8c04",
   "metadata": {},
   "outputs": [
    {
     "data": {
      "text/plain": [
       "2"
      ]
     },
     "execution_count": 55,
     "metadata": {},
     "output_type": "execute_result"
    }
   ],
   "source": [
    "A = [1,2,3,4]\n",
    "k = 7\n",
    "\n",
    "def GoodPair(A,k):\n",
    "    \n",
    "    n = len(A)\n",
    "    c = 0\n",
    "    Aset = set()\n",
    "    \n",
    "    for i in A:\n",
    "        target = k-i\n",
    "        if target in Aset:\n",
    "            c+=1\n",
    "        else:\n",
    "            Aset.add(i)\n",
    "    return c\n",
    "    \n",
    "\n",
    "A = [1,2,3,4,2,4]\n",
    "k = 6\n",
    "GoodPair(A,k)"
   ]
  },
  {
   "cell_type": "code",
   "execution_count": null,
   "id": "8686c514",
   "metadata": {},
   "outputs": [],
   "source": []
  },
  {
   "cell_type": "markdown",
   "id": "6d58caef",
   "metadata": {},
   "source": [
    "###  Max and Min of an Array\n",
    "\n",
    "  \n",
    "\n"
   ]
  },
  {
   "cell_type": "code",
   "execution_count": 56,
   "id": "2b271177",
   "metadata": {},
   "outputs": [
    {
     "name": "stdout",
     "output_type": "stream",
     "text": [
      "7 9 8 5 4 1 2 3 5\n",
      "9 1\n"
     ]
    }
   ],
   "source": [
    "A = list(map(int,input().split()))\n",
    "N = A[0]\n",
    "maxm = A[1]\n",
    "\n",
    "\n",
    "for i in range(1,N+1):\n",
    "    if A[i] > maxm:\n",
    "        maxm = A[i]\n",
    "\n",
    "minm = A[1]\n",
    "for i in range(1,N):\n",
    "    if A[i]<minm:\n",
    "        minm = A[i]\n",
    "\n",
    "print(maxm,minm)\n"
   ]
  },
  {
   "cell_type": "code",
   "execution_count": null,
   "id": "4acf043e",
   "metadata": {},
   "outputs": [],
   "source": []
  },
  {
   "cell_type": "markdown",
   "id": "216c4207",
   "metadata": {},
   "source": [
    "### Little Ponny and Maximum Element\n",
    "\n",
    "#### Little Ponny is given an array, A, of N integers. In a particular operation, he can set any element of the array equal to -1. He wants your help in finding out the minimum number of operations required such that the maximum element of the resulting array is B. If it is not possible, then return -1.\n",
    "\n",
    "\n",
    "    Problem Constraints\n",
    "    1 <= |A| <= 105\n",
    "    1 <= A[i] <= 109\n",
    "\n",
    "    Input Format\n",
    "    The first argument of input contains an integer array, A.\n",
    "    The second argument of input contains an integer, B.\n",
    "\n",
    "    Output Format\n",
    "    Return an integer representing the answer.\n",
    "\n",
    "    Example Input\n",
    "    Input 1:\n",
    "\n",
    "     A = [2, 4, 3, 1, 5]\n",
    "     B = 3 \n",
    "    Input 2:\n",
    "\n",
    "     A = [1, 4, 2]\n",
    "     B = 3 \n",
    "\n",
    "    Example Output\n",
    "    Output 1:\n",
    "     2 \n",
    "    Output 2:\n",
    "     -1 \n",
    "\n",
    "    Example Explanation\n",
    "    Explanation 1:\n",
    "\n",
    "     We need to remove 4 and 5 to make 3 the biggest element. \n",
    "    Explanation 2:\n",
    "\n",
    "     As 3 doesn't exist in the array, the answer is -1. "
   ]
  },
  {
   "cell_type": "code",
   "execution_count": null,
   "id": "eadbe95e",
   "metadata": {},
   "outputs": [],
   "source": []
  },
  {
   "cell_type": "code",
   "execution_count": null,
   "id": "d05070a6",
   "metadata": {},
   "outputs": [],
   "source": []
  },
  {
   "cell_type": "code",
   "execution_count": null,
   "id": "2358e12f",
   "metadata": {},
   "outputs": [],
   "source": []
  },
  {
   "cell_type": "code",
   "execution_count": null,
   "id": "bf3cf8c4",
   "metadata": {},
   "outputs": [],
   "source": []
  },
  {
   "cell_type": "code",
   "execution_count": null,
   "id": "5f5fb44e",
   "metadata": {},
   "outputs": [],
   "source": []
  },
  {
   "cell_type": "code",
   "execution_count": null,
   "id": "afd442d8",
   "metadata": {},
   "outputs": [],
   "source": []
  },
  {
   "cell_type": "code",
   "execution_count": null,
   "id": "afd0211e",
   "metadata": {},
   "outputs": [],
   "source": []
  },
  {
   "cell_type": "code",
   "execution_count": 57,
   "id": "387aaba1",
   "metadata": {},
   "outputs": [
    {
     "data": {
      "text/plain": [
       "2"
      ]
     },
     "execution_count": 57,
     "metadata": {},
     "output_type": "execute_result"
    }
   ],
   "source": [
    "A = [2, 4, 3, 1, 5]\n",
    "B = 3 \n",
    "def little_pony_max_element(A,B):\n",
    "    if B not in A:\n",
    "        return -1\n",
    "    number_of_operations = 0\n",
    "    n = len(A)\n",
    "    maxele_to_be = B\n",
    "    for i in A:\n",
    "        if i > maxele_to_be:\n",
    "            number_of_operations +=  1\n",
    "    return number_of_operations\n",
    "    \n",
    "\n",
    "A = [2, 4, 3, 1, 5]\n",
    "B = 3 \n",
    "little_pony_max_element(A,B)\n",
    "    "
   ]
  },
  {
   "cell_type": "code",
   "execution_count": 58,
   "id": "5fea1e4d",
   "metadata": {},
   "outputs": [
    {
     "data": {
      "text/plain": [
       "-1"
      ]
     },
     "execution_count": 58,
     "metadata": {},
     "output_type": "execute_result"
    }
   ],
   "source": [
    "\n",
    "A = [1, 4, 2]\n",
    "B = 3 \n",
    "little_pony_max_element(A,B)\n"
   ]
  },
  {
   "cell_type": "code",
   "execution_count": null,
   "id": "12bbe034",
   "metadata": {},
   "outputs": [],
   "source": []
  },
  {
   "cell_type": "markdown",
   "id": "92f73b43",
   "metadata": {},
   "source": [
    "### Second Largest\n",
    "\n",
    "### You are given an integer array A. You have to find the second largest element/value in the array or report that no such element exists.\n",
    "\n",
    "    Problem Constraints\n",
    "    1 <= |A| <= 105\n",
    "    0 <= A[i] <= 109\n",
    "\n",
    "    Input Format\n",
    "    The first argument is an integer array A.\n",
    "    Output Format\n",
    "    Return the second largest element. If no such element exist then return -1.\n",
    "\n",
    "    Example Input\n",
    "    Input 1:\n",
    "     A = [2, 1, 2] \n",
    "    Input 2:\n",
    "     A = [2]\n",
    "    Example Output\n",
    "    Output 1:\n",
    "     2 \n",
    "    Output 2:\n",
    "     -1 \n",
    "\n",
    "    Example Explanation\n",
    "    Explanation 1:\n",
    "\n",
    "     First largest element = 2\n",
    "     Second largest element = 2\n",
    "     Third largest element = 1\n",
    "    Explanation 2:\n",
    "\n",
    "     There is no second largest element in the array."
   ]
  },
  {
   "cell_type": "code",
   "execution_count": 59,
   "id": "5f71bc7e",
   "metadata": {},
   "outputs": [
    {
     "data": {
      "text/plain": [
       "(7, 9)"
      ]
     },
     "execution_count": 59,
     "metadata": {},
     "output_type": "execute_result"
    }
   ],
   "source": [
    "A = [1,2,3,4,5]\n",
    "def find_Second_largest(A):\n",
    "    n = len(A)\n",
    "    \n",
    "    max1 = -float(\"inf\")\n",
    "    max2 = -float(\"inf\")\n",
    "    \n",
    "    for i in A:\n",
    "        if i > max1:\n",
    "            max2 = max1\n",
    "            max1 = i\n",
    "        elif i > max2:\n",
    "            max2 = i\n",
    "    if max2 == -float(\"inf\"):\n",
    "        return -1,max1\n",
    "    return max2,max1\n",
    "    \n",
    "    \n",
    "A = [9,4,2,7,3]\n",
    "find_Second_largest(A)\n"
   ]
  },
  {
   "cell_type": "code",
   "execution_count": 60,
   "id": "e16faeec",
   "metadata": {},
   "outputs": [
    {
     "data": {
      "text/plain": [
       "(-1, 99)"
      ]
     },
     "execution_count": 60,
     "metadata": {},
     "output_type": "execute_result"
    }
   ],
   "source": [
    "A = [99]\n",
    "find_Second_largest(A)\n"
   ]
  },
  {
   "cell_type": "code",
   "execution_count": null,
   "id": "595ed0f5",
   "metadata": {},
   "outputs": [],
   "source": []
  },
  {
   "cell_type": "markdown",
   "id": "61404720",
   "metadata": {},
   "source": [
    "### MINIMUM PICKS\n",
    "\n",
    "#### You are given an array of integers A of size N. Return the difference between the maximum among all even numbers of A and the minimum among all odd numbers in A."
   ]
  },
  {
   "cell_type": "code",
   "execution_count": 61,
   "id": "04ffb5e5",
   "metadata": {},
   "outputs": [],
   "source": [
    "def minimum_picks(A):\n",
    "    odds = [x for x in A if x%2!=0]\n",
    "    even = [x for x in A if x%2==0]\n",
    "\n",
    "\n",
    "\n",
    "    return max(even)-min(odds)"
   ]
  },
  {
   "cell_type": "code",
   "execution_count": 62,
   "id": "d25b97e5",
   "metadata": {},
   "outputs": [
    {
     "data": {
      "text/plain": [
       "99"
      ]
     },
     "execution_count": 62,
     "metadata": {},
     "output_type": "execute_result"
    }
   ],
   "source": [
    "minimum_picks([5,17,100,1])"
   ]
  },
  {
   "cell_type": "code",
   "execution_count": null,
   "id": "ae13ee6e",
   "metadata": {},
   "outputs": [],
   "source": []
  },
  {
   "cell_type": "markdown",
   "id": "c8235cf4",
   "metadata": {},
   "source": [
    "### Separate Odd Even\n",
    "\n",
    "#### You are given an integer T denoting the number of test cases. For each test case, you are given an integer array A. You have to print the odd and even elements of array A in 2 separate lines. \n",
    "    NOTE: Array elements should have the same relative order as in A.\n",
    "\n",
    "\n",
    "\n",
    "    Problem Constraints\n",
    "    1 <= T <= 10\n",
    "\n",
    "    1 <= |A| <= 105\n",
    "\n",
    "    1 <= A[i] <= 109\n",
    "\n",
    "\n",
    "\n",
    "    Input Format\n",
    "    First line of the input contains a single integer T.\n",
    "\n",
    "    For each test case:\n",
    "\n",
    "    First line consists of a single integer |A| denoting the length of array.\n",
    "    Second line consists of |A| space separated integers denoting the elements of array A.\n",
    "\n",
    "\n",
    "    Output Format\n",
    "    For each test case:\n",
    "\n",
    "    First line should contain an array of space separated integers containing all the odd elements of array A\n",
    "    Second line should contain an array of space separated integers containing all the even elements of array A\n",
    "\n",
    "\n",
    "    Example Input\n",
    "    Input 1:\n",
    "\n",
    "     2 \n",
    "     5\n",
    "     1 2 3 4 5\n",
    "     3\n",
    "     4 3 2\n",
    "    Input 2:\n",
    "\n",
    "     2 \n",
    "     3\n",
    "     2 2 2\n",
    "     2\n",
    "     1 1\n",
    "\n",
    "\n",
    "    Example Output\n",
    "    Output 1:\n",
    "\n",
    "     1 3 5\n",
    "     2 4\n",
    "     3\n",
    "     4 2\n",
    "    Output 2:\n",
    "\n",
    "\n",
    "     2 2 2\n",
    "     1 1\n",
    "\n",
    "\n",
    "\n",
    "    Example Explanation\n",
    "    Explanation 1:\n",
    "\n",
    "     Test Case 1: \n",
    "     Odd elements in the array(in the order they occur) are: 1, 3, 5.\n",
    "     Even elements in the array(in the order they occur) are: 2, 4.\n",
    "\n",
    "     Test Case 2 \n",
    "     Odd elements in the array(in the order they occur) are: 3.\n",
    "     Even elements in the array(in the order they occur) are: 4, 2.\n",
    "    Explanation 2:\n",
    "\n",
    "     Test Case 1: \n",
    "     There are no odd elements in the array.\n",
    "     Even elements in the array(in the order they occur) are: 2, 2, 2.\n",
    "\n",
    "     Test Case 2 \n",
    "     Odd elements in the array(in the order they occur) are: 1, 1.\n",
    "     There are no even elements in the array."
   ]
  },
  {
   "cell_type": "code",
   "execution_count": 66,
   "id": "01e72340",
   "metadata": {},
   "outputs": [
    {
     "name": "stdout",
     "output_type": "stream",
     "text": [
      "1\n",
      "1\n",
      "2\n",
      "\n",
      "2 \n"
     ]
    }
   ],
   "source": [
    "def main():\n",
    "    \n",
    "    T = int(input())\n",
    "    while T>0:\n",
    "        T = T-1\n",
    "\n",
    "        L = int(input())\n",
    "        A = list(map(int,input().split()))\n",
    "        \n",
    "        for i in A:\n",
    "            if i%2!=0:\n",
    "                print(i,end =\" \")\n",
    "        print()\n",
    "        for i in A:\n",
    "            if i%2==0:\n",
    "                print(i,end =\" \")\n",
    "        print()\n",
    "\n",
    "\n",
    "    return 0\n",
    "\n",
    "if __name__ == '__main__':\n",
    "    main()"
   ]
  },
  {
   "cell_type": "code",
   "execution_count": null,
   "id": "de672320",
   "metadata": {},
   "outputs": [],
   "source": []
  },
  {
   "cell_type": "code",
   "execution_count": null,
   "id": "3b3e2660",
   "metadata": {},
   "outputs": [],
   "source": []
  },
  {
   "cell_type": "code",
   "execution_count": null,
   "id": "51dbb1db",
   "metadata": {},
   "outputs": [],
   "source": []
  },
  {
   "cell_type": "code",
   "execution_count": null,
   "id": "8b642844",
   "metadata": {},
   "outputs": [],
   "source": []
  },
  {
   "cell_type": "markdown",
   "id": "98bd4765",
   "metadata": {},
   "source": [
    "### Given an array of n integers , Q queries are given . \n",
    "### In each query start and end index given . print sum of start to end index ."
   ]
  },
  {
   "cell_type": "code",
   "execution_count": null,
   "id": "8547cb7a",
   "metadata": {},
   "outputs": [],
   "source": []
  },
  {
   "cell_type": "code",
   "execution_count": null,
   "id": "6b1612f7",
   "metadata": {},
   "outputs": [],
   "source": []
  },
  {
   "cell_type": "code",
   "execution_count": 69,
   "id": "1bde301f",
   "metadata": {},
   "outputs": [
    {
     "name": "stdout",
     "output_type": "stream",
     "text": [
      "start:1\n",
      "end:3\n",
      "sum: -3\n",
      "start:4\n",
      "end:5\n",
      "sum: 18\n"
     ]
    }
   ],
   "source": [
    "def give_query_results(A,Q):\n",
    "\n",
    "    while Q > 0:\n",
    "        start = int(input(\"start:\"))\n",
    "        end = int(input(\"end:\"))\n",
    "        ans = 0\n",
    "        for i in range(start,end+1):\n",
    "            ans += A[i]\n",
    "        print(\"sum:\",ans)\n",
    "        Q -= 1\n",
    "give_query_results([1, 3, 0, -6, 8, 10, 2, 7],2)"
   ]
  },
  {
   "cell_type": "code",
   "execution_count": 70,
   "id": "d3e00a61",
   "metadata": {},
   "outputs": [
    {
     "data": {
      "text/plain": [
       "79"
      ]
     },
     "execution_count": 70,
     "metadata": {},
     "output_type": "execute_result"
    }
   ],
   "source": [
    "439-360"
   ]
  },
  {
   "cell_type": "code",
   "execution_count": null,
   "id": "461208bb",
   "metadata": {},
   "outputs": [],
   "source": []
  },
  {
   "cell_type": "code",
   "execution_count": null,
   "id": "6b2c143b",
   "metadata": {},
   "outputs": [],
   "source": []
  },
  {
   "cell_type": "code",
   "execution_count": null,
   "id": "e84612e5",
   "metadata": {},
   "outputs": [],
   "source": []
  },
  {
   "cell_type": "code",
   "execution_count": null,
   "id": "7ee9aa18",
   "metadata": {},
   "outputs": [],
   "source": []
  },
  {
   "cell_type": "code",
   "execution_count": null,
   "id": "765f4b0b",
   "metadata": {},
   "outputs": [],
   "source": []
  },
  {
   "cell_type": "code",
   "execution_count": null,
   "id": "da8e15c5",
   "metadata": {},
   "outputs": [],
   "source": []
  },
  {
   "cell_type": "markdown",
   "id": "c203d8f4",
   "metadata": {},
   "source": [
    "### Given the scores of the last 10 overs of a cricket match:\n",
    "\n",
    "    288, 312, 330, 349, 360, 383, 394, 406, 436, 439\n",
    "\n",
    "#### How many runs were scored in the last 5 overs?\n",
    "\n",
    "    439-360 = 79\n",
    "\n"
   ]
  },
  {
   "cell_type": "code",
   "execution_count": null,
   "id": "c9c61dc5",
   "metadata": {},
   "outputs": [],
   "source": []
  },
  {
   "cell_type": "code",
   "execution_count": null,
   "id": "0bab0132",
   "metadata": {},
   "outputs": [],
   "source": []
  },
  {
   "cell_type": "markdown",
   "id": "52fa9523",
   "metadata": {},
   "source": [
    "### Given the scores of the last 10 overs of a cricket match :\n",
    "\n",
    "    288, 312, 330, 349, 360, 383, 394, 406, 436, 439\n",
    "\n",
    "#### How many runs were scored from 42nd to 45th over (both included) ?\n",
    "\n",
    "    360-288 = 72\n"
   ]
  },
  {
   "cell_type": "code",
   "execution_count": 71,
   "id": "64e8f035",
   "metadata": {},
   "outputs": [],
   "source": [
    "# finding difference score between overs :"
   ]
  },
  {
   "cell_type": "code",
   "execution_count": 72,
   "id": "f716d98a",
   "metadata": {},
   "outputs": [
    {
     "data": {
      "text/plain": [
       "[24, 18, 19, 11, 23, 11, 12, 30, 3]"
      ]
     },
     "execution_count": 72,
     "metadata": {},
     "output_type": "execute_result"
    }
   ],
   "source": [
    "cumsum = [288, 312, 330, 349, 360, 383, 394, 406, 436, 439]\n",
    "score_per_over = []\n",
    "n = len(cumsum)\n",
    "\n",
    "\n",
    "for i in range(len(cumsum)-1):\n",
    "    \n",
    "    score_per_over.append(cumsum[i+1]-cumsum[i])\n",
    "\n",
    "score_per_over"
   ]
  },
  {
   "cell_type": "code",
   "execution_count": null,
   "id": "08a269be",
   "metadata": {},
   "outputs": [],
   "source": []
  },
  {
   "cell_type": "markdown",
   "id": "e078d09c",
   "metadata": {},
   "source": [
    "### Prefix Sum (Cumulative Sum) : "
   ]
  },
  {
   "cell_type": "code",
   "execution_count": 73,
   "id": "ceb03fa7",
   "metadata": {},
   "outputs": [
    {
     "data": {
      "text/plain": [
       "[1, 4, 4, -2, 2, 9, 17, 26]"
      ]
     },
     "execution_count": 73,
     "metadata": {},
     "output_type": "execute_result"
    }
   ],
   "source": [
    "def prefix_sum(A):\n",
    "    prefixsum = [A[0]]\n",
    "    for i in A[1:]:\n",
    "        prefixsum.append(i + prefixsum[-1])\n",
    "    return prefixsum\n",
    "    \n",
    "\n",
    "prefix_sum([1, 3, 0, -6, 4, 7, 8, 9])"
   ]
  },
  {
   "cell_type": "code",
   "execution_count": 74,
   "id": "37718a90",
   "metadata": {},
   "outputs": [
    {
     "data": {
      "text/plain": [
       "[288, 312, 330, 349, 360, 383, 394, 406, 436, 439]"
      ]
     },
     "execution_count": 74,
     "metadata": {},
     "output_type": "execute_result"
    }
   ],
   "source": [
    "prefix_sum([288,24, 18, 19, 11, 23, 11, 12, 30, 3])"
   ]
  },
  {
   "cell_type": "code",
   "execution_count": null,
   "id": "de7c193c",
   "metadata": {},
   "outputs": [],
   "source": []
  },
  {
   "cell_type": "markdown",
   "id": "d04ad33c",
   "metadata": {},
   "source": [
    "    if s == 0:\n",
    "    \n",
    "    sum_till_e = prefix[e]\n",
    "    \n",
    "    else:\n",
    "    if s != 0:\n",
    "    \n",
    "    Sum_Between_S_and_E = prefix[e]-prefix[s-1]"
   ]
  },
  {
   "cell_type": "code",
   "execution_count": 76,
   "id": "bec2170d",
   "metadata": {},
   "outputs": [
    {
     "name": "stdout",
     "output_type": "stream",
     "text": [
      "start:2\n",
      "end:3\n",
      "-6\n",
      "start:4\n",
      "end:5\n",
      "18\n"
     ]
    }
   ],
   "source": [
    "def give_query_results(A,Q):\n",
    "    \n",
    "    prefixsum = [A[0]]\n",
    "    for i in A[1:]:\n",
    "        prefixsum.append(i + prefixsum[-1])\n",
    "        \n",
    "    while Q > 0:\n",
    "        start = int(input(\"start:\"))\n",
    "        end = int(input(\"end:\"))\n",
    "        if start == 0:\n",
    "            print(prefixsum[end])\n",
    "        else:\n",
    "            print(prefixsum[end]-prefixsum[start-1])\n",
    "        \n",
    "        Q -= 1\n",
    "give_query_results([1, 3, 0, -6, 8, 10, 2, 7],2)"
   ]
  },
  {
   "cell_type": "code",
   "execution_count": null,
   "id": "41609fc4",
   "metadata": {},
   "outputs": [],
   "source": []
  },
  {
   "cell_type": "code",
   "execution_count": null,
   "id": "cff66d22",
   "metadata": {},
   "outputs": [],
   "source": []
  },
  {
   "cell_type": "markdown",
   "id": "a1c549c4",
   "metadata": {},
   "source": [
    "#### Sum of all elements from index i to j :\n",
    "\n",
    "    If i!=0: sum = pf[j] - pf[i-1]\n",
    "\n",
    "    if i==0: sum = pf[j]\n"
   ]
  },
  {
   "cell_type": "code",
   "execution_count": null,
   "id": "a1125915",
   "metadata": {},
   "outputs": [],
   "source": []
  },
  {
   "cell_type": "code",
   "execution_count": null,
   "id": "999d480d",
   "metadata": {},
   "outputs": [],
   "source": []
  },
  {
   "cell_type": "markdown",
   "id": "cc128c36",
   "metadata": {},
   "source": [
    "### Given an array of size N return True if there is an equilibrium  index in the array . i is an equilibrium index if \n",
    "   #### sum of elements before i = sum of elemebts after i \n",
    "   \n",
    "   #### a[0] + .. + a[i-1] = a[i+1]+...+a[n-1]"
   ]
  },
  {
   "cell_type": "code",
   "execution_count": 77,
   "id": "a08b0e3e",
   "metadata": {},
   "outputs": [],
   "source": [
    "# not every array has the equilibrium index . \n",
    "# like  [1,2,3,4,5].\n"
   ]
  },
  {
   "cell_type": "code",
   "execution_count": 78,
   "id": "ac4397d0",
   "metadata": {},
   "outputs": [
    {
     "data": {
      "text/plain": [
       "[5]"
      ]
     },
     "execution_count": 78,
     "metadata": {},
     "output_type": "execute_result"
    }
   ],
   "source": [
    "def equilibrium_index(A):   # TC:O(^2),SC:O(1)\n",
    "    \n",
    "    n = len(A)\n",
    "    eq_index = []\n",
    "    for i in range(n):\n",
    "        before_i = 0\n",
    "        for j in range(0,i):\n",
    "            before_i += A[j]\n",
    "        after_i = 0\n",
    "        for j in range(i+1,n):\n",
    "            after_i += A[j]\n",
    "        if before_i == after_i:\n",
    "            eq_index.append(i)\n",
    "    return eq_index\n",
    "            \n",
    "        \n",
    "A = [1,2,3,4,5,8,15]\n",
    "equilibrium_index(A)"
   ]
  },
  {
   "cell_type": "code",
   "execution_count": 79,
   "id": "5a73d41b",
   "metadata": {},
   "outputs": [
    {
     "data": {
      "text/plain": [
       "[3, 6]"
      ]
     },
     "execution_count": 79,
     "metadata": {},
     "output_type": "execute_result"
    }
   ],
   "source": [
    "A = [-7,1,5,2,-4,3,0]\n",
    "equilibrium_index(A)"
   ]
  },
  {
   "cell_type": "code",
   "execution_count": null,
   "id": "28b9ba65",
   "metadata": {},
   "outputs": [],
   "source": []
  },
  {
   "cell_type": "code",
   "execution_count": 80,
   "id": "9b6bfdb8",
   "metadata": {},
   "outputs": [
    {
     "data": {
      "text/plain": [
       "[5]"
      ]
     },
     "execution_count": 80,
     "metadata": {},
     "output_type": "execute_result"
    }
   ],
   "source": [
    "def equilibrium_index(A):   # TC:O(N),SC:O(N)\n",
    "    \n",
    "    n = len(A)\n",
    "    \n",
    "    prefix = [A[0]]\n",
    "    for x in A[1:]:\n",
    "        prefix.append(x+prefix[-1])\n",
    "    \n",
    "    \n",
    "    eq_index = []\n",
    "    \n",
    "    \n",
    "    for i in range(n):\n",
    "        \n",
    "        before_i = prefix[i-1]\n",
    "            \n",
    "        after_i = prefix[n-1]-prefix[i]\n",
    "        \n",
    "        if before_i == after_i:\n",
    "            eq_index.append(i)\n",
    "    if len(eq_index) == 0:\n",
    "        return \"No_Equilibrium_index\"\n",
    "    return eq_index\n",
    "            \n",
    "        \n",
    "A = [1,2,3,4,5,8,15]\n",
    "equilibrium_index(A)"
   ]
  },
  {
   "cell_type": "code",
   "execution_count": 81,
   "id": "8beaf3e6",
   "metadata": {},
   "outputs": [
    {
     "data": {
      "text/plain": [
       "[3, 6]"
      ]
     },
     "execution_count": 81,
     "metadata": {},
     "output_type": "execute_result"
    }
   ],
   "source": [
    "        \n",
    "A = [-7,1,5,2,-4,3,0]\n",
    "equilibrium_index(A)"
   ]
  },
  {
   "cell_type": "code",
   "execution_count": 82,
   "id": "d5984a33",
   "metadata": {},
   "outputs": [
    {
     "data": {
      "text/plain": [
       "'No_Equilibrium_index'"
      ]
     },
     "execution_count": 82,
     "metadata": {},
     "output_type": "execute_result"
    }
   ],
   "source": [
    "        \n",
    "A = [-7,1,5,2]\n",
    "equilibrium_index(A)"
   ]
  },
  {
   "cell_type": "code",
   "execution_count": 83,
   "id": "b10bc5a4",
   "metadata": {},
   "outputs": [
    {
     "data": {
      "text/plain": [
       "[0, 1, 2, 3, 4, 5]"
      ]
     },
     "execution_count": 83,
     "metadata": {},
     "output_type": "execute_result"
    }
   ],
   "source": [
    "        \n",
    "A = [0,0,0,0,0,0]\n",
    "equilibrium_index(A)"
   ]
  },
  {
   "cell_type": "code",
   "execution_count": null,
   "id": "1760fcf5",
   "metadata": {},
   "outputs": [],
   "source": []
  },
  {
   "cell_type": "code",
   "execution_count": 84,
   "id": "54d9c46b",
   "metadata": {},
   "outputs": [],
   "source": [
    "# TC:O(N),SC:O(1)"
   ]
  },
  {
   "cell_type": "code",
   "execution_count": 85,
   "id": "cb93dc96",
   "metadata": {},
   "outputs": [
    {
     "data": {
      "text/plain": [
       "[5]"
      ]
     },
     "execution_count": 85,
     "metadata": {},
     "output_type": "execute_result"
    }
   ],
   "source": [
    "def equilibrium_index(A):\n",
    "    \n",
    "    n = len(A)\n",
    "    \n",
    "    total = sum(A)\n",
    "    eq_index = []\n",
    "        \n",
    "    before_i = 0\n",
    "    for i in range(n):\n",
    "        \n",
    "        after_i = total - A[i] - before_i\n",
    "        \n",
    "        if before_i == after_i:\n",
    "            eq_index.append(i)\n",
    "            \n",
    "        before_i += A[i] # update before_i total after calculating after_i total\n",
    "    \n",
    "    return eq_index\n",
    "            \n",
    "        \n",
    "A = [1,2,3,4,5,8,15]\n",
    "equilibrium_index(A)"
   ]
  },
  {
   "cell_type": "code",
   "execution_count": 86,
   "id": "9eb7df01",
   "metadata": {},
   "outputs": [
    {
     "data": {
      "text/plain": [
       "[3, 6]"
      ]
     },
     "execution_count": 86,
     "metadata": {},
     "output_type": "execute_result"
    }
   ],
   "source": [
    "        \n",
    "A = [-7,1,5,2,-4,3,0]\n",
    "equilibrium_index(A)"
   ]
  },
  {
   "cell_type": "code",
   "execution_count": 87,
   "id": "2d71e170",
   "metadata": {},
   "outputs": [
    {
     "data": {
      "text/plain": [
       "[]"
      ]
     },
     "execution_count": 87,
     "metadata": {},
     "output_type": "execute_result"
    }
   ],
   "source": [
    "        \n",
    "A = [-7,1,5,2]\n",
    "equilibrium_index(A)"
   ]
  },
  {
   "cell_type": "code",
   "execution_count": 88,
   "id": "2051eb8b",
   "metadata": {},
   "outputs": [
    {
     "data": {
      "text/plain": [
       "[0, 1, 2, 3, 4, 5]"
      ]
     },
     "execution_count": 88,
     "metadata": {},
     "output_type": "execute_result"
    }
   ],
   "source": [
    "        \n",
    "A = [0,0,0,0,0,0]\n",
    "equilibrium_index(A)"
   ]
  },
  {
   "cell_type": "code",
   "execution_count": null,
   "id": "87a84f31",
   "metadata": {},
   "outputs": [],
   "source": []
  },
  {
   "cell_type": "markdown",
   "id": "a1f73237",
   "metadata": {},
   "source": [
    "### Range Sum Query\n",
    "\n",
    "#### You are given an integer array A of length N.\n",
    "#### You are also given a 2D integer array B with dimensions M x 2, where each row denotes a [L, R] query.\n",
    "#### For each query, you have to find the sum of all elements from L to R indices in A (1 - indexed).\n",
    "#### More formally, find A[L] + A[L + 1] + A[L + 2] +... + A[R - 1] + A[R] for each query.\n",
    "\n",
    "    Problem Constraints\n",
    "    1 <= N, M <= 105\n",
    "    1 <= A[i] <= 109\n",
    "    1 <= L <= R <= N\n",
    "\n",
    "    Input Format\n",
    "    The first argument is the integer array A.\n",
    "    The second argument is the 2D integer array B.\n",
    "\n",
    "    Output Format\n",
    "    Return an integer array of length M where ith element is the answer for ith query in B.\n",
    "\n",
    "    Example Input\n",
    "    Input 1:\n",
    "    A = [1, 2, 3, 4, 5]\n",
    "    B = [[1, 4], [2, 3]]\n",
    "    Input 2:\n",
    "\n",
    "    A = [2, 2, 2]\n",
    "    B = [[1, 1], [2, 3]]\n",
    "\n",
    "\n",
    "    Example Output\n",
    "    Output 1:\n",
    "    [10, 5]\n",
    "    Output 2:\n",
    "\n",
    "    [2, 4]\n",
    "\n",
    "\n",
    "    Example Explanation\n",
    "    Explanation 1:\n",
    "    The sum of all elements of A[1 ... 4] = 1 + 2 + 3 + 4 = 10.\n",
    "    The sum of all elements of A[2 ... 3] = 2 + 3 = 5.\n",
    "    Explanation 2:\n",
    "\n",
    "    The sum of all elements of A[1 ... 1] = 2 = 2.\n",
    "    The sum of all elements of A[2 ... 3] = 2 + 2 = 4."
   ]
  },
  {
   "cell_type": "code",
   "execution_count": 89,
   "id": "1a9080f7",
   "metadata": {},
   "outputs": [
    {
     "name": "stdout",
     "output_type": "stream",
     "text": [
      "1\n",
      "4\n"
     ]
    }
   ],
   "source": [
    "start,end = [1,4]\n",
    "print(start)\n",
    "print(end)"
   ]
  },
  {
   "cell_type": "code",
   "execution_count": 90,
   "id": "af681dd1",
   "metadata": {},
   "outputs": [],
   "source": [
    "B = [[1, 4], [2, 3]]"
   ]
  },
  {
   "cell_type": "code",
   "execution_count": 91,
   "id": "e0a44004",
   "metadata": {},
   "outputs": [
    {
     "name": "stdout",
     "output_type": "stream",
     "text": [
      "1 4\n",
      "\n",
      "2 3\n",
      "\n"
     ]
    }
   ],
   "source": [
    "for (start,end) in B:\n",
    "    print(start,end)\n",
    "    print()"
   ]
  },
  {
   "cell_type": "code",
   "execution_count": 92,
   "id": "c5c29130",
   "metadata": {},
   "outputs": [],
   "source": [
    "def rangeSum(A, B):\n",
    "\n",
    "\n",
    "    p = [A[0]]\n",
    "    for i in range(1,len(A)-1+1):\n",
    "        p.append(A[i]+p[i-1])\n",
    "\n",
    "    ans = []\n",
    "\n",
    "    for (start,end) in B:\n",
    "\n",
    "        if start == 1:\n",
    "            sum = p[end-1]\n",
    "        else:\n",
    "            sum = p[end-1]-p[start-2]\n",
    "        ans.append(sum)\n",
    "    return ans"
   ]
  },
  {
   "cell_type": "code",
   "execution_count": 93,
   "id": "e86fcd50",
   "metadata": {},
   "outputs": [
    {
     "data": {
      "text/plain": [
       "[10, 5]"
      ]
     },
     "execution_count": 93,
     "metadata": {},
     "output_type": "execute_result"
    }
   ],
   "source": [
    "A = [1, 2, 3, 4, 5]\n",
    "B = [[1, 4], [2, 3]]\n",
    "rangeSum(A, B)"
   ]
  },
  {
   "cell_type": "code",
   "execution_count": null,
   "id": "0c980a87",
   "metadata": {},
   "outputs": [],
   "source": []
  },
  {
   "cell_type": "markdown",
   "id": "eabe5c55",
   "metadata": {},
   "source": [
    "### Special Index\n",
    "\n",
    "#### Given an array, arr[] of size N, the task is to find the count of array indices such that removing an element from these indices makes the sum of even-indexed and odd-indexed array elements equal.\n",
    "\n",
    "    Problem Constraints\n",
    "    1 <= n <= 105\n",
    "    -105 <= A[i] <= 105\n",
    "\n",
    "    Input Format\n",
    "    First argument contains an array A of integers of size N\n",
    "\n",
    "    Output Format\n",
    "    Return the count of array indices such that removing an element from these indices makes the sum of even-indexed and odd-indexed array elements equal.\n",
    "\n",
    "    Example Input\n",
    "    Input 1:\n",
    "    A=[2, 1, 6, 4]\n",
    "    Input 2:\n",
    "    A=[1, 1, 1]\n",
    "\n",
    "    Example Output\n",
    "    Output 1:\n",
    "    1\n",
    "    Output 2:\n",
    "    3\n",
    "\n",
    "    Example Explanation\n",
    "    Explanation 1:\n",
    "    Removing arr[1] from the array modifies arr[] to { 2, 6, 4 } such that, arr[0] + arr[2] = arr[1]. \n",
    "    Therefore, the required output is 1. \n",
    "    Explanation 2:\n",
    "\n",
    "    Removing arr[0] from the given array modifies arr[] to { 1, 1 } such that arr[0] = arr[1] \n",
    "    Removing arr[1] from the given array modifies arr[] to { 1, 1 } such that arr[0] = arr[1] \n",
    "    Removing arr[2] from the given array modifies arr[] to { 1, 1 } such that arr[0] = arr[1] \n",
    "    Therefore, the required output is 3."
   ]
  },
  {
   "cell_type": "code",
   "execution_count": 94,
   "id": "865cc16d",
   "metadata": {},
   "outputs": [
    {
     "data": {
      "text/plain": [
       "3"
      ]
     },
     "execution_count": 94,
     "metadata": {},
     "output_type": "execute_result"
    }
   ],
   "source": [
    "def special_index(A):\n",
    "    n = len(A)\n",
    "    \n",
    "    count = 0\n",
    "    for x in range(n):\n",
    "\n",
    "        temp_list = A[:]\n",
    "        temp_list.pop(x)\n",
    "               \n",
    "        odd_index_sum = 0\n",
    "        even_index_sum = 0\n",
    "        nt = len(temp_list)\n",
    "        \n",
    "        for i in range(nt):\n",
    "            if i % 2 == 0:\n",
    "                \n",
    "                even_index_sum += temp_list[i]\n",
    "            else:\n",
    "                odd_index_sum += temp_list[i]\n",
    "        if even_index_sum == odd_index_sum:\n",
    "            count += 1\n",
    "    return count\n",
    "            \n",
    "           \n",
    "A = [2, 1,3 ,2,0,8,7,1,2,6, 4,2,5,8,4,1]\n",
    "special_index(A)\n"
   ]
  },
  {
   "cell_type": "code",
   "execution_count": 95,
   "id": "0b265071",
   "metadata": {},
   "outputs": [
    {
     "data": {
      "text/plain": [
       "0"
      ]
     },
     "execution_count": 95,
     "metadata": {},
     "output_type": "execute_result"
    }
   ],
   "source": [
    "\n",
    "A = [1,2,0,6,8,3,4,0,7]\n",
    "special_index(A)"
   ]
  },
  {
   "cell_type": "code",
   "execution_count": 96,
   "id": "3fd32267",
   "metadata": {},
   "outputs": [
    {
     "data": {
      "text/plain": [
       "3"
      ]
     },
     "execution_count": 96,
     "metadata": {},
     "output_type": "execute_result"
    }
   ],
   "source": [
    "def special_index(A):\n",
    "    n = len(A)\n",
    "    evenprefix = []\n",
    "    evensum = 0\n",
    "\n",
    "    for i in range(n):\n",
    "        if i % 2 == 0:\n",
    "            evensum += A[i]\n",
    "            evenprefix.append(evensum)\n",
    "        else:\n",
    "            evenprefix.append(evenprefix[-1])\n",
    "\n",
    "    oddsum = 0\n",
    "    oddprefix = [0]\n",
    "    for i in range(1,n):\n",
    "        if i % 2 != 0:\n",
    "            oddsum += A[i]\n",
    "        oddprefix.append(oddsum)\n",
    "\n",
    "\n",
    "    count = 0\n",
    "\n",
    "    for i in range(n):\n",
    "        evenindex_sum = evenprefix[i-1]+oddprefix[n-1]-oddprefix[i]\n",
    "        oddindex_sum = oddprefix[i-1]+ evenprefix[n-1]-evenprefix[i]\n",
    "\n",
    "        if evenindex_sum == oddindex_sum:\n",
    "            count += 1\n",
    "    return (count)\n",
    "\n",
    "\n",
    "A = [2, 1,3 ,2,0,8,7,1,2,6, 4,2,5,8,4,1]\n",
    " #  0   1 2  3 4 5 6 7 8 9 10 11 12\n",
    "special_index(A)\n"
   ]
  },
  {
   "cell_type": "code",
   "execution_count": 97,
   "id": "671904bd",
   "metadata": {},
   "outputs": [
    {
     "data": {
      "text/plain": [
       "0"
      ]
     },
     "execution_count": 97,
     "metadata": {},
     "output_type": "execute_result"
    }
   ],
   "source": [
    "\n",
    "A = [1,2,0,6,8,3,4,0,7]\n",
    "special_index(A)"
   ]
  },
  {
   "cell_type": "code",
   "execution_count": null,
   "id": "ff693155",
   "metadata": {},
   "outputs": [],
   "source": []
  },
  {
   "cell_type": "markdown",
   "id": "7baf3b97",
   "metadata": {},
   "source": [
    "###  Pick from both sides!\n",
    "\n",
    "#### You are given an integer array A of size N. You have to pick B elements in total. Some (possibly 0) elements from left end of array A and some (possibly 0) from the right end of array A to get the maximum sum.  Find and return this maximum possible sum.\n",
    "\n",
    "    NOTE: Suppose B = 4, and array A contains 10 elements, then\n",
    "    You can pick the first four elements or can pick the last four elements, or can pick 1 from front and 3 from the back, etc. You need to return the maximum possible sum of elements you can pick.\n",
    "\n",
    "    Problem Constraints\n",
    "    1 <= N <= 105\n",
    "    1 <= B <= N\n",
    "    -103 <= A[i] <= 103\n",
    "\n",
    "    Input Format\n",
    "    First argument is an integer array A.\n",
    "    Second argument is an integer B.\n",
    "    Output Format\n",
    "    Return an integer denoting the maximum possible sum of elements you picked.\n",
    "\n",
    "    Example Input\n",
    "    Input 1:\n",
    "     A = [5, -2, 3 , 1, 2]\n",
    "     B = 3\n",
    "    Input 2:\n",
    "     A = [1, 2]\n",
    "     B = 1\n",
    "    Example Output\n",
    "    Output 1:\n",
    "     8\n",
    "    Output 2:\n",
    "     2\n",
    "\n",
    "    Example Explanation\n",
    "    Explanation 1:\n",
    "\n",
    "     Pick element 5 from front and element (1, 2) from back so we get 5 + 1 + 2 = 8\n",
    "    Explanation 2:\n",
    "\n",
    "     Pick element 2 from end as this is the maximum we can get"
   ]
  },
  {
   "cell_type": "code",
   "execution_count": 98,
   "id": "07a30c19",
   "metadata": {},
   "outputs": [
    {
     "name": "stdout",
     "output_type": "stream",
     "text": [
      "[] [10, 6, 5, -1, 0] sum: 20\n"
     ]
    },
    {
     "data": {
      "text/plain": [
       "20"
      ]
     },
     "execution_count": 98,
     "metadata": {},
     "output_type": "execute_result"
    }
   ],
   "source": [
    "\n",
    "\n",
    "def pick_from_both_side(A,B):\n",
    "    n = len(A)\n",
    "    maxsum = -float(\"inf\")\n",
    "    for L in range(B):\n",
    "        R = B-L\n",
    "\n",
    "        leftsum = 0\n",
    "        for i in range(L):\n",
    "            leftsum += A[i]\n",
    "\n",
    "        rightsum = 0\n",
    "        for i in range(n-R,n):\n",
    "            rightsum += A[i]\n",
    "\n",
    "        totalsum = rightsum + leftsum\n",
    "        if totalsum > maxsum:\n",
    "            maxsum = totalsum\n",
    "            print(A[0:L],A[n-R:n],\"sum:\",totalsum)\n",
    "    \n",
    "    return (maxsum)\n",
    "\n",
    "    \n",
    "A = [7,0,1,-3,2,8,10,6 ,5,-1,0]\n",
    "B = 5\n",
    "pick_from_both_side(A,B)"
   ]
  },
  {
   "cell_type": "code",
   "execution_count": 99,
   "id": "87547e18",
   "metadata": {},
   "outputs": [
    {
     "name": "stdout",
     "output_type": "stream",
     "text": [
      "[] [2, -3, 0, -1, -8, 2] sum: -8\n",
      "[0, 1] [0, -1, -8, 2] sum: -6\n",
      "[0, 1, 8] [-1, -8, 2] sum: 2\n",
      "[0, 1, 8, -2, 3] [2] sum: 12\n"
     ]
    },
    {
     "data": {
      "text/plain": [
       "12"
      ]
     },
     "execution_count": 99,
     "metadata": {},
     "output_type": "execute_result"
    }
   ],
   "source": [
    "A = [0,1,8,-2,3,4,-8,-4,1,2,-3,0,-1,-8,2]\n",
    "B = 6\n",
    "pick_from_both_side(A,B)"
   ]
  },
  {
   "cell_type": "code",
   "execution_count": 100,
   "id": "8aa486c6",
   "metadata": {},
   "outputs": [
    {
     "data": {
      "text/plain": [
       "8"
      ]
     },
     "execution_count": 100,
     "metadata": {},
     "output_type": "execute_result"
    }
   ],
   "source": [
    "def pick_from_both_side(A,B):\n",
    "    \n",
    "    n = len(A)\n",
    "    maxsum = -float(\"inf\")\n",
    "    \n",
    "    prefixsum = [A[0]]\n",
    "    for x in A[1:]:\n",
    "        prefixsum.append(x+prefixsum[-1])\n",
    "        \n",
    "    \n",
    "    for L in range(B):    # L: leftpick and R:rightpick \n",
    "        R = B - L\n",
    "        \n",
    "\n",
    "        \n",
    "        if L == 0:\n",
    "            leftsum = 0\n",
    "        else:\n",
    "            leftsum = prefixsum[L-1]\n",
    "        \n",
    "        if n - R == 0:\n",
    "            rightsum = prefixsum[n-1]\n",
    "        else:\n",
    "            rightsum = prefixsum[n-1]-prefixsum[n - R -1]\n",
    "        \n",
    "        total = leftsum + rightsum\n",
    "        \n",
    "        if total > maxsum:\n",
    "            maxsum = total\n",
    "    return maxsum\n",
    "        \n",
    "    \n",
    "A = [5, -2, 3 , 1, 2]\n",
    "B = 3\n",
    "pick_from_both_side(A,B)\n",
    "    \n"
   ]
  },
  {
   "cell_type": "code",
   "execution_count": 101,
   "id": "22907ec5",
   "metadata": {},
   "outputs": [
    {
     "data": {
      "text/plain": [
       "12"
      ]
     },
     "execution_count": 101,
     "metadata": {},
     "output_type": "execute_result"
    }
   ],
   "source": [
    "pick_from_both_side([0,1,8,-2,3,4,-8,-4,1,2,-3,0,-1,-8,2],6)"
   ]
  },
  {
   "cell_type": "code",
   "execution_count": 102,
   "id": "ef0c6e29",
   "metadata": {},
   "outputs": [
    {
     "data": {
      "text/plain": [
       "28"
      ]
     },
     "execution_count": 102,
     "metadata": {},
     "output_type": "execute_result"
    }
   ],
   "source": [
    "pick_from_both_side([2,7,8,4,4,-2,1,0,2,5,2,3,0],7)"
   ]
  },
  {
   "cell_type": "markdown",
   "id": "53f25f30",
   "metadata": {},
   "source": [
    "###  Time to equality\n",
    "\n",
    "#### Given an integer array A of size N. In one second, you can increase the value of one element by 1. Find the minimum time in seconds to make all elements of the array equal.\n",
    "\n",
    "    Problem Constraints\n",
    "    1 <= N <= 1000000\n",
    "    1 <= A[i] <= 1000\n",
    "\n",
    "    Input Format\n",
    "    First argument is an integer array A.\n",
    "    Output Format\n",
    "    Return an integer denoting the minimum time to make all elements equal.\n",
    "\n",
    "    Example Input\n",
    "    A = [2, 4, 1, 3, 2]\n",
    "    Example Output\n",
    "    8\n",
    "\n",
    "    Example Explanation\n",
    "    We can change the array A = [4, 4, 4, 4, 4]. The time required will be 8 seconds."
   ]
  },
  {
   "cell_type": "code",
   "execution_count": 103,
   "id": "221f132e",
   "metadata": {},
   "outputs": [
    {
     "data": {
      "text/plain": [
       "8"
      ]
     },
     "execution_count": 103,
     "metadata": {},
     "output_type": "execute_result"
    }
   ],
   "source": [
    "def time_to_equality(A):\n",
    "    maxval = max(A)\n",
    "    equalizedby = 0\n",
    "    for i in A:\n",
    "        diff = maxval - i\n",
    "        equalizedby += diff\n",
    "    return equalizedby\n",
    "        \n",
    "    \n",
    "    \n",
    "A = [2,4,1,3,2]\n",
    "time_to_equality(A)"
   ]
  },
  {
   "cell_type": "code",
   "execution_count": null,
   "id": "9c3a8783",
   "metadata": {},
   "outputs": [],
   "source": []
  },
  {
   "cell_type": "markdown",
   "id": "be9094ac",
   "metadata": {},
   "source": [
    "### Product array puzzle\n",
    "\n",
    "#### Given an array of integers A, find and return the product array of the same size where the ith element of the product array will be equal to the product of all the elements divided by the ith element of the array.\n",
    "\n",
    "    Note: It is always possible to form the product array with integer (32 bit) values. Solve it without using the division operator.\n",
    "\n",
    "    Input Format\n",
    "    The only argument given is the integer array A.\n",
    "    Output Format\n",
    "    Return the product array.\n",
    "    Constraints\n",
    "\n",
    "    2 <= length of the array <= 1000\n",
    "    1 <= A[i] <= 10\n",
    "    For Example\n",
    "\n",
    "    Input 1:\n",
    "        A = [1, 2, 3, 4, 5]\n",
    "    Output 1:\n",
    "        [120, 60, 40, 30, 24]\n",
    "\n",
    "    Input 2:\n",
    "        A = [5, 1, 10, 1]\n",
    "    Output 2:\n",
    "        [10, 50, 5, 50]"
   ]
  },
  {
   "cell_type": "code",
   "execution_count": null,
   "id": "1ded0425",
   "metadata": {},
   "outputs": [],
   "source": []
  },
  {
   "cell_type": "code",
   "execution_count": 104,
   "id": "68775126",
   "metadata": {},
   "outputs": [
    {
     "data": {
      "text/plain": [
       "[120, 60, 40, 30, 24]"
      ]
     },
     "execution_count": 104,
     "metadata": {},
     "output_type": "execute_result"
    }
   ],
   "source": [
    "def Product_array_puzzle(A):\n",
    "    product = 1\n",
    "    for i in A:\n",
    "        product *= i\n",
    "    \n",
    "    for i in range(len(A)):\n",
    "        A[i] = int(product/A[i])\n",
    "    return(A)\n",
    "    \n",
    "\n",
    "Product_array_puzzle([1,2,3,4,5])"
   ]
  },
  {
   "cell_type": "code",
   "execution_count": 105,
   "id": "4d284d6f",
   "metadata": {},
   "outputs": [
    {
     "data": {
      "text/plain": [
       "[120, 60, 40, 30, 24]"
      ]
     },
     "execution_count": 105,
     "metadata": {},
     "output_type": "execute_result"
    }
   ],
   "source": [
    "def Product_array_puzzle(A):\n",
    "\n",
    "    product = 1\n",
    "    for i in A:\n",
    "        product *= i\n",
    "    \n",
    "    return [int(product/i) for i in A]\n",
    "    \n",
    "\n",
    "Product_array_puzzle([1,2,3,4,5])"
   ]
  },
  {
   "cell_type": "code",
   "execution_count": null,
   "id": "14e05c18",
   "metadata": {},
   "outputs": [],
   "source": []
  },
  {
   "cell_type": "markdown",
   "id": "e36e04c3",
   "metadata": {},
   "source": [
    "### count good pairs : \n",
    "\n",
    "#### given a string ( all lower case ) . COunt the number of pairs (i,j) such that i<j and s[i] = \"a\" and s[j] = \"g\".\n",
    "#### given string S count the number of occurances of subsquence \"ag\""
   ]
  },
  {
   "cell_type": "code",
   "execution_count": 106,
   "id": "bf046516",
   "metadata": {},
   "outputs": [
    {
     "data": {
      "text/plain": [
       "8"
      ]
     },
     "execution_count": 106,
     "metadata": {},
     "output_type": "execute_result"
    }
   ],
   "source": [
    "\n",
    "\n",
    "def count_good_pairs(S):\n",
    "    \n",
    "    n = len(S)\n",
    "    occurances = 0\n",
    "    for i in range(n):\n",
    "        if S[i] == \"a\":\n",
    "            for j in range(i+1,n):\n",
    "                if S[j] == \"g\":\n",
    "                    occurances += 1\n",
    "    return occurances\n",
    "    \n",
    "    \n",
    "S = \"axgabbxggaxg\"\n",
    "count_good_pairs(S)\n"
   ]
  },
  {
   "cell_type": "code",
   "execution_count": null,
   "id": "92a817eb",
   "metadata": {},
   "outputs": [],
   "source": []
  },
  {
   "cell_type": "code",
   "execution_count": 107,
   "id": "242d825a",
   "metadata": {},
   "outputs": [
    {
     "name": "stdout",
     "output_type": "stream",
     "text": [
      "[4, 4, 4, 3, 3, 3, 3, 3, 2, 1, 1, 1]\n"
     ]
    },
    {
     "data": {
      "text/plain": [
       "8"
      ]
     },
     "execution_count": 107,
     "metadata": {},
     "output_type": "execute_result"
    }
   ],
   "source": [
    "\n",
    "\n",
    "def count_good_pairs(S):\n",
    "    \n",
    "    n = len(S)\n",
    "    occurances = 0\n",
    "    \n",
    "    gcounts = [0]*n\n",
    "    gc = 0\n",
    "    for i in reversed(range(n)):\n",
    "        if S[i] == \"g\":\n",
    "            gc+=1\n",
    "        gcounts[i] = gc\n",
    "    \n",
    "    \n",
    "    print(gcounts)\n",
    "    for i in range(n):\n",
    "        if S[i] == \"a\":\n",
    "            occurances += gcounts[i]\n",
    "    \n",
    "    \n",
    "    return occurances\n",
    "    \n",
    "    \n",
    "S = \"axgabbxggaxg\"\n",
    "count_good_pairs(S)\n"
   ]
  },
  {
   "cell_type": "code",
   "execution_count": null,
   "id": "6ef2576d",
   "metadata": {},
   "outputs": [],
   "source": []
  },
  {
   "cell_type": "code",
   "execution_count": 108,
   "id": "493f805d",
   "metadata": {},
   "outputs": [
    {
     "data": {
      "text/plain": [
       "8"
      ]
     },
     "execution_count": 108,
     "metadata": {},
     "output_type": "execute_result"
    }
   ],
   "source": [
    "\n",
    "\n",
    "def count_good_pairs(S):\n",
    "    \n",
    "    n = len(S)\n",
    "    occurances = 0\n",
    "    gcounts = 0\n",
    "    for i in reversed(range(n)):\n",
    "        if S[i] == \"g\":\n",
    "            gcounts += 1\n",
    "        if S[i] == \"a\":\n",
    "            occurances += gcounts\n",
    "    \n",
    "    \n",
    "    \n",
    "    return occurances\n",
    "    \n",
    "    \n",
    "S = \"axgabbxggaxg\"\n",
    "count_good_pairs(S)\n"
   ]
  },
  {
   "cell_type": "code",
   "execution_count": null,
   "id": "7c4117cf",
   "metadata": {},
   "outputs": [],
   "source": []
  },
  {
   "cell_type": "markdown",
   "id": "d86fd939",
   "metadata": {},
   "source": [
    "### given an array A of size n, count the number of leaders in the array : \n",
    "#### learder are any number which is strictly greater than all elements on its right .  "
   ]
  },
  {
   "cell_type": "code",
   "execution_count": 109,
   "id": "7fdc6ab0",
   "metadata": {},
   "outputs": [],
   "source": [
    "A = [1,7,8,-6,0,3,-7,-10]\n",
    "#        l      l  l  l"
   ]
  },
  {
   "cell_type": "code",
   "execution_count": null,
   "id": "5cb31e2c",
   "metadata": {},
   "outputs": [],
   "source": []
  },
  {
   "cell_type": "code",
   "execution_count": 110,
   "id": "8c890c3e",
   "metadata": {},
   "outputs": [
    {
     "data": {
      "text/plain": [
       "5"
      ]
     },
     "execution_count": 110,
     "metadata": {},
     "output_type": "execute_result"
    }
   ],
   "source": [
    "def learders_on_the_way(A):\n",
    "    n = len(A)\n",
    "    number_of_leaders = 0\n",
    "    for i in range(n):\n",
    "        hasleader = True\n",
    "        for j in range(i+1,n):\n",
    "            if A[j] >= A[i]:\n",
    "                hasleader = False\n",
    "                break\n",
    "        if hasleader :\n",
    "            number_of_leaders += 1\n",
    "    return number_of_leaders\n",
    "    \n",
    "A = [1,9,7,8,8,-6,0,3,-7,-10]\n",
    "learders_on_the_way(A)\n"
   ]
  },
  {
   "cell_type": "code",
   "execution_count": null,
   "id": "01861c3d",
   "metadata": {},
   "outputs": [],
   "source": []
  },
  {
   "cell_type": "code",
   "execution_count": 111,
   "id": "bc1205ba",
   "metadata": {},
   "outputs": [
    {
     "data": {
      "text/plain": [
       "5"
      ]
     },
     "execution_count": 111,
     "metadata": {},
     "output_type": "execute_result"
    }
   ],
   "source": [
    "def learders_on_the_way(A):\n",
    "    n = len(A)\n",
    "    number_of_leaders = 0\n",
    "    for i in range(n):\n",
    "        hasleader = False\n",
    "        for j in range(i+1,n):\n",
    "            if A[j] >= A[i]:\n",
    "                hasleader = True\n",
    "                \n",
    "        if hasleader :\n",
    "            number_of_leaders += 1\n",
    "    return number_of_leaders\n",
    "    \n",
    "A = [1,9,7,8,8,-6,0,3,-7,-10]\n",
    "learders_on_the_way(A)"
   ]
  },
  {
   "cell_type": "code",
   "execution_count": null,
   "id": "2cfab2e6",
   "metadata": {},
   "outputs": [],
   "source": []
  },
  {
   "cell_type": "code",
   "execution_count": 112,
   "id": "47b89930",
   "metadata": {},
   "outputs": [
    {
     "name": "stdout",
     "output_type": "stream",
     "text": [
      "[-10, -7, 3, 3, 3, 8, 8, 8, 9, 9]\n"
     ]
    },
    {
     "data": {
      "text/plain": [
       "5"
      ]
     },
     "execution_count": 112,
     "metadata": {},
     "output_type": "execute_result"
    }
   ],
   "source": [
    "\n",
    "def learders_on_the_way(A):\n",
    "    n = len(A)\n",
    "    suffixmax = []\n",
    "\n",
    "    maxxv = A[-1]\n",
    "    for i in reversed(range(n)):\n",
    "        maxxv = max(maxxv,A[i])\n",
    "        suffixmax.append(maxxv)\n",
    "\n",
    "    print(suffixmax)\n",
    "    return len(set(suffixmax))\n",
    "\n",
    "A = [1,9,7,8,8,-6,0,3,-7,-10]\n",
    "learders_on_the_way(A)"
   ]
  },
  {
   "cell_type": "code",
   "execution_count": null,
   "id": "c63f26ef",
   "metadata": {},
   "outputs": [],
   "source": []
  },
  {
   "cell_type": "code",
   "execution_count": null,
   "id": "95aeb68a",
   "metadata": {},
   "outputs": [],
   "source": []
  },
  {
   "cell_type": "code",
   "execution_count": 113,
   "id": "cbc028e2",
   "metadata": {},
   "outputs": [
    {
     "data": {
      "text/plain": [
       "5"
      ]
     },
     "execution_count": 113,
     "metadata": {},
     "output_type": "execute_result"
    }
   ],
   "source": [
    "\n",
    "def learders_on_the_way(A):\n",
    "    n = len(A)\n",
    "    maxval = -float(\"inf\")\n",
    "    count = 0\n",
    "    for i in reversed(range(n)):\n",
    "        if A[i] > maxval:\n",
    "            count += 1\n",
    "            maxval = A[i]\n",
    "    return count\n",
    "            \n",
    "    \n",
    "    \n",
    "\n",
    "A = [1,9,7,8,8,-6,0,3,-7,-10]\n",
    "learders_on_the_way(A)"
   ]
  },
  {
   "cell_type": "code",
   "execution_count": 114,
   "id": "0bd57beb",
   "metadata": {},
   "outputs": [
    {
     "data": {
      "text/plain": [
       "1"
      ]
     },
     "execution_count": 114,
     "metadata": {},
     "output_type": "execute_result"
    }
   ],
   "source": [
    "\n",
    "A = [0]\n",
    "learders_on_the_way(A)"
   ]
  },
  {
   "cell_type": "code",
   "execution_count": 115,
   "id": "9a18c769",
   "metadata": {},
   "outputs": [
    {
     "data": {
      "text/plain": [
       "0"
      ]
     },
     "execution_count": 115,
     "metadata": {},
     "output_type": "execute_result"
    }
   ],
   "source": [
    "\n",
    "A = []\n",
    "learders_on_the_way(A)"
   ]
  },
  {
   "cell_type": "markdown",
   "id": "1819aaa2",
   "metadata": {},
   "source": [
    "#### Given an integer array A containing N distinct integers, you have to find all the leaders in array A. An element is a leader if it is strictly greater than all the elements to its right side.\n",
    "    NOTE:The rightmost element is always a leader.\n",
    "    \n",
    "    \n",
    "\n"
   ]
  },
  {
   "cell_type": "code",
   "execution_count": 116,
   "id": "6f0c7347",
   "metadata": {},
   "outputs": [
    {
     "data": {
      "text/plain": [
       "[9, 8, 3, -7, -10]"
      ]
     },
     "execution_count": 116,
     "metadata": {},
     "output_type": "execute_result"
    }
   ],
   "source": [
    "def leaders_on_the_way(A):\n",
    "    n = len(A)\n",
    "    ans = []\n",
    "    maxnum = -float('inf')\n",
    "    for i in range(n-1,-1,-1):\n",
    "        if  A[i] > maxnum :\n",
    "            ans.append(A[i])\n",
    "            maxnum = A[i]\n",
    "    return ans[::-1]\n",
    "\n",
    "A = [1,9,7,8,8,-6,0,3,-7,-10]\n",
    "leaders_on_the_way(A)"
   ]
  },
  {
   "cell_type": "markdown",
   "id": "5794c697",
   "metadata": {},
   "source": [
    "### Closest MinMax : \n",
    "#### Given an array of size n , find the length of the smallest subarray which contains both min and max of the array ."
   ]
  },
  {
   "cell_type": "code",
   "execution_count": 117,
   "id": "73992458",
   "metadata": {},
   "outputs": [
    {
     "name": "stdout",
     "output_type": "stream",
     "text": [
      "[0, 1, 5, -2]\n",
      "[1, 5, -2]\n",
      "[5, -2]\n"
     ]
    },
    {
     "data": {
      "text/plain": [
       "2"
      ]
     },
     "execution_count": 117,
     "metadata": {},
     "output_type": "execute_result"
    }
   ],
   "source": [
    "\n",
    "def closest_min_max(A):\n",
    "    n = len(A)\n",
    "    Amin = min(A)\n",
    "    Amax = max(A)\n",
    "    minlen = float(\"inf\")\n",
    "    for s in range(n):\n",
    "        for e in range(s,n):\n",
    "            if Amin in A[s:e+1] and Amax in A[s:e+1]:\n",
    "                length = e-s+1\n",
    "                \n",
    "                if length < minlen:\n",
    "                    minlen = length\n",
    "                    print(A[s:e+1])\n",
    "                \n",
    "    return minlen\n",
    "\n",
    "A = [0,1,5,-2,3,2,5,5,4,-2,3,0,5]\n",
    "closest_min_max(A)"
   ]
  },
  {
   "cell_type": "code",
   "execution_count": 118,
   "id": "e007d2df",
   "metadata": {},
   "outputs": [
    {
     "name": "stdout",
     "output_type": "stream",
     "text": [
      "[1, 6, 4, 2, 7]\n",
      "[7, 5, 3, 1]\n"
     ]
    },
    {
     "data": {
      "text/plain": [
       "4"
      ]
     },
     "execution_count": 118,
     "metadata": {},
     "output_type": "execute_result"
    }
   ],
   "source": [
    "\n",
    "A = [1, 6, 4, 2, 7, 7, 5, 3, 1, 1, 5]\n",
    "closest_min_max(A)"
   ]
  },
  {
   "cell_type": "code",
   "execution_count": 119,
   "id": "a0e9b97c",
   "metadata": {},
   "outputs": [
    {
     "name": "stdout",
     "output_type": "stream",
     "text": [
      "[8]\n"
     ]
    },
    {
     "data": {
      "text/plain": [
       "1"
      ]
     },
     "execution_count": 119,
     "metadata": {},
     "output_type": "execute_result"
    }
   ],
   "source": [
    "closest_min_max([8, 8, 8, 8, 8, 8])"
   ]
  },
  {
   "cell_type": "code",
   "execution_count": null,
   "id": "0a904403",
   "metadata": {},
   "outputs": [],
   "source": []
  },
  {
   "cell_type": "code",
   "execution_count": null,
   "id": "a4caf404",
   "metadata": {},
   "outputs": [],
   "source": []
  },
  {
   "cell_type": "code",
   "execution_count": 120,
   "id": "d8993690",
   "metadata": {
    "scrolled": true
   },
   "outputs": [
    {
     "name": "stdout",
     "output_type": "stream",
     "text": [
      "[0, 1, 5, -2]\n",
      "[1, 5, -2]\n",
      "[5, -2]\n"
     ]
    },
    {
     "data": {
      "text/plain": [
       "2"
      ]
     },
     "execution_count": 120,
     "metadata": {},
     "output_type": "execute_result"
    }
   ],
   "source": [
    "\n",
    "def closest_min_max(A):\n",
    "    n = len(A)\n",
    "    \n",
    "    Amin = float(\"inf\")\n",
    "    for i in A:\n",
    "        if i < Amin:\n",
    "            Amin = i\n",
    "            \n",
    "    Amax = -float(\"inf\")\n",
    "    for i in A:\n",
    "        if i > Amax:\n",
    "            Amax = i\n",
    "            \n",
    "    minlen = float(\"inf\")\n",
    "    \n",
    "    for s in range(n):\n",
    "        for e in range(s,n):\n",
    "            \n",
    "            hasmin = False\n",
    "            hasmax = False\n",
    "            \n",
    "            for i in range(s,e+1):\n",
    "                if A[i] == Amin:\n",
    "                    hasmin = True\n",
    "                if A[i] == Amax:\n",
    "                    hasmax = True\n",
    "            if hasmin and hasmax:\n",
    "                length  = e-s+1\n",
    "                if length < minlen:\n",
    "                    minlen = length\n",
    "                    print(A[s:e+1])\n",
    "                \n",
    "    return minlen\n",
    "\n",
    "A = [0,1,5,-2,3,2,5,5,4,-2,3,0,5]\n",
    "closest_min_max(A)"
   ]
  },
  {
   "cell_type": "code",
   "execution_count": null,
   "id": "de01f03f",
   "metadata": {},
   "outputs": [],
   "source": []
  },
  {
   "cell_type": "code",
   "execution_count": null,
   "id": "3d2ac9a0",
   "metadata": {},
   "outputs": [],
   "source": []
  },
  {
   "cell_type": "code",
   "execution_count": 121,
   "id": "f6fbc1fb",
   "metadata": {},
   "outputs": [
    {
     "data": {
      "text/plain": [
       "2"
      ]
     },
     "execution_count": 121,
     "metadata": {},
     "output_type": "execute_result"
    }
   ],
   "source": [
    "\n",
    "def closest_min_max(A):\n",
    "    n = len(A)\n",
    "    \n",
    "    Amin = float(\"inf\")\n",
    "    for i in A:\n",
    "        if i < Amin:\n",
    "            Amin = i\n",
    "            \n",
    "    Amax = -float(\"inf\")\n",
    "    for i in A:\n",
    "        if i > Amax:\n",
    "            Amax = i\n",
    "            \n",
    "    minlen = float(\"inf\")\n",
    "    \n",
    "    imin = None\n",
    "    imax = None\n",
    "    \n",
    "    for i in range(n):\n",
    "        \n",
    "        if A[i] == Amin:\n",
    "            imin = i\n",
    "            if imax is not None:\n",
    "                length = imin - imax + 1\n",
    "                minlen = min(length,minlen)\n",
    "        if A[i] == Amax:\n",
    "            imax = i\n",
    "            if imin is not None:\n",
    "                length = imax - imin + 1\n",
    "                minlen = min(length,minlen)\n",
    "            \n",
    "    return minlen\n",
    "\n",
    "A = [0,1,5,-2,3,2,5,5,4,-2,3,0,5]\n",
    "closest_min_max(A)"
   ]
  },
  {
   "cell_type": "code",
   "execution_count": null,
   "id": "352b1bce",
   "metadata": {},
   "outputs": [],
   "source": []
  },
  {
   "cell_type": "code",
   "execution_count": null,
   "id": "6f249ad9",
   "metadata": {},
   "outputs": [],
   "source": []
  },
  {
   "cell_type": "markdown",
   "id": "f0ea22a6",
   "metadata": {},
   "source": [
    "### Bulbs\n",
    "\n",
    "#### A wire connects N light bulbs. Each bulb has a switch associated with it; however, due to faulty wiring, a switch also changes the state of all the bulbs to the right of the current bulb. Given an initial state of all bulbs, find the minimum number of switches you have to press to turn on all the bulbs.  You can press the same switch multiple times.\n",
    "\n",
    "    Note: 0 represents the bulb is off and 1 represents the bulb is on.\n",
    "    Problem Constraints\n",
    "    0 <= N <= 5×105\n",
    "    0 <= A[i] <= 1\n",
    "    Input Format\n",
    "    The first and the only argument contains an integer array A, of size N.\n",
    "    Output Format\n",
    "    Return an integer representing the minimum number of switches required.\n",
    "\n",
    "    Example Input\n",
    "    Input 1:\n",
    "     A = [0, 1, 0, 1]\n",
    "    Input 2:\n",
    "     A = [1, 1, 1, 1]\n",
    "    Example Output\n",
    "    Output 1:\n",
    "     4\n",
    "    Output 2:\n",
    "     0\n",
    "\n",
    "    Example Explanation\n",
    "    Explanation 1:\n",
    "     press switch 0 : [1 0 1 0]\n",
    "     press switch 1 : [1 1 0 1]\n",
    "     press switch 2 : [1 1 1 0]\n",
    "     press switch 3 : [1 1 1 1]\n",
    "    Explanation 2:\n",
    "     There is no need to turn any switches as all the bulbs are already on."
   ]
  },
  {
   "cell_type": "code",
   "execution_count": 122,
   "id": "568f6cb4",
   "metadata": {},
   "outputs": [
    {
     "name": "stdout",
     "output_type": "stream",
     "text": [
      "7\n"
     ]
    }
   ],
   "source": [
    "A = [0,1,0,1,0,1,1,0]\n",
    "state = 0\n",
    "count = 0\n",
    "n = len(A)\n",
    "for i in range(n):\n",
    "    if A[i] == state:\n",
    "        count += 1\n",
    "        state = 1- state\n",
    "        A[i] = state\n",
    "print(count)"
   ]
  },
  {
   "cell_type": "code",
   "execution_count": null,
   "id": "3f9027bd",
   "metadata": {},
   "outputs": [],
   "source": []
  },
  {
   "cell_type": "markdown",
   "id": "ed789644",
   "metadata": {},
   "source": [
    "### Amazing Subarrays: \n",
    "\n",
    "#### You are given a string S, and you have to find all the amazing substrings of S. An amazing Substring is one that starts with a vowel (a, e, i, o, u, A, E, I, O, U).\n",
    "\n",
    "    Input\n",
    "\n",
    "    Only argument given is string S.\n",
    "    Output\n",
    "\n",
    "    Return a single integer X mod 10003, here X is the number of Amazing Substrings in given the string.\n",
    "    Constraints\n",
    "\n",
    "    1 <= length(S) <= 1e6\n",
    "    S can have special characters\n",
    "    Example\n",
    "\n",
    "    Input\n",
    "    ABEC\n",
    "\n",
    "    Output\n",
    "    6\n",
    "\n",
    "    Explanation\n",
    "    Amazing substrings of given string are :\n",
    "    1. A\n",
    "    2. AB\n",
    "    3. ABE\n",
    "    4. ABEC\n",
    "    5. E\n",
    "    6. EC\n",
    "    here number of substrings are 6 and 6 % 10003 = 6."
   ]
  },
  {
   "cell_type": "code",
   "execution_count": 123,
   "id": "efac4428",
   "metadata": {},
   "outputs": [
    {
     "name": "stdout",
     "output_type": "stream",
     "text": [
      "6\n"
     ]
    }
   ],
   "source": [
    "A = \"ABEC\"\n",
    "n = len(A)\n",
    "x = len(A)\n",
    "count_of_subarrays = 0\n",
    "vowels = set({'a', 'e', 'i', 'o', 'u', 'A', 'E', 'I', 'O', 'U'})\n",
    "for i in range(n):\n",
    "    if A[i] in vowels:\n",
    "        count_of_subarrays += x\n",
    "    x -= 1\n",
    "print(count_of_subarrays % 10003)"
   ]
  },
  {
   "cell_type": "code",
   "execution_count": 124,
   "id": "ed126549",
   "metadata": {},
   "outputs": [
    {
     "name": "stdout",
     "output_type": "stream",
     "text": [
      "A\n",
      "AB\n",
      "ABE\n",
      "ABEC\n",
      "E\n",
      "EC\n",
      "6\n"
     ]
    }
   ],
   "source": [
    "A = \"ABEC\"\n",
    "n = len(A)\n",
    "x = len(A)\n",
    "count_of_subarrays = 0\n",
    "vowels = set({'a', 'e', 'i', 'o', 'u', 'A', 'E', 'I', 'O', 'U'})\n",
    "for s in range(n):\n",
    "    for e in range(s,n):\n",
    "        if A[s] in vowels:\n",
    "            print(A[s:e+1])\n",
    "            count_of_subarrays += 1\n",
    "print(count_of_subarrays % 10003)"
   ]
  },
  {
   "cell_type": "code",
   "execution_count": null,
   "id": "9e4a49b6",
   "metadata": {},
   "outputs": [],
   "source": []
  },
  {
   "cell_type": "markdown",
   "id": "5239936f",
   "metadata": {},
   "source": [
    "### Even Subarrays\n",
    "\n",
    "#### You are given an integer array A. Decide whether it is possible to divide the array into one or more subarrays of even length such that the first and last element of all subarrays will be even. Return \"YES\" if it is possible; otherwise, return \"NO\" (without quotes).\n",
    "\n",
    "    Problem Constraints\n",
    "    1 <= |A|, A[i] <= 106\n",
    "    Input Format\n",
    "    The first and the only input argument is an integer array, A.\n",
    "    Output Format\n",
    "    Return a string \"YES\" or \"NO\" denoting the answer.\n",
    "\n",
    "    Example Input\n",
    "    Input 1:\n",
    "     A = [2, 4, 8, 6]\n",
    "    Input 2:\n",
    "     A = [2, 4, 8, 7, 6]\n",
    "    Example Output\n",
    "    Output 1:\n",
    "     \"YES\"\n",
    "    Output 2:\n",
    "     \"NO\"\n",
    "    Example Explanation\n",
    "    Explanation 1:\n",
    "     We can divide A into [2, 4] and [8, 6].\n",
    "    Explanation 2:\n",
    "     There is no way to divide the array into even length subarrays."
   ]
  },
  {
   "cell_type": "code",
   "execution_count": 125,
   "id": "c2948180",
   "metadata": {},
   "outputs": [
    {
     "data": {
      "text/plain": [
       "'NO'"
      ]
     },
     "execution_count": 125,
     "metadata": {},
     "output_type": "execute_result"
    }
   ],
   "source": [
    "A = [2,4,8,7,6]\n",
    "def even_subarrays(A):\n",
    "    if len(A)%2 == 0 and A[0]%2 == 0 and A[-1]%2 == 0:\n",
    "        return \"YES\"\n",
    "    else:\n",
    "        return \"NO\"\n",
    "    \n",
    "A = [2,4,8,7,6]\n",
    "even_subarrays(A)"
   ]
  },
  {
   "cell_type": "code",
   "execution_count": 126,
   "id": "b8f38c0b",
   "metadata": {},
   "outputs": [
    {
     "data": {
      "text/plain": [
       "'YES'"
      ]
     },
     "execution_count": 126,
     "metadata": {},
     "output_type": "execute_result"
    }
   ],
   "source": [
    "A = [2,4,8,6]\n",
    "even_subarrays(A)"
   ]
  },
  {
   "cell_type": "code",
   "execution_count": 127,
   "id": "78c90be8",
   "metadata": {},
   "outputs": [
    {
     "data": {
      "text/plain": [
       "'NO'"
      ]
     },
     "execution_count": 127,
     "metadata": {},
     "output_type": "execute_result"
    }
   ],
   "source": [
    "A = [2,4,8,5]\n",
    "even_subarrays(A)"
   ]
  },
  {
   "cell_type": "code",
   "execution_count": 128,
   "id": "85b6e23b",
   "metadata": {},
   "outputs": [
    {
     "data": {
      "text/plain": [
       "'YES'"
      ]
     },
     "execution_count": 128,
     "metadata": {},
     "output_type": "execute_result"
    }
   ],
   "source": [
    "A = [2,4,5,6]\n",
    "even_subarrays(A)"
   ]
  },
  {
   "cell_type": "code",
   "execution_count": null,
   "id": "74ea034a",
   "metadata": {},
   "outputs": [],
   "source": []
  },
  {
   "cell_type": "markdown",
   "id": "b2068d4d",
   "metadata": {},
   "source": [
    "### Print subarrays of given array of size n :"
   ]
  },
  {
   "cell_type": "code",
   "execution_count": 129,
   "id": "5548fe85",
   "metadata": {},
   "outputs": [
    {
     "name": "stdout",
     "output_type": "stream",
     "text": [
      "1 \n",
      "1 2 \n",
      "1 2 3 \n",
      "1 2 3 4 \n",
      "1 2 3 4 5 \n",
      "2 \n",
      "2 3 \n",
      "2 3 4 \n",
      "2 3 4 5 \n",
      "3 \n",
      "3 4 \n",
      "3 4 5 \n",
      "4 \n",
      "4 5 \n",
      "5 \n"
     ]
    }
   ],
   "source": [
    "A = [1,2,3,4,5]\n",
    "\n",
    "n = len(A)\n",
    "for s in range(n):\n",
    "    for e in range(s,n):\n",
    "        for i in range(s,e+1):\n",
    "            print(A[i],end = \" \")\n",
    "        print()"
   ]
  },
  {
   "cell_type": "code",
   "execution_count": null,
   "id": "753542a5",
   "metadata": {},
   "outputs": [],
   "source": []
  },
  {
   "cell_type": "markdown",
   "id": "d964d493",
   "metadata": {},
   "source": [
    "### Find Maxuimum sum Subarray :"
   ]
  },
  {
   "cell_type": "code",
   "execution_count": 130,
   "id": "2bcacb87",
   "metadata": {},
   "outputs": [
    {
     "name": "stdout",
     "output_type": "stream",
     "text": [
      "[5, -5, 95, 75, 90, 80, 105, 135]\n",
      "[5] 5\n",
      "[5, -10, 100] 95\n",
      "[5, -10, 100, -20, 15, -10, 25] 105\n",
      "[5, -10, 100, -20, 15, -10, 25, 30] 135\n",
      "[100, -20, 15, -10, 25, 30] 140\n"
     ]
    },
    {
     "data": {
      "text/plain": [
       "140"
      ]
     },
     "execution_count": 130,
     "metadata": {},
     "output_type": "execute_result"
    }
   ],
   "source": [
    "\n",
    "def max_subarray_sum(A):\n",
    "    n = len(A)\n",
    "    maxsum = -float(\"inf\")\n",
    "    \n",
    "    prefixsum = [A[0]]\n",
    "    for x in A[1:]:\n",
    "        prefixsum.append(x + prefixsum[-1])\n",
    "    print(prefixsum)\n",
    "    \n",
    "    for s in range(n):\n",
    "        for e in range(s,n):\n",
    "            if s == 0:\n",
    "                subsum = prefixsum[e]\n",
    "            else:\n",
    "                subsum = prefixsum[e] - prefixsum[s-1]\n",
    "            if subsum > maxsum:\n",
    "                maxsum = subsum\n",
    "                print(A[s:e+1],subsum)\n",
    "    return maxsum\n",
    "    \n",
    "    \n",
    "A = [5,-10,100,-20,15,-10,25,30]\n",
    "\n",
    "max_subarray_sum(A)"
   ]
  },
  {
   "cell_type": "code",
   "execution_count": 131,
   "id": "a63a7386",
   "metadata": {},
   "outputs": [
    {
     "name": "stdout",
     "output_type": "stream",
     "text": [
      "[5] 5\n",
      "[5, -10, 100] 95\n",
      "[5, -10, 100, -20, 15, -10, 25] 105\n",
      "[5, -10, 100, -20, 15, -10, 25, 30] 135\n",
      "[100, -20, 15, -10, 25, 30] 140\n"
     ]
    },
    {
     "data": {
      "text/plain": [
       "140"
      ]
     },
     "execution_count": 131,
     "metadata": {},
     "output_type": "execute_result"
    }
   ],
   "source": [
    "\n",
    "def max_subarray_sum(A):\n",
    "    n = len(A)\n",
    "    maxsum = -float(\"inf\")\n",
    "    subarray_maxsum = None\n",
    "    for s in range(n):\n",
    "        subtotal = 0\n",
    "        for e in range(s,n):\n",
    "            subtotal += A[e]\n",
    "            \n",
    "            if subtotal > maxsum:\n",
    "                maxsum = subtotal\n",
    "                subarray_maxsum = A[s:e+1]\n",
    "                print(subarray_maxsum,maxsum)\n",
    "            \n",
    "    return maxsum\n",
    "    \n",
    "A = [5,-10,100,-20,15,-10,25,30]\n",
    "\n",
    "max_subarray_sum(A)"
   ]
  },
  {
   "cell_type": "code",
   "execution_count": null,
   "id": "3f226cb3",
   "metadata": {},
   "outputs": [],
   "source": []
  },
  {
   "cell_type": "code",
   "execution_count": 132,
   "id": "e68e87b6",
   "metadata": {},
   "outputs": [
    {
     "name": "stdout",
     "output_type": "stream",
     "text": [
      "[-15] -15\n",
      "[-15, 8] -7\n",
      "[-15, 8, -2, 1, 2] -6\n",
      "[-15, 8, -2, 1, 2, 10] 4\n",
      "[8] 8\n",
      "[8, -2, 1, 2] 9\n",
      "[8, -2, 1, 2, 10] 19\n"
     ]
    },
    {
     "data": {
      "text/plain": [
       "19"
      ]
     },
     "execution_count": 132,
     "metadata": {},
     "output_type": "execute_result"
    }
   ],
   "source": [
    "    \n",
    "A = [-15,8,-2,1,2,10,-5,-7,3,2,1,-1]\n",
    "max_subarray_sum(A)"
   ]
  },
  {
   "cell_type": "code",
   "execution_count": 133,
   "id": "1291e845",
   "metadata": {},
   "outputs": [],
   "source": [
    "# Kaden's Aalgorithm "
   ]
  },
  {
   "cell_type": "code",
   "execution_count": 134,
   "id": "b75ef122",
   "metadata": {},
   "outputs": [
    {
     "data": {
      "text/plain": [
       "140"
      ]
     },
     "execution_count": 134,
     "metadata": {},
     "output_type": "execute_result"
    }
   ],
   "source": [
    "\n",
    "def max_subarray_sum(A):\n",
    "    n = len(A)\n",
    "    maxsum = -float(\"inf\")\n",
    "    \n",
    "    \n",
    "    current_max = A[0]\n",
    "    \n",
    "    for i in range(1,n):\n",
    "        current_max = max( A[i], current_max + A[i] )\n",
    "        maxsum = max( maxsum, current_max )\n",
    "\n",
    "        return maxsum\n",
    "    \n",
    "A = [5,-10,100,-20,15,-10,25,30]\n",
    "\n",
    "max_subarray_sum(A)"
   ]
  },
  {
   "cell_type": "code",
   "execution_count": null,
   "id": "920143d5",
   "metadata": {},
   "outputs": [],
   "source": []
  },
  {
   "cell_type": "markdown",
   "id": "3059cf3e",
   "metadata": {},
   "source": [
    "#### Given N array elements how many subarrays of len = 1 are there ?\n",
    "    \n",
    "    N\n",
    "\n",
    "\n",
    "#### Given N array elements how many subarrays of len = 2 are there ?\n",
    "    \n",
    "    N-1\n",
    "\n",
    "#### Given N array elements how many subarrays of len = k are there ?\n",
    "    \n",
    "    N-k+1"
   ]
  },
  {
   "cell_type": "markdown",
   "id": "d735fe25",
   "metadata": {},
   "source": [
    "#### Given N array elements and len = k ? Print last subarray start index and last index\n",
    "    \n",
    "    [N-K , N-1]\n",
    "\n",
    "\n",
    "    e-s+1 = length \n",
    "    n-1 - s +1 = k  \n",
    "    s = n-k\n",
    "    and \n",
    "    e = n-1\n"
   ]
  },
  {
   "cell_type": "markdown",
   "id": "14ad220b",
   "metadata": {},
   "source": [
    "### Maximum subarray sum with length k "
   ]
  },
  {
   "cell_type": "code",
   "execution_count": 135,
   "id": "9a246dba",
   "metadata": {},
   "outputs": [
    {
     "name": "stdout",
     "output_type": "stream",
     "text": [
      "[5, -10, 100, -20, 15] 5\n",
      "[5, -10, 100, -20, 15] 95\n",
      "[100, -20, 15, -10, 25] 100\n",
      "[100, -20, 15, -10, 25] 110\n"
     ]
    },
    {
     "data": {
      "text/plain": [
       "110"
      ]
     },
     "execution_count": 135,
     "metadata": {},
     "output_type": "execute_result"
    }
   ],
   "source": [
    "def max_sum_sub_with_k_len(A,k):\n",
    "    \n",
    "    n = len(A)\n",
    "    \n",
    "    maxsum = -float(\"inf\")\n",
    "    \n",
    "    for s in range(n-k+1):\n",
    "        e = k + s -1\n",
    "        subsum = 0\n",
    "        for i in range(s,e+1):\n",
    "            subsum += A[i]\n",
    "            if subsum > maxsum:\n",
    "                maxsum = subsum\n",
    "                print(A[s:e+1],subsum)\n",
    "    return maxsum\n",
    "    \n",
    "max_sum_sub_with_k_len([5,-10,100,-20,15,-10,25,30],5)"
   ]
  },
  {
   "cell_type": "code",
   "execution_count": null,
   "id": "a147bd23",
   "metadata": {},
   "outputs": [],
   "source": []
  },
  {
   "cell_type": "code",
   "execution_count": 136,
   "id": "8d167675",
   "metadata": {},
   "outputs": [
    {
     "name": "stdout",
     "output_type": "stream",
     "text": [
      "[5, -10, 100, -20, 15] 90\n",
      "[100, -20, 15, -10, 25] 110\n"
     ]
    },
    {
     "data": {
      "text/plain": [
       "110"
      ]
     },
     "execution_count": 136,
     "metadata": {},
     "output_type": "execute_result"
    }
   ],
   "source": [
    "def max_sum_sub_with_k_len(A,k):\n",
    "    \n",
    "    n = len(A)\n",
    "    \n",
    "    maxsum = -float(\"inf\")\n",
    "    \n",
    "    prefixsum = [A[0]]\n",
    "    for x in A[1:]:\n",
    "        prefixsum.append(x+prefixsum[-1])\n",
    "    \n",
    "    for s in range(n-k+1):\n",
    "        e = k + s -1\n",
    "        subsum = 0\n",
    "        \n",
    "        if s == 0:\n",
    "            subsum = prefixsum[e]\n",
    "        else:\n",
    "            subsum = prefixsum[e]- prefixsum[s-1]\n",
    "            \n",
    "        if subsum > maxsum:\n",
    "            maxsum = subsum\n",
    "            print(A[s:e+1],subsum)\n",
    "    return maxsum\n",
    "    \n",
    "max_sum_sub_with_k_len([5,-10,100,-20,15,-10,25,30],5)"
   ]
  },
  {
   "cell_type": "code",
   "execution_count": null,
   "id": "d8f7ea46",
   "metadata": {},
   "outputs": [],
   "source": []
  },
  {
   "cell_type": "code",
   "execution_count": 137,
   "id": "dce761eb",
   "metadata": {},
   "outputs": [
    {
     "name": "stdout",
     "output_type": "stream",
     "text": [
      "[5, -10, 100, -20, 15] 90\n",
      "[100, -20, 15, -10, 25] 110\n"
     ]
    },
    {
     "data": {
      "text/plain": [
       "110"
      ]
     },
     "execution_count": 137,
     "metadata": {},
     "output_type": "execute_result"
    }
   ],
   "source": [
    "max_sum_sub_with_k_len([5,-10,100,-20,15,-10,25,30],5)"
   ]
  },
  {
   "cell_type": "code",
   "execution_count": null,
   "id": "6447b8e5",
   "metadata": {},
   "outputs": [],
   "source": []
  },
  {
   "cell_type": "code",
   "execution_count": null,
   "id": "66e5fa47",
   "metadata": {},
   "outputs": [],
   "source": []
  },
  {
   "cell_type": "code",
   "execution_count": 138,
   "id": "671eb39c",
   "metadata": {},
   "outputs": [
    {
     "data": {
      "text/plain": [
       "110"
      ]
     },
     "execution_count": 138,
     "metadata": {},
     "output_type": "execute_result"
    }
   ],
   "source": [
    "def max_sum_sub_with_k_len(A,k):\n",
    "    \n",
    "    n = len(A)\n",
    "    \n",
    "    ksum = sum(A[:k])\n",
    "    \n",
    "    maxsum = -float(\"inf\")\n",
    "    \n",
    "    for s in range(1,n-k+1):\n",
    "        e = s+k-1\n",
    "        \n",
    "        ksum = ksum - A[s-1]  + A[e]\n",
    "        \n",
    "        if ksum > maxsum:\n",
    "            maxsum = ksum\n",
    "            \n",
    "    return maxsum\n",
    "    \n",
    "max_sum_sub_with_k_len([5,-10,100,-20,15,-10,25,30],5)"
   ]
  },
  {
   "cell_type": "code",
   "execution_count": null,
   "id": "44f2d2a0",
   "metadata": {},
   "outputs": [],
   "source": []
  },
  {
   "cell_type": "code",
   "execution_count": null,
   "id": "608b1075",
   "metadata": {},
   "outputs": [],
   "source": []
  },
  {
   "cell_type": "code",
   "execution_count": null,
   "id": "f0cb54b2",
   "metadata": {},
   "outputs": [],
   "source": []
  },
  {
   "cell_type": "markdown",
   "id": "257b562e",
   "metadata": {},
   "source": [
    "### . Subarray with least average\n",
    "\n",
    "### Given an array of size N, find the subarray of size K with the least average.\n",
    "\n",
    "    Problem Constraints\n",
    "    1<=k<=N<=1e5\n",
    "    -1e5<=A[i]<=1e5\n",
    "    Input Format\n",
    "    First argument contains an array A of integers of size N.\n",
    "    Second argument contains integer k.\n",
    "    Output Format\n",
    "    Return the index of the first element of the subarray of size k that has least average.\n",
    "    Array indexing starts from 0.\n",
    "\n",
    "    Example Input\n",
    "    Input 1:\n",
    "    A=[3, 7, 90, 20, 10, 50, 40]\n",
    "    B=3\n",
    "    Input 2:\n",
    "    A=[3, 7, 5, 20, -10, 0, 12]\n",
    "    B=2\n",
    "    Example Output\n",
    "    Output 1:\n",
    "    3\n",
    "    Output 2:\n",
    "    4\n",
    "\n",
    "    Example Explanation\n",
    "    Explanation 1:\n",
    "    Subarray between indexes 3 and 5\n",
    "    The subarray {20, 10, 50} has the least average \n",
    "    among all subarrays of size 3.\n",
    "    Explanation 2:\n",
    "\n",
    "     Subarray between [4, 5] has minimum average"
   ]
  },
  {
   "cell_type": "code",
   "execution_count": 139,
   "id": "06a973d1",
   "metadata": {},
   "outputs": [
    {
     "data": {
      "text/plain": [
       "3"
      ]
     },
     "execution_count": 139,
     "metadata": {},
     "output_type": "execute_result"
    }
   ],
   "source": [
    "def subarray_with_least_avg_k_size(A,k):\n",
    "    \n",
    "    n = len(A)\n",
    "    minavg = float(\"inf\")\n",
    "    \n",
    "    ksum = sum(A[:k])\n",
    "    min_sub_array_index = None\n",
    "    \n",
    "    for i in range(1,n-k+1):\n",
    "        j = k + i -1\n",
    "        ksum = ksum - A[i-1] + A[j]\n",
    "        \n",
    "        kavg = ksum/(j-i+1)\n",
    "        \n",
    "        if kavg < minavg:\n",
    "            minavg = kavg\n",
    "            min_sub_array_index = i\n",
    "    return min_sub_array_index\n",
    "            \n",
    "    \n",
    "    \n",
    "\n",
    "    \n",
    "A = [3, 7, 90, 20, 10, 50, 40]\n",
    "k = 3\n",
    "\n",
    "subarray_with_least_avg_k_size(A,k)\n",
    "    "
   ]
  },
  {
   "cell_type": "code",
   "execution_count": 140,
   "id": "1fa066c5",
   "metadata": {},
   "outputs": [
    {
     "data": {
      "text/plain": [
       "4"
      ]
     },
     "execution_count": 140,
     "metadata": {},
     "output_type": "execute_result"
    }
   ],
   "source": [
    "A=[3, 7, 5, 20, -10, 0, 12]\n",
    "B=2\n",
    "subarray_with_least_avg_k_size(A,B)\n"
   ]
  },
  {
   "cell_type": "code",
   "execution_count": null,
   "id": "66d7c3af",
   "metadata": {},
   "outputs": [],
   "source": []
  },
  {
   "cell_type": "markdown",
   "id": "b2c4c2c8",
   "metadata": {},
   "source": [
    "###  Maximum Subarray Easy : \n",
    "\n",
    "\n",
    "#### You are given an integer array C of size A. Now you need to find a subarray (contiguous elements) so that the sum of contiguous elements is maximum. But the sum must not exceed B.\n",
    "\n",
    "    Problem Constraints\n",
    "    1 <= A <= 103\n",
    "    1 <= B <= 109\n",
    "    1 <= C[i] <= 106\n",
    "\n",
    "    Input Format\n",
    "    The first argument is the integer A.\n",
    "    The second argument is the integer B.\n",
    "    The third argument is the integer array C.\n",
    "\n",
    "    Output Format\n",
    "    Return a single integer which denotes the maximum sum.\n",
    "\n",
    "    Example Input\n",
    "    Input 1:\n",
    "    A = 5\n",
    "    B = 12\n",
    "    C = [2, 1, 3, 4, 5]\n",
    "    Input 2:\n",
    "    A = 3\n",
    "    B = 1\n",
    "    C = [2, 2, 2]\n",
    "\n",
    "    Example Output\n",
    "    Output 1:\n",
    "    12\n",
    "    Output 2:\n",
    "    0\n",
    "\n",
    "    Example Explanation\n",
    "    Explanation 1:\n",
    "    We can select {3,4,5} which sums up to 12 which is the maximum possible sum.\n",
    "    Explanation 2:\n",
    "\n",
    "    All elements are greater than B, which means we cannot select any subarray.\n",
    "    Hence, the answer is 0."
   ]
  },
  {
   "cell_type": "code",
   "execution_count": 141,
   "id": "d8163fe0",
   "metadata": {},
   "outputs": [
    {
     "data": {
      "text/plain": [
       "12"
      ]
     },
     "execution_count": 141,
     "metadata": {},
     "output_type": "execute_result"
    }
   ],
   "source": [
    "\n",
    "def max_sub_easy(A,k):\n",
    "    n = len(A)\n",
    "    maxum = -float(\"inf\")\n",
    "    for s in range(n):\n",
    "        subsum = 0\n",
    "        for e in range(s,n):\n",
    "            subsum += A[e]\n",
    "            if subsum <= k:\n",
    "                maxum = max(maxum, subsum)\n",
    "            else:\n",
    "                break\n",
    "    if maxum == -float(\"inf\"):\n",
    "        return 0\n",
    "    return maxum\n",
    "                \n",
    "n = 5\n",
    "k = 12\n",
    "A = [2, 1, 3, 4, 5]\n",
    "max_sub_easy(A,k)\n",
    " "
   ]
  },
  {
   "cell_type": "code",
   "execution_count": 142,
   "id": "6906409a",
   "metadata": {},
   "outputs": [
    {
     "data": {
      "text/plain": [
       "0"
      ]
     },
     "execution_count": 142,
     "metadata": {},
     "output_type": "execute_result"
    }
   ],
   "source": [
    "A = 3\n",
    "B = 1\n",
    "C = [2, 2, 2]\n",
    "max_sub_easy(C,B)"
   ]
  },
  {
   "cell_type": "code",
   "execution_count": null,
   "id": "1a01bde4",
   "metadata": {},
   "outputs": [],
   "source": []
  },
  {
   "cell_type": "markdown",
   "id": "3327f564",
   "metadata": {},
   "source": [
    "###  Counting Subarrays!\n",
    "\n",
    "#### Given an array A of N non-negative numbers and you are also given non-negative number B. You need to find the number of subarrays in A having sum less than B. We may assume that there is no overflow.\n",
    "\n",
    "    Problem Constraints\n",
    "    1 <= N <= 104\n",
    "    1 <= A[i] <= 100\n",
    "    1 <= B <= 108\n",
    "\n",
    "    Input Format\n",
    "    First argument is an integer array A.\n",
    "    Second argument is an integer B.\n",
    "    Output Format\n",
    "    Return an integer denoting the number of subarrays in A having sum less than B.\n",
    "\n",
    "    Example Input\n",
    "    Input 1:\n",
    "     A = [2, 5, 6]\n",
    "     B = 10\n",
    "    Input 2:\n",
    "     A = [1, 11, 2, 3, 15]\n",
    "     B = 10\n",
    "    Example Output\n",
    "    Output 1:\n",
    "     4\n",
    "    Output 2:\n",
    "     4\n",
    "\n",
    "    Example Explanation\n",
    "    Explanation 1:\n",
    "     The subarrays with sum less than B are {2}, {5}, {6} and {2, 5},\n",
    "    Explanation 2:\n",
    "     The subarrays with sum less than B are {1}, {2}, {3} and {2, 3}"
   ]
  },
  {
   "cell_type": "code",
   "execution_count": 143,
   "id": "b449d52a",
   "metadata": {},
   "outputs": [
    {
     "name": "stdout",
     "output_type": "stream",
     "text": [
      "4\n"
     ]
    }
   ],
   "source": [
    "A = [1, 11, 2, 3, 15]\n",
    "B = 10\n",
    "\n",
    "count = 0\n",
    "n = len(A)\n",
    "for s in range(n):\n",
    "    subsum = 0\n",
    "    for e in range(s,n):\n",
    "        subsum += A[e]\n",
    "        if subsum < B:\n",
    "            count += 1\n",
    "print(count)\n",
    "        "
   ]
  },
  {
   "cell_type": "code",
   "execution_count": null,
   "id": "a37e4646",
   "metadata": {},
   "outputs": [],
   "source": []
  },
  {
   "cell_type": "markdown",
   "id": "d32e2ad2",
   "metadata": {},
   "source": [
    "### Good Subarrays Easy\n",
    "\n",
    "#### Given an array of integers A, a subarray of an array is said to be good if it fulfills any one of the criteria: 1. Length of the subarray is be even, and the sum of all the elements of the subarray must be less than B. 2. Length of the subarray is be odd, and the sum of all the elements of the subarray must be greater than B. Your task is to find the count of good subarrays in A.\n",
    "\n",
    "    Problem Constraints\n",
    "    1 <= len(A) <= 103\n",
    "    1 <= A[i] <= 103\n",
    "    1 <= B <= 107\n",
    "    Input Format\n",
    "    The first argument given is the integer array A.\n",
    "    The second argument given is an integer B.\n",
    "    Output Format\n",
    "    Return the count of good subarrays in A.\n",
    "    Example Input\n",
    "    Input 1:\n",
    "    A = [1, 2, 3, 4, 5]\n",
    "    B = 4\n",
    "    Input 2:\n",
    "    A = [13, 16, 16, 15, 9, 16, 2, 7, 6, 17, 3, 9]\n",
    "    B = 65\n",
    "    Example Output\n",
    "    Output 1:\n",
    "    6\n",
    "    Output 2:\n",
    "    36\n",
    "    Example Explanation\n",
    "    Explanation 1:\n",
    "    Even length good subarrays = {1, 2}\n",
    "    Odd length good subarrays = {1, 2, 3}, {1, 2, 3, 4, 5}, {2, 3, 4}, {3, 4, 5}, {5} "
   ]
  },
  {
   "cell_type": "code",
   "execution_count": null,
   "id": "3ce6b6e2",
   "metadata": {},
   "outputs": [],
   "source": []
  },
  {
   "cell_type": "code",
   "execution_count": 144,
   "id": "95ca8b02",
   "metadata": {},
   "outputs": [
    {
     "data": {
      "text/plain": [
       "36"
      ]
     },
     "execution_count": 144,
     "metadata": {},
     "output_type": "execute_result"
    }
   ],
   "source": [
    "def Good_Subarrays_Easy(A,k):\n",
    "    n = len(A)\n",
    "    \n",
    "    count = 0\n",
    "    \n",
    "    for s in range(n):\n",
    "        subsum = 0\n",
    "        for e in range(s,n):\n",
    "            subsum += A[e]\n",
    "            length = e-s+1\n",
    "            \n",
    "            if length % 2 == 0 and subsum < B:\n",
    "                count += 1\n",
    "            if length % 2 != 0 and subsum > B:\n",
    "                count += 1\n",
    "                \n",
    "    return count\n",
    "    \n",
    "A = [13, 16, 16, 15, 9, 16, 2, 7, 6, 17, 3, 9]\n",
    "B = 65 \n",
    "Good_Subarrays_Easy(A,B)"
   ]
  },
  {
   "cell_type": "code",
   "execution_count": 145,
   "id": "f9c65a40",
   "metadata": {},
   "outputs": [
    {
     "data": {
      "text/plain": [
       "6"
      ]
     },
     "execution_count": 145,
     "metadata": {},
     "output_type": "execute_result"
    }
   ],
   "source": [
    "A = [1, 2, 3, 4, 5]\n",
    "B = 4\n",
    "Good_Subarrays_Easy(A,B)"
   ]
  },
  {
   "cell_type": "code",
   "execution_count": null,
   "id": "e88b4686",
   "metadata": {},
   "outputs": [],
   "source": []
  },
  {
   "cell_type": "code",
   "execution_count": null,
   "id": "9c592272",
   "metadata": {},
   "outputs": [],
   "source": []
  },
  {
   "cell_type": "markdown",
   "id": "df972377",
   "metadata": {},
   "source": [
    "### Alternating Subarrays Easy : \n",
    "\n",
    "### You are given an integer array A of length N comprising of 0's & 1's, and an integer B. You have to tell all the indices of array A that can act as a center of 2 * B + 1 length 0-1 alternating subarray. A 0-1 alternating array is an array containing only 0's & 1's, and having no adjacent 0's or 1's. For e.g. arrays [0, 1, 0, 1], [1, 0] and [1] are 0-1 alternating, while [1, 1] and [0, 1, 0, 0, 1] are not.\n",
    "\n",
    "    Problem Constraints\n",
    "    1 <= N <= 103\n",
    "    A[i] equals to 0 or 1.\n",
    "    0 <= B <= (N - 1) / 2\n",
    "\n",
    "    Input Format\n",
    "    First argument is an integer array A.\n",
    "    Second argument is an integer B.\n",
    "\n",
    "    Output Format\n",
    "    Return an integer array containing indices(0-based) in sorted order. If no such index exists, return an empty integer array.\n",
    "\n",
    "    Example Input\n",
    "    Input 1:\n",
    "     A = [1, 0, 1, 0, 1]\n",
    "     B = 1 \n",
    "    Input 2:\n",
    "     A = [0, 0, 0, 1, 1, 0, 1]\n",
    "     B = 0 \n",
    "\n",
    "    Example Output\n",
    "    Output 1:\n",
    "     [1, 2, 3]\n",
    "    Output 2:\n",
    "     [0, 1, 2, 3, 4, 5, 6]\n",
    "\n",
    "    Example Explanation\n",
    "    Explanation 1:\n",
    "     Index 1 acts as a centre of alternating sequence: [A0, A1, A2]\n",
    "     Index 2 acts as a centre of alternating sequence: [A1, A2, A3]\n",
    "     Index 3 acts as a centre of alternating sequence: [A2, A3, A4] \n",
    "    Explanation 2:\n",
    "     Each index in the array acts as the center of alternating sequences of lengths 1."
   ]
  },
  {
   "cell_type": "code",
   "execution_count": 146,
   "id": "9312f263",
   "metadata": {},
   "outputs": [
    {
     "data": {
      "text/plain": [
       "[0, 1, 2, 3, 4, 5, 6]"
      ]
     },
     "execution_count": 146,
     "metadata": {},
     "output_type": "execute_result"
    }
   ],
   "source": [
    "A = [0,0,0,1,1,0,1]\n",
    "B = 0\n",
    "def Alternating_Subarrays_Easy(A,B):\n",
    "    \n",
    "    n = len(A)\n",
    "    l = 2*B +1 \n",
    "    ans = []\n",
    "    \n",
    "    for s in range(n-l+1):\n",
    "        e = l+s-1\n",
    "\n",
    "        isalternating = True\n",
    "        prev_val = None\n",
    "        for i in range(s,e+1):\n",
    "            if A[i] == prev_val:\n",
    "                isalternating = False\n",
    "                break\n",
    "            prev_val = A[i]\n",
    "\n",
    "        if isalternating:\n",
    "            ans.append((s+e)//2)\n",
    "    return ans\n",
    "\n",
    "A = [0,0,0,1,1,0,1]\n",
    "B = 0\n",
    "Alternating_Subarrays_Easy(A,B)"
   ]
  },
  {
   "cell_type": "code",
   "execution_count": 147,
   "id": "0dcdfd37",
   "metadata": {},
   "outputs": [
    {
     "data": {
      "text/plain": [
       "[1, 2, 3]"
      ]
     },
     "execution_count": 147,
     "metadata": {},
     "output_type": "execute_result"
    }
   ],
   "source": [
    "A = [1,0,1,0,1]\n",
    "B = 1\n",
    "Alternating_Subarrays_Easy(A,B)"
   ]
  },
  {
   "cell_type": "code",
   "execution_count": 148,
   "id": "29dd15a9",
   "metadata": {},
   "outputs": [
    {
     "data": {
      "text/plain": [
       "[1, 2, 3, 4, 11, 12, 13]"
      ]
     },
     "execution_count": 148,
     "metadata": {},
     "output_type": "execute_result"
    }
   ],
   "source": [
    "\n",
    "A = [1,0,1,0,1,0,0,0,1,1,1,0,1,0,1,1,1,1,1,0,0]\n",
    "B = 1\n",
    "Alternating_Subarrays_Easy(A,B)"
   ]
  },
  {
   "cell_type": "code",
   "execution_count": null,
   "id": "b661d403",
   "metadata": {},
   "outputs": [],
   "source": []
  },
  {
   "cell_type": "code",
   "execution_count": null,
   "id": "642a5b60",
   "metadata": {},
   "outputs": [],
   "source": []
  },
  {
   "cell_type": "code",
   "execution_count": null,
   "id": "1cef0de3",
   "metadata": {},
   "outputs": [],
   "source": []
  },
  {
   "cell_type": "code",
   "execution_count": 149,
   "id": "d8e92794",
   "metadata": {},
   "outputs": [
    {
     "name": "stdout",
     "output_type": "stream",
     "text": [
      "0001101\n"
     ]
    },
    {
     "data": {
      "text/plain": [
       "[0, 1, 2, 3, 4, 5, 6]"
      ]
     },
     "execution_count": 149,
     "metadata": {},
     "output_type": "execute_result"
    }
   ],
   "source": [
    "\n",
    "def Alternating_Subarrays_Easy(A,B):\n",
    "    n = len(A)\n",
    "    l = 2*B +1 \n",
    "    ans = []\n",
    "    \n",
    "    if l > n:\n",
    "        return 0\n",
    "    \n",
    "    string = \"\"\n",
    "    \n",
    "    for i in A:\n",
    "        string += str(i)\n",
    "    print(string)\n",
    "    \n",
    "    for i in range(B,n-B):\n",
    "        if \"00\" not in string[i-B:i+B+1] and \"11\" not in string[i-B:i+B+1]:\n",
    "            ans.append(i)\n",
    "    return ans\n",
    "    \n",
    "    \n",
    "A = [0,0,0,1,1,0,1]\n",
    "B = 0\n",
    "Alternating_Subarrays_Easy(A,B)"
   ]
  },
  {
   "cell_type": "code",
   "execution_count": 150,
   "id": "a311d3c2",
   "metadata": {},
   "outputs": [
    {
     "name": "stdout",
     "output_type": "stream",
     "text": [
      "10101\n"
     ]
    },
    {
     "data": {
      "text/plain": [
       "[1, 2, 3]"
      ]
     },
     "execution_count": 150,
     "metadata": {},
     "output_type": "execute_result"
    }
   ],
   "source": [
    "\n",
    "A = [1,0,1,0,1]\n",
    "B = 1\n",
    "Alternating_Subarrays_Easy(A,B)"
   ]
  },
  {
   "cell_type": "code",
   "execution_count": 151,
   "id": "8070ed17",
   "metadata": {},
   "outputs": [
    {
     "name": "stdout",
     "output_type": "stream",
     "text": [
      "101010001110101111100\n"
     ]
    },
    {
     "data": {
      "text/plain": [
       "[1, 2, 3, 4, 11, 12, 13]"
      ]
     },
     "execution_count": 151,
     "metadata": {},
     "output_type": "execute_result"
    }
   ],
   "source": [
    "\n",
    "A = [1,0,1,0,1,0,0,0,1,1,1,0,1,0,1,1,1,1,1,0,0]\n",
    "B = 1\n",
    "Alternating_Subarrays_Easy(A,B)"
   ]
  },
  {
   "cell_type": "code",
   "execution_count": null,
   "id": "5c27b266",
   "metadata": {},
   "outputs": [],
   "source": []
  },
  {
   "cell_type": "code",
   "execution_count": null,
   "id": "11ef9c07",
   "metadata": {},
   "outputs": [],
   "source": []
  },
  {
   "cell_type": "markdown",
   "id": "7c35eca2",
   "metadata": {},
   "source": [
    "### In how many subarrays, the element at index 1 will be present?\n",
    "    10"
   ]
  },
  {
   "cell_type": "markdown",
   "id": "203235eb",
   "metadata": {},
   "source": [
    "### In an array of size N, how many subarrays will contain the element at index i?\n",
    "    (i+1)*(N-i)"
   ]
  },
  {
   "cell_type": "markdown",
   "id": "3c83d5ea",
   "metadata": {},
   "source": [
    "### given array A find the sum of all elements of all subarrays :"
   ]
  },
  {
   "cell_type": "code",
   "execution_count": 152,
   "id": "7047aaf2",
   "metadata": {},
   "outputs": [],
   "source": [
    "# bruteforce "
   ]
  },
  {
   "cell_type": "code",
   "execution_count": 153,
   "id": "3138624a",
   "metadata": {},
   "outputs": [
    {
     "name": "stdout",
     "output_type": "stream",
     "text": [
      "105\n"
     ]
    }
   ],
   "source": [
    "A = [1,2,3,4,5]\n",
    "n = len(A)\n",
    "total = 0\n",
    "for s in range(n):\n",
    "    for e in range(s,n):\n",
    "        for i in range(s,e+1):\n",
    "            total += A[i]\n",
    "print(total)"
   ]
  },
  {
   "cell_type": "code",
   "execution_count": 154,
   "id": "319b22b5",
   "metadata": {},
   "outputs": [],
   "source": [
    "# prefix sum technique"
   ]
  },
  {
   "cell_type": "code",
   "execution_count": 155,
   "id": "97a5ad84",
   "metadata": {},
   "outputs": [
    {
     "name": "stdout",
     "output_type": "stream",
     "text": [
      "105\n"
     ]
    }
   ],
   "source": [
    "A = [1,2,3,4,5]\n",
    "n = len(A)\n",
    "prefixsum = [A[0]]\n",
    "for x in A[1:]:\n",
    "    prefixsum.append(x + prefixsum[-1])\n",
    "\n",
    "total = 0\n",
    "\n",
    "for s in range(n):\n",
    "    sm = 0\n",
    "    for e in range(s,n):\n",
    "        if s == 0:\n",
    "            sm = prefixsum[e]\n",
    "        else:\n",
    "            sm = prefixsum[e]-prefixsum[s-1]\n",
    "        total += sm\n",
    "print(total)"
   ]
  },
  {
   "cell_type": "code",
   "execution_count": 156,
   "id": "d497c391",
   "metadata": {},
   "outputs": [],
   "source": [
    "# carry forward technique"
   ]
  },
  {
   "cell_type": "code",
   "execution_count": 157,
   "id": "88b01fbf",
   "metadata": {},
   "outputs": [
    {
     "name": "stdout",
     "output_type": "stream",
     "text": [
      "105\n"
     ]
    }
   ],
   "source": [
    "A = [1,2,3,4,5]\n",
    "n = len(A)\n",
    "total = 0\n",
    "for s in range(n):\n",
    "    subsm = 0\n",
    "    for e in range(s,n):\n",
    "        subsm += A[e]\n",
    "        total += subsm\n",
    "print(total)"
   ]
  },
  {
   "cell_type": "code",
   "execution_count": 158,
   "id": "6164c319",
   "metadata": {},
   "outputs": [],
   "source": [
    "# inverting problem"
   ]
  },
  {
   "cell_type": "code",
   "execution_count": 159,
   "id": "c62d7a0c",
   "metadata": {},
   "outputs": [
    {
     "name": "stdout",
     "output_type": "stream",
     "text": [
      "105\n"
     ]
    }
   ],
   "source": [
    "A = [1,2,3,4,5]\n",
    "n = len(A)\n",
    "total = 0\n",
    "for i in range(n):          # all elements in array\n",
    "    \n",
    "    total += A[i] * (n-i)*(i+1)   # multiplying each element with number of subarrays \n",
    "                                 # that particular element is contained in . \n",
    "                                # and adding all the values as total sum \n",
    "    \n",
    "    \n",
    "print(total)"
   ]
  },
  {
   "cell_type": "code",
   "execution_count": 160,
   "id": "4a7628df",
   "metadata": {},
   "outputs": [
    {
     "name": "stdout",
     "output_type": "stream",
     "text": [
      "element: 1  is contained in  10  subarrays  so total : 10\n",
      "element: 2  is contained in  18  subarrays  so total : 36\n",
      "element: 3  is contained in  24  subarrays  so total : 72\n",
      "element: 4  is contained in  28  subarrays  so total : 112\n",
      "element: 5  is contained in  30  subarrays  so total : 150\n",
      "element: 6  is contained in  30  subarrays  so total : 180\n",
      "element: 7  is contained in  28  subarrays  so total : 196\n",
      "element: 8  is contained in  24  subarrays  so total : 192\n",
      "element: 9  is contained in  18  subarrays  so total : 162\n",
      "element: 10  is contained in  10  subarrays  so total : 100\n",
      "\n",
      "sum of all subarrays:  1210\n"
     ]
    }
   ],
   "source": [
    "#  [ 1 2 3 4 5 6 7 8 9 10 ]\n",
    "#    0 1 2 3 4 5 6 7 8 9\n",
    "#            4 \n",
    "#            i\n",
    "#  [   i+1    ]\n",
    "#           [    n-i     ]\n",
    "\n",
    "\n",
    "\n",
    "A = [1,2,3,4,5,6,7,8,9,10]\n",
    "#    0 1 2 3 4 5 6 7 8 9 \n",
    "n = len(A)\n",
    "total = 0\n",
    "for i in range(n):          # all elements in array\n",
    "    print(\"element:\",A[i],\" is contained in \",(n-i)*(i+1),\" subarrays\", \" so total :\",A[i] * (n-i)*(i+1))\n",
    "    total += A[i] * (n-i)*(i+1)   # multiplying each element with number of subarrays \n",
    "                                 # that particular element is contained in . \n",
    "                                # and adding all the values as total sum \n",
    "    \n",
    "print()  \n",
    "print(\"sum of all subarrays: \",total)"
   ]
  },
  {
   "cell_type": "code",
   "execution_count": null,
   "id": "245624f3",
   "metadata": {},
   "outputs": [],
   "source": [
    "    "
   ]
  },
  {
   "cell_type": "code",
   "execution_count": null,
   "id": "b836a088",
   "metadata": {},
   "outputs": [],
   "source": []
  },
  {
   "cell_type": "markdown",
   "id": "db981a26",
   "metadata": {},
   "source": [
    "## 2D arrays : "
   ]
  },
  {
   "cell_type": "code",
   "execution_count": 161,
   "id": "8e7bcad9",
   "metadata": {},
   "outputs": [],
   "source": [
    "M = [ [i*i+j for i in range(5)] for j in range(5)]"
   ]
  },
  {
   "cell_type": "code",
   "execution_count": 162,
   "id": "ccc47aaf",
   "metadata": {},
   "outputs": [
    {
     "data": {
      "text/plain": [
       "[[0, 1, 4, 9, 16],\n",
       " [1, 2, 5, 10, 17],\n",
       " [2, 3, 6, 11, 18],\n",
       " [3, 4, 7, 12, 19],\n",
       " [4, 5, 8, 13, 20]]"
      ]
     },
     "execution_count": 162,
     "metadata": {},
     "output_type": "execute_result"
    }
   ],
   "source": [
    "M\n"
   ]
  },
  {
   "cell_type": "code",
   "execution_count": 163,
   "id": "464851a1",
   "metadata": {},
   "outputs": [
    {
     "data": {
      "text/plain": [
       "[0, 1, 4, 9, 16]"
      ]
     },
     "execution_count": 163,
     "metadata": {},
     "output_type": "execute_result"
    }
   ],
   "source": [
    "M[0]"
   ]
  },
  {
   "cell_type": "code",
   "execution_count": 164,
   "id": "0681489f",
   "metadata": {},
   "outputs": [
    {
     "data": {
      "text/plain": [
       "16"
      ]
     },
     "execution_count": 164,
     "metadata": {},
     "output_type": "execute_result"
    }
   ],
   "source": [
    "M[0][-1]"
   ]
  },
  {
   "cell_type": "code",
   "execution_count": 165,
   "id": "62174649",
   "metadata": {},
   "outputs": [
    {
     "data": {
      "text/plain": [
       "20"
      ]
     },
     "execution_count": 165,
     "metadata": {},
     "output_type": "execute_result"
    }
   ],
   "source": [
    "M[-1][-1]"
   ]
  },
  {
   "cell_type": "markdown",
   "id": "a2ba2455",
   "metadata": {},
   "source": [
    "   \n",
    "       n = 5\n",
    "       m = 5\n",
    "       \n",
    "    n:m    0  1  2   3   4\n",
    "    \n",
    "     0   [[0, 1, 4,  9, 16]\n",
    "     1    [1, 2, 5, 10, 17]\n",
    "     2    [2, 3, 6, 11, 18]\n",
    "     3    [3, 4, 7, 12, 19]\n",
    "     4    [4, 5, 8, 13, 20]]"
   ]
  },
  {
   "cell_type": "code",
   "execution_count": 166,
   "id": "30de215b",
   "metadata": {},
   "outputs": [
    {
     "data": {
      "text/plain": [
       "(20, 17)"
      ]
     },
     "execution_count": 166,
     "metadata": {},
     "output_type": "execute_result"
    }
   ],
   "source": [
    "M[4][4],M[1][-1]"
   ]
  },
  {
   "cell_type": "code",
   "execution_count": null,
   "id": "545c2455",
   "metadata": {},
   "outputs": [],
   "source": []
  },
  {
   "cell_type": "markdown",
   "id": "d36994f7",
   "metadata": {},
   "source": [
    "### What is the bottom right cell in a matrix of size N * M?\n",
    "    N-1, M-1\n",
    "    \n",
    "### What is the top right cell in a matrix of size N * M?\n",
    "    0, M-1\n",
    "    \n",
    "### Given a matrix of size NxM. What will be the index of the bottom left cell?\n",
    "    N-1,0\n",
    "   \n",
    "### Given a matrix of size NxM. What will be the index of the top left cell?\n",
    "    0, 0\n",
    "   \n"
   ]
  },
  {
   "cell_type": "code",
   "execution_count": 167,
   "id": "c2d9a9a3",
   "metadata": {},
   "outputs": [],
   "source": [
    "n = 5\n",
    "m = 8\n"
   ]
  },
  {
   "cell_type": "code",
   "execution_count": 168,
   "id": "90deb721",
   "metadata": {},
   "outputs": [],
   "source": [
    "M = [ [0 for i in range(m)] for _ in range(n)]"
   ]
  },
  {
   "cell_type": "code",
   "execution_count": 169,
   "id": "af226d36",
   "metadata": {},
   "outputs": [
    {
     "data": {
      "text/plain": [
       "[[0, 0, 0, 0, 0, 0, 0, 0],\n",
       " [0, 0, 0, 0, 0, 0, 0, 0],\n",
       " [0, 0, 0, 0, 0, 0, 0, 0],\n",
       " [0, 0, 0, 0, 0, 0, 0, 0],\n",
       " [0, 0, 0, 0, 0, 0, 0, 0]]"
      ]
     },
     "execution_count": 169,
     "metadata": {},
     "output_type": "execute_result"
    }
   ],
   "source": [
    "M"
   ]
  },
  {
   "cell_type": "code",
   "execution_count": 170,
   "id": "428256f8",
   "metadata": {},
   "outputs": [
    {
     "data": {
      "text/plain": [
       "[[1, 2, 3, 4, 5, 6, 7, 8],\n",
       " [9, 10, 11, 12, 13, 14, 15, 16],\n",
       " [17, 18, 19, 20, 21, 22, 23, 24],\n",
       " [25, 26, 27, 28, 29, 30, 31, 32],\n",
       " [33, 34, 35, 36, 37, 38, 39, 40]]"
      ]
     },
     "execution_count": 170,
     "metadata": {},
     "output_type": "execute_result"
    }
   ],
   "source": [
    "x = 1\n",
    "for i in range(n):\n",
    "    for j in range(m):\n",
    "        M[i][j] = x\n",
    "        x = x+1\n",
    "M"
   ]
  },
  {
   "cell_type": "code",
   "execution_count": 171,
   "id": "4cd50216",
   "metadata": {},
   "outputs": [
    {
     "data": {
      "text/plain": [
       "[[1, 2, 3, 4, 5, 6, 7, 8],\n",
       " [9, 10, 11, 12, 13, 14, 15, 16],\n",
       " [17, 18, 19, 20, 21, 22, 23, 24],\n",
       " [25, 26, 27, 28, 29, 30, 31, 32],\n",
       " [33, 34, 35, 36, 37, 38, 39, 40]]"
      ]
     },
     "execution_count": 171,
     "metadata": {},
     "output_type": "execute_result"
    }
   ],
   "source": [
    "M"
   ]
  },
  {
   "cell_type": "code",
   "execution_count": 172,
   "id": "96be6e27",
   "metadata": {},
   "outputs": [
    {
     "data": {
      "text/plain": [
       "5"
      ]
     },
     "execution_count": 172,
     "metadata": {},
     "output_type": "execute_result"
    }
   ],
   "source": [
    "len(M)"
   ]
  },
  {
   "cell_type": "code",
   "execution_count": 173,
   "id": "9f3646fb",
   "metadata": {},
   "outputs": [
    {
     "data": {
      "text/plain": [
       "8"
      ]
     },
     "execution_count": 173,
     "metadata": {},
     "output_type": "execute_result"
    }
   ],
   "source": [
    "len(M[0])"
   ]
  },
  {
   "cell_type": "code",
   "execution_count": 174,
   "id": "94a80781",
   "metadata": {},
   "outputs": [
    {
     "data": {
      "text/plain": [
       "[[1, 2, 3, 4, 5, 6, 7, 8], [9, 10, 11, 12, 13, 14, 15, 16]]"
      ]
     },
     "execution_count": 174,
     "metadata": {},
     "output_type": "execute_result"
    }
   ],
   "source": [
    "M[0:2]"
   ]
  },
  {
   "cell_type": "code",
   "execution_count": 175,
   "id": "8b67c2fd",
   "metadata": {},
   "outputs": [
    {
     "data": {
      "text/plain": [
       "[[17, 18, 19, 20, 21, 22, 23, 24], [25, 26, 27, 28, 29, 30, 31, 32]]"
      ]
     },
     "execution_count": 175,
     "metadata": {},
     "output_type": "execute_result"
    }
   ],
   "source": [
    "M[2:4]"
   ]
  },
  {
   "cell_type": "markdown",
   "id": "9e8a13fa",
   "metadata": {},
   "source": [
    "### Print matrix "
   ]
  },
  {
   "cell_type": "code",
   "execution_count": 176,
   "id": "2a1ec2a9",
   "metadata": {},
   "outputs": [
    {
     "data": {
      "text/plain": [
       "(5, 8)"
      ]
     },
     "execution_count": 176,
     "metadata": {},
     "output_type": "execute_result"
    }
   ],
   "source": [
    "M = [[1, 2, 3, 4, 5, 6, 7, 8],\n",
    " [9, 10, 11, 12, 13, 14, 15, 16],\n",
    " [17, 18, 19, 20, 21, 22, 23, 24],\n",
    " [25, 26, 27, 28, 29, 30, 31, 32],\n",
    " [33, 34, 35, 36, 37, 38, 39, 40]]\n",
    "n = len(M)\n",
    "m = len(M[0])\n",
    "(n,m)"
   ]
  },
  {
   "cell_type": "code",
   "execution_count": 177,
   "id": "ae13b9d8",
   "metadata": {},
   "outputs": [
    {
     "name": "stdout",
     "output_type": "stream",
     "text": [
      "1 2 3 4 5 6 7 8 \n",
      "9 10 11 12 13 14 15 16 \n",
      "17 18 19 20 21 22 23 24 \n",
      "25 26 27 28 29 30 31 32 \n",
      "33 34 35 36 37 38 39 40 \n"
     ]
    }
   ],
   "source": [
    "for i in range(n):\n",
    "    for j in range(m):\n",
    "        print(M[i][j], end = \" \")\n",
    "    print()"
   ]
  },
  {
   "cell_type": "code",
   "execution_count": 178,
   "id": "378e4cf7",
   "metadata": {},
   "outputs": [
    {
     "name": "stdout",
     "output_type": "stream",
     "text": [
      "1 2 3 4 5 6 7 8 \n",
      "9 10 11 12 13 14 15 16 \n",
      "17 18 19 20 21 22 23 24 \n",
      "25 26 27 28 29 30 31 32 \n",
      "33 34 35 36 37 38 39 40 \n"
     ]
    }
   ],
   "source": [
    "for row in M:\n",
    "    for ele in row:\n",
    "        print(ele, end = \" \")\n",
    "    print()"
   ]
  },
  {
   "cell_type": "markdown",
   "id": "13c01241",
   "metadata": {},
   "source": [
    "## Transpose matrix "
   ]
  },
  {
   "cell_type": "code",
   "execution_count": 179,
   "id": "e0928077",
   "metadata": {},
   "outputs": [
    {
     "data": {
      "text/plain": [
       "[[11, 12, 13, 14, 15, 16, 17, 18],\n",
       " [21, 22, 23, 24, 25, 26, 27, 28],\n",
       " [31, 32, 33, 34, 35, 36, 37, 38],\n",
       " [41, 42, 43, 44, 45, 46, 47, 48]]"
      ]
     },
     "execution_count": 179,
     "metadata": {},
     "output_type": "execute_result"
    }
   ],
   "source": [
    "M = [[s+i for i in range(1,9)] for s in range (10,50,10) ]\n",
    "M"
   ]
  },
  {
   "cell_type": "code",
   "execution_count": 180,
   "id": "bd1677fa",
   "metadata": {},
   "outputs": [],
   "source": [
    "m = len(M[0])\n",
    "n = len(M)"
   ]
  },
  {
   "cell_type": "code",
   "execution_count": 181,
   "id": "4f2cd710",
   "metadata": {},
   "outputs": [
    {
     "data": {
      "text/plain": [
       "(8, 4)"
      ]
     },
     "execution_count": 181,
     "metadata": {},
     "output_type": "execute_result"
    }
   ],
   "source": [
    "m,n"
   ]
  },
  {
   "cell_type": "code",
   "execution_count": 182,
   "id": "a576d4e8",
   "metadata": {},
   "outputs": [
    {
     "name": "stdout",
     "output_type": "stream",
     "text": [
      "11 21 31 41 \n",
      "12 22 32 42 \n",
      "13 23 33 43 \n",
      "14 24 34 44 \n",
      "15 25 35 45 \n",
      "16 26 36 46 \n",
      "17 27 37 47 \n",
      "18 28 38 48 \n"
     ]
    }
   ],
   "source": [
    "for icol in range(m):\n",
    "    for irow in range(n):\n",
    "        print(M[irow][icol], end = \" \")\n",
    "    print()"
   ]
  },
  {
   "cell_type": "code",
   "execution_count": 183,
   "id": "5a78cfd1",
   "metadata": {},
   "outputs": [
    {
     "data": {
      "application/javascript": [
       "\n",
       "        if (window._pyforest_update_imports_cell) { window._pyforest_update_imports_cell('import numpy as np'); }\n",
       "    "
      ],
      "text/plain": [
       "<IPython.core.display.Javascript object>"
      ]
     },
     "metadata": {},
     "output_type": "display_data"
    },
    {
     "data": {
      "text/plain": [
       "array([[11, 21, 31, 41],\n",
       "       [12, 22, 32, 42],\n",
       "       [13, 23, 33, 43],\n",
       "       [14, 24, 34, 44],\n",
       "       [15, 25, 35, 45],\n",
       "       [16, 26, 36, 46],\n",
       "       [17, 27, 37, 47],\n",
       "       [18, 28, 38, 48]])"
      ]
     },
     "execution_count": 183,
     "metadata": {},
     "output_type": "execute_result"
    }
   ],
   "source": [
    "A = np.array([[11, 12, 13, 14, 15, 16, 17, 18],\n",
    " [21, 22, 23, 24, 25, 26, 27, 28],\n",
    " [31, 32, 33, 34, 35, 36, 37, 38],\n",
    " [41, 42, 43, 44, 45, 46, 47, 48]])\n",
    "A.T"
   ]
  },
  {
   "cell_type": "code",
   "execution_count": null,
   "id": "2df43289",
   "metadata": {},
   "outputs": [],
   "source": [
    " "
   ]
  },
  {
   "cell_type": "code",
   "execution_count": null,
   "id": "333e5294",
   "metadata": {},
   "outputs": [],
   "source": []
  },
  {
   "cell_type": "markdown",
   "id": "c4c2a1c6",
   "metadata": {},
   "source": [
    "## Print sum of each row "
   ]
  },
  {
   "cell_type": "code",
   "execution_count": 184,
   "id": "f3180e3c",
   "metadata": {},
   "outputs": [
    {
     "name": "stdout",
     "output_type": "stream",
     "text": [
      "11 12 13 14 15 16 17 18 : 116\n",
      "21 22 23 24 25 26 27 28 : 196\n",
      "31 32 33 34 35 36 37 38 : 276\n",
      "41 42 43 44 45 46 47 48 : 356\n"
     ]
    }
   ],
   "source": [
    "\n",
    "def print_row_sum(M):\n",
    "    m = len(M[0])\n",
    "    n = len(M)\n",
    "    for i in range(n):\n",
    "        rowsum = 0\n",
    "        for j in range(m):\n",
    "            rowsum += M[i][j]\n",
    "            print(M[i][j],end = \" \")\n",
    "        print(\":\",rowsum)\n",
    "        \n",
    "    \n",
    "\n",
    "M = [[s+i for i in range(1,9)] for s in range (10,50,10) ]\n",
    "print_row_sum(M)"
   ]
  },
  {
   "cell_type": "code",
   "execution_count": null,
   "id": "7cfef5ae",
   "metadata": {},
   "outputs": [],
   "source": []
  },
  {
   "cell_type": "markdown",
   "id": "a4bf226b",
   "metadata": {},
   "source": [
    "## print sum of each columns : "
   ]
  },
  {
   "cell_type": "code",
   "execution_count": 185,
   "id": "ed3783e4",
   "metadata": {},
   "outputs": [
    {
     "name": "stdout",
     "output_type": "stream",
     "text": [
      "11 21 31 41 : 104\n",
      "12 22 32 42 : 108\n",
      "13 23 33 43 : 112\n",
      "14 24 34 44 : 116\n",
      "15 25 35 45 : 120\n",
      "16 26 36 46 : 124\n",
      "17 27 37 47 : 128\n",
      "18 28 38 48 : 132\n"
     ]
    }
   ],
   "source": [
    "\n",
    "def print_row_sum(M):\n",
    "    m = len(M[0])\n",
    "    n = len(M)\n",
    "    for col in range(m):\n",
    "        colsum = 0\n",
    "        for row in range(n):\n",
    "            colsum += M[row][col]\n",
    "            print(M[row][col],end = \" \")\n",
    "        print(\":\",colsum)\n",
    "        \n",
    "    \n",
    "\n",
    "M = [[s+i for i in range(1,9)] for s in range (10,50,10) ]\n",
    "print_row_sum(M)"
   ]
  },
  {
   "cell_type": "code",
   "execution_count": null,
   "id": "3356e2d3",
   "metadata": {},
   "outputs": [],
   "source": []
  },
  {
   "cell_type": "code",
   "execution_count": null,
   "id": "d25bef60",
   "metadata": {},
   "outputs": [],
   "source": []
  },
  {
   "cell_type": "markdown",
   "id": "ad0351b3",
   "metadata": {},
   "source": [
    "## given a sq matrix print diagonals : "
   ]
  },
  {
   "cell_type": "code",
   "execution_count": 186,
   "id": "0ac1299c",
   "metadata": {},
   "outputs": [
    {
     "data": {
      "text/plain": [
       "[[11, 12, 13, 14, 15],\n",
       " [21, 22, 23, 24, 25],\n",
       " [31, 32, 33, 34, 35],\n",
       " [41, 42, 43, 44, 45],\n",
       " [51, 52, 53, 54, 55]]"
      ]
     },
     "execution_count": 186,
     "metadata": {},
     "output_type": "execute_result"
    }
   ],
   "source": [
    "M = [[s+i for i in range(1,6)] for s in range (10,60,10) ]\n",
    "M"
   ]
  },
  {
   "cell_type": "code",
   "execution_count": 187,
   "id": "5dc5f66c",
   "metadata": {},
   "outputs": [
    {
     "name": "stdout",
     "output_type": "stream",
     "text": [
      "11\n",
      "22\n",
      "33\n",
      "44\n",
      "55\n"
     ]
    }
   ],
   "source": [
    "# primary diagonals : \n",
    "\n",
    "for i in range(len(M)):\n",
    "    print(M[i][i])"
   ]
  },
  {
   "cell_type": "code",
   "execution_count": 188,
   "id": "a180b85f",
   "metadata": {},
   "outputs": [],
   "source": [
    "# secondary diagonal : "
   ]
  },
  {
   "cell_type": "code",
   "execution_count": 189,
   "id": "9bad219f",
   "metadata": {},
   "outputs": [
    {
     "name": "stdout",
     "output_type": "stream",
     "text": [
      "15\n",
      "24\n",
      "33\n",
      "42\n",
      "51\n"
     ]
    }
   ],
   "source": [
    "n = len(M)\n",
    "m = len(M[0])\n",
    "r = 0\n",
    "c = m-1\n",
    "while c >= 0 and r <= n-1:\n",
    "    print(M[r][c])\n",
    "    c -= 1\n",
    "    r += 1"
   ]
  },
  {
   "cell_type": "code",
   "execution_count": 190,
   "id": "17e32795",
   "metadata": {},
   "outputs": [
    {
     "name": "stdout",
     "output_type": "stream",
     "text": [
      "15\n",
      "24\n",
      "33\n",
      "42\n",
      "51\n"
     ]
    }
   ],
   "source": [
    "for r in range(n):\n",
    "    c = n-r-1\n",
    "    print(M[r][c])"
   ]
  },
  {
   "cell_type": "code",
   "execution_count": null,
   "id": "f50e7ef7",
   "metadata": {},
   "outputs": [],
   "source": []
  },
  {
   "cell_type": "code",
   "execution_count": null,
   "id": "82d2bf57",
   "metadata": {},
   "outputs": [],
   "source": []
  },
  {
   "cell_type": "code",
   "execution_count": 191,
   "id": "7d9d4316",
   "metadata": {},
   "outputs": [],
   "source": [
    "# print diagonal : "
   ]
  },
  {
   "cell_type": "code",
   "execution_count": 192,
   "id": "2420640e",
   "metadata": {},
   "outputs": [],
   "source": [
    "row = 4\n",
    "col = 8"
   ]
  },
  {
   "cell_type": "code",
   "execution_count": 193,
   "id": "6ad11b37",
   "metadata": {},
   "outputs": [
    {
     "data": {
      "text/plain": [
       "[[0, 0, 0, 0, 0, 0, 0, 0],\n",
       " [0, 0, 0, 0, 0, 0, 0, 0],\n",
       " [0, 0, 0, 0, 0, 0, 0, 0],\n",
       " [0, 0, 0, 0, 0, 0, 0, 0]]"
      ]
     },
     "execution_count": 193,
     "metadata": {},
     "output_type": "execute_result"
    }
   ],
   "source": [
    "M = [[0]*col for _ in range(row)]\n",
    "M"
   ]
  },
  {
   "cell_type": "code",
   "execution_count": 194,
   "id": "9025c252",
   "metadata": {},
   "outputs": [],
   "source": [
    "for i in range(row):\n",
    "    for j in range(col):\n",
    "        M[i][j]= (j+1)**(i+1)"
   ]
  },
  {
   "cell_type": "code",
   "execution_count": 195,
   "id": "ae0d2b08",
   "metadata": {},
   "outputs": [
    {
     "data": {
      "text/plain": [
       "[[1, 2, 3, 4, 5, 6, 7, 8],\n",
       " [1, 4, 9, 16, 25, 36, 49, 64],\n",
       " [1, 8, 27, 64, 125, 216, 343, 512],\n",
       " [1, 16, 81, 256, 625, 1296, 2401, 4096]]"
      ]
     },
     "execution_count": 195,
     "metadata": {},
     "output_type": "execute_result"
    }
   ],
   "source": [
    "M"
   ]
  },
  {
   "cell_type": "code",
   "execution_count": 196,
   "id": "fb4246e8",
   "metadata": {},
   "outputs": [
    {
     "data": {
      "text/plain": [
       "[[1, 2, 3, 4, 5, 6, 7, 8],\n",
       " [1, 4, 9, 16, 25, 36, 49, 64],\n",
       " [1, 8, 27, 64, 125, 216, 343, 512],\n",
       " [1, 16, 81, 256, 625, 1296, 2401, 4096]]"
      ]
     },
     "execution_count": 196,
     "metadata": {},
     "output_type": "execute_result"
    }
   ],
   "source": [
    "M = []\n",
    "for i in range(row):\n",
    "    M.append([])\n",
    "    for j in range(col):\n",
    "        val = (j+1)**(i+1)\n",
    "        M[i].append(val)\n",
    "M"
   ]
  },
  {
   "cell_type": "code",
   "execution_count": 197,
   "id": "75457896",
   "metadata": {},
   "outputs": [
    {
     "name": "stdout",
     "output_type": "stream",
     "text": [
      "8\n",
      "49\n",
      "216\n",
      "625\n"
     ]
    }
   ],
   "source": [
    "n = len(M)\n",
    "m = len(M[0])\n",
    "r = 0\n",
    "c = m-1\n",
    "while r <= n-1 and c >= 0:\n",
    "    print(M[r][c])\n",
    "    c -=  1\n",
    "    r += 1"
   ]
  },
  {
   "cell_type": "code",
   "execution_count": null,
   "id": "caa70aa8",
   "metadata": {},
   "outputs": [],
   "source": []
  },
  {
   "cell_type": "markdown",
   "id": "991695d6",
   "metadata": {},
   "source": [
    "## Given a rectangular matrix of size n*m , print all right to left diagonals. : "
   ]
  },
  {
   "cell_type": "markdown",
   "id": "0ba4a68e",
   "metadata": {},
   "source": [
    "#### Given a matrix of size 5x4, how many diagonals will be there?\n",
    "    8\n"
   ]
  },
  {
   "cell_type": "markdown",
   "id": "1686663b",
   "metadata": {},
   "source": [
    "    5*4 martrix : diagonals :  right to left direction \n",
    "    \n",
    "    1 2 3 4 \n",
    "    2 3 4 5 \n",
    "    3 4 5 6 \n",
    "    4 5 6 7 \n",
    "    5 6 7 8\n",
    "    \n",
    "    for m * n matrix : \n",
    "    \n",
    "    Given a matrix of size NxM, how many diagonals will be there?\n",
    "    N+M-1"
   ]
  },
  {
   "cell_type": "code",
   "execution_count": 198,
   "id": "3ea744ac",
   "metadata": {},
   "outputs": [],
   "source": [
    "def print_diagonals(M):\n",
    "    row = len(M)\n",
    "    col = len(M[0])\n",
    "    for c in range(col):\n",
    "        r = 0\n",
    "        \n",
    "        while r <= n-1 and c >= 0:\n",
    "            print(M[r][c], end= \" \")\n",
    "            c -=  1\n",
    "            r += 1\n",
    "        print()\n",
    "\n",
    "    for r in range(1,row):\n",
    "        c = col-1\n",
    "        \n",
    "        while r <= n-1 and c >= 0:\n",
    "            print(M[r][c], end= \" \")\n",
    "            c -=  1\n",
    "            r += 1\n",
    "        print()\n",
    "\n",
    "        "
   ]
  },
  {
   "cell_type": "code",
   "execution_count": 199,
   "id": "ada5699b",
   "metadata": {},
   "outputs": [
    {
     "data": {
      "text/plain": [
       "[[1, 2, 3, 4, 5, 6, 7, 8],\n",
       " [1, 4, 9, 16, 25, 36, 49, 64],\n",
       " [1, 8, 27, 64, 125, 216, 343, 512],\n",
       " [1, 16, 81, 256, 625, 1296, 2401, 4096]]"
      ]
     },
     "execution_count": 199,
     "metadata": {},
     "output_type": "execute_result"
    }
   ],
   "source": [
    "M = [[0]*col for _ in range(row)]\n",
    "for i in range(row):\n",
    "    for j in range(col):\n",
    "        M[i][j]= (j+1)**(i+1)\n",
    "M"
   ]
  },
  {
   "cell_type": "markdown",
   "id": "32ef8aaf",
   "metadata": {},
   "source": [
    "     [1,  2,  3,   4,   5,    6,    7,    8],\n",
    "     [1,  4,  9,  16,  25,   36,   49,   64],\n",
    "     [1,  8, 27,  64, 125,  216,  343,  512],\n",
    "     [1, 16, 81, 256, 625, 1296, 2401, 4096]]\n"
   ]
  },
  {
   "cell_type": "code",
   "execution_count": 200,
   "id": "1c96a762",
   "metadata": {},
   "outputs": [
    {
     "name": "stdout",
     "output_type": "stream",
     "text": [
      "1 \n",
      "2 1 \n",
      "3 4 1 \n",
      "4 9 8 1 \n",
      "5 16 27 16 \n",
      "6 25 64 81 \n",
      "7 36 125 256 \n",
      "8 49 216 625 \n",
      "64 343 1296 \n",
      "512 2401 \n",
      "4096 \n"
     ]
    }
   ],
   "source": [
    "print_diagonals(M)"
   ]
  },
  {
   "cell_type": "code",
   "execution_count": null,
   "id": "f12d9b2f",
   "metadata": {},
   "outputs": [],
   "source": []
  },
  {
   "cell_type": "code",
   "execution_count": 201,
   "id": "e1da1dca",
   "metadata": {},
   "outputs": [
    {
     "name": "stdout",
     "output_type": "stream",
     "text": [
      "1 \n",
      "2 1 \n",
      "3 4 1 \n",
      "4 9 8 1 \n",
      "2 6 7 1 \n",
      "3 4 8 \n",
      "7 6 \n",
      "9 \n"
     ]
    }
   ],
   "source": [
    "\n",
    "M = [[1,  2,  3,  4,  2], \n",
    "     [1,  4,  9,  6,  3], \n",
    "     [1,  8,  7,  4,  7], \n",
    "     [1,  1,  8,  6,  9]]\n",
    "\n",
    "print_diagonals(M)\n"
   ]
  },
  {
   "cell_type": "code",
   "execution_count": null,
   "id": "faeefb83",
   "metadata": {},
   "outputs": [],
   "source": []
  },
  {
   "cell_type": "markdown",
   "id": "ba7d35ac",
   "metadata": {},
   "source": [
    "## Transpose the matrix : "
   ]
  },
  {
   "cell_type": "code",
   "execution_count": 202,
   "id": "c58f7f84",
   "metadata": {},
   "outputs": [
    {
     "data": {
      "text/plain": [
       "[[1, 1, 1, 1], [2, 4, 8, 1], [3, 9, 7, 8], [4, 6, 4, 6], [2, 3, 7, 9]]"
      ]
     },
     "execution_count": 202,
     "metadata": {},
     "output_type": "execute_result"
    }
   ],
   "source": [
    "\n",
    "def transpose_matrix(M):\n",
    "    r,c = len(M),len(M[0])\n",
    "    \n",
    "    M_t = [[0]*r for _ in range(c)]\n",
    "    \n",
    "    for col in range(c):\n",
    "        for row in range(r):\n",
    "            M_t[col][row] = M[row][col]\n",
    "        \n",
    "    \n",
    "    return M_t\n",
    "\n",
    "\n",
    "M = [[1,  2,  3,  4,  2], \n",
    "     [1,  4,  9,  6,  3], \n",
    "     [1,  8,  7,  4,  7], \n",
    "     [1,  1,  8,  6,  9]]\n",
    "transpose_matrix(M)"
   ]
  },
  {
   "cell_type": "code",
   "execution_count": 203,
   "id": "ecdc3aa3",
   "metadata": {},
   "outputs": [
    {
     "data": {
      "application/javascript": [
       "\n",
       "        if (window._pyforest_update_imports_cell) { window._pyforest_update_imports_cell('import numpy as np'); }\n",
       "    "
      ],
      "text/plain": [
       "<IPython.core.display.Javascript object>"
      ]
     },
     "metadata": {},
     "output_type": "display_data"
    },
    {
     "data": {
      "text/plain": [
       "array([[1, 1, 1, 1],\n",
       "       [2, 4, 8, 1],\n",
       "       [3, 9, 7, 8],\n",
       "       [4, 6, 4, 6],\n",
       "       [2, 3, 7, 9]])"
      ]
     },
     "execution_count": 203,
     "metadata": {},
     "output_type": "execute_result"
    }
   ],
   "source": [
    "M = np.array([[1,  2,  3,  4,  2], \n",
    "     [1,  4,  9,  6,  3], \n",
    "     [1,  8,  7,  4,  7], \n",
    "     [1,  1,  8,  6,  9]])\n",
    "M.T"
   ]
  },
  {
   "cell_type": "code",
   "execution_count": null,
   "id": "1d84a5eb",
   "metadata": {},
   "outputs": [],
   "source": []
  },
  {
   "cell_type": "code",
   "execution_count": 204,
   "id": "7fc48c93",
   "metadata": {},
   "outputs": [
    {
     "data": {
      "text/plain": [
       "[[1, 1, 1, 1],\n",
       " [2, 4, 8, 1],\n",
       " [3, 9, 7, 8],\n",
       " [4, 6, 4, 6],\n",
       " [2, 3, 7, 9],\n",
       " [1, 2, 3, 4],\n",
       " [8, 7, 6, 5]]"
      ]
     },
     "execution_count": 204,
     "metadata": {},
     "output_type": "execute_result"
    }
   ],
   "source": [
    "M = [[1,2,3,4,2,1,8], \n",
    "     [1,4,9,6,3,2,7], \n",
    "     [1,8,7,4,7,3,6], \n",
    "     [1,1,8,6,9,4,5]]\n",
    "transpose_matrix(M)"
   ]
  },
  {
   "cell_type": "code",
   "execution_count": null,
   "id": "32fcba26",
   "metadata": {},
   "outputs": [],
   "source": []
  },
  {
   "cell_type": "code",
   "execution_count": 205,
   "id": "3c578c4a",
   "metadata": {},
   "outputs": [
    {
     "data": {
      "text/plain": [
       "[[1, 4, 7], [2, 5, 6], [3, 8, 9]]"
      ]
     },
     "execution_count": 205,
     "metadata": {},
     "output_type": "execute_result"
    }
   ],
   "source": [
    "M = [[1,2,3],\n",
    "    [4,5,6],\n",
    "     [7,8,9]]\n",
    "r = len(M)\n",
    " \n",
    "\n",
    "for i in range(r//2):\n",
    "    for j in range(r):\n",
    "        M[i][j],M[j][i] = M[j][i],M[i][j]\n",
    "M"
   ]
  },
  {
   "cell_type": "code",
   "execution_count": null,
   "id": "b80b5536",
   "metadata": {},
   "outputs": [],
   "source": []
  },
  {
   "cell_type": "code",
   "execution_count": null,
   "id": "314dff81",
   "metadata": {},
   "outputs": [],
   "source": []
  },
  {
   "cell_type": "markdown",
   "id": "1bc8d5b2",
   "metadata": {},
   "source": [
    "## rotate the n*m matrix 90 degree clockwise :"
   ]
  },
  {
   "cell_type": "code",
   "execution_count": 206,
   "id": "3bfb6b2a",
   "metadata": {},
   "outputs": [
    {
     "data": {
      "text/plain": [
       "[[1, 2, 3, 4, 5, 0],\n",
       " [6, 7, 8, 9, 10, 0],\n",
       " [11, 12, 13, 14, 15, 0],\n",
       " [16, 17, 18, 19, 20, 0]]"
      ]
     },
     "execution_count": 206,
     "metadata": {},
     "output_type": "execute_result"
    }
   ],
   "source": [
    "M = [[1,2,3,4,5,0],\n",
    "    [6,7,8,9,10,0],\n",
    "    [11,12,13,14,15,0],\n",
    "    [16,17,18,19,20,0]]\n",
    "M"
   ]
  },
  {
   "cell_type": "code",
   "execution_count": 207,
   "id": "ba916bf0",
   "metadata": {},
   "outputs": [
    {
     "data": {
      "text/plain": [
       "[[1, 6, 11, 16],\n",
       " [2, 7, 12, 17],\n",
       " [3, 8, 13, 18],\n",
       " [4, 9, 14, 19],\n",
       " [5, 10, 15, 20],\n",
       " [0, 0, 0, 0]]"
      ]
     },
     "execution_count": 207,
     "metadata": {},
     "output_type": "execute_result"
    }
   ],
   "source": [
    "Mt = transpose_matrix(M)\n",
    "Mt"
   ]
  },
  {
   "cell_type": "code",
   "execution_count": 208,
   "id": "31e0b0b0",
   "metadata": {},
   "outputs": [
    {
     "data": {
      "text/plain": [
       "[[16, 11, 6, 1],\n",
       " [17, 12, 7, 2],\n",
       " [18, 13, 8, 3],\n",
       " [19, 14, 9, 4],\n",
       " [20, 15, 10, 5],\n",
       " [0, 0, 0, 0]]"
      ]
     },
     "execution_count": 208,
     "metadata": {},
     "output_type": "execute_result"
    }
   ],
   "source": [
    "r = len(Mt)\n",
    "c = len(Mt[0])\n",
    "M_h = [[0]*c for _ in range(r)]\n",
    " \n",
    "for row in range(r):\n",
    "    for col in range(c):\n",
    "        M_h[row][c-col-1] = Mt[row][col]\n",
    "M_h"
   ]
  },
  {
   "cell_type": "code",
   "execution_count": 209,
   "id": "b64b814e",
   "metadata": {},
   "outputs": [],
   "source": [
    "def rotate90(M):\n",
    "    def transpose_matrix(M):\n",
    "        r,c = len(M),len(M[0])\n",
    "\n",
    "        M_t = [[0]*r for _ in range(c)]\n",
    "\n",
    "        for col in range(c):\n",
    "            for row in range(r):\n",
    "                M_t[col][row] = M[row][col]\n",
    "\n",
    "\n",
    "        return M_t\n",
    "    \n",
    "    def horizontal_flip(Mt):\n",
    "    \n",
    "        r = len(Mt)\n",
    "        c = len(Mt[0])\n",
    "        M_h = [[0]*c for _ in range(r)]\n",
    "\n",
    "        for row in range(r):\n",
    "            for col in range(c):\n",
    "                M_h[row][c-col-1] = Mt[row][col]\n",
    "        return M_h\n",
    "    \n",
    "    return horizontal_flip(transpose_matrix(M))"
   ]
  },
  {
   "cell_type": "code",
   "execution_count": 210,
   "id": "b40ba10b",
   "metadata": {},
   "outputs": [
    {
     "data": {
      "text/plain": [
       "[[16, 11, 17, 18],\n",
       " [17, 12, 47, 25],\n",
       " [18, 13, 48, 43],\n",
       " [19, 14, 98, 44],\n",
       " [20, 15, 10, 45],\n",
       " [19, 16, 17, 18]]"
      ]
     },
     "execution_count": 210,
     "metadata": {},
     "output_type": "execute_result"
    }
   ],
   "source": [
    "M = [[18,25,43,44,45,18],\n",
    "    [17,47,48,98,10,17],\n",
    "    [11,12,13,14,15,16],\n",
    "    [16,17,18,19,20,19]]\n",
    "rotate90(M)"
   ]
  },
  {
   "cell_type": "code",
   "execution_count": null,
   "id": "b36fbba5",
   "metadata": {},
   "outputs": [],
   "source": []
  },
  {
   "cell_type": "code",
   "execution_count": null,
   "id": "eb1b7308",
   "metadata": {},
   "outputs": [],
   "source": []
  },
  {
   "cell_type": "markdown",
   "id": "1a4827f5",
   "metadata": {},
   "source": [
    "## Matrix Multiplication : "
   ]
  },
  {
   "cell_type": "code",
   "execution_count": 211,
   "id": "b1c0a7c2",
   "metadata": {},
   "outputs": [
    {
     "data": {
      "text/plain": [
       "[[0, 0, 0, 0], [0, 0, 0, 0]]"
      ]
     },
     "execution_count": 211,
     "metadata": {},
     "output_type": "execute_result"
    }
   ],
   "source": [
    "u = [[1,2,3],\n",
    "     [4,5,6]] # 2*3    r*c\n",
    "\n",
    "v = [[1,4,7,8],     # 3*4   c*p\n",
    "     [2,5,8,2],\n",
    "     [3,6,9,3]]\n",
    "# output matrxi will be 2*4 r*p\n",
    "r = len(u)\n",
    "c  = len(u[0])\n",
    "p = len(v[0])\n",
    "\n",
    "ansMatrix = [[0]*p for _ in range(r)]\n",
    "ansMatrix"
   ]
  },
  {
   "cell_type": "code",
   "execution_count": 212,
   "id": "096e9619",
   "metadata": {},
   "outputs": [],
   "source": [
    "# ansMatrix(i,j) = sum of (firstMatrix(i row)) * (secondMatrix j col)\n",
    "\n",
    "# ansMatrix(i,j) = sigma from k = 0 ( A(i,k) * B(k,j) )\n",
    "\n",
    "def mat_dot_product(u,v):   # TC : r*c*p  and SC: r*p\n",
    "    r = len(u)\n",
    "    p = len(v[0])\n",
    "    c = len(u[0])\n",
    "    c = len(v)\n",
    "    ansMatrix = [[0]*p for _ in range(r)]\n",
    "\n",
    "    for i in range(r):\n",
    "        for j in range(p):\n",
    "            summs = 0\n",
    "            for k in range(c):\n",
    "                summs += u[i][k]*v[k][j]\n",
    "            ansMatrix[i][j] = summs\n",
    "            \n",
    "    return ansMatrix"
   ]
  },
  {
   "cell_type": "code",
   "execution_count": 213,
   "id": "f02f906a",
   "metadata": {},
   "outputs": [
    {
     "data": {
      "text/plain": [
       "[[14, 32, 50, 21], [32, 77, 122, 60]]"
      ]
     },
     "execution_count": 213,
     "metadata": {},
     "output_type": "execute_result"
    }
   ],
   "source": [
    "mat_dot_product(u,v)"
   ]
  },
  {
   "cell_type": "code",
   "execution_count": null,
   "id": "9ea4e795",
   "metadata": {},
   "outputs": [],
   "source": []
  },
  {
   "cell_type": "markdown",
   "id": "7ddbcef4",
   "metadata": {},
   "source": [
    "##  Add the matrices\n",
    "\n",
    "\n",
    "#### You are given two matrices A & B of same size, you have to return another matrix which is the sum of A and B.\n",
    "\n",
    "\n",
    "    Input Format\n",
    "    First argument is vector of vector of integers representing matrix A.\n",
    "    Second argument is vecotor of vector of integers representing matrix B.\n",
    "\n",
    "    Output Format\n",
    "    You have to return a vector of vector of integers after doing required operations.\n",
    "\n",
    "    Example Input\n",
    "    Input 1:\n",
    "    A = [[1, 2, 3],[4, 5, 6],[7, 8, 9]]\n",
    "    B = [[9, 8, 7],[6, 5, 4],[3, 2, 1]]\n",
    "\n",
    "    Example Output\n",
    "    Output 1:\n",
    "    [[10, 10, 10], [10, 10, 10], [10, 10, 10]]\n",
    "\n",
    "    Example Explanation\n",
    "    Explanation 1:\n",
    "    A + B = [[1+9, 2+8, 3+7],[4+6, 5+5, 6+4],[7+3, 8+2, 9+1]] = [[10, 10, 10], [10, 10, 10], [10, 10, 10]]."
   ]
  },
  {
   "cell_type": "code",
   "execution_count": null,
   "id": "25995642",
   "metadata": {},
   "outputs": [],
   "source": []
  },
  {
   "cell_type": "code",
   "execution_count": 214,
   "id": "3712f1ee",
   "metadata": {},
   "outputs": [],
   "source": [
    "def matrix_addition(A,B):\n",
    "    r = len(A)\n",
    "    c = len(A[0])\n",
    "    resulting_matrix = [[0]*c for _ in range(r)]\n",
    "\n",
    "    for i in range(r):\n",
    "        for j in range(c):\n",
    "            resulting_matrix[i][j] = A[i][j] + B[i][j]\n",
    "    return (resulting_matrix)"
   ]
  },
  {
   "cell_type": "code",
   "execution_count": 215,
   "id": "48d0caaa",
   "metadata": {},
   "outputs": [
    {
     "data": {
      "text/plain": [
       "[[10, 10, 10], [10, 10, 10], [10, 10, 10]]"
      ]
     },
     "execution_count": 215,
     "metadata": {},
     "output_type": "execute_result"
    }
   ],
   "source": [
    "A = [[1, 2, 3],[4, 5, 6],[7, 8, 9]]\n",
    "B = [[9, 8, 7],[6, 5, 4],[3, 2, 1]]\n",
    "matrix_addition(A,B)"
   ]
  },
  {
   "cell_type": "markdown",
   "id": "b2022bd2",
   "metadata": {},
   "source": [
    "## Matrix Subtraction"
   ]
  },
  {
   "cell_type": "code",
   "execution_count": 216,
   "id": "d1344fae",
   "metadata": {},
   "outputs": [],
   "source": [
    "def matrix_Subtraction(A,B):\n",
    "    r = len(A)\n",
    "    c = len(A[0])\n",
    "    resulting_matrix = [[0]*c for _ in range(r)]\n",
    "\n",
    "    for i in range(r):\n",
    "        for j in range(c):\n",
    "            resulting_matrix[i][j] = A[i][j] - B[i][j]\n",
    "    return (resulting_matrix)\n",
    "\n"
   ]
  },
  {
   "cell_type": "code",
   "execution_count": 217,
   "id": "e3e29a32",
   "metadata": {},
   "outputs": [
    {
     "data": {
      "text/plain": [
       "[[-8, -6, -4], [-2, 0, 2], [4, 6, 8]]"
      ]
     },
     "execution_count": 217,
     "metadata": {},
     "output_type": "execute_result"
    }
   ],
   "source": [
    "A = [[1, 2, 3],           \n",
    "  [4, 5, 6],\n",
    "  [7, 8, 9]]           \n",
    "B = [[9, 8, 7],\n",
    "  [6, 5, 4],\n",
    "  [3, 2, 1]]\n",
    "matrix_Subtraction(A,B)"
   ]
  },
  {
   "cell_type": "code",
   "execution_count": null,
   "id": "aa9c0676",
   "metadata": {},
   "outputs": [],
   "source": []
  },
  {
   "cell_type": "code",
   "execution_count": null,
   "id": "d8e38661",
   "metadata": {},
   "outputs": [],
   "source": []
  },
  {
   "cell_type": "markdown",
   "id": "c206bf9c",
   "metadata": {},
   "source": [
    "## Column Sum\n",
    "### You are given a 2D integer matrix A, return a 1D integer array containing column-wise sums of original matrix"
   ]
  },
  {
   "cell_type": "code",
   "execution_count": 218,
   "id": "2a9a26be",
   "metadata": {},
   "outputs": [
    {
     "data": {
      "text/plain": [
       "[15, 10, 13, 16]"
      ]
     },
     "execution_count": 218,
     "metadata": {},
     "output_type": "execute_result"
    }
   ],
   "source": [
    "def column_sum(A):\n",
    "\n",
    "    n = len(A)\n",
    "    m = len(A[0])\n",
    "    col_sum = []\n",
    "    for col in range(m):\n",
    "        sum = 0\n",
    "        for row in range(n):\n",
    "            sum += A[row][col]\n",
    "        col_sum.append(sum)\n",
    "    return (col_sum)\n",
    "\n",
    "column_sum([[1,2,3,4],\n",
    "            [5,6,7,8],\n",
    "            [9,2,3,4]])"
   ]
  },
  {
   "cell_type": "markdown",
   "id": "2681eb67",
   "metadata": {},
   "source": [
    "### You are given a 2D integer matrix A, return a 1D integer array containing row-wise sums of original matrix"
   ]
  },
  {
   "cell_type": "code",
   "execution_count": 219,
   "id": "1637de49",
   "metadata": {},
   "outputs": [
    {
     "data": {
      "text/plain": [
       "[10, 26, 18]"
      ]
     },
     "execution_count": 219,
     "metadata": {},
     "output_type": "execute_result"
    }
   ],
   "source": [
    "def row_sum(A):\n",
    "\n",
    "    n = len(A)\n",
    "    m = len(A[0])\n",
    "    row_sum = []\n",
    "    for row in range(n):\n",
    "        sum = 0\n",
    "        for col in range(m):\n",
    "            sum += A[row][col]\n",
    "        row_sum.append(sum)\n",
    "    return (row_sum)\n",
    "\n",
    "row_sum([[1,2,3,4],\n",
    "            [5,6,7,8],\n",
    "            [9,2,3,4]])"
   ]
  },
  {
   "cell_type": "code",
   "execution_count": null,
   "id": "17e73c74",
   "metadata": {},
   "outputs": [],
   "source": []
  },
  {
   "cell_type": "code",
   "execution_count": null,
   "id": "0b449db1",
   "metadata": {},
   "outputs": [],
   "source": []
  },
  {
   "cell_type": "markdown",
   "id": "5f667648",
   "metadata": {},
   "source": [
    "## Row to Column Zero\n",
    "\n",
    "### You are given a 2D integer matrix A, make all the elements in a row or column zero if the A[i][j] = 0. Specifically, make entire ith row and jth column zero.\n",
    "\n",
    "\n",
    "    Input Format\n",
    "    First argument is a vector of vector of integers.(2D matrix).\n",
    "    Output Format\n",
    "    Return a vector of vector after doing required operations.\n",
    "    Example Input\n",
    "    Input 1:\n",
    "    [1,2,3,4]\n",
    "    [5,6,7,0]\n",
    "    [9,2,0,4]\n",
    "    Example Output\n",
    "    Output 1:\n",
    "    [1,2,0,0]\n",
    "    [0,0,0,0]\n",
    "    [0,0,0,0]\n",
    "    Example Explanation\n",
    "    Explanation 1:\n",
    "    A[2][4] = A[3][3] = 0, so make 2nd row, 3rd row, 3rd column and 4th column zero."
   ]
  },
  {
   "cell_type": "code",
   "execution_count": 220,
   "id": "4e62955d",
   "metadata": {},
   "outputs": [],
   "source": [
    "A = [[1,2,3,4],\n",
    "[5,6,7,0],\n",
    "[9,2,0,4]]"
   ]
  },
  {
   "cell_type": "code",
   "execution_count": 221,
   "id": "4f6d67bc",
   "metadata": {},
   "outputs": [
    {
     "data": {
      "text/plain": [
       "[[1, 2, 3, 4], [5, 6, 7, 0], [9, 2, 0, 4]]"
      ]
     },
     "execution_count": 221,
     "metadata": {},
     "output_type": "execute_result"
    }
   ],
   "source": [
    "A"
   ]
  },
  {
   "cell_type": "code",
   "execution_count": 222,
   "id": "581136a0",
   "metadata": {},
   "outputs": [],
   "source": [
    "r = len(A)\n",
    "c = len(A[0])\n"
   ]
  },
  {
   "cell_type": "code",
   "execution_count": 223,
   "id": "c82c95bd",
   "metadata": {},
   "outputs": [
    {
     "data": {
      "text/plain": [
       "[[1, 2, 0, 0], [0, 0, 0, 0], [0, 0, 0, 0]]"
      ]
     },
     "execution_count": 223,
     "metadata": {},
     "output_type": "execute_result"
    }
   ],
   "source": [
    "for i in range(r):\n",
    "    flag  = 0\n",
    "    for j in range(c):\n",
    "        if A[i][j] == 0:\n",
    "            flag = 1\n",
    "        if flag == 1:\n",
    "            for j in range(c):\n",
    "                if A[i][j] != 0:\n",
    "                    A[i][j] = -1\n",
    "    \n",
    "for j in range(c):\n",
    "    flag = 0\n",
    "    for i in range(r):\n",
    "        if A[i][j] == 0:\n",
    "            flag = 1\n",
    "    if flag == 1:\n",
    "        for i in range(r):\n",
    "            if A[i][j] != 0:\n",
    "                A[i][j] = -1\n",
    "                \n",
    "for i in range(r):\n",
    "    for j in range(c):\n",
    "        if A[i][j] == -1:\n",
    "            A[i][j] = 0\n",
    "A"
   ]
  },
  {
   "cell_type": "code",
   "execution_count": 224,
   "id": "d919563e",
   "metadata": {},
   "outputs": [
    {
     "data": {
      "text/plain": [
       "[[1, 2, 0, 0], [0, 0, 0, 0], [0, 0, 0, 0]]"
      ]
     },
     "execution_count": 224,
     "metadata": {},
     "output_type": "execute_result"
    }
   ],
   "source": [
    "A"
   ]
  },
  {
   "cell_type": "code",
   "execution_count": 225,
   "id": "c3c6df0e",
   "metadata": {},
   "outputs": [
    {
     "data": {
      "text/plain": [
       "[[1, 2, 3, 4], [-1, -1, -1, 0], [-1, -1, 0, -1]]"
      ]
     },
     "execution_count": 225,
     "metadata": {},
     "output_type": "execute_result"
    }
   ],
   "source": [
    "[[1, 2, 3, 4], \n",
    "[-1, -1, -1, 0], \n",
    " [-1, -1, 0, -1]]"
   ]
  },
  {
   "cell_type": "code",
   "execution_count": null,
   "id": "1989a5e5",
   "metadata": {},
   "outputs": [],
   "source": []
  },
  {
   "cell_type": "code",
   "execution_count": null,
   "id": "7ae08882",
   "metadata": {},
   "outputs": [],
   "source": []
  },
  {
   "cell_type": "markdown",
   "id": "17a66cea",
   "metadata": {},
   "source": [
    "### Are Matrices Same "
   ]
  },
  {
   "cell_type": "code",
   "execution_count": 226,
   "id": "e574fc1f",
   "metadata": {},
   "outputs": [],
   "source": [
    "def Are_Matrices_Same(A,B):\n",
    "\n",
    "        n = len(A)\n",
    "        m = len(A[0])\n",
    "        ans = True\n",
    "        for i in range(n):\n",
    "            for j in range(m):\n",
    "                if A[i][j]!=B[i][j]:\n",
    "                    \n",
    "                    ans = False\n",
    "        if ans:\n",
    "            return 1\n",
    "        else:\n",
    "            return 0"
   ]
  },
  {
   "cell_type": "code",
   "execution_count": 227,
   "id": "8ce0a8db",
   "metadata": {},
   "outputs": [
    {
     "data": {
      "text/plain": [
       "1"
      ]
     },
     "execution_count": 227,
     "metadata": {},
     "output_type": "execute_result"
    }
   ],
   "source": [
    "A = [[1, 2, 3],[4, 5, 6],[7, 8, 9]]\n",
    "B = [[1, 2, 3],[4, 5, 6],[7, 8, 9]]\n",
    "Are_Matrices_Same(A,B)"
   ]
  },
  {
   "cell_type": "code",
   "execution_count": null,
   "id": "66fa40fc",
   "metadata": {},
   "outputs": [],
   "source": []
  },
  {
   "cell_type": "markdown",
   "id": "5ea6f520",
   "metadata": {},
   "source": [
    "## Print boundry elements of a given matrix in clockwise direction : "
   ]
  },
  {
   "cell_type": "code",
   "execution_count": 228,
   "id": "fab2c85b",
   "metadata": {},
   "outputs": [],
   "source": [
    "r = 4\n",
    "c = 8\n",
    "M = [[0]*c for _ in range(r)]\n"
   ]
  },
  {
   "cell_type": "code",
   "execution_count": 229,
   "id": "60cb1ef5",
   "metadata": {},
   "outputs": [
    {
     "data": {
      "text/plain": [
       "[[1, 5, 9, 13, 17, 21, 25, 29],\n",
       " [2, 6, 10, 14, 18, 22, 26, 30],\n",
       " [3, 7, 11, 15, 19, 23, 27, 31],\n",
       " [4, 8, 12, 16, 20, 24, 28, 32]]"
      ]
     },
     "execution_count": 229,
     "metadata": {},
     "output_type": "execute_result"
    }
   ],
   "source": [
    "x = 1\n",
    "for j in range(c):\n",
    "    for i in range(r):\n",
    "        M[i][j] = x\n",
    "        x = x+1\n",
    "M"
   ]
  },
  {
   "cell_type": "code",
   "execution_count": null,
   "id": "2a3b6721",
   "metadata": {},
   "outputs": [],
   "source": []
  },
  {
   "cell_type": "code",
   "execution_count": 230,
   "id": "d3770d6a",
   "metadata": {},
   "outputs": [
    {
     "data": {
      "text/plain": [
       "[1, 5, 9, 13, 17, 21, 25, 29, 30, 31, 32, 28, 24, 20, 16, 12, 8, 4, 3, 2]"
      ]
     },
     "execution_count": 230,
     "metadata": {},
     "output_type": "execute_result"
    }
   ],
   "source": [
    "def print_boundry(M):\n",
    "    r = len(M)\n",
    "    c = len(M[0])\n",
    "    ans = []\n",
    "    for j in range(c):\n",
    "        ans.append(M[0][j])\n",
    "    for i in range(1,r):\n",
    "        ans.append(M[i][c-1])\n",
    "    for j in reversed(range(c-1)):\n",
    "        ans.append(M[r-1][j])\n",
    "    for i in range(r-2,0,-1):\n",
    "        ans.append(M[i][0])\n",
    "    return ans\n",
    "\n",
    "print_boundry(M)"
   ]
  },
  {
   "cell_type": "code",
   "execution_count": 231,
   "id": "55a744f8",
   "metadata": {},
   "outputs": [
    {
     "data": {
      "text/plain": [
       "[[1, 5, 9, 13, 17, 21, 25, 29],\n",
       " [2, 6, 10, 14, 18, 22, 26, 30],\n",
       " [3, 7, 11, 15, 19, 23, 27, 31],\n",
       " [4, 8, 12, 16, 20, 24, 28, 32]]"
      ]
     },
     "execution_count": 231,
     "metadata": {},
     "output_type": "execute_result"
    }
   ],
   "source": [
    "M"
   ]
  },
  {
   "cell_type": "code",
   "execution_count": 232,
   "id": "447a2200",
   "metadata": {},
   "outputs": [
    {
     "name": "stdout",
     "output_type": "stream",
     "text": [
      "1 5 9 13 17 21 25 29 30 31 32 28 24 20 16 12 8 4 3 2 "
     ]
    }
   ],
   "source": [
    "def print_boundry(M):\n",
    "    n = len(M)\n",
    "    m = len(M[0])\n",
    "    \n",
    "    \n",
    "    r,c = 0,0\n",
    "    direction = \"right\"\n",
    "    \n",
    "    while True:\n",
    "        \n",
    "        print(M[r][c], end = \" \")\n",
    "        \n",
    "        if direction == \"right\":\n",
    "            if c == m-1:\n",
    "                direction = \"down\"\n",
    "                r += 1\n",
    "            else:\n",
    "                c+=1\n",
    "                \n",
    "        elif direction == \"down\":\n",
    "            if r == n-1:\n",
    "                direction = \"left\"\n",
    "                c -= 1\n",
    "            else:\n",
    "                r += 1\n",
    "    \n",
    "        elif direction == \"left\":\n",
    "            if c == 0:\n",
    "                direction = \"up\"\n",
    "                r -= 1\n",
    "            else:\n",
    "                c -= 1\n",
    "        \n",
    "        elif direction == \"up\":\n",
    "            if r == 1:\n",
    "                break\n",
    "            else:\n",
    "                r -= 1\n",
    "                \n",
    "        \n",
    "    \n",
    "        \n",
    "        \n",
    "\n",
    "print_boundry(M)"
   ]
  },
  {
   "cell_type": "code",
   "execution_count": 233,
   "id": "90346d08",
   "metadata": {},
   "outputs": [
    {
     "data": {
      "text/plain": [
       "[[1, 5, 9, 13, 17, 21, 25, 29],\n",
       " [2, 6, 10, 14, 18, 22, 26, 30],\n",
       " [3, 7, 11, 15, 19, 23, 27, 31],\n",
       " [4, 8, 12, 16, 20, 24, 28, 32]]"
      ]
     },
     "execution_count": 233,
     "metadata": {},
     "output_type": "execute_result"
    }
   ],
   "source": [
    "M"
   ]
  },
  {
   "cell_type": "markdown",
   "id": "b908336d",
   "metadata": {},
   "source": [
    "## Print spiral  : "
   ]
  },
  {
   "cell_type": "code",
   "execution_count": 234,
   "id": "9fc9a749",
   "metadata": {},
   "outputs": [
    {
     "name": "stdout",
     "output_type": "stream",
     "text": [
      "1 5 9 13 17 21 25 29 30 31 32 28 24 20 16 12 8 4 3 2 6 10 14 18 22 26 27 23 19 15 11 7 "
     ]
    }
   ],
   "source": [
    "def print_boundry(M):\n",
    "    n = len(M)\n",
    "    m = len(M[0])\n",
    "    \n",
    "    \n",
    "    r,c = 0,0\n",
    "    direction = \"right\"\n",
    "    boundary  = 0\n",
    "    \n",
    "    for _ in range(n*m):\n",
    "        \n",
    "        print(M[r][c], end = \" \")\n",
    "        \n",
    "        if direction == \"right\":\n",
    "            if c == m-1 - boundary:\n",
    "                direction = \"down\"\n",
    "                r += 1\n",
    "            else:\n",
    "                c+=1\n",
    "                \n",
    "        elif direction == \"down\":\n",
    "            if r == n-1 - boundary:\n",
    "                direction = \"left\"\n",
    "                c -= 1\n",
    "            else:\n",
    "                r += 1\n",
    "    \n",
    "        elif direction == \"left\":\n",
    "            if c == 0 + boundary:\n",
    "                direction = \"up\"\n",
    "                r -= 1\n",
    "            else:\n",
    "                c -= 1\n",
    "        \n",
    "        elif direction == \"up\":\n",
    "            if r == 1 + boundary:\n",
    "                direction = \"right\"\n",
    "                boundary += 1\n",
    "                c += 1\n",
    "            else:\n",
    "                r -= 1\n",
    "                \n",
    "        \n",
    "    \n",
    "        \n",
    "        \n",
    "\n",
    "print_boundry(M)"
   ]
  },
  {
   "cell_type": "code",
   "execution_count": 235,
   "id": "e9e03095",
   "metadata": {},
   "outputs": [
    {
     "data": {
      "text/plain": [
       "[[1, 5, 9, 13, 17, 21, 25, 29],\n",
       " [2, 6, 10, 14, 18, 22, 26, 30],\n",
       " [3, 7, 11, 15, 19, 23, 27, 31],\n",
       " [4, 8, 12, 16, 20, 24, 28, 32]]"
      ]
     },
     "execution_count": 235,
     "metadata": {},
     "output_type": "execute_result"
    }
   ],
   "source": [
    "M"
   ]
  },
  {
   "cell_type": "code",
   "execution_count": null,
   "id": "f0d43ba8",
   "metadata": {},
   "outputs": [],
   "source": []
  },
  {
   "cell_type": "markdown",
   "id": "d352f304",
   "metadata": {},
   "source": [
    "## Spiral Order Matrix II\n",
    "\n",
    "### Given an integer A, generate a square matrix filled with elements from 1 to A2 in spiral order and return the generated square matrix.\n",
    "\n",
    "    Input Format\n",
    "    First and only argument is integer A\n",
    "    Output Format\n",
    "    Return a 2-D matrix which consists of the elements added in spiral order.\n",
    "    Example Input\n",
    "    Input 1:\n",
    "    1\n",
    "    Input 2:\n",
    "    2\n",
    "    Input 3:\n",
    "    5\n",
    "    Example Output\n",
    "    Output 1:\n",
    "    [ [1] ]\n",
    "    Output 2:\n",
    "    [ [1, 2],\n",
    "      [4, 3] ]\n",
    "    Output 2:\n",
    "\n",
    "    [ [1,  2,  3,  4,  5], \n",
    "      [16, 17, 18, 19, 6], \n",
    "      [15, 24, 25, 20, 7], \n",
    "      [14, 23, 22, 21, 8], \n",
    "      [13, 12, 11, 10, 9] ]\n",
    "\n",
    "\n",
    "    Example Explanation\n",
    "    Explanation 1:\n",
    "\n",
    "    Only 1 is to be arranged.\n",
    "    Explanation 2:\n",
    "\n",
    "    1 --> 2\n",
    "          |\n",
    "          |\n",
    "    4<--- 3"
   ]
  },
  {
   "cell_type": "code",
   "execution_count": 236,
   "id": "4d45bee5",
   "metadata": {},
   "outputs": [
    {
     "data": {
      "text/plain": [
       "[[1, 2, 3, 4, 5],\n",
       " [16, 17, 18, 19, 6],\n",
       " [15, 24, 25, 20, 7],\n",
       " [14, 23, 22, 21, 8],\n",
       " [13, 12, 11, 10, 9]]"
      ]
     },
     "execution_count": 236,
     "metadata": {},
     "output_type": "execute_result"
    }
   ],
   "source": [
    "def generate_spiral_matrix(A):\n",
    "    \n",
    "    M = [[0]*A for _ in range(A)]\n",
    "    \n",
    "    n = len(M)\n",
    "    m = len(M[0])\n",
    "    \n",
    "    r , c = 0, 0\n",
    "    direction = \"right\"\n",
    "    boundary  = 0\n",
    "    value = 1\n",
    "    \n",
    "    for _ in range(n*m):\n",
    "        M[r][c] = value \n",
    "        \n",
    "        if direction ==\"right\":\n",
    "            if c == m-1-boundary:\n",
    "                direction = \"down\"\n",
    "                r+=1\n",
    "            else:\n",
    "                c += 1\n",
    "                \n",
    "        elif direction == \"down\":\n",
    "            \n",
    "            if r == n-1 - boundary:\n",
    "                direction = \"left\"\n",
    "                c -= 1\n",
    "            else:\n",
    "                r += 1\n",
    "                \n",
    "        elif direction == \"left\":\n",
    "            \n",
    "            if c == 0 + boundary:\n",
    "                direction = \"up\"\n",
    "                r-=1\n",
    "            else:\n",
    "                c -= 1\n",
    "        \n",
    "        elif direction == \"up\":\n",
    "            \n",
    "            if r == 1+boundary:\n",
    "                direction = \"right\"\n",
    "                boundary += 1\n",
    "                c += 1\n",
    "            else:\n",
    "                r -= 1\n",
    "        value += 1\n",
    "    return M\n",
    "\n",
    "generate_spiral_matrix(5)           "
   ]
  },
  {
   "cell_type": "code",
   "execution_count": null,
   "id": "e72b5240",
   "metadata": {},
   "outputs": [],
   "source": []
  },
  {
   "cell_type": "markdown",
   "id": "9131e188",
   "metadata": {},
   "source": [
    "## Spiral Order Matrix 2\n",
    "\n",
    "### Given an integer A, Print an A X A square matrix filled with elements from 1 to A2 in spiral order.\n",
    "\n",
    "    Input Format\n",
    "    First and only line contains a single integer A.\n",
    "    Output Format\n",
    "    Print the spiral order pattern in A lines each containing A space-separated integers.\n",
    "    Example Input\n",
    "    Input 1:\n",
    "     1 \n",
    "    Input 2:\n",
    "     2 \n",
    "    Input 3:\n",
    "     3 \n",
    "\n",
    "    Example Output\n",
    "    Output 1:\n",
    "     1 \n",
    "    Output 2:\n",
    "     1 2 \n",
    "     4 3 \n",
    "    Output 3:\n",
    "     1 2 3 \n",
    "     6 5 4 \n",
    "     7 8 9 \n",
    "\n"
   ]
  },
  {
   "cell_type": "code",
   "execution_count": 237,
   "id": "8b8be6b1",
   "metadata": {},
   "outputs": [
    {
     "data": {
      "text/plain": [
       "[[1, 2, 3, 4, 5, 6, 7, 8],\n",
       " [16, 15, 14, 13, 12, 11, 10, 9],\n",
       " [17, 18, 19, 20, 21, 22, 23, 24],\n",
       " [32, 31, 30, 29, 28, 27, 26, 25],\n",
       " [33, 34, 35, 36, 37, 38, 39, 40],\n",
       " [48, 47, 46, 45, 44, 43, 42, 41],\n",
       " [49, 50, 51, 52, 53, 54, 55, 56],\n",
       " [64, 63, 62, 61, 60, 59, 58, 57]]"
      ]
     },
     "execution_count": 237,
     "metadata": {},
     "output_type": "execute_result"
    }
   ],
   "source": [
    "def spiral_order_matrix_2(A):\n",
    "    M = [[0]*A for _ in range(A)]\n",
    "    \n",
    "    n = len(M)\n",
    "    m = len(M[0])\n",
    "    x = 1\n",
    "    for i in range(n):\n",
    "        for j in range(m):\n",
    "            \n",
    "            M[i][j] =  x\n",
    "            x += 1\n",
    "    \n",
    "    for i in range(n):\n",
    "        if i % 2 != 0:\n",
    "            M[i] = M[i][::-1]\n",
    "    \n",
    "    return M\n",
    "    \n",
    "    \n",
    "spiral_order_matrix_2(8)"
   ]
  },
  {
   "cell_type": "code",
   "execution_count": null,
   "id": "5110bdf4",
   "metadata": {},
   "outputs": [],
   "source": []
  },
  {
   "cell_type": "markdown",
   "id": "7d1dff1b",
   "metadata": {},
   "source": [
    "## Christmas Trees\n",
    "\n",
    "### You are given an array A consisting of heights of Christmas trees and an array B of the same size consisting of the cost of each of the trees (Bi is the cost of tree Ai, where 1 ≤ i ≤ size(A)), and you are supposed to choose 3 trees (let's say, indices p, q, and r), such that Ap < Aq < Ar, where p < q < r.  The cost of these trees is Bp + Bq + Br. You are to choose 3 trees such that their total cost is minimum. Return that cost.  If it is not possible to choose 3 such trees return -1.\n",
    "\n",
    "    Input Format\n",
    "    First argument is an integer array A.\n",
    "    Second argument is an integer array B.\n",
    "    Output Format\n",
    "    Return an integer denoting the minimum cost of choosing 3 trees whose heights are strictly in increasing order, if not possible, -1.\n",
    "    Example Input\n",
    "    Input 1:\n",
    "     A = [1, 3, 5]\n",
    "     B = [1, 2, 3]\n",
    "    Input 2:\n",
    "     A = [1, 6, 4, 2, 6, 9]\n",
    "     B = [2, 5, 7, 3, 2, 7]\n",
    "    Example Output\n",
    "    Output 1:\n",
    "     6 \n",
    "    Output 2:\n",
    "     7 \n",
    "    Example Explanation\n",
    "    Explanation 1:\n",
    "     We can choose the trees with indices 1, 2 and 3, and the cost is 1 + 2 + 3 = 6. \n",
    "    Explanation 2:\n",
    "     We can choose the trees with indices 1, 4 and 5, and the cost is 2 + 3 + 2 = 7. \n",
    "     This is the minimum cost that we can get."
   ]
  },
  {
   "cell_type": "code",
   "execution_count": 238,
   "id": "e6d45d3b",
   "metadata": {},
   "outputs": [
    {
     "name": "stdout",
     "output_type": "stream",
     "text": [
      "[11, 13, 15]\n",
      "6\n"
     ]
    }
   ],
   "source": [
    "H = [9,7,15,3,6,1,2,8 ,2,11,5,13,15,6]\n",
    "C = [6,4, 1,5,8,5,9,11,6, 3,3, 2, 1,4]\n",
    "ans = None\n",
    "n = len(H)\n",
    "mincost = float(\"inf\")\n",
    "for t1 in range(n):\n",
    "    for t2 in range(t1,n):\n",
    "        for t3 in range(t2,n):\n",
    "            if H[t1] < H[t2] < H[t3]:\n",
    "                cost = C[t1] + C[t2] + C[t3]\n",
    "        \n",
    "                if cost < mincost:\n",
    "                    mincost = cost\n",
    "#                     print(\"Heights are :\", H[t1],H[t2],H[t3],\"\\ncosts are:\",C[t1],C[t2],C[t3] , \" mincost is :\",mincost)\n",
    "                    ans = [H[t1],H[t2],H[t3]]\n",
    "print(ans)\n",
    "print(mincost)\n",
    "                \n",
    "                "
   ]
  },
  {
   "cell_type": "code",
   "execution_count": null,
   "id": "c9605609",
   "metadata": {},
   "outputs": [],
   "source": []
  },
  {
   "cell_type": "code",
   "execution_count": 239,
   "id": "d4a6022f",
   "metadata": {},
   "outputs": [
    {
     "name": "stdout",
     "output_type": "stream",
     "text": [
      "6\n"
     ]
    }
   ],
   "source": [
    "H = [9,7,15,3,6,1,2,8 ,2,11,5,13,15,6]\n",
    "C = [6,4, 1,5,8,5,9,11,6, 3,3, 2, 1,4]\n",
    "ans = None\n",
    "n = len(H)\n",
    "mincost = float(\"inf\")\n",
    "\n",
    "for t2 in range(n):\n",
    "    \n",
    "    Ht2 = H[t2]  # height of tree2\n",
    "    \n",
    "    Ct2 = C[t2]   # cost of tree2\n",
    "    \n",
    "    Ct1 = float(\"inf\")\n",
    "    \n",
    "    for t1 in range(t2):    # finding minimum cost tree1 having height < t2 height\n",
    "        if H[t1] < H[t2]:\n",
    "            Ct1 = min(C[t1],Ct1)\n",
    "            \n",
    "    Ct3 = float(\"inf\")\n",
    "    \n",
    "    for t3 in range(t2+1,n):  # finding minimum cost tree3 having height > t2 height\n",
    "        if H[t3] > H[t2]:\n",
    "            Ct3 = min(C[t3],Ct3)\n",
    "            \n",
    "        \n",
    "    cost = Ct1 + Ct2 + Ct3\n",
    "    mincost = min(cost,mincost)\n",
    "    \n",
    "print(mincost)\n",
    "                  "
   ]
  },
  {
   "cell_type": "code",
   "execution_count": null,
   "id": "970b7b37",
   "metadata": {},
   "outputs": [],
   "source": []
  },
  {
   "cell_type": "code",
   "execution_count": null,
   "id": "96aea7b0",
   "metadata": {},
   "outputs": [],
   "source": []
  },
  {
   "cell_type": "markdown",
   "id": "249808a2",
   "metadata": {},
   "source": [
    "## Maximum positivity\n",
    "\n",
    "### Given an array of integers A, of size N.  Return the maximum size subarray of A having only non-negative elements. If there are more than one such subarray, return the one having the smallest starting index in A.\n",
    "\n",
    "    Input Format\n",
    "    The first and only argument given is the integer array A.\n",
    "    Output Format\n",
    "    Return maximum size subarray of A having only non-negative elements. If there are more than one such subarrays, return the one having earliest starting index in A.\n",
    "    Example Input\n",
    "    Input 1:\n",
    "     A = [5, 6, -1, 7, 8]\n",
    "    Input 2:\n",
    "     A = [1, 2, 3, 4, 5, 6]\n",
    "    Example Output\n",
    "    Output 1:\n",
    "     [5, 6]\n",
    "    Output 2:\n",
    "     [1, 2, 3, 4, 5, 6]\n",
    "    Example Explanation\n",
    "    Explanation 1:\n",
    "     There are two subarrays of size 2 having only non-negative elements.\n",
    "     1. [5, 6]  starting point  = 0\n",
    "     2. [7, 8]  starting point  = 3\n",
    "     As starting point of 1 is smaller, return [5, 6]\n",
    "    Explanation 2:\n",
    "     There is only one subarray of size 6 having only non-negative elements:\n",
    "     [1, 2, 3, 4, 5, 6]\n"
   ]
  },
  {
   "cell_type": "code",
   "execution_count": 240,
   "id": "221eb047",
   "metadata": {},
   "outputs": [
    {
     "data": {
      "text/plain": [
       "[5, 6]"
      ]
     },
     "execution_count": 240,
     "metadata": {},
     "output_type": "execute_result"
    }
   ],
   "source": [
    "A = [5,6,-1,7,8]\n",
    "def Maximum_positivity(A):\n",
    "    n = len(A)\n",
    "    ans  = None\n",
    "    maxsize = -float(\"inf\")\n",
    "    for s in range(n):\n",
    "        for e in range(s,n):\n",
    "            hasneg = False\n",
    "            for i in range(s,e+1):\n",
    "                if A[i] < 0: \n",
    "                    hasneg = True\n",
    "                    break\n",
    "            l = len(A[s:e+1])\n",
    "            if l > maxsize:\n",
    "                maxsize = l\n",
    "\n",
    "                if hasneg == False:\n",
    "                    ans = (A[s:e+1])\n",
    "            \n",
    "    return (ans)\n",
    "Maximum_positivity(A)\n"
   ]
  },
  {
   "cell_type": "code",
   "execution_count": 241,
   "id": "7ca3817a",
   "metadata": {},
   "outputs": [
    {
     "data": {
      "text/plain": [
       "[1, 2, 3, 4, 5, 6]"
      ]
     },
     "execution_count": 241,
     "metadata": {},
     "output_type": "execute_result"
    }
   ],
   "source": [
    "\n",
    "Maximum_positivity([1, 2, 3, 4, 5, 6])\n"
   ]
  },
  {
   "cell_type": "code",
   "execution_count": 242,
   "id": "3d3d8116",
   "metadata": {},
   "outputs": [
    {
     "name": "stdout",
     "output_type": "stream",
     "text": [
      "None\n"
     ]
    }
   ],
   "source": [
    "print(Maximum_positivity([ -6148706, -8550681, 4494391, 8074193, -1283236, 4384884, 8111626, -8972065, 7428432, 7514578 ]))"
   ]
  },
  {
   "cell_type": "code",
   "execution_count": null,
   "id": "59a3d904",
   "metadata": {},
   "outputs": [],
   "source": []
  },
  {
   "cell_type": "code",
   "execution_count": null,
   "id": "f2c1e7f9",
   "metadata": {},
   "outputs": [],
   "source": []
  },
  {
   "cell_type": "code",
   "execution_count": null,
   "id": "59f7ea1a",
   "metadata": {},
   "outputs": [],
   "source": [
    "\n"
   ]
  },
  {
   "cell_type": "code",
   "execution_count": 243,
   "id": "6b18a82c",
   "metadata": {},
   "outputs": [
    {
     "data": {
      "text/plain": [
       "[5, 6]"
      ]
     },
     "execution_count": 243,
     "metadata": {},
     "output_type": "execute_result"
    }
   ],
   "source": [
    "\n",
    "def Maximum_positivity(A):\n",
    "#     print(A)\n",
    "    ret = [[]]\n",
    "    for i in A:\n",
    "        if i < 0:\n",
    "            ret.append([])\n",
    "        else:\n",
    "            ret[-1].append(i)\n",
    "#     print(ret)\n",
    "    mxlen = max([len(i) for i in ret])\n",
    "    for i in ret:\n",
    "        if len(i) == mxlen:\n",
    "            return i\n",
    "Maximum_positivity(A)"
   ]
  },
  {
   "cell_type": "code",
   "execution_count": 244,
   "id": "7c8701a6",
   "metadata": {},
   "outputs": [
    {
     "name": "stdout",
     "output_type": "stream",
     "text": [
      "[4494391, 8074193]\n"
     ]
    }
   ],
   "source": [
    "print(Maximum_positivity([ -6148706, -8550681, 4494391, 8074193, -1283236, 4384884, 8111626, -8972065, 7428432, 7514578 ]))"
   ]
  },
  {
   "cell_type": "code",
   "execution_count": null,
   "id": "15989f0e",
   "metadata": {},
   "outputs": [],
   "source": []
  },
  {
   "cell_type": "code",
   "execution_count": null,
   "id": "245866b7",
   "metadata": {},
   "outputs": [],
   "source": []
  },
  {
   "cell_type": "code",
   "execution_count": null,
   "id": "0b21bb38",
   "metadata": {},
   "outputs": [],
   "source": []
  },
  {
   "cell_type": "code",
   "execution_count": null,
   "id": "7d4050d1",
   "metadata": {},
   "outputs": [],
   "source": []
  },
  {
   "cell_type": "code",
   "execution_count": null,
   "id": "a35b4eea",
   "metadata": {},
   "outputs": [],
   "source": []
  },
  {
   "cell_type": "markdown",
   "id": "de9444da",
   "metadata": {},
   "source": [
    "## Convert from binary to decimal : "
   ]
  },
  {
   "cell_type": "code",
   "execution_count": 245,
   "id": "c9d37fa3",
   "metadata": {},
   "outputs": [],
   "source": [
    "S = '1001110'"
   ]
  },
  {
   "cell_type": "code",
   "execution_count": 246,
   "id": "4dc9afbf",
   "metadata": {},
   "outputs": [],
   "source": [
    "def BtoD(S):\n",
    "    ans = 0\n",
    "    x = 0\n",
    "    for i in S[::-1]:\n",
    "        ans += int(i)*(2**x)\n",
    "        x+= 1\n",
    "    return ans"
   ]
  },
  {
   "cell_type": "code",
   "execution_count": 247,
   "id": "1d56e7ff",
   "metadata": {},
   "outputs": [
    {
     "data": {
      "text/plain": [
       "78"
      ]
     },
     "execution_count": 247,
     "metadata": {},
     "output_type": "execute_result"
    }
   ],
   "source": [
    "BtoD(S)"
   ]
  },
  {
   "cell_type": "markdown",
   "id": "83b6d268",
   "metadata": {},
   "source": [
    "### Convert given ternary to decimal ?\n",
    "(02101)\n"
   ]
  },
  {
   "cell_type": "code",
   "execution_count": 248,
   "id": "88728362",
   "metadata": {},
   "outputs": [
    {
     "data": {
      "text/plain": [
       "708"
      ]
     },
     "execution_count": 248,
     "metadata": {},
     "output_type": "execute_result"
    }
   ],
   "source": [
    "S = '222020'\n",
    "\n",
    "ans = 0\n",
    "x = len(S)-1\n",
    "for i in S:\n",
    "    ans += int(i)*(3**x)\n",
    "    x -= 1\n",
    "ans"
   ]
  },
  {
   "cell_type": "code",
   "execution_count": null,
   "id": "0cc9e2d3",
   "metadata": {},
   "outputs": [],
   "source": []
  },
  {
   "cell_type": "code",
   "execution_count": null,
   "id": "ebf40c34",
   "metadata": {},
   "outputs": [],
   "source": []
  },
  {
   "cell_type": "markdown",
   "id": "7af2b4b7",
   "metadata": {},
   "source": [
    "## Decimal to Binary : "
   ]
  },
  {
   "cell_type": "code",
   "execution_count": 249,
   "id": "e4a8c938",
   "metadata": {},
   "outputs": [],
   "source": [
    "def DtoB(N):\n",
    "    \n",
    "    string = \"\"\n",
    "    \n",
    "    while N > 0:\n",
    "        digit = N%2 \n",
    "        string = str(digit) + string\n",
    "        N = N // 2\n",
    "    return string\n",
    "        \n",
    "    "
   ]
  },
  {
   "cell_type": "code",
   "execution_count": 250,
   "id": "ac1ae47c",
   "metadata": {},
   "outputs": [
    {
     "data": {
      "text/plain": [
       "('1001110', '1001110')"
      ]
     },
     "execution_count": 250,
     "metadata": {},
     "output_type": "execute_result"
    }
   ],
   "source": [
    "DtoB(78),bin(78)[2:]"
   ]
  },
  {
   "cell_type": "code",
   "execution_count": null,
   "id": "9d388c82",
   "metadata": {},
   "outputs": [],
   "source": []
  },
  {
   "cell_type": "code",
   "execution_count": 251,
   "id": "97942485",
   "metadata": {},
   "outputs": [
    {
     "data": {
      "text/plain": [
       "'222020'"
      ]
     },
     "execution_count": 251,
     "metadata": {},
     "output_type": "execute_result"
    }
   ],
   "source": [
    "def DtoT(N):\n",
    "    \n",
    "    string = \"\"\n",
    "    \n",
    "    while N > 0:\n",
    "        digit = N%3\n",
    "        string = str(digit) + string\n",
    "        N = N // 3\n",
    "    return string\n",
    "        \n",
    "DtoT(708)"
   ]
  },
  {
   "cell_type": "code",
   "execution_count": null,
   "id": "b073a173",
   "metadata": {},
   "outputs": [],
   "source": []
  },
  {
   "cell_type": "markdown",
   "id": "4c3a02fa",
   "metadata": {},
   "source": [
    "## Quick way to convert Binary to Hexadecimal  : "
   ]
  },
  {
   "cell_type": "code",
   "execution_count": 252,
   "id": "42131ae1",
   "metadata": {},
   "outputs": [],
   "source": [
    "S = \"10110111\""
   ]
  },
  {
   "cell_type": "code",
   "execution_count": 253,
   "id": "127752c7",
   "metadata": {},
   "outputs": [],
   "source": [
    "n = len(S)"
   ]
  },
  {
   "cell_type": "code",
   "execution_count": null,
   "id": "78a4bf27",
   "metadata": {},
   "outputs": [],
   "source": []
  },
  {
   "cell_type": "code",
   "execution_count": 254,
   "id": "3cd0d36f",
   "metadata": {},
   "outputs": [
    {
     "data": {
      "text/plain": [
       "('1011', '0111')"
      ]
     },
     "execution_count": 254,
     "metadata": {},
     "output_type": "execute_result"
    }
   ],
   "source": [
    "S[:n//2],S[n//2:]"
   ]
  },
  {
   "cell_type": "code",
   "execution_count": 255,
   "id": "46bb6259",
   "metadata": {},
   "outputs": [
    {
     "data": {
      "text/plain": [
       "(11, 7)"
      ]
     },
     "execution_count": 255,
     "metadata": {},
     "output_type": "execute_result"
    }
   ],
   "source": [
    "BtoD(S[:n//2]),BtoD(S[n//2:])\n"
   ]
  },
  {
   "cell_type": "code",
   "execution_count": 256,
   "id": "4e3cc19d",
   "metadata": {},
   "outputs": [],
   "source": [
    "# in Hexadecimal 11 is B \n",
    "ans = 'B7'"
   ]
  },
  {
   "cell_type": "code",
   "execution_count": null,
   "id": "3e62d072",
   "metadata": {},
   "outputs": [],
   "source": []
  },
  {
   "cell_type": "markdown",
   "id": "7f34e5e9",
   "metadata": {},
   "source": [
    "# `Bitwise operators : `"
   ]
  },
  {
   "cell_type": "markdown",
   "id": "f7bce544",
   "metadata": {},
   "source": [
    "# ans operator : &\n"
   ]
  },
  {
   "cell_type": "code",
   "execution_count": null,
   "id": "eb0e6d69",
   "metadata": {},
   "outputs": [],
   "source": [
    "\n"
   ]
  },
  {
   "cell_type": "code",
   "execution_count": 257,
   "id": "574beb8a",
   "metadata": {},
   "outputs": [
    {
     "data": {
      "text/plain": [
       "0"
      ]
     },
     "execution_count": 257,
     "metadata": {},
     "output_type": "execute_result"
    }
   ],
   "source": [
    "12 & 2"
   ]
  },
  {
   "cell_type": "code",
   "execution_count": 258,
   "id": "91c0c337",
   "metadata": {},
   "outputs": [
    {
     "data": {
      "text/plain": [
       "'1100'"
      ]
     },
     "execution_count": 258,
     "metadata": {},
     "output_type": "execute_result"
    }
   ],
   "source": [
    "bin(12)[2:]"
   ]
  },
  {
   "cell_type": "code",
   "execution_count": 259,
   "id": "553361bc",
   "metadata": {},
   "outputs": [
    {
     "data": {
      "text/plain": [
       "'10'"
      ]
     },
     "execution_count": 259,
     "metadata": {},
     "output_type": "execute_result"
    }
   ],
   "source": [
    "bin(2)[2:]"
   ]
  },
  {
   "cell_type": "markdown",
   "id": "037b8e48",
   "metadata": {},
   "source": [
    "        1100\n",
    "      & 0010\n",
    "\n",
    "        0000"
   ]
  },
  {
   "cell_type": "code",
   "execution_count": 260,
   "id": "b104b50d",
   "metadata": {},
   "outputs": [
    {
     "data": {
      "text/plain": [
       "('1010', '10')"
      ]
     },
     "execution_count": 260,
     "metadata": {},
     "output_type": "execute_result"
    }
   ],
   "source": [
    "bin(10)[2:],bin(2)[2:]"
   ]
  },
  {
   "cell_type": "markdown",
   "id": "cc0703a2",
   "metadata": {},
   "source": [
    "        1010\n",
    "       &0010\n",
    "       \n",
    "        0010"
   ]
  },
  {
   "cell_type": "code",
   "execution_count": 261,
   "id": "27526e0b",
   "metadata": {},
   "outputs": [
    {
     "data": {
      "text/plain": [
       "2"
      ]
     },
     "execution_count": 261,
     "metadata": {},
     "output_type": "execute_result"
    }
   ],
   "source": [
    "BtoD(\"10\")"
   ]
  },
  {
   "cell_type": "code",
   "execution_count": 262,
   "id": "760cf416",
   "metadata": {},
   "outputs": [
    {
     "data": {
      "text/plain": [
       "8"
      ]
     },
     "execution_count": 262,
     "metadata": {},
     "output_type": "execute_result"
    }
   ],
   "source": [
    "a = 13\n",
    "b = 10\n",
    "a&b "
   ]
  },
  {
   "cell_type": "code",
   "execution_count": 263,
   "id": "c6983c28",
   "metadata": {},
   "outputs": [
    {
     "data": {
      "text/plain": [
       "('1101', '1010')"
      ]
     },
     "execution_count": 263,
     "metadata": {},
     "output_type": "execute_result"
    }
   ],
   "source": [
    "bin(13)[2:],bin(10)[2:]   # 13 & 10"
   ]
  },
  {
   "cell_type": "markdown",
   "id": "e3a31843",
   "metadata": {},
   "source": [
    "1101\n",
    "1010\n",
    "\n",
    "1000\n",
    "\n"
   ]
  },
  {
   "cell_type": "code",
   "execution_count": 264,
   "id": "c2af56c8",
   "metadata": {},
   "outputs": [
    {
     "data": {
      "text/plain": [
       "8"
      ]
     },
     "execution_count": 264,
     "metadata": {},
     "output_type": "execute_result"
    }
   ],
   "source": [
    "BtoD(\"1000\")"
   ]
  },
  {
   "cell_type": "code",
   "execution_count": 265,
   "id": "33021e28",
   "metadata": {},
   "outputs": [],
   "source": [
    "# usecase of and operator if a bit is on or off : \n",
    "\n"
   ]
  },
  {
   "cell_type": "markdown",
   "id": "ae382373",
   "metadata": {},
   "source": [
    "### int a = x |||| random value x is assigned to  print(a&1)\n",
    "    check if the number x is odd or even \n",
    "    1 if a is odd\n",
    "    0 if a is even\n",
    "    "
   ]
  },
  {
   "cell_type": "code",
   "execution_count": 266,
   "id": "344c596d",
   "metadata": {},
   "outputs": [
    {
     "data": {
      "text/plain": [
       "1"
      ]
     },
     "execution_count": 266,
     "metadata": {},
     "output_type": "execute_result"
    }
   ],
   "source": [
    "a = 15\n",
    "a&1"
   ]
  },
  {
   "cell_type": "code",
   "execution_count": 267,
   "id": "bb49771d",
   "metadata": {},
   "outputs": [
    {
     "data": {
      "text/plain": [
       "0"
      ]
     },
     "execution_count": 267,
     "metadata": {},
     "output_type": "execute_result"
    }
   ],
   "source": [
    "a = 16\n",
    "a&1"
   ]
  },
  {
   "cell_type": "markdown",
   "id": "f2d63cb2",
   "metadata": {},
   "source": [
    "# OR ooperator: \n"
   ]
  },
  {
   "cell_type": "code",
   "execution_count": 268,
   "id": "281b32af",
   "metadata": {},
   "outputs": [
    {
     "data": {
      "text/plain": [
       "14"
      ]
     },
     "execution_count": 268,
     "metadata": {},
     "output_type": "execute_result"
    }
   ],
   "source": [
    "\n",
    "10|4"
   ]
  },
  {
   "cell_type": "code",
   "execution_count": 269,
   "id": "aacdd7f7",
   "metadata": {},
   "outputs": [
    {
     "data": {
      "text/plain": [
       "('1010', '100')"
      ]
     },
     "execution_count": 269,
     "metadata": {},
     "output_type": "execute_result"
    }
   ],
   "source": [
    "bin(10)[2:],bin(4)[2:] # 10 | 4"
   ]
  },
  {
   "cell_type": "markdown",
   "id": "0d136ecb",
   "metadata": {},
   "source": [
    "    1010\n",
    "    0100\n",
    "    \n",
    "    1110\n",
    "    "
   ]
  },
  {
   "cell_type": "code",
   "execution_count": 270,
   "id": "68c06a0f",
   "metadata": {},
   "outputs": [
    {
     "data": {
      "text/plain": [
       "14"
      ]
     },
     "execution_count": 270,
     "metadata": {},
     "output_type": "execute_result"
    }
   ],
   "source": [
    "BtoD(\"1110\")"
   ]
  },
  {
   "cell_type": "code",
   "execution_count": null,
   "id": "d281b0ea",
   "metadata": {},
   "outputs": [],
   "source": []
  },
  {
   "cell_type": "code",
   "execution_count": 271,
   "id": "e502bfe4",
   "metadata": {},
   "outputs": [
    {
     "data": {
      "text/plain": [
       "('1101', '1010')"
      ]
     },
     "execution_count": 271,
     "metadata": {},
     "output_type": "execute_result"
    }
   ],
   "source": [
    "bin(13)[2:],bin(10)[2:] # 13 | 10"
   ]
  },
  {
   "cell_type": "markdown",
   "id": "26733f81",
   "metadata": {},
   "source": [
    "    1101\n",
    "    1010\n",
    "\n",
    "    1111"
   ]
  },
  {
   "cell_type": "code",
   "execution_count": 272,
   "id": "2619c225",
   "metadata": {},
   "outputs": [
    {
     "data": {
      "text/plain": [
       "15"
      ]
     },
     "execution_count": 272,
     "metadata": {},
     "output_type": "execute_result"
    }
   ],
   "source": [
    "BtoD(\"1111\")"
   ]
  },
  {
   "cell_type": "code",
   "execution_count": null,
   "id": "7503fc45",
   "metadata": {},
   "outputs": [],
   "source": []
  },
  {
   "cell_type": "markdown",
   "id": "9be7d5d1",
   "metadata": {},
   "source": [
    "### int a = x // random value x is assigned to a print(a|1)\n",
    "    if a is odd x\n",
    "    If a is even x+1"
   ]
  },
  {
   "cell_type": "code",
   "execution_count": 273,
   "id": "3b3e23cc",
   "metadata": {},
   "outputs": [
    {
     "data": {
      "text/plain": [
       "15"
      ]
     },
     "execution_count": 273,
     "metadata": {},
     "output_type": "execute_result"
    }
   ],
   "source": [
    "a = 15\n",
    "a|1"
   ]
  },
  {
   "cell_type": "code",
   "execution_count": 274,
   "id": "e5aa0af8",
   "metadata": {},
   "outputs": [
    {
     "data": {
      "text/plain": [
       "17"
      ]
     },
     "execution_count": 274,
     "metadata": {},
     "output_type": "execute_result"
    }
   ],
   "source": [
    "a = 16\n",
    "a|1"
   ]
  },
  {
   "cell_type": "code",
   "execution_count": 275,
   "id": "d89c3f0f",
   "metadata": {},
   "outputs": [],
   "source": [
    "# use case of OR operator is to turn on the bit\n"
   ]
  },
  {
   "cell_type": "code",
   "execution_count": null,
   "id": "d254303b",
   "metadata": {},
   "outputs": [],
   "source": []
  },
  {
   "cell_type": "markdown",
   "id": "f5b4b659",
   "metadata": {},
   "source": [
    "# XOR operator ^ \n",
    "\n",
    "- usecase : toggle the bit\n"
   ]
  },
  {
   "cell_type": "code",
   "execution_count": 276,
   "id": "7947bd54",
   "metadata": {},
   "outputs": [
    {
     "data": {
      "text/plain": [
       "('1101', '1110')"
      ]
     },
     "execution_count": 276,
     "metadata": {},
     "output_type": "execute_result"
    }
   ],
   "source": [
    "bin(13)[2:],bin(14)[2:]"
   ]
  },
  {
   "cell_type": "markdown",
   "id": "1b6b0757",
   "metadata": {},
   "source": [
    "    1101\n",
    "    0001\n",
    "    \n",
    "    1100\n",
    "    \n",
    "    \n",
    "    1110\n",
    "    0001\n",
    "    \n",
    "    1111\n",
    "    \n",
    "    "
   ]
  },
  {
   "cell_type": "code",
   "execution_count": 277,
   "id": "d07a3616",
   "metadata": {},
   "outputs": [
    {
     "data": {
      "text/plain": [
       "(12, 15)"
      ]
     },
     "execution_count": 277,
     "metadata": {},
     "output_type": "execute_result"
    }
   ],
   "source": [
    "13^1,14^1"
   ]
  },
  {
   "cell_type": "code",
   "execution_count": null,
   "id": "a7532126",
   "metadata": {},
   "outputs": [],
   "source": []
  },
  {
   "cell_type": "code",
   "execution_count": null,
   "id": "cd2e296f",
   "metadata": {},
   "outputs": [],
   "source": []
  },
  {
   "cell_type": "code",
   "execution_count": 278,
   "id": "2d3ffa46",
   "metadata": {},
   "outputs": [
    {
     "data": {
      "text/plain": [
       "17"
      ]
     },
     "execution_count": 278,
     "metadata": {},
     "output_type": "execute_result"
    }
   ],
   "source": [
    "16^1"
   ]
  },
  {
   "cell_type": "code",
   "execution_count": 279,
   "id": "86daf781",
   "metadata": {},
   "outputs": [
    {
     "data": {
      "text/plain": [
       "15"
      ]
     },
     "execution_count": 279,
     "metadata": {},
     "output_type": "execute_result"
    }
   ],
   "source": [
    "14^1"
   ]
  },
  {
   "cell_type": "markdown",
   "id": "481ee46c",
   "metadata": {},
   "source": [
    "    0 0 > 0 \n",
    "    1 0 > 1\n",
    "    0 1 > 1\n",
    "    1 1 > 0"
   ]
  },
  {
   "cell_type": "code",
   "execution_count": 280,
   "id": "1b08363c",
   "metadata": {},
   "outputs": [
    {
     "data": {
      "text/plain": [
       "('1101', '1010')"
      ]
     },
     "execution_count": 280,
     "metadata": {},
     "output_type": "execute_result"
    }
   ],
   "source": [
    "bin(13)[2:],bin(10)[2:] # 13 ^ 10"
   ]
  },
  {
   "cell_type": "markdown",
   "id": "444930f8",
   "metadata": {},
   "source": [
    "    1101\n",
    "    1010\n",
    "    \n",
    "    0111\n",
    "    \n",
    "    "
   ]
  },
  {
   "cell_type": "code",
   "execution_count": 281,
   "id": "e76bf7f6",
   "metadata": {},
   "outputs": [
    {
     "data": {
      "text/plain": [
       "7"
      ]
     },
     "execution_count": 281,
     "metadata": {},
     "output_type": "execute_result"
    }
   ],
   "source": [
    "BtoD(\"0111\")"
   ]
  },
  {
   "cell_type": "code",
   "execution_count": 282,
   "id": "84963902",
   "metadata": {},
   "outputs": [
    {
     "data": {
      "text/plain": [
       "7"
      ]
     },
     "execution_count": 282,
     "metadata": {},
     "output_type": "execute_result"
    }
   ],
   "source": [
    "13^10"
   ]
  },
  {
   "cell_type": "code",
   "execution_count": null,
   "id": "491dee8c",
   "metadata": {},
   "outputs": [],
   "source": []
  },
  {
   "cell_type": "markdown",
   "id": "d78e51da",
   "metadata": {},
   "source": [
    "### int a = x : random value x is assigned to a print(a^1)\n",
    "    if a is even = x+1\n",
    "    if a is odd = x-1"
   ]
  },
  {
   "cell_type": "code",
   "execution_count": null,
   "id": "3061b5f5",
   "metadata": {},
   "outputs": [],
   "source": []
  },
  {
   "cell_type": "markdown",
   "id": "2101821a",
   "metadata": {},
   "source": [
    "## Single Number\n",
    "\n",
    "### Given an array of integers A, every element appears twice except for one. Find that integer that occurs once.\n",
    "\n",
    "    Input Format\n",
    "    The first and only argument of input contains an integer array A.\n",
    "    Output Format\n",
    "    Return a single integer denoting the single element.\n",
    "\n",
    "    Example Input\n",
    "    Input 1:\n",
    "     A = [1, 2, 2, 3, 1]\n",
    "    Input 2:\n",
    "     A = [1, 2, 2]\n",
    "    Example Output\n",
    "    Output 1:\n",
    "     3\n",
    "    Output 2:\n",
    "     1\n",
    "\n",
    "    Example Explanation\n",
    "    Explanation 1:\n",
    "    3 occurs once.\n",
    "    Explanation 2:\n",
    "    1 occurs once."
   ]
  },
  {
   "cell_type": "code",
   "execution_count": 283,
   "id": "332f5e65",
   "metadata": {},
   "outputs": [
    {
     "data": {
      "text/plain": [
       "0"
      ]
     },
     "execution_count": 283,
     "metadata": {},
     "output_type": "execute_result"
    }
   ],
   "source": [
    "13^13"
   ]
  },
  {
   "cell_type": "code",
   "execution_count": 284,
   "id": "0749b563",
   "metadata": {},
   "outputs": [
    {
     "data": {
      "text/plain": [
       "19"
      ]
     },
     "execution_count": 284,
     "metadata": {},
     "output_type": "execute_result"
    }
   ],
   "source": [
    "5^5^3^19^3"
   ]
  },
  {
   "cell_type": "code",
   "execution_count": 285,
   "id": "aedfea1a",
   "metadata": {},
   "outputs": [
    {
     "data": {
      "text/plain": [
       "8"
      ]
     },
     "execution_count": 285,
     "metadata": {},
     "output_type": "execute_result"
    }
   ],
   "source": [
    "A = [5,5,2,1,2,3,9,9,3,1,0,-1,-1,8]\n",
    "ans = A[0]\n",
    "for i in range(1,len(A)):\n",
    "    ans = ans ^ A[i]\n",
    "ans"
   ]
  },
  {
   "cell_type": "code",
   "execution_count": 286,
   "id": "cba355de",
   "metadata": {},
   "outputs": [
    {
     "data": {
      "text/plain": [
       "8"
      ]
     },
     "execution_count": 286,
     "metadata": {},
     "output_type": "execute_result"
    }
   ],
   "source": [
    "A = [5,5,2,1,2,3,9,9,3,1,0,-1,-1,8]\n",
    "ans = 0\n",
    "for i in range(len(A)):\n",
    "    ans = ans ^ A[i]\n",
    "ans"
   ]
  },
  {
   "cell_type": "code",
   "execution_count": null,
   "id": "caeb3160",
   "metadata": {},
   "outputs": [],
   "source": []
  },
  {
   "cell_type": "code",
   "execution_count": null,
   "id": "682f0417",
   "metadata": {},
   "outputs": [],
   "source": []
  },
  {
   "cell_type": "markdown",
   "id": "2f1bbd3a",
   "metadata": {},
   "source": [
    "### # check if the 1st bit is on or off ! :\n"
   ]
  },
  {
   "cell_type": "code",
   "execution_count": 287,
   "id": "5c147e18",
   "metadata": {},
   "outputs": [
    {
     "data": {
      "text/plain": [
       "'101100'"
      ]
     },
     "execution_count": 287,
     "metadata": {},
     "output_type": "execute_result"
    }
   ],
   "source": [
    "\n",
    "DtoB(44)"
   ]
  },
  {
   "cell_type": "markdown",
   "id": "19ac6473",
   "metadata": {},
   "source": [
    "    101100\n",
    "    000001\n",
    "\n",
    "    000000\n"
   ]
  },
  {
   "cell_type": "code",
   "execution_count": 288,
   "id": "95b8942c",
   "metadata": {},
   "outputs": [
    {
     "data": {
      "text/plain": [
       "0"
      ]
     },
     "execution_count": 288,
     "metadata": {},
     "output_type": "execute_result"
    }
   ],
   "source": [
    "44&1"
   ]
  },
  {
   "cell_type": "markdown",
   "id": "5810a6bd",
   "metadata": {},
   "source": [
    "### # check if the 2st bit is on or off ! :\n"
   ]
  },
  {
   "cell_type": "code",
   "execution_count": 289,
   "id": "86a4f278",
   "metadata": {},
   "outputs": [
    {
     "data": {
      "text/plain": [
       "'101100'"
      ]
     },
     "execution_count": 289,
     "metadata": {},
     "output_type": "execute_result"
    }
   ],
   "source": [
    "DtoB(44)"
   ]
  },
  {
   "cell_type": "markdown",
   "id": "1c8c7470",
   "metadata": {},
   "source": [
    "    101100\n",
    "    000010\n",
    "\n",
    "    000000"
   ]
  },
  {
   "cell_type": "code",
   "execution_count": 290,
   "id": "39598ea9",
   "metadata": {},
   "outputs": [
    {
     "data": {
      "text/plain": [
       "0"
      ]
     },
     "execution_count": 290,
     "metadata": {},
     "output_type": "execute_result"
    }
   ],
   "source": [
    "44&2"
   ]
  },
  {
   "cell_type": "markdown",
   "id": "46c536d3",
   "metadata": {},
   "source": [
    "### # check if the 3rd bit is on or off ! :\n"
   ]
  },
  {
   "cell_type": "markdown",
   "id": "de531160",
   "metadata": {},
   "source": [
    "    101100\n",
    "    000100\n",
    "    \n",
    "    000100"
   ]
  },
  {
   "cell_type": "code",
   "execution_count": 291,
   "id": "a4ce0733",
   "metadata": {},
   "outputs": [
    {
     "data": {
      "text/plain": [
       "4"
      ]
     },
     "execution_count": 291,
     "metadata": {},
     "output_type": "execute_result"
    }
   ],
   "source": [
    "44&4"
   ]
  },
  {
   "cell_type": "code",
   "execution_count": 292,
   "id": "37af92a9",
   "metadata": {},
   "outputs": [
    {
     "data": {
      "text/plain": [
       "8"
      ]
     },
     "execution_count": 292,
     "metadata": {},
     "output_type": "execute_result"
    }
   ],
   "source": [
    "44&8"
   ]
  },
  {
   "cell_type": "code",
   "execution_count": 293,
   "id": "8be4e870",
   "metadata": {},
   "outputs": [
    {
     "data": {
      "text/plain": [
       "0"
      ]
     },
     "execution_count": 293,
     "metadata": {},
     "output_type": "execute_result"
    }
   ],
   "source": [
    "44&16"
   ]
  },
  {
   "cell_type": "code",
   "execution_count": 294,
   "id": "39a9b52d",
   "metadata": {},
   "outputs": [
    {
     "data": {
      "text/plain": [
       "32"
      ]
     },
     "execution_count": 294,
     "metadata": {},
     "output_type": "execute_result"
    }
   ],
   "source": [
    "44&32"
   ]
  },
  {
   "cell_type": "code",
   "execution_count": 295,
   "id": "4960104f",
   "metadata": {},
   "outputs": [
    {
     "data": {
      "text/plain": [
       "0"
      ]
     },
     "execution_count": 295,
     "metadata": {},
     "output_type": "execute_result"
    }
   ],
   "source": [
    "44&64"
   ]
  },
  {
   "cell_type": "code",
   "execution_count": 296,
   "id": "f379ac4b",
   "metadata": {},
   "outputs": [
    {
     "data": {
      "text/plain": [
       "0"
      ]
     },
     "execution_count": 296,
     "metadata": {},
     "output_type": "execute_result"
    }
   ],
   "source": [
    "44&128"
   ]
  },
  {
   "cell_type": "code",
   "execution_count": null,
   "id": "beea9645",
   "metadata": {},
   "outputs": [],
   "source": []
  },
  {
   "cell_type": "code",
   "execution_count": 297,
   "id": "db32a219",
   "metadata": {},
   "outputs": [
    {
     "data": {
      "text/plain": [
       "[0, 0, 4, 8, 0, 32]"
      ]
     },
     "execution_count": 297,
     "metadata": {},
     "output_type": "execute_result"
    }
   ],
   "source": [
    "[44 & (2**0),\n",
    " 44 & (2**1),\n",
    " 44 & (2**2),\n",
    " 44 & (2**3),\n",
    " 44 & (2**4),\n",
    " 44 & (2**5),\n",
    "]"
   ]
  },
  {
   "cell_type": "code",
   "execution_count": 298,
   "id": "7f7a62d0",
   "metadata": {},
   "outputs": [
    {
     "data": {
      "text/plain": [
       "[32, 0, 8, 4, 0, 0]"
      ]
     },
     "execution_count": 298,
     "metadata": {},
     "output_type": "execute_result"
    }
   ],
   "source": [
    "[44 & (2**0),\n",
    " 44 & (2**1),\n",
    " 44 & (2**2),\n",
    " 44 & (2**3),\n",
    " 44 & (2**4),\n",
    " 44 & (2**5),\n",
    "][::-1]"
   ]
  },
  {
   "cell_type": "code",
   "execution_count": 299,
   "id": "3d3dbf12",
   "metadata": {},
   "outputs": [
    {
     "data": {
      "text/plain": [
       "101100"
      ]
     },
     "execution_count": 299,
     "metadata": {},
     "output_type": "execute_result"
    }
   ],
   "source": [
    "101100"
   ]
  },
  {
   "cell_type": "markdown",
   "id": "b3118a6e",
   "metadata": {},
   "source": [
    "## check if kth bit is on or off : \n",
    "\n",
    "    Number & 2**(k-1)\n",
    "    "
   ]
  },
  {
   "cell_type": "code",
   "execution_count": 300,
   "id": "54c1a3d5",
   "metadata": {},
   "outputs": [
    {
     "data": {
      "text/plain": [
       "'1111100110'"
      ]
     },
     "execution_count": 300,
     "metadata": {},
     "output_type": "execute_result"
    }
   ],
   "source": [
    "bin(998)[2:]"
   ]
  },
  {
   "cell_type": "code",
   "execution_count": 301,
   "id": "575abef6",
   "metadata": {},
   "outputs": [],
   "source": [
    "# checking if 8th bit in 998 is on or off : "
   ]
  },
  {
   "cell_type": "code",
   "execution_count": 302,
   "id": "05cb2c5b",
   "metadata": {},
   "outputs": [
    {
     "data": {
      "text/plain": [
       "128"
      ]
     },
     "execution_count": 302,
     "metadata": {},
     "output_type": "execute_result"
    }
   ],
   "source": [
    "998&(2**7)"
   ]
  },
  {
   "cell_type": "code",
   "execution_count": 303,
   "id": "c2927d65",
   "metadata": {},
   "outputs": [
    {
     "data": {
      "text/plain": [
       "0"
      ]
     },
     "execution_count": 303,
     "metadata": {},
     "output_type": "execute_result"
    }
   ],
   "source": [
    "998&(2**4)  # checking  5th bit is on or off : "
   ]
  },
  {
   "cell_type": "code",
   "execution_count": null,
   "id": "a23cb008",
   "metadata": {},
   "outputs": [],
   "source": []
  },
  {
   "cell_type": "code",
   "execution_count": 304,
   "id": "c64e02ef",
   "metadata": {},
   "outputs": [
    {
     "data": {
      "text/plain": [
       "['1011', '10110', '101100', '1011000', '10110000']"
      ]
     },
     "execution_count": 304,
     "metadata": {},
     "output_type": "execute_result"
    }
   ],
   "source": [
    "[bin(11)[2:],\n",
    " bin(22)[2:],\n",
    " bin(44)[2:],\n",
    " bin(88)[2:],\n",
    " bin(176)[2:],\n",
    "]"
   ]
  },
  {
   "cell_type": "markdown",
   "id": "275ef7d8",
   "metadata": {},
   "source": [
    "    shifting all bits towards left "
   ]
  },
  {
   "cell_type": "code",
   "execution_count": 305,
   "id": "a29031c6",
   "metadata": {},
   "outputs": [
    {
     "data": {
      "text/plain": [
       "22"
      ]
     },
     "execution_count": 305,
     "metadata": {},
     "output_type": "execute_result"
    }
   ],
   "source": [
    "11 << 1"
   ]
  },
  {
   "cell_type": "code",
   "execution_count": 306,
   "id": "a1bd9ba9",
   "metadata": {},
   "outputs": [
    {
     "data": {
      "text/plain": [
       "44"
      ]
     },
     "execution_count": 306,
     "metadata": {},
     "output_type": "execute_result"
    }
   ],
   "source": [
    "11 << 2"
   ]
  },
  {
   "cell_type": "code",
   "execution_count": 307,
   "id": "c1baa917",
   "metadata": {},
   "outputs": [
    {
     "data": {
      "text/plain": [
       "88"
      ]
     },
     "execution_count": 307,
     "metadata": {},
     "output_type": "execute_result"
    }
   ],
   "source": [
    "11 << 3"
   ]
  },
  {
   "cell_type": "code",
   "execution_count": 308,
   "id": "03e0f787",
   "metadata": {},
   "outputs": [
    {
     "data": {
      "text/plain": [
       "176"
      ]
     },
     "execution_count": 308,
     "metadata": {},
     "output_type": "execute_result"
    }
   ],
   "source": [
    "11 << 4"
   ]
  },
  {
   "cell_type": "code",
   "execution_count": 309,
   "id": "e27036c1",
   "metadata": {},
   "outputs": [
    {
     "data": {
      "text/plain": [
       "[20, 40, 80, 160, 320]"
      ]
     },
     "execution_count": 309,
     "metadata": {},
     "output_type": "execute_result"
    }
   ],
   "source": [
    "[10<<1,10<<2,10<<3,10<<4,10<<5]"
   ]
  },
  {
   "cell_type": "code",
   "execution_count": 310,
   "id": "318fbb50",
   "metadata": {},
   "outputs": [
    {
     "data": {
      "text/plain": [
       "['10', '100', '1000', '10000', '100000', '1000000', '10000000', '100000000']"
      ]
     },
     "execution_count": 310,
     "metadata": {},
     "output_type": "execute_result"
    }
   ],
   "source": [
    "[DtoB(1<<1),\n",
    " DtoB(1<<2),\n",
    " DtoB(1<<3),\n",
    " DtoB(1<<4),\n",
    " DtoB(1<<5),\n",
    " DtoB(1<<6),\n",
    " DtoB(1<<7),\n",
    " DtoB(1<<8)\n",
    " \n",
    "]"
   ]
  },
  {
   "cell_type": "code",
   "execution_count": null,
   "id": "3017f7e1",
   "metadata": {},
   "outputs": [],
   "source": []
  },
  {
   "cell_type": "code",
   "execution_count": null,
   "id": "36994660",
   "metadata": {},
   "outputs": [],
   "source": []
  },
  {
   "cell_type": "markdown",
   "id": "869fb848",
   "metadata": {},
   "source": [
    "    (a << x)  is equal to  (a * 2^x)"
   ]
  },
  {
   "cell_type": "code",
   "execution_count": null,
   "id": "20d9655a",
   "metadata": {},
   "outputs": [],
   "source": []
  },
  {
   "cell_type": "markdown",
   "id": "f85dfec5",
   "metadata": {},
   "source": [
    "## checking ith bit is on or off : "
   ]
  },
  {
   "cell_type": "code",
   "execution_count": 311,
   "id": "242d3f3b",
   "metadata": {},
   "outputs": [
    {
     "data": {
      "text/plain": [
       "'101100'"
      ]
     },
     "execution_count": 311,
     "metadata": {},
     "output_type": "execute_result"
    }
   ],
   "source": [
    "bin(44)[2:]"
   ]
  },
  {
   "cell_type": "code",
   "execution_count": 312,
   "id": "6fe11f72",
   "metadata": {},
   "outputs": [
    {
     "data": {
      "text/plain": [
       "[0, 0, 4, 8, 0, 32]"
      ]
     },
     "execution_count": 312,
     "metadata": {},
     "output_type": "execute_result"
    }
   ],
   "source": [
    "[44 & (2**0),\n",
    " 44 & (2**1),\n",
    " 44 & (2**2),\n",
    " 44 & (2**3),\n",
    " 44 & (2**4),\n",
    " 44 & (2**5),\n",
    "]"
   ]
  },
  {
   "cell_type": "code",
   "execution_count": 313,
   "id": "6fa75932",
   "metadata": {},
   "outputs": [
    {
     "data": {
      "text/plain": [
       "[0, 0, 4, 8, 0, 32]"
      ]
     },
     "execution_count": 313,
     "metadata": {},
     "output_type": "execute_result"
    }
   ],
   "source": [
    "[44 & (1 <<0),\n",
    " 44 & (1 <<1),\n",
    " 44 & (1 <<2),\n",
    " 44 & (1 <<3),\n",
    " 44 & (1 <<4),\n",
    " 44 & (1 <<5)]"
   ]
  },
  {
   "cell_type": "code",
   "execution_count": null,
   "id": "350f1132",
   "metadata": {},
   "outputs": [],
   "source": []
  },
  {
   "cell_type": "code",
   "execution_count": null,
   "id": "5479deb2",
   "metadata": {},
   "outputs": [],
   "source": []
  },
  {
   "cell_type": "code",
   "execution_count": 314,
   "id": "359f9edc",
   "metadata": {},
   "outputs": [],
   "source": [
    "def check_ith_bit_on_or_off(n,i):\n",
    "    if i <= 0: return 'check index entered negative or 0'\n",
    "    if n & (1<<(i-1)) == 0:\n",
    "        return False\n",
    "    return True\n",
    "    \n",
    "    "
   ]
  },
  {
   "cell_type": "code",
   "execution_count": 315,
   "id": "b42365f9",
   "metadata": {},
   "outputs": [
    {
     "data": {
      "text/plain": [
       "False"
      ]
     },
     "execution_count": 315,
     "metadata": {},
     "output_type": "execute_result"
    }
   ],
   "source": [
    "check_ith_bit_on_or_off(44,7)"
   ]
  },
  {
   "cell_type": "code",
   "execution_count": 316,
   "id": "b6a71d3f",
   "metadata": {},
   "outputs": [
    {
     "data": {
      "text/plain": [
       "(False, True, True, 'check index entered negative or 0')"
      ]
     },
     "execution_count": 316,
     "metadata": {},
     "output_type": "execute_result"
    }
   ],
   "source": [
    "check_ith_bit_on_or_off(7,4),check_ith_bit_on_or_off(7,3),check_ith_bit_on_or_off(7,1),check_ith_bit_on_or_off(7,0)"
   ]
  },
  {
   "cell_type": "code",
   "execution_count": 317,
   "id": "1dc4110b",
   "metadata": {},
   "outputs": [
    {
     "data": {
      "text/plain": [
       "'111'"
      ]
     },
     "execution_count": 317,
     "metadata": {},
     "output_type": "execute_result"
    }
   ],
   "source": [
    "bin(7)[2:]"
   ]
  },
  {
   "cell_type": "code",
   "execution_count": null,
   "id": "ba2ea021",
   "metadata": {},
   "outputs": [],
   "source": []
  },
  {
   "cell_type": "code",
   "execution_count": null,
   "id": "1a77e91f",
   "metadata": {},
   "outputs": [],
   "source": []
  },
  {
   "cell_type": "code",
   "execution_count": 318,
   "id": "f4c1f91c",
   "metadata": {},
   "outputs": [
    {
     "data": {
      "text/plain": [
       "(16, 8, 2)"
      ]
     },
     "execution_count": 318,
     "metadata": {},
     "output_type": "execute_result"
    }
   ],
   "source": [
    "32>>1,32>>2,32>>4"
   ]
  },
  {
   "cell_type": "markdown",
   "id": "cef65769",
   "metadata": {},
   "source": [
    "### Which of the following options output is 2 power k\n",
    "    \n",
    "    1 << k"
   ]
  },
  {
   "cell_type": "markdown",
   "id": "f2473b6d",
   "metadata": {},
   "source": [
    "### check 422 , 5th bit on or off "
   ]
  },
  {
   "cell_type": "code",
   "execution_count": 319,
   "id": "090ed0d8",
   "metadata": {},
   "outputs": [
    {
     "data": {
      "text/plain": [
       "422"
      ]
     },
     "execution_count": 319,
     "metadata": {},
     "output_type": "execute_result"
    }
   ],
   "source": [
    "BtoD(\"110100110\")"
   ]
  },
  {
   "cell_type": "code",
   "execution_count": null,
   "id": "da0d96b3",
   "metadata": {},
   "outputs": [],
   "source": []
  },
  {
   "cell_type": "code",
   "execution_count": 320,
   "id": "2a3dd95b",
   "metadata": {},
   "outputs": [
    {
     "data": {
      "text/plain": [
       "32"
      ]
     },
     "execution_count": 320,
     "metadata": {},
     "output_type": "execute_result"
    }
   ],
   "source": [
    "422 & (1<<(6-1)) # 6th bit on or off"
   ]
  },
  {
   "cell_type": "code",
   "execution_count": 321,
   "id": "0b97628e",
   "metadata": {},
   "outputs": [
    {
     "data": {
      "text/plain": [
       "128"
      ]
     },
     "execution_count": 321,
     "metadata": {},
     "output_type": "execute_result"
    }
   ],
   "source": [
    "422 & (1<<(8-1)) # 8th bit on or off"
   ]
  },
  {
   "cell_type": "code",
   "execution_count": 322,
   "id": "2e31cce7",
   "metadata": {},
   "outputs": [
    {
     "data": {
      "text/plain": [
       "0"
      ]
     },
     "execution_count": 322,
     "metadata": {},
     "output_type": "execute_result"
    }
   ],
   "source": [
    "422 & (1<<(4-1)) # 4th bit on or off"
   ]
  },
  {
   "cell_type": "code",
   "execution_count": null,
   "id": "55b69a27",
   "metadata": {},
   "outputs": [],
   "source": []
  },
  {
   "cell_type": "code",
   "execution_count": null,
   "id": "a50561ee",
   "metadata": {},
   "outputs": [],
   "source": []
  },
  {
   "cell_type": "markdown",
   "id": "c4ac4115",
   "metadata": {},
   "source": [
    "## count the number of set bits : "
   ]
  },
  {
   "cell_type": "code",
   "execution_count": 323,
   "id": "11d04cf2",
   "metadata": {},
   "outputs": [
    {
     "data": {
      "text/plain": [
       "5"
      ]
     },
     "execution_count": 323,
     "metadata": {},
     "output_type": "execute_result"
    }
   ],
   "source": [
    "N = 422\n",
    "\n",
    "def count_set_bits(N):\n",
    "    count = 0\n",
    "    k = 0\n",
    "    while True :\n",
    "        if N & (1<<(k)) != 0:\n",
    "            count += 1\n",
    "        k += 1\n",
    "        if N < (1<<k):\n",
    "            break\n",
    "    return count\n",
    "            \n",
    "count_set_bits(N)      "
   ]
  },
  {
   "cell_type": "code",
   "execution_count": 324,
   "id": "6ce9f1d6",
   "metadata": {},
   "outputs": [
    {
     "data": {
      "text/plain": [
       "'110100110'"
      ]
     },
     "execution_count": 324,
     "metadata": {},
     "output_type": "execute_result"
    }
   ],
   "source": [
    "DtoB(422)"
   ]
  },
  {
   "cell_type": "code",
   "execution_count": 325,
   "id": "8ac78ab8",
   "metadata": {},
   "outputs": [
    {
     "data": {
      "text/plain": [
       "5"
      ]
     },
     "execution_count": 325,
     "metadata": {},
     "output_type": "execute_result"
    }
   ],
   "source": [
    "N = 422\n",
    "\n",
    "def count_set_bits(N):\n",
    "    count = 0\n",
    "    \n",
    "    for k in range(int(math.log(N,2))+2):\n",
    "        \n",
    "        if N & (1<<(k)) != 0:\n",
    "            count += 1\n",
    "        \n",
    "    return count\n",
    "            \n",
    "count_set_bits(N)      "
   ]
  },
  {
   "cell_type": "code",
   "execution_count": 326,
   "id": "9b66155b",
   "metadata": {},
   "outputs": [
    {
     "data": {
      "text/plain": [
       "9"
      ]
     },
     "execution_count": 326,
     "metadata": {},
     "output_type": "execute_result"
    }
   ],
   "source": [
    "len(bin(N)[2:])"
   ]
  },
  {
   "cell_type": "code",
   "execution_count": 327,
   "id": "08bcc3fa",
   "metadata": {},
   "outputs": [
    {
     "data": {
      "text/plain": [
       "9"
      ]
     },
     "execution_count": 327,
     "metadata": {},
     "output_type": "execute_result"
    }
   ],
   "source": [
    "int(math.log(422,2))+1"
   ]
  },
  {
   "cell_type": "code",
   "execution_count": null,
   "id": "0ac84c8e",
   "metadata": {},
   "outputs": [],
   "source": []
  },
  {
   "cell_type": "code",
   "execution_count": 328,
   "id": "1b9aa0d0",
   "metadata": {},
   "outputs": [
    {
     "name": "stdout",
     "output_type": "stream",
     "text": [
      "422  |  0  |  0\n",
      "211  |  1  |  1\n",
      "105  |  1  |  2\n",
      "52  |  0  |  2\n",
      "26  |  0  |  2\n",
      "13  |  1  |  3\n",
      "6  |  0  |  3\n",
      "3  |  1  |  4\n",
      "1  |  1  |  5\n"
     ]
    },
    {
     "data": {
      "text/plain": [
       "5"
      ]
     },
     "execution_count": 328,
     "metadata": {},
     "output_type": "execute_result"
    }
   ],
   "source": [
    "N = 422\n",
    "\n",
    "def count_set_bits(N):\n",
    "    count = 0\n",
    "    \n",
    "    while N > 0:\n",
    "        count += N&1\n",
    "        print(N, \" | \",N&1,\" | \" ,count )\n",
    "        N = N>>1\n",
    "        \n",
    "    return count\n",
    "count_set_bits(N)      "
   ]
  },
  {
   "cell_type": "code",
   "execution_count": null,
   "id": "b02e8bf7",
   "metadata": {},
   "outputs": [],
   "source": []
  },
  {
   "cell_type": "code",
   "execution_count": null,
   "id": "f9025d07",
   "metadata": {},
   "outputs": [],
   "source": []
  },
  {
   "cell_type": "markdown",
   "id": "07f5f986",
   "metadata": {},
   "source": [
    "## How negative numbers represented in binary  :"
   ]
  },
  {
   "cell_type": "markdown",
   "id": "1af74271",
   "metadata": {},
   "source": [
    "    2's compliment : \n",
    "        1: find binary of magnitud\n",
    "        2: toggle all bits\n",
    "        3: add 1"
   ]
  },
  {
   "cell_type": "code",
   "execution_count": 329,
   "id": "5ce135fa",
   "metadata": {},
   "outputs": [
    {
     "data": {
      "text/plain": [
       "-40"
      ]
     },
     "execution_count": 329,
     "metadata": {},
     "output_type": "execute_result"
    }
   ],
   "source": [
    "-40"
   ]
  },
  {
   "cell_type": "code",
   "execution_count": 330,
   "id": "4f8dc42f",
   "metadata": {},
   "outputs": [
    {
     "data": {
      "text/plain": [
       "'101000'"
      ]
     },
     "execution_count": 330,
     "metadata": {},
     "output_type": "execute_result"
    }
   ],
   "source": [
    "bin(40)[2:]"
   ]
  },
  {
   "cell_type": "markdown",
   "id": "f0715161",
   "metadata": {},
   "source": [
    "            00101000    in 8 bit format : \n",
    "     ---------------------\n",
    "     toggle all bits now : \n",
    "            11010111\n",
    "      --------------------------------\n",
    "      add 1 \n",
    "      --------------------------------\n",
    "            11010111\n",
    "                   1\n",
    "                   \n",
    "                   1+1  = 10\n",
    "              ------------------ \n",
    "                111 \n",
    "            11010111\n",
    "            +      1\n",
    "            11011000\n",
    "            \n",
    "            \n",
    "\n"
   ]
  },
  {
   "cell_type": "code",
   "execution_count": 331,
   "id": "c3147afa",
   "metadata": {},
   "outputs": [
    {
     "data": {
      "text/plain": [
       "(128, 88)"
      ]
     },
     "execution_count": 331,
     "metadata": {},
     "output_type": "execute_result"
    }
   ],
   "source": [
    "\n",
    "BtoD(\"10000000\"),BtoD(\"1011000\")"
   ]
  },
  {
   "cell_type": "code",
   "execution_count": 332,
   "id": "be8ec3b8",
   "metadata": {},
   "outputs": [
    {
     "data": {
      "text/plain": [
       "-40"
      ]
     },
     "execution_count": 332,
     "metadata": {},
     "output_type": "execute_result"
    }
   ],
   "source": [
    "-128 + 88 "
   ]
  },
  {
   "cell_type": "code",
   "execution_count": null,
   "id": "f4d183b8",
   "metadata": {},
   "outputs": [],
   "source": []
  },
  {
   "cell_type": "code",
   "execution_count": 333,
   "id": "e0aad8b5",
   "metadata": {},
   "outputs": [],
   "source": [
    "# toggle all the bits"
   ]
  },
  {
   "cell_type": "code",
   "execution_count": 334,
   "id": "a7967161",
   "metadata": {},
   "outputs": [
    {
     "data": {
      "text/plain": [
       "40"
      ]
     },
     "execution_count": 334,
     "metadata": {},
     "output_type": "execute_result"
    }
   ],
   "source": [
    "40"
   ]
  },
  {
   "cell_type": "code",
   "execution_count": 335,
   "id": "b6fa3580",
   "metadata": {},
   "outputs": [
    {
     "data": {
      "text/plain": [
       "'101000'"
      ]
     },
     "execution_count": 335,
     "metadata": {},
     "output_type": "execute_result"
    }
   ],
   "source": [
    "bin(40^0)[2:]"
   ]
  },
  {
   "cell_type": "code",
   "execution_count": 336,
   "id": "96410e0d",
   "metadata": {},
   "outputs": [
    {
     "data": {
      "text/plain": [
       "'101001'"
      ]
     },
     "execution_count": 336,
     "metadata": {},
     "output_type": "execute_result"
    }
   ],
   "source": [
    "bin(40^1)[2:]"
   ]
  },
  {
   "cell_type": "code",
   "execution_count": 337,
   "id": "46ef6310",
   "metadata": {},
   "outputs": [
    {
     "data": {
      "text/plain": [
       "'101010'"
      ]
     },
     "execution_count": 337,
     "metadata": {},
     "output_type": "execute_result"
    }
   ],
   "source": [
    "bin(40^2)[2:]"
   ]
  },
  {
   "cell_type": "code",
   "execution_count": 338,
   "id": "388db823",
   "metadata": {},
   "outputs": [
    {
     "data": {
      "text/plain": [
       "'101100'"
      ]
     },
     "execution_count": 338,
     "metadata": {},
     "output_type": "execute_result"
    }
   ],
   "source": [
    "bin(40^4)[2:]"
   ]
  },
  {
   "cell_type": "code",
   "execution_count": 339,
   "id": "2612d0bf",
   "metadata": {},
   "outputs": [
    {
     "data": {
      "text/plain": [
       "'100000'"
      ]
     },
     "execution_count": 339,
     "metadata": {},
     "output_type": "execute_result"
    }
   ],
   "source": [
    "bin(40^8)[2:]"
   ]
  },
  {
   "cell_type": "code",
   "execution_count": 340,
   "id": "ed441096",
   "metadata": {},
   "outputs": [
    {
     "data": {
      "text/plain": [
       "'111000'"
      ]
     },
     "execution_count": 340,
     "metadata": {},
     "output_type": "execute_result"
    }
   ],
   "source": [
    "bin(40^16)[2:]"
   ]
  },
  {
   "cell_type": "code",
   "execution_count": 341,
   "id": "02cc4b37",
   "metadata": {},
   "outputs": [
    {
     "data": {
      "text/plain": [
       "'1000'"
      ]
     },
     "execution_count": 341,
     "metadata": {},
     "output_type": "execute_result"
    }
   ],
   "source": [
    "bin(40^32)[2:]"
   ]
  },
  {
   "cell_type": "code",
   "execution_count": 342,
   "id": "ce281a05",
   "metadata": {},
   "outputs": [
    {
     "name": "stdout",
     "output_type": "stream",
     "text": [
      "1010\n",
      "101\n"
     ]
    }
   ],
   "source": [
    "\n",
    "# Python3 program to toggle set\n",
    "# bits starting from MSB\n",
    "from math import log\n",
    " \n",
    "# Returns a number which has all set bits\n",
    "# starting from MSB of n\n",
    "def toggle(num):\n",
    " \n",
    "    # the number of bits is equal to log2num + 1\n",
    "    n = int(log(num, 2)) + 1\n",
    " \n",
    "    # calculating mask\n",
    "    mask = pow(2, n) - 1\n",
    " \n",
    "    # toggling bits using xor with mask\n",
    "    return num ^ mask\n",
    " \n",
    "# Driver code\n",
    "num = 10\n",
    "print(bin(num)[2:])\n",
    "print(bin(toggle(num))[2:])\n"
   ]
  },
  {
   "cell_type": "code",
   "execution_count": 1227,
   "id": "86217d24",
   "metadata": {},
   "outputs": [
    {
     "data": {
      "text/plain": [
       "'101000'"
      ]
     },
     "execution_count": 1227,
     "metadata": {},
     "output_type": "execute_result"
    }
   ],
   "source": [
    "bin(40^0)[2:]"
   ]
  },
  {
   "cell_type": "code",
   "execution_count": 1232,
   "id": "a7cff8d8",
   "metadata": {},
   "outputs": [
    {
     "data": {
      "text/plain": [
       "'00101100'"
      ]
     },
     "execution_count": 1232,
     "metadata": {},
     "output_type": "execute_result"
    }
   ],
   "source": [
    "bin(40^2**2)[2:].zfill(8)"
   ]
  },
  {
   "cell_type": "code",
   "execution_count": 1267,
   "id": "2beeb7ff",
   "metadata": {},
   "outputs": [
    {
     "data": {
      "text/plain": [
       "'11010111'"
      ]
     },
     "execution_count": 1267,
     "metadata": {},
     "output_type": "execute_result"
    }
   ],
   "source": [
    "ans = \"\"\n",
    "n = 8\n",
    "for i in (range(8)):\n",
    "#     print(bin(40^2**i)[2:].zfill(8)[n-i-1])\n",
    "    ans = str((bin(40^2**i)[2:].zfill(8)[n-i-1]))+ans\n",
    "ans"
   ]
  },
  {
   "cell_type": "code",
   "execution_count": 1268,
   "id": "3445102f",
   "metadata": {},
   "outputs": [
    {
     "data": {
      "text/plain": [
       "'11011000'"
      ]
     },
     "execution_count": 1268,
     "metadata": {},
     "output_type": "execute_result"
    }
   ],
   "source": [
    "ans = DtoB(BtoD(ans)+1)\n",
    "ans"
   ]
  },
  {
   "cell_type": "code",
   "execution_count": 1269,
   "id": "204dba21",
   "metadata": {},
   "outputs": [
    {
     "data": {
      "text/plain": [
       "128"
      ]
     },
     "execution_count": 1269,
     "metadata": {},
     "output_type": "execute_result"
    }
   ],
   "source": [
    "BtoD(ans[:1].ljust(8,\"0\"))"
   ]
  },
  {
   "cell_type": "code",
   "execution_count": 1270,
   "id": "7dc42737",
   "metadata": {},
   "outputs": [
    {
     "data": {
      "text/plain": [
       "'1011000'"
      ]
     },
     "execution_count": 1270,
     "metadata": {},
     "output_type": "execute_result"
    }
   ],
   "source": [
    "ans[1:]"
   ]
  },
  {
   "cell_type": "code",
   "execution_count": 1272,
   "id": "2710ab06",
   "metadata": {},
   "outputs": [
    {
     "data": {
      "text/plain": [
       "88"
      ]
     },
     "execution_count": 1272,
     "metadata": {},
     "output_type": "execute_result"
    }
   ],
   "source": [
    "BtoD(ans[1:])"
   ]
  },
  {
   "cell_type": "code",
   "execution_count": 1273,
   "id": "4ee50ed0",
   "metadata": {},
   "outputs": [
    {
     "data": {
      "text/plain": [
       "-40"
      ]
     },
     "execution_count": 1273,
     "metadata": {},
     "output_type": "execute_result"
    }
   ],
   "source": [
    "BtoD(ans[1:])-BtoD(ans[:1].ljust(8,\"0\"))"
   ]
  },
  {
   "cell_type": "code",
   "execution_count": null,
   "id": "5919dfae",
   "metadata": {},
   "outputs": [],
   "source": []
  },
  {
   "cell_type": "code",
   "execution_count": 1294,
   "id": "c5c609ed",
   "metadata": {},
   "outputs": [],
   "source": [
    "def binary_rep(N):\n",
    "    if N < 127:        \n",
    "        n = 8\n",
    "    else:\n",
    "        n = 16\n",
    "        \n",
    "    ans = \"\"\n",
    "    \n",
    "    for i in (range(n)):\n",
    "    #     print(bin(40^2**i)[2:].zfill(8)[n-i-1])\n",
    "        ans = str((bin(N^2**i)[2:].zfill(n)[n-i-1]))+ans\n",
    "    ans = DtoB(BtoD(ans)+1)\n",
    "    print(ans)\n",
    "    print(BtoD(ans[1:]))\n",
    "    print(-BtoD(ans[:1].ljust(n,\"0\")))\n",
    "    return BtoD(ans[1:])-BtoD(ans[:1].ljust(n,\"0\"))"
   ]
  },
  {
   "cell_type": "code",
   "execution_count": 1295,
   "id": "b27764c0",
   "metadata": {},
   "outputs": [
    {
     "name": "stdout",
     "output_type": "stream",
     "text": [
      "1111111110000000\n",
      "32640\n",
      "-32768\n"
     ]
    },
    {
     "data": {
      "text/plain": [
       "-128"
      ]
     },
     "execution_count": 1295,
     "metadata": {},
     "output_type": "execute_result"
    }
   ],
   "source": [
    "binary_rep(128)"
   ]
  },
  {
   "cell_type": "code",
   "execution_count": 1296,
   "id": "eabefcc4",
   "metadata": {},
   "outputs": [
    {
     "name": "stdout",
     "output_type": "stream",
     "text": [
      "1111111101111111\n",
      "32639\n",
      "-32768\n"
     ]
    },
    {
     "data": {
      "text/plain": [
       "-129"
      ]
     },
     "execution_count": 1296,
     "metadata": {},
     "output_type": "execute_result"
    }
   ],
   "source": [
    "binary_rep(129)"
   ]
  },
  {
   "cell_type": "code",
   "execution_count": 1308,
   "id": "e95d165a",
   "metadata": {},
   "outputs": [
    {
     "name": "stdout",
     "output_type": "stream",
     "text": [
      "1000000000000000\n",
      "0\n",
      "-32768\n"
     ]
    },
    {
     "data": {
      "text/plain": [
       "-32768"
      ]
     },
     "execution_count": 1308,
     "metadata": {},
     "output_type": "execute_result"
    }
   ],
   "source": [
    "binary_rep(32768)"
   ]
  },
  {
   "cell_type": "code",
   "execution_count": 1307,
   "id": "1a4fc102",
   "metadata": {},
   "outputs": [
    {
     "data": {
      "text/plain": [
       "32768"
      ]
     },
     "execution_count": 1307,
     "metadata": {},
     "output_type": "execute_result"
    }
   ],
   "source": [
    "2**15"
   ]
  },
  {
   "cell_type": "markdown",
   "id": "4bcfb0af",
   "metadata": {},
   "source": [
    "    \n",
    "    steps : \n",
    "    \n",
    "    convert to binary\n",
    "    invert all bits\n",
    "    add 1 \n",
    "    split s[1] and s[:1]\n",
    "    convert to decimal\n",
    "    decimal(s[:1]) - decimal(s[1])\n"
   ]
  },
  {
   "cell_type": "markdown",
   "id": "65aa4d6d",
   "metadata": {},
   "source": [
    "### -1 in binary : "
   ]
  },
  {
   "cell_type": "markdown",
   "id": "bed3d5d4",
   "metadata": {},
   "source": [
    "    -1 : \n",
    "    \n",
    "    00000001\n",
    "    \n",
    "    toggleL:\n",
    "    11111110\n",
    "          +1\n",
    "          \n",
    "           1\n",
    "    \n",
    "    \n",
    "    "
   ]
  },
  {
   "cell_type": "code",
   "execution_count": 343,
   "id": "5486dec0",
   "metadata": {},
   "outputs": [
    {
     "data": {
      "text/plain": [
       "127"
      ]
     },
     "execution_count": 343,
     "metadata": {},
     "output_type": "execute_result"
    }
   ],
   "source": [
    "BtoD(\"1111111\")"
   ]
  },
  {
   "cell_type": "code",
   "execution_count": 344,
   "id": "f964f862",
   "metadata": {},
   "outputs": [
    {
     "data": {
      "text/plain": [
       "128"
      ]
     },
     "execution_count": 344,
     "metadata": {},
     "output_type": "execute_result"
    }
   ],
   "source": [
    "BtoD(\"10000000\")"
   ]
  },
  {
   "cell_type": "code",
   "execution_count": 345,
   "id": "3e471d68",
   "metadata": {},
   "outputs": [
    {
     "data": {
      "text/plain": [
       "-1"
      ]
     },
     "execution_count": 345,
     "metadata": {},
     "output_type": "execute_result"
    }
   ],
   "source": [
    "127-128"
   ]
  },
  {
   "cell_type": "code",
   "execution_count": 346,
   "id": "cda70d08",
   "metadata": {},
   "outputs": [
    {
     "data": {
      "text/plain": [
       "-1"
      ]
     },
     "execution_count": 346,
     "metadata": {},
     "output_type": "execute_result"
    }
   ],
   "source": [
    "# 1   1  1  1 1 1 1 1\n",
    "-128+64+32+16+8+4+2+1"
   ]
  },
  {
   "cell_type": "code",
   "execution_count": null,
   "id": "e677cb8b",
   "metadata": {},
   "outputs": [],
   "source": []
  },
  {
   "cell_type": "markdown",
   "id": "dc44c224",
   "metadata": {},
   "source": [
    "# Modular Arithmatic : "
   ]
  },
  {
   "cell_type": "code",
   "execution_count": 347,
   "id": "63f559f1",
   "metadata": {},
   "outputs": [
    {
     "data": {
      "text/plain": [
       "2"
      ]
     },
     "execution_count": 347,
     "metadata": {},
     "output_type": "execute_result"
    }
   ],
   "source": [
    "100%7"
   ]
  },
  {
   "cell_type": "code",
   "execution_count": 348,
   "id": "32250e8f",
   "metadata": {},
   "outputs": [
    {
     "data": {
      "text/plain": [
       "14.0"
      ]
     },
     "execution_count": 348,
     "metadata": {},
     "output_type": "execute_result"
    }
   ],
   "source": [
    "(100-2)/7"
   ]
  },
  {
   "cell_type": "code",
   "execution_count": 349,
   "id": "6a9ec308",
   "metadata": {},
   "outputs": [
    {
     "data": {
      "text/plain": [
       "True"
      ]
     },
     "execution_count": 349,
     "metadata": {},
     "output_type": "execute_result"
    }
   ],
   "source": [
    "100 == (14*7)+2"
   ]
  },
  {
   "cell_type": "code",
   "execution_count": 350,
   "id": "4f4a1601",
   "metadata": {},
   "outputs": [
    {
     "data": {
      "text/plain": [
       "7"
      ]
     },
     "execution_count": 350,
     "metadata": {},
     "output_type": "execute_result"
    }
   ],
   "source": [
    "150%11"
   ]
  },
  {
   "cell_type": "code",
   "execution_count": null,
   "id": "4dcddcc2",
   "metadata": {},
   "outputs": [],
   "source": []
  },
  {
   "cell_type": "code",
   "execution_count": null,
   "id": "1ac35a8f",
   "metadata": {},
   "outputs": [],
   "source": []
  },
  {
   "cell_type": "code",
   "execution_count": 351,
   "id": "fa38bd9d",
   "metadata": {},
   "outputs": [
    {
     "data": {
      "text/plain": [
       "True"
      ]
     },
     "execution_count": 351,
     "metadata": {},
     "output_type": "execute_result"
    }
   ],
   "source": [
    "150==(11*13)+7"
   ]
  },
  {
   "cell_type": "code",
   "execution_count": null,
   "id": "5811c5ba",
   "metadata": {},
   "outputs": [],
   "source": []
  },
  {
   "cell_type": "code",
   "execution_count": null,
   "id": "f2c75165",
   "metadata": {},
   "outputs": [],
   "source": []
  },
  {
   "cell_type": "markdown",
   "id": "7ac59bcd",
   "metadata": {},
   "source": [
    "    (a+b)%k = ((a%k)+(b%k))%k\n",
    "    \n",
    "    (a*b)%k = ((a%k)*(b%k))%k"
   ]
  },
  {
   "cell_type": "markdown",
   "id": "afd13f26",
   "metadata": {},
   "source": [
    "    (a^b)% M\n",
    "    \n",
    "    \n",
    "    \n",
    "    "
   ]
  },
  {
   "cell_type": "code",
   "execution_count": 352,
   "id": "bc876e2d",
   "metadata": {},
   "outputs": [],
   "source": [
    "a = 5\n",
    "b = 100000\n",
    "M = 97\n"
   ]
  },
  {
   "cell_type": "code",
   "execution_count": 353,
   "id": "2cf15565",
   "metadata": {},
   "outputs": [
    {
     "data": {
      "text/plain": [
       "61"
      ]
     },
     "execution_count": 353,
     "metadata": {},
     "output_type": "execute_result"
    }
   ],
   "source": [
    "ans = 1\n",
    "for i in range(b):\n",
    "    ans = ((ans % M)*(a % M)) % M\n",
    "ans"
   ]
  },
  {
   "cell_type": "code",
   "execution_count": 354,
   "id": "654ba528",
   "metadata": {},
   "outputs": [
    {
     "data": {
      "text/plain": [
       "61"
      ]
     },
     "execution_count": 354,
     "metadata": {},
     "output_type": "execute_result"
    }
   ],
   "source": [
    "(a**b)%M"
   ]
  },
  {
   "cell_type": "code",
   "execution_count": null,
   "id": "8514e613",
   "metadata": {},
   "outputs": [],
   "source": []
  },
  {
   "cell_type": "markdown",
   "id": "bfb28198",
   "metadata": {},
   "source": [
    "     (a^b)%M = ((a%M)*(a^b-1%M))%M"
   ]
  },
  {
   "cell_type": "code",
   "execution_count": null,
   "id": "f3d304d1",
   "metadata": {},
   "outputs": [],
   "source": []
  },
  {
   "cell_type": "markdown",
   "id": "2316410a",
   "metadata": {},
   "source": [
    "###  Excel Column Number\n",
    "\n",
    "### Given a column title as appears in an Excel sheet, return its corresponding column number.\n",
    "\n",
    "    Problem Constraints\n",
    "    1 <= length of the column title <= 5\n",
    "\n",
    "    Input Format\n",
    "    The only argument is a string that represents the column title in the excel sheet.\n",
    "\n",
    "    Output Format\n",
    "    Return a single integer that represents the corresponding column number.\n",
    "\n",
    "    Example Input\n",
    "    Input 1:\n",
    "     AB\n",
    "    Input 2:\n",
    "     BB\n",
    "\n",
    "    Example Output\n",
    "    Output 1:\n",
    "     28\n",
    "    Output 2:\n",
    "     54\n",
    "\n",
    "    Example Explanation\n",
    "    Explanation 1:\n",
    "\n",
    "     A -> 1\n",
    "     B -> 2\n",
    "     C -> 3\n",
    "     ...\n",
    "     Z -> 26\n",
    "     AA -> 27\n",
    "     AB -> 28\n",
    "    Explanation 2:\n",
    "\n",
    "     A -> 1\n",
    "     B -> 2\n",
    "     C -> 3\n",
    "     ...\n",
    "     Z -> 26\n",
    "     AA -> 27\n",
    "     AB -> 28\n",
    "     ...\n",
    "     AZ -> 52\n",
    "     BA -> 53\n",
    "     BB -> 54\n"
   ]
  },
  {
   "cell_type": "code",
   "execution_count": 355,
   "id": "cb386ce1",
   "metadata": {},
   "outputs": [],
   "source": [
    "def titleTONumber(A):\n",
    "    ans = 0\n",
    "    for i in range(len(A)):\n",
    "        ans *= 26\n",
    "        ans += ord(A[i]) - ord(\"A\") + 1\n",
    "        print(ans)\n",
    "    return ans"
   ]
  },
  {
   "cell_type": "code",
   "execution_count": 360,
   "id": "46a9e445",
   "metadata": {},
   "outputs": [
    {
     "name": "stdout",
     "output_type": "stream",
     "text": [
      "2\n",
      "56\n"
     ]
    },
    {
     "data": {
      "text/plain": [
       "56"
      ]
     },
     "execution_count": 360,
     "metadata": {},
     "output_type": "execute_result"
    }
   ],
   "source": [
    "titleTONumber(\"BD\")"
   ]
  },
  {
   "cell_type": "code",
   "execution_count": null,
   "id": "b9248467",
   "metadata": {},
   "outputs": [],
   "source": []
  },
  {
   "cell_type": "markdown",
   "id": "d2a8d45a",
   "metadata": {},
   "source": [
    " ### A, B and Modulo\n",
    " \n",
    " ### Given two integers A and B, find the greatest possible positive integer M,\n",
    " ### such that A % M = B % M.\n",
    "\n"
   ]
  },
  {
   "cell_type": "markdown",
   "id": "ad09dcae",
   "metadata": {},
   "source": [
    "       there possibilities \n",
    "       A > B\n",
    "       B < A\n",
    "       A = B\n",
    "       \n",
    "       LETS TAKE ONE : \n",
    "       A > B : \n",
    "           \n",
    "               B = B\n",
    "               B = A-(A-B)\n",
    "               B%(A-B) = (A-(A-B))%(A-B)\n",
    "               B%(A-B) = ( (A%(A-B)) - ((A-B)%(A-B)) )%(A-B)\n",
    "               B%(A-B) = (A%(A-B))%(A-B) \n",
    "               B%(A-B) = A%(A-B)\n",
    "               \n",
    "               so ! \n",
    "               M = A-B\n",
    "       \n",
    "      \n",
    "       "
   ]
  },
  {
   "cell_type": "code",
   "execution_count": 362,
   "id": "53ca0802",
   "metadata": {},
   "outputs": [],
   "source": [
    "def AandBModulo(A, B):\n",
    "    return abs(A-B)"
   ]
  },
  {
   "cell_type": "code",
   "execution_count": null,
   "id": "3238495b",
   "metadata": {},
   "outputs": [],
   "source": []
  },
  {
   "cell_type": "markdown",
   "id": "13883768",
   "metadata": {},
   "source": [
    "### Leap year? - III\n",
    "\n",
    "### Given an integer A representing a year, Return 1 if it is a leap year else, return 0. A year is a leap year if the following conditions are satisfied: The year is multiple of 400. Else the year is multiple of 4 and not multiple of 100.\n",
    "\n",
    "    Input 1\n",
    "\n",
    "     A = 2020\n",
    "    Input 2:\n",
    "\n",
    "     A = 1999\n",
    "\n",
    "\n",
    "    Example Output\n",
    "    Output 1\n",
    "\n",
    "     1\n",
    "    Output 2:\n",
    "\n",
    "     0\n",
    "\n",
    "\n",
    "    Example Explanation\n",
    "    Explanation 1\n",
    "\n",
    "     2020 is a leap year.\n",
    "    Explanation 2:\n",
    "\n",
    "     1999 is not a leap year.\n",
    "\n"
   ]
  },
  {
   "cell_type": "code",
   "execution_count": 367,
   "id": "03c79cb6",
   "metadata": {},
   "outputs": [],
   "source": [
    "def leapYear(year):\n",
    "    if year % 400 == 0:\n",
    "        return \"LearYear\"\n",
    "    elif year % 4 ==0 and year % 100 != 0:\n",
    "        return \"LeapYear\"\n",
    "    return \"Not a LeapYear\""
   ]
  },
  {
   "cell_type": "code",
   "execution_count": 368,
   "id": "ec2fb149",
   "metadata": {},
   "outputs": [
    {
     "data": {
      "text/plain": [
       "'LeapYear'"
      ]
     },
     "execution_count": 368,
     "metadata": {},
     "output_type": "execute_result"
    }
   ],
   "source": [
    "leapYear(2020)"
   ]
  },
  {
   "cell_type": "code",
   "execution_count": 369,
   "id": "69e0e3d6",
   "metadata": {},
   "outputs": [
    {
     "data": {
      "text/plain": [
       "'Not a LeapYear'"
      ]
     },
     "execution_count": 369,
     "metadata": {},
     "output_type": "execute_result"
    }
   ],
   "source": [
    "leapYear(1991)"
   ]
  },
  {
   "cell_type": "code",
   "execution_count": null,
   "id": "e8b56f06",
   "metadata": {},
   "outputs": [],
   "source": []
  },
  {
   "cell_type": "markdown",
   "id": "cec3c407",
   "metadata": {},
   "source": [
    "## LCM "
   ]
  },
  {
   "cell_type": "code",
   "execution_count": 375,
   "id": "f0d11232",
   "metadata": {},
   "outputs": [
    {
     "name": "stdout",
     "output_type": "stream",
     "text": [
      "36.0\n"
     ]
    }
   ],
   "source": [
    "A = 18\n",
    "B = 12\n",
    "G = 1\n",
    "for i in range(1,min(A,B)+1):\n",
    "    if A % i == 0 and B % i == 0:\n",
    "        G = i\n",
    "    L = (A*B)/G\n",
    "print(L)\n",
    "        "
   ]
  },
  {
   "cell_type": "code",
   "execution_count": 376,
   "id": "c324b3ae",
   "metadata": {},
   "outputs": [
    {
     "data": {
      "text/plain": [
       "36.0"
      ]
     },
     "execution_count": 376,
     "metadata": {},
     "output_type": "execute_result"
    }
   ],
   "source": [
    "(18*12)/6"
   ]
  },
  {
   "cell_type": "code",
   "execution_count": null,
   "id": "73d83631",
   "metadata": {},
   "outputs": [],
   "source": []
  },
  {
   "cell_type": "code",
   "execution_count": null,
   "id": "af755e2f",
   "metadata": {},
   "outputs": [],
   "source": []
  },
  {
   "cell_type": "markdown",
   "id": "015df45f",
   "metadata": {},
   "source": [
    "### One hundred people are standing in a circle in an order 1 to 100. No.1 has a sword. He kills the next person (i.e., no. 2) and gives the sword to the next (i.e., no. 3). All person does the same until only one survives. Which number survives at last?"
   ]
  },
  {
   "cell_type": "code",
   "execution_count": 444,
   "id": "91a41eac",
   "metadata": {},
   "outputs": [
    {
     "data": {
      "text/plain": [
       "68929"
      ]
     },
     "execution_count": 444,
     "metadata": {},
     "output_type": "execute_result"
    }
   ],
   "source": [
    "N = 100000\n",
    "\n",
    "A = [p for p in range(1,N+1)]\n",
    "x = 0\n",
    "while len(A) > 1:\n",
    "    x += 1\n",
    "    x = x % len(A)\n",
    "    del A[x]\n",
    "    \n",
    "A[0]\n",
    "    \n",
    "    "
   ]
  },
  {
   "cell_type": "code",
   "execution_count": null,
   "id": "fc49c9db",
   "metadata": {},
   "outputs": [],
   "source": []
  },
  {
   "cell_type": "code",
   "execution_count": null,
   "id": "2b177d31",
   "metadata": {},
   "outputs": [],
   "source": []
  },
  {
   "cell_type": "code",
   "execution_count": 445,
   "id": "758db892",
   "metadata": {},
   "outputs": [
    {
     "data": {
      "text/plain": [
       "68929"
      ]
     },
     "execution_count": 445,
     "metadata": {},
     "output_type": "execute_result"
    }
   ],
   "source": [
    "N = 100000\n",
    "\n",
    "i = 1\n",
    "\n",
    "while 2**i < N:\n",
    "    i += 1\n",
    "i = 2**(i-1) # person holding the sword\n",
    "\n",
    "killed_people = N-i\n",
    "2*(killed_people)+1"
   ]
  },
  {
   "cell_type": "code",
   "execution_count": null,
   "id": "50d88d25",
   "metadata": {},
   "outputs": [],
   "source": []
  },
  {
   "cell_type": "markdown",
   "id": "64a5bbe7",
   "metadata": {},
   "source": [
    "### Majority Element\n",
    "\n",
    "### Given an array of size N, find the majority element. The majority element is the element that appears more than floor(n/2) times. You may assume that the array is non-empty and the majority element always exists in the array.\n",
    "\n",
    "    Input Format\n",
    "    Only argument is an integer array.\n",
    "    Output Format\n",
    "    Return an integer.\n",
    "    Example Input\n",
    "    [2, 1, 2]\n",
    "    Example Output\n",
    "    2\n",
    "    Example Explanation\n",
    "    2 occurs 2 times which is greater than 3/2.\n"
   ]
  },
  {
   "cell_type": "code",
   "execution_count": null,
   "id": "324b604b",
   "metadata": {},
   "outputs": [],
   "source": [
    "# Majority element -is having frequency > n/2\n",
    "\n"
   ]
  },
  {
   "cell_type": "code",
   "execution_count": 446,
   "id": "861fcc0e",
   "metadata": {},
   "outputs": [
    {
     "data": {
      "text/plain": [
       "6"
      ]
     },
     "execution_count": 446,
     "metadata": {},
     "output_type": "execute_result"
    }
   ],
   "source": [
    "A = [1,6,1,1,2,1]\n",
    "n = len(A)\n",
    "n"
   ]
  },
  {
   "cell_type": "code",
   "execution_count": 448,
   "id": "f6c61703",
   "metadata": {},
   "outputs": [
    {
     "data": {
      "text/plain": [
       "3"
      ]
     },
     "execution_count": 448,
     "metadata": {},
     "output_type": "execute_result"
    }
   ],
   "source": [
    "f = n//2\n",
    "f"
   ]
  },
  {
   "cell_type": "code",
   "execution_count": 449,
   "id": "62c62f50",
   "metadata": {},
   "outputs": [],
   "source": [
    "from collections import Counter"
   ]
  },
  {
   "cell_type": "code",
   "execution_count": 450,
   "id": "3f232438",
   "metadata": {},
   "outputs": [
    {
     "data": {
      "text/plain": [
       "Counter({1: 4, 6: 1, 2: 1})"
      ]
     },
     "execution_count": 450,
     "metadata": {},
     "output_type": "execute_result"
    }
   ],
   "source": [
    "Counter(A)\n",
    "    "
   ]
  },
  {
   "cell_type": "markdown",
   "id": "ebc728a3",
   "metadata": {},
   "source": [
    "    1 is the majority element as its frequency is greater than n//2"
   ]
  },
  {
   "cell_type": "code",
   "execution_count": 451,
   "id": "b144c897",
   "metadata": {},
   "outputs": [],
   "source": [
    "A = [3,4,3,6,1,3,2,5,3,3,3]\n",
    "A = [4,6,5,3,4,5,6,4,4,4]"
   ]
  },
  {
   "cell_type": "code",
   "execution_count": 458,
   "id": "48ae0b75",
   "metadata": {},
   "outputs": [
    {
     "data": {
      "text/plain": [
       "3"
      ]
     },
     "execution_count": 458,
     "metadata": {},
     "output_type": "execute_result"
    }
   ],
   "source": [
    "def MajorityElement(A):\n",
    "    n = len(A)\n",
    "    required_frequency = n//2\n",
    "    \n",
    "    freq = {}\n",
    "    for i in A:\n",
    "        if i in freq:\n",
    "            freq[i] += 1\n",
    "        else:\n",
    "            freq[i] = 1\n",
    "    \n",
    "    \n",
    "    for i in freq:\n",
    "        if freq[i] > required_frequency:\n",
    "            return i\n",
    "    return -1\n",
    "\n",
    "\n",
    "A = [3,4,3,6,1,3,2,5,3,3,3]\n",
    "MajorityElement(A)\n"
   ]
  },
  {
   "cell_type": "code",
   "execution_count": null,
   "id": "7a51d6b1",
   "metadata": {},
   "outputs": [],
   "source": []
  },
  {
   "cell_type": "code",
   "execution_count": null,
   "id": "910ddf43",
   "metadata": {},
   "outputs": [],
   "source": []
  },
  {
   "cell_type": "code",
   "execution_count": 494,
   "id": "dd1af383",
   "metadata": {},
   "outputs": [
    {
     "data": {
      "text/plain": [
       "5"
      ]
     },
     "execution_count": 494,
     "metadata": {},
     "output_type": "execute_result"
    }
   ],
   "source": [
    "def MajorityElement(A):\n",
    "    n = len(A)\n",
    "    \n",
    "    ME = None\n",
    "    freq = 0\n",
    "    \n",
    "    for i in range(n):\n",
    "        \n",
    "        if ME == A[i]:\n",
    "            freq += 1\n",
    "        elif freq == 0:\n",
    "            ME = A[i]\n",
    "            freq = 1\n",
    "        else:\n",
    "            freq -= 1\n",
    "            \n",
    "    f = 0\n",
    "    ans = -1\n",
    "    for i in A:\n",
    "        if i == ME:\n",
    "            f += 1\n",
    "            if f > n//2:\n",
    "                ans = i\n",
    "    return ans\n",
    "    \n",
    "        \n",
    "    \n",
    "\n",
    "\n",
    "A = [3,4,3,5,5,5,5,6,1,3,2,5,5,5,5,5,5,5,3,3,3]\n",
    "MajorityElement(A)\n"
   ]
  },
  {
   "cell_type": "code",
   "execution_count": 493,
   "id": "7d43c534",
   "metadata": {},
   "outputs": [
    {
     "data": {
      "text/plain": [
       "-1"
      ]
     },
     "execution_count": 493,
     "metadata": {},
     "output_type": "execute_result"
    }
   ],
   "source": [
    "\n",
    "A = [3,4,3,5,5,5,6,1,3,2,5,5,5,5,5,5,5,3,3,3]\n",
    "MajorityElement(A)\n"
   ]
  },
  {
   "cell_type": "code",
   "execution_count": 492,
   "id": "cde835e6",
   "metadata": {},
   "outputs": [
    {
     "data": {
      "text/plain": [
       "(Counter({3: 6, 4: 1, 5: 10, 6: 1, 1: 1, 2: 1}), 10)"
      ]
     },
     "execution_count": 492,
     "metadata": {},
     "output_type": "execute_result"
    }
   ],
   "source": [
    "A = [3,4,3,5,5,5,5,6,1,3,2,5,5,5,5,5,5,3,3,3]\n",
    "Counter(A),len(A)//2"
   ]
  },
  {
   "cell_type": "code",
   "execution_count": 482,
   "id": "61b68fe1",
   "metadata": {},
   "outputs": [
    {
     "data": {
      "text/plain": [
       "-1"
      ]
     },
     "execution_count": 482,
     "metadata": {},
     "output_type": "execute_result"
    }
   ],
   "source": [
    "A = [4,6,5,3,4,5,6,4,4,4]\n",
    "MajorityElement(A)\n"
   ]
  },
  {
   "cell_type": "code",
   "execution_count": null,
   "id": "0c6ec8a6",
   "metadata": {},
   "outputs": [],
   "source": []
  },
  {
   "cell_type": "code",
   "execution_count": null,
   "id": "b49fcd61",
   "metadata": {},
   "outputs": [],
   "source": []
  },
  {
   "cell_type": "code",
   "execution_count": null,
   "id": "b0f80c82",
   "metadata": {},
   "outputs": [],
   "source": []
  },
  {
   "cell_type": "markdown",
   "id": "32b67618",
   "metadata": {},
   "source": [
    "### N/3 Repeat Number\n",
    "\n",
    "#### You're given a read-only array of N integers. Find out if any integer occurs more than N/3 times in the array in linear time and constant additional space. If so, return the integer. If not, return -1. If there are multiple solutions, return any one.\n",
    "\n",
    "    Input Format\n",
    "    The only argument is an integer array A.\n",
    "    Output Format\n",
    "    Return an integer.\n",
    "    Example Input\n",
    "    [1 2 3 1 1]\n",
    "\n",
    "    Example Output\n",
    "    1\n",
    "    Example Explanation\n",
    "    1 occurs 3 times which is more than 5/3 times."
   ]
  },
  {
   "cell_type": "code",
   "execution_count": 526,
   "id": "423c6724",
   "metadata": {},
   "outputs": [],
   "source": [
    "def n_by_3_majority(A):\n",
    "    n = len(A)\n",
    "\n",
    "    ME1 = None\n",
    "    f1 = 0\n",
    "\n",
    "    ME2 = None\n",
    "    f2 = 0\n",
    "\n",
    "    for i in range(n):\n",
    "\n",
    "        if ME1 == A[i]:\n",
    "            f1 += 1\n",
    "        elif ME2 == A[i]:\n",
    "            f2 += 1\n",
    "\n",
    "        elif f1 == 0:\n",
    "            f1 += 1\n",
    "            ME1 = A[i]\n",
    "        elif f2 == 0:\n",
    "            f2 += 1\n",
    "            ME2 = A[i]\n",
    "        else:\n",
    "            f1 -= 1\n",
    "            f2 -= 1\n",
    "    \n",
    "    print(ME1,ME2)\n",
    "    \n",
    "    \n",
    "    freq1 = 0\n",
    "    freq2 = 0\n",
    "\n",
    "    for i in range(n):\n",
    "        if A[i]== ME1:\n",
    "            freq1 += 1\n",
    "        elif A[i] == ME2:\n",
    "            freq2 += 1\n",
    "    if freq1 > n/3:\n",
    "        return ME1\n",
    "    if freq2 > n/3:\n",
    "        return ME2\n",
    "    return -1"
   ]
  },
  {
   "cell_type": "code",
   "execution_count": 539,
   "id": "f4dbaf05",
   "metadata": {},
   "outputs": [
    {
     "name": "stdout",
     "output_type": "stream",
     "text": [
      "1 2\n"
     ]
    },
    {
     "data": {
      "text/plain": [
       "-1"
      ]
     },
     "execution_count": 539,
     "metadata": {},
     "output_type": "execute_result"
    }
   ],
   "source": [
    "A = [1,1,2,3,2,1,1,1,2,2,2,2,2,1,1,2,2,1,1,1,2,2,1,2,2,1,1,1,2,3,2,1,5,5,6,8,4,9,8,7,52,43,2,1,5,4,12,3]\n",
    "n_by_3_majority(A)\n"
   ]
  },
  {
   "cell_type": "code",
   "execution_count": 540,
   "id": "5ab07e43",
   "metadata": {},
   "outputs": [
    {
     "data": {
      "text/plain": [
       "(Counter({1: 16,\n",
       "          2: 16,\n",
       "          3: 3,\n",
       "          5: 3,\n",
       "          6: 1,\n",
       "          8: 2,\n",
       "          4: 2,\n",
       "          9: 1,\n",
       "          7: 1,\n",
       "          52: 1,\n",
       "          43: 1,\n",
       "          12: 1}),\n",
       " 16)"
      ]
     },
     "execution_count": 540,
     "metadata": {},
     "output_type": "execute_result"
    }
   ],
   "source": [
    "Counter(A),len(A)//3"
   ]
  },
  {
   "cell_type": "code",
   "execution_count": null,
   "id": "527582be",
   "metadata": {},
   "outputs": [],
   "source": []
  },
  {
   "cell_type": "code",
   "execution_count": null,
   "id": "c89b9aba",
   "metadata": {},
   "outputs": [],
   "source": []
  },
  {
   "cell_type": "code",
   "execution_count": null,
   "id": "419576f6",
   "metadata": {},
   "outputs": [],
   "source": []
  },
  {
   "cell_type": "code",
   "execution_count": 554,
   "id": "2f418cb2",
   "metadata": {},
   "outputs": [],
   "source": [
    "def n_by_4_majority(A):\n",
    "    n = len(A)\n",
    "\n",
    "    ME1 = None\n",
    "    f1 = 0\n",
    "\n",
    "    ME2 = None\n",
    "    f2 = 0\n",
    "    \n",
    "    ME3 = None\n",
    "    f3 = 0\n",
    "\n",
    "    for i in range(n):\n",
    "\n",
    "        if ME1 == A[i]:\n",
    "            f1 += 1\n",
    "        elif ME2 == A[i]:\n",
    "            f2 += 1\n",
    "        elif ME3 == A[i]:\n",
    "            f3 += 1\n",
    "\n",
    "        elif f1 == 0:\n",
    "            f1 += 1\n",
    "            ME1 = A[i]\n",
    "        elif f2 == 0:\n",
    "            f2 += 1\n",
    "            ME2 = A[i]\n",
    "        elif f3 == 0:\n",
    "            f3 += 1\n",
    "            ME3 = A[i]\n",
    "            \n",
    "        else:\n",
    "            f1 -= 1\n",
    "            f2 -= 1\n",
    "            f3 -= 1 \n",
    "    \n",
    "    print(ME1,ME2,ME3)\n",
    "    \n",
    "    \n",
    "    freq1 = 0\n",
    "    freq2 = 0\n",
    "    freq3 = 0\n",
    "\n",
    "    for i in range(n):\n",
    "        if A[i]== ME1:\n",
    "            freq1 += 1\n",
    "        elif A[i] == ME2:\n",
    "            freq2 += 1\n",
    "        elif A[i] == ME3:\n",
    "            freq3 += 1\n",
    "    if freq1 > n/4:\n",
    "        return ME1\n",
    "    if freq2 > n/4:\n",
    "        return ME2\n",
    "    if freq3 > n/4:\n",
    "        return ME3\n",
    "    return -1"
   ]
  },
  {
   "cell_type": "code",
   "execution_count": 555,
   "id": "f902602f",
   "metadata": {},
   "outputs": [
    {
     "name": "stdout",
     "output_type": "stream",
     "text": [
      "1 2 5\n"
     ]
    },
    {
     "data": {
      "text/plain": [
       "5"
      ]
     },
     "execution_count": 555,
     "metadata": {},
     "output_type": "execute_result"
    }
   ],
   "source": [
    "X = [1,1,1,2,2,2,3,3,3,4,4,4,1,2,3,1,2,3,1,2,3,1,2,5,5,5,5,5,5,5,5,5,5,5,5,5]\n",
    "n_by_4_majority(X)"
   ]
  },
  {
   "cell_type": "code",
   "execution_count": 556,
   "id": "4afed3fe",
   "metadata": {},
   "outputs": [
    {
     "data": {
      "text/plain": [
       "(Counter({1: 7, 2: 7, 3: 6, 4: 3, 5: 13}), 9)"
      ]
     },
     "execution_count": 556,
     "metadata": {},
     "output_type": "execute_result"
    }
   ],
   "source": [
    "Counter(X), len(X)//4"
   ]
  },
  {
   "cell_type": "code",
   "execution_count": null,
   "id": "2b583815",
   "metadata": {},
   "outputs": [],
   "source": []
  },
  {
   "cell_type": "code",
   "execution_count": 559,
   "id": "a1763eb9",
   "metadata": {},
   "outputs": [
    {
     "name": "stdout",
     "output_type": "stream",
     "text": [
      "4 2 3\n"
     ]
    },
    {
     "data": {
      "text/plain": [
       "3"
      ]
     },
     "execution_count": 559,
     "metadata": {},
     "output_type": "execute_result"
    }
   ],
   "source": [
    "X = [1,1,1,1,1,1,2,2,2,2,2,2,3,3,3,3,3,3,4,4,4,4,4,4,4,3,3,3,3]\n",
    "n_by_4_majority(X)"
   ]
  },
  {
   "cell_type": "code",
   "execution_count": 560,
   "id": "56f723c7",
   "metadata": {},
   "outputs": [
    {
     "data": {
      "text/plain": [
       "(Counter({1: 6, 2: 6, 3: 10, 4: 7}), 7)"
      ]
     },
     "execution_count": 560,
     "metadata": {},
     "output_type": "execute_result"
    }
   ],
   "source": [
    "Counter(X), len(X)//4"
   ]
  },
  {
   "cell_type": "code",
   "execution_count": null,
   "id": "91d75a8e",
   "metadata": {},
   "outputs": [],
   "source": []
  },
  {
   "cell_type": "code",
   "execution_count": null,
   "id": "752abf71",
   "metadata": {},
   "outputs": [],
   "source": []
  },
  {
   "cell_type": "code",
   "execution_count": null,
   "id": "dc3fd091",
   "metadata": {},
   "outputs": [],
   "source": []
  },
  {
   "cell_type": "markdown",
   "id": "8d61d62a",
   "metadata": {},
   "source": [
    "### There are 100 doors, all closed. In a nearby cage are 100 monkeys.\n",
    "\n",
    "### The first monkey is let out and runs along the doors opening every one. The second monkey is then let out and runs along the doors closing the 2nd, 4th, 6th,… - all the even-numbered doors. The third monkey is let out. He attends only to the 3rd, 6th, 9th,… doors (every third door, in other words), closing any that is open and opening any that is closed, and so on. After all 100 monkeys have done their work in this way, what state are the doors in after the last pass?"
   ]
  },
  {
   "cell_type": "code",
   "execution_count": 578,
   "id": "01d87193",
   "metadata": {},
   "outputs": [],
   "source": []
  },
  {
   "cell_type": "code",
   "execution_count": 605,
   "id": "952e218e",
   "metadata": {},
   "outputs": [
    {
     "name": "stdout",
     "output_type": "stream",
     "text": [
      "[True, True, True, True, True, True, True, True, True, True, True, True]\n",
      "[True, False, True, False, True, False, True, False, True, False, True, False]\n",
      "[True, False, False, False, True, True, True, False, False, False, True, True]\n",
      "[True, False, False, True, True, True, True, True, False, False, True, False]\n",
      "[True, False, False, True, False, True, True, True, False, True, True, False]\n",
      "[True, False, False, True, False, False, True, True, False, True, True, True]\n",
      "[True, False, False, True, False, False, False, True, False, True, True, True]\n",
      "[True, False, False, True, False, False, False, False, False, True, True, True]\n",
      "[True, False, False, True, False, False, False, False, True, True, True, True]\n",
      "[True, False, False, True, False, False, False, False, True, False, True, True]\n",
      "[True, False, False, True, False, False, False, False, True, False, False, True]\n",
      "[True, False, False, True, False, False, False, False, True, False, False, False]\n"
     ]
    },
    {
     "data": {
      "text/plain": [
       "3"
      ]
     },
     "execution_count": 605,
     "metadata": {},
     "output_type": "execute_result"
    }
   ],
   "source": [
    "N = 12\n",
    "A = [False]*N\n",
    "for i in range(1,N+1):\n",
    "    \n",
    "    for j in range(i,N+1,i):\n",
    "        A[j-1]  = not A[j-1]\n",
    "    print(A)\n",
    "c = 0\n",
    "for x in A:\n",
    "    if x== True:\n",
    "        c+= 1 \n",
    "c"
   ]
  },
  {
   "cell_type": "code",
   "execution_count": null,
   "id": "818ecbae",
   "metadata": {},
   "outputs": [],
   "source": [
    "# kkth door at what step will  it be toggled ? \n",
    "# inverting the problem \n",
    "# instead of wht door at each step :we do what step for a particular door\n"
   ]
  },
  {
   "cell_type": "code",
   "execution_count": null,
   "id": "5d74e8ac",
   "metadata": {},
   "outputs": [],
   "source": []
  },
  {
   "cell_type": "code",
   "execution_count": 606,
   "id": "adcbb62e",
   "metadata": {},
   "outputs": [
    {
     "name": "stdout",
     "output_type": "stream",
     "text": [
      "5\n"
     ]
    }
   ],
   "source": [
    "N = 26\n",
    "c = 0\n",
    "i= 1\n",
    "while i*i <=N:\n",
    "    c = c+1\n",
    "    i+=1\n",
    "print(c)"
   ]
  },
  {
   "cell_type": "markdown",
   "id": "218a16ce",
   "metadata": {},
   "source": [
    "    # only the perfect square number doors only will be open \n",
    "    k = 5    1,5        close-open\n",
    "    k = 9    1,3,9      close-open-close-------------------\n",
    "    k = 10   1,2,5,10   close-open-close-open\n",
    "    k = 20   1,2,4,5,10,20  close-open-close-open-close-open\n",
    "    k = 25   1,5,25     close-open-close------------------------\n",
    "    k = 30   1,2,3,5,6,10,15,30     close-open-close-open-close-open-close-open\n",
    "    \n",
    "    \n",
    "    \n"
   ]
  },
  {
   "cell_type": "code",
   "execution_count": null,
   "id": "07ce7d67",
   "metadata": {},
   "outputs": [],
   "source": []
  },
  {
   "cell_type": "markdown",
   "id": "4c3ce4c9",
   "metadata": {},
   "source": [
    "##  Find nth Magic Number\n",
    "\n",
    "### Given an integer A, find and return the Ath magic number. A magic number is defined as a number that can be expressed as a power of 5 or a sum of unique powers of 5. First few magic numbers are 5, 25, 30(5 + 25), 125, 130(125 + 5), ….\n",
    "\n",
    "    Example Input 1:\n",
    "\n",
    "     A = 3\n",
    "    Example Input 2:\n",
    "\n",
    "     A = 10\n",
    "\n",
    "\n",
    "    Example Output\n",
    "    Example Output 1:\n",
    "\n",
    "     30\n",
    "    Example Output 2:\n",
    "\n",
    "     650\n",
    "\n",
    "\n",
    "    Example Explanation\n",
    "    Explanation 1:\n",
    "\n",
    "     Magic Numbers in increasing order are [5, 25, 30, 125, 130, ...]\n",
    "     3rd element in this is 30\n",
    "    Explanation 2:\n",
    "\n",
    "     In the sequence shown in explanation 1, 10th element will be 650.\n"
   ]
  },
  {
   "cell_type": "code",
   "execution_count": 608,
   "id": "2d495ede",
   "metadata": {},
   "outputs": [
    {
     "data": {
      "text/plain": [
       "'1010'"
      ]
     },
     "execution_count": 608,
     "metadata": {},
     "output_type": "execute_result"
    }
   ],
   "source": [
    "A = 10\n",
    "bin(10)[2:]"
   ]
  },
  {
   "cell_type": "code",
   "execution_count": 621,
   "id": "983acad4",
   "metadata": {},
   "outputs": [
    {
     "name": "stdout",
     "output_type": "stream",
     "text": [
      "0\n",
      "1\n",
      "0\n",
      "1\n"
     ]
    },
    {
     "data": {
      "text/plain": [
       "650"
      ]
     },
     "execution_count": 621,
     "metadata": {},
     "output_type": "execute_result"
    }
   ],
   "source": [
    "A = 10\n",
    "ans = 0\n",
    "x = 1\n",
    "S = bin(A)[2:][::-1]\n",
    "for i in S:\n",
    "    print(i)\n",
    "    ans += (int(i)*(5**(x)))\n",
    "    x+= 1\n",
    "ans"
   ]
  },
  {
   "cell_type": "code",
   "execution_count": null,
   "id": "90c8314b",
   "metadata": {},
   "outputs": [],
   "source": []
  },
  {
   "cell_type": "code",
   "execution_count": null,
   "id": "61b567ae",
   "metadata": {},
   "outputs": [],
   "source": []
  },
  {
   "cell_type": "code",
   "execution_count": null,
   "id": "b4bb940d",
   "metadata": {},
   "outputs": [],
   "source": []
  },
  {
   "cell_type": "code",
   "execution_count": null,
   "id": "d5dfadfe",
   "metadata": {},
   "outputs": [],
   "source": []
  },
  {
   "cell_type": "markdown",
   "id": "5ff43b04",
   "metadata": {},
   "source": [
    "### Elements Removal\n",
    "\n",
    "### Given an integer array A of size N. You can remove any element from the array in one operation.  The cost of this operation is the sum of all elements in the array present before this operation.  Find the minimum cost to remove all elements from the array.\n",
    "\n",
    "\n",
    "\n",
    "    Example Input\n",
    "    Input 1:\n",
    "\n",
    "     A = [2, 1]\n",
    "    Input 2:\n",
    "\n",
    "     A = [5]\n",
    "\n",
    "\n",
    "    Example Output\n",
    "    Output 1:\n",
    "\n",
    "     4\n",
    "    Output 2:\n",
    "\n",
    "     5\n",
    "\n",
    "\n",
    "    Example Explanation\n",
    "    Explanation 1:\n",
    "\n",
    "     Given array A = [2, 1]\n",
    "     Remove 2 from the array => [1]. Cost of this operation is (2 + 1) = 3.\n",
    "     Remove 1 from the array => []. Cost of this operation is (1) = 1.\n",
    "     So, total cost is = 3 + 1 = 4.\n",
    "    Explanation 2:\n",
    "\n",
    "     There is only one element in the array. So, cost of removing is 5.\n"
   ]
  },
  {
   "cell_type": "code",
   "execution_count": null,
   "id": "57e003d5",
   "metadata": {},
   "outputs": [],
   "source": []
  },
  {
   "cell_type": "code",
   "execution_count": 623,
   "id": "62c3e41a",
   "metadata": {},
   "outputs": [
    {
     "data": {
      "text/plain": [
       "[5, 3, 1, -3]"
      ]
     },
     "execution_count": 623,
     "metadata": {},
     "output_type": "execute_result"
    }
   ],
   "source": [
    "A = [3,5,1,-3]\n",
    "n = len(A)\n",
    "\n",
    "A = sorted(A,reverse=True)\n",
    "\n",
    "A"
   ]
  },
  {
   "cell_type": "markdown",
   "id": "05482e8e",
   "metadata": {},
   "source": [
    "    [a,b,c,d]\n",
    "    \n",
    "        removal   cost   after_removal\n",
    "            a     a+b+c+d     b,c,d\n",
    "            b       b+c+d     c,d\n",
    "            c         c+d     d\n",
    "            d           d       \n",
    "            \n",
    "                a+2b+3c+4d"
   ]
  },
  {
   "cell_type": "code",
   "execution_count": 627,
   "id": "ac02b413",
   "metadata": {},
   "outputs": [],
   "source": [
    "def element_removal(A):\n",
    "    n = len(A)\n",
    "\n",
    "    A = sorted(A,reverse=True)\n",
    "    \n",
    "    x = 1\n",
    "    ans = 0\n",
    "    for i in A:\n",
    "        ans += i*x\n",
    "        x += 1\n",
    "    return ans"
   ]
  },
  {
   "cell_type": "code",
   "execution_count": 628,
   "id": "1d72c658",
   "metadata": {},
   "outputs": [
    {
     "data": {
      "text/plain": [
       "4"
      ]
     },
     "execution_count": 628,
     "metadata": {},
     "output_type": "execute_result"
    }
   ],
   "source": [
    "element_removal([2,1])"
   ]
  },
  {
   "cell_type": "code",
   "execution_count": 629,
   "id": "a61ca19c",
   "metadata": {},
   "outputs": [
    {
     "data": {
      "text/plain": [
       "2"
      ]
     },
     "execution_count": 629,
     "metadata": {},
     "output_type": "execute_result"
    }
   ],
   "source": [
    "A = [3,5,1,-3]\n",
    "element_removal(A)"
   ]
  },
  {
   "cell_type": "code",
   "execution_count": null,
   "id": "92a17b6a",
   "metadata": {},
   "outputs": [],
   "source": []
  },
  {
   "cell_type": "markdown",
   "id": "680f9334",
   "metadata": {},
   "source": [
    "## Nobel Integer :"
   ]
  },
  {
   "cell_type": "markdown",
   "id": "0a5771ff",
   "metadata": {},
   "source": [
    "### Given an integer array A, find if an integer p exists in the array such that the number of integers greater than p in the array equals p.\n",
    "\n",
    "    Example Input\n",
    "    Input 1:\n",
    "\n",
    "     A = [3, 2, 1, 3]\n",
    "    Input 2:\n",
    "\n",
    "     A = [1, 1, 3, 3]\n",
    "\n",
    "\n",
    "    Example Output\n",
    "    Output 1:\n",
    "\n",
    "     1\n",
    "    Output 2:\n",
    "\n",
    "     -1\n",
    "\n",
    "\n",
    "    Example Explanation\n",
    "    Explanation 1:\n",
    "\n",
    "     For integer 2, there are 2 greater elements in the array..\n",
    "    Explanation 2:\n",
    "\n",
    "     There exist no integer satisfying the required conditions"
   ]
  },
  {
   "cell_type": "code",
   "execution_count": null,
   "id": "dffbf083",
   "metadata": {},
   "outputs": [],
   "source": [
    "# noble integers : x is nobel iff no of element <x == x\n"
   ]
  },
  {
   "cell_type": "markdown",
   "id": "e188709b",
   "metadata": {},
   "source": [
    "    A = [1,-5,3,5,5,-10,4]\n",
    "    #    2  1 3 5 5   0 4    "
   ]
  },
  {
   "cell_type": "markdown",
   "id": "2434f08b",
   "metadata": {},
   "source": [
    "    Count the no of noble integers in the array. \n",
    "    A = [-10, -5, 1, 3, 4, 5, 10]\n",
    "    #     0    1  2  3  4  5   6\n",
    "    \n",
    "    \n",
    "    A = [-10, 1, 1, 3, 100]\n",
    "    #     0   1  1  3    4 \n"
   ]
  },
  {
   "cell_type": "code",
   "execution_count": 633,
   "id": "06c4480d",
   "metadata": {},
   "outputs": [
    {
     "data": {
      "text/plain": [
       "3"
      ]
     },
     "execution_count": 633,
     "metadata": {},
     "output_type": "execute_result"
    }
   ],
   "source": [
    "A  = [-10, -5, 1, 3, 4, 5, 10]\n",
    "n = len(A)\n",
    "c = 0\n",
    "for i in range(n):\n",
    "    less_count = 0\n",
    "    for j in range(n):\n",
    "        if A[j] < A[i]:\n",
    "            less_count += 1\n",
    "    if less_count == A[i]:\n",
    "        c += 1\n",
    "c"
   ]
  },
  {
   "cell_type": "code",
   "execution_count": null,
   "id": "c50c72de",
   "metadata": {},
   "outputs": [],
   "source": []
  },
  {
   "cell_type": "markdown",
   "id": "d5b02c54",
   "metadata": {},
   "source": [
    "    A = [-10,-5,1,3,4,5,10]  # if we sort array ~ incaase of  non repeating array : \n",
    "    #      0  1 2 3 4 5  6               count(x == i)\n",
    "    A = [-10,-5,1,3,4,4,5,5,10]     # in case of repeating elements \n",
    "    #      0  1 2 3 4 4 6 6 8"
   ]
  },
  {
   "cell_type": "markdown",
   "id": "68a1e754",
   "metadata": {},
   "source": [
    "       [ -10  1 1 2 4 4 4 8 10]\n",
    "          0   1 1 3 4 4 4 7 8 "
   ]
  },
  {
   "cell_type": "code",
   "execution_count": 636,
   "id": "a1bc54b6",
   "metadata": {},
   "outputs": [
    {
     "data": {
      "text/plain": [
       "5"
      ]
     },
     "execution_count": 636,
     "metadata": {},
     "output_type": "execute_result"
    }
   ],
   "source": [
    "A = [-10,1,1,2,4,4,4,8,10]\n",
    "\n",
    "A = sorted(A)\n",
    "n = len(A)\n",
    "nobelCount = 0\n",
    "prev = None\n",
    "prev_i = None\n",
    "for i in range(n):\n",
    "    if A[i] == prev:\n",
    "        less = prev_i\n",
    "    else:\n",
    "        less = i\n",
    "        prev = A[i]\n",
    "        prev_i = i\n",
    "        \n",
    "    if less == A[i]:\n",
    "        nobelCount += 1\n",
    "nobelCount\n",
    "\n",
    "    "
   ]
  },
  {
   "cell_type": "code",
   "execution_count": null,
   "id": "f9901d91",
   "metadata": {},
   "outputs": [],
   "source": []
  },
  {
   "cell_type": "code",
   "execution_count": null,
   "id": "db2c5e61",
   "metadata": {},
   "outputs": [],
   "source": []
  },
  {
   "cell_type": "markdown",
   "id": "05049c3b",
   "metadata": {},
   "source": [
    "## Comparator :"
   ]
  },
  {
   "cell_type": "code",
   "execution_count": 637,
   "id": "4e25b3da",
   "metadata": {},
   "outputs": [],
   "source": [
    "from functools import cmp_to_key"
   ]
  },
  {
   "cell_type": "code",
   "execution_count": 643,
   "id": "24371221",
   "metadata": {},
   "outputs": [
    {
     "data": {
      "text/plain": [
       "[3, 4, -5, 5, 6, -10, 10, -44]"
      ]
     },
     "execution_count": 643,
     "metadata": {},
     "output_type": "execute_result"
    }
   ],
   "source": [
    "N = [-10,3,-5,6,10,4,5,-44]\n",
    "\n",
    "def abs_comparator(a,b):\n",
    "    if abs(a) < abs(b):\n",
    "        return -1\n",
    "    elif abs(a) > abs(b):\n",
    "        return 1\n",
    "    else:\n",
    "        return 0\n",
    "\n",
    "sorted_N = sorted(N,\n",
    "                  key = cmp_to_key(abs_comparator))\n",
    "sorted_N"
   ]
  },
  {
   "cell_type": "code",
   "execution_count": 646,
   "id": "7c025864",
   "metadata": {},
   "outputs": [
    {
     "data": {
      "text/plain": [
       "0"
      ]
     },
     "execution_count": 646,
     "metadata": {},
     "output_type": "execute_result"
    }
   ],
   "source": [
    "abs_comparator(-5,5)"
   ]
  },
  {
   "cell_type": "code",
   "execution_count": 647,
   "id": "12a807f4",
   "metadata": {},
   "outputs": [
    {
     "data": {
      "text/plain": [
       "1"
      ]
     },
     "execution_count": 647,
     "metadata": {},
     "output_type": "execute_result"
    }
   ],
   "source": [
    "abs_comparator(-10,5)"
   ]
  },
  {
   "cell_type": "code",
   "execution_count": 644,
   "id": "7ea0dce5",
   "metadata": {},
   "outputs": [
    {
     "data": {
      "text/plain": [
       "[3, 4, 5, -5, 6, -10, 10, -44]"
      ]
     },
     "execution_count": 644,
     "metadata": {},
     "output_type": "execute_result"
    }
   ],
   "source": [
    "N = [-10,3,5,6,10,4,-5,-44]\n",
    "sorted_N = sorted(N,\n",
    "                  key = cmp_to_key(abs_comparator))\n",
    "sorted_N"
   ]
  },
  {
   "cell_type": "code",
   "execution_count": null,
   "id": "5edc4ef0",
   "metadata": {},
   "outputs": [],
   "source": []
  },
  {
   "cell_type": "code",
   "execution_count": null,
   "id": "4ed166c8",
   "metadata": {},
   "outputs": [],
   "source": []
  },
  {
   "cell_type": "code",
   "execution_count": 653,
   "id": "007c0303",
   "metadata": {},
   "outputs": [],
   "source": [
    "strs = [\"apple\",\"boy\",\"dog\",\"god\",\"om\",\"elephant\",\"scaler\",\"a\"]\n"
   ]
  },
  {
   "cell_type": "code",
   "execution_count": 654,
   "id": "c6af7158",
   "metadata": {},
   "outputs": [
    {
     "data": {
      "text/plain": [
       "['a', 'om', 'boy', 'dog', 'god', 'apple', 'scaler', 'elephant']"
      ]
     },
     "execution_count": 654,
     "metadata": {},
     "output_type": "execute_result"
    }
   ],
   "source": [
    "sorted(strs,key = len)"
   ]
  },
  {
   "cell_type": "code",
   "execution_count": null,
   "id": "67eebc4d",
   "metadata": {},
   "outputs": [],
   "source": []
  },
  {
   "cell_type": "code",
   "execution_count": null,
   "id": "60db6565",
   "metadata": {},
   "outputs": [],
   "source": []
  },
  {
   "cell_type": "code",
   "execution_count": null,
   "id": "18c25acd",
   "metadata": {},
   "outputs": [],
   "source": []
  },
  {
   "cell_type": "code",
   "execution_count": null,
   "id": "7a4670ba",
   "metadata": {},
   "outputs": [],
   "source": []
  },
  {
   "cell_type": "code",
   "execution_count": null,
   "id": "f600cb46",
   "metadata": {},
   "outputs": [],
   "source": []
  },
  {
   "cell_type": "code",
   "execution_count": null,
   "id": "42ceb4e1",
   "metadata": {},
   "outputs": [],
   "source": []
  },
  {
   "cell_type": "code",
   "execution_count": 670,
   "id": "616ec65b",
   "metadata": {},
   "outputs": [],
   "source": [
    "strs = [\"apple\",\"mapple\",\"kaggle\",\"god\",\"elephant\",\"scaler\",\"a\",\"xapper\",\"zapper\"]\n"
   ]
  },
  {
   "cell_type": "code",
   "execution_count": 671,
   "id": "a030eda2",
   "metadata": {},
   "outputs": [],
   "source": [
    "def value_of_strs(S):\n",
    "    total = 0\n",
    "    for l in S:\n",
    "        total += ord(l)\n",
    "    return total"
   ]
  },
  {
   "cell_type": "code",
   "execution_count": 672,
   "id": "df61a920",
   "metadata": {},
   "outputs": [],
   "source": [
    "def value_of_strs(S):\n",
    "    return sum(map(ord,S))"
   ]
  },
  {
   "cell_type": "code",
   "execution_count": 673,
   "id": "82496918",
   "metadata": {},
   "outputs": [
    {
     "data": {
      "text/plain": [
       "['a',\n",
       " 'god',\n",
       " 'apple',\n",
       " 'kaggle',\n",
       " 'scaler',\n",
       " 'mapple',\n",
       " 'xapper',\n",
       " 'zapper',\n",
       " 'elephant']"
      ]
     },
     "execution_count": 673,
     "metadata": {},
     "output_type": "execute_result"
    }
   ],
   "source": [
    "# sorted by ascii values sum\n",
    "sorted(strs,key = value_of_strs)"
   ]
  },
  {
   "cell_type": "code",
   "execution_count": null,
   "id": "1dd625d3",
   "metadata": {},
   "outputs": [],
   "source": []
  },
  {
   "cell_type": "code",
   "execution_count": null,
   "id": "9832a21a",
   "metadata": {},
   "outputs": [],
   "source": []
  },
  {
   "cell_type": "code",
   "execution_count": null,
   "id": "f9f98591",
   "metadata": {},
   "outputs": [],
   "source": []
  },
  {
   "cell_type": "markdown",
   "id": "eb4d59cf",
   "metadata": {},
   "source": [
    "### Sort by Color\n",
    "### Given an array with N objects colored red, white, or blue, sort them so that objects of the same color are adjacent, with the colors in the order red, white, and blue.  We will use the integers 0, 1, and 2 to represent red, white, and blue, respectively.\n",
    "\n",
    "Note: Using the library sort function is not allowed."
   ]
  },
  {
   "cell_type": "markdown",
   "id": "68223191",
   "metadata": {},
   "source": [
    "        Input 1 :\n",
    "        A = [0 1 2 0 1 2]\n",
    "    Input 2:\n",
    "\n",
    "        A = [0]\n",
    "\n",
    "\n",
    "    Example Output\n",
    "    Output 1:\n",
    "        [0 0 1 1 2 2]\n",
    "    Output 2:\n",
    "\n",
    "        [0]\n",
    "\n",
    "\n",
    "    Example Explanation\n",
    "    Explanation 1:\n",
    "        [0 0 1 1 2 2] is the required order."
   ]
  },
  {
   "cell_type": "code",
   "execution_count": 681,
   "id": "28ba6513",
   "metadata": {},
   "outputs": [
    {
     "data": {
      "text/plain": [
       "[0, 0, 1, 1, 2, 2]"
      ]
     },
     "execution_count": 681,
     "metadata": {},
     "output_type": "execute_result"
    }
   ],
   "source": [
    "A = [0,1,2,0,1,2]\n",
    "\n",
    "red,white,blue=0,1,2 \n",
    "ans = []\n",
    "for i in A:\n",
    "    if i == 0:\n",
    "        ans.append(i)\n",
    "for i in A:\n",
    "    if i == 1:\n",
    "        ans.append(i)\n",
    "for i in A:\n",
    "    if i == 2:\n",
    "        ans.append(i)\n",
    "ans\n",
    "        "
   ]
  },
  {
   "cell_type": "code",
   "execution_count": null,
   "id": "7540b47d",
   "metadata": {},
   "outputs": [],
   "source": []
  },
  {
   "cell_type": "code",
   "execution_count": null,
   "id": "852ada40",
   "metadata": {},
   "outputs": [],
   "source": []
  },
  {
   "cell_type": "markdown",
   "id": "0ba1ce42",
   "metadata": {},
   "source": [
    "###  Arithmetic Progression?\n",
    "\n",
    "### Given an integer array A of size N. Return 1 if the array can be arranged to form an arithmetic progression, otherwise return 0.  A sequence of numbers is called an arithmetic progression if the difference between any two consecutive elements is the same.\n",
    "\n"
   ]
  },
  {
   "cell_type": "code",
   "execution_count": 692,
   "id": "2cc66660",
   "metadata": {},
   "outputs": [],
   "source": [
    "A = [3,7, 5,-3 ,1,-1]\n",
    "n = len(A)"
   ]
  },
  {
   "cell_type": "code",
   "execution_count": 693,
   "id": "8014b775",
   "metadata": {},
   "outputs": [
    {
     "data": {
      "text/plain": [
       "[-3, -1, 1, 3, 5, 7]"
      ]
     },
     "execution_count": 693,
     "metadata": {},
     "output_type": "execute_result"
    }
   ],
   "source": [
    "A = sorted(A)\n",
    "A"
   ]
  },
  {
   "cell_type": "code",
   "execution_count": 694,
   "id": "0757496d",
   "metadata": {},
   "outputs": [
    {
     "data": {
      "text/plain": [
       "2"
      ]
     },
     "execution_count": 694,
     "metadata": {},
     "output_type": "execute_result"
    }
   ],
   "source": [
    "difference  = A[1]-A[0]\n",
    "difference"
   ]
  },
  {
   "cell_type": "code",
   "execution_count": 695,
   "id": "2a96269c",
   "metadata": {},
   "outputs": [
    {
     "data": {
      "text/plain": [
       "True"
      ]
     },
     "execution_count": 695,
     "metadata": {},
     "output_type": "execute_result"
    }
   ],
   "source": [
    "for i in range(n-1):\n",
    "    is_arithmatic_progression = True\n",
    "    if abs(A[i]-A[i+1]) != difference:\n",
    "        is_arithmatic_progression = False\n",
    "        break\n",
    "is_arithmatic_progression\n",
    "        \n",
    "        "
   ]
  },
  {
   "cell_type": "code",
   "execution_count": 697,
   "id": "562a9f5b",
   "metadata": {},
   "outputs": [
    {
     "data": {
      "text/plain": [
       "False"
      ]
     },
     "execution_count": 697,
     "metadata": {},
     "output_type": "execute_result"
    }
   ],
   "source": [
    "def is_arithmatic_progression(A):\n",
    "    n = len(A)\n",
    "    A = sorted(A)\n",
    "    difference  = A[1]-A[0]\n",
    "    for i in range(n-1):\n",
    "        is_arithmatic_progression = True\n",
    "        if abs(A[i]-A[i+1]) != difference:\n",
    "            is_arithmatic_progression = False\n",
    "            break\n",
    "    return is_arithmatic_progression\n",
    "\n",
    "        \n",
    "    \n",
    "\n",
    "A = [3,7, 5,4,-3 ,1,-1]\n",
    "is_arithmatic_progression(A)"
   ]
  },
  {
   "cell_type": "code",
   "execution_count": null,
   "id": "125f2f18",
   "metadata": {},
   "outputs": [],
   "source": []
  },
  {
   "cell_type": "code",
   "execution_count": null,
   "id": "259f466d",
   "metadata": {},
   "outputs": [],
   "source": []
  },
  {
   "cell_type": "markdown",
   "id": "0374c168",
   "metadata": {},
   "source": [
    "###  Largest Number\n",
    "\n",
    "\n",
    "### Given an array A of non-negative integers, arrange them such that they form the largest number. \n",
    "    Input Format\n",
    "    The first argument is an array of integers.\n",
    "\n",
    "    Output Format\n",
    "    Return a string representing the largest number.\n",
    "\n",
    "    Example Input\n",
    "    Input 1:\n",
    "\n",
    "     A = [3, 30, 34, 5, 9]\n",
    "    Input 2:\n",
    "\n",
    "     A = [2, 3, 9, 0]\n",
    "\n",
    "    Example Output\n",
    "    Output 1:\n",
    "\n",
    "     \"9534330\"\n",
    "    Output 2:\n",
    "\n",
    "     \"9320\"\n",
    "\n",
    "    Example Explanation\n",
    "    Explanation 1:\n",
    "\n",
    "    Reorder the numbers to [9, 5, 34, 3, 30] to form the largest number.\n",
    "    Explanation 2:\n",
    "\n",
    "    Reorder the numbers to [9, 3, 2, 0] to form the largest number 9320."
   ]
  },
  {
   "cell_type": "code",
   "execution_count": 716,
   "id": "44edaab1",
   "metadata": {},
   "outputs": [
    {
     "data": {
      "text/plain": [
       "'9534330'"
      ]
     },
     "execution_count": 716,
     "metadata": {},
     "output_type": "execute_result"
    }
   ],
   "source": [
    "def Largest_Number(A):\n",
    "    from functools import cmp_to_key\n",
    "    n = len(A)\n",
    "    \n",
    "    def comparator(a,b):\n",
    "        x = int(str(a)+str(b))\n",
    "        y = int(str(b)+str(a))\n",
    "        \n",
    "        if x < y :\n",
    "            return 1\n",
    "        elif x > y:\n",
    "            return -1\n",
    "        else:\n",
    "            return 0\n",
    "    AA = sorted(A, key = cmp_to_key(comparator))\n",
    "    \n",
    "    ans = \"\"\n",
    "    for i in AA:\n",
    "        ans = ans + str(i)\n",
    "    return ans\n",
    "    \n",
    "    for i in range(len(ans)):\n",
    "            if ans[i] == '0':\n",
    "                return 0\n",
    "            else:\n",
    "                return ans \n",
    "    \n",
    "\n",
    "    \n",
    "A = [3, 30, 34, 5, 9]\n",
    "Largest_Number(A)"
   ]
  },
  {
   "cell_type": "markdown",
   "id": "af0e9821",
   "metadata": {},
   "source": [
    "## Factor Counts"
   ]
  },
  {
   "cell_type": "code",
   "execution_count": 743,
   "id": "3eeedaf2",
   "metadata": {},
   "outputs": [
    {
     "data": {
      "text/plain": [
       "6"
      ]
     },
     "execution_count": 743,
     "metadata": {},
     "output_type": "execute_result"
    }
   ],
   "source": [
    "def count_factors(N):\n",
    "    \n",
    "    i = 1\n",
    "    factor_count = 0\n",
    "    while i*i <= N:\n",
    "        \n",
    "        if N % i == 0:\n",
    "            if i*i == N:\n",
    "                factor_count += 1\n",
    "            else:\n",
    "                factor_count += 2\n",
    "        i += 1\n",
    "    return factor_count\n",
    "count_factors(12)"
   ]
  },
  {
   "cell_type": "code",
   "execution_count": 744,
   "id": "c2c64560",
   "metadata": {},
   "outputs": [
    {
     "data": {
      "text/plain": [
       "[0, 1, 2, 3, 4, 5, 6, 7, 8, 9, 10, 11, 12, 13, 14, 15, 16, 17, 18, 19]"
      ]
     },
     "execution_count": 744,
     "metadata": {},
     "output_type": "execute_result"
    }
   ],
   "source": [
    "items = list(range(20))\n",
    "items"
   ]
  },
  {
   "cell_type": "code",
   "execution_count": 747,
   "id": "912e4589",
   "metadata": {},
   "outputs": [
    {
     "data": {
      "text/plain": [
       "[12, 18, 16, 6, 8, 10, 14, 15, 4, 9, 2, 3, 5, 7, 11, 13, 17, 19, 1, 0]"
      ]
     },
     "execution_count": 747,
     "metadata": {},
     "output_type": "execute_result"
    }
   ],
   "source": [
    "def factor_count_comparator(a,b):\n",
    "    A = count_factors(a)\n",
    "    B = count_factors(b)\n",
    "    \n",
    "    if A < B:\n",
    "        return 1\n",
    "    elif A > B:\n",
    "        return -1\n",
    "    else:\n",
    "        return 0\n",
    "sort_by_factor_count = sorted(items,key = cmp_to_key(factor_count_comparator))\n",
    "sort_by_factor_count"
   ]
  },
  {
   "cell_type": "code",
   "execution_count": 749,
   "id": "47f6b876",
   "metadata": {},
   "outputs": [
    {
     "data": {
      "text/plain": [
       "[12, 18, 16, 6, 8, 10, 14, 15, 4, 9, 2, 3, 5, 7, 11, 13, 17, 19, 1, 0]"
      ]
     },
     "execution_count": 749,
     "metadata": {},
     "output_type": "execute_result"
    }
   ],
   "source": [
    "sorted(items,key= count_factors,reverse=True)"
   ]
  },
  {
   "cell_type": "code",
   "execution_count": null,
   "id": "1bc4fe3f",
   "metadata": {},
   "outputs": [],
   "source": []
  },
  {
   "cell_type": "code",
   "execution_count": null,
   "id": "8ce0c445",
   "metadata": {},
   "outputs": [],
   "source": []
  },
  {
   "cell_type": "code",
   "execution_count": null,
   "id": "54a8c0e8",
   "metadata": {},
   "outputs": [],
   "source": []
  },
  {
   "cell_type": "code",
   "execution_count": null,
   "id": "b604950a",
   "metadata": {},
   "outputs": [],
   "source": []
  },
  {
   "cell_type": "code",
   "execution_count": null,
   "id": "2adfca96",
   "metadata": {},
   "outputs": [],
   "source": []
  },
  {
   "cell_type": "code",
   "execution_count": null,
   "id": "c226d0d6",
   "metadata": {},
   "outputs": [],
   "source": []
  },
  {
   "cell_type": "code",
   "execution_count": 717,
   "id": "e776f56c",
   "metadata": {},
   "outputs": [
    {
     "data": {
      "text/plain": [
       "65"
      ]
     },
     "execution_count": 717,
     "metadata": {},
     "output_type": "execute_result"
    }
   ],
   "source": [
    "ord(\"A\")"
   ]
  },
  {
   "cell_type": "code",
   "execution_count": 718,
   "id": "5f791734",
   "metadata": {
    "scrolled": true
   },
   "outputs": [
    {
     "data": {
      "text/plain": [
       "'A'"
      ]
     },
     "execution_count": 718,
     "metadata": {},
     "output_type": "execute_result"
    }
   ],
   "source": [
    "chr(65)"
   ]
  },
  {
   "cell_type": "code",
   "execution_count": null,
   "id": "46434d2a",
   "metadata": {},
   "outputs": [],
   "source": []
  },
  {
   "cell_type": "code",
   "execution_count": 750,
   "id": "f2cc1f10",
   "metadata": {},
   "outputs": [],
   "source": [
    "A = \"the sky is blue\""
   ]
  },
  {
   "cell_type": "code",
   "execution_count": 751,
   "id": "fd00b157",
   "metadata": {},
   "outputs": [
    {
     "data": {
      "text/plain": [
       "['the', 'sky', 'is', 'blue']"
      ]
     },
     "execution_count": 751,
     "metadata": {},
     "output_type": "execute_result"
    }
   ],
   "source": [
    "A.split()"
   ]
  },
  {
   "cell_type": "code",
   "execution_count": 753,
   "id": "bac0ae33",
   "metadata": {},
   "outputs": [
    {
     "data": {
      "text/plain": [
       "['blue', 'is', 'sky', 'the']"
      ]
     },
     "execution_count": 753,
     "metadata": {},
     "output_type": "execute_result"
    }
   ],
   "source": [
    "A.split()[::-1]"
   ]
  },
  {
   "cell_type": "code",
   "execution_count": 755,
   "id": "5e437535",
   "metadata": {},
   "outputs": [
    {
     "data": {
      "text/plain": [
       "'blue is sky the'"
      ]
     },
     "execution_count": 755,
     "metadata": {},
     "output_type": "execute_result"
    }
   ],
   "source": [
    "\" \".join(A.split()[::-1])"
   ]
  },
  {
   "cell_type": "code",
   "execution_count": null,
   "id": "cea3e236",
   "metadata": {},
   "outputs": [],
   "source": []
  },
  {
   "cell_type": "markdown",
   "id": "cd26dc4f",
   "metadata": {},
   "source": [
    "## To lower"
   ]
  },
  {
   "cell_type": "code",
   "execution_count": 757,
   "id": "0ad54439",
   "metadata": {},
   "outputs": [
    {
     "data": {
      "text/plain": [
       "['S', 'C', 'A', 'L', 'E', 'R', '_', 'a', 'c', 'a', 'd', 'e', 'm', 'y', ' ']"
      ]
     },
     "execution_count": 757,
     "metadata": {},
     "output_type": "execute_result"
    }
   ],
   "source": [
    "S = \"SCALER_academy \"\n",
    "\n",
    "listS = list(S)\n",
    "listS"
   ]
  },
  {
   "cell_type": "code",
   "execution_count": 758,
   "id": "30915306",
   "metadata": {},
   "outputs": [
    {
     "data": {
      "text/plain": [
       "['s', 'c', 'a', 'l', 'e', 'r', '_', 'a', 'c', 'a', 'd', 'e', 'm', 'y', ' ']"
      ]
     },
     "execution_count": 758,
     "metadata": {},
     "output_type": "execute_result"
    }
   ],
   "source": [
    "for i,x in enumerate(listS):\n",
    "    code = ord(x)\n",
    "    if 65 <= code <= 90:\n",
    "        listS[i] = chr(code+32)\n",
    "listS"
   ]
  },
  {
   "cell_type": "code",
   "execution_count": 760,
   "id": "491bb90f",
   "metadata": {},
   "outputs": [
    {
     "data": {
      "text/plain": [
       "'scaler_academy '"
      ]
     },
     "execution_count": 760,
     "metadata": {},
     "output_type": "execute_result"
    }
   ],
   "source": [
    "\"\".join(listS)"
   ]
  },
  {
   "cell_type": "markdown",
   "id": "d3606481",
   "metadata": {},
   "source": [
    "## To upper"
   ]
  },
  {
   "cell_type": "code",
   "execution_count": null,
   "id": "a630d6ca",
   "metadata": {},
   "outputs": [],
   "source": [
    "S = \"SCALER_academy \"\n",
    "\n",
    "listS = list(S)\n",
    "listS"
   ]
  },
  {
   "cell_type": "code",
   "execution_count": 761,
   "id": "26f36fc4",
   "metadata": {},
   "outputs": [
    {
     "data": {
      "text/plain": [
       "['S', 'C', 'A', 'L', 'E', 'R', '_', 'A', 'C', 'A', 'D', 'E', 'M', 'Y', ' ']"
      ]
     },
     "execution_count": 761,
     "metadata": {},
     "output_type": "execute_result"
    }
   ],
   "source": [
    "for i,x in enumerate(listS):\n",
    "    code = ord(x)\n",
    "    if 97 <= code <= 122:\n",
    "        listS[i] = chr(code-32)\n",
    "listS"
   ]
  },
  {
   "cell_type": "code",
   "execution_count": 762,
   "id": "2b31729d",
   "metadata": {},
   "outputs": [
    {
     "data": {
      "text/plain": [
       "'SCALER_ACADEMY '"
      ]
     },
     "execution_count": 762,
     "metadata": {},
     "output_type": "execute_result"
    }
   ],
   "source": [
    "\"\".join(listS)"
   ]
  },
  {
   "cell_type": "code",
   "execution_count": null,
   "id": "c07bf0e2",
   "metadata": {},
   "outputs": [],
   "source": []
  },
  {
   "cell_type": "code",
   "execution_count": null,
   "id": "9b746882",
   "metadata": {},
   "outputs": [],
   "source": []
  },
  {
   "cell_type": "markdown",
   "id": "458fef9d",
   "metadata": {},
   "source": [
    "## toggle case: \n"
   ]
  },
  {
   "cell_type": "code",
   "execution_count": 730,
   "id": "799cdcea",
   "metadata": {},
   "outputs": [
    {
     "data": {
      "text/plain": [
       "'i AM sCALER sTUDENT'"
      ]
     },
     "execution_count": 730,
     "metadata": {},
     "output_type": "execute_result"
    }
   ],
   "source": [
    "S = \"I am Scaler Student\"\n",
    "def togglecase(S):\n",
    "    n = len(S)\n",
    "    listring = list(S)\n",
    "    for i in range(len(listring)):\n",
    "        code = ord(S[i])\n",
    "        ans = []\n",
    "        if 97 <= code <= 122:\n",
    "            listring[i] = chr(code-32)\n",
    "        elif 65 <= code <= 90:\n",
    "            listring[i] = chr(code+32)\n",
    "\n",
    "\n",
    "    return \"\".join(listring)\n",
    "togglecase(S)"
   ]
  },
  {
   "cell_type": "code",
   "execution_count": 732,
   "id": "7901e862",
   "metadata": {},
   "outputs": [
    {
     "data": {
      "text/plain": [
       "'hElOlO = ! IS THERE Anybody OUTthERE !! __ S@#$%^'"
      ]
     },
     "execution_count": 732,
     "metadata": {},
     "output_type": "execute_result"
    }
   ],
   "source": [
    "togglecase(\"HeLoLo = ! is there aNYBODY outTHere !! __ s@#$%^\")"
   ]
  },
  {
   "cell_type": "code",
   "execution_count": null,
   "id": "e68f3fbb",
   "metadata": {},
   "outputs": [],
   "source": []
  },
  {
   "cell_type": "code",
   "execution_count": 733,
   "id": "1cc0708b",
   "metadata": {},
   "outputs": [
    {
     "data": {
      "text/plain": [
       "'i AM sCALER sTUDENT'"
      ]
     },
     "execution_count": 733,
     "metadata": {},
     "output_type": "execute_result"
    }
   ],
   "source": [
    "S = \"I am Scaler Student\"\n",
    "def togglecase(S):\n",
    "    n = len(S)\n",
    "    listring = list(S)\n",
    "    for i in range(len(listring)):\n",
    "        code = ord(S[i])\n",
    "        ans = []\n",
    "        if (97 <= code <= 122) or  (65 <= code <= 90):\n",
    "            listring[i] = chr(code^32)\n",
    "        \n",
    "\n",
    "    return \"\".join(listring)\n",
    "togglecase(S)"
   ]
  },
  {
   "cell_type": "code",
   "execution_count": null,
   "id": "85ae9687",
   "metadata": {},
   "outputs": [],
   "source": []
  },
  {
   "cell_type": "code",
   "execution_count": null,
   "id": "04db4e9a",
   "metadata": {},
   "outputs": [],
   "source": []
  },
  {
   "cell_type": "code",
   "execution_count": null,
   "id": "b3bed131",
   "metadata": {},
   "outputs": [],
   "source": []
  },
  {
   "cell_type": "code",
   "execution_count": null,
   "id": "5d601625",
   "metadata": {},
   "outputs": [],
   "source": []
  },
  {
   "cell_type": "markdown",
   "id": "9acf4a69",
   "metadata": {},
   "source": [
    "## Is palindrome:"
   ]
  },
  {
   "cell_type": "code",
   "execution_count": 763,
   "id": "5521c179",
   "metadata": {},
   "outputs": [],
   "source": [
    "S = \"malayalam\"\n"
   ]
  },
  {
   "cell_type": "code",
   "execution_count": 769,
   "id": "ce34a074",
   "metadata": {},
   "outputs": [],
   "source": [
    "def ispalidrome(S):\n",
    "    start = 0\n",
    "    end = len(S)-1\n",
    "    palindrome  = True\n",
    "    while start < end:\n",
    "        if S[start] != S[end]:\n",
    "            palindrome = False\n",
    "            break\n",
    "        start += 1\n",
    "        end -= 1\n",
    "    return palindrome"
   ]
  },
  {
   "cell_type": "code",
   "execution_count": 770,
   "id": "4896f9bd",
   "metadata": {},
   "outputs": [
    {
     "data": {
      "text/plain": [
       "True"
      ]
     },
     "execution_count": 770,
     "metadata": {},
     "output_type": "execute_result"
    }
   ],
   "source": [
    "ispalidrome(S)"
   ]
  },
  {
   "cell_type": "code",
   "execution_count": 773,
   "id": "7d107913",
   "metadata": {},
   "outputs": [
    {
     "data": {
      "text/plain": [
       "False"
      ]
     },
     "execution_count": 773,
     "metadata": {},
     "output_type": "execute_result"
    }
   ],
   "source": [
    "ispalidrome(\"abracadabra\")"
   ]
  },
  {
   "cell_type": "code",
   "execution_count": null,
   "id": "0aa25c3d",
   "metadata": {},
   "outputs": [],
   "source": []
  },
  {
   "cell_type": "code",
   "execution_count": null,
   "id": "a6cb37e8",
   "metadata": {},
   "outputs": [],
   "source": []
  },
  {
   "cell_type": "markdown",
   "id": "01ad40a9",
   "metadata": {},
   "source": [
    "## sort the letters in dictionary order "
   ]
  },
  {
   "cell_type": "code",
   "execution_count": 827,
   "id": "3394b45a",
   "metadata": {},
   "outputs": [],
   "source": [
    "S = \"scaleracademy\""
   ]
  },
  {
   "cell_type": "code",
   "execution_count": 828,
   "id": "6784753f",
   "metadata": {},
   "outputs": [
    {
     "data": {
      "text/plain": [
       "'aaaccdeelmrsy'"
      ]
     },
     "execution_count": 828,
     "metadata": {},
     "output_type": "execute_result"
    }
   ],
   "source": [
    "sS = [i for i in S]\n",
    "\"\".join(sorted(sS))"
   ]
  },
  {
   "cell_type": "code",
   "execution_count": 829,
   "id": "3c5dc1ce",
   "metadata": {},
   "outputs": [
    {
     "data": {
      "text/plain": [
       "[3, 0, 2, 1, 2, 0, 0, 0, 0, 0, 0, 1, 1, 0, 0, 0, 0, 1, 1, 0, 0, 0, 0, 0, 1, 0]"
      ]
     },
     "execution_count": 829,
     "metadata": {},
     "output_type": "execute_result"
    }
   ],
   "source": [
    "counts = [0] * 26\n",
    "for ch in (S):\n",
    "    code = ord(ch)-97\n",
    "    counts[code] += 1\n",
    "counts"
   ]
  },
  {
   "cell_type": "code",
   "execution_count": 830,
   "id": "7ed23f55",
   "metadata": {},
   "outputs": [],
   "source": [
    "letters = []\n",
    "for i,n in enumerate(counts):\n",
    "    letters.append(chr(i+97) * n)"
   ]
  },
  {
   "cell_type": "code",
   "execution_count": 831,
   "id": "f9dab2c8",
   "metadata": {},
   "outputs": [
    {
     "data": {
      "text/plain": [
       "'aaaccdeelmrsy'"
      ]
     },
     "execution_count": 831,
     "metadata": {},
     "output_type": "execute_result"
    }
   ],
   "source": [
    "\"\".join(letters)"
   ]
  },
  {
   "cell_type": "code",
   "execution_count": null,
   "id": "18df3872",
   "metadata": {},
   "outputs": [],
   "source": []
  },
  {
   "cell_type": "markdown",
   "id": "b21b2da5",
   "metadata": {},
   "source": [
    "##  Count Occurrences\n",
    "\n",
    "#### Find the number of occurrences of bob in string A consisting of lowercase English alphabets.\n",
    "\n",
    "    Example Input\n",
    "    Input 1:\n",
    "\n",
    "      \"abobc\"\n",
    "    Input 2:\n",
    "\n",
    "      \"bobob\"\n",
    "\n",
    "\n",
    "    Example Output\n",
    "    Output 1:\n",
    "\n",
    "      1\n",
    "    Output 2:\n",
    "\n",
    "      2\n",
    "\n",
    "\n",
    "    Example Explanation\n",
    "    Explanation 1:\n",
    "\n",
    "      The only occurrence is at second position.\n",
    "    Explanation 2:\n",
    "\n",
    "      Bob occures at first and third position."
   ]
  },
  {
   "cell_type": "code",
   "execution_count": 832,
   "id": "75961900",
   "metadata": {},
   "outputs": [],
   "source": [
    "A = \"abobcbobobcdb\""
   ]
  },
  {
   "cell_type": "code",
   "execution_count": 833,
   "id": "1e18e164",
   "metadata": {},
   "outputs": [
    {
     "data": {
      "text/plain": [
       "3"
      ]
     },
     "execution_count": 833,
     "metadata": {},
     "output_type": "execute_result"
    }
   ],
   "source": [
    "n = len(A)\n",
    "c = 0\n",
    "for i in range(n-2):\n",
    "    if A[i] == \"b\" and A[i+1] == \"o\" and A[i+2] == \"b\":\n",
    "        c += 1\n",
    "c"
   ]
  },
  {
   "cell_type": "code",
   "execution_count": null,
   "id": "5b5818e8",
   "metadata": {},
   "outputs": [],
   "source": []
  },
  {
   "cell_type": "markdown",
   "id": "d97be5ba",
   "metadata": {},
   "source": [
    "\n",
    "\n",
    "### String operations\n",
    "\n",
    "    Akash likes playing with strings. One day he thought of applying following operations on the string in the given order:\n",
    "\n",
    "    Concatenate the string with itself.\n",
    "    Delete all the uppercase letters.\n",
    "    Replace each vowel with '#'.\n",
    "    You are given a string A of size N consisting of lowercase and uppercase alphabets. Return the resultant string after applying the above operations.\n",
    "\n",
    "    NOTE: 'a' , 'e' , 'i' , 'o' , 'u' are defined as vowels."
   ]
  },
  {
   "cell_type": "code",
   "execution_count": 843,
   "id": "0b44ab39",
   "metadata": {},
   "outputs": [
    {
     "data": {
      "text/plain": [
       "'AbcaZeoBAbcaZeoB'"
      ]
     },
     "execution_count": 843,
     "metadata": {},
     "output_type": "execute_result"
    }
   ],
   "source": [
    "A= \"AbcaZeoB\"\n",
    "\n",
    "Aa = A*2\n",
    "Aa\n",
    "\n"
   ]
  },
  {
   "cell_type": "code",
   "execution_count": 846,
   "id": "454a5368",
   "metadata": {},
   "outputs": [
    {
     "data": {
      "text/plain": [
       "['b', 'c', 'a', 'e', 'o', 'b', 'c', 'a', 'e', 'o']"
      ]
     },
     "execution_count": 846,
     "metadata": {},
     "output_type": "execute_result"
    }
   ],
   "source": [
    "nonupper = []\n",
    "for i in Aa:\n",
    "    if  i.islower():\n",
    "        nonupper.append(i)\n",
    "nonupper"
   ]
  },
  {
   "cell_type": "code",
   "execution_count": 847,
   "id": "3b63eb01",
   "metadata": {},
   "outputs": [
    {
     "data": {
      "text/plain": [
       "['b', 'c', '#', '#', '#', 'b', 'c', '#', '#', '#']"
      ]
     },
     "execution_count": 847,
     "metadata": {},
     "output_type": "execute_result"
    }
   ],
   "source": [
    "for i in range(len(nonupper)):\n",
    "    if nonupper[i] in {'a' , 'e' , 'i' , 'o' , 'u'}:\n",
    "        nonupper[i] = \"#\"\n",
    "nonupper"
   ]
  },
  {
   "cell_type": "code",
   "execution_count": 848,
   "id": "e123aa5b",
   "metadata": {},
   "outputs": [
    {
     "data": {
      "text/plain": [
       "'bc###bc###'"
      ]
     },
     "execution_count": 848,
     "metadata": {},
     "output_type": "execute_result"
    }
   ],
   "source": [
    "\"\".join(nonupper)"
   ]
  },
  {
   "cell_type": "code",
   "execution_count": null,
   "id": "f451536b",
   "metadata": {},
   "outputs": [],
   "source": []
  },
  {
   "cell_type": "markdown",
   "id": "a68c1597",
   "metadata": {},
   "source": [
    "## Longest Common Prefix\n",
    "\n",
    "\n",
    "### Given the array of strings A, you need to find the longest string S, which is the prefix of ALL the strings in the array.  The longest common prefix for a pair of strings S1 and S2 is the longest string S which is the prefix of both S1 and S2.  Example: the longest common prefix of \"abcdefgh\" and \"abcefgh\" is \"abc\".\n",
    "\n",
    "\n",
    "    Example Input\n",
    "    Input 1:\n",
    "\n",
    "    A = [\"abcdefgh\", \"aefghijk\", \"abcefgh\"]\n",
    "    Input 2:\n",
    "\n",
    "    A = [\"abab\", \"ab\", \"abcd\"];\n",
    "\n",
    "\n",
    "    Example Output\n",
    "    Output 1:\n",
    "\n",
    "    \"a\"\n",
    "    Output 2:\n",
    "\n",
    "    \"ab\"\n",
    "\n",
    "\n",
    "    Example Explanation\n",
    "    Explanation 1:\n",
    "\n",
    "    Longest common prefix of all the strings is \"a\".\n",
    "    Explanation 2:\n",
    "\n",
    "    Longest common prefix of all the strings is \"ab\"."
   ]
  },
  {
   "cell_type": "code",
   "execution_count": 849,
   "id": "ea409410",
   "metadata": {},
   "outputs": [],
   "source": [
    "A = [\"abcdefgh\",\n",
    "     \"aefghijk\", \n",
    "     \"abcefgh\"]"
   ]
  },
  {
   "cell_type": "code",
   "execution_count": 850,
   "id": "5b2c1aca",
   "metadata": {},
   "outputs": [],
   "source": []
  },
  {
   "cell_type": "code",
   "execution_count": 860,
   "id": "eb118660",
   "metadata": {},
   "outputs": [
    {
     "data": {
      "text/plain": [
       "'a'"
      ]
     },
     "execution_count": 860,
     "metadata": {},
     "output_type": "execute_result"
    }
   ],
   "source": [
    "def returnLongestCommonPrefix(A):\n",
    "    def _longest_prefix(A):\n",
    "        n = len(A)\n",
    "        m = len(A[0])\n",
    "        for j in range(m):\n",
    "            ch =(A[0][j])\n",
    "#             print(ch)\n",
    "            for i in range(n):\n",
    "                if j >= len(A[i]):\n",
    "                    return (j)\n",
    "                if A[i][j] != ch:\n",
    "                    return (j)\n",
    "\n",
    "    return A[0][:_longest_prefix(A)]\n",
    "        \n",
    "A = [\"abcdefgh\",\n",
    "     \"aefghijk\", \n",
    "     \"abcefgh\"]\n",
    "returnLongestCommonPrefix(A)"
   ]
  },
  {
   "cell_type": "code",
   "execution_count": 861,
   "id": "4cb9280f",
   "metadata": {},
   "outputs": [
    {
     "data": {
      "text/plain": [
       "'ab'"
      ]
     },
     "execution_count": 861,
     "metadata": {},
     "output_type": "execute_result"
    }
   ],
   "source": [
    "A = [\"abab\", \"ab\", \"abcd\"]\n",
    "returnLongestCommonPrefix(A)"
   ]
  },
  {
   "cell_type": "code",
   "execution_count": null,
   "id": "1b676b20",
   "metadata": {},
   "outputs": [],
   "source": []
  },
  {
   "cell_type": "code",
   "execution_count": null,
   "id": "23c6830b",
   "metadata": {},
   "outputs": [],
   "source": []
  },
  {
   "cell_type": "code",
   "execution_count": null,
   "id": "fdfc560b",
   "metadata": {},
   "outputs": [],
   "source": []
  },
  {
   "cell_type": "markdown",
   "id": "e92bd554",
   "metadata": {},
   "source": [
    "# Dictionary : "
   ]
  },
  {
   "cell_type": "code",
   "execution_count": 921,
   "id": "51d78b6f",
   "metadata": {},
   "outputs": [],
   "source": [
    "freq = {}"
   ]
  },
  {
   "cell_type": "code",
   "execution_count": 922,
   "id": "0569f68a",
   "metadata": {},
   "outputs": [],
   "source": [
    "A = [\"A\",\"D\",\"A\",\"T\",\"F\",\"S\",\"T\",\"F\",\"D\",\"A\",\"S\",\"T\",\"A\"]"
   ]
  },
  {
   "cell_type": "code",
   "execution_count": 923,
   "id": "5f6da1ee",
   "metadata": {},
   "outputs": [],
   "source": [
    "for i in A:\n",
    "    if i in freq:\n",
    "        freq[i] += 1\n",
    "    else:\n",
    "        freq[i] = 1"
   ]
  },
  {
   "cell_type": "code",
   "execution_count": 924,
   "id": "f4aa9bcc",
   "metadata": {},
   "outputs": [
    {
     "data": {
      "text/plain": [
       "{'A': 4, 'D': 2, 'T': 3, 'F': 2, 'S': 2}"
      ]
     },
     "execution_count": 924,
     "metadata": {},
     "output_type": "execute_result"
    }
   ],
   "source": [
    "freq"
   ]
  },
  {
   "cell_type": "code",
   "execution_count": 925,
   "id": "858b4610",
   "metadata": {},
   "outputs": [],
   "source": [
    "freq[\"X\"] = 1"
   ]
  },
  {
   "cell_type": "code",
   "execution_count": 926,
   "id": "e6bcf988",
   "metadata": {},
   "outputs": [
    {
     "data": {
      "text/plain": [
       "{'A': 4, 'D': 2, 'T': 3, 'F': 2, 'S': 2, 'X': 1}"
      ]
     },
     "execution_count": 926,
     "metadata": {},
     "output_type": "execute_result"
    }
   ],
   "source": [
    "freq"
   ]
  },
  {
   "cell_type": "code",
   "execution_count": 927,
   "id": "6f6d35fe",
   "metadata": {},
   "outputs": [],
   "source": [
    "freq[\"S\"] = freq[\"S\"]+10"
   ]
  },
  {
   "cell_type": "code",
   "execution_count": 928,
   "id": "c36e194f",
   "metadata": {},
   "outputs": [
    {
     "data": {
      "text/plain": [
       "12"
      ]
     },
     "execution_count": 928,
     "metadata": {},
     "output_type": "execute_result"
    }
   ],
   "source": [
    "freq[\"S\"]"
   ]
  },
  {
   "cell_type": "code",
   "execution_count": 929,
   "id": "70a95e71",
   "metadata": {},
   "outputs": [],
   "source": [
    "freq[\"D\"] = 1"
   ]
  },
  {
   "cell_type": "code",
   "execution_count": 930,
   "id": "d64f1b8d",
   "metadata": {},
   "outputs": [
    {
     "data": {
      "text/plain": [
       "{'A': 4, 'D': 1, 'T': 3, 'F': 2, 'S': 12, 'X': 1}"
      ]
     },
     "execution_count": 930,
     "metadata": {},
     "output_type": "execute_result"
    }
   ],
   "source": [
    "freq"
   ]
  },
  {
   "cell_type": "code",
   "execution_count": 931,
   "id": "0974963a",
   "metadata": {},
   "outputs": [
    {
     "name": "stdout",
     "output_type": "stream",
     "text": [
      "A\n",
      "D\n",
      "T\n",
      "F\n",
      "S\n",
      "X\n"
     ]
    }
   ],
   "source": [
    "for i in freq:\n",
    "    print(i)"
   ]
  },
  {
   "cell_type": "code",
   "execution_count": 932,
   "id": "3bfd3c83",
   "metadata": {},
   "outputs": [
    {
     "name": "stdout",
     "output_type": "stream",
     "text": [
      "A 4\n",
      "D 1\n",
      "T 3\n",
      "F 2\n",
      "S 12\n",
      "X 1\n"
     ]
    }
   ],
   "source": [
    "for x,y in freq.items():\n",
    "    print(x,y)"
   ]
  },
  {
   "cell_type": "code",
   "execution_count": 933,
   "id": "32b659bc",
   "metadata": {},
   "outputs": [
    {
     "name": "stdout",
     "output_type": "stream",
     "text": [
      "('A', 4)\n",
      "('D', 1)\n",
      "('T', 3)\n",
      "('F', 2)\n",
      "('S', 12)\n",
      "('X', 1)\n"
     ]
    }
   ],
   "source": [
    "for x in freq.items():\n",
    "    print(x)"
   ]
  },
  {
   "cell_type": "code",
   "execution_count": 934,
   "id": "6fb3ddf8",
   "metadata": {},
   "outputs": [
    {
     "name": "stdout",
     "output_type": "stream",
     "text": [
      "4\n",
      "1\n",
      "3\n",
      "2\n",
      "12\n",
      "1\n"
     ]
    }
   ],
   "source": [
    "for x in freq.values():\n",
    "    print(x)"
   ]
  },
  {
   "cell_type": "code",
   "execution_count": 935,
   "id": "5ce20e2f",
   "metadata": {},
   "outputs": [
    {
     "name": "stdout",
     "output_type": "stream",
     "text": [
      "A\n",
      "D\n",
      "T\n",
      "F\n",
      "S\n",
      "X\n"
     ]
    }
   ],
   "source": [
    "for x in freq.keys():\n",
    "    print(x)"
   ]
  },
  {
   "cell_type": "code",
   "execution_count": 936,
   "id": "553edca9",
   "metadata": {},
   "outputs": [],
   "source": [
    "del freq[\"X\"]"
   ]
  },
  {
   "cell_type": "code",
   "execution_count": 937,
   "id": "fb8d68e2",
   "metadata": {},
   "outputs": [
    {
     "data": {
      "text/plain": [
       "{'A': 4, 'D': 1, 'T': 3, 'F': 2, 'S': 12}"
      ]
     },
     "execution_count": 937,
     "metadata": {},
     "output_type": "execute_result"
    }
   ],
   "source": [
    "freq"
   ]
  },
  {
   "cell_type": "code",
   "execution_count": 938,
   "id": "5b4a408d",
   "metadata": {},
   "outputs": [],
   "source": [
    "freq.update({\"X\":1})"
   ]
  },
  {
   "cell_type": "code",
   "execution_count": 939,
   "id": "8f591e94",
   "metadata": {},
   "outputs": [],
   "source": [
    "B = [\"C\",\"R\",\"Q\",\"U\",\"R\",\"Z\"]"
   ]
  },
  {
   "cell_type": "code",
   "execution_count": 940,
   "id": "430ce5a6",
   "metadata": {},
   "outputs": [],
   "source": [
    "freqB = {}"
   ]
  },
  {
   "cell_type": "code",
   "execution_count": 941,
   "id": "9f338240",
   "metadata": {},
   "outputs": [],
   "source": [
    "for i in B:\n",
    "    if i in freqB:\n",
    "        freqB[i] += 1\n",
    "    else:\n",
    "        freqB[i] = 1"
   ]
  },
  {
   "cell_type": "code",
   "execution_count": 942,
   "id": "4edc5b73",
   "metadata": {},
   "outputs": [],
   "source": [
    "freq.update(freqB)"
   ]
  },
  {
   "cell_type": "code",
   "execution_count": 943,
   "id": "ed4b9cb3",
   "metadata": {},
   "outputs": [
    {
     "data": {
      "text/plain": [
       "{'A': 4,\n",
       " 'D': 1,\n",
       " 'T': 3,\n",
       " 'F': 2,\n",
       " 'S': 12,\n",
       " 'X': 1,\n",
       " 'C': 1,\n",
       " 'R': 2,\n",
       " 'Q': 1,\n",
       " 'U': 1,\n",
       " 'Z': 1}"
      ]
     },
     "execution_count": 943,
     "metadata": {},
     "output_type": "execute_result"
    }
   ],
   "source": [
    "freq"
   ]
  },
  {
   "cell_type": "code",
   "execution_count": null,
   "id": "10b1202b",
   "metadata": {},
   "outputs": [],
   "source": []
  },
  {
   "cell_type": "code",
   "execution_count": 949,
   "id": "d7578989",
   "metadata": {},
   "outputs": [
    {
     "data": {
      "text/plain": [
       "{'A': 1,\n",
       " 'B': 4,\n",
       " 'C': 9,\n",
       " 'D': 16,\n",
       " 'E': 25,\n",
       " 'F': 36,\n",
       " 'G': 49,\n",
       " 'H': 64,\n",
       " 'I': 81,\n",
       " 'J': 100}"
      ]
     },
     "execution_count": 949,
     "metadata": {},
     "output_type": "execute_result"
    }
   ],
   "source": [
    "sqs = {chr(i+64):i*i for i in range(1,11)}\n",
    "sqs"
   ]
  },
  {
   "cell_type": "code",
   "execution_count": 951,
   "id": "cccb07f1",
   "metadata": {},
   "outputs": [
    {
     "data": {
      "text/plain": [
       "{'a': 1,\n",
       " 'b': 4,\n",
       " 'c': 9,\n",
       " 'd': 16,\n",
       " 'e': 25,\n",
       " 'f': 36,\n",
       " 'g': 49,\n",
       " 'h': 64,\n",
       " 'i': 81,\n",
       " 'j': 100}"
      ]
     },
     "execution_count": 951,
     "metadata": {},
     "output_type": "execute_result"
    }
   ],
   "source": [
    "sqs = {chr(i+96):i*i for i in range(1,11)}\n",
    "sqs"
   ]
  },
  {
   "cell_type": "code",
   "execution_count": null,
   "id": "c34e5dd6",
   "metadata": {},
   "outputs": [],
   "source": []
  },
  {
   "cell_type": "code",
   "execution_count": null,
   "id": "d3f34842",
   "metadata": {},
   "outputs": [],
   "source": []
  },
  {
   "cell_type": "code",
   "execution_count": 959,
   "id": "9e21789a",
   "metadata": {},
   "outputs": [
    {
     "data": {
      "text/plain": [
       "{1: 3, 3: 4, 4: 1, -9: 1, 0: 1, 5: 1, 6: 1, 9: 1}"
      ]
     },
     "execution_count": 959,
     "metadata": {},
     "output_type": "execute_result"
    }
   ],
   "source": [
    "A = [1,3,4,-9,1,0,3,5,6,3,3,1,9]\n",
    "Q = [3,4,-9,1]\n",
    "freq = {}\n",
    "for i in A:\n",
    "    if i in freq:\n",
    "        freq[i] += 1\n",
    "    else:\n",
    "        freq[i] = 1\n",
    "freq"
   ]
  },
  {
   "cell_type": "code",
   "execution_count": 960,
   "id": "a2f22991",
   "metadata": {},
   "outputs": [
    {
     "name": "stdout",
     "output_type": "stream",
     "text": [
      "3 : 4\n",
      "4 : 1\n",
      "-9 : 1\n",
      "1 : 3\n"
     ]
    }
   ],
   "source": [
    "for q in Q:\n",
    "    print(q,\":\",freq[q])"
   ]
  },
  {
   "cell_type": "code",
   "execution_count": 961,
   "id": "e9348957",
   "metadata": {},
   "outputs": [
    {
     "data": {
      "text/plain": [
       "[1, 3, 4, -9, 1, 0, 3, 5, 6, 3, 3, 1, 9]"
      ]
     },
     "execution_count": 961,
     "metadata": {},
     "output_type": "execute_result"
    }
   ],
   "source": [
    "A"
   ]
  },
  {
   "cell_type": "code",
   "execution_count": 967,
   "id": "d03e98ba",
   "metadata": {},
   "outputs": [
    {
     "data": {
      "text/plain": [
       "{1: 3, 3: 4, 4: 1, -9: 1, 0: 1, 5: 1, 6: 1, 9: 1}"
      ]
     },
     "execution_count": 967,
     "metadata": {},
     "output_type": "execute_result"
    }
   ],
   "source": [
    "counts = {}\n",
    "for x in A:\n",
    "    counts[x] = counts.get(x,0)+1\n",
    "counts        "
   ]
  },
  {
   "cell_type": "code",
   "execution_count": 968,
   "id": "4dd24485",
   "metadata": {},
   "outputs": [],
   "source": [
    "from collections import Counter"
   ]
  },
  {
   "cell_type": "code",
   "execution_count": 973,
   "id": "34345a1e",
   "metadata": {},
   "outputs": [],
   "source": [
    "from collections import defaultdict"
   ]
  },
  {
   "cell_type": "code",
   "execution_count": 969,
   "id": "c6b171f7",
   "metadata": {},
   "outputs": [
    {
     "data": {
      "text/plain": [
       "Counter({1: 3, 3: 4, 4: 1, -9: 1, 0: 1, 5: 1, 6: 1, 9: 1})"
      ]
     },
     "execution_count": 969,
     "metadata": {},
     "output_type": "execute_result"
    }
   ],
   "source": [
    "Counter(A)"
   ]
  },
  {
   "cell_type": "code",
   "execution_count": 974,
   "id": "40fbad91",
   "metadata": {},
   "outputs": [],
   "source": [
    "f = defaultdict(int)"
   ]
  },
  {
   "cell_type": "code",
   "execution_count": 975,
   "id": "31c0f84c",
   "metadata": {},
   "outputs": [
    {
     "data": {
      "text/plain": [
       "defaultdict(int, {1: 3, 3: 4, 4: 1, -9: 1, 0: 1, 5: 1, 6: 1, 9: 1})"
      ]
     },
     "execution_count": 975,
     "metadata": {},
     "output_type": "execute_result"
    }
   ],
   "source": [
    "for x in A:\n",
    "    f[x] += 1\n",
    "f"
   ]
  },
  {
   "cell_type": "code",
   "execution_count": null,
   "id": "22f938fd",
   "metadata": {},
   "outputs": [],
   "source": []
  },
  {
   "cell_type": "code",
   "execution_count": null,
   "id": "d5fcea20",
   "metadata": {},
   "outputs": [],
   "source": []
  },
  {
   "cell_type": "code",
   "execution_count": 976,
   "id": "57b57da5",
   "metadata": {},
   "outputs": [],
   "source": [
    "f = Counter(A)"
   ]
  },
  {
   "cell_type": "code",
   "execution_count": 977,
   "id": "b2334cfa",
   "metadata": {},
   "outputs": [
    {
     "data": {
      "text/plain": [
       "Counter({1: 3, 3: 4, 4: 1, -9: 1, 0: 1, 5: 1, 6: 1, 9: 1})"
      ]
     },
     "execution_count": 977,
     "metadata": {},
     "output_type": "execute_result"
    }
   ],
   "source": [
    "f"
   ]
  },
  {
   "cell_type": "code",
   "execution_count": 979,
   "id": "682fa896",
   "metadata": {},
   "outputs": [
    {
     "data": {
      "text/plain": [
       "[(3, 4), (1, 3), (4, 1), (-9, 1), (0, 1), (5, 1), (6, 1), (9, 1)]"
      ]
     },
     "execution_count": 979,
     "metadata": {},
     "output_type": "execute_result"
    }
   ],
   "source": [
    "f.most_common()"
   ]
  },
  {
   "cell_type": "code",
   "execution_count": null,
   "id": "9a917825",
   "metadata": {},
   "outputs": [],
   "source": []
  },
  {
   "cell_type": "code",
   "execution_count": 980,
   "id": "96bd2e9b",
   "metadata": {},
   "outputs": [],
   "source": [
    "names = [\"Sunny\",\"Srikar\",\"Sunny\",\"Mehul\",\"Abhi\",\"Mehul\",\"Uttam\",\"Ravi\",\"Yakeen\",\"Ravi\",\"Sunny\"]"
   ]
  },
  {
   "cell_type": "code",
   "execution_count": 981,
   "id": "ef51d4da",
   "metadata": {},
   "outputs": [],
   "source": [
    "fn = Counter(names)"
   ]
  },
  {
   "cell_type": "code",
   "execution_count": 982,
   "id": "0dbf1534",
   "metadata": {},
   "outputs": [
    {
     "data": {
      "text/plain": [
       "Counter({'Sunny': 3,\n",
       "         'Srikar': 1,\n",
       "         'Mehul': 2,\n",
       "         'Abhi': 1,\n",
       "         'Uttam': 1,\n",
       "         'Ravi': 2,\n",
       "         'Yakeen': 1})"
      ]
     },
     "execution_count": 982,
     "metadata": {},
     "output_type": "execute_result"
    }
   ],
   "source": [
    "fn"
   ]
  },
  {
   "cell_type": "code",
   "execution_count": 983,
   "id": "1c0cf4a8",
   "metadata": {},
   "outputs": [
    {
     "data": {
      "text/plain": [
       "defaultdict(list,\n",
       "            {'S': ['Sunny', 'Srikar', 'Sunny', 'Sunny'],\n",
       "             'M': ['Mehul', 'Mehul'],\n",
       "             'A': ['Abhi'],\n",
       "             'U': ['Uttam'],\n",
       "             'R': ['Ravi', 'Ravi'],\n",
       "             'Y': ['Yakeen']})"
      ]
     },
     "execution_count": 983,
     "metadata": {},
     "output_type": "execute_result"
    }
   ],
   "source": [
    "names_starts_with = defaultdict(list)\n",
    "for n in names:\n",
    "    start = n[0]\n",
    "    names_starts_with[start].append(n)\n",
    "names_starts_with"
   ]
  },
  {
   "cell_type": "code",
   "execution_count": 984,
   "id": "8d22df78",
   "metadata": {},
   "outputs": [
    {
     "data": {
      "text/plain": [
       "{'S': ['Sunny', 'Srikar', 'Sunny', 'Sunny'],\n",
       " 'M': ['Mehul', 'Mehul'],\n",
       " 'A': ['Abhi'],\n",
       " 'U': ['Uttam'],\n",
       " 'R': ['Ravi', 'Ravi'],\n",
       " 'Y': ['Yakeen']}"
      ]
     },
     "execution_count": 984,
     "metadata": {},
     "output_type": "execute_result"
    }
   ],
   "source": [
    "dict(names_starts_with)"
   ]
  },
  {
   "cell_type": "code",
   "execution_count": null,
   "id": "10cb4e47",
   "metadata": {},
   "outputs": [],
   "source": []
  },
  {
   "cell_type": "markdown",
   "id": "c2c3ada5",
   "metadata": {},
   "source": [
    "### Distinct Elements : "
   ]
  },
  {
   "cell_type": "code",
   "execution_count": null,
   "id": "ee7c65bd",
   "metadata": {},
   "outputs": [],
   "source": []
  },
  {
   "cell_type": "code",
   "execution_count": null,
   "id": "3e2fc5b7",
   "metadata": {},
   "outputs": [],
   "source": []
  },
  {
   "cell_type": "code",
   "execution_count": 985,
   "id": "75701c98",
   "metadata": {},
   "outputs": [],
   "source": [
    "A = [1,3,4,-9,1,0,3,5,6,3,3,1,9]\n",
    "n = len(A)"
   ]
  },
  {
   "cell_type": "code",
   "execution_count": 991,
   "id": "cdbb43b7",
   "metadata": {},
   "outputs": [
    {
     "data": {
      "text/plain": [
       "8"
      ]
     },
     "execution_count": 991,
     "metadata": {},
     "output_type": "execute_result"
    }
   ],
   "source": [
    "count = 0\n",
    "for i,x in enumerate(A):\n",
    "    is_first = True\n",
    "    for j in range(i):\n",
    "        if A[j] == x:\n",
    "            is_first = False\n",
    "            break\n",
    "    if is_first:\n",
    "        count += 1\n",
    "count"
   ]
  },
  {
   "cell_type": "code",
   "execution_count": null,
   "id": "ab04528d",
   "metadata": {},
   "outputs": [],
   "source": []
  },
  {
   "cell_type": "code",
   "execution_count": 987,
   "id": "51430d85",
   "metadata": {},
   "outputs": [
    {
     "data": {
      "text/plain": [
       "Counter({1: 3, 3: 4, 4: 1, -9: 1, 0: 1, 5: 1, 6: 1, 9: 1})"
      ]
     },
     "execution_count": 987,
     "metadata": {},
     "output_type": "execute_result"
    }
   ],
   "source": [
    "freq = Counter(A)\n",
    "freq"
   ]
  },
  {
   "cell_type": "code",
   "execution_count": 989,
   "id": "bc60d332",
   "metadata": {},
   "outputs": [
    {
     "data": {
      "text/plain": [
       "[1, 3, 4, -9, 0, 5, 6, 9]"
      ]
     },
     "execution_count": 989,
     "metadata": {},
     "output_type": "execute_result"
    }
   ],
   "source": [
    "list(freq.keys())"
   ]
  },
  {
   "cell_type": "code",
   "execution_count": 990,
   "id": "e06a5055",
   "metadata": {},
   "outputs": [
    {
     "data": {
      "text/plain": [
       "8"
      ]
     },
     "execution_count": 990,
     "metadata": {},
     "output_type": "execute_result"
    }
   ],
   "source": [
    "len(list(freq.keys()))"
   ]
  },
  {
   "cell_type": "code",
   "execution_count": null,
   "id": "d9eb3fee",
   "metadata": {},
   "outputs": [],
   "source": []
  },
  {
   "cell_type": "code",
   "execution_count": null,
   "id": "3af7566c",
   "metadata": {},
   "outputs": [],
   "source": []
  },
  {
   "cell_type": "code",
   "execution_count": 995,
   "id": "ed944bfc",
   "metadata": {},
   "outputs": [
    {
     "data": {
      "text/plain": [
       "{-9, 0, 1, 3, 4, 5, 6, 9}"
      ]
     },
     "execution_count": 995,
     "metadata": {},
     "output_type": "execute_result"
    }
   ],
   "source": [
    "hset = set()\n",
    "for x in A:\n",
    "    hset.add(x)\n",
    "hset"
   ]
  },
  {
   "cell_type": "code",
   "execution_count": 996,
   "id": "575f130b",
   "metadata": {},
   "outputs": [
    {
     "data": {
      "text/plain": [
       "8"
      ]
     },
     "execution_count": 996,
     "metadata": {},
     "output_type": "execute_result"
    }
   ],
   "source": [
    "len(hset)"
   ]
  },
  {
   "cell_type": "code",
   "execution_count": null,
   "id": "097ed6ad",
   "metadata": {},
   "outputs": [],
   "source": []
  },
  {
   "cell_type": "code",
   "execution_count": null,
   "id": "1e74f215",
   "metadata": {},
   "outputs": [],
   "source": []
  },
  {
   "cell_type": "code",
   "execution_count": 992,
   "id": "e47a1a1d",
   "metadata": {},
   "outputs": [
    {
     "data": {
      "text/plain": [
       "[1, 3, 4, -9, 1, 0, 3, 5, 6, 3, 3, 1, 9]"
      ]
     },
     "execution_count": 992,
     "metadata": {},
     "output_type": "execute_result"
    }
   ],
   "source": [
    "A"
   ]
  },
  {
   "cell_type": "code",
   "execution_count": 994,
   "id": "ee62850a",
   "metadata": {},
   "outputs": [
    {
     "data": {
      "text/plain": [
       "8"
      ]
     },
     "execution_count": 994,
     "metadata": {},
     "output_type": "execute_result"
    }
   ],
   "source": [
    "len(set(A))"
   ]
  },
  {
   "cell_type": "code",
   "execution_count": null,
   "id": "676317e1",
   "metadata": {},
   "outputs": [],
   "source": []
  },
  {
   "cell_type": "markdown",
   "id": "53d3ee46",
   "metadata": {},
   "source": [
    "## None Repeating number :\n",
    "\n",
    "### given an array, return the first non repeating element"
   ]
  },
  {
   "cell_type": "code",
   "execution_count": 999,
   "id": "b95c0e48",
   "metadata": {},
   "outputs": [],
   "source": []
  },
  {
   "cell_type": "code",
   "execution_count": 1005,
   "id": "d0b763a4",
   "metadata": {},
   "outputs": [],
   "source": [
    "def returnNonRepeatingElement(A):\n",
    "    n = len(A)\n",
    "    for i in range(n):\n",
    "        c = 0\n",
    "        for j in range(n):\n",
    "            if A[i] == A[j]:\n",
    "                c+=1\n",
    "        if c==1:\n",
    "            return (A[i])"
   ]
  },
  {
   "cell_type": "code",
   "execution_count": 1008,
   "id": "94561585",
   "metadata": {},
   "outputs": [
    {
     "data": {
      "text/plain": [
       "4"
      ]
     },
     "execution_count": 1008,
     "metadata": {},
     "output_type": "execute_result"
    }
   ],
   "source": [
    "A=  [1,3,4,-9,1,0,3,3,5,6,3,3,1,9]\n",
    "returnNonRepeatingElement(A)"
   ]
  },
  {
   "cell_type": "code",
   "execution_count": 1009,
   "id": "10862ced",
   "metadata": {},
   "outputs": [
    {
     "data": {
      "text/plain": [
       "-9"
      ]
     },
     "execution_count": 1009,
     "metadata": {},
     "output_type": "execute_result"
    }
   ],
   "source": [
    "A=  [1,3,-9,1,0,3,3,5,6,3,3,1,9]\n",
    "returnNonRepeatingElement(A)"
   ]
  },
  {
   "cell_type": "code",
   "execution_count": null,
   "id": "8ab74b74",
   "metadata": {},
   "outputs": [],
   "source": []
  },
  {
   "cell_type": "code",
   "execution_count": 1010,
   "id": "9ddc4246",
   "metadata": {},
   "outputs": [
    {
     "data": {
      "text/plain": [
       "[1, 3, 4, -9, 1, 0, 3, 3, 5, 6, 3, 3, 1, 9]"
      ]
     },
     "execution_count": 1010,
     "metadata": {},
     "output_type": "execute_result"
    }
   ],
   "source": []
  },
  {
   "cell_type": "code",
   "execution_count": 1011,
   "id": "ee5a79ef",
   "metadata": {},
   "outputs": [],
   "source": []
  },
  {
   "cell_type": "code",
   "execution_count": null,
   "id": "10e8c6ff",
   "metadata": {},
   "outputs": [],
   "source": []
  },
  {
   "cell_type": "code",
   "execution_count": 1013,
   "id": "967c745d",
   "metadata": {},
   "outputs": [
    {
     "data": {
      "text/plain": [
       "4"
      ]
     },
     "execution_count": 1013,
     "metadata": {},
     "output_type": "execute_result"
    }
   ],
   "source": [
    "def returnNonRepeatingElement(A):\n",
    "    from collections import Counter\n",
    "    freq = Counter(A)\n",
    "    for i in A:\n",
    "        if freq[i] == 1:\n",
    "            return i\n",
    "    \n",
    "A=  [1,3,4,-9,1,0,3,3,5,6,3,3,1,9]\n",
    "returnNonRepeatingElement(A)"
   ]
  },
  {
   "cell_type": "code",
   "execution_count": null,
   "id": "faa4fc3c",
   "metadata": {},
   "outputs": [],
   "source": []
  },
  {
   "cell_type": "markdown",
   "id": "2a69a8c4",
   "metadata": {},
   "source": [
    "## given an array , check if there exist a subarray with sum 0 : "
   ]
  },
  {
   "cell_type": "code",
   "execution_count": 1014,
   "id": "450bc5b0",
   "metadata": {},
   "outputs": [
    {
     "data": {
      "text/plain": [
       "True"
      ]
     },
     "execution_count": 1014,
     "metadata": {},
     "output_type": "execute_result"
    }
   ],
   "source": [
    "A = [2,2,1,-3,4,3,1,-2,-3]\n",
    "\n",
    "def subarray_with_sum_0(A):\n",
    "    n = len(A)\n",
    "    \n",
    "    for s in range(n):\n",
    "        for e in range(s,n):\n",
    "            if sum(A[s:e+1]) ==0:\n",
    "                return True\n",
    "    return False\n",
    "    \n",
    "subarray_with_sum_0(A)"
   ]
  },
  {
   "cell_type": "code",
   "execution_count": 1015,
   "id": "e0ff410a",
   "metadata": {},
   "outputs": [
    {
     "data": {
      "text/plain": [
       "False"
      ]
     },
     "execution_count": 1015,
     "metadata": {},
     "output_type": "execute_result"
    }
   ],
   "source": [
    "A = [2,2,1,3,4,3,-1,2,-3]\n",
    "\n",
    "def subarray_with_sum_0(A):\n",
    "    n = len(A)\n",
    "    \n",
    "    for s in range(n):\n",
    "        for e in range(s,n):\n",
    "            if sum(A[s:e+1]) == 0:\n",
    "                return True\n",
    "    return False\n",
    "    \n",
    "subarray_with_sum_0(A)"
   ]
  },
  {
   "cell_type": "code",
   "execution_count": null,
   "id": "c85726a9",
   "metadata": {},
   "outputs": [],
   "source": []
  },
  {
   "cell_type": "code",
   "execution_count": null,
   "id": "35d16ec2",
   "metadata": {},
   "outputs": [],
   "source": []
  },
  {
   "cell_type": "code",
   "execution_count": 1016,
   "id": "c0822f99",
   "metadata": {},
   "outputs": [
    {
     "data": {
      "text/plain": [
       "True"
      ]
     },
     "execution_count": 1016,
     "metadata": {},
     "output_type": "execute_result"
    }
   ],
   "source": [
    "A = [2,2,1,-3,4,3,1,-2,-3]\n",
    "\n",
    "def subarray_with_sum_0(A):\n",
    "    n = len(A)\n",
    "    \n",
    "    prefixsm = [A[0]]\n",
    "    for x in A[1:]:\n",
    "        prefixsm.append(x+prefixsm[-1])\n",
    "        \n",
    "    \n",
    "    for s in range(n):\n",
    "        for e in range(s,n):\n",
    "            if s==0:\n",
    "                total = prefixsm[e]\n",
    "            else:\n",
    "                total = prefixsm[e]-prefixsm[s-1]\n",
    "            if total == 0:\n",
    "                return True\n",
    "    return False\n",
    "    \n",
    "subarray_with_sum_0(A)"
   ]
  },
  {
   "cell_type": "code",
   "execution_count": null,
   "id": "465d08a7",
   "metadata": {},
   "outputs": [],
   "source": []
  },
  {
   "cell_type": "code",
   "execution_count": 1017,
   "id": "b8c771ff",
   "metadata": {},
   "outputs": [
    {
     "data": {
      "text/plain": [
       "True"
      ]
     },
     "execution_count": 1017,
     "metadata": {},
     "output_type": "execute_result"
    }
   ],
   "source": [
    "A = [2,2,1,-3,4,3,1,-2,-3]\n",
    "\n",
    "def subarray_with_sum_0(A):\n",
    "    n = len(A)\n",
    "    \n",
    "    \n",
    "    for s in range(n):\n",
    "        total = 0\n",
    "        for e in range(s,n):\n",
    "            total += A[e]\n",
    "            \n",
    "            if total == 0:\n",
    "                return True\n",
    "    return False\n",
    "    \n",
    "subarray_with_sum_0(A)"
   ]
  },
  {
   "cell_type": "markdown",
   "id": "cf46c0dd",
   "metadata": {},
   "source": [
    "    #### making observation in prefix sum : "
   ]
  },
  {
   "cell_type": "code",
   "execution_count": 1018,
   "id": "d9ad15fa",
   "metadata": {},
   "outputs": [
    {
     "data": {
      "text/plain": [
       "[2, 2, 1, -3, 4, 3, 1, -2, -3]"
      ]
     },
     "execution_count": 1018,
     "metadata": {},
     "output_type": "execute_result"
    }
   ],
   "source": [
    "A"
   ]
  },
  {
   "cell_type": "code",
   "execution_count": 1019,
   "id": "bd99f5e9",
   "metadata": {},
   "outputs": [
    {
     "data": {
      "text/plain": [
       "[2, 4, 5, 2, 6, 9, 10, 8, 5]"
      ]
     },
     "execution_count": 1019,
     "metadata": {},
     "output_type": "execute_result"
    }
   ],
   "source": [
    "n = len(A)\n",
    "\n",
    "prefixsm = [A[0]]\n",
    "for x in A[1:]:\n",
    "    prefixsm.append(x+prefixsm[-1])\n",
    "prefixsm"
   ]
  },
  {
   "cell_type": "code",
   "execution_count": null,
   "id": "cc5f8ca6",
   "metadata": {},
   "outputs": [],
   "source": []
  },
  {
   "cell_type": "code",
   "execution_count": null,
   "id": "e74d185e",
   "metadata": {},
   "outputs": [],
   "source": [
    "def subarray_with_sum_0(A):\n",
    "    n = len(A)\n",
    "\n",
    "    prefixsm = [A[0]]\n",
    "    for x in A[1:]:\n",
    "        prefixsm.append(x+prefixsm[-1])\n",
    "    prefixsm\n",
    "    \n",
    "    hset = set()\n",
    "    \n",
    "    \n",
    "        "
   ]
  },
  {
   "cell_type": "code",
   "execution_count": 1036,
   "id": "f47e8bfa",
   "metadata": {},
   "outputs": [
    {
     "data": {
      "text/plain": [
       "True"
      ]
     },
     "execution_count": 1036,
     "metadata": {},
     "output_type": "execute_result"
    }
   ],
   "source": [
    "def subarray_with_sum_0(A):\n",
    "    n = len(A)\n",
    "    \n",
    "    for i in A:\n",
    "        if i == 0:\n",
    "            return True\n",
    "    \n",
    "    if sum(A) == 0:\n",
    "        return True\n",
    "    \n",
    "    \n",
    "    lookup = set()\n",
    "    \n",
    "    prefixSum = 0\n",
    "    \n",
    "    for x in A:\n",
    "        prefixSum += x\n",
    "        if prefixSum in lookup:\n",
    "            return True\n",
    "        lookup.add(prefixSum)\n",
    "    return False\n",
    "A = [2,2,1,-3,4,3,1,-2,-3]\n",
    "subarray_with_sum_0(A)"
   ]
  },
  {
   "cell_type": "code",
   "execution_count": 1023,
   "id": "d9b4be26",
   "metadata": {},
   "outputs": [
    {
     "data": {
      "text/plain": [
       "False"
      ]
     },
     "execution_count": 1023,
     "metadata": {},
     "output_type": "execute_result"
    }
   ],
   "source": [
    "A = [2,2,1,3,4,3,1,-2,3]\n",
    "subarray_with_sum_0(A)"
   ]
  },
  {
   "cell_type": "code",
   "execution_count": null,
   "id": "8694db89",
   "metadata": {},
   "outputs": [],
   "source": []
  },
  {
   "cell_type": "code",
   "execution_count": null,
   "id": "57c842e9",
   "metadata": {},
   "outputs": [],
   "source": []
  },
  {
   "cell_type": "code",
   "execution_count": null,
   "id": "62c37df8",
   "metadata": {},
   "outputs": [],
   "source": []
  },
  {
   "cell_type": "markdown",
   "id": "f512dc4c",
   "metadata": {},
   "source": [
    " ### Common Elements\n",
    " \n",
    "#### Given two integer arrays, A and B of size N and M, respectively. Your task is to find all the common elements in both the array.\n",
    "\n",
    "    Input Format\n",
    "    First argument is an integer array A of size N.\n",
    "    Second argument is an integer array B of size M.\n",
    "    Output Format\n",
    "    Return an integer array denoting the common elements.\n",
    "    Example Input\n",
    "    Input 1:\n",
    "    A = [1, 2, 2, 1]\n",
    "    B = [2, 3, 1, 2]\n",
    "    Input 2:\n",
    "    A = [2, 1, 4, 10]\n",
    "    B = [3, 6, 2, 10, 10]\n",
    "    Example Output\n",
    "    Output 1:\n",
    "    [1, 2, 2]\n",
    "    Output 2:\n",
    "    [2, 10]\n",
    "    Example Explanation\n",
    "    Explanation 1:\n",
    "    Elements (1, 2, 2) appears in both the array. Note 2 appears twice in both the array.\n",
    "    Explantion 2:\n",
    "    Elements (2, 10) appears in both the array."
   ]
  },
  {
   "cell_type": "code",
   "execution_count": 1030,
   "id": "9d5da93f",
   "metadata": {},
   "outputs": [],
   "source": [
    "A = [1, 2, 2, 1]\n",
    "B = [2, 3, 1, 2]"
   ]
  },
  {
   "cell_type": "code",
   "execution_count": null,
   "id": "eace94fe",
   "metadata": {},
   "outputs": [],
   "source": []
  },
  {
   "cell_type": "code",
   "execution_count": 1034,
   "id": "da98a6dd",
   "metadata": {},
   "outputs": [
    {
     "name": "stdout",
     "output_type": "stream",
     "text": [
      "[1, 2]\n",
      "Counter({1: 2, 2: 2})\n",
      "Counter({2: 2, 3: 1, 1: 1})\n"
     ]
    },
    {
     "data": {
      "text/plain": [
       "[1, 2, 2]"
      ]
     },
     "execution_count": 1034,
     "metadata": {},
     "output_type": "execute_result"
    }
   ],
   "source": [
    "def common_elements(A,B):\n",
    "    from collections import Counter\n",
    "    cm = list(set(A).intersection(set(B)))\n",
    "    print(cm)\n",
    "    \n",
    "    Ac = Counter(A)\n",
    "    Bc = Counter(B)\n",
    "    \n",
    "    print(Ac)\n",
    "    print(Bc)\n",
    "    \n",
    "    ans = []\n",
    "    \n",
    "    for i in cm:\n",
    "        c = min(Ac[i],Bc[i])\n",
    "        for _ in range(c):\n",
    "            ans.append(i)\n",
    "    return ans\n",
    "\n",
    "common_elements(A,B)"
   ]
  },
  {
   "cell_type": "code",
   "execution_count": null,
   "id": "942daef8",
   "metadata": {},
   "outputs": [],
   "source": []
  },
  {
   "cell_type": "code",
   "execution_count": null,
   "id": "156fd2d7",
   "metadata": {},
   "outputs": [],
   "source": []
  },
  {
   "cell_type": "markdown",
   "id": "47731d80",
   "metadata": {},
   "source": [
    "##  First Repeating element\n",
    "\n",
    "### Given an integer array A of size N, find the first repeating element in it. We need to find the element that occurs more than once and whose index of the first occurrence is the smallest.  If there is no repeating element, return -1."
   ]
  },
  {
   "cell_type": "code",
   "execution_count": 1035,
   "id": "76960222",
   "metadata": {},
   "outputs": [
    {
     "data": {
      "text/plain": [
       "5"
      ]
     },
     "execution_count": 1035,
     "metadata": {},
     "output_type": "execute_result"
    }
   ],
   "source": [
    "A = [10, 5, 3, 4, 3, 5, 6]\n",
    "\n",
    "f = Counter(A)\n",
    "ans = None\n",
    "for i in A:\n",
    "    if f[i] >1:\n",
    "        ans = i\n",
    "ans\n"
   ]
  },
  {
   "cell_type": "code",
   "execution_count": null,
   "id": "d9a16f9b",
   "metadata": {},
   "outputs": [],
   "source": []
  },
  {
   "cell_type": "code",
   "execution_count": null,
   "id": "d8ac95b8",
   "metadata": {},
   "outputs": [],
   "source": []
  },
  {
   "cell_type": "code",
   "execution_count": null,
   "id": "36f98887",
   "metadata": {},
   "outputs": [],
   "source": []
  },
  {
   "cell_type": "code",
   "execution_count": null,
   "id": "9163182e",
   "metadata": {},
   "outputs": [],
   "source": []
  },
  {
   "cell_type": "code",
   "execution_count": null,
   "id": "3f4c90c2",
   "metadata": {},
   "outputs": [],
   "source": []
  },
  {
   "cell_type": "code",
   "execution_count": null,
   "id": "481af2ea",
   "metadata": {},
   "outputs": [],
   "source": []
  },
  {
   "cell_type": "code",
   "execution_count": null,
   "id": "cbbb2fb5",
   "metadata": {},
   "outputs": [],
   "source": []
  },
  {
   "cell_type": "code",
   "execution_count": null,
   "id": "521cc1de",
   "metadata": {},
   "outputs": [],
   "source": []
  },
  {
   "cell_type": "code",
   "execution_count": null,
   "id": "691a79d8",
   "metadata": {},
   "outputs": [],
   "source": []
  },
  {
   "cell_type": "code",
   "execution_count": null,
   "id": "a2d3c80e",
   "metadata": {},
   "outputs": [],
   "source": []
  },
  {
   "cell_type": "code",
   "execution_count": null,
   "id": "6bad5a7c",
   "metadata": {},
   "outputs": [],
   "source": []
  },
  {
   "cell_type": "code",
   "execution_count": null,
   "id": "62ad3b89",
   "metadata": {},
   "outputs": [],
   "source": []
  },
  {
   "cell_type": "markdown",
   "id": "fc029119",
   "metadata": {},
   "source": [
    "###  Largest Continuous Sequence Zero Sum"
   ]
  },
  {
   "cell_type": "code",
   "execution_count": 1094,
   "id": "6b6766fc",
   "metadata": {},
   "outputs": [],
   "source": [
    "from collections import defaultdict\n",
    "\n",
    "class Solution:\n",
    "    # @param A : list of integers\n",
    "    # @return a list of integers\n",
    "    def lszero(self, A):\n",
    "        N = len(A)\n",
    "        pre = [None]*N\n",
    "        curr = 0\n",
    "        for i in range(N):\n",
    "            curr += A[i]\n",
    "            pre[i] = curr\n",
    "            \n",
    "        #print pre\n",
    "            \n",
    "        seen_table = defaultdict(list)\n",
    "        seen_table[0]=[-1]\n",
    "        longest = -1\n",
    "        indices = None\n",
    "        for i in range(N):\n",
    "            s = pre[i]\n",
    "            seen_table[s].append(i)\n",
    "            gap = seen_table[s][-1] - seen_table[s][0]\n",
    "            if gap > longest:\n",
    "                longest = gap\n",
    "                indices = (seen_table[s][0]+1,seen_table[s][-1]+1)\n",
    "        if indices:\n",
    "            return A[indices[0]:indices[1]]\n",
    "        else:\n",
    "            return []"
   ]
  },
  {
   "cell_type": "code",
   "execution_count": 1095,
   "id": "66c4540a",
   "metadata": {},
   "outputs": [],
   "source": [
    "A = [1,2,-2,4,-4]"
   ]
  },
  {
   "cell_type": "code",
   "execution_count": 1096,
   "id": "cf7e7045",
   "metadata": {},
   "outputs": [],
   "source": [
    "A = [ -19, 8, 2, -8, 19, 5, -2, -23 ]\n",
    "A = [ -1, 1, 1, -1, -1, 1, 1, -1 ]\n",
    "A = [ 10, -3, -9, -10, 9, -26, 7, -2, -20, -19, -9, 7, 13, -5, -8, -24, -11, 28, 28, 24 ]"
   ]
  },
  {
   "cell_type": "code",
   "execution_count": 1097,
   "id": "480e1b67",
   "metadata": {},
   "outputs": [
    {
     "data": {
      "text/plain": [
       "[10,\n",
       " 7,\n",
       " -2,\n",
       " -12,\n",
       " -3,\n",
       " -29,\n",
       " -22,\n",
       " -24,\n",
       " -44,\n",
       " -63,\n",
       " -72,\n",
       " -65,\n",
       " -52,\n",
       " -57,\n",
       " -65,\n",
       " -89,\n",
       " -100,\n",
       " -72,\n",
       " -44,\n",
       " -20]"
      ]
     },
     "execution_count": 1097,
     "metadata": {},
     "output_type": "execute_result"
    }
   ],
   "source": [
    "n = len(A)\n",
    "\n",
    "prefixsm = [A[0]]\n",
    "for x in A[1:]:\n",
    "    prefixsm.append(x+prefixsm[-1])\n",
    "prefixsm"
   ]
  },
  {
   "cell_type": "code",
   "execution_count": 1098,
   "id": "38c70249",
   "metadata": {},
   "outputs": [
    {
     "data": {
      "text/plain": [
       "Counter({10: 1,\n",
       "         7: 1,\n",
       "         -2: 1,\n",
       "         -12: 1,\n",
       "         -3: 1,\n",
       "         -29: 1,\n",
       "         -22: 1,\n",
       "         -24: 1,\n",
       "         -44: 2,\n",
       "         -63: 1,\n",
       "         -72: 2,\n",
       "         -65: 2,\n",
       "         -52: 1,\n",
       "         -57: 1,\n",
       "         -89: 1,\n",
       "         -100: 1,\n",
       "         -20: 1})"
      ]
     },
     "execution_count": 1098,
     "metadata": {},
     "output_type": "execute_result"
    }
   ],
   "source": [
    "f = Counter(prefixsm)\n",
    "f"
   ]
  },
  {
   "cell_type": "code",
   "execution_count": 1099,
   "id": "f4185e4a",
   "metadata": {},
   "outputs": [],
   "source": [
    "skey = None\n",
    "for key in f:\n",
    "    if f[key] > 1:\n",
    "        skey = (key)\n",
    "        \n"
   ]
  },
  {
   "cell_type": "code",
   "execution_count": 1100,
   "id": "577b8804",
   "metadata": {},
   "outputs": [
    {
     "data": {
      "text/plain": [
       "[11, 14]"
      ]
     },
     "execution_count": 1100,
     "metadata": {},
     "output_type": "execute_result"
    }
   ],
   "source": [
    "ansList = []\n",
    "\n",
    "    \n",
    "for i in range(len(prefixsm)):\n",
    "    if prefixsm[i] == skey:\n",
    "\n",
    "        ansList.append(i)\n",
    "ansList\n",
    "    "
   ]
  },
  {
   "cell_type": "code",
   "execution_count": 1101,
   "id": "90ddd9f6",
   "metadata": {},
   "outputs": [
    {
     "data": {
      "text/plain": [
       "[13, -5, -8]"
      ]
     },
     "execution_count": 1101,
     "metadata": {},
     "output_type": "execute_result"
    }
   ],
   "source": [
    "A[ansList[0]+1:ansList[-1]+1]"
   ]
  },
  {
   "cell_type": "code",
   "execution_count": null,
   "id": "56485c28",
   "metadata": {},
   "outputs": [],
   "source": []
  },
  {
   "cell_type": "markdown",
   "id": "6c6d1bce",
   "metadata": {},
   "source": [
    "## Good Pair : "
   ]
  },
  {
   "cell_type": "code",
   "execution_count": 1102,
   "id": "4d12cb65",
   "metadata": {},
   "outputs": [
    {
     "name": "stdout",
     "output_type": "stream",
     "text": [
      "9\n",
      "3\n",
      "7\n",
      "14\n",
      "2\n",
      "10\n",
      "1\n",
      "11\n",
      "-7\n",
      "-32\n",
      "-13\n"
     ]
    }
   ],
   "source": [
    "A = [2,8,4,-3,9,1,10,0,18,43,24]  # (i,j ) such that A[i]+A[k] = 11\n",
    "                                  # (i,i valid pair)  \n",
    "k = 11\n",
    "\n",
    "for x in A:\n",
    "    target = k - x\n",
    "    print(target)\n"
   ]
  },
  {
   "cell_type": "code",
   "execution_count": null,
   "id": "706aada4",
   "metadata": {},
   "outputs": [],
   "source": []
  },
  {
   "cell_type": "code",
   "execution_count": 1112,
   "id": "94984c45",
   "metadata": {},
   "outputs": [
    {
     "data": {
      "text/plain": [
       "True"
      ]
     },
     "execution_count": 1112,
     "metadata": {},
     "output_type": "execute_result"
    }
   ],
   "source": [
    "A = [2,8,4,-3,9,-1,10,0,18,43,24]  \n",
    "                                  \n",
    "k = -6\n",
    "def good_pair(A,k):\n",
    "    for x in A:\n",
    "        for y in A:\n",
    "            \n",
    "            if x + y == k:\n",
    "                return True\n",
    "    return False \n",
    "    \n",
    "good_pair(A,k)"
   ]
  },
  {
   "cell_type": "code",
   "execution_count": null,
   "id": "69a9d6f8",
   "metadata": {},
   "outputs": [],
   "source": []
  },
  {
   "cell_type": "code",
   "execution_count": 1116,
   "id": "c0aef9f8",
   "metadata": {},
   "outputs": [
    {
     "data": {
      "text/plain": [
       "True"
      ]
     },
     "execution_count": 1116,
     "metadata": {},
     "output_type": "execute_result"
    }
   ],
   "source": [
    "A = [2,8,4,-3,9,-1,10,0,18,43,24]  # (i,j ) such that A[i]+A[k] = 11\n",
    "                                  # (i,i valid pair)  \n",
    "k = -6\n",
    "def good_pair(A,k):\n",
    "    for x in A:\n",
    "        target = k - x\n",
    "        if target in A:\n",
    "            return True\n",
    "    return False\n",
    "good_pair(A,k)"
   ]
  },
  {
   "cell_type": "code",
   "execution_count": 1118,
   "id": "a22c1959",
   "metadata": {},
   "outputs": [
    {
     "data": {
      "text/plain": [
       "True"
      ]
     },
     "execution_count": 1118,
     "metadata": {},
     "output_type": "execute_result"
    }
   ],
   "source": [
    "good_pair([2,8,4,-3,9,-1,10,0,18,43,24],23)"
   ]
  },
  {
   "cell_type": "code",
   "execution_count": 1119,
   "id": "89e6fc98",
   "metadata": {},
   "outputs": [
    {
     "data": {
      "text/plain": [
       "True"
      ]
     },
     "execution_count": 1119,
     "metadata": {},
     "output_type": "execute_result"
    }
   ],
   "source": [
    "good_pair([2,8,4,-3,9,-1,10,0,18,43,24],11)"
   ]
  },
  {
   "cell_type": "code",
   "execution_count": null,
   "id": "ebdbfb41",
   "metadata": {},
   "outputs": [],
   "source": []
  },
  {
   "cell_type": "code",
   "execution_count": 1120,
   "id": "2f5e7a28",
   "metadata": {},
   "outputs": [
    {
     "data": {
      "text/plain": [
       "True"
      ]
     },
     "execution_count": 1120,
     "metadata": {},
     "output_type": "execute_result"
    }
   ],
   "source": [
    "A = [2,8,4,-3,9,-1,10,0,18,43,24]  # (i,j ) such that A[i]+A[k] = 11\n",
    "                                  # (i,i valid pair)  \n",
    "k = -6\n",
    "def good_pair(A,k):\n",
    "    present = set(A)\n",
    "    \n",
    "    for x in A:\n",
    "        target = k - x\n",
    "        if target in present:\n",
    "            return True\n",
    "    return False\n",
    "good_pair(A,k)"
   ]
  },
  {
   "cell_type": "code",
   "execution_count": null,
   "id": "97bea943",
   "metadata": {},
   "outputs": [],
   "source": []
  },
  {
   "cell_type": "code",
   "execution_count": 1124,
   "id": "f0c8b452",
   "metadata": {},
   "outputs": [
    {
     "data": {
      "text/plain": [
       "False"
      ]
     },
     "execution_count": 1124,
     "metadata": {},
     "output_type": "execute_result"
    }
   ],
   "source": [
    "A = [2,8,4,-3,9,-1,10,0,18,43,24]  # (i,j ) such that A[i]+A[k] = 11\n",
    "                                  # (i,i NOT valid pair)  \n",
    "k = -6                   # A[i] + A[i] = k , then A[i] = k/2\n",
    "def good_pair(A,k):\n",
    "    present = set(A)\n",
    "    \n",
    "    for x in A:\n",
    "        count = 0\n",
    "        if x == k/2:   # x == k-x\n",
    "            for y in A:\n",
    "                if x== y:\n",
    "                    count += 1\n",
    "                    if count >= 2 :\n",
    "                        return True\n",
    "        elif k - x in present:\n",
    "            return True\n",
    "    return False\n",
    "good_pair(A,k)"
   ]
  },
  {
   "cell_type": "code",
   "execution_count": 1126,
   "id": "cfb88eb8",
   "metadata": {},
   "outputs": [
    {
     "data": {
      "text/plain": [
       "True"
      ]
     },
     "execution_count": 1126,
     "metadata": {},
     "output_type": "execute_result"
    }
   ],
   "source": [
    "A = [3,6,4,2,7,1,7,8,8,9,2,0,1,3,7,10]\n",
    "k = 12\n",
    "good_pair(A,k)"
   ]
  },
  {
   "cell_type": "code",
   "execution_count": null,
   "id": "e136fab3",
   "metadata": {},
   "outputs": [],
   "source": []
  },
  {
   "cell_type": "code",
   "execution_count": 1127,
   "id": "1a1b3229",
   "metadata": {},
   "outputs": [
    {
     "data": {
      "text/plain": [
       "False"
      ]
     },
     "execution_count": 1127,
     "metadata": {},
     "output_type": "execute_result"
    }
   ],
   "source": [
    "A = [2,8,4,-3,9,-1,10,0,18,43,24]  # (i,j ) such that A[i]+A[k] = 11\n",
    "                                  # (i,i NOT valid pair)  \n",
    "k = -6                   # A[i] + A[i] = k , then A[i] = k/2\n",
    "def good_pair(A,k):\n",
    "    present = set(A)\n",
    "    \n",
    "    count_k_2 = 0\n",
    "    for x in A:\n",
    "        if  x == k-x:\n",
    "            count_k_2 += 1\n",
    "        elif k - x in present:\n",
    "            return True\n",
    "    if count_k_2 >= 2:\n",
    "        return True\n",
    "    return False\n",
    "good_pair(A,k)"
   ]
  },
  {
   "cell_type": "code",
   "execution_count": null,
   "id": "5c182080",
   "metadata": {},
   "outputs": [],
   "source": []
  },
  {
   "cell_type": "code",
   "execution_count": 1137,
   "id": "fc43338b",
   "metadata": {},
   "outputs": [
    {
     "data": {
      "text/plain": [
       "True"
      ]
     },
     "execution_count": 1137,
     "metadata": {},
     "output_type": "execute_result"
    }
   ],
   "source": [
    "A = [2,8,4,-3,9,-1,10,0,18,43,24]  # (i,j ) such that A[i]+A[k] = 11\n",
    "                                  # (i,i NOT valid pair)  \n",
    "k = -6                   # A[i] + A[i] = k , then A[i] = k/2\n",
    "def good_pair(A,k):\n",
    "    present_set = set(A)\n",
    "    \n",
    "    for x in A:\n",
    "        if k-x in present_set:\n",
    "            return True\n",
    "        present_set.add(x)\n",
    "    return False\n",
    "            \n",
    "    \n",
    "good_pair(A,k)"
   ]
  },
  {
   "cell_type": "code",
   "execution_count": 1148,
   "id": "2f947920",
   "metadata": {},
   "outputs": [
    {
     "data": {
      "text/plain": [
       "False"
      ]
     },
     "execution_count": 1148,
     "metadata": {},
     "output_type": "execute_result"
    }
   ],
   "source": [
    "A = [2,1,1,2,5]\n",
    "k = 5\n",
    "good_pair(A,k)"
   ]
  },
  {
   "cell_type": "code",
   "execution_count": 1149,
   "id": "42f24565",
   "metadata": {},
   "outputs": [
    {
     "data": {
      "text/plain": [
       "True"
      ]
     },
     "execution_count": 1149,
     "metadata": {},
     "output_type": "execute_result"
    }
   ],
   "source": [
    "A = [2,1,1,2,5]\n",
    "k = 4\n",
    "good_pair(A,k)"
   ]
  },
  {
   "cell_type": "code",
   "execution_count": 1156,
   "id": "13f8929e",
   "metadata": {},
   "outputs": [
    {
     "data": {
      "text/plain": [
       "True"
      ]
     },
     "execution_count": 1156,
     "metadata": {},
     "output_type": "execute_result"
    }
   ],
   "source": [
    "A = [2]\n",
    "k = 4\n",
    "good_pair(A,k)"
   ]
  },
  {
   "cell_type": "code",
   "execution_count": null,
   "id": "e76ff6ca",
   "metadata": {},
   "outputs": [],
   "source": []
  },
  {
   "cell_type": "code",
   "execution_count": null,
   "id": "047f576c",
   "metadata": {},
   "outputs": [],
   "source": []
  },
  {
   "cell_type": "markdown",
   "id": "ebeee24d",
   "metadata": {},
   "source": [
    "### Subarray distinct\n",
    "\n",
    "#### given an array of integers A and an integer k , find the number of distinct elements in every subarray of length  k : "
   ]
  },
  {
   "cell_type": "code",
   "execution_count": 1160,
   "id": "b224c3bb",
   "metadata": {},
   "outputs": [
    {
     "data": {
      "text/plain": [
       "[4, 5, 4, 5, 5, 5, 4]"
      ]
     },
     "execution_count": 1160,
     "metadata": {},
     "output_type": "execute_result"
    }
   ],
   "source": [
    "def subarray_distinct(A,k):\n",
    "    n = len(A)\n",
    "    ans = []\n",
    "    for s in range(n-k+1):\n",
    "        for e in range(s,k + s - 1 +1):\n",
    "            distinct_lenghth = (len(set(A[s:e+1])))\n",
    "        ans.append(distinct_lenghth)    \n",
    "    return ans\n",
    "            \n",
    "\n",
    "\n",
    "A = [1,2,1,3,4,5,1,2,3,4,1]\n",
    "k = 5\n",
    "subarray_distinct(A,k)"
   ]
  },
  {
   "cell_type": "markdown",
   "id": "74cc761b",
   "metadata": {},
   "source": [
    "    e-s+1 = k\n",
    "    e = k + s -1 "
   ]
  },
  {
   "cell_type": "code",
   "execution_count": 1168,
   "id": "e53d299e",
   "metadata": {},
   "outputs": [
    {
     "data": {
      "text/plain": [
       "[4, 5, 4, 5, 5, 5, 4]"
      ]
     },
     "execution_count": 1168,
     "metadata": {},
     "output_type": "execute_result"
    }
   ],
   "source": [
    "def subarray_distinct(A,k):\n",
    "    n = len(A)\n",
    "    ans = []\n",
    "    for s in range(n-k+1):\n",
    "        distinct_ = set()\n",
    "        for e in range(s,k + s - 1 +1):\n",
    "            distinct_.add(A[e])\n",
    "        ans.append(len(distinct_))\n",
    "    return ans\n",
    "            \n",
    "\n",
    "\n",
    "A = [1,2,1,3,4,5,1,2,3,4,1]\n",
    "k = 5\n",
    "subarray_distinct(A,k)"
   ]
  },
  {
   "cell_type": "code",
   "execution_count": 1169,
   "id": "858a9a74",
   "metadata": {},
   "outputs": [
    {
     "data": {
      "text/plain": [
       "[2, 3, 3, 3, 3]"
      ]
     },
     "execution_count": 1169,
     "metadata": {},
     "output_type": "execute_result"
    }
   ],
   "source": [
    "A = [1,1,2,3,6,8,10]\n",
    "k = 3\n",
    "subarray_distinct(A,k)"
   ]
  },
  {
   "cell_type": "code",
   "execution_count": null,
   "id": "dc58411b",
   "metadata": {},
   "outputs": [],
   "source": []
  },
  {
   "cell_type": "code",
   "execution_count": null,
   "id": "933460a2",
   "metadata": {},
   "outputs": [],
   "source": []
  },
  {
   "cell_type": "code",
   "execution_count": null,
   "id": "e950ec3a",
   "metadata": {},
   "outputs": [],
   "source": []
  },
  {
   "cell_type": "code",
   "execution_count": 1173,
   "id": "8a4316e7",
   "metadata": {},
   "outputs": [
    {
     "data": {
      "text/plain": [
       "[2, 3, 3, 3, 3]"
      ]
     },
     "execution_count": 1173,
     "metadata": {},
     "output_type": "execute_result"
    }
   ],
   "source": [
    "def subarray_distinct(A,k):\n",
    "    n = len(A)\n",
    "    from collections import Counter\n",
    "    ans = []\n",
    "    distinct_dict = Counter(A[:k])\n",
    "    ans.append(len(distinct_dict))\n",
    "    for i in range(k,n):\n",
    "\n",
    "        distinct_dict[A[i]] += 1\n",
    "        distinct_dict[A[i-k]] -= 1\n",
    "        \n",
    "        if distinct_dict[A[i-k]] == 0:\n",
    "            del distinct_dict[A[i-k]]\n",
    "        \n",
    "        ans.append(len(distinct_dict))\n",
    "    return ans\n",
    "        \n",
    "        \n",
    "        \n",
    "\n",
    "\n",
    "A = [1,1,2,3,6,8,10]\n",
    "k = 3\n",
    "subarray_distinct(A,k)"
   ]
  },
  {
   "cell_type": "code",
   "execution_count": null,
   "id": "0685ce82",
   "metadata": {},
   "outputs": [],
   "source": []
  },
  {
   "cell_type": "code",
   "execution_count": null,
   "id": "710cf043",
   "metadata": {},
   "outputs": [],
   "source": []
  },
  {
   "cell_type": "markdown",
   "id": "21369d79",
   "metadata": {},
   "source": [
    "### Subarray sum : \n",
    "\n",
    "### given an array of intergers A , and integer k , check if there is any subarray of A who's sum is k . \n",
    "\n",
    "A = [4,2,-1,3,10,5,6,3]\n",
    "k = 12 [-1,3,10]"
   ]
  },
  {
   "cell_type": "code",
   "execution_count": 1174,
   "id": "fdb5ecf9",
   "metadata": {},
   "outputs": [],
   "source": [
    "A = [4,2,-1,3,10,5,6,3]\n",
    "k = 12"
   ]
  },
  {
   "cell_type": "code",
   "execution_count": 1182,
   "id": "bd86e055",
   "metadata": {},
   "outputs": [
    {
     "name": "stdout",
     "output_type": "stream",
     "text": [
      "[-1, 3, 10]\n"
     ]
    },
    {
     "data": {
      "text/plain": [
       "True"
      ]
     },
     "execution_count": 1182,
     "metadata": {},
     "output_type": "execute_result"
    }
   ],
   "source": [
    "def subarray_k_sum(A,k):\n",
    "    n = len(A)\n",
    "    \n",
    "    for s in range(n):\n",
    "        for e in range(s,k + s):\n",
    "            if sum(A[s:e+1]) == k:\n",
    "                print(A[s:e+1])\n",
    "                return True\n",
    "    return False\n",
    "            \n",
    "    \n",
    "    \n",
    "    \n",
    "A = [4,2,-1,3,10,5,6,3]\n",
    "k = 12 \n",
    "subarray_k_sum(A,k)"
   ]
  },
  {
   "cell_type": "code",
   "execution_count": null,
   "id": "50912ede",
   "metadata": {},
   "outputs": [],
   "source": []
  },
  {
   "cell_type": "code",
   "execution_count": 1199,
   "id": "ef3a7596",
   "metadata": {},
   "outputs": [
    {
     "name": "stdout",
     "output_type": "stream",
     "text": [
      "[4, 6, 5, 8, 18, 23, 29, 32]\n",
      "[-1, 3, 10]\n"
     ]
    }
   ],
   "source": [
    "def subarray_k_sum(A,k):\n",
    "    n = len(A)\n",
    "    \n",
    "    for i in A:\n",
    "        if i == k:\n",
    "            return True\n",
    "    \n",
    "    if sum(A) == k:\n",
    "        return True\n",
    "    \n",
    "    prefixSum = [A[0]]\n",
    "    \n",
    "    for x in A[1:]:\n",
    "        prefixSum.append( x + prefixSum[-1] )\n",
    "    print(prefixSum)\n",
    "        \n",
    "    for i in range(1,len(prefixSum)):\n",
    "        for j in range(len(prefixSum)):\n",
    "            if prefixSum[j]-prefixSum[i-1] == k:\n",
    "                print(A[i:j+1])\n",
    "        \n",
    "A = [4,2,-1,3,10,5,6,3]\n",
    "k = 12    \n",
    "subarray_k_sum(A,k)"
   ]
  },
  {
   "cell_type": "code",
   "execution_count": null,
   "id": "adb7744e",
   "metadata": {},
   "outputs": [],
   "source": []
  },
  {
   "cell_type": "code",
   "execution_count": 1201,
   "id": "78250aa4",
   "metadata": {},
   "outputs": [
    {
     "name": "stdout",
     "output_type": "stream",
     "text": [
      "[4, 6, 5, 8, 18, 23, 29, 32]\n"
     ]
    },
    {
     "data": {
      "text/plain": [
       "True"
      ]
     },
     "execution_count": 1201,
     "metadata": {},
     "output_type": "execute_result"
    }
   ],
   "source": [
    "def subarray_k_sum(A,k):\n",
    "    n = len(A)\n",
    "    \n",
    "    for i in A:\n",
    "        if i == k:\n",
    "            return True\n",
    "    \n",
    "    if sum(A) == k:\n",
    "        return True\n",
    "    \n",
    "    prefixSum = [A[0]]\n",
    "    \n",
    "    for x in A[1:]:\n",
    "        prefixSum.append( x + prefixSum[-1] )\n",
    "    print(prefixSum)\n",
    "        \n",
    "#     for i in range(1,len(prefixSum)):\n",
    "#         for j in range(len(prefixSum)):\n",
    "#             if prefixSum[j]-prefixSum[i-1] == k:\n",
    "#                 print(A[i:j+1])\n",
    "    \n",
    "    present_set = set(prefixSum)\n",
    "    for x in prefixSum:\n",
    "        if k-x in present_set:\n",
    "            return True\n",
    "        present_set.add(x)\n",
    "    return False\n",
    "        \n",
    "    \n",
    "        \n",
    "            \n",
    "    \n",
    "    \n",
    "    \n",
    "A = [4,2,-1,3,10,5,6,3]\n",
    "k = 12    \n",
    "subarray_k_sum(A,k)"
   ]
  },
  {
   "cell_type": "code",
   "execution_count": 1204,
   "id": "db90e2d3",
   "metadata": {},
   "outputs": [
    {
     "data": {
      "application/javascript": [
       "\n",
       "        if (window._pyforest_update_imports_cell) { window._pyforest_update_imports_cell('import numpy as np\\nfrom scipy import stats'); }\n",
       "    "
      ],
      "text/plain": [
       "<IPython.core.display.Javascript object>"
      ]
     },
     "metadata": {},
     "output_type": "display_data"
    },
    {
     "data": {
      "text/plain": [
       "3.0"
      ]
     },
     "execution_count": 1204,
     "metadata": {},
     "output_type": "execute_result"
    }
   ],
   "source": [
    "np.ceil((500/200))"
   ]
  },
  {
   "cell_type": "code",
   "execution_count": null,
   "id": "9c4dcf52",
   "metadata": {},
   "outputs": [],
   "source": []
  },
  {
   "cell_type": "code",
   "execution_count": null,
   "id": "2921b0c7",
   "metadata": {},
   "outputs": [],
   "source": []
  },
  {
   "cell_type": "code",
   "execution_count": null,
   "id": "3fabf41d",
   "metadata": {},
   "outputs": [],
   "source": []
  }
 ],
 "metadata": {
  "kernelspec": {
   "display_name": "Python 3 (ipykernel)",
   "language": "python",
   "name": "python3"
  },
  "language_info": {
   "codemirror_mode": {
    "name": "ipython",
    "version": 3
   },
   "file_extension": ".py",
   "mimetype": "text/x-python",
   "name": "python",
   "nbconvert_exporter": "python",
   "pygments_lexer": "ipython3",
   "version": "3.9.7"
  }
 },
 "nbformat": 4,
 "nbformat_minor": 5
}
