{
 "cells": [
  {
   "cell_type": "code",
   "execution_count": 1,
   "id": "14a926ff",
   "metadata": {},
   "outputs": [
    {
     "name": "stdout",
     "output_type": "stream",
     "text": [
      "\n",
      "Here is a list of the Python keywords.  Enter any keyword to get more help.\n",
      "\n",
      "False               break               for                 not\n",
      "None                class               from                or\n",
      "True                continue            global              pass\n",
      "__peg_parser__      def                 if                  raise\n",
      "and                 del                 import              return\n",
      "as                  elif                in                  try\n",
      "assert              else                is                  while\n",
      "async               except              lambda              with\n",
      "await               finally             nonlocal            yield\n",
      "\n"
     ]
    }
   ],
   "source": [
    "help(\"keywords\")"
   ]
  },
  {
   "cell_type": "code",
   "execution_count": 2,
   "id": "335a219d",
   "metadata": {},
   "outputs": [],
   "source": [
    "import math"
   ]
  },
  {
   "cell_type": "markdown",
   "id": "c8318e2d",
   "metadata": {},
   "source": [
    "#### Given a number N>=1, when can we say it is a prime number ?\n",
    "\n",
    "    When no of factors are == 2\n",
    "    \n",
    "    \n",
    "    \n",
    "    Number 1 neither prime not composit \n",
    "    2 is prime \n",
    "    3 is prime \n",
    "    4 is composite. ... \n",
    "    "
   ]
  },
  {
   "cell_type": "markdown",
   "id": "de91c578",
   "metadata": {},
   "source": [
    "## if prime ? "
   ]
  },
  {
   "cell_type": "code",
   "execution_count": 3,
   "id": "4f4ea9af",
   "metadata": {},
   "outputs": [
    {
     "data": {
      "text/plain": [
       "'1 is neither prime nor composite'"
      ]
     },
     "execution_count": 3,
     "metadata": {},
     "output_type": "execute_result"
    }
   ],
   "source": [
    "N = 1\n",
    "def isprime(N):\n",
    "    if N == 1:\n",
    "        return \"1 is neither prime nor composite\"\n",
    "    f = 0\n",
    "    for i in range(1,N+1):\n",
    "        if N%i == 0:\n",
    "            f += 1\n",
    "    return f  == 2\n",
    "    \n",
    "isprime(1)"
   ]
  },
  {
   "cell_type": "code",
   "execution_count": 4,
   "id": "49c93a65",
   "metadata": {},
   "outputs": [
    {
     "data": {
      "text/plain": [
       "False"
      ]
     },
     "execution_count": 4,
     "metadata": {},
     "output_type": "execute_result"
    }
   ],
   "source": [
    "isprime(4)"
   ]
  },
  {
   "cell_type": "code",
   "execution_count": 5,
   "id": "ad9ec9a2",
   "metadata": {},
   "outputs": [
    {
     "data": {
      "text/plain": [
       "True"
      ]
     },
     "execution_count": 5,
     "metadata": {},
     "output_type": "execute_result"
    }
   ],
   "source": [
    "isprime(3)"
   ]
  },
  {
   "cell_type": "code",
   "execution_count": null,
   "id": "3efbf10c",
   "metadata": {},
   "outputs": [],
   "source": []
  },
  {
   "cell_type": "code",
   "execution_count": 6,
   "id": "23927927",
   "metadata": {},
   "outputs": [
    {
     "data": {
      "text/plain": [
       "True"
      ]
     },
     "execution_count": 6,
     "metadata": {},
     "output_type": "execute_result"
    }
   ],
   "source": [
    "N = 1\n",
    "def isprime(N):\n",
    "    if N == 1:\n",
    "        return \"1 is neither prime nor composite\"\n",
    "    for i in range(2,N):\n",
    "        if N%i == 0:\n",
    "            return False\n",
    "    return True\n",
    "    \n",
    "    \n",
    "isprime(97)"
   ]
  },
  {
   "cell_type": "code",
   "execution_count": null,
   "id": "01c33e98",
   "metadata": {},
   "outputs": [],
   "source": []
  },
  {
   "cell_type": "markdown",
   "id": "3c4f5bfd",
   "metadata": {},
   "source": [
    "    approximately a computer can handle 10^8 iterations in 1 seconds .\n",
    "    \n",
    "    if we want to find if ( 10^9 + 7 ) a prime number ,\n",
    "    this will take 10 seconds approximately with O(n) algorithm \n",
    "    \n",
    "    if we want to find if ( 10^18) a prime number ,\n",
    "    above algorithm O(n) will take 10 billion seconds =~ 317 years .\n",
    "    \n",
    "    \n",
    "    so we need to optimize the time taken to run : "
   ]
  },
  {
   "cell_type": "markdown",
   "id": "03068840",
   "metadata": {},
   "source": [
    "    N = 60\n",
    "\n",
    "    factors of 60 \n",
    "    -------------\n",
    "    1  * 60     i < N\n",
    "    2  * 30\n",
    "    3  * 20\n",
    "    4  * 15\n",
    "    5  * 12\n",
    "    6  * 10\n",
    "    --------factors are repeting after this point (factos appear in pairs) \n",
    "    10 * 6      i > N/i\n",
    "    12 * 5\n",
    "    15 * 4\n",
    "    20 * 3\n",
    "    30 * 2\n",
    "    60 * 1      \n",
    "    -------------"
   ]
  },
  {
   "cell_type": "markdown",
   "id": "5a7c18f3",
   "metadata": {},
   "source": [
    "    24:\n",
    "    \n",
    "    1    24     a < b\n",
    "    2    12\n",
    "    3    8\n",
    "    4    6\n",
    "    -------------\n",
    "    6    4      a > b\n",
    "    8    3\n",
    "    12   2\n",
    "    24   1\n",
    "    \n",
    "    \n",
    "    a > b\n",
    "    a*b = N\n",
    "    a = N/b\n",
    "    \n",
    "    a > b\n",
    "    N/b > b \n",
    "    N > b**2\n",
    "    \n",
    "    sq(N) > b\n",
    "    \n",
    "    "
   ]
  },
  {
   "cell_type": "markdown",
   "id": "7c15be1b",
   "metadata": {},
   "source": [
    "    instead of looping from 1 to N\n",
    "    we can only loop till square root of N as after that we wont find any new factors."
   ]
  },
  {
   "cell_type": "code",
   "execution_count": 7,
   "id": "ad3be2fb",
   "metadata": {},
   "outputs": [],
   "source": [
    "import math"
   ]
  },
  {
   "cell_type": "code",
   "execution_count": null,
   "id": "95044b9d",
   "metadata": {},
   "outputs": [],
   "source": []
  },
  {
   "cell_type": "code",
   "execution_count": 8,
   "id": "d9cf1a63",
   "metadata": {},
   "outputs": [
    {
     "data": {
      "text/plain": [
       "(True, False, True)"
      ]
     },
     "execution_count": 8,
     "metadata": {},
     "output_type": "execute_result"
    }
   ],
   "source": [
    "N = 1\n",
    "\n",
    "def isprime(N):\n",
    "    if N == 1:\n",
    "        return \"1 is neither prime nor composite\"\n",
    "    factor_count = 0\n",
    "    for i in range(1,(int(math.sqrt(N))+1)):\n",
    "        if N%i == 0:\n",
    "            factor_count += 2\n",
    "    return factor_count == 2\n",
    "    \n",
    "    \n",
    "isprime(97),isprime(98),isprime(13)"
   ]
  },
  {
   "cell_type": "markdown",
   "id": "044e8375",
   "metadata": {},
   "source": [
    "    # from above code, we will be able to calculate if 10**18 is prime or not in just 10 seconds "
   ]
  },
  {
   "cell_type": "markdown",
   "id": "ac4864b5",
   "metadata": {},
   "source": [
    "    (math.sqrt(10**18))/10**8 = 10"
   ]
  },
  {
   "cell_type": "code",
   "execution_count": null,
   "id": "9d59a769",
   "metadata": {},
   "outputs": [],
   "source": []
  },
  {
   "cell_type": "code",
   "execution_count": null,
   "id": "8655f22f",
   "metadata": {},
   "outputs": [],
   "source": []
  },
  {
   "cell_type": "code",
   "execution_count": 9,
   "id": "b64fbd3f",
   "metadata": {},
   "outputs": [],
   "source": [
    "# if we dont want to use math library or pythonic way (N)**0.5:"
   ]
  },
  {
   "cell_type": "markdown",
   "id": "8090ef42",
   "metadata": {},
   "source": [
    "    i < sqrt(N) +1 \n",
    "    i^2 < (sqrt(N)+1)^2\n",
    "    i^2 < N+1"
   ]
  },
  {
   "cell_type": "code",
   "execution_count": 10,
   "id": "4d64bb6b",
   "metadata": {},
   "outputs": [
    {
     "data": {
      "text/plain": [
       "(True, False, True, True)"
      ]
     },
     "execution_count": 10,
     "metadata": {},
     "output_type": "execute_result"
    }
   ],
   "source": [
    "N = 1\n",
    "def isprime(N):\n",
    "    \n",
    "    i = 1\n",
    "    factor_count = 0\n",
    "    \n",
    "    while i*i <= N:\n",
    "        \n",
    "        if N%i == 0:\n",
    "            factor_count += 2\n",
    "        i += 1\n",
    "        \n",
    "    return factor_count == 2\n",
    "    \n",
    "    \n",
    "isprime(97),isprime(98),isprime(13),isprime(3)"
   ]
  },
  {
   "cell_type": "code",
   "execution_count": null,
   "id": "59ca08bb",
   "metadata": {},
   "outputs": [],
   "source": []
  },
  {
   "cell_type": "code",
   "execution_count": null,
   "id": "e771e660",
   "metadata": {},
   "outputs": [],
   "source": []
  },
  {
   "cell_type": "code",
   "execution_count": 11,
   "id": "71f1ed4f",
   "metadata": {},
   "outputs": [
    {
     "data": {
      "text/plain": [
       "(True, False, True, True, False, False)"
      ]
     },
     "execution_count": 11,
     "metadata": {},
     "output_type": "execute_result"
    }
   ],
   "source": [
    "N = 1\n",
    "def isprime(N):\n",
    "    \n",
    "    i = 2\n",
    "    \n",
    "    while i*i <= N:\n",
    "        \n",
    "        if N%i == 0:\n",
    "            return False\n",
    "        i += 1\n",
    "        \n",
    "    return True\n",
    "    \n",
    "    \n",
    "isprime(97),isprime(98),isprime(13),isprime(3),isprime(4),isprime(25)"
   ]
  },
  {
   "cell_type": "code",
   "execution_count": null,
   "id": "7a77628f",
   "metadata": {},
   "outputs": [],
   "source": []
  },
  {
   "cell_type": "code",
   "execution_count": null,
   "id": "c0fb2e7c",
   "metadata": {},
   "outputs": [],
   "source": []
  },
  {
   "cell_type": "markdown",
   "id": "bd2b6c19",
   "metadata": {},
   "source": [
    "## given a number N find floor largest number  <= sqrt(N)\n",
    "## ignore the factorial part (round down)\n",
    "    \n",
    "        sqrt(49) = 7\n",
    "        sqrt(24) = 4\n",
    "        sqrt(25) = 5\n",
    "        sqrt(26) = 5"
   ]
  },
  {
   "cell_type": "code",
   "execution_count": 12,
   "id": "345384d2",
   "metadata": {},
   "outputs": [],
   "source": [
    "# O(sqrt(N))"
   ]
  },
  {
   "cell_type": "code",
   "execution_count": 13,
   "id": "2309b0e7",
   "metadata": {},
   "outputs": [
    {
     "data": {
      "text/plain": [
       "(5, 5, 4)"
      ]
     },
     "execution_count": 13,
     "metadata": {},
     "output_type": "execute_result"
    }
   ],
   "source": [
    "def returnPerfectSQ_o_sq(N):\n",
    "    i = 1\n",
    "    while i*i <= N:\n",
    "        i += 1\n",
    "    return i-1\n",
    "        \n",
    "returnPerfectSQ_o_sq(25),returnPerfectSQ_o_sq(26),returnPerfectSQ_o_sq(23)"
   ]
  },
  {
   "cell_type": "code",
   "execution_count": 14,
   "id": "19e087b3",
   "metadata": {},
   "outputs": [],
   "source": [
    "## using binary search (O(log(n)))"
   ]
  },
  {
   "cell_type": "code",
   "execution_count": 15,
   "id": "4cdead8e",
   "metadata": {},
   "outputs": [],
   "source": [
    "def returnPerfectSQ(N):\n",
    "    high = N\n",
    "    low = 1\n",
    "    \n",
    "    \n",
    "    while low <= high:  \n",
    "        mid = ( high + low ) // 2 \n",
    "        \n",
    "        \n",
    "        if mid * mid > N:\n",
    "            high = mid - 1\n",
    "            \n",
    "            \n",
    "        elif mid * mid < N:\n",
    "            low = mid + 1\n",
    "        \n",
    "        else:\n",
    "            return mid\n",
    "            \n",
    "        \n",
    "    return high\n",
    "            "
   ]
  },
  {
   "cell_type": "code",
   "execution_count": 16,
   "id": "8ba8a8e7",
   "metadata": {},
   "outputs": [
    {
     "data": {
      "text/plain": [
       "(5, 5, 4)"
      ]
     },
     "execution_count": 16,
     "metadata": {},
     "output_type": "execute_result"
    }
   ],
   "source": [
    "returnPerfectSQ(26),returnPerfectSQ(25),returnPerfectSQ(24)"
   ]
  },
  {
   "cell_type": "code",
   "execution_count": null,
   "id": "34ef030e",
   "metadata": {},
   "outputs": [],
   "source": []
  },
  {
   "cell_type": "code",
   "execution_count": 17,
   "id": "9c2d5955",
   "metadata": {},
   "outputs": [
    {
     "data": {
      "text/plain": [
       "1000000000"
      ]
     },
     "execution_count": 17,
     "metadata": {},
     "output_type": "execute_result"
    }
   ],
   "source": [
    "returnPerfectSQ(10**18) # takes 0.6 micro seconds "
   ]
  },
  {
   "cell_type": "code",
   "execution_count": null,
   "id": "9ca52437",
   "metadata": {},
   "outputs": [],
   "source": []
  },
  {
   "cell_type": "markdown",
   "id": "750bed4c",
   "metadata": {},
   "source": [
    "### Square root of a number\n",
    "\n",
    "#### Given a number A. Return square root of the number if it is perfect square otherwise return -1.\n",
    "\n",
    "\n",
    "\n",
    "    Problem Constraints\n",
    "\n",
    "    1 <= A <= 108\n",
    "\n",
    "\n",
    "\n",
    "    Input Format\n",
    "\n",
    "    First argument is an integer A.\n",
    "\n",
    "\n",
    "\n",
    "    Output Format\n",
    "\n",
    "    Return an integer which is the square root of A if A is perfect square otherwise return -1.\n",
    "\n",
    "\n",
    "\n",
    "    Example Input\n",
    "\n",
    "    Input 1:\n",
    "\n",
    "    A = 4\n",
    "    Input 2:\n",
    "\n",
    "    A = 1001\n",
    "\n",
    "\n",
    "    Example Output\n",
    "\n",
    "    Output 1:\n",
    "\n",
    "    2\n",
    "    Output 2:\n",
    "\n",
    "    -1\n",
    "\n",
    "\n",
    "    Example Explanation\n",
    "\n",
    "    Explanation 1:\n",
    "\n",
    "    sqrt(4) = 2\n",
    "    Explanation 2:\n",
    "\n",
    "    1001 is not a perfect square."
   ]
  },
  {
   "cell_type": "code",
   "execution_count": 18,
   "id": "f3830829",
   "metadata": {},
   "outputs": [],
   "source": [
    "def perfect_(A):\n",
    "\n",
    "    def perfect_square(n):\n",
    "\n",
    "        low = 1\n",
    "        high = n\n",
    "\n",
    "        while low <= high: \n",
    "            mid = (low + high)//2\n",
    "            if mid * mid > n:\n",
    "                high = mid - 1 \n",
    "\n",
    "            elif mid * mid < n:\n",
    "                low = mid + 1\n",
    "            else:\n",
    "                return mid\n",
    "        return None\n",
    "\n",
    "    def sqrt_num_if_perfect_sq(n):\n",
    "        if perfect_square(n) != None:\n",
    "            return perfect_square(n) \n",
    "        return -1\n",
    "\n",
    "    return sqrt_num_if_perfect_sq(A)      "
   ]
  },
  {
   "cell_type": "code",
   "execution_count": 19,
   "id": "ab255a63",
   "metadata": {},
   "outputs": [
    {
     "data": {
      "text/plain": [
       "-1"
      ]
     },
     "execution_count": 19,
     "metadata": {},
     "output_type": "execute_result"
    }
   ],
   "source": [
    "perfect_(37)"
   ]
  },
  {
   "cell_type": "code",
   "execution_count": 20,
   "id": "804ef8c7",
   "metadata": {},
   "outputs": [
    {
     "data": {
      "text/plain": [
       "6"
      ]
     },
     "execution_count": 20,
     "metadata": {},
     "output_type": "execute_result"
    }
   ],
   "source": [
    "perfect_(36)"
   ]
  },
  {
   "cell_type": "code",
   "execution_count": null,
   "id": "95d4f1fe",
   "metadata": {},
   "outputs": [],
   "source": []
  },
  {
   "cell_type": "markdown",
   "id": "f4e710d8",
   "metadata": {},
   "source": [
    " ### Is It Perfect?\n",
    "\n",
    "#### You are given N positive integers. For each given integer A, you have to tell whether it is a perfect number or not. A perfect number is a positive integer which is equal to the sum of its proper positive divisors.\n",
    "\n",
    "\n",
    "\n",
    "    Problem Constraints\n",
    "\n",
    "    1 <= N <= 10\n",
    "\n",
    "    1 <= A <= 106\n",
    "\n",
    "\n",
    "\n",
    "    Input Format\n",
    "\n",
    "    The first line of the input contains a single integer N.\n",
    "\n",
    "    Each of the next N lines contains a single integer A.\n",
    "\n",
    "\n",
    "\n",
    "    Output Format\n",
    "\n",
    "    In a separate line, print YES if a given integer is perfect, else print NO.\n",
    "\n",
    "\n",
    "\n",
    "    Example Input\n",
    "\n",
    "    Input 1:\n",
    "\n",
    "     2\n",
    "     4\n",
    "     6 \n",
    "    Input 2:\n",
    "\n",
    "     1\n",
    "     3 \n",
    "\n",
    "\n",
    "    Example Output\n",
    "\n",
    "    Output 1:\n",
    "\n",
    "     NO\n",
    "     YES \n",
    "    Output 2:\n",
    "\n",
    "     NO \n",
    "\n",
    "\n",
    "    Example Explanation\n",
    "\n",
    "    Explanation 1:\n",
    "\n",
    "     For A = 4, the answer is \"NO\" as sum of its proper divisors = 1 + 2 = 3, is not equal to 4. \n",
    "     For A = 6, the answer is \"YES\" as sum of its proper divisors = 1 + 2 + 3 = 6, is equal to 6. \n",
    "    Explanation 2:\n",
    "\n",
    "     For A = 3, the answer is \"NO\" as sum of its proper divisors = 1, is not equal to 3. "
   ]
  },
  {
   "cell_type": "code",
   "execution_count": 21,
   "id": "b85ac9cb",
   "metadata": {},
   "outputs": [
    {
     "name": "stdout",
     "output_type": "stream",
     "text": [
      "1\n",
      "2\n",
      "3\n"
     ]
    },
    {
     "data": {
      "text/plain": [
       "True"
      ]
     },
     "execution_count": 21,
     "metadata": {},
     "output_type": "execute_result"
    }
   ],
   "source": [
    "def isperfect(n):\n",
    "    factors = 0 \n",
    "    for i in range(1,n):\n",
    "        if n%i == 0:\n",
    "            print(i)\n",
    "            factors += i\n",
    "    if factors == n:\n",
    "        return True\n",
    "    return False\n",
    "            \n",
    "    \n",
    "isperfect(6)"
   ]
  },
  {
   "cell_type": "code",
   "execution_count": null,
   "id": "ec8d88a9",
   "metadata": {},
   "outputs": [],
   "source": []
  },
  {
   "cell_type": "code",
   "execution_count": 22,
   "id": "b6f7f901",
   "metadata": {},
   "outputs": [
    {
     "name": "stdout",
     "output_type": "stream",
     "text": [
      "1\n",
      "2\n",
      "3\n"
     ]
    },
    {
     "data": {
      "text/plain": [
       "True"
      ]
     },
     "execution_count": 22,
     "metadata": {},
     "output_type": "execute_result"
    }
   ],
   "source": [
    "def isperfect(n):\n",
    "    factors = 0 \n",
    "    i = 1\n",
    "    while i < n:\n",
    "        if n%i == 0:\n",
    "            print(i)\n",
    "            factors += i\n",
    "        i+=1\n",
    "    if factors == n:\n",
    "        return True\n",
    "    return False\n",
    "            \n",
    "    \n",
    "isperfect(6)"
   ]
  },
  {
   "cell_type": "code",
   "execution_count": null,
   "id": "7325fc9a",
   "metadata": {},
   "outputs": [],
   "source": []
  },
  {
   "cell_type": "markdown",
   "id": "b4ac6d08",
   "metadata": {},
   "source": [
    "### Armstrong Numbers!\n",
    "\n",
    "#### You are given an integer N you need to print all the Armstrong Numbers between 1 to N.  If sum of cubes of each digit of the number is equal to the number itself, then the number is called an Armstrong number.  \n",
    "    For example, 153 = ( 1 * 1 * 1 ) + ( 5 * 5 * 5 ) + ( 3 * 3 * 3 ).\n",
    "\n",
    "        Problem Constraints\n",
    "        1 <= N <= 500\n",
    "\n",
    "        Input Format\n",
    "        First and only line of input contains an integer N.\n",
    "\n",
    "        Output Format\n",
    "        Output all the Armstrong numbers in range [1,N] each in a new line.\n",
    "\n",
    "        Example Input\n",
    "        Input 1:\n",
    "         5\n",
    "        Input 2:\n",
    "         200\n",
    "\n",
    "        Example Output\n",
    "        Output 1:\n",
    "        1\n",
    "        Output 2:\n",
    "        1\n",
    "        153\n",
    "\n",
    "        Example Explanation\n",
    "        Explanation 1:\n",
    "        1 is an armstrong number.\n",
    "        Explanation 2:\n",
    "        1 and 153 are armstrong number under 200."
   ]
  },
  {
   "cell_type": "code",
   "execution_count": 23,
   "id": "4c89aecf",
   "metadata": {},
   "outputs": [],
   "source": [
    "def isArmstrong(n):\n",
    "    total = 0\n",
    "    original = n\n",
    "    while n != 0:\n",
    "        digit = n % 10\n",
    "        n = n//10\n",
    "        total += (digit)**(len(str(original)))\n",
    "    \n",
    "    if total == original:\n",
    "        return True\n",
    "    return False\n",
    "    \n",
    "        "
   ]
  },
  {
   "cell_type": "code",
   "execution_count": 24,
   "id": "67265877",
   "metadata": {},
   "outputs": [
    {
     "data": {
      "text/plain": [
       "True"
      ]
     },
     "execution_count": 24,
     "metadata": {},
     "output_type": "execute_result"
    }
   ],
   "source": [
    "isArmstrong(548834)"
   ]
  },
  {
   "cell_type": "code",
   "execution_count": null,
   "id": "4908fd3b",
   "metadata": {},
   "outputs": [],
   "source": []
  },
  {
   "cell_type": "code",
   "execution_count": 25,
   "id": "247c9f37",
   "metadata": {},
   "outputs": [
    {
     "name": "stdout",
     "output_type": "stream",
     "text": [
      "0\n",
      "1\n",
      "2\n",
      "3\n",
      "4\n",
      "5\n",
      "6\n",
      "7\n",
      "8\n",
      "9\n",
      "153\n",
      "370\n",
      "371\n",
      "407\n",
      "1634\n",
      "8208\n",
      "9474\n",
      "54748\n",
      "92727\n",
      "93084\n"
     ]
    }
   ],
   "source": [
    "for i in range(100000):\n",
    "    if isArmstrong(i):\n",
    "        print(i)\n",
    "    "
   ]
  },
  {
   "cell_type": "code",
   "execution_count": null,
   "id": "a598c713",
   "metadata": {},
   "outputs": [],
   "source": []
  },
  {
   "cell_type": "code",
   "execution_count": null,
   "id": "cf9e3da0",
   "metadata": {},
   "outputs": [],
   "source": []
  },
  {
   "cell_type": "code",
   "execution_count": null,
   "id": "e879d7de",
   "metadata": {},
   "outputs": [],
   "source": []
  },
  {
   "cell_type": "markdown",
   "id": "4e0e083b",
   "metadata": {},
   "source": [
    "    N = 2048   \n",
    "\n",
    "    step   value\n",
    "    0   2048       N\n",
    "    1   1024       N/2\n",
    "    2   512        N/4\n",
    "    3   256        N/8\n",
    "    4   128        N/2**4\n",
    "    5   64         N/2**5 \n",
    "    6   32\n",
    "    7   16\n",
    "    8   8\n",
    "    9   4\n",
    "    10  2\n",
    "    11  1\n",
    "    .\n",
    "    .\n",
    "    .\n",
    "    k             N/2**k  = 1\n",
    "\n",
    "    N = 2**k\n",
    "\n",
    "    logN =  k  = numbers of steps we want"
   ]
  },
  {
   "cell_type": "code",
   "execution_count": null,
   "id": "ff063f28",
   "metadata": {},
   "outputs": [],
   "source": []
  },
  {
   "cell_type": "markdown",
   "id": "865d9b00",
   "metadata": {},
   "source": [
    "## How many digits are there in 2^46 : "
   ]
  },
  {
   "cell_type": "markdown",
   "id": "319a9b62",
   "metadata": {},
   "source": [
    "    10 ^ ?  = 2^46\n"
   ]
  },
  {
   "cell_type": "markdown",
   "id": "c509ada9",
   "metadata": {},
   "source": [
    "    2^46 = 10^(46/log2(10))"
   ]
  },
  {
   "cell_type": "code",
   "execution_count": 26,
   "id": "c291a2b8",
   "metadata": {},
   "outputs": [
    {
     "data": {
      "text/plain": [
       "70368744177664"
      ]
     },
     "execution_count": 26,
     "metadata": {},
     "output_type": "execute_result"
    }
   ],
   "source": [
    "2**46"
   ]
  },
  {
   "cell_type": "code",
   "execution_count": 27,
   "id": "75dfa1f6",
   "metadata": {},
   "outputs": [
    {
     "data": {
      "text/plain": [
       "14"
      ]
     },
     "execution_count": 27,
     "metadata": {},
     "output_type": "execute_result"
    }
   ],
   "source": [
    "int(46/math.log2(10))+1"
   ]
  },
  {
   "cell_type": "code",
   "execution_count": 28,
   "id": "375d07ea",
   "metadata": {},
   "outputs": [
    {
     "data": {
      "text/plain": [
       "70368744177664.14"
      ]
     },
     "execution_count": 28,
     "metadata": {},
     "output_type": "execute_result"
    }
   ],
   "source": [
    "10**(46/math.log2(10))"
   ]
  },
  {
   "cell_type": "code",
   "execution_count": null,
   "id": "f52e1dd4",
   "metadata": {},
   "outputs": [],
   "source": []
  },
  {
   "cell_type": "code",
   "execution_count": null,
   "id": "2777468b",
   "metadata": {},
   "outputs": [],
   "source": []
  },
  {
   "cell_type": "code",
   "execution_count": 29,
   "id": "324d4fec",
   "metadata": {},
   "outputs": [
    {
     "data": {
      "text/plain": [
       "14348907"
      ]
     },
     "execution_count": 29,
     "metadata": {},
     "output_type": "execute_result"
    }
   ],
   "source": [
    "3**15"
   ]
  },
  {
   "cell_type": "code",
   "execution_count": 30,
   "id": "95a69e98",
   "metadata": {},
   "outputs": [
    {
     "data": {
      "text/plain": [
       "8"
      ]
     },
     "execution_count": 30,
     "metadata": {},
     "output_type": "execute_result"
    }
   ],
   "source": [
    "int(15/math.log(10,3))+1"
   ]
  },
  {
   "cell_type": "code",
   "execution_count": null,
   "id": "bd88b0ec",
   "metadata": {},
   "outputs": [],
   "source": []
  },
  {
   "cell_type": "code",
   "execution_count": null,
   "id": "4173e3f0",
   "metadata": {},
   "outputs": [],
   "source": []
  },
  {
   "cell_type": "markdown",
   "id": "f58d728b",
   "metadata": {},
   "source": [
    "### Create a list of all squares of 1 till 10"
   ]
  },
  {
   "cell_type": "code",
   "execution_count": 31,
   "id": "d98639f6",
   "metadata": {},
   "outputs": [
    {
     "name": "stdout",
     "output_type": "stream",
     "text": [
      "[1, 4, 9, 16, 25, 36, 49, 64, 81, 100]\n"
     ]
    }
   ],
   "source": [
    "sq = []\n",
    "for i in range(1,11):\n",
    "    sq.append(i*i)\n",
    "print(sq)"
   ]
  },
  {
   "cell_type": "code",
   "execution_count": 32,
   "id": "ad033afe",
   "metadata": {},
   "outputs": [
    {
     "data": {
      "text/plain": [
       "[1, 4, 9, 16, 25, 36, 49, 64, 81, 100]"
      ]
     },
     "execution_count": 32,
     "metadata": {},
     "output_type": "execute_result"
    }
   ],
   "source": [
    "[i*i for i in range(1,11)]"
   ]
  },
  {
   "cell_type": "code",
   "execution_count": null,
   "id": "7dbeb8e5",
   "metadata": {},
   "outputs": [],
   "source": []
  },
  {
   "cell_type": "code",
   "execution_count": null,
   "id": "fc9c6950",
   "metadata": {},
   "outputs": [],
   "source": []
  },
  {
   "cell_type": "markdown",
   "id": "0e18eb10",
   "metadata": {},
   "source": [
    "#### What is the time complexity of accessing element at the ith index in an array of size N? Time complexity to access arr[i] ?\n",
    "\n",
    "    O(1)"
   ]
  },
  {
   "cell_type": "code",
   "execution_count": null,
   "id": "a74f694e",
   "metadata": {},
   "outputs": [],
   "source": []
  },
  {
   "cell_type": "markdown",
   "id": "c3fe1d61",
   "metadata": {},
   "source": [
    "### find the sum of array : "
   ]
  },
  {
   "cell_type": "code",
   "execution_count": 33,
   "id": "2f91135f",
   "metadata": {},
   "outputs": [
    {
     "data": {
      "text/plain": [
       "55"
      ]
     },
     "execution_count": 33,
     "metadata": {},
     "output_type": "execute_result"
    }
   ],
   "source": [
    "def sum_array(A):\n",
    "    total =  0\n",
    "    for i in range(len(A)):\n",
    "        total += A[i]\n",
    "    return total\n",
    "sum_array([1,2,3,4,5,6,7,8,9,10])"
   ]
  },
  {
   "cell_type": "code",
   "execution_count": 34,
   "id": "faeeab68",
   "metadata": {},
   "outputs": [
    {
     "data": {
      "text/plain": [
       "55"
      ]
     },
     "execution_count": 34,
     "metadata": {},
     "output_type": "execute_result"
    }
   ],
   "source": [
    "def sum_array(A):\n",
    "    total =  0\n",
    "    for i in A:\n",
    "        total += i\n",
    "    return total\n",
    "sum_array([1,2,3,4,5,6,7,8,9,10])"
   ]
  },
  {
   "cell_type": "code",
   "execution_count": null,
   "id": "317af0b6",
   "metadata": {},
   "outputs": [],
   "source": []
  },
  {
   "cell_type": "markdown",
   "id": "3ef97bd8",
   "metadata": {},
   "source": [
    "### Given N elements in list ,count number of elements which have atleast 1 element greater than itself present in the list : "
   ]
  },
  {
   "cell_type": "code",
   "execution_count": 35,
   "id": "a10f8416",
   "metadata": {},
   "outputs": [
    {
     "data": {
      "text/plain": [
       "9"
      ]
     },
     "execution_count": 35,
     "metadata": {},
     "output_type": "execute_result"
    }
   ],
   "source": [
    "A = [1,3,2,6,8,9,0,-30,-20,5]\n",
    "\n",
    "def count_greater_elements(A):\n",
    "    n = len(A)\n",
    "    count = 0\n",
    "    for x in A:\n",
    "        haslarger = False\n",
    "        for value in A:\n",
    "            if value > x:\n",
    "                haslarger = True\n",
    "        if haslarger:\n",
    "            count += 1\n",
    "    return count\n",
    "count_greater_elements(A)"
   ]
  },
  {
   "cell_type": "code",
   "execution_count": 36,
   "id": "547b65e5",
   "metadata": {},
   "outputs": [
    {
     "data": {
      "text/plain": [
       "2"
      ]
     },
     "execution_count": 36,
     "metadata": {},
     "output_type": "execute_result"
    }
   ],
   "source": [
    "count_greater_elements([8,8,8,1,8,8,8,2])"
   ]
  },
  {
   "cell_type": "code",
   "execution_count": null,
   "id": "bb1f305e",
   "metadata": {},
   "outputs": [],
   "source": []
  },
  {
   "cell_type": "code",
   "execution_count": 37,
   "id": "4ee9358f",
   "metadata": {},
   "outputs": [
    {
     "data": {
      "text/plain": [
       "2"
      ]
     },
     "execution_count": 37,
     "metadata": {},
     "output_type": "execute_result"
    }
   ],
   "source": [
    "def count_greater_elements(A):\n",
    "    \n",
    "    n = len(A)\n",
    "    maxval = -float(\"inf\")\n",
    "    \n",
    "    for i in A:\n",
    "        if i > maxval:\n",
    "            maxval = i\n",
    "\n",
    "    not_max_count = 0\n",
    "    \n",
    "    for x in A:\n",
    "        if x < maxval:\n",
    "            not_max_count += 1\n",
    "            \n",
    "    return not_max_count\n",
    "            \n",
    "    \n",
    "    \n",
    "count_greater_elements([8,8,8,1,8,8,8,2])"
   ]
  },
  {
   "cell_type": "code",
   "execution_count": null,
   "id": "d0661633",
   "metadata": {},
   "outputs": [],
   "source": []
  },
  {
   "cell_type": "markdown",
   "id": "62dd5a64",
   "metadata": {},
   "source": [
    "### Reverse the given list : "
   ]
  },
  {
   "cell_type": "code",
   "execution_count": 38,
   "id": "bc23f99e",
   "metadata": {},
   "outputs": [
    {
     "data": {
      "text/plain": [
       "[8, 6, 3, 10, 1]"
      ]
     },
     "execution_count": 38,
     "metadata": {},
     "output_type": "execute_result"
    }
   ],
   "source": [
    "A = [1,10,3,6,8]\n",
    "A[::-1]"
   ]
  },
  {
   "cell_type": "code",
   "execution_count": 39,
   "id": "cb0f12d4",
   "metadata": {},
   "outputs": [
    {
     "data": {
      "text/plain": [
       "[8, 6, 3, 10, 1]"
      ]
     },
     "execution_count": 39,
     "metadata": {},
     "output_type": "execute_result"
    }
   ],
   "source": [
    "def reverse_list(A):\n",
    "    \n",
    "    n = len(A)\n",
    "    reversed_list = []\n",
    "    for i in reversed(range(len(A))):\n",
    "        reversed_list.append(A[i])\n",
    "        \n",
    "    return reversed_list\n",
    "\n",
    "reverse_list(A)"
   ]
  },
  {
   "cell_type": "code",
   "execution_count": 40,
   "id": "e673d402",
   "metadata": {},
   "outputs": [
    {
     "data": {
      "text/plain": [
       "[8, 6, 3, 10, 1]"
      ]
     },
     "execution_count": 40,
     "metadata": {},
     "output_type": "execute_result"
    }
   ],
   "source": [
    "def reverse_list(A):\n",
    "    \n",
    "    n = len(A)\n",
    "    \n",
    "    for i in range(len(A)//2):\n",
    "        A[i],A[n-i-1] = A[n-i-1],A[i]    # tuple unpacking \n",
    "    return A\n",
    "\n",
    "reverse_list(A)"
   ]
  },
  {
   "cell_type": "markdown",
   "id": "a1921d38",
   "metadata": {},
   "source": [
    "    i   <>  n-1\n",
    "    i+1 <>  n-i-1\n",
    "    \n",
    "    0 <> 5\n",
    "    1 <> 4\n",
    "    2 <> 3 stop here. n//2\n",
    "    3 <> 2 \n",
    "    "
   ]
  },
  {
   "cell_type": "code",
   "execution_count": 41,
   "id": "f7b55bea",
   "metadata": {},
   "outputs": [
    {
     "data": {
      "text/plain": [
       "[8, 6, 3, 10, 1]"
      ]
     },
     "execution_count": 41,
     "metadata": {},
     "output_type": "execute_result"
    }
   ],
   "source": [
    "def reverse_list(A):\n",
    "    \n",
    "    n = len(A)\n",
    "    \n",
    "    for i in range(len(A)//2):\n",
    "        temp = A[i]\n",
    "        A[i] = A[n-i-1]\n",
    "        A[n-i-1] = temp\n",
    "        \n",
    "    return A\n",
    "\n",
    "A = [1,10,3,6,8]\n",
    "\n",
    "reverse_list(A)"
   ]
  },
  {
   "cell_type": "code",
   "execution_count": null,
   "id": "dedd0186",
   "metadata": {},
   "outputs": [],
   "source": []
  },
  {
   "cell_type": "markdown",
   "id": "dec664af",
   "metadata": {},
   "source": [
    "###  Rotation Game\n",
    "\n",
    "### Given an integer array A of size N and an integer B, you have to print the same array after rotating it B times towards the right.\n",
    "\n",
    "\n",
    "    Problem Constraints\n",
    "    1 <= N <= 106\n",
    "    1 <= A[i] <=108\n",
    "    1 <= B <= 109\n",
    "\n",
    "\n",
    "    Input Format\n",
    "    There are 2 lines in the input\n",
    "\n",
    "    Line 1: The first number is the size N of the array A. Then N numbers follow which indicate the elements in the array A.\n",
    "\n",
    "    Line 2: A single integer B.\n",
    "\n",
    "\n",
    "    Output Format\n",
    "    Print array A after rotating it B times towards the right.\n",
    "\n",
    "\n",
    "    Example Input\n",
    "    Input 1 :\n",
    "    4 1 2 3 4\n",
    "    2\n",
    "\n",
    "\n",
    "    Example Output\n",
    "    Output 1 :\n",
    "    3 4 1 2\n",
    "\n",
    "\n",
    "    Example Explanation\n",
    "    Example 1 :\n",
    "\n",
    "    N = 4, A = [1, 2, 3, 4] and B = 2.\n",
    "\n",
    "    Rotate towards the right 2 times - [1, 2, 3, 4] => [4, 1, 2, 3] => [3, 4, 1, 2]\n",
    "\n",
    "    Final array = [3, 4, 1, 2]\n"
   ]
  },
  {
   "cell_type": "code",
   "execution_count": 42,
   "id": "3147e0ed",
   "metadata": {},
   "outputs": [
    {
     "name": "stdout",
     "output_type": "stream",
     "text": [
      "5 1 2 3 4 5\n",
      "2\n",
      "length of array:  5\n",
      "Array: [1, 2, 3, 4, 5]\n"
     ]
    },
    {
     "data": {
      "text/plain": [
       "[4, 5, 1, 2, 3]"
      ]
     },
     "execution_count": 42,
     "metadata": {},
     "output_type": "execute_result"
    }
   ],
   "source": [
    "A = list(map(int,input().split()))\n",
    "\n",
    "rotations = int(input())\n",
    "n = A.pop(0)\n",
    "print(\"length of array: \",n)\n",
    "print(\"Array:\",A)\n",
    "\n",
    "rotations = rotations % n\n",
    "\n",
    "for i in range(rotations):\n",
    "    A.insert(0,A.pop())\n",
    "    \n",
    "A    \n"
   ]
  },
  {
   "cell_type": "code",
   "execution_count": null,
   "id": "f6ee3675",
   "metadata": {},
   "outputs": [],
   "source": []
  },
  {
   "cell_type": "markdown",
   "id": "4660b324",
   "metadata": {},
   "source": [
    "### Good Pair\n",
    "\n",
    "### Given an array A and an integer B. A pair(i, j) in the array is a good pair if i != j and (A[i] + A[j] == B). Check if any good pair exist or not.\n",
    "\n",
    "    Problem Constraints\n",
    "    1 <= A.size() <= 104\n",
    "    1 <= A[i] <= 109\n",
    "    1 <= B <= 109\n",
    "\n",
    "    Input Format\n",
    "    First argument is an integer array A.\n",
    "    Second argument is an integer B.\n",
    "\n",
    "    Output Format\n",
    "    Return 1 if good pair exist otherwise return 0.\n",
    "\n",
    "    Example Input\n",
    "    Input 1:\n",
    "    A = [1,2,3,4]\n",
    "    B = 7\n",
    "    Input 2:\n",
    "    A = [1,2,4]\n",
    "    B = 4\n",
    "    Input 3:\n",
    "    A = [1,2,2]\n",
    "    B = 4\n",
    "\n",
    "    Example Output\n",
    "    Output 1:\n",
    "    1\n",
    "    Output 2:\n",
    "    0\n",
    "    Output 3:\n",
    "    1\n",
    "\n",
    "    Example Explanation\n",
    "    Explanation 1:\n",
    "     (i,j) = (3,4)\n",
    "    Explanation 2:\n",
    "    No pair has sum equal to 4.\n",
    "    Explanation 3:\n",
    "     (i,j) = (2,3)"
   ]
  },
  {
   "cell_type": "code",
   "execution_count": 49,
   "id": "bfdd7223",
   "metadata": {},
   "outputs": [
    {
     "data": {
      "text/plain": [
       "1"
      ]
     },
     "execution_count": 49,
     "metadata": {},
     "output_type": "execute_result"
    }
   ],
   "source": [
    "# what is asked n question:\n",
    "\n",
    "def GoodPair(A,k):\n",
    "    n = len(A)\n",
    "    for i in range(n):\n",
    "        for j in range(i,n):\n",
    "            if i!=j:\n",
    "                if A[i]+A[j]==k:\n",
    "                    return 1\n",
    "    return 0\n",
    "\n",
    "A = [1,2,3,4]\n",
    "k = 7\n",
    "GoodPair(A,k) "
   ]
  },
  {
   "cell_type": "code",
   "execution_count": 50,
   "id": "722e5161",
   "metadata": {},
   "outputs": [],
   "source": [
    "# variations : "
   ]
  },
  {
   "cell_type": "code",
   "execution_count": 53,
   "id": "db9c877a",
   "metadata": {},
   "outputs": [
    {
     "name": "stdout",
     "output_type": "stream",
     "text": [
      "1\n"
     ]
    }
   ],
   "source": [
    "A = [1,2,3,4]\n",
    "k = 7\n",
    "\n",
    "n = len(A)\n",
    "c = 0\n",
    "for i in range(n):\n",
    "    for j in range(i,n):\n",
    "        if A[i]+A[j] == k:\n",
    "            c+=1\n",
    "print(c)\n",
    "\n",
    "A = [1,2,3,4,4,3]\n",
    "k = 7\n",
    "   # combination pair counts"
   ]
  },
  {
   "cell_type": "code",
   "execution_count": 54,
   "id": "ad4784c7",
   "metadata": {},
   "outputs": [],
   "source": [
    "# individual pair counts "
   ]
  },
  {
   "cell_type": "code",
   "execution_count": 55,
   "id": "7b2e8c04",
   "metadata": {},
   "outputs": [
    {
     "data": {
      "text/plain": [
       "2"
      ]
     },
     "execution_count": 55,
     "metadata": {},
     "output_type": "execute_result"
    }
   ],
   "source": [
    "A = [1,2,3,4]\n",
    "k = 7\n",
    "\n",
    "def GoodPair(A,k):\n",
    "    \n",
    "    n = len(A)\n",
    "    c = 0\n",
    "    Aset = set()\n",
    "    \n",
    "    for i in A:\n",
    "        target = k-i\n",
    "        if target in Aset:\n",
    "            c+=1\n",
    "        else:\n",
    "            Aset.add(i)\n",
    "    return c\n",
    "    \n",
    "\n",
    "A = [1,2,3,4,2,4]\n",
    "k = 6\n",
    "GoodPair(A,k)"
   ]
  },
  {
   "cell_type": "code",
   "execution_count": null,
   "id": "8686c514",
   "metadata": {},
   "outputs": [],
   "source": []
  },
  {
   "cell_type": "markdown",
   "id": "6d58caef",
   "metadata": {},
   "source": [
    "###  Max and Min of an Array\n",
    "\n",
    "  \n",
    "\n"
   ]
  },
  {
   "cell_type": "code",
   "execution_count": 56,
   "id": "2b271177",
   "metadata": {},
   "outputs": [
    {
     "name": "stdout",
     "output_type": "stream",
     "text": [
      "7 9 8 5 4 1 2 3 5\n",
      "9 1\n"
     ]
    }
   ],
   "source": [
    "A = list(map(int,input().split()))\n",
    "N = A[0]\n",
    "maxm = A[1]\n",
    "\n",
    "\n",
    "for i in range(1,N+1):\n",
    "    if A[i] > maxm:\n",
    "        maxm = A[i]\n",
    "\n",
    "minm = A[1]\n",
    "for i in range(1,N):\n",
    "    if A[i]<minm:\n",
    "        minm = A[i]\n",
    "\n",
    "print(maxm,minm)\n"
   ]
  },
  {
   "cell_type": "code",
   "execution_count": null,
   "id": "4acf043e",
   "metadata": {},
   "outputs": [],
   "source": []
  },
  {
   "cell_type": "markdown",
   "id": "216c4207",
   "metadata": {},
   "source": [
    "### Little Ponny and Maximum Element\n",
    "\n",
    "#### Little Ponny is given an array, A, of N integers. In a particular operation, he can set any element of the array equal to -1. He wants your help in finding out the minimum number of operations required such that the maximum element of the resulting array is B. If it is not possible, then return -1.\n",
    "\n",
    "\n",
    "    Problem Constraints\n",
    "    1 <= |A| <= 105\n",
    "    1 <= A[i] <= 109\n",
    "\n",
    "    Input Format\n",
    "    The first argument of input contains an integer array, A.\n",
    "    The second argument of input contains an integer, B.\n",
    "\n",
    "    Output Format\n",
    "    Return an integer representing the answer.\n",
    "\n",
    "    Example Input\n",
    "    Input 1:\n",
    "\n",
    "     A = [2, 4, 3, 1, 5]\n",
    "     B = 3 \n",
    "    Input 2:\n",
    "\n",
    "     A = [1, 4, 2]\n",
    "     B = 3 \n",
    "\n",
    "    Example Output\n",
    "    Output 1:\n",
    "     2 \n",
    "    Output 2:\n",
    "     -1 \n",
    "\n",
    "    Example Explanation\n",
    "    Explanation 1:\n",
    "\n",
    "     We need to remove 4 and 5 to make 3 the biggest element. \n",
    "    Explanation 2:\n",
    "\n",
    "     As 3 doesn't exist in the array, the answer is -1. "
   ]
  },
  {
   "cell_type": "code",
   "execution_count": null,
   "id": "048cc9dd",
   "metadata": {},
   "outputs": [],
   "source": []
  },
  {
   "cell_type": "code",
   "execution_count": null,
   "id": "f3a5fd0b",
   "metadata": {},
   "outputs": [],
   "source": []
  },
  {
   "cell_type": "code",
   "execution_count": null,
   "id": "8e28c3bb",
   "metadata": {},
   "outputs": [],
   "source": []
  },
  {
   "cell_type": "code",
   "execution_count": null,
   "id": "df9fe2d2",
   "metadata": {},
   "outputs": [],
   "source": []
  },
  {
   "cell_type": "code",
   "execution_count": null,
   "id": "f477eae3",
   "metadata": {},
   "outputs": [],
   "source": []
  },
  {
   "cell_type": "code",
   "execution_count": null,
   "id": "11a8b0fe",
   "metadata": {},
   "outputs": [],
   "source": []
  },
  {
   "cell_type": "code",
   "execution_count": null,
   "id": "a876f9b3",
   "metadata": {},
   "outputs": [],
   "source": []
  },
  {
   "cell_type": "code",
   "execution_count": 57,
   "id": "387aaba1",
   "metadata": {},
   "outputs": [
    {
     "data": {
      "text/plain": [
       "2"
      ]
     },
     "execution_count": 57,
     "metadata": {},
     "output_type": "execute_result"
    }
   ],
   "source": [
    "A = [2, 4, 3, 1, 5]\n",
    "B = 3 \n",
    "def little_pony_max_element(A,B):\n",
    "    if B not in A:\n",
    "        return -1\n",
    "    number_of_operations = 0\n",
    "    n = len(A)\n",
    "    maxele_to_be = B\n",
    "    for i in A:\n",
    "        if i > maxele_to_be:\n",
    "            number_of_operations +=  1\n",
    "    return number_of_operations\n",
    "    \n",
    "\n",
    "A = [2, 4, 3, 1, 5]\n",
    "B = 3 \n",
    "little_pony_max_element(A,B)\n",
    "    "
   ]
  },
  {
   "cell_type": "code",
   "execution_count": 58,
   "id": "5fea1e4d",
   "metadata": {},
   "outputs": [
    {
     "data": {
      "text/plain": [
       "-1"
      ]
     },
     "execution_count": 58,
     "metadata": {},
     "output_type": "execute_result"
    }
   ],
   "source": [
    "\n",
    "A = [1, 4, 2]\n",
    "B = 3 \n",
    "little_pony_max_element(A,B)\n"
   ]
  },
  {
   "cell_type": "code",
   "execution_count": null,
   "id": "12bbe034",
   "metadata": {},
   "outputs": [],
   "source": []
  },
  {
   "cell_type": "markdown",
   "id": "92f73b43",
   "metadata": {},
   "source": [
    "### Second Largest\n",
    "\n",
    "### You are given an integer array A. You have to find the second largest element/value in the array or report that no such element exists.\n",
    "\n",
    "    Problem Constraints\n",
    "    1 <= |A| <= 105\n",
    "    0 <= A[i] <= 109\n",
    "\n",
    "    Input Format\n",
    "    The first argument is an integer array A.\n",
    "    Output Format\n",
    "    Return the second largest element. If no such element exist then return -1.\n",
    "\n",
    "    Example Input\n",
    "    Input 1:\n",
    "     A = [2, 1, 2] \n",
    "    Input 2:\n",
    "     A = [2]\n",
    "    Example Output\n",
    "    Output 1:\n",
    "     2 \n",
    "    Output 2:\n",
    "     -1 \n",
    "\n",
    "    Example Explanation\n",
    "    Explanation 1:\n",
    "\n",
    "     First largest element = 2\n",
    "     Second largest element = 2\n",
    "     Third largest element = 1\n",
    "    Explanation 2:\n",
    "\n",
    "     There is no second largest element in the array."
   ]
  },
  {
   "cell_type": "code",
   "execution_count": 59,
   "id": "5f71bc7e",
   "metadata": {},
   "outputs": [
    {
     "data": {
      "text/plain": [
       "(7, 9)"
      ]
     },
     "execution_count": 59,
     "metadata": {},
     "output_type": "execute_result"
    }
   ],
   "source": [
    "A = [1,2,3,4,5]\n",
    "def find_Second_largest(A):\n",
    "    n = len(A)\n",
    "    \n",
    "    max1 = -float(\"inf\")\n",
    "    max2 = -float(\"inf\")\n",
    "    \n",
    "    for i in A:\n",
    "        if i > max1:\n",
    "            max2 = max1\n",
    "            max1 = i\n",
    "        elif i > max2:\n",
    "            max2 = i\n",
    "    if max2 == -float(\"inf\"):\n",
    "        return -1,max1\n",
    "    return max2,max1\n",
    "    \n",
    "    \n",
    "A = [9,4,2,7,3]\n",
    "find_Second_largest(A)\n"
   ]
  },
  {
   "cell_type": "code",
   "execution_count": 60,
   "id": "e16faeec",
   "metadata": {},
   "outputs": [
    {
     "data": {
      "text/plain": [
       "(-1, 99)"
      ]
     },
     "execution_count": 60,
     "metadata": {},
     "output_type": "execute_result"
    }
   ],
   "source": [
    "A = [99]\n",
    "find_Second_largest(A)\n"
   ]
  },
  {
   "cell_type": "code",
   "execution_count": null,
   "id": "595ed0f5",
   "metadata": {},
   "outputs": [],
   "source": []
  },
  {
   "cell_type": "markdown",
   "id": "61404720",
   "metadata": {},
   "source": [
    "### MINIMUM PICKS\n",
    "\n",
    "#### You are given an array of integers A of size N. Return the difference between the maximum among all even numbers of A and the minimum among all odd numbers in A."
   ]
  },
  {
   "cell_type": "code",
   "execution_count": 61,
   "id": "04ffb5e5",
   "metadata": {},
   "outputs": [],
   "source": [
    "def minimum_picks(A):\n",
    "    odds = [x for x in A if x%2!=0]\n",
    "    even = [x for x in A if x%2==0]\n",
    "\n",
    "\n",
    "\n",
    "    return max(even)-min(odds)"
   ]
  },
  {
   "cell_type": "code",
   "execution_count": 62,
   "id": "d25b97e5",
   "metadata": {},
   "outputs": [
    {
     "data": {
      "text/plain": [
       "99"
      ]
     },
     "execution_count": 62,
     "metadata": {},
     "output_type": "execute_result"
    }
   ],
   "source": [
    "minimum_picks([5,17,100,1])"
   ]
  },
  {
   "cell_type": "code",
   "execution_count": null,
   "id": "ae13ee6e",
   "metadata": {},
   "outputs": [],
   "source": []
  },
  {
   "cell_type": "markdown",
   "id": "c8235cf4",
   "metadata": {},
   "source": [
    "### Separate Odd Even\n",
    "\n",
    "#### You are given an integer T denoting the number of test cases. For each test case, you are given an integer array A. You have to print the odd and even elements of array A in 2 separate lines. \n",
    "    NOTE: Array elements should have the same relative order as in A.\n",
    "\n",
    "\n",
    "\n",
    "    Problem Constraints\n",
    "    1 <= T <= 10\n",
    "\n",
    "    1 <= |A| <= 105\n",
    "\n",
    "    1 <= A[i] <= 109\n",
    "\n",
    "\n",
    "\n",
    "    Input Format\n",
    "    First line of the input contains a single integer T.\n",
    "\n",
    "    For each test case:\n",
    "\n",
    "    First line consists of a single integer |A| denoting the length of array.\n",
    "    Second line consists of |A| space separated integers denoting the elements of array A.\n",
    "\n",
    "\n",
    "    Output Format\n",
    "    For each test case:\n",
    "\n",
    "    First line should contain an array of space separated integers containing all the odd elements of array A\n",
    "    Second line should contain an array of space separated integers containing all the even elements of array A\n",
    "\n",
    "\n",
    "    Example Input\n",
    "    Input 1:\n",
    "\n",
    "     2 \n",
    "     5\n",
    "     1 2 3 4 5\n",
    "     3\n",
    "     4 3 2\n",
    "    Input 2:\n",
    "\n",
    "     2 \n",
    "     3\n",
    "     2 2 2\n",
    "     2\n",
    "     1 1\n",
    "\n",
    "\n",
    "    Example Output\n",
    "    Output 1:\n",
    "\n",
    "     1 3 5\n",
    "     2 4\n",
    "     3\n",
    "     4 2\n",
    "    Output 2:\n",
    "\n",
    "\n",
    "     2 2 2\n",
    "     1 1\n",
    "\n",
    "\n",
    "\n",
    "    Example Explanation\n",
    "    Explanation 1:\n",
    "\n",
    "     Test Case 1: \n",
    "     Odd elements in the array(in the order they occur) are: 1, 3, 5.\n",
    "     Even elements in the array(in the order they occur) are: 2, 4.\n",
    "\n",
    "     Test Case 2 \n",
    "     Odd elements in the array(in the order they occur) are: 3.\n",
    "     Even elements in the array(in the order they occur) are: 4, 2.\n",
    "    Explanation 2:\n",
    "\n",
    "     Test Case 1: \n",
    "     There are no odd elements in the array.\n",
    "     Even elements in the array(in the order they occur) are: 2, 2, 2.\n",
    "\n",
    "     Test Case 2 \n",
    "     Odd elements in the array(in the order they occur) are: 1, 1.\n",
    "     There are no even elements in the array."
   ]
  },
  {
   "cell_type": "code",
   "execution_count": 66,
   "id": "01e72340",
   "metadata": {},
   "outputs": [
    {
     "name": "stdout",
     "output_type": "stream",
     "text": [
      "1\n",
      "1\n",
      "2\n",
      "\n",
      "2 \n"
     ]
    }
   ],
   "source": [
    "def main():\n",
    "    \n",
    "    T = int(input())\n",
    "    while T>0:\n",
    "        T = T-1\n",
    "\n",
    "        L = int(input())\n",
    "        A = list(map(int,input().split()))\n",
    "        \n",
    "        for i in A:\n",
    "            if i%2!=0:\n",
    "                print(i,end =\" \")\n",
    "        print()\n",
    "        for i in A:\n",
    "            if i%2==0:\n",
    "                print(i,end =\" \")\n",
    "        print()\n",
    "\n",
    "\n",
    "    return 0\n",
    "\n",
    "if __name__ == '__main__':\n",
    "    main()"
   ]
  },
  {
   "cell_type": "code",
   "execution_count": null,
   "id": "de672320",
   "metadata": {},
   "outputs": [],
   "source": []
  },
  {
   "cell_type": "code",
   "execution_count": null,
   "id": "3fefc67c",
   "metadata": {},
   "outputs": [],
   "source": []
  },
  {
   "cell_type": "code",
   "execution_count": null,
   "id": "1485ebd6",
   "metadata": {},
   "outputs": [],
   "source": []
  },
  {
   "cell_type": "code",
   "execution_count": null,
   "id": "8b642844",
   "metadata": {},
   "outputs": [],
   "source": []
  },
  {
   "cell_type": "markdown",
   "id": "98bd4765",
   "metadata": {},
   "source": [
    "### Given an array of n integers , Q queries are given . \n",
    "### In each query start and end index given . print sum of start to end index ."
   ]
  },
  {
   "cell_type": "code",
   "execution_count": null,
   "id": "8547cb7a",
   "metadata": {},
   "outputs": [],
   "source": []
  },
  {
   "cell_type": "code",
   "execution_count": null,
   "id": "6b1612f7",
   "metadata": {},
   "outputs": [],
   "source": []
  },
  {
   "cell_type": "code",
   "execution_count": 69,
   "id": "1bde301f",
   "metadata": {},
   "outputs": [
    {
     "name": "stdout",
     "output_type": "stream",
     "text": [
      "start:1\n",
      "end:3\n",
      "sum: -3\n",
      "start:4\n",
      "end:5\n",
      "sum: 18\n"
     ]
    }
   ],
   "source": [
    "def give_query_results(A,Q):\n",
    "\n",
    "    while Q > 0:\n",
    "        start = int(input(\"start:\"))\n",
    "        end = int(input(\"end:\"))\n",
    "        ans = 0\n",
    "        for i in range(start,end+1):\n",
    "            ans += A[i]\n",
    "        print(\"sum:\",ans)\n",
    "        Q -= 1\n",
    "give_query_results([1, 3, 0, -6, 8, 10, 2, 7],2)"
   ]
  },
  {
   "cell_type": "code",
   "execution_count": 70,
   "id": "d3e00a61",
   "metadata": {},
   "outputs": [
    {
     "data": {
      "text/plain": [
       "79"
      ]
     },
     "execution_count": 70,
     "metadata": {},
     "output_type": "execute_result"
    }
   ],
   "source": [
    "439-360"
   ]
  },
  {
   "cell_type": "code",
   "execution_count": null,
   "id": "708c3234",
   "metadata": {},
   "outputs": [],
   "source": []
  },
  {
   "cell_type": "code",
   "execution_count": null,
   "id": "a1421101",
   "metadata": {},
   "outputs": [],
   "source": []
  },
  {
   "cell_type": "code",
   "execution_count": null,
   "id": "2bcd6100",
   "metadata": {},
   "outputs": [],
   "source": []
  },
  {
   "cell_type": "code",
   "execution_count": null,
   "id": "9d0741dd",
   "metadata": {},
   "outputs": [],
   "source": []
  },
  {
   "cell_type": "code",
   "execution_count": null,
   "id": "6c99149e",
   "metadata": {},
   "outputs": [],
   "source": []
  },
  {
   "cell_type": "code",
   "execution_count": null,
   "id": "da8e15c5",
   "metadata": {},
   "outputs": [],
   "source": []
  },
  {
   "cell_type": "markdown",
   "id": "c203d8f4",
   "metadata": {},
   "source": [
    "### Given the scores of the last 10 overs of a cricket match:\n",
    "\n",
    "    288, 312, 330, 349, 360, 383, 394, 406, 436, 439\n",
    "\n",
    "#### How many runs were scored in the last 5 overs?\n",
    "\n",
    "    439-360 = 79\n",
    "\n"
   ]
  },
  {
   "cell_type": "code",
   "execution_count": null,
   "id": "c9c61dc5",
   "metadata": {},
   "outputs": [],
   "source": []
  },
  {
   "cell_type": "code",
   "execution_count": null,
   "id": "0bab0132",
   "metadata": {},
   "outputs": [],
   "source": []
  },
  {
   "cell_type": "markdown",
   "id": "52fa9523",
   "metadata": {},
   "source": [
    "### Given the scores of the last 10 overs of a cricket match :\n",
    "\n",
    "    288, 312, 330, 349, 360, 383, 394, 406, 436, 439\n",
    "\n",
    "#### How many runs were scored from 42nd to 45th over (both included) ?\n",
    "\n",
    "    360-288 = 72\n"
   ]
  },
  {
   "cell_type": "code",
   "execution_count": 71,
   "id": "64e8f035",
   "metadata": {},
   "outputs": [],
   "source": [
    "# finding difference score between overs :"
   ]
  },
  {
   "cell_type": "code",
   "execution_count": 72,
   "id": "f716d98a",
   "metadata": {},
   "outputs": [
    {
     "data": {
      "text/plain": [
       "[24, 18, 19, 11, 23, 11, 12, 30, 3]"
      ]
     },
     "execution_count": 72,
     "metadata": {},
     "output_type": "execute_result"
    }
   ],
   "source": [
    "cumsum = [288, 312, 330, 349, 360, 383, 394, 406, 436, 439]\n",
    "score_per_over = []\n",
    "n = len(cumsum)\n",
    "\n",
    "\n",
    "for i in range(len(cumsum)-1):\n",
    "    \n",
    "    score_per_over.append(cumsum[i+1]-cumsum[i])\n",
    "\n",
    "score_per_over"
   ]
  },
  {
   "cell_type": "code",
   "execution_count": null,
   "id": "08a269be",
   "metadata": {},
   "outputs": [],
   "source": []
  },
  {
   "cell_type": "markdown",
   "id": "e078d09c",
   "metadata": {},
   "source": [
    "### Prefix Sum (Cumulative Sum) : "
   ]
  },
  {
   "cell_type": "code",
   "execution_count": 73,
   "id": "ceb03fa7",
   "metadata": {},
   "outputs": [
    {
     "data": {
      "text/plain": [
       "[1, 4, 4, -2, 2, 9, 17, 26]"
      ]
     },
     "execution_count": 73,
     "metadata": {},
     "output_type": "execute_result"
    }
   ],
   "source": [
    "def prefix_sum(A):\n",
    "    prefixsum = [A[0]]\n",
    "    for i in A[1:]:\n",
    "        prefixsum.append(i + prefixsum[-1])\n",
    "    return prefixsum\n",
    "    \n",
    "\n",
    "prefix_sum([1, 3, 0, -6, 4, 7, 8, 9])"
   ]
  },
  {
   "cell_type": "code",
   "execution_count": 74,
   "id": "37718a90",
   "metadata": {},
   "outputs": [
    {
     "data": {
      "text/plain": [
       "[288, 312, 330, 349, 360, 383, 394, 406, 436, 439]"
      ]
     },
     "execution_count": 74,
     "metadata": {},
     "output_type": "execute_result"
    }
   ],
   "source": [
    "prefix_sum([288,24, 18, 19, 11, 23, 11, 12, 30, 3])"
   ]
  },
  {
   "cell_type": "code",
   "execution_count": null,
   "id": "de7c193c",
   "metadata": {},
   "outputs": [],
   "source": []
  },
  {
   "cell_type": "markdown",
   "id": "d04ad33c",
   "metadata": {},
   "source": [
    "    if s == 0:\n",
    "    \n",
    "    sum_till_e = prefix[e]\n",
    "    \n",
    "    else:\n",
    "    if s != 0:\n",
    "    \n",
    "    Sum_Between_S_and_E = prefix[e]-prefix[s-1]"
   ]
  },
  {
   "cell_type": "code",
   "execution_count": 76,
   "id": "bec2170d",
   "metadata": {},
   "outputs": [
    {
     "name": "stdout",
     "output_type": "stream",
     "text": [
      "start:2\n",
      "end:3\n",
      "-6\n",
      "start:4\n",
      "end:5\n",
      "18\n"
     ]
    }
   ],
   "source": [
    "def give_query_results(A,Q):\n",
    "    \n",
    "    prefixsum = [A[0]]\n",
    "    for i in A[1:]:\n",
    "        prefixsum.append(i + prefixsum[-1])\n",
    "        \n",
    "    while Q > 0:\n",
    "        start = int(input(\"start:\"))\n",
    "        end = int(input(\"end:\"))\n",
    "        if start == 0:\n",
    "            print(prefixsum[end])\n",
    "        else:\n",
    "            print(prefixsum[end]-prefixsum[start-1])\n",
    "        \n",
    "        Q -= 1\n",
    "give_query_results([1, 3, 0, -6, 8, 10, 2, 7],2)"
   ]
  },
  {
   "cell_type": "code",
   "execution_count": null,
   "id": "41609fc4",
   "metadata": {},
   "outputs": [],
   "source": []
  },
  {
   "cell_type": "code",
   "execution_count": null,
   "id": "db6424eb",
   "metadata": {},
   "outputs": [],
   "source": []
  },
  {
   "cell_type": "markdown",
   "id": "a1c549c4",
   "metadata": {},
   "source": [
    "#### Sum of all elements from index i to j :\n",
    "\n",
    "    If i!=0: sum = pf[j] - pf[i-1]\n",
    "\n",
    "    if i==0: sum = pf[j]\n"
   ]
  },
  {
   "cell_type": "code",
   "execution_count": null,
   "id": "a1125915",
   "metadata": {},
   "outputs": [],
   "source": []
  },
  {
   "cell_type": "code",
   "execution_count": null,
   "id": "999d480d",
   "metadata": {},
   "outputs": [],
   "source": []
  },
  {
   "cell_type": "markdown",
   "id": "cc128c36",
   "metadata": {},
   "source": [
    "### Given an array of size N return True if there is an equilibrium  index in the array . i is an equilibrium index if \n",
    "   #### sum of elements before i = sum of elemebts after i \n",
    "   \n",
    "   #### a[0] + .. + a[i-1] = a[i+1]+...+a[n-1]"
   ]
  },
  {
   "cell_type": "code",
   "execution_count": 77,
   "id": "a08b0e3e",
   "metadata": {},
   "outputs": [],
   "source": [
    "# not every array has the equilibrium index . \n",
    "# like  [1,2,3,4,5].\n"
   ]
  },
  {
   "cell_type": "code",
   "execution_count": 78,
   "id": "ac4397d0",
   "metadata": {},
   "outputs": [
    {
     "data": {
      "text/plain": [
       "[5]"
      ]
     },
     "execution_count": 78,
     "metadata": {},
     "output_type": "execute_result"
    }
   ],
   "source": [
    "def equilibrium_index(A):   # TC:O(^2),SC:O(1)\n",
    "    \n",
    "    n = len(A)\n",
    "    eq_index = []\n",
    "    for i in range(n):\n",
    "        before_i = 0\n",
    "        for j in range(0,i):\n",
    "            before_i += A[j]\n",
    "        after_i = 0\n",
    "        for j in range(i+1,n):\n",
    "            after_i += A[j]\n",
    "        if before_i == after_i:\n",
    "            eq_index.append(i)\n",
    "    return eq_index\n",
    "            \n",
    "        \n",
    "A = [1,2,3,4,5,8,15]\n",
    "equilibrium_index(A)"
   ]
  },
  {
   "cell_type": "code",
   "execution_count": 79,
   "id": "5a73d41b",
   "metadata": {},
   "outputs": [
    {
     "data": {
      "text/plain": [
       "[3, 6]"
      ]
     },
     "execution_count": 79,
     "metadata": {},
     "output_type": "execute_result"
    }
   ],
   "source": [
    "A = [-7,1,5,2,-4,3,0]\n",
    "equilibrium_index(A)"
   ]
  },
  {
   "cell_type": "code",
   "execution_count": null,
   "id": "28b9ba65",
   "metadata": {},
   "outputs": [],
   "source": []
  },
  {
   "cell_type": "code",
   "execution_count": 80,
   "id": "9b6bfdb8",
   "metadata": {},
   "outputs": [
    {
     "data": {
      "text/plain": [
       "[5]"
      ]
     },
     "execution_count": 80,
     "metadata": {},
     "output_type": "execute_result"
    }
   ],
   "source": [
    "def equilibrium_index(A):   # TC:O(N),SC:O(N)\n",
    "    \n",
    "    n = len(A)\n",
    "    \n",
    "    prefix = [A[0]]\n",
    "    for x in A[1:]:\n",
    "        prefix.append(x+prefix[-1])\n",
    "    \n",
    "    \n",
    "    eq_index = []\n",
    "    \n",
    "    \n",
    "    for i in range(n):\n",
    "        \n",
    "        before_i = prefix[i-1]\n",
    "            \n",
    "        after_i = prefix[n-1]-prefix[i]\n",
    "        \n",
    "        if before_i == after_i:\n",
    "            eq_index.append(i)\n",
    "    if len(eq_index) == 0:\n",
    "        return \"No_Equilibrium_index\"\n",
    "    return eq_index\n",
    "            \n",
    "        \n",
    "A = [1,2,3,4,5,8,15]\n",
    "equilibrium_index(A)"
   ]
  },
  {
   "cell_type": "code",
   "execution_count": 81,
   "id": "8beaf3e6",
   "metadata": {},
   "outputs": [
    {
     "data": {
      "text/plain": [
       "[3, 6]"
      ]
     },
     "execution_count": 81,
     "metadata": {},
     "output_type": "execute_result"
    }
   ],
   "source": [
    "        \n",
    "A = [-7,1,5,2,-4,3,0]\n",
    "equilibrium_index(A)"
   ]
  },
  {
   "cell_type": "code",
   "execution_count": 82,
   "id": "d5984a33",
   "metadata": {},
   "outputs": [
    {
     "data": {
      "text/plain": [
       "'No_Equilibrium_index'"
      ]
     },
     "execution_count": 82,
     "metadata": {},
     "output_type": "execute_result"
    }
   ],
   "source": [
    "        \n",
    "A = [-7,1,5,2]\n",
    "equilibrium_index(A)"
   ]
  },
  {
   "cell_type": "code",
   "execution_count": 83,
   "id": "b10bc5a4",
   "metadata": {},
   "outputs": [
    {
     "data": {
      "text/plain": [
       "[0, 1, 2, 3, 4, 5]"
      ]
     },
     "execution_count": 83,
     "metadata": {},
     "output_type": "execute_result"
    }
   ],
   "source": [
    "        \n",
    "A = [0,0,0,0,0,0]\n",
    "equilibrium_index(A)"
   ]
  },
  {
   "cell_type": "code",
   "execution_count": null,
   "id": "1760fcf5",
   "metadata": {},
   "outputs": [],
   "source": []
  },
  {
   "cell_type": "code",
   "execution_count": 84,
   "id": "54d9c46b",
   "metadata": {},
   "outputs": [],
   "source": [
    "# TC:O(N),SC:O(1)"
   ]
  },
  {
   "cell_type": "code",
   "execution_count": 85,
   "id": "cb93dc96",
   "metadata": {},
   "outputs": [
    {
     "data": {
      "text/plain": [
       "[5]"
      ]
     },
     "execution_count": 85,
     "metadata": {},
     "output_type": "execute_result"
    }
   ],
   "source": [
    "def equilibrium_index(A):\n",
    "    \n",
    "    n = len(A)\n",
    "    \n",
    "    total = sum(A)\n",
    "    eq_index = []\n",
    "        \n",
    "    before_i = 0\n",
    "    for i in range(n):\n",
    "        \n",
    "        after_i = total - A[i] - before_i\n",
    "        \n",
    "        if before_i == after_i:\n",
    "            eq_index.append(i)\n",
    "            \n",
    "        before_i += A[i] # update before_i total after calculating after_i total\n",
    "    \n",
    "    return eq_index\n",
    "            \n",
    "        \n",
    "A = [1,2,3,4,5,8,15]\n",
    "equilibrium_index(A)"
   ]
  },
  {
   "cell_type": "code",
   "execution_count": 86,
   "id": "9eb7df01",
   "metadata": {},
   "outputs": [
    {
     "data": {
      "text/plain": [
       "[3, 6]"
      ]
     },
     "execution_count": 86,
     "metadata": {},
     "output_type": "execute_result"
    }
   ],
   "source": [
    "        \n",
    "A = [-7,1,5,2,-4,3,0]\n",
    "equilibrium_index(A)"
   ]
  },
  {
   "cell_type": "code",
   "execution_count": 87,
   "id": "2d71e170",
   "metadata": {},
   "outputs": [
    {
     "data": {
      "text/plain": [
       "[]"
      ]
     },
     "execution_count": 87,
     "metadata": {},
     "output_type": "execute_result"
    }
   ],
   "source": [
    "        \n",
    "A = [-7,1,5,2]\n",
    "equilibrium_index(A)"
   ]
  },
  {
   "cell_type": "code",
   "execution_count": 88,
   "id": "2051eb8b",
   "metadata": {},
   "outputs": [
    {
     "data": {
      "text/plain": [
       "[0, 1, 2, 3, 4, 5]"
      ]
     },
     "execution_count": 88,
     "metadata": {},
     "output_type": "execute_result"
    }
   ],
   "source": [
    "        \n",
    "A = [0,0,0,0,0,0]\n",
    "equilibrium_index(A)"
   ]
  },
  {
   "cell_type": "code",
   "execution_count": null,
   "id": "87a84f31",
   "metadata": {},
   "outputs": [],
   "source": []
  },
  {
   "cell_type": "markdown",
   "id": "a1f73237",
   "metadata": {},
   "source": [
    "### Range Sum Query\n",
    "\n",
    "#### You are given an integer array A of length N.\n",
    "#### You are also given a 2D integer array B with dimensions M x 2, where each row denotes a [L, R] query.\n",
    "#### For each query, you have to find the sum of all elements from L to R indices in A (1 - indexed).\n",
    "#### More formally, find A[L] + A[L + 1] + A[L + 2] +... + A[R - 1] + A[R] for each query.\n",
    "\n",
    "    Problem Constraints\n",
    "    1 <= N, M <= 105\n",
    "    1 <= A[i] <= 109\n",
    "    1 <= L <= R <= N\n",
    "\n",
    "    Input Format\n",
    "    The first argument is the integer array A.\n",
    "    The second argument is the 2D integer array B.\n",
    "\n",
    "    Output Format\n",
    "    Return an integer array of length M where ith element is the answer for ith query in B.\n",
    "\n",
    "    Example Input\n",
    "    Input 1:\n",
    "    A = [1, 2, 3, 4, 5]\n",
    "    B = [[1, 4], [2, 3]]\n",
    "    Input 2:\n",
    "\n",
    "    A = [2, 2, 2]\n",
    "    B = [[1, 1], [2, 3]]\n",
    "\n",
    "\n",
    "    Example Output\n",
    "    Output 1:\n",
    "    [10, 5]\n",
    "    Output 2:\n",
    "\n",
    "    [2, 4]\n",
    "\n",
    "\n",
    "    Example Explanation\n",
    "    Explanation 1:\n",
    "    The sum of all elements of A[1 ... 4] = 1 + 2 + 3 + 4 = 10.\n",
    "    The sum of all elements of A[2 ... 3] = 2 + 3 = 5.\n",
    "    Explanation 2:\n",
    "\n",
    "    The sum of all elements of A[1 ... 1] = 2 = 2.\n",
    "    The sum of all elements of A[2 ... 3] = 2 + 2 = 4."
   ]
  },
  {
   "cell_type": "code",
   "execution_count": 89,
   "id": "1a9080f7",
   "metadata": {},
   "outputs": [
    {
     "name": "stdout",
     "output_type": "stream",
     "text": [
      "1\n",
      "4\n"
     ]
    }
   ],
   "source": [
    "start,end = [1,4]\n",
    "print(start)\n",
    "print(end)"
   ]
  },
  {
   "cell_type": "code",
   "execution_count": 90,
   "id": "af681dd1",
   "metadata": {},
   "outputs": [],
   "source": [
    "B = [[1, 4], [2, 3]]"
   ]
  },
  {
   "cell_type": "code",
   "execution_count": 91,
   "id": "e0a44004",
   "metadata": {},
   "outputs": [
    {
     "name": "stdout",
     "output_type": "stream",
     "text": [
      "1 4\n",
      "\n",
      "2 3\n",
      "\n"
     ]
    }
   ],
   "source": [
    "for (start,end) in B:\n",
    "    print(start,end)\n",
    "    print()"
   ]
  },
  {
   "cell_type": "code",
   "execution_count": 92,
   "id": "c5c29130",
   "metadata": {},
   "outputs": [],
   "source": [
    "def rangeSum(A, B):\n",
    "\n",
    "\n",
    "    p = [A[0]]\n",
    "    for i in range(1,len(A)-1+1):\n",
    "        p.append(A[i]+p[i-1])\n",
    "\n",
    "    ans = []\n",
    "\n",
    "    for (start,end) in B:\n",
    "\n",
    "        if start == 1:\n",
    "            sum = p[end-1]\n",
    "        else:\n",
    "            sum = p[end-1]-p[start-2]\n",
    "        ans.append(sum)\n",
    "    return ans"
   ]
  },
  {
   "cell_type": "code",
   "execution_count": 93,
   "id": "e86fcd50",
   "metadata": {},
   "outputs": [
    {
     "data": {
      "text/plain": [
       "[10, 5]"
      ]
     },
     "execution_count": 93,
     "metadata": {},
     "output_type": "execute_result"
    }
   ],
   "source": [
    "A = [1, 2, 3, 4, 5]\n",
    "B = [[1, 4], [2, 3]]\n",
    "rangeSum(A, B)"
   ]
  },
  {
   "cell_type": "code",
   "execution_count": null,
   "id": "0c980a87",
   "metadata": {},
   "outputs": [],
   "source": []
  },
  {
   "cell_type": "markdown",
   "id": "eabe5c55",
   "metadata": {},
   "source": [
    "### Special Index\n",
    "\n",
    "#### Given an array, arr[] of size N, the task is to find the count of array indices such that removing an element from these indices makes the sum of even-indexed and odd-indexed array elements equal.\n",
    "\n",
    "    Problem Constraints\n",
    "    1 <= n <= 105\n",
    "    -105 <= A[i] <= 105\n",
    "\n",
    "    Input Format\n",
    "    First argument contains an array A of integers of size N\n",
    "\n",
    "    Output Format\n",
    "    Return the count of array indices such that removing an element from these indices makes the sum of even-indexed and odd-indexed array elements equal.\n",
    "\n",
    "    Example Input\n",
    "    Input 1:\n",
    "    A=[2, 1, 6, 4]\n",
    "    Input 2:\n",
    "    A=[1, 1, 1]\n",
    "\n",
    "    Example Output\n",
    "    Output 1:\n",
    "    1\n",
    "    Output 2:\n",
    "    3\n",
    "\n",
    "    Example Explanation\n",
    "    Explanation 1:\n",
    "    Removing arr[1] from the array modifies arr[] to { 2, 6, 4 } such that, arr[0] + arr[2] = arr[1]. \n",
    "    Therefore, the required output is 1. \n",
    "    Explanation 2:\n",
    "\n",
    "    Removing arr[0] from the given array modifies arr[] to { 1, 1 } such that arr[0] = arr[1] \n",
    "    Removing arr[1] from the given array modifies arr[] to { 1, 1 } such that arr[0] = arr[1] \n",
    "    Removing arr[2] from the given array modifies arr[] to { 1, 1 } such that arr[0] = arr[1] \n",
    "    Therefore, the required output is 3."
   ]
  },
  {
   "cell_type": "code",
   "execution_count": 94,
   "id": "865cc16d",
   "metadata": {},
   "outputs": [
    {
     "data": {
      "text/plain": [
       "3"
      ]
     },
     "execution_count": 94,
     "metadata": {},
     "output_type": "execute_result"
    }
   ],
   "source": [
    "def special_index(A):\n",
    "    n = len(A)\n",
    "    \n",
    "    count = 0\n",
    "    for x in range(n):\n",
    "\n",
    "        temp_list = A[:]\n",
    "        temp_list.pop(x)\n",
    "               \n",
    "        odd_index_sum = 0\n",
    "        even_index_sum = 0\n",
    "        nt = len(temp_list)\n",
    "        \n",
    "        for i in range(nt):\n",
    "            if i % 2 == 0:\n",
    "                \n",
    "                even_index_sum += temp_list[i]\n",
    "            else:\n",
    "                odd_index_sum += temp_list[i]\n",
    "        if even_index_sum == odd_index_sum:\n",
    "            count += 1\n",
    "    return count\n",
    "            \n",
    "           \n",
    "A = [2, 1,3 ,2,0,8,7,1,2,6, 4,2,5,8,4,1]\n",
    "special_index(A)\n"
   ]
  },
  {
   "cell_type": "code",
   "execution_count": 95,
   "id": "0b265071",
   "metadata": {},
   "outputs": [
    {
     "data": {
      "text/plain": [
       "0"
      ]
     },
     "execution_count": 95,
     "metadata": {},
     "output_type": "execute_result"
    }
   ],
   "source": [
    "\n",
    "A = [1,2,0,6,8,3,4,0,7]\n",
    "special_index(A)"
   ]
  },
  {
   "cell_type": "code",
   "execution_count": 96,
   "id": "3fd32267",
   "metadata": {},
   "outputs": [
    {
     "data": {
      "text/plain": [
       "3"
      ]
     },
     "execution_count": 96,
     "metadata": {},
     "output_type": "execute_result"
    }
   ],
   "source": [
    "def special_index(A):\n",
    "    n = len(A)\n",
    "    evenprefix = []\n",
    "    evensum = 0\n",
    "\n",
    "    for i in range(n):\n",
    "        if i % 2 == 0:\n",
    "            evensum += A[i]\n",
    "            evenprefix.append(evensum)\n",
    "        else:\n",
    "            evenprefix.append(evenprefix[-1])\n",
    "\n",
    "    oddsum = 0\n",
    "    oddprefix = [0]\n",
    "    for i in range(1,n):\n",
    "        if i % 2 != 0:\n",
    "            oddsum += A[i]\n",
    "        oddprefix.append(oddsum)\n",
    "\n",
    "\n",
    "    count = 0\n",
    "\n",
    "    for i in range(n):\n",
    "        evenindex_sum = evenprefix[i-1]+oddprefix[n-1]-oddprefix[i]\n",
    "        oddindex_sum = oddprefix[i-1]+ evenprefix[n-1]-evenprefix[i]\n",
    "\n",
    "        if evenindex_sum == oddindex_sum:\n",
    "            count += 1\n",
    "    return (count)\n",
    "\n",
    "\n",
    "A = [2, 1,3 ,2,0,8,7,1,2,6, 4,2,5,8,4,1]\n",
    " #  0   1 2  3 4 5 6 7 8 9 10 11 12\n",
    "special_index(A)\n"
   ]
  },
  {
   "cell_type": "code",
   "execution_count": 97,
   "id": "671904bd",
   "metadata": {},
   "outputs": [
    {
     "data": {
      "text/plain": [
       "0"
      ]
     },
     "execution_count": 97,
     "metadata": {},
     "output_type": "execute_result"
    }
   ],
   "source": [
    "\n",
    "A = [1,2,0,6,8,3,4,0,7]\n",
    "special_index(A)"
   ]
  },
  {
   "cell_type": "code",
   "execution_count": null,
   "id": "ff693155",
   "metadata": {},
   "outputs": [],
   "source": []
  },
  {
   "cell_type": "markdown",
   "id": "7baf3b97",
   "metadata": {},
   "source": [
    "###  Pick from both sides!\n",
    "\n",
    "#### You are given an integer array A of size N. You have to pick B elements in total. Some (possibly 0) elements from left end of array A and some (possibly 0) from the right end of array A to get the maximum sum.  Find and return this maximum possible sum.\n",
    "\n",
    "    NOTE: Suppose B = 4, and array A contains 10 elements, then\n",
    "    You can pick the first four elements or can pick the last four elements, or can pick 1 from front and 3 from the back, etc. You need to return the maximum possible sum of elements you can pick.\n",
    "\n",
    "    Problem Constraints\n",
    "    1 <= N <= 105\n",
    "    1 <= B <= N\n",
    "    -103 <= A[i] <= 103\n",
    "\n",
    "    Input Format\n",
    "    First argument is an integer array A.\n",
    "    Second argument is an integer B.\n",
    "    Output Format\n",
    "    Return an integer denoting the maximum possible sum of elements you picked.\n",
    "\n",
    "    Example Input\n",
    "    Input 1:\n",
    "     A = [5, -2, 3 , 1, 2]\n",
    "     B = 3\n",
    "    Input 2:\n",
    "     A = [1, 2]\n",
    "     B = 1\n",
    "    Example Output\n",
    "    Output 1:\n",
    "     8\n",
    "    Output 2:\n",
    "     2\n",
    "\n",
    "    Example Explanation\n",
    "    Explanation 1:\n",
    "\n",
    "     Pick element 5 from front and element (1, 2) from back so we get 5 + 1 + 2 = 8\n",
    "    Explanation 2:\n",
    "\n",
    "     Pick element 2 from end as this is the maximum we can get"
   ]
  },
  {
   "cell_type": "code",
   "execution_count": 98,
   "id": "07a30c19",
   "metadata": {},
   "outputs": [
    {
     "name": "stdout",
     "output_type": "stream",
     "text": [
      "[] [10, 6, 5, -1, 0] sum: 20\n"
     ]
    },
    {
     "data": {
      "text/plain": [
       "20"
      ]
     },
     "execution_count": 98,
     "metadata": {},
     "output_type": "execute_result"
    }
   ],
   "source": [
    "\n",
    "\n",
    "def pick_from_both_side(A,B):\n",
    "    n = len(A)\n",
    "    maxsum = -float(\"inf\")\n",
    "    for L in range(B):\n",
    "        R = B-L\n",
    "\n",
    "        leftsum = 0\n",
    "        for i in range(L):\n",
    "            leftsum += A[i]\n",
    "\n",
    "        rightsum = 0\n",
    "        for i in range(n-R,n):\n",
    "            rightsum += A[i]\n",
    "\n",
    "        totalsum = rightsum + leftsum\n",
    "        if totalsum > maxsum:\n",
    "            maxsum = totalsum\n",
    "            print(A[0:L],A[n-R:n],\"sum:\",totalsum)\n",
    "    \n",
    "    return (maxsum)\n",
    "\n",
    "    \n",
    "A = [7,0,1,-3,2,8,10,6 ,5,-1,0]\n",
    "B = 5\n",
    "pick_from_both_side(A,B)"
   ]
  },
  {
   "cell_type": "code",
   "execution_count": 99,
   "id": "87547e18",
   "metadata": {},
   "outputs": [
    {
     "name": "stdout",
     "output_type": "stream",
     "text": [
      "[] [2, -3, 0, -1, -8, 2] sum: -8\n",
      "[0, 1] [0, -1, -8, 2] sum: -6\n",
      "[0, 1, 8] [-1, -8, 2] sum: 2\n",
      "[0, 1, 8, -2, 3] [2] sum: 12\n"
     ]
    },
    {
     "data": {
      "text/plain": [
       "12"
      ]
     },
     "execution_count": 99,
     "metadata": {},
     "output_type": "execute_result"
    }
   ],
   "source": [
    "A = [0,1,8,-2,3,4,-8,-4,1,2,-3,0,-1,-8,2]\n",
    "B = 6\n",
    "pick_from_both_side(A,B)"
   ]
  },
  {
   "cell_type": "code",
   "execution_count": 100,
   "id": "8aa486c6",
   "metadata": {},
   "outputs": [
    {
     "data": {
      "text/plain": [
       "8"
      ]
     },
     "execution_count": 100,
     "metadata": {},
     "output_type": "execute_result"
    }
   ],
   "source": [
    "def pick_from_both_side(A,B):\n",
    "    \n",
    "    n = len(A)\n",
    "    maxsum = -float(\"inf\")\n",
    "    \n",
    "    prefixsum = [A[0]]\n",
    "    for x in A[1:]:\n",
    "        prefixsum.append(x+prefixsum[-1])\n",
    "        \n",
    "    \n",
    "    for L in range(B):    # L: leftpick and R:rightpick \n",
    "        R = B - L\n",
    "        \n",
    "\n",
    "        \n",
    "        if L == 0:\n",
    "            leftsum = 0\n",
    "        else:\n",
    "            leftsum = prefixsum[L-1]\n",
    "        \n",
    "        if n - R == 0:\n",
    "            rightsum = prefixsum[n-1]\n",
    "        else:\n",
    "            rightsum = prefixsum[n-1]-prefixsum[n - R -1]\n",
    "        \n",
    "        total = leftsum + rightsum\n",
    "        \n",
    "        if total > maxsum:\n",
    "            maxsum = total\n",
    "    return maxsum\n",
    "        \n",
    "    \n",
    "A = [5, -2, 3 , 1, 2]\n",
    "B = 3\n",
    "pick_from_both_side(A,B)\n",
    "    \n"
   ]
  },
  {
   "cell_type": "code",
   "execution_count": 101,
   "id": "22907ec5",
   "metadata": {},
   "outputs": [
    {
     "data": {
      "text/plain": [
       "12"
      ]
     },
     "execution_count": 101,
     "metadata": {},
     "output_type": "execute_result"
    }
   ],
   "source": [
    "pick_from_both_side([0,1,8,-2,3,4,-8,-4,1,2,-3,0,-1,-8,2],6)"
   ]
  },
  {
   "cell_type": "code",
   "execution_count": 102,
   "id": "ef0c6e29",
   "metadata": {},
   "outputs": [
    {
     "data": {
      "text/plain": [
       "28"
      ]
     },
     "execution_count": 102,
     "metadata": {},
     "output_type": "execute_result"
    }
   ],
   "source": [
    "pick_from_both_side([2,7,8,4,4,-2,1,0,2,5,2,3,0],7)"
   ]
  },
  {
   "cell_type": "markdown",
   "id": "53f25f30",
   "metadata": {},
   "source": [
    "###  Time to equality\n",
    "\n",
    "#### Given an integer array A of size N. In one second, you can increase the value of one element by 1. Find the minimum time in seconds to make all elements of the array equal.\n",
    "\n",
    "    Problem Constraints\n",
    "    1 <= N <= 1000000\n",
    "    1 <= A[i] <= 1000\n",
    "\n",
    "    Input Format\n",
    "    First argument is an integer array A.\n",
    "    Output Format\n",
    "    Return an integer denoting the minimum time to make all elements equal.\n",
    "\n",
    "    Example Input\n",
    "    A = [2, 4, 1, 3, 2]\n",
    "    Example Output\n",
    "    8\n",
    "\n",
    "    Example Explanation\n",
    "    We can change the array A = [4, 4, 4, 4, 4]. The time required will be 8 seconds."
   ]
  },
  {
   "cell_type": "code",
   "execution_count": 103,
   "id": "221f132e",
   "metadata": {},
   "outputs": [
    {
     "data": {
      "text/plain": [
       "8"
      ]
     },
     "execution_count": 103,
     "metadata": {},
     "output_type": "execute_result"
    }
   ],
   "source": [
    "def time_to_equality(A):\n",
    "    maxval = max(A)\n",
    "    equalizedby = 0\n",
    "    for i in A:\n",
    "        diff = maxval - i\n",
    "        equalizedby += diff\n",
    "    return equalizedby\n",
    "        \n",
    "    \n",
    "    \n",
    "A = [2,4,1,3,2]\n",
    "time_to_equality(A)"
   ]
  },
  {
   "cell_type": "code",
   "execution_count": null,
   "id": "9c3a8783",
   "metadata": {},
   "outputs": [],
   "source": []
  },
  {
   "cell_type": "markdown",
   "id": "be9094ac",
   "metadata": {},
   "source": [
    "### Product array puzzle\n",
    "\n",
    "#### Given an array of integers A, find and return the product array of the same size where the ith element of the product array will be equal to the product of all the elements divided by the ith element of the array.\n",
    "\n",
    "    Note: It is always possible to form the product array with integer (32 bit) values. Solve it without using the division operator.\n",
    "\n",
    "    Input Format\n",
    "    The only argument given is the integer array A.\n",
    "    Output Format\n",
    "    Return the product array.\n",
    "    Constraints\n",
    "\n",
    "    2 <= length of the array <= 1000\n",
    "    1 <= A[i] <= 10\n",
    "    For Example\n",
    "\n",
    "    Input 1:\n",
    "        A = [1, 2, 3, 4, 5]\n",
    "    Output 1:\n",
    "        [120, 60, 40, 30, 24]\n",
    "\n",
    "    Input 2:\n",
    "        A = [5, 1, 10, 1]\n",
    "    Output 2:\n",
    "        [10, 50, 5, 50]"
   ]
  },
  {
   "cell_type": "code",
   "execution_count": null,
   "id": "1ded0425",
   "metadata": {},
   "outputs": [],
   "source": []
  },
  {
   "cell_type": "code",
   "execution_count": 104,
   "id": "68775126",
   "metadata": {},
   "outputs": [
    {
     "data": {
      "text/plain": [
       "[120, 60, 40, 30, 24]"
      ]
     },
     "execution_count": 104,
     "metadata": {},
     "output_type": "execute_result"
    }
   ],
   "source": [
    "def Product_array_puzzle(A):\n",
    "    product = 1\n",
    "    for i in A:\n",
    "        product *= i\n",
    "    \n",
    "    for i in range(len(A)):\n",
    "        A[i] = int(product/A[i])\n",
    "    return(A)\n",
    "    \n",
    "\n",
    "Product_array_puzzle([1,2,3,4,5])"
   ]
  },
  {
   "cell_type": "code",
   "execution_count": 105,
   "id": "4d284d6f",
   "metadata": {},
   "outputs": [
    {
     "data": {
      "text/plain": [
       "[120, 60, 40, 30, 24]"
      ]
     },
     "execution_count": 105,
     "metadata": {},
     "output_type": "execute_result"
    }
   ],
   "source": [
    "def Product_array_puzzle(A):\n",
    "\n",
    "    product = 1\n",
    "    for i in A:\n",
    "        product *= i\n",
    "    \n",
    "    return [int(product/i) for i in A]\n",
    "    \n",
    "\n",
    "Product_array_puzzle([1,2,3,4,5])"
   ]
  },
  {
   "cell_type": "code",
   "execution_count": null,
   "id": "14e05c18",
   "metadata": {},
   "outputs": [],
   "source": []
  },
  {
   "cell_type": "markdown",
   "id": "e36e04c3",
   "metadata": {},
   "source": [
    "### count good pairs : \n",
    "\n",
    "#### given a string ( all lower case ) . COunt the number of pairs (i,j) such that i<j and s[i] = \"a\" and s[j] = \"g\".\n",
    "#### given string S count the number of occurances of subsquence \"ag\""
   ]
  },
  {
   "cell_type": "code",
   "execution_count": 106,
   "id": "bf046516",
   "metadata": {},
   "outputs": [
    {
     "data": {
      "text/plain": [
       "8"
      ]
     },
     "execution_count": 106,
     "metadata": {},
     "output_type": "execute_result"
    }
   ],
   "source": [
    "\n",
    "\n",
    "def count_good_pairs(S):\n",
    "    \n",
    "    n = len(S)\n",
    "    occurances = 0\n",
    "    for i in range(n):\n",
    "        if S[i] == \"a\":\n",
    "            for j in range(i+1,n):\n",
    "                if S[j] == \"g\":\n",
    "                    occurances += 1\n",
    "    return occurances\n",
    "    \n",
    "    \n",
    "S = \"axgabbxggaxg\"\n",
    "count_good_pairs(S)\n"
   ]
  },
  {
   "cell_type": "code",
   "execution_count": null,
   "id": "92a817eb",
   "metadata": {},
   "outputs": [],
   "source": []
  },
  {
   "cell_type": "code",
   "execution_count": 107,
   "id": "242d825a",
   "metadata": {},
   "outputs": [
    {
     "name": "stdout",
     "output_type": "stream",
     "text": [
      "[4, 4, 4, 3, 3, 3, 3, 3, 2, 1, 1, 1]\n"
     ]
    },
    {
     "data": {
      "text/plain": [
       "8"
      ]
     },
     "execution_count": 107,
     "metadata": {},
     "output_type": "execute_result"
    }
   ],
   "source": [
    "\n",
    "\n",
    "def count_good_pairs(S):\n",
    "    \n",
    "    n = len(S)\n",
    "    occurances = 0\n",
    "    \n",
    "    gcounts = [0]*n\n",
    "    gc = 0\n",
    "    for i in reversed(range(n)):\n",
    "        if S[i] == \"g\":\n",
    "            gc+=1\n",
    "        gcounts[i] = gc\n",
    "    \n",
    "    \n",
    "    print(gcounts)\n",
    "    for i in range(n):\n",
    "        if S[i] == \"a\":\n",
    "            occurances += gcounts[i]\n",
    "    \n",
    "    \n",
    "    return occurances\n",
    "    \n",
    "    \n",
    "S = \"axgabbxggaxg\"\n",
    "count_good_pairs(S)\n"
   ]
  },
  {
   "cell_type": "code",
   "execution_count": null,
   "id": "6ef2576d",
   "metadata": {},
   "outputs": [],
   "source": []
  },
  {
   "cell_type": "code",
   "execution_count": 108,
   "id": "493f805d",
   "metadata": {},
   "outputs": [
    {
     "data": {
      "text/plain": [
       "8"
      ]
     },
     "execution_count": 108,
     "metadata": {},
     "output_type": "execute_result"
    }
   ],
   "source": [
    "\n",
    "\n",
    "def count_good_pairs(S):\n",
    "    \n",
    "    n = len(S)\n",
    "    occurances = 0\n",
    "    gcounts = 0\n",
    "    for i in reversed(range(n)):\n",
    "        if S[i] == \"g\":\n",
    "            gcounts += 1\n",
    "        if S[i] == \"a\":\n",
    "            occurances += gcounts\n",
    "    \n",
    "    \n",
    "    \n",
    "    return occurances\n",
    "    \n",
    "    \n",
    "S = \"axgabbxggaxg\"\n",
    "count_good_pairs(S)\n"
   ]
  },
  {
   "cell_type": "code",
   "execution_count": null,
   "id": "7c4117cf",
   "metadata": {},
   "outputs": [],
   "source": []
  },
  {
   "cell_type": "markdown",
   "id": "d86fd939",
   "metadata": {},
   "source": [
    "### given an array A of size n, count the number of leaders in the array : \n",
    "#### learder are any number which is strictly greater than all elements on its right .  "
   ]
  },
  {
   "cell_type": "code",
   "execution_count": 109,
   "id": "7fdc6ab0",
   "metadata": {},
   "outputs": [],
   "source": [
    "A = [1,7,8,-6,0,3,-7,-10]\n",
    "#        l      l  l  l"
   ]
  },
  {
   "cell_type": "code",
   "execution_count": null,
   "id": "5cb31e2c",
   "metadata": {},
   "outputs": [],
   "source": []
  },
  {
   "cell_type": "code",
   "execution_count": 110,
   "id": "8c890c3e",
   "metadata": {},
   "outputs": [
    {
     "data": {
      "text/plain": [
       "5"
      ]
     },
     "execution_count": 110,
     "metadata": {},
     "output_type": "execute_result"
    }
   ],
   "source": [
    "def learders_on_the_way(A):\n",
    "    n = len(A)\n",
    "    number_of_leaders = 0\n",
    "    for i in range(n):\n",
    "        hasleader = True\n",
    "        for j in range(i+1,n):\n",
    "            if A[j] >= A[i]:\n",
    "                hasleader = False\n",
    "                break\n",
    "        if hasleader :\n",
    "            number_of_leaders += 1\n",
    "    return number_of_leaders\n",
    "    \n",
    "A = [1,9,7,8,8,-6,0,3,-7,-10]\n",
    "learders_on_the_way(A)\n"
   ]
  },
  {
   "cell_type": "code",
   "execution_count": null,
   "id": "01861c3d",
   "metadata": {},
   "outputs": [],
   "source": []
  },
  {
   "cell_type": "code",
   "execution_count": 111,
   "id": "bc1205ba",
   "metadata": {},
   "outputs": [
    {
     "data": {
      "text/plain": [
       "5"
      ]
     },
     "execution_count": 111,
     "metadata": {},
     "output_type": "execute_result"
    }
   ],
   "source": [
    "def learders_on_the_way(A):\n",
    "    n = len(A)\n",
    "    number_of_leaders = 0\n",
    "    for i in range(n):\n",
    "        hasleader = False\n",
    "        for j in range(i+1,n):\n",
    "            if A[j] >= A[i]:\n",
    "                hasleader = True\n",
    "                \n",
    "        if hasleader :\n",
    "            number_of_leaders += 1\n",
    "    return number_of_leaders\n",
    "    \n",
    "A = [1,9,7,8,8,-6,0,3,-7,-10]\n",
    "learders_on_the_way(A)\n"
   ]
  },
  {
   "cell_type": "code",
   "execution_count": null,
   "id": "2cfab2e6",
   "metadata": {},
   "outputs": [],
   "source": []
  },
  {
   "cell_type": "code",
   "execution_count": 112,
   "id": "47b89930",
   "metadata": {},
   "outputs": [
    {
     "name": "stdout",
     "output_type": "stream",
     "text": [
      "[-10, -7, 3, 3, 3, 8, 8, 8, 9, 9]\n"
     ]
    },
    {
     "data": {
      "text/plain": [
       "5"
      ]
     },
     "execution_count": 112,
     "metadata": {},
     "output_type": "execute_result"
    }
   ],
   "source": [
    "\n",
    "def learders_on_the_way(A):\n",
    "    n = len(A)\n",
    "    suffixmax = []\n",
    "\n",
    "    maxxv = A[-1]\n",
    "    for i in reversed(range(n)):\n",
    "        maxxv = max(maxxv,A[i])\n",
    "        suffixmax.append(maxxv)\n",
    "\n",
    "    print(suffixmax)\n",
    "    return len(set(suffixmax))\n",
    "\n",
    "A = [1,9,7,8,8,-6,0,3,-7,-10]\n",
    "learders_on_the_way(A)"
   ]
  },
  {
   "cell_type": "code",
   "execution_count": null,
   "id": "c63f26ef",
   "metadata": {},
   "outputs": [],
   "source": []
  },
  {
   "cell_type": "code",
   "execution_count": null,
   "id": "95aeb68a",
   "metadata": {},
   "outputs": [],
   "source": []
  },
  {
   "cell_type": "code",
   "execution_count": 113,
   "id": "cbc028e2",
   "metadata": {},
   "outputs": [
    {
     "data": {
      "text/plain": [
       "5"
      ]
     },
     "execution_count": 113,
     "metadata": {},
     "output_type": "execute_result"
    }
   ],
   "source": [
    "\n",
    "def learders_on_the_way(A):\n",
    "    n = len(A)\n",
    "    maxval = -float(\"inf\")\n",
    "    count = 0\n",
    "    for i in reversed(range(n)):\n",
    "        if A[i] > maxval:\n",
    "            count += 1\n",
    "            maxval = A[i]\n",
    "    return count\n",
    "            \n",
    "    \n",
    "    \n",
    "\n",
    "A = [1,9,7,8,8,-6,0,3,-7,-10]\n",
    "learders_on_the_way(A)"
   ]
  },
  {
   "cell_type": "code",
   "execution_count": 114,
   "id": "0bd57beb",
   "metadata": {},
   "outputs": [
    {
     "data": {
      "text/plain": [
       "1"
      ]
     },
     "execution_count": 114,
     "metadata": {},
     "output_type": "execute_result"
    }
   ],
   "source": [
    "\n",
    "A = [0]\n",
    "learders_on_the_way(A)"
   ]
  },
  {
   "cell_type": "code",
   "execution_count": 115,
   "id": "9a18c769",
   "metadata": {},
   "outputs": [
    {
     "data": {
      "text/plain": [
       "0"
      ]
     },
     "execution_count": 115,
     "metadata": {},
     "output_type": "execute_result"
    }
   ],
   "source": [
    "\n",
    "A = []\n",
    "learders_on_the_way(A)"
   ]
  },
  {
   "cell_type": "markdown",
   "id": "1819aaa2",
   "metadata": {},
   "source": [
    "#### Given an integer array A containing N distinct integers, you have to find all the leaders in array A. An element is a leader if it is strictly greater than all the elements to its right side.\n",
    "    NOTE:The rightmost element is always a leader.\n",
    "    \n",
    "    \n",
    "\n"
   ]
  },
  {
   "cell_type": "code",
   "execution_count": 116,
   "id": "6f0c7347",
   "metadata": {},
   "outputs": [
    {
     "data": {
      "text/plain": [
       "[9, 8, 3, -7, -10]"
      ]
     },
     "execution_count": 116,
     "metadata": {},
     "output_type": "execute_result"
    }
   ],
   "source": [
    "def leaders_on_the_way(A):\n",
    "    n = len(A)\n",
    "    ans = []\n",
    "    maxnum = -float('inf')\n",
    "    for i in range(n-1,-1,-1):\n",
    "        if  A[i] > maxnum :\n",
    "            ans.append(A[i])\n",
    "            maxnum = A[i]\n",
    "    return ans[::-1]\n",
    "\n",
    "A = [1,9,7,8,8,-6,0,3,-7,-10]\n",
    "leaders_on_the_way(A)"
   ]
  },
  {
   "cell_type": "markdown",
   "id": "5794c697",
   "metadata": {},
   "source": [
    "### Closest MinMax : \n",
    "#### Given an array of size n , find the length of the smallest subarray which contains both min and max of the array ."
   ]
  },
  {
   "cell_type": "code",
   "execution_count": 117,
   "id": "73992458",
   "metadata": {},
   "outputs": [
    {
     "name": "stdout",
     "output_type": "stream",
     "text": [
      "[0, 1, 5, -2]\n",
      "[1, 5, -2]\n",
      "[5, -2]\n"
     ]
    },
    {
     "data": {
      "text/plain": [
       "2"
      ]
     },
     "execution_count": 117,
     "metadata": {},
     "output_type": "execute_result"
    }
   ],
   "source": [
    "\n",
    "def closest_min_max(A):\n",
    "    n = len(A)\n",
    "    Amin = min(A)\n",
    "    Amax = max(A)\n",
    "    minlen = float(\"inf\")\n",
    "    for s in range(n):\n",
    "        for e in range(s,n):\n",
    "            if Amin in A[s:e+1] and Amax in A[s:e+1]:\n",
    "                length = e-s+1\n",
    "                \n",
    "                if length < minlen:\n",
    "                    minlen = length\n",
    "                    print(A[s:e+1])\n",
    "                \n",
    "    return minlen\n",
    "\n",
    "A = [0,1,5,-2,3,2,5,5,4,-2,3,0,5]\n",
    "closest_min_max(A)"
   ]
  },
  {
   "cell_type": "code",
   "execution_count": 118,
   "id": "e007d2df",
   "metadata": {},
   "outputs": [
    {
     "name": "stdout",
     "output_type": "stream",
     "text": [
      "[1, 6, 4, 2, 7]\n",
      "[7, 5, 3, 1]\n"
     ]
    },
    {
     "data": {
      "text/plain": [
       "4"
      ]
     },
     "execution_count": 118,
     "metadata": {},
     "output_type": "execute_result"
    }
   ],
   "source": [
    "\n",
    "A = [1, 6, 4, 2, 7, 7, 5, 3, 1, 1, 5]\n",
    "closest_min_max(A)"
   ]
  },
  {
   "cell_type": "code",
   "execution_count": 119,
   "id": "a0e9b97c",
   "metadata": {},
   "outputs": [
    {
     "name": "stdout",
     "output_type": "stream",
     "text": [
      "[8]\n"
     ]
    },
    {
     "data": {
      "text/plain": [
       "1"
      ]
     },
     "execution_count": 119,
     "metadata": {},
     "output_type": "execute_result"
    }
   ],
   "source": [
    "closest_min_max([8, 8, 8, 8, 8, 8])"
   ]
  },
  {
   "cell_type": "code",
   "execution_count": null,
   "id": "0a904403",
   "metadata": {},
   "outputs": [],
   "source": []
  },
  {
   "cell_type": "code",
   "execution_count": null,
   "id": "a4caf404",
   "metadata": {},
   "outputs": [],
   "source": []
  },
  {
   "cell_type": "code",
   "execution_count": 120,
   "id": "d8993690",
   "metadata": {
    "scrolled": true
   },
   "outputs": [
    {
     "name": "stdout",
     "output_type": "stream",
     "text": [
      "[0, 1, 5, -2]\n",
      "[1, 5, -2]\n",
      "[5, -2]\n"
     ]
    },
    {
     "data": {
      "text/plain": [
       "2"
      ]
     },
     "execution_count": 120,
     "metadata": {},
     "output_type": "execute_result"
    }
   ],
   "source": [
    "\n",
    "def closest_min_max(A):\n",
    "    n = len(A)\n",
    "    \n",
    "    Amin = float(\"inf\")\n",
    "    for i in A:\n",
    "        if i < Amin:\n",
    "            Amin = i\n",
    "            \n",
    "    Amax = -float(\"inf\")\n",
    "    for i in A:\n",
    "        if i > Amax:\n",
    "            Amax = i\n",
    "            \n",
    "    minlen = float(\"inf\")\n",
    "    \n",
    "    for s in range(n):\n",
    "        for e in range(s,n):\n",
    "            \n",
    "            hasmin = False\n",
    "            hasmax = False\n",
    "            \n",
    "            \n",
    "            for i in range(s,e+1):\n",
    "                if A[i] == Amin:\n",
    "                    hasmin = True\n",
    "                if A[i] == Amax:\n",
    "                    hasmax = True\n",
    "            if hasmin and hasmax:\n",
    "                length  = e-s+1\n",
    "                if length < minlen:\n",
    "                    minlen = length\n",
    "                    print(A[s:e+1])\n",
    "                \n",
    "    return minlen\n",
    "\n",
    "A = [0,1,5,-2,3,2,5,5,4,-2,3,0,5]\n",
    "closest_min_max(A)"
   ]
  },
  {
   "cell_type": "code",
   "execution_count": null,
   "id": "de01f03f",
   "metadata": {},
   "outputs": [],
   "source": []
  },
  {
   "cell_type": "code",
   "execution_count": null,
   "id": "3d2ac9a0",
   "metadata": {},
   "outputs": [],
   "source": []
  },
  {
   "cell_type": "code",
   "execution_count": 121,
   "id": "f6fbc1fb",
   "metadata": {},
   "outputs": [
    {
     "data": {
      "text/plain": [
       "2"
      ]
     },
     "execution_count": 121,
     "metadata": {},
     "output_type": "execute_result"
    }
   ],
   "source": [
    "\n",
    "def closest_min_max(A):\n",
    "    n = len(A)\n",
    "    \n",
    "    Amin = float(\"inf\")\n",
    "    for i in A:\n",
    "        if i < Amin:\n",
    "            Amin = i\n",
    "            \n",
    "    Amax = -float(\"inf\")\n",
    "    for i in A:\n",
    "        if i > Amax:\n",
    "            Amax = i\n",
    "            \n",
    "    minlen = float(\"inf\")\n",
    "    \n",
    "    imin = None\n",
    "    imax = None\n",
    "    \n",
    "    for i in range(n):\n",
    "        \n",
    "        if A[i] == Amin:\n",
    "            imin = i\n",
    "            if imax is not None:\n",
    "                length = imin - imax + 1\n",
    "                minlen = min(length,minlen)\n",
    "        if A[i] == Amax:\n",
    "            imax = i\n",
    "            if imin is not None:\n",
    "                length = imax - imin + 1\n",
    "                minlen = min(length,minlen)\n",
    "            \n",
    "    return minlen\n",
    "\n",
    "A = [0,1,5,-2,3,2,5,5,4,-2,3,0,5]\n",
    "closest_min_max(A)"
   ]
  },
  {
   "cell_type": "code",
   "execution_count": null,
   "id": "352b1bce",
   "metadata": {},
   "outputs": [],
   "source": []
  },
  {
   "cell_type": "code",
   "execution_count": null,
   "id": "6f249ad9",
   "metadata": {},
   "outputs": [],
   "source": []
  },
  {
   "cell_type": "markdown",
   "id": "f0ea22a6",
   "metadata": {},
   "source": [
    "### Bulbs\n",
    "\n",
    "#### A wire connects N light bulbs. Each bulb has a switch associated with it; however, due to faulty wiring, a switch also changes the state of all the bulbs to the right of the current bulb. Given an initial state of all bulbs, find the minimum number of switches you have to press to turn on all the bulbs.  You can press the same switch multiple times.\n",
    "\n",
    "    Note: 0 represents the bulb is off and 1 represents the bulb is on.\n",
    "    Problem Constraints\n",
    "    0 <= N <= 5×105\n",
    "    0 <= A[i] <= 1\n",
    "    Input Format\n",
    "    The first and the only argument contains an integer array A, of size N.\n",
    "    Output Format\n",
    "    Return an integer representing the minimum number of switches required.\n",
    "\n",
    "    Example Input\n",
    "    Input 1:\n",
    "     A = [0, 1, 0, 1]\n",
    "    Input 2:\n",
    "     A = [1, 1, 1, 1]\n",
    "    Example Output\n",
    "    Output 1:\n",
    "     4\n",
    "    Output 2:\n",
    "     0\n",
    "\n",
    "    Example Explanation\n",
    "    Explanation 1:\n",
    "     press switch 0 : [1 0 1 0]\n",
    "     press switch 1 : [1 1 0 1]\n",
    "     press switch 2 : [1 1 1 0]\n",
    "     press switch 3 : [1 1 1 1]\n",
    "    Explanation 2:\n",
    "     There is no need to turn any switches as all the bulbs are already on."
   ]
  },
  {
   "cell_type": "code",
   "execution_count": 122,
   "id": "568f6cb4",
   "metadata": {},
   "outputs": [
    {
     "name": "stdout",
     "output_type": "stream",
     "text": [
      "7\n"
     ]
    }
   ],
   "source": [
    "A = [0,1,0,1,0,1,1,0]\n",
    "state = 0\n",
    "count = 0\n",
    "n = len(A)\n",
    "for i in range(n):\n",
    "    if A[i] == state:\n",
    "        count += 1\n",
    "        state = 1- state\n",
    "        A[i] = state\n",
    "print(count)"
   ]
  },
  {
   "cell_type": "code",
   "execution_count": null,
   "id": "3f9027bd",
   "metadata": {},
   "outputs": [],
   "source": []
  },
  {
   "cell_type": "markdown",
   "id": "ed789644",
   "metadata": {},
   "source": [
    "### Amazing Subarrays: \n",
    "\n",
    "#### You are given a string S, and you have to find all the amazing substrings of S. An amazing Substring is one that starts with a vowel (a, e, i, o, u, A, E, I, O, U).\n",
    "\n",
    "    Input\n",
    "\n",
    "    Only argument given is string S.\n",
    "    Output\n",
    "\n",
    "    Return a single integer X mod 10003, here X is the number of Amazing Substrings in given the string.\n",
    "    Constraints\n",
    "\n",
    "    1 <= length(S) <= 1e6\n",
    "    S can have special characters\n",
    "    Example\n",
    "\n",
    "    Input\n",
    "    ABEC\n",
    "\n",
    "    Output\n",
    "    6\n",
    "\n",
    "    Explanation\n",
    "    Amazing substrings of given string are :\n",
    "    1. A\n",
    "    2. AB\n",
    "    3. ABE\n",
    "    4. ABEC\n",
    "    5. E\n",
    "    6. EC\n",
    "    here number of substrings are 6 and 6 % 10003 = 6."
   ]
  },
  {
   "cell_type": "code",
   "execution_count": 123,
   "id": "efac4428",
   "metadata": {},
   "outputs": [
    {
     "name": "stdout",
     "output_type": "stream",
     "text": [
      "6\n"
     ]
    }
   ],
   "source": [
    "A = \"ABEC\"\n",
    "n = len(A)\n",
    "x = len(A)\n",
    "count_of_subarrays = 0\n",
    "vowels = set({'a', 'e', 'i', 'o', 'u', 'A', 'E', 'I', 'O', 'U'})\n",
    "for i in range(n):\n",
    "    if A[i] in vowels:\n",
    "        count_of_subarrays += x\n",
    "    x -= 1\n",
    "print(count_of_subarrays % 10003)"
   ]
  },
  {
   "cell_type": "code",
   "execution_count": 124,
   "id": "ed126549",
   "metadata": {},
   "outputs": [
    {
     "name": "stdout",
     "output_type": "stream",
     "text": [
      "A\n",
      "AB\n",
      "ABE\n",
      "ABEC\n",
      "E\n",
      "EC\n",
      "6\n"
     ]
    }
   ],
   "source": [
    "A = \"ABEC\"\n",
    "n = len(A)\n",
    "x = len(A)\n",
    "count_of_subarrays = 0\n",
    "vowels = set({'a', 'e', 'i', 'o', 'u', 'A', 'E', 'I', 'O', 'U'})\n",
    "for s in range(n):\n",
    "    for e in range(s,n):\n",
    "        if A[s] in vowels:\n",
    "            print(A[s:e+1])\n",
    "            count_of_subarrays += 1\n",
    "print(count_of_subarrays % 10003)"
   ]
  },
  {
   "cell_type": "code",
   "execution_count": null,
   "id": "9e4a49b6",
   "metadata": {},
   "outputs": [],
   "source": []
  },
  {
   "cell_type": "markdown",
   "id": "5239936f",
   "metadata": {},
   "source": [
    "### Even Subarrays\n",
    "\n",
    "#### You are given an integer array A. Decide whether it is possible to divide the array into one or more subarrays of even length such that the first and last element of all subarrays will be even. Return \"YES\" if it is possible; otherwise, return \"NO\" (without quotes).\n",
    "\n",
    "    Problem Constraints\n",
    "    1 <= |A|, A[i] <= 106\n",
    "    Input Format\n",
    "    The first and the only input argument is an integer array, A.\n",
    "    Output Format\n",
    "    Return a string \"YES\" or \"NO\" denoting the answer.\n",
    "\n",
    "    Example Input\n",
    "    Input 1:\n",
    "     A = [2, 4, 8, 6]\n",
    "    Input 2:\n",
    "     A = [2, 4, 8, 7, 6]\n",
    "    Example Output\n",
    "    Output 1:\n",
    "     \"YES\"\n",
    "    Output 2:\n",
    "     \"NO\"\n",
    "    Example Explanation\n",
    "    Explanation 1:\n",
    "     We can divide A into [2, 4] and [8, 6].\n",
    "    Explanation 2:\n",
    "     There is no way to divide the array into even length subarrays."
   ]
  },
  {
   "cell_type": "code",
   "execution_count": 125,
   "id": "c2948180",
   "metadata": {},
   "outputs": [
    {
     "data": {
      "text/plain": [
       "'NO'"
      ]
     },
     "execution_count": 125,
     "metadata": {},
     "output_type": "execute_result"
    }
   ],
   "source": [
    "A = [2,4,8,7,6]\n",
    "def even_subarrays(A):\n",
    "    if len(A)%2 == 0 and A[0]%2 == 0 and A[-1]%2 == 0:\n",
    "        return \"YES\"\n",
    "    else:\n",
    "        return \"NO\"\n",
    "    \n",
    "A = [2,4,8,7,6]\n",
    "even_subarrays(A)"
   ]
  },
  {
   "cell_type": "code",
   "execution_count": 126,
   "id": "b8f38c0b",
   "metadata": {},
   "outputs": [
    {
     "data": {
      "text/plain": [
       "'YES'"
      ]
     },
     "execution_count": 126,
     "metadata": {},
     "output_type": "execute_result"
    }
   ],
   "source": [
    "A = [2,4,8,6]\n",
    "even_subarrays(A)"
   ]
  },
  {
   "cell_type": "code",
   "execution_count": 127,
   "id": "78c90be8",
   "metadata": {},
   "outputs": [
    {
     "data": {
      "text/plain": [
       "'NO'"
      ]
     },
     "execution_count": 127,
     "metadata": {},
     "output_type": "execute_result"
    }
   ],
   "source": [
    "A = [2,4,8,5]\n",
    "even_subarrays(A)"
   ]
  },
  {
   "cell_type": "code",
   "execution_count": 128,
   "id": "85b6e23b",
   "metadata": {},
   "outputs": [
    {
     "data": {
      "text/plain": [
       "'YES'"
      ]
     },
     "execution_count": 128,
     "metadata": {},
     "output_type": "execute_result"
    }
   ],
   "source": [
    "A = [2,4,5,6]\n",
    "even_subarrays(A)"
   ]
  },
  {
   "cell_type": "code",
   "execution_count": null,
   "id": "74ea034a",
   "metadata": {},
   "outputs": [],
   "source": []
  },
  {
   "cell_type": "markdown",
   "id": "b2068d4d",
   "metadata": {},
   "source": [
    "### Print subarrays of given array of size n :"
   ]
  },
  {
   "cell_type": "code",
   "execution_count": 129,
   "id": "5548fe85",
   "metadata": {},
   "outputs": [
    {
     "name": "stdout",
     "output_type": "stream",
     "text": [
      "1 \n",
      "1 2 \n",
      "1 2 3 \n",
      "1 2 3 4 \n",
      "1 2 3 4 5 \n",
      "2 \n",
      "2 3 \n",
      "2 3 4 \n",
      "2 3 4 5 \n",
      "3 \n",
      "3 4 \n",
      "3 4 5 \n",
      "4 \n",
      "4 5 \n",
      "5 \n"
     ]
    }
   ],
   "source": [
    "A = [1,2,3,4,5]\n",
    "\n",
    "n = len(A)\n",
    "for s in range(n):\n",
    "    for e in range(s,n):\n",
    "        for i in range(s,e+1):\n",
    "            print(A[i],end = \" \")\n",
    "        print()"
   ]
  },
  {
   "cell_type": "code",
   "execution_count": null,
   "id": "753542a5",
   "metadata": {},
   "outputs": [],
   "source": []
  },
  {
   "cell_type": "markdown",
   "id": "d964d493",
   "metadata": {},
   "source": [
    "### Find Maxuimum sum Subarray :"
   ]
  },
  {
   "cell_type": "code",
   "execution_count": 130,
   "id": "2bcacb87",
   "metadata": {},
   "outputs": [
    {
     "name": "stdout",
     "output_type": "stream",
     "text": [
      "[5, -5, 95, 75, 90, 80, 105, 135]\n",
      "[5] 5\n",
      "[5, -10, 100] 95\n",
      "[5, -10, 100, -20, 15, -10, 25] 105\n",
      "[5, -10, 100, -20, 15, -10, 25, 30] 135\n",
      "[100, -20, 15, -10, 25, 30] 140\n"
     ]
    },
    {
     "data": {
      "text/plain": [
       "140"
      ]
     },
     "execution_count": 130,
     "metadata": {},
     "output_type": "execute_result"
    }
   ],
   "source": [
    "\n",
    "def max_subarray_sum(A):\n",
    "    n = len(A)\n",
    "    maxsum = -float(\"inf\")\n",
    "    \n",
    "    prefixsum = [A[0]]\n",
    "    for x in A[1:]:\n",
    "        prefixsum.append(x + prefixsum[-1])\n",
    "    print(prefixsum)\n",
    "    \n",
    "    for s in range(n):\n",
    "        for e in range(s,n):\n",
    "            if s == 0:\n",
    "                subsum = prefixsum[e]\n",
    "            else:\n",
    "                subsum = prefixsum[e] - prefixsum[s-1]\n",
    "            if subsum > maxsum:\n",
    "                maxsum = subsum\n",
    "                print(A[s:e+1],subsum)\n",
    "    return maxsum\n",
    "    \n",
    "    \n",
    "A = [5,-10,100,-20,15,-10,25,30]\n",
    "\n",
    "max_subarray_sum(A)"
   ]
  },
  {
   "cell_type": "code",
   "execution_count": 131,
   "id": "a63a7386",
   "metadata": {},
   "outputs": [
    {
     "name": "stdout",
     "output_type": "stream",
     "text": [
      "[5] 5\n",
      "[5, -10, 100] 95\n",
      "[5, -10, 100, -20, 15, -10, 25] 105\n",
      "[5, -10, 100, -20, 15, -10, 25, 30] 135\n",
      "[100, -20, 15, -10, 25, 30] 140\n"
     ]
    },
    {
     "data": {
      "text/plain": [
       "140"
      ]
     },
     "execution_count": 131,
     "metadata": {},
     "output_type": "execute_result"
    }
   ],
   "source": [
    "\n",
    "def max_subarray_sum(A):\n",
    "    n = len(A)\n",
    "    maxsum = -float(\"inf\")\n",
    "    subarray_maxsum = None\n",
    "    for s in range(n):\n",
    "        subtotal = 0\n",
    "        for e in range(s,n):\n",
    "            subtotal += A[e]\n",
    "            \n",
    "            if subtotal > maxsum:\n",
    "                maxsum = subtotal\n",
    "                subarray_maxsum = A[s:e+1]\n",
    "                print(subarray_maxsum,maxsum)\n",
    "            \n",
    "            \n",
    "    return maxsum\n",
    "    \n",
    "A = [5,-10,100,-20,15,-10,25,30]\n",
    "\n",
    "max_subarray_sum(A)"
   ]
  },
  {
   "cell_type": "code",
   "execution_count": null,
   "id": "3f226cb3",
   "metadata": {},
   "outputs": [],
   "source": []
  },
  {
   "cell_type": "code",
   "execution_count": 132,
   "id": "e68e87b6",
   "metadata": {},
   "outputs": [
    {
     "name": "stdout",
     "output_type": "stream",
     "text": [
      "[-15] -15\n",
      "[-15, 8] -7\n",
      "[-15, 8, -2, 1, 2] -6\n",
      "[-15, 8, -2, 1, 2, 10] 4\n",
      "[8] 8\n",
      "[8, -2, 1, 2] 9\n",
      "[8, -2, 1, 2, 10] 19\n"
     ]
    },
    {
     "data": {
      "text/plain": [
       "19"
      ]
     },
     "execution_count": 132,
     "metadata": {},
     "output_type": "execute_result"
    }
   ],
   "source": [
    "    \n",
    "A = [-15,8,-2,1,2,10,-5,-7,3,2,1,-1]\n",
    "max_subarray_sum(A)"
   ]
  },
  {
   "cell_type": "code",
   "execution_count": 133,
   "id": "1291e845",
   "metadata": {},
   "outputs": [],
   "source": [
    "# Kaden's Aalgorithm "
   ]
  },
  {
   "cell_type": "code",
   "execution_count": 134,
   "id": "b75ef122",
   "metadata": {},
   "outputs": [
    {
     "data": {
      "text/plain": [
       "140"
      ]
     },
     "execution_count": 134,
     "metadata": {},
     "output_type": "execute_result"
    }
   ],
   "source": [
    "\n",
    "def max_subarray_sum(A):\n",
    "    n = len(A)\n",
    "    maxsum = -float(\"inf\")\n",
    "    \n",
    "    \n",
    "    current_max = A[0]\n",
    "    \n",
    "    for i in range(1,n):\n",
    "        current_max = max( A[i], current_max + A[i] )\n",
    "        maxsum = max( maxsum, current_max )\n",
    "    \n",
    "    \n",
    "            \n",
    "            \n",
    "    return maxsum\n",
    "    \n",
    "A = [5,-10,100,-20,15,-10,25,30]\n",
    "\n",
    "max_subarray_sum(A)"
   ]
  },
  {
   "cell_type": "code",
   "execution_count": null,
   "id": "920143d5",
   "metadata": {},
   "outputs": [],
   "source": []
  },
  {
   "cell_type": "markdown",
   "id": "3059cf3e",
   "metadata": {},
   "source": [
    "#### Given N array elements how many subarrays of len = 1 are there ?\n",
    "    \n",
    "    N\n",
    "\n",
    "\n",
    "#### Given N array elements how many subarrays of len = 2 are there ?\n",
    "    \n",
    "    N-1\n",
    "\n",
    "#### Given N array elements how many subarrays of len = k are there ?\n",
    "    \n",
    "    N-k+1"
   ]
  },
  {
   "cell_type": "markdown",
   "id": "d735fe25",
   "metadata": {},
   "source": [
    "#### Given N array elements and len = k ? Print last subarray start index and last index\n",
    "    \n",
    "    [N-K , N-1]\n",
    "\n",
    "\n",
    "    e-s+1 = length \n",
    "    n-1 - s +1 = k  \n",
    "    s = n-k\n",
    "    and \n",
    "    e = n-1\n"
   ]
  },
  {
   "cell_type": "markdown",
   "id": "14ad220b",
   "metadata": {},
   "source": [
    "### Maximum subarray sum with length k "
   ]
  },
  {
   "cell_type": "code",
   "execution_count": 135,
   "id": "9a246dba",
   "metadata": {},
   "outputs": [
    {
     "name": "stdout",
     "output_type": "stream",
     "text": [
      "[5, -10, 100, -20, 15] 5\n",
      "[5, -10, 100, -20, 15] 95\n",
      "[100, -20, 15, -10, 25] 100\n",
      "[100, -20, 15, -10, 25] 110\n"
     ]
    },
    {
     "data": {
      "text/plain": [
       "110"
      ]
     },
     "execution_count": 135,
     "metadata": {},
     "output_type": "execute_result"
    }
   ],
   "source": [
    "def max_sum_sub_with_k_len(A,k):\n",
    "    \n",
    "    n = len(A)\n",
    "    \n",
    "    maxsum = -float(\"inf\")\n",
    "    \n",
    "    for s in range(n-k+1):\n",
    "        e = k + s -1\n",
    "        subsum = 0\n",
    "        for i in range(s,e+1):\n",
    "            subsum += A[i]\n",
    "            if subsum > maxsum:\n",
    "                maxsum = subsum\n",
    "                print(A[s:e+1],subsum)\n",
    "    return maxsum\n",
    "    \n",
    "    \n",
    "max_sum_sub_with_k_len([5,-10,100,-20,15,-10,25,30],5)"
   ]
  },
  {
   "cell_type": "code",
   "execution_count": null,
   "id": "a147bd23",
   "metadata": {},
   "outputs": [],
   "source": []
  },
  {
   "cell_type": "code",
   "execution_count": 136,
   "id": "8d167675",
   "metadata": {},
   "outputs": [
    {
     "name": "stdout",
     "output_type": "stream",
     "text": [
      "[5, -10, 100, -20, 15] 90\n",
      "[100, -20, 15, -10, 25] 110\n"
     ]
    },
    {
     "data": {
      "text/plain": [
       "110"
      ]
     },
     "execution_count": 136,
     "metadata": {},
     "output_type": "execute_result"
    }
   ],
   "source": [
    "def max_sum_sub_with_k_len(A,k):\n",
    "    \n",
    "    n = len(A)\n",
    "    \n",
    "    maxsum = -float(\"inf\")\n",
    "    \n",
    "    prefixsum = [A[0]]\n",
    "    for x in A[1:]:\n",
    "        prefixsum.append(x+prefixsum[-1])\n",
    "        \n",
    "    \n",
    "    \n",
    "    for s in range(n-k+1):\n",
    "        e = k + s -1\n",
    "        subsum = 0\n",
    "        \n",
    "        if s == 0:\n",
    "            subsum = prefixsum[e]\n",
    "        else:\n",
    "            subsum = prefixsum[e]- prefixsum[s-1]\n",
    "            \n",
    "        if subsum > maxsum:\n",
    "            maxsum = subsum\n",
    "            print(A[s:e+1],subsum)\n",
    "    return maxsum\n",
    "    \n",
    "    \n",
    "max_sum_sub_with_k_len([5,-10,100,-20,15,-10,25,30],5)"
   ]
  },
  {
   "cell_type": "code",
   "execution_count": null,
   "id": "d8f7ea46",
   "metadata": {},
   "outputs": [],
   "source": []
  },
  {
   "cell_type": "code",
   "execution_count": 137,
   "id": "dce761eb",
   "metadata": {},
   "outputs": [
    {
     "name": "stdout",
     "output_type": "stream",
     "text": [
      "[5, -10, 100, -20, 15] 90\n",
      "[100, -20, 15, -10, 25] 110\n"
     ]
    },
    {
     "data": {
      "text/plain": [
       "110"
      ]
     },
     "execution_count": 137,
     "metadata": {},
     "output_type": "execute_result"
    }
   ],
   "source": [
    "max_sum_sub_with_k_len([5,-10,100,-20,15,-10,25,30],5)"
   ]
  },
  {
   "cell_type": "code",
   "execution_count": null,
   "id": "6447b8e5",
   "metadata": {},
   "outputs": [],
   "source": []
  },
  {
   "cell_type": "code",
   "execution_count": null,
   "id": "66e5fa47",
   "metadata": {},
   "outputs": [],
   "source": []
  },
  {
   "cell_type": "code",
   "execution_count": 138,
   "id": "671eb39c",
   "metadata": {},
   "outputs": [
    {
     "data": {
      "text/plain": [
       "110"
      ]
     },
     "execution_count": 138,
     "metadata": {},
     "output_type": "execute_result"
    }
   ],
   "source": [
    "def max_sum_sub_with_k_len(A,k):\n",
    "    \n",
    "    n = len(A)\n",
    "    \n",
    "    ksum = sum(A[:k])\n",
    "    \n",
    "       \n",
    "    \n",
    "    maxsum = -float(\"inf\")\n",
    "    \n",
    "    for s in range(1,n-k+1):\n",
    "        e = s+k-1\n",
    "        \n",
    "        ksum = ksum - A[s-1]  + A[e]\n",
    "        \n",
    "        \n",
    "        if ksum > maxsum:\n",
    "            maxsum = ksum\n",
    "            \n",
    "    return maxsum\n",
    "    \n",
    "    \n",
    "max_sum_sub_with_k_len([5,-10,100,-20,15,-10,25,30],5)"
   ]
  },
  {
   "cell_type": "code",
   "execution_count": null,
   "id": "44f2d2a0",
   "metadata": {},
   "outputs": [],
   "source": []
  },
  {
   "cell_type": "code",
   "execution_count": null,
   "id": "608b1075",
   "metadata": {},
   "outputs": [],
   "source": []
  },
  {
   "cell_type": "code",
   "execution_count": null,
   "id": "f0cb54b2",
   "metadata": {},
   "outputs": [],
   "source": []
  },
  {
   "cell_type": "markdown",
   "id": "257b562e",
   "metadata": {},
   "source": [
    "### . Subarray with least average\n",
    "\n",
    "### Given an array of size N, find the subarray of size K with the least average.\n",
    "\n",
    "    Problem Constraints\n",
    "    1<=k<=N<=1e5\n",
    "    -1e5<=A[i]<=1e5\n",
    "    Input Format\n",
    "    First argument contains an array A of integers of size N.\n",
    "    Second argument contains integer k.\n",
    "    Output Format\n",
    "    Return the index of the first element of the subarray of size k that has least average.\n",
    "    Array indexing starts from 0.\n",
    "\n",
    "    Example Input\n",
    "    Input 1:\n",
    "    A=[3, 7, 90, 20, 10, 50, 40]\n",
    "    B=3\n",
    "    Input 2:\n",
    "    A=[3, 7, 5, 20, -10, 0, 12]\n",
    "    B=2\n",
    "    Example Output\n",
    "    Output 1:\n",
    "    3\n",
    "    Output 2:\n",
    "    4\n",
    "\n",
    "    Example Explanation\n",
    "    Explanation 1:\n",
    "    Subarray between indexes 3 and 5\n",
    "    The subarray {20, 10, 50} has the least average \n",
    "    among all subarrays of size 3.\n",
    "    Explanation 2:\n",
    "\n",
    "     Subarray between [4, 5] has minimum average"
   ]
  },
  {
   "cell_type": "code",
   "execution_count": 139,
   "id": "06a973d1",
   "metadata": {},
   "outputs": [
    {
     "data": {
      "text/plain": [
       "3"
      ]
     },
     "execution_count": 139,
     "metadata": {},
     "output_type": "execute_result"
    }
   ],
   "source": [
    "def subarray_with_least_avg_k_size(A,k):\n",
    "    \n",
    "    n = len(A)\n",
    "    minavg = float(\"inf\")\n",
    "    \n",
    "    ksum = sum(A[:k])\n",
    "    min_sub_array_index = None\n",
    "    \n",
    "    for i in range(1,n-k+1):\n",
    "        j = k + i -1\n",
    "        ksum = ksum - A[i-1] + A[j]\n",
    "        \n",
    "        kavg = ksum/(j-i+1)\n",
    "        \n",
    "        if kavg < minavg:\n",
    "            minavg = kavg\n",
    "            min_sub_array_index = i\n",
    "    return min_sub_array_index\n",
    "            \n",
    "    \n",
    "    \n",
    "\n",
    "    \n",
    "A = [3, 7, 90, 20, 10, 50, 40]\n",
    "k = 3\n",
    "\n",
    "subarray_with_least_avg_k_size(A,k)\n",
    "    "
   ]
  },
  {
   "cell_type": "code",
   "execution_count": 140,
   "id": "1fa066c5",
   "metadata": {},
   "outputs": [
    {
     "data": {
      "text/plain": [
       "4"
      ]
     },
     "execution_count": 140,
     "metadata": {},
     "output_type": "execute_result"
    }
   ],
   "source": [
    "A=[3, 7, 5, 20, -10, 0, 12]\n",
    "B=2\n",
    "subarray_with_least_avg_k_size(A,B)\n"
   ]
  },
  {
   "cell_type": "code",
   "execution_count": null,
   "id": "66d7c3af",
   "metadata": {},
   "outputs": [],
   "source": []
  },
  {
   "cell_type": "markdown",
   "id": "b2c4c2c8",
   "metadata": {},
   "source": [
    "###  Maximum Subarray Easy : \n",
    "\n",
    "\n",
    "#### You are given an integer array C of size A. Now you need to find a subarray (contiguous elements) so that the sum of contiguous elements is maximum. But the sum must not exceed B.\n",
    "\n",
    "    Problem Constraints\n",
    "    1 <= A <= 103\n",
    "    1 <= B <= 109\n",
    "    1 <= C[i] <= 106\n",
    "\n",
    "    Input Format\n",
    "    The first argument is the integer A.\n",
    "    The second argument is the integer B.\n",
    "    The third argument is the integer array C.\n",
    "\n",
    "    Output Format\n",
    "    Return a single integer which denotes the maximum sum.\n",
    "\n",
    "    Example Input\n",
    "    Input 1:\n",
    "    A = 5\n",
    "    B = 12\n",
    "    C = [2, 1, 3, 4, 5]\n",
    "    Input 2:\n",
    "    A = 3\n",
    "    B = 1\n",
    "    C = [2, 2, 2]\n",
    "\n",
    "    Example Output\n",
    "    Output 1:\n",
    "    12\n",
    "    Output 2:\n",
    "    0\n",
    "\n",
    "    Example Explanation\n",
    "    Explanation 1:\n",
    "    We can select {3,4,5} which sums up to 12 which is the maximum possible sum.\n",
    "    Explanation 2:\n",
    "\n",
    "    All elements are greater than B, which means we cannot select any subarray.\n",
    "    Hence, the answer is 0."
   ]
  },
  {
   "cell_type": "code",
   "execution_count": 141,
   "id": "d8163fe0",
   "metadata": {},
   "outputs": [
    {
     "data": {
      "text/plain": [
       "12"
      ]
     },
     "execution_count": 141,
     "metadata": {},
     "output_type": "execute_result"
    }
   ],
   "source": [
    "\n",
    "def max_sub_easy(A,k):\n",
    "    n = len(A)\n",
    "    maxum = -float(\"inf\")\n",
    "    for s in range(n):\n",
    "        subsum = 0\n",
    "        for e in range(s,n):\n",
    "            subsum += A[e]\n",
    "            if subsum <= k:\n",
    "                maxum = max(maxum, subsum)\n",
    "            else:\n",
    "                break\n",
    "    if maxum == -float(\"inf\"):\n",
    "        return 0\n",
    "    return maxum\n",
    "                \n",
    "n = 5\n",
    "k = 12\n",
    "A = [2, 1, 3, 4, 5]\n",
    "max_sub_easy(A,k)\n",
    " "
   ]
  },
  {
   "cell_type": "code",
   "execution_count": 142,
   "id": "6906409a",
   "metadata": {},
   "outputs": [
    {
     "data": {
      "text/plain": [
       "0"
      ]
     },
     "execution_count": 142,
     "metadata": {},
     "output_type": "execute_result"
    }
   ],
   "source": [
    "A = 3\n",
    "B = 1\n",
    "C = [2, 2, 2]\n",
    "max_sub_easy(C,B)"
   ]
  },
  {
   "cell_type": "code",
   "execution_count": null,
   "id": "1a01bde4",
   "metadata": {},
   "outputs": [],
   "source": []
  },
  {
   "cell_type": "markdown",
   "id": "3327f564",
   "metadata": {},
   "source": [
    "###  Counting Subarrays!\n",
    "\n",
    "#### Given an array A of N non-negative numbers and you are also given non-negative number B. You need to find the number of subarrays in A having sum less than B. We may assume that there is no overflow.\n",
    "\n",
    "    Problem Constraints\n",
    "    1 <= N <= 104\n",
    "    1 <= A[i] <= 100\n",
    "    1 <= B <= 108\n",
    "\n",
    "    Input Format\n",
    "    First argument is an integer array A.\n",
    "    Second argument is an integer B.\n",
    "    Output Format\n",
    "    Return an integer denoting the number of subarrays in A having sum less than B.\n",
    "\n",
    "    Example Input\n",
    "    Input 1:\n",
    "     A = [2, 5, 6]\n",
    "     B = 10\n",
    "    Input 2:\n",
    "     A = [1, 11, 2, 3, 15]\n",
    "     B = 10\n",
    "    Example Output\n",
    "    Output 1:\n",
    "     4\n",
    "    Output 2:\n",
    "     4\n",
    "\n",
    "    Example Explanation\n",
    "    Explanation 1:\n",
    "     The subarrays with sum less than B are {2}, {5}, {6} and {2, 5},\n",
    "    Explanation 2:\n",
    "     The subarrays with sum less than B are {1}, {2}, {3} and {2, 3}"
   ]
  },
  {
   "cell_type": "code",
   "execution_count": 143,
   "id": "b449d52a",
   "metadata": {},
   "outputs": [
    {
     "name": "stdout",
     "output_type": "stream",
     "text": [
      "4\n"
     ]
    }
   ],
   "source": [
    "A = [1, 11, 2, 3, 15]\n",
    "B = 10\n",
    "\n",
    "\n",
    "count = 0\n",
    "n = len(A)\n",
    "for s in range(n):\n",
    "    subsum = 0\n",
    "    for e in range(s,n):\n",
    "        subsum += A[e]\n",
    "        if subsum < B:\n",
    "            count += 1\n",
    "print(count)\n",
    "        "
   ]
  },
  {
   "cell_type": "code",
   "execution_count": null,
   "id": "a37e4646",
   "metadata": {},
   "outputs": [],
   "source": []
  },
  {
   "cell_type": "markdown",
   "id": "d32e2ad2",
   "metadata": {},
   "source": [
    "### Good Subarrays Easy\n",
    "\n",
    "#### Given an array of integers A, a subarray of an array is said to be good if it fulfills any one of the criteria: 1. Length of the subarray is be even, and the sum of all the elements of the subarray must be less than B. 2. Length of the subarray is be odd, and the sum of all the elements of the subarray must be greater than B. Your task is to find the count of good subarrays in A.\n",
    "\n",
    "    Problem Constraints\n",
    "    1 <= len(A) <= 103\n",
    "    1 <= A[i] <= 103\n",
    "    1 <= B <= 107\n",
    "    Input Format\n",
    "    The first argument given is the integer array A.\n",
    "    The second argument given is an integer B.\n",
    "    Output Format\n",
    "    Return the count of good subarrays in A.\n",
    "    Example Input\n",
    "    Input 1:\n",
    "    A = [1, 2, 3, 4, 5]\n",
    "    B = 4\n",
    "    Input 2:\n",
    "    A = [13, 16, 16, 15, 9, 16, 2, 7, 6, 17, 3, 9]\n",
    "    B = 65\n",
    "    Example Output\n",
    "    Output 1:\n",
    "    6\n",
    "    Output 2:\n",
    "    36\n",
    "    Example Explanation\n",
    "    Explanation 1:\n",
    "    Even length good subarrays = {1, 2}\n",
    "    Odd length good subarrays = {1, 2, 3}, {1, 2, 3, 4, 5}, {2, 3, 4}, {3, 4, 5}, {5} "
   ]
  },
  {
   "cell_type": "code",
   "execution_count": null,
   "id": "3ce6b6e2",
   "metadata": {},
   "outputs": [],
   "source": []
  },
  {
   "cell_type": "code",
   "execution_count": 144,
   "id": "95ca8b02",
   "metadata": {},
   "outputs": [
    {
     "data": {
      "text/plain": [
       "36"
      ]
     },
     "execution_count": 144,
     "metadata": {},
     "output_type": "execute_result"
    }
   ],
   "source": [
    "def Good_Subarrays_Easy(A,k):\n",
    "    n = len(A)\n",
    "    \n",
    "    count = 0\n",
    "    \n",
    "    for s in range(n):\n",
    "        subsum = 0\n",
    "        for e in range(s,n):\n",
    "            subsum += A[e]\n",
    "            length = e-s+1\n",
    "            \n",
    "            if length % 2 == 0 and subsum < B:\n",
    "                count += 1\n",
    "            if length % 2 != 0 and subsum > B:\n",
    "                count += 1\n",
    "    return count\n",
    "    \n",
    "A = [13, 16, 16, 15, 9, 16, 2, 7, 6, 17, 3, 9]\n",
    "B = 65 \n",
    "Good_Subarrays_Easy(A,B)"
   ]
  },
  {
   "cell_type": "code",
   "execution_count": 145,
   "id": "f9c65a40",
   "metadata": {},
   "outputs": [
    {
     "data": {
      "text/plain": [
       "6"
      ]
     },
     "execution_count": 145,
     "metadata": {},
     "output_type": "execute_result"
    }
   ],
   "source": [
    "A = [1, 2, 3, 4, 5]\n",
    "B = 4\n",
    "Good_Subarrays_Easy(A,B)"
   ]
  },
  {
   "cell_type": "code",
   "execution_count": null,
   "id": "e88b4686",
   "metadata": {},
   "outputs": [],
   "source": []
  },
  {
   "cell_type": "code",
   "execution_count": null,
   "id": "9c592272",
   "metadata": {},
   "outputs": [],
   "source": []
  },
  {
   "cell_type": "markdown",
   "id": "df972377",
   "metadata": {},
   "source": [
    "### Alternating Subarrays Easy : \n",
    "\n",
    "### You are given an integer array A of length N comprising of 0's & 1's, and an integer B. You have to tell all the indices of array A that can act as a center of 2 * B + 1 length 0-1 alternating subarray. A 0-1 alternating array is an array containing only 0's & 1's, and having no adjacent 0's or 1's. For e.g. arrays [0, 1, 0, 1], [1, 0] and [1] are 0-1 alternating, while [1, 1] and [0, 1, 0, 0, 1] are not.\n",
    "\n",
    "    Problem Constraints\n",
    "    1 <= N <= 103\n",
    "    A[i] equals to 0 or 1.\n",
    "    0 <= B <= (N - 1) / 2\n",
    "\n",
    "    Input Format\n",
    "    First argument is an integer array A.\n",
    "    Second argument is an integer B.\n",
    "\n",
    "    Output Format\n",
    "    Return an integer array containing indices(0-based) in sorted order. If no such index exists, return an empty integer array.\n",
    "\n",
    "    Example Input\n",
    "    Input 1:\n",
    "     A = [1, 0, 1, 0, 1]\n",
    "     B = 1 \n",
    "    Input 2:\n",
    "     A = [0, 0, 0, 1, 1, 0, 1]\n",
    "     B = 0 \n",
    "\n",
    "    Example Output\n",
    "    Output 1:\n",
    "     [1, 2, 3]\n",
    "    Output 2:\n",
    "     [0, 1, 2, 3, 4, 5, 6]\n",
    "\n",
    "    Example Explanation\n",
    "    Explanation 1:\n",
    "     Index 1 acts as a centre of alternating sequence: [A0, A1, A2]\n",
    "     Index 2 acts as a centre of alternating sequence: [A1, A2, A3]\n",
    "     Index 3 acts as a centre of alternating sequence: [A2, A3, A4] \n",
    "    Explanation 2:\n",
    "     Each index in the array acts as the center of alternating sequences of lengths 1."
   ]
  },
  {
   "cell_type": "code",
   "execution_count": 146,
   "id": "9312f263",
   "metadata": {},
   "outputs": [
    {
     "data": {
      "text/plain": [
       "[0, 1, 2, 3, 4, 5, 6]"
      ]
     },
     "execution_count": 146,
     "metadata": {},
     "output_type": "execute_result"
    }
   ],
   "source": [
    "A = [0,0,0,1,1,0,1]\n",
    "B = 0\n",
    "def Alternating_Subarrays_Easy(A,B):\n",
    "    n = len(A)\n",
    "    l = 2*B +1 \n",
    "    ans = []\n",
    "    for s in range(n-l+1):\n",
    "        e = l+s-1\n",
    "\n",
    "        isalternating = True\n",
    "        prev_val = None\n",
    "        for i in range(s,e+1):\n",
    "            if A[i] == prev_val:\n",
    "                isalternating = False\n",
    "                break\n",
    "            prev_val = A[i]\n",
    "\n",
    "        if isalternating:\n",
    "            ans.append((s+e)//2)\n",
    "    return ans\n",
    "\n",
    "A = [0,0,0,1,1,0,1]\n",
    "B = 0\n",
    "Alternating_Subarrays_Easy(A,B)"
   ]
  },
  {
   "cell_type": "code",
   "execution_count": 147,
   "id": "0dcdfd37",
   "metadata": {},
   "outputs": [
    {
     "data": {
      "text/plain": [
       "[1, 2, 3]"
      ]
     },
     "execution_count": 147,
     "metadata": {},
     "output_type": "execute_result"
    }
   ],
   "source": [
    "A = [1,0,1,0,1]\n",
    "B = 1\n",
    "Alternating_Subarrays_Easy(A,B)"
   ]
  },
  {
   "cell_type": "code",
   "execution_count": 148,
   "id": "29dd15a9",
   "metadata": {},
   "outputs": [
    {
     "data": {
      "text/plain": [
       "[1, 2, 3, 4, 11, 12, 13]"
      ]
     },
     "execution_count": 148,
     "metadata": {},
     "output_type": "execute_result"
    }
   ],
   "source": [
    "\n",
    "A = [1,0,1,0,1,0,0,0,1,1,1,0,1,0,1,1,1,1,1,0,0]\n",
    "B = 1\n",
    "Alternating_Subarrays_Easy(A,B)"
   ]
  },
  {
   "cell_type": "code",
   "execution_count": null,
   "id": "b661d403",
   "metadata": {},
   "outputs": [],
   "source": []
  },
  {
   "cell_type": "code",
   "execution_count": null,
   "id": "642a5b60",
   "metadata": {},
   "outputs": [],
   "source": []
  },
  {
   "cell_type": "code",
   "execution_count": null,
   "id": "1cef0de3",
   "metadata": {},
   "outputs": [],
   "source": []
  },
  {
   "cell_type": "code",
   "execution_count": 149,
   "id": "d8e92794",
   "metadata": {},
   "outputs": [
    {
     "name": "stdout",
     "output_type": "stream",
     "text": [
      "0001101\n"
     ]
    },
    {
     "data": {
      "text/plain": [
       "[0, 1, 2, 3, 4, 5, 6]"
      ]
     },
     "execution_count": 149,
     "metadata": {},
     "output_type": "execute_result"
    }
   ],
   "source": [
    "\n",
    "def Alternating_Subarrays_Easy(A,B):\n",
    "    n = len(A)\n",
    "    l = 2*B +1 \n",
    "    ans = []\n",
    "    \n",
    "    if l > n:\n",
    "        return 0\n",
    "    \n",
    "    string = \"\"\n",
    "    \n",
    "    for i in A:\n",
    "        string += str(i)\n",
    "    print(string)\n",
    "    \n",
    "    for i in range(B,n-B):\n",
    "        if \"00\" not in string[i-B:i+B+1] and \"11\" not in string[i-B:i+B+1]:\n",
    "            ans.append(i)\n",
    "    return ans\n",
    "    \n",
    "    \n",
    "A = [0,0,0,1,1,0,1]\n",
    "B = 0\n",
    "Alternating_Subarrays_Easy(A,B)"
   ]
  },
  {
   "cell_type": "code",
   "execution_count": 150,
   "id": "a311d3c2",
   "metadata": {},
   "outputs": [
    {
     "name": "stdout",
     "output_type": "stream",
     "text": [
      "10101\n"
     ]
    },
    {
     "data": {
      "text/plain": [
       "[1, 2, 3]"
      ]
     },
     "execution_count": 150,
     "metadata": {},
     "output_type": "execute_result"
    }
   ],
   "source": [
    "\n",
    "A = [1,0,1,0,1]\n",
    "B = 1\n",
    "Alternating_Subarrays_Easy(A,B)"
   ]
  },
  {
   "cell_type": "code",
   "execution_count": 151,
   "id": "8070ed17",
   "metadata": {},
   "outputs": [
    {
     "name": "stdout",
     "output_type": "stream",
     "text": [
      "101010001110101111100\n"
     ]
    },
    {
     "data": {
      "text/plain": [
       "[1, 2, 3, 4, 11, 12, 13]"
      ]
     },
     "execution_count": 151,
     "metadata": {},
     "output_type": "execute_result"
    }
   ],
   "source": [
    "\n",
    "A = [1,0,1,0,1,0,0,0,1,1,1,0,1,0,1,1,1,1,1,0,0]\n",
    "B = 1\n",
    "Alternating_Subarrays_Easy(A,B)"
   ]
  },
  {
   "cell_type": "code",
   "execution_count": null,
   "id": "5c27b266",
   "metadata": {},
   "outputs": [],
   "source": []
  },
  {
   "cell_type": "code",
   "execution_count": null,
   "id": "11ef9c07",
   "metadata": {},
   "outputs": [],
   "source": []
  },
  {
   "cell_type": "markdown",
   "id": "7c35eca2",
   "metadata": {},
   "source": [
    "### In how many subarrays, the element at index 1 will be present?\n",
    "    10"
   ]
  },
  {
   "cell_type": "markdown",
   "id": "203235eb",
   "metadata": {},
   "source": [
    "### In an array of size N, how many subarrays will contain the element at index i?\n",
    "    (i+1)*(N-i)"
   ]
  },
  {
   "cell_type": "markdown",
   "id": "3c83d5ea",
   "metadata": {},
   "source": [
    "### given array A find the sum of all elements of all subarrays :"
   ]
  },
  {
   "cell_type": "code",
   "execution_count": 152,
   "id": "7047aaf2",
   "metadata": {},
   "outputs": [],
   "source": [
    "# bruteforce "
   ]
  },
  {
   "cell_type": "code",
   "execution_count": 153,
   "id": "3138624a",
   "metadata": {},
   "outputs": [
    {
     "name": "stdout",
     "output_type": "stream",
     "text": [
      "105\n"
     ]
    }
   ],
   "source": [
    "A = [1,2,3,4,5]\n",
    "n = len(A)\n",
    "total = 0\n",
    "for s in range(n):\n",
    "    for e in range(s,n):\n",
    "        for i in range(s,e+1):\n",
    "            total += A[i]\n",
    "print(total)"
   ]
  },
  {
   "cell_type": "code",
   "execution_count": 154,
   "id": "319b22b5",
   "metadata": {},
   "outputs": [],
   "source": [
    "# prefix sum technique"
   ]
  },
  {
   "cell_type": "code",
   "execution_count": 155,
   "id": "97a5ad84",
   "metadata": {},
   "outputs": [
    {
     "name": "stdout",
     "output_type": "stream",
     "text": [
      "105\n"
     ]
    }
   ],
   "source": [
    "A = [1,2,3,4,5]\n",
    "n = len(A)\n",
    "prefixsum = [A[0]]\n",
    "for x in A[1:]:\n",
    "    prefixsum.append(x + prefixsum[-1])\n",
    "\n",
    "total = 0\n",
    "\n",
    "for s in range(n):\n",
    "    sm = 0\n",
    "    for e in range(s,n):\n",
    "        if s == 0:\n",
    "            sm = prefixsum[e]\n",
    "        else:\n",
    "            sm = prefixsum[e]-prefixsum[s-1]\n",
    "        total += sm\n",
    "print(total)"
   ]
  },
  {
   "cell_type": "code",
   "execution_count": 156,
   "id": "d497c391",
   "metadata": {},
   "outputs": [],
   "source": [
    "# carry forward technique"
   ]
  },
  {
   "cell_type": "code",
   "execution_count": 157,
   "id": "88b01fbf",
   "metadata": {},
   "outputs": [
    {
     "name": "stdout",
     "output_type": "stream",
     "text": [
      "105\n"
     ]
    }
   ],
   "source": [
    "A = [1,2,3,4,5]\n",
    "n = len(A)\n",
    "total = 0\n",
    "for s in range(n):\n",
    "    subsm = 0\n",
    "    for e in range(s,n):\n",
    "        subsm += A[e]\n",
    "        total += subsm\n",
    "print(total)"
   ]
  },
  {
   "cell_type": "code",
   "execution_count": 158,
   "id": "6164c319",
   "metadata": {},
   "outputs": [],
   "source": [
    "# inverting problem"
   ]
  },
  {
   "cell_type": "code",
   "execution_count": 159,
   "id": "c62d7a0c",
   "metadata": {},
   "outputs": [
    {
     "name": "stdout",
     "output_type": "stream",
     "text": [
      "105\n"
     ]
    }
   ],
   "source": [
    "A = [1,2,3,4,5]\n",
    "n = len(A)\n",
    "total = 0\n",
    "for i in range(n):          # all elements in array\n",
    "    \n",
    "    total += A[i] * (n-i)*(i+1)   # multiplying each element with number of subarrays \n",
    "                                 # that particular element is contained in . \n",
    "                                # and adding all the values as total sum \n",
    "    \n",
    "    \n",
    "print(total)"
   ]
  },
  {
   "cell_type": "code",
   "execution_count": 160,
   "id": "4a7628df",
   "metadata": {},
   "outputs": [
    {
     "name": "stdout",
     "output_type": "stream",
     "text": [
      "element: 1  is contained in  10  subarrays  so total : 10\n",
      "element: 2  is contained in  18  subarrays  so total : 36\n",
      "element: 3  is contained in  24  subarrays  so total : 72\n",
      "element: 4  is contained in  28  subarrays  so total : 112\n",
      "element: 5  is contained in  30  subarrays  so total : 150\n",
      "element: 6  is contained in  30  subarrays  so total : 180\n",
      "element: 7  is contained in  28  subarrays  so total : 196\n",
      "element: 8  is contained in  24  subarrays  so total : 192\n",
      "element: 9  is contained in  18  subarrays  so total : 162\n",
      "element: 10  is contained in  10  subarrays  so total : 100\n",
      "\n",
      "sum of all subarrays:  1210\n"
     ]
    }
   ],
   "source": [
    "#  [ 1 2 3 4 5 6 7 8 9 10 ]\n",
    "#    0 1 2 3 4 5 6 7 8 9\n",
    "#            4 \n",
    "#            i\n",
    "#  [   i+1    ]\n",
    "#           [    n-i     ]\n",
    "\n",
    "\n",
    "\n",
    "A = [1,2,3,4,5,6,7,8,9,10]\n",
    "#    0 1 2 3 4 5 6 7 8 9 \n",
    "n = len(A)\n",
    "total = 0\n",
    "for i in range(n):          # all elements in array\n",
    "    print(\"element:\",A[i],\" is contained in \",(n-i)*(i+1),\" subarrays\", \" so total :\",A[i] * (n-i)*(i+1))\n",
    "    total += A[i] * (n-i)*(i+1)   # multiplying each element with number of subarrays \n",
    "                                 # that particular element is contained in . \n",
    "                                # and adding all the values as total sum \n",
    "    \n",
    "print()  \n",
    "print(\"sum of all subarrays: \",total)"
   ]
  },
  {
   "cell_type": "code",
   "execution_count": null,
   "id": "245624f3",
   "metadata": {},
   "outputs": [],
   "source": [
    "    "
   ]
  },
  {
   "cell_type": "code",
   "execution_count": null,
   "id": "b836a088",
   "metadata": {},
   "outputs": [],
   "source": []
  },
  {
   "cell_type": "markdown",
   "id": "db981a26",
   "metadata": {},
   "source": [
    "## 2D arrays : "
   ]
  },
  {
   "cell_type": "code",
   "execution_count": 161,
   "id": "8e7bcad9",
   "metadata": {},
   "outputs": [],
   "source": [
    "M = [ [i*i+j for i in range(5)] for j in range(5)]"
   ]
  },
  {
   "cell_type": "code",
   "execution_count": 162,
   "id": "ccc47aaf",
   "metadata": {},
   "outputs": [
    {
     "data": {
      "text/plain": [
       "[[0, 1, 4, 9, 16],\n",
       " [1, 2, 5, 10, 17],\n",
       " [2, 3, 6, 11, 18],\n",
       " [3, 4, 7, 12, 19],\n",
       " [4, 5, 8, 13, 20]]"
      ]
     },
     "execution_count": 162,
     "metadata": {},
     "output_type": "execute_result"
    }
   ],
   "source": [
    "M\n"
   ]
  },
  {
   "cell_type": "code",
   "execution_count": 163,
   "id": "464851a1",
   "metadata": {},
   "outputs": [
    {
     "data": {
      "text/plain": [
       "[0, 1, 4, 9, 16]"
      ]
     },
     "execution_count": 163,
     "metadata": {},
     "output_type": "execute_result"
    }
   ],
   "source": [
    "M[0]"
   ]
  },
  {
   "cell_type": "code",
   "execution_count": 164,
   "id": "0681489f",
   "metadata": {},
   "outputs": [
    {
     "data": {
      "text/plain": [
       "16"
      ]
     },
     "execution_count": 164,
     "metadata": {},
     "output_type": "execute_result"
    }
   ],
   "source": [
    "M[0][-1]"
   ]
  },
  {
   "cell_type": "code",
   "execution_count": 165,
   "id": "62174649",
   "metadata": {},
   "outputs": [
    {
     "data": {
      "text/plain": [
       "20"
      ]
     },
     "execution_count": 165,
     "metadata": {},
     "output_type": "execute_result"
    }
   ],
   "source": [
    "M[-1][-1]"
   ]
  },
  {
   "cell_type": "markdown",
   "id": "a2ba2455",
   "metadata": {},
   "source": [
    "   \n",
    "       n = 5\n",
    "       m = 5\n",
    "       \n",
    "    n:m    0  1  2   3   4\n",
    "    \n",
    "     0   [[0, 1, 4,  9, 16]\n",
    "     1    [1, 2, 5, 10, 17]\n",
    "     2    [2, 3, 6, 11, 18]\n",
    "     3    [3, 4, 7, 12, 19]\n",
    "     4    [4, 5, 8, 13, 20]]"
   ]
  },
  {
   "cell_type": "code",
   "execution_count": 166,
   "id": "30de215b",
   "metadata": {},
   "outputs": [
    {
     "data": {
      "text/plain": [
       "(20, 17)"
      ]
     },
     "execution_count": 166,
     "metadata": {},
     "output_type": "execute_result"
    }
   ],
   "source": [
    "M[4][4],M[1][-1]"
   ]
  },
  {
   "cell_type": "code",
   "execution_count": null,
   "id": "545c2455",
   "metadata": {},
   "outputs": [],
   "source": []
  },
  {
   "cell_type": "markdown",
   "id": "d36994f7",
   "metadata": {},
   "source": [
    "### What is the bottom right cell in a matrix of size N * M?\n",
    "    N-1, M-1\n",
    "    \n",
    "### What is the top right cell in a matrix of size N * M?\n",
    "    0, M-1\n",
    "    \n",
    "### Given a matrix of size NxM. What will be the index of the bottom left cell?\n",
    "    N-1,0\n",
    "   \n",
    "### Given a matrix of size NxM. What will be the index of the top left cell?\n",
    "    0, 0\n",
    "   \n"
   ]
  },
  {
   "cell_type": "code",
   "execution_count": 167,
   "id": "c2d9a9a3",
   "metadata": {},
   "outputs": [],
   "source": [
    "n = 5\n",
    "m = 8\n"
   ]
  },
  {
   "cell_type": "code",
   "execution_count": 168,
   "id": "90deb721",
   "metadata": {},
   "outputs": [],
   "source": [
    "M = [ [0 for i in range(m)] for _ in range(n)]"
   ]
  },
  {
   "cell_type": "code",
   "execution_count": 169,
   "id": "af226d36",
   "metadata": {},
   "outputs": [
    {
     "data": {
      "text/plain": [
       "[[0, 0, 0, 0, 0, 0, 0, 0],\n",
       " [0, 0, 0, 0, 0, 0, 0, 0],\n",
       " [0, 0, 0, 0, 0, 0, 0, 0],\n",
       " [0, 0, 0, 0, 0, 0, 0, 0],\n",
       " [0, 0, 0, 0, 0, 0, 0, 0]]"
      ]
     },
     "execution_count": 169,
     "metadata": {},
     "output_type": "execute_result"
    }
   ],
   "source": [
    "M"
   ]
  },
  {
   "cell_type": "code",
   "execution_count": 170,
   "id": "428256f8",
   "metadata": {},
   "outputs": [
    {
     "data": {
      "text/plain": [
       "[[1, 2, 3, 4, 5, 6, 7, 8],\n",
       " [9, 10, 11, 12, 13, 14, 15, 16],\n",
       " [17, 18, 19, 20, 21, 22, 23, 24],\n",
       " [25, 26, 27, 28, 29, 30, 31, 32],\n",
       " [33, 34, 35, 36, 37, 38, 39, 40]]"
      ]
     },
     "execution_count": 170,
     "metadata": {},
     "output_type": "execute_result"
    }
   ],
   "source": [
    "x = 1\n",
    "for i in range(n):\n",
    "    for j in range(m):\n",
    "        M[i][j] = x\n",
    "        x = x+1\n",
    "M"
   ]
  },
  {
   "cell_type": "code",
   "execution_count": 171,
   "id": "4cd50216",
   "metadata": {},
   "outputs": [
    {
     "data": {
      "text/plain": [
       "[[1, 2, 3, 4, 5, 6, 7, 8],\n",
       " [9, 10, 11, 12, 13, 14, 15, 16],\n",
       " [17, 18, 19, 20, 21, 22, 23, 24],\n",
       " [25, 26, 27, 28, 29, 30, 31, 32],\n",
       " [33, 34, 35, 36, 37, 38, 39, 40]]"
      ]
     },
     "execution_count": 171,
     "metadata": {},
     "output_type": "execute_result"
    }
   ],
   "source": [
    "M"
   ]
  },
  {
   "cell_type": "code",
   "execution_count": 172,
   "id": "96be6e27",
   "metadata": {},
   "outputs": [
    {
     "data": {
      "text/plain": [
       "5"
      ]
     },
     "execution_count": 172,
     "metadata": {},
     "output_type": "execute_result"
    }
   ],
   "source": [
    "len(M)"
   ]
  },
  {
   "cell_type": "code",
   "execution_count": 173,
   "id": "9f3646fb",
   "metadata": {},
   "outputs": [
    {
     "data": {
      "text/plain": [
       "8"
      ]
     },
     "execution_count": 173,
     "metadata": {},
     "output_type": "execute_result"
    }
   ],
   "source": [
    "len(M[0])"
   ]
  },
  {
   "cell_type": "code",
   "execution_count": 174,
   "id": "94a80781",
   "metadata": {},
   "outputs": [
    {
     "data": {
      "text/plain": [
       "[[1, 2, 3, 4, 5, 6, 7, 8], [9, 10, 11, 12, 13, 14, 15, 16]]"
      ]
     },
     "execution_count": 174,
     "metadata": {},
     "output_type": "execute_result"
    }
   ],
   "source": [
    "M[0:2]"
   ]
  },
  {
   "cell_type": "code",
   "execution_count": 175,
   "id": "8b67c2fd",
   "metadata": {},
   "outputs": [
    {
     "data": {
      "text/plain": [
       "[[17, 18, 19, 20, 21, 22, 23, 24], [25, 26, 27, 28, 29, 30, 31, 32]]"
      ]
     },
     "execution_count": 175,
     "metadata": {},
     "output_type": "execute_result"
    }
   ],
   "source": [
    "M[2:4]"
   ]
  },
  {
   "cell_type": "markdown",
   "id": "9e8a13fa",
   "metadata": {},
   "source": [
    "### Print matrix "
   ]
  },
  {
   "cell_type": "code",
   "execution_count": 176,
   "id": "2a1ec2a9",
   "metadata": {},
   "outputs": [
    {
     "data": {
      "text/plain": [
       "(5, 8)"
      ]
     },
     "execution_count": 176,
     "metadata": {},
     "output_type": "execute_result"
    }
   ],
   "source": [
    "M = [[1, 2, 3, 4, 5, 6, 7, 8],\n",
    " [9, 10, 11, 12, 13, 14, 15, 16],\n",
    " [17, 18, 19, 20, 21, 22, 23, 24],\n",
    " [25, 26, 27, 28, 29, 30, 31, 32],\n",
    " [33, 34, 35, 36, 37, 38, 39, 40]]\n",
    "n = len(M)\n",
    "m = len(M[0])\n",
    "(n,m)"
   ]
  },
  {
   "cell_type": "code",
   "execution_count": 177,
   "id": "ae13b9d8",
   "metadata": {},
   "outputs": [
    {
     "name": "stdout",
     "output_type": "stream",
     "text": [
      "1 2 3 4 5 6 7 8 \n",
      "9 10 11 12 13 14 15 16 \n",
      "17 18 19 20 21 22 23 24 \n",
      "25 26 27 28 29 30 31 32 \n",
      "33 34 35 36 37 38 39 40 \n"
     ]
    }
   ],
   "source": [
    "for i in range(n):\n",
    "    for j in range(m):\n",
    "        print(M[i][j], end = \" \")\n",
    "    print()"
   ]
  },
  {
   "cell_type": "code",
   "execution_count": 178,
   "id": "378e4cf7",
   "metadata": {},
   "outputs": [
    {
     "name": "stdout",
     "output_type": "stream",
     "text": [
      "1 2 3 4 5 6 7 8 \n",
      "9 10 11 12 13 14 15 16 \n",
      "17 18 19 20 21 22 23 24 \n",
      "25 26 27 28 29 30 31 32 \n",
      "33 34 35 36 37 38 39 40 \n"
     ]
    }
   ],
   "source": [
    "for row in M:\n",
    "    for ele in row:\n",
    "        print(ele, end = \" \")\n",
    "    print()"
   ]
  },
  {
   "cell_type": "markdown",
   "id": "13c01241",
   "metadata": {},
   "source": [
    "## Transpose matrix "
   ]
  },
  {
   "cell_type": "code",
   "execution_count": 179,
   "id": "e0928077",
   "metadata": {},
   "outputs": [
    {
     "data": {
      "text/plain": [
       "[[11, 12, 13, 14, 15, 16, 17, 18],\n",
       " [21, 22, 23, 24, 25, 26, 27, 28],\n",
       " [31, 32, 33, 34, 35, 36, 37, 38],\n",
       " [41, 42, 43, 44, 45, 46, 47, 48]]"
      ]
     },
     "execution_count": 179,
     "metadata": {},
     "output_type": "execute_result"
    }
   ],
   "source": [
    "M = [[s+i for i in range(1,9)] for s in range (10,50,10) ]\n",
    "M"
   ]
  },
  {
   "cell_type": "code",
   "execution_count": 180,
   "id": "bd1677fa",
   "metadata": {},
   "outputs": [],
   "source": [
    "m = len(M[0])\n",
    "n = len(M)"
   ]
  },
  {
   "cell_type": "code",
   "execution_count": 181,
   "id": "4f2cd710",
   "metadata": {},
   "outputs": [
    {
     "data": {
      "text/plain": [
       "(8, 4)"
      ]
     },
     "execution_count": 181,
     "metadata": {},
     "output_type": "execute_result"
    }
   ],
   "source": [
    "m,n"
   ]
  },
  {
   "cell_type": "code",
   "execution_count": 182,
   "id": "a576d4e8",
   "metadata": {},
   "outputs": [
    {
     "name": "stdout",
     "output_type": "stream",
     "text": [
      "11 21 31 41 \n",
      "12 22 32 42 \n",
      "13 23 33 43 \n",
      "14 24 34 44 \n",
      "15 25 35 45 \n",
      "16 26 36 46 \n",
      "17 27 37 47 \n",
      "18 28 38 48 \n"
     ]
    }
   ],
   "source": [
    "for icol in range(m):\n",
    "    for irow in range(n):\n",
    "        print(M[irow][icol], end = \" \")\n",
    "    print()"
   ]
  },
  {
   "cell_type": "code",
   "execution_count": 183,
   "id": "5a78cfd1",
   "metadata": {},
   "outputs": [
    {
     "data": {
      "application/javascript": [
       "\n",
       "        if (window._pyforest_update_imports_cell) { window._pyforest_update_imports_cell('import numpy as np'); }\n",
       "    "
      ],
      "text/plain": [
       "<IPython.core.display.Javascript object>"
      ]
     },
     "metadata": {},
     "output_type": "display_data"
    },
    {
     "data": {
      "text/plain": [
       "array([[11, 21, 31, 41],\n",
       "       [12, 22, 32, 42],\n",
       "       [13, 23, 33, 43],\n",
       "       [14, 24, 34, 44],\n",
       "       [15, 25, 35, 45],\n",
       "       [16, 26, 36, 46],\n",
       "       [17, 27, 37, 47],\n",
       "       [18, 28, 38, 48]])"
      ]
     },
     "execution_count": 183,
     "metadata": {},
     "output_type": "execute_result"
    }
   ],
   "source": [
    "A = np.array([[11, 12, 13, 14, 15, 16, 17, 18],\n",
    " [21, 22, 23, 24, 25, 26, 27, 28],\n",
    " [31, 32, 33, 34, 35, 36, 37, 38],\n",
    " [41, 42, 43, 44, 45, 46, 47, 48]])\n",
    "A.T"
   ]
  },
  {
   "cell_type": "code",
   "execution_count": null,
   "id": "2df43289",
   "metadata": {},
   "outputs": [],
   "source": [
    " "
   ]
  },
  {
   "cell_type": "code",
   "execution_count": null,
   "id": "333e5294",
   "metadata": {},
   "outputs": [],
   "source": []
  },
  {
   "cell_type": "markdown",
   "id": "c4c2a1c6",
   "metadata": {},
   "source": [
    "## Print sum of each row "
   ]
  },
  {
   "cell_type": "code",
   "execution_count": 184,
   "id": "f3180e3c",
   "metadata": {},
   "outputs": [
    {
     "name": "stdout",
     "output_type": "stream",
     "text": [
      "11 12 13 14 15 16 17 18 : 116\n",
      "21 22 23 24 25 26 27 28 : 196\n",
      "31 32 33 34 35 36 37 38 : 276\n",
      "41 42 43 44 45 46 47 48 : 356\n"
     ]
    }
   ],
   "source": [
    "\n",
    "def print_row_sum(M):\n",
    "    m = len(M[0])\n",
    "    n = len(M)\n",
    "    for i in range(n):\n",
    "        rowsum = 0\n",
    "        for j in range(m):\n",
    "            rowsum += M[i][j]\n",
    "            print(M[i][j],end = \" \")\n",
    "        print(\":\",rowsum)\n",
    "        \n",
    "    \n",
    "\n",
    "M = [[s+i for i in range(1,9)] for s in range (10,50,10) ]\n",
    "print_row_sum(M)"
   ]
  },
  {
   "cell_type": "code",
   "execution_count": null,
   "id": "7cfef5ae",
   "metadata": {},
   "outputs": [],
   "source": []
  },
  {
   "cell_type": "markdown",
   "id": "a4bf226b",
   "metadata": {},
   "source": [
    "## print sum of each columns : "
   ]
  },
  {
   "cell_type": "code",
   "execution_count": 185,
   "id": "ed3783e4",
   "metadata": {},
   "outputs": [
    {
     "name": "stdout",
     "output_type": "stream",
     "text": [
      "11 21 31 41 : 104\n",
      "12 22 32 42 : 108\n",
      "13 23 33 43 : 112\n",
      "14 24 34 44 : 116\n",
      "15 25 35 45 : 120\n",
      "16 26 36 46 : 124\n",
      "17 27 37 47 : 128\n",
      "18 28 38 48 : 132\n"
     ]
    }
   ],
   "source": [
    "\n",
    "def print_row_sum(M):\n",
    "    m = len(M[0])\n",
    "    n = len(M)\n",
    "    for col in range(m):\n",
    "        colsum = 0\n",
    "        for row in range(n):\n",
    "            colsum += M[row][col]\n",
    "            print(M[row][col],end = \" \")\n",
    "        print(\":\",colsum)\n",
    "        \n",
    "    \n",
    "\n",
    "M = [[s+i for i in range(1,9)] for s in range (10,50,10) ]\n",
    "print_row_sum(M)"
   ]
  },
  {
   "cell_type": "code",
   "execution_count": null,
   "id": "3356e2d3",
   "metadata": {},
   "outputs": [],
   "source": []
  },
  {
   "cell_type": "code",
   "execution_count": null,
   "id": "d25bef60",
   "metadata": {},
   "outputs": [],
   "source": []
  },
  {
   "cell_type": "markdown",
   "id": "ad0351b3",
   "metadata": {},
   "source": [
    "## given a sq matrix print diagonals : "
   ]
  },
  {
   "cell_type": "code",
   "execution_count": 186,
   "id": "0ac1299c",
   "metadata": {},
   "outputs": [
    {
     "data": {
      "text/plain": [
       "[[11, 12, 13, 14, 15],\n",
       " [21, 22, 23, 24, 25],\n",
       " [31, 32, 33, 34, 35],\n",
       " [41, 42, 43, 44, 45],\n",
       " [51, 52, 53, 54, 55]]"
      ]
     },
     "execution_count": 186,
     "metadata": {},
     "output_type": "execute_result"
    }
   ],
   "source": [
    "M = [[s+i for i in range(1,6)] for s in range (10,60,10) ]\n",
    "M"
   ]
  },
  {
   "cell_type": "code",
   "execution_count": 187,
   "id": "5dc5f66c",
   "metadata": {},
   "outputs": [
    {
     "name": "stdout",
     "output_type": "stream",
     "text": [
      "11\n",
      "22\n",
      "33\n",
      "44\n",
      "55\n"
     ]
    }
   ],
   "source": [
    "# primary diagonals : \n",
    "\n",
    "for i in range(len(M)):\n",
    "    print(M[i][i])"
   ]
  },
  {
   "cell_type": "code",
   "execution_count": 188,
   "id": "a180b85f",
   "metadata": {},
   "outputs": [],
   "source": [
    "# secondary diagonal : "
   ]
  },
  {
   "cell_type": "code",
   "execution_count": 189,
   "id": "9bad219f",
   "metadata": {},
   "outputs": [
    {
     "name": "stdout",
     "output_type": "stream",
     "text": [
      "15\n",
      "24\n",
      "33\n",
      "42\n",
      "51\n"
     ]
    }
   ],
   "source": [
    "n = len(M)\n",
    "m = len(M[0])\n",
    "r = 0\n",
    "c = m-1\n",
    "while c >= 0 and r <= n-1:\n",
    "    print(M[r][c])\n",
    "    c -= 1\n",
    "    r += 1"
   ]
  },
  {
   "cell_type": "code",
   "execution_count": 190,
   "id": "17e32795",
   "metadata": {},
   "outputs": [
    {
     "name": "stdout",
     "output_type": "stream",
     "text": [
      "15\n",
      "24\n",
      "33\n",
      "42\n",
      "51\n"
     ]
    }
   ],
   "source": [
    "for r in range(n):\n",
    "    c = n-r-1\n",
    "    print(M[r][c])"
   ]
  },
  {
   "cell_type": "code",
   "execution_count": null,
   "id": "f50e7ef7",
   "metadata": {},
   "outputs": [],
   "source": []
  },
  {
   "cell_type": "code",
   "execution_count": null,
   "id": "82d2bf57",
   "metadata": {},
   "outputs": [],
   "source": []
  },
  {
   "cell_type": "code",
   "execution_count": 191,
   "id": "7d9d4316",
   "metadata": {},
   "outputs": [],
   "source": [
    "# print diagonal : "
   ]
  },
  {
   "cell_type": "code",
   "execution_count": 192,
   "id": "2420640e",
   "metadata": {},
   "outputs": [],
   "source": [
    "row = 4\n",
    "col = 8"
   ]
  },
  {
   "cell_type": "code",
   "execution_count": 193,
   "id": "6ad11b37",
   "metadata": {},
   "outputs": [
    {
     "data": {
      "text/plain": [
       "[[0, 0, 0, 0, 0, 0, 0, 0],\n",
       " [0, 0, 0, 0, 0, 0, 0, 0],\n",
       " [0, 0, 0, 0, 0, 0, 0, 0],\n",
       " [0, 0, 0, 0, 0, 0, 0, 0]]"
      ]
     },
     "execution_count": 193,
     "metadata": {},
     "output_type": "execute_result"
    }
   ],
   "source": [
    "M = [[0]*col for _ in range(row)]\n",
    "M"
   ]
  },
  {
   "cell_type": "code",
   "execution_count": 194,
   "id": "9025c252",
   "metadata": {},
   "outputs": [],
   "source": [
    "for i in range(row):\n",
    "    for j in range(col):\n",
    "        M[i][j]= (j+1)**(i+1)"
   ]
  },
  {
   "cell_type": "code",
   "execution_count": 195,
   "id": "ae0d2b08",
   "metadata": {},
   "outputs": [
    {
     "data": {
      "text/plain": [
       "[[1, 2, 3, 4, 5, 6, 7, 8],\n",
       " [1, 4, 9, 16, 25, 36, 49, 64],\n",
       " [1, 8, 27, 64, 125, 216, 343, 512],\n",
       " [1, 16, 81, 256, 625, 1296, 2401, 4096]]"
      ]
     },
     "execution_count": 195,
     "metadata": {},
     "output_type": "execute_result"
    }
   ],
   "source": [
    "M"
   ]
  },
  {
   "cell_type": "code",
   "execution_count": 196,
   "id": "fb4246e8",
   "metadata": {},
   "outputs": [
    {
     "data": {
      "text/plain": [
       "[[1, 2, 3, 4, 5, 6, 7, 8],\n",
       " [1, 4, 9, 16, 25, 36, 49, 64],\n",
       " [1, 8, 27, 64, 125, 216, 343, 512],\n",
       " [1, 16, 81, 256, 625, 1296, 2401, 4096]]"
      ]
     },
     "execution_count": 196,
     "metadata": {},
     "output_type": "execute_result"
    }
   ],
   "source": [
    "M = []\n",
    "for i in range(row):\n",
    "    M.append([])\n",
    "    for j in range(col):\n",
    "        val = (j+1)**(i+1)\n",
    "        M[i].append(val)\n",
    "M"
   ]
  },
  {
   "cell_type": "code",
   "execution_count": 197,
   "id": "75457896",
   "metadata": {},
   "outputs": [
    {
     "name": "stdout",
     "output_type": "stream",
     "text": [
      "8\n",
      "49\n",
      "216\n",
      "625\n"
     ]
    }
   ],
   "source": [
    "n = len(M)\n",
    "m = len(M[0])\n",
    "r = 0\n",
    "c = m-1\n",
    "while r <= n-1 and c >= 0:\n",
    "    print(M[r][c])\n",
    "    c -=  1\n",
    "    r += 1"
   ]
  },
  {
   "cell_type": "code",
   "execution_count": null,
   "id": "caa70aa8",
   "metadata": {},
   "outputs": [],
   "source": []
  },
  {
   "cell_type": "markdown",
   "id": "991695d6",
   "metadata": {},
   "source": [
    "## Given a rectangular matrix of size n*m , print all right to left diagonals. : "
   ]
  },
  {
   "cell_type": "markdown",
   "id": "0ba4a68e",
   "metadata": {},
   "source": [
    "#### Given a matrix of size 5x4, how many diagonals will be there?\n",
    "    8\n"
   ]
  },
  {
   "cell_type": "markdown",
   "id": "1686663b",
   "metadata": {},
   "source": [
    "    5*4 martrix : diagonals :  right to left direction \n",
    "    \n",
    "    1 2 3 4 \n",
    "    2 3 4 5 \n",
    "    3 4 5 6 \n",
    "    4 5 6 7 \n",
    "    5 6 7 8\n",
    "    \n",
    "    for m * n matrix : \n",
    "    \n",
    "    Given a matrix of size NxM, how many diagonals will be there?\n",
    "    N+M-1"
   ]
  },
  {
   "cell_type": "code",
   "execution_count": 198,
   "id": "3ea744ac",
   "metadata": {},
   "outputs": [],
   "source": [
    "def print_diagonals(M):\n",
    "    row = len(M)\n",
    "    col = len(M[0])\n",
    "    for c in range(col):\n",
    "        r = 0\n",
    "        \n",
    "        while r <= n-1 and c >= 0:\n",
    "            print(M[r][c], end= \" \")\n",
    "            c -=  1\n",
    "            r += 1\n",
    "        print()\n",
    "\n",
    "    for r in range(1,row):\n",
    "        c = col-1\n",
    "        \n",
    "        while r <= n-1 and c >= 0:\n",
    "            print(M[r][c], end= \" \")\n",
    "            c -=  1\n",
    "            r += 1\n",
    "        print()\n",
    "\n",
    "        "
   ]
  },
  {
   "cell_type": "code",
   "execution_count": 199,
   "id": "ada5699b",
   "metadata": {},
   "outputs": [
    {
     "data": {
      "text/plain": [
       "[[1, 2, 3, 4, 5, 6, 7, 8],\n",
       " [1, 4, 9, 16, 25, 36, 49, 64],\n",
       " [1, 8, 27, 64, 125, 216, 343, 512],\n",
       " [1, 16, 81, 256, 625, 1296, 2401, 4096]]"
      ]
     },
     "execution_count": 199,
     "metadata": {},
     "output_type": "execute_result"
    }
   ],
   "source": [
    "M = [[0]*col for _ in range(row)]\n",
    "for i in range(row):\n",
    "    for j in range(col):\n",
    "        M[i][j]= (j+1)**(i+1)\n",
    "M"
   ]
  },
  {
   "cell_type": "markdown",
   "id": "32ef8aaf",
   "metadata": {},
   "source": [
    "     [1,  2,  3,   4,   5,    6,    7,    8],\n",
    "     [1,  4,  9,  16,  25,   36,   49,   64],\n",
    "     [1,  8, 27,  64, 125,  216,  343,  512],\n",
    "     [1, 16, 81, 256, 625, 1296, 2401, 4096]]\n"
   ]
  },
  {
   "cell_type": "code",
   "execution_count": 200,
   "id": "1c96a762",
   "metadata": {},
   "outputs": [
    {
     "name": "stdout",
     "output_type": "stream",
     "text": [
      "1 \n",
      "2 1 \n",
      "3 4 1 \n",
      "4 9 8 1 \n",
      "5 16 27 16 \n",
      "6 25 64 81 \n",
      "7 36 125 256 \n",
      "8 49 216 625 \n",
      "64 343 1296 \n",
      "512 2401 \n",
      "4096 \n"
     ]
    }
   ],
   "source": [
    "print_diagonals(M)"
   ]
  },
  {
   "cell_type": "code",
   "execution_count": null,
   "id": "f12d9b2f",
   "metadata": {},
   "outputs": [],
   "source": []
  },
  {
   "cell_type": "code",
   "execution_count": 201,
   "id": "e1da1dca",
   "metadata": {},
   "outputs": [
    {
     "name": "stdout",
     "output_type": "stream",
     "text": [
      "1 \n",
      "2 1 \n",
      "3 4 1 \n",
      "4 9 8 1 \n",
      "2 6 7 1 \n",
      "3 4 8 \n",
      "7 6 \n",
      "9 \n"
     ]
    }
   ],
   "source": [
    "\n",
    "M = [[1,  2,  3,  4,  2], \n",
    "     [1,  4,  9,  6,  3], \n",
    "     [1,  8,  7,  4,  7], \n",
    "     [1,  1,  8,  6,  9]]\n",
    "\n",
    "print_diagonals(M)\n"
   ]
  },
  {
   "cell_type": "code",
   "execution_count": null,
   "id": "faeefb83",
   "metadata": {},
   "outputs": [],
   "source": []
  },
  {
   "cell_type": "markdown",
   "id": "ba7d35ac",
   "metadata": {},
   "source": [
    "## Transpose the matrix : "
   ]
  },
  {
   "cell_type": "code",
   "execution_count": 202,
   "id": "c58f7f84",
   "metadata": {},
   "outputs": [
    {
     "data": {
      "text/plain": [
       "[[1, 1, 1, 1], [2, 4, 8, 1], [3, 9, 7, 8], [4, 6, 4, 6], [2, 3, 7, 9]]"
      ]
     },
     "execution_count": 202,
     "metadata": {},
     "output_type": "execute_result"
    }
   ],
   "source": [
    "\n",
    "def transpose_matrix(M):\n",
    "    r,c = len(M),len(M[0])\n",
    "    \n",
    "    M_t = [[0]*r for _ in range(c)]\n",
    "    \n",
    "    for col in range(c):\n",
    "        for row in range(r):\n",
    "            M_t[col][row] = M[row][col]\n",
    "        \n",
    "    \n",
    "    return M_t\n",
    "\n",
    "\n",
    "M = [[1,  2,  3,  4,  2], \n",
    "     [1,  4,  9,  6,  3], \n",
    "     [1,  8,  7,  4,  7], \n",
    "     [1,  1,  8,  6,  9]]\n",
    "transpose_matrix(M)"
   ]
  },
  {
   "cell_type": "code",
   "execution_count": 203,
   "id": "ecdc3aa3",
   "metadata": {},
   "outputs": [
    {
     "data": {
      "application/javascript": [
       "\n",
       "        if (window._pyforest_update_imports_cell) { window._pyforest_update_imports_cell('import numpy as np'); }\n",
       "    "
      ],
      "text/plain": [
       "<IPython.core.display.Javascript object>"
      ]
     },
     "metadata": {},
     "output_type": "display_data"
    },
    {
     "data": {
      "text/plain": [
       "array([[1, 1, 1, 1],\n",
       "       [2, 4, 8, 1],\n",
       "       [3, 9, 7, 8],\n",
       "       [4, 6, 4, 6],\n",
       "       [2, 3, 7, 9]])"
      ]
     },
     "execution_count": 203,
     "metadata": {},
     "output_type": "execute_result"
    }
   ],
   "source": [
    "M = np.array([[1,  2,  3,  4,  2], \n",
    "     [1,  4,  9,  6,  3], \n",
    "     [1,  8,  7,  4,  7], \n",
    "     [1,  1,  8,  6,  9]])\n",
    "M.T"
   ]
  },
  {
   "cell_type": "code",
   "execution_count": null,
   "id": "1d84a5eb",
   "metadata": {},
   "outputs": [],
   "source": []
  },
  {
   "cell_type": "code",
   "execution_count": 204,
   "id": "7fc48c93",
   "metadata": {},
   "outputs": [
    {
     "data": {
      "text/plain": [
       "[[1, 1, 1, 1],\n",
       " [2, 4, 8, 1],\n",
       " [3, 9, 7, 8],\n",
       " [4, 6, 4, 6],\n",
       " [2, 3, 7, 9],\n",
       " [1, 2, 3, 4],\n",
       " [8, 7, 6, 5]]"
      ]
     },
     "execution_count": 204,
     "metadata": {},
     "output_type": "execute_result"
    }
   ],
   "source": [
    "M = [[1,2,3,4,2,1,8], \n",
    "     [1,4,9,6,3,2,7], \n",
    "     [1,8,7,4,7,3,6], \n",
    "     [1,1,8,6,9,4,5]]\n",
    "transpose_matrix(M)"
   ]
  },
  {
   "cell_type": "code",
   "execution_count": null,
   "id": "32fcba26",
   "metadata": {},
   "outputs": [],
   "source": []
  },
  {
   "cell_type": "code",
   "execution_count": 205,
   "id": "3c578c4a",
   "metadata": {},
   "outputs": [
    {
     "data": {
      "text/plain": [
       "[[1, 4, 7], [2, 5, 6], [3, 8, 9]]"
      ]
     },
     "execution_count": 205,
     "metadata": {},
     "output_type": "execute_result"
    }
   ],
   "source": [
    "M = [[1,2,3],\n",
    "    [4,5,6],\n",
    "     [7,8,9]]\n",
    "r = len(M)\n",
    " \n",
    "\n",
    "for i in range(r//2):\n",
    "    for j in range(r):\n",
    "        M[i][j],M[j][i] = M[j][i],M[i][j]\n",
    "M"
   ]
  },
  {
   "cell_type": "code",
   "execution_count": null,
   "id": "b80b5536",
   "metadata": {},
   "outputs": [],
   "source": []
  },
  {
   "cell_type": "code",
   "execution_count": null,
   "id": "314dff81",
   "metadata": {},
   "outputs": [],
   "source": []
  },
  {
   "cell_type": "markdown",
   "id": "1bc8d5b2",
   "metadata": {},
   "source": [
    "## rotate the n*m matrix 90 degree clockwise :"
   ]
  },
  {
   "cell_type": "code",
   "execution_count": 206,
   "id": "3bfb6b2a",
   "metadata": {},
   "outputs": [
    {
     "data": {
      "text/plain": [
       "[[1, 2, 3, 4, 5, 0],\n",
       " [6, 7, 8, 9, 10, 0],\n",
       " [11, 12, 13, 14, 15, 0],\n",
       " [16, 17, 18, 19, 20, 0]]"
      ]
     },
     "execution_count": 206,
     "metadata": {},
     "output_type": "execute_result"
    }
   ],
   "source": [
    "M = [[1,2,3,4,5,0],\n",
    "    [6,7,8,9,10,0],\n",
    "    [11,12,13,14,15,0],\n",
    "    [16,17,18,19,20,0]]\n",
    "M"
   ]
  },
  {
   "cell_type": "code",
   "execution_count": 207,
   "id": "ba916bf0",
   "metadata": {},
   "outputs": [
    {
     "data": {
      "text/plain": [
       "[[1, 6, 11, 16],\n",
       " [2, 7, 12, 17],\n",
       " [3, 8, 13, 18],\n",
       " [4, 9, 14, 19],\n",
       " [5, 10, 15, 20],\n",
       " [0, 0, 0, 0]]"
      ]
     },
     "execution_count": 207,
     "metadata": {},
     "output_type": "execute_result"
    }
   ],
   "source": [
    "Mt = transpose_matrix(M)\n",
    "Mt"
   ]
  },
  {
   "cell_type": "code",
   "execution_count": 208,
   "id": "31e0b0b0",
   "metadata": {},
   "outputs": [
    {
     "data": {
      "text/plain": [
       "[[16, 11, 6, 1],\n",
       " [17, 12, 7, 2],\n",
       " [18, 13, 8, 3],\n",
       " [19, 14, 9, 4],\n",
       " [20, 15, 10, 5],\n",
       " [0, 0, 0, 0]]"
      ]
     },
     "execution_count": 208,
     "metadata": {},
     "output_type": "execute_result"
    }
   ],
   "source": [
    "r = len(Mt)\n",
    "c = len(Mt[0])\n",
    "M_h = [[0]*c for _ in range(r)]\n",
    " \n",
    "for row in range(r):\n",
    "    for col in range(c):\n",
    "        M_h[row][c-col-1] = Mt[row][col]\n",
    "M_h"
   ]
  },
  {
   "cell_type": "code",
   "execution_count": 209,
   "id": "b64b814e",
   "metadata": {},
   "outputs": [],
   "source": [
    "def rotate90(M):\n",
    "    def transpose_matrix(M):\n",
    "        r,c = len(M),len(M[0])\n",
    "\n",
    "        M_t = [[0]*r for _ in range(c)]\n",
    "\n",
    "        for col in range(c):\n",
    "            for row in range(r):\n",
    "                M_t[col][row] = M[row][col]\n",
    "\n",
    "\n",
    "        return M_t\n",
    "    \n",
    "    def horizontal_flip(Mt):\n",
    "    \n",
    "        r = len(Mt)\n",
    "        c = len(Mt[0])\n",
    "        M_h = [[0]*c for _ in range(r)]\n",
    "\n",
    "        for row in range(r):\n",
    "            for col in range(c):\n",
    "                M_h[row][c-col-1] = Mt[row][col]\n",
    "        return M_h\n",
    "    \n",
    "    return horizontal_flip(transpose_matrix(M))"
   ]
  },
  {
   "cell_type": "code",
   "execution_count": 210,
   "id": "b40ba10b",
   "metadata": {},
   "outputs": [
    {
     "data": {
      "text/plain": [
       "[[16, 11, 17, 18],\n",
       " [17, 12, 47, 25],\n",
       " [18, 13, 48, 43],\n",
       " [19, 14, 98, 44],\n",
       " [20, 15, 10, 45],\n",
       " [19, 16, 17, 18]]"
      ]
     },
     "execution_count": 210,
     "metadata": {},
     "output_type": "execute_result"
    }
   ],
   "source": [
    "M = [[18,25,43,44,45,18],\n",
    "    [17,47,48,98,10,17],\n",
    "    [11,12,13,14,15,16],\n",
    "    [16,17,18,19,20,19]]\n",
    "rotate90(M)"
   ]
  },
  {
   "cell_type": "code",
   "execution_count": null,
   "id": "b36fbba5",
   "metadata": {},
   "outputs": [],
   "source": []
  },
  {
   "cell_type": "code",
   "execution_count": null,
   "id": "eb1b7308",
   "metadata": {},
   "outputs": [],
   "source": []
  },
  {
   "cell_type": "markdown",
   "id": "1a4827f5",
   "metadata": {},
   "source": [
    "## Matrix Multiplication : "
   ]
  },
  {
   "cell_type": "code",
   "execution_count": 211,
   "id": "b1c0a7c2",
   "metadata": {},
   "outputs": [
    {
     "data": {
      "text/plain": [
       "[[0, 0, 0, 0], [0, 0, 0, 0]]"
      ]
     },
     "execution_count": 211,
     "metadata": {},
     "output_type": "execute_result"
    }
   ],
   "source": [
    "u = [[1,2,3],\n",
    "     [4,5,6]] # 2*3    r*c\n",
    "\n",
    "v = [[1,4,7,8],     # 3*4   c*p\n",
    "     [2,5,8,2],\n",
    "     [3,6,9,3]]\n",
    "# output matrxi will be 2*4 r*p\n",
    "r = len(u)\n",
    "c  = len(u[0])\n",
    "p = len(v[0])\n",
    "\n",
    "ansMatrix = [[0]*p for _ in range(r)]\n",
    "ansMatrix"
   ]
  },
  {
   "cell_type": "code",
   "execution_count": 212,
   "id": "096e9619",
   "metadata": {},
   "outputs": [],
   "source": [
    "# ansMatrix(i,j) = sum of (firstMatrix(i row)) * (secondMatrix j col)\n",
    "\n",
    "# ansMatrix(i,j) = sigma from k = 0 ( A(i,k) * B(k,j) )\n",
    "\n",
    "def mat_dot_product(u,v):   # TC : r*c*p  and SC: r*p\n",
    "    r = len(u)\n",
    "    p = len(v[0])\n",
    "    c = len(u[0])\n",
    "    c = len(v)\n",
    "    ansMatrix = [[0]*p for _ in range(r)]\n",
    "\n",
    "    for i in range(r):\n",
    "        for j in range(p):\n",
    "            summs = 0\n",
    "            for k in range(c):\n",
    "                summs += u[i][k]*v[k][j]\n",
    "            ansMatrix[i][j] = summs\n",
    "            \n",
    "    return ansMatrix"
   ]
  },
  {
   "cell_type": "code",
   "execution_count": 213,
   "id": "f02f906a",
   "metadata": {},
   "outputs": [
    {
     "data": {
      "text/plain": [
       "[[14, 32, 50, 21], [32, 77, 122, 60]]"
      ]
     },
     "execution_count": 213,
     "metadata": {},
     "output_type": "execute_result"
    }
   ],
   "source": [
    "mat_dot_product(u,v)"
   ]
  },
  {
   "cell_type": "code",
   "execution_count": null,
   "id": "9ea4e795",
   "metadata": {},
   "outputs": [],
   "source": []
  },
  {
   "cell_type": "markdown",
   "id": "7ddbcef4",
   "metadata": {},
   "source": [
    "##  Add the matrices\n",
    "\n",
    "\n",
    "#### You are given two matrices A & B of same size, you have to return another matrix which is the sum of A and B.\n",
    "\n",
    "\n",
    "    Input Format\n",
    "    First argument is vector of vector of integers representing matrix A.\n",
    "    Second argument is vecotor of vector of integers representing matrix B.\n",
    "\n",
    "    Output Format\n",
    "    You have to return a vector of vector of integers after doing required operations.\n",
    "\n",
    "    Example Input\n",
    "    Input 1:\n",
    "    A = [[1, 2, 3],[4, 5, 6],[7, 8, 9]]\n",
    "    B = [[9, 8, 7],[6, 5, 4],[3, 2, 1]]\n",
    "\n",
    "    Example Output\n",
    "    Output 1:\n",
    "    [[10, 10, 10], [10, 10, 10], [10, 10, 10]]\n",
    "\n",
    "    Example Explanation\n",
    "    Explanation 1:\n",
    "    A + B = [[1+9, 2+8, 3+7],[4+6, 5+5, 6+4],[7+3, 8+2, 9+1]] = [[10, 10, 10], [10, 10, 10], [10, 10, 10]]."
   ]
  },
  {
   "cell_type": "code",
   "execution_count": null,
   "id": "25995642",
   "metadata": {},
   "outputs": [],
   "source": []
  },
  {
   "cell_type": "code",
   "execution_count": 214,
   "id": "3712f1ee",
   "metadata": {},
   "outputs": [],
   "source": [
    "def matrix_addition(A,B):\n",
    "    r = len(A)\n",
    "    c = len(A[0])\n",
    "    resulting_matrix = [[0]*c for _ in range(r)]\n",
    "\n",
    "    for i in range(r):\n",
    "        for j in range(c):\n",
    "            resulting_matrix[i][j] = A[i][j] + B[i][j]\n",
    "    return (resulting_matrix)"
   ]
  },
  {
   "cell_type": "code",
   "execution_count": 215,
   "id": "48d0caaa",
   "metadata": {},
   "outputs": [
    {
     "data": {
      "text/plain": [
       "[[10, 10, 10], [10, 10, 10], [10, 10, 10]]"
      ]
     },
     "execution_count": 215,
     "metadata": {},
     "output_type": "execute_result"
    }
   ],
   "source": [
    "A = [[1, 2, 3],[4, 5, 6],[7, 8, 9]]\n",
    "B = [[9, 8, 7],[6, 5, 4],[3, 2, 1]]\n",
    "matrix_addition(A,B)"
   ]
  },
  {
   "cell_type": "markdown",
   "id": "b2022bd2",
   "metadata": {},
   "source": [
    "## Matrix Subtraction"
   ]
  },
  {
   "cell_type": "code",
   "execution_count": 216,
   "id": "d1344fae",
   "metadata": {},
   "outputs": [],
   "source": [
    "def matrix_Subtraction(A,B):\n",
    "    r = len(A)\n",
    "    c = len(A[0])\n",
    "    resulting_matrix = [[0]*c for _ in range(r)]\n",
    "\n",
    "    for i in range(r):\n",
    "        for j in range(c):\n",
    "            resulting_matrix[i][j] = A[i][j] - B[i][j]\n",
    "    return (resulting_matrix)\n",
    "\n"
   ]
  },
  {
   "cell_type": "code",
   "execution_count": 217,
   "id": "e3e29a32",
   "metadata": {},
   "outputs": [
    {
     "data": {
      "text/plain": [
       "[[-8, -6, -4], [-2, 0, 2], [4, 6, 8]]"
      ]
     },
     "execution_count": 217,
     "metadata": {},
     "output_type": "execute_result"
    }
   ],
   "source": [
    "A = [[1, 2, 3],           \n",
    "  [4, 5, 6],\n",
    "  [7, 8, 9]]           \n",
    "B = [[9, 8, 7],\n",
    "  [6, 5, 4],\n",
    "  [3, 2, 1]]\n",
    "matrix_Subtraction(A,B)"
   ]
  },
  {
   "cell_type": "code",
   "execution_count": null,
   "id": "aa9c0676",
   "metadata": {},
   "outputs": [],
   "source": []
  },
  {
   "cell_type": "code",
   "execution_count": null,
   "id": "d8e38661",
   "metadata": {},
   "outputs": [],
   "source": []
  },
  {
   "cell_type": "markdown",
   "id": "c206bf9c",
   "metadata": {},
   "source": [
    "## Column Sum\n",
    "### You are given a 2D integer matrix A, return a 1D integer array containing column-wise sums of original matrix"
   ]
  },
  {
   "cell_type": "code",
   "execution_count": 218,
   "id": "2a9a26be",
   "metadata": {},
   "outputs": [
    {
     "data": {
      "text/plain": [
       "[15, 10, 13, 16]"
      ]
     },
     "execution_count": 218,
     "metadata": {},
     "output_type": "execute_result"
    }
   ],
   "source": [
    "def column_sum(A):\n",
    "\n",
    "    n = len(A)\n",
    "    m = len(A[0])\n",
    "    col_sum = []\n",
    "    for col in range(m):\n",
    "        sum = 0\n",
    "        for row in range(n):\n",
    "            sum += A[row][col]\n",
    "        col_sum.append(sum)\n",
    "    return (col_sum)\n",
    "\n",
    "column_sum([[1,2,3,4],\n",
    "            [5,6,7,8],\n",
    "            [9,2,3,4]])"
   ]
  },
  {
   "cell_type": "markdown",
   "id": "2681eb67",
   "metadata": {},
   "source": [
    "### You are given a 2D integer matrix A, return a 1D integer array containing row-wise sums of original matrix"
   ]
  },
  {
   "cell_type": "code",
   "execution_count": 219,
   "id": "1637de49",
   "metadata": {},
   "outputs": [
    {
     "data": {
      "text/plain": [
       "[10, 26, 18]"
      ]
     },
     "execution_count": 219,
     "metadata": {},
     "output_type": "execute_result"
    }
   ],
   "source": [
    "def row_sum(A):\n",
    "\n",
    "    n = len(A)\n",
    "    m = len(A[0])\n",
    "    row_sum = []\n",
    "    for row in range(n):\n",
    "        sum = 0\n",
    "        for col in range(m):\n",
    "            sum += A[row][col]\n",
    "        row_sum.append(sum)\n",
    "    return (row_sum)\n",
    "\n",
    "row_sum([[1,2,3,4],\n",
    "            [5,6,7,8],\n",
    "            [9,2,3,4]])"
   ]
  },
  {
   "cell_type": "code",
   "execution_count": null,
   "id": "17e73c74",
   "metadata": {},
   "outputs": [],
   "source": []
  },
  {
   "cell_type": "code",
   "execution_count": null,
   "id": "0b449db1",
   "metadata": {},
   "outputs": [],
   "source": []
  },
  {
   "cell_type": "markdown",
   "id": "5f667648",
   "metadata": {},
   "source": [
    "## Row to Column Zero\n",
    "\n",
    "### You are given a 2D integer matrix A, make all the elements in a row or column zero if the A[i][j] = 0. Specifically, make entire ith row and jth column zero.\n",
    "\n",
    "\n",
    "    Input Format\n",
    "    First argument is a vector of vector of integers.(2D matrix).\n",
    "    Output Format\n",
    "    Return a vector of vector after doing required operations.\n",
    "    Example Input\n",
    "    Input 1:\n",
    "    [1,2,3,4]\n",
    "    [5,6,7,0]\n",
    "    [9,2,0,4]\n",
    "    Example Output\n",
    "    Output 1:\n",
    "    [1,2,0,0]\n",
    "    [0,0,0,0]\n",
    "    [0,0,0,0]\n",
    "    Example Explanation\n",
    "    Explanation 1:\n",
    "    A[2][4] = A[3][3] = 0, so make 2nd row, 3rd row, 3rd column and 4th column zero."
   ]
  },
  {
   "cell_type": "code",
   "execution_count": 220,
   "id": "4e62955d",
   "metadata": {},
   "outputs": [],
   "source": [
    "A = [[1,2,3,4],\n",
    "[5,6,7,0],\n",
    "[9,2,0,4]]"
   ]
  },
  {
   "cell_type": "code",
   "execution_count": 221,
   "id": "4f6d67bc",
   "metadata": {},
   "outputs": [
    {
     "data": {
      "text/plain": [
       "[[1, 2, 3, 4], [5, 6, 7, 0], [9, 2, 0, 4]]"
      ]
     },
     "execution_count": 221,
     "metadata": {},
     "output_type": "execute_result"
    }
   ],
   "source": [
    "A"
   ]
  },
  {
   "cell_type": "code",
   "execution_count": 222,
   "id": "581136a0",
   "metadata": {},
   "outputs": [],
   "source": [
    "r = len(A)\n",
    "c = len(A[0])\n"
   ]
  },
  {
   "cell_type": "code",
   "execution_count": 223,
   "id": "c82c95bd",
   "metadata": {},
   "outputs": [
    {
     "data": {
      "text/plain": [
       "[[1, 2, 0, 0], [0, 0, 0, 0], [0, 0, 0, 0]]"
      ]
     },
     "execution_count": 223,
     "metadata": {},
     "output_type": "execute_result"
    }
   ],
   "source": [
    "for i in range(r):\n",
    "    flag  = 0\n",
    "    for j in range(c):\n",
    "        if A[i][j] == 0:\n",
    "            flag = 1\n",
    "        if flag == 1:\n",
    "            for j in range(c):\n",
    "                if A[i][j] != 0:\n",
    "                    A[i][j] = -1\n",
    "    \n",
    "for j in range(c):\n",
    "    flag = 0\n",
    "    for i in range(r):\n",
    "        if A[i][j] == 0:\n",
    "            flag = 1\n",
    "    if flag == 1:\n",
    "        for i in range(r):\n",
    "            if A[i][j] != 0:\n",
    "                A[i][j] = -1\n",
    "                \n",
    "for i in range(r):\n",
    "    for j in range(c):\n",
    "        if A[i][j] == -1:\n",
    "            A[i][j] = 0\n",
    "A"
   ]
  },
  {
   "cell_type": "code",
   "execution_count": 224,
   "id": "d919563e",
   "metadata": {},
   "outputs": [
    {
     "data": {
      "text/plain": [
       "[[1, 2, 0, 0], [0, 0, 0, 0], [0, 0, 0, 0]]"
      ]
     },
     "execution_count": 224,
     "metadata": {},
     "output_type": "execute_result"
    }
   ],
   "source": [
    "A"
   ]
  },
  {
   "cell_type": "code",
   "execution_count": 225,
   "id": "c3c6df0e",
   "metadata": {},
   "outputs": [
    {
     "data": {
      "text/plain": [
       "[[1, 2, 3, 4], [-1, -1, -1, 0], [-1, -1, 0, -1]]"
      ]
     },
     "execution_count": 225,
     "metadata": {},
     "output_type": "execute_result"
    }
   ],
   "source": [
    "[[1, 2, 3, 4], \n",
    "[-1, -1, -1, 0], \n",
    " [-1, -1, 0, -1]]"
   ]
  },
  {
   "cell_type": "code",
   "execution_count": null,
   "id": "1989a5e5",
   "metadata": {},
   "outputs": [],
   "source": []
  },
  {
   "cell_type": "code",
   "execution_count": null,
   "id": "7ae08882",
   "metadata": {},
   "outputs": [],
   "source": []
  },
  {
   "cell_type": "markdown",
   "id": "17a66cea",
   "metadata": {},
   "source": [
    "### Are Matrices Same "
   ]
  },
  {
   "cell_type": "code",
   "execution_count": 226,
   "id": "e574fc1f",
   "metadata": {},
   "outputs": [],
   "source": [
    "def Are_Matrices_Same(A,B):\n",
    "\n",
    "        n = len(A)\n",
    "        m = len(A[0])\n",
    "        ans = True\n",
    "        for i in range(n):\n",
    "            for j in range(m):\n",
    "                if A[i][j]!=B[i][j]:\n",
    "                    \n",
    "                    ans = False\n",
    "        if ans:\n",
    "            return 1\n",
    "        else:\n",
    "            return 0"
   ]
  },
  {
   "cell_type": "code",
   "execution_count": 227,
   "id": "8ce0a8db",
   "metadata": {},
   "outputs": [
    {
     "data": {
      "text/plain": [
       "1"
      ]
     },
     "execution_count": 227,
     "metadata": {},
     "output_type": "execute_result"
    }
   ],
   "source": [
    "A = [[1, 2, 3],[4, 5, 6],[7, 8, 9]]\n",
    "B = [[1, 2, 3],[4, 5, 6],[7, 8, 9]]\n",
    "Are_Matrices_Same(A,B)"
   ]
  },
  {
   "cell_type": "code",
   "execution_count": null,
   "id": "66fa40fc",
   "metadata": {},
   "outputs": [],
   "source": []
  },
  {
   "cell_type": "markdown",
   "id": "5ea6f520",
   "metadata": {},
   "source": [
    "## Print boundry elements of a given matrix in clockwise direction : "
   ]
  },
  {
   "cell_type": "code",
   "execution_count": 228,
   "id": "fab2c85b",
   "metadata": {},
   "outputs": [],
   "source": [
    "r = 4\n",
    "c = 8\n",
    "M = [[0]*c for _ in range(r)]\n"
   ]
  },
  {
   "cell_type": "code",
   "execution_count": 229,
   "id": "60cb1ef5",
   "metadata": {},
   "outputs": [
    {
     "data": {
      "text/plain": [
       "[[1, 5, 9, 13, 17, 21, 25, 29],\n",
       " [2, 6, 10, 14, 18, 22, 26, 30],\n",
       " [3, 7, 11, 15, 19, 23, 27, 31],\n",
       " [4, 8, 12, 16, 20, 24, 28, 32]]"
      ]
     },
     "execution_count": 229,
     "metadata": {},
     "output_type": "execute_result"
    }
   ],
   "source": [
    "x = 1\n",
    "for j in range(c):\n",
    "    for i in range(r):\n",
    "        M[i][j] = x\n",
    "        x = x+1\n",
    "M"
   ]
  },
  {
   "cell_type": "code",
   "execution_count": null,
   "id": "2a3b6721",
   "metadata": {},
   "outputs": [],
   "source": []
  },
  {
   "cell_type": "code",
   "execution_count": 230,
   "id": "d3770d6a",
   "metadata": {},
   "outputs": [
    {
     "data": {
      "text/plain": [
       "[1, 5, 9, 13, 17, 21, 25, 29, 30, 31, 32, 28, 24, 20, 16, 12, 8, 4, 3, 2]"
      ]
     },
     "execution_count": 230,
     "metadata": {},
     "output_type": "execute_result"
    }
   ],
   "source": [
    "def print_boundry(M):\n",
    "    r = len(M)\n",
    "    c = len(M[0])\n",
    "    ans = []\n",
    "    for j in range(c):\n",
    "        ans.append(M[0][j])\n",
    "    for i in range(1,r):\n",
    "        ans.append(M[i][c-1])\n",
    "    for j in reversed(range(c-1)):\n",
    "        ans.append(M[r-1][j])\n",
    "    for i in range(r-2,0,-1):\n",
    "        ans.append(M[i][0])\n",
    "    return ans\n",
    "\n",
    "print_boundry(M)"
   ]
  },
  {
   "cell_type": "code",
   "execution_count": 231,
   "id": "55a744f8",
   "metadata": {},
   "outputs": [
    {
     "data": {
      "text/plain": [
       "[[1, 5, 9, 13, 17, 21, 25, 29],\n",
       " [2, 6, 10, 14, 18, 22, 26, 30],\n",
       " [3, 7, 11, 15, 19, 23, 27, 31],\n",
       " [4, 8, 12, 16, 20, 24, 28, 32]]"
      ]
     },
     "execution_count": 231,
     "metadata": {},
     "output_type": "execute_result"
    }
   ],
   "source": [
    "M"
   ]
  },
  {
   "cell_type": "code",
   "execution_count": 232,
   "id": "447a2200",
   "metadata": {},
   "outputs": [
    {
     "name": "stdout",
     "output_type": "stream",
     "text": [
      "1 5 9 13 17 21 25 29 30 31 32 28 24 20 16 12 8 4 3 2 "
     ]
    }
   ],
   "source": [
    "def print_boundry(M):\n",
    "    n = len(M)\n",
    "    m = len(M[0])\n",
    "    \n",
    "    \n",
    "    r,c = 0,0\n",
    "    direction = \"right\"\n",
    "    \n",
    "    while True:\n",
    "        \n",
    "        print(M[r][c], end = \" \")\n",
    "        \n",
    "        if direction == \"right\":\n",
    "            if c == m-1:\n",
    "                direction = \"down\"\n",
    "                r += 1\n",
    "            else:\n",
    "                c+=1\n",
    "                \n",
    "        elif direction == \"down\":\n",
    "            if r == n-1:\n",
    "                direction = \"left\"\n",
    "                c -= 1\n",
    "            else:\n",
    "                r += 1\n",
    "    \n",
    "        elif direction == \"left\":\n",
    "            if c == 0:\n",
    "                direction = \"up\"\n",
    "                r -= 1\n",
    "            else:\n",
    "                c -= 1\n",
    "        \n",
    "        elif direction == \"up\":\n",
    "            if r == 1:\n",
    "                break\n",
    "            else:\n",
    "                r -= 1\n",
    "                \n",
    "        \n",
    "    \n",
    "        \n",
    "        \n",
    "\n",
    "print_boundry(M)"
   ]
  },
  {
   "cell_type": "code",
   "execution_count": 233,
   "id": "90346d08",
   "metadata": {},
   "outputs": [
    {
     "data": {
      "text/plain": [
       "[[1, 5, 9, 13, 17, 21, 25, 29],\n",
       " [2, 6, 10, 14, 18, 22, 26, 30],\n",
       " [3, 7, 11, 15, 19, 23, 27, 31],\n",
       " [4, 8, 12, 16, 20, 24, 28, 32]]"
      ]
     },
     "execution_count": 233,
     "metadata": {},
     "output_type": "execute_result"
    }
   ],
   "source": [
    "M"
   ]
  },
  {
   "cell_type": "markdown",
   "id": "ffe629f4",
   "metadata": {},
   "source": [
    "## Print spiral  : "
   ]
  },
  {
   "cell_type": "code",
   "execution_count": 234,
   "id": "9fc9a749",
   "metadata": {},
   "outputs": [
    {
     "name": "stdout",
     "output_type": "stream",
     "text": [
      "1 5 9 13 17 21 25 29 30 31 32 28 24 20 16 12 8 4 3 2 6 10 14 18 22 26 27 23 19 15 11 7 "
     ]
    }
   ],
   "source": [
    "def print_boundry(M):\n",
    "    n = len(M)\n",
    "    m = len(M[0])\n",
    "    \n",
    "    \n",
    "    r,c = 0,0\n",
    "    direction = \"right\"\n",
    "    boundary  = 0\n",
    "    \n",
    "    for _ in range(n*m):\n",
    "        \n",
    "        print(M[r][c], end = \" \")\n",
    "        \n",
    "        if direction == \"right\":\n",
    "            if c == m-1 - boundary:\n",
    "                direction = \"down\"\n",
    "                r += 1\n",
    "            else:\n",
    "                c+=1\n",
    "                \n",
    "        elif direction == \"down\":\n",
    "            if r == n-1 - boundary:\n",
    "                direction = \"left\"\n",
    "                c -= 1\n",
    "            else:\n",
    "                r += 1\n",
    "    \n",
    "        elif direction == \"left\":\n",
    "            if c == 0 + boundary:\n",
    "                direction = \"up\"\n",
    "                r -= 1\n",
    "            else:\n",
    "                c -= 1\n",
    "        \n",
    "        elif direction == \"up\":\n",
    "            if r == 1 + boundary:\n",
    "                direction = \"right\"\n",
    "                boundary += 1\n",
    "                c += 1\n",
    "            else:\n",
    "                r -= 1\n",
    "                \n",
    "        \n",
    "    \n",
    "        \n",
    "        \n",
    "\n",
    "print_boundry(M)"
   ]
  },
  {
   "cell_type": "code",
   "execution_count": 235,
   "id": "e9e03095",
   "metadata": {},
   "outputs": [
    {
     "data": {
      "text/plain": [
       "[[1, 5, 9, 13, 17, 21, 25, 29],\n",
       " [2, 6, 10, 14, 18, 22, 26, 30],\n",
       " [3, 7, 11, 15, 19, 23, 27, 31],\n",
       " [4, 8, 12, 16, 20, 24, 28, 32]]"
      ]
     },
     "execution_count": 235,
     "metadata": {},
     "output_type": "execute_result"
    }
   ],
   "source": [
    "M"
   ]
  },
  {
   "cell_type": "code",
   "execution_count": null,
   "id": "7ae02bd3",
   "metadata": {},
   "outputs": [],
   "source": []
  },
  {
   "cell_type": "markdown",
   "id": "310078b9",
   "metadata": {},
   "source": [
    "## Spiral Order Matrix II\n",
    "\n",
    "### Given an integer A, generate a square matrix filled with elements from 1 to A2 in spiral order and return the generated square matrix.\n",
    "\n",
    "    Input Format\n",
    "    First and only argument is integer A\n",
    "    Output Format\n",
    "    Return a 2-D matrix which consists of the elements added in spiral order.\n",
    "    Example Input\n",
    "    Input 1:\n",
    "    1\n",
    "    Input 2:\n",
    "    2\n",
    "    Input 3:\n",
    "    5\n",
    "    Example Output\n",
    "    Output 1:\n",
    "    [ [1] ]\n",
    "    Output 2:\n",
    "    [ [1, 2],\n",
    "      [4, 3] ]\n",
    "    Output 2:\n",
    "\n",
    "    [ [1,  2,  3,  4,  5], \n",
    "      [16, 17, 18, 19, 6], \n",
    "      [15, 24, 25, 20, 7], \n",
    "      [14, 23, 22, 21, 8], \n",
    "      [13, 12, 11, 10, 9] ]\n",
    "\n",
    "\n",
    "    Example Explanation\n",
    "    Explanation 1:\n",
    "\n",
    "    Only 1 is to be arranged.\n",
    "    Explanation 2:\n",
    "\n",
    "    1 --> 2\n",
    "          |\n",
    "          |\n",
    "    4<--- 3"
   ]
  },
  {
   "cell_type": "code",
   "execution_count": 236,
   "id": "18881b1a",
   "metadata": {},
   "outputs": [
    {
     "data": {
      "text/plain": [
       "[[1, 2, 3, 4, 5],\n",
       " [16, 17, 18, 19, 6],\n",
       " [15, 24, 25, 20, 7],\n",
       " [14, 23, 22, 21, 8],\n",
       " [13, 12, 11, 10, 9]]"
      ]
     },
     "execution_count": 236,
     "metadata": {},
     "output_type": "execute_result"
    }
   ],
   "source": [
    "def generate_spiral_matrix(A):\n",
    "    \n",
    "    M = [[0]*A for _ in range(A)]\n",
    "    \n",
    "    n = len(M)\n",
    "    m = len(M[0])\n",
    "    \n",
    "    r , c = 0, 0\n",
    "    direction = \"right\"\n",
    "    boundary  = 0\n",
    "    value = 1\n",
    "    \n",
    "    for _ in range(n*m):\n",
    "        M[r][c] = value \n",
    "        \n",
    "        if direction ==\"right\":\n",
    "            if c == m-1-boundary:\n",
    "                direction = \"down\"\n",
    "                r+=1\n",
    "            else:\n",
    "                c += 1\n",
    "                \n",
    "        elif direction == \"down\":\n",
    "            \n",
    "            if r == n-1 - boundary:\n",
    "                direction = \"left\"\n",
    "                c -= 1\n",
    "            else:\n",
    "                r += 1\n",
    "                \n",
    "        elif direction == \"left\":\n",
    "            \n",
    "            if c == 0 + boundary:\n",
    "                direction = \"up\"\n",
    "                r-=1\n",
    "            else:\n",
    "                c -= 1\n",
    "        \n",
    "        elif direction == \"up\":\n",
    "            \n",
    "            if r == 1+boundary:\n",
    "                direction = \"right\"\n",
    "                boundary += 1\n",
    "                c += 1\n",
    "            else:\n",
    "                r -= 1\n",
    "        value += 1\n",
    "    return M\n",
    "\n",
    "generate_spiral_matrix(5)           "
   ]
  },
  {
   "cell_type": "code",
   "execution_count": null,
   "id": "fa9f9241",
   "metadata": {},
   "outputs": [],
   "source": []
  },
  {
   "cell_type": "markdown",
   "id": "09a56b1b",
   "metadata": {},
   "source": [
    "## Spiral Order Matrix 2\n",
    "\n",
    "### Given an integer A, Print an A X A square matrix filled with elements from 1 to A2 in spiral order.\n",
    "\n",
    "    Input Format\n",
    "    First and only line contains a single integer A.\n",
    "    Output Format\n",
    "    Print the spiral order pattern in A lines each containing A space-separated integers.\n",
    "    Example Input\n",
    "    Input 1:\n",
    "     1 \n",
    "    Input 2:\n",
    "     2 \n",
    "    Input 3:\n",
    "     3 \n",
    "\n",
    "    Example Output\n",
    "    Output 1:\n",
    "     1 \n",
    "    Output 2:\n",
    "     1 2 \n",
    "     4 3 \n",
    "    Output 3:\n",
    "     1 2 3 \n",
    "     6 5 4 \n",
    "     7 8 9 \n",
    "\n"
   ]
  },
  {
   "cell_type": "code",
   "execution_count": 237,
   "id": "fa93a635",
   "metadata": {},
   "outputs": [
    {
     "data": {
      "text/plain": [
       "[[1, 2, 3, 4, 5, 6, 7, 8],\n",
       " [16, 15, 14, 13, 12, 11, 10, 9],\n",
       " [17, 18, 19, 20, 21, 22, 23, 24],\n",
       " [32, 31, 30, 29, 28, 27, 26, 25],\n",
       " [33, 34, 35, 36, 37, 38, 39, 40],\n",
       " [48, 47, 46, 45, 44, 43, 42, 41],\n",
       " [49, 50, 51, 52, 53, 54, 55, 56],\n",
       " [64, 63, 62, 61, 60, 59, 58, 57]]"
      ]
     },
     "execution_count": 237,
     "metadata": {},
     "output_type": "execute_result"
    }
   ],
   "source": [
    "def spiral_order_matrix_2(A):\n",
    "    M = [[0]*A for _ in range(A)]\n",
    "    \n",
    "    n = len(M)\n",
    "    m = len(M[0])\n",
    "    x = 1\n",
    "    for i in range(n):\n",
    "        for j in range(m):\n",
    "            \n",
    "            M[i][j] =  x\n",
    "            x += 1\n",
    "    \n",
    "    for i in range(n):\n",
    "        if i % 2 != 0:\n",
    "            M[i] = M[i][::-1]\n",
    "    \n",
    "    return M\n",
    "    \n",
    "    \n",
    "spiral_order_matrix_2(8)"
   ]
  },
  {
   "cell_type": "code",
   "execution_count": null,
   "id": "d3239f0d",
   "metadata": {},
   "outputs": [],
   "source": []
  },
  {
   "cell_type": "markdown",
   "id": "0d8fca5b",
   "metadata": {},
   "source": [
    "## Christmas Trees\n",
    "\n",
    "### You are given an array A consisting of heights of Christmas trees and an array B of the same size consisting of the cost of each of the trees (Bi is the cost of tree Ai, where 1 ≤ i ≤ size(A)), and you are supposed to choose 3 trees (let's say, indices p, q, and r), such that Ap < Aq < Ar, where p < q < r.  The cost of these trees is Bp + Bq + Br. You are to choose 3 trees such that their total cost is minimum. Return that cost.  If it is not possible to choose 3 such trees return -1.\n",
    "\n",
    "    Input Format\n",
    "    First argument is an integer array A.\n",
    "    Second argument is an integer array B.\n",
    "    Output Format\n",
    "    Return an integer denoting the minimum cost of choosing 3 trees whose heights are strictly in increasing order, if not possible, -1.\n",
    "    Example Input\n",
    "    Input 1:\n",
    "     A = [1, 3, 5]\n",
    "     B = [1, 2, 3]\n",
    "    Input 2:\n",
    "     A = [1, 6, 4, 2, 6, 9]\n",
    "     B = [2, 5, 7, 3, 2, 7]\n",
    "    Example Output\n",
    "    Output 1:\n",
    "     6 \n",
    "    Output 2:\n",
    "     7 \n",
    "    Example Explanation\n",
    "    Explanation 1:\n",
    "     We can choose the trees with indices 1, 2 and 3, and the cost is 1 + 2 + 3 = 6. \n",
    "    Explanation 2:\n",
    "     We can choose the trees with indices 1, 4 and 5, and the cost is 2 + 3 + 2 = 7. \n",
    "     This is the minimum cost that we can get."
   ]
  },
  {
   "cell_type": "code",
   "execution_count": 238,
   "id": "1b3861b5",
   "metadata": {},
   "outputs": [
    {
     "name": "stdout",
     "output_type": "stream",
     "text": [
      "[11, 13, 15]\n",
      "6\n"
     ]
    }
   ],
   "source": [
    "H = [9,7,15,3,6,1,2,8 ,2,11,5,13,15,6]\n",
    "C = [6,4, 1,5,8,5,9,11,6, 3,3, 2, 1,4]\n",
    "ans = None\n",
    "n = len(H)\n",
    "mincost = float(\"inf\")\n",
    "for t1 in range(n):\n",
    "    for t2 in range(t1,n):\n",
    "        for t3 in range(t2,n):\n",
    "            if H[t1] < H[t2] < H[t3]:\n",
    "                cost = C[t1] + C[t2] + C[t3]\n",
    "        \n",
    "                if cost < mincost:\n",
    "                    mincost = cost\n",
    "#                     print(\"Heights are :\", H[t1],H[t2],H[t3],\"\\ncosts are:\",C[t1],C[t2],C[t3] , \" mincost is :\",mincost)\n",
    "                    ans = [H[t1],H[t2],H[t3]]\n",
    "print(ans)\n",
    "print(mincost)\n",
    "                \n",
    "                "
   ]
  },
  {
   "cell_type": "code",
   "execution_count": null,
   "id": "f140d382",
   "metadata": {},
   "outputs": [],
   "source": []
  },
  {
   "cell_type": "code",
   "execution_count": 239,
   "id": "daacf577",
   "metadata": {},
   "outputs": [
    {
     "name": "stdout",
     "output_type": "stream",
     "text": [
      "6\n"
     ]
    }
   ],
   "source": [
    "H = [9,7,15,3,6,1,2,8 ,2,11,5,13,15,6]\n",
    "C = [6,4, 1,5,8,5,9,11,6, 3,3, 2, 1,4]\n",
    "ans = None\n",
    "n = len(H)\n",
    "mincost = float(\"inf\")\n",
    "\n",
    "for t2 in range(n):\n",
    "    \n",
    "    Ht2 = H[t2]  # height of tree2\n",
    "    \n",
    "    Ct2 = C[t2]   # cost of tree2\n",
    "    \n",
    "    Ct1 = float(\"inf\")\n",
    "    \n",
    "    for t1 in range(t2):    # finding minimum cost tree1 having height < t2 height\n",
    "        if H[t1] < H[t2]:\n",
    "            Ct1 = min(C[t1],Ct1)\n",
    "            \n",
    "    Ct3 = float(\"inf\")\n",
    "    \n",
    "    for t3 in range(t2+1,n):  # finding minimum cost tree3 having height > t2 height\n",
    "        if H[t3] > H[t2]:\n",
    "            Ct3 = min(C[t3],Ct3)\n",
    "            \n",
    "        \n",
    "    cost = Ct1 + Ct2 + Ct3\n",
    "    mincost = min(cost,mincost)\n",
    "    \n",
    "print(mincost)\n",
    "                  "
   ]
  },
  {
   "cell_type": "code",
   "execution_count": null,
   "id": "14fa5cf7",
   "metadata": {},
   "outputs": [],
   "source": []
  },
  {
   "cell_type": "code",
   "execution_count": null,
   "id": "cbdb1d96",
   "metadata": {},
   "outputs": [],
   "source": []
  },
  {
   "cell_type": "markdown",
   "id": "929b8ece",
   "metadata": {},
   "source": [
    "## Maximum positivity\n",
    "\n",
    "### Given an array of integers A, of size N.  Return the maximum size subarray of A having only non-negative elements. If there are more than one such subarray, return the one having the smallest starting index in A.\n",
    "\n",
    "    Input Format\n",
    "    The first and only argument given is the integer array A.\n",
    "    Output Format\n",
    "    Return maximum size subarray of A having only non-negative elements. If there are more than one such subarrays, return the one having earliest starting index in A.\n",
    "    Example Input\n",
    "    Input 1:\n",
    "     A = [5, 6, -1, 7, 8]\n",
    "    Input 2:\n",
    "     A = [1, 2, 3, 4, 5, 6]\n",
    "    Example Output\n",
    "    Output 1:\n",
    "     [5, 6]\n",
    "    Output 2:\n",
    "     [1, 2, 3, 4, 5, 6]\n",
    "    Example Explanation\n",
    "    Explanation 1:\n",
    "     There are two subarrays of size 2 having only non-negative elements.\n",
    "     1. [5, 6]  starting point  = 0\n",
    "     2. [7, 8]  starting point  = 3\n",
    "     As starting point of 1 is smaller, return [5, 6]\n",
    "    Explanation 2:\n",
    "     There is only one subarray of size 6 having only non-negative elements:\n",
    "     [1, 2, 3, 4, 5, 6]\n"
   ]
  },
  {
   "cell_type": "code",
   "execution_count": 240,
   "id": "ca79614b",
   "metadata": {},
   "outputs": [
    {
     "data": {
      "text/plain": [
       "[5, 6]"
      ]
     },
     "execution_count": 240,
     "metadata": {},
     "output_type": "execute_result"
    }
   ],
   "source": [
    "A = [5,6,-1,7,8]\n",
    "def Maximum_positivity(A):\n",
    "    n = len(A)\n",
    "    ans  = None\n",
    "    maxsize = -float(\"inf\")\n",
    "    for s in range(n):\n",
    "        for e in range(s,n):\n",
    "            hasneg = False\n",
    "            for i in range(s,e+1):\n",
    "                if A[i] < 0: \n",
    "                    hasneg = True\n",
    "                    break\n",
    "            l = len(A[s:e+1])\n",
    "            if l > maxsize:\n",
    "                maxsize = l\n",
    "\n",
    "                if hasneg == False:\n",
    "                    ans = (A[s:e+1])\n",
    "            \n",
    "    return (ans)\n",
    "Maximum_positivity(A)\n"
   ]
  },
  {
   "cell_type": "code",
   "execution_count": 241,
   "id": "8f42793d",
   "metadata": {},
   "outputs": [
    {
     "data": {
      "text/plain": [
       "[1, 2, 3, 4, 5, 6]"
      ]
     },
     "execution_count": 241,
     "metadata": {},
     "output_type": "execute_result"
    }
   ],
   "source": [
    "\n",
    "Maximum_positivity([1, 2, 3, 4, 5, 6])\n"
   ]
  },
  {
   "cell_type": "code",
   "execution_count": 242,
   "id": "1dff26c3",
   "metadata": {},
   "outputs": [
    {
     "name": "stdout",
     "output_type": "stream",
     "text": [
      "None\n"
     ]
    }
   ],
   "source": [
    "print(Maximum_positivity([ -6148706, -8550681, 4494391, 8074193, -1283236, 4384884, 8111626, -8972065, 7428432, 7514578 ]))"
   ]
  },
  {
   "cell_type": "code",
   "execution_count": null,
   "id": "402cd663",
   "metadata": {},
   "outputs": [],
   "source": []
  },
  {
   "cell_type": "code",
   "execution_count": null,
   "id": "c995ca72",
   "metadata": {},
   "outputs": [],
   "source": []
  },
  {
   "cell_type": "code",
   "execution_count": null,
   "id": "a707081f",
   "metadata": {},
   "outputs": [],
   "source": [
    "\n"
   ]
  },
  {
   "cell_type": "code",
   "execution_count": 243,
   "id": "872d9ec8",
   "metadata": {},
   "outputs": [
    {
     "data": {
      "text/plain": [
       "[5, 6]"
      ]
     },
     "execution_count": 243,
     "metadata": {},
     "output_type": "execute_result"
    }
   ],
   "source": [
    "\n",
    "def Maximum_positivity(A):\n",
    "#     print(A)\n",
    "    ret = [[]]\n",
    "    for i in A:\n",
    "        if i < 0:\n",
    "            ret.append([])\n",
    "        else:\n",
    "            ret[-1].append(i)\n",
    "#     print(ret)\n",
    "    mxlen = max([len(i) for i in ret])\n",
    "    for i in ret:\n",
    "        if len(i) == mxlen:\n",
    "            return i\n",
    "Maximum_positivity(A)"
   ]
  },
  {
   "cell_type": "code",
   "execution_count": 244,
   "id": "cfb65a96",
   "metadata": {},
   "outputs": [
    {
     "name": "stdout",
     "output_type": "stream",
     "text": [
      "[4494391, 8074193]\n"
     ]
    }
   ],
   "source": [
    "print(Maximum_positivity([ -6148706, -8550681, 4494391, 8074193, -1283236, 4384884, 8111626, -8972065, 7428432, 7514578 ]))"
   ]
  },
  {
   "cell_type": "code",
   "execution_count": null,
   "id": "0937be15",
   "metadata": {},
   "outputs": [],
   "source": []
  },
  {
   "cell_type": "code",
   "execution_count": null,
   "id": "29c77380",
   "metadata": {},
   "outputs": [],
   "source": []
  },
  {
   "cell_type": "code",
   "execution_count": null,
   "id": "10ce53bb",
   "metadata": {},
   "outputs": [],
   "source": []
  },
  {
   "cell_type": "code",
   "execution_count": null,
   "id": "96dfa4a8",
   "metadata": {},
   "outputs": [],
   "source": []
  },
  {
   "cell_type": "code",
   "execution_count": null,
   "id": "eea3a56a",
   "metadata": {},
   "outputs": [],
   "source": []
  },
  {
   "cell_type": "markdown",
   "id": "d37d0b54",
   "metadata": {},
   "source": [
    "## Convert from binary to decimal : "
   ]
  },
  {
   "cell_type": "code",
   "execution_count": 245,
   "id": "7f8cfdc3",
   "metadata": {},
   "outputs": [],
   "source": [
    "S = '1001110'"
   ]
  },
  {
   "cell_type": "code",
   "execution_count": 246,
   "id": "59170567",
   "metadata": {},
   "outputs": [],
   "source": [
    "def BtoD(S):\n",
    "    ans = 0\n",
    "    x = 0\n",
    "    for i in S[::-1]:\n",
    "        ans += int(i)*(2**x)\n",
    "        x+= 1\n",
    "    return ans"
   ]
  },
  {
   "cell_type": "code",
   "execution_count": 247,
   "id": "8ab8c18b",
   "metadata": {},
   "outputs": [
    {
     "data": {
      "text/plain": [
       "78"
      ]
     },
     "execution_count": 247,
     "metadata": {},
     "output_type": "execute_result"
    }
   ],
   "source": [
    "BtoD(S)"
   ]
  },
  {
   "cell_type": "markdown",
   "id": "a66199e0",
   "metadata": {},
   "source": [
    "### Convert given ternary to decimal ?\n",
    "(02101)\n"
   ]
  },
  {
   "cell_type": "code",
   "execution_count": 248,
   "id": "e4f1a391",
   "metadata": {},
   "outputs": [
    {
     "data": {
      "text/plain": [
       "708"
      ]
     },
     "execution_count": 248,
     "metadata": {},
     "output_type": "execute_result"
    }
   ],
   "source": [
    "S = '222020'\n",
    "\n",
    "ans = 0\n",
    "x = len(S)-1\n",
    "for i in S:\n",
    "    ans += int(i)*(3**x)\n",
    "    x -= 1\n",
    "ans"
   ]
  },
  {
   "cell_type": "code",
   "execution_count": null,
   "id": "38139aef",
   "metadata": {},
   "outputs": [],
   "source": []
  },
  {
   "cell_type": "code",
   "execution_count": null,
   "id": "d8f74d90",
   "metadata": {},
   "outputs": [],
   "source": []
  },
  {
   "cell_type": "markdown",
   "id": "988ddcab",
   "metadata": {},
   "source": [
    "## Decimal to Binary : "
   ]
  },
  {
   "cell_type": "code",
   "execution_count": 249,
   "id": "45a11049",
   "metadata": {},
   "outputs": [],
   "source": [
    "def DtoB(N):\n",
    "    \n",
    "    string = \"\"\n",
    "    \n",
    "    while N > 0:\n",
    "        digit = N%2 \n",
    "        string = str(digit) + string\n",
    "        N = N // 2\n",
    "    return string\n",
    "        \n",
    "    "
   ]
  },
  {
   "cell_type": "code",
   "execution_count": 250,
   "id": "b35661c0",
   "metadata": {},
   "outputs": [
    {
     "data": {
      "text/plain": [
       "('1001110', '1001110')"
      ]
     },
     "execution_count": 250,
     "metadata": {},
     "output_type": "execute_result"
    }
   ],
   "source": [
    "DtoB(78),bin(78)[2:]"
   ]
  },
  {
   "cell_type": "code",
   "execution_count": null,
   "id": "2e16880f",
   "metadata": {},
   "outputs": [],
   "source": []
  },
  {
   "cell_type": "code",
   "execution_count": 251,
   "id": "9c3b9a33",
   "metadata": {},
   "outputs": [
    {
     "data": {
      "text/plain": [
       "'222020'"
      ]
     },
     "execution_count": 251,
     "metadata": {},
     "output_type": "execute_result"
    }
   ],
   "source": [
    "def DtoT(N):\n",
    "    \n",
    "    string = \"\"\n",
    "    \n",
    "    while N > 0:\n",
    "        digit = N%3\n",
    "        string = str(digit) + string\n",
    "        N = N // 3\n",
    "    return string\n",
    "        \n",
    "DtoT(708)"
   ]
  },
  {
   "cell_type": "code",
   "execution_count": null,
   "id": "a01d37bc",
   "metadata": {},
   "outputs": [],
   "source": []
  },
  {
   "cell_type": "markdown",
   "id": "a7c02142",
   "metadata": {},
   "source": [
    "## Quick way to convert Binary to Hexadecimal  : "
   ]
  },
  {
   "cell_type": "code",
   "execution_count": 252,
   "id": "8e84c806",
   "metadata": {},
   "outputs": [],
   "source": [
    "S = \"10110111\""
   ]
  },
  {
   "cell_type": "code",
   "execution_count": 253,
   "id": "2b30f519",
   "metadata": {},
   "outputs": [],
   "source": [
    "n = len(S)"
   ]
  },
  {
   "cell_type": "code",
   "execution_count": null,
   "id": "056db262",
   "metadata": {},
   "outputs": [],
   "source": []
  },
  {
   "cell_type": "code",
   "execution_count": 254,
   "id": "82bbfafd",
   "metadata": {},
   "outputs": [
    {
     "data": {
      "text/plain": [
       "('1011', '0111')"
      ]
     },
     "execution_count": 254,
     "metadata": {},
     "output_type": "execute_result"
    }
   ],
   "source": [
    "S[:n//2],S[n//2:]"
   ]
  },
  {
   "cell_type": "code",
   "execution_count": 255,
   "id": "30161a47",
   "metadata": {},
   "outputs": [
    {
     "data": {
      "text/plain": [
       "(11, 7)"
      ]
     },
     "execution_count": 255,
     "metadata": {},
     "output_type": "execute_result"
    }
   ],
   "source": [
    "BtoD(S[:n//2]),BtoD(S[n//2:])\n"
   ]
  },
  {
   "cell_type": "code",
   "execution_count": 256,
   "id": "4d7f0d30",
   "metadata": {},
   "outputs": [],
   "source": [
    "# in Hexadecimal 11 is B \n",
    "ans = 'B7'"
   ]
  },
  {
   "cell_type": "code",
   "execution_count": null,
   "id": "2ad8edeb",
   "metadata": {},
   "outputs": [],
   "source": []
  },
  {
   "cell_type": "markdown",
   "id": "ef3d8177",
   "metadata": {},
   "source": [
    "# `Bitwise operators : `"
   ]
  },
  {
   "cell_type": "markdown",
   "id": "361b8693",
   "metadata": {},
   "source": [
    "# ans operator : &\n"
   ]
  },
  {
   "cell_type": "code",
   "execution_count": null,
   "id": "c1570fd0",
   "metadata": {},
   "outputs": [],
   "source": [
    "\n"
   ]
  },
  {
   "cell_type": "code",
   "execution_count": 257,
   "id": "934aae45",
   "metadata": {},
   "outputs": [
    {
     "data": {
      "text/plain": [
       "0"
      ]
     },
     "execution_count": 257,
     "metadata": {},
     "output_type": "execute_result"
    }
   ],
   "source": [
    "12 & 2"
   ]
  },
  {
   "cell_type": "code",
   "execution_count": 258,
   "id": "c3f5e124",
   "metadata": {},
   "outputs": [
    {
     "data": {
      "text/plain": [
       "'1100'"
      ]
     },
     "execution_count": 258,
     "metadata": {},
     "output_type": "execute_result"
    }
   ],
   "source": [
    "bin(12)[2:]"
   ]
  },
  {
   "cell_type": "code",
   "execution_count": 259,
   "id": "8be668a3",
   "metadata": {},
   "outputs": [
    {
     "data": {
      "text/plain": [
       "'10'"
      ]
     },
     "execution_count": 259,
     "metadata": {},
     "output_type": "execute_result"
    }
   ],
   "source": [
    "bin(2)[2:]"
   ]
  },
  {
   "cell_type": "markdown",
   "id": "183b679a",
   "metadata": {},
   "source": [
    "        1100\n",
    "      & 0010\n",
    "\n",
    "        0000"
   ]
  },
  {
   "cell_type": "code",
   "execution_count": 260,
   "id": "4e656076",
   "metadata": {},
   "outputs": [
    {
     "data": {
      "text/plain": [
       "('1010', '10')"
      ]
     },
     "execution_count": 260,
     "metadata": {},
     "output_type": "execute_result"
    }
   ],
   "source": [
    "bin(10)[2:],bin(2)[2:]"
   ]
  },
  {
   "cell_type": "markdown",
   "id": "14d9064e",
   "metadata": {},
   "source": [
    "        1010\n",
    "       &0010\n",
    "       \n",
    "        0010"
   ]
  },
  {
   "cell_type": "code",
   "execution_count": 261,
   "id": "93655c10",
   "metadata": {},
   "outputs": [
    {
     "data": {
      "text/plain": [
       "2"
      ]
     },
     "execution_count": 261,
     "metadata": {},
     "output_type": "execute_result"
    }
   ],
   "source": [
    "BtoD(\"10\")"
   ]
  },
  {
   "cell_type": "code",
   "execution_count": 262,
   "id": "cbaa75af",
   "metadata": {},
   "outputs": [
    {
     "data": {
      "text/plain": [
       "8"
      ]
     },
     "execution_count": 262,
     "metadata": {},
     "output_type": "execute_result"
    }
   ],
   "source": [
    "a = 13\n",
    "b = 10\n",
    "a&b "
   ]
  },
  {
   "cell_type": "code",
   "execution_count": 263,
   "id": "5c3d7e3b",
   "metadata": {},
   "outputs": [
    {
     "data": {
      "text/plain": [
       "('1101', '1010')"
      ]
     },
     "execution_count": 263,
     "metadata": {},
     "output_type": "execute_result"
    }
   ],
   "source": [
    "bin(13)[2:],bin(10)[2:]   # 13 & 10"
   ]
  },
  {
   "cell_type": "markdown",
   "id": "3da348f2",
   "metadata": {},
   "source": [
    "1101\n",
    "1010\n",
    "\n",
    "1000\n",
    "\n"
   ]
  },
  {
   "cell_type": "code",
   "execution_count": 264,
   "id": "fa279824",
   "metadata": {},
   "outputs": [
    {
     "data": {
      "text/plain": [
       "8"
      ]
     },
     "execution_count": 264,
     "metadata": {},
     "output_type": "execute_result"
    }
   ],
   "source": [
    "BtoD(\"1000\")"
   ]
  },
  {
   "cell_type": "code",
   "execution_count": 265,
   "id": "899e7e45",
   "metadata": {},
   "outputs": [],
   "source": [
    "# usecase of and operator if a bit is on or off : \n",
    "\n"
   ]
  },
  {
   "cell_type": "markdown",
   "id": "04fc8f63",
   "metadata": {},
   "source": [
    "### int a = x // random value x is assigned to  print(a&1)\n",
    "    1 if a is odd\n",
    "    0 if a is even\n",
    "    "
   ]
  },
  {
   "cell_type": "code",
   "execution_count": 266,
   "id": "0032d478",
   "metadata": {},
   "outputs": [
    {
     "data": {
      "text/plain": [
       "1"
      ]
     },
     "execution_count": 266,
     "metadata": {},
     "output_type": "execute_result"
    }
   ],
   "source": [
    "a = 15\n",
    "a&1"
   ]
  },
  {
   "cell_type": "code",
   "execution_count": 267,
   "id": "48f257f7",
   "metadata": {},
   "outputs": [
    {
     "data": {
      "text/plain": [
       "0"
      ]
     },
     "execution_count": 267,
     "metadata": {},
     "output_type": "execute_result"
    }
   ],
   "source": [
    "a = 16\n",
    "a&1"
   ]
  },
  {
   "cell_type": "markdown",
   "id": "cfa7fb5f",
   "metadata": {},
   "source": [
    "# OR ooperator: \n"
   ]
  },
  {
   "cell_type": "code",
   "execution_count": 268,
   "id": "c2e06782",
   "metadata": {},
   "outputs": [
    {
     "data": {
      "text/plain": [
       "14"
      ]
     },
     "execution_count": 268,
     "metadata": {},
     "output_type": "execute_result"
    }
   ],
   "source": [
    "\n",
    "10|4"
   ]
  },
  {
   "cell_type": "code",
   "execution_count": 269,
   "id": "82c1f01e",
   "metadata": {},
   "outputs": [
    {
     "data": {
      "text/plain": [
       "('1010', '100')"
      ]
     },
     "execution_count": 269,
     "metadata": {},
     "output_type": "execute_result"
    }
   ],
   "source": [
    "bin(10)[2:],bin(4)[2:] # 10 | 4"
   ]
  },
  {
   "cell_type": "markdown",
   "id": "5790d56b",
   "metadata": {},
   "source": [
    "    1010\n",
    "    0100\n",
    "    \n",
    "    1110\n",
    "    "
   ]
  },
  {
   "cell_type": "code",
   "execution_count": 270,
   "id": "cf22514a",
   "metadata": {},
   "outputs": [
    {
     "data": {
      "text/plain": [
       "14"
      ]
     },
     "execution_count": 270,
     "metadata": {},
     "output_type": "execute_result"
    }
   ],
   "source": [
    "BtoD(\"1110\")"
   ]
  },
  {
   "cell_type": "code",
   "execution_count": null,
   "id": "ca417950",
   "metadata": {},
   "outputs": [],
   "source": []
  },
  {
   "cell_type": "code",
   "execution_count": 271,
   "id": "8f9a3f59",
   "metadata": {},
   "outputs": [
    {
     "data": {
      "text/plain": [
       "('1101', '1010')"
      ]
     },
     "execution_count": 271,
     "metadata": {},
     "output_type": "execute_result"
    }
   ],
   "source": [
    "bin(13)[2:],bin(10)[2:] # 13 | 10"
   ]
  },
  {
   "cell_type": "markdown",
   "id": "260a7c4e",
   "metadata": {},
   "source": [
    "    1101\n",
    "    1010\n",
    "\n",
    "    1111"
   ]
  },
  {
   "cell_type": "code",
   "execution_count": 272,
   "id": "23f40587",
   "metadata": {},
   "outputs": [
    {
     "data": {
      "text/plain": [
       "15"
      ]
     },
     "execution_count": 272,
     "metadata": {},
     "output_type": "execute_result"
    }
   ],
   "source": [
    "BtoD(\"1111\")"
   ]
  },
  {
   "cell_type": "code",
   "execution_count": null,
   "id": "50a8f105",
   "metadata": {},
   "outputs": [],
   "source": []
  },
  {
   "cell_type": "markdown",
   "id": "90a1e8db",
   "metadata": {},
   "source": [
    "### int a = x // random value x is assigned to a print(a|1)\n",
    "    if a is odd x\n",
    "    If a is even x+1"
   ]
  },
  {
   "cell_type": "code",
   "execution_count": 273,
   "id": "24879fd4",
   "metadata": {},
   "outputs": [
    {
     "data": {
      "text/plain": [
       "15"
      ]
     },
     "execution_count": 273,
     "metadata": {},
     "output_type": "execute_result"
    }
   ],
   "source": [
    "a = 15\n",
    "a|1"
   ]
  },
  {
   "cell_type": "code",
   "execution_count": 274,
   "id": "8b3e89be",
   "metadata": {},
   "outputs": [
    {
     "data": {
      "text/plain": [
       "17"
      ]
     },
     "execution_count": 274,
     "metadata": {},
     "output_type": "execute_result"
    }
   ],
   "source": [
    "a = 16\n",
    "a|1"
   ]
  },
  {
   "cell_type": "code",
   "execution_count": 275,
   "id": "d30c380b",
   "metadata": {},
   "outputs": [],
   "source": [
    "# use case of OR operator is to turn on the bit\n"
   ]
  },
  {
   "cell_type": "code",
   "execution_count": null,
   "id": "b8bef391",
   "metadata": {},
   "outputs": [],
   "source": []
  },
  {
   "cell_type": "markdown",
   "id": "252d1698",
   "metadata": {},
   "source": [
    "# XOR operator ^ \n",
    "\n",
    "- usecase : toggle the bit\n"
   ]
  },
  {
   "cell_type": "code",
   "execution_count": 276,
   "id": "5de0ce30",
   "metadata": {},
   "outputs": [
    {
     "data": {
      "text/plain": [
       "('1101', '1110')"
      ]
     },
     "execution_count": 276,
     "metadata": {},
     "output_type": "execute_result"
    }
   ],
   "source": [
    "bin(13)[2:],bin(14)[2:]"
   ]
  },
  {
   "cell_type": "markdown",
   "id": "4edda971",
   "metadata": {},
   "source": [
    "    1101\n",
    "    0001\n",
    "    \n",
    "    1100\n",
    "    \n",
    "    \n",
    "    1110\n",
    "    0001\n",
    "    \n",
    "    1111\n",
    "    \n",
    "    "
   ]
  },
  {
   "cell_type": "code",
   "execution_count": 277,
   "id": "def5794d",
   "metadata": {},
   "outputs": [
    {
     "data": {
      "text/plain": [
       "(12, 15)"
      ]
     },
     "execution_count": 277,
     "metadata": {},
     "output_type": "execute_result"
    }
   ],
   "source": [
    "13^1,14^1"
   ]
  },
  {
   "cell_type": "code",
   "execution_count": null,
   "id": "0e1e4cfc",
   "metadata": {},
   "outputs": [],
   "source": []
  },
  {
   "cell_type": "code",
   "execution_count": null,
   "id": "f2050ac1",
   "metadata": {},
   "outputs": [],
   "source": []
  },
  {
   "cell_type": "code",
   "execution_count": 278,
   "id": "a30fb601",
   "metadata": {},
   "outputs": [
    {
     "data": {
      "text/plain": [
       "17"
      ]
     },
     "execution_count": 278,
     "metadata": {},
     "output_type": "execute_result"
    }
   ],
   "source": [
    "16^1"
   ]
  },
  {
   "cell_type": "code",
   "execution_count": 279,
   "id": "f0209e03",
   "metadata": {},
   "outputs": [
    {
     "data": {
      "text/plain": [
       "15"
      ]
     },
     "execution_count": 279,
     "metadata": {},
     "output_type": "execute_result"
    }
   ],
   "source": [
    "14^1"
   ]
  },
  {
   "cell_type": "markdown",
   "id": "a7b03ed9",
   "metadata": {},
   "source": [
    "    0 0 > 0 \n",
    "    1 0 > 1\n",
    "    0 1 > 1\n",
    "    1 1 > 0"
   ]
  },
  {
   "cell_type": "code",
   "execution_count": 280,
   "id": "4328d887",
   "metadata": {},
   "outputs": [
    {
     "data": {
      "text/plain": [
       "('1101', '1010')"
      ]
     },
     "execution_count": 280,
     "metadata": {},
     "output_type": "execute_result"
    }
   ],
   "source": [
    "bin(13)[2:],bin(10)[2:] # 13 ^ 10"
   ]
  },
  {
   "cell_type": "markdown",
   "id": "07cbf518",
   "metadata": {},
   "source": [
    "    1101\n",
    "    1010\n",
    "    \n",
    "    0111\n",
    "    \n",
    "    "
   ]
  },
  {
   "cell_type": "code",
   "execution_count": 281,
   "id": "49d61217",
   "metadata": {},
   "outputs": [
    {
     "data": {
      "text/plain": [
       "7"
      ]
     },
     "execution_count": 281,
     "metadata": {},
     "output_type": "execute_result"
    }
   ],
   "source": [
    "BtoD(\"0111\")"
   ]
  },
  {
   "cell_type": "code",
   "execution_count": 282,
   "id": "dc848e16",
   "metadata": {},
   "outputs": [
    {
     "data": {
      "text/plain": [
       "7"
      ]
     },
     "execution_count": 282,
     "metadata": {},
     "output_type": "execute_result"
    }
   ],
   "source": [
    "13^10"
   ]
  },
  {
   "cell_type": "code",
   "execution_count": null,
   "id": "07a24bf5",
   "metadata": {},
   "outputs": [],
   "source": []
  },
  {
   "cell_type": "markdown",
   "id": "3464d807",
   "metadata": {},
   "source": [
    "### int a = x : random value x is assigned to a print(a^1)\n",
    "    if a is even = x+1\n",
    "    if a is odd = x-1"
   ]
  },
  {
   "cell_type": "code",
   "execution_count": null,
   "id": "1f3585f7",
   "metadata": {},
   "outputs": [],
   "source": []
  },
  {
   "cell_type": "markdown",
   "id": "5415c8fa",
   "metadata": {},
   "source": [
    "## Single Number\n",
    "\n",
    "### Given an array of integers A, every element appears twice except for one. Find that integer that occurs once.\n",
    "\n",
    "    Input Format\n",
    "    The first and only argument of input contains an integer array A.\n",
    "    Output Format\n",
    "    Return a single integer denoting the single element.\n",
    "\n",
    "    Example Input\n",
    "    Input 1:\n",
    "     A = [1, 2, 2, 3, 1]\n",
    "    Input 2:\n",
    "     A = [1, 2, 2]\n",
    "    Example Output\n",
    "    Output 1:\n",
    "     3\n",
    "    Output 2:\n",
    "     1\n",
    "\n",
    "    Example Explanation\n",
    "    Explanation 1:\n",
    "    3 occurs once.\n",
    "    Explanation 2:\n",
    "    1 occurs once."
   ]
  },
  {
   "cell_type": "code",
   "execution_count": 283,
   "id": "93c730a1",
   "metadata": {},
   "outputs": [
    {
     "data": {
      "text/plain": [
       "0"
      ]
     },
     "execution_count": 283,
     "metadata": {},
     "output_type": "execute_result"
    }
   ],
   "source": [
    "13^13"
   ]
  },
  {
   "cell_type": "code",
   "execution_count": 284,
   "id": "9c4c1d56",
   "metadata": {},
   "outputs": [
    {
     "data": {
      "text/plain": [
       "19"
      ]
     },
     "execution_count": 284,
     "metadata": {},
     "output_type": "execute_result"
    }
   ],
   "source": [
    "5^5^3^19^3"
   ]
  },
  {
   "cell_type": "code",
   "execution_count": 285,
   "id": "7ea072c5",
   "metadata": {},
   "outputs": [
    {
     "data": {
      "text/plain": [
       "8"
      ]
     },
     "execution_count": 285,
     "metadata": {},
     "output_type": "execute_result"
    }
   ],
   "source": [
    "A = [5,5,2,1,2,3,9,9,3,1,0,-1,-1,8]\n",
    "ans = A[0]\n",
    "for i in range(1,len(A)):\n",
    "    ans = ans ^ A[i]\n",
    "ans"
   ]
  },
  {
   "cell_type": "code",
   "execution_count": 286,
   "id": "58c0baea",
   "metadata": {},
   "outputs": [
    {
     "data": {
      "text/plain": [
       "8"
      ]
     },
     "execution_count": 286,
     "metadata": {},
     "output_type": "execute_result"
    }
   ],
   "source": [
    "A = [5,5,2,1,2,3,9,9,3,1,0,-1,-1,8]\n",
    "ans = 0\n",
    "for i in range(len(A)):\n",
    "    ans = ans ^ A[i]\n",
    "ans"
   ]
  },
  {
   "cell_type": "code",
   "execution_count": null,
   "id": "f5f39b21",
   "metadata": {},
   "outputs": [],
   "source": []
  },
  {
   "cell_type": "code",
   "execution_count": null,
   "id": "3a6268a1",
   "metadata": {},
   "outputs": [],
   "source": []
  },
  {
   "cell_type": "markdown",
   "id": "225ff665",
   "metadata": {},
   "source": [
    "### # check if the 1st bit is on or off ! :\n"
   ]
  },
  {
   "cell_type": "code",
   "execution_count": 287,
   "id": "38cf799d",
   "metadata": {},
   "outputs": [
    {
     "data": {
      "text/plain": [
       "'101100'"
      ]
     },
     "execution_count": 287,
     "metadata": {},
     "output_type": "execute_result"
    }
   ],
   "source": [
    "\n",
    "DtoB(44)"
   ]
  },
  {
   "cell_type": "markdown",
   "id": "65318beb",
   "metadata": {},
   "source": [
    "    101100\n",
    "    000001\n",
    "\n",
    "    000000\n"
   ]
  },
  {
   "cell_type": "code",
   "execution_count": 288,
   "id": "6740d47b",
   "metadata": {},
   "outputs": [
    {
     "data": {
      "text/plain": [
       "0"
      ]
     },
     "execution_count": 288,
     "metadata": {},
     "output_type": "execute_result"
    }
   ],
   "source": [
    "44&1"
   ]
  },
  {
   "cell_type": "markdown",
   "id": "33790dd8",
   "metadata": {},
   "source": [
    "### # check if the 2st bit is on or off ! :\n"
   ]
  },
  {
   "cell_type": "code",
   "execution_count": 289,
   "id": "081fe25e",
   "metadata": {},
   "outputs": [
    {
     "data": {
      "text/plain": [
       "'101100'"
      ]
     },
     "execution_count": 289,
     "metadata": {},
     "output_type": "execute_result"
    }
   ],
   "source": [
    "DtoB(44)"
   ]
  },
  {
   "cell_type": "markdown",
   "id": "1f0f0cfd",
   "metadata": {},
   "source": [
    "    101100\n",
    "    000010\n",
    "\n",
    "    000000"
   ]
  },
  {
   "cell_type": "code",
   "execution_count": 290,
   "id": "6fac4099",
   "metadata": {},
   "outputs": [
    {
     "data": {
      "text/plain": [
       "0"
      ]
     },
     "execution_count": 290,
     "metadata": {},
     "output_type": "execute_result"
    }
   ],
   "source": [
    "44&2"
   ]
  },
  {
   "cell_type": "markdown",
   "id": "ca11fe71",
   "metadata": {},
   "source": [
    "### # check if the 3rd bit is on or off ! :\n"
   ]
  },
  {
   "cell_type": "markdown",
   "id": "b0614706",
   "metadata": {},
   "source": [
    "    101100\n",
    "    000100\n",
    "    \n",
    "    000100"
   ]
  },
  {
   "cell_type": "code",
   "execution_count": 291,
   "id": "d11b9285",
   "metadata": {},
   "outputs": [
    {
     "data": {
      "text/plain": [
       "4"
      ]
     },
     "execution_count": 291,
     "metadata": {},
     "output_type": "execute_result"
    }
   ],
   "source": [
    "44&4"
   ]
  },
  {
   "cell_type": "code",
   "execution_count": 292,
   "id": "3b6998ee",
   "metadata": {},
   "outputs": [
    {
     "data": {
      "text/plain": [
       "8"
      ]
     },
     "execution_count": 292,
     "metadata": {},
     "output_type": "execute_result"
    }
   ],
   "source": [
    "44&8"
   ]
  },
  {
   "cell_type": "code",
   "execution_count": 293,
   "id": "05b065ef",
   "metadata": {},
   "outputs": [
    {
     "data": {
      "text/plain": [
       "0"
      ]
     },
     "execution_count": 293,
     "metadata": {},
     "output_type": "execute_result"
    }
   ],
   "source": [
    "44&16"
   ]
  },
  {
   "cell_type": "code",
   "execution_count": 294,
   "id": "9ce999f0",
   "metadata": {},
   "outputs": [
    {
     "data": {
      "text/plain": [
       "32"
      ]
     },
     "execution_count": 294,
     "metadata": {},
     "output_type": "execute_result"
    }
   ],
   "source": [
    "44&32"
   ]
  },
  {
   "cell_type": "code",
   "execution_count": 295,
   "id": "30099d15",
   "metadata": {},
   "outputs": [
    {
     "data": {
      "text/plain": [
       "0"
      ]
     },
     "execution_count": 295,
     "metadata": {},
     "output_type": "execute_result"
    }
   ],
   "source": [
    "44&64"
   ]
  },
  {
   "cell_type": "code",
   "execution_count": 296,
   "id": "3d0163b4",
   "metadata": {},
   "outputs": [
    {
     "data": {
      "text/plain": [
       "0"
      ]
     },
     "execution_count": 296,
     "metadata": {},
     "output_type": "execute_result"
    }
   ],
   "source": [
    "44&128"
   ]
  },
  {
   "cell_type": "code",
   "execution_count": null,
   "id": "39cfa3bb",
   "metadata": {},
   "outputs": [],
   "source": []
  },
  {
   "cell_type": "code",
   "execution_count": 297,
   "id": "d23c83b0",
   "metadata": {},
   "outputs": [
    {
     "data": {
      "text/plain": [
       "[0, 0, 4, 8, 0, 32]"
      ]
     },
     "execution_count": 297,
     "metadata": {},
     "output_type": "execute_result"
    }
   ],
   "source": [
    "[44 & (2**0),\n",
    " 44 & (2**1),\n",
    " 44 & (2**2),\n",
    " 44 & (2**3),\n",
    " 44 & (2**4),\n",
    " 44 & (2**5),\n",
    "]"
   ]
  },
  {
   "cell_type": "code",
   "execution_count": 298,
   "id": "d1774128",
   "metadata": {},
   "outputs": [
    {
     "data": {
      "text/plain": [
       "[32, 0, 8, 4, 0, 0]"
      ]
     },
     "execution_count": 298,
     "metadata": {},
     "output_type": "execute_result"
    }
   ],
   "source": [
    "[44 & (2**0),\n",
    " 44 & (2**1),\n",
    " 44 & (2**2),\n",
    " 44 & (2**3),\n",
    " 44 & (2**4),\n",
    " 44 & (2**5),\n",
    "][::-1]"
   ]
  },
  {
   "cell_type": "code",
   "execution_count": 299,
   "id": "c3b73ef1",
   "metadata": {},
   "outputs": [
    {
     "data": {
      "text/plain": [
       "101100"
      ]
     },
     "execution_count": 299,
     "metadata": {},
     "output_type": "execute_result"
    }
   ],
   "source": [
    "101100"
   ]
  },
  {
   "cell_type": "markdown",
   "id": "d92b9df2",
   "metadata": {},
   "source": [
    "## check if kth bit is on or off : \n",
    "\n",
    "    Number & 2**(k-1)\n",
    "    "
   ]
  },
  {
   "cell_type": "code",
   "execution_count": 300,
   "id": "23cc9d37",
   "metadata": {},
   "outputs": [
    {
     "data": {
      "text/plain": [
       "'1111100110'"
      ]
     },
     "execution_count": 300,
     "metadata": {},
     "output_type": "execute_result"
    }
   ],
   "source": [
    "bin(998)[2:]"
   ]
  },
  {
   "cell_type": "code",
   "execution_count": 301,
   "id": "6511d217",
   "metadata": {},
   "outputs": [],
   "source": [
    "# checking if 8th bit in 998 is on or off : "
   ]
  },
  {
   "cell_type": "code",
   "execution_count": 302,
   "id": "1758ba7f",
   "metadata": {},
   "outputs": [
    {
     "data": {
      "text/plain": [
       "128"
      ]
     },
     "execution_count": 302,
     "metadata": {},
     "output_type": "execute_result"
    }
   ],
   "source": [
    "998&(2**7)"
   ]
  },
  {
   "cell_type": "code",
   "execution_count": 303,
   "id": "5ad8797b",
   "metadata": {},
   "outputs": [
    {
     "data": {
      "text/plain": [
       "0"
      ]
     },
     "execution_count": 303,
     "metadata": {},
     "output_type": "execute_result"
    }
   ],
   "source": [
    "998&(2**4)  # checking  5th bit is on or off : "
   ]
  },
  {
   "cell_type": "code",
   "execution_count": null,
   "id": "6b944f13",
   "metadata": {},
   "outputs": [],
   "source": []
  },
  {
   "cell_type": "code",
   "execution_count": 304,
   "id": "9adabf29",
   "metadata": {},
   "outputs": [
    {
     "data": {
      "text/plain": [
       "['1011', '10110', '101100', '1011000', '10110000']"
      ]
     },
     "execution_count": 304,
     "metadata": {},
     "output_type": "execute_result"
    }
   ],
   "source": [
    "[bin(11)[2:],\n",
    " bin(22)[2:],\n",
    " bin(44)[2:],\n",
    " bin(88)[2:],\n",
    " bin(176)[2:],\n",
    "]"
   ]
  },
  {
   "cell_type": "markdown",
   "id": "0095c9a4",
   "metadata": {},
   "source": [
    "    shifting all bits towards left "
   ]
  },
  {
   "cell_type": "code",
   "execution_count": 305,
   "id": "ea37366c",
   "metadata": {},
   "outputs": [
    {
     "data": {
      "text/plain": [
       "22"
      ]
     },
     "execution_count": 305,
     "metadata": {},
     "output_type": "execute_result"
    }
   ],
   "source": [
    "11 << 1"
   ]
  },
  {
   "cell_type": "code",
   "execution_count": 306,
   "id": "0976eccf",
   "metadata": {},
   "outputs": [
    {
     "data": {
      "text/plain": [
       "44"
      ]
     },
     "execution_count": 306,
     "metadata": {},
     "output_type": "execute_result"
    }
   ],
   "source": [
    "11 << 2"
   ]
  },
  {
   "cell_type": "code",
   "execution_count": 307,
   "id": "298cd6c4",
   "metadata": {},
   "outputs": [
    {
     "data": {
      "text/plain": [
       "88"
      ]
     },
     "execution_count": 307,
     "metadata": {},
     "output_type": "execute_result"
    }
   ],
   "source": [
    "11 << 3"
   ]
  },
  {
   "cell_type": "code",
   "execution_count": 308,
   "id": "06556444",
   "metadata": {},
   "outputs": [
    {
     "data": {
      "text/plain": [
       "176"
      ]
     },
     "execution_count": 308,
     "metadata": {},
     "output_type": "execute_result"
    }
   ],
   "source": [
    "11 << 4"
   ]
  },
  {
   "cell_type": "code",
   "execution_count": 309,
   "id": "fcb0e161",
   "metadata": {},
   "outputs": [
    {
     "data": {
      "text/plain": [
       "[20, 40, 80, 160, 320]"
      ]
     },
     "execution_count": 309,
     "metadata": {},
     "output_type": "execute_result"
    }
   ],
   "source": [
    "[10<<1,10<<2,10<<3,10<<4,10<<5]"
   ]
  },
  {
   "cell_type": "code",
   "execution_count": 310,
   "id": "491999e9",
   "metadata": {},
   "outputs": [
    {
     "data": {
      "text/plain": [
       "['10', '100', '1000', '10000', '100000', '1000000', '10000000', '100000000']"
      ]
     },
     "execution_count": 310,
     "metadata": {},
     "output_type": "execute_result"
    }
   ],
   "source": [
    "[DtoB(1<<1),\n",
    " DtoB(1<<2),\n",
    " DtoB(1<<3),\n",
    " DtoB(1<<4),\n",
    " DtoB(1<<5),\n",
    " DtoB(1<<6),\n",
    " DtoB(1<<7),\n",
    " DtoB(1<<8)\n",
    " \n",
    "]"
   ]
  },
  {
   "cell_type": "code",
   "execution_count": null,
   "id": "509a3cdd",
   "metadata": {},
   "outputs": [],
   "source": []
  },
  {
   "cell_type": "code",
   "execution_count": null,
   "id": "823e4b9d",
   "metadata": {},
   "outputs": [],
   "source": []
  },
  {
   "cell_type": "markdown",
   "id": "c7a4dd6a",
   "metadata": {},
   "source": [
    "    (a << x)  is equal to  (a * 2^x)"
   ]
  },
  {
   "cell_type": "code",
   "execution_count": null,
   "id": "779e0d60",
   "metadata": {},
   "outputs": [],
   "source": []
  },
  {
   "cell_type": "markdown",
   "id": "cf43e29f",
   "metadata": {},
   "source": [
    "## checking ith bit is on or off : "
   ]
  },
  {
   "cell_type": "code",
   "execution_count": 311,
   "id": "4efef942",
   "metadata": {},
   "outputs": [
    {
     "data": {
      "text/plain": [
       "'101100'"
      ]
     },
     "execution_count": 311,
     "metadata": {},
     "output_type": "execute_result"
    }
   ],
   "source": [
    "bin(44)[2:]"
   ]
  },
  {
   "cell_type": "code",
   "execution_count": 312,
   "id": "9f99f3ea",
   "metadata": {},
   "outputs": [
    {
     "data": {
      "text/plain": [
       "[0, 0, 4, 8, 0, 32]"
      ]
     },
     "execution_count": 312,
     "metadata": {},
     "output_type": "execute_result"
    }
   ],
   "source": [
    "[44 & (2**0),\n",
    " 44 & (2**1),\n",
    " 44 & (2**2),\n",
    " 44 & (2**3),\n",
    " 44 & (2**4),\n",
    " 44 & (2**5),\n",
    "]"
   ]
  },
  {
   "cell_type": "code",
   "execution_count": 313,
   "id": "544f7542",
   "metadata": {},
   "outputs": [
    {
     "data": {
      "text/plain": [
       "[0, 0, 4, 8, 0, 32]"
      ]
     },
     "execution_count": 313,
     "metadata": {},
     "output_type": "execute_result"
    }
   ],
   "source": [
    "[44 & (1 <<0),\n",
    " 44 & (1 <<1),\n",
    " 44 & (1 <<2),\n",
    " 44 & (1 <<3),\n",
    " 44 & (1 <<4),\n",
    " 44 & (1 <<5)]"
   ]
  },
  {
   "cell_type": "code",
   "execution_count": null,
   "id": "465c1d6b",
   "metadata": {},
   "outputs": [],
   "source": []
  },
  {
   "cell_type": "code",
   "execution_count": null,
   "id": "db0252d0",
   "metadata": {},
   "outputs": [],
   "source": []
  },
  {
   "cell_type": "code",
   "execution_count": 314,
   "id": "75dfbda0",
   "metadata": {},
   "outputs": [],
   "source": [
    "def check_ith_bit_on_or_off(n,i):\n",
    "    if i <= 0: return 'check index entered negative or 0'\n",
    "    if n & (1<<(i-1)) == 0:\n",
    "        return False\n",
    "    return True\n",
    "    \n",
    "    "
   ]
  },
  {
   "cell_type": "code",
   "execution_count": 315,
   "id": "38c7d0a5",
   "metadata": {},
   "outputs": [
    {
     "data": {
      "text/plain": [
       "False"
      ]
     },
     "execution_count": 315,
     "metadata": {},
     "output_type": "execute_result"
    }
   ],
   "source": [
    "check_ith_bit_on_or_off(44,7)"
   ]
  },
  {
   "cell_type": "code",
   "execution_count": 316,
   "id": "c02b544a",
   "metadata": {},
   "outputs": [
    {
     "data": {
      "text/plain": [
       "(False, True, True, 'check index entered negative or 0')"
      ]
     },
     "execution_count": 316,
     "metadata": {},
     "output_type": "execute_result"
    }
   ],
   "source": [
    "check_ith_bit_on_or_off(7,4),check_ith_bit_on_or_off(7,3),check_ith_bit_on_or_off(7,1),check_ith_bit_on_or_off(7,0)"
   ]
  },
  {
   "cell_type": "code",
   "execution_count": 317,
   "id": "419f730e",
   "metadata": {},
   "outputs": [
    {
     "data": {
      "text/plain": [
       "'111'"
      ]
     },
     "execution_count": 317,
     "metadata": {},
     "output_type": "execute_result"
    }
   ],
   "source": [
    "bin(7)[2:]"
   ]
  },
  {
   "cell_type": "code",
   "execution_count": null,
   "id": "40263729",
   "metadata": {},
   "outputs": [],
   "source": []
  },
  {
   "cell_type": "code",
   "execution_count": null,
   "id": "2e4c2447",
   "metadata": {},
   "outputs": [],
   "source": []
  },
  {
   "cell_type": "code",
   "execution_count": 318,
   "id": "916dd595",
   "metadata": {},
   "outputs": [
    {
     "data": {
      "text/plain": [
       "(16, 8, 2)"
      ]
     },
     "execution_count": 318,
     "metadata": {},
     "output_type": "execute_result"
    }
   ],
   "source": [
    "32>>1,32>>2,32>>4"
   ]
  },
  {
   "cell_type": "markdown",
   "id": "2ef4e77a",
   "metadata": {},
   "source": [
    "### Which of the following options output is 2 power k\n",
    "    \n",
    "    1 << k"
   ]
  },
  {
   "cell_type": "markdown",
   "id": "f9800a44",
   "metadata": {},
   "source": [
    "### check 422 , 5th bit on or off "
   ]
  },
  {
   "cell_type": "code",
   "execution_count": 319,
   "id": "20124728",
   "metadata": {},
   "outputs": [
    {
     "data": {
      "text/plain": [
       "422"
      ]
     },
     "execution_count": 319,
     "metadata": {},
     "output_type": "execute_result"
    }
   ],
   "source": [
    "BtoD(\"110100110\")"
   ]
  },
  {
   "cell_type": "code",
   "execution_count": null,
   "id": "5478a85c",
   "metadata": {},
   "outputs": [],
   "source": []
  },
  {
   "cell_type": "code",
   "execution_count": 320,
   "id": "e8a72749",
   "metadata": {},
   "outputs": [
    {
     "data": {
      "text/plain": [
       "32"
      ]
     },
     "execution_count": 320,
     "metadata": {},
     "output_type": "execute_result"
    }
   ],
   "source": [
    "422 & (1<<(6-1)) # 6th bit on or off"
   ]
  },
  {
   "cell_type": "code",
   "execution_count": 321,
   "id": "e38b045e",
   "metadata": {},
   "outputs": [
    {
     "data": {
      "text/plain": [
       "128"
      ]
     },
     "execution_count": 321,
     "metadata": {},
     "output_type": "execute_result"
    }
   ],
   "source": [
    "422 & (1<<(8-1)) # 8th bit on or off"
   ]
  },
  {
   "cell_type": "code",
   "execution_count": 322,
   "id": "339378e5",
   "metadata": {},
   "outputs": [
    {
     "data": {
      "text/plain": [
       "0"
      ]
     },
     "execution_count": 322,
     "metadata": {},
     "output_type": "execute_result"
    }
   ],
   "source": [
    "422 & (1<<(4-1)) # 4th bit on or off"
   ]
  },
  {
   "cell_type": "code",
   "execution_count": null,
   "id": "6e9e924a",
   "metadata": {},
   "outputs": [],
   "source": []
  },
  {
   "cell_type": "code",
   "execution_count": null,
   "id": "97ba3cdb",
   "metadata": {},
   "outputs": [],
   "source": []
  },
  {
   "cell_type": "markdown",
   "id": "b000b3bd",
   "metadata": {},
   "source": [
    "## count the number of set bits : "
   ]
  },
  {
   "cell_type": "code",
   "execution_count": 323,
   "id": "4fa1f9ef",
   "metadata": {},
   "outputs": [
    {
     "data": {
      "text/plain": [
       "5"
      ]
     },
     "execution_count": 323,
     "metadata": {},
     "output_type": "execute_result"
    }
   ],
   "source": [
    "N = 422\n",
    "\n",
    "def count_set_bits(N):\n",
    "    count = 0\n",
    "    k = 0\n",
    "    while True :\n",
    "        if N & (1<<(k)) != 0:\n",
    "            count += 1\n",
    "        k += 1\n",
    "        if N < (1<<k):\n",
    "            break\n",
    "    return count\n",
    "            \n",
    "count_set_bits(N)      "
   ]
  },
  {
   "cell_type": "code",
   "execution_count": 324,
   "id": "9dcba130",
   "metadata": {},
   "outputs": [
    {
     "data": {
      "text/plain": [
       "'110100110'"
      ]
     },
     "execution_count": 324,
     "metadata": {},
     "output_type": "execute_result"
    }
   ],
   "source": [
    "DtoB(422)"
   ]
  },
  {
   "cell_type": "code",
   "execution_count": 325,
   "id": "52dc7f88",
   "metadata": {},
   "outputs": [
    {
     "data": {
      "text/plain": [
       "5"
      ]
     },
     "execution_count": 325,
     "metadata": {},
     "output_type": "execute_result"
    }
   ],
   "source": [
    "N = 422\n",
    "\n",
    "def count_set_bits(N):\n",
    "    count = 0\n",
    "    \n",
    "    for k in range(int(math.log(N,2))+2):\n",
    "        \n",
    "        if N & (1<<(k)) != 0:\n",
    "            count += 1\n",
    "        \n",
    "    return count\n",
    "            \n",
    "count_set_bits(N)      "
   ]
  },
  {
   "cell_type": "code",
   "execution_count": 326,
   "id": "9f09f8b2",
   "metadata": {},
   "outputs": [
    {
     "data": {
      "text/plain": [
       "9"
      ]
     },
     "execution_count": 326,
     "metadata": {},
     "output_type": "execute_result"
    }
   ],
   "source": [
    "len(bin(N)[2:])"
   ]
  },
  {
   "cell_type": "code",
   "execution_count": 327,
   "id": "12beb82a",
   "metadata": {},
   "outputs": [
    {
     "data": {
      "text/plain": [
       "9"
      ]
     },
     "execution_count": 327,
     "metadata": {},
     "output_type": "execute_result"
    }
   ],
   "source": [
    "int(math.log(422,2))+1"
   ]
  },
  {
   "cell_type": "code",
   "execution_count": null,
   "id": "31fbadde",
   "metadata": {},
   "outputs": [],
   "source": []
  },
  {
   "cell_type": "code",
   "execution_count": 328,
   "id": "bee8361b",
   "metadata": {},
   "outputs": [
    {
     "name": "stdout",
     "output_type": "stream",
     "text": [
      "422  |  0  |  0\n",
      "211  |  1  |  1\n",
      "105  |  1  |  2\n",
      "52  |  0  |  2\n",
      "26  |  0  |  2\n",
      "13  |  1  |  3\n",
      "6  |  0  |  3\n",
      "3  |  1  |  4\n",
      "1  |  1  |  5\n"
     ]
    },
    {
     "data": {
      "text/plain": [
       "5"
      ]
     },
     "execution_count": 328,
     "metadata": {},
     "output_type": "execute_result"
    }
   ],
   "source": [
    "N = 422\n",
    "\n",
    "def count_set_bits(N):\n",
    "    count = 0\n",
    "    \n",
    "    while N > 0:\n",
    "        count += N&1\n",
    "        print(N, \" | \",N&1,\" | \" ,count )\n",
    "        N = N>>1\n",
    "        \n",
    "    return count\n",
    "count_set_bits(N)      "
   ]
  },
  {
   "cell_type": "code",
   "execution_count": null,
   "id": "6420a878",
   "metadata": {},
   "outputs": [],
   "source": []
  },
  {
   "cell_type": "code",
   "execution_count": null,
   "id": "ad48b2c4",
   "metadata": {},
   "outputs": [],
   "source": []
  },
  {
   "cell_type": "markdown",
   "id": "9d31e89e",
   "metadata": {},
   "source": [
    "## How negative numbers represented in binary  :"
   ]
  },
  {
   "cell_type": "markdown",
   "id": "17675660",
   "metadata": {},
   "source": [
    "    2's compliment : \n",
    "        1: find binary of magnitud\n",
    "        2: toggle all bits\n",
    "        3: add 1"
   ]
  },
  {
   "cell_type": "code",
   "execution_count": 329,
   "id": "8219a7f5",
   "metadata": {},
   "outputs": [
    {
     "data": {
      "text/plain": [
       "-40"
      ]
     },
     "execution_count": 329,
     "metadata": {},
     "output_type": "execute_result"
    }
   ],
   "source": [
    "-40"
   ]
  },
  {
   "cell_type": "code",
   "execution_count": 330,
   "id": "bac5644d",
   "metadata": {},
   "outputs": [
    {
     "data": {
      "text/plain": [
       "'101000'"
      ]
     },
     "execution_count": 330,
     "metadata": {},
     "output_type": "execute_result"
    }
   ],
   "source": [
    "bin(40)[2:]"
   ]
  },
  {
   "cell_type": "markdown",
   "id": "b58a88e2",
   "metadata": {},
   "source": [
    "            00101000    in 8 bit format : \n",
    "     ---------------------\n",
    "     toggle all bits now : \n",
    "            11010111\n",
    "      --------------------------------\n",
    "      add 1 \n",
    "      --------------------------------\n",
    "            11010111\n",
    "                   1\n",
    "                   \n",
    "                   1+1  = 10\n",
    "              ------------------ \n",
    "                111 \n",
    "            11010111\n",
    "            +      1\n",
    "            11011000\n",
    "            \n",
    "            \n",
    "\n"
   ]
  },
  {
   "cell_type": "code",
   "execution_count": 331,
   "id": "0f6e5634",
   "metadata": {},
   "outputs": [
    {
     "data": {
      "text/plain": [
       "(128, 88)"
      ]
     },
     "execution_count": 331,
     "metadata": {},
     "output_type": "execute_result"
    }
   ],
   "source": [
    "\n",
    "BtoD(\"10000000\"),BtoD(\"1011000\")"
   ]
  },
  {
   "cell_type": "code",
   "execution_count": 332,
   "id": "dcdcf34c",
   "metadata": {},
   "outputs": [
    {
     "data": {
      "text/plain": [
       "-40"
      ]
     },
     "execution_count": 332,
     "metadata": {},
     "output_type": "execute_result"
    }
   ],
   "source": [
    "-128 + 88 "
   ]
  },
  {
   "cell_type": "code",
   "execution_count": null,
   "id": "6b5e8082",
   "metadata": {},
   "outputs": [],
   "source": []
  },
  {
   "cell_type": "code",
   "execution_count": 333,
   "id": "15c02ea9",
   "metadata": {},
   "outputs": [],
   "source": [
    "# toggle all the bits"
   ]
  },
  {
   "cell_type": "code",
   "execution_count": 334,
   "id": "9c01ef11",
   "metadata": {},
   "outputs": [
    {
     "data": {
      "text/plain": [
       "40"
      ]
     },
     "execution_count": 334,
     "metadata": {},
     "output_type": "execute_result"
    }
   ],
   "source": [
    "40"
   ]
  },
  {
   "cell_type": "code",
   "execution_count": 335,
   "id": "7600dfa9",
   "metadata": {},
   "outputs": [
    {
     "data": {
      "text/plain": [
       "'101000'"
      ]
     },
     "execution_count": 335,
     "metadata": {},
     "output_type": "execute_result"
    }
   ],
   "source": [
    "bin(40^0)[2:]"
   ]
  },
  {
   "cell_type": "code",
   "execution_count": 336,
   "id": "147bd484",
   "metadata": {},
   "outputs": [
    {
     "data": {
      "text/plain": [
       "'101001'"
      ]
     },
     "execution_count": 336,
     "metadata": {},
     "output_type": "execute_result"
    }
   ],
   "source": [
    "bin(40^1)[2:]"
   ]
  },
  {
   "cell_type": "code",
   "execution_count": 337,
   "id": "c7882d3d",
   "metadata": {},
   "outputs": [
    {
     "data": {
      "text/plain": [
       "'101010'"
      ]
     },
     "execution_count": 337,
     "metadata": {},
     "output_type": "execute_result"
    }
   ],
   "source": [
    "bin(40^2)[2:]"
   ]
  },
  {
   "cell_type": "code",
   "execution_count": 338,
   "id": "2aefdad0",
   "metadata": {},
   "outputs": [
    {
     "data": {
      "text/plain": [
       "'101100'"
      ]
     },
     "execution_count": 338,
     "metadata": {},
     "output_type": "execute_result"
    }
   ],
   "source": [
    "bin(40^4)[2:]"
   ]
  },
  {
   "cell_type": "code",
   "execution_count": 339,
   "id": "42db9a88",
   "metadata": {},
   "outputs": [
    {
     "data": {
      "text/plain": [
       "'100000'"
      ]
     },
     "execution_count": 339,
     "metadata": {},
     "output_type": "execute_result"
    }
   ],
   "source": [
    "bin(40^8)[2:]"
   ]
  },
  {
   "cell_type": "code",
   "execution_count": 340,
   "id": "be5a12c8",
   "metadata": {},
   "outputs": [
    {
     "data": {
      "text/plain": [
       "'111000'"
      ]
     },
     "execution_count": 340,
     "metadata": {},
     "output_type": "execute_result"
    }
   ],
   "source": [
    "bin(40^16)[2:]"
   ]
  },
  {
   "cell_type": "code",
   "execution_count": 341,
   "id": "c37f7478",
   "metadata": {},
   "outputs": [
    {
     "data": {
      "text/plain": [
       "'1000'"
      ]
     },
     "execution_count": 341,
     "metadata": {},
     "output_type": "execute_result"
    }
   ],
   "source": [
    "bin(40^32)[2:]"
   ]
  },
  {
   "cell_type": "code",
   "execution_count": 342,
   "id": "52bfae62",
   "metadata": {},
   "outputs": [
    {
     "name": "stdout",
     "output_type": "stream",
     "text": [
      "1010\n",
      "101\n"
     ]
    }
   ],
   "source": [
    "\n",
    "# Python3 program to toggle set\n",
    "# bits starting from MSB\n",
    "from math import log\n",
    " \n",
    "# Returns a number which has all set bits\n",
    "# starting from MSB of n\n",
    "def toggle(num):\n",
    " \n",
    "    # the number of bits is equal to log2num + 1\n",
    "    n = int(log(num, 2)) + 1\n",
    " \n",
    "    # calculating mask\n",
    "    mask = pow(2, n) - 1\n",
    " \n",
    "    # toggling bits using xor with mask\n",
    "    return num ^ mask\n",
    " \n",
    "# Driver code\n",
    "num = 10\n",
    "print(bin(num)[2:])\n",
    "print(bin(toggle(num))[2:])\n"
   ]
  },
  {
   "cell_type": "code",
   "execution_count": null,
   "id": "c9020213",
   "metadata": {},
   "outputs": [],
   "source": []
  },
  {
   "cell_type": "markdown",
   "id": "c4a85a0a",
   "metadata": {},
   "source": [
    "### -1 in binary : "
   ]
  },
  {
   "cell_type": "markdown",
   "id": "3dac607e",
   "metadata": {},
   "source": [
    "    -1 : \n",
    "    \n",
    "    00000001\n",
    "    \n",
    "    toggleL:\n",
    "    11111110\n",
    "          +1\n",
    "          \n",
    "           1\n",
    "    \n",
    "    \n",
    "    "
   ]
  },
  {
   "cell_type": "code",
   "execution_count": 343,
   "id": "05ac2dca",
   "metadata": {},
   "outputs": [
    {
     "data": {
      "text/plain": [
       "127"
      ]
     },
     "execution_count": 343,
     "metadata": {},
     "output_type": "execute_result"
    }
   ],
   "source": [
    "BtoD(\"1111111\")"
   ]
  },
  {
   "cell_type": "code",
   "execution_count": 344,
   "id": "d31aa1ee",
   "metadata": {},
   "outputs": [
    {
     "data": {
      "text/plain": [
       "128"
      ]
     },
     "execution_count": 344,
     "metadata": {},
     "output_type": "execute_result"
    }
   ],
   "source": [
    "BtoD(\"10000000\")"
   ]
  },
  {
   "cell_type": "code",
   "execution_count": 345,
   "id": "2c3c5602",
   "metadata": {},
   "outputs": [
    {
     "data": {
      "text/plain": [
       "-1"
      ]
     },
     "execution_count": 345,
     "metadata": {},
     "output_type": "execute_result"
    }
   ],
   "source": [
    "127-128"
   ]
  },
  {
   "cell_type": "code",
   "execution_count": 346,
   "id": "a6261f53",
   "metadata": {},
   "outputs": [
    {
     "data": {
      "text/plain": [
       "-1"
      ]
     },
     "execution_count": 346,
     "metadata": {},
     "output_type": "execute_result"
    }
   ],
   "source": [
    "# 1   1  1  1 1 1 1 1\n",
    "-128+64+32+16+8+4+2+1"
   ]
  },
  {
   "cell_type": "code",
   "execution_count": null,
   "id": "ebef2639",
   "metadata": {},
   "outputs": [],
   "source": []
  },
  {
   "cell_type": "markdown",
   "id": "23e1fdbe",
   "metadata": {},
   "source": [
    "# Modular Arithmatic : "
   ]
  },
  {
   "cell_type": "code",
   "execution_count": 347,
   "id": "fc63331b",
   "metadata": {},
   "outputs": [
    {
     "data": {
      "text/plain": [
       "2"
      ]
     },
     "execution_count": 347,
     "metadata": {},
     "output_type": "execute_result"
    }
   ],
   "source": [
    "100%7"
   ]
  },
  {
   "cell_type": "code",
   "execution_count": 348,
   "id": "687a830d",
   "metadata": {},
   "outputs": [
    {
     "data": {
      "text/plain": [
       "14.0"
      ]
     },
     "execution_count": 348,
     "metadata": {},
     "output_type": "execute_result"
    }
   ],
   "source": [
    "(100-2)/7"
   ]
  },
  {
   "cell_type": "code",
   "execution_count": 349,
   "id": "168980d1",
   "metadata": {},
   "outputs": [
    {
     "data": {
      "text/plain": [
       "True"
      ]
     },
     "execution_count": 349,
     "metadata": {},
     "output_type": "execute_result"
    }
   ],
   "source": [
    "100 == (14*7)+2"
   ]
  },
  {
   "cell_type": "code",
   "execution_count": 350,
   "id": "4be7d0c6",
   "metadata": {},
   "outputs": [
    {
     "data": {
      "text/plain": [
       "7"
      ]
     },
     "execution_count": 350,
     "metadata": {},
     "output_type": "execute_result"
    }
   ],
   "source": [
    "150%11"
   ]
  },
  {
   "cell_type": "code",
   "execution_count": null,
   "id": "0259c84b",
   "metadata": {},
   "outputs": [],
   "source": []
  },
  {
   "cell_type": "code",
   "execution_count": null,
   "id": "92cd805f",
   "metadata": {},
   "outputs": [],
   "source": []
  },
  {
   "cell_type": "code",
   "execution_count": 351,
   "id": "6b3b0496",
   "metadata": {},
   "outputs": [
    {
     "data": {
      "text/plain": [
       "True"
      ]
     },
     "execution_count": 351,
     "metadata": {},
     "output_type": "execute_result"
    }
   ],
   "source": [
    "150==(11*13)+7"
   ]
  },
  {
   "cell_type": "code",
   "execution_count": null,
   "id": "b86ba065",
   "metadata": {},
   "outputs": [],
   "source": []
  },
  {
   "cell_type": "code",
   "execution_count": null,
   "id": "27eebfad",
   "metadata": {},
   "outputs": [],
   "source": []
  },
  {
   "cell_type": "markdown",
   "id": "5aa61aa8",
   "metadata": {},
   "source": [
    "    (a+b)%k = ((a%k)+(b%k))%k\n",
    "    \n",
    "    (a*b)%k = ((a%k)*(b%k))%k"
   ]
  },
  {
   "cell_type": "markdown",
   "id": "ca31df3d",
   "metadata": {},
   "source": [
    "    (a^b)% M\n",
    "    \n",
    "    \n",
    "    \n",
    "    "
   ]
  },
  {
   "cell_type": "code",
   "execution_count": 352,
   "id": "e17f376e",
   "metadata": {},
   "outputs": [],
   "source": [
    "a = 5\n",
    "b = 100000\n",
    "M = 97\n"
   ]
  },
  {
   "cell_type": "code",
   "execution_count": 353,
   "id": "99c74441",
   "metadata": {},
   "outputs": [
    {
     "data": {
      "text/plain": [
       "61"
      ]
     },
     "execution_count": 353,
     "metadata": {},
     "output_type": "execute_result"
    }
   ],
   "source": [
    "ans = 1\n",
    "for i in range(b):\n",
    "    ans = ((ans % M)*(a % M)) % M\n",
    "ans"
   ]
  },
  {
   "cell_type": "code",
   "execution_count": 354,
   "id": "5904a454",
   "metadata": {},
   "outputs": [
    {
     "data": {
      "text/plain": [
       "61"
      ]
     },
     "execution_count": 354,
     "metadata": {},
     "output_type": "execute_result"
    }
   ],
   "source": [
    "(a**b)%M"
   ]
  },
  {
   "cell_type": "code",
   "execution_count": null,
   "id": "8a1e5197",
   "metadata": {},
   "outputs": [],
   "source": []
  },
  {
   "cell_type": "markdown",
   "id": "cc647ba8",
   "metadata": {},
   "source": [
    "     (a^b)%M = ((a%M)*(a^b-1%M))%M"
   ]
  },
  {
   "cell_type": "code",
   "execution_count": null,
   "id": "3634eb79",
   "metadata": {},
   "outputs": [],
   "source": []
  },
  {
   "cell_type": "markdown",
   "id": "d296cd83",
   "metadata": {},
   "source": [
    "###  Excel Column Number\n",
    "\n",
    "### Given a column title as appears in an Excel sheet, return its corresponding column number.\n",
    "\n",
    "    Problem Constraints\n",
    "    1 <= length of the column title <= 5\n",
    "\n",
    "    Input Format\n",
    "    The only argument is a string that represents the column title in the excel sheet.\n",
    "\n",
    "    Output Format\n",
    "    Return a single integer that represents the corresponding column number.\n",
    "\n",
    "    Example Input\n",
    "    Input 1:\n",
    "     AB\n",
    "    Input 2:\n",
    "     BB\n",
    "\n",
    "    Example Output\n",
    "    Output 1:\n",
    "     28\n",
    "    Output 2:\n",
    "     54\n",
    "\n",
    "    Example Explanation\n",
    "    Explanation 1:\n",
    "\n",
    "     A -> 1\n",
    "     B -> 2\n",
    "     C -> 3\n",
    "     ...\n",
    "     Z -> 26\n",
    "     AA -> 27\n",
    "     AB -> 28\n",
    "    Explanation 2:\n",
    "\n",
    "     A -> 1\n",
    "     B -> 2\n",
    "     C -> 3\n",
    "     ...\n",
    "     Z -> 26\n",
    "     AA -> 27\n",
    "     AB -> 28\n",
    "     ...\n",
    "     AZ -> 52\n",
    "     BA -> 53\n",
    "     BB -> 54\n"
   ]
  },
  {
   "cell_type": "code",
   "execution_count": 355,
   "id": "b0e34352",
   "metadata": {},
   "outputs": [],
   "source": [
    "def titleTONumber(A):\n",
    "    ans = 0\n",
    "    for i in range(len(A)):\n",
    "        ans *= 26\n",
    "        ans += ord(A[i]) - ord(\"A\") + 1\n",
    "        print(ans)\n",
    "    return ans"
   ]
  },
  {
   "cell_type": "code",
   "execution_count": 360,
   "id": "820bebbd",
   "metadata": {},
   "outputs": [
    {
     "name": "stdout",
     "output_type": "stream",
     "text": [
      "2\n",
      "56\n"
     ]
    },
    {
     "data": {
      "text/plain": [
       "56"
      ]
     },
     "execution_count": 360,
     "metadata": {},
     "output_type": "execute_result"
    }
   ],
   "source": [
    "titleTONumber(\"BD\")"
   ]
  },
  {
   "cell_type": "code",
   "execution_count": null,
   "id": "c9289581",
   "metadata": {},
   "outputs": [],
   "source": []
  },
  {
   "cell_type": "markdown",
   "id": "a1a484a2",
   "metadata": {},
   "source": [
    " ### A, B and Modulo\n",
    " \n",
    " ### Given two integers A and B, find the greatest possible positive integer M,\n",
    " ### such that A % M = B % M.\n",
    "\n"
   ]
  },
  {
   "cell_type": "markdown",
   "id": "787c362e",
   "metadata": {},
   "source": [
    "       there possibilities \n",
    "       A > B\n",
    "       B < A\n",
    "       A = B\n",
    "       \n",
    "       LETS TAKE ONE : \n",
    "       A > B : \n",
    "           \n",
    "               B = B\n",
    "               B = A-(A-B)\n",
    "               B%(A-B) = (A-(A-B))%(A-B)\n",
    "               B%(A-B) = ( (A%(A-B)) - ((A-B)%(A-B)) )%(A-B)\n",
    "               B%(A-B) = (A%(A-B))%(A-B) \n",
    "               B%(A-B) = A%(A-B)\n",
    "               \n",
    "               so ! \n",
    "               M = A-B\n",
    "       \n",
    "      \n",
    "       "
   ]
  },
  {
   "cell_type": "code",
   "execution_count": 362,
   "id": "6137bbfd",
   "metadata": {},
   "outputs": [],
   "source": [
    "def AandBModulo(A, B):\n",
    "    return abs(A-B)"
   ]
  },
  {
   "cell_type": "code",
   "execution_count": null,
   "id": "83bfcbf1",
   "metadata": {},
   "outputs": [],
   "source": []
  },
  {
   "cell_type": "markdown",
   "id": "d43d276b",
   "metadata": {},
   "source": [
    "### Leap year? - III\n",
    "\n",
    "### Given an integer A representing a year, Return 1 if it is a leap year else, return 0. A year is a leap year if the following conditions are satisfied: The year is multiple of 400. Else the year is multiple of 4 and not multiple of 100.\n",
    "\n",
    "    Input 1\n",
    "\n",
    "     A = 2020\n",
    "    Input 2:\n",
    "\n",
    "     A = 1999\n",
    "\n",
    "\n",
    "    Example Output\n",
    "    Output 1\n",
    "\n",
    "     1\n",
    "    Output 2:\n",
    "\n",
    "     0\n",
    "\n",
    "\n",
    "    Example Explanation\n",
    "    Explanation 1\n",
    "\n",
    "     2020 is a leap year.\n",
    "    Explanation 2:\n",
    "\n",
    "     1999 is not a leap year.\n",
    "\n"
   ]
  },
  {
   "cell_type": "code",
   "execution_count": 367,
   "id": "d8ecbcb1",
   "metadata": {},
   "outputs": [],
   "source": [
    "def leapYear(year):\n",
    "    if year % 400 == 0:\n",
    "        return \"LearYear\"\n",
    "    elif year % 4 ==0 and year % 100 != 0:\n",
    "        return \"LeapYear\"\n",
    "    return \"Not a LeapYear\""
   ]
  },
  {
   "cell_type": "code",
   "execution_count": 368,
   "id": "1a4ba7d8",
   "metadata": {},
   "outputs": [
    {
     "data": {
      "text/plain": [
       "'LeapYear'"
      ]
     },
     "execution_count": 368,
     "metadata": {},
     "output_type": "execute_result"
    }
   ],
   "source": [
    "leapYear(2020)"
   ]
  },
  {
   "cell_type": "code",
   "execution_count": 369,
   "id": "e8c0cdcb",
   "metadata": {},
   "outputs": [
    {
     "data": {
      "text/plain": [
       "'Not a LeapYear'"
      ]
     },
     "execution_count": 369,
     "metadata": {},
     "output_type": "execute_result"
    }
   ],
   "source": [
    "leapYear(1991)"
   ]
  },
  {
   "cell_type": "code",
   "execution_count": null,
   "id": "ce11fd5c",
   "metadata": {},
   "outputs": [],
   "source": []
  },
  {
   "cell_type": "markdown",
   "id": "1bf8ee38",
   "metadata": {},
   "source": [
    "## LCM "
   ]
  },
  {
   "cell_type": "code",
   "execution_count": 375,
   "id": "f7234c85",
   "metadata": {},
   "outputs": [
    {
     "name": "stdout",
     "output_type": "stream",
     "text": [
      "36.0\n"
     ]
    }
   ],
   "source": [
    "A = 18\n",
    "B = 12\n",
    "G = 1\n",
    "for i in range(1,min(A,B)+1):\n",
    "    if A % i == 0 and B % i == 0:\n",
    "        G = i\n",
    "    L = (A*B)/G\n",
    "print(L)\n",
    "        "
   ]
  },
  {
   "cell_type": "code",
   "execution_count": 376,
   "id": "193c2b01",
   "metadata": {},
   "outputs": [
    {
     "data": {
      "text/plain": [
       "36.0"
      ]
     },
     "execution_count": 376,
     "metadata": {},
     "output_type": "execute_result"
    }
   ],
   "source": [
    "(18*12)/6"
   ]
  },
  {
   "cell_type": "code",
   "execution_count": null,
   "id": "26121c25",
   "metadata": {},
   "outputs": [],
   "source": [
    "a"
   ]
  },
  {
   "cell_type": "code",
   "execution_count": null,
   "id": "e117a889",
   "metadata": {},
   "outputs": [],
   "source": []
  },
  {
   "cell_type": "code",
   "execution_count": null,
   "id": "8ee56e06",
   "metadata": {},
   "outputs": [],
   "source": []
  },
  {
   "cell_type": "code",
   "execution_count": null,
   "id": "79b1b9ec",
   "metadata": {},
   "outputs": [],
   "source": []
  },
  {
   "cell_type": "code",
   "execution_count": null,
   "id": "f1dd3959",
   "metadata": {},
   "outputs": [],
   "source": []
  },
  {
   "cell_type": "code",
   "execution_count": null,
   "id": "38384476",
   "metadata": {},
   "outputs": [],
   "source": []
  },
  {
   "cell_type": "code",
   "execution_count": null,
   "id": "148fe5a5",
   "metadata": {},
   "outputs": [],
   "source": []
  },
  {
   "cell_type": "code",
   "execution_count": null,
   "id": "9346637d",
   "metadata": {},
   "outputs": [],
   "source": []
  },
  {
   "cell_type": "code",
   "execution_count": null,
   "id": "11099722",
   "metadata": {},
   "outputs": [],
   "source": []
  },
  {
   "cell_type": "code",
   "execution_count": null,
   "id": "5c867123",
   "metadata": {},
   "outputs": [],
   "source": []
  },
  {
   "cell_type": "code",
   "execution_count": null,
   "id": "c419e0f6",
   "metadata": {},
   "outputs": [],
   "source": []
  },
  {
   "cell_type": "code",
   "execution_count": null,
   "id": "64336f38",
   "metadata": {},
   "outputs": [],
   "source": []
  },
  {
   "cell_type": "code",
   "execution_count": null,
   "id": "36176bb3",
   "metadata": {},
   "outputs": [],
   "source": []
  },
  {
   "cell_type": "code",
   "execution_count": null,
   "id": "1bb79523",
   "metadata": {},
   "outputs": [],
   "source": []
  },
  {
   "cell_type": "code",
   "execution_count": null,
   "id": "bb10dda6",
   "metadata": {},
   "outputs": [],
   "source": []
  },
  {
   "cell_type": "code",
   "execution_count": null,
   "id": "8afb9858",
   "metadata": {},
   "outputs": [],
   "source": []
  },
  {
   "cell_type": "code",
   "execution_count": null,
   "id": "e5c69b26",
   "metadata": {},
   "outputs": [],
   "source": []
  },
  {
   "cell_type": "code",
   "execution_count": null,
   "id": "0ef4c06b",
   "metadata": {},
   "outputs": [],
   "source": []
  }
 ],
 "metadata": {
  "kernelspec": {
   "display_name": "Python 3 (ipykernel)",
   "language": "python",
   "name": "python3"
  },
  "language_info": {
   "codemirror_mode": {
    "name": "ipython",
    "version": 3
   },
   "file_extension": ".py",
   "mimetype": "text/x-python",
   "name": "python",
   "nbconvert_exporter": "python",
   "pygments_lexer": "ipython3",
   "version": "3.9.7"
  }
 },
 "nbformat": 4,
 "nbformat_minor": 5
}
