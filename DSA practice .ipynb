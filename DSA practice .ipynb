{
 "cells": [
  {
   "cell_type": "markdown",
   "id": "c8318e2d",
   "metadata": {},
   "source": [
    "#### Given a number N>=1, when can we say it is a prime number ?\n",
    "\n",
    "    When no of factors are == 2\n",
    "    \n",
    "    \n",
    "    \n",
    "    Number 1 neither prime not composit \n",
    "    2 is prime \n",
    "    3 is prime \n",
    "    4 is composite. ... \n",
    "    "
   ]
  },
  {
   "cell_type": "markdown",
   "id": "de91c578",
   "metadata": {},
   "source": [
    "## if prime ? "
   ]
  },
  {
   "cell_type": "code",
   "execution_count": 17,
   "id": "4f4ea9af",
   "metadata": {},
   "outputs": [
    {
     "data": {
      "text/plain": [
       "'1 is neither prime nor composite'"
      ]
     },
     "execution_count": 17,
     "metadata": {},
     "output_type": "execute_result"
    }
   ],
   "source": [
    "N = 1\n",
    "def isprime(N):\n",
    "    if N == 1:\n",
    "        return \"1 is neither prime nor composite\"\n",
    "    f = 0\n",
    "    for i in range(1,N+1):\n",
    "        if N%i == 0:\n",
    "            f += 1\n",
    "    return f  == 2\n",
    "    \n",
    "isprime(1)"
   ]
  },
  {
   "cell_type": "code",
   "execution_count": 19,
   "id": "49c93a65",
   "metadata": {},
   "outputs": [
    {
     "data": {
      "text/plain": [
       "False"
      ]
     },
     "execution_count": 19,
     "metadata": {},
     "output_type": "execute_result"
    }
   ],
   "source": [
    "isprime(4)"
   ]
  },
  {
   "cell_type": "code",
   "execution_count": 20,
   "id": "ad9ec9a2",
   "metadata": {},
   "outputs": [
    {
     "data": {
      "text/plain": [
       "True"
      ]
     },
     "execution_count": 20,
     "metadata": {},
     "output_type": "execute_result"
    }
   ],
   "source": [
    "isprime(3)"
   ]
  },
  {
   "cell_type": "code",
   "execution_count": null,
   "id": "3efbf10c",
   "metadata": {},
   "outputs": [],
   "source": []
  },
  {
   "cell_type": "code",
   "execution_count": 30,
   "id": "23927927",
   "metadata": {},
   "outputs": [
    {
     "data": {
      "text/plain": [
       "True"
      ]
     },
     "execution_count": 30,
     "metadata": {},
     "output_type": "execute_result"
    }
   ],
   "source": [
    "N = 1\n",
    "def isprime(N):\n",
    "    if N == 1:\n",
    "        return \"1 is neither prime nor composite\"\n",
    "    for i in range(2,N):\n",
    "        if N%i == 0:\n",
    "            return False\n",
    "    return True\n",
    "    \n",
    "    \n",
    "isprime(97)"
   ]
  },
  {
   "cell_type": "code",
   "execution_count": null,
   "id": "01c33e98",
   "metadata": {},
   "outputs": [],
   "source": []
  },
  {
   "cell_type": "markdown",
   "id": "3c4f5bfd",
   "metadata": {},
   "source": [
    "    approximately a computer can handle 10^8 iterations in 1 seconds .\n",
    "    \n",
    "    if we want to find if ( 10^9 + 7 ) a prime number ,\n",
    "    this will take 10 seconds approximately with O(n) algorithm \n",
    "    \n",
    "    if we want to find if ( 10^18) a prime number ,\n",
    "    above algorithm O(n) will take 10 billion seconds =~ 317 years .\n",
    "    \n",
    "    \n",
    "    so we need to optimize the time taken to run : "
   ]
  },
  {
   "cell_type": "markdown",
   "id": "03068840",
   "metadata": {},
   "source": [
    "    N = 60\n",
    "\n",
    "    factors of 60 \n",
    "    -------------\n",
    "    1  * 60     i < N\n",
    "    2  * 30\n",
    "    3  * 20\n",
    "    4  * 15\n",
    "    5  * 12\n",
    "    6  * 10\n",
    "    --------factors are repeting after this point (factos appear in pairs) \n",
    "    10 * 6      i > N/i\n",
    "    12 * 5\n",
    "    15 * 4\n",
    "    20 * 3\n",
    "    30 * 2\n",
    "    60 * 1      \n",
    "    -------------"
   ]
  },
  {
   "cell_type": "markdown",
   "id": "5a7c18f3",
   "metadata": {},
   "source": [
    "    24:\n",
    "    \n",
    "    1    24     a < b\n",
    "    2    12\n",
    "    3    8\n",
    "    4    6\n",
    "    -------------\n",
    "    6    4      a > b\n",
    "    8    3\n",
    "    12   2\n",
    "    24   1\n",
    "    \n",
    "    \n",
    "    a > b\n",
    "    a*b = N\n",
    "    a = N/b\n",
    "    \n",
    "    a > b\n",
    "    N/b > b \n",
    "    N > b**2\n",
    "    \n",
    "    sq(N) > b\n",
    "    \n",
    "    "
   ]
  },
  {
   "cell_type": "markdown",
   "id": "7c15be1b",
   "metadata": {},
   "source": [
    "    instead of looping from 1 to N\n",
    "    we can only loop till square root of N as after that we wont find any new factors."
   ]
  },
  {
   "cell_type": "code",
   "execution_count": 33,
   "id": "ad3be2fb",
   "metadata": {},
   "outputs": [],
   "source": [
    "import math"
   ]
  },
  {
   "cell_type": "code",
   "execution_count": null,
   "id": "95044b9d",
   "metadata": {},
   "outputs": [],
   "source": []
  },
  {
   "cell_type": "code",
   "execution_count": 41,
   "id": "d9cf1a63",
   "metadata": {},
   "outputs": [
    {
     "data": {
      "text/plain": [
       "(True, False, True)"
      ]
     },
     "execution_count": 41,
     "metadata": {},
     "output_type": "execute_result"
    }
   ],
   "source": [
    "N = 1\n",
    "\n",
    "def isprime(N):\n",
    "    if N == 1:\n",
    "        return \"1 is neither prime nor composite\"\n",
    "    factor_count = 0\n",
    "    for i in range(1,(int(math.sqrt(N))+1)):\n",
    "        if N%i == 0:\n",
    "            factor_count += 2\n",
    "    return factor_count == 2\n",
    "    \n",
    "    \n",
    "isprime(97),isprime(98),isprime(13)"
   ]
  },
  {
   "cell_type": "markdown",
   "id": "044e8375",
   "metadata": {},
   "source": [
    "    # from above code, we will be able to calculate if 10**18 is prime or not in just 10 seconds "
   ]
  },
  {
   "cell_type": "markdown",
   "id": "ac4864b5",
   "metadata": {},
   "source": [
    "    (math.sqrt(10**18))/10**8 = 10"
   ]
  },
  {
   "cell_type": "code",
   "execution_count": null,
   "id": "9d59a769",
   "metadata": {},
   "outputs": [],
   "source": []
  },
  {
   "cell_type": "code",
   "execution_count": null,
   "id": "8655f22f",
   "metadata": {},
   "outputs": [],
   "source": []
  },
  {
   "cell_type": "code",
   "execution_count": null,
   "id": "b64fbd3f",
   "metadata": {},
   "outputs": [],
   "source": [
    "# if we dont want to use math library or pythonic way (N)**0.5:"
   ]
  },
  {
   "cell_type": "markdown",
   "id": "8090ef42",
   "metadata": {},
   "source": [
    "    i < sqrt(N) +1 \n",
    "    i^2 < (sqrt(N)+1)^2\n",
    "    i^2 < N+1"
   ]
  },
  {
   "cell_type": "code",
   "execution_count": 49,
   "id": "4d64bb6b",
   "metadata": {},
   "outputs": [
    {
     "data": {
      "text/plain": [
       "(True, False, True, True)"
      ]
     },
     "execution_count": 49,
     "metadata": {},
     "output_type": "execute_result"
    }
   ],
   "source": [
    "N = 1\n",
    "def isprime(N):\n",
    "    \n",
    "    i = 1\n",
    "    factor_count = 0\n",
    "    \n",
    "    while i*i <= N:\n",
    "        \n",
    "        if N%i == 0:\n",
    "            factor_count += 2\n",
    "        i += 1\n",
    "        \n",
    "    return factor_count == 2\n",
    "    \n",
    "    \n",
    "isprime(97),isprime(98),isprime(13),isprime(3)"
   ]
  },
  {
   "cell_type": "code",
   "execution_count": null,
   "id": "59ca08bb",
   "metadata": {},
   "outputs": [],
   "source": []
  },
  {
   "cell_type": "code",
   "execution_count": null,
   "id": "e771e660",
   "metadata": {},
   "outputs": [],
   "source": []
  },
  {
   "cell_type": "code",
   "execution_count": 53,
   "id": "71f1ed4f",
   "metadata": {},
   "outputs": [
    {
     "data": {
      "text/plain": [
       "(True, False, True, True, False, False)"
      ]
     },
     "execution_count": 53,
     "metadata": {},
     "output_type": "execute_result"
    }
   ],
   "source": [
    "N = 1\n",
    "def isprime(N):\n",
    "    \n",
    "    i = 2\n",
    "    \n",
    "    while i*i <= N:\n",
    "        \n",
    "        if N%i == 0:\n",
    "            return False\n",
    "        i += 1\n",
    "        \n",
    "    return True\n",
    "    \n",
    "    \n",
    "isprime(97),isprime(98),isprime(13),isprime(3),isprime(4),isprime(25)"
   ]
  },
  {
   "cell_type": "code",
   "execution_count": null,
   "id": "7a77628f",
   "metadata": {},
   "outputs": [],
   "source": []
  },
  {
   "cell_type": "code",
   "execution_count": null,
   "id": "c0fb2e7c",
   "metadata": {},
   "outputs": [],
   "source": []
  },
  {
   "cell_type": "markdown",
   "id": "bd2b6c19",
   "metadata": {},
   "source": [
    "## given a number N find floor largest number  <= sqrt(N)\n",
    "## ignore the factorial part (round down)\n",
    "    \n",
    "        sqrt(49) = 7\n",
    "        sqrt(24) = 4\n",
    "        sqrt(25) = 5\n",
    "        sqrt(26) = 5"
   ]
  },
  {
   "cell_type": "code",
   "execution_count": null,
   "id": "345384d2",
   "metadata": {},
   "outputs": [],
   "source": [
    "# O(sqrt(N))"
   ]
  },
  {
   "cell_type": "code",
   "execution_count": 157,
   "id": "2309b0e7",
   "metadata": {},
   "outputs": [
    {
     "data": {
      "text/plain": [
       "(5, 5, 4)"
      ]
     },
     "execution_count": 157,
     "metadata": {},
     "output_type": "execute_result"
    }
   ],
   "source": [
    "def returnPerfectSQ_o_sq(N):\n",
    "    i = 1\n",
    "    while i*i <= N:\n",
    "        i += 1\n",
    "    return i-1\n",
    "        \n",
    "returnPerfectSQ_o_sq(25),returnPerfectSQ_o_sq(26),returnPerfectSQ_o_sq(23)"
   ]
  },
  {
   "cell_type": "code",
   "execution_count": null,
   "id": "19e087b3",
   "metadata": {},
   "outputs": [],
   "source": [
    "## using binary search (O(log(n)))"
   ]
  },
  {
   "cell_type": "code",
   "execution_count": 152,
   "id": "4cdead8e",
   "metadata": {},
   "outputs": [],
   "source": [
    "def returnPerfectSQ(N):\n",
    "    high = N\n",
    "    low = 1\n",
    "    \n",
    "    \n",
    "    while low <= high:  \n",
    "        mid = ( high + low ) // 2 \n",
    "        \n",
    "        \n",
    "        if mid * mid > N:\n",
    "            high = mid - 1\n",
    "            \n",
    "            \n",
    "        elif mid * mid < N:\n",
    "            low = mid + 1\n",
    "        \n",
    "        else:\n",
    "            return mid\n",
    "            \n",
    "        \n",
    "    return high\n",
    "            "
   ]
  },
  {
   "cell_type": "code",
   "execution_count": 155,
   "id": "8ba8a8e7",
   "metadata": {},
   "outputs": [
    {
     "data": {
      "text/plain": [
       "(5, 5, 4)"
      ]
     },
     "execution_count": 155,
     "metadata": {},
     "output_type": "execute_result"
    }
   ],
   "source": [
    "returnPerfectSQ(26),returnPerfectSQ(25),returnPerfectSQ(24)"
   ]
  },
  {
   "cell_type": "code",
   "execution_count": null,
   "id": "34ef030e",
   "metadata": {},
   "outputs": [],
   "source": []
  },
  {
   "cell_type": "code",
   "execution_count": 160,
   "id": "9c2d5955",
   "metadata": {},
   "outputs": [
    {
     "data": {
      "text/plain": [
       "1000000000"
      ]
     },
     "execution_count": 160,
     "metadata": {},
     "output_type": "execute_result"
    }
   ],
   "source": [
    "returnPerfectSQ(10**18) # takes 0.6 micro seconds "
   ]
  },
  {
   "cell_type": "code",
   "execution_count": null,
   "id": "9ca52437",
   "metadata": {},
   "outputs": [],
   "source": []
  },
  {
   "cell_type": "markdown",
   "id": "750bed4c",
   "metadata": {},
   "source": [
    "### Square root of a number\n",
    "\n",
    "#### Given a number A. Return square root of the number if it is perfect square otherwise return -1.\n",
    "\n",
    "\n",
    "\n",
    "    Problem Constraints\n",
    "\n",
    "    1 <= A <= 108\n",
    "\n",
    "\n",
    "\n",
    "    Input Format\n",
    "\n",
    "    First argument is an integer A.\n",
    "\n",
    "\n",
    "\n",
    "    Output Format\n",
    "\n",
    "    Return an integer which is the square root of A if A is perfect square otherwise return -1.\n",
    "\n",
    "\n",
    "\n",
    "    Example Input\n",
    "\n",
    "    Input 1:\n",
    "\n",
    "    A = 4\n",
    "    Input 2:\n",
    "\n",
    "    A = 1001\n",
    "\n",
    "\n",
    "    Example Output\n",
    "\n",
    "    Output 1:\n",
    "\n",
    "    2\n",
    "    Output 2:\n",
    "\n",
    "    -1\n",
    "\n",
    "\n",
    "    Example Explanation\n",
    "\n",
    "    Explanation 1:\n",
    "\n",
    "    sqrt(4) = 2\n",
    "    Explanation 2:\n",
    "\n",
    "    1001 is not a perfect square."
   ]
  },
  {
   "cell_type": "code",
   "execution_count": 218,
   "id": "f3830829",
   "metadata": {},
   "outputs": [],
   "source": [
    "def perfect_(A):\n",
    "\n",
    "    def perfect_square(n):\n",
    "\n",
    "        low = 1\n",
    "        high = n\n",
    "\n",
    "        while low <= high: \n",
    "            mid = (low + high)//2\n",
    "            if mid * mid > n:\n",
    "                high = mid - 1 \n",
    "\n",
    "            elif mid * mid < n:\n",
    "                low = mid + 1\n",
    "            else:\n",
    "                return mid\n",
    "        return None\n",
    "\n",
    "    def sqrt_num_if_perfect_sq(n):\n",
    "        if perfect_square(n) != None:\n",
    "            return perfect_square(n) \n",
    "        return -1\n",
    "\n",
    "    return sqrt_num_if_perfect_sq(A)      "
   ]
  },
  {
   "cell_type": "code",
   "execution_count": 224,
   "id": "ab255a63",
   "metadata": {},
   "outputs": [
    {
     "data": {
      "text/plain": [
       "-1"
      ]
     },
     "execution_count": 224,
     "metadata": {},
     "output_type": "execute_result"
    }
   ],
   "source": [
    "perfect_(37)"
   ]
  },
  {
   "cell_type": "code",
   "execution_count": 223,
   "id": "804ef8c7",
   "metadata": {},
   "outputs": [
    {
     "data": {
      "text/plain": [
       "6"
      ]
     },
     "execution_count": 223,
     "metadata": {},
     "output_type": "execute_result"
    }
   ],
   "source": [
    "perfect_(36)"
   ]
  },
  {
   "cell_type": "code",
   "execution_count": null,
   "id": "95d4f1fe",
   "metadata": {},
   "outputs": [],
   "source": []
  },
  {
   "cell_type": "markdown",
   "id": "f4e710d8",
   "metadata": {},
   "source": [
    " ### Is It Perfect?\n",
    "\n",
    "#### You are given N positive integers. For each given integer A, you have to tell whether it is a perfect number or not. A perfect number is a positive integer which is equal to the sum of its proper positive divisors.\n",
    "\n",
    "\n",
    "\n",
    "    Problem Constraints\n",
    "\n",
    "    1 <= N <= 10\n",
    "\n",
    "    1 <= A <= 106\n",
    "\n",
    "\n",
    "\n",
    "    Input Format\n",
    "\n",
    "    The first line of the input contains a single integer N.\n",
    "\n",
    "    Each of the next N lines contains a single integer A.\n",
    "\n",
    "\n",
    "\n",
    "    Output Format\n",
    "\n",
    "    In a separate line, print YES if a given integer is perfect, else print NO.\n",
    "\n",
    "\n",
    "\n",
    "    Example Input\n",
    "\n",
    "    Input 1:\n",
    "\n",
    "     2\n",
    "     4\n",
    "     6 \n",
    "    Input 2:\n",
    "\n",
    "     1\n",
    "     3 \n",
    "\n",
    "\n",
    "    Example Output\n",
    "\n",
    "    Output 1:\n",
    "\n",
    "     NO\n",
    "     YES \n",
    "    Output 2:\n",
    "\n",
    "     NO \n",
    "\n",
    "\n",
    "    Example Explanation\n",
    "\n",
    "    Explanation 1:\n",
    "\n",
    "     For A = 4, the answer is \"NO\" as sum of its proper divisors = 1 + 2 = 3, is not equal to 4. \n",
    "     For A = 6, the answer is \"YES\" as sum of its proper divisors = 1 + 2 + 3 = 6, is equal to 6. \n",
    "    Explanation 2:\n",
    "\n",
    "     For A = 3, the answer is \"NO\" as sum of its proper divisors = 1, is not equal to 3. "
   ]
  },
  {
   "cell_type": "code",
   "execution_count": 210,
   "id": "b85ac9cb",
   "metadata": {},
   "outputs": [
    {
     "name": "stdout",
     "output_type": "stream",
     "text": [
      "1\n",
      "2\n",
      "3\n"
     ]
    },
    {
     "data": {
      "text/plain": [
       "True"
      ]
     },
     "execution_count": 210,
     "metadata": {},
     "output_type": "execute_result"
    }
   ],
   "source": [
    "def isperfect(n):\n",
    "    factors = 0 \n",
    "    for i in range(1,n):\n",
    "        if n%i == 0:\n",
    "            print(i)\n",
    "            factors += i\n",
    "    if factors == n:\n",
    "        return True\n",
    "    return False\n",
    "            \n",
    "    \n",
    "isperfect(6)"
   ]
  },
  {
   "cell_type": "code",
   "execution_count": null,
   "id": "ec8d88a9",
   "metadata": {},
   "outputs": [],
   "source": []
  },
  {
   "cell_type": "code",
   "execution_count": 214,
   "id": "b6f7f901",
   "metadata": {},
   "outputs": [
    {
     "name": "stdout",
     "output_type": "stream",
     "text": [
      "1\n",
      "2\n",
      "3\n"
     ]
    },
    {
     "data": {
      "text/plain": [
       "True"
      ]
     },
     "execution_count": 214,
     "metadata": {},
     "output_type": "execute_result"
    }
   ],
   "source": [
    "def isperfect(n):\n",
    "    factors = 0 \n",
    "    i = 1\n",
    "    while i < n:\n",
    "        if n%i == 0:\n",
    "            print(i)\n",
    "            factors += i\n",
    "        i+=1\n",
    "    if factors == n:\n",
    "        return True\n",
    "    return False\n",
    "            \n",
    "    \n",
    "isperfect(6)"
   ]
  },
  {
   "cell_type": "code",
   "execution_count": null,
   "id": "7325fc9a",
   "metadata": {},
   "outputs": [],
   "source": []
  },
  {
   "cell_type": "markdown",
   "id": "b4ac6d08",
   "metadata": {},
   "source": [
    "### Armstrong Numbers!\n",
    "\n",
    "#### You are given an integer N you need to print all the Armstrong Numbers between 1 to N.  If sum of cubes of each digit of the number is equal to the number itself, then the number is called an Armstrong number.  \n",
    "    For example, 153 = ( 1 * 1 * 1 ) + ( 5 * 5 * 5 ) + ( 3 * 3 * 3 ).\n",
    "\n",
    "        Problem Constraints\n",
    "        1 <= N <= 500\n",
    "\n",
    "        Input Format\n",
    "        First and only line of input contains an integer N.\n",
    "\n",
    "        Output Format\n",
    "        Output all the Armstrong numbers in range [1,N] each in a new line.\n",
    "\n",
    "        Example Input\n",
    "        Input 1:\n",
    "         5\n",
    "        Input 2:\n",
    "         200\n",
    "\n",
    "        Example Output\n",
    "        Output 1:\n",
    "        1\n",
    "        Output 2:\n",
    "        1\n",
    "        153\n",
    "\n",
    "        Example Explanation\n",
    "        Explanation 1:\n",
    "        1 is an armstrong number.\n",
    "        Explanation 2:\n",
    "        1 and 153 are armstrong number under 200."
   ]
  },
  {
   "cell_type": "code",
   "execution_count": 240,
   "id": "4c89aecf",
   "metadata": {},
   "outputs": [],
   "source": [
    "def isArmstrong(n):\n",
    "    total = 0\n",
    "    original = n\n",
    "    while n != 0:\n",
    "        digit = n % 10\n",
    "        n = n//10\n",
    "        total += (digit)**(len(str(original)))\n",
    "    \n",
    "    if total == original:\n",
    "        return True\n",
    "    return False\n",
    "    \n",
    "        "
   ]
  },
  {
   "cell_type": "code",
   "execution_count": 241,
   "id": "67265877",
   "metadata": {},
   "outputs": [
    {
     "data": {
      "text/plain": [
       "True"
      ]
     },
     "execution_count": 241,
     "metadata": {},
     "output_type": "execute_result"
    }
   ],
   "source": [
    "isArmstrong(548834)"
   ]
  },
  {
   "cell_type": "code",
   "execution_count": null,
   "id": "4908fd3b",
   "metadata": {},
   "outputs": [],
   "source": []
  },
  {
   "cell_type": "code",
   "execution_count": 242,
   "id": "247c9f37",
   "metadata": {},
   "outputs": [
    {
     "name": "stdout",
     "output_type": "stream",
     "text": [
      "0\n",
      "1\n",
      "2\n",
      "3\n",
      "4\n",
      "5\n",
      "6\n",
      "7\n",
      "8\n",
      "9\n",
      "153\n",
      "370\n",
      "371\n",
      "407\n",
      "1634\n",
      "8208\n",
      "9474\n",
      "54748\n",
      "92727\n",
      "93084\n"
     ]
    }
   ],
   "source": [
    "for i in range(100000):\n",
    "    if isArmstrong(i):\n",
    "        print(i)\n",
    "    "
   ]
  },
  {
   "cell_type": "code",
   "execution_count": null,
   "id": "a598c713",
   "metadata": {},
   "outputs": [],
   "source": []
  },
  {
   "cell_type": "code",
   "execution_count": null,
   "id": "cf9e3da0",
   "metadata": {},
   "outputs": [],
   "source": []
  },
  {
   "cell_type": "code",
   "execution_count": null,
   "id": "e879d7de",
   "metadata": {},
   "outputs": [],
   "source": []
  },
  {
   "cell_type": "markdown",
   "id": "4e0e083b",
   "metadata": {},
   "source": [
    "    N = 2048   \n",
    "\n",
    "    step   value\n",
    "    0   2048       N\n",
    "    1   1024       N/2\n",
    "    2   512        N/4\n",
    "    3   256        N/8\n",
    "    4   128        N/2**4\n",
    "    5   64         N/2**5 \n",
    "    6   32\n",
    "    7   16\n",
    "    8   8\n",
    "    9   4\n",
    "    10  2\n",
    "    11  1\n",
    "    .\n",
    "    .\n",
    "    .\n",
    "    k             N/2**k  = 1\n",
    "\n",
    "    N = 2**k\n",
    "\n",
    "    logN =  k  = numbers of steps we want"
   ]
  },
  {
   "cell_type": "code",
   "execution_count": null,
   "id": "ff063f28",
   "metadata": {},
   "outputs": [],
   "source": []
  },
  {
   "cell_type": "markdown",
   "id": "865d9b00",
   "metadata": {},
   "source": [
    "## How many digits are there in 2^46 : "
   ]
  },
  {
   "cell_type": "markdown",
   "id": "319a9b62",
   "metadata": {},
   "source": [
    "    10 ^ ?  = 2^46\n"
   ]
  },
  {
   "cell_type": "markdown",
   "id": "c509ada9",
   "metadata": {},
   "source": [
    "    2^46 = 10^(46/log2(10))"
   ]
  },
  {
   "cell_type": "code",
   "execution_count": 256,
   "id": "c291a2b8",
   "metadata": {},
   "outputs": [
    {
     "data": {
      "text/plain": [
       "70368744177664"
      ]
     },
     "execution_count": 256,
     "metadata": {},
     "output_type": "execute_result"
    }
   ],
   "source": [
    "2**46"
   ]
  },
  {
   "cell_type": "code",
   "execution_count": 260,
   "id": "75dfa1f6",
   "metadata": {},
   "outputs": [
    {
     "data": {
      "text/plain": [
       "14"
      ]
     },
     "execution_count": 260,
     "metadata": {},
     "output_type": "execute_result"
    }
   ],
   "source": [
    "int(46/math.log2(10))+1"
   ]
  },
  {
   "cell_type": "code",
   "execution_count": 257,
   "id": "375d07ea",
   "metadata": {},
   "outputs": [
    {
     "data": {
      "text/plain": [
       "70368744177664.14"
      ]
     },
     "execution_count": 257,
     "metadata": {},
     "output_type": "execute_result"
    }
   ],
   "source": [
    "10**(46/math.log2(10))"
   ]
  },
  {
   "cell_type": "code",
   "execution_count": null,
   "id": "f52e1dd4",
   "metadata": {},
   "outputs": [],
   "source": []
  },
  {
   "cell_type": "code",
   "execution_count": null,
   "id": "2777468b",
   "metadata": {},
   "outputs": [],
   "source": []
  },
  {
   "cell_type": "code",
   "execution_count": 255,
   "id": "324d4fec",
   "metadata": {},
   "outputs": [
    {
     "data": {
      "text/plain": [
       "14348907"
      ]
     },
     "execution_count": 255,
     "metadata": {},
     "output_type": "execute_result"
    }
   ],
   "source": [
    "3**15"
   ]
  },
  {
   "cell_type": "code",
   "execution_count": 262,
   "id": "95a69e98",
   "metadata": {},
   "outputs": [
    {
     "data": {
      "text/plain": [
       "8"
      ]
     },
     "execution_count": 262,
     "metadata": {},
     "output_type": "execute_result"
    }
   ],
   "source": [
    "int(15/math.log(10,3))+1"
   ]
  },
  {
   "cell_type": "code",
   "execution_count": null,
   "id": "bd88b0ec",
   "metadata": {},
   "outputs": [],
   "source": []
  },
  {
   "cell_type": "code",
   "execution_count": null,
   "id": "4173e3f0",
   "metadata": {},
   "outputs": [],
   "source": []
  },
  {
   "cell_type": "markdown",
   "id": "f58d728b",
   "metadata": {},
   "source": [
    "### Create a list of all squares of 1 till 10"
   ]
  },
  {
   "cell_type": "code",
   "execution_count": 265,
   "id": "d98639f6",
   "metadata": {},
   "outputs": [
    {
     "name": "stdout",
     "output_type": "stream",
     "text": [
      "[1, 4, 9, 16, 25, 36, 49, 64, 81, 100]\n"
     ]
    }
   ],
   "source": [
    "sq = []\n",
    "for i in range(1,11):\n",
    "    sq.append(i*i)\n",
    "print(sq)"
   ]
  },
  {
   "cell_type": "code",
   "execution_count": 266,
   "id": "ad033afe",
   "metadata": {},
   "outputs": [
    {
     "data": {
      "text/plain": [
       "[1, 4, 9, 16, 25, 36, 49, 64, 81, 100]"
      ]
     },
     "execution_count": 266,
     "metadata": {},
     "output_type": "execute_result"
    }
   ],
   "source": [
    "[i*i for i in range(1,11)]"
   ]
  },
  {
   "cell_type": "code",
   "execution_count": null,
   "id": "7dbeb8e5",
   "metadata": {},
   "outputs": [],
   "source": []
  },
  {
   "cell_type": "code",
   "execution_count": null,
   "id": "fc9c6950",
   "metadata": {},
   "outputs": [],
   "source": []
  },
  {
   "cell_type": "markdown",
   "id": "0e18eb10",
   "metadata": {},
   "source": [
    "#### What is the time complexity of accessing element at the ith index in an array of size N? Time complexity to access arr[i] ?\n",
    "\n",
    "    O(1)"
   ]
  },
  {
   "cell_type": "code",
   "execution_count": null,
   "id": "a74f694e",
   "metadata": {},
   "outputs": [],
   "source": []
  },
  {
   "cell_type": "markdown",
   "id": "c3fe1d61",
   "metadata": {},
   "source": [
    "### find the sum of array : "
   ]
  },
  {
   "cell_type": "code",
   "execution_count": 267,
   "id": "2f91135f",
   "metadata": {},
   "outputs": [
    {
     "data": {
      "text/plain": [
       "55"
      ]
     },
     "execution_count": 267,
     "metadata": {},
     "output_type": "execute_result"
    }
   ],
   "source": [
    "def sum_array(A):\n",
    "    total =  0\n",
    "    for i in range(len(A)):\n",
    "        total += A[i]\n",
    "    return total\n",
    "sum_array([1,2,3,4,5,6,7,8,9,10])"
   ]
  },
  {
   "cell_type": "code",
   "execution_count": 268,
   "id": "faeeab68",
   "metadata": {},
   "outputs": [
    {
     "data": {
      "text/plain": [
       "55"
      ]
     },
     "execution_count": 268,
     "metadata": {},
     "output_type": "execute_result"
    }
   ],
   "source": [
    "def sum_array(A):\n",
    "    total =  0\n",
    "    for i in A:\n",
    "        total += i\n",
    "    return total\n",
    "sum_array([1,2,3,4,5,6,7,8,9,10])"
   ]
  },
  {
   "cell_type": "code",
   "execution_count": null,
   "id": "317af0b6",
   "metadata": {},
   "outputs": [],
   "source": []
  },
  {
   "cell_type": "markdown",
   "id": "3ef97bd8",
   "metadata": {},
   "source": [
    "### Given N elements in list ,count number of elements which have atleast 1 element greater than itself present in the list : "
   ]
  },
  {
   "cell_type": "code",
   "execution_count": 274,
   "id": "a10f8416",
   "metadata": {},
   "outputs": [
    {
     "data": {
      "text/plain": [
       "9"
      ]
     },
     "execution_count": 274,
     "metadata": {},
     "output_type": "execute_result"
    }
   ],
   "source": [
    "A = [1,3,2,6,8,9,0,-30,-20,5]\n",
    "\n",
    "def count_greater_elements(A):\n",
    "    n = len(A)\n",
    "    count = 0\n",
    "    for x in A:\n",
    "        haslarger = False\n",
    "        for value in A:\n",
    "            if value > x:\n",
    "                haslarger = True\n",
    "        if haslarger:\n",
    "            count += 1\n",
    "    return count\n",
    "count_greater_elements(A)"
   ]
  },
  {
   "cell_type": "code",
   "execution_count": 278,
   "id": "547b65e5",
   "metadata": {},
   "outputs": [
    {
     "data": {
      "text/plain": [
       "2"
      ]
     },
     "execution_count": 278,
     "metadata": {},
     "output_type": "execute_result"
    }
   ],
   "source": [
    "count_greater_elements([8,8,8,1,8,8,8,2])"
   ]
  },
  {
   "cell_type": "code",
   "execution_count": null,
   "id": "bb1f305e",
   "metadata": {},
   "outputs": [],
   "source": []
  },
  {
   "cell_type": "code",
   "execution_count": 285,
   "id": "4ee9358f",
   "metadata": {},
   "outputs": [
    {
     "data": {
      "text/plain": [
       "2"
      ]
     },
     "execution_count": 285,
     "metadata": {},
     "output_type": "execute_result"
    }
   ],
   "source": [
    "def count_greater_elements(A):\n",
    "    \n",
    "    n = len(A)\n",
    "    maxval = -float(\"inf\")\n",
    "    \n",
    "    for i in A:\n",
    "        if i > maxval:\n",
    "            maxval = i\n",
    "\n",
    "    not_max_count = 0\n",
    "    \n",
    "    for x in A:\n",
    "        if x < maxval:\n",
    "            not_max_count += 1\n",
    "            \n",
    "    return not_max_count\n",
    "            \n",
    "    \n",
    "    \n",
    "count_greater_elements([8,8,8,1,8,8,8,2])"
   ]
  },
  {
   "cell_type": "code",
   "execution_count": null,
   "id": "d0661633",
   "metadata": {},
   "outputs": [],
   "source": []
  },
  {
   "cell_type": "markdown",
   "id": "62dd5a64",
   "metadata": {},
   "source": [
    "### Reverse the given list : "
   ]
  },
  {
   "cell_type": "code",
   "execution_count": 286,
   "id": "bc23f99e",
   "metadata": {},
   "outputs": [
    {
     "data": {
      "text/plain": [
       "[8, 6, 3, 10, 1]"
      ]
     },
     "execution_count": 286,
     "metadata": {},
     "output_type": "execute_result"
    }
   ],
   "source": [
    "A = [1,10,3,6,8]\n",
    "A[::-1]"
   ]
  },
  {
   "cell_type": "code",
   "execution_count": 291,
   "id": "cb0f12d4",
   "metadata": {},
   "outputs": [
    {
     "data": {
      "text/plain": [
       "[8, 6, 3, 10, 1]"
      ]
     },
     "execution_count": 291,
     "metadata": {},
     "output_type": "execute_result"
    }
   ],
   "source": [
    "def reverse_list(A):\n",
    "    \n",
    "    n = len(A)\n",
    "    reversed_list = []\n",
    "    for i in reversed(range(len(A))):\n",
    "        reversed_list.append(A[i])\n",
    "        \n",
    "    return reversed_list\n",
    "\n",
    "reverse_list(A)"
   ]
  },
  {
   "cell_type": "code",
   "execution_count": 292,
   "id": "e673d402",
   "metadata": {},
   "outputs": [
    {
     "data": {
      "text/plain": [
       "[8, 6, 3, 10, 1]"
      ]
     },
     "execution_count": 292,
     "metadata": {},
     "output_type": "execute_result"
    }
   ],
   "source": [
    "def reverse_list(A):\n",
    "    \n",
    "    n = len(A)\n",
    "    \n",
    "    for i in range(len(A)//2):\n",
    "        A[i],A[n-i-1] = A[n-i-1],A[i]    # tuple unpacking \n",
    "    return A\n",
    "\n",
    "reverse_list(A)"
   ]
  },
  {
   "cell_type": "markdown",
   "id": "a1921d38",
   "metadata": {},
   "source": [
    "    i   <>  n-1\n",
    "    i+1 <>  n-i-1\n",
    "    \n",
    "    0 <> 5\n",
    "    1 <> 4\n",
    "    2 <> 3 stop here. n//2\n",
    "    3 <> 2 \n",
    "    "
   ]
  },
  {
   "cell_type": "code",
   "execution_count": 301,
   "id": "f7b55bea",
   "metadata": {},
   "outputs": [
    {
     "data": {
      "text/plain": [
       "[8, 6, 3, 10, 1]"
      ]
     },
     "execution_count": 301,
     "metadata": {},
     "output_type": "execute_result"
    }
   ],
   "source": [
    "def reverse_list(A):\n",
    "    \n",
    "    n = len(A)\n",
    "    \n",
    "    for i in range(len(A)//2):\n",
    "        temp = A[i]\n",
    "        A[i] = A[n-i-1]\n",
    "        A[n-i-1] = temp\n",
    "        \n",
    "    return A\n",
    "\n",
    "A = [1,10,3,6,8]\n",
    "\n",
    "reverse_list(A)"
   ]
  },
  {
   "cell_type": "code",
   "execution_count": null,
   "id": "dedd0186",
   "metadata": {},
   "outputs": [],
   "source": []
  },
  {
   "cell_type": "markdown",
   "id": "dec664af",
   "metadata": {},
   "source": [
    "###  Rotation Game\n",
    "\n",
    "### Given an integer array A of size N and an integer B, you have to print the same array after rotating it B times towards the right.\n",
    "\n",
    "\n",
    "    Problem Constraints\n",
    "    1 <= N <= 106\n",
    "    1 <= A[i] <=108\n",
    "    1 <= B <= 109\n",
    "\n",
    "\n",
    "    Input Format\n",
    "    There are 2 lines in the input\n",
    "\n",
    "    Line 1: The first number is the size N of the array A. Then N numbers follow which indicate the elements in the array A.\n",
    "\n",
    "    Line 2: A single integer B.\n",
    "\n",
    "\n",
    "    Output Format\n",
    "    Print array A after rotating it B times towards the right.\n",
    "\n",
    "\n",
    "    Example Input\n",
    "    Input 1 :\n",
    "    4 1 2 3 4\n",
    "    2\n",
    "\n",
    "\n",
    "    Example Output\n",
    "    Output 1 :\n",
    "    3 4 1 2\n",
    "\n",
    "\n",
    "    Example Explanation\n",
    "    Example 1 :\n",
    "\n",
    "    N = 4, A = [1, 2, 3, 4] and B = 2.\n",
    "\n",
    "    Rotate towards the right 2 times - [1, 2, 3, 4] => [4, 1, 2, 3] => [3, 4, 1, 2]\n",
    "\n",
    "    Final array = [3, 4, 1, 2]\n"
   ]
  },
  {
   "cell_type": "code",
   "execution_count": 308,
   "id": "3147e0ed",
   "metadata": {},
   "outputs": [
    {
     "name": "stdout",
     "output_type": "stream",
     "text": [
      "4 1 2 3 4\n",
      "2\n",
      "length of array:  4\n",
      "Array: [1, 2, 3, 4]\n"
     ]
    },
    {
     "data": {
      "text/plain": [
       "[3, 4, 1, 2]"
      ]
     },
     "execution_count": 308,
     "metadata": {},
     "output_type": "execute_result"
    }
   ],
   "source": [
    "A = list(map(int,input().split()))\n",
    "\n",
    "rotations = int(input())\n",
    "n = A.pop(0)\n",
    "print(\"length of array: \",n)\n",
    "print(\"Array:\",A)\n",
    "\n",
    "rotations = rotations % n\n",
    "\n",
    "for i in range(rotations):\n",
    "    A.insert(0,A.pop())\n",
    "    \n",
    "A    \n"
   ]
  },
  {
   "cell_type": "code",
   "execution_count": null,
   "id": "f6ee3675",
   "metadata": {},
   "outputs": [],
   "source": []
  },
  {
   "cell_type": "markdown",
   "id": "4660b324",
   "metadata": {},
   "source": [
    "### Good Pair\n",
    "\n",
    "### Given an array A and an integer B. A pair(i, j) in the array is a good pair if i != j and (A[i] + A[j] == B). Check if any good pair exist or not.\n",
    "\n",
    "    Problem Constraints\n",
    "    1 <= A.size() <= 104\n",
    "    1 <= A[i] <= 109\n",
    "    1 <= B <= 109\n",
    "\n",
    "    Input Format\n",
    "    First argument is an integer array A.\n",
    "    Second argument is an integer B.\n",
    "\n",
    "    Output Format\n",
    "    Return 1 if good pair exist otherwise return 0.\n",
    "\n",
    "    Example Input\n",
    "    Input 1:\n",
    "    A = [1,2,3,4]\n",
    "    B = 7\n",
    "    Input 2:\n",
    "    A = [1,2,4]\n",
    "    B = 4\n",
    "    Input 3:\n",
    "    A = [1,2,2]\n",
    "    B = 4\n",
    "\n",
    "    Example Output\n",
    "    Output 1:\n",
    "    1\n",
    "    Output 2:\n",
    "    0\n",
    "    Output 3:\n",
    "    1\n",
    "\n",
    "    Example Explanation\n",
    "    Explanation 1:\n",
    "     (i,j) = (3,4)\n",
    "    Explanation 2:\n",
    "    No pair has sum equal to 4.\n",
    "    Explanation 3:\n",
    "     (i,j) = (2,3)"
   ]
  },
  {
   "cell_type": "code",
   "execution_count": 340,
   "id": "bfdd7223",
   "metadata": {},
   "outputs": [
    {
     "data": {
      "text/plain": [
       "1"
      ]
     },
     "execution_count": 340,
     "metadata": {},
     "output_type": "execute_result"
    }
   ],
   "source": [
    "# what is asked n question:\n",
    "\n",
    "def GoodPair(A,k):\n",
    "    n = len(A)\n",
    "    for i in range(n):\n",
    "        for j in range(i,n):\n",
    "            if i!=j:\n",
    "                if A[i]+A[j]==B:\n",
    "                    return 1\n",
    "    return 0\n",
    "\n",
    "A = [1,2,3,4]\n",
    "k = 7\n",
    "GoodPair(A,k) "
   ]
  },
  {
   "cell_type": "code",
   "execution_count": null,
   "id": "722e5161",
   "metadata": {},
   "outputs": [],
   "source": [
    "# variations : "
   ]
  },
  {
   "cell_type": "code",
   "execution_count": 337,
   "id": "db9c877a",
   "metadata": {},
   "outputs": [
    {
     "data": {
      "text/plain": [
       "4"
      ]
     },
     "execution_count": 337,
     "metadata": {},
     "output_type": "execute_result"
    }
   ],
   "source": [
    "A = [1,2,3,4]\n",
    "k = 7\n",
    "\n",
    "    n = len(A)\n",
    "    c = 0\n",
    "    for i in range(n):\n",
    "        for j in range(i,n):\n",
    "            if A[i]+A[j] == k:\n",
    "                c+=1\n",
    "    return c\n",
    "\n",
    "A = [1,2,3,4,4,3]\n",
    "k = 7\n",
    "GoodPair(A,k)   # combination pair counts"
   ]
  },
  {
   "cell_type": "code",
   "execution_count": null,
   "id": "ad4784c7",
   "metadata": {},
   "outputs": [],
   "source": [
    "# individual pair counts "
   ]
  },
  {
   "cell_type": "code",
   "execution_count": 335,
   "id": "7b2e8c04",
   "metadata": {},
   "outputs": [
    {
     "data": {
      "text/plain": [
       "2"
      ]
     },
     "execution_count": 335,
     "metadata": {},
     "output_type": "execute_result"
    }
   ],
   "source": [
    "A = [1,2,3,4]\n",
    "k = 7\n",
    "\n",
    "def GoodPair(A,k):\n",
    "    \n",
    "    n = len(A)\n",
    "    c = 0\n",
    "    Aset = set()\n",
    "    \n",
    "    for i in A:\n",
    "        target = k-i\n",
    "        if target in Aset:\n",
    "            c+=1\n",
    "        else:\n",
    "            Aset.add(i)\n",
    "    return c\n",
    "    \n",
    "\n",
    "A = [1,2,3,4,2,4]\n",
    "k = 6\n",
    "GoodPair(A,k)"
   ]
  },
  {
   "cell_type": "code",
   "execution_count": null,
   "id": "8686c514",
   "metadata": {},
   "outputs": [],
   "source": []
  },
  {
   "cell_type": "markdown",
   "id": "6d58caef",
   "metadata": {},
   "source": [
    "###  Max and Min of an Array\n",
    "\n",
    "  \n",
    "\n"
   ]
  },
  {
   "cell_type": "code",
   "execution_count": 342,
   "id": "2b271177",
   "metadata": {},
   "outputs": [
    {
     "name": "stdout",
     "output_type": "stream",
     "text": [
      "4 10 50 40 80\n",
      "80 10\n"
     ]
    }
   ],
   "source": [
    "A = list(map(int,input().split()))\n",
    "N = A[0]\n",
    "maxm = A[1]\n",
    "\n",
    "\n",
    "for i in range(1,N+1):\n",
    "    if A[i] > maxm:\n",
    "        maxm = A[i]\n",
    "\n",
    "minm = A[1]\n",
    "for i in range(1,N):\n",
    "    if A[i]<minm:\n",
    "        minm = A[i]\n",
    "\n",
    "print(maxm,minm)\n"
   ]
  },
  {
   "cell_type": "code",
   "execution_count": null,
   "id": "4acf043e",
   "metadata": {},
   "outputs": [],
   "source": []
  },
  {
   "cell_type": "markdown",
   "id": "216c4207",
   "metadata": {},
   "source": [
    "### Little Ponny and Maximum Element\n",
    "\n",
    "#### Little Ponny is given an array, A, of N integers. In a particular operation, he can set any element of the array equal to -1. He wants your help in finding out the minimum number of operations required such that the maximum element of the resulting array is B. If it is not possible, then return -1.\n",
    "\n",
    "\n",
    "    Problem Constraints\n",
    "    1 <= |A| <= 105\n",
    "    1 <= A[i] <= 109\n",
    "\n",
    "    Input Format\n",
    "    The first argument of input contains an integer array, A.\n",
    "    The second argument of input contains an integer, B.\n",
    "\n",
    "    Output Format\n",
    "    Return an integer representing the answer.\n",
    "\n",
    "    Example Input\n",
    "    Input 1:\n",
    "\n",
    "     A = [2, 4, 3, 1, 5]\n",
    "     B = 3 \n",
    "    Input 2:\n",
    "\n",
    "     A = [1, 4, 2]\n",
    "     B = 3 \n",
    "\n",
    "    Example Output\n",
    "    Output 1:\n",
    "     2 \n",
    "    Output 2:\n",
    "     -1 \n",
    "\n",
    "    Example Explanation\n",
    "    Explanation 1:\n",
    "\n",
    "     We need to remove 4 and 5 to make 3 the biggest element. \n",
    "    Explanation 2:\n",
    "\n",
    "     As 3 doesn't exist in the array, the answer is -1. "
   ]
  },
  {
   "cell_type": "code",
   "execution_count": 351,
   "id": "387aaba1",
   "metadata": {},
   "outputs": [
    {
     "data": {
      "text/plain": [
       "2"
      ]
     },
     "execution_count": 351,
     "metadata": {},
     "output_type": "execute_result"
    }
   ],
   "source": [
    "A = [2, 4, 3, 1, 5]\n",
    "B = 3 \n",
    "def little_pony_max_element(A,B):\n",
    "    if B not in A:\n",
    "        return -1\n",
    "    number_of_operations = 0\n",
    "    n = len(A)\n",
    "    maxele_to_be = B\n",
    "    for i in A:\n",
    "        if i > maxele_to_be:\n",
    "            number_of_operations +=  1\n",
    "    return number_of_operations\n",
    "    \n",
    "\n",
    "A = [2, 4, 3, 1, 5]\n",
    "B = 3 \n",
    "little_pony_max_element(A,B)\n",
    "    "
   ]
  },
  {
   "cell_type": "code",
   "execution_count": 352,
   "id": "5fea1e4d",
   "metadata": {},
   "outputs": [
    {
     "data": {
      "text/plain": [
       "-1"
      ]
     },
     "execution_count": 352,
     "metadata": {},
     "output_type": "execute_result"
    }
   ],
   "source": [
    "\n",
    "A = [1, 4, 2]\n",
    "B = 3 \n",
    "little_pony_max_element(A,B)\n"
   ]
  },
  {
   "cell_type": "code",
   "execution_count": null,
   "id": "12bbe034",
   "metadata": {},
   "outputs": [],
   "source": []
  },
  {
   "cell_type": "markdown",
   "id": "92f73b43",
   "metadata": {},
   "source": [
    "### Second Largest\n",
    "\n",
    "### You are given an integer array A. You have to find the second largest element/value in the array or report that no such element exists.\n",
    "\n",
    "    Problem Constraints\n",
    "    1 <= |A| <= 105\n",
    "    0 <= A[i] <= 109\n",
    "\n",
    "    Input Format\n",
    "    The first argument is an integer array A.\n",
    "    Output Format\n",
    "    Return the second largest element. If no such element exist then return -1.\n",
    "\n",
    "    Example Input\n",
    "    Input 1:\n",
    "     A = [2, 1, 2] \n",
    "    Input 2:\n",
    "     A = [2]\n",
    "    Example Output\n",
    "    Output 1:\n",
    "     2 \n",
    "    Output 2:\n",
    "     -1 \n",
    "\n",
    "    Example Explanation\n",
    "    Explanation 1:\n",
    "\n",
    "     First largest element = 2\n",
    "     Second largest element = 2\n",
    "     Third largest element = 1\n",
    "    Explanation 2:\n",
    "\n",
    "     There is no second largest element in the array."
   ]
  },
  {
   "cell_type": "code",
   "execution_count": 362,
   "id": "5f71bc7e",
   "metadata": {},
   "outputs": [
    {
     "data": {
      "text/plain": [
       "(7, 9)"
      ]
     },
     "execution_count": 362,
     "metadata": {},
     "output_type": "execute_result"
    }
   ],
   "source": [
    "A = [1,2,3,4,5]\n",
    "def find_Second_largest(A):\n",
    "    n = len(A)\n",
    "    \n",
    "    max1 = -float(\"inf\")\n",
    "    max2 = -float(\"inf\")\n",
    "    \n",
    "    for i in A:\n",
    "        if i > max1:\n",
    "            max2 = max1\n",
    "            max1 = i\n",
    "        elif i > max2:\n",
    "            max2 = i\n",
    "    if max2 == -float(\"inf\"):\n",
    "        return -1,max1\n",
    "    return max2,max1\n",
    "    \n",
    "    \n",
    "A = [9,4,2,7,3]\n",
    "find_Second_largest(A)\n"
   ]
  },
  {
   "cell_type": "code",
   "execution_count": 364,
   "id": "e16faeec",
   "metadata": {},
   "outputs": [
    {
     "data": {
      "text/plain": [
       "(-1, 99)"
      ]
     },
     "execution_count": 364,
     "metadata": {},
     "output_type": "execute_result"
    }
   ],
   "source": [
    "A = [99]\n",
    "find_Second_largest(A)\n"
   ]
  },
  {
   "cell_type": "code",
   "execution_count": null,
   "id": "595ed0f5",
   "metadata": {},
   "outputs": [],
   "source": []
  },
  {
   "cell_type": "markdown",
   "id": "61404720",
   "metadata": {},
   "source": [
    "### MINIMUM PICKS\n",
    "\n",
    "#### You are given an array of integers A of size N. Return the difference between the maximum among all even numbers of A and the minimum among all odd numbers in A."
   ]
  },
  {
   "cell_type": "code",
   "execution_count": 365,
   "id": "04ffb5e5",
   "metadata": {},
   "outputs": [],
   "source": [
    "def minimum_picks(A):\n",
    "    odds = [x for x in A if x%2!=0]\n",
    "    even = [x for x in A if x%2==0]\n",
    "\n",
    "\n",
    "\n",
    "    return max(even)-min(odds)"
   ]
  },
  {
   "cell_type": "code",
   "execution_count": 366,
   "id": "d25b97e5",
   "metadata": {},
   "outputs": [
    {
     "data": {
      "text/plain": [
       "99"
      ]
     },
     "execution_count": 366,
     "metadata": {},
     "output_type": "execute_result"
    }
   ],
   "source": [
    "minimum_picks([5,17,100,1])"
   ]
  },
  {
   "cell_type": "code",
   "execution_count": null,
   "id": "ae13ee6e",
   "metadata": {},
   "outputs": [],
   "source": []
  },
  {
   "cell_type": "markdown",
   "id": "c8235cf4",
   "metadata": {},
   "source": [
    "### Separate Odd Even\n",
    "\n",
    "#### You are given an integer T denoting the number of test cases. For each test case, you are given an integer array A. You have to print the odd and even elements of array A in 2 separate lines. \n",
    "    NOTE: Array elements should have the same relative order as in A.\n",
    "\n",
    "\n",
    "\n",
    "    Problem Constraints\n",
    "    1 <= T <= 10\n",
    "\n",
    "    1 <= |A| <= 105\n",
    "\n",
    "    1 <= A[i] <= 109\n",
    "\n",
    "\n",
    "\n",
    "    Input Format\n",
    "    First line of the input contains a single integer T.\n",
    "\n",
    "    For each test case:\n",
    "\n",
    "    First line consists of a single integer |A| denoting the length of array.\n",
    "    Second line consists of |A| space separated integers denoting the elements of array A.\n",
    "\n",
    "\n",
    "    Output Format\n",
    "    For each test case:\n",
    "\n",
    "    First line should contain an array of space separated integers containing all the odd elements of array A\n",
    "    Second line should contain an array of space separated integers containing all the even elements of array A\n",
    "\n",
    "\n",
    "    Example Input\n",
    "    Input 1:\n",
    "\n",
    "     2 \n",
    "     5\n",
    "     1 2 3 4 5\n",
    "     3\n",
    "     4 3 2\n",
    "    Input 2:\n",
    "\n",
    "     2 \n",
    "     3\n",
    "     2 2 2\n",
    "     2\n",
    "     1 1\n",
    "\n",
    "\n",
    "    Example Output\n",
    "    Output 1:\n",
    "\n",
    "     1 3 5\n",
    "     2 4\n",
    "     3\n",
    "     4 2\n",
    "    Output 2:\n",
    "\n",
    "\n",
    "     2 2 2\n",
    "     1 1\n",
    "\n",
    "\n",
    "\n",
    "    Example Explanation\n",
    "    Explanation 1:\n",
    "\n",
    "     Test Case 1: \n",
    "     Odd elements in the array(in the order they occur) are: 1, 3, 5.\n",
    "     Even elements in the array(in the order they occur) are: 2, 4.\n",
    "\n",
    "     Test Case 2 \n",
    "     Odd elements in the array(in the order they occur) are: 3.\n",
    "     Even elements in the array(in the order they occur) are: 4, 2.\n",
    "    Explanation 2:\n",
    "\n",
    "     Test Case 1: \n",
    "     There are no odd elements in the array.\n",
    "     Even elements in the array(in the order they occur) are: 2, 2, 2.\n",
    "\n",
    "     Test Case 2 \n",
    "     Odd elements in the array(in the order they occur) are: 1, 1.\n",
    "     There are no even elements in the array."
   ]
  },
  {
   "cell_type": "code",
   "execution_count": 367,
   "id": "01e72340",
   "metadata": {},
   "outputs": [
    {
     "name": "stdout",
     "output_type": "stream",
     "text": [
      "2\n",
      "5\n",
      "1 2 3 4 5\n",
      "1 3 5 \n",
      "2 4 \n",
      "3\n",
      "4 3 2\n",
      "3 \n",
      "4 2 \n"
     ]
    }
   ],
   "source": [
    "def main():\n",
    "    \n",
    "    T = int(input())\n",
    "    while T>0:\n",
    "        T = T-1\n",
    "\n",
    "        L = int(input())\n",
    "        A = list(map(int,input().split()))\n",
    "        \n",
    "        for i in A:\n",
    "            if i%2!=0:\n",
    "                print(i,end =\" \")\n",
    "        print()\n",
    "        for i in A:\n",
    "            if i%2==0:\n",
    "                print(i,end =\" \")\n",
    "        print()\n",
    "\n",
    "\n",
    "    return 0\n",
    "\n",
    "if __name__ == '__main__':\n",
    "    main()"
   ]
  },
  {
   "cell_type": "code",
   "execution_count": null,
   "id": "de672320",
   "metadata": {},
   "outputs": [],
   "source": []
  },
  {
   "cell_type": "code",
   "execution_count": null,
   "id": "8b642844",
   "metadata": {},
   "outputs": [],
   "source": []
  },
  {
   "cell_type": "markdown",
   "id": "98bd4765",
   "metadata": {},
   "source": [
    "### Given an array of n integers , Q queries are given . \n",
    "### In each query start and end index given . print sum of start to end index ."
   ]
  },
  {
   "cell_type": "code",
   "execution_count": null,
   "id": "8547cb7a",
   "metadata": {},
   "outputs": [],
   "source": []
  },
  {
   "cell_type": "code",
   "execution_count": null,
   "id": "6b1612f7",
   "metadata": {},
   "outputs": [],
   "source": []
  },
  {
   "cell_type": "code",
   "execution_count": 380,
   "id": "1bde301f",
   "metadata": {},
   "outputs": [
    {
     "name": "stdout",
     "output_type": "stream",
     "text": [
      "start:0\n",
      "end:2\n",
      "sum: 4\n",
      "start:4\n",
      "end:6\n",
      "sum: 20\n"
     ]
    }
   ],
   "source": [
    "def give_query_results(A,Q):\n",
    "\n",
    "    while Q > 0:\n",
    "        start = int(input(\"start:\"))\n",
    "        end = int(input(\"end:\"))\n",
    "        ans = 0\n",
    "        for i in range(start,end+1):\n",
    "            ans += A[i]\n",
    "        print(\"sum:\",ans)\n",
    "        Q -= 1\n",
    "give_query_results([1, 3, 0, -6, 8, 10, 2, 7],2)"
   ]
  },
  {
   "cell_type": "code",
   "execution_count": 381,
   "id": "d3e00a61",
   "metadata": {},
   "outputs": [
    {
     "data": {
      "text/plain": [
       "79"
      ]
     },
     "execution_count": 381,
     "metadata": {},
     "output_type": "execute_result"
    }
   ],
   "source": [
    "439-360"
   ]
  },
  {
   "cell_type": "code",
   "execution_count": null,
   "id": "da8e15c5",
   "metadata": {},
   "outputs": [],
   "source": []
  },
  {
   "cell_type": "markdown",
   "id": "c203d8f4",
   "metadata": {},
   "source": [
    "### Given the scores of the last 10 overs of a cricket match:\n",
    "\n",
    "    288, 312, 330, 349, 360, 383, 394, 406, 436, 439\n",
    "\n",
    "#### How many runs were scored in the last 5 overs?\n",
    "\n",
    "    439-360 = 79\n",
    "\n"
   ]
  },
  {
   "cell_type": "code",
   "execution_count": null,
   "id": "c9c61dc5",
   "metadata": {},
   "outputs": [],
   "source": []
  },
  {
   "cell_type": "code",
   "execution_count": null,
   "id": "0bab0132",
   "metadata": {},
   "outputs": [],
   "source": []
  },
  {
   "cell_type": "markdown",
   "id": "52fa9523",
   "metadata": {},
   "source": [
    "### Given the scores of the last 10 overs of a cricket match :\n",
    "\n",
    "    288, 312, 330, 349, 360, 383, 394, 406, 436, 439\n",
    "\n",
    "#### How many runs were scored from 42nd to 45th over (both included) ?\n",
    "\n",
    "    360-288 = 72\n"
   ]
  },
  {
   "cell_type": "code",
   "execution_count": null,
   "id": "64e8f035",
   "metadata": {},
   "outputs": [],
   "source": [
    "# finding difference score between overs :"
   ]
  },
  {
   "cell_type": "code",
   "execution_count": 422,
   "id": "f716d98a",
   "metadata": {},
   "outputs": [
    {
     "data": {
      "text/plain": [
       "[24, 18, 19, 11, 23, 11, 12, 30, 3]"
      ]
     },
     "execution_count": 422,
     "metadata": {},
     "output_type": "execute_result"
    }
   ],
   "source": [
    "cumsum = [288, 312, 330, 349, 360, 383, 394, 406, 436, 439]\n",
    "score_per_over = []\n",
    "n = len(cumsum)\n",
    "\n",
    "\n",
    "for i in range(len(cumsum)-1):\n",
    "    \n",
    "    score_per_over.append(cumsum[i+1]-cumsum[i])\n",
    "\n",
    "score_per_over"
   ]
  },
  {
   "cell_type": "code",
   "execution_count": null,
   "id": "08a269be",
   "metadata": {},
   "outputs": [],
   "source": []
  },
  {
   "cell_type": "markdown",
   "id": "e078d09c",
   "metadata": {},
   "source": [
    "### Prefix Sum (Cumulative Sum) : "
   ]
  },
  {
   "cell_type": "code",
   "execution_count": 384,
   "id": "ceb03fa7",
   "metadata": {},
   "outputs": [
    {
     "data": {
      "text/plain": [
       "[1, 4, 4, -2, 2, 9, 17, 26]"
      ]
     },
     "execution_count": 384,
     "metadata": {},
     "output_type": "execute_result"
    }
   ],
   "source": [
    "def prefix_sum(A):\n",
    "    prefixsum = [A[0]]\n",
    "    for i in A[1:]:\n",
    "        prefixsum.append(i + prefixsum[-1])\n",
    "    return prefixsum\n",
    "    \n",
    "\n",
    "prefix_sum([1, 3, 0, -6, 4, 7, 8, 9])"
   ]
  },
  {
   "cell_type": "code",
   "execution_count": 424,
   "id": "37718a90",
   "metadata": {},
   "outputs": [
    {
     "data": {
      "text/plain": [
       "[288, 312, 330, 349, 360, 383, 394, 406, 436, 439]"
      ]
     },
     "execution_count": 424,
     "metadata": {},
     "output_type": "execute_result"
    }
   ],
   "source": [
    "prefix_sum([288,24, 18, 19, 11, 23, 11, 12, 30, 3])"
   ]
  },
  {
   "cell_type": "code",
   "execution_count": null,
   "id": "de7c193c",
   "metadata": {},
   "outputs": [],
   "source": []
  },
  {
   "cell_type": "markdown",
   "id": "d04ad33c",
   "metadata": {},
   "source": [
    "    if s == 0:\n",
    "    \n",
    "    sum_till_e = prefix[e]\n",
    "    \n",
    "    else:\n",
    "    if s != 0:\n",
    "    \n",
    "    Sum_Between_S_and_E = prefix[e]-prefix[s-1]"
   ]
  },
  {
   "cell_type": "code",
   "execution_count": 427,
   "id": "bec2170d",
   "metadata": {},
   "outputs": [
    {
     "name": "stdout",
     "output_type": "stream",
     "text": [
      "start:0\n",
      "end:4\n",
      "6\n",
      "start:4\n",
      "end:5\n",
      "18\n"
     ]
    }
   ],
   "source": [
    "def give_query_results(A,Q):\n",
    "    \n",
    "    prefixsum = [A[0]]\n",
    "    for i in A[1:]:\n",
    "        prefixsum.append(i + prefixsum[-1])\n",
    "        \n",
    "    while Q > 0:\n",
    "        start = int(input(\"start:\"))\n",
    "        end = int(input(\"end:\"))\n",
    "        if start == 0:\n",
    "            print(prefixsum[end])\n",
    "        else:\n",
    "            print(prefixsum[end]-prefixsum[start-1])\n",
    "        \n",
    "        Q -= 1\n",
    "give_query_results([1, 3, 0, -6, 8, 10, 2, 7],2)"
   ]
  },
  {
   "cell_type": "code",
   "execution_count": null,
   "id": "41609fc4",
   "metadata": {},
   "outputs": [],
   "source": []
  },
  {
   "cell_type": "markdown",
   "id": "a1c549c4",
   "metadata": {},
   "source": [
    "#### Sum of all elements from index i to j :\n",
    "\n",
    "    If i!=0: sum = pf[j] - pf[i-1]\n",
    "\n",
    "    if i==0: sum = pf[j]\n"
   ]
  },
  {
   "cell_type": "code",
   "execution_count": null,
   "id": "a1125915",
   "metadata": {},
   "outputs": [],
   "source": []
  },
  {
   "cell_type": "code",
   "execution_count": null,
   "id": "999d480d",
   "metadata": {},
   "outputs": [],
   "source": []
  },
  {
   "cell_type": "markdown",
   "id": "cc128c36",
   "metadata": {},
   "source": [
    "### Given an array of size N return True if there is an equilibrium  index in the array . i is an equilibrium index if \n",
    "   #### sum of elements before i = sum of elemebts after i \n",
    "   \n",
    "   #### a[0] + .. + a[i-1] = a[i+1]+...+a[n-1]"
   ]
  },
  {
   "cell_type": "code",
   "execution_count": null,
   "id": "a08b0e3e",
   "metadata": {},
   "outputs": [],
   "source": [
    "# not every array has the equilibrium index . \n",
    "# like  [1,2,3,4,5].\n"
   ]
  },
  {
   "cell_type": "code",
   "execution_count": 435,
   "id": "ac4397d0",
   "metadata": {},
   "outputs": [
    {
     "data": {
      "text/plain": [
       "[5]"
      ]
     },
     "execution_count": 435,
     "metadata": {},
     "output_type": "execute_result"
    }
   ],
   "source": [
    "def equilibrium_index(A):   # TC:O(^2),SC:O(1)\n",
    "    \n",
    "    n = len(A)\n",
    "    eq_index = []\n",
    "    for i in range(n):\n",
    "        before_i = 0\n",
    "        for j in range(0,i):\n",
    "            before_i += A[j]\n",
    "        after_i = 0\n",
    "        for j in range(i+1,n):\n",
    "            after_i += A[j]\n",
    "        if before_i == after_i:\n",
    "            eq_index.append(i)\n",
    "    return eq_index\n",
    "            \n",
    "        \n",
    "A = [1,2,3,4,5,8,15]\n",
    "equilibrium_index(A)"
   ]
  },
  {
   "cell_type": "code",
   "execution_count": 436,
   "id": "5a73d41b",
   "metadata": {},
   "outputs": [
    {
     "data": {
      "text/plain": [
       "[3, 6]"
      ]
     },
     "execution_count": 436,
     "metadata": {},
     "output_type": "execute_result"
    }
   ],
   "source": [
    "A = [-7,1,5,2,-4,3,0]\n",
    "equilibrium_index(A)"
   ]
  },
  {
   "cell_type": "code",
   "execution_count": null,
   "id": "28b9ba65",
   "metadata": {},
   "outputs": [],
   "source": []
  },
  {
   "cell_type": "code",
   "execution_count": 443,
   "id": "9b6bfdb8",
   "metadata": {},
   "outputs": [
    {
     "data": {
      "text/plain": [
       "[5]"
      ]
     },
     "execution_count": 443,
     "metadata": {},
     "output_type": "execute_result"
    }
   ],
   "source": [
    "def equilibrium_index(A):   # TC:O(N),SC:O(N)\n",
    "    \n",
    "    n = len(A)\n",
    "    \n",
    "    prefix = [A[0]]\n",
    "    for x in A[1:]:\n",
    "        prefix.append(x+prefix[-1])\n",
    "    \n",
    "    \n",
    "    eq_index = []\n",
    "    \n",
    "    \n",
    "    for i in range(n):\n",
    "        \n",
    "        before_i = prefix[i-1]\n",
    "            \n",
    "        after_i = prefix[n-1]-prefix[i]\n",
    "        \n",
    "        if before_i == after_i:\n",
    "            eq_index.append(i)\n",
    "    if len(eq_index) == 0:\n",
    "        return \"No_Equilibrium_index\"\n",
    "    return eq_index\n",
    "            \n",
    "        \n",
    "A = [1,2,3,4,5,8,15]\n",
    "equilibrium_index(A)"
   ]
  },
  {
   "cell_type": "code",
   "execution_count": 444,
   "id": "8beaf3e6",
   "metadata": {},
   "outputs": [
    {
     "data": {
      "text/plain": [
       "[3, 6]"
      ]
     },
     "execution_count": 444,
     "metadata": {},
     "output_type": "execute_result"
    }
   ],
   "source": [
    "        \n",
    "A = [-7,1,5,2,-4,3,0]\n",
    "equilibrium_index(A)"
   ]
  },
  {
   "cell_type": "code",
   "execution_count": 445,
   "id": "d5984a33",
   "metadata": {},
   "outputs": [
    {
     "data": {
      "text/plain": [
       "'No_Equilibrium_index'"
      ]
     },
     "execution_count": 445,
     "metadata": {},
     "output_type": "execute_result"
    }
   ],
   "source": [
    "        \n",
    "A = [-7,1,5,2]\n",
    "equilibrium_index(A)"
   ]
  },
  {
   "cell_type": "code",
   "execution_count": 446,
   "id": "b10bc5a4",
   "metadata": {},
   "outputs": [
    {
     "data": {
      "text/plain": [
       "[0, 1, 2, 3, 4, 5]"
      ]
     },
     "execution_count": 446,
     "metadata": {},
     "output_type": "execute_result"
    }
   ],
   "source": [
    "        \n",
    "A = [0,0,0,0,0,0]\n",
    "equilibrium_index(A)"
   ]
  },
  {
   "cell_type": "code",
   "execution_count": null,
   "id": "1760fcf5",
   "metadata": {},
   "outputs": [],
   "source": []
  },
  {
   "cell_type": "code",
   "execution_count": null,
   "id": "54d9c46b",
   "metadata": {},
   "outputs": [],
   "source": [
    "# TC:O(N),SC:O(1)"
   ]
  },
  {
   "cell_type": "code",
   "execution_count": 451,
   "id": "cb93dc96",
   "metadata": {},
   "outputs": [
    {
     "data": {
      "text/plain": [
       "[5]"
      ]
     },
     "execution_count": 451,
     "metadata": {},
     "output_type": "execute_result"
    }
   ],
   "source": [
    "def equilibrium_index(A):\n",
    "    \n",
    "    n = len(A)\n",
    "    \n",
    "    total = sum(A)\n",
    "    eq_index = []\n",
    "        \n",
    "    before_i = 0\n",
    "    for i in range(n):\n",
    "        \n",
    "        after_i = total - A[i] - before_i\n",
    "        \n",
    "        if before_i == after_i:\n",
    "            eq_index.append(i)\n",
    "            \n",
    "        before_i += A[i] # update before_i total after calculating after_i total\n",
    "    \n",
    "    return eq_index\n",
    "            \n",
    "        \n",
    "A = [1,2,3,4,5,8,15]\n",
    "equilibrium_index(A)"
   ]
  },
  {
   "cell_type": "code",
   "execution_count": 452,
   "id": "9eb7df01",
   "metadata": {},
   "outputs": [
    {
     "data": {
      "text/plain": [
       "[3, 6]"
      ]
     },
     "execution_count": 452,
     "metadata": {},
     "output_type": "execute_result"
    }
   ],
   "source": [
    "        \n",
    "A = [-7,1,5,2,-4,3,0]\n",
    "equilibrium_index(A)"
   ]
  },
  {
   "cell_type": "code",
   "execution_count": 453,
   "id": "2d71e170",
   "metadata": {},
   "outputs": [
    {
     "data": {
      "text/plain": [
       "[]"
      ]
     },
     "execution_count": 453,
     "metadata": {},
     "output_type": "execute_result"
    }
   ],
   "source": [
    "        \n",
    "A = [-7,1,5,2]\n",
    "equilibrium_index(A)"
   ]
  },
  {
   "cell_type": "code",
   "execution_count": 454,
   "id": "2051eb8b",
   "metadata": {},
   "outputs": [
    {
     "data": {
      "text/plain": [
       "[0, 1, 2, 3, 4, 5]"
      ]
     },
     "execution_count": 454,
     "metadata": {},
     "output_type": "execute_result"
    }
   ],
   "source": [
    "        \n",
    "A = [0,0,0,0,0,0]\n",
    "equilibrium_index(A)"
   ]
  },
  {
   "cell_type": "code",
   "execution_count": null,
   "id": "87a84f31",
   "metadata": {},
   "outputs": [],
   "source": []
  },
  {
   "cell_type": "markdown",
   "id": "a1f73237",
   "metadata": {},
   "source": [
    "### Range Sum Query\n",
    "\n",
    "#### You are given an integer array A of length N.\n",
    "#### You are also given a 2D integer array B with dimensions M x 2, where each row denotes a [L, R] query.\n",
    "#### For each query, you have to find the sum of all elements from L to R indices in A (1 - indexed).\n",
    "#### More formally, find A[L] + A[L + 1] + A[L + 2] +... + A[R - 1] + A[R] for each query.\n",
    "\n",
    "    Problem Constraints\n",
    "    1 <= N, M <= 105\n",
    "    1 <= A[i] <= 109\n",
    "    1 <= L <= R <= N\n",
    "\n",
    "    Input Format\n",
    "    The first argument is the integer array A.\n",
    "    The second argument is the 2D integer array B.\n",
    "\n",
    "    Output Format\n",
    "    Return an integer array of length M where ith element is the answer for ith query in B.\n",
    "\n",
    "    Example Input\n",
    "    Input 1:\n",
    "    A = [1, 2, 3, 4, 5]\n",
    "    B = [[1, 4], [2, 3]]\n",
    "    Input 2:\n",
    "\n",
    "    A = [2, 2, 2]\n",
    "    B = [[1, 1], [2, 3]]\n",
    "\n",
    "\n",
    "    Example Output\n",
    "    Output 1:\n",
    "    [10, 5]\n",
    "    Output 2:\n",
    "\n",
    "    [2, 4]\n",
    "\n",
    "\n",
    "    Example Explanation\n",
    "    Explanation 1:\n",
    "    The sum of all elements of A[1 ... 4] = 1 + 2 + 3 + 4 = 10.\n",
    "    The sum of all elements of A[2 ... 3] = 2 + 3 = 5.\n",
    "    Explanation 2:\n",
    "\n",
    "    The sum of all elements of A[1 ... 1] = 2 = 2.\n",
    "    The sum of all elements of A[2 ... 3] = 2 + 2 = 4."
   ]
  },
  {
   "cell_type": "code",
   "execution_count": 461,
   "id": "1a9080f7",
   "metadata": {},
   "outputs": [
    {
     "name": "stdout",
     "output_type": "stream",
     "text": [
      "1\n",
      "4\n"
     ]
    }
   ],
   "source": [
    "start,end = [1,4]\n",
    "print(start)\n",
    "print(end)"
   ]
  },
  {
   "cell_type": "code",
   "execution_count": 462,
   "id": "af681dd1",
   "metadata": {},
   "outputs": [],
   "source": [
    "B = [[1, 4], [2, 3]]"
   ]
  },
  {
   "cell_type": "code",
   "execution_count": 464,
   "id": "e0a44004",
   "metadata": {},
   "outputs": [
    {
     "name": "stdout",
     "output_type": "stream",
     "text": [
      "1 4\n",
      "\n",
      "2 3\n",
      "\n"
     ]
    }
   ],
   "source": [
    "for (start,end) in B:\n",
    "    print(start,end)\n",
    "    print()"
   ]
  },
  {
   "cell_type": "code",
   "execution_count": 455,
   "id": "c5c29130",
   "metadata": {},
   "outputs": [],
   "source": [
    "def rangeSum(A, B):\n",
    "\n",
    "\n",
    "    p = [A[0]]\n",
    "    for i in range(1,len(A)-1+1):\n",
    "        p.append(A[i]+p[i-1])\n",
    "\n",
    "    ans = []\n",
    "\n",
    "    for (start,end) in B:\n",
    "\n",
    "        if start == 1:\n",
    "            sum = p[end-1]\n",
    "        else:\n",
    "            sum = p[end-1]-p[start-2]\n",
    "        ans.append(sum)\n",
    "    return ans"
   ]
  },
  {
   "cell_type": "code",
   "execution_count": 456,
   "id": "e86fcd50",
   "metadata": {},
   "outputs": [
    {
     "data": {
      "text/plain": [
       "[10, 5]"
      ]
     },
     "execution_count": 456,
     "metadata": {},
     "output_type": "execute_result"
    }
   ],
   "source": [
    "A = [1, 2, 3, 4, 5]\n",
    "B = [[1, 4], [2, 3]]\n",
    "rangeSum(A, B)"
   ]
  },
  {
   "cell_type": "code",
   "execution_count": null,
   "id": "0c980a87",
   "metadata": {},
   "outputs": [],
   "source": []
  },
  {
   "cell_type": "markdown",
   "id": "eabe5c55",
   "metadata": {},
   "source": [
    "### Special Index\n",
    "\n",
    "#### Given an array, arr[] of size N, the task is to find the count of array indices such that removing an element from these indices makes the sum of even-indexed and odd-indexed array elements equal.\n",
    "\n",
    "    Problem Constraints\n",
    "    1 <= n <= 105\n",
    "    -105 <= A[i] <= 105\n",
    "\n",
    "    Input Format\n",
    "    First argument contains an array A of integers of size N\n",
    "\n",
    "    Output Format\n",
    "    Return the count of array indices such that removing an element from these indices makes the sum of even-indexed and odd-indexed array elements equal.\n",
    "\n",
    "    Example Input\n",
    "    Input 1:\n",
    "    A=[2, 1, 6, 4]\n",
    "    Input 2:\n",
    "    A=[1, 1, 1]\n",
    "\n",
    "    Example Output\n",
    "    Output 1:\n",
    "    1\n",
    "    Output 2:\n",
    "    3\n",
    "\n",
    "    Example Explanation\n",
    "    Explanation 1:\n",
    "    Removing arr[1] from the array modifies arr[] to { 2, 6, 4 } such that, arr[0] + arr[2] = arr[1]. \n",
    "    Therefore, the required output is 1. \n",
    "    Explanation 2:\n",
    "\n",
    "    Removing arr[0] from the given array modifies arr[] to { 1, 1 } such that arr[0] = arr[1] \n",
    "    Removing arr[1] from the given array modifies arr[] to { 1, 1 } such that arr[0] = arr[1] \n",
    "    Removing arr[2] from the given array modifies arr[] to { 1, 1 } such that arr[0] = arr[1] \n",
    "    Therefore, the required output is 3."
   ]
  },
  {
   "cell_type": "code",
   "execution_count": 81,
   "id": "865cc16d",
   "metadata": {},
   "outputs": [
    {
     "data": {
      "text/plain": [
       "3"
      ]
     },
     "execution_count": 81,
     "metadata": {},
     "output_type": "execute_result"
    }
   ],
   "source": [
    "def special_index(A):\n",
    "    n = len(A)\n",
    "    \n",
    "    count = 0\n",
    "    for x in range(n):\n",
    "\n",
    "        temp_list = A[:]\n",
    "        temp_list.pop(x)\n",
    "               \n",
    "        odd_index_sum = 0\n",
    "        even_index_sum = 0\n",
    "        nt = len(temp_list)\n",
    "        \n",
    "        for i in range(nt):\n",
    "            if i % 2 == 0:\n",
    "                \n",
    "                even_index_sum += temp_list[i]\n",
    "            else:\n",
    "                odd_index_sum += temp_list[i]\n",
    "        if even_index_sum == odd_index_sum:\n",
    "            count += 1\n",
    "    return count\n",
    "            \n",
    "           \n",
    "A = [2, 1,3 ,2,0,8,7,1,2,6, 4,2,5,8,4,1]\n",
    "special_index(A)\n"
   ]
  },
  {
   "cell_type": "code",
   "execution_count": 82,
   "id": "0b265071",
   "metadata": {},
   "outputs": [
    {
     "data": {
      "text/plain": [
       "0"
      ]
     },
     "execution_count": 82,
     "metadata": {},
     "output_type": "execute_result"
    }
   ],
   "source": [
    "\n",
    "A = [1,2,0,6,8,3,4,0,7]\n",
    "special_index(A)"
   ]
  },
  {
   "cell_type": "code",
   "execution_count": 83,
   "id": "3fd32267",
   "metadata": {},
   "outputs": [
    {
     "data": {
      "text/plain": [
       "3"
      ]
     },
     "execution_count": 83,
     "metadata": {},
     "output_type": "execute_result"
    }
   ],
   "source": [
    "def special_index(A):\n",
    "    n = len(A)\n",
    "    evenprefix = []\n",
    "    evensum = 0\n",
    "\n",
    "    for i in range(n):\n",
    "        if i % 2 == 0:\n",
    "            evensum += A[i]\n",
    "            evenprefix.append(evensum)\n",
    "        else:\n",
    "            evenprefix.append(evenprefix[-1])\n",
    "\n",
    "    oddsum = 0\n",
    "    oddprefix = [0]\n",
    "    for i in range(1,n):\n",
    "        if i % 2 != 0:\n",
    "            oddsum += A[i]\n",
    "        oddprefix.append(oddsum)\n",
    "\n",
    "\n",
    "    count = 0\n",
    "\n",
    "    for i in range(n):\n",
    "        evenindex_sum = evenprefix[i-1]+oddprefix[n-1]-oddprefix[i]\n",
    "        oddindex_sum = oddprefix[i-1]+ evenprefix[n-1]-evenprefix[i]\n",
    "\n",
    "        if evenindex_sum == oddindex_sum:\n",
    "            count += 1\n",
    "    return (count)\n",
    "\n",
    "\n",
    "A = [2, 1,3 ,2,0,8,7,1,2,6, 4,2,5,8,4,1]\n",
    " #  0   1 2  3 4 5 6 7 8 9 10 11 12\n",
    "special_index(A)\n"
   ]
  },
  {
   "cell_type": "code",
   "execution_count": 84,
   "id": "671904bd",
   "metadata": {},
   "outputs": [
    {
     "data": {
      "text/plain": [
       "0"
      ]
     },
     "execution_count": 84,
     "metadata": {},
     "output_type": "execute_result"
    }
   ],
   "source": [
    "\n",
    "A = [1,2,0,6,8,3,4,0,7]\n",
    "special_index(A)"
   ]
  },
  {
   "cell_type": "code",
   "execution_count": null,
   "id": "ff693155",
   "metadata": {},
   "outputs": [],
   "source": []
  },
  {
   "cell_type": "markdown",
   "id": "2386a661",
   "metadata": {},
   "source": [
    "###  Pick from both sides!\n",
    "\n",
    "#### You are given an integer array A of size N. You have to pick B elements in total. Some (possibly 0) elements from left end of array A and some (possibly 0) from the right end of array A to get the maximum sum.  Find and return this maximum possible sum.\n",
    "\n",
    "    NOTE: Suppose B = 4, and array A contains 10 elements, then\n",
    "    You can pick the first four elements or can pick the last four elements, or can pick 1 from front and 3 from the back, etc. You need to return the maximum possible sum of elements you can pick.\n",
    "\n",
    "    Problem Constraints\n",
    "    1 <= N <= 105\n",
    "    1 <= B <= N\n",
    "    -103 <= A[i] <= 103\n",
    "\n",
    "    Input Format\n",
    "    First argument is an integer array A.\n",
    "    Second argument is an integer B.\n",
    "    Output Format\n",
    "    Return an integer denoting the maximum possible sum of elements you picked.\n",
    "\n",
    "    Example Input\n",
    "    Input 1:\n",
    "     A = [5, -2, 3 , 1, 2]\n",
    "     B = 3\n",
    "    Input 2:\n",
    "     A = [1, 2]\n",
    "     B = 1\n",
    "    Example Output\n",
    "    Output 1:\n",
    "     8\n",
    "    Output 2:\n",
    "     2\n",
    "\n",
    "    Example Explanation\n",
    "    Explanation 1:\n",
    "\n",
    "     Pick element 5 from front and element (1, 2) from back so we get 5 + 1 + 2 = 8\n",
    "    Explanation 2:\n",
    "\n",
    "     Pick element 2 from end as this is the maximum we can get"
   ]
  },
  {
   "cell_type": "code",
   "execution_count": null,
   "id": "03ecf569",
   "metadata": {},
   "outputs": [],
   "source": []
  },
  {
   "cell_type": "code",
   "execution_count": 1,
   "id": "6b793b8f",
   "metadata": {},
   "outputs": [],
   "source": []
  },
  {
   "cell_type": "code",
   "execution_count": 4,
   "id": "d2233924",
   "metadata": {},
   "outputs": [
    {
     "data": {
      "text/plain": [
       "8"
      ]
     },
     "execution_count": 4,
     "metadata": {},
     "output_type": "execute_result"
    }
   ],
   "source": [
    "def pick_from_both_side(A,B):\n",
    "    \n",
    "    n = len(A)\n",
    "    maxsum = -float(\"inf\")\n",
    "    \n",
    "    prefixsum = [A[0]]\n",
    "    for x in A[1:]:\n",
    "        prefixsum.append(x+prefixsum[-1])\n",
    "        \n",
    "    \n",
    "    for leftpick in range(B):\n",
    "        rightpick = B - leftpick\n",
    "        \n",
    "\n",
    "        \n",
    "        if leftpick == 0:\n",
    "            leftsum = 0\n",
    "        else:\n",
    "            leftsum = prefixsum[leftpick-1]\n",
    "        \n",
    "        if n - rightpick == 0:\n",
    "            rightsum = prefixsum[n-1]\n",
    "        else:\n",
    "            rightsum = prefixsum[n-1]-prefixsum[n - rightpick -1]\n",
    "        \n",
    "        total = leftsum + rightsum\n",
    "        \n",
    "        if total > maxsum:\n",
    "            maxsum = total\n",
    "    return maxsum\n",
    "        \n",
    "    \n",
    "A = [5, -2, 3 , 1, 2]\n",
    "B = 3\n",
    "pick_from_both_side(A,B)\n",
    "    \n"
   ]
  },
  {
   "cell_type": "code",
   "execution_count": null,
   "id": "6b82834b",
   "metadata": {},
   "outputs": [],
   "source": []
  },
  {
   "cell_type": "markdown",
   "id": "acd7184d",
   "metadata": {},
   "source": [
    "###  Time to equality\n",
    "\n",
    "#### Given an integer array A of size N. In one second, you can increase the value of one element by 1. Find the minimum time in seconds to make all elements of the array equal.\n",
    "\n",
    "    Problem Constraints\n",
    "    1 <= N <= 1000000\n",
    "    1 <= A[i] <= 1000\n",
    "\n",
    "    Input Format\n",
    "    First argument is an integer array A.\n",
    "    Output Format\n",
    "    Return an integer denoting the minimum time to make all elements equal.\n",
    "\n",
    "    Example Input\n",
    "    A = [2, 4, 1, 3, 2]\n",
    "    Example Output\n",
    "    8\n",
    "\n",
    "    Example Explanation\n",
    "    We can change the array A = [4, 4, 4, 4, 4]. The time required will be 8 seconds."
   ]
  },
  {
   "cell_type": "code",
   "execution_count": 5,
   "id": "43915a68",
   "metadata": {},
   "outputs": [
    {
     "data": {
      "text/plain": [
       "8"
      ]
     },
     "execution_count": 5,
     "metadata": {},
     "output_type": "execute_result"
    }
   ],
   "source": [
    "def time_to_equality(A):\n",
    "    maxval = max(A)\n",
    "    equalizedby = 0\n",
    "    for i in A:\n",
    "        diff = maxval - i\n",
    "        equalizedby += diff\n",
    "    return equalizedby\n",
    "        \n",
    "    \n",
    "    \n",
    "A = [2,4,1,3,2]\n",
    "time_to_equality(A)"
   ]
  },
  {
   "cell_type": "code",
   "execution_count": null,
   "id": "87f30f53",
   "metadata": {},
   "outputs": [],
   "source": []
  },
  {
   "cell_type": "markdown",
   "id": "4fd3612f",
   "metadata": {},
   "source": [
    "### Product array puzzle\n",
    "\n",
    "#### Given an array of integers A, find and return the product array of the same size where the ith element of the product array will be equal to the product of all the elements divided by the ith element of the array.\n",
    "\n",
    "    Note: It is always possible to form the product array with integer (32 bit) values. Solve it without using the division operator.\n",
    "\n",
    "    Input Format\n",
    "    The only argument given is the integer array A.\n",
    "    Output Format\n",
    "    Return the product array.\n",
    "    Constraints\n",
    "\n",
    "    2 <= length of the array <= 1000\n",
    "    1 <= A[i] <= 10\n",
    "    For Example\n",
    "\n",
    "    Input 1:\n",
    "        A = [1, 2, 3, 4, 5]\n",
    "    Output 1:\n",
    "        [120, 60, 40, 30, 24]\n",
    "\n",
    "    Input 2:\n",
    "        A = [5, 1, 10, 1]\n",
    "    Output 2:\n",
    "        [10, 50, 5, 50]"
   ]
  },
  {
   "cell_type": "code",
   "execution_count": null,
   "id": "7c09c688",
   "metadata": {},
   "outputs": [],
   "source": []
  },
  {
   "cell_type": "code",
   "execution_count": 11,
   "id": "48b67617",
   "metadata": {},
   "outputs": [
    {
     "data": {
      "text/plain": [
       "[120, 60, 40, 30, 24]"
      ]
     },
     "execution_count": 11,
     "metadata": {},
     "output_type": "execute_result"
    }
   ],
   "source": [
    "def Product_array_puzzle(A):\n",
    "    product = 1\n",
    "    for i in A:\n",
    "        product *= i\n",
    "    \n",
    "    for i in range(len(A)):\n",
    "        A[i] = int(product/A[i])\n",
    "    return(A)\n",
    "    \n",
    "\n",
    "Product_array_puzzle([1,2,3,4,5])"
   ]
  },
  {
   "cell_type": "code",
   "execution_count": 15,
   "id": "b14116cf",
   "metadata": {},
   "outputs": [
    {
     "data": {
      "text/plain": [
       "[120, 60, 40, 30, 24]"
      ]
     },
     "execution_count": 15,
     "metadata": {},
     "output_type": "execute_result"
    }
   ],
   "source": [
    "def Product_array_puzzle(A):\n",
    "\n",
    "    product = 1\n",
    "    for i in A:\n",
    "        product *= i\n",
    "    \n",
    "    return [int(product/i) for i in A]\n",
    "    \n",
    "\n",
    "Product_array_puzzle([1,2,3,4,5])"
   ]
  },
  {
   "cell_type": "code",
   "execution_count": null,
   "id": "1d867168",
   "metadata": {},
   "outputs": [],
   "source": []
  },
  {
   "cell_type": "markdown",
   "id": "ac566ff8",
   "metadata": {},
   "source": [
    "### count good pairs : \n",
    "\n",
    "#### given a string ( all lower case ) . COunt the number of pairs (i,j) such that i<j and s[i] = \"a\" and s[j] = \"g\".\n",
    "#### given string S count the number of occurances of subsquence \"ag\""
   ]
  },
  {
   "cell_type": "code",
   "execution_count": 28,
   "id": "c18d7ba4",
   "metadata": {},
   "outputs": [
    {
     "data": {
      "text/plain": [
       "8"
      ]
     },
     "execution_count": 28,
     "metadata": {},
     "output_type": "execute_result"
    }
   ],
   "source": [
    "\n",
    "\n",
    "def count_good_pairs(S):\n",
    "    \n",
    "    n = len(S)\n",
    "    occurances = 0\n",
    "    for i in range(n):\n",
    "        if S[i] == \"a\":\n",
    "            for j in range(i+1,n):\n",
    "                if S[j] == \"g\":\n",
    "                    occurances += 1\n",
    "    return occurances\n",
    "    \n",
    "    \n",
    "S = \"axgabbxggaxg\"\n",
    "count_good_pairs(S)\n"
   ]
  },
  {
   "cell_type": "code",
   "execution_count": null,
   "id": "9b77a15c",
   "metadata": {},
   "outputs": [],
   "source": []
  },
  {
   "cell_type": "code",
   "execution_count": 26,
   "id": "cfe17277",
   "metadata": {},
   "outputs": [
    {
     "name": "stdout",
     "output_type": "stream",
     "text": [
      "[4, 4, 4, 3, 3, 3, 3, 3, 2, 1, 1, 1]\n"
     ]
    },
    {
     "data": {
      "text/plain": [
       "8"
      ]
     },
     "execution_count": 26,
     "metadata": {},
     "output_type": "execute_result"
    }
   ],
   "source": [
    "\n",
    "\n",
    "def count_good_pairs(S):\n",
    "    \n",
    "    n = len(S)\n",
    "    occurances = 0\n",
    "    \n",
    "    gcounts = [0]*n\n",
    "    gc = 0\n",
    "    for i in reversed(range(n)):\n",
    "        if S[i] == \"g\":\n",
    "            gc+=1\n",
    "        gcounts[i] = gc\n",
    "    \n",
    "    \n",
    "    print(gcounts)\n",
    "    for i in range(n):\n",
    "        if S[i] == \"a\":\n",
    "            occurances += gcounts[i]\n",
    "    \n",
    "    \n",
    "    return occurances\n",
    "    \n",
    "    \n",
    "S = \"axgabbxggaxg\"\n",
    "count_good_pairs(S)\n"
   ]
  },
  {
   "cell_type": "code",
   "execution_count": null,
   "id": "167ed4f2",
   "metadata": {},
   "outputs": [],
   "source": []
  },
  {
   "cell_type": "code",
   "execution_count": 27,
   "id": "69ee568a",
   "metadata": {},
   "outputs": [
    {
     "data": {
      "text/plain": [
       "8"
      ]
     },
     "execution_count": 27,
     "metadata": {},
     "output_type": "execute_result"
    }
   ],
   "source": [
    "\n",
    "\n",
    "def count_good_pairs(S):\n",
    "    \n",
    "    n = len(S)\n",
    "    occurances = 0\n",
    "    gcounts = 0\n",
    "    for i in reversed(range(n)):\n",
    "        if S[i] == \"g\":\n",
    "            gcounts += 1\n",
    "        if S[i] == \"a\":\n",
    "            occurances += gcounts\n",
    "    \n",
    "    \n",
    "    \n",
    "    return occurances\n",
    "    \n",
    "    \n",
    "S = \"axgabbxggaxg\"\n",
    "count_good_pairs(S)\n"
   ]
  },
  {
   "cell_type": "code",
   "execution_count": null,
   "id": "d7051b00",
   "metadata": {},
   "outputs": [],
   "source": []
  },
  {
   "cell_type": "markdown",
   "id": "a954b3d3",
   "metadata": {},
   "source": [
    "### given an array A of size n, count the number of leaders in the array : \n",
    "#### learder are any number which is strictly greater than all elements on its right .  "
   ]
  },
  {
   "cell_type": "code",
   "execution_count": 29,
   "id": "3975d861",
   "metadata": {},
   "outputs": [],
   "source": [
    "A = [1,7,8,-6,0,3,-7,-10]\n",
    "#        l      l  l  l"
   ]
  },
  {
   "cell_type": "code",
   "execution_count": null,
   "id": "8e3601ab",
   "metadata": {},
   "outputs": [],
   "source": []
  },
  {
   "cell_type": "code",
   "execution_count": 56,
   "id": "d55a94cf",
   "metadata": {},
   "outputs": [
    {
     "data": {
      "text/plain": [
       "5"
      ]
     },
     "execution_count": 56,
     "metadata": {},
     "output_type": "execute_result"
    }
   ],
   "source": [
    "def learders_on_the_way(A):\n",
    "    n = len(A)\n",
    "    number_of_leaders = 0\n",
    "    for i in range(n):\n",
    "        hasleader = True\n",
    "        for j in range(i+1,n):\n",
    "            if A[j] >= A[i]:\n",
    "                hasleader = False\n",
    "                break\n",
    "        if hasleader :\n",
    "            number_of_leaders += 1\n",
    "    return number_of_leaders\n",
    "    \n",
    "A = [1,9,7,8,8,-6,0,3,-7,-10]\n",
    "learders_on_the_way(A)\n"
   ]
  },
  {
   "cell_type": "code",
   "execution_count": null,
   "id": "4468acf1",
   "metadata": {},
   "outputs": [],
   "source": []
  },
  {
   "cell_type": "code",
   "execution_count": 55,
   "id": "a37073d3",
   "metadata": {},
   "outputs": [
    {
     "data": {
      "text/plain": [
       "5"
      ]
     },
     "execution_count": 55,
     "metadata": {},
     "output_type": "execute_result"
    }
   ],
   "source": [
    "def learders_on_the_way(A):\n",
    "    n = len(A)\n",
    "    number_of_leaders = 0\n",
    "    for i in range(n):\n",
    "        hasleader = False\n",
    "        for j in range(i+1,n):\n",
    "            if A[j] >= A[i]:\n",
    "                hasleader = True\n",
    "                \n",
    "        if hasleader :\n",
    "            number_of_leaders += 1\n",
    "    return number_of_leaders\n",
    "    \n",
    "A = [1,9,7,8,8,-6,0,3,-7,-10]\n",
    "learders_on_the_way(A)\n"
   ]
  },
  {
   "cell_type": "code",
   "execution_count": null,
   "id": "446dd0aa",
   "metadata": {},
   "outputs": [],
   "source": []
  },
  {
   "cell_type": "code",
   "execution_count": 52,
   "id": "1f32d120",
   "metadata": {},
   "outputs": [
    {
     "name": "stdout",
     "output_type": "stream",
     "text": [
      "[-10, -7, 3, 3, 3, 8, 8, 8, 9, 9]\n"
     ]
    },
    {
     "data": {
      "text/plain": [
       "5"
      ]
     },
     "execution_count": 52,
     "metadata": {},
     "output_type": "execute_result"
    }
   ],
   "source": [
    "\n",
    "def learders_on_the_way(A):\n",
    "    n = len(A)\n",
    "    suffixmax = []\n",
    "\n",
    "    maxxv = A[-1]\n",
    "    for i in reversed(range(n)):\n",
    "        maxxv = max(maxxv,A[i])\n",
    "        suffixmax.append(maxxv)\n",
    "\n",
    "    print(suffixmax)\n",
    "    return len(set(suffixmax))\n",
    "\n",
    "A = [1,9,7,8,8,-6,0,3,-7,-10]\n",
    "learders_on_the_way(A)"
   ]
  },
  {
   "cell_type": "code",
   "execution_count": null,
   "id": "4202e96a",
   "metadata": {},
   "outputs": [],
   "source": []
  },
  {
   "cell_type": "code",
   "execution_count": null,
   "id": "7890351f",
   "metadata": {},
   "outputs": [],
   "source": []
  },
  {
   "cell_type": "code",
   "execution_count": 63,
   "id": "6131eec7",
   "metadata": {},
   "outputs": [
    {
     "data": {
      "text/plain": [
       "5"
      ]
     },
     "execution_count": 63,
     "metadata": {},
     "output_type": "execute_result"
    }
   ],
   "source": [
    "\n",
    "def learders_on_the_way(A):\n",
    "    n = len(A)\n",
    "    maxval = -float(\"inf\")\n",
    "    count = 0\n",
    "    for i in reversed(range(n)):\n",
    "        if A[i] > maxval:\n",
    "            count += 1\n",
    "            maxval = A[i]\n",
    "    return count\n",
    "            \n",
    "    \n",
    "    \n",
    "\n",
    "A = [1,9,7,8,8,-6,0,3,-7,-10]\n",
    "learders_on_the_way(A)"
   ]
  },
  {
   "cell_type": "code",
   "execution_count": 64,
   "id": "6ae3d5e9",
   "metadata": {},
   "outputs": [
    {
     "data": {
      "text/plain": [
       "1"
      ]
     },
     "execution_count": 64,
     "metadata": {},
     "output_type": "execute_result"
    }
   ],
   "source": [
    "\n",
    "A = [0]\n",
    "learders_on_the_way(A)"
   ]
  },
  {
   "cell_type": "code",
   "execution_count": 65,
   "id": "019a72a6",
   "metadata": {},
   "outputs": [
    {
     "data": {
      "text/plain": [
       "0"
      ]
     },
     "execution_count": 65,
     "metadata": {},
     "output_type": "execute_result"
    }
   ],
   "source": [
    "\n",
    "A = []\n",
    "learders_on_the_way(A)"
   ]
  },
  {
   "cell_type": "markdown",
   "id": "3f7dba2d",
   "metadata": {},
   "source": [
    "#### Given an integer array A containing N distinct integers, you have to find all the leaders in array A. An element is a leader if it is strictly greater than all the elements to its right side.\n",
    "    NOTE:The rightmost element is always a leader.\n",
    "    \n",
    "    \n",
    "\n"
   ]
  },
  {
   "cell_type": "code",
   "execution_count": 121,
   "id": "2317f5ae",
   "metadata": {},
   "outputs": [
    {
     "data": {
      "text/plain": [
       "[9, 8, 3, -7, -10]"
      ]
     },
     "execution_count": 121,
     "metadata": {},
     "output_type": "execute_result"
    }
   ],
   "source": [
    "def leaders_on_the_way(A):\n",
    "    n = len(A)\n",
    "    ans = []\n",
    "    maxnum = -float('inf')\n",
    "    for i in range(n-1,-1,-1):\n",
    "        if  A[i] > maxnum :\n",
    "            ans.append(A[i])\n",
    "            maxnum = A[i]\n",
    "    return ans[::-1]\n",
    "\n",
    "A = [1,9,7,8,8,-6,0,3,-7,-10]\n",
    "leaders_on_the_way(A)"
   ]
  },
  {
   "cell_type": "markdown",
   "id": "1c42053a",
   "metadata": {},
   "source": [
    "### Closest MinMax : \n",
    "#### Given an array of size n , find the length of the smallest subarray which contains both min and max of the array ."
   ]
  },
  {
   "cell_type": "code",
   "execution_count": 71,
   "id": "13fff5c6",
   "metadata": {},
   "outputs": [
    {
     "name": "stdout",
     "output_type": "stream",
     "text": [
      "[0, 1, 5, -2]\n",
      "[1, 5, -2]\n",
      "[5, -2]\n"
     ]
    },
    {
     "data": {
      "text/plain": [
       "2"
      ]
     },
     "execution_count": 71,
     "metadata": {},
     "output_type": "execute_result"
    }
   ],
   "source": [
    "\n",
    "def closest_min_max(A):\n",
    "    n = len(A)\n",
    "    Amin = min(A)\n",
    "    Amax = max(A)\n",
    "    minlen = float(\"inf\")\n",
    "    for s in range(n):\n",
    "        for e in range(s,n):\n",
    "            if Amin in A[s:e+1] and Amax in A[s:e+1]:\n",
    "                length = e-s+1\n",
    "                \n",
    "                if length < minlen:\n",
    "                    minlen = length\n",
    "                    print(A[s:e+1])\n",
    "                \n",
    "    return minlen\n",
    "\n",
    "A = [0,1,5,-2,3,2,5,5,4,-2,3,0,5]\n",
    "closest_min_max(A)"
   ]
  },
  {
   "cell_type": "code",
   "execution_count": 73,
   "id": "8f939f42",
   "metadata": {},
   "outputs": [
    {
     "name": "stdout",
     "output_type": "stream",
     "text": [
      "[1, 6, 4, 2, 7]\n",
      "[7, 5, 3, 1]\n"
     ]
    },
    {
     "data": {
      "text/plain": [
       "4"
      ]
     },
     "execution_count": 73,
     "metadata": {},
     "output_type": "execute_result"
    }
   ],
   "source": [
    "\n",
    "A = [1, 6, 4, 2, 7, 7, 5, 3, 1, 1, 5]\n",
    "closest_min_max(A)"
   ]
  },
  {
   "cell_type": "code",
   "execution_count": 74,
   "id": "ac8a0e10",
   "metadata": {},
   "outputs": [
    {
     "name": "stdout",
     "output_type": "stream",
     "text": [
      "[8]\n"
     ]
    },
    {
     "data": {
      "text/plain": [
       "1"
      ]
     },
     "execution_count": 74,
     "metadata": {},
     "output_type": "execute_result"
    }
   ],
   "source": [
    "closest_min_max([8, 8, 8, 8, 8, 8])"
   ]
  },
  {
   "cell_type": "code",
   "execution_count": null,
   "id": "75e03ee2",
   "metadata": {},
   "outputs": [],
   "source": []
  },
  {
   "cell_type": "code",
   "execution_count": null,
   "id": "58e07252",
   "metadata": {},
   "outputs": [],
   "source": []
  },
  {
   "cell_type": "code",
   "execution_count": 77,
   "id": "1e777ce8",
   "metadata": {
    "scrolled": true
   },
   "outputs": [
    {
     "name": "stdout",
     "output_type": "stream",
     "text": [
      "[0, 1, 5, -2]\n",
      "[1, 5, -2]\n",
      "[5, -2]\n"
     ]
    },
    {
     "data": {
      "text/plain": [
       "2"
      ]
     },
     "execution_count": 77,
     "metadata": {},
     "output_type": "execute_result"
    }
   ],
   "source": [
    "\n",
    "def closest_min_max(A):\n",
    "    n = len(A)\n",
    "    \n",
    "    Amin = float(\"inf\")\n",
    "    for i in A:\n",
    "        if i < Amin:\n",
    "            Amin = i\n",
    "            \n",
    "    Amax = -float(\"inf\")\n",
    "    for i in A:\n",
    "        if i > Amax:\n",
    "            Amax = i\n",
    "            \n",
    "    minlen = float(\"inf\")\n",
    "    \n",
    "    for s in range(n):\n",
    "        for e in range(s,n):\n",
    "            \n",
    "            hasmin = False\n",
    "            hasmax = False\n",
    "            \n",
    "            \n",
    "            for i in range(s,e+1):\n",
    "                if A[i] == Amin:\n",
    "                    hasmin = True\n",
    "                if A[i] == Amax:\n",
    "                    hasmax = True\n",
    "            if hasmin and hasmax:\n",
    "                length  = e-s+1\n",
    "                if length < minlen:\n",
    "                    minlen = length\n",
    "                    print(A[s:e+1])\n",
    "                \n",
    "    return minlen\n",
    "\n",
    "A = [0,1,5,-2,3,2,5,5,4,-2,3,0,5]\n",
    "closest_min_max(A)"
   ]
  },
  {
   "cell_type": "code",
   "execution_count": null,
   "id": "41dc9bb9",
   "metadata": {},
   "outputs": [],
   "source": []
  },
  {
   "cell_type": "code",
   "execution_count": null,
   "id": "d6ec9276",
   "metadata": {},
   "outputs": [],
   "source": []
  },
  {
   "cell_type": "code",
   "execution_count": 123,
   "id": "e00c3d83",
   "metadata": {},
   "outputs": [
    {
     "data": {
      "text/plain": [
       "2"
      ]
     },
     "execution_count": 123,
     "metadata": {},
     "output_type": "execute_result"
    }
   ],
   "source": [
    "\n",
    "def closest_min_max(A):\n",
    "    n = len(A)\n",
    "    \n",
    "    Amin = float(\"inf\")\n",
    "    for i in A:\n",
    "        if i < Amin:\n",
    "            Amin = i\n",
    "            \n",
    "    Amax = -float(\"inf\")\n",
    "    for i in A:\n",
    "        if i > Amax:\n",
    "            Amax = i\n",
    "            \n",
    "    minlen = float(\"inf\")\n",
    "    \n",
    "    imin = None\n",
    "    imax = None\n",
    "    \n",
    "    for i in range(n):\n",
    "        \n",
    "        if A[i] == Amin:\n",
    "            imin = i\n",
    "            if imax is not None:\n",
    "                length = imin - imax + 1\n",
    "                minlen = min(length,minlen)\n",
    "        if A[i] == Amax:\n",
    "            imax = i\n",
    "            if imin is not None:\n",
    "                length = imax - imin + 1\n",
    "                minlen = min(length,minlen)\n",
    "            \n",
    "    return minlen\n",
    "\n",
    "A = [0,1,5,-2,3,2,5,5,4,-2,3,0,5]\n",
    "closest_min_max(A)"
   ]
  },
  {
   "cell_type": "code",
   "execution_count": null,
   "id": "82e7fe9e",
   "metadata": {},
   "outputs": [],
   "source": []
  },
  {
   "cell_type": "code",
   "execution_count": null,
   "id": "3316b696",
   "metadata": {},
   "outputs": [],
   "source": []
  },
  {
   "cell_type": "markdown",
   "id": "0b58e24c",
   "metadata": {},
   "source": [
    "### Bulbs\n",
    "\n",
    "#### A wire connects N light bulbs. Each bulb has a switch associated with it; however, due to faulty wiring, a switch also changes the state of all the bulbs to the right of the current bulb. Given an initial state of all bulbs, find the minimum number of switches you have to press to turn on all the bulbs.  You can press the same switch multiple times.\n",
    "\n",
    "    Note: 0 represents the bulb is off and 1 represents the bulb is on.\n",
    "    Problem Constraints\n",
    "    0 <= N <= 5×105\n",
    "    0 <= A[i] <= 1\n",
    "    Input Format\n",
    "    The first and the only argument contains an integer array A, of size N.\n",
    "    Output Format\n",
    "    Return an integer representing the minimum number of switches required.\n",
    "\n",
    "    Example Input\n",
    "    Input 1:\n",
    "     A = [0, 1, 0, 1]\n",
    "    Input 2:\n",
    "     A = [1, 1, 1, 1]\n",
    "    Example Output\n",
    "    Output 1:\n",
    "     4\n",
    "    Output 2:\n",
    "     0\n",
    "\n",
    "    Example Explanation\n",
    "    Explanation 1:\n",
    "     press switch 0 : [1 0 1 0]\n",
    "     press switch 1 : [1 1 0 1]\n",
    "     press switch 2 : [1 1 1 0]\n",
    "     press switch 3 : [1 1 1 1]\n",
    "    Explanation 2:\n",
    "     There is no need to turn any switches as all the bulbs are already on."
   ]
  },
  {
   "cell_type": "code",
   "execution_count": 88,
   "id": "8c5b8bb0",
   "metadata": {},
   "outputs": [
    {
     "name": "stdout",
     "output_type": "stream",
     "text": [
      "7\n"
     ]
    }
   ],
   "source": [
    "A = [0,1,0,1,0,1,1,0]\n",
    "state = 0\n",
    "count = 0\n",
    "n = len(A)\n",
    "for i in range(n):\n",
    "    if A[i] == state:\n",
    "        count += 1\n",
    "        state = 1- state\n",
    "        A[i] = state\n",
    "print(count)"
   ]
  },
  {
   "cell_type": "code",
   "execution_count": null,
   "id": "0a4fc7e9",
   "metadata": {},
   "outputs": [],
   "source": []
  },
  {
   "cell_type": "markdown",
   "id": "282256e0",
   "metadata": {},
   "source": [
    "### Amazing Subarrays: \n",
    "\n",
    "#### You are given a string S, and you have to find all the amazing substrings of S. An amazing Substring is one that starts with a vowel (a, e, i, o, u, A, E, I, O, U).\n",
    "\n",
    "    Input\n",
    "\n",
    "    Only argument given is string S.\n",
    "    Output\n",
    "\n",
    "    Return a single integer X mod 10003, here X is the number of Amazing Substrings in given the string.\n",
    "    Constraints\n",
    "\n",
    "    1 <= length(S) <= 1e6\n",
    "    S can have special characters\n",
    "    Example\n",
    "\n",
    "    Input\n",
    "    ABEC\n",
    "\n",
    "    Output\n",
    "    6\n",
    "\n",
    "    Explanation\n",
    "    Amazing substrings of given string are :\n",
    "    1. A\n",
    "    2. AB\n",
    "    3. ABE\n",
    "    4. ABEC\n",
    "    5. E\n",
    "    6. EC\n",
    "    here number of substrings are 6 and 6 % 10003 = 6."
   ]
  },
  {
   "cell_type": "code",
   "execution_count": 98,
   "id": "6e2ed11a",
   "metadata": {},
   "outputs": [
    {
     "name": "stdout",
     "output_type": "stream",
     "text": [
      "6\n"
     ]
    }
   ],
   "source": [
    "A = \"ABEC\"\n",
    "n = len(A)\n",
    "x = len(A)\n",
    "count_of_subarrays = 0\n",
    "vowels = set({'a', 'e', 'i', 'o', 'u', 'A', 'E', 'I', 'O', 'U'})\n",
    "for i in range(n):\n",
    "    if A[i] in vowels:\n",
    "        count_of_subarrays += x\n",
    "    x -= 1\n",
    "print(count_of_subarrays % 10003)"
   ]
  },
  {
   "cell_type": "code",
   "execution_count": 100,
   "id": "c8cd42da",
   "metadata": {},
   "outputs": [
    {
     "name": "stdout",
     "output_type": "stream",
     "text": [
      "A\n",
      "AB\n",
      "ABE\n",
      "ABEC\n",
      "E\n",
      "EC\n",
      "6\n"
     ]
    }
   ],
   "source": [
    "A = \"ABEC\"\n",
    "n = len(A)\n",
    "x = len(A)\n",
    "count_of_subarrays = 0\n",
    "vowels = set({'a', 'e', 'i', 'o', 'u', 'A', 'E', 'I', 'O', 'U'})\n",
    "for s in range(n):\n",
    "    for e in range(s,n):\n",
    "        if A[s] in vowels:\n",
    "            print(A[s:e+1])\n",
    "            count_of_subarrays += 1\n",
    "print(count_of_subarrays % 10003)"
   ]
  },
  {
   "cell_type": "code",
   "execution_count": null,
   "id": "ceed842f",
   "metadata": {},
   "outputs": [],
   "source": []
  },
  {
   "cell_type": "markdown",
   "id": "b5c46a84",
   "metadata": {},
   "source": [
    "### Even Subarrays\n",
    "\n",
    "#### You are given an integer array A. Decide whether it is possible to divide the array into one or more subarrays of even length such that the first and last element of all subarrays will be even. Return \"YES\" if it is possible; otherwise, return \"NO\" (without quotes).\n",
    "\n",
    "    Problem Constraints\n",
    "    1 <= |A|, A[i] <= 106\n",
    "    Input Format\n",
    "    The first and the only input argument is an integer array, A.\n",
    "    Output Format\n",
    "    Return a string \"YES\" or \"NO\" denoting the answer.\n",
    "\n",
    "    Example Input\n",
    "    Input 1:\n",
    "     A = [2, 4, 8, 6]\n",
    "    Input 2:\n",
    "     A = [2, 4, 8, 7, 6]\n",
    "    Example Output\n",
    "    Output 1:\n",
    "     \"YES\"\n",
    "    Output 2:\n",
    "     \"NO\"\n",
    "    Example Explanation\n",
    "    Explanation 1:\n",
    "     We can divide A into [2, 4] and [8, 6].\n",
    "    Explanation 2:\n",
    "     There is no way to divide the array into even length subarrays."
   ]
  },
  {
   "cell_type": "code",
   "execution_count": 116,
   "id": "c5a5dfe3",
   "metadata": {},
   "outputs": [
    {
     "data": {
      "text/plain": [
       "'NO'"
      ]
     },
     "execution_count": 116,
     "metadata": {},
     "output_type": "execute_result"
    }
   ],
   "source": [
    "A = [2,4,8,7,6]\n",
    "def even_subarrays(A):\n",
    "    if len(A)%2 == 0 and A[0]%2 == 0 and A[-1]%2 == 0:\n",
    "        return \"YES\"\n",
    "    else:\n",
    "        return \"NO\"\n",
    "    \n",
    "A = [2,4,8,7,6]\n",
    "even_subarrays(A)"
   ]
  },
  {
   "cell_type": "code",
   "execution_count": 117,
   "id": "240e7522",
   "metadata": {},
   "outputs": [
    {
     "data": {
      "text/plain": [
       "'YES'"
      ]
     },
     "execution_count": 117,
     "metadata": {},
     "output_type": "execute_result"
    }
   ],
   "source": [
    "A = [2,4,8,6]\n",
    "even_subarrays(A)"
   ]
  },
  {
   "cell_type": "code",
   "execution_count": 118,
   "id": "615a072c",
   "metadata": {},
   "outputs": [
    {
     "data": {
      "text/plain": [
       "'NO'"
      ]
     },
     "execution_count": 118,
     "metadata": {},
     "output_type": "execute_result"
    }
   ],
   "source": [
    "A = [2,4,8,5]\n",
    "even_subarrays(A)"
   ]
  },
  {
   "cell_type": "code",
   "execution_count": 119,
   "id": "17b0ee12",
   "metadata": {},
   "outputs": [
    {
     "data": {
      "text/plain": [
       "'YES'"
      ]
     },
     "execution_count": 119,
     "metadata": {},
     "output_type": "execute_result"
    }
   ],
   "source": [
    "A = [2,4,5,6]\n",
    "even_subarrays(A)"
   ]
  },
  {
   "cell_type": "code",
   "execution_count": null,
   "id": "0cd661cf",
   "metadata": {},
   "outputs": [],
   "source": []
  },
  {
   "cell_type": "markdown",
   "id": "46104c2d",
   "metadata": {},
   "source": [
    "### Print subarrays of given array of size n :"
   ]
  },
  {
   "cell_type": "code",
   "execution_count": 125,
   "id": "82c2abe6",
   "metadata": {},
   "outputs": [
    {
     "name": "stdout",
     "output_type": "stream",
     "text": [
      "1 \n",
      "1 2 \n",
      "1 2 3 \n",
      "1 2 3 4 \n",
      "1 2 3 4 5 \n",
      "2 \n",
      "2 3 \n",
      "2 3 4 \n",
      "2 3 4 5 \n",
      "3 \n",
      "3 4 \n",
      "3 4 5 \n",
      "4 \n",
      "4 5 \n",
      "5 \n"
     ]
    }
   ],
   "source": [
    "A = [1,2,3,4,5]\n",
    "\n",
    "n = len(A)\n",
    "for s in range(n):\n",
    "    for e in range(s,n):\n",
    "        for i in range(s,e+1):\n",
    "            print(A[i],end = \" \")\n",
    "        print()"
   ]
  },
  {
   "cell_type": "code",
   "execution_count": null,
   "id": "638d2d1e",
   "metadata": {},
   "outputs": [],
   "source": []
  },
  {
   "cell_type": "markdown",
   "id": "90661e49",
   "metadata": {},
   "source": [
    "### Find Maxuimum sum Subarray :"
   ]
  },
  {
   "cell_type": "code",
   "execution_count": 162,
   "id": "079e5ab6",
   "metadata": {},
   "outputs": [
    {
     "name": "stdout",
     "output_type": "stream",
     "text": [
      "[5, -5, 95, 75, 90, 80, 105, 135]\n",
      "[5] 5\n",
      "[5, -10, 100] 95\n",
      "[5, -10, 100, -20, 15, -10, 25] 105\n",
      "[5, -10, 100, -20, 15, -10, 25, 30] 135\n",
      "[100, -20, 15, -10, 25, 30] 140\n"
     ]
    },
    {
     "data": {
      "text/plain": [
       "140"
      ]
     },
     "execution_count": 162,
     "metadata": {},
     "output_type": "execute_result"
    }
   ],
   "source": [
    "\n",
    "def max_subarray_sum(A):\n",
    "    n = len(A)\n",
    "    maxsum = -float(\"inf\")\n",
    "    \n",
    "    prefixsum = [A[0]]\n",
    "    for x in A[1:]:\n",
    "        prefixsum.append(x + prefixsum[-1])\n",
    "    print(prefixsum)\n",
    "    \n",
    "    for s in range(n):\n",
    "        for e in range(s,n):\n",
    "            if s == 0:\n",
    "                subsum = prefixsum[e]\n",
    "            else:\n",
    "                subsum = prefixsum[e] - prefixsum[s-1]\n",
    "            if subsum > maxsum:\n",
    "                maxsum = subsum\n",
    "                print(A[s:e+1],subsum)\n",
    "    return maxsum\n",
    "    \n",
    "    \n",
    "A = [5,-10,100,-20,15,-10,25,30]\n",
    "\n",
    "max_subarray_sum(A)"
   ]
  },
  {
   "cell_type": "code",
   "execution_count": 157,
   "id": "6df96347",
   "metadata": {},
   "outputs": [
    {
     "name": "stdout",
     "output_type": "stream",
     "text": [
      "[5] 5\n",
      "[5, -10, 100] 95\n",
      "[5, -10, 100, -20, 15, -10, 25] 105\n",
      "[5, -10, 100, -20, 15, -10, 25, 30] 135\n",
      "[100, -20, 15, -10, 25, 30] 140\n"
     ]
    },
    {
     "data": {
      "text/plain": [
       "140"
      ]
     },
     "execution_count": 157,
     "metadata": {},
     "output_type": "execute_result"
    }
   ],
   "source": [
    "\n",
    "def max_subarray_sum(A):\n",
    "    n = len(A)\n",
    "    maxsum = -float(\"inf\")\n",
    "    subarray_maxsum = None\n",
    "    for s in range(n):\n",
    "        subtotal = 0\n",
    "        for e in range(s,n):\n",
    "            subtotal += A[e]\n",
    "            \n",
    "            if subtotal > maxsum:\n",
    "                maxsum = subtotal\n",
    "                subarray_maxsum = A[s:e+1]\n",
    "                print(subarray_maxsum,maxsum)\n",
    "            \n",
    "            \n",
    "    return maxsum\n",
    "    \n",
    "A = [5,-10,100,-20,15,-10,25,30]\n",
    "\n",
    "max_subarray_sum(A)"
   ]
  },
  {
   "cell_type": "code",
   "execution_count": null,
   "id": "0ad50316",
   "metadata": {},
   "outputs": [],
   "source": []
  },
  {
   "cell_type": "code",
   "execution_count": 158,
   "id": "53a40c88",
   "metadata": {},
   "outputs": [
    {
     "name": "stdout",
     "output_type": "stream",
     "text": [
      "[-15] -15\n",
      "[-15, 8] -7\n",
      "[-15, 8, -2, 1, 2] -6\n",
      "[-15, 8, -2, 1, 2, 10] 4\n",
      "[8] 8\n",
      "[8, -2, 1, 2] 9\n",
      "[8, -2, 1, 2, 10] 19\n"
     ]
    },
    {
     "data": {
      "text/plain": [
       "19"
      ]
     },
     "execution_count": 158,
     "metadata": {},
     "output_type": "execute_result"
    }
   ],
   "source": [
    "    \n",
    "A = [-15,8,-2,1,2,10,-5,-7,3,2,1,-1]\n",
    "max_subarray_sum(A)"
   ]
  },
  {
   "cell_type": "code",
   "execution_count": null,
   "id": "8a859196",
   "metadata": {},
   "outputs": [],
   "source": [
    "# Kaden's Aalgorithm "
   ]
  },
  {
   "cell_type": "code",
   "execution_count": 163,
   "id": "7196591f",
   "metadata": {},
   "outputs": [
    {
     "data": {
      "text/plain": [
       "140"
      ]
     },
     "execution_count": 163,
     "metadata": {},
     "output_type": "execute_result"
    }
   ],
   "source": [
    "\n",
    "def max_subarray_sum(A):\n",
    "    n = len(A)\n",
    "    maxsum = -float(\"inf\")\n",
    "    \n",
    "    \n",
    "    current_max = A[0]\n",
    "    \n",
    "    for i in range(1,n):\n",
    "        current_max = max( A[i], current_max + A[i] )\n",
    "        maxsum = max( maxsum, current_max )\n",
    "    \n",
    "    \n",
    "            \n",
    "            \n",
    "    return maxsum\n",
    "    \n",
    "A = [5,-10,100,-20,15,-10,25,30]\n",
    "\n",
    "max_subarray_sum(A)"
   ]
  },
  {
   "cell_type": "code",
   "execution_count": null,
   "id": "f7540c56",
   "metadata": {},
   "outputs": [],
   "source": []
  },
  {
   "cell_type": "markdown",
   "id": "c4a4f036",
   "metadata": {},
   "source": [
    "#### Given N array elements how many subarrays of len = 1 are there ?\n",
    "    \n",
    "    N\n",
    "\n",
    "\n",
    "#### Given N array elements how many subarrays of len = 2 are there ?\n",
    "    \n",
    "    N-1\n",
    "\n",
    "#### Given N array elements how many subarrays of len = k are there ?\n",
    "    \n",
    "    N-k+1"
   ]
  },
  {
   "cell_type": "markdown",
   "id": "48195646",
   "metadata": {},
   "source": [
    "#### Given N array elements and len = k ? Print last subarray start index and last index\n",
    "    \n",
    "    [N-K , N-1]\n",
    "\n",
    "\n",
    "    e-s+1 = length \n",
    "    n-1 - s +1 = k  \n",
    "    s = n-k\n",
    "    and \n",
    "    e = n-1\n"
   ]
  },
  {
   "cell_type": "markdown",
   "id": "e7901de6",
   "metadata": {},
   "source": [
    "### Maximum subarray sum with length k "
   ]
  },
  {
   "cell_type": "code",
   "execution_count": 223,
   "id": "1ad04613",
   "metadata": {},
   "outputs": [
    {
     "name": "stdout",
     "output_type": "stream",
     "text": [
      "[5, -10, 100, -20, 15] 5\n",
      "[5, -10, 100, -20, 15] 95\n",
      "[100, -20, 15, -10, 25] 100\n",
      "[100, -20, 15, -10, 25] 110\n"
     ]
    },
    {
     "data": {
      "text/plain": [
       "110"
      ]
     },
     "execution_count": 223,
     "metadata": {},
     "output_type": "execute_result"
    }
   ],
   "source": [
    "def max_sum_sub_with_k_len(A,k):\n",
    "    \n",
    "    n = len(A)\n",
    "    \n",
    "    maxsum = -float(\"inf\")\n",
    "    \n",
    "    for s in range(n-k+1):\n",
    "        e = k + s -1\n",
    "        subsum = 0\n",
    "        for i in range(s,e+1):\n",
    "            subsum += A[i]\n",
    "            if subsum > maxsum:\n",
    "                maxsum = subsum\n",
    "                print(A[s:e+1],subsum)\n",
    "    return maxsum\n",
    "    \n",
    "    \n",
    "max_sum_sub_with_k_len([5,-10,100,-20,15,-10,25,30],5)"
   ]
  },
  {
   "cell_type": "code",
   "execution_count": null,
   "id": "3bfed127",
   "metadata": {},
   "outputs": [],
   "source": []
  },
  {
   "cell_type": "code",
   "execution_count": 221,
   "id": "d9cf8476",
   "metadata": {},
   "outputs": [
    {
     "name": "stdout",
     "output_type": "stream",
     "text": [
      "[5, -10, 100, -20, 15] 90\n",
      "[100, -20, 15, -10, 25] 110\n"
     ]
    },
    {
     "data": {
      "text/plain": [
       "110"
      ]
     },
     "execution_count": 221,
     "metadata": {},
     "output_type": "execute_result"
    }
   ],
   "source": [
    "def max_sum_sub_with_k_len(A,k):\n",
    "    \n",
    "    n = len(A)\n",
    "    \n",
    "    maxsum = -float(\"inf\")\n",
    "    \n",
    "    prefixsum = [A[0]]\n",
    "    for x in A[1:]:\n",
    "        prefixsum.append(x+prefixsum[-1])\n",
    "        \n",
    "    \n",
    "    \n",
    "    for s in range(n-k+1):\n",
    "        e = k + s -1\n",
    "        subsum = 0\n",
    "        \n",
    "        if s == 0:\n",
    "            subsum = prefixsum[e]\n",
    "        else:\n",
    "            subsum = prefixsum[e]- prefixsum[s-1]\n",
    "            \n",
    "        if subsum > maxsum:\n",
    "            maxsum = subsum\n",
    "            print(A[s:e+1],subsum)\n",
    "    return maxsum\n",
    "    \n",
    "    \n",
    "max_sum_sub_with_k_len([5,-10,100,-20,15,-10,25,30],5)"
   ]
  },
  {
   "cell_type": "code",
   "execution_count": null,
   "id": "2769daea",
   "metadata": {},
   "outputs": [],
   "source": []
  },
  {
   "cell_type": "code",
   "execution_count": 222,
   "id": "7333531e",
   "metadata": {},
   "outputs": [
    {
     "name": "stdout",
     "output_type": "stream",
     "text": [
      "[5, -10, 100, -20, 15] 90\n",
      "[100, -20, 15, -10, 25] 110\n"
     ]
    },
    {
     "data": {
      "text/plain": [
       "110"
      ]
     },
     "execution_count": 222,
     "metadata": {},
     "output_type": "execute_result"
    }
   ],
   "source": [
    "max_sum_sub_with_k_len([5,-10,100,-20,15,-10,25,30],5)"
   ]
  },
  {
   "cell_type": "code",
   "execution_count": null,
   "id": "1bea1c69",
   "metadata": {},
   "outputs": [],
   "source": []
  },
  {
   "cell_type": "code",
   "execution_count": null,
   "id": "3c4cba6b",
   "metadata": {},
   "outputs": [],
   "source": []
  },
  {
   "cell_type": "code",
   "execution_count": 224,
   "id": "ec6407ea",
   "metadata": {},
   "outputs": [
    {
     "data": {
      "text/plain": [
       "110"
      ]
     },
     "execution_count": 224,
     "metadata": {},
     "output_type": "execute_result"
    }
   ],
   "source": [
    "def max_sum_sub_with_k_len(A,k):\n",
    "    \n",
    "    n = len(A)\n",
    "    \n",
    "    ksum = sum(A[:k])\n",
    "    \n",
    "       \n",
    "    \n",
    "    maxsum = -float(\"inf\")\n",
    "    \n",
    "    for s in range(1,n-k+1):\n",
    "        e = s+k-1\n",
    "        \n",
    "        ksum = ksum - A[s-1]  + A[e]\n",
    "        \n",
    "        \n",
    "        if ksum > maxsum:\n",
    "            maxsum = ksum\n",
    "            \n",
    "    return maxsum\n",
    "    \n",
    "    \n",
    "max_sum_sub_with_k_len([5,-10,100,-20,15,-10,25,30],5)"
   ]
  },
  {
   "cell_type": "code",
   "execution_count": null,
   "id": "ef157cd3",
   "metadata": {},
   "outputs": [],
   "source": []
  },
  {
   "cell_type": "code",
   "execution_count": null,
   "id": "60f4b0f5",
   "metadata": {},
   "outputs": [],
   "source": []
  },
  {
   "cell_type": "code",
   "execution_count": null,
   "id": "db6ce564",
   "metadata": {},
   "outputs": [],
   "source": []
  },
  {
   "cell_type": "markdown",
   "id": "ecc426bc",
   "metadata": {},
   "source": [
    "### . Subarray with least average\n",
    "\n",
    "### Given an array of size N, find the subarray of size K with the least average.\n",
    "\n",
    "    Problem Constraints\n",
    "    1<=k<=N<=1e5\n",
    "    -1e5<=A[i]<=1e5\n",
    "    Input Format\n",
    "    First argument contains an array A of integers of size N.\n",
    "    Second argument contains integer k.\n",
    "    Output Format\n",
    "    Return the index of the first element of the subarray of size k that has least average.\n",
    "    Array indexing starts from 0.\n",
    "\n",
    "    Example Input\n",
    "    Input 1:\n",
    "    A=[3, 7, 90, 20, 10, 50, 40]\n",
    "    B=3\n",
    "    Input 2:\n",
    "    A=[3, 7, 5, 20, -10, 0, 12]\n",
    "    B=2\n",
    "    Example Output\n",
    "    Output 1:\n",
    "    3\n",
    "    Output 2:\n",
    "    4\n",
    "\n",
    "    Example Explanation\n",
    "    Explanation 1:\n",
    "    Subarray between indexes 3 and 5\n",
    "    The subarray {20, 10, 50} has the least average \n",
    "    among all subarrays of size 3.\n",
    "    Explanation 2:\n",
    "\n",
    "     Subarray between [4, 5] has minimum average"
   ]
  },
  {
   "cell_type": "code",
   "execution_count": 226,
   "id": "59f8be5f",
   "metadata": {},
   "outputs": [
    {
     "data": {
      "text/plain": [
       "3"
      ]
     },
     "execution_count": 226,
     "metadata": {},
     "output_type": "execute_result"
    }
   ],
   "source": [
    "def subarray_with_least_avg_k_size(A,k):\n",
    "    \n",
    "    n = len(A)\n",
    "    minavg = float(\"inf\")\n",
    "    \n",
    "    ksum = sum(A[:k])\n",
    "    min_sub_array_index = None\n",
    "    \n",
    "    for i in range(1,n-k+1):\n",
    "        j = k + i -1\n",
    "        ksum = ksum - A[i-1] + A[j]\n",
    "        \n",
    "        kavg = ksum/(j-i+1)\n",
    "        \n",
    "        if kavg < minavg:\n",
    "            minavg = kavg\n",
    "            min_sub_array_index = i\n",
    "    return min_sub_array_index\n",
    "            \n",
    "    \n",
    "    \n",
    "\n",
    "    \n",
    "A = [3, 7, 90, 20, 10, 50, 40]\n",
    "k = 3\n",
    "\n",
    "subarray_with_least_avg_k_size(A,k)\n",
    "    "
   ]
  },
  {
   "cell_type": "code",
   "execution_count": 227,
   "id": "dc4488b2",
   "metadata": {},
   "outputs": [
    {
     "data": {
      "text/plain": [
       "4"
      ]
     },
     "execution_count": 227,
     "metadata": {},
     "output_type": "execute_result"
    }
   ],
   "source": [
    "A=[3, 7, 5, 20, -10, 0, 12]\n",
    "B=2\n",
    "subarray_with_least_avg_k_size(A,B)\n"
   ]
  },
  {
   "cell_type": "code",
   "execution_count": null,
   "id": "d251f5fc",
   "metadata": {},
   "outputs": [],
   "source": []
  },
  {
   "cell_type": "markdown",
   "id": "94a0ad1d",
   "metadata": {},
   "source": [
    "###  Maximum Subarray Easy : \n",
    "\n",
    "\n",
    "#### You are given an integer array C of size A. Now you need to find a subarray (contiguous elements) so that the sum of contiguous elements is maximum. But the sum must not exceed B.\n",
    "\n",
    "    Problem Constraints\n",
    "    1 <= A <= 103\n",
    "    1 <= B <= 109\n",
    "    1 <= C[i] <= 106\n",
    "\n",
    "    Input Format\n",
    "    The first argument is the integer A.\n",
    "    The second argument is the integer B.\n",
    "    The third argument is the integer array C.\n",
    "\n",
    "    Output Format\n",
    "    Return a single integer which denotes the maximum sum.\n",
    "\n",
    "    Example Input\n",
    "    Input 1:\n",
    "    A = 5\n",
    "    B = 12\n",
    "    C = [2, 1, 3, 4, 5]\n",
    "    Input 2:\n",
    "    A = 3\n",
    "    B = 1\n",
    "    C = [2, 2, 2]\n",
    "\n",
    "    Example Output\n",
    "    Output 1:\n",
    "    12\n",
    "    Output 2:\n",
    "    0\n",
    "\n",
    "    Example Explanation\n",
    "    Explanation 1:\n",
    "    We can select {3,4,5} which sums up to 12 which is the maximum possible sum.\n",
    "    Explanation 2:\n",
    "\n",
    "    All elements are greater than B, which means we cannot select any subarray.\n",
    "    Hence, the answer is 0."
   ]
  },
  {
   "cell_type": "code",
   "execution_count": 9,
   "id": "a3ba2a1d",
   "metadata": {},
   "outputs": [
    {
     "data": {
      "text/plain": [
       "12"
      ]
     },
     "execution_count": 9,
     "metadata": {},
     "output_type": "execute_result"
    }
   ],
   "source": [
    "\n",
    "def max_sub_easy(A,k):\n",
    "    n = len(A)\n",
    "    maxum = -float(\"inf\")\n",
    "    for s in range(n):\n",
    "        subsum = 0\n",
    "        for e in range(s,n):\n",
    "            subsum += A[e]\n",
    "            if subsum <= k:\n",
    "                maxum = max(maxum, subsum)\n",
    "            else:\n",
    "                break\n",
    "    if maxum == -float(\"inf\"):\n",
    "        return 0\n",
    "    return maxum\n",
    "                \n",
    "n = 5\n",
    "k = 12\n",
    "A = [2, 1, 3, 4, 5]\n",
    "max_sub_easy(A,k)\n",
    " "
   ]
  },
  {
   "cell_type": "code",
   "execution_count": 10,
   "id": "71cd1db8",
   "metadata": {},
   "outputs": [
    {
     "data": {
      "text/plain": [
       "0"
      ]
     },
     "execution_count": 10,
     "metadata": {},
     "output_type": "execute_result"
    }
   ],
   "source": [
    "A = 3\n",
    "B = 1\n",
    "C = [2, 2, 2]\n",
    "max_sub_easy(C,B)"
   ]
  },
  {
   "cell_type": "code",
   "execution_count": null,
   "id": "f2a1b8d2",
   "metadata": {},
   "outputs": [],
   "source": []
  },
  {
   "cell_type": "markdown",
   "id": "11f57135",
   "metadata": {},
   "source": [
    "###  Counting Subarrays!\n",
    "\n",
    "#### Given an array A of N non-negative numbers and you are also given non-negative number B. You need to find the number of subarrays in A having sum less than B. We may assume that there is no overflow.\n",
    "\n",
    "    Problem Constraints\n",
    "    1 <= N <= 104\n",
    "    1 <= A[i] <= 100\n",
    "    1 <= B <= 108\n",
    "\n",
    "    Input Format\n",
    "    First argument is an integer array A.\n",
    "    Second argument is an integer B.\n",
    "    Output Format\n",
    "    Return an integer denoting the number of subarrays in A having sum less than B.\n",
    "\n",
    "    Example Input\n",
    "    Input 1:\n",
    "     A = [2, 5, 6]\n",
    "     B = 10\n",
    "    Input 2:\n",
    "     A = [1, 11, 2, 3, 15]\n",
    "     B = 10\n",
    "    Example Output\n",
    "    Output 1:\n",
    "     4\n",
    "    Output 2:\n",
    "     4\n",
    "\n",
    "    Example Explanation\n",
    "    Explanation 1:\n",
    "     The subarrays with sum less than B are {2}, {5}, {6} and {2, 5},\n",
    "    Explanation 2:\n",
    "     The subarrays with sum less than B are {1}, {2}, {3} and {2, 3}"
   ]
  },
  {
   "cell_type": "code",
   "execution_count": 11,
   "id": "8fac2260",
   "metadata": {},
   "outputs": [
    {
     "name": "stdout",
     "output_type": "stream",
     "text": [
      "4\n"
     ]
    }
   ],
   "source": [
    "A = [1, 11, 2, 3, 15]\n",
    "B = 10\n",
    "\n",
    "\n",
    "count = 0\n",
    "n = len(A)\n",
    "for s in range(n):\n",
    "    subsum = 0\n",
    "    for e in range(s,n):\n",
    "        subsum += A[e]\n",
    "        if subsum < B:\n",
    "            count += 1\n",
    "print(count)\n",
    "        "
   ]
  },
  {
   "cell_type": "code",
   "execution_count": null,
   "id": "8abeb5fc",
   "metadata": {},
   "outputs": [],
   "source": []
  },
  {
   "cell_type": "markdown",
   "id": "546527b4",
   "metadata": {},
   "source": [
    "### Good Subarrays Easy\n",
    "\n",
    "#### Given an array of integers A, a subarray of an array is said to be good if it fulfills any one of the criteria: 1. Length of the subarray is be even, and the sum of all the elements of the subarray must be less than B. 2. Length of the subarray is be odd, and the sum of all the elements of the subarray must be greater than B. Your task is to find the count of good subarrays in A.\n",
    "\n",
    "    Problem Constraints\n",
    "    1 <= len(A) <= 103\n",
    "    1 <= A[i] <= 103\n",
    "    1 <= B <= 107\n",
    "    Input Format\n",
    "    The first argument given is the integer array A.\n",
    "    The second argument given is an integer B.\n",
    "    Output Format\n",
    "    Return the count of good subarrays in A.\n",
    "    Example Input\n",
    "    Input 1:\n",
    "    A = [1, 2, 3, 4, 5]\n",
    "    B = 4\n",
    "    Input 2:\n",
    "    A = [13, 16, 16, 15, 9, 16, 2, 7, 6, 17, 3, 9]\n",
    "    B = 65\n",
    "    Example Output\n",
    "    Output 1:\n",
    "    6\n",
    "    Output 2:\n",
    "    36\n",
    "    Example Explanation\n",
    "    Explanation 1:\n",
    "    Even length good subarrays = {1, 2}\n",
    "    Odd length good subarrays = {1, 2, 3}, {1, 2, 3, 4, 5}, {2, 3, 4}, {3, 4, 5}, {5} "
   ]
  },
  {
   "cell_type": "code",
   "execution_count": null,
   "id": "a593d8bb",
   "metadata": {},
   "outputs": [],
   "source": []
  },
  {
   "cell_type": "code",
   "execution_count": 12,
   "id": "9ccfa295",
   "metadata": {},
   "outputs": [
    {
     "data": {
      "text/plain": [
       "36"
      ]
     },
     "execution_count": 12,
     "metadata": {},
     "output_type": "execute_result"
    }
   ],
   "source": [
    "def Good_Subarrays_Easy(A,k):\n",
    "    n = len(A)\n",
    "    \n",
    "    count = 0\n",
    "    \n",
    "    for s in range(n):\n",
    "        subsum = 0\n",
    "        for e in range(s,n):\n",
    "            subsum += A[e]\n",
    "            length = e-s+1\n",
    "            \n",
    "            if length % 2 == 0 and subsum < B:\n",
    "                count += 1\n",
    "            if length % 2 != 0 and subsum > B:\n",
    "                count += 1\n",
    "    return count\n",
    "    \n",
    "A = [13, 16, 16, 15, 9, 16, 2, 7, 6, 17, 3, 9]\n",
    "B = 65 \n",
    "Good_Subarrays_Easy(A,B)"
   ]
  },
  {
   "cell_type": "code",
   "execution_count": 13,
   "id": "14884ac1",
   "metadata": {},
   "outputs": [
    {
     "data": {
      "text/plain": [
       "6"
      ]
     },
     "execution_count": 13,
     "metadata": {},
     "output_type": "execute_result"
    }
   ],
   "source": [
    "A = [1, 2, 3, 4, 5]\n",
    "B = 4\n",
    "Good_Subarrays_Easy(A,B)"
   ]
  },
  {
   "cell_type": "code",
   "execution_count": null,
   "id": "e9853466",
   "metadata": {},
   "outputs": [],
   "source": []
  },
  {
   "cell_type": "code",
   "execution_count": null,
   "id": "050e2132",
   "metadata": {},
   "outputs": [],
   "source": []
  },
  {
   "cell_type": "markdown",
   "id": "a67872b8",
   "metadata": {},
   "source": [
    "### Alternating Subarrays Easy : \n",
    "\n",
    "### You are given an integer array A of length N comprising of 0's & 1's, and an integer B. You have to tell all the indices of array A that can act as a center of 2 * B + 1 length 0-1 alternating subarray. A 0-1 alternating array is an array containing only 0's & 1's, and having no adjacent 0's or 1's. For e.g. arrays [0, 1, 0, 1], [1, 0] and [1] are 0-1 alternating, while [1, 1] and [0, 1, 0, 0, 1] are not.\n",
    "\n",
    "    Problem Constraints\n",
    "    1 <= N <= 103\n",
    "    A[i] equals to 0 or 1.\n",
    "    0 <= B <= (N - 1) / 2\n",
    "\n",
    "    Input Format\n",
    "    First argument is an integer array A.\n",
    "    Second argument is an integer B.\n",
    "\n",
    "    Output Format\n",
    "    Return an integer array containing indices(0-based) in sorted order. If no such index exists, return an empty integer array.\n",
    "\n",
    "    Example Input\n",
    "    Input 1:\n",
    "     A = [1, 0, 1, 0, 1]\n",
    "     B = 1 \n",
    "    Input 2:\n",
    "     A = [0, 0, 0, 1, 1, 0, 1]\n",
    "     B = 0 \n",
    "\n",
    "    Example Output\n",
    "    Output 1:\n",
    "     [1, 2, 3]\n",
    "    Output 2:\n",
    "     [0, 1, 2, 3, 4, 5, 6]\n",
    "\n",
    "    Example Explanation\n",
    "    Explanation 1:\n",
    "     Index 1 acts as a centre of alternating sequence: [A0, A1, A2]\n",
    "     Index 2 acts as a centre of alternating sequence: [A1, A2, A3]\n",
    "     Index 3 acts as a centre of alternating sequence: [A2, A3, A4] \n",
    "    Explanation 2:\n",
    "     Each index in the array acts as the center of alternating sequences of lengths 1."
   ]
  },
  {
   "cell_type": "code",
   "execution_count": 43,
   "id": "97eedbb1",
   "metadata": {},
   "outputs": [
    {
     "data": {
      "text/plain": [
       "[0, 1, 2, 3, 4, 5, 6]"
      ]
     },
     "execution_count": 43,
     "metadata": {},
     "output_type": "execute_result"
    }
   ],
   "source": [
    "A = [0,0,0,1,1,0,1]\n",
    "B = 0\n",
    "def Alternating_Subarrays_Easy(A,B):\n",
    "    n = len(A)\n",
    "    l = 2*B +1 \n",
    "    ans = []\n",
    "    for s in range(n-l+1):\n",
    "        e = l+s-1\n",
    "\n",
    "        isalternating = True\n",
    "        prev_val = None\n",
    "        for i in range(s,e+1):\n",
    "            if A[i] == prev_val:\n",
    "                isalternating = False\n",
    "                break\n",
    "            prev_val = A[i]\n",
    "\n",
    "        if isalternating:\n",
    "            ans.append((s+e)//2)\n",
    "    return ans\n",
    "\n",
    "A = [0,0,0,1,1,0,1]\n",
    "B = 0\n",
    "Alternating_Subarrays_Easy(A,B)"
   ]
  },
  {
   "cell_type": "code",
   "execution_count": 44,
   "id": "3e2441d7",
   "metadata": {},
   "outputs": [
    {
     "data": {
      "text/plain": [
       "[1, 2, 3]"
      ]
     },
     "execution_count": 44,
     "metadata": {},
     "output_type": "execute_result"
    }
   ],
   "source": [
    "A = [1,0,1,0,1]\n",
    "B = 1\n",
    "Alternating_Subarrays_Easy(A,B)"
   ]
  },
  {
   "cell_type": "code",
   "execution_count": 45,
   "id": "000b695c",
   "metadata": {},
   "outputs": [
    {
     "data": {
      "text/plain": [
       "[1, 2, 3, 4, 11, 12, 13]"
      ]
     },
     "execution_count": 45,
     "metadata": {},
     "output_type": "execute_result"
    }
   ],
   "source": [
    "\n",
    "A = [1,0,1,0,1,0,0,0,1,1,1,0,1,0,1,1,1,1,1,0,0]\n",
    "B = 1\n",
    "Alternating_Subarrays_Easy(A,B)"
   ]
  },
  {
   "cell_type": "code",
   "execution_count": null,
   "id": "94ff450b",
   "metadata": {},
   "outputs": [],
   "source": []
  },
  {
   "cell_type": "code",
   "execution_count": null,
   "id": "c8ec7931",
   "metadata": {},
   "outputs": [],
   "source": []
  },
  {
   "cell_type": "code",
   "execution_count": null,
   "id": "7f664a4a",
   "metadata": {},
   "outputs": [],
   "source": []
  },
  {
   "cell_type": "code",
   "execution_count": 40,
   "id": "7cf7630f",
   "metadata": {},
   "outputs": [
    {
     "name": "stdout",
     "output_type": "stream",
     "text": [
      "0001101\n"
     ]
    },
    {
     "data": {
      "text/plain": [
       "[0, 1, 2, 3, 4, 5, 6]"
      ]
     },
     "execution_count": 40,
     "metadata": {},
     "output_type": "execute_result"
    }
   ],
   "source": [
    "\n",
    "def Alternating_Subarrays_Easy(A,B):\n",
    "    n = len(A)\n",
    "    l = 2*B +1 \n",
    "    ans = []\n",
    "    \n",
    "    if l > n:\n",
    "        return 0\n",
    "    \n",
    "    string = \"\"\n",
    "    \n",
    "    for i in A:\n",
    "        string += str(i)\n",
    "    print(string)\n",
    "    \n",
    "    for i in range(B,n-B):\n",
    "        if \"00\" not in string[i-B:i+B+1] and \"11\" not in string[i-B:i+B+1]:\n",
    "            ans.append(i)\n",
    "    return ans\n",
    "    \n",
    "    \n",
    "A = [0,0,0,1,1,0,1]\n",
    "B = 0\n",
    "Alternating_Subarrays_Easy(A,B)"
   ]
  },
  {
   "cell_type": "code",
   "execution_count": 41,
   "id": "a1db7f18",
   "metadata": {},
   "outputs": [
    {
     "name": "stdout",
     "output_type": "stream",
     "text": [
      "10101\n"
     ]
    },
    {
     "data": {
      "text/plain": [
       "[1, 2, 3]"
      ]
     },
     "execution_count": 41,
     "metadata": {},
     "output_type": "execute_result"
    }
   ],
   "source": [
    "\n",
    "A = [1,0,1,0,1]\n",
    "B = 1\n",
    "Alternating_Subarrays_Easy(A,B)"
   ]
  },
  {
   "cell_type": "code",
   "execution_count": 42,
   "id": "5bb647f0",
   "metadata": {},
   "outputs": [
    {
     "name": "stdout",
     "output_type": "stream",
     "text": [
      "101010001110101111100\n"
     ]
    },
    {
     "data": {
      "text/plain": [
       "[1, 2, 3, 4, 11, 12, 13]"
      ]
     },
     "execution_count": 42,
     "metadata": {},
     "output_type": "execute_result"
    }
   ],
   "source": [
    "\n",
    "A = [1,0,1,0,1,0,0,0,1,1,1,0,1,0,1,1,1,1,1,0,0]\n",
    "B = 1\n",
    "Alternating_Subarrays_Easy(A,B)"
   ]
  },
  {
   "cell_type": "code",
   "execution_count": null,
   "id": "f2b3b729",
   "metadata": {},
   "outputs": [],
   "source": []
  },
  {
   "cell_type": "code",
   "execution_count": null,
   "id": "51a13fcf",
   "metadata": {},
   "outputs": [],
   "source": []
  },
  {
   "cell_type": "markdown",
   "id": "2b14da25",
   "metadata": {},
   "source": [
    "### In how many subarrays, the element at index 1 will be present?\n",
    "    10"
   ]
  },
  {
   "cell_type": "markdown",
   "id": "a5a798f3",
   "metadata": {},
   "source": [
    "### In an array of size N, how many subarrays will contain the element at index i?\n",
    "    (i+1)*(N-i)"
   ]
  },
  {
   "cell_type": "markdown",
   "id": "d5578175",
   "metadata": {},
   "source": [
    "### given array A find the sum of all elements of all subarrays :"
   ]
  },
  {
   "cell_type": "code",
   "execution_count": 73,
   "id": "3cf3748c",
   "metadata": {},
   "outputs": [
    {
     "name": "stdout",
     "output_type": "stream",
     "text": [
      "105\n"
     ]
    }
   ],
   "source": [
    "A = [1,2,3,4,5]\n",
    "n = len(A)\n",
    "total = 0\n",
    "for s in range(n):\n",
    "    for e in range(s,n):\n",
    "        for i in range(s,e+1):\n",
    "            total += A[i]\n",
    "print(total)"
   ]
  },
  {
   "cell_type": "code",
   "execution_count": 74,
   "id": "bb98ffa1",
   "metadata": {},
   "outputs": [
    {
     "name": "stdout",
     "output_type": "stream",
     "text": [
      "105\n"
     ]
    }
   ],
   "source": [
    "A = [1,2,3,4,5]\n",
    "n = len(A)\n",
    "prefixsum = [A[0]]\n",
    "for x in A[1:]:\n",
    "    prefixsum.append(x + prefixsum[-1])\n",
    "\n",
    "total = 0\n",
    "\n",
    "for s in range(n):\n",
    "    sm = 0\n",
    "    for e in range(s,n):\n",
    "        if s == 0:\n",
    "            sm = prefixsum[e]\n",
    "        else:\n",
    "            sm = prefixsum[e]-prefixsum[s-1]\n",
    "        total += sm\n",
    "print(total)"
   ]
  },
  {
   "cell_type": "code",
   "execution_count": 75,
   "id": "e1b3727a",
   "metadata": {},
   "outputs": [
    {
     "name": "stdout",
     "output_type": "stream",
     "text": [
      "105\n"
     ]
    }
   ],
   "source": [
    "A = [1,2,3,4,5]\n",
    "n = len(A)\n",
    "total = 0\n",
    "for s in range(n):\n",
    "    subsm = 0\n",
    "    for e in range(s,n):\n",
    "        subsm += A[e]\n",
    "        total += subsm\n",
    "print(total)"
   ]
  },
  {
   "cell_type": "code",
   "execution_count": null,
   "id": "4b516813",
   "metadata": {},
   "outputs": [],
   "source": []
  },
  {
   "cell_type": "code",
   "execution_count": null,
   "id": "c96b9e11",
   "metadata": {},
   "outputs": [],
   "source": []
  },
  {
   "cell_type": "code",
   "execution_count": null,
   "id": "3740e6c3",
   "metadata": {},
   "outputs": [],
   "source": []
  },
  {
   "cell_type": "code",
   "execution_count": null,
   "id": "624896b7",
   "metadata": {},
   "outputs": [],
   "source": []
  },
  {
   "cell_type": "code",
   "execution_count": null,
   "id": "96ee4b89",
   "metadata": {},
   "outputs": [],
   "source": []
  },
  {
   "cell_type": "code",
   "execution_count": null,
   "id": "82be919b",
   "metadata": {},
   "outputs": [],
   "source": []
  },
  {
   "cell_type": "code",
   "execution_count": null,
   "id": "dcf133be",
   "metadata": {},
   "outputs": [],
   "source": []
  },
  {
   "cell_type": "code",
   "execution_count": null,
   "id": "5ae3f897",
   "metadata": {},
   "outputs": [],
   "source": []
  },
  {
   "cell_type": "code",
   "execution_count": null,
   "id": "108574eb",
   "metadata": {},
   "outputs": [],
   "source": []
  },
  {
   "cell_type": "code",
   "execution_count": null,
   "id": "b1d23c80",
   "metadata": {},
   "outputs": [],
   "source": []
  },
  {
   "cell_type": "code",
   "execution_count": null,
   "id": "412f3176",
   "metadata": {},
   "outputs": [],
   "source": []
  },
  {
   "cell_type": "code",
   "execution_count": null,
   "id": "8dd3a7f0",
   "metadata": {},
   "outputs": [],
   "source": []
  },
  {
   "cell_type": "code",
   "execution_count": null,
   "id": "63058f18",
   "metadata": {},
   "outputs": [],
   "source": []
  },
  {
   "cell_type": "code",
   "execution_count": null,
   "id": "8ee08a23",
   "metadata": {},
   "outputs": [],
   "source": []
  },
  {
   "cell_type": "code",
   "execution_count": null,
   "id": "e7bdb373",
   "metadata": {},
   "outputs": [],
   "source": []
  },
  {
   "cell_type": "code",
   "execution_count": null,
   "id": "622c7dd5",
   "metadata": {},
   "outputs": [],
   "source": []
  },
  {
   "cell_type": "code",
   "execution_count": null,
   "id": "27dcf769",
   "metadata": {},
   "outputs": [],
   "source": []
  },
  {
   "cell_type": "code",
   "execution_count": null,
   "id": "454d6bd6",
   "metadata": {},
   "outputs": [],
   "source": []
  },
  {
   "cell_type": "code",
   "execution_count": null,
   "id": "caa91900",
   "metadata": {},
   "outputs": [],
   "source": []
  },
  {
   "cell_type": "code",
   "execution_count": null,
   "id": "9f8fb940",
   "metadata": {},
   "outputs": [],
   "source": []
  }
 ],
 "metadata": {
  "kernelspec": {
   "display_name": "Python 3 (ipykernel)",
   "language": "python",
   "name": "python3"
  },
  "language_info": {
   "codemirror_mode": {
    "name": "ipython",
    "version": 3
   },
   "file_extension": ".py",
   "mimetype": "text/x-python",
   "name": "python",
   "nbconvert_exporter": "python",
   "pygments_lexer": "ipython3",
   "version": "3.9.7"
  }
 },
 "nbformat": 4,
 "nbformat_minor": 5
}
