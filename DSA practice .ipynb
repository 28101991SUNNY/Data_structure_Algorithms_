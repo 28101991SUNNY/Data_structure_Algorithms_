{
 "cells": [
  {
   "cell_type": "markdown",
   "id": "c8318e2d",
   "metadata": {},
   "source": [
    "#### Given a number N>=1, when can we say it is a prime number ?\n",
    "\n",
    "    When no of factors are == 2\n",
    "    \n",
    "    \n",
    "    \n",
    "    Number 1 neither prime not composit \n",
    "    2 is prime \n",
    "    3 is prime \n",
    "    4 is composite. ... \n",
    "    "
   ]
  },
  {
   "cell_type": "markdown",
   "id": "de91c578",
   "metadata": {},
   "source": [
    "## if prime ? "
   ]
  },
  {
   "cell_type": "code",
   "execution_count": 17,
   "id": "4f4ea9af",
   "metadata": {},
   "outputs": [
    {
     "data": {
      "text/plain": [
       "'1 is neither prime nor composite'"
      ]
     },
     "execution_count": 17,
     "metadata": {},
     "output_type": "execute_result"
    }
   ],
   "source": [
    "N = 1\n",
    "def isprime(N):\n",
    "    if N == 1:\n",
    "        return \"1 is neither prime nor composite\"\n",
    "    f = 0\n",
    "    for i in range(1,N+1):\n",
    "        if N%i == 0:\n",
    "            f += 1\n",
    "    return f  == 2\n",
    "    \n",
    "isprime(1)"
   ]
  },
  {
   "cell_type": "code",
   "execution_count": 19,
   "id": "49c93a65",
   "metadata": {},
   "outputs": [
    {
     "data": {
      "text/plain": [
       "False"
      ]
     },
     "execution_count": 19,
     "metadata": {},
     "output_type": "execute_result"
    }
   ],
   "source": [
    "isprime(4)"
   ]
  },
  {
   "cell_type": "code",
   "execution_count": 20,
   "id": "ad9ec9a2",
   "metadata": {},
   "outputs": [
    {
     "data": {
      "text/plain": [
       "True"
      ]
     },
     "execution_count": 20,
     "metadata": {},
     "output_type": "execute_result"
    }
   ],
   "source": [
    "isprime(3)"
   ]
  },
  {
   "cell_type": "code",
   "execution_count": null,
   "id": "3efbf10c",
   "metadata": {},
   "outputs": [],
   "source": []
  },
  {
   "cell_type": "code",
   "execution_count": 30,
   "id": "23927927",
   "metadata": {},
   "outputs": [
    {
     "data": {
      "text/plain": [
       "True"
      ]
     },
     "execution_count": 30,
     "metadata": {},
     "output_type": "execute_result"
    }
   ],
   "source": [
    "N = 1\n",
    "def isprime(N):\n",
    "    if N == 1:\n",
    "        return \"1 is neither prime nor composite\"\n",
    "    for i in range(2,N):\n",
    "        if N%i == 0:\n",
    "            return False\n",
    "    return True\n",
    "    \n",
    "    \n",
    "isprime(97)"
   ]
  },
  {
   "cell_type": "code",
   "execution_count": null,
   "id": "01c33e98",
   "metadata": {},
   "outputs": [],
   "source": []
  },
  {
   "cell_type": "markdown",
   "id": "3c4f5bfd",
   "metadata": {},
   "source": [
    "    approximately a computer can handle 10^8 iterations in 1 seconds .\n",
    "    \n",
    "    if we want to find if ( 10^9 + 7 ) a prime number ,\n",
    "    this will take 10 seconds approximately with O(n) algorithm \n",
    "    \n",
    "    if we want to find if ( 10^18) a prime number ,\n",
    "    above algorithm O(n) will take 10 billion seconds =~ 317 years .\n",
    "    \n",
    "    \n",
    "    so we need to optimize the time taken to run : "
   ]
  },
  {
   "cell_type": "markdown",
   "id": "03068840",
   "metadata": {},
   "source": [
    "    N = 60\n",
    "\n",
    "    factors of 60 \n",
    "    -------------\n",
    "    1  * 60     i < N\n",
    "    2  * 30\n",
    "    3  * 20\n",
    "    4  * 15\n",
    "    5  * 12\n",
    "    6  * 10\n",
    "    --------factors are repeting after this point (factos appear in pairs) \n",
    "    10 * 6      i > N/i\n",
    "    12 * 5\n",
    "    15 * 4\n",
    "    20 * 3\n",
    "    30 * 2\n",
    "    60 * 1      \n",
    "    -------------"
   ]
  },
  {
   "cell_type": "markdown",
   "id": "5a7c18f3",
   "metadata": {},
   "source": [
    "    24:\n",
    "    \n",
    "    1    24     a < b\n",
    "    2    12\n",
    "    3    8\n",
    "    4    6\n",
    "    -------------\n",
    "    6    4      a > b\n",
    "    8    3\n",
    "    12   2\n",
    "    24   1\n",
    "    \n",
    "    \n",
    "    a > b\n",
    "    a*b = N\n",
    "    a = N/b\n",
    "    \n",
    "    a > b\n",
    "    N/b > b \n",
    "    N > b**2\n",
    "    \n",
    "    sq(N) > b\n",
    "    \n",
    "    "
   ]
  },
  {
   "cell_type": "markdown",
   "id": "7c15be1b",
   "metadata": {},
   "source": [
    "    instead of looping from 1 to N\n",
    "    we can only loop till square root of N as after that we wont find any new factors."
   ]
  },
  {
   "cell_type": "code",
   "execution_count": 33,
   "id": "ad3be2fb",
   "metadata": {},
   "outputs": [],
   "source": [
    "import math"
   ]
  },
  {
   "cell_type": "code",
   "execution_count": null,
   "id": "95044b9d",
   "metadata": {},
   "outputs": [],
   "source": []
  },
  {
   "cell_type": "code",
   "execution_count": 41,
   "id": "d9cf1a63",
   "metadata": {},
   "outputs": [
    {
     "data": {
      "text/plain": [
       "(True, False, True)"
      ]
     },
     "execution_count": 41,
     "metadata": {},
     "output_type": "execute_result"
    }
   ],
   "source": [
    "N = 1\n",
    "\n",
    "def isprime(N):\n",
    "    if N == 1:\n",
    "        return \"1 is neither prime nor composite\"\n",
    "    factor_count = 0\n",
    "    for i in range(1,(int(math.sqrt(N))+1)):\n",
    "        if N%i == 0:\n",
    "            factor_count += 2\n",
    "    return factor_count == 2\n",
    "    \n",
    "    \n",
    "isprime(97),isprime(98),isprime(13)"
   ]
  },
  {
   "cell_type": "markdown",
   "id": "044e8375",
   "metadata": {},
   "source": [
    "    # from above code, we will be able to calculate if 10**18 is prime or not in just 10 seconds "
   ]
  },
  {
   "cell_type": "markdown",
   "id": "ac4864b5",
   "metadata": {},
   "source": [
    "    (math.sqrt(10**18))/10**8 = 10"
   ]
  },
  {
   "cell_type": "code",
   "execution_count": null,
   "id": "9d59a769",
   "metadata": {},
   "outputs": [],
   "source": []
  },
  {
   "cell_type": "code",
   "execution_count": null,
   "id": "8655f22f",
   "metadata": {},
   "outputs": [],
   "source": []
  },
  {
   "cell_type": "code",
   "execution_count": null,
   "id": "b64fbd3f",
   "metadata": {},
   "outputs": [],
   "source": [
    "# if we dont want to use math library or pythonic way (N)**0.5:"
   ]
  },
  {
   "cell_type": "markdown",
   "id": "8090ef42",
   "metadata": {},
   "source": [
    "    i < sqrt(N) +1 \n",
    "    i^2 < (sqrt(N)+1)^2\n",
    "    i^2 < N+1"
   ]
  },
  {
   "cell_type": "code",
   "execution_count": 49,
   "id": "4d64bb6b",
   "metadata": {},
   "outputs": [
    {
     "data": {
      "text/plain": [
       "(True, False, True, True)"
      ]
     },
     "execution_count": 49,
     "metadata": {},
     "output_type": "execute_result"
    }
   ],
   "source": [
    "N = 1\n",
    "def isprime(N):\n",
    "    \n",
    "    i = 1\n",
    "    factor_count = 0\n",
    "    \n",
    "    while i*i <= N:\n",
    "        \n",
    "        if N%i == 0:\n",
    "            factor_count += 2\n",
    "        i += 1\n",
    "        \n",
    "    return factor_count == 2\n",
    "    \n",
    "    \n",
    "isprime(97),isprime(98),isprime(13),isprime(3)"
   ]
  },
  {
   "cell_type": "code",
   "execution_count": null,
   "id": "59ca08bb",
   "metadata": {},
   "outputs": [],
   "source": []
  },
  {
   "cell_type": "code",
   "execution_count": null,
   "id": "e771e660",
   "metadata": {},
   "outputs": [],
   "source": []
  },
  {
   "cell_type": "code",
   "execution_count": 53,
   "id": "71f1ed4f",
   "metadata": {},
   "outputs": [
    {
     "data": {
      "text/plain": [
       "(True, False, True, True, False, False)"
      ]
     },
     "execution_count": 53,
     "metadata": {},
     "output_type": "execute_result"
    }
   ],
   "source": [
    "N = 1\n",
    "def isprime(N):\n",
    "    \n",
    "    i = 2\n",
    "    \n",
    "    while i*i <= N:\n",
    "        \n",
    "        if N%i == 0:\n",
    "            return False\n",
    "        i += 1\n",
    "        \n",
    "    return True\n",
    "    \n",
    "    \n",
    "isprime(97),isprime(98),isprime(13),isprime(3),isprime(4),isprime(25)"
   ]
  },
  {
   "cell_type": "code",
   "execution_count": null,
   "id": "7a77628f",
   "metadata": {},
   "outputs": [],
   "source": []
  },
  {
   "cell_type": "code",
   "execution_count": null,
   "id": "c0fb2e7c",
   "metadata": {},
   "outputs": [],
   "source": []
  },
  {
   "cell_type": "markdown",
   "id": "bd2b6c19",
   "metadata": {},
   "source": [
    "## given a number N find floor largest number  <= sqrt(N)\n",
    "## ignore the factorial part (round down)\n",
    "    \n",
    "        sqrt(49) = 7\n",
    "        sqrt(24) = 4\n",
    "        sqrt(25) = 5\n",
    "        sqrt(26) = 5"
   ]
  },
  {
   "cell_type": "code",
   "execution_count": null,
   "id": "345384d2",
   "metadata": {},
   "outputs": [],
   "source": [
    "# O(sqrt(N))"
   ]
  },
  {
   "cell_type": "code",
   "execution_count": 157,
   "id": "2309b0e7",
   "metadata": {},
   "outputs": [
    {
     "data": {
      "text/plain": [
       "(5, 5, 4)"
      ]
     },
     "execution_count": 157,
     "metadata": {},
     "output_type": "execute_result"
    }
   ],
   "source": [
    "def returnPerfectSQ_o_sq(N):\n",
    "    i = 1\n",
    "    while i*i <= N:\n",
    "        i += 1\n",
    "    return i-1\n",
    "        \n",
    "returnPerfectSQ_o_sq(25),returnPerfectSQ_o_sq(26),returnPerfectSQ_o_sq(23)"
   ]
  },
  {
   "cell_type": "code",
   "execution_count": null,
   "id": "19e087b3",
   "metadata": {},
   "outputs": [],
   "source": [
    "## using binary search (O(log(n)))"
   ]
  },
  {
   "cell_type": "code",
   "execution_count": 152,
   "id": "4cdead8e",
   "metadata": {},
   "outputs": [],
   "source": [
    "def returnPerfectSQ(N):\n",
    "    high = N\n",
    "    low = 1\n",
    "    \n",
    "    \n",
    "    while low <= high:  \n",
    "        mid = ( high + low ) // 2 \n",
    "        \n",
    "        \n",
    "        if mid * mid > N:\n",
    "            high = mid - 1\n",
    "            \n",
    "            \n",
    "        elif mid * mid < N:\n",
    "            low = mid + 1\n",
    "        \n",
    "        else:\n",
    "            return mid\n",
    "            \n",
    "        \n",
    "    return high\n",
    "            "
   ]
  },
  {
   "cell_type": "code",
   "execution_count": 155,
   "id": "8ba8a8e7",
   "metadata": {},
   "outputs": [
    {
     "data": {
      "text/plain": [
       "(5, 5, 4)"
      ]
     },
     "execution_count": 155,
     "metadata": {},
     "output_type": "execute_result"
    }
   ],
   "source": [
    "returnPerfectSQ(26),returnPerfectSQ(25),returnPerfectSQ(24)"
   ]
  },
  {
   "cell_type": "code",
   "execution_count": null,
   "id": "34ef030e",
   "metadata": {},
   "outputs": [],
   "source": []
  },
  {
   "cell_type": "code",
   "execution_count": 160,
   "id": "9c2d5955",
   "metadata": {},
   "outputs": [
    {
     "data": {
      "text/plain": [
       "1000000000"
      ]
     },
     "execution_count": 160,
     "metadata": {},
     "output_type": "execute_result"
    }
   ],
   "source": [
    "returnPerfectSQ(10**18) # takes 0.6 micro seconds "
   ]
  },
  {
   "cell_type": "code",
   "execution_count": null,
   "id": "9ca52437",
   "metadata": {},
   "outputs": [],
   "source": []
  },
  {
   "cell_type": "markdown",
   "id": "750bed4c",
   "metadata": {},
   "source": [
    "### Square root of a number\n",
    "\n",
    "#### Given a number A. Return square root of the number if it is perfect square otherwise return -1.\n",
    "\n",
    "\n",
    "\n",
    "    Problem Constraints\n",
    "\n",
    "    1 <= A <= 108\n",
    "\n",
    "\n",
    "\n",
    "    Input Format\n",
    "\n",
    "    First argument is an integer A.\n",
    "\n",
    "\n",
    "\n",
    "    Output Format\n",
    "\n",
    "    Return an integer which is the square root of A if A is perfect square otherwise return -1.\n",
    "\n",
    "\n",
    "\n",
    "    Example Input\n",
    "\n",
    "    Input 1:\n",
    "\n",
    "    A = 4\n",
    "    Input 2:\n",
    "\n",
    "    A = 1001\n",
    "\n",
    "\n",
    "    Example Output\n",
    "\n",
    "    Output 1:\n",
    "\n",
    "    2\n",
    "    Output 2:\n",
    "\n",
    "    -1\n",
    "\n",
    "\n",
    "    Example Explanation\n",
    "\n",
    "    Explanation 1:\n",
    "\n",
    "    sqrt(4) = 2\n",
    "    Explanation 2:\n",
    "\n",
    "    1001 is not a perfect square."
   ]
  },
  {
   "cell_type": "code",
   "execution_count": 218,
   "id": "f3830829",
   "metadata": {},
   "outputs": [],
   "source": [
    "def perfect_(A):\n",
    "\n",
    "    def perfect_square(n):\n",
    "\n",
    "        low = 1\n",
    "        high = n\n",
    "\n",
    "        while low <= high: \n",
    "            mid = (low + high)//2\n",
    "            if mid * mid > n:\n",
    "                high = mid - 1 \n",
    "\n",
    "            elif mid * mid < n:\n",
    "                low = mid + 1\n",
    "            else:\n",
    "                return mid\n",
    "        return None\n",
    "\n",
    "    def sqrt_num_if_perfect_sq(n):\n",
    "        if perfect_square(n) != None:\n",
    "            return perfect_square(n) \n",
    "        return -1\n",
    "\n",
    "    return sqrt_num_if_perfect_sq(A)      "
   ]
  },
  {
   "cell_type": "code",
   "execution_count": 224,
   "id": "ab255a63",
   "metadata": {},
   "outputs": [
    {
     "data": {
      "text/plain": [
       "-1"
      ]
     },
     "execution_count": 224,
     "metadata": {},
     "output_type": "execute_result"
    }
   ],
   "source": [
    "perfect_(37)"
   ]
  },
  {
   "cell_type": "code",
   "execution_count": 223,
   "id": "804ef8c7",
   "metadata": {},
   "outputs": [
    {
     "data": {
      "text/plain": [
       "6"
      ]
     },
     "execution_count": 223,
     "metadata": {},
     "output_type": "execute_result"
    }
   ],
   "source": [
    "perfect_(36)"
   ]
  },
  {
   "cell_type": "code",
   "execution_count": null,
   "id": "95d4f1fe",
   "metadata": {},
   "outputs": [],
   "source": []
  },
  {
   "cell_type": "markdown",
   "id": "f4e710d8",
   "metadata": {},
   "source": [
    " ### Is It Perfect?\n",
    "\n",
    "#### You are given N positive integers. For each given integer A, you have to tell whether it is a perfect number or not. A perfect number is a positive integer which is equal to the sum of its proper positive divisors.\n",
    "\n",
    "\n",
    "\n",
    "    Problem Constraints\n",
    "\n",
    "    1 <= N <= 10\n",
    "\n",
    "    1 <= A <= 106\n",
    "\n",
    "\n",
    "\n",
    "    Input Format\n",
    "\n",
    "    The first line of the input contains a single integer N.\n",
    "\n",
    "    Each of the next N lines contains a single integer A.\n",
    "\n",
    "\n",
    "\n",
    "    Output Format\n",
    "\n",
    "    In a separate line, print YES if a given integer is perfect, else print NO.\n",
    "\n",
    "\n",
    "\n",
    "    Example Input\n",
    "\n",
    "    Input 1:\n",
    "\n",
    "     2\n",
    "     4\n",
    "     6 \n",
    "    Input 2:\n",
    "\n",
    "     1\n",
    "     3 \n",
    "\n",
    "\n",
    "    Example Output\n",
    "\n",
    "    Output 1:\n",
    "\n",
    "     NO\n",
    "     YES \n",
    "    Output 2:\n",
    "\n",
    "     NO \n",
    "\n",
    "\n",
    "    Example Explanation\n",
    "\n",
    "    Explanation 1:\n",
    "\n",
    "     For A = 4, the answer is \"NO\" as sum of its proper divisors = 1 + 2 = 3, is not equal to 4. \n",
    "     For A = 6, the answer is \"YES\" as sum of its proper divisors = 1 + 2 + 3 = 6, is equal to 6. \n",
    "    Explanation 2:\n",
    "\n",
    "     For A = 3, the answer is \"NO\" as sum of its proper divisors = 1, is not equal to 3. "
   ]
  },
  {
   "cell_type": "code",
   "execution_count": 210,
   "id": "b85ac9cb",
   "metadata": {},
   "outputs": [
    {
     "name": "stdout",
     "output_type": "stream",
     "text": [
      "1\n",
      "2\n",
      "3\n"
     ]
    },
    {
     "data": {
      "text/plain": [
       "True"
      ]
     },
     "execution_count": 210,
     "metadata": {},
     "output_type": "execute_result"
    }
   ],
   "source": [
    "def isperfect(n):\n",
    "    factors = 0 \n",
    "    for i in range(1,n):\n",
    "        if n%i == 0:\n",
    "            print(i)\n",
    "            factors += i\n",
    "    if factors == n:\n",
    "        return True\n",
    "    return False\n",
    "            \n",
    "    \n",
    "isperfect(6)"
   ]
  },
  {
   "cell_type": "code",
   "execution_count": null,
   "id": "ec8d88a9",
   "metadata": {},
   "outputs": [],
   "source": []
  },
  {
   "cell_type": "code",
   "execution_count": 214,
   "id": "b6f7f901",
   "metadata": {},
   "outputs": [
    {
     "name": "stdout",
     "output_type": "stream",
     "text": [
      "1\n",
      "2\n",
      "3\n"
     ]
    },
    {
     "data": {
      "text/plain": [
       "True"
      ]
     },
     "execution_count": 214,
     "metadata": {},
     "output_type": "execute_result"
    }
   ],
   "source": [
    "def isperfect(n):\n",
    "    factors = 0 \n",
    "    i = 1\n",
    "    while i < n:\n",
    "        if n%i == 0:\n",
    "            print(i)\n",
    "            factors += i\n",
    "        i+=1\n",
    "    if factors == n:\n",
    "        return True\n",
    "    return False\n",
    "            \n",
    "    \n",
    "isperfect(6)"
   ]
  },
  {
   "cell_type": "code",
   "execution_count": null,
   "id": "7325fc9a",
   "metadata": {},
   "outputs": [],
   "source": []
  },
  {
   "cell_type": "markdown",
   "id": "b4ac6d08",
   "metadata": {},
   "source": [
    "### Armstrong Numbers!\n",
    "\n",
    "#### You are given an integer N you need to print all the Armstrong Numbers between 1 to N.  If sum of cubes of each digit of the number is equal to the number itself, then the number is called an Armstrong number.  \n",
    "    For example, 153 = ( 1 * 1 * 1 ) + ( 5 * 5 * 5 ) + ( 3 * 3 * 3 ).\n",
    "\n",
    "        Problem Constraints\n",
    "        1 <= N <= 500\n",
    "\n",
    "        Input Format\n",
    "        First and only line of input contains an integer N.\n",
    "\n",
    "        Output Format\n",
    "        Output all the Armstrong numbers in range [1,N] each in a new line.\n",
    "\n",
    "        Example Input\n",
    "        Input 1:\n",
    "         5\n",
    "        Input 2:\n",
    "         200\n",
    "\n",
    "        Example Output\n",
    "        Output 1:\n",
    "        1\n",
    "        Output 2:\n",
    "        1\n",
    "        153\n",
    "\n",
    "        Example Explanation\n",
    "        Explanation 1:\n",
    "        1 is an armstrong number.\n",
    "        Explanation 2:\n",
    "        1 and 153 are armstrong number under 200."
   ]
  },
  {
   "cell_type": "code",
   "execution_count": 240,
   "id": "4c89aecf",
   "metadata": {},
   "outputs": [],
   "source": [
    "def isArmstrong(n):\n",
    "    total = 0\n",
    "    original = n\n",
    "    while n != 0:\n",
    "        digit = n % 10\n",
    "        n = n//10\n",
    "        total += (digit)**(len(str(original)))\n",
    "    \n",
    "    if total == original:\n",
    "        return True\n",
    "    return False\n",
    "    \n",
    "        "
   ]
  },
  {
   "cell_type": "code",
   "execution_count": 241,
   "id": "67265877",
   "metadata": {},
   "outputs": [
    {
     "data": {
      "text/plain": [
       "True"
      ]
     },
     "execution_count": 241,
     "metadata": {},
     "output_type": "execute_result"
    }
   ],
   "source": [
    "isArmstrong(548834)"
   ]
  },
  {
   "cell_type": "code",
   "execution_count": null,
   "id": "4908fd3b",
   "metadata": {},
   "outputs": [],
   "source": []
  },
  {
   "cell_type": "code",
   "execution_count": 242,
   "id": "247c9f37",
   "metadata": {},
   "outputs": [
    {
     "name": "stdout",
     "output_type": "stream",
     "text": [
      "0\n",
      "1\n",
      "2\n",
      "3\n",
      "4\n",
      "5\n",
      "6\n",
      "7\n",
      "8\n",
      "9\n",
      "153\n",
      "370\n",
      "371\n",
      "407\n",
      "1634\n",
      "8208\n",
      "9474\n",
      "54748\n",
      "92727\n",
      "93084\n"
     ]
    }
   ],
   "source": [
    "for i in range(100000):\n",
    "    if isArmstrong(i):\n",
    "        print(i)\n",
    "    "
   ]
  },
  {
   "cell_type": "code",
   "execution_count": null,
   "id": "a598c713",
   "metadata": {},
   "outputs": [],
   "source": []
  },
  {
   "cell_type": "code",
   "execution_count": null,
   "id": "cf9e3da0",
   "metadata": {},
   "outputs": [],
   "source": []
  },
  {
   "cell_type": "code",
   "execution_count": null,
   "id": "e879d7de",
   "metadata": {},
   "outputs": [],
   "source": []
  },
  {
   "cell_type": "markdown",
   "id": "4e0e083b",
   "metadata": {},
   "source": [
    "    N = 2048   \n",
    "\n",
    "    step   value\n",
    "    0   2048       N\n",
    "    1   1024       N/2\n",
    "    2   512        N/4\n",
    "    3   256        N/8\n",
    "    4   128        N/2**4\n",
    "    5   64         N/2**5 \n",
    "    6   32\n",
    "    7   16\n",
    "    8   8\n",
    "    9   4\n",
    "    10  2\n",
    "    11  1\n",
    "    .\n",
    "    .\n",
    "    .\n",
    "    k             N/2**k  = 1\n",
    "\n",
    "    N = 2**k\n",
    "\n",
    "    logN =  k  = numbers of steps we want"
   ]
  },
  {
   "cell_type": "code",
   "execution_count": null,
   "id": "ff063f28",
   "metadata": {},
   "outputs": [],
   "source": []
  },
  {
   "cell_type": "markdown",
   "id": "865d9b00",
   "metadata": {},
   "source": [
    "## How many digits are there in 2^46 : "
   ]
  },
  {
   "cell_type": "markdown",
   "id": "319a9b62",
   "metadata": {},
   "source": [
    "    10 ^ ?  = 2^46\n"
   ]
  },
  {
   "cell_type": "markdown",
   "id": "c509ada9",
   "metadata": {},
   "source": [
    "    2^46 = 10^(46/log2(10))"
   ]
  },
  {
   "cell_type": "code",
   "execution_count": 256,
   "id": "c291a2b8",
   "metadata": {},
   "outputs": [
    {
     "data": {
      "text/plain": [
       "70368744177664"
      ]
     },
     "execution_count": 256,
     "metadata": {},
     "output_type": "execute_result"
    }
   ],
   "source": [
    "2**46"
   ]
  },
  {
   "cell_type": "code",
   "execution_count": 260,
   "id": "75dfa1f6",
   "metadata": {},
   "outputs": [
    {
     "data": {
      "text/plain": [
       "14"
      ]
     },
     "execution_count": 260,
     "metadata": {},
     "output_type": "execute_result"
    }
   ],
   "source": [
    "int(46/math.log2(10))+1"
   ]
  },
  {
   "cell_type": "code",
   "execution_count": 257,
   "id": "375d07ea",
   "metadata": {},
   "outputs": [
    {
     "data": {
      "text/plain": [
       "70368744177664.14"
      ]
     },
     "execution_count": 257,
     "metadata": {},
     "output_type": "execute_result"
    }
   ],
   "source": [
    "10**(46/math.log2(10))"
   ]
  },
  {
   "cell_type": "code",
   "execution_count": null,
   "id": "f52e1dd4",
   "metadata": {},
   "outputs": [],
   "source": []
  },
  {
   "cell_type": "code",
   "execution_count": null,
   "id": "2777468b",
   "metadata": {},
   "outputs": [],
   "source": []
  },
  {
   "cell_type": "code",
   "execution_count": 255,
   "id": "324d4fec",
   "metadata": {},
   "outputs": [
    {
     "data": {
      "text/plain": [
       "14348907"
      ]
     },
     "execution_count": 255,
     "metadata": {},
     "output_type": "execute_result"
    }
   ],
   "source": [
    "3**15"
   ]
  },
  {
   "cell_type": "code",
   "execution_count": 262,
   "id": "95a69e98",
   "metadata": {},
   "outputs": [
    {
     "data": {
      "text/plain": [
       "8"
      ]
     },
     "execution_count": 262,
     "metadata": {},
     "output_type": "execute_result"
    }
   ],
   "source": [
    "int(15/math.log(10,3))+1"
   ]
  },
  {
   "cell_type": "code",
   "execution_count": null,
   "id": "bd88b0ec",
   "metadata": {},
   "outputs": [],
   "source": []
  },
  {
   "cell_type": "code",
   "execution_count": null,
   "id": "4173e3f0",
   "metadata": {},
   "outputs": [],
   "source": []
  },
  {
   "cell_type": "markdown",
   "id": "f58d728b",
   "metadata": {},
   "source": [
    "### Create a list of all squares of 1 till 10"
   ]
  },
  {
   "cell_type": "code",
   "execution_count": 265,
   "id": "d98639f6",
   "metadata": {},
   "outputs": [
    {
     "name": "stdout",
     "output_type": "stream",
     "text": [
      "[1, 4, 9, 16, 25, 36, 49, 64, 81, 100]\n"
     ]
    }
   ],
   "source": [
    "sq = []\n",
    "for i in range(1,11):\n",
    "    sq.append(i*i)\n",
    "print(sq)"
   ]
  },
  {
   "cell_type": "code",
   "execution_count": 266,
   "id": "ad033afe",
   "metadata": {},
   "outputs": [
    {
     "data": {
      "text/plain": [
       "[1, 4, 9, 16, 25, 36, 49, 64, 81, 100]"
      ]
     },
     "execution_count": 266,
     "metadata": {},
     "output_type": "execute_result"
    }
   ],
   "source": [
    "[i*i for i in range(1,11)]"
   ]
  },
  {
   "cell_type": "code",
   "execution_count": null,
   "id": "7dbeb8e5",
   "metadata": {},
   "outputs": [],
   "source": []
  },
  {
   "cell_type": "code",
   "execution_count": null,
   "id": "fc9c6950",
   "metadata": {},
   "outputs": [],
   "source": []
  },
  {
   "cell_type": "markdown",
   "id": "0e18eb10",
   "metadata": {},
   "source": [
    "#### What is the time complexity of accessing element at the ith index in an array of size N? Time complexity to access arr[i] ?\n",
    "\n",
    "    O(1)"
   ]
  },
  {
   "cell_type": "code",
   "execution_count": null,
   "id": "a74f694e",
   "metadata": {},
   "outputs": [],
   "source": []
  },
  {
   "cell_type": "markdown",
   "id": "c3fe1d61",
   "metadata": {},
   "source": [
    "### find the sum of array : "
   ]
  },
  {
   "cell_type": "code",
   "execution_count": 267,
   "id": "2f91135f",
   "metadata": {},
   "outputs": [
    {
     "data": {
      "text/plain": [
       "55"
      ]
     },
     "execution_count": 267,
     "metadata": {},
     "output_type": "execute_result"
    }
   ],
   "source": [
    "def sum_array(A):\n",
    "    total =  0\n",
    "    for i in range(len(A)):\n",
    "        total += A[i]\n",
    "    return total\n",
    "sum_array([1,2,3,4,5,6,7,8,9,10])"
   ]
  },
  {
   "cell_type": "code",
   "execution_count": 268,
   "id": "faeeab68",
   "metadata": {},
   "outputs": [
    {
     "data": {
      "text/plain": [
       "55"
      ]
     },
     "execution_count": 268,
     "metadata": {},
     "output_type": "execute_result"
    }
   ],
   "source": [
    "def sum_array(A):\n",
    "    total =  0\n",
    "    for i in A:\n",
    "        total += i\n",
    "    return total\n",
    "sum_array([1,2,3,4,5,6,7,8,9,10])"
   ]
  },
  {
   "cell_type": "code",
   "execution_count": null,
   "id": "317af0b6",
   "metadata": {},
   "outputs": [],
   "source": []
  },
  {
   "cell_type": "markdown",
   "id": "3ef97bd8",
   "metadata": {},
   "source": [
    "### Given N elements in list ,count number of elements which have atleast 1 element greater than itself present in the list : "
   ]
  },
  {
   "cell_type": "code",
   "execution_count": 274,
   "id": "a10f8416",
   "metadata": {},
   "outputs": [
    {
     "data": {
      "text/plain": [
       "9"
      ]
     },
     "execution_count": 274,
     "metadata": {},
     "output_type": "execute_result"
    }
   ],
   "source": [
    "A = [1,3,2,6,8,9,0,-30,-20,5]\n",
    "\n",
    "def count_greater_elements(A):\n",
    "    n = len(A)\n",
    "    count = 0\n",
    "    for x in A:\n",
    "        haslarger = False\n",
    "        for value in A:\n",
    "            if value > x:\n",
    "                haslarger = True\n",
    "        if haslarger:\n",
    "            count += 1\n",
    "    return count\n",
    "count_greater_elements(A)"
   ]
  },
  {
   "cell_type": "code",
   "execution_count": 278,
   "id": "547b65e5",
   "metadata": {},
   "outputs": [
    {
     "data": {
      "text/plain": [
       "2"
      ]
     },
     "execution_count": 278,
     "metadata": {},
     "output_type": "execute_result"
    }
   ],
   "source": [
    "count_greater_elements([8,8,8,1,8,8,8,2])"
   ]
  },
  {
   "cell_type": "code",
   "execution_count": null,
   "id": "bb1f305e",
   "metadata": {},
   "outputs": [],
   "source": []
  },
  {
   "cell_type": "code",
   "execution_count": 285,
   "id": "4ee9358f",
   "metadata": {},
   "outputs": [
    {
     "data": {
      "text/plain": [
       "2"
      ]
     },
     "execution_count": 285,
     "metadata": {},
     "output_type": "execute_result"
    }
   ],
   "source": [
    "def count_greater_elements(A):\n",
    "    \n",
    "    n = len(A)\n",
    "    maxval = -float(\"inf\")\n",
    "    \n",
    "    for i in A:\n",
    "        if i > maxval:\n",
    "            maxval = i\n",
    "\n",
    "    not_max_count = 0\n",
    "    \n",
    "    for x in A:\n",
    "        if x < maxval:\n",
    "            not_max_count += 1\n",
    "            \n",
    "    return not_max_count\n",
    "            \n",
    "    \n",
    "    \n",
    "count_greater_elements([8,8,8,1,8,8,8,2])"
   ]
  },
  {
   "cell_type": "code",
   "execution_count": null,
   "id": "d0661633",
   "metadata": {},
   "outputs": [],
   "source": []
  },
  {
   "cell_type": "markdown",
   "id": "62dd5a64",
   "metadata": {},
   "source": [
    "### Reverse the given list : "
   ]
  },
  {
   "cell_type": "code",
   "execution_count": 286,
   "id": "bc23f99e",
   "metadata": {},
   "outputs": [
    {
     "data": {
      "text/plain": [
       "[8, 6, 3, 10, 1]"
      ]
     },
     "execution_count": 286,
     "metadata": {},
     "output_type": "execute_result"
    }
   ],
   "source": [
    "A = [1,10,3,6,8]\n",
    "A[::-1]"
   ]
  },
  {
   "cell_type": "code",
   "execution_count": 291,
   "id": "cb0f12d4",
   "metadata": {},
   "outputs": [
    {
     "data": {
      "text/plain": [
       "[8, 6, 3, 10, 1]"
      ]
     },
     "execution_count": 291,
     "metadata": {},
     "output_type": "execute_result"
    }
   ],
   "source": [
    "def reverse_list(A):\n",
    "    \n",
    "    n = len(A)\n",
    "    reversed_list = []\n",
    "    for i in reversed(range(len(A))):\n",
    "        reversed_list.append(A[i])\n",
    "        \n",
    "    return reversed_list\n",
    "\n",
    "reverse_list(A)"
   ]
  },
  {
   "cell_type": "code",
   "execution_count": 292,
   "id": "e673d402",
   "metadata": {},
   "outputs": [
    {
     "data": {
      "text/plain": [
       "[8, 6, 3, 10, 1]"
      ]
     },
     "execution_count": 292,
     "metadata": {},
     "output_type": "execute_result"
    }
   ],
   "source": [
    "def reverse_list(A):\n",
    "    \n",
    "    n = len(A)\n",
    "    \n",
    "    for i in range(len(A)//2):\n",
    "        A[i],A[n-i-1] = A[n-i-1],A[i]    # tuple unpacking \n",
    "    return A\n",
    "\n",
    "reverse_list(A)"
   ]
  },
  {
   "cell_type": "markdown",
   "id": "a1921d38",
   "metadata": {},
   "source": [
    "    i   <>  n-1\n",
    "    i+1 <>  n-i-1\n",
    "    \n",
    "    0 <> 5\n",
    "    1 <> 4\n",
    "    2 <> 3 stop here. n//2\n",
    "    3 <> 2 \n",
    "    "
   ]
  },
  {
   "cell_type": "code",
   "execution_count": 301,
   "id": "f7b55bea",
   "metadata": {},
   "outputs": [
    {
     "data": {
      "text/plain": [
       "[8, 6, 3, 10, 1]"
      ]
     },
     "execution_count": 301,
     "metadata": {},
     "output_type": "execute_result"
    }
   ],
   "source": [
    "def reverse_list(A):\n",
    "    \n",
    "    n = len(A)\n",
    "    \n",
    "    for i in range(len(A)//2):\n",
    "        temp = A[i]\n",
    "        A[i] = A[n-i-1]\n",
    "        A[n-i-1] = temp\n",
    "        \n",
    "    return A\n",
    "\n",
    "A = [1,10,3,6,8]\n",
    "\n",
    "reverse_list(A)"
   ]
  },
  {
   "cell_type": "code",
   "execution_count": null,
   "id": "dedd0186",
   "metadata": {},
   "outputs": [],
   "source": []
  },
  {
   "cell_type": "markdown",
   "id": "dec664af",
   "metadata": {},
   "source": [
    "###  Rotation Game\n",
    "\n",
    "### Given an integer array A of size N and an integer B, you have to print the same array after rotating it B times towards the right.\n",
    "\n",
    "\n",
    "    Problem Constraints\n",
    "    1 <= N <= 106\n",
    "    1 <= A[i] <=108\n",
    "    1 <= B <= 109\n",
    "\n",
    "\n",
    "    Input Format\n",
    "    There are 2 lines in the input\n",
    "\n",
    "    Line 1: The first number is the size N of the array A. Then N numbers follow which indicate the elements in the array A.\n",
    "\n",
    "    Line 2: A single integer B.\n",
    "\n",
    "\n",
    "    Output Format\n",
    "    Print array A after rotating it B times towards the right.\n",
    "\n",
    "\n",
    "    Example Input\n",
    "    Input 1 :\n",
    "    4 1 2 3 4\n",
    "    2\n",
    "\n",
    "\n",
    "    Example Output\n",
    "    Output 1 :\n",
    "    3 4 1 2\n",
    "\n",
    "\n",
    "    Example Explanation\n",
    "    Example 1 :\n",
    "\n",
    "    N = 4, A = [1, 2, 3, 4] and B = 2.\n",
    "\n",
    "    Rotate towards the right 2 times - [1, 2, 3, 4] => [4, 1, 2, 3] => [3, 4, 1, 2]\n",
    "\n",
    "    Final array = [3, 4, 1, 2]\n"
   ]
  },
  {
   "cell_type": "code",
   "execution_count": 308,
   "id": "3147e0ed",
   "metadata": {},
   "outputs": [
    {
     "name": "stdout",
     "output_type": "stream",
     "text": [
      "4 1 2 3 4\n",
      "2\n",
      "length of array:  4\n",
      "Array: [1, 2, 3, 4]\n"
     ]
    },
    {
     "data": {
      "text/plain": [
       "[3, 4, 1, 2]"
      ]
     },
     "execution_count": 308,
     "metadata": {},
     "output_type": "execute_result"
    }
   ],
   "source": [
    "A = list(map(int,input().split()))\n",
    "\n",
    "rotations = int(input())\n",
    "n = A.pop(0)\n",
    "print(\"length of array: \",n)\n",
    "print(\"Array:\",A)\n",
    "\n",
    "rotations = rotations % n\n",
    "\n",
    "for i in range(rotations):\n",
    "    A.insert(0,A.pop())\n",
    "    \n",
    "A    \n"
   ]
  },
  {
   "cell_type": "code",
   "execution_count": null,
   "id": "f6ee3675",
   "metadata": {},
   "outputs": [],
   "source": []
  },
  {
   "cell_type": "markdown",
   "id": "4660b324",
   "metadata": {},
   "source": [
    "### Good Pair\n",
    "\n",
    "### Given an array A and an integer B. A pair(i, j) in the array is a good pair if i != j and (A[i] + A[j] == B). Check if any good pair exist or not.\n",
    "\n",
    "    Problem Constraints\n",
    "    1 <= A.size() <= 104\n",
    "    1 <= A[i] <= 109\n",
    "    1 <= B <= 109\n",
    "\n",
    "    Input Format\n",
    "    First argument is an integer array A.\n",
    "    Second argument is an integer B.\n",
    "\n",
    "    Output Format\n",
    "    Return 1 if good pair exist otherwise return 0.\n",
    "\n",
    "    Example Input\n",
    "    Input 1:\n",
    "    A = [1,2,3,4]\n",
    "    B = 7\n",
    "    Input 2:\n",
    "    A = [1,2,4]\n",
    "    B = 4\n",
    "    Input 3:\n",
    "    A = [1,2,2]\n",
    "    B = 4\n",
    "\n",
    "    Example Output\n",
    "    Output 1:\n",
    "    1\n",
    "    Output 2:\n",
    "    0\n",
    "    Output 3:\n",
    "    1\n",
    "\n",
    "    Example Explanation\n",
    "    Explanation 1:\n",
    "     (i,j) = (3,4)\n",
    "    Explanation 2:\n",
    "    No pair has sum equal to 4.\n",
    "    Explanation 3:\n",
    "     (i,j) = (2,3)"
   ]
  },
  {
   "cell_type": "code",
   "execution_count": 340,
   "id": "bfdd7223",
   "metadata": {},
   "outputs": [
    {
     "data": {
      "text/plain": [
       "1"
      ]
     },
     "execution_count": 340,
     "metadata": {},
     "output_type": "execute_result"
    }
   ],
   "source": [
    "# what is asked n question:\n",
    "\n",
    "def GoodPair(A,k):\n",
    "    n = len(A)\n",
    "    for i in range(n):\n",
    "        for j in range(i,n):\n",
    "            if i!=j:\n",
    "                if A[i]+A[j]==B:\n",
    "                    return 1\n",
    "    return 0\n",
    "\n",
    "A = [1,2,3,4]\n",
    "k = 7\n",
    "GoodPair(A,k) "
   ]
  },
  {
   "cell_type": "code",
   "execution_count": null,
   "id": "722e5161",
   "metadata": {},
   "outputs": [],
   "source": [
    "# variations : "
   ]
  },
  {
   "cell_type": "code",
   "execution_count": 337,
   "id": "db9c877a",
   "metadata": {},
   "outputs": [
    {
     "data": {
      "text/plain": [
       "4"
      ]
     },
     "execution_count": 337,
     "metadata": {},
     "output_type": "execute_result"
    }
   ],
   "source": [
    "A = [1,2,3,4]\n",
    "k = 7\n",
    "\n",
    "    n = len(A)\n",
    "    c = 0\n",
    "    for i in range(n):\n",
    "        for j in range(i,n):\n",
    "            if A[i]+A[j] == k:\n",
    "                c+=1\n",
    "    return c\n",
    "\n",
    "A = [1,2,3,4,4,3]\n",
    "k = 7\n",
    "GoodPair(A,k)   # combination pair counts"
   ]
  },
  {
   "cell_type": "code",
   "execution_count": null,
   "id": "ad4784c7",
   "metadata": {},
   "outputs": [],
   "source": [
    "# individual pair counts "
   ]
  },
  {
   "cell_type": "code",
   "execution_count": 335,
   "id": "7b2e8c04",
   "metadata": {},
   "outputs": [
    {
     "data": {
      "text/plain": [
       "2"
      ]
     },
     "execution_count": 335,
     "metadata": {},
     "output_type": "execute_result"
    }
   ],
   "source": [
    "A = [1,2,3,4]\n",
    "k = 7\n",
    "\n",
    "def GoodPair(A,k):\n",
    "    \n",
    "    n = len(A)\n",
    "    c = 0\n",
    "    Aset = set()\n",
    "    \n",
    "    for i in A:\n",
    "        target = k-i\n",
    "        if target in Aset:\n",
    "            c+=1\n",
    "        else:\n",
    "            Aset.add(i)\n",
    "    return c\n",
    "    \n",
    "\n",
    "A = [1,2,3,4,2,4]\n",
    "k = 6\n",
    "GoodPair(A,k)"
   ]
  },
  {
   "cell_type": "code",
   "execution_count": null,
   "id": "8686c514",
   "metadata": {},
   "outputs": [],
   "source": []
  },
  {
   "cell_type": "markdown",
   "id": "6d58caef",
   "metadata": {},
   "source": [
    "###  Max and Min of an Array\n",
    "\n",
    "  \n",
    "\n"
   ]
  },
  {
   "cell_type": "code",
   "execution_count": 342,
   "id": "2b271177",
   "metadata": {},
   "outputs": [
    {
     "name": "stdout",
     "output_type": "stream",
     "text": [
      "4 10 50 40 80\n",
      "80 10\n"
     ]
    }
   ],
   "source": [
    "A = list(map(int,input().split()))\n",
    "N = A[0]\n",
    "maxm = A[1]\n",
    "\n",
    "\n",
    "for i in range(1,N+1):\n",
    "    if A[i] > maxm:\n",
    "        maxm = A[i]\n",
    "\n",
    "minm = A[1]\n",
    "for i in range(1,N):\n",
    "    if A[i]<minm:\n",
    "        minm = A[i]\n",
    "\n",
    "print(maxm,minm)\n"
   ]
  },
  {
   "cell_type": "code",
   "execution_count": null,
   "id": "4acf043e",
   "metadata": {},
   "outputs": [],
   "source": []
  },
  {
   "cell_type": "markdown",
   "id": "216c4207",
   "metadata": {},
   "source": [
    "### Little Ponny and Maximum Element\n",
    "\n",
    "#### Little Ponny is given an array, A, of N integers. In a particular operation, he can set any element of the array equal to -1. He wants your help in finding out the minimum number of operations required such that the maximum element of the resulting array is B. If it is not possible, then return -1.\n",
    "\n",
    "\n",
    "    Problem Constraints\n",
    "    1 <= |A| <= 105\n",
    "    1 <= A[i] <= 109\n",
    "\n",
    "    Input Format\n",
    "    The first argument of input contains an integer array, A.\n",
    "    The second argument of input contains an integer, B.\n",
    "\n",
    "    Output Format\n",
    "    Return an integer representing the answer.\n",
    "\n",
    "    Example Input\n",
    "    Input 1:\n",
    "\n",
    "     A = [2, 4, 3, 1, 5]\n",
    "     B = 3 \n",
    "    Input 2:\n",
    "\n",
    "     A = [1, 4, 2]\n",
    "     B = 3 \n",
    "\n",
    "    Example Output\n",
    "    Output 1:\n",
    "     2 \n",
    "    Output 2:\n",
    "     -1 \n",
    "\n",
    "    Example Explanation\n",
    "    Explanation 1:\n",
    "\n",
    "     We need to remove 4 and 5 to make 3 the biggest element. \n",
    "    Explanation 2:\n",
    "\n",
    "     As 3 doesn't exist in the array, the answer is -1. "
   ]
  },
  {
   "cell_type": "code",
   "execution_count": 351,
   "id": "387aaba1",
   "metadata": {},
   "outputs": [
    {
     "data": {
      "text/plain": [
       "2"
      ]
     },
     "execution_count": 351,
     "metadata": {},
     "output_type": "execute_result"
    }
   ],
   "source": [
    "A = [2, 4, 3, 1, 5]\n",
    "B = 3 \n",
    "def little_pony_max_element(A,B):\n",
    "    if B not in A:\n",
    "        return -1\n",
    "    number_of_operations = 0\n",
    "    n = len(A)\n",
    "    maxele_to_be = B\n",
    "    for i in A:\n",
    "        if i > maxele_to_be:\n",
    "            number_of_operations +=  1\n",
    "    return number_of_operations\n",
    "    \n",
    "\n",
    "A = [2, 4, 3, 1, 5]\n",
    "B = 3 \n",
    "little_pony_max_element(A,B)\n",
    "    "
   ]
  },
  {
   "cell_type": "code",
   "execution_count": 352,
   "id": "5fea1e4d",
   "metadata": {},
   "outputs": [
    {
     "data": {
      "text/plain": [
       "-1"
      ]
     },
     "execution_count": 352,
     "metadata": {},
     "output_type": "execute_result"
    }
   ],
   "source": [
    "\n",
    "A = [1, 4, 2]\n",
    "B = 3 \n",
    "little_pony_max_element(A,B)\n"
   ]
  },
  {
   "cell_type": "code",
   "execution_count": null,
   "id": "12bbe034",
   "metadata": {},
   "outputs": [],
   "source": []
  },
  {
   "cell_type": "markdown",
   "id": "92f73b43",
   "metadata": {},
   "source": [
    "### Second Largest\n",
    "\n",
    "### You are given an integer array A. You have to find the second largest element/value in the array or report that no such element exists.\n",
    "\n",
    "    Problem Constraints\n",
    "    1 <= |A| <= 105\n",
    "    0 <= A[i] <= 109\n",
    "\n",
    "    Input Format\n",
    "    The first argument is an integer array A.\n",
    "    Output Format\n",
    "    Return the second largest element. If no such element exist then return -1.\n",
    "\n",
    "    Example Input\n",
    "    Input 1:\n",
    "     A = [2, 1, 2] \n",
    "    Input 2:\n",
    "     A = [2]\n",
    "    Example Output\n",
    "    Output 1:\n",
    "     2 \n",
    "    Output 2:\n",
    "     -1 \n",
    "\n",
    "    Example Explanation\n",
    "    Explanation 1:\n",
    "\n",
    "     First largest element = 2\n",
    "     Second largest element = 2\n",
    "     Third largest element = 1\n",
    "    Explanation 2:\n",
    "\n",
    "     There is no second largest element in the array."
   ]
  },
  {
   "cell_type": "code",
   "execution_count": 362,
   "id": "5f71bc7e",
   "metadata": {},
   "outputs": [
    {
     "data": {
      "text/plain": [
       "(7, 9)"
      ]
     },
     "execution_count": 362,
     "metadata": {},
     "output_type": "execute_result"
    }
   ],
   "source": [
    "A = [1,2,3,4,5]\n",
    "def find_Second_largest(A):\n",
    "    n = len(A)\n",
    "    \n",
    "    max1 = -float(\"inf\")\n",
    "    max2 = -float(\"inf\")\n",
    "    \n",
    "    for i in A:\n",
    "        if i > max1:\n",
    "            max2 = max1\n",
    "            max1 = i\n",
    "        elif i > max2:\n",
    "            max2 = i\n",
    "    if max2 == -float(\"inf\"):\n",
    "        return -1,max1\n",
    "    return max2,max1\n",
    "    \n",
    "    \n",
    "A = [9,4,2,7,3]\n",
    "find_Second_largest(A)\n"
   ]
  },
  {
   "cell_type": "code",
   "execution_count": 364,
   "id": "e16faeec",
   "metadata": {},
   "outputs": [
    {
     "data": {
      "text/plain": [
       "(-1, 99)"
      ]
     },
     "execution_count": 364,
     "metadata": {},
     "output_type": "execute_result"
    }
   ],
   "source": [
    "A = [99]\n",
    "find_Second_largest(A)\n"
   ]
  },
  {
   "cell_type": "code",
   "execution_count": null,
   "id": "595ed0f5",
   "metadata": {},
   "outputs": [],
   "source": []
  },
  {
   "cell_type": "markdown",
   "id": "61404720",
   "metadata": {},
   "source": [
    "### MINIMUM PICKS\n",
    "\n",
    "#### You are given an array of integers A of size N. Return the difference between the maximum among all even numbers of A and the minimum among all odd numbers in A."
   ]
  },
  {
   "cell_type": "code",
   "execution_count": 365,
   "id": "04ffb5e5",
   "metadata": {},
   "outputs": [],
   "source": [
    "def minimum_picks(A):\n",
    "    odds = [x for x in A if x%2!=0]\n",
    "    even = [x for x in A if x%2==0]\n",
    "\n",
    "\n",
    "\n",
    "    return max(even)-min(odds)"
   ]
  },
  {
   "cell_type": "code",
   "execution_count": 366,
   "id": "d25b97e5",
   "metadata": {},
   "outputs": [
    {
     "data": {
      "text/plain": [
       "99"
      ]
     },
     "execution_count": 366,
     "metadata": {},
     "output_type": "execute_result"
    }
   ],
   "source": [
    "minimum_picks([5,17,100,1])"
   ]
  },
  {
   "cell_type": "code",
   "execution_count": null,
   "id": "ae13ee6e",
   "metadata": {},
   "outputs": [],
   "source": []
  },
  {
   "cell_type": "markdown",
   "id": "c8235cf4",
   "metadata": {},
   "source": [
    "### Separate Odd Even\n",
    "\n",
    "#### You are given an integer T denoting the number of test cases. For each test case, you are given an integer array A. You have to print the odd and even elements of array A in 2 separate lines. \n",
    "    NOTE: Array elements should have the same relative order as in A.\n",
    "\n",
    "\n",
    "\n",
    "    Problem Constraints\n",
    "    1 <= T <= 10\n",
    "\n",
    "    1 <= |A| <= 105\n",
    "\n",
    "    1 <= A[i] <= 109\n",
    "\n",
    "\n",
    "\n",
    "    Input Format\n",
    "    First line of the input contains a single integer T.\n",
    "\n",
    "    For each test case:\n",
    "\n",
    "    First line consists of a single integer |A| denoting the length of array.\n",
    "    Second line consists of |A| space separated integers denoting the elements of array A.\n",
    "\n",
    "\n",
    "    Output Format\n",
    "    For each test case:\n",
    "\n",
    "    First line should contain an array of space separated integers containing all the odd elements of array A\n",
    "    Second line should contain an array of space separated integers containing all the even elements of array A\n",
    "\n",
    "\n",
    "    Example Input\n",
    "    Input 1:\n",
    "\n",
    "     2 \n",
    "     5\n",
    "     1 2 3 4 5\n",
    "     3\n",
    "     4 3 2\n",
    "    Input 2:\n",
    "\n",
    "     2 \n",
    "     3\n",
    "     2 2 2\n",
    "     2\n",
    "     1 1\n",
    "\n",
    "\n",
    "    Example Output\n",
    "    Output 1:\n",
    "\n",
    "     1 3 5\n",
    "     2 4\n",
    "     3\n",
    "     4 2\n",
    "    Output 2:\n",
    "\n",
    "\n",
    "     2 2 2\n",
    "     1 1\n",
    "\n",
    "\n",
    "\n",
    "    Example Explanation\n",
    "    Explanation 1:\n",
    "\n",
    "     Test Case 1: \n",
    "     Odd elements in the array(in the order they occur) are: 1, 3, 5.\n",
    "     Even elements in the array(in the order they occur) are: 2, 4.\n",
    "\n",
    "     Test Case 2 \n",
    "     Odd elements in the array(in the order they occur) are: 3.\n",
    "     Even elements in the array(in the order they occur) are: 4, 2.\n",
    "    Explanation 2:\n",
    "\n",
    "     Test Case 1: \n",
    "     There are no odd elements in the array.\n",
    "     Even elements in the array(in the order they occur) are: 2, 2, 2.\n",
    "\n",
    "     Test Case 2 \n",
    "     Odd elements in the array(in the order they occur) are: 1, 1.\n",
    "     There are no even elements in the array."
   ]
  },
  {
   "cell_type": "code",
   "execution_count": 367,
   "id": "01e72340",
   "metadata": {},
   "outputs": [
    {
     "name": "stdout",
     "output_type": "stream",
     "text": [
      "2\n",
      "5\n",
      "1 2 3 4 5\n",
      "1 3 5 \n",
      "2 4 \n",
      "3\n",
      "4 3 2\n",
      "3 \n",
      "4 2 \n"
     ]
    }
   ],
   "source": [
    "def main():\n",
    "    \n",
    "    T = int(input())\n",
    "    while T>0:\n",
    "        T = T-1\n",
    "\n",
    "        L = int(input())\n",
    "        A = list(map(int,input().split()))\n",
    "        \n",
    "        for i in A:\n",
    "            if i%2!=0:\n",
    "                print(i,end =\" \")\n",
    "        print()\n",
    "        for i in A:\n",
    "            if i%2==0:\n",
    "                print(i,end =\" \")\n",
    "        print()\n",
    "\n",
    "\n",
    "    return 0\n",
    "\n",
    "if __name__ == '__main__':\n",
    "    main()"
   ]
  },
  {
   "cell_type": "code",
   "execution_count": null,
   "id": "de672320",
   "metadata": {},
   "outputs": [],
   "source": []
  },
  {
   "cell_type": "code",
   "execution_count": null,
   "id": "8b642844",
   "metadata": {},
   "outputs": [],
   "source": []
  },
  {
   "cell_type": "markdown",
   "id": "98bd4765",
   "metadata": {},
   "source": [
    "### Given an array of n integers , Q queries are given . \n",
    "### In each query start and end index given . print sum of start to end index ."
   ]
  },
  {
   "cell_type": "code",
   "execution_count": null,
   "id": "8547cb7a",
   "metadata": {},
   "outputs": [],
   "source": []
  },
  {
   "cell_type": "code",
   "execution_count": null,
   "id": "6b1612f7",
   "metadata": {},
   "outputs": [],
   "source": []
  },
  {
   "cell_type": "code",
   "execution_count": 380,
   "id": "1bde301f",
   "metadata": {},
   "outputs": [
    {
     "name": "stdout",
     "output_type": "stream",
     "text": [
      "start:0\n",
      "end:2\n",
      "sum: 4\n",
      "start:4\n",
      "end:6\n",
      "sum: 20\n"
     ]
    }
   ],
   "source": [
    "def give_query_results(A,Q):\n",
    "\n",
    "    while Q > 0:\n",
    "        start = int(input(\"start:\"))\n",
    "        end = int(input(\"end:\"))\n",
    "        ans = 0\n",
    "        for i in range(start,end+1):\n",
    "            ans += A[i]\n",
    "        print(\"sum:\",ans)\n",
    "        Q -= 1\n",
    "give_query_results([1, 3, 0, -6, 8, 10, 2, 7],2)"
   ]
  },
  {
   "cell_type": "code",
   "execution_count": 381,
   "id": "d3e00a61",
   "metadata": {},
   "outputs": [
    {
     "data": {
      "text/plain": [
       "79"
      ]
     },
     "execution_count": 381,
     "metadata": {},
     "output_type": "execute_result"
    }
   ],
   "source": [
    "439-360"
   ]
  },
  {
   "cell_type": "code",
   "execution_count": null,
   "id": "da8e15c5",
   "metadata": {},
   "outputs": [],
   "source": []
  },
  {
   "cell_type": "markdown",
   "id": "c203d8f4",
   "metadata": {},
   "source": [
    "### Given the scores of the last 10 overs of a cricket match:\n",
    "\n",
    "    288, 312, 330, 349, 360, 383, 394, 406, 436, 439\n",
    "\n",
    "#### How many runs were scored in the last 5 overs?\n",
    "\n",
    "    439-360 = 79\n",
    "\n"
   ]
  },
  {
   "cell_type": "code",
   "execution_count": null,
   "id": "c9c61dc5",
   "metadata": {},
   "outputs": [],
   "source": []
  },
  {
   "cell_type": "code",
   "execution_count": null,
   "id": "0bab0132",
   "metadata": {},
   "outputs": [],
   "source": []
  },
  {
   "cell_type": "markdown",
   "id": "52fa9523",
   "metadata": {},
   "source": [
    "### Given the scores of the last 10 overs of a cricket match :\n",
    "\n",
    "    288, 312, 330, 349, 360, 383, 394, 406, 436, 439\n",
    "\n",
    "#### How many runs were scored from 42nd to 45th over (both included) ?\n",
    "\n",
    "    360-288 = 72\n"
   ]
  },
  {
   "cell_type": "code",
   "execution_count": null,
   "id": "64e8f035",
   "metadata": {},
   "outputs": [],
   "source": [
    "# finding difference score between overs :"
   ]
  },
  {
   "cell_type": "code",
   "execution_count": 422,
   "id": "f716d98a",
   "metadata": {},
   "outputs": [
    {
     "data": {
      "text/plain": [
       "[24, 18, 19, 11, 23, 11, 12, 30, 3]"
      ]
     },
     "execution_count": 422,
     "metadata": {},
     "output_type": "execute_result"
    }
   ],
   "source": [
    "cumsum = [288, 312, 330, 349, 360, 383, 394, 406, 436, 439]\n",
    "score_per_over = []\n",
    "n = len(cumsum)\n",
    "\n",
    "\n",
    "for i in range(len(cumsum)-1):\n",
    "    \n",
    "    score_per_over.append(cumsum[i+1]-cumsum[i])\n",
    "\n",
    "score_per_over"
   ]
  },
  {
   "cell_type": "code",
   "execution_count": null,
   "id": "08a269be",
   "metadata": {},
   "outputs": [],
   "source": []
  },
  {
   "cell_type": "markdown",
   "id": "e078d09c",
   "metadata": {},
   "source": [
    "### Prefix Sum (Cumulative Sum) : "
   ]
  },
  {
   "cell_type": "code",
   "execution_count": 384,
   "id": "ceb03fa7",
   "metadata": {},
   "outputs": [
    {
     "data": {
      "text/plain": [
       "[1, 4, 4, -2, 2, 9, 17, 26]"
      ]
     },
     "execution_count": 384,
     "metadata": {},
     "output_type": "execute_result"
    }
   ],
   "source": [
    "def prefix_sum(A):\n",
    "    prefixsum = [A[0]]\n",
    "    for i in A[1:]:\n",
    "        prefixsum.append(i + prefixsum[-1])\n",
    "    return prefixsum\n",
    "    \n",
    "\n",
    "prefix_sum([1, 3, 0, -6, 4, 7, 8, 9])"
   ]
  },
  {
   "cell_type": "code",
   "execution_count": 424,
   "id": "37718a90",
   "metadata": {},
   "outputs": [
    {
     "data": {
      "text/plain": [
       "[288, 312, 330, 349, 360, 383, 394, 406, 436, 439]"
      ]
     },
     "execution_count": 424,
     "metadata": {},
     "output_type": "execute_result"
    }
   ],
   "source": [
    "prefix_sum([288,24, 18, 19, 11, 23, 11, 12, 30, 3])"
   ]
  },
  {
   "cell_type": "code",
   "execution_count": null,
   "id": "de7c193c",
   "metadata": {},
   "outputs": [],
   "source": []
  },
  {
   "cell_type": "markdown",
   "id": "d04ad33c",
   "metadata": {},
   "source": [
    "    if s == 0:\n",
    "    \n",
    "    sum_till_e = prefix[e]\n",
    "    \n",
    "    else:\n",
    "    if s != 0:\n",
    "    \n",
    "    Sum_Between_S_and_E = prefix[e]-prefix[s-1]"
   ]
  },
  {
   "cell_type": "code",
   "execution_count": 427,
   "id": "bec2170d",
   "metadata": {},
   "outputs": [
    {
     "name": "stdout",
     "output_type": "stream",
     "text": [
      "start:0\n",
      "end:4\n",
      "6\n",
      "start:4\n",
      "end:5\n",
      "18\n"
     ]
    }
   ],
   "source": [
    "def give_query_results(A,Q):\n",
    "    \n",
    "    prefixsum = [A[0]]\n",
    "    for i in A[1:]:\n",
    "        prefixsum.append(i + prefixsum[-1])\n",
    "        \n",
    "    while Q > 0:\n",
    "        start = int(input(\"start:\"))\n",
    "        end = int(input(\"end:\"))\n",
    "        if start == 0:\n",
    "            print(prefixsum[end])\n",
    "        else:\n",
    "            print(prefixsum[end]-prefixsum[start-1])\n",
    "        \n",
    "        Q -= 1\n",
    "give_query_results([1, 3, 0, -6, 8, 10, 2, 7],2)"
   ]
  },
  {
   "cell_type": "code",
   "execution_count": null,
   "id": "41609fc4",
   "metadata": {},
   "outputs": [],
   "source": []
  },
  {
   "cell_type": "markdown",
   "id": "a1c549c4",
   "metadata": {},
   "source": [
    "#### Sum of all elements from index i to j :\n",
    "\n",
    "    If i!=0: sum = pf[j] - pf[i-1]\n",
    "\n",
    "    if i==0: sum = pf[j]\n"
   ]
  },
  {
   "cell_type": "code",
   "execution_count": null,
   "id": "a1125915",
   "metadata": {},
   "outputs": [],
   "source": []
  },
  {
   "cell_type": "code",
   "execution_count": null,
   "id": "999d480d",
   "metadata": {},
   "outputs": [],
   "source": []
  },
  {
   "cell_type": "markdown",
   "id": "cc128c36",
   "metadata": {},
   "source": [
    "### Given an array of size N return True if there is an equilibrium  index in the array . i is an equilibrium index if \n",
    "   #### sum of elements before i = sum of elemebts after i \n",
    "   \n",
    "   #### a[0] + .. + a[i-1] = a[i+1]+...+a[n-1]"
   ]
  },
  {
   "cell_type": "code",
   "execution_count": null,
   "id": "a08b0e3e",
   "metadata": {},
   "outputs": [],
   "source": [
    "# not every array has the equilibrium index . \n",
    "# like  [1,2,3,4,5].\n"
   ]
  },
  {
   "cell_type": "code",
   "execution_count": 435,
   "id": "ac4397d0",
   "metadata": {},
   "outputs": [
    {
     "data": {
      "text/plain": [
       "[5]"
      ]
     },
     "execution_count": 435,
     "metadata": {},
     "output_type": "execute_result"
    }
   ],
   "source": [
    "def equilibrium_index(A):   # TC:O(^2),SC:O(1)\n",
    "    \n",
    "    n = len(A)\n",
    "    eq_index = []\n",
    "    for i in range(n):\n",
    "        before_i = 0\n",
    "        for j in range(0,i):\n",
    "            before_i += A[j]\n",
    "        after_i = 0\n",
    "        for j in range(i+1,n):\n",
    "            after_i += A[j]\n",
    "        if before_i == after_i:\n",
    "            eq_index.append(i)\n",
    "    return eq_index\n",
    "            \n",
    "        \n",
    "A = [1,2,3,4,5,8,15]\n",
    "equilibrium_index(A)"
   ]
  },
  {
   "cell_type": "code",
   "execution_count": 436,
   "id": "5a73d41b",
   "metadata": {},
   "outputs": [
    {
     "data": {
      "text/plain": [
       "[3, 6]"
      ]
     },
     "execution_count": 436,
     "metadata": {},
     "output_type": "execute_result"
    }
   ],
   "source": [
    "A = [-7,1,5,2,-4,3,0]\n",
    "equilibrium_index(A)"
   ]
  },
  {
   "cell_type": "code",
   "execution_count": null,
   "id": "28b9ba65",
   "metadata": {},
   "outputs": [],
   "source": []
  },
  {
   "cell_type": "code",
   "execution_count": 443,
   "id": "9b6bfdb8",
   "metadata": {},
   "outputs": [
    {
     "data": {
      "text/plain": [
       "[5]"
      ]
     },
     "execution_count": 443,
     "metadata": {},
     "output_type": "execute_result"
    }
   ],
   "source": [
    "def equilibrium_index(A):   # TC:O(N),SC:O(N)\n",
    "    \n",
    "    n = len(A)\n",
    "    \n",
    "    prefix = [A[0]]\n",
    "    for x in A[1:]:\n",
    "        prefix.append(x+prefix[-1])\n",
    "    \n",
    "    \n",
    "    eq_index = []\n",
    "    \n",
    "    \n",
    "    for i in range(n):\n",
    "        \n",
    "        before_i = prefix[i-1]\n",
    "            \n",
    "        after_i = prefix[n-1]-prefix[i]\n",
    "        \n",
    "        if before_i == after_i:\n",
    "            eq_index.append(i)\n",
    "    if len(eq_index) == 0:\n",
    "        return \"No_Equilibrium_index\"\n",
    "    return eq_index\n",
    "            \n",
    "        \n",
    "A = [1,2,3,4,5,8,15]\n",
    "equilibrium_index(A)"
   ]
  },
  {
   "cell_type": "code",
   "execution_count": 444,
   "id": "8beaf3e6",
   "metadata": {},
   "outputs": [
    {
     "data": {
      "text/plain": [
       "[3, 6]"
      ]
     },
     "execution_count": 444,
     "metadata": {},
     "output_type": "execute_result"
    }
   ],
   "source": [
    "        \n",
    "A = [-7,1,5,2,-4,3,0]\n",
    "equilibrium_index(A)"
   ]
  },
  {
   "cell_type": "code",
   "execution_count": 445,
   "id": "d5984a33",
   "metadata": {},
   "outputs": [
    {
     "data": {
      "text/plain": [
       "'No_Equilibrium_index'"
      ]
     },
     "execution_count": 445,
     "metadata": {},
     "output_type": "execute_result"
    }
   ],
   "source": [
    "        \n",
    "A = [-7,1,5,2]\n",
    "equilibrium_index(A)"
   ]
  },
  {
   "cell_type": "code",
   "execution_count": 446,
   "id": "b10bc5a4",
   "metadata": {},
   "outputs": [
    {
     "data": {
      "text/plain": [
       "[0, 1, 2, 3, 4, 5]"
      ]
     },
     "execution_count": 446,
     "metadata": {},
     "output_type": "execute_result"
    }
   ],
   "source": [
    "        \n",
    "A = [0,0,0,0,0,0]\n",
    "equilibrium_index(A)"
   ]
  },
  {
   "cell_type": "code",
   "execution_count": null,
   "id": "1760fcf5",
   "metadata": {},
   "outputs": [],
   "source": []
  },
  {
   "cell_type": "code",
   "execution_count": null,
   "id": "54d9c46b",
   "metadata": {},
   "outputs": [],
   "source": [
    "# TC:O(N),SC:O(1)"
   ]
  },
  {
   "cell_type": "code",
   "execution_count": 451,
   "id": "cb93dc96",
   "metadata": {},
   "outputs": [
    {
     "data": {
      "text/plain": [
       "[5]"
      ]
     },
     "execution_count": 451,
     "metadata": {},
     "output_type": "execute_result"
    }
   ],
   "source": [
    "def equilibrium_index(A):\n",
    "    \n",
    "    n = len(A)\n",
    "    \n",
    "    total = sum(A)\n",
    "    eq_index = []\n",
    "        \n",
    "    before_i = 0\n",
    "    for i in range(n):\n",
    "        \n",
    "        after_i = total - A[i] - before_i\n",
    "        \n",
    "        if before_i == after_i:\n",
    "            eq_index.append(i)\n",
    "            \n",
    "        before_i += A[i] # update before_i total after calculating after_i total\n",
    "    \n",
    "    return eq_index\n",
    "            \n",
    "        \n",
    "A = [1,2,3,4,5,8,15]\n",
    "equilibrium_index(A)"
   ]
  },
  {
   "cell_type": "code",
   "execution_count": 452,
   "id": "9eb7df01",
   "metadata": {},
   "outputs": [
    {
     "data": {
      "text/plain": [
       "[3, 6]"
      ]
     },
     "execution_count": 452,
     "metadata": {},
     "output_type": "execute_result"
    }
   ],
   "source": [
    "        \n",
    "A = [-7,1,5,2,-4,3,0]\n",
    "equilibrium_index(A)"
   ]
  },
  {
   "cell_type": "code",
   "execution_count": 453,
   "id": "2d71e170",
   "metadata": {},
   "outputs": [
    {
     "data": {
      "text/plain": [
       "[]"
      ]
     },
     "execution_count": 453,
     "metadata": {},
     "output_type": "execute_result"
    }
   ],
   "source": [
    "        \n",
    "A = [-7,1,5,2]\n",
    "equilibrium_index(A)"
   ]
  },
  {
   "cell_type": "code",
   "execution_count": 454,
   "id": "2051eb8b",
   "metadata": {},
   "outputs": [
    {
     "data": {
      "text/plain": [
       "[0, 1, 2, 3, 4, 5]"
      ]
     },
     "execution_count": 454,
     "metadata": {},
     "output_type": "execute_result"
    }
   ],
   "source": [
    "        \n",
    "A = [0,0,0,0,0,0]\n",
    "equilibrium_index(A)"
   ]
  },
  {
   "cell_type": "code",
   "execution_count": null,
   "id": "87a84f31",
   "metadata": {},
   "outputs": [],
   "source": []
  },
  {
   "cell_type": "markdown",
   "id": "a1f73237",
   "metadata": {},
   "source": [
    "### Range Sum Query\n",
    "\n",
    "#### You are given an integer array A of length N.\n",
    "#### You are also given a 2D integer array B with dimensions M x 2, where each row denotes a [L, R] query.\n",
    "#### For each query, you have to find the sum of all elements from L to R indices in A (1 - indexed).\n",
    "#### More formally, find A[L] + A[L + 1] + A[L + 2] +... + A[R - 1] + A[R] for each query.\n",
    "\n",
    "    Problem Constraints\n",
    "    1 <= N, M <= 105\n",
    "    1 <= A[i] <= 109\n",
    "    1 <= L <= R <= N\n",
    "\n",
    "    Input Format\n",
    "    The first argument is the integer array A.\n",
    "    The second argument is the 2D integer array B.\n",
    "\n",
    "    Output Format\n",
    "    Return an integer array of length M where ith element is the answer for ith query in B.\n",
    "\n",
    "    Example Input\n",
    "    Input 1:\n",
    "    A = [1, 2, 3, 4, 5]\n",
    "    B = [[1, 4], [2, 3]]\n",
    "    Input 2:\n",
    "\n",
    "    A = [2, 2, 2]\n",
    "    B = [[1, 1], [2, 3]]\n",
    "\n",
    "\n",
    "    Example Output\n",
    "    Output 1:\n",
    "    [10, 5]\n",
    "    Output 2:\n",
    "\n",
    "    [2, 4]\n",
    "\n",
    "\n",
    "    Example Explanation\n",
    "    Explanation 1:\n",
    "    The sum of all elements of A[1 ... 4] = 1 + 2 + 3 + 4 = 10.\n",
    "    The sum of all elements of A[2 ... 3] = 2 + 3 = 5.\n",
    "    Explanation 2:\n",
    "\n",
    "    The sum of all elements of A[1 ... 1] = 2 = 2.\n",
    "    The sum of all elements of A[2 ... 3] = 2 + 2 = 4."
   ]
  },
  {
   "cell_type": "code",
   "execution_count": 461,
   "id": "1a9080f7",
   "metadata": {},
   "outputs": [
    {
     "name": "stdout",
     "output_type": "stream",
     "text": [
      "1\n",
      "4\n"
     ]
    }
   ],
   "source": [
    "start,end = [1,4]\n",
    "print(start)\n",
    "print(end)"
   ]
  },
  {
   "cell_type": "code",
   "execution_count": 462,
   "id": "af681dd1",
   "metadata": {},
   "outputs": [],
   "source": [
    "B = [[1, 4], [2, 3]]"
   ]
  },
  {
   "cell_type": "code",
   "execution_count": 464,
   "id": "e0a44004",
   "metadata": {},
   "outputs": [
    {
     "name": "stdout",
     "output_type": "stream",
     "text": [
      "1 4\n",
      "\n",
      "2 3\n",
      "\n"
     ]
    }
   ],
   "source": [
    "for (start,end) in B:\n",
    "    print(start,end)\n",
    "    print()"
   ]
  },
  {
   "cell_type": "code",
   "execution_count": 455,
   "id": "c5c29130",
   "metadata": {},
   "outputs": [],
   "source": [
    "def rangeSum(A, B):\n",
    "\n",
    "\n",
    "    p = [A[0]]\n",
    "    for i in range(1,len(A)-1+1):\n",
    "        p.append(A[i]+p[i-1])\n",
    "\n",
    "    ans = []\n",
    "\n",
    "    for (start,end) in B:\n",
    "\n",
    "        if start == 1:\n",
    "            sum = p[end-1]\n",
    "        else:\n",
    "            sum = p[end-1]-p[start-2]\n",
    "        ans.append(sum)\n",
    "    return ans"
   ]
  },
  {
   "cell_type": "code",
   "execution_count": 456,
   "id": "e86fcd50",
   "metadata": {},
   "outputs": [
    {
     "data": {
      "text/plain": [
       "[10, 5]"
      ]
     },
     "execution_count": 456,
     "metadata": {},
     "output_type": "execute_result"
    }
   ],
   "source": [
    "A = [1, 2, 3, 4, 5]\n",
    "B = [[1, 4], [2, 3]]\n",
    "rangeSum(A, B)"
   ]
  },
  {
   "cell_type": "code",
   "execution_count": null,
   "id": "0c980a87",
   "metadata": {},
   "outputs": [],
   "source": []
  },
  {
   "cell_type": "markdown",
   "id": "eabe5c55",
   "metadata": {},
   "source": [
    "### Special Index\n",
    "\n",
    "#### Given an array, arr[] of size N, the task is to find the count of array indices such that removing an element from these indices makes the sum of even-indexed and odd-indexed array elements equal.\n",
    "\n",
    "    Problem Constraints\n",
    "    1 <= n <= 105\n",
    "    -105 <= A[i] <= 105\n",
    "\n",
    "    Input Format\n",
    "    First argument contains an array A of integers of size N\n",
    "\n",
    "    Output Format\n",
    "    Return the count of array indices such that removing an element from these indices makes the sum of even-indexed and odd-indexed array elements equal.\n",
    "\n",
    "    Example Input\n",
    "    Input 1:\n",
    "    A=[2, 1, 6, 4]\n",
    "    Input 2:\n",
    "    A=[1, 1, 1]\n",
    "\n",
    "    Example Output\n",
    "    Output 1:\n",
    "    1\n",
    "    Output 2:\n",
    "    3\n",
    "\n",
    "    Example Explanation\n",
    "    Explanation 1:\n",
    "    Removing arr[1] from the array modifies arr[] to { 2, 6, 4 } such that, arr[0] + arr[2] = arr[1]. \n",
    "    Therefore, the required output is 1. \n",
    "    Explanation 2:\n",
    "\n",
    "    Removing arr[0] from the given array modifies arr[] to { 1, 1 } such that arr[0] = arr[1] \n",
    "    Removing arr[1] from the given array modifies arr[] to { 1, 1 } such that arr[0] = arr[1] \n",
    "    Removing arr[2] from the given array modifies arr[] to { 1, 1 } such that arr[0] = arr[1] \n",
    "    Therefore, the required output is 3."
   ]
  },
  {
   "cell_type": "code",
   "execution_count": 515,
   "id": "865cc16d",
   "metadata": {},
   "outputs": [
    {
     "data": {
      "text/plain": [
       "3"
      ]
     },
     "execution_count": 515,
     "metadata": {},
     "output_type": "execute_result"
    }
   ],
   "source": [
    "def special_index(A):\n",
    "    n = len(A)\n",
    "    \n",
    "    count = 0\n",
    "    for x in range(n):\n",
    "\n",
    "        temp_list = A[:]\n",
    "        temp_list.pop(x)\n",
    "               \n",
    "        odd_index_sum = 0\n",
    "        even_index_sum = 0\n",
    "        nt = len(temp_list)\n",
    "        \n",
    "        for i in range(nt):\n",
    "            if i % 2 == 0:\n",
    "                \n",
    "                even_index_sum += temp_list[i]\n",
    "            else:\n",
    "                odd_index_sum += temp_list[i]\n",
    "        if even_index_sum == odd_index_sum:\n",
    "            count += 1\n",
    "    return count\n",
    "            \n",
    "           \n",
    "A = [2, 1,3 ,2,0,8,7,1,2,6, 4,2,5,8,4,1]\n",
    "special_index(A)\n"
   ]
  },
  {
   "cell_type": "code",
   "execution_count": null,
   "id": "0b265071",
   "metadata": {},
   "outputs": [],
   "source": []
  },
  {
   "cell_type": "code",
   "execution_count": 514,
   "id": "3fd32267",
   "metadata": {},
   "outputs": [
    {
     "data": {
      "text/plain": [
       "3"
      ]
     },
     "execution_count": 514,
     "metadata": {},
     "output_type": "execute_result"
    }
   ],
   "source": [
    "def special_index(A):\n",
    "    n = len(A)\n",
    "    evenprefix = []\n",
    "    evensum = 0\n",
    "\n",
    "    for i in range(n):\n",
    "        if i % 2 == 0:\n",
    "            evensum += A[i]\n",
    "            evenprefix.append(evensum)\n",
    "        else:\n",
    "            evenprefix.append(evenprefix[-1])\n",
    "\n",
    "    oddsum = 0\n",
    "    oddprefix = [0]\n",
    "    for i in range(1,n):\n",
    "        if i % 2 != 0:\n",
    "            oddsum += A[i]\n",
    "        oddprefix.append(oddsum)\n",
    "\n",
    "\n",
    "    count = 0\n",
    "\n",
    "    for i in range(n):\n",
    "        evenindex_sum = evenprefix[i-1]+oddprefix[n-1]-oddprefix[i]\n",
    "        oddindex_sum = oddprefix[i-1]+ evenprefix[n-1]-evenprefix[i]\n",
    "\n",
    "        if evenindex_sum == oddindex_sum:\n",
    "            count += 1\n",
    "    return (count)\n",
    "\n",
    "\n",
    "A = [2, 1,3 ,2,0,8,7,1,2,6, 4,2,5,8,4,1]\n",
    " #  0   1 2  3 4 5 6 7 8 9 10 11 12\n",
    "special_index(A)\n"
   ]
  },
  {
   "cell_type": "code",
   "execution_count": null,
   "id": "671904bd",
   "metadata": {},
   "outputs": [],
   "source": []
  },
  {
   "cell_type": "code",
   "execution_count": null,
   "id": "ff693155",
   "metadata": {},
   "outputs": [],
   "source": []
  }
 ],
 "metadata": {
  "kernelspec": {
   "display_name": "Python 3 (ipykernel)",
   "language": "python",
   "name": "python3"
  },
  "language_info": {
   "codemirror_mode": {
    "name": "ipython",
    "version": 3
   },
   "file_extension": ".py",
   "mimetype": "text/x-python",
   "name": "python",
   "nbconvert_exporter": "python",
   "pygments_lexer": "ipython3",
   "version": "3.9.7"
  }
 },
 "nbformat": 4,
 "nbformat_minor": 5
}
