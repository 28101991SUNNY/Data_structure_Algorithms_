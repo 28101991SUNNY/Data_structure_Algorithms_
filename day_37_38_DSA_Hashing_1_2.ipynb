{
 "cells": [
  {
   "cell_type": "raw",
   "id": "53311b8f",
   "metadata": {},
   "source": [
    " HashMaps\n",
    "\n",
    "1. key-value stores \n",
    "2. fast lookup  O(1)*   : \"amortised\" that means (not always O(1))\n",
    "3. Fast update  O(1)*   : \"amortised\" that means (not always O(1))\n",
    "4. space efficient   O(n) space\n",
    "\n",
    ">>-->> operations on array ?>>>_  get/set - read/write\n",
    "       on dynamic array >>-->>  append,remove,length etc\n",
    "       \n",
    ">>-->> on hashMaps ,we can do operations like \n",
    "HashMap == Dictionaries in Python\n",
    "\n",
    "- declare:   map = {}\n",
    "\n",
    "- set/update:  dictionary_name[key] = value\n",
    "\n",
    "- Get : access value:  dictionary_name[key]\n",
    "    \n",
    "# chekc if dictionary contains key x   O(1)\n",
    "- Constrains : print(x in dictionary_name)  -->> will return true or false\n",
    "# we can only do containment checking for keys \n",
    "\n",
    "\n",
    "- delete the entire key record: \n",
    "del dictionary_name[key] \n",
    "# this will delete the key with the value associated with it\n",
    "\n",
    "\n",
    "- len(dictionary_name)\n",
    "\n",
    "iterate throught dictionary:\n",
    "for i in range(len(dictionary)):\n",
    "    print(i)\n",
    "    \n",
    "for k in map:\n",
    "    print(k,map[k])\n",
    "    \n",
    "for k in map.keys():\n",
    "    print(k,map[k])\n",
    "\n",
    "for v in map.values():\n",
    "    print(v)\n",
    "  \n",
    "for k,v in map.items():\n",
    "    print(k,v)\n"
   ]
  },
  {
   "cell_type": "code",
   "execution_count": null,
   "id": "0b1d973f",
   "metadata": {},
   "outputs": [],
   "source": []
  },
  {
   "cell_type": "code",
   "execution_count": 1,
   "id": "792ede80",
   "metadata": {
    "scrolled": false
   },
   "outputs": [
    {
     "name": "stdout",
     "output_type": "stream",
     "text": [
      "Help on class dict in module builtins:\n",
      "\n",
      "class dict(object)\n",
      " |  dict() -> new empty dictionary\n",
      " |  dict(mapping) -> new dictionary initialized from a mapping object's\n",
      " |      (key, value) pairs\n",
      " |  dict(iterable) -> new dictionary initialized as if via:\n",
      " |      d = {}\n",
      " |      for k, v in iterable:\n",
      " |          d[k] = v\n",
      " |  dict(**kwargs) -> new dictionary initialized with the name=value pairs\n",
      " |      in the keyword argument list.  For example:  dict(one=1, two=2)\n",
      " |  \n",
      " |  Built-in subclasses:\n",
      " |      StgDict\n",
      " |  \n",
      " |  Methods defined here:\n",
      " |  \n",
      " |  __contains__(self, key, /)\n",
      " |      True if the dictionary has the specified key, else False.\n",
      " |  \n",
      " |  __delitem__(self, key, /)\n",
      " |      Delete self[key].\n",
      " |  \n",
      " |  __eq__(self, value, /)\n",
      " |      Return self==value.\n",
      " |  \n",
      " |  __ge__(self, value, /)\n",
      " |      Return self>=value.\n",
      " |  \n",
      " |  __getattribute__(self, name, /)\n",
      " |      Return getattr(self, name).\n",
      " |  \n",
      " |  __getitem__(...)\n",
      " |      x.__getitem__(y) <==> x[y]\n",
      " |  \n",
      " |  __gt__(self, value, /)\n",
      " |      Return self>value.\n",
      " |  \n",
      " |  __init__(self, /, *args, **kwargs)\n",
      " |      Initialize self.  See help(type(self)) for accurate signature.\n",
      " |  \n",
      " |  __ior__(self, value, /)\n",
      " |      Return self|=value.\n",
      " |  \n",
      " |  __iter__(self, /)\n",
      " |      Implement iter(self).\n",
      " |  \n",
      " |  __le__(self, value, /)\n",
      " |      Return self<=value.\n",
      " |  \n",
      " |  __len__(self, /)\n",
      " |      Return len(self).\n",
      " |  \n",
      " |  __lt__(self, value, /)\n",
      " |      Return self<value.\n",
      " |  \n",
      " |  __ne__(self, value, /)\n",
      " |      Return self!=value.\n",
      " |  \n",
      " |  __or__(self, value, /)\n",
      " |      Return self|value.\n",
      " |  \n",
      " |  __repr__(self, /)\n",
      " |      Return repr(self).\n",
      " |  \n",
      " |  __reversed__(self, /)\n",
      " |      Return a reverse iterator over the dict keys.\n",
      " |  \n",
      " |  __ror__(self, value, /)\n",
      " |      Return value|self.\n",
      " |  \n",
      " |  __setitem__(self, key, value, /)\n",
      " |      Set self[key] to value.\n",
      " |  \n",
      " |  __sizeof__(...)\n",
      " |      D.__sizeof__() -> size of D in memory, in bytes\n",
      " |  \n",
      " |  clear(...)\n",
      " |      D.clear() -> None.  Remove all items from D.\n",
      " |  \n",
      " |  copy(...)\n",
      " |      D.copy() -> a shallow copy of D\n",
      " |  \n",
      " |  get(self, key, default=None, /)\n",
      " |      Return the value for key if key is in the dictionary, else default.\n",
      " |  \n",
      " |  items(...)\n",
      " |      D.items() -> a set-like object providing a view on D's items\n",
      " |  \n",
      " |  keys(...)\n",
      " |      D.keys() -> a set-like object providing a view on D's keys\n",
      " |  \n",
      " |  pop(...)\n",
      " |      D.pop(k[,d]) -> v, remove specified key and return the corresponding value.\n",
      " |      \n",
      " |      If key is not found, default is returned if given, otherwise KeyError is raised\n",
      " |  \n",
      " |  popitem(self, /)\n",
      " |      Remove and return a (key, value) pair as a 2-tuple.\n",
      " |      \n",
      " |      Pairs are returned in LIFO (last-in, first-out) order.\n",
      " |      Raises KeyError if the dict is empty.\n",
      " |  \n",
      " |  setdefault(self, key, default=None, /)\n",
      " |      Insert key with a value of default if key is not in the dictionary.\n",
      " |      \n",
      " |      Return the value for key if key is in the dictionary, else default.\n",
      " |  \n",
      " |  update(...)\n",
      " |      D.update([E, ]**F) -> None.  Update D from dict/iterable E and F.\n",
      " |      If E is present and has a .keys() method, then does:  for k in E: D[k] = E[k]\n",
      " |      If E is present and lacks a .keys() method, then does:  for k, v in E: D[k] = v\n",
      " |      In either case, this is followed by: for k in F:  D[k] = F[k]\n",
      " |  \n",
      " |  values(...)\n",
      " |      D.values() -> an object providing a view on D's values\n",
      " |  \n",
      " |  ----------------------------------------------------------------------\n",
      " |  Class methods defined here:\n",
      " |  \n",
      " |  __class_getitem__(...) from builtins.type\n",
      " |      See PEP 585\n",
      " |  \n",
      " |  fromkeys(iterable, value=None, /) from builtins.type\n",
      " |      Create a new dictionary with keys from iterable and values set to value.\n",
      " |  \n",
      " |  ----------------------------------------------------------------------\n",
      " |  Static methods defined here:\n",
      " |  \n",
      " |  __new__(*args, **kwargs) from builtins.type\n",
      " |      Create and return a new object.  See help(type) for accurate signature.\n",
      " |  \n",
      " |  ----------------------------------------------------------------------\n",
      " |  Data and other attributes defined here:\n",
      " |  \n",
      " |  __hash__ = None\n",
      "\n"
     ]
    }
   ],
   "source": [
    "help(dict)"
   ]
  },
  {
   "cell_type": "code",
   "execution_count": null,
   "id": "4bb91cab",
   "metadata": {},
   "outputs": [],
   "source": []
  },
  {
   "cell_type": "code",
   "execution_count": 17,
   "id": "071205dc",
   "metadata": {},
   "outputs": [],
   "source": [
    "squares = {}\n",
    "\n",
    "for i in range(5,15):\n",
    "    squares[i] = i*i"
   ]
  },
  {
   "cell_type": "code",
   "execution_count": 18,
   "id": "de8fac8a",
   "metadata": {},
   "outputs": [
    {
     "data": {
      "text/plain": [
       "{5: 25,\n",
       " 6: 36,\n",
       " 7: 49,\n",
       " 8: 64,\n",
       " 9: 81,\n",
       " 10: 100,\n",
       " 11: 121,\n",
       " 12: 144,\n",
       " 13: 169,\n",
       " 14: 196}"
      ]
     },
     "execution_count": 18,
     "metadata": {},
     "output_type": "execute_result"
    }
   ],
   "source": [
    "squares"
   ]
  },
  {
   "cell_type": "code",
   "execution_count": 19,
   "id": "231643a4",
   "metadata": {},
   "outputs": [
    {
     "data": {
      "text/plain": [
       "144"
      ]
     },
     "execution_count": 19,
     "metadata": {},
     "output_type": "execute_result"
    }
   ],
   "source": [
    "squares[12]"
   ]
  },
  {
   "cell_type": "code",
   "execution_count": 20,
   "id": "639c2abc",
   "metadata": {},
   "outputs": [
    {
     "data": {
      "text/plain": [
       "10"
      ]
     },
     "execution_count": 20,
     "metadata": {},
     "output_type": "execute_result"
    }
   ],
   "source": [
    "len(squares)"
   ]
  },
  {
   "cell_type": "code",
   "execution_count": null,
   "id": "b954f6c6",
   "metadata": {},
   "outputs": [],
   "source": [
    "    "
   ]
  },
  {
   "cell_type": "code",
   "execution_count": 704,
   "id": "15cb5da4",
   "metadata": {},
   "outputs": [
    {
     "name": "stdout",
     "output_type": "stream",
     "text": [
      "{'sunny': 5, 'bhavya': 6, 'khushi': 6, 'priyank': 7, 'jeenal': 6}\n"
     ]
    }
   ],
   "source": [
    "lengths = {}\n",
    "\n",
    "A = [\"sunny\",'bhavya','khushi','priyank','jeenal']\n",
    "\n",
    "for i in A:\n",
    "    lengths[i] = len(i)\n",
    "    \n",
    "print(lengths)"
   ]
  },
  {
   "cell_type": "code",
   "execution_count": null,
   "id": "7ef0f15f",
   "metadata": {},
   "outputs": [],
   "source": []
  },
  {
   "cell_type": "code",
   "execution_count": 727,
   "id": "dad347d5",
   "metadata": {},
   "outputs": [
    {
     "name": "stdout",
     "output_type": "stream",
     "text": [
      "9\n",
      "{16544862222: 16, 987: 8, 6234: 8, 35418424: 32, 53484: 12, 341564: 12}\n"
     ]
    }
   ],
   "source": [
    "def numberof_factors(n):\n",
    "    i = 1\n",
    "    count = 0\n",
    "    while i*i <= n:\n",
    "        \n",
    "        if n % i == 0:\n",
    "            if i*i == n:\n",
    "                count += 1\n",
    "            else:\n",
    "                count += 2\n",
    "        i+=1\n",
    "    return count\n",
    "\n",
    "print(numberof_factors(100))\n",
    "\n",
    "\n",
    "A = [16544862222,987,6234,35418424,53484,341564]\n",
    "\n",
    "f = {}\n",
    "\n",
    "for i in A:\n",
    "    f[i] = numberof_factors(i)\n",
    "print(f)"
   ]
  },
  {
   "cell_type": "code",
   "execution_count": null,
   "id": "375d95e2",
   "metadata": {},
   "outputs": [],
   "source": []
  },
  {
   "cell_type": "code",
   "execution_count": 738,
   "id": "c536f73a",
   "metadata": {},
   "outputs": [
    {
     "name": "stdout",
     "output_type": "stream",
     "text": [
      "{'a': 8474, 'b': 1416, 'c': 8890, 'd': 1294, 'e': 1198}\n"
     ]
    }
   ],
   "source": [
    "A = ['a','b','c','d','e']\n",
    "\n",
    "f = {}\n",
    "import random\n",
    "\n",
    "for i in A:\n",
    "    f[i] = random.randrange(1110,9008)\n",
    "print(f)"
   ]
  },
  {
   "cell_type": "code",
   "execution_count": null,
   "id": "ff182411",
   "metadata": {},
   "outputs": [],
   "source": []
  },
  {
   "cell_type": "code",
   "execution_count": null,
   "id": "5e2dc6e9",
   "metadata": {},
   "outputs": [],
   "source": []
  },
  {
   "cell_type": "code",
   "execution_count": null,
   "id": "35237930",
   "metadata": {},
   "outputs": [],
   "source": []
  },
  {
   "cell_type": "code",
   "execution_count": null,
   "id": "64b22726",
   "metadata": {},
   "outputs": [],
   "source": []
  },
  {
   "cell_type": "code",
   "execution_count": 21,
   "id": "d44f2d9c",
   "metadata": {},
   "outputs": [],
   "source": [
    "cubes = { f' cubes of {i}' : i*i*i for i in range(10) }"
   ]
  },
  {
   "cell_type": "code",
   "execution_count": 22,
   "id": "478411fa",
   "metadata": {},
   "outputs": [
    {
     "data": {
      "text/plain": [
       "{' cubes of 0': 0,\n",
       " ' cubes of 1': 1,\n",
       " ' cubes of 2': 8,\n",
       " ' cubes of 3': 27,\n",
       " ' cubes of 4': 64,\n",
       " ' cubes of 5': 125,\n",
       " ' cubes of 6': 216,\n",
       " ' cubes of 7': 343,\n",
       " ' cubes of 8': 512,\n",
       " ' cubes of 9': 729}"
      ]
     },
     "execution_count": 22,
     "metadata": {},
     "output_type": "execute_result"
    }
   ],
   "source": [
    "cubes"
   ]
  },
  {
   "cell_type": "code",
   "execution_count": 23,
   "id": "174e767d",
   "metadata": {},
   "outputs": [
    {
     "name": "stdout",
     "output_type": "stream",
     "text": [
      " cubes of 0\n",
      " cubes of 1\n",
      " cubes of 2\n",
      " cubes of 3\n",
      " cubes of 4\n",
      " cubes of 5\n",
      " cubes of 6\n",
      " cubes of 7\n",
      " cubes of 8\n",
      " cubes of 9\n"
     ]
    }
   ],
   "source": [
    "for x in cubes:\n",
    "    print(x)"
   ]
  },
  {
   "cell_type": "code",
   "execution_count": 24,
   "id": "582d37eb",
   "metadata": {},
   "outputs": [
    {
     "name": "stdout",
     "output_type": "stream",
     "text": [
      "0\n",
      "1\n",
      "8\n",
      "27\n",
      "64\n",
      "125\n",
      "216\n",
      "343\n",
      "512\n",
      "729\n"
     ]
    }
   ],
   "source": [
    "for x in cubes:\n",
    "    print(cubes[x])"
   ]
  },
  {
   "cell_type": "code",
   "execution_count": 26,
   "id": "b64a52cc",
   "metadata": {},
   "outputs": [
    {
     "name": "stdout",
     "output_type": "stream",
     "text": [
      " cubes of 0\n",
      " cubes of 1\n",
      " cubes of 2\n",
      " cubes of 3\n",
      " cubes of 4\n",
      " cubes of 5\n",
      " cubes of 6\n",
      " cubes of 7\n",
      " cubes of 8\n",
      " cubes of 9\n"
     ]
    }
   ],
   "source": [
    "for x in cubes.keys():\n",
    "    print(x)\n"
   ]
  },
  {
   "cell_type": "code",
   "execution_count": 27,
   "id": "0c955a37",
   "metadata": {},
   "outputs": [
    {
     "name": "stdout",
     "output_type": "stream",
     "text": [
      "0\n",
      "1\n",
      "8\n",
      "27\n",
      "64\n",
      "125\n",
      "216\n",
      "343\n",
      "512\n",
      "729\n"
     ]
    }
   ],
   "source": [
    "for x in cubes.values():\n",
    "    print(x)"
   ]
  },
  {
   "cell_type": "code",
   "execution_count": 30,
   "id": "dcf4f16c",
   "metadata": {},
   "outputs": [
    {
     "name": "stdout",
     "output_type": "stream",
     "text": [
      " cubes of 0  :  0\n",
      " cubes of 1  :  1\n",
      " cubes of 2  :  8\n",
      " cubes of 3  :  27\n",
      " cubes of 4  :  64\n",
      " cubes of 5  :  125\n",
      " cubes of 6  :  216\n",
      " cubes of 7  :  343\n",
      " cubes of 8  :  512\n",
      " cubes of 9  :  729\n"
     ]
    }
   ],
   "source": [
    "for i,q in cubes.items():\n",
    "    print(i,\" : \",q)"
   ]
  },
  {
   "cell_type": "code",
   "execution_count": 32,
   "id": "6f039c46",
   "metadata": {},
   "outputs": [],
   "source": [
    "Marvel = {\n",
    "    \"Iron_name\" : 3,\n",
    "    \"Dr Strange\" : 2,\n",
    "    \"Avengers\" : 4,\n",
    "    \"Captain America\" : 3\n",
    "}"
   ]
  },
  {
   "cell_type": "code",
   "execution_count": 33,
   "id": "cfabb5ec",
   "metadata": {},
   "outputs": [
    {
     "data": {
      "text/plain": [
       "{'Iron_name': 3, 'Dr Strange': 2, 'Avengers': 4, 'Captain America': 3}"
      ]
     },
     "execution_count": 33,
     "metadata": {},
     "output_type": "execute_result"
    }
   ],
   "source": [
    "Marvel"
   ]
  },
  {
   "cell_type": "code",
   "execution_count": 34,
   "id": "20de0dbe",
   "metadata": {},
   "outputs": [],
   "source": [
    "Marvel[None] = None"
   ]
  },
  {
   "cell_type": "code",
   "execution_count": 35,
   "id": "4aed99ae",
   "metadata": {},
   "outputs": [
    {
     "data": {
      "text/plain": [
       "{'Iron_name': 3,\n",
       " 'Dr Strange': 2,\n",
       " 'Avengers': 4,\n",
       " 'Captain America': 3,\n",
       " None: None}"
      ]
     },
     "execution_count": 35,
     "metadata": {},
     "output_type": "execute_result"
    }
   ],
   "source": [
    "Marvel"
   ]
  },
  {
   "cell_type": "code",
   "execution_count": 36,
   "id": "1c47cd78",
   "metadata": {},
   "outputs": [],
   "source": [
    "del Marvel[None]"
   ]
  },
  {
   "cell_type": "code",
   "execution_count": 37,
   "id": "56768a41",
   "metadata": {},
   "outputs": [
    {
     "data": {
      "text/plain": [
       "{'Iron_name': 3, 'Dr Strange': 2, 'Avengers': 4, 'Captain America': 3}"
      ]
     },
     "execution_count": 37,
     "metadata": {},
     "output_type": "execute_result"
    }
   ],
   "source": [
    "Marvel"
   ]
  },
  {
   "cell_type": "code",
   "execution_count": 38,
   "id": "aa34a21b",
   "metadata": {},
   "outputs": [],
   "source": [
    "Marvel[\"Ant-Man\"] = 2"
   ]
  },
  {
   "cell_type": "code",
   "execution_count": 39,
   "id": "d264514e",
   "metadata": {},
   "outputs": [
    {
     "data": {
      "text/plain": [
       "{'Iron_name': 3,\n",
       " 'Dr Strange': 2,\n",
       " 'Avengers': 4,\n",
       " 'Captain America': 3,\n",
       " 'Ant-Man': 2}"
      ]
     },
     "execution_count": 39,
     "metadata": {},
     "output_type": "execute_result"
    }
   ],
   "source": [
    "Marvel"
   ]
  },
  {
   "cell_type": "code",
   "execution_count": 42,
   "id": "35bf7b21",
   "metadata": {},
   "outputs": [],
   "source": [
    "Marvel[\"Black-Panther\"] = 1"
   ]
  },
  {
   "cell_type": "code",
   "execution_count": 43,
   "id": "5ef605b8",
   "metadata": {},
   "outputs": [
    {
     "data": {
      "text/plain": [
       "{'Iron_name': 3,\n",
       " 'Dr Strange': 2,\n",
       " 'Avengers': 4,\n",
       " 'Captain America': 3,\n",
       " 'Ant-Man': 2,\n",
       " 'Black-Panther': 1}"
      ]
     },
     "execution_count": 43,
     "metadata": {},
     "output_type": "execute_result"
    }
   ],
   "source": [
    "Marvel"
   ]
  },
  {
   "cell_type": "code",
   "execution_count": 46,
   "id": "92b8d6c0",
   "metadata": {},
   "outputs": [
    {
     "data": {
      "text/plain": [
       "{'Iron_name': 3,\n",
       " 'Dr Strange': 2,\n",
       " 'Avengers': 4,\n",
       " 'Captain America': 3,\n",
       " 'Ant-Man': 2,\n",
       " 'Black-Panther': 1,\n",
       " 'Thor': 1}"
      ]
     },
     "execution_count": 46,
     "metadata": {},
     "output_type": "execute_result"
    }
   ],
   "source": [
    "Marvel[\"Thor\"] = 1\n",
    "Marvel"
   ]
  },
  {
   "cell_type": "code",
   "execution_count": 47,
   "id": "8e0f0edd",
   "metadata": {},
   "outputs": [
    {
     "data": {
      "text/plain": [
       "{'Iron_name': 3,\n",
       " 'Dr Strange': 2,\n",
       " 'Avengers': 4,\n",
       " 'Captain America': 3,\n",
       " 'Ant-Man': 2,\n",
       " 'Black-Panther': 1,\n",
       " 'Thor': 3}"
      ]
     },
     "execution_count": 47,
     "metadata": {},
     "output_type": "execute_result"
    }
   ],
   "source": [
    "Marvel[\"Thor\"] = 3\n",
    "Marvel"
   ]
  },
  {
   "cell_type": "code",
   "execution_count": 50,
   "id": "59ff9052",
   "metadata": {},
   "outputs": [
    {
     "name": "stdout",
     "output_type": "stream",
     "text": [
      "[('Iron_name', 3), ('Dr Strange', 2), ('Avengers', 4), ('Captain America', 3), ('Ant-Man', 2), ('Black-Panther', 1), ('Thor', 3)]\n"
     ]
    }
   ],
   "source": [
    "print(list(Marvel.items()))"
   ]
  },
  {
   "cell_type": "code",
   "execution_count": 52,
   "id": "6fee5231",
   "metadata": {},
   "outputs": [
    {
     "name": "stdout",
     "output_type": "stream",
     "text": [
      "dict_items([('Iron_name', 3), ('Dr Strange', 2), ('Avengers', 4), ('Captain America', 3), ('Ant-Man', 2), ('Black-Panther', 1), ('Thor', 3)])\n"
     ]
    }
   ],
   "source": [
    "print((Marvel.items()))"
   ]
  },
  {
   "cell_type": "code",
   "execution_count": 53,
   "id": "cfe0c144",
   "metadata": {},
   "outputs": [],
   "source": [
    "Marvel_movies = list(Marvel.items())"
   ]
  },
  {
   "cell_type": "code",
   "execution_count": 54,
   "id": "a7d2ce17",
   "metadata": {},
   "outputs": [
    {
     "data": {
      "text/plain": [
       "[('Iron_name', 3),\n",
       " ('Dr Strange', 2),\n",
       " ('Avengers', 4),\n",
       " ('Captain America', 3),\n",
       " ('Ant-Man', 2),\n",
       " ('Black-Panther', 1),\n",
       " ('Thor', 3)]"
      ]
     },
     "execution_count": 54,
     "metadata": {},
     "output_type": "execute_result"
    }
   ],
   "source": [
    "Marvel_movies"
   ]
  },
  {
   "cell_type": "code",
   "execution_count": 55,
   "id": "276f2780",
   "metadata": {},
   "outputs": [
    {
     "data": {
      "text/plain": [
       "4"
      ]
     },
     "execution_count": 55,
     "metadata": {},
     "output_type": "execute_result"
    }
   ],
   "source": [
    "Marvel_movies[2][1]"
   ]
  },
  {
   "cell_type": "code",
   "execution_count": 57,
   "id": "64926aa6",
   "metadata": {},
   "outputs": [
    {
     "data": {
      "text/plain": [
       "'Avengers'"
      ]
     },
     "execution_count": 57,
     "metadata": {},
     "output_type": "execute_result"
    }
   ],
   "source": [
    "Marvel_movies[2][0]"
   ]
  },
  {
   "cell_type": "code",
   "execution_count": null,
   "id": "27e35bfa",
   "metadata": {},
   "outputs": [],
   "source": []
  },
  {
   "cell_type": "code",
   "execution_count": null,
   "id": "a495c833",
   "metadata": {},
   "outputs": [],
   "source": []
  },
  {
   "cell_type": "code",
   "execution_count": null,
   "id": "f9be5b47",
   "metadata": {},
   "outputs": [],
   "source": []
  },
  {
   "cell_type": "code",
   "execution_count": null,
   "id": "e900360f",
   "metadata": {},
   "outputs": [],
   "source": []
  },
  {
   "cell_type": "code",
   "execution_count": null,
   "id": "bd427669",
   "metadata": {},
   "outputs": [],
   "source": []
  },
  {
   "cell_type": "markdown",
   "id": "9e9f3d3e",
   "metadata": {},
   "source": [
    "# Q! : given an array of integers, and Q queries,\n",
    "# each query will provide a number x.\n",
    "# for each query , return the frequency of x."
   ]
  },
  {
   "cell_type": "code",
   "execution_count": 58,
   "id": "afff5b61",
   "metadata": {},
   "outputs": [],
   "source": [
    "A = [1,3,4,-9,1,0,3,5,6,3,3,1,9]\n",
    "Q = [3,4,0,-9,3]\n",
    "\n",
    "#    4 1 1  1 4\n",
    "\n",
    "\n",
    "  \n"
   ]
  },
  {
   "cell_type": "code",
   "execution_count": 59,
   "id": "5088e869",
   "metadata": {},
   "outputs": [
    {
     "name": "stdout",
     "output_type": "stream",
     "text": [
      "4\n",
      "1\n",
      "1\n",
      "1\n",
      "4\n"
     ]
    }
   ],
   "source": [
    "# brute force : \n",
    "for query  in Q:\n",
    "    count = 0\n",
    "    for element in A:\n",
    "        if query == element:\n",
    "            count += 1\n",
    "    print(count)\n",
    "            \n",
    "        # O(Q * N)    # O(1)"
   ]
  },
  {
   "cell_type": "code",
   "execution_count": null,
   "id": "b9c80485",
   "metadata": {},
   "outputs": [],
   "source": []
  },
  {
   "cell_type": "code",
   "execution_count": 63,
   "id": "a6062926",
   "metadata": {},
   "outputs": [
    {
     "name": "stdout",
     "output_type": "stream",
     "text": [
      "{1: 3, 3: 4, 4: 1, -9: 1, 0: 1, 5: 1, 6: 1, 9: 1}\n",
      "\n",
      "4\n",
      "1\n",
      "1\n",
      "1\n",
      "4\n"
     ]
    }
   ],
   "source": [
    "# OPTIMISED USING HASHMAP  O(Q+N),O(N)\n",
    "\n",
    "A = [1,3,4,-9,1,0,3,5,6,3,3,1,9]\n",
    "Q = [3,4,0,-9,3]\n",
    "\n",
    "# key : number , value : frequcny\n",
    "\n",
    "frequency  = {}\n",
    "\n",
    "for x in A:\n",
    "    if x in frequency:\n",
    "        frequency[x] += 1\n",
    "    else:\n",
    "        frequency[x] = 1\n",
    "\n",
    "print(frequency)\n",
    "print()\n",
    "for q in Q:\n",
    "    print(frequency[q])"
   ]
  },
  {
   "cell_type": "code",
   "execution_count": null,
   "id": "ccc554eb",
   "metadata": {},
   "outputs": [],
   "source": []
  },
  {
   "cell_type": "code",
   "execution_count": 68,
   "id": "bc8a6a9c",
   "metadata": {},
   "outputs": [
    {
     "name": "stdout",
     "output_type": "stream",
     "text": [
      "defaultdict(<class 'int'>, {1: 3, 3: 4, 4: 1, -9: 1, 0: 1, 5: 1, 6: 1, 9: 1})\n"
     ]
    }
   ],
   "source": [
    "# USING DEFAULT DICTIONARIY\n",
    "\n",
    "from collections import defaultdict\n",
    "\n",
    "A = [1,3,4,-9,1,0,3,5,6,3,3,1,9]\n",
    "Q = [3,4,0,-9,3]\n",
    "\n",
    "count  = defaultdict(int)  # int is a functions , returning a value\n",
    "        # we can write: defaultdict(lambda:0)\n",
    "\n",
    "for x in A:\n",
    "    count[x] += 1\n",
    "\n",
    "print(count)"
   ]
  },
  {
   "cell_type": "code",
   "execution_count": 73,
   "id": "1b5852e3",
   "metadata": {},
   "outputs": [
    {
     "name": "stdout",
     "output_type": "stream",
     "text": [
      "4\n",
      "1\n",
      "1\n",
      "1\n",
      "4\n"
     ]
    }
   ],
   "source": [
    "for q in Q:\n",
    "    print(count[q])"
   ]
  },
  {
   "cell_type": "code",
   "execution_count": null,
   "id": "acf9dbe7",
   "metadata": {},
   "outputs": [],
   "source": []
  },
  {
   "cell_type": "code",
   "execution_count": null,
   "id": "5de6ca75",
   "metadata": {},
   "outputs": [],
   "source": []
  },
  {
   "cell_type": "code",
   "execution_count": null,
   "id": "8960868a",
   "metadata": {},
   "outputs": [],
   "source": []
  },
  {
   "cell_type": "code",
   "execution_count": null,
   "id": "a2c9c867",
   "metadata": {},
   "outputs": [],
   "source": []
  },
  {
   "cell_type": "markdown",
   "id": "d7891f8e",
   "metadata": {},
   "source": [
    "# defaultdict "
   ]
  },
  {
   "cell_type": "code",
   "execution_count": 83,
   "id": "313ac8d6",
   "metadata": {},
   "outputs": [
    {
     "name": "stdout",
     "output_type": "stream",
     "text": [
      "defaultdict(<class 'int'>, {'sunny': 4, 'abhi': 2, 'uttam': 1, 'srikar': 1, 'mehul': 1})\n"
     ]
    }
   ],
   "source": [
    "names = [\"sunny\",\"abhi\",\"uttam\",\"sunny\",\n",
    "         \"srikar\",\"mehul\",\"sunny\",\"abhi\",\"sunny\"]\n",
    "freq = defaultdict(int)\n",
    "\n",
    "for n in names:\n",
    "    freq[n] += 1\n",
    "    \n",
    "print(freq)"
   ]
  },
  {
   "cell_type": "code",
   "execution_count": null,
   "id": "3f97bf52",
   "metadata": {},
   "outputs": [],
   "source": []
  },
  {
   "cell_type": "code",
   "execution_count": 84,
   "id": "b37690ea",
   "metadata": {},
   "outputs": [
    {
     "name": "stdout",
     "output_type": "stream",
     "text": [
      "defaultdict(<function default_value_creator at 0x000001F150666A60>, {'sunny': 4, 'abhi': 2, 'uttam': 1, 'srikar': 1, 'mehul': 1})\n"
     ]
    }
   ],
   "source": [
    "names = [\"sunny\",\"abhi\",\"uttam\",\"sunny\",\n",
    "         \"srikar\",\"mehul\",\"sunny\",\"abhi\",\"sunny\"]\n",
    "\n",
    "def default_value_creator():\n",
    "    return 0\n",
    "\n",
    "freq = defaultdict(default_value_creator)\n",
    "\n",
    "for n in names:\n",
    "    freq[n] += 1\n",
    "    \n",
    "print(freq)"
   ]
  },
  {
   "cell_type": "code",
   "execution_count": null,
   "id": "81cb00b6",
   "metadata": {},
   "outputs": [],
   "source": []
  },
  {
   "cell_type": "code",
   "execution_count": null,
   "id": "d366d4f3",
   "metadata": {},
   "outputs": [],
   "source": []
  },
  {
   "cell_type": "code",
   "execution_count": 81,
   "id": "856de4c7",
   "metadata": {},
   "outputs": [
    {
     "name": "stdout",
     "output_type": "stream",
     "text": [
      "{'sunny': 4, 'abhi': 2, 'uttam': 1, 'srikar': 1, 'mehul': 1}\n"
     ]
    }
   ],
   "source": [
    "names = [\"sunny\",\"abhi\",\"uttam\",\"sunny\",\n",
    "         \"srikar\",\"mehul\",\"sunny\",\"abhi\",\"sunny\"]\n",
    "freq = {}\n",
    "\n",
    "for n in names:\n",
    "    freq[n] = freq.get(n,0)+1\n",
    "    \n",
    "print(freq)"
   ]
  },
  {
   "cell_type": "code",
   "execution_count": null,
   "id": "31fa8bef",
   "metadata": {},
   "outputs": [],
   "source": []
  },
  {
   "cell_type": "code",
   "execution_count": null,
   "id": "82ba97be",
   "metadata": {},
   "outputs": [],
   "source": []
  },
  {
   "cell_type": "code",
   "execution_count": 85,
   "id": "99cba0dc",
   "metadata": {},
   "outputs": [
    {
     "name": "stdout",
     "output_type": "stream",
     "text": [
      "Help on method_descriptor:\n",
      "\n",
      "get(self, key, default=None, /)\n",
      "    Return the value for key if key is in the dictionary, else default.\n",
      "\n"
     ]
    }
   ],
   "source": [
    "help(dict.get)"
   ]
  },
  {
   "cell_type": "code",
   "execution_count": null,
   "id": "48fb5275",
   "metadata": {},
   "outputs": [],
   "source": []
  },
  {
   "cell_type": "code",
   "execution_count": null,
   "id": "9ff7b13a",
   "metadata": {},
   "outputs": [],
   "source": []
  },
  {
   "cell_type": "markdown",
   "id": "bd00e414",
   "metadata": {},
   "source": [
    "# Counter"
   ]
  },
  {
   "cell_type": "code",
   "execution_count": 87,
   "id": "370bc446",
   "metadata": {},
   "outputs": [
    {
     "name": "stdout",
     "output_type": "stream",
     "text": [
      "Counter({'sunny': 4, 'abhi': 2, 'uttam': 1, 'srikar': 1, 'mehul': 1})\n",
      "\n",
      "<class 'collections.Counter'>\n"
     ]
    }
   ],
   "source": [
    "from collections import Counter\n",
    "\n",
    "names = [\"sunny\",\"abhi\",\"uttam\",\"sunny\",\n",
    "         \"srikar\",\"mehul\",\"sunny\",\"abhi\",\"sunny\"]\n",
    "\n",
    "count_frequency = Counter(names)\n",
    "\n",
    "print(count_frequency)\n",
    "print()\n",
    "print(type(count_frequency))"
   ]
  },
  {
   "cell_type": "code",
   "execution_count": 92,
   "id": "d93213dc",
   "metadata": {},
   "outputs": [
    {
     "name": "stdout",
     "output_type": "stream",
     "text": [
      "[('sunny', 4), ('abhi', 2), ('uttam', 1), ('srikar', 1), ('mehul', 1)]\n"
     ]
    }
   ],
   "source": [
    "print(count_frequency.most_common())\n"
   ]
  },
  {
   "cell_type": "code",
   "execution_count": null,
   "id": "67fd3167",
   "metadata": {},
   "outputs": [],
   "source": []
  },
  {
   "cell_type": "markdown",
   "id": "a366bb36",
   "metadata": {},
   "source": [
    "# defaultdict(list)"
   ]
  },
  {
   "cell_type": "code",
   "execution_count": 110,
   "id": "65f1e66b",
   "metadata": {},
   "outputs": [
    {
     "name": "stdout",
     "output_type": "stream",
     "text": [
      "defaultdict(<class 'list'>, {'S': ['Sunny', 'Sunny', 'Srikar', 'Sunny', 'Sunny'], 'A': ['Abhi', 'Abhi'], 'U': ['Uttam', 'Urvi'], 'M': ['Mehul'], 'P': ['Prithvi']})\n",
      "\n",
      "{'S': ['Sunny', 'Sunny', 'Srikar', 'Sunny', 'Sunny'], 'A': ['Abhi', 'Abhi'], 'U': ['Uttam', 'Urvi'], 'M': ['Mehul'], 'P': ['Prithvi']}\n"
     ]
    }
   ],
   "source": [
    "names = [\"Sunny\",\"Abhi\",\"Uttam\",\"Sunny\",\n",
    "         \"Srikar\",\"Mehul\",\"Sunny\",\"Urvi\",\"Abhi\",\"Sunny\",\"Prithvi\"]\n",
    "\n",
    "names_startwith = defaultdict(list)\n",
    "\n",
    "for n in names:\n",
    "    start = n[0]\n",
    "    names_startwith[start].append(n)\n",
    "\n",
    "    \n",
    "print(names_startwith)\n",
    "print()\n",
    "print(dict(names_startwith))"
   ]
  },
  {
   "cell_type": "code",
   "execution_count": 111,
   "id": "fb780a5e",
   "metadata": {},
   "outputs": [
    {
     "data": {
      "text/plain": [
       "{'S': ['Sunny', 'Sunny', 'Srikar', 'Sunny', 'Sunny'],\n",
       " 'A': ['Abhi', 'Abhi'],\n",
       " 'U': ['Uttam', 'Urvi'],\n",
       " 'M': ['Mehul'],\n",
       " 'P': ['Prithvi']}"
      ]
     },
     "execution_count": 111,
     "metadata": {},
     "output_type": "execute_result"
    }
   ],
   "source": [
    "dict(names_startwith)"
   ]
  },
  {
   "cell_type": "code",
   "execution_count": null,
   "id": "45a8f765",
   "metadata": {},
   "outputs": [],
   "source": []
  },
  {
   "cell_type": "code",
   "execution_count": 114,
   "id": "0efad9d5",
   "metadata": {},
   "outputs": [
    {
     "name": "stdout",
     "output_type": "stream",
     "text": [
      "defaultdict(<class 'list'>, {'y': ['Sunny', 'Sunny', 'Sunny', 'Sunny'], 'i': ['Abhi', 'Urvi', 'Abhi', 'Prithvi'], 'm': ['Uttam'], 'r': ['Srikar'], 'l': ['Mehul']})\n",
      "\n",
      "{'y': ['Sunny', 'Sunny', 'Sunny', 'Sunny'], 'i': ['Abhi', 'Urvi', 'Abhi', 'Prithvi'], 'm': ['Uttam'], 'r': ['Srikar'], 'l': ['Mehul']}\n"
     ]
    }
   ],
   "source": [
    "names = [\"Sunny\",\"Abhi\",\"Uttam\",\"Sunny\",\n",
    "         \"Srikar\",\"Mehul\",\"Sunny\",\"Urvi\",\"Abhi\",\"Sunny\",\"Prithvi\"]\n",
    "\n",
    "names_endswith = defaultdict(list)\n",
    "\n",
    "for n in names:\n",
    "    ends = n[-1]\n",
    "    lst = names_endswith[ends]\n",
    "    lst.append(n)\n",
    "\n",
    "    \n",
    "print(names_endswith)\n",
    "print()\n",
    "print(dict(names_endswith))"
   ]
  },
  {
   "cell_type": "code",
   "execution_count": 115,
   "id": "5173c111",
   "metadata": {},
   "outputs": [
    {
     "data": {
      "text/plain": [
       "{'y': ['Sunny', 'Sunny', 'Sunny', 'Sunny'],\n",
       " 'i': ['Abhi', 'Urvi', 'Abhi', 'Prithvi'],\n",
       " 'm': ['Uttam'],\n",
       " 'r': ['Srikar'],\n",
       " 'l': ['Mehul']}"
      ]
     },
     "execution_count": 115,
     "metadata": {},
     "output_type": "execute_result"
    }
   ],
   "source": [
    "dict(names_endswith)"
   ]
  },
  {
   "cell_type": "code",
   "execution_count": null,
   "id": "35312225",
   "metadata": {},
   "outputs": [],
   "source": []
  },
  {
   "cell_type": "code",
   "execution_count": null,
   "id": "4b266f64",
   "metadata": {},
   "outputs": [],
   "source": []
  },
  {
   "cell_type": "code",
   "execution_count": null,
   "id": "ed470a89",
   "metadata": {},
   "outputs": [],
   "source": []
  },
  {
   "cell_type": "markdown",
   "id": "f4195a3f",
   "metadata": {},
   "source": [
    "# Q: given array , count distinct elements\n",
    "\n"
   ]
  },
  {
   "cell_type": "code",
   "execution_count": 122,
   "id": "44ee9b4d",
   "metadata": {},
   "outputs": [
    {
     "name": "stdout",
     "output_type": "stream",
     "text": [
      "8\n"
     ]
    }
   ],
   "source": [
    "A = [1,3,4,-9,1,0,3,5,6,3,3,1,9]\n",
    "#    1 2 3 4    5   6 7       8 \n",
    "n = len(A)\n",
    "count = 0\n",
    "\n",
    "for i in range(n):\n",
    "    \n",
    "    if_repeated = False\n",
    "    for j in range(i+1,n):\n",
    "        if A[i] == A[j]:\n",
    "            if_repeated = True\n",
    "            break\n",
    "            \n",
    "    if if_repeated == False:\n",
    "        count += 1\n",
    "print(count)"
   ]
  },
  {
   "cell_type": "code",
   "execution_count": 124,
   "id": "7f7c5c00",
   "metadata": {},
   "outputs": [
    {
     "name": "stdout",
     "output_type": "stream",
     "text": [
      "8\n"
     ]
    }
   ],
   "source": [
    "# OR                                                 O(n**2)\n",
    "A = [1,3,4,-9,1,0,3,5,6,3,3,1,9]\n",
    "count = 0\n",
    "\n",
    "for i,x in enumerate(A):\n",
    "    is_first_occurance = True\n",
    "    \n",
    "    for j in range(i):\n",
    "        if A[j] == x:\n",
    "            is_first_occurance = False\n",
    "            break\n",
    "    \n",
    "    if is_first_occurance:\n",
    "        count += 1\n",
    "print(count)"
   ]
  },
  {
   "cell_type": "code",
   "execution_count": null,
   "id": "d752eeb8",
   "metadata": {},
   "outputs": [],
   "source": []
  },
  {
   "cell_type": "code",
   "execution_count": 131,
   "id": "991bcb32",
   "metadata": {},
   "outputs": [
    {
     "name": "stdout",
     "output_type": "stream",
     "text": [
      "{1: True, 3: True, 4: True, -9: True, 0: True, 5: True, 6: True, 9: True}\n",
      "\n",
      "ans :  8\n"
     ]
    }
   ],
   "source": [
    "# USING DICTIONARY            O(n),O(n)\n",
    "\n",
    "A = [1,3,4,-9,1,0,3,5,6,3,3,1,9]\n",
    "\n",
    "unique = {}\n",
    "\n",
    "for x in A:\n",
    "    unique[x] = True    # we can set any value \n",
    "                        # if key repeates , it will overwrite the value\n",
    "print(unique)\n",
    "print()\n",
    "print(\"ans : \",len(unique))"
   ]
  },
  {
   "cell_type": "code",
   "execution_count": null,
   "id": "63a65286",
   "metadata": {},
   "outputs": [],
   "source": []
  },
  {
   "cell_type": "code",
   "execution_count": 133,
   "id": "2c081544",
   "metadata": {},
   "outputs": [
    {
     "name": "stdout",
     "output_type": "stream",
     "text": [
      "ans :  8\n"
     ]
    }
   ],
   "source": [
    "# USING HashSet     O(n),O(n)\n",
    "\n",
    "A = [1,3,4,-9,1,0,3,5,6,3,3,1,9]\n",
    "\n",
    "print(\"ans : \",len(set(A)))"
   ]
  },
  {
   "cell_type": "code",
   "execution_count": null,
   "id": "a645e735",
   "metadata": {},
   "outputs": [],
   "source": []
  },
  {
   "cell_type": "code",
   "execution_count": null,
   "id": "33c31767",
   "metadata": {},
   "outputs": [],
   "source": []
  },
  {
   "cell_type": "code",
   "execution_count": null,
   "id": "3c4e05a9",
   "metadata": {},
   "outputs": [],
   "source": []
  },
  {
   "cell_type": "markdown",
   "id": "b1f9fa77",
   "metadata": {},
   "source": [
    "# Q! return first non-repeating element\n"
   ]
  },
  {
   "cell_type": "code",
   "execution_count": null,
   "id": "c0d0ebcf",
   "metadata": {},
   "outputs": [],
   "source": [
    "# assume that one such element exists: \n"
   ]
  },
  {
   "cell_type": "code",
   "execution_count": null,
   "id": "540df270",
   "metadata": {},
   "outputs": [],
   "source": []
  },
  {
   "cell_type": "code",
   "execution_count": 440,
   "id": "6ecb7d59",
   "metadata": {},
   "outputs": [
    {
     "data": {
      "text/plain": [
       "4"
      ]
     },
     "execution_count": 440,
     "metadata": {},
     "output_type": "execute_result"
    }
   ],
   "source": [
    "A = [1,3,4,-9,1,0,3,5,6,3,3,1,9]  # O(n**2)\n",
    "#        ^   ans \n",
    "\n",
    "def first_non_repeating_element(A):\n",
    "    n = len(A)\n",
    "    \n",
    "    for i in range(n):\n",
    "        c = 0\n",
    "        for j in range(n):\n",
    "            if A[i] == A[j]:\n",
    "                c += 1\n",
    "        if c == 1:\n",
    "            return A[i]\n",
    "        \n",
    "first_non_repeating_element(A)"
   ]
  },
  {
   "cell_type": "code",
   "execution_count": null,
   "id": "f6dd6df3",
   "metadata": {},
   "outputs": [],
   "source": []
  },
  {
   "cell_type": "code",
   "execution_count": null,
   "id": "37709641",
   "metadata": {},
   "outputs": [],
   "source": []
  },
  {
   "cell_type": "code",
   "execution_count": 146,
   "id": "0a12f771",
   "metadata": {},
   "outputs": [
    {
     "data": {
      "text/plain": [
       "4"
      ]
     },
     "execution_count": 146,
     "metadata": {},
     "output_type": "execute_result"
    }
   ],
   "source": [
    "A = [1,3,4,-9,1,0,3,5,6,3,3,1,9]              \n",
    "\n",
    "# using frequcney map\n",
    "from collections import Counter\n",
    "\n",
    "def first_non_repeating_element_map(A):\n",
    "\n",
    "    freq = Counter(A)          # O(n) , O(n)\n",
    "\n",
    "    for x in A:                # O(n)\n",
    "        if freq[x] == 1 :\n",
    "            return (x)\n",
    "        \n",
    "        \n",
    "first_non_repeating_element_map(A)   #O(n+n),O(n)"
   ]
  },
  {
   "cell_type": "code",
   "execution_count": null,
   "id": "4d335356",
   "metadata": {},
   "outputs": [],
   "source": []
  },
  {
   "cell_type": "markdown",
   "id": "2159a0c4",
   "metadata": {},
   "source": [
    "# Q! : first repeating element"
   ]
  },
  {
   "cell_type": "code",
   "execution_count": 429,
   "id": "28bf4a20",
   "metadata": {},
   "outputs": [],
   "source": [
    "def first_repeating_elemenet(A):\n",
    "    n = len(A)\n",
    "\n",
    "    ans_index = -1\n",
    "    \n",
    "    freq = {}\n",
    "    \n",
    "    for i in range(n-1,-1,-1):\n",
    "        print(i,freq)\n",
    "        if freq.get(A[i]) != None:\n",
    "            ans_index = i\n",
    "            \n",
    "        else:\n",
    "            freq[A[i]] = 1\n",
    "            print(freq)\n",
    "    \n",
    "    if ans_index == -1:\n",
    "        return ans_index\n",
    "    return A[ans_index]\n"
   ]
  },
  {
   "cell_type": "code",
   "execution_count": 430,
   "id": "db37d80b",
   "metadata": {},
   "outputs": [
    {
     "name": "stdout",
     "output_type": "stream",
     "text": [
      "6 {}\n",
      "{6: 1}\n",
      "5 {6: 1}\n",
      "{6: 1, 5: 1}\n",
      "4 {6: 1, 5: 1}\n",
      "{6: 1, 5: 1, 3: 1}\n",
      "3 {6: 1, 5: 1, 3: 1}\n",
      "{6: 1, 5: 1, 3: 1, 4: 1}\n",
      "2 {6: 1, 5: 1, 3: 1, 4: 1}\n",
      "1 {6: 1, 5: 1, 3: 1, 4: 1}\n",
      "0 {6: 1, 5: 1, 3: 1, 4: 1}\n",
      "{6: 1, 5: 1, 3: 1, 4: 1, 10: 1}\n"
     ]
    },
    {
     "data": {
      "text/plain": [
       "5"
      ]
     },
     "execution_count": 430,
     "metadata": {},
     "output_type": "execute_result"
    }
   ],
   "source": [
    "A = [10, 5, 3, 4, 3, 5, 6]\n",
    "first_repeating_elemenet(A)"
   ]
  },
  {
   "cell_type": "code",
   "execution_count": null,
   "id": "a09320c2",
   "metadata": {},
   "outputs": [],
   "source": []
  },
  {
   "cell_type": "code",
   "execution_count": null,
   "id": "332fc0e0",
   "metadata": {},
   "outputs": [],
   "source": []
  },
  {
   "cell_type": "markdown",
   "id": "38fcad20",
   "metadata": {},
   "source": [
    "# Q! check if there exists a subarray with sum 0.\n"
   ]
  },
  {
   "cell_type": "code",
   "execution_count": 438,
   "id": "25022843",
   "metadata": {},
   "outputs": [
    {
     "data": {
      "text/plain": [
       "'Given an array of integers A, \\nfind and return whether the given array contains a non-empty subarray \\nwith a sum equal to 0.\\n\\nIf the given array contains a sub-array\\nwith sum zero return 1, else return 0.'"
      ]
     },
     "execution_count": 438,
     "metadata": {},
     "output_type": "execute_result"
    }
   ],
   "source": [
    "A = [2,2,1,-3,4,3,1,-2,-3]\n",
    "#      [     ]\n",
    "#          [             ]\n",
    "\n",
    "'''Given an array of integers A, \n",
    "find and return whether the given array contains a non-empty subarray \n",
    "with a sum equal to 0.\n",
    "\n",
    "If the given array contains a sub-array\n",
    "with sum zero return 1, else return 0.'''"
   ]
  },
  {
   "cell_type": "code",
   "execution_count": 208,
   "id": "1ed657e1",
   "metadata": {},
   "outputs": [],
   "source": []
  },
  {
   "cell_type": "code",
   "execution_count": 209,
   "id": "7e5aae5f",
   "metadata": {},
   "outputs": [
    {
     "data": {
      "text/plain": [
       "1"
      ]
     },
     "execution_count": 209,
     "metadata": {},
     "output_type": "execute_result"
    }
   ],
   "source": [
    "check_subarray_with_sum_0(A)"
   ]
  },
  {
   "cell_type": "code",
   "execution_count": null,
   "id": "200b112f",
   "metadata": {},
   "outputs": [],
   "source": []
  },
  {
   "cell_type": "code",
   "execution_count": 197,
   "id": "f5c26243",
   "metadata": {},
   "outputs": [],
   "source": [
    "def check_subarray_with_sum_0_optimised(A):\n",
    "    n = len(A)\n",
    "    \n",
    "    prefixsum = [A[0]]\n",
    "    \n",
    "    for x in A[1:]:\n",
    "        prefixsum.append(x+prefixsum[-1])\n",
    "    \n",
    "    print(prefixsum)"
   ]
  },
  {
   "cell_type": "code",
   "execution_count": 164,
   "id": "e660d5f6",
   "metadata": {},
   "outputs": [
    {
     "data": {
      "text/plain": [
       "[2, 2, 1, -3, 4, 3, 1, -2, -3]"
      ]
     },
     "execution_count": 164,
     "metadata": {},
     "output_type": "execute_result"
    }
   ],
   "source": [
    "A"
   ]
  },
  {
   "cell_type": "code",
   "execution_count": 163,
   "id": "4eeaead6",
   "metadata": {},
   "outputs": [
    {
     "name": "stdout",
     "output_type": "stream",
     "text": [
      "[2, 4, 5, 2, 6, 9, 10, 8, 5]\n"
     ]
    }
   ],
   "source": [
    "check_subarray_with_sum_0_optimised(A)"
   ]
  },
  {
   "cell_type": "raw",
   "id": "f624367c",
   "metadata": {},
   "source": [
    "[2, 4, 5, 2, 6, 9, 10, 8, 5]\n",
    "#      ^                  ^\n",
    "\n",
    "in prefix array : it clearly two 5's are in the array : \n",
    "    that means it has clearly one subarray with zero \n",
    "\n",
    "[2, 4, 5, 2, 6, 9, 10, 8, 5]\n",
    " ^        ^    \n",
    "    \n",
    "    another one sub array is  also there"
   ]
  },
  {
   "cell_type": "code",
   "execution_count": 199,
   "id": "9f4f5c89",
   "metadata": {},
   "outputs": [
    {
     "name": "stdout",
     "output_type": "stream",
     "text": [
      "[-1, 0]\n"
     ]
    }
   ],
   "source": [
    "check_subarray_with_sum_0_optimised([-1,1])"
   ]
  },
  {
   "cell_type": "code",
   "execution_count": null,
   "id": "29b3487e",
   "metadata": {},
   "outputs": [],
   "source": []
  },
  {
   "cell_type": "code",
   "execution_count": 15,
   "id": "8aa4af70",
   "metadata": {},
   "outputs": [
    {
     "name": "stdout",
     "output_type": "stream",
     "text": [
      "0 88 90 136 202 291 212 248 327 "
     ]
    },
    {
     "data": {
      "text/plain": [
       "1"
      ]
     },
     "execution_count": 15,
     "metadata": {},
     "output_type": "execute_result"
    }
   ],
   "source": [
    "\n",
    "def solve(A):\n",
    "    n = len(A)\n",
    "    for i in A:\n",
    "        if i == 0:\n",
    "            return 1\n",
    "    s = 0\n",
    "    for i in A:\n",
    "        s += i\n",
    "    if s==0:\n",
    "        return 1\n",
    "    hashset = set()\n",
    "    \n",
    "    fixsum = 0\n",
    "    hashset.add(fixsum)\n",
    "    for x in range(len(A)):\n",
    "        print(fixsum, end = \" \")\n",
    "        fixsum += A[x]\n",
    "        if fixsum in hashset:\n",
    "            return 1\n",
    "        hashset.add(fixsum)\n",
    "    return 0\n",
    "\n",
    "solve([ 88, 2, 46, 66, 89, -79, 36,79,-36,-89,-66,-46,-2,-88, 30, 60, 89, 23,79, 60, 26, -43, -14, 20, 92, -48, 45, 84, -22, 65, -57, 7 ])"
   ]
  },
  {
   "cell_type": "code",
   "execution_count": 34,
   "id": "959425c5",
   "metadata": {},
   "outputs": [
    {
     "name": "stdout",
     "output_type": "stream",
     "text": [
      "0\n",
      "5\n",
      "12\n",
      "21\n",
      "18\n",
      "42\n",
      "49\n",
      "50\n",
      "55\n"
     ]
    },
    {
     "data": {
      "text/plain": [
       "1"
      ]
     },
     "execution_count": 34,
     "metadata": {},
     "output_type": "execute_result"
    }
   ],
   "source": [
    "\n",
    "def subarraywith_sum_0(A):\n",
    "    n = len(A)\n",
    "    for i in A:\n",
    "        if i == 0:\n",
    "            return 1\n",
    "    s = 0\n",
    "    for i in A:\n",
    "        s += i\n",
    "    if s==0:\n",
    "        return 1\n",
    "    hashset = set()\n",
    "    \n",
    "    fixsum = 0\n",
    "    hashset.add(fixsum)\n",
    "    for x in range(len(A)):\n",
    "        print(fixsum)\n",
    "        fixsum += A[x]\n",
    "        if fixsum in hashset:\n",
    "            return 1\n",
    "        hashset.add(fixsum)\n",
    "    return 0\n",
    "\n",
    "subarraywith_sum_0([5,7,9,-3,24,7,1,5,-5])"
   ]
  },
  {
   "cell_type": "code",
   "execution_count": 431,
   "id": "b4065a9d",
   "metadata": {},
   "outputs": [],
   "source": [
    "def subarraywith_sum_0(A):\n",
    "    dictionary  = {}\n",
    "    \n",
    "    current_sum = 0\n",
    "    \n",
    "    for x in A:\n",
    "        current_sum += x\n",
    "        if current_sum == 0 or x == 0 or current_sum in dictionary:\n",
    "            return 1\n",
    "        else:\n",
    "            dictionary[current_sum] = 1\n",
    "    return 0"
   ]
  },
  {
   "cell_type": "code",
   "execution_count": 434,
   "id": "dac00a66",
   "metadata": {},
   "outputs": [
    {
     "data": {
      "text/plain": [
       "1"
      ]
     },
     "execution_count": 434,
     "metadata": {},
     "output_type": "execute_result"
    }
   ],
   "source": [
    "subarraywith_sum_0([ 5, 17, -22, 11 ])"
   ]
  },
  {
   "cell_type": "code",
   "execution_count": null,
   "id": "a1459e0f",
   "metadata": {},
   "outputs": [],
   "source": []
  },
  {
   "cell_type": "code",
   "execution_count": null,
   "id": "f172f6e2",
   "metadata": {},
   "outputs": [],
   "source": [
    "5,22,0,11"
   ]
  },
  {
   "cell_type": "code",
   "execution_count": null,
   "id": "2a571103",
   "metadata": {},
   "outputs": [],
   "source": []
  },
  {
   "cell_type": "code",
   "execution_count": null,
   "id": "53c0e0b0",
   "metadata": {},
   "outputs": [],
   "source": []
  },
  {
   "cell_type": "code",
   "execution_count": null,
   "id": "e3f8e7ee",
   "metadata": {},
   "outputs": [],
   "source": []
  },
  {
   "cell_type": "code",
   "execution_count": null,
   "id": "4a8e3cef",
   "metadata": {},
   "outputs": [],
   "source": []
  },
  {
   "cell_type": "markdown",
   "id": "70697718",
   "metadata": {},
   "source": [
    "# Q4. Shaggy and distances\n"
   ]
  },
  {
   "cell_type": "code",
   "execution_count": null,
   "id": "e30cf8ee",
   "metadata": {},
   "outputs": [],
   "source": [
    "'''\n",
    "Shaggy has an array A consisting of N elements.\n",
    "We call a pair of distinct indices in that array a special\n",
    "if elements at those indices in the array are equal.\n",
    "\n",
    "Shaggy wants you to find a special pair such that\n",
    "the distance between that pair is minimum.\n",
    "Distance between two indices is defined as |i-j|.\n",
    "If there is no special pair in the array, then return -1.'''"
   ]
  },
  {
   "cell_type": "code",
   "execution_count": 410,
   "id": "1791c2da",
   "metadata": {},
   "outputs": [
    {
     "name": "stdout",
     "output_type": "stream",
     "text": [
      "3\n"
     ]
    }
   ],
   "source": [
    "A = [7, 1, 3, 4, 1, 7]\n",
    "n = len(A)\n",
    "\n",
    "\n",
    "\n",
    "mindistance = float('inf')\n",
    "for i in range(n):\n",
    "    for j in range(i+1,n):\n",
    "        if A[i] == A[j]:\n",
    "            distance = abs(i-j)\n",
    "            mindistance = min(distance,mindistance)\n",
    "print(mindistance)\n",
    "            \n"
   ]
  },
  {
   "cell_type": "code",
   "execution_count": null,
   "id": "4555be5e",
   "metadata": {},
   "outputs": [],
   "source": []
  },
  {
   "cell_type": "code",
   "execution_count": 411,
   "id": "0acc1b8e",
   "metadata": {},
   "outputs": [
    {
     "name": "stdout",
     "output_type": "stream",
     "text": [
      "3\n"
     ]
    }
   ],
   "source": [
    "A = [7, 1, 3, 4, 1, 7]\n",
    "\n",
    "\n",
    "\n",
    "\n",
    "indexmap  = defaultdict(list)\n",
    "\n",
    "for i in range(len(A)):\n",
    "    lst = indexmap[A[i]]\n",
    "    lst.append(i)\n",
    "\n",
    "# print(indexmap)\n",
    "minlen = float('inf')\n",
    "\n",
    "for x in indexmap:\n",
    "    for j in range(len(indexmap[x])):\n",
    "#         print(indexmap[x][j], end = \" \")\n",
    "        if minlen != 0 and len(indexmap[x]) >1 :\n",
    "            minlen = min(minlen, abs(indexmap[x][j]-indexmap[x][j-1]))\n",
    "#             print(\"minlen:\",minlen)\n",
    "#     print()\n",
    "print(minlen)\n"
   ]
  },
  {
   "cell_type": "code",
   "execution_count": null,
   "id": "95548ddb",
   "metadata": {},
   "outputs": [],
   "source": []
  },
  {
   "cell_type": "code",
   "execution_count": 350,
   "id": "e502b401",
   "metadata": {},
   "outputs": [
    {
     "name": "stdout",
     "output_type": "stream",
     "text": [
      "{7: 0}\n",
      "{7: 0, 1: 1}\n",
      "{7: 0, 1: 1, 3: 2}\n",
      "{7: 0, 1: 1, 3: 2, 4: 3}\n",
      "{7: 0, 1: 4, 3: 2, 4: 3}\n",
      "{7: 5, 1: 4, 3: 2, 4: 3}\n"
     ]
    },
    {
     "data": {
      "text/plain": [
       "3"
      ]
     },
     "execution_count": 350,
     "metadata": {},
     "output_type": "execute_result"
    }
   ],
   "source": [
    "\n",
    "def solve(A):\n",
    "    mydict = {}\n",
    "    ans = 1000000000\n",
    "    c = 0\n",
    "\n",
    "    for i in A:\n",
    "        if i in mydict:\n",
    "            ans = min(ans, c - mydict[i])\n",
    "            mydict[i] = c\n",
    "            print(mydict)\n",
    "        else:\n",
    "            mydict[i] = c\n",
    "            print(mydict)\n",
    "        c = c + 1\n",
    "    \n",
    "    if ans == 1000000000:\n",
    "        ans = -1\n",
    "    return ans\n",
    "\n",
    "\n",
    "A = [7, 1, 3, 4, 1, 7]\n",
    "\n",
    "solve(A)"
   ]
  },
  {
   "cell_type": "code",
   "execution_count": null,
   "id": "420b9cec",
   "metadata": {},
   "outputs": [],
   "source": []
  },
  {
   "cell_type": "code",
   "execution_count": null,
   "id": "1b72b0a5",
   "metadata": {},
   "outputs": [],
   "source": []
  },
  {
   "cell_type": "code",
   "execution_count": null,
   "id": "542a7845",
   "metadata": {},
   "outputs": [],
   "source": []
  },
  {
   "cell_type": "code",
   "execution_count": null,
   "id": "7492c9a8",
   "metadata": {},
   "outputs": [],
   "source": []
  },
  {
   "cell_type": "code",
   "execution_count": null,
   "id": "44e07c64",
   "metadata": {},
   "outputs": [],
   "source": []
  },
  {
   "cell_type": "code",
   "execution_count": null,
   "id": "a82d4557",
   "metadata": {},
   "outputs": [],
   "source": []
  },
  {
   "cell_type": "markdown",
   "id": "26733faf",
   "metadata": {},
   "source": [
    "# Q! Q5. Largest Continuous Sequence Zero Sum\n"
   ]
  },
  {
   "cell_type": "code",
   "execution_count": null,
   "id": "f7b74605",
   "metadata": {},
   "outputs": [],
   "source": [
    "'''Given an array A of N integers.\n",
    "\n",
    "Find the largest continuous sequence in a array which sums to zero.'''"
   ]
  },
  {
   "cell_type": "code",
   "execution_count": 142,
   "id": "0f4ebaae",
   "metadata": {
    "scrolled": false
   },
   "outputs": [
    {
     "name": "stdout",
     "output_type": "stream",
     "text": [
      "[5, -1, -2, 3, -2, -3]\n"
     ]
    }
   ],
   "source": [
    "A = [1,2,3,4,5,-1,-2,3,-2,-3]\n",
    "n = len(A)\n",
    "istart = None\n",
    "iend = None\n",
    "maxlen = -float('inf')\n",
    "for s in range(n):\n",
    "    sum = 0\n",
    "    for e in range(s,n):\n",
    "        sum += A[e]\n",
    "        length = e-s+1\n",
    "        if sum == 0:\n",
    "            if length > maxlen:\n",
    "                maxlen = length \n",
    "                istart = s\n",
    "                iend = e\n",
    "\n",
    "print(A[istart:iend+1])"
   ]
  },
  {
   "cell_type": "code",
   "execution_count": 88,
   "id": "c7b3cd02",
   "metadata": {},
   "outputs": [
    {
     "data": {
      "text/plain": [
       "1"
      ]
     },
     "execution_count": 88,
     "metadata": {},
     "output_type": "execute_result"
    }
   ],
   "source": [
    "subarraywith_sum_0([1,2,-2,4,-4])"
   ]
  },
  {
   "cell_type": "code",
   "execution_count": 167,
   "id": "c5f5a791",
   "metadata": {},
   "outputs": [],
   "source": [
    "def find_prefixsum(A):\n",
    "    n = len(A)\n",
    "    prefix = [A[0]]\n",
    "    for x in A[1:]:\n",
    "        prefix.append(x+prefix[-1])\n",
    "    return prefix"
   ]
  },
  {
   "cell_type": "code",
   "execution_count": null,
   "id": "b73abe7c",
   "metadata": {},
   "outputs": [],
   "source": []
  },
  {
   "cell_type": "code",
   "execution_count": null,
   "id": "ccac0ed6",
   "metadata": {},
   "outputs": [],
   "source": []
  },
  {
   "cell_type": "code",
   "execution_count": null,
   "id": "9c781db5",
   "metadata": {},
   "outputs": [],
   "source": []
  },
  {
   "cell_type": "code",
   "execution_count": null,
   "id": "6fddba38",
   "metadata": {},
   "outputs": [],
   "source": []
  },
  {
   "cell_type": "code",
   "execution_count": 143,
   "id": "91453f31",
   "metadata": {},
   "outputs": [
    {
     "data": {
      "text/plain": [
       "[1, 3, 6, 10, 15, 14, 12, 15, 13, 10]"
      ]
     },
     "execution_count": 143,
     "metadata": {},
     "output_type": "execute_result"
    }
   ],
   "source": [
    "A = [1,2,3,4,5,-1,-2,3,-2,-3]\n",
    "find_prefixsum(A)"
   ]
  },
  {
   "cell_type": "code",
   "execution_count": null,
   "id": "f374769b",
   "metadata": {},
   "outputs": [],
   "source": []
  },
  {
   "cell_type": "code",
   "execution_count": 163,
   "id": "9f104540",
   "metadata": {},
   "outputs": [
    {
     "name": "stdout",
     "output_type": "stream",
     "text": [
      "[1, 2, -3, 3]\n",
      "[1, 3, 0, 3]\n",
      "3\n",
      "[1, 3]\n",
      "[1, 2, -3]\n"
     ]
    }
   ],
   "source": [
    "\n",
    "# def first_repeating_elemet(A):\n",
    "#     from collections import Counter\n",
    "#     freq = Counter(A)\n",
    "\n",
    "#     for i in A:\n",
    "#         if freq[i] > 1:\n",
    "#             return (i)\n",
    "#     return -1\n",
    "\n",
    "# A = [1,2,-3,3]\n",
    "# print(A)\n",
    "# prefixsm = find_prefixsum(A)\n",
    "# print(prefixsm)\n",
    "\n",
    "# x = first_repeating_elemet(prefixsm)\n",
    "# print(x)\n",
    "# asd = []\n",
    "# for i in range(len(prefixsm)):\n",
    "#     if prefixsm[i] == x:\n",
    "#         asd.append(i)\n",
    "# print(asd)\n",
    "\n",
    "# print(A[asd[0]-1:asd[-1]])"
   ]
  },
  {
   "cell_type": "code",
   "execution_count": null,
   "id": "67c82b8b",
   "metadata": {},
   "outputs": [],
   "source": []
  },
  {
   "cell_type": "code",
   "execution_count": null,
   "id": "df5bbaea",
   "metadata": {},
   "outputs": [],
   "source": []
  },
  {
   "cell_type": "code",
   "execution_count": null,
   "id": "4146d16e",
   "metadata": {},
   "outputs": [],
   "source": []
  },
  {
   "cell_type": "code",
   "execution_count": null,
   "id": "cee81fd6",
   "metadata": {},
   "outputs": [],
   "source": []
  },
  {
   "cell_type": "code",
   "execution_count": null,
   "id": "d1a54bba",
   "metadata": {},
   "outputs": [],
   "source": []
  },
  {
   "cell_type": "code",
   "execution_count": null,
   "id": "6259bcb7",
   "metadata": {},
   "outputs": [],
   "source": []
  },
  {
   "cell_type": "markdown",
   "id": "f40ad2da",
   "metadata": {},
   "source": [
    "# Q: Good pair\n"
   ]
  },
  {
   "cell_type": "raw",
   "id": "931df80e",
   "metadata": {},
   "source": [
    "\n",
    "### given an array of integers A and a number k, \n",
    "### check if there is a pair of indexes (i,j) , such that A[i] + A[j] = k \n",
    "(i,i) is a valid pair"
   ]
  },
  {
   "cell_type": "code",
   "execution_count": null,
   "id": "d520dcb5",
   "metadata": {},
   "outputs": [],
   "source": []
  },
  {
   "cell_type": "code",
   "execution_count": 509,
   "id": "d4c94f13",
   "metadata": {},
   "outputs": [],
   "source": [
    "    # 0  1  2  3  4  5  6  7  8  9 10\n",
    "A = [ 2, 8, 4,-3, 9, 1,10, 0,18,43,24]\n",
    "\n",
    "#  k = 11    2+9  ans = True  (0,4)\n",
    "#  k = 7     -3,10      True\n",
    "#      23               False\n",
    "#      21     24-3      True\n",
    "\n",
    "k = 44\n"
   ]
  },
  {
   "cell_type": "code",
   "execution_count": 510,
   "id": "8983aefa",
   "metadata": {},
   "outputs": [
    {
     "name": "stdout",
     "output_type": "stream",
     "text": [
      "1 43\n"
     ]
    },
    {
     "data": {
      "text/plain": [
       "True"
      ]
     },
     "execution_count": 510,
     "metadata": {},
     "output_type": "execute_result"
    }
   ],
   "source": [
    "def goodpair_brute(A,k):           #O(n**2),1\n",
    "    n = len(A)\n",
    "    for i in range(n):\n",
    "        for j in range(n):\n",
    "            if A[i]+A[j]==k:\n",
    "                print(A[i],A[j])\n",
    "                return True\n",
    "    return False\n",
    "\n",
    "A = [ 2, 8, 4,-3, 9, 1,10, 0,18,43,24]\n",
    "k = 44\n",
    "goodpair_brute(A,k)"
   ]
  },
  {
   "cell_type": "code",
   "execution_count": null,
   "id": "6f076993",
   "metadata": {},
   "outputs": [],
   "source": []
  },
  {
   "cell_type": "code",
   "execution_count": null,
   "id": "75c520b2",
   "metadata": {},
   "outputs": [],
   "source": []
  },
  {
   "cell_type": "code",
   "execution_count": 514,
   "id": "7ee1d329",
   "metadata": {},
   "outputs": [
    {
     "name": "stdout",
     "output_type": "stream",
     "text": [
      "3 3\n"
     ]
    },
    {
     "data": {
      "text/plain": [
       "True"
      ]
     },
     "execution_count": 514,
     "metadata": {},
     "output_type": "execute_result"
    }
   ],
   "source": [
    "# for i to form a good pair , k-A[i] must be in the array\n",
    "\n",
    "def good_pair_optimize(A,k):        #   O(n**2),1    \n",
    "    n = len(A)\n",
    "    \n",
    "    for i in range(n):                 \n",
    "        target = k-A[i]\n",
    "        if target in A:                # \n",
    "            print(A[i],target)         #  this is a look up code\n",
    "            return True                #    O(n)\n",
    "    return False\n",
    "\n",
    "good_pair_optimize([3,2,7],6)"
   ]
  },
  {
   "cell_type": "code",
   "execution_count": null,
   "id": "7e16ddfa",
   "metadata": {},
   "outputs": [],
   "source": []
  },
  {
   "cell_type": "code",
   "execution_count": 515,
   "id": "63a4f565",
   "metadata": {},
   "outputs": [
    {
     "data": {
      "text/plain": [
       "True"
      ]
     },
     "execution_count": 515,
     "metadata": {},
     "output_type": "execute_result"
    }
   ],
   "source": [
    "def good_pair_using_hashset(A,k):          #  O(n),O(n)\n",
    "    \n",
    "    n = len(A)\n",
    "    presence_set = set(A)\n",
    "    \n",
    "    for i in range(n):\n",
    "        if (k- A[i]) in presence_set:\n",
    "            return True\n",
    "    return False\n",
    "    \n",
    "good_pair_using_hashset(A,k)"
   ]
  },
  {
   "cell_type": "code",
   "execution_count": null,
   "id": "8583660b",
   "metadata": {},
   "outputs": [],
   "source": []
  },
  {
   "cell_type": "markdown",
   "id": "a058da5f",
   "metadata": {},
   "source": [
    "##### what if  ( i , i ) is not allowed ? , not a valid pair for A[ i ]+A[ j ] = k"
   ]
  },
  {
   "cell_type": "raw",
   "id": "b7bd5aa8",
   "metadata": {},
   "source": [
    "if k/2 is present in the array, our previous code will return True\n",
    "even if it occures only once \n",
    "\n",
    "A[i] + A[i] = k\n",
    ": A[i] = k/2"
   ]
  },
  {
   "cell_type": "code",
   "execution_count": 522,
   "id": "b6643267",
   "metadata": {},
   "outputs": [
    {
     "data": {
      "text/plain": [
       "False"
      ]
     },
     "execution_count": 522,
     "metadata": {},
     "output_type": "execute_result"
    }
   ],
   "source": [
    "\n",
    "def good_pair_i_i_nt_allowed(A,k):    # O(n),O(n)\n",
    "    n = len(A)\n",
    "    \n",
    "    presence = set(A)\n",
    "    \n",
    "    for x in A:\n",
    "        if x == k-x:  # if 2*x == k\n",
    "            # make sure tht there are atlease two occurances of x\n",
    "            count = 0\n",
    "            for element in A:\n",
    "                if x == element:\n",
    "                    count += 1\n",
    "            if count >= 2:\n",
    "                return True\n",
    "        \n",
    "        \n",
    "        elif (k-x) in presence:\n",
    "            return True\n",
    "    return False\n",
    "\n",
    "A = [3,2,7]\n",
    "k = 6\n",
    "\n",
    "good_pair_i_i_nt_allowed(A,k)"
   ]
  },
  {
   "cell_type": "code",
   "execution_count": null,
   "id": "4a558829",
   "metadata": {},
   "outputs": [],
   "source": []
  },
  {
   "cell_type": "code",
   "execution_count": 524,
   "id": "dd664cc3",
   "metadata": {},
   "outputs": [
    {
     "data": {
      "text/plain": [
       "True"
      ]
     },
     "execution_count": 524,
     "metadata": {},
     "output_type": "execute_result"
    }
   ],
   "source": [
    "\n",
    "def good_pair_i_i_nt_allowed(A,k):     # O(n),O(n)\n",
    "    n = len(A)\n",
    "    \n",
    "    presence = set(A)\n",
    "    \n",
    "    for x in A:\n",
    "        if x == k-x:  # if 2*x == k\n",
    "            # make sure tht there are atlease two occurances of x\n",
    "            count = 0\n",
    "            for element in A:\n",
    "                if x == element:\n",
    "                    count += 1\n",
    "                    if count >= 2:\n",
    "                        return True\n",
    "        \n",
    "        \n",
    "        elif (k-x) in presence:\n",
    "            return True\n",
    "    return False\n",
    "\n",
    "A = [3,3,2,7]\n",
    "k = 6\n",
    "\n",
    "good_pair_i_i_nt_allowed(A,k)"
   ]
  },
  {
   "cell_type": "code",
   "execution_count": 535,
   "id": "d0771602",
   "metadata": {},
   "outputs": [
    {
     "name": "stdout",
     "output_type": "stream",
     "text": [
      "2\n"
     ]
    },
    {
     "data": {
      "text/plain": [
       "True"
      ]
     },
     "execution_count": 535,
     "metadata": {},
     "output_type": "execute_result"
    }
   ],
   "source": [
    "\n",
    "def good_pair_i_i_nt_allowed_simple_code(A,k):      # O(n),O(n)\n",
    "    n = len(A)\n",
    "    \n",
    "    presence = set(A)\n",
    "    \n",
    "    count_k_2 = 0\n",
    "    \n",
    "    for x in A:\n",
    "        if x == k-x:  # if 2*x == k\n",
    "            count_k_2 += 1\n",
    "        \n",
    "        elif (k-x) in presence:\n",
    "            return True\n",
    "    print(count_k_2)\n",
    "    if count_k_2 >= 2:\n",
    "        return True\n",
    "    \n",
    "    \n",
    "    return False\n",
    "\n",
    "A = [3,3,2,7]\n",
    "k = 6\n",
    "\n",
    "good_pair_i_i_nt_allowed_simple_code(A,k)"
   ]
  },
  {
   "cell_type": "code",
   "execution_count": 539,
   "id": "9cfb99ec",
   "metadata": {},
   "outputs": [
    {
     "data": {
      "text/plain": [
       "False"
      ]
     },
     "execution_count": 539,
     "metadata": {},
     "output_type": "execute_result"
    }
   ],
   "source": [
    "def good_pair_i_i_nt_allowed_super_simple_c0de(A,k):    # O(n),O(n)\n",
    "    \n",
    "    n = len(A)\n",
    "    presence = set()\n",
    "    \n",
    "    for i in range(n):\n",
    "        target = k-A[i]\n",
    "        if target in presence:\n",
    "            return True\n",
    "        presence.add(A[i])\n",
    "    return False\n",
    "\n",
    "#-------------------------------------#\n",
    "A = [3,2,7]\n",
    "k = 6\n",
    "\n",
    "good_pair_i_i_nt_allowed_super_simple_c0de(A,k)"
   ]
  },
  {
   "cell_type": "code",
   "execution_count": null,
   "id": "fdadc419",
   "metadata": {},
   "outputs": [],
   "source": []
  },
  {
   "cell_type": "code",
   "execution_count": null,
   "id": "c86bb40a",
   "metadata": {},
   "outputs": [],
   "source": []
  },
  {
   "cell_type": "code",
   "execution_count": 21,
   "id": "37a29ff6",
   "metadata": {},
   "outputs": [
    {
     "data": {
      "text/plain": [
       "(-3, 18)"
      ]
     },
     "execution_count": 21,
     "metadata": {},
     "output_type": "execute_result"
    }
   ],
   "source": [
    "def sumsubarrayk(A,k):            # total iterations max n-1 wost case senatios TC :O(n)\n",
    "                                    # only if the gievn array is soted this will work\n",
    "    n = len(A)\n",
    "\n",
    "    pointer1 = 0\n",
    "    pointer2 = n-1\n",
    "\n",
    "    while pointer1 < pointer2:\n",
    "\n",
    "        if A[pointer1]+A[pointer2] > k:\n",
    "            pointer2 -= 1\n",
    "        elif A[pointer1]+ A[pointer2] < k:\n",
    "            pointer1 += 1\n",
    "        else:\n",
    "            return A[pointer1],A[pointer2]\n",
    "    return \"NO pair found\"\n",
    "        \n",
    "A = [-3,0,1,3,6,8,11,14,18,25]\n",
    "k = 15\n",
    "sumsubarrayk(A,k)"
   ]
  },
  {
   "cell_type": "code",
   "execution_count": null,
   "id": "b3078a6c",
   "metadata": {},
   "outputs": [],
   "source": []
  },
  {
   "cell_type": "markdown",
   "id": "045aa57a",
   "metadata": {},
   "source": [
    "# Q : Subarray Distinct Count\n",
    "\n",
    "#### given an array of integers A and an integer k , \n",
    "#### find the number of distinct elements in every subarray of length k "
   ]
  },
  {
   "cell_type": "code",
   "execution_count": 546,
   "id": "22b4d067",
   "metadata": {},
   "outputs": [
    {
     "name": "stdout",
     "output_type": "stream",
     "text": [
      "[1, 2, 1, 3, 4] 4\n",
      "[2, 1, 3, 4, 5] 5\n",
      "[1, 3, 4, 5, 1] 4\n",
      "[3, 4, 5, 1, 2] 5\n",
      "[4, 5, 1, 2, 3] 5\n",
      "[5, 1, 2, 3, 4] 5\n",
      "[1, 2, 3, 4, 1] 4\n",
      "\n",
      "[4, 5, 4, 5, 5, 5, 4]\n"
     ]
    }
   ],
   "source": [
    "A = [1,2,1,3,4,5,1,2,3,4,1]\n",
    "k = 5\n",
    "ans = []\n",
    "n = len(A)\n",
    "\n",
    "for s in range(n-k+1):\n",
    "    e = k+s-1\n",
    "    print(A[s:e+1], len(set(A[s:e+1])))\n",
    "    ans.append(len(set(A[s:e+1])))\n",
    "print()\n",
    "print(ans)"
   ]
  },
  {
   "cell_type": "code",
   "execution_count": 549,
   "id": "b53a0875",
   "metadata": {},
   "outputs": [
    {
     "name": "stdout",
     "output_type": "stream",
     "text": [
      "[3, 3, 2, 3, 3]\n"
     ]
    }
   ],
   "source": [
    "A = [4,5,1,3,1,4,6]\n",
    "k = 3\n",
    "ans = []\n",
    "n = len(A)\n",
    "\n",
    "for s in range(n-k+1):\n",
    "    e = k+s-1\n",
    "    ans.append(len(set(A[s:e+1])))\n",
    "print(ans)"
   ]
  },
  {
   "cell_type": "code",
   "execution_count": null,
   "id": "a591c806",
   "metadata": {},
   "outputs": [],
   "source": [
    " "
   ]
  },
  {
   "cell_type": "code",
   "execution_count": 552,
   "id": "8078889e",
   "metadata": {},
   "outputs": [
    {
     "name": "stdout",
     "output_type": "stream",
     "text": [
      "{1, 4, 5}\n",
      "{1, 3, 5}\n",
      "{1, 3}\n",
      "{1, 3, 4}\n",
      "{1, 4, 6}\n"
     ]
    },
    {
     "data": {
      "text/plain": [
       "[3, 3, 2, 3, 3]"
      ]
     },
     "execution_count": 552,
     "metadata": {},
     "output_type": "execute_result"
    }
   ],
   "source": [
    "def subarray_distinct_count(A,k):         # O(n*k), O(k)\n",
    "    ans = []\n",
    "    for i in range(n-k+1):\n",
    "        distinct = set()\n",
    "        for j in range(i,i+k):\n",
    "            distinct.add(A[j])\n",
    "        print(distinct)\n",
    "        ans.append(len(distinct))\n",
    "    return ans\n",
    "\n",
    "\n",
    "A = [4,5,1,3,1,4,6]\n",
    "k = 3\n",
    "subarray_distinct_count(A,k)"
   ]
  },
  {
   "cell_type": "code",
   "execution_count": null,
   "id": "9d6f83cf",
   "metadata": {},
   "outputs": [],
   "source": []
  },
  {
   "cell_type": "markdown",
   "id": "054e7f1a",
   "metadata": {},
   "source": [
    "###### optimised "
   ]
  },
  {
   "cell_type": "code",
   "execution_count": 14,
   "id": "1fa8de34",
   "metadata": {},
   "outputs": [
    {
     "name": "stdout",
     "output_type": "stream",
     "text": [
      "Counter({1: 2, 2: 1})\n",
      "[2]\n"
     ]
    },
    {
     "data": {
      "text/plain": [
       "[2, 3, 3, 2]"
      ]
     },
     "execution_count": 14,
     "metadata": {},
     "output_type": "execute_result"
    }
   ],
   "source": [
    "A = [1,2,1,3,4,3]\n",
    "k = 3\n",
    "\n",
    "def subarray_distinct_count_sliding_window(A,k):\n",
    "    from collections import Counter\n",
    "    \n",
    "    n = len(A)\n",
    "    freq = Counter()\n",
    "    ans = []\n",
    "    \n",
    "       # ans for first window of size k\n",
    "    for i in range(k):\n",
    "        freq[A[i]] += 1\n",
    "        \n",
    "    print(freq)\n",
    "    ans.append(len(freq))\n",
    "    print(ans)\n",
    "    \n",
    "    # processing for remaining windows\n",
    "    for i in range(k,n):\n",
    "        freq[A[i]] += 1   # add next ele in dict\n",
    "        freq[A[i-k]] -= 1  # remove the left out of window in dict\n",
    "        \n",
    "        if freq[A[i-k]] == 0 : del freq[A[i-k]]  \n",
    "                                   # if the freq of an element drops to 0,\n",
    "                                    # remvoe that record from dictionary\n",
    "        ans.append(len(freq)) \n",
    "    return ans\n",
    "        \n",
    "    \n",
    "    \n",
    "subarray_distinct_count_sliding_window(A,k)"
   ]
  },
  {
   "cell_type": "code",
   "execution_count": null,
   "id": "b444ee62",
   "metadata": {},
   "outputs": [],
   "source": []
  },
  {
   "cell_type": "code",
   "execution_count": null,
   "id": "1511da9a",
   "metadata": {},
   "outputs": [],
   "source": []
  },
  {
   "cell_type": "code",
   "execution_count": null,
   "id": "8a4feb13",
   "metadata": {},
   "outputs": [],
   "source": []
  },
  {
   "cell_type": "code",
   "execution_count": null,
   "id": "41a27f3e",
   "metadata": {},
   "outputs": [],
   "source": []
  },
  {
   "cell_type": "code",
   "execution_count": null,
   "id": "186a3859",
   "metadata": {},
   "outputs": [],
   "source": []
  },
  {
   "cell_type": "code",
   "execution_count": null,
   "id": "3a6ba86f",
   "metadata": {},
   "outputs": [],
   "source": []
  },
  {
   "cell_type": "code",
   "execution_count": null,
   "id": "b2e38e2f",
   "metadata": {},
   "outputs": [],
   "source": []
  },
  {
   "cell_type": "code",
   "execution_count": null,
   "id": "0fe45af7",
   "metadata": {},
   "outputs": [],
   "source": []
  },
  {
   "cell_type": "code",
   "execution_count": 740,
   "id": "5bab64f5",
   "metadata": {},
   "outputs": [],
   "source": [
    "A = [5, 10, 20, 100, 105]\n",
    "k = 110\n",
    "\n",
    "n = len(A)\n",
    "\n",
    "for s in range(n):\n",
    "    sm = 0\n",
    "    for e in range(s,n):\n",
    "        sm += A[e]\n",
    "        if sm == k:\n",
    "            print(A[s:e+1])\n",
    "        "
   ]
  },
  {
   "cell_type": "code",
   "execution_count": 743,
   "id": "2e8f3bc9",
   "metadata": {},
   "outputs": [
    {
     "name": "stdout",
     "output_type": "stream",
     "text": [
      "[5] 5\n",
      "[5, 10] 15\n",
      "[5, 10, 20] 35\n",
      "[5, 10, 20, 100] 135\n",
      "[5, 10, 20, 100, 105] 240\n",
      "[10] 10\n",
      "[10, 20] 30\n",
      "[10, 20, 100] 130\n",
      "[10, 20, 100, 105] 235\n",
      "[20] 20\n",
      "[20, 100] 120\n",
      "[20, 100, 105] 225\n",
      "[100] 100\n",
      "[100, 105] 205\n",
      "[105] 105\n"
     ]
    }
   ],
   "source": [
    "A = [5, 10, 20, 100, 105]\n",
    "k = 110\n",
    "\n",
    "n = len(A)\n",
    "\n",
    "for s in range(n):\n",
    "    summ = 0\n",
    "    for e in range(s,n):\n",
    "        summ += A[e]\n",
    "        print(A[s:e+1],summ)"
   ]
  },
  {
   "cell_type": "code",
   "execution_count": 748,
   "id": "0645a499",
   "metadata": {},
   "outputs": [],
   "source": [
    "\n",
    "def solve(A, k):\n",
    "\n",
    "    n = len(A)\n",
    "    ans = None\n",
    "    for s in range(n):\n",
    "        sm = 0\n",
    "        for e in range(s,n):\n",
    "            sm += A[e]\n",
    "            if sm == k:\n",
    "                ans = A[s:e+1]\n",
    "    return ans\n",
    "    return -1"
   ]
  },
  {
   "cell_type": "code",
   "execution_count": 749,
   "id": "adcbdb7e",
   "metadata": {},
   "outputs": [],
   "source": [
    "solve(A, k)"
   ]
  },
  {
   "cell_type": "code",
   "execution_count": null,
   "id": "a6f2aac5",
   "metadata": {},
   "outputs": [],
   "source": []
  },
  {
   "cell_type": "code",
   "execution_count": 703,
   "id": "9c28c6b9",
   "metadata": {},
   "outputs": [
    {
     "name": "stdout",
     "output_type": "stream",
     "text": [
      "1\n",
      "1\n",
      "1\n",
      "1\n",
      "1\n",
      "1\n",
      "[]\n"
     ]
    }
   ],
   "source": [
    "A = [1,4,20,3,10,5]\n",
    "B = 33\n",
    "n = len(A)\n",
    "\n",
    "l = 0\n",
    "ans = []\n",
    "sm = A[0]\n",
    "for r in range(n):\n",
    "    print(sm)\n",
    "    while sm < B and l <= r:\n",
    "        sm = sm - A[l]\n",
    "        l += 1\n",
    "        if sm == B:\n",
    "            ans.append(A[l])\n",
    "    if r <= n:\n",
    "        sm += A[r]\n",
    "print(ans)"
   ]
  },
  {
   "cell_type": "markdown",
   "id": "9687dc20",
   "metadata": {},
   "source": [
    "# common elements"
   ]
  },
  {
   "cell_type": "code",
   "execution_count": 750,
   "id": "58d75f68",
   "metadata": {},
   "outputs": [
    {
     "name": "stdout",
     "output_type": "stream",
     "text": [
      "Counter({7: 3, 3: 2, 6: 2, 9: 2, 1: 1, 2: 1, 4: 1, 5: 1, 8: 1}) Counter({7: 3, 3: 2, 6: 2, 9: 2, 1: 1, 2: 1, 4: 1, 5: 1, 8: 1})\n",
      "[1, 2, 3, 4, 5, 6, 7, 8, 9]\n",
      "\n",
      "[3, 6, 7, 7, 9]\n",
      "final ans: [1, 2, 3, 4, 5, 6, 7, 8, 9, 3, 6, 7, 7, 9]\n"
     ]
    }
   ],
   "source": [
    "A = [1,2,3,3,4,5,6,6,7,8,9,9,7,7]\n",
    "B = [1,2,3,3,4,5,6,6,7,8,9,9,7,7]\n",
    "\n",
    "ans = []\n",
    "\n",
    "from collections import Counter\n",
    "\n",
    "freqA = Counter(A)\n",
    "freqB = Counter(B)\n",
    "\n",
    "print(freqA,freqB)\n",
    "\n",
    "\n",
    "s_list = list(set(A).intersection(set(B)))\n",
    "node = -1\n",
    "print(s_list)\n",
    "final_ans = []\n",
    "for ele in s_list:\n",
    "    if freqA[ele] != 1 and freqB[ele] != 1: \n",
    "        \n",
    "        node = min(freqA[ele],freqB[ele])\n",
    "        for _ in range(node-1):\n",
    "            final_ans.append(ele)\n",
    "        \n",
    "print()\n",
    "print(final_ans)\n",
    "\n",
    "for i in final_ans:\n",
    "    s_list.append(i)\n",
    "print(\"final ans:\",s_list)"
   ]
  },
  {
   "cell_type": "code",
   "execution_count": null,
   "id": "472c429f",
   "metadata": {},
   "outputs": [],
   "source": []
  },
  {
   "cell_type": "code",
   "execution_count": null,
   "id": "832b7020",
   "metadata": {},
   "outputs": [],
   "source": []
  },
  {
   "cell_type": "code",
   "execution_count": null,
   "id": "3abf45ca",
   "metadata": {},
   "outputs": [],
   "source": []
  },
  {
   "cell_type": "markdown",
   "id": "83d93eca",
   "metadata": {},
   "source": [
    "# Q : longest consecutive sequence : \n",
    "\n"
   ]
  },
  {
   "cell_type": "code",
   "execution_count": 5,
   "id": "6cba32de",
   "metadata": {},
   "outputs": [
    {
     "name": "stdout",
     "output_type": "stream",
     "text": [
      "[-7, -6, -5, -4, -3, -2, -1, 0, 1, 2, 2, 2, 5, 5, 5, 6, 7, 8, 9, 10, 11, 100, 545, 585, 585]\n",
      "[-7, -6, -5, -4, -3, -2, -1, 0, 1, 2, 5, 6, 7, 8, 9, 10, 11, 100, 545, 585]\n"
     ]
    },
    {
     "data": {
      "text/plain": [
       "10"
      ]
     },
     "execution_count": 5,
     "metadata": {},
     "output_type": "execute_result"
    }
   ],
   "source": [
    "def longestConsecutive(X):\n",
    "\n",
    "    maxlen = -float('inf')\n",
    "    count = 0\n",
    "\n",
    "    A = sorted(X)\n",
    "    print(A)\n",
    "    n = len(A)\n",
    "#     print(list(set(A)))\n",
    "    temp = []\n",
    "\n",
    "    temp.append(A[0])\n",
    "    \n",
    "    for i in range(1,len(A)):\n",
    "        if A[i] != A[i-1]:\n",
    "            temp.append(A[i])\n",
    "    print(temp)\n",
    "    for  i in range(len(temp)):\n",
    "\n",
    "        if i > 0 and temp[i] == temp[i-1]+1:\n",
    "            count += 1\n",
    "        else:\n",
    "            count = 1\n",
    "\n",
    "        maxlen = max(maxlen,count)\n",
    "    return maxlen\n",
    "\n",
    "\n",
    "longestConsecutive([100,2,585,-1,-2,0,-3,-4,-5,-6,-7,1,2,5,2,6,545,8,5,10,11,585,5,7,9])"
   ]
  },
  {
   "cell_type": "code",
   "execution_count": null,
   "id": "61d14108",
   "metadata": {},
   "outputs": [],
   "source": []
  },
  {
   "cell_type": "code",
   "execution_count": null,
   "id": "ddd1cb68",
   "metadata": {},
   "outputs": [],
   "source": []
  },
  {
   "cell_type": "code",
   "execution_count": null,
   "id": "be4e040f",
   "metadata": {},
   "outputs": [],
   "source": []
  },
  {
   "cell_type": "markdown",
   "id": "99d4c6e9",
   "metadata": {},
   "source": [
    "# Q! subarray sum\n",
    "# Given an integer array A , and an integer k, check if any subaray of A having sum k . \n"
   ]
  },
  {
   "cell_type": "code",
   "execution_count": 18,
   "id": "f6a69014",
   "metadata": {},
   "outputs": [
    {
     "data": {
      "text/plain": [
       "-1"
      ]
     },
     "execution_count": 18,
     "metadata": {},
     "output_type": "execute_result"
    }
   ],
   "source": [
    "A = [ 5, 10, 20, 100, 105 ]\n",
    "k = 110\n",
    "\n",
    "\n",
    "def subarray_sum(A,k):\n",
    "    n = len(A)\n",
    "    x = None\n",
    "    y = None\n",
    "    for s in range(n):\n",
    "        sum = 0\n",
    "        for e in range(s,n):\n",
    "            sum += A[e]\n",
    "            if sum == k:\n",
    "                x = s\n",
    "                y = e+1\n",
    "            \n",
    "                return A[x:y]\n",
    "    return -1\n",
    "\n",
    "subarray_sum(A,k)"
   ]
  },
  {
   "cell_type": "code",
   "execution_count": 4,
   "id": "1a2fad84",
   "metadata": {},
   "outputs": [],
   "source": [
    "def solve(A, B):\n",
    "    ans = []\n",
    "\n",
    "    found = False\n",
    "    for s in range(len(A)):\n",
    "        for e in range(s,len(A)):\n",
    "            summ = 0\n",
    "            for i in range(s,e+1):\n",
    "                summ += A[i]     \n",
    "\n",
    "            if summ == B:\n",
    "                found = True\n",
    "                ans.append(A[s:e+1])\n",
    "                break\n",
    "\n",
    "    if found:\n",
    "        res =  ans[0]\n",
    "    else:\n",
    "        res =  -1\n",
    "\n",
    "    return res"
   ]
  },
  {
   "cell_type": "code",
   "execution_count": 9,
   "id": "c966a410",
   "metadata": {},
   "outputs": [
    {
     "data": {
      "text/plain": [
       "-1"
      ]
     },
     "execution_count": 9,
     "metadata": {},
     "output_type": "execute_result"
    }
   ],
   "source": [
    "solve([ 5, 10, 20, 100, 105 ],110)"
   ]
  },
  {
   "cell_type": "code",
   "execution_count": 4,
   "id": "1b1e2154",
   "metadata": {},
   "outputs": [
    {
     "name": "stdout",
     "output_type": "stream",
     "text": [
      "[[-1, 3, 10]]\n",
      "[[3, 10, 5, 6]]\n",
      "[]\n",
      "[[4], [2, -1, 3]]\n"
     ]
    }
   ],
   "source": [
    "A = [4,2,-1,3,10,5,6,9]\n",
    "\n",
    "Queries = [12,24,16,4]\n",
    "\n",
    "\n",
    "def subarray_sum(A,k):\n",
    "    n = len(A)\n",
    "    ans = []\n",
    "    for s in range(n):\n",
    "        for e in range(s,n):\n",
    "            if sum(A[s:e+1]) == k:\n",
    "                ans.append(A[s:e+1])\n",
    "                \n",
    "    return(ans)\n",
    "\n",
    "for k in Queries:\n",
    "    print(subarray_sum(A,k))\n"
   ]
  },
  {
   "cell_type": "code",
   "execution_count": null,
   "id": "171b8366",
   "metadata": {},
   "outputs": [],
   "source": []
  },
  {
   "cell_type": "code",
   "execution_count": 2,
   "id": "88894409",
   "metadata": {},
   "outputs": [],
   "source": [
    "def subarray_sum_k(A,k):\n",
    "    n = len(A)\n",
    "    for i in A:\n",
    "        if i == k:\n",
    "            return 1\n",
    "    \n",
    "    if sum(A) == k:\n",
    "        return 1\n",
    "    \n",
    "    prefix = [A[0]]\n",
    "    for x in A[1:]:\n",
    "        prefix.append(x+prefix[-1])\n",
    "    print(prefix)\n",
    "    \n",
    "    def check_in_prefix_if_k_diff_pair_exist_or_not(prefix ,k):    #\n",
    "\n",
    "        n = len(prefix)\n",
    "        presence = set()\n",
    "\n",
    "        for i in range(n):\n",
    "            target = k-prefix[i]\n",
    "            if target in presence:\n",
    "                return 1\n",
    "            presence.add(prefix[i])\n",
    "        return 0\n",
    "\n",
    "\n",
    "    \n",
    "    \n",
    "    if check_in_prefix_if_k_diff_pair_exist_or_not(prefix,k) == 1:\n",
    "        return 1\n",
    "    return 0\n",
    "    "
   ]
  },
  {
   "cell_type": "code",
   "execution_count": 3,
   "id": "0f8b5ddd",
   "metadata": {},
   "outputs": [
    {
     "name": "stdout",
     "output_type": "stream",
     "text": [
      "[4, 6, 9, 19, 24, 30, 39]\n"
     ]
    },
    {
     "data": {
      "text/plain": [
       "0"
      ]
     },
     "execution_count": 3,
     "metadata": {},
     "output_type": "execute_result"
    }
   ],
   "source": [
    "A = [4,2,3,10,5,6,9]\n",
    "\n",
    "subarray_sum_k(A,11)"
   ]
  },
  {
   "cell_type": "code",
   "execution_count": null,
   "id": "0afa65ac",
   "metadata": {},
   "outputs": [],
   "source": []
  },
  {
   "cell_type": "code",
   "execution_count": 1,
   "id": "1f19ab6d",
   "metadata": {},
   "outputs": [
    {
     "name": "stdout",
     "output_type": "stream",
     "text": [
      "[4, 6, 9, 19, 24, 30, 39]\n"
     ]
    },
    {
     "data": {
      "text/plain": [
       "0"
      ]
     },
     "execution_count": 1,
     "metadata": {},
     "output_type": "execute_result"
    }
   ],
   "source": [
    "def subarray_sum_k(A,k):\n",
    "    n = len(A)\n",
    "    for i in A:\n",
    "        if i == k:\n",
    "            return 1\n",
    "    \n",
    "    if sum(A) == k:\n",
    "        return 1\n",
    "    \n",
    "    prefix = [A[0]]\n",
    "    for x in A[1:]:\n",
    "        prefix.append(x+prefix[-1])\n",
    "    print(prefix)\n",
    "    \n",
    "    pre_set = set()\n",
    "    start = None\n",
    "    end = None\n",
    "    \n",
    "    for i in range(len(prefix)):\n",
    "        target = k-prefix[i]\n",
    "        \n",
    "        if target in pre_set:\n",
    "            return 1\n",
    "        pre_set.add(prefix[i])\n",
    "    return 0\n",
    "    \n",
    "A = [4,2,3,10,5,6,9]\n",
    "\n",
    "subarray_sum_k(A,11)"
   ]
  },
  {
   "cell_type": "code",
   "execution_count": null,
   "id": "16a51b7c",
   "metadata": {},
   "outputs": [],
   "source": []
  },
  {
   "cell_type": "code",
   "execution_count": null,
   "id": "31f560f2",
   "metadata": {},
   "outputs": [],
   "source": []
  },
  {
   "cell_type": "code",
   "execution_count": null,
   "id": "f60f26ba",
   "metadata": {},
   "outputs": [],
   "source": []
  },
  {
   "cell_type": "code",
   "execution_count": null,
   "id": "1b0cd906",
   "metadata": {},
   "outputs": [],
   "source": []
  },
  {
   "cell_type": "code",
   "execution_count": null,
   "id": "2214756d",
   "metadata": {},
   "outputs": [],
   "source": []
  },
  {
   "cell_type": "code",
   "execution_count": null,
   "id": "a98a832a",
   "metadata": {},
   "outputs": [],
   "source": []
  },
  {
   "cell_type": "code",
   "execution_count": null,
   "id": "1127fe6b",
   "metadata": {},
   "outputs": [],
   "source": []
  },
  {
   "cell_type": "code",
   "execution_count": null,
   "id": "fadda1b6",
   "metadata": {},
   "outputs": [],
   "source": []
  },
  {
   "cell_type": "code",
   "execution_count": null,
   "id": "d92b387d",
   "metadata": {},
   "outputs": [],
   "source": []
  },
  {
   "cell_type": "code",
   "execution_count": null,
   "id": "a20555ec",
   "metadata": {},
   "outputs": [],
   "source": []
  },
  {
   "cell_type": "code",
   "execution_count": null,
   "id": "14113295",
   "metadata": {},
   "outputs": [],
   "source": []
  },
  {
   "cell_type": "code",
   "execution_count": null,
   "id": "77b07e76",
   "metadata": {},
   "outputs": [],
   "source": []
  },
  {
   "cell_type": "code",
   "execution_count": null,
   "id": "f53df451",
   "metadata": {},
   "outputs": [],
   "source": []
  },
  {
   "cell_type": "code",
   "execution_count": null,
   "id": "6b4277a3",
   "metadata": {},
   "outputs": [],
   "source": []
  },
  {
   "cell_type": "code",
   "execution_count": null,
   "id": "46c38857",
   "metadata": {},
   "outputs": [],
   "source": []
  },
  {
   "cell_type": "code",
   "execution_count": null,
   "id": "c75cd67b",
   "metadata": {},
   "outputs": [],
   "source": []
  },
  {
   "cell_type": "code",
   "execution_count": null,
   "id": "697a73b3",
   "metadata": {},
   "outputs": [],
   "source": []
  },
  {
   "cell_type": "code",
   "execution_count": null,
   "id": "4dfdc047",
   "metadata": {},
   "outputs": [],
   "source": []
  },
  {
   "cell_type": "code",
   "execution_count": null,
   "id": "37ca42dc",
   "metadata": {},
   "outputs": [],
   "source": []
  },
  {
   "cell_type": "code",
   "execution_count": null,
   "id": "273b1708",
   "metadata": {},
   "outputs": [],
   "source": []
  },
  {
   "cell_type": "code",
   "execution_count": null,
   "id": "978e8995",
   "metadata": {},
   "outputs": [],
   "source": []
  },
  {
   "cell_type": "code",
   "execution_count": null,
   "id": "9ff0960b",
   "metadata": {},
   "outputs": [],
   "source": []
  },
  {
   "cell_type": "code",
   "execution_count": null,
   "id": "84207893",
   "metadata": {},
   "outputs": [],
   "source": []
  }
 ],
 "metadata": {
  "kernelspec": {
   "display_name": "Python 3 (ipykernel)",
   "language": "python",
   "name": "python3"
  },
  "language_info": {
   "codemirror_mode": {
    "name": "ipython",
    "version": 3
   },
   "file_extension": ".py",
   "mimetype": "text/x-python",
   "name": "python",
   "nbconvert_exporter": "python",
   "pygments_lexer": "ipython3",
   "version": "3.9.7"
  }
 },
 "nbformat": 4,
 "nbformat_minor": 5
}
