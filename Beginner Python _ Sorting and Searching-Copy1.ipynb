{
 "cells": [
  {
   "cell_type": "markdown",
   "id": "060450c2",
   "metadata": {},
   "source": [
    "  # Bubble sort\n",
    "  \n",
    "  - bubble sort works on the repeatedly swapping of adjacent elements untill they are not in the intended order.\n",
    "  - it is called bubble sort because the movement of array elements is just like the movement of air bubbles in the water.\n",
    "  - bubbles in water rise up to the surface, similarly the array elements is bubble sort move to the end in each iteration."
   ]
  },
  {
   "cell_type": "code",
   "execution_count": 18,
   "id": "5f6463c6",
   "metadata": {},
   "outputs": [],
   "source": [
    "a = [4,2,5,10,1,3]\n",
    "\n",
    "n = len(a)\n"
   ]
  },
  {
   "cell_type": "code",
   "execution_count": 1,
   "id": "c063673a",
   "metadata": {},
   "outputs": [
    {
     "name": "stdout",
     "output_type": "stream",
     "text": [
      "[2, 4, 5, 10, 1, 3]\n",
      "[2, 4, 5, 10, 1, 3]\n",
      "[2, 4, 5, 10, 1, 3]\n",
      "[2, 4, 5, 1, 10, 3]\n",
      "[2, 4, 5, 1, 3, 10]\n",
      "[2, 4, 5, 1, 3, 10]\n",
      "[2, 4, 5, 1, 3, 10]\n",
      "[2, 4, 1, 5, 3, 10]\n",
      "[2, 4, 1, 3, 5, 10]\n",
      "[2, 4, 1, 3, 5, 10]\n",
      "[2, 4, 1, 3, 5, 10]\n",
      "[2, 1, 4, 3, 5, 10]\n",
      "[2, 1, 3, 4, 5, 10]\n",
      "[2, 1, 3, 4, 5, 10]\n",
      "[2, 1, 3, 4, 5, 10]\n",
      "[1, 2, 3, 4, 5, 10]\n",
      "[1, 2, 3, 4, 5, 10]\n",
      "[1, 2, 3, 4, 5, 10]\n",
      "[1, 2, 3, 4, 5, 10]\n",
      "[1, 2, 3, 4, 5, 10]\n",
      "[1, 2, 3, 4, 5, 10]\n",
      "[1, 2, 3, 4, 5, 10]\n",
      "[1, 2, 3, 4, 5, 10]\n",
      "[1, 2, 3, 4, 5, 10]\n",
      "[1, 2, 3, 4, 5, 10]\n",
      "[1, 2, 3, 4, 5, 10]\n",
      "[1, 2, 3, 4, 5, 10]\n",
      "[1, 2, 3, 4, 5, 10]\n",
      "[1, 2, 3, 4, 5, 10]\n",
      "[1, 2, 3, 4, 5, 10]\n",
      "[1, 2, 3, 4, 5, 10]\n"
     ]
    }
   ],
   "source": [
    "a = [4,2,5,10,1,3]\n",
    "\n",
    "n = len(a)\n",
    "for i in range(n):\n",
    "    for j in range(n-1):\n",
    "        #print(a)\n",
    "        # pick two consecutive elements.\n",
    "        # if they are not in correct order, swap \n",
    "        if a[j] > a[j+1] :\n",
    "            a[j],a[j+1] = a[j+1],a[j]\n",
    "            \n",
    "        print(a)\n",
    "print(a)\n",
    "        \n",
    "        \n",
    "        "
   ]
  },
  {
   "cell_type": "code",
   "execution_count": null,
   "id": "59a4fe81",
   "metadata": {},
   "outputs": [],
   "source": []
  },
  {
   "cell_type": "markdown",
   "id": "815cae7c",
   "metadata": {},
   "source": [
    "### optimization \n",
    "### buuble sort\n"
   ]
  },
  {
   "cell_type": "code",
   "execution_count": 35,
   "id": "ea2f6415",
   "metadata": {},
   "outputs": [
    {
     "name": "stdout",
     "output_type": "stream",
     "text": [
      "[2, 4, 5, 10, 1, 3]\n",
      "[2, 4, 5, 10, 1, 3]\n",
      "[2, 4, 5, 10, 1, 3]\n",
      "[2, 4, 5, 1, 10, 3]\n",
      "[2, 4, 5, 1, 3, 10]\n",
      "[2, 4, 5, 1, 3, 10]\n",
      "[2, 4, 5, 1, 3, 10]\n",
      "[2, 4, 1, 5, 3, 10]\n",
      "[2, 4, 1, 3, 5, 10]\n",
      "[2, 4, 1, 3, 5, 10]\n",
      "[2, 1, 4, 3, 5, 10]\n",
      "[2, 1, 3, 4, 5, 10]\n",
      "[1, 2, 3, 4, 5, 10]\n",
      "[1, 2, 3, 4, 5, 10]\n",
      "[1, 2, 3, 4, 5, 10]\n",
      "[1, 2, 3, 4, 5, 10]\n"
     ]
    }
   ],
   "source": [
    "a = [4,2,5,10,1,3]\n",
    "n = len(a)\n",
    "\n",
    "for i in range(n):\n",
    "    for j in range(n-1-i):\n",
    "        #print(a)\n",
    "        # pick two consecutive elements.\n",
    "        # if they are not in correct order, swap \n",
    "        if a[j] > a[j+1] :\n",
    "            a[j],a[j+1] = a[j+1],a[j]\n",
    "            \n",
    "        print(a)\n",
    "print(a)\n",
    "        \n",
    "        "
   ]
  },
  {
   "cell_type": "code",
   "execution_count": null,
   "id": "7f7a652b",
   "metadata": {},
   "outputs": [],
   "source": []
  },
  {
   "cell_type": "code",
   "execution_count": 40,
   "id": "b29d2937",
   "metadata": {},
   "outputs": [
    {
     "name": "stdout",
     "output_type": "stream",
     "text": [
      "[1, 2, 3, 4, 5, 10]\n",
      "[1, 2, 3, 4, 5, 10]\n",
      "[1, 2, 3, 4, 5, 10]\n",
      "[1, 2, 3, 4, 5, 10]\n",
      "[1, 2, 3, 4, 5, 10]\n",
      "[1, 2, 3, 4, 5, 10]\n"
     ]
    }
   ],
   "source": [
    "a = [1, 2, 3, 4, 5, 10]\n",
    "n = len(a)\n",
    "\n",
    "for i in range(n):\n",
    "    for j in range(n-1-i):\n",
    "        #print(a)\n",
    "        \n",
    "        # pick two consecutive elements.\n",
    "        # if they are not in correct order, swap \n",
    "        swapped = False\n",
    "        if a[j] > a[j+1] :\n",
    "            a[j],a[j+1] = a[j+1],a[j]\n",
    "        print(a)\n",
    "    if not swapped:\n",
    "        break\n",
    "    \n",
    "print(a)\n",
    "        "
   ]
  },
  {
   "cell_type": "code",
   "execution_count": null,
   "id": "9f16f3f3",
   "metadata": {},
   "outputs": [],
   "source": []
  },
  {
   "cell_type": "code",
   "execution_count": 47,
   "id": "bb2638cc",
   "metadata": {},
   "outputs": [
    {
     "name": "stdout",
     "output_type": "stream",
     "text": [
      "[5, 10, 4, 3, 2, 1]\n",
      "[5, 4, 10, 3, 2, 1]\n",
      "[5, 4, 3, 10, 2, 1]\n",
      "[5, 4, 3, 2, 10, 1]\n",
      "[5, 4, 3, 2, 1, 10]\n",
      "[4, 5, 3, 2, 1, 10]\n",
      "[4, 3, 5, 2, 1, 10]\n",
      "[4, 3, 2, 5, 1, 10]\n",
      "[4, 3, 2, 1, 5, 10]\n",
      "[3, 4, 2, 1, 5, 10]\n",
      "[3, 2, 4, 1, 5, 10]\n",
      "[3, 2, 1, 4, 5, 10]\n",
      "[2, 3, 1, 4, 5, 10]\n",
      "[2, 1, 3, 4, 5, 10]\n",
      "[1, 2, 3, 4, 5, 10]\n",
      "[1, 2, 3, 4, 5, 10]\n"
     ]
    }
   ],
   "source": [
    "a = [10,5,4,3,2,1]\n",
    "n = len(a)\n",
    "\n",
    "for i in range(n):\n",
    "    swapped = False\n",
    "    for j in range(n-1-i):\n",
    "        #print(a)\n",
    "        \n",
    "        # pick two consecutive elements.\n",
    "        # if they are not in correct order, swap \n",
    "        \n",
    "        if a[j] > a[j+1] :\n",
    "            a[j],a[j+1] = a[j+1],a[j]\n",
    "            swapped = True\n",
    "        print(a)\n",
    "    if not swapped:\n",
    "        break\n",
    "    \n",
    "print(a)\n",
    "        "
   ]
  },
  {
   "cell_type": "code",
   "execution_count": null,
   "id": "cfa14b75",
   "metadata": {},
   "outputs": [],
   "source": []
  },
  {
   "cell_type": "code",
   "execution_count": 2,
   "id": "cc70b790",
   "metadata": {},
   "outputs": [
    {
     "name": "stdout",
     "output_type": "stream",
     "text": [
      "[4, 2, 5, 10, 1, 3]\n",
      "[4, 5, 2, 10, 1, 3]\n",
      "[4, 5, 10, 2, 1, 3]\n",
      "[4, 5, 10, 2, 1, 3]\n",
      "[4, 5, 10, 2, 3, 1]\n",
      "[5, 4, 10, 2, 3, 1]\n",
      "[5, 10, 4, 2, 3, 1]\n",
      "[5, 10, 4, 2, 3, 1]\n",
      "[5, 10, 4, 3, 2, 1]\n",
      "[10, 5, 4, 3, 2, 1]\n",
      "[10, 5, 4, 3, 2, 1]\n",
      "[10, 5, 4, 3, 2, 1]\n",
      "[10, 5, 4, 3, 2, 1]\n",
      "[10, 5, 4, 3, 2, 1]\n",
      "[10, 5, 4, 3, 2, 1]\n"
     ]
    }
   ],
   "source": [
    "a = [4,2,5,10,1,3]\n",
    "n = len(a)\n",
    "\n",
    "for i in range(n):\n",
    "    swapped = False\n",
    "    for j in range(n-1-i):\n",
    "        #print(a)\n",
    "        \n",
    "        # pick two consecutive elements.\n",
    "        # if they are not in correct order, swap \n",
    "        \n",
    "        if a[j] < a[j+1] :\n",
    "            a[j],a[j+1] = a[j+1],a[j]\n",
    "            swapped = True\n",
    "        print(a)\n",
    "    if not swapped:\n",
    "        break\n",
    "    \n",
    "print(a)\n",
    "        "
   ]
  },
  {
   "cell_type": "code",
   "execution_count": 6,
   "id": "cc20a390",
   "metadata": {},
   "outputs": [],
   "source": [
    "def sortarray(a):\n",
    "\n",
    "    n = len(a)\n",
    "\n",
    "    for i in range(n):\n",
    "        swapped = False\n",
    "        for j in range(n-1-i):\n",
    "            if a[j] < a[j+1] :\n",
    "                a[j],a[j+1] = a[j+1],a[j]\n",
    "                swapped = True\n",
    "\n",
    "        if not swapped:\n",
    "            break\n",
    "    return a\n",
    "\n",
    "def second_largest(a):\n",
    "    a = sortarray(a)\n",
    "    return a[1]"
   ]
  },
  {
   "cell_type": "code",
   "execution_count": 7,
   "id": "5b52641a",
   "metadata": {},
   "outputs": [
    {
     "data": {
      "text/plain": [
       "[9, 8, 7, 6, 5, 4, 3, 2, 1]"
      ]
     },
     "execution_count": 7,
     "metadata": {},
     "output_type": "execute_result"
    }
   ],
   "source": [
    "sortarray([6,5,7,4,8,1,2,3,9])"
   ]
  },
  {
   "cell_type": "code",
   "execution_count": 8,
   "id": "13580550",
   "metadata": {},
   "outputs": [
    {
     "data": {
      "text/plain": [
       "8"
      ]
     },
     "execution_count": 8,
     "metadata": {},
     "output_type": "execute_result"
    }
   ],
   "source": [
    "second_largest([9,8,7,4,5,1,2,3,6])"
   ]
  },
  {
   "cell_type": "code",
   "execution_count": 51,
   "id": "3423eea0",
   "metadata": {},
   "outputs": [
    {
     "data": {
      "text/plain": [
       "False"
      ]
     },
     "execution_count": 51,
     "metadata": {},
     "output_type": "execute_result"
    }
   ],
   "source": [
    "'A' > \"B\""
   ]
  },
  {
   "cell_type": "code",
   "execution_count": 53,
   "id": "d735f0fb",
   "metadata": {},
   "outputs": [
    {
     "data": {
      "text/plain": [
       "True"
      ]
     },
     "execution_count": 53,
     "metadata": {},
     "output_type": "execute_result"
    }
   ],
   "source": [
    "'a' < 'b'"
   ]
  },
  {
   "cell_type": "code",
   "execution_count": null,
   "id": "9f81db8a",
   "metadata": {},
   "outputs": [],
   "source": []
  },
  {
   "cell_type": "code",
   "execution_count": null,
   "id": "612d1e86",
   "metadata": {},
   "outputs": [],
   "source": []
  },
  {
   "cell_type": "code",
   "execution_count": 68,
   "id": "d5526a45",
   "metadata": {},
   "outputs": [
    {
     "name": "stdout",
     "output_type": "stream",
     "text": [
      "['AME', 'AMY', 'BHAVYA', 'KHUSHI', 'SUNNY']\n",
      "10\n"
     ]
    }
   ],
   "source": [
    "a = [\"SUNNY\",'BHAVYA','KHUSHI','AMY','AME']\n",
    "n = len(a)\n",
    "C = 0\n",
    "for i in range(n):\n",
    "    swapped = False\n",
    "    for j in range(n-1-i):\n",
    "        #print(a)\n",
    "        \n",
    "        # pick two consecutive elements.\n",
    "        # if they are not in correct order, swap \n",
    "        \n",
    "        if a[j] > a[j+1] :\n",
    "            a[j],a[j+1] = a[j+1],a[j]\n",
    "            swapped = True\n",
    "        #print(a)\n",
    "        C = C+1\n",
    "    if not swapped:\n",
    "        break\n",
    "    #C = C+1\n",
    "print(a)\n",
    "print(C)"
   ]
  },
  {
   "cell_type": "code",
   "execution_count": null,
   "id": "eaebadcf",
   "metadata": {},
   "outputs": [],
   "source": []
  },
  {
   "cell_type": "code",
   "execution_count": 8,
   "id": "6c89e5c7",
   "metadata": {},
   "outputs": [
    {
     "name": "stdout",
     "output_type": "stream",
     "text": [
      "[1, 1, 2, 2, 3, 3, 4, 4, 5, 5, 6, 9]\n",
      "iteratons: 66\n"
     ]
    }
   ],
   "source": [
    "a = [5,4,3,2,1,9,6,5,4,3,2,1]\n",
    "n = len(a)\n",
    "C = 0\n",
    "for i in range(n):\n",
    "    swapped = False\n",
    "    for j in range(n-1-i):\n",
    "        #print(a)\n",
    "        \n",
    "        # pick two consecutive elements.\n",
    "        # if they are not in correct order, swap \n",
    "        \n",
    "        if a[j] > a[j+1] :\n",
    "            a[j],a[j+1] = a[j+1],a[j]\n",
    "            swapped = True\n",
    "        #print(a)\n",
    "        C = C+1\n",
    "    if not swapped:\n",
    "        break\n",
    "    #C = C+1\n",
    "print(a)\n",
    "print(\"iteratons:\",C)"
   ]
  },
  {
   "cell_type": "code",
   "execution_count": null,
   "id": "05e82a96",
   "metadata": {},
   "outputs": [],
   "source": []
  },
  {
   "cell_type": "code",
   "execution_count": null,
   "id": "d3471649",
   "metadata": {},
   "outputs": [],
   "source": []
  },
  {
   "cell_type": "code",
   "execution_count": null,
   "id": "681de6b2",
   "metadata": {},
   "outputs": [],
   "source": []
  },
  {
   "cell_type": "code",
   "execution_count": null,
   "id": "65e5f288",
   "metadata": {},
   "outputs": [],
   "source": []
  },
  {
   "cell_type": "markdown",
   "id": "0a5ef9cb",
   "metadata": {},
   "source": [
    "# Searching\n",
    "\n",
    "###### linear search"
   ]
  },
  {
   "cell_type": "code",
   "execution_count": 81,
   "id": "d80228c5",
   "metadata": {},
   "outputs": [
    {
     "name": "stdout",
     "output_type": "stream",
     "text": [
      "Found at Index: 5\n"
     ]
    }
   ],
   "source": [
    "a = [4,1,2,5,6,7]\n",
    "n = len(a)\n",
    "key = 7\n",
    "ans = -1\n",
    "for i in range(n):\n",
    "    if a[i] == key:\n",
    "        ans = i\n",
    "        break\n",
    "if ans == -1:\n",
    "    print(\"NotFound\")\n",
    "else:\n",
    "    print(\"Found at Index:\",ans)"
   ]
  },
  {
   "cell_type": "code",
   "execution_count": 83,
   "id": "5df4070a",
   "metadata": {},
   "outputs": [
    {
     "name": "stdout",
     "output_type": "stream",
     "text": [
      "Found at Index: 10\n"
     ]
    }
   ],
   "source": [
    "a = [4,1,2,5,6,7,12,14,18,19,70,44]\n",
    "n = len(a)\n",
    "key = 70\n",
    "ans = None\n",
    "for i in range(n):\n",
    "    if a[i] == key:\n",
    "        ans = i\n",
    "        break\n",
    "if ans == None:\n",
    "    print(\"NotFound\")\n",
    "else:\n",
    "    print(\"Found at Index:\",ans)"
   ]
  },
  {
   "cell_type": "code",
   "execution_count": null,
   "id": "f74e7140",
   "metadata": {},
   "outputs": [],
   "source": [
    "# using enumerate \n"
   ]
  },
  {
   "cell_type": "code",
   "execution_count": 88,
   "id": "70e9a5fe",
   "metadata": {},
   "outputs": [
    {
     "name": "stdout",
     "output_type": "stream",
     "text": [
      "Found at Index: 10\n"
     ]
    }
   ],
   "source": [
    "ans = -1\n",
    "a = [4,1,2,5,6,7,12,14,18,19,70,44]\n",
    "\n",
    "key = 70\n",
    "\n",
    "for i,num in enumerate(a):\n",
    "    if num == key:\n",
    "        ans = i\n",
    "        break\n",
    "if ans == None:\n",
    "    print(\"NotFound\")\n",
    "else:\n",
    "    print(\"Found at Index:\",ans)"
   ]
  },
  {
   "cell_type": "markdown",
   "id": "c8d5fee5",
   "metadata": {},
   "source": [
    "Time complexity = O(n)"
   ]
  },
  {
   "cell_type": "code",
   "execution_count": null,
   "id": "04e048c3",
   "metadata": {},
   "outputs": [],
   "source": []
  },
  {
   "cell_type": "code",
   "execution_count": 7,
   "id": "fe4181ab",
   "metadata": {},
   "outputs": [
    {
     "name": "stdout",
     "output_type": "stream",
     "text": [
      "1\n",
      "5 4 3 2 1 2\n",
      "3\n",
      "1\n"
     ]
    }
   ],
   "source": [
    "def main():\n",
    "    # YOUR CODE GOES HERE\n",
    "    # Please take input and print output to standard input/output (stdin/stdout)\n",
    "    # E.g. 'input()/raw_input()' for input & 'print' for output\n",
    "    T = int(input())\n",
    "    while T > 0:\n",
    "        T -=1\n",
    "\n",
    "        A = list(map(int,input().split()))[1:]\n",
    "\n",
    "        B = int(input())\n",
    "        ans = 0\n",
    "\n",
    "        for i,num in enumerate(A):\n",
    "            if num == B:\n",
    "                ans = i+1\n",
    "                break\n",
    "        if ans >0:\n",
    "            print(1)\n",
    "        else:\n",
    "            print(0)\n",
    "\n",
    "    return 0\n",
    "\n",
    "if __name__ == '__main__':\n",
    "    main()"
   ]
  },
  {
   "cell_type": "code",
   "execution_count": null,
   "id": "41b9805e",
   "metadata": {},
   "outputs": [],
   "source": []
  },
  {
   "cell_type": "markdown",
   "id": "044d7f07",
   "metadata": {},
   "source": [
    "# Binary Search"
   ]
  },
  {
   "cell_type": "markdown",
   "id": "6e0e6b20",
   "metadata": {},
   "source": [
    "### Prerequisite:\n",
    "- Array must be sorted"
   ]
  },
  {
   "cell_type": "markdown",
   "id": "598c1aea",
   "metadata": {},
   "source": [
    "### Algorithm:\n",
    "- find the middle element and compare it with x\n",
    "- if middle element is ==x , end search , you found the element\n",
    "- if middle element is > x . searchh for x in left half\n",
    "- if middle element is < x . searchh for x in right half\n",
    "- Repeat the above steps till you find x, or till you exhaust the array "
   ]
  },
  {
   "cell_type": "markdown",
   "id": "2f5fece8",
   "metadata": {},
   "source": [
    "#### Points to remember:\n",
    "- binary search is divide and conqure technique "
   ]
  },
  {
   "cell_type": "code",
   "execution_count": null,
   "id": "52734f71",
   "metadata": {},
   "outputs": [],
   "source": [
    "# find number at index"
   ]
  },
  {
   "cell_type": "code",
   "execution_count": 18,
   "id": "f2c9f6d2",
   "metadata": {},
   "outputs": [
    {
     "name": "stdout",
     "output_type": "stream",
     "text": [
      "4\n"
     ]
    }
   ],
   "source": [
    "a = [5,4,3,2,1]\n",
    "target = 1\n",
    "\n",
    "\n",
    "n = len(a)\n",
    "\n",
    "start = 0\n",
    "end = n-1\n",
    "\n",
    "ans = -1\n",
    "\n",
    "while start <= end:\n",
    "    \n",
    "    mid = ( start + end ) // 2\n",
    "    \n",
    "    if a[mid] == target:\n",
    "        ans = mid\n",
    "        break\n",
    "        \n",
    "    elif a[mid] < target:\n",
    "        end = mid -1           #searching in left part\n",
    "    \n",
    "    elif a[mid] > target:      # optional condition \n",
    "        start = mid+1          # searching in the right part\n",
    "        \n",
    "print(ans)      \n",
    "    \n",
    "    "
   ]
  },
  {
   "cell_type": "code",
   "execution_count": null,
   "id": "4d279e75",
   "metadata": {},
   "outputs": [],
   "source": []
  },
  {
   "cell_type": "markdown",
   "id": "188a9f10",
   "metadata": {},
   "source": [
    " time complexity - O(log2n)"
   ]
  },
  {
   "cell_type": "code",
   "execution_count": 6,
   "id": "6ba93335",
   "metadata": {},
   "outputs": [
    {
     "name": "stdout",
     "output_type": "stream",
     "text": [
      "1\n"
     ]
    }
   ],
   "source": []
  },
  {
   "cell_type": "code",
   "execution_count": 23,
   "id": "ed8bc9a4",
   "metadata": {},
   "outputs": [
    {
     "name": "stdout",
     "output_type": "stream",
     "text": [
      "2\n",
      "5 5 4 3 2 1\n",
      "3\n",
      "2\n",
      "5 5 4 3 2 1\n",
      "5\n",
      "-1\n"
     ]
    }
   ],
   "source": [
    "def main():\n",
    "    # YOUR CODE GOES HERE\n",
    "    # Please take input and print output to standard input/output (stdin/stdout)\n",
    "    # E.g. 'input()/raw_input()' for input & 'print' for output\n",
    "\n",
    "    def findindexsearch(a,target):\n",
    "        \n",
    "\n",
    "\n",
    "        n = len(a)\n",
    "\n",
    "        start = 0\n",
    "        end = n-1\n",
    "\n",
    "        ans = -1\n",
    "\n",
    "        while start <= end:\n",
    "\n",
    "            mid = ( start + end ) // 2\n",
    "\n",
    "            if a[mid] == target:\n",
    "                ans = mid\n",
    "                break\n",
    "\n",
    "            elif a[mid] > target:\n",
    "                end = mid -1           #searching in left part\n",
    "\n",
    "            elif a[mid] < target:      # optional condition \n",
    "                start = mid+1          # searching in the right part\n",
    "\n",
    "        return ans\n",
    "\n",
    "\n",
    "    T = int(input())\n",
    "    while T >0:\n",
    "        T -=1\n",
    "\n",
    "        A = list(map(int,input().split()))\n",
    "        A.pop(0)\n",
    "        B= int(input())\n",
    "        \n",
    "        \n",
    "\n",
    "        print(findindexsearch(A,B))\n",
    "        \n",
    "    return 0\n",
    "\n",
    "if __name__ == '__main__':\n",
    "    main()"
   ]
  },
  {
   "cell_type": "code",
   "execution_count": null,
   "id": "178934c3",
   "metadata": {},
   "outputs": [],
   "source": []
  },
  {
   "cell_type": "code",
   "execution_count": 16,
   "id": "382929dc",
   "metadata": {},
   "outputs": [
    {
     "name": "stdout",
     "output_type": "stream",
     "text": [
      "[1, 2, 3]\n"
     ]
    }
   ],
   "source": [
    "A = [1,2,3]\n",
    "\n",
    "print(A)"
   ]
  },
  {
   "cell_type": "code",
   "execution_count": 17,
   "id": "4edfef30",
   "metadata": {},
   "outputs": [
    {
     "name": "stdout",
     "output_type": "stream",
     "text": [
      "[2, 3]\n"
     ]
    }
   ],
   "source": [
    "A.pop(0)\n",
    "print(A)"
   ]
  },
  {
   "cell_type": "markdown",
   "id": "c5fd893f",
   "metadata": {},
   "source": [
    "for given array (not sorted one) , do  a search operation \n",
    "\n",
    "1. linear seatch ---- O(n)\n",
    "\n",
    "\n",
    "\n",
    "2. sort + binarySearch ----  O(n log n) + O(log n)   \n",
    "                            = O(n log n )  base2 \n",
    "\n",
    "\n",
    "\n",
    "\n",
    "linear search is better in this case"
   ]
  },
  {
   "cell_type": "code",
   "execution_count": null,
   "id": "0de2c66d",
   "metadata": {},
   "outputs": [],
   "source": []
  },
  {
   "cell_type": "markdown",
   "id": "aef3e42a",
   "metadata": {},
   "source": [
    "##### duplicate elements  - lower bound , upper bound\n",
    "\n",
    "\n",
    "\n",
    "- lower bound : index of the first duplicate occurance\n",
    "- upper bound : index of the last duplicate occurance"
   ]
  },
  {
   "cell_type": "code",
   "execution_count": 21,
   "id": "bd88ced8",
   "metadata": {},
   "outputs": [
    {
     "name": "stdout",
     "output_type": "stream",
     "text": [
      "7\n"
     ]
    }
   ],
   "source": [
    "# for lower bound : index of the first duplicate occurance\n",
    "\n",
    "a = [1,2,2,2,2,3,4,4,4,4,4]\n",
    "\n",
    "target= 4\n",
    "\n",
    "\n",
    "n = len(a)\n",
    "\n",
    "start = 0\n",
    "end = n-1\n",
    "\n",
    "ans = -1\n",
    "\n",
    "while start <= end:\n",
    "    \n",
    "    mid = ( start + end ) // 2\n",
    "    \n",
    "    if a[mid] == target:\n",
    "        ans = mid\n",
    "        \n",
    "        end = mid -1\n",
    "        \n",
    "    elif a[mid] > target:\n",
    "        end = mid -1           \n",
    "        \n",
    "        \n",
    "    elif a[mid] < target:      \n",
    "        start = mid+1          \n",
    "        \n",
    "print(ans+1)      \n",
    "    \n"
   ]
  },
  {
   "cell_type": "code",
   "execution_count": null,
   "id": "d52e7fc7",
   "metadata": {},
   "outputs": [],
   "source": []
  },
  {
   "cell_type": "code",
   "execution_count": 100,
   "id": "1c0cb8d5",
   "metadata": {},
   "outputs": [
    {
     "name": "stdout",
     "output_type": "stream",
     "text": [
      "7\n"
     ]
    }
   ],
   "source": [
    "# for upper bound : index of the last duplicate occurance\n",
    "\n",
    "a = [1,2,2,2,2,2,2,2,3,3,3,3,4,4]\n",
    "\n",
    "target= 2\n",
    "\n",
    "\n",
    "n = len(a)\n",
    "\n",
    "start = 0\n",
    "end = n-1\n",
    "\n",
    "ans = -1\n",
    "\n",
    "while start <= end:\n",
    "    \n",
    "    mid = ( start + end ) // 2\n",
    "    \n",
    "    if a[mid] == target:\n",
    "        ans = mid\n",
    "        \n",
    "        start = mid+1 \n",
    "        \n",
    "    elif a[mid] > target:\n",
    "        end = mid -1           \n",
    "        \n",
    "        \n",
    "    elif a[mid] < target:      \n",
    "        start = mid+1          \n",
    "        \n",
    "print(ans)      \n",
    "    "
   ]
  },
  {
   "cell_type": "code",
   "execution_count": null,
   "id": "34d95176",
   "metadata": {},
   "outputs": [],
   "source": []
  },
  {
   "cell_type": "code",
   "execution_count": 42,
   "id": "9405f5f3",
   "metadata": {},
   "outputs": [],
   "source": [
    "def binaryupperboundsearch(a,target):\n",
    "\n",
    "    n = len(a)\n",
    "\n",
    "    start = 0\n",
    "    end = n-1\n",
    "\n",
    "    ans = -1\n",
    "\n",
    "    while start <= end:\n",
    "\n",
    "        mid = ( start + end ) // 2\n",
    "\n",
    "        if a[mid] == target:\n",
    "            ans = mid\n",
    "\n",
    "            start = mid+1 \n",
    "\n",
    "        elif a[mid] > target:\n",
    "            end = mid -1           \n",
    "\n",
    "\n",
    "        elif a[mid] < target:      \n",
    "            start = mid+1          \n",
    "\n",
    "    return ans"
   ]
  },
  {
   "cell_type": "code",
   "execution_count": 69,
   "id": "925821c3",
   "metadata": {},
   "outputs": [
    {
     "data": {
      "text/plain": [
       "-1"
      ]
     },
     "execution_count": 69,
     "metadata": {},
     "output_type": "execute_result"
    }
   ],
   "source": [
    "binaryupperboundsearch([1,3,8,15],5)"
   ]
  },
  {
   "cell_type": "code",
   "execution_count": 60,
   "id": "a9654a3d",
   "metadata": {},
   "outputs": [],
   "source": [
    "from itertools import accumulate \n",
    "  \n",
    "def cumulativeSum(lst): \n",
    "    return (list(accumulate(lst))) \n",
    "  \n",
    "# Driver program \n",
    "if __name__ == \"__main__\": \n",
    "    lst = [3, 4, 1, 7, 9, 1]\n",
    "    \n",
    "    cumulativeSum(lst)"
   ]
  },
  {
   "cell_type": "code",
   "execution_count": null,
   "id": "dbba831b",
   "metadata": {},
   "outputs": [],
   "source": []
  },
  {
   "cell_type": "code",
   "execution_count": null,
   "id": "9c221142",
   "metadata": {},
   "outputs": [],
   "source": []
  },
  {
   "cell_type": "code",
   "execution_count": null,
   "id": "067c8d17",
   "metadata": {},
   "outputs": [],
   "source": []
  },
  {
   "cell_type": "code",
   "execution_count": null,
   "id": "c277b003",
   "metadata": {},
   "outputs": [],
   "source": []
  },
  {
   "cell_type": "code",
   "execution_count": 23,
   "id": "2d6979a4",
   "metadata": {},
   "outputs": [
    {
     "name": "stdout",
     "output_type": "stream",
     "text": [
      "[2, 1, 2]\n"
     ]
    }
   ],
   "source": [
    "A = [3,4,4,6]\n",
    "B = [20,4,10,2]\n",
    "result = []\n",
    "\n",
    "for q in range(0,len(B)-1):\n",
    "    sum = 0\n",
    "    for i in range(0,len(A)-1):\n",
    "        sum= sum+A[i]\n",
    "        count =0\n",
    "\n",
    "        if sum > B[q]:\n",
    "            \n",
    "            result.append(i)\n",
    "            break\n",
    "            \n",
    "    if sum < B[q]:\n",
    "        result.append(i)\n",
    "print(result)"
   ]
  },
  {
   "cell_type": "code",
   "execution_count": null,
   "id": "4acb5947",
   "metadata": {},
   "outputs": [],
   "source": []
  },
  {
   "cell_type": "code",
   "execution_count": null,
   "id": "38e90bb3",
   "metadata": {},
   "outputs": [],
   "source": [
    " "
   ]
  },
  {
   "cell_type": "code",
   "execution_count": null,
   "id": "f5f0eaeb",
   "metadata": {},
   "outputs": [],
   "source": []
  },
  {
   "cell_type": "code",
   "execution_count": 17,
   "id": "3bf56e7f",
   "metadata": {},
   "outputs": [
    {
     "name": "stdout",
     "output_type": "stream",
     "text": [
      "[1]\n",
      "[1, 3]\n",
      "[1, 3, 6]\n",
      "[1, 3, 6, 10]\n",
      "[1, 3, 6, 10, 15]\n",
      "[1, 3, 6, 10, 15, 21]\n",
      "[1, 3, 6, 10, 15, 21, 28]\n",
      "[1, 3, 6, 10, 15, 21, 28, 36]\n",
      "[1, 3, 6, 10, 15, 21, 28, 36, 45]\n",
      "[1, 3, 6, 10, 15, 21, 28, 36, 45, 55]\n",
      "\n",
      "ARRAY -prefix-sum is :  [1, 3, 6, 10, 15, 21, 28, 36, 45, 55]\n"
     ]
    }
   ],
   "source": [
    "a = [1,2,3,4,5,6,7,8,9,10]\n",
    "\n",
    "prefixsum = [a[0]]\n",
    "print(prefixsum)\n",
    "for i in range(1,len(a)):\n",
    "    prefixsum.append(a[i]+prefixsum[i-1])\n",
    "    print(prefixsum)\n",
    "print()\n",
    "print(\"ARRAY -prefix-sum is : \",prefixsum)"
   ]
  },
  {
   "cell_type": "code",
   "execution_count": 10,
   "id": "50549adc",
   "metadata": {},
   "outputs": [
    {
     "data": {
      "text/plain": [
       "list"
      ]
     },
     "execution_count": 10,
     "metadata": {},
     "output_type": "execute_result"
    }
   ],
   "source": [
    "type(prefixsum)"
   ]
  },
  {
   "cell_type": "code",
   "execution_count": 18,
   "id": "5725cc3e",
   "metadata": {},
   "outputs": [
    {
     "name": "stdout",
     "output_type": "stream",
     "text": [
      "[1]\n",
      "[1, 3]\n",
      "[1, 3, 6]\n",
      "[1, 3, 6, 10]\n",
      "[1, 3, 6, 10, 15]\n",
      "[1, 3, 6, 10, 15, 21]\n",
      "[1, 3, 6, 10, 15, 21, 28]\n",
      "[1, 3, 6, 10, 15, 21, 28, 36]\n",
      "[1, 3, 6, 10, 15, 21, 28, 36, 45]\n",
      "[1, 3, 6, 10, 15, 21, 28, 36, 45, 55]\n",
      "\n",
      "ARRAY -prefix-sum is :  [1, 3, 6, 10, 15, 21, 28, 36, 45, 55]\n"
     ]
    }
   ],
   "source": [
    "a = [1,2,3,4,5,6,7,8,9,10]\n",
    "\n",
    "p = [a[0]]\n",
    "print(p)\n",
    "for i in range(1,len(a)):\n",
    "    p.append(a[i]+p[i-1])\n",
    "    print(p)\n",
    "print()\n",
    "print(\"ARRAY -prefix-sum is : \",p)"
   ]
  },
  {
   "cell_type": "code",
   "execution_count": null,
   "id": "4d4338bd",
   "metadata": {},
   "outputs": [],
   "source": []
  },
  {
   "cell_type": "code",
   "execution_count": null,
   "id": "e5bd6b09",
   "metadata": {},
   "outputs": [],
   "source": []
  },
  {
   "cell_type": "code",
   "execution_count": 21,
   "id": "edc6f51a",
   "metadata": {},
   "outputs": [],
   "source": [
    "a= [0,1, 2, 3, 4, 5, 6, 7, 8, 9, 10]\n"
   ]
  },
  {
   "cell_type": "code",
   "execution_count": 22,
   "id": "7ac4e8f9",
   "metadata": {},
   "outputs": [
    {
     "data": {
      "text/plain": [
       "[1, 2, 3, 4, 5, 6, 7, 8, 9, 10]"
      ]
     },
     "execution_count": 22,
     "metadata": {},
     "output_type": "execute_result"
    }
   ],
   "source": [
    "a[1:]"
   ]
  },
  {
   "cell_type": "code",
   "execution_count": 27,
   "id": "6c213cd9",
   "metadata": {},
   "outputs": [
    {
     "name": "stdout",
     "output_type": "stream",
     "text": [
      "5 1 2 3 4 5\n",
      "[1, 2, 3, 4, 5]\n"
     ]
    }
   ],
   "source": [
    "S = list(map(int,input().split()))[1:]\n",
    "print(S)"
   ]
  },
  {
   "cell_type": "code",
   "execution_count": null,
   "id": "96a8df9d",
   "metadata": {},
   "outputs": [],
   "source": []
  },
  {
   "cell_type": "code",
   "execution_count": null,
   "id": "d78c31d9",
   "metadata": {},
   "outputs": [],
   "source": []
  },
  {
   "cell_type": "code",
   "execution_count": null,
   "id": "382f0207",
   "metadata": {},
   "outputs": [],
   "source": []
  },
  {
   "cell_type": "code",
   "execution_count": null,
   "id": "d8007c81",
   "metadata": {},
   "outputs": [],
   "source": []
  },
  {
   "cell_type": "code",
   "execution_count": null,
   "id": "fc123e7a",
   "metadata": {},
   "outputs": [],
   "source": []
  },
  {
   "cell_type": "code",
   "execution_count": null,
   "id": "796a0a54",
   "metadata": {},
   "outputs": [],
   "source": []
  },
  {
   "cell_type": "code",
   "execution_count": 31,
   "id": "14a2fdc0",
   "metadata": {},
   "outputs": [
    {
     "name": "stdout",
     "output_type": "stream",
     "text": [
      "Element is present at index 3\n"
     ]
    }
   ],
   "source": [
    "def binary_search(arr, x):\n",
    "    low = 0\n",
    "    high = len(arr) - 1\n",
    "    mid = 0\n",
    " \n",
    "    while low <= high:\n",
    " \n",
    "        mid = (high + low) // 2\n",
    " \n",
    "        # If x is greater, ignore left half\n",
    "        if arr[mid] < x:\n",
    "            low = mid + 1\n",
    " \n",
    "        # If x is smaller, ignore right half\n",
    "        elif arr[mid] > x:\n",
    "            high = mid - 1\n",
    " \n",
    "        # means x is present at mid\n",
    "        else:\n",
    "            return mid\n",
    " \n",
    "    # If we reach here, then the element was not present\n",
    "    return -1\n",
    " \n",
    " \n",
    "# Test array\n",
    "arr = [5,4,1,5,9,1]\n",
    "x = 5\n",
    " \n",
    "# Function call\n",
    "result = binary_search(arr, x)\n",
    " \n",
    "if result != -1:\n",
    "    print(\"Element is present at index\", str(result))\n",
    "else:\n",
    "    print(\"Element is not present in array\")"
   ]
  },
  {
   "cell_type": "code",
   "execution_count": null,
   "id": "e48485b5",
   "metadata": {},
   "outputs": [],
   "source": []
  },
  {
   "cell_type": "code",
   "execution_count": null,
   "id": "730da037",
   "metadata": {},
   "outputs": [],
   "source": []
  },
  {
   "cell_type": "code",
   "execution_count": 43,
   "id": "331fdde8",
   "metadata": {},
   "outputs": [
    {
     "name": "stdout",
     "output_type": "stream",
     "text": [
      "9\n"
     ]
    }
   ],
   "source": [
    "A = [2,1,2,5,8,9,97,9,3,1]\n",
    " \n",
    "A.sort()\n",
    "if len(A)==1:\n",
    "    print(-1)\n",
    "else:\n",
    "    print(A[-2])"
   ]
  },
  {
   "cell_type": "code",
   "execution_count": null,
   "id": "e53c8351",
   "metadata": {},
   "outputs": [],
   "source": []
  },
  {
   "cell_type": "code",
   "execution_count": 51,
   "id": "59d474ee",
   "metadata": {},
   "outputs": [
    {
     "name": "stdout",
     "output_type": "stream",
     "text": [
      "index: 6\n",
      "largest: 9\n",
      "8\n"
     ]
    }
   ],
   "source": [
    "A = [2,1,2,5,8,7,9,3,1]\n",
    "n = len(A)\n",
    "largest = -1\n",
    "\n",
    "for i in range(n):\n",
    "    if A[i]>largest:\n",
    "        idx = i\n",
    "        largest = A[i]\n",
    "print(\"index:\",idx)\n",
    "print(\"largest:\",largest)\n",
    "\n",
    "slar = -1\n",
    "for x in range(n):\n",
    "    \n",
    "    if A[x]>slar and x != idx:\n",
    "        slar=A[x]\n",
    "            \n",
    "print(slar)"
   ]
  },
  {
   "cell_type": "code",
   "execution_count": null,
   "id": "1132252c",
   "metadata": {},
   "outputs": [],
   "source": []
  },
  {
   "cell_type": "code",
   "execution_count": null,
   "id": "19180f8a",
   "metadata": {},
   "outputs": [],
   "source": []
  },
  {
   "cell_type": "code",
   "execution_count": null,
   "id": "152a60a7",
   "metadata": {},
   "outputs": [],
   "source": []
  },
  {
   "cell_type": "code",
   "execution_count": null,
   "id": "557f741a",
   "metadata": {},
   "outputs": [],
   "source": []
  }
 ],
 "metadata": {
  "kernelspec": {
   "display_name": "Python 3 (ipykernel)",
   "language": "python",
   "name": "python3"
  },
  "language_info": {
   "codemirror_mode": {
    "name": "ipython",
    "version": 3
   },
   "file_extension": ".py",
   "mimetype": "text/x-python",
   "name": "python",
   "nbconvert_exporter": "python",
   "pygments_lexer": "ipython3",
   "version": "3.9.7"
  }
 },
 "nbformat": 4,
 "nbformat_minor": 5
}
