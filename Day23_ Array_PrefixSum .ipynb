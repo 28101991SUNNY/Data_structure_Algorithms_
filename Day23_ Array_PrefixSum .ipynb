{
 "cells": [
  {
   "cell_type": "markdown",
   "id": "d3a7706d",
   "metadata": {},
   "source": [
    "given an array of n integers ,\n",
    "\n",
    "muliple queries\n",
    "\n",
    "-- start index and end index is 4, 10. print sum of a[4] +...+a[10]"
   ]
  },
  {
   "cell_type": "code",
   "execution_count": 1,
   "id": "9b1cf068",
   "metadata": {},
   "outputs": [],
   "source": [
    "a= [1,3,0,-6,8,10,2,7]\n",
    "n = len(a)"
   ]
  },
  {
   "cell_type": "code",
   "execution_count": 2,
   "id": "f65ea9ad",
   "metadata": {},
   "outputs": [
    {
     "data": {
      "text/plain": [
       "[1, 3, 0, -6, 8, 10, 2, 7]"
      ]
     },
     "execution_count": 2,
     "metadata": {},
     "output_type": "execute_result"
    }
   ],
   "source": [
    "a"
   ]
  },
  {
   "cell_type": "code",
   "execution_count": 4,
   "id": "804589ef",
   "metadata": {},
   "outputs": [],
   "source": [
    "#a= [1,3,0,-6,8,10,2,7]\n",
    " #\"\" 0 1 2  3 4 5  6 7"
   ]
  },
  {
   "cell_type": "code",
   "execution_count": 7,
   "id": "553de079",
   "metadata": {},
   "outputs": [],
   "source": [
    "#Query1---- start: 0 and end : 4  :: ans : 1+3+0+(-6) = 6\n",
    "#Query2---- start: 2 and end : 6  :: ans : 0+(-6)+8+10+2 = 14\n"
   ]
  },
  {
   "cell_type": "code",
   "execution_count": null,
   "id": "105f2d14",
   "metadata": {},
   "outputs": [],
   "source": []
  },
  {
   "cell_type": "code",
   "execution_count": 15,
   "id": "d89e7822",
   "metadata": {},
   "outputs": [
    {
     "name": "stdout",
     "output_type": "stream",
     "text": [
      "enter array:1 2 3 4 5\n",
      "enter no of queries : 2\n",
      "start index:0\n",
      "end index:2\n",
      "sum of array between start and end indexes: 6\n",
      "start index:0\n",
      "end index:4\n",
      "sum of array between start and end indexes: 15\n"
     ]
    }
   ],
   "source": [
    "# brute force solution:  time complexity : O(Q*N)\n",
    "\n",
    "a = list(map(int,input(\"enter array:\").split()))\n",
    "Q = int(input(\"enter no of queries : \"))\n",
    "\n",
    "while Q>0:\n",
    "    Q -= 1\n",
    "    \n",
    "    start = int(input(\"start index:\"))\n",
    "    end = int(input(\"end index:\"))\n",
    "    \n",
    "    sum = 0\n",
    "    for i in range(start,end+1):\n",
    "        sum += a[i]\n",
    "    print(\"sum of array between start and end indexes:\",sum)\n",
    "    \n"
   ]
  },
  {
   "cell_type": "code",
   "execution_count": null,
   "id": "235a2f52",
   "metadata": {},
   "outputs": [],
   "source": []
  },
  {
   "cell_type": "markdown",
   "id": "95cda9ad",
   "metadata": {},
   "source": [
    "### creating prefix sum array"
   ]
  },
  {
   "cell_type": "code",
   "execution_count": 20,
   "id": "6cf4fbf1",
   "metadata": {},
   "outputs": [
    {
     "name": "stdout",
     "output_type": "stream",
     "text": [
      "enter array:1 2 3 4 5\n",
      "[1, 3, 6, 10, 15]\n"
     ]
    }
   ],
   "source": [
    "# time complexity  is O(n)\n",
    "# space complexity : O(n)\n",
    "\n",
    "a = list(map(int,input(\"enter array:\").split()))\n",
    "\n",
    "prefixsum = []\n",
    "sum = 0\n",
    "for i in range(len(a)):\n",
    "    sum += a[i]\n",
    "    prefixsum.append(sum)\n",
    "\n",
    "print(prefixsum)\n"
   ]
  },
  {
   "cell_type": "markdown",
   "id": "8a1ed5bd",
   "metadata": {},
   "source": [
    "## array prefix sum \n"
   ]
  },
  {
   "cell_type": "code",
   "execution_count": 2,
   "id": "c90048be",
   "metadata": {},
   "outputs": [
    {
     "name": "stdout",
     "output_type": "stream",
     "text": [
      "enter array:1 2 3 4 5 6 \n",
      "[1, 3, 6, 10, 15, 21]\n"
     ]
    }
   ],
   "source": [
    "## array prefix sum\n",
    "\n",
    "ar = list(map(int,input(\"enter array:\").split()))\n",
    "prefixsum = [ar[0]] \n",
    "# creating a prefix array (list) with 0th index fixed in it\n",
    "\n",
    "for i in range(1,len(ar)):\n",
    "    prefixsum.append(ar[i]+prefixsum[i-1])\n",
    "    # start appending input list's 1stINDEX element,\n",
    "    #                    and add it in prefixsum's last element\n",
    "print(prefixsum)\n",
    "\n"
   ]
  },
  {
   "cell_type": "code",
   "execution_count": 3,
   "id": "d02dc0b0",
   "metadata": {},
   "outputs": [
    {
     "name": "stdout",
     "output_type": "stream",
     "text": [
      "enter array:1 2 3 4 5 6\n",
      "[1]\n",
      "[1, 2, 3, 4, 5, 6]\n",
      "[1, 3]\n",
      "[1, 2, 3, 4, 5, 6]\n",
      "[1, 3, 6]\n",
      "[1, 2, 3, 4, 5, 6]\n",
      "[1, 3, 6, 10]\n",
      "[1, 2, 3, 4, 5, 6]\n",
      "[1, 3, 6, 10, 15]\n",
      "[1, 2, 3, 4, 5, 6]\n",
      "[1, 3, 6, 10, 15, 21]\n"
     ]
    }
   ],
   "source": [
    "## array prefix sum\n",
    "\n",
    "ar = list(map(int,input(\"enter array:\").split()))\n",
    "prefixsum = [ar[0]] \n",
    "\n",
    "\n",
    "for i in range(1,len(ar)):\n",
    "    print(prefixsum)\n",
    "    print(ar)\n",
    "    prefixsum.append(ar[i]+prefixsum[-1])\n",
    "    # current element of ar + last element of prefix sum\n",
    "print(prefixsum)\n",
    "\n"
   ]
  },
  {
   "cell_type": "code",
   "execution_count": 43,
   "id": "8b18bac9",
   "metadata": {},
   "outputs": [
    {
     "data": {
      "text/plain": [
       "1"
      ]
     },
     "execution_count": 43,
     "metadata": {},
     "output_type": "execute_result"
    }
   ],
   "source": [
    "prefixsum[0] # prefixsum[0] = ar[0]"
   ]
  },
  {
   "cell_type": "code",
   "execution_count": 44,
   "id": "224f7ae3",
   "metadata": {},
   "outputs": [
    {
     "data": {
      "text/plain": [
       "3"
      ]
     },
     "execution_count": 44,
     "metadata": {},
     "output_type": "execute_result"
    }
   ],
   "source": [
    "prefixsum[1] #   = prefixsum[i-1] + ar[i] = 1 + 2"
   ]
  },
  {
   "cell_type": "code",
   "execution_count": null,
   "id": "e93819b3",
   "metadata": {},
   "outputs": [],
   "source": []
  },
  {
   "cell_type": "code",
   "execution_count": 39,
   "id": "83b0dc2c",
   "metadata": {},
   "outputs": [
    {
     "data": {
      "text/plain": [
       "10"
      ]
     },
     "execution_count": 39,
     "metadata": {},
     "output_type": "execute_result"
    }
   ],
   "source": [
    "prefixsum[3] "
   ]
  },
  {
   "cell_type": "code",
   "execution_count": 41,
   "id": "c548f9d2",
   "metadata": {},
   "outputs": [
    {
     "data": {
      "text/plain": [
       "10"
      ]
     },
     "execution_count": 41,
     "metadata": {},
     "output_type": "execute_result"
    }
   ],
   "source": [
    "ar[3]+prefixsum[3-1]"
   ]
  },
  {
   "cell_type": "code",
   "execution_count": 2,
   "id": "1315ee8d",
   "metadata": {},
   "outputs": [],
   "source": [
    "# prefixsum[j] = prefisum[i-j]+ar[i]\n",
    "\n",
    "# p[j]-p[i] = a[i+1]+a[i+2]+....+a[j]"
   ]
  },
  {
   "cell_type": "code",
   "execution_count": 3,
   "id": "35a8928c",
   "metadata": {},
   "outputs": [
    {
     "name": "stdout",
     "output_type": "stream",
     "text": [
      "[1, 2, 3, 4, 5]\n",
      "[1, 3, 6, 10, 15]\n",
      "9\n"
     ]
    }
   ],
   "source": [
    "A = [ 1,2,3,4,5]\n",
    "n = len(A)\n",
    "print(A)\n",
    "pfsum = [A[0]]\n",
    "\n",
    "for i in range(1,n):\n",
    "    pfsum.append(A[i]+pfsum[i-1])\n",
    "\n",
    "print(pfsum)\n",
    "\n",
    "start = 1\n",
    "end = 3\n",
    "if start==0:\n",
    "    sum = pfsum[end]\n",
    "else:\n",
    "    sum = pfsum[end] - pfsum[start-1]\n",
    "print(sum)"
   ]
  },
  {
   "cell_type": "code",
   "execution_count": 45,
   "id": "47892481",
   "metadata": {},
   "outputs": [],
   "source": [
    "#--------------|-------------|-----------------------\n",
    "#--------------|-------------|----------------------\n",
    "#             -i             j\n",
    "#   prefix(i-1)..............prefix(j)\n",
    "\n",
    "# we want a[i]+a[i+1]+....+a[j]\n",
    "# so :\n",
    "#    we want sum(i to j both included): prefix[j]-prefix[i-1]"
   ]
  },
  {
   "cell_type": "code",
   "execution_count": null,
   "id": "bf6b4aab",
   "metadata": {},
   "outputs": [],
   "source": []
  },
  {
   "cell_type": "code",
   "execution_count": 1,
   "id": "6004a3d9",
   "metadata": {},
   "outputs": [],
   "source": [
    "# a[i]+a[i+1]+....+a[j]   =   prefix[j]-prefix[i-1]\n",
    "#       TC  O(N)                       TC O(1)\n",
    "\n",
    "\n"
   ]
  },
  {
   "cell_type": "code",
   "execution_count": null,
   "id": "1fe4ada1",
   "metadata": {},
   "outputs": [],
   "source": []
  },
  {
   "cell_type": "markdown",
   "id": "e3b0cc24",
   "metadata": {},
   "source": [
    "##### preprocessing  for a problem"
   ]
  },
  {
   "cell_type": "code",
   "execution_count": 47,
   "id": "cc698b97",
   "metadata": {},
   "outputs": [
    {
     "name": "stdout",
     "output_type": "stream",
     "text": [
      "enter array:1 2 3 4 5\n",
      "[1, 3, 6, 10, 15]\n"
     ]
    }
   ],
   "source": [
    "ar = list(map(int,input(\"enter array:\").split()))\n",
    "p = [ar[0]] \n",
    "# creating a prefix array (list) with 0th index fixed in it\n",
    "\n",
    "for x in ar[1:]:\n",
    "    p.append( p[-1] + x )    # p.append(p[i-1]+ar[i])\n",
    "                        \n",
    "print(p)\n"
   ]
  },
  {
   "cell_type": "code",
   "execution_count": 50,
   "id": "54f830fa",
   "metadata": {},
   "outputs": [
    {
     "name": "stdout",
     "output_type": "stream",
     "text": [
      "enter array:1 2 3 4 5\n",
      "[1, 3, 6, 10, 15]\n"
     ]
    }
   ],
   "source": [
    "ar = list(map(int,input(\"enter array:\").split()))\n",
    "p = [ar[0]] \n",
    "\n",
    "\n",
    "for i in range(1,len(ar)):\n",
    "    p.append(ar[i]+p[i-1])\n",
    "print(p)\n",
    "\n"
   ]
  },
  {
   "cell_type": "code",
   "execution_count": 56,
   "id": "d1144b87",
   "metadata": {},
   "outputs": [],
   "source": [
    "# both above code is same\n"
   ]
  },
  {
   "cell_type": "markdown",
   "id": "d9171838",
   "metadata": {},
   "source": [
    "given an array of n integers ,\n",
    "\n",
    "muliple queries\n",
    "\n",
    "-- start index and end index is 4, 10. print sum of a[4] +...+a[10]  --- using\n",
    "##### using prefix sum "
   ]
  },
  {
   "cell_type": "code",
   "execution_count": 55,
   "id": "c40b1f68",
   "metadata": {},
   "outputs": [
    {
     "name": "stdout",
     "output_type": "stream",
     "text": [
      "enter array:1 3 0 -6 8 10 2 7\n",
      "enter no of queries : 1\n",
      "[1, 4, 4, -2, 6, 16, 18, 25]\n",
      "start index:0\n",
      "end index:4\n",
      "sum of array between start and end indexes: 6\n"
     ]
    }
   ],
   "source": [
    "ar = list(map(int,input(\"enter array:\").split()))\n",
    "Q = int(input(\"enter no of queries : \"))\n",
    "\n",
    "p = [ar[0]] \n",
    "\n",
    "for i in range(1,len(ar)):\n",
    "    p.append(ar[i]+p[i-1])\n",
    "print(p)\n",
    "\n",
    "while Q>0:\n",
    "    Q -= 1\n",
    "    \n",
    "    start = int(input(\"start index:\"))\n",
    "    end = int(input(\"end index:\"))\n",
    "    if start == 0:\n",
    "        sum = p[end]\n",
    "    else:\n",
    "        sum = p[end]-p[start-1]\n",
    "    \n",
    "    print(\"sum of array between start and end indexes:\",sum)\n",
    "    \n",
    "## TC : preprocessing: O(N)\n",
    "            #Queries:  O(Q)\n",
    "    #otal : O(N)+O(Q)\n",
    "    # space complexity  : O(N)"
   ]
  },
  {
   "cell_type": "code",
   "execution_count": null,
   "id": "6e726cde",
   "metadata": {},
   "outputs": [],
   "source": []
  },
  {
   "cell_type": "markdown",
   "id": "387bdabd",
   "metadata": {},
   "source": [
    "# range sum query"
   ]
  },
  {
   "cell_type": "code",
   "execution_count": 8,
   "id": "b07b31b1",
   "metadata": {},
   "outputs": [],
   "source": [
    "'''You are given an integer array A of length N.\n",
    "You are also given a 2D integer array B with dimensions M x 2,\n",
    "where each row denotes a [L, R] query.\n",
    "For each query, you have to find the sum of all elements from L to R indices in A (1 - indexed).\n",
    "More formally, find A[L] + A[L + 1] + A[L + 2] +... + A[R - 1] + A[R] for each query.'''\n",
    "\n",
    "def rangeSum(A, B):\n",
    "    p = [A[0]]\n",
    "    for i in range(1,len(A)-1+1):\n",
    "        p.append(A[i]+p[i-1])\n",
    "\n",
    "    ans = []\n",
    "\n",
    "    for (start,end) in B:\n",
    "\n",
    "        if start == 1:\n",
    "            sum = p[end-1]\n",
    "        else:\n",
    "            sum = p[end-1]-p[start-2]\n",
    "        ans.append(sum)\n",
    "    return ans"
   ]
  },
  {
   "cell_type": "code",
   "execution_count": 10,
   "id": "1e46c2d0",
   "metadata": {},
   "outputs": [
    {
     "data": {
      "text/plain": [
       "[10, 5]"
      ]
     },
     "execution_count": 10,
     "metadata": {},
     "output_type": "execute_result"
    }
   ],
   "source": [
    "rangeSum([1,2,3,4,5],[[1,4],[2,3]])"
   ]
  },
  {
   "cell_type": "code",
   "execution_count": null,
   "id": "ecefbe05",
   "metadata": {},
   "outputs": [],
   "source": []
  },
  {
   "cell_type": "code",
   "execution_count": null,
   "id": "3df72fa5",
   "metadata": {},
   "outputs": [],
   "source": []
  },
  {
   "cell_type": "markdown",
   "id": "85ae077f",
   "metadata": {},
   "source": [
    "## equilibrium index : "
   ]
  },
  {
   "cell_type": "markdown",
   "id": "6c22b776",
   "metadata": {},
   "source": [
    "#### O(n*n)"
   ]
  },
  {
   "cell_type": "code",
   "execution_count": 1,
   "id": "d2bb8993",
   "metadata": {},
   "outputs": [
    {
     "data": {
      "text/plain": [
       "3"
      ]
     },
     "execution_count": 1,
     "metadata": {},
     "output_type": "execute_result"
    }
   ],
   "source": [
    "ar = [-7, 1, 5, 2, -4, 3, 0]\n",
    "\n",
    "def isequilib(ar):\n",
    "    n = len(ar)\n",
    "#     left = 0\n",
    "#     right = 0\n",
    "    for i in range(n):\n",
    "\n",
    "        left = 0\n",
    "        for j in range(i):\n",
    "            left= left+ar[j]\n",
    "\n",
    "        right = 0\n",
    "        for j in range(i+1,n):\n",
    "            right = right + ar[j]\n",
    "\n",
    "        if left == right:\n",
    "            return i\n",
    "    return -1\n",
    "\n",
    "\n",
    "isequilib(ar)"
   ]
  },
  {
   "cell_type": "markdown",
   "id": "14a94c20",
   "metadata": {},
   "source": [
    "#### using prefix sum "
   ]
  },
  {
   "cell_type": "markdown",
   "id": "db951d29",
   "metadata": {},
   "source": [
    "###### TC O(N) and SC O(N)"
   ]
  },
  {
   "cell_type": "code",
   "execution_count": 2,
   "id": "309de4b5",
   "metadata": {},
   "outputs": [
    {
     "data": {
      "text/plain": [
       "3"
      ]
     },
     "execution_count": 2,
     "metadata": {},
     "output_type": "execute_result"
    }
   ],
   "source": [
    "ar = [-7, 1, 5, 2, -4, 3, 0]\n",
    "def equilibriumindex(ar):\n",
    "    n = len(ar)\n",
    "\n",
    "    p = [ar[0]]\n",
    "    for x in ar[1:]:\n",
    "        p.append(x+p[-1])\n",
    "#     print(p)\n",
    "\n",
    "    for i in range(n):\n",
    "        left = p[i-1]\n",
    "        right = p[n-1]-p[i]     # j-i : p[j]-p[i-1] \n",
    "                          #n-1 to i+1 : p[n-1]-p[i+1-1] \n",
    "\n",
    "        if left == right:\n",
    "            return i\n",
    "    return -1\n",
    "\n",
    "equilibriumindex(ar)"
   ]
  },
  {
   "cell_type": "markdown",
   "id": "7e68a980",
   "metadata": {},
   "source": [
    "#### optimal"
   ]
  },
  {
   "cell_type": "code",
   "execution_count": 102,
   "id": "95bcbd51",
   "metadata": {},
   "outputs": [
    {
     "data": {
      "text/plain": [
       "3"
      ]
     },
     "execution_count": 102,
     "metadata": {},
     "output_type": "execute_result"
    }
   ],
   "source": [
    "ar = [-7, 1, 5, 2, -4, 3, 0]\n",
    "def equilibriumindex(ar):\n",
    "    n = len(ar)\n",
    "    \n",
    "    #accumulate total of array\n",
    "    total = 0\n",
    "    for i in ar:\n",
    "        total += i\n",
    "    \n",
    "    left = 0\n",
    "    for i in range(n):\n",
    "        \n",
    "        right = total - left - ar[i]\n",
    "        \n",
    "        if left == right:\n",
    "            return i\n",
    "        \n",
    "        left += ar[i]\n",
    "        \n",
    "    return -1\n",
    "\n",
    "equilibriumindex(ar)\n"
   ]
  },
  {
   "cell_type": "code",
   "execution_count": 2,
   "id": "3b4e1ac6",
   "metadata": {},
   "outputs": [
    {
     "name": "stdout",
     "output_type": "stream",
     "text": [
      "3\n"
     ]
    }
   ],
   "source": [
    "A = [-7, 1, 5, 2, -4, 3]\n",
    "n = len(A)\n",
    "\n",
    "total = 0\n",
    "for i in A:\n",
    "    total += i\n",
    "\n",
    "left = 0\n",
    "for i in range(n):\n",
    "    \n",
    "    if total == 2*left+A[i]:\n",
    "        print(i)\n",
    "    left += A[i]"
   ]
  },
  {
   "cell_type": "code",
   "execution_count": null,
   "id": "2a91902f",
   "metadata": {},
   "outputs": [],
   "source": []
  },
  {
   "cell_type": "code",
   "execution_count": null,
   "id": "0c5d8aa7",
   "metadata": {},
   "outputs": [],
   "source": []
  },
  {
   "cell_type": "code",
   "execution_count": null,
   "id": "e54ebdf4",
   "metadata": {},
   "outputs": [],
   "source": []
  },
  {
   "cell_type": "code",
   "execution_count": null,
   "id": "3ad1b799",
   "metadata": {},
   "outputs": [],
   "source": [
    "# prefixsum[j] = prefisum[i-j]+ar[i]\n",
    "\n",
    "# p[j]-p[i] = a[i+1]+a[i+2]+....+a[j]"
   ]
  },
  {
   "cell_type": "code",
   "execution_count": 284,
   "id": "bb7dff19",
   "metadata": {},
   "outputs": [
    {
     "name": "stdout",
     "output_type": "stream",
     "text": [
      "[1, 3, 6, 10, 15]\n"
     ]
    }
   ],
   "source": [
    "A = [1,2,3,4,5]\n",
    "\n",
    "p = [A[0]] \n",
    "\n",
    "for x in A[1:]:\n",
    "    p.append(p[-1] + x )    # p.append(p[i-1]+ar[i])\n",
    "            \n",
    "print(p)\n",
    "\n",
    "\n",
    "# prefixsum[j] = prefisum[i-j]+ar[i]\n",
    "\n",
    "# p[j]-p[i] = a[i+1]+a[i+2]+....+a[j]"
   ]
  },
  {
   "cell_type": "code",
   "execution_count": null,
   "id": "c0ba30ad",
   "metadata": {},
   "outputs": [],
   "source": [
    "#--------------|-------------|-----------------------\n",
    "#--------------|-------------|----------------------\n",
    "#             i             j\n",
    "#   prefix(i-1)..............prefix(j)\n",
    "\n",
    "# we want a[i]+a[i+1]+....+a[j]\n",
    "# so :\n",
    "#    we want : prefix[j]-prefix[i-1]"
   ]
  },
  {
   "cell_type": "code",
   "execution_count": null,
   "id": "5771159c",
   "metadata": {},
   "outputs": [],
   "source": [
    "'''start = int(input(\"start index:\"))\n",
    "    end = int(input(\"end index:\"))\n",
    "    if start == 0:\n",
    "        sum = p[end]\n",
    "    else:\n",
    "        sum = p[end]-p[start-1]\n",
    "   ''' "
   ]
  },
  {
   "cell_type": "code",
   "execution_count": null,
   "id": "e8892574",
   "metadata": {},
   "outputs": [],
   "source": []
  },
  {
   "cell_type": "code",
   "execution_count": null,
   "id": "6e24cf30",
   "metadata": {},
   "outputs": [],
   "source": []
  },
  {
   "cell_type": "code",
   "execution_count": null,
   "id": "9e93b3c1",
   "metadata": {},
   "outputs": [],
   "source": []
  },
  {
   "cell_type": "code",
   "execution_count": null,
   "id": "bf52be2a",
   "metadata": {},
   "outputs": [],
   "source": []
  },
  {
   "cell_type": "code",
   "execution_count": null,
   "id": "1b2b39f8",
   "metadata": {},
   "outputs": [],
   "source": []
  },
  {
   "cell_type": "code",
   "execution_count": null,
   "id": "ee5f2204",
   "metadata": {},
   "outputs": [],
   "source": []
  },
  {
   "cell_type": "code",
   "execution_count": null,
   "id": "3ada43aa",
   "metadata": {},
   "outputs": [],
   "source": []
  },
  {
   "cell_type": "code",
   "execution_count": null,
   "id": "431b7b02",
   "metadata": {},
   "outputs": [],
   "source": []
  },
  {
   "cell_type": "code",
   "execution_count": null,
   "id": "f2a41f59",
   "metadata": {},
   "outputs": [],
   "source": []
  },
  {
   "cell_type": "markdown",
   "id": "cd5da95a",
   "metadata": {},
   "source": [
    "# Q2. Count ways to make sum of odd and even indexed elements equal by removing an array element\n",
    "\n",
    "Given an array, arr[] of size N, the task is to find the count of array indices such that removing an element from these indices makes the sum of even-indexed and odd-indexed array elements equal.\n",
    "\n"
   ]
  },
  {
   "cell_type": "code",
   "execution_count": 12,
   "id": "6dc836ab",
   "metadata": {},
   "outputs": [],
   "source": [
    "def sum_of_oddeven_index_element_equal(A):\n",
    "\n",
    "    n = len(A)\n",
    "\n",
    "    count = 0\n",
    "\n",
    "    for i in range(n):\n",
    "        Ar = A[:]\n",
    "        Ar.pop(i)\n",
    "\n",
    "        oddsum = 0\n",
    "        evensum = 0\n",
    "        for x in range(len(Ar)):\n",
    "            if x % 2 != 0:\n",
    "                oddsum += Ar[x]\n",
    "\n",
    "            if x % 2 == 0:\n",
    "                evensum += Ar[x]\n",
    "\n",
    "        if oddsum  == evensum:\n",
    "            count += 1\n",
    "\n",
    "    return (count)"
   ]
  },
  {
   "cell_type": "code",
   "execution_count": 13,
   "id": "77bea460",
   "metadata": {},
   "outputs": [
    {
     "data": {
      "text/plain": [
       "1"
      ]
     },
     "execution_count": 13,
     "metadata": {},
     "output_type": "execute_result"
    }
   ],
   "source": [
    "sum_of_oddeven_index_element_equal([2,1,6,4,8,3,0,5])"
   ]
  },
  {
   "cell_type": "code",
   "execution_count": 40,
   "id": "6a7cdf4d",
   "metadata": {},
   "outputs": [
    {
     "name": "stdout",
     "output_type": "stream",
     "text": [
      "[0, 1, 1, 5, 5, 8, 8, 13]\n",
      "[2, 2, 8, 8, 16, 16, 16, 16]\n",
      "1\n"
     ]
    }
   ],
   "source": [
    "A = [2,1,6,4,8,3,0,5]\n",
    "\n",
    "  #  0 1 2 3 4 5 6 7\n",
    "#newarray after removing oth element\n",
    "#    1 6 4 8 3 0 5 \n",
    "\n",
    "\n",
    "# 0---------[i-1][i][i+1]---------[n-1]\n",
    "# 0---------[i-1][i]-----------[n-2]\n",
    "\n",
    "# after removing i\n",
    "# values remain same, but indices  changes\n",
    "\n",
    "n = len(A)                \n",
    "\n",
    "oddprefix = [0]*n\n",
    "evenprefix = [0]*n\n",
    "\n",
    "sum = 0\n",
    "for i in range(n):\n",
    "    if i%2 != 0:\n",
    "         sum += A[i]\n",
    "    oddprefix[i] = sum\n",
    "print(oddprefix)\n",
    "\n",
    "sum = 0\n",
    "for i in range(n):\n",
    "    if i%2 == 0:\n",
    "        sum += A[i]\n",
    "    evenprefix[i] = sum\n",
    "print(evenprefix)\n",
    "        \n",
    "\n",
    "count = 0\n",
    "\n",
    "for i in range(n):\n",
    "    evensum = evenprefix[i-1] + oddprefix[n-1]-oddprefix[i+1-1]\n",
    "    oddsum  = oddprefix[i-1] + evenprefix[n-1]-evenprefix[i+1-1]\n",
    "    \n",
    "    if oddsum == evensum:\n",
    "        count +=1\n",
    "print(count)"
   ]
  },
  {
   "cell_type": "code",
   "execution_count": null,
   "id": "32ce20a3",
   "metadata": {},
   "outputs": [],
   "source": []
  },
  {
   "cell_type": "code",
   "execution_count": null,
   "id": "499dc38e",
   "metadata": {},
   "outputs": [],
   "source": []
  },
  {
   "cell_type": "code",
   "execution_count": null,
   "id": "9c9417bf",
   "metadata": {},
   "outputs": [],
   "source": []
  },
  {
   "cell_type": "code",
   "execution_count": null,
   "id": "9eff272a",
   "metadata": {},
   "outputs": [],
   "source": []
  },
  {
   "cell_type": "code",
   "execution_count": null,
   "id": "32e4a6d4",
   "metadata": {},
   "outputs": [],
   "source": []
  },
  {
   "cell_type": "markdown",
   "id": "5d17adaa",
   "metadata": {},
   "source": [
    "# You are given an integer array A of size N.\n",
    "\n",
    "# You can pick B elements from either left or right end of array A to get the maximum sum.\n",
    "\n",
    "# Find and return this maximum possible sum.\n",
    "\n",
    "NOTE: Suppose B = 4, and array A contains 10 elements, then\n",
    "\n",
    "# You can pick the first four elements or can pick the last four elements, or can pick 1 from front and 3 from the back, etc. You need to return the maximum possible sum of elements you can pick.\n",
    "\n",
    "# pick from both sides"
   ]
  },
  {
   "cell_type": "raw",
   "id": "1d6d71be",
   "metadata": {},
   "source": [
    "B = 5\n",
    "7 , 2, 1,-3, 2, 8,10, 6, 5,-1, 0\n",
    "\n",
    "1   2  3  4  5------------------   sum = 7         \n",
    "1   2  3  4--------------------5         4\n",
    "1   2  3--------------------4  5         7\n",
    "1   2--------------------3  4  5         11\n",
    "1---------------------2  3  4  5         17\n",
    "----------------1  2  3  4  5  5         20    : ans \n",
    "\n",
    "\n",
    "    if we pick 3 ele from lefr, we need 2 from right\n",
    "    if        4                         1 \n",
    "    etc   \n",
    "    \n"
   ]
  },
  {
   "cell_type": "code",
   "execution_count": 20,
   "id": "28566591",
   "metadata": {},
   "outputs": [],
   "source": [
    "# brute force"
   ]
  },
  {
   "cell_type": "code",
   "execution_count": 21,
   "id": "a82a03ab",
   "metadata": {},
   "outputs": [
    {
     "name": "stdout",
     "output_type": "stream",
     "text": [
      "8\n"
     ]
    }
   ],
   "source": [
    "A = [5, -2, 3 , 1, 2]\n",
    "\n",
    "\n",
    "B = 3\n",
    "n = len(A)\n",
    "\n",
    "maxm = -float('inf')\n",
    "\n",
    "for leftpick in range(B):\n",
    "    rightpick = B-leftpick\n",
    "    \n",
    "    leftsum = 0\n",
    "    rightsum = 0\n",
    "    for i in range(leftpick):\n",
    "        leftsum += A[i]\n",
    "    for i in range(n-rightpick,n):\n",
    "        rightsum += A[i]\n",
    "    \n",
    "    total = leftsum + rightsum\n",
    "    if total > maxm:\n",
    "        maxm = total\n",
    "print(maxm)"
   ]
  },
  {
   "cell_type": "code",
   "execution_count": 22,
   "id": "72fd76f6",
   "metadata": {},
   "outputs": [],
   "source": [
    " # using prefix sum"
   ]
  },
  {
   "cell_type": "code",
   "execution_count": 23,
   "id": "91e859d0",
   "metadata": {},
   "outputs": [
    {
     "name": "stdout",
     "output_type": "stream",
     "text": [
      "8\n"
     ]
    }
   ],
   "source": [
    "A = [5, -2, 3 , 1, 2]\n",
    "maxm = -float('inf')\n",
    "\n",
    "\n",
    "B = 3\n",
    "n = len(A)\n",
    "p = [A[0]]\n",
    "for x in A[1:]:\n",
    "    p.append(x+p[-1])\n",
    "\n",
    "for L in range(B):\n",
    "    R = B-L\n",
    "    \n",
    "    if L == 0:\n",
    "        leftsum = 0\n",
    "    else:\n",
    "        leftsum = p[L-1]      # 0 to L-1\n",
    "        \n",
    "    if n-R == 0:\n",
    "        rightsum = p[n-1]\n",
    "    else:\n",
    "        rightsum = p[n-1]-p[n-R-1]   # n-R to n-1 \n",
    "    \n",
    "    total = leftsum + rightsum\n",
    "    \n",
    "    if total > maxm:\n",
    "        maxm = total\n",
    "print(maxm)"
   ]
  },
  {
   "cell_type": "code",
   "execution_count": 24,
   "id": "573215d4",
   "metadata": {},
   "outputs": [],
   "source": [
    "# \n"
   ]
  },
  {
   "cell_type": "code",
   "execution_count": 38,
   "id": "00b5cadb",
   "metadata": {},
   "outputs": [
    {
     "name": "stdout",
     "output_type": "stream",
     "text": [
      "9\n"
     ]
    }
   ],
   "source": [
    "A = [5, -2, 3 , 1, 2]\n",
    "B = 5\n",
    "n = len(A)\n",
    "maximum = 0\n",
    "\n",
    "total = 0\n",
    "for i in range(B):\n",
    "    total += A[i]\n",
    "\n",
    "maximum = total\n",
    "\n",
    "t = n-1\n",
    "for i in range(B-1,-1,-1):\n",
    "\n",
    "    total = total +  A[t]-A[i]\n",
    "#     print(total,  A[t], A[i])    \n",
    "    maximum = max(total,maximum)\n",
    "    t = t-1\n",
    "    \n",
    "#    print()\n",
    "print(maximum)\n",
    "    \n",
    "    \n"
   ]
  },
  {
   "cell_type": "code",
   "execution_count": 39,
   "id": "555224da",
   "metadata": {},
   "outputs": [
    {
     "name": "stdout",
     "output_type": "stream",
     "text": [
      "7\n"
     ]
    }
   ],
   "source": []
  },
  {
   "cell_type": "code",
   "execution_count": null,
   "id": "2d5fe140",
   "metadata": {},
   "outputs": [],
   "source": []
  },
  {
   "cell_type": "code",
   "execution_count": null,
   "id": "3be999ae",
   "metadata": {},
   "outputs": [],
   "source": []
  },
  {
   "cell_type": "code",
   "execution_count": null,
   "id": "218070ec",
   "metadata": {},
   "outputs": [],
   "source": []
  },
  {
   "cell_type": "code",
   "execution_count": null,
   "id": "b2364462",
   "metadata": {},
   "outputs": [],
   "source": []
  },
  {
   "cell_type": "markdown",
   "id": "40dfb7fc",
   "metadata": {},
   "source": [
    "# taking array inputs"
   ]
  },
  {
   "cell_type": "markdown",
   "id": "1d5a1cc7",
   "metadata": {},
   "source": [
    " # 1"
   ]
  },
  {
   "cell_type": "code",
   "execution_count": 103,
   "id": "72ce15f0",
   "metadata": {},
   "outputs": [
    {
     "name": "stdout",
     "output_type": "stream",
     "text": [
      "5\n",
      "1\n",
      "2\n",
      "3\n",
      "4\n",
      "5\n",
      "[1, 2, 3, 4, 5]\n"
     ]
    }
   ],
   "source": [
    "n = int(input())\n",
    "ar = []\n",
    "for i in range(n):\n",
    "    x = int(input())\n",
    "    ar.append(x)\n",
    "print(ar)"
   ]
  },
  {
   "cell_type": "code",
   "execution_count": null,
   "id": "e1df2f23",
   "metadata": {},
   "outputs": [],
   "source": []
  },
  {
   "cell_type": "markdown",
   "id": "0789087b",
   "metadata": {},
   "source": [
    "# 2"
   ]
  },
  {
   "cell_type": "code",
   "execution_count": 104,
   "id": "4dc77504",
   "metadata": {},
   "outputs": [
    {
     "name": "stdout",
     "output_type": "stream",
     "text": [
      "1 2 3 4 5\n"
     ]
    }
   ],
   "source": [
    "ar = input()"
   ]
  },
  {
   "cell_type": "code",
   "execution_count": 105,
   "id": "2913b024",
   "metadata": {},
   "outputs": [
    {
     "data": {
      "text/plain": [
       "'1 2 3 4 5'"
      ]
     },
     "execution_count": 105,
     "metadata": {},
     "output_type": "execute_result"
    }
   ],
   "source": [
    "ar"
   ]
  },
  {
   "cell_type": "code",
   "execution_count": 109,
   "id": "621e0e0e",
   "metadata": {},
   "outputs": [
    {
     "name": "stdout",
     "output_type": "stream",
     "text": [
      "1 2 3 4 5\n",
      "['1', '2', '3', '4', '5']\n",
      "\n",
      "[1, 2, 3, 4, 5]\n"
     ]
    }
   ],
   "source": [
    "ar = input().split()\n",
    "print(ar)\n",
    "print()\n",
    "for i in range(len(ar)):\n",
    "    ar[i] = int(ar[i])\n",
    "print(ar)"
   ]
  },
  {
   "cell_type": "code",
   "execution_count": null,
   "id": "7ac4909a",
   "metadata": {},
   "outputs": [],
   "source": []
  },
  {
   "cell_type": "code",
   "execution_count": 110,
   "id": "ab671c72",
   "metadata": {},
   "outputs": [
    {
     "name": "stdout",
     "output_type": "stream",
     "text": [
      "5 1 2 3 4 5\n",
      "['5', '1', '2', '3', '4', '5']\n",
      "\n",
      "[5, 1, 2, 3, 4, 5]\n"
     ]
    }
   ],
   "source": [
    "ar = input().split()\n",
    "print(ar)\n",
    "print()\n",
    "for i in range(len(ar)):\n",
    "    ar[i] = int(ar[i])\n",
    "print(ar)"
   ]
  },
  {
   "cell_type": "code",
   "execution_count": 113,
   "id": "881a92e9",
   "metadata": {},
   "outputs": [
    {
     "name": "stdout",
     "output_type": "stream",
     "text": [
      "5 1 2 3 4 5\n",
      "['5', '1', '2', '3', '4', '5']\n",
      "\n",
      "[5, 1, 2, 3, 4, 5]\n",
      "\n",
      "length: 5\n",
      "[1, 2, 3, 4, 5]\n"
     ]
    }
   ],
   "source": [
    "ar = input().split()\n",
    "print(ar)\n",
    "print()\n",
    "for i in range(len(ar)):\n",
    "    ar[i] = int(ar[i])\n",
    "print(ar)\n",
    "print()\n",
    "n = ar[0]\n",
    "print(\"length:\",n)\n",
    "ar = ar[1:]\n",
    "print(ar)"
   ]
  },
  {
   "cell_type": "code",
   "execution_count": null,
   "id": "9dc95d1a",
   "metadata": {},
   "outputs": [],
   "source": []
  },
  {
   "cell_type": "code",
   "execution_count": 121,
   "id": "82c21fae",
   "metadata": {},
   "outputs": [
    {
     "name": "stdout",
     "output_type": "stream",
     "text": [
      "5 1 2 3 4 5\n",
      "5\n",
      "[1, 2, 3, 4, 5]\n"
     ]
    }
   ],
   "source": [
    "ar = list(map(int,input().split()))\n",
    "print(ar[0])\n",
    "ar= ar[1:]\n",
    "print(ar)"
   ]
  },
  {
   "cell_type": "code",
   "execution_count": null,
   "id": "2d8c80ed",
   "metadata": {},
   "outputs": [],
   "source": []
  },
  {
   "cell_type": "code",
   "execution_count": null,
   "id": "c081dbf6",
   "metadata": {},
   "outputs": [],
   "source": []
  },
  {
   "cell_type": "code",
   "execution_count": 268,
   "id": "9eeba344",
   "metadata": {},
   "outputs": [
    {
     "name": "stdout",
     "output_type": "stream",
     "text": [
      "[2, 4]\n"
     ]
    }
   ],
   "source": [
    "ar =[2,2,2]\n",
    "Q = [[1,1],[2,3]]\n",
    "\n",
    "nquery = len(Q) #2\n",
    "\n",
    "result = []\n",
    "for i in range(nquery):  # 0 , 1 \n",
    "   \n",
    "    for _ in Q:\n",
    "        start = Q[i][0]-1\n",
    "        end = Q[i][1]-1\n",
    "        sum = 0\n",
    "        for x in range(start,end+1):\n",
    "            sum = sum + ar[x]\n",
    "    result.append(sum)\n",
    "print(result)\n",
    "    \n"
   ]
  },
  {
   "cell_type": "code",
   "execution_count": 1,
   "id": "f75d7a38",
   "metadata": {},
   "outputs": [
    {
     "name": "stdout",
     "output_type": "stream",
     "text": [
      "[1, 3, 6, 10, 15]\n"
     ]
    }
   ],
   "source": [
    "A = [1,2,3,4,5]\n",
    "\n",
    "p = [A[0]] \n",
    "\n",
    "for x in A[1:]:\n",
    "    p.append(p[-1] + x )    # p.append(p[i-1]+ar[i])\n",
    "            \n",
    "print(p)\n",
    "\n",
    "#--------------|-------------|-----------------------\n",
    "#--------------|-------------|----------------------\n",
    "#             i             j\n",
    "#   prefix(i-1)..............prefix(j)\n",
    "\n",
    "# we want a[i]+a[i+1]+....+a[j]\n",
    "# so :\n",
    "#    we want : prefix[j]-prefix[i-1]\n",
    "# prefixsum[j] = prefisum[i-j]+ar[i]\n",
    "\n",
    "# p[j]-p[i] = a[i+1]+a[i+2]+....+a[j]"
   ]
  },
  {
   "cell_type": "code",
   "execution_count": 2,
   "id": "4a71ea9b",
   "metadata": {},
   "outputs": [],
   "source": [
    "def rangeSum(A, B):\n",
    "    result = []\n",
    "    for i in range(len(B)):\n",
    "        digit = 0\n",
    "        for j in range(B[i][0]-1,B[i][1]):\n",
    "            digit += A[j]\n",
    "        result.append(digit)\n",
    "    return result"
   ]
  },
  {
   "cell_type": "code",
   "execution_count": 3,
   "id": "7fb61dad",
   "metadata": {},
   "outputs": [
    {
     "data": {
      "text/plain": [
       "[10, 5]"
      ]
     },
     "execution_count": 3,
     "metadata": {},
     "output_type": "execute_result"
    }
   ],
   "source": [
    "rangeSum([1,2,3,4,5],[[1,4],[2,3]])"
   ]
  },
  {
   "cell_type": "code",
   "execution_count": 7,
   "id": "a7cc3935",
   "metadata": {},
   "outputs": [
    {
     "name": "stdout",
     "output_type": "stream",
     "text": [
      "1 4\n",
      "2 3\n"
     ]
    }
   ],
   "source": [
    "\n",
    "\n",
    "\n",
    "\n",
    "for (start,end) in B:\n",
    "    print(start,end)\n",
    "    \n"
   ]
  },
  {
   "cell_type": "code",
   "execution_count": 11,
   "id": "65bb5847",
   "metadata": {},
   "outputs": [
    {
     "name": "stdout",
     "output_type": "stream",
     "text": [
      "3\n",
      "7\n"
     ]
    }
   ],
   "source": [
    "B = [[1,2,3,4],\n",
    "     [5,6,7,8]]\n",
    "for a,b,c,d in B:\n",
    "    print(c)"
   ]
  },
  {
   "cell_type": "code",
   "execution_count": 17,
   "id": "f22c0ea6",
   "metadata": {},
   "outputs": [
    {
     "name": "stdout",
     "output_type": "stream",
     "text": [
      "1\n"
     ]
    }
   ],
   "source": [
    "'''\n",
    "Q2. Count ways to make sum of odd and\n",
    "even indexed elements equal by removing an array element '''\n",
    "\n",
    "\n",
    "A = [ 1, 2, 3, 4, 5, 6, 13, 1, 2, 3, 4, 5, 6 ]\n",
    "\n",
    "n = len(A)\n",
    "count = 0\n",
    "for _ in range(n):\n",
    "    \n",
    "    templist = A[:]\n",
    "    templist.pop(_)\n",
    "    odd = 0\n",
    "    even = 0\n",
    "    n = len(templist)\n",
    "    for i in range(0,n):\n",
    "        if i %2 == 0:\n",
    "            even = even + templist[i]\n",
    "        else:\n",
    "            odd = odd + templist[i]\n",
    "        if odd == even:\n",
    "            count += 1\n",
    "print(count)\n",
    "    "
   ]
  },
  {
   "cell_type": "code",
   "execution_count": 16,
   "id": "175410d4",
   "metadata": {},
   "outputs": [],
   "source": [
    "Ax = [1,2,3]\n"
   ]
  },
  {
   "cell_type": "code",
   "execution_count": null,
   "id": "21f51e21",
   "metadata": {},
   "outputs": [],
   "source": []
  },
  {
   "cell_type": "code",
   "execution_count": null,
   "id": "fa40b711",
   "metadata": {},
   "outputs": [],
   "source": []
  },
  {
   "cell_type": "code",
   "execution_count": null,
   "id": "0925687e",
   "metadata": {},
   "outputs": [],
   "source": []
  },
  {
   "cell_type": "code",
   "execution_count": 17,
   "id": "59a48cb5",
   "metadata": {},
   "outputs": [
    {
     "data": {
      "text/plain": [
       "[1, 2, 3]"
      ]
     },
     "execution_count": 17,
     "metadata": {},
     "output_type": "execute_result"
    }
   ],
   "source": [
    "Ax[:]"
   ]
  },
  {
   "cell_type": "code",
   "execution_count": 18,
   "id": "f75d1d1f",
   "metadata": {},
   "outputs": [
    {
     "name": "stdout",
     "output_type": "stream",
     "text": [
      "[1, 3]\n"
     ]
    }
   ],
   "source": [
    "Ax.remove(2)\n",
    "print(Ax)"
   ]
  },
  {
   "cell_type": "markdown",
   "id": "d77a9e6a",
   "metadata": {},
   "source": [
    "# END END END END END END END END END END END "
   ]
  },
  {
   "cell_type": "code",
   "execution_count": null,
   "id": "b01a97d3",
   "metadata": {},
   "outputs": [],
   "source": []
  },
  {
   "cell_type": "code",
   "execution_count": 19,
   "id": "1d71a7ea",
   "metadata": {},
   "outputs": [],
   "source": [
    "# '''\n",
    "# Given an array of size n containing equal number of odd and even numbers. \n",
    "# The problem is to arrange the numbers in such a way that all \n",
    "# the even numbers get the even index and odd numbers get the odd index. \n",
    "# Required auxiliary space is O(1).''' \n",
    "# # Python3 implementation to\n",
    "# # arrange odd and even numbers\n",
    "  \n",
    "# def arrangeOddAndEven(arr,  n):\n",
    "      \n",
    "#     oddInd = 1\n",
    "#     evenInd = 0\n",
    "#     while (True):\n",
    "          \n",
    "#         while (evenInd < n and arr[evenInd] % 2 == 0):\n",
    "#             evenInd += 2\n",
    "               \n",
    "#         while (oddInd < n and arr[oddInd] % 2 == 1):\n",
    "#             oddInd += 2\n",
    "               \n",
    "#         if (evenInd < n and oddInd < n):\n",
    "#             arr[oddInd],arr[evenInd]=arr[evenInd],arr[oddInd]\n",
    "#         else:\n",
    "#             break\n",
    "            \n",
    "# def printArray(arr,  n):\n",
    "#     for i in range(0,n):\n",
    "#         print(arr[i] , \"\",end=\"\")\n",
    "  \n",
    "       \n",
    "\n",
    "# def main():\n",
    "#     arr = [ 3, 6, 12, 1, 5, 8 ]\n",
    "#     n = 6\n",
    "   \n",
    "#     print(\"Original Array: \",end=\"\")\n",
    "#     printArray(arr, n)\n",
    "   \n",
    "#     arrangeOddAndEven(arr, n)\n",
    "   \n",
    "#     print(\"\\nModified Array: \",end=\"\")\n",
    "#     printArray(arr, n)\n",
    "      \n",
    "# if __name__ == '__main__':\n",
    "#     main()\n"
   ]
  },
  {
   "cell_type": "code",
   "execution_count": null,
   "id": "60b5b2b1",
   "metadata": {},
   "outputs": [],
   "source": []
  },
  {
   "cell_type": "code",
   "execution_count": null,
   "id": "0e70ac79",
   "metadata": {},
   "outputs": [],
   "source": []
  },
  {
   "cell_type": "code",
   "execution_count": null,
   "id": "4547ed0c",
   "metadata": {},
   "outputs": [],
   "source": []
  },
  {
   "cell_type": "code",
   "execution_count": null,
   "id": "30a524d6",
   "metadata": {},
   "outputs": [],
   "source": []
  },
  {
   "cell_type": "code",
   "execution_count": null,
   "id": "f2cec5cc",
   "metadata": {},
   "outputs": [],
   "source": []
  },
  {
   "cell_type": "markdown",
   "id": "2230210d",
   "metadata": {},
   "source": [
    "# Q1. Little Ponny and Mobile Phones\n"
   ]
  },
  {
   "cell_type": "raw",
   "id": "a776601f",
   "metadata": {},
   "source": [
    "\n",
    "Little pony is going to buy some mobile phones for his friends. As there many models available in the market at different prices, He is confused and wants to know the maximum distinct models of a mobile phone he can buy for his friends, given that he has a total X amount of money.\n",
    "\n",
    "You are given an array A of size N. denoting the size of prices of different models. The array is sorted based on prices in increasing order. You are given another array B of size Q denoting the queries. In i'th query, you need to tell the maximum distinct models of mobile phones he can buy with B[i] money."
   ]
  },
  {
   "cell_type": "code",
   "execution_count": 367,
   "id": "b31b3f6a",
   "metadata": {},
   "outputs": [],
   "source": [
    "A= [3, 4, 4, 6]\n",
    "B= [20, 4, 10, 2]\n",
    "\n",
    "def indextoget(i,C):\n",
    "    low =1\n",
    "    high = len(C)\n",
    "    index = 0\n",
    "    while low<=high:\n",
    "        mid = (high+low)//2\n",
    "        if C[mid-1]>i:\n",
    "            high = mid-1\n",
    "        else:\n",
    "            low = mid+1\n",
    "            index = mid\n",
    "    return index"
   ]
  },
  {
   "cell_type": "code",
   "execution_count": 370,
   "id": "0427d5a4",
   "metadata": {},
   "outputs": [
    {
     "data": {
      "text/plain": [
       "2"
      ]
     },
     "execution_count": 370,
     "metadata": {},
     "output_type": "execute_result"
    }
   ],
   "source": [
    "indextoget(2,[1,2,3,4,5])"
   ]
  },
  {
   "cell_type": "code",
   "execution_count": 375,
   "id": "5d5a40d4",
   "metadata": {},
   "outputs": [
    {
     "name": "stdout",
     "output_type": "stream",
     "text": [
      "3\n",
      "7\n",
      "11\n",
      "17\n",
      "[3, 7, 11, 17]\n",
      "[4, 1, 2, 0]\n",
      "\n"
     ]
    }
   ],
   "source": [
    " "
   ]
  },
  {
   "cell_type": "code",
   "execution_count": 379,
   "id": "03a616d9",
   "metadata": {},
   "outputs": [
    {
     "name": "stdout",
     "output_type": "stream",
     "text": [
      "0\n"
     ]
    }
   ],
   "source": [
    "print(indextoget(2,[3, 7, 11, 17]))"
   ]
  },
  {
   "cell_type": "code",
   "execution_count": null,
   "id": "52a3ad41",
   "metadata": {},
   "outputs": [],
   "source": []
  },
  {
   "cell_type": "code",
   "execution_count": 390,
   "id": "0b5b04d1",
   "metadata": {},
   "outputs": [
    {
     "name": "stdout",
     "output_type": "stream",
     "text": [
      "mid: 2\n",
      "low: 3\n",
      "mid: 3\n",
      "low: 4\n",
      "mid: 4\n",
      "low: 5\n",
      "4\n"
     ]
    }
   ],
   "source": [
    "C=[3, 7, 11, 17]\n",
    "i= 20\n",
    "low =1\n",
    "\n",
    "\n",
    "high = len(C)\n",
    "\n",
    "index = 0\n",
    "\n",
    "\n",
    "while low<=high:\n",
    "    mid = (high+low)//2\n",
    "    print(\"mid:\",mid)\n",
    "    \n",
    "    if C[mid-1] > i:\n",
    "        high = mid-1\n",
    "        print(\"high:\",high)\n",
    "    else:\n",
    "        low = mid+1\n",
    "        print(\"low:\",low)\n",
    "\n",
    "        index = mid\n",
    "print(index)"
   ]
  },
  {
   "cell_type": "code",
   "execution_count": null,
   "id": "7a4d9c4e",
   "metadata": {},
   "outputs": [],
   "source": []
  },
  {
   "cell_type": "code",
   "execution_count": null,
   "id": "55df3cae",
   "metadata": {},
   "outputs": [],
   "source": []
  },
  {
   "cell_type": "code",
   "execution_count": null,
   "id": "5d11110e",
   "metadata": {},
   "outputs": [],
   "source": []
  },
  {
   "cell_type": "markdown",
   "id": "487b6a25",
   "metadata": {},
   "source": [
    "# Given an array of size N, find the subarray of size K with the least average.\n",
    "\n"
   ]
  },
  {
   "cell_type": "code",
   "execution_count": 17,
   "id": "76a66edf",
   "metadata": {},
   "outputs": [
    {
     "name": "stdout",
     "output_type": "stream",
     "text": [
      "3\n"
     ]
    }
   ],
   "source": [
    "A = [3, 7, 90, 20, 10, 50, 40]\n",
    "k = 3\n",
    "minaverage = float('inf')\n",
    "n = len(A)\n",
    "\n",
    "prefixsum = [A[0]]\n",
    "\n",
    "for x in A[1:]:\n",
    "    prefixsum.append(x+prefixsum[-1])\n",
    "#print(prefixsum)\n",
    "    \n",
    "for s in range(n-k):\n",
    "    e = k + s -1\n",
    "    \n",
    "    if s == 0:\n",
    "        sum = prefixsum[e]\n",
    "    else:\n",
    "        sum = prefixsum[e]-prefixsum[s-1]\n",
    "    \n",
    "    average = sum / k\n",
    "    \n",
    "    if average < minaverage:\n",
    "        minaverage = average\n",
    "        indextorestur = s\n",
    "#print(average)\n",
    "print(indextorestur)"
   ]
  },
  {
   "cell_type": "code",
   "execution_count": null,
   "id": "8f79a7a7",
   "metadata": {},
   "outputs": [],
   "source": []
  },
  {
   "cell_type": "code",
   "execution_count": 19,
   "id": "36509da4",
   "metadata": {},
   "outputs": [
    {
     "name": "stdout",
     "output_type": "stream",
     "text": [
      "3\n"
     ]
    }
   ],
   "source": [
    "A = [3, 7, 90, 20, 10, 50, 40]\n",
    "k = 3\n",
    "minsum = float('inf')\n",
    "n = len(A)\n",
    "\n",
    "prefixsum = [A[0]]\n",
    "\n",
    "for x in A[1:]:\n",
    "    prefixsum.append(x+prefixsum[-1])\n",
    "#print(prefixsum)\n",
    "    \n",
    "for s in range(n-k):\n",
    "    e = k + s -1\n",
    "    \n",
    "    if s == 0:\n",
    "        sum = prefixsum[e]\n",
    "    else:\n",
    "        sum = prefixsum[e]-prefixsum[s-1]\n",
    "    \n",
    "    \n",
    "    \n",
    "    if sum < minsum:\n",
    "        minsum = sum\n",
    "        indextorestur = s\n",
    "#print(average)\n",
    "print(indextorestur)"
   ]
  },
  {
   "cell_type": "code",
   "execution_count": null,
   "id": "3dab5141",
   "metadata": {},
   "outputs": [],
   "source": []
  },
  {
   "cell_type": "code",
   "execution_count": 22,
   "id": "be2293df",
   "metadata": {},
   "outputs": [
    {
     "data": {
      "text/plain": [
       "[3, 7, 90]"
      ]
     },
     "execution_count": 22,
     "metadata": {},
     "output_type": "execute_result"
    }
   ],
   "source": [
    "A = [3, 7, 90, 20, 10, 50, 40]\n",
    "n = len(A)\n",
    "\n",
    "A[0:int(len(A)/2)]"
   ]
  },
  {
   "cell_type": "code",
   "execution_count": 24,
   "id": "5060ad63",
   "metadata": {},
   "outputs": [
    {
     "data": {
      "text/plain": [
       "[20, 10, 50, 40]"
      ]
     },
     "execution_count": 24,
     "metadata": {},
     "output_type": "execute_result"
    }
   ],
   "source": [
    "A[int(len(A)/2):]"
   ]
  }
 ],
 "metadata": {
  "kernelspec": {
   "display_name": "Python 3 (ipykernel)",
   "language": "python",
   "name": "python3"
  },
  "language_info": {
   "codemirror_mode": {
    "name": "ipython",
    "version": 3
   },
   "file_extension": ".py",
   "mimetype": "text/x-python",
   "name": "python",
   "nbconvert_exporter": "python",
   "pygments_lexer": "ipython3",
   "version": "3.9.7"
  }
 },
 "nbformat": 4,
 "nbformat_minor": 5
}
