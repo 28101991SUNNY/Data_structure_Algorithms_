{
 "cells": [
  {
   "cell_type": "code",
   "execution_count": 11,
   "id": "78ebe7c9",
   "metadata": {},
   "outputs": [
    {
     "name": "stdout",
     "output_type": "stream",
     "text": [
      "1 2| 1 3| 1 4| 1 5| \n",
      "2 3| 2 4| 2 5| \n",
      "3 4| 3 5| \n",
      "4 5| \n",
      "\n"
     ]
    }
   ],
   "source": [
    "A = [1,2,3,4,5]\n",
    "# find the count of pairs (i,j)such that i<j\n",
    "for i in A:\n",
    "    for j in range(i+1,len(A)+1):\n",
    "        print(i,j,end=\"| \")\n",
    "    print()"
   ]
  },
  {
   "cell_type": "code",
   "execution_count": null,
   "id": "b170fabc",
   "metadata": {},
   "outputs": [],
   "source": [
    "# find the count of pairs (i,j)such that i<j\n",
    "# n = 5"
   ]
  },
  {
   "cell_type": "code",
   "execution_count": 1,
   "id": "c9e8fde4",
   "metadata": {},
   "outputs": [],
   "source": [
    "# n = 5 \n",
    "# 1,2,3,4,5                        [# no of pairs]\n",
    "# 1 2| 1 3| 1 4| 1 5|    1,(n-1)   n-1-1+1   n-1\n",
    "#      2 3| 2 4| 2 5|    2,(n-1)   n-1-2+1   n-2\n",
    "#           3 4| 3 5|    3,(n-1)   n-1-3+1   n-3\n",
    "#                4 5|    4,(n-1)   n-1-4+1   n-4  \n",
    "           \n",
    "# total no of pairs:  (n-1)+(n-2)+(n-3)+.....+0\n",
    "    \n",
    "#     (n-1)(n-1+1)  / 2  \n",
    "#     = (n-1)(n)/2"
   ]
  },
  {
   "cell_type": "code",
   "execution_count": null,
   "id": "b1ec776b",
   "metadata": {},
   "outputs": [],
   "source": []
  },
  {
   "cell_type": "code",
   "execution_count": null,
   "id": "8befb732",
   "metadata": {},
   "outputs": [],
   "source": []
  },
  {
   "cell_type": "markdown",
   "id": "6594f248",
   "metadata": {},
   "source": [
    "You have given a string A having Uppercase English letters.\n",
    "\n",
    "You have to find that how many times subsequence \"AG\" is there in the given string.\n",
    " \n",
    " \n",
    "NOTE: Return the answer modulo 109 + 7 as the answer can be very large."
   ]
  },
  {
   "cell_type": "markdown",
   "id": "f1cb4741",
   "metadata": {},
   "source": [
    "# Q1. Special Subsequences \"AG\"\n"
   ]
  },
  {
   "cell_type": "markdown",
   "id": "286920aa",
   "metadata": {},
   "source": [
    "#### brute force "
   ]
  },
  {
   "cell_type": "code",
   "execution_count": 2,
   "id": "f3b493e9",
   "metadata": {},
   "outputs": [
    {
     "name": "stdout",
     "output_type": "stream",
     "text": [
      "a b\n",
      "a c\n",
      "a g\n",
      "a a\n",
      "a g\n",
      "b c\n",
      "b g\n",
      "b a\n",
      "b g\n",
      "c g\n",
      "c a\n",
      "c g\n",
      "g a\n",
      "g g\n",
      "a g\n",
      "3\n"
     ]
    }
   ],
   "source": [
    "S = \"abcgag\"\n",
    "count = 0\n",
    "for i in range(len(S)):\n",
    "    for j in range(i+1,len(S)):\n",
    "        \n",
    "        print(S[i],S[j])\n",
    "        if S[i]==\"a\" and S[j]=='g':\n",
    "            count += 1\n",
    "print(count)"
   ]
  },
  {
   "cell_type": "code",
   "execution_count": 1,
   "id": "7b0b5ab7",
   "metadata": {},
   "outputs": [
    {
     "name": "stdout",
     "output_type": "stream",
     "text": [
      "2\n"
     ]
    }
   ],
   "source": [
    "S = \"gagg\"\n",
    "count = 0\n",
    "for i in range(len(S)):\n",
    "    if  S[i]==\"a\":\n",
    "        for j in range(i+1,len(S)):  #\n",
    "            if S[j]=='g':          # count of g's for next opt\n",
    "                count += 1         #\n",
    "print(count)"
   ]
  },
  {
   "cell_type": "code",
   "execution_count": null,
   "id": "ac245250",
   "metadata": {},
   "outputs": [],
   "source": []
  },
  {
   "cell_type": "code",
   "execution_count": null,
   "id": "668728ac",
   "metadata": {},
   "outputs": [],
   "source": []
  },
  {
   "cell_type": "code",
   "execution_count": 73,
   "id": "2dba8e00",
   "metadata": {},
   "outputs": [
    {
     "data": {
      "text/plain": [
       "15.0"
      ]
     },
     "execution_count": 73,
     "metadata": {},
     "output_type": "execute_result"
    }
   ],
   "source": [
    "# 0+1+2+3+4+5\n",
    "n=5\n",
    "sum_of_n_numbers =  (n*(n+1))/ 2\n",
    "sum_of_n_numbers"
   ]
  },
  {
   "cell_type": "code",
   "execution_count": null,
   "id": "2b1e2137",
   "metadata": {},
   "outputs": [],
   "source": []
  },
  {
   "cell_type": "markdown",
   "id": "8f1deb0a",
   "metadata": {},
   "source": [
    "## pre-processing"
   ]
  },
  {
   "cell_type": "code",
   "execution_count": 72,
   "id": "38109f78",
   "metadata": {},
   "outputs": [],
   "source": [
    "# S = \"gagg\"\n",
    "# count = 0\n",
    "# for i in range(len(S)):\n",
    "#     if  S[i]==\"a\":\n",
    "        \n",
    "#         countofG = # of g's after i \n",
    "        \n",
    "#         count += countofG\n",
    "# print(count)"
   ]
  },
  {
   "cell_type": "code",
   "execution_count": 58,
   "id": "c3e3ff77",
   "metadata": {},
   "outputs": [
    {
     "name": "stdout",
     "output_type": "stream",
     "text": [
      "[0, 0, 0, 0, 0, 0, 0, 0, 0, 0, 0, 0]\n",
      "[4, 4, 4, 3, 3, 3, 3, 3, 2, 1, 1, 1]\n",
      "\n",
      "4\n"
     ]
    }
   ],
   "source": [
    "# a     a           a\n",
    "\n",
    "#     g         g g     g\n",
    "# a x g a b b x g g a x g \n",
    "# 4 4 4 3 3 3 3 3 2 1 1 1 \n",
    "\n",
    "S = \"axgabbxggaxg\"\n",
    "n = len(S)\n",
    "gcounts = [0]*n\n",
    "\n",
    "print(gcounts)\n",
    "\n",
    "count = 0\n",
    "for i in range(n-1,-1,-1):\n",
    "    if S[i]=='g':\n",
    "        count += 1\n",
    "    gcounts[i]=count\n",
    "print(gcounts)\n",
    "print()\n",
    "print(count)"
   ]
  },
  {
   "cell_type": "markdown",
   "id": "250ddb79",
   "metadata": {},
   "source": [
    "### solution with suffix count"
   ]
  },
  {
   "cell_type": "code",
   "execution_count": 3,
   "id": "ba7602ba",
   "metadata": {},
   "outputs": [
    {
     "name": "stdout",
     "output_type": "stream",
     "text": [
      "[4, 4, 4, 4, 3, 3, 3, 3, 2, 1, 1, 1]\n",
      "\n",
      "\n",
      "8\n"
     ]
    }
   ],
   "source": [
    "# a     a           a\n",
    "\n",
    "#     g         g g     g\n",
    "# a x g a b b x g g a x g \n",
    "# 4 4 4 3 3 3 3 3 2 1 1 1      ## suffix count\n",
    "\n",
    "\n",
    "# 0 0 0 0 0 0 0 0 0 0 0 0 \n",
    "\n",
    "\n",
    "S = \"abxgxabggxag\"\n",
    "n = len(S)\n",
    "gcounts = [0]*n\n",
    "\n",
    "#print(gcounts)\n",
    "\n",
    "count = 0\n",
    "for i in reversed(range(n)):\n",
    "    if S[i]=='g':\n",
    "        count += 1\n",
    "    gcounts[i]=count      # suffix count  of 'g'\n",
    "ans = 0\n",
    "print(gcounts)\n",
    "print()\n",
    "\n",
    "\n",
    "for i in range(n):\n",
    "    if S[i]=='a':\n",
    "        ans += gcounts[i]\n",
    "        #print(ans,end = \" \")\n",
    "print()\n",
    "print(ans)"
   ]
  },
  {
   "cell_type": "code",
   "execution_count": null,
   "id": "a4d7f3f5",
   "metadata": {},
   "outputs": [],
   "source": [
    "a b x g x a b g g x a g \n",
    "4 4 4 4 3 3 3 3 2 1 1 1 "
   ]
  },
  {
   "cell_type": "markdown",
   "id": "2e2ae42a",
   "metadata": {},
   "source": [
    "### optimization \n"
   ]
  },
  {
   "cell_type": "markdown",
   "id": "7f769ad5",
   "metadata": {},
   "source": [
    "## carry forward ( on the fly )"
   ]
  },
  {
   "cell_type": "code",
   "execution_count": 3,
   "id": "ffdb65df",
   "metadata": {},
   "outputs": [
    {
     "name": "stdout",
     "output_type": "stream",
     "text": [
      "55\n"
     ]
    }
   ],
   "source": [
    "S = \"xxabbxaggxacgasdgasdgasgasgsfgadfcdagxagx\"\n",
    "n = len(S)\n",
    "\n",
    "count = 0\n",
    "gs = 0\n",
    "for i in reversed(range(n)):\n",
    "    \n",
    "    if S[i]==\"g\":\n",
    "        gs += 1\n",
    "    elif S[i]=='a':\n",
    "        count += gs\n",
    "\n",
    "print(count)"
   ]
  },
  {
   "cell_type": "code",
   "execution_count": null,
   "id": "ae35e103",
   "metadata": {},
   "outputs": [],
   "source": []
  },
  {
   "cell_type": "code",
   "execution_count": null,
   "id": "a5027ebb",
   "metadata": {},
   "outputs": [],
   "source": []
  },
  {
   "cell_type": "markdown",
   "id": "9d75e51b",
   "metadata": {},
   "source": [
    "# Q1. Amazing Subarrays\n",
    "\n",
    "### You are given a string S, and you have to find all the amazing substrings of S.\n",
    "\n",
    "An amazing Substring is one that starts with a vowel (a, e, i, o, u, A, E, I, O, U)."
   ]
  },
  {
   "cell_type": "code",
   "execution_count": 100,
   "id": "fdd00346",
   "metadata": {},
   "outputs": [
    {
     "name": "stdout",
     "output_type": "stream",
     "text": [
      "ans: 6\n"
     ]
    }
   ],
   "source": [
    "S = \"ABEC\"\n",
    "count = 0\n",
    "for i in range(len(S)):\n",
    "    if S[i] in ['a','e','i','o','u','A','E','I','O','U']:\n",
    "        count += len(S)-i\n",
    "print(\"ans:\" , count)"
   ]
  },
  {
   "cell_type": "code",
   "execution_count": null,
   "id": "4490fd7d",
   "metadata": {},
   "outputs": [],
   "source": []
  },
  {
   "cell_type": "code",
   "execution_count": null,
   "id": "8c82b399",
   "metadata": {},
   "outputs": [],
   "source": []
  },
  {
   "cell_type": "markdown",
   "id": "2821d2c5",
   "metadata": {},
   "source": [
    "# Q: given A array of size N, count the number of leaders in the array\n",
    "\n",
    "\n",
    "#### any number  which is strictly greater than all elements  on its right"
   ]
  },
  {
   "cell_type": "code",
   "execution_count": null,
   "id": "ccfbf638",
   "metadata": {},
   "outputs": [],
   "source": []
  },
  {
   "cell_type": "markdown",
   "id": "ff584468",
   "metadata": {},
   "source": [
    "#### brute force"
   ]
  },
  {
   "cell_type": "code",
   "execution_count": 179,
   "id": "9e5fcaf5",
   "metadata": {},
   "outputs": [
    {
     "name": "stdout",
     "output_type": "stream",
     "text": [
      "3\n"
     ]
    }
   ],
   "source": [
    "A = [16, 17, 17, 4, 3, 5, 2]\n",
    "n = len(A)\n",
    "\n",
    "c = 0\n",
    "for i in range(n):\n",
    "    leader = True\n",
    "    for j in range(i+1,n):\n",
    "        if A[i]<=A[j]:\n",
    "            leader = False\n",
    "            break\n",
    "    if leader:\n",
    "        c = c+1\n",
    "print(c)"
   ]
  },
  {
   "cell_type": "code",
   "execution_count": null,
   "id": "7c6dc473",
   "metadata": {},
   "outputs": [],
   "source": []
  },
  {
   "cell_type": "code",
   "execution_count": null,
   "id": "083ceac5",
   "metadata": {},
   "outputs": [],
   "source": []
  },
  {
   "cell_type": "code",
   "execution_count": 181,
   "id": "ae4bdba3",
   "metadata": {},
   "outputs": [],
   "source": [
    "# if we want to slve with SUFFIXMAX max: \n",
    "#  value A[i] is leader :if A[i]>max on righht"
   ]
  },
  {
   "cell_type": "code",
   "execution_count": 104,
   "id": "9a086bed",
   "metadata": {},
   "outputs": [
    {
     "name": "stdout",
     "output_type": "stream",
     "text": [
      "[8, 8, 8, 3, 3, 3, -7, -10]\n",
      "[1, 7, 8, -6, 0, 3, -7, -10]\n",
      "4\n"
     ]
    }
   ],
   "source": [
    "A = [1,7,8,-6,0,3,-7,-10]\n",
    "n = len(A)\n",
    "\n",
    "suffixmax = [A[n-1]]\n",
    "\n",
    "n = len(A)\n",
    "\n",
    "for i in (range(n-2,-1,-1)):\n",
    "    suffixmax.append(max(A[i],suffixmax[-1]))\n",
    "#print(suffixmax)\n",
    "\n",
    "def reve(A):\n",
    "    n = len(A)\n",
    "    ans = []\n",
    "    for i in range(0,n):\n",
    "        ans.append(A[n-i-1])\n",
    "    return ans\n",
    "\n",
    "suffixmax = reve(suffixmax)\n",
    "# print(\"we need reverse\")\n",
    "print(suffixmax)\n",
    "print(A)\n",
    "\n",
    "\n",
    "count = 0\n",
    "for i in range(n-1):\n",
    "   \n",
    "    if A[i]>suffixmax[i+1]:\n",
    "        count +=1\n",
    "   # print(A[i],\"\",suffixmax[i+1])    \n",
    "print(count+1)\n"
   ]
  },
  {
   "cell_type": "code",
   "execution_count": null,
   "id": "3e51e37b",
   "metadata": {},
   "outputs": [],
   "source": [
    "A = [1,7,8,-6,0,3,-7,-10]\n"
   ]
  },
  {
   "cell_type": "code",
   "execution_count": 2,
   "id": "4dc8eba9",
   "metadata": {},
   "outputs": [],
   "source": [
    "def createsuffixmax(A):\n",
    "    n = len(A)\n",
    "    \n",
    "    \n",
    "    suffixmax = [A[n-1]]\n",
    "    \n",
    "    n = len(A)\n",
    "\n",
    "    for i in (range(n-2,-1,-1)):\n",
    "        suffixmax.append(max(A[i],suffixmax[-1]))\n",
    "\n",
    "    return suffixmax[::-1]\n",
    "    "
   ]
  },
  {
   "cell_type": "code",
   "execution_count": 3,
   "id": "c986796b",
   "metadata": {},
   "outputs": [
    {
     "data": {
      "text/plain": [
       "[8, 8, 8, 3, 3, 3, -7, -10]"
      ]
     },
     "execution_count": 3,
     "metadata": {},
     "output_type": "execute_result"
    }
   ],
   "source": [
    "createsuffixmax([1,7,8,-6,0,3,-7,-10])"
   ]
  },
  {
   "cell_type": "code",
   "execution_count": 20,
   "id": "544ef898",
   "metadata": {},
   "outputs": [
    {
     "name": "stdout",
     "output_type": "stream",
     "text": [
      "4\n"
     ]
    }
   ],
   "source": [
    "print(len(list(set(createsuffixmax([1,7,8,-6,0,3,-7,-10])))))\n",
    "        "
   ]
  },
  {
   "cell_type": "code",
   "execution_count": null,
   "id": "723a805b",
   "metadata": {},
   "outputs": [],
   "source": []
  },
  {
   "cell_type": "markdown",
   "id": "c47f8293",
   "metadata": {},
   "source": []
  },
  {
   "cell_type": "markdown",
   "id": "26bd57b2",
   "metadata": {},
   "source": []
  },
  {
   "cell_type": "markdown",
   "id": "9aa4fa0c",
   "metadata": {},
   "source": [
    "### optimized"
   ]
  },
  {
   "cell_type": "code",
   "execution_count": 11,
   "id": "aba11664",
   "metadata": {},
   "outputs": [
    {
     "name": "stdout",
     "output_type": "stream",
     "text": [
      "4\n"
     ]
    }
   ],
   "source": [
    "A = [1,7,8,-6,0,3,-7,-10]\n",
    "n = len(A)\n",
    "maxm  = -float('inf')               #\n",
    "count = 0\n",
    "for i in reversed(range(n)):\n",
    "    if A[i] > maxm:\n",
    "        maxm = A[i]\n",
    "        count = count+1\n",
    "        \n",
    "print(count)"
   ]
  },
  {
   "cell_type": "code",
   "execution_count": 3,
   "id": "50f397ee",
   "metadata": {},
   "outputs": [
    {
     "name": "stdout",
     "output_type": "stream",
     "text": [
      "4\n"
     ]
    }
   ],
   "source": [
    "A = [1,7,8,-6,0,3,-7,-10]\n",
    "n = len(A)\n",
    "maxm  = A[-1]                  # \n",
    "count =0\n",
    "for i in reversed(range(n)):\n",
    "    if A[i] > maxm:\n",
    "        maxm = A[i]\n",
    "        count = count+1\n",
    "print(count+1)               # add 1 (last element is also a leader)"
   ]
  },
  {
   "cell_type": "code",
   "execution_count": null,
   "id": "683060a6",
   "metadata": {},
   "outputs": [],
   "source": []
  },
  {
   "cell_type": "code",
   "execution_count": 21,
   "id": "6ec93562",
   "metadata": {},
   "outputs": [
    {
     "name": "stdout",
     "output_type": "stream",
     "text": [
      "2\n"
     ]
    }
   ],
   "source": [
    "A = [23,2]\n",
    "n = len(A)\n",
    "\n",
    "\n",
    "count =1                             # last ele is always a leader\n",
    "if A ==[]:\n",
    "    count = 0\n",
    "else:\n",
    "    maxm  = A[-1]\n",
    "    for i in reversed(range(n)):\n",
    "        if A[i] > maxm:\n",
    "            maxm = A[i]\n",
    "            count = count+1\n",
    "print(count)"
   ]
  },
  {
   "cell_type": "code",
   "execution_count": 4,
   "id": "ef5f4cd8",
   "metadata": {},
   "outputs": [
    {
     "name": "stdout",
     "output_type": "stream",
     "text": [
      "[9, 8, 7, 6, 5, 4, 3, 2, 1]\n",
      "9\n"
     ]
    }
   ],
   "source": [
    "A = [9,8,7,6,5,4,3,2,1]\n",
    "maxm  = float('-inf')\n",
    "re = []\n",
    "for i in reversed(range(len(A))):\n",
    "    if A[i] > maxm:\n",
    "        re.append(A[i])\n",
    "        maxm = A[i]\n",
    "print(re[::-1])\n",
    "print(len(re))"
   ]
  },
  {
   "cell_type": "code",
   "execution_count": null,
   "id": "080f9b41",
   "metadata": {},
   "outputs": [],
   "source": []
  },
  {
   "cell_type": "code",
   "execution_count": null,
   "id": "17c88165",
   "metadata": {},
   "outputs": [],
   "source": [
    " "
   ]
  },
  {
   "cell_type": "code",
   "execution_count": null,
   "id": "7077893f",
   "metadata": {},
   "outputs": [],
   "source": []
  },
  {
   "cell_type": "code",
   "execution_count": null,
   "id": "a51a3341",
   "metadata": {},
   "outputs": [],
   "source": []
  },
  {
   "cell_type": "code",
   "execution_count": null,
   "id": "5ef4c448",
   "metadata": {},
   "outputs": [],
   "source": []
  },
  {
   "cell_type": "code",
   "execution_count": null,
   "id": "dc8d4bfb",
   "metadata": {},
   "outputs": [],
   "source": []
  },
  {
   "cell_type": "code",
   "execution_count": null,
   "id": "7102e2e0",
   "metadata": {},
   "outputs": [],
   "source": []
  },
  {
   "cell_type": "markdown",
   "id": "9963c0e8",
   "metadata": {},
   "source": [
    "## prefix max \n"
   ]
  },
  {
   "cell_type": "code",
   "execution_count": null,
   "id": "7bfa0ec6",
   "metadata": {},
   "outputs": [],
   "source": []
  },
  {
   "cell_type": "code",
   "execution_count": 23,
   "id": "f29f89c0",
   "metadata": {},
   "outputs": [],
   "source": [
    "def prefixmaxarray(A):\n",
    "    prmax = [A[0]]\n",
    "    n = len(A)\n",
    "    for i in range(1,n):\n",
    "        prmax.append(max(prmax[i-1],A[i]))\n",
    "    return prmax"
   ]
  },
  {
   "cell_type": "code",
   "execution_count": 25,
   "id": "85fcacac",
   "metadata": {},
   "outputs": [
    {
     "data": {
      "text/plain": [
       "[-1, 0, 0, 2, 5, 5, 8, 8, 8, 8, 55, 55, 55, 55, 55, 55, 55]"
      ]
     },
     "execution_count": 25,
     "metadata": {},
     "output_type": "execute_result"
    }
   ],
   "source": [
    "A = [-1,0,-1,2,5,5,8,1,2,3,55,4,5,6,7,8,9]\n",
    "\n",
    "prefixmaxarray(A)"
   ]
  },
  {
   "cell_type": "code",
   "execution_count": 27,
   "id": "c27b252f",
   "metadata": {},
   "outputs": [],
   "source": [
    "# 0 1 2 3 4 5 6 7 8 9   :::len= 10\n",
    "# 0                 n-1   \n"
   ]
  },
  {
   "cell_type": "markdown",
   "id": "2ad05b27",
   "metadata": {},
   "source": [
    "## suffix max"
   ]
  },
  {
   "cell_type": "code",
   "execution_count": 105,
   "id": "3db47de0",
   "metadata": {},
   "outputs": [],
   "source": [
    "def createsuffixmax(A):\n",
    "    n = len(A)\n",
    "    \n",
    "    suffixmax = [A[n-1]]\n",
    "    \n",
    "    n = len(A)\n",
    "\n",
    "    for i in (range(n-2,-1,-1)):\n",
    "        suffixmax.append(max(A[i],suffixmax[-1]))\n",
    "\n",
    "    return suffixmax[::-1]"
   ]
  },
  {
   "cell_type": "code",
   "execution_count": 108,
   "id": "427ee839",
   "metadata": {},
   "outputs": [
    {
     "name": "stdout",
     "output_type": "stream",
     "text": [
      "[6, 6, 6, 6, 6, 6, 5, 4, 3, 2, 1]\n"
     ]
    }
   ],
   "source": [
    "A = [1,2,3,4,5,6,5,4,3,2,1]\n",
    "print(createsuffixmax(A))\n"
   ]
  },
  {
   "cell_type": "markdown",
   "id": "d2772874",
   "metadata": {},
   "source": [
    "## suffix count array (in a string)"
   ]
  },
  {
   "cell_type": "code",
   "execution_count": 109,
   "id": "152a2837",
   "metadata": {},
   "outputs": [
    {
     "name": "stdout",
     "output_type": "stream",
     "text": [
      "a\n",
      "[3, 2, 2, 2, 2, 2, 1, 1, 1, 1, 1, 0]\n"
     ]
    }
   ],
   "source": [
    "S = \"abxgxabggxag\"\n",
    "tocount = input()\n",
    "gcount = [0]* len(S)\n",
    "count = 0\n",
    "for  i in range(len(S)-1,-1,-1):\n",
    "    if S[i]==tocount:\n",
    "        count +=1\n",
    "    gcount[i]=count\n",
    "print(gcount)"
   ]
  },
  {
   "cell_type": "code",
   "execution_count": 110,
   "id": "0957af92",
   "metadata": {},
   "outputs": [
    {
     "name": "stdout",
     "output_type": "stream",
     "text": [
      "[7, 7, 6, 6, 5, 5, 5, 5, 5, 5, 4, 4, 4, 4, 4, 4, 3, 3, 2, 2, 1, 1]\n"
     ]
    }
   ],
   "source": [
    "A = [1,2,5,2,8,5,58,8,5,2,8,5,5,8,5,2,1,2,1,2,5,2]\n",
    "count_2 = [0]* len(A)\n",
    "count = 0\n",
    "\n",
    "for  i in range(len(A)-1,-1,-1):\n",
    "    if A[i]== 2:\n",
    "        count +=1\n",
    "    count_2[i]=count\n",
    "print(count_2)"
   ]
  },
  {
   "cell_type": "markdown",
   "id": "89df4cb3",
   "metadata": {},
   "source": [
    "## prefix count array "
   ]
  },
  {
   "cell_type": "code",
   "execution_count": 37,
   "id": "5f769b40",
   "metadata": {},
   "outputs": [
    {
     "name": "stdout",
     "output_type": "stream",
     "text": [
      "[0, 1, 1, 2, 2, 2, 2, 2, 2, 3, 3, 3, 3, 3, 3, 4, 4, 5, 5, 6, 6, 7]\n"
     ]
    }
   ],
   "source": [
    "A = [1,2,5,2,8,5,58,8,5,2,8,5,5,8,5,2,1,2,1,2,5,2]\n",
    "count_2 = [0]* len(A)\n",
    "count = 0\n",
    "for  i in range(len(A)):\n",
    "    if A[i]== 2:\n",
    "        count +=1\n",
    "    count_2[i]=count\n",
    "print(count_2)"
   ]
  },
  {
   "cell_type": "code",
   "execution_count": 40,
   "id": "fcc88a7a",
   "metadata": {},
   "outputs": [
    {
     "name": "stdout",
     "output_type": "stream",
     "text": [
      "[0, 0, 0, 1, 1, 1, 1, 2, 3, 3, 3, 4]\n"
     ]
    }
   ],
   "source": [
    "S = \"abxgxabggxag\"\n",
    "gcount = [0]* len(S)\n",
    "count = 0\n",
    "for  i in range(len(S)):\n",
    "    if S[i]==\"g\":\n",
    "        count +=1\n",
    "    gcount[i]=count\n",
    "print(gcount)"
   ]
  },
  {
   "cell_type": "markdown",
   "id": "456c827e",
   "metadata": {},
   "source": [
    "## find the index of a maximum value in array\n"
   ]
  },
  {
   "cell_type": "code",
   "execution_count": 36,
   "id": "25f1caca",
   "metadata": {},
   "outputs": [
    {
     "name": "stdout",
     "output_type": "stream",
     "text": [
      "4\n"
     ]
    }
   ],
   "source": [
    "A = [1,2,3,6,9999,3,2,1,1000]\n",
    "\n",
    "maxindex = -1\n",
    "maxnum = A[0]\n",
    "for i in range(len(A)):\n",
    "    if A[i]>maxnum:\n",
    "        maxindex = i\n",
    "        maxnum = A[i]\n",
    "print(maxindex)"
   ]
  },
  {
   "cell_type": "code",
   "execution_count": null,
   "id": "d9d3d08b",
   "metadata": {},
   "outputs": [],
   "source": []
  },
  {
   "cell_type": "code",
   "execution_count": null,
   "id": "864f10a2",
   "metadata": {},
   "outputs": [],
   "source": []
  },
  {
   "cell_type": "code",
   "execution_count": null,
   "id": "31e24a2b",
   "metadata": {},
   "outputs": [],
   "source": []
  },
  {
   "cell_type": "markdown",
   "id": "0c9ba149",
   "metadata": {},
   "source": [
    "You are given an integer array A.\n",
    "\n",
    "# Decide whether it is possible to divide the array into one or more subarrays of even length such that the first and last element of all subarrays will be even.\n",
    "\n",
    "Return \"YES\" if it is possible; otherwise, return \"NO\" (without quotes)."
   ]
  },
  {
   "cell_type": "code",
   "execution_count": null,
   "id": "b7e640f1",
   "metadata": {},
   "outputs": [],
   "source": [
    "class Solution:\n",
    "    # @param A : list of integers\n",
    "    # @return a strings\n",
    "    def solve(self, A):\n",
    "\n",
    "        if len(A)%2==0 and A[0]%2==0 and A[-1]%2==0:\n",
    "            return 'YES'\n",
    "        else:\n",
    "            return 'NO'"
   ]
  },
  {
   "cell_type": "code",
   "execution_count": null,
   "id": "185b666a",
   "metadata": {},
   "outputs": [],
   "source": []
  },
  {
   "cell_type": "markdown",
   "id": "23cde1d6",
   "metadata": {},
   "source": [
    "# N light bulbs are connected by a wire.\n",
    "\n",
    "Each bulb has a switch associated with it; however, due to faulty wiring, a switch also changes the state of all the bulbs to the right of the current bulb.\n",
    "\n",
    "Given an initial state of all bulbs, find the minimum number of switches you have to press to turn on all the bulbs.\n",
    "\n",
    "You can press the same switch multiple times.\n",
    "\n",
    "Note: 0 represents the bulb is off and 1 represents the bulb is on."
   ]
  },
  {
   "cell_type": "code",
   "execution_count": 111,
   "id": "9f5c54fa",
   "metadata": {},
   "outputs": [],
   "source": [
    "\n",
    "def bulbs(A):\n",
    "\n",
    "    n = len(A)\n",
    "    state = 0  # state of the bulb\n",
    "    ans = 0\n",
    "\n",
    "    for i in range(n):\n",
    "\n",
    "        if A[i]==state:  # if state of A[i] is as previous (means 0)\n",
    "\n",
    "            ans = ans +1 # add  1 in ans\n",
    "\n",
    "            state = 1-state   # change the state of A[i]\n",
    "\n",
    "            A[i] = state   # update the state at A[i]\n",
    "\n",
    "    return ans"
   ]
  },
  {
   "cell_type": "code",
   "execution_count": 112,
   "id": "07bf1378",
   "metadata": {},
   "outputs": [
    {
     "data": {
      "text/plain": [
       "4"
      ]
     },
     "execution_count": 112,
     "metadata": {},
     "output_type": "execute_result"
    }
   ],
   "source": [
    "bulbs([0,1,0,1])"
   ]
  },
  {
   "cell_type": "code",
   "execution_count": null,
   "id": "e7487f70",
   "metadata": {},
   "outputs": [],
   "source": []
  },
  {
   "cell_type": "code",
   "execution_count": null,
   "id": "8798f129",
   "metadata": {},
   "outputs": [],
   "source": []
  },
  {
   "cell_type": "code",
   "execution_count": null,
   "id": "cae737fd",
   "metadata": {},
   "outputs": [],
   "source": []
  },
  {
   "cell_type": "markdown",
   "id": "1c778d2b",
   "metadata": {},
   "source": [
    "# subarray subarray subarray subarray subarray subarray subarray subarray"
   ]
  },
  {
   "cell_type": "code",
   "execution_count": null,
   "id": "f10dbd4f",
   "metadata": {},
   "outputs": [],
   "source": []
  },
  {
   "cell_type": "code",
   "execution_count": null,
   "id": "7e466b54",
   "metadata": {},
   "outputs": [],
   "source": []
  },
  {
   "cell_type": "code",
   "execution_count": null,
   "id": "2bd310c8",
   "metadata": {},
   "outputs": [],
   "source": [
    "'''\n",
    "# A = 0 1 5 -2 3 2 5 5 4 -2 3 0 5\n",
    "  Amin = -2\n",
    "  Amax = 5\n",
    "  \n",
    "  \n",
    "  \n",
    "  \n",
    "'''"
   ]
  },
  {
   "cell_type": "code",
   "execution_count": 27,
   "id": "6cde0d32",
   "metadata": {},
   "outputs": [
    {
     "data": {
      "text/plain": [
       "'\\nA subarray is a contiguos chuck of an array\\n\\nsubarray defined by a start and end index\\n\\nA = [=============================]\\n            |         |\\n            s         e\\n\\n\\n\\n'"
      ]
     },
     "execution_count": 27,
     "metadata": {},
     "output_type": "execute_result"
    }
   ],
   "source": [
    "'''\n",
    "A subarray is a contiguos chuck of an array\n",
    "\n",
    "subarray defined by a start and end index\n",
    "\n",
    "A = [=============================]\n",
    "            |         |\n",
    "            s         e\n",
    "\n",
    "\n",
    "\n",
    "'''"
   ]
  },
  {
   "cell_type": "markdown",
   "id": "3f4e2331",
   "metadata": {},
   "source": [
    "### total number of subarrays possible"
   ]
  },
  {
   "cell_type": "code",
   "execution_count": 52,
   "id": "632ebb57",
   "metadata": {},
   "outputs": [
    {
     "name": "stdout",
     "output_type": "stream",
     "text": [
      "[1]\n",
      "[1, 2]\n",
      "[1, 2, 3]\n",
      "[1, 2, 3, 4]\n",
      "[1, 2, 3, 4, 5]\n",
      "[2]\n",
      "[2, 3]\n",
      "[2, 3, 4]\n",
      "[2, 3, 4, 5]\n",
      "[3]\n",
      "[3, 4]\n",
      "[3, 4, 5]\n",
      "[4]\n",
      "[4, 5]\n",
      "[5]\n",
      "count: 15\n"
     ]
    }
   ],
   "source": [
    "\n",
    "A =[ 1,2,3,4,5]\n",
    "count = 0\n",
    "for s in range(len(A)):\n",
    "    for e in range(s,len(A)):\n",
    "        print(A[s:e+1])\n",
    "        count += 1 \n",
    "print(\"count:\",count)"
   ]
  },
  {
   "cell_type": "code",
   "execution_count": 76,
   "id": "bf3cac84",
   "metadata": {},
   "outputs": [
    {
     "name": "stdout",
     "output_type": "stream",
     "text": [
      "15.0\n"
     ]
    }
   ],
   "source": [
    "print(5*(5+1)/2)\n",
    "   # n(n+1)/2"
   ]
  },
  {
   "cell_type": "code",
   "execution_count": 12,
   "id": "7ee47dc3",
   "metadata": {},
   "outputs": [
    {
     "name": "stdout",
     "output_type": "stream",
     "text": [
      "[8]\n",
      "[8, 1]\n",
      "[1]\n",
      "count: 3\n"
     ]
    }
   ],
   "source": [
    "\n",
    "A =[8,1]\n",
    "count = 0\n",
    "for s in range(len(A)):\n",
    "    for e in range(s,len(A)):\n",
    "        print(A[s:e+1])\n",
    "        count += 1 \n",
    "print(\"count:\",count)"
   ]
  },
  {
   "cell_type": "code",
   "execution_count": null,
   "id": "bd8a7d52",
   "metadata": {},
   "outputs": [],
   "source": []
  },
  {
   "cell_type": "code",
   "execution_count": null,
   "id": "6984f3f2",
   "metadata": {},
   "outputs": [],
   "source": []
  },
  {
   "cell_type": "code",
   "execution_count": null,
   "id": "ba7ef3c4",
   "metadata": {},
   "outputs": [],
   "source": []
  },
  {
   "cell_type": "code",
   "execution_count": null,
   "id": "d95c65a8",
   "metadata": {},
   "outputs": [],
   "source": []
  },
  {
   "cell_type": "code",
   "execution_count": null,
   "id": "c6eb14a1",
   "metadata": {},
   "outputs": [],
   "source": []
  },
  {
   "cell_type": "markdown",
   "id": "eb10077e",
   "metadata": {},
   "source": [
    "# Q.3 : closest min max: \n",
    "## given an array of size N . find the length of a smallest subarray which contains both min and max of array\n"
   ]
  },
  {
   "cell_type": "code",
   "execution_count": null,
   "id": "dffe1540",
   "metadata": {},
   "outputs": [],
   "source": [
    "#### brute force\n",
    "# 1 : fiind min and max\n",
    "# 2. go over each subarray : check if it has both min and max\n",
    "# 3. keep track of mnin subarray length\n"
   ]
  },
  {
   "cell_type": "code",
   "execution_count": 6,
   "id": "b1e701d7",
   "metadata": {},
   "outputs": [
    {
     "name": "stdout",
     "output_type": "stream",
     "text": [
      "3\n"
     ]
    }
   ],
   "source": [
    "\n",
    "A =[ 0,1,5,3,2,5,5,4,-2,3,0,5]\n",
    "minimum = min(A)\n",
    "maximum = max(A)\n",
    "minl = float('inf')\n",
    "for s in range(len(A)):         #O(N)\n",
    "    for e in range(s,len(A)):    #O(N**2 )\n",
    "        #print(A[s:e+1])\n",
    "        hasmax = False\n",
    "        hasmin = False\n",
    "        for i in range(s,e+1):\n",
    "            if A[i]==minimum:\n",
    "                hasmin = True\n",
    "            if A[i]==maximum:\n",
    "                hasmax = True\n",
    "        if hasmin and hasmax :\n",
    "            l = e-s+1\n",
    "            #print(l)\n",
    "            if l < minl:\n",
    "                minl = l\n",
    "print(minl)"
   ]
  },
  {
   "cell_type": "code",
   "execution_count": 14,
   "id": "4ac8e7ff",
   "metadata": {},
   "outputs": [
    {
     "name": "stdout",
     "output_type": "stream",
     "text": [
      "3 12\n"
     ]
    }
   ],
   "source": [
    "# for max length subarray contains mina nd max\n",
    "A =[ 0,1,5,3,2,5,5,4,-2,3,0,5]\n",
    "minimum = min(A)\n",
    "maximum = max(A)\n",
    "minl = float('inf')\n",
    "maxl  = -float('inf')\n",
    "for s in range(len(A)):         #O(N)\n",
    "    for e in range(s,len(A)):    #O(N**2 )\n",
    "        #print(A[s:e+1])\n",
    "        hasmax = False\n",
    "        hasmin = False\n",
    "        for i in range(s,e+1):\n",
    "            if A[i]==minimum:\n",
    "                hasmin = True\n",
    "            if A[i]==maximum:\n",
    "                hasmax = True\n",
    "        if hasmin and hasmax :\n",
    "            l = e-s+1\n",
    "            #print(l)\n",
    "            if l < minl:\n",
    "                minl = l\n",
    "            maxl = max(maxl,l)\n",
    "print(minl,maxl)"
   ]
  },
  {
   "cell_type": "markdown",
   "id": "87721624",
   "metadata": {},
   "source": [
    "## optimization "
   ]
  },
  {
   "cell_type": "code",
   "execution_count": null,
   "id": "5434d730",
   "metadata": {},
   "outputs": [],
   "source": [
    "# ---min----max---- shortest subarray\n",
    "#    min----max\n",
    "\n",
    "# case1-subarray must begin and end with min or maxmaximum \n",
    "\n",
    "\n",
    "# case2-start and end with min and max\n",
    "# min---min-------------max\n",
    "#       ~~~~~~~~~~~~~~~~~~~\n",
    "# min------------max----max\n",
    "# ~~~~~~~~~~~~~~~~~~\n",
    "# max-------------min---min\n",
    "# ~~~~~~~~~~~~~~~~~~~\n",
    "# max----max------------min\n",
    "#        ~~~~~~~~~~~~~~~~~~\n",
    "\n",
    "# always tracking only one min and 1 max\n",
    "\n",
    "# discard previous max if we find max \n",
    "\n",
    "# discard previous min if we find min\n",
    "\n",
    "# 2  -1  6  8  -1  3  0  8  0  8  2  -1\n",
    "#     mn    mx  mn       mx    mx    mn\n",
    "#     --3---                   !\n",
    "#           --2--              !\n",
    "#                ---4----      !---3---\n",
    "#                             discrd\n",
    "#                             pre max\n",
    "                               \n",
    "    "
   ]
  },
  {
   "cell_type": "code",
   "execution_count": 46,
   "id": "9227d56d",
   "metadata": {},
   "outputs": [
    {
     "name": "stdout",
     "output_type": "stream",
     "text": [
      "2\n"
     ]
    }
   ],
   "source": [
    "A = [2,-1,6,8,-1,3,0,8,0,8,2,-1]   \n",
    "minval = min(A)\n",
    "maxval = max(A)\n",
    "minlen = float('inf')\n",
    "\n",
    "\n",
    "# assume that we have not found any min or max\n",
    "# L to R traversal\n",
    "# if we find min , find next max /     >>track length \n",
    "# if we find max , find next min /     >>track length\n",
    "# if we find min and find another min , update min \n",
    "# if we find max and find another max, update max\n",
    "\n",
    "n = len(A)\n",
    "\n",
    "imin = None\n",
    "imax = None\n",
    "\n",
    "for i in range(n):\n",
    "    \n",
    "    if A[i] == minval:\n",
    "        imin = i          # found min val, update to imin index\n",
    "        # if previously have found max, measure length \n",
    "        if imax is not None:\n",
    "            length = imin - imax + 1  #(b-a+1)\n",
    "            minlen = min(length,minlen)\n",
    "    \n",
    "    if A[i] == maxval:\n",
    "        imax = i  # found max val ,update to imax index\n",
    "        # if previously have found min , measure length \n",
    "        if imin is not None:\n",
    "            length = imax - imin + 1\n",
    "            minlen = min(length,minlen)\n",
    "print(minlen)\n",
    "            \n",
    "            \n",
    "    \n",
    "\n"
   ]
  },
  {
   "cell_type": "code",
   "execution_count": null,
   "id": "27fe719b",
   "metadata": {},
   "outputs": [],
   "source": []
  },
  {
   "cell_type": "code",
   "execution_count": null,
   "id": "f4ab8577",
   "metadata": {},
   "outputs": [],
   "source": []
  },
  {
   "cell_type": "code",
   "execution_count": null,
   "id": "1fd3c605",
   "metadata": {},
   "outputs": [],
   "source": []
  },
  {
   "cell_type": "code",
   "execution_count": null,
   "id": "5b585691",
   "metadata": {},
   "outputs": [],
   "source": []
  },
  {
   "cell_type": "code",
   "execution_count": null,
   "id": "c9a0eb5f",
   "metadata": {},
   "outputs": [],
   "source": []
  },
  {
   "cell_type": "code",
   "execution_count": null,
   "id": "88c47f4e",
   "metadata": {},
   "outputs": [],
   "source": []
  },
  {
   "cell_type": "code",
   "execution_count": null,
   "id": "ecb1b2c8",
   "metadata": {},
   "outputs": [],
   "source": []
  },
  {
   "cell_type": "code",
   "execution_count": null,
   "id": "83a1f996",
   "metadata": {},
   "outputs": [],
   "source": []
  },
  {
   "cell_type": "code",
   "execution_count": null,
   "id": "baf76a4c",
   "metadata": {},
   "outputs": [],
   "source": []
  },
  {
   "cell_type": "code",
   "execution_count": null,
   "id": "3dffe7ae",
   "metadata": {},
   "outputs": [],
   "source": []
  },
  {
   "cell_type": "code",
   "execution_count": null,
   "id": "0630f786",
   "metadata": {},
   "outputs": [],
   "source": []
  },
  {
   "cell_type": "markdown",
   "id": "3261b219",
   "metadata": {},
   "source": [
    "##### print all subarrays"
   ]
  },
  {
   "cell_type": "code",
   "execution_count": 9,
   "id": "9c732485",
   "metadata": {},
   "outputs": [
    {
     "name": "stdout",
     "output_type": "stream",
     "text": [
      "[1]\n",
      "[1, 2]\n",
      "[1, 2, 3]\n",
      "[1, 2, 3, 4]\n",
      "[1, 2, 3, 4, 5]\n",
      "[2]\n",
      "[2, 3]\n",
      "[2, 3, 4]\n",
      "[2, 3, 4, 5]\n",
      "[3]\n",
      "[3, 4]\n",
      "[3, 4, 5]\n",
      "[4]\n",
      "[4, 5]\n",
      "[5]\n"
     ]
    }
   ],
   "source": [
    "A =[ 1,2,3,4,5]\n",
    "count = 0\n",
    "for start in range(len(A)):\n",
    "    for end in range(start,len(A)):\n",
    "        print(A[start:end+1])        "
   ]
  },
  {
   "cell_type": "code",
   "execution_count": 16,
   "id": "83a468f3",
   "metadata": {},
   "outputs": [
    {
     "name": "stdout",
     "output_type": "stream",
     "text": [
      "1 \n",
      "1 2 \n",
      "1 2 3 \n",
      "1 2 3 4 \n",
      "1 2 3 4 5 \n",
      "2 \n",
      "2 3 \n",
      "2 3 4 \n",
      "2 3 4 5 \n",
      "3 \n",
      "3 4 \n",
      "3 4 5 \n",
      "4 \n",
      "4 5 \n",
      "5 \n",
      "\n",
      "105\n"
     ]
    }
   ],
   "source": [
    "# sum of all sub arrays\n",
    "A = [1,2,3,4,5]\n",
    "count = 0\n",
    "sum = 0\n",
    "for start in range(len(A)):\n",
    "    for end in range(start,len(A)):\n",
    "        for i in range(start,end+1):\n",
    "            print(A[i], end = \" \")\n",
    "            sum = sum + A[i]\n",
    "        print()   \n",
    "print()\n",
    "print(sum)"
   ]
  },
  {
   "cell_type": "code",
   "execution_count": null,
   "id": "d1422bd3",
   "metadata": {},
   "outputs": [],
   "source": []
  },
  {
   "cell_type": "code",
   "execution_count": null,
   "id": "cc444e95",
   "metadata": {},
   "outputs": [],
   "source": []
  },
  {
   "cell_type": "code",
   "execution_count": null,
   "id": "aff69c91",
   "metadata": {},
   "outputs": [],
   "source": []
  },
  {
   "cell_type": "code",
   "execution_count": null,
   "id": "370be9f2",
   "metadata": {},
   "outputs": [],
   "source": []
  },
  {
   "cell_type": "markdown",
   "id": "1b76ed65",
   "metadata": {},
   "source": [
    "# Q.: Maximum Subarray Sum: \n",
    "### find the subarray having maximum sum "
   ]
  },
  {
   "cell_type": "code",
   "execution_count": null,
   "id": "ebf76a17",
   "metadata": {},
   "outputs": [],
   "source": [
    "## brute force ## prefixsum ## prefixsumonthefly"
   ]
  },
  {
   "cell_type": "code",
   "execution_count": 1,
   "id": "7bdc8111",
   "metadata": {},
   "outputs": [
    {
     "name": "stdout",
     "output_type": "stream",
     "text": [
      "\n",
      "subarray having maximum sum : 140\n",
      "length of subarray with max sum :  6\n"
     ]
    }
   ],
   "source": [
    "A = [5,-10,100,-20,15,-10,25,30]\n",
    "length = None\n",
    "maxsum = -float('inf')\n",
    "for start in range(len(A)):\n",
    "    for end in range(start,len(A)):\n",
    "        sum = 0\n",
    "        for i in range(start,end+1):\n",
    "            sum += A[i]\n",
    "       # print(sum)\n",
    "        \n",
    "        if sum > maxsum:\n",
    "            maxsum = sum\n",
    "            length  = end-start+1\n",
    "print()\n",
    "print(\"subarray having maximum sum :\",maxsum)\n",
    "print(\"length of subarray with max sum : \",length)"
   ]
  },
  {
   "cell_type": "markdown",
   "id": "5a8e2a3d",
   "metadata": {},
   "source": [
    "### using a prefix sum array"
   ]
  },
  {
   "cell_type": "code",
   "execution_count": 133,
   "id": "57eb4861",
   "metadata": {},
   "outputs": [
    {
     "name": "stdout",
     "output_type": "stream",
     "text": [
      "[5, -5, 95, 75, 90, 80, 105, 135]\n"
     ]
    }
   ],
   "source": [
    "A = [5,-10,100,-20,15,-10,25,30]\n",
    "\n",
    "prefix = [A[0]]\n",
    "\n",
    "for i in range(1,len(A)):\n",
    "    prefix.append(A[i]+prefix[i-1])\n",
    "print(prefix)"
   ]
  },
  {
   "cell_type": "code",
   "execution_count": 134,
   "id": "2460d139",
   "metadata": {},
   "outputs": [
    {
     "name": "stdout",
     "output_type": "stream",
     "text": [
      "140\n"
     ]
    }
   ],
   "source": [
    "A = [5,-10,100,-20,15,-10,25,30]\n",
    "maxsum = -float('inf')\n",
    "for start in range(len(A)):\n",
    "    for end in range(start,len(A)):\n",
    "        if start==0:\n",
    "            sum = prefix[end]\n",
    "        else:\n",
    "            sum = prefix[end]-prefix[start-1]\n",
    "        if sum > maxsum:\n",
    "            maxsum = sum\n",
    "print(maxsum)"
   ]
  },
  {
   "cell_type": "markdown",
   "id": "95790389",
   "metadata": {},
   "source": [
    "### optimal \n"
   ]
  },
  {
   "cell_type": "code",
   "execution_count": 2,
   "id": "30229a37",
   "metadata": {},
   "outputs": [
    {
     "name": "stdout",
     "output_type": "stream",
     "text": [
      "140\n",
      "6\n"
     ]
    }
   ],
   "source": [
    "A = [5,-10,100,-20,15,-10,25,30]\n",
    "maxsum = -float('inf')\n",
    "length = None\n",
    "for s in range(len(A)):\n",
    "    sum = 0\n",
    "    for e in range(s,len(A)):\n",
    "        sum = sum + A[e]\n",
    "        if sum > maxsum:\n",
    "            maxsum = sum\n",
    "            length = e-s+1\n",
    "print(maxsum)\n",
    "print(length)"
   ]
  },
  {
   "cell_type": "markdown",
   "id": "997a01a8",
   "metadata": {},
   "source": [
    "#### kadean's algorithm for maxsum "
   ]
  },
  {
   "cell_type": "code",
   "execution_count": 6,
   "id": "90ab126e",
   "metadata": {},
   "outputs": [
    {
     "name": "stdout",
     "output_type": "stream",
     "text": [
      "140\n"
     ]
    }
   ],
   "source": [
    "A = [5,-10,100,-20,15,-10,25,30]\n",
    "n = len(A)\n",
    "maxsum = A[0]\n",
    "currentmaxsum  = A[0] \n",
    "\n",
    "for i in range(1,n):\n",
    "    currentmaxsum = max(A[i], currentmaxsum+A[i])\n",
    "    \n",
    "    maxsum = max(maxsum,currentmaxsum)\n",
    "    \n",
    "print(maxsum)\n",
    "    \n"
   ]
  },
  {
   "cell_type": "code",
   "execution_count": null,
   "id": "284a54fb",
   "metadata": {},
   "outputs": [],
   "source": []
  },
  {
   "cell_type": "code",
   "execution_count": null,
   "id": "c07f3110",
   "metadata": {},
   "outputs": [],
   "source": []
  },
  {
   "cell_type": "code",
   "execution_count": null,
   "id": "10b52696",
   "metadata": {},
   "outputs": [],
   "source": []
  },
  {
   "cell_type": "code",
   "execution_count": null,
   "id": "73971508",
   "metadata": {},
   "outputs": [],
   "source": []
  },
  {
   "cell_type": "code",
   "execution_count": null,
   "id": "fa98457d",
   "metadata": {},
   "outputs": [],
   "source": []
  },
  {
   "cell_type": "raw",
   "id": "451cf985",
   "metadata": {},
   "source": [
    "You are given an integer array C of size A. Now you need to find a subarray (contiguous elements) so that the sum of contiguous elements is maximum.\n",
    "But the sum must not exceed B.\n",
    "\n",
    "The first argument is the integer A.\n",
    "The second argument is the integer B.\n",
    "The third argument is the integer array C.\n",
    "\n",
    "A = 5\n",
    "B = 12\n",
    "C = [2, 1, 3, 4, 5]\n",
    "ans : 12\n",
    "\n",
    "A = 3\n",
    "B = 1\n",
    "C = [2, 2, 2]\n",
    "\n",
    "ans : 0"
   ]
  },
  {
   "cell_type": "code",
   "execution_count": 8,
   "id": "3097d286",
   "metadata": {},
   "outputs": [
    {
     "name": "stdout",
     "output_type": "stream",
     "text": [
      "4\n"
     ]
    }
   ],
   "source": [
    "n = 1\n",
    "B = 75\n",
    "A = [4]\n",
    "\n",
    "maxsum = -float('inf')\n",
    "result = 0\n",
    "for s in range(n):\n",
    "    sum = 0\n",
    "    for e in range(s,n):\n",
    "        sum += A[e]\n",
    "        \n",
    "        if sum <= B:\n",
    "            if sum >maxsum :\n",
    "                maxsum = sum\n",
    "                result = maxsum\n",
    "        else:\n",
    "            break\n",
    "print(result)"
   ]
  },
  {
   "cell_type": "code",
   "execution_count": 9,
   "id": "c0535b6c",
   "metadata": {},
   "outputs": [
    {
     "name": "stdout",
     "output_type": "stream",
     "text": [
      "4\n",
      "1\n"
     ]
    }
   ],
   "source": [
    "\n",
    "B = 75\n",
    "A = [4]\n",
    "n = len(A)\n",
    "maxsum = -float('inf')\n",
    "result = 0\n",
    "c = 0\n",
    "for s in range(n):\n",
    "    sum = 0\n",
    "    for e in range(s,n):\n",
    "        sum += A[e]\n",
    "        \n",
    "        if sum <= B:\n",
    "            if sum > maxsum:\n",
    "                maxsum = sum\n",
    "                result = maxsum\n",
    "                c = c+1\n",
    "                \n",
    "        \n",
    "print(result)\n",
    "print(c)\n",
    "            "
   ]
  },
  {
   "cell_type": "code",
   "execution_count": null,
   "id": "597ce853",
   "metadata": {},
   "outputs": [],
   "source": []
  },
  {
   "cell_type": "code",
   "execution_count": null,
   "id": "d31a9ef6",
   "metadata": {},
   "outputs": [],
   "source": []
  },
  {
   "cell_type": "markdown",
   "id": "bb84cbc0",
   "metadata": {},
   "source": [
    "## SubArrays having length k "
   ]
  },
  {
   "cell_type": "code",
   "execution_count": null,
   "id": "643381f2",
   "metadata": {},
   "outputs": [],
   "source": [
    "# 0 1 2 3 4 5 (indexes of array)\n",
    "# length of array = end-start+1 \n",
    "#                 = e - s + 1\n",
    "#                 = 5 - 0 +1 \n",
    "#                 = 6 \n",
    "\n",
    " \n",
    "# No of sub arrays of length 1 => N         k=1\n",
    "# No of sub arrays of length 2 => N-1       k=2\n",
    "# No of sub arrays of length 3 => N-2       k=3\n",
    "# No of sub arrays of length k => N-(k-1)   k=k\n",
    "\n",
    "# lst subarray indexes of length k : (start,end) = (N-k,N-1)\n",
    "\n",
    "#                   |----k-----|\n",
    "# #############################\n",
    "# 0                 |          n-1 \n",
    "#                start         end\n",
    "                # N-k         # N-1             \n",
    "    # k is a subarray size\n",
    "    \n",
    "    # end - start +1 = k     # end = start + k -1\n",
    "    # N-1 - (start)+1 = k\n",
    "    # N-1-start+1 = k\n",
    "    # start = N-k"
   ]
  },
  {
   "cell_type": "code",
   "execution_count": null,
   "id": "69fabe0a",
   "metadata": {},
   "outputs": [],
   "source": [
    "# e  - s  + 1 = k      # e = s+k-1\n",
    "# n-1 - s + 1 = k\n",
    "\n",
    "# s = n - k\n",
    "\n",
    "# index of subarray with len k (n-k,n-1)\n"
   ]
  },
  {
   "cell_type": "code",
   "execution_count": null,
   "id": "0ae6d9c7",
   "metadata": {},
   "outputs": [],
   "source": [
    "# 0 1 2 3 4 5 6 7 8 9 10\n",
    "#           5         10\n",
    "#          <1 2 3 4 5 6 >\n",
    "        \n",
    "# n = 11\n",
    "# k = 6\n",
    "\n",
    "# last subarray index : (n-k,n-1)\n",
    "#                        11-6,11-1\n",
    "#                        5 , 10\n",
    "\n",
    "\n"
   ]
  },
  {
   "cell_type": "code",
   "execution_count": null,
   "id": "3c291c26",
   "metadata": {},
   "outputs": [],
   "source": [
    "# total no subarrays for array length of N : n*(n+1)/2"
   ]
  },
  {
   "cell_type": "code",
   "execution_count": null,
   "id": "d8392206",
   "metadata": {},
   "outputs": [],
   "source": []
  },
  {
   "cell_type": "markdown",
   "id": "076711a7",
   "metadata": {},
   "source": [
    "# Q2: find the max sum\n",
    "# of subarrays with length k\n"
   ]
  },
  {
   "cell_type": "markdown",
   "id": "fef2a3c4",
   "metadata": {},
   "source": [
    "#### brute force"
   ]
  },
  {
   "cell_type": "code",
   "execution_count": 56,
   "id": "e5167078",
   "metadata": {},
   "outputs": [
    {
     "name": "stdout",
     "output_type": "stream",
     "text": [
      "80\n",
      "100\n",
      "140\n",
      "\n",
      "ans: 140\n"
     ]
    }
   ],
   "source": [
    "# go over all subarrays of length k\n",
    "# no of subarrays of len k : N-k+1\n",
    "# and subarrays are always defined by start and end index\n",
    "\n",
    "A = [5,-10,100,-20,15,-10,25,30]\n",
    "n = len(A)\n",
    "k = 6\n",
    "maxsum = -float('inf')\n",
    "for s in range(n-k+1):\n",
    "    e = s+k-1\n",
    "    sum = 0\n",
    "    for  i in range(s,e+1):\n",
    "        sum += A[i]\n",
    "        #print(A[s],\" \",A[e])\n",
    "    maxsum = max(sum,maxsum)\n",
    "    print(maxsum)\n",
    "print()\n",
    "print(\"ans:\",maxsum)\n",
    "        \n",
    "        \n",
    "        "
   ]
  },
  {
   "cell_type": "code",
   "execution_count": 57,
   "id": "4fd344ff",
   "metadata": {},
   "outputs": [
    {
     "name": "stdout",
     "output_type": "stream",
     "text": [
      "ans: 140\n"
     ]
    }
   ],
   "source": [
    "A = [5,-10,100,-20,15,-10,25,30]\n",
    "n = len(A)\n",
    "k = 6\n",
    "maxsum = -float('inf')\n",
    "for s in range(n-k+1):\n",
    "    e = s+k-1\n",
    "    sum = 0\n",
    "    for  i in range(s,e+1):\n",
    "        sum += A[i]       \n",
    "    maxsum = max(sum,maxsum)\n",
    "print(\"ans:\",maxsum)\n",
    "        \n",
    "        "
   ]
  },
  {
   "cell_type": "markdown",
   "id": "76e08b6e",
   "metadata": {},
   "source": [
    "### using prefix summ"
   ]
  },
  {
   "cell_type": "code",
   "execution_count": 58,
   "id": "31ca3cd5",
   "metadata": {},
   "outputs": [
    {
     "name": "stdout",
     "output_type": "stream",
     "text": [
      "ans: 140\n"
     ]
    }
   ],
   "source": [
    "A = [5,-10,100,-20,15,-10,25,30]\n",
    "prefix = [A[0]]\n",
    "\n",
    "for i in range(1,len(A)):\n",
    "    prefix.append(A[i]+prefix[-1])\n",
    "\n",
    "#print(prefix)\n",
    "n = len(A)\n",
    "k = 6\n",
    "maxsum = -float('inf')\n",
    "for s in range(n-k+1):\n",
    "    e = s+k-1\n",
    "    if s==0:\n",
    "        sum = prefix[e]\n",
    "    else:\n",
    "        sum = prefix[e]-prefix[s-1]\n",
    "    maxsum = max(sum,maxsum)\n",
    "print(\"ans:\",maxsum)\n",
    "        "
   ]
  },
  {
   "cell_type": "code",
   "execution_count": 22,
   "id": "ed5a8278",
   "metadata": {},
   "outputs": [
    {
     "name": "stdout",
     "output_type": "stream",
     "text": [
      "140\n",
      "23.333333333333332\n"
     ]
    }
   ],
   "source": [
    "A = [5,-10,100,-20,15,-10,25,30]\n",
    "p = [A[0]]\n",
    "\n",
    "k = 6\n",
    "n = len(A)\n",
    "for x in A[1:]:\n",
    "    p.append(x+p[-1])\n",
    "maxsum = -float('inf')\n",
    "maxavg = -float('inf')\n",
    "for s in range(n-k+1):\n",
    "    e = k + s - 1\n",
    "    if s == 0:\n",
    "        sum = p[e]\n",
    "    else:\n",
    "        sum = p[e]-p[s-1]\n",
    "    average = sum/k\n",
    "    #print(average)\n",
    "    \n",
    "    maxavg = max(average,maxavg)\n",
    "    maxsum = max(sum,maxsum)\n",
    "print(maxsum)\n",
    "print(average)\n"
   ]
  },
  {
   "cell_type": "code",
   "execution_count": null,
   "id": "ebcc469a",
   "metadata": {},
   "outputs": [],
   "source": []
  },
  {
   "cell_type": "markdown",
   "id": "6541b66b",
   "metadata": {},
   "source": [
    "### optimal"
   ]
  },
  {
   "cell_type": "code",
   "execution_count": null,
   "id": "4a7aef93",
   "metadata": {},
   "outputs": [],
   "source": []
  },
  {
   "cell_type": "code",
   "execution_count": 113,
   "id": "6e59da16",
   "metadata": {},
   "outputs": [
    {
     "name": "stdout",
     "output_type": "stream",
     "text": [
      "ans: 140\n"
     ]
    }
   ],
   "source": [
    "A = [5,-10,100,-20,15,-10,25,30]\n",
    "n = len(A)\n",
    "k = 6\n",
    "\n",
    "sum = 0\n",
    "for  i in range(k):\n",
    "    sum += A[i] \n",
    "maxsum = sum\n",
    "for s in range(1,n-k+1):\n",
    "    e = s + k - 1\n",
    "    \n",
    "    sum = sum - A[s-1]+A[e]\n",
    "    \n",
    "    maxsum = max(sum,maxsum)\n",
    "    \n",
    "print(\"ans:\",maxsum)        "
   ]
  },
  {
   "cell_type": "code",
   "execution_count": 338,
   "id": "fba71bd9",
   "metadata": {},
   "outputs": [],
   "source": [
    "##################\n",
    "# s       e-1   s1\n",
    "#   s        e  s2\n",
    "\n",
    "# s2 = s1-A[s-1]+A[e]\n",
    "\n",
    "# a[0]+a[1]+a[2]+a[3]            =s1\n",
    "#      a[1]+a[2]+a[3]+a[4]       =s2\n",
    "#           a[2]+a[3]+a[4]+a[5]  =s3\n",
    "        \n",
    "#         so , s3   = s2-a[1]+a[5]\n",
    "#              s(n) = s(n-1) - a(s-1)+a(e)"
   ]
  },
  {
   "attachments": {
    "image.png": {
     "image/png": "[encoded data removed]"
    }
   },
   "cell_type": "markdown",
   "id": "19a19f8b",
   "metadata": {},
   "source": [
    "![image.png](attachment:image.png)"
   ]
  },
  {
   "cell_type": "code",
   "execution_count": null,
   "id": "eba80573",
   "metadata": {},
   "outputs": [],
   "source": []
  },
  {
   "cell_type": "code",
   "execution_count": null,
   "id": "c03b2a16",
   "metadata": {},
   "outputs": [],
   "source": []
  },
  {
   "cell_type": "code",
   "execution_count": null,
   "id": "4a833962",
   "metadata": {},
   "outputs": [],
   "source": []
  },
  {
   "cell_type": "code",
   "execution_count": null,
   "id": "bff48084",
   "metadata": {},
   "outputs": [],
   "source": []
  },
  {
   "cell_type": "code",
   "execution_count": null,
   "id": "b1e92741",
   "metadata": {},
   "outputs": [],
   "source": []
  },
  {
   "cell_type": "code",
   "execution_count": null,
   "id": "0203dd23",
   "metadata": {},
   "outputs": [],
   "source": []
  },
  {
   "cell_type": "code",
   "execution_count": null,
   "id": "baec1e49",
   "metadata": {},
   "outputs": [],
   "source": []
  },
  {
   "cell_type": "code",
   "execution_count": null,
   "id": "f9a2adc3",
   "metadata": {},
   "outputs": [],
   "source": []
  },
  {
   "cell_type": "code",
   "execution_count": null,
   "id": "03863893",
   "metadata": {},
   "outputs": [],
   "source": []
  },
  {
   "cell_type": "code",
   "execution_count": null,
   "id": "821c040b",
   "metadata": {},
   "outputs": [],
   "source": []
  },
  {
   "cell_type": "code",
   "execution_count": null,
   "id": "c2b54d29",
   "metadata": {},
   "outputs": [],
   "source": []
  },
  {
   "cell_type": "code",
   "execution_count": null,
   "id": "95fffcf1",
   "metadata": {},
   "outputs": [],
   "source": []
  },
  {
   "cell_type": "markdown",
   "id": "c666cd45",
   "metadata": {},
   "source": []
  },
  {
   "cell_type": "markdown",
   "id": "ec4df431",
   "metadata": {},
   "source": [
    "### number of subarrays containing A[i]\n"
   ]
  },
  {
   "cell_type": "code",
   "execution_count": null,
   "id": "f7a9872d",
   "metadata": {},
   "outputs": [],
   "source": []
  },
  {
   "cell_type": "code",
   "execution_count": null,
   "id": "87111ef8",
   "metadata": {},
   "outputs": [],
   "source": [
    "A = [3,-2,4,-1,2,6]\n",
    "#    0  1 2  3 4  5 \n",
    "n = len(A)\n",
    "\n",
    "# how many subarrays contains the value :  -1    :::\n",
    "\n",
    " "
   ]
  },
  {
   "cell_type": "code",
   "execution_count": 17,
   "id": "e8766412",
   "metadata": {},
   "outputs": [
    {
     "name": "stdout",
     "output_type": "stream",
     "text": [
      "10\n",
      "10\n"
     ]
    }
   ],
   "source": [
    "A = [3,-2,4,-1,2,6]\n",
    "n = len(A)\n",
    "i = 1   # chck this ith element present in which sub arrays\n",
    "count = 0\n",
    "elementi = A[i]   # element at given index \n",
    "for s in range(n):\n",
    "    for e in range(s,n):\n",
    "        if elementi in A[s:e+1]:\n",
    "            #print(A[s:e+1])\n",
    "            count+=1\n",
    "print(count)\n",
    "\n",
    "print((i+1) * (n-i))"
   ]
  },
  {
   "cell_type": "code",
   "execution_count": null,
   "id": "0003d79b",
   "metadata": {},
   "outputs": [],
   "source": [
    " #(i+1) * (n-i)\n",
    "ans = (index+1) * (n-index)"
   ]
  },
  {
   "cell_type": "raw",
   "id": "972f2ff7",
   "metadata": {},
   "source": [
    " \n",
    "[-2]\n",
    "[-2, 4]\n",
    "[-2, 4, -1]\n",
    "[-2, 4, -1, 2]\n",
    "[-2, 4, -1, 2, 6]\n",
    "[3, -2]\n",
    "[3, -2, 4]\n",
    "[3, -2, 4, -1]\n",
    "[3, -2, 4, -1, 2]\n",
    "[3, -2, 4, -1, 2, 6]"
   ]
  },
  {
   "cell_type": "code",
   "execution_count": 20,
   "id": "ba12fc6a",
   "metadata": {},
   "outputs": [],
   "source": [
    "\n",
    "# # A = [3,-2,4,-1,2,6]\n",
    "# #    0  1 2  3 4  5 \n",
    "\n",
    "# subaarays containing -2 : \n",
    "# [-2]\n",
    "# [-2,4]\n",
    "# [-2,4,-1]\n",
    "# [-2,4,-1,2]\n",
    "# [-2,4,-1,2,6]\n",
    "# [3,-2]\n",
    "# [3,-2,4]\n",
    "# [3,-2,4,-1]\n",
    "# [3,-2,4,-1,2]\n",
    "# [3,-2,4,-1,2,6]\n",
    "\n",
    "\n",
    "\n",
    "\n",
    "# A = 0-----------i---------------n-1\n",
    "\n",
    "# ## count the # of subarrays that contains index i\n",
    "\n",
    "# i\n",
    "# i,i+1\n",
    "# i,i+1,i+2\n",
    "# ..\n",
    "# ..\n",
    "# i,n-1\n",
    "#           b  -a+1\n",
    "# =total = n-1 -i+1\n",
    "# = total (n-i) susbarrays containing i \n",
    "\n",
    "# : and : now :\n",
    "# from i\n",
    "\n",
    "# i-1,i\n",
    "# i-2,i\n",
    "# i-3,i\n",
    "# 0,i\n",
    "\n",
    "# total : n-i + n-i + n-i + .... + for each possible starts till  : 0-i\n",
    "\n",
    "\n",
    "\n",
    "# possible starts : 0 ---> i which is  i+1 number of arrays containing i index\n",
    "                                     #(i-0+1)\n",
    "\n",
    "\n",
    "# 3 ways from banglor to mumbai : 5 ways from mumbai to Ahmedabad\n",
    "# total : 15 ways from bangloer to ahmedabad\n",
    "\n",
    "# same way : \n",
    "# from 0 to i: and from i to n-i\n",
    "\n",
    "# 0------i------n-1\n",
    "\n",
    "#    # # # # # # # # # # # # # # #\n",
    "#    0         i                 n-1\n",
    "#    s s s s s s                     : starts \n",
    "#              e e e e e e e e e e   : ends\n",
    "    \n",
    "# start : 0 to i   : i+1 values                     (b-a+1 formula)\n",
    "# ends :  i to n-1 : n-1-i+1 values = n-i values    (b-a+1 formula)\n",
    "\n",
    "# so , total numbers of arrays containing i is : (i+1) * (n-i)\n",
    "\n",
    "\n",
    "\n",
    "\n",
    "\n",
    "#      in this examples\n",
    "# # A = [3,-2,4,-1,2,6]\n",
    "# #    0  1 2  3 4  5     n = 6 , i=1 (# of subarrays containing i)\n",
    "# of subarrays containing i= i+1 * n-i\n",
    "#                          = 1+1 * 6 -1\n",
    "#                          = 2 * 5\n",
    "#                          = 10\n",
    "\n",
    "\n"
   ]
  },
  {
   "cell_type": "code",
   "execution_count": null,
   "id": "4283bac4",
   "metadata": {},
   "outputs": [],
   "source": []
  },
  {
   "cell_type": "markdown",
   "id": "48a5d2e4",
   "metadata": {},
   "source": []
  },
  {
   "cell_type": "code",
   "execution_count": null,
   "id": "a3dcfe55",
   "metadata": {},
   "outputs": [],
   "source": []
  },
  {
   "cell_type": "code",
   "execution_count": null,
   "id": "88979454",
   "metadata": {},
   "outputs": [],
   "source": []
  },
  {
   "cell_type": "markdown",
   "id": "feda4956",
   "metadata": {},
   "source": [
    "# sum of all subarrays \n",
    "### find sum of all elements of all subarrays of A\n"
   ]
  },
  {
   "cell_type": "markdown",
   "id": "15451d1f",
   "metadata": {},
   "source": [
    "#### brute force"
   ]
  },
  {
   "cell_type": "code",
   "execution_count": null,
   "id": "b67044e4",
   "metadata": {},
   "outputs": [],
   "source": [
    "# A = [1,2,3]\n",
    "\n",
    "# 1\n",
    "# 1,2\n",
    "# 1,2,3\n",
    "# 2\n",
    "# 2,3\n",
    "# 3\n",
    "# = 20"
   ]
  },
  {
   "cell_type": "code",
   "execution_count": 24,
   "id": "204004fb",
   "metadata": {},
   "outputs": [
    {
     "name": "stdout",
     "output_type": "stream",
     "text": [
      "50\n"
     ]
    }
   ],
   "source": [
    "A = [1,2,3,4]\n",
    "# go through each subarrays and ffind sum of elemebts   :  O(n**3),O(1)\n",
    "total = 0\n",
    "   # start\n",
    "for s in range(len(A)):\n",
    "    for e in range(s,len(A)):     # end\n",
    "        for i in range(s,e+1):   # start : end\n",
    "            total += A[i]\n",
    "print(total)"
   ]
  },
  {
   "cell_type": "markdown",
   "id": "c250d942",
   "metadata": {},
   "source": [
    "\n",
    "#### calculating sum with prefix sum"
   ]
  },
  {
   "cell_type": "code",
   "execution_count": 26,
   "id": "b19c6c1f",
   "metadata": {},
   "outputs": [
    {
     "name": "stdout",
     "output_type": "stream",
     "text": [
      "50\n"
     ]
    }
   ],
   "source": [
    "A = [1,2,3,4]\n",
    "\n",
    "p = [A[0]]\n",
    "for i in range(1,len(A)):\n",
    "    p.append(A[i]+p[i-1])\n",
    "\n",
    "# go through each subarrays and ffind sum of elemebts   :  O(n**2),O(n)\n",
    "total = 0\n",
    "   # start\n",
    "for s in range(len(A)):\n",
    "    for e in range(s,len(A)):     # end\n",
    "        if s == 0 :\n",
    "            total += p[e]\n",
    "        else:\n",
    "            total += p[e]-p[s-1]\n",
    "        \n",
    "        \n",
    "print(total)\n",
    "\n",
    "\n",
    "\n",
    "# O(n2),O(n)"
   ]
  },
  {
   "cell_type": "code",
   "execution_count": 27,
   "id": "c56e2f91",
   "metadata": {},
   "outputs": [
    {
     "name": "stdout",
     "output_type": "stream",
     "text": [
      "50\n"
     ]
    }
   ],
   "source": [
    "A = [1,2,3,4]\n",
    "\n",
    "p = [A[0]]\n",
    "for i in range(1,len(A)):\n",
    "    p.append(A[i]+p[i-1])\n",
    "\n",
    "# go through each subarrays and ffind sum of elemebts   :  O(n**2),O(n)\n",
    "total = 0\n",
    "   # start\n",
    "for s in range(len(A)):\n",
    "    summ = 0\n",
    "    for e in range(s,len(A)):     # end\n",
    "        if s == 0 :\n",
    "            summ = p[e]\n",
    "        else:\n",
    "            summ = p[e]-p[s-1]\n",
    "        total += summ\n",
    "        \n",
    "print(total)\n",
    "\n",
    "\n",
    "\n",
    "# O(n2),O(n)"
   ]
  },
  {
   "cell_type": "markdown",
   "id": "d021ce64",
   "metadata": {},
   "source": [
    "#### carry forward.\n",
    "\n"
   ]
  },
  {
   "cell_type": "code",
   "execution_count": 28,
   "id": "cbf4eecb",
   "metadata": {},
   "outputs": [
    {
     "name": "stdout",
     "output_type": "stream",
     "text": [
      "\n",
      "ans: 50\n"
     ]
    }
   ],
   "source": [
    "A = [1,2,3,4]\n",
    "\n",
    "total = 0\n",
    "   # start\n",
    "for s in range(len(A)):\n",
    "    sum = 0\n",
    "    for e in range(s,len(A)):\n",
    "        sum += A[e]\n",
    "        \n",
    "        total = total + sum\n",
    "#        print(total, \" \",A[s:e+1], sum)\n",
    "\n",
    "print()\n",
    "\n",
    "print(\"ans:\",total)\n",
    "\n",
    "\n",
    "\n",
    "# O(n2),O(1)"
   ]
  },
  {
   "cell_type": "code",
   "execution_count": null,
   "id": "6734d472",
   "metadata": {},
   "outputs": [],
   "source": [
    "# 1    [1]       1\n",
    "# 4    [1, 2]    3\n",
    "# 10   [1, 2, 3] 6\n",
    "# 12   [2]       2\n",
    "# 17   [2, 3]    5\n",
    "# 20   [3]       3 \n"
   ]
  },
  {
   "cell_type": "code",
   "execution_count": null,
   "id": "e8bb34fe",
   "metadata": {},
   "outputs": [],
   "source": []
  },
  {
   "cell_type": "code",
   "execution_count": null,
   "id": "9e03a008",
   "metadata": {},
   "outputs": [],
   "source": []
  },
  {
   "cell_type": "markdown",
   "id": "a2882e67",
   "metadata": {},
   "source": []
  },
  {
   "cell_type": "code",
   "execution_count": null,
   "id": "63ed1470",
   "metadata": {},
   "outputs": [],
   "source": []
  },
  {
   "cell_type": "code",
   "execution_count": null,
   "id": "d24d63a2",
   "metadata": {},
   "outputs": [],
   "source": []
  },
  {
   "cell_type": "markdown",
   "id": "0f84dffe",
   "metadata": {},
   "source": [
    "# now\n",
    "\n",
    "###  ********* ** inverting the problem   ******************** **"
   ]
  },
  {
   "cell_type": "code",
   "execution_count": null,
   "id": "8f2768f9",
   "metadata": {},
   "outputs": [],
   "source": [
    "# number of subarrays in array size of n is  n(n+1)/2   : n+1 C 2  : n+1 choose 2 "
   ]
  },
  {
   "cell_type": "code",
   "execution_count": null,
   "id": "361dd3b8",
   "metadata": {},
   "outputs": [],
   "source": [
    "# lets invert the problem \n",
    "\n"
   ]
  },
  {
   "cell_type": "code",
   "execution_count": 29,
   "id": "82ef94e8",
   "metadata": {},
   "outputs": [
    {
     "name": "stdout",
     "output_type": "stream",
     "text": [
      "50\n"
     ]
    }
   ],
   "source": [
    "A = [1,2,3,4]          # bruteforce \n",
    "# O(n**3),O(1)\n",
    "total = 0\n",
    "   # start\n",
    "for s in range(len(A)):\n",
    "    for e in range(s,len(A)):     # end\n",
    "        for i in range(s,e+1):   # start : end\n",
    "            total += A[i]\n",
    "print(total)\n",
    "\n",
    "# now lets invert the loops"
   ]
  },
  {
   "cell_type": "code",
   "execution_count": null,
   "id": "406be644",
   "metadata": {},
   "outputs": [],
   "source": [
    "# in above:\n",
    "# total = 0\n",
    "# for each subarry S of A:\n",
    "#     for each element e in subarry S:\n",
    "#         total = total + elements             \n",
    "                                     #     1 + 12 + 123  +2 + 23 + 3 = 20\n",
    "\n",
    "\n",
    "# switching for loops"
   ]
  },
  {
   "cell_type": "code",
   "execution_count": null,
   "id": "930643a0",
   "metadata": {},
   "outputs": [],
   "source": [
    "# A = [1,2,3]         \n",
    "# total = 0\n",
    "# for each elements e in given array A:     \n",
    "#     for each subarray containing e (number of subarrays having element e) :          \n",
    "#         total += e\n",
    "# print(total)\n",
    "\n",
    "# elements of A : 1,2,3\n",
    "#     1: 1,12,123       = 3 arrays of element 1    (1+1+1)   = 3    3*1\n",
    "#     2: 2,12,123,23    = 4 arrays of element 2    (2+2+2+2) = 8    4*2\n",
    "#     3: 3,23,123       = 3 arrays of element 3    (3+3+3)   = 9    3*3\n",
    "#                                                     total  = 20    20\n",
    "        \n"
   ]
  },
  {
   "cell_type": "code",
   "execution_count": null,
   "id": "23d1cf72",
   "metadata": {},
   "outputs": [],
   "source": [
    "# for each elements e in A:     \n",
    "#     for each subarrays containing e:          \n",
    "#         total += e\n",
    "# print(total)\n",
    "\n",
    "\n",
    "\n",
    "# how to write for each subarrays containing e element:  ]] repeated addition\n",
    "\n",
    "# repeated addition is : multiplication \n",
    "\n",
    "\n",
    "\n",
    "# now, instead of above two loops, we canwirte\n",
    "\n",
    "# A = [1,2,3]         \n",
    "# total = 0\n",
    "# for each elements e in A:     \n",
    "#     total += e*(# of subarrays containing e)  (i+1*n-i)  (i is index of e)\n",
    "# print(total)\n",
    "\n"
   ]
  },
  {
   "cell_type": "code",
   "execution_count": null,
   "id": "02e92441",
   "metadata": {},
   "outputs": [],
   "source": []
  },
  {
   "cell_type": "code",
   "execution_count": 165,
   "id": "ea056819",
   "metadata": {},
   "outputs": [
    {
     "name": "stdout",
     "output_type": "stream",
     "text": [
      "20\n"
     ]
    }
   ],
   "source": [
    "A = [1,2,3] \n",
    "n = len(A)\n",
    "total = 0\n",
    "for i in range(len(A)):     \n",
    "    \n",
    "    total +=   A[i]  *  (i+1)*(n-i) \n",
    "    #print(total, A[i], (i+1)*(n-i))\n",
    "                  #element   # for each subarrays containing element\n",
    "        \n",
    "            #both things contribution if the current elements to the totl\n",
    "print(total)"
   ]
  },
  {
   "cell_type": "code",
   "execution_count": null,
   "id": "62826815",
   "metadata": {},
   "outputs": [],
   "source": [
    "# Total  e   number of subarrays containing  e\n",
    "#  3     1   3\n",
    "# 11     2   4\n",
    "# 20     3   3\n",
    "\n",
    "# total : \n",
    "# 20"
   ]
  },
  {
   "cell_type": "code",
   "execution_count": null,
   "id": "72c1bbc8",
   "metadata": {},
   "outputs": [],
   "source": []
  },
  {
   "cell_type": "code",
   "execution_count": null,
   "id": "50be96a5",
   "metadata": {},
   "outputs": [],
   "source": []
  },
  {
   "cell_type": "code",
   "execution_count": null,
   "id": "3fec5368",
   "metadata": {},
   "outputs": [],
   "source": []
  },
  {
   "cell_type": "code",
   "execution_count": null,
   "id": "def938ba",
   "metadata": {},
   "outputs": [],
   "source": []
  },
  {
   "cell_type": "markdown",
   "id": "0faf99e2",
   "metadata": {},
   "source": [
    "# Q! : HW 3 : alternating subarrays\n",
    "\n",
    "array A length  N\n",
    "[011010100010110101]\n",
    "\n",
    "B = 2\n",
    "\n",
    "find subarrays of length 2B+1 such that , it has alternating 0s 1s\n",
    "\n",
    "return the centre index of those subarrays in  a list\n",
    "\n",
    "\n"
   ]
  },
  {
   "cell_type": "code",
   "execution_count": null,
   "id": "c2bca3be",
   "metadata": {},
   "outputs": [],
   "source": [
    "                          [-------]\n",
    "0 1 1 0 1 0 1 0 0 0 1 0 1 1 0 1 0 1\n",
    "[       ]     \n",
    "  [       ]\n",
    "    [-------]\n",
    "      [-------]\n",
    "        [       ]\n",
    "        \n",
    "dashed subarrays are the length 5  , having 0s and 1s alternating\n",
    "\n",
    "          "
   ]
  },
  {
   "cell_type": "code",
   "execution_count": null,
   "id": "4580c0f9",
   "metadata": {},
   "outputs": [],
   "source": [
    "A = [1,0,1,0,1]\n",
    "#    0 1 2 3 4\n",
    "#      [   ]\n",
    "#         [   ]\n",
    "#           [   ]\n",
    "\n",
    "B = 1   # windows size : 2B+1 = 3\n",
    "\n",
    "\n",
    "'''\n",
    "L = e-s+1\n",
    "e = L+s-1\n",
    "'''\n",
    "     "
   ]
  },
  {
   "cell_type": "code",
   "execution_count": 115,
   "id": "2820a606",
   "metadata": {},
   "outputs": [
    {
     "name": "stdout",
     "output_type": "stream",
     "text": [
      "[1, 2, 3]\n"
     ]
    }
   ],
   "source": [
    "A = [1,0,1,0,1]\n",
    "B = 1\n",
    "\n",
    "n = len(A)\n",
    "L = 2*B +1 \n",
    "centres = []\n",
    "# lets generate  the subarrays with length of L\n",
    "\n",
    "for start in range(n-L+1):\n",
    "    end = start + L -1\n",
    "    \n",
    "      # validate if this subarrays is alternating\n",
    "    prev = None\n",
    "    is_alternating = True\n",
    "    for i in range(start,end+1):\n",
    "        if A[i]== prev:\n",
    "            # current val is the same as the last one\n",
    "            #so no alternating\n",
    "            is_alternating = False\n",
    "            break\n",
    "        # for the next iteration , the current val will bcm prvious val\n",
    "        prev = A[i]\n",
    "        \n",
    "    if is_alternating:\n",
    "        centres.append((start+end)//2)\n",
    "print(centres)\n",
    "        \n",
    "    "
   ]
  },
  {
   "cell_type": "code",
   "execution_count": 7,
   "id": "82aa9db5",
   "metadata": {},
   "outputs": [
    {
     "name": "stdout",
     "output_type": "stream",
     "text": [
      "1010101000000010\n",
      "\n",
      "10101\n",
      "[2]\n",
      "01010\n",
      "[2, 3]\n",
      "10101\n",
      "[2, 3, 4]\n",
      "01010\n",
      "[2, 3, 4, 5]\n",
      "10100\n",
      "01000\n",
      "10000\n",
      "00000\n",
      "00000\n",
      "00000\n",
      "00001\n",
      "00010\n",
      "[2, 3, 4, 5]\n"
     ]
    }
   ],
   "source": [
    "A = [1,0,1,0,1,0,1,0,0,0,0,0,0,0,1,0]\n",
    "B = 2\n",
    "n = len(A)\n",
    "\n",
    "L = 2*B+1\n",
    "ans = []\n",
    "\n",
    "if B == 0:\n",
    "    print(list(range(n)))   # if B is zero , simply all the single element \n",
    "                                # subarrays are answer \n",
    "if L > n:\n",
    "    print(0)           # if L is larger than array size, ans = 0\n",
    "sr = \"\"                     # initialize empty string\n",
    "\n",
    "for i in range(n):\n",
    "    sr = sr + str(A[i])        # converted array into string \n",
    "print(sr)          \n",
    "print()\n",
    "for i in range(B,n-B):            # check from B to n-B\n",
    "    print(sr[i-B:i+B+1])          # L windows size checking if\n",
    "                                 # windows has side by side 0s or 1s\n",
    "                                    # if has , its not alternating \n",
    "                                    # if has not : \n",
    "                               # its  alternating \n",
    "                                \n",
    "    if \"00\" not in sr[i-B:i+B+1] and \"11\" not in sr[i-B:i+B+1]:\n",
    "        #print(sr[i-B:i+B+1])\n",
    "        ans.append(i)            # append that index , as its the centre of the subaarray\n",
    "        print(ans)\n",
    "print(ans)\n",
    "    \n",
    "        \n",
    "    "
   ]
  },
  {
   "cell_type": "code",
   "execution_count": null,
   "id": "253a0d0e",
   "metadata": {},
   "outputs": [],
   "source": []
  },
  {
   "cell_type": "code",
   "execution_count": null,
   "id": "565a524d",
   "metadata": {},
   "outputs": [],
   "source": []
  },
  {
   "cell_type": "code",
   "execution_count": 11,
   "id": "77b52bb2",
   "metadata": {},
   "outputs": [
    {
     "name": "stdout",
     "output_type": "stream",
     "text": [
      "8\n",
      "2 6\n",
      "8 6\n",
      "1 13\n",
      "3 18\n",
      "2 24\n"
     ]
    },
    {
     "data": {
      "text/plain": [
       "24"
      ]
     },
     "execution_count": 11,
     "metadata": {},
     "output_type": "execute_result"
    }
   ],
   "source": [
    "'''Given an integer array A of size N. In one second,\n",
    "you can increase the value of one element by 1.\n",
    "\n",
    "Find the minimum time in seconds\n",
    "to make all elements of the array equal.'''\n",
    "def timetoEquality(A):\n",
    "    n = len(A)\n",
    "    val = 0\n",
    "    for i in range(n):\n",
    "        val = max(val, A[i])\n",
    "    print(val)\n",
    "    count = 0\n",
    "    for i in range(n):\n",
    "        count += val - A[i]\n",
    "        print(A[i],count)\n",
    "    return count\n",
    "timetoEquality([2,8,1,3,2])"
   ]
  },
  {
   "cell_type": "code",
   "execution_count": null,
   "id": "5c6ce914",
   "metadata": {},
   "outputs": [],
   "source": []
  },
  {
   "cell_type": "code",
   "execution_count": null,
   "id": "4e0fb61d",
   "metadata": {},
   "outputs": [],
   "source": []
  },
  {
   "cell_type": "code",
   "execution_count": 25,
   "id": "bc294e84",
   "metadata": {},
   "outputs": [
    {
     "name": "stdout",
     "output_type": "stream",
     "text": [
      "A\n",
      "7\n",
      "A\n",
      "12\n",
      "I\n",
      "15\n",
      "\n",
      "ans: 15\n"
     ]
    }
   ],
   "source": [
    "\n",
    "S = \"AMAZING\"\n",
    "mod = 10003\n",
    "count = 0\n",
    "vowels = [\"a\",\"e\",\"i\",\"o\",\"u\",\"A\",\"E\",\"I\",\"O\",\"U\"]\n",
    "n = len(S)\n",
    "for i in range(len(S)):\n",
    "    if S[i] in vowels:\n",
    "        print(S[i])\n",
    "        count += n-i\n",
    "        print(count)\n",
    "print()\n",
    "print(\"ans:\",count)\n"
   ]
  },
  {
   "cell_type": "code",
   "execution_count": null,
   "id": "f31d63b8",
   "metadata": {},
   "outputs": [],
   "source": [
    "\n"
   ]
  },
  {
   "cell_type": "code",
   "execution_count": null,
   "id": "2311a784",
   "metadata": {},
   "outputs": [],
   "source": [
    "A\n",
    "AM\n",
    "AMA\n",
    "AMAZ\n",
    "AMAZI\n",
    "AMAZIN\n",
    "AMAZING\n",
    "# M\n",
    "# MA\n",
    "# MAZ\n",
    "# MAZI\n",
    "# MAZIN\n",
    "# MAZING\n",
    "A\n",
    "AZ\n",
    "AZI\n",
    "AZIN\n",
    "AZING\n",
    "# Z\n",
    "# ZI\n",
    "# ZIN\n",
    "# ZING\n",
    "I\n",
    "IN\n",
    "ING\n",
    "# N\n",
    "# NG\n",
    "# G\n",
    "\n"
   ]
  },
  {
   "cell_type": "code",
   "execution_count": null,
   "id": "da1f11fb",
   "metadata": {},
   "outputs": [],
   "source": []
  },
  {
   "cell_type": "code",
   "execution_count": null,
   "id": "f69d8e10",
   "metadata": {},
   "outputs": [],
   "source": []
  },
  {
   "cell_type": "code",
   "execution_count": null,
   "id": "2e4e5d87",
   "metadata": {},
   "outputs": [],
   "source": []
  },
  {
   "cell_type": "code",
   "execution_count": null,
   "id": "a055e577",
   "metadata": {},
   "outputs": [],
   "source": []
  },
  {
   "cell_type": "code",
   "execution_count": null,
   "id": "9278c38a",
   "metadata": {},
   "outputs": [],
   "source": []
  },
  {
   "cell_type": "code",
   "execution_count": null,
   "id": "0449b357",
   "metadata": {},
   "outputs": [],
   "source": []
  },
  {
   "cell_type": "code",
   "execution_count": null,
   "id": "a2c0be44",
   "metadata": {},
   "outputs": [],
   "source": []
  },
  {
   "cell_type": "code",
   "execution_count": null,
   "id": "bec7ca0e",
   "metadata": {},
   "outputs": [],
   "source": []
  },
  {
   "cell_type": "code",
   "execution_count": null,
   "id": "06090f29",
   "metadata": {},
   "outputs": [],
   "source": []
  },
  {
   "cell_type": "code",
   "execution_count": null,
   "id": "47c1371a",
   "metadata": {},
   "outputs": [],
   "source": []
  },
  {
   "cell_type": "code",
   "execution_count": null,
   "id": "19e80626",
   "metadata": {},
   "outputs": [],
   "source": []
  },
  {
   "cell_type": "code",
   "execution_count": null,
   "id": "651a0c8e",
   "metadata": {},
   "outputs": [],
   "source": []
  },
  {
   "cell_type": "code",
   "execution_count": null,
   "id": "2dc0743a",
   "metadata": {},
   "outputs": [],
   "source": []
  },
  {
   "cell_type": "code",
   "execution_count": null,
   "id": "6c9c142a",
   "metadata": {},
   "outputs": [],
   "source": []
  },
  {
   "cell_type": "code",
   "execution_count": null,
   "id": "ead69e18",
   "metadata": {},
   "outputs": [],
   "source": []
  },
  {
   "cell_type": "code",
   "execution_count": null,
   "id": "b18e1983",
   "metadata": {},
   "outputs": [],
   "source": []
  },
  {
   "cell_type": "code",
   "execution_count": null,
   "id": "695eaa1f",
   "metadata": {},
   "outputs": [],
   "source": []
  },
  {
   "cell_type": "code",
   "execution_count": null,
   "id": "94398711",
   "metadata": {},
   "outputs": [],
   "source": []
  },
  {
   "cell_type": "code",
   "execution_count": null,
   "id": "f3cb9d1a",
   "metadata": {},
   "outputs": [],
   "source": []
  },
  {
   "cell_type": "code",
   "execution_count": null,
   "id": "aefc045d",
   "metadata": {},
   "outputs": [],
   "source": []
  },
  {
   "cell_type": "code",
   "execution_count": null,
   "id": "b86a855b",
   "metadata": {},
   "outputs": [],
   "source": []
  },
  {
   "cell_type": "code",
   "execution_count": null,
   "id": "5b1654b1",
   "metadata": {},
   "outputs": [],
   "source": []
  },
  {
   "cell_type": "code",
   "execution_count": null,
   "id": "f0e2a6ac",
   "metadata": {},
   "outputs": [],
   "source": []
  },
  {
   "cell_type": "code",
   "execution_count": null,
   "id": "07f225e0",
   "metadata": {},
   "outputs": [],
   "source": []
  },
  {
   "cell_type": "code",
   "execution_count": null,
   "id": "7e641601",
   "metadata": {},
   "outputs": [],
   "source": []
  },
  {
   "cell_type": "code",
   "execution_count": null,
   "id": "8f47c210",
   "metadata": {},
   "outputs": [],
   "source": []
  },
  {
   "cell_type": "code",
   "execution_count": null,
   "id": "a921f0b6",
   "metadata": {},
   "outputs": [],
   "source": []
  },
  {
   "cell_type": "code",
   "execution_count": null,
   "id": "92786942",
   "metadata": {},
   "outputs": [],
   "source": []
  },
  {
   "cell_type": "code",
   "execution_count": null,
   "id": "22b933d7",
   "metadata": {},
   "outputs": [],
   "source": []
  },
  {
   "cell_type": "code",
   "execution_count": null,
   "id": "5266875c",
   "metadata": {},
   "outputs": [],
   "source": []
  },
  {
   "cell_type": "code",
   "execution_count": null,
   "id": "c478e09b",
   "metadata": {},
   "outputs": [],
   "source": []
  },
  {
   "cell_type": "code",
   "execution_count": null,
   "id": "5b699ac3",
   "metadata": {},
   "outputs": [],
   "source": []
  },
  {
   "cell_type": "code",
   "execution_count": null,
   "id": "9af7ae2e",
   "metadata": {},
   "outputs": [],
   "source": []
  },
  {
   "cell_type": "code",
   "execution_count": null,
   "id": "53f066a8",
   "metadata": {},
   "outputs": [],
   "source": []
  },
  {
   "cell_type": "code",
   "execution_count": null,
   "id": "e2d92930",
   "metadata": {},
   "outputs": [],
   "source": []
  },
  {
   "cell_type": "code",
   "execution_count": null,
   "id": "522e9efb",
   "metadata": {},
   "outputs": [],
   "source": []
  },
  {
   "cell_type": "code",
   "execution_count": null,
   "id": "bedf9fb4",
   "metadata": {},
   "outputs": [],
   "source": []
  },
  {
   "cell_type": "code",
   "execution_count": null,
   "id": "5c543630",
   "metadata": {},
   "outputs": [],
   "source": []
  },
  {
   "cell_type": "code",
   "execution_count": null,
   "id": "9c60b2cd",
   "metadata": {},
   "outputs": [],
   "source": []
  },
  {
   "cell_type": "code",
   "execution_count": null,
   "id": "4f81f2d6",
   "metadata": {},
   "outputs": [],
   "source": []
  },
  {
   "cell_type": "code",
   "execution_count": null,
   "id": "98b28722",
   "metadata": {},
   "outputs": [],
   "source": []
  },
  {
   "cell_type": "code",
   "execution_count": null,
   "id": "8a830a80",
   "metadata": {},
   "outputs": [],
   "source": []
  },
  {
   "cell_type": "code",
   "execution_count": null,
   "id": "c66a455b",
   "metadata": {},
   "outputs": [],
   "source": []
  },
  {
   "cell_type": "markdown",
   "id": "c30b1380",
   "metadata": {},
   "source": [
    "# Q! Given an array of size N, find the subarray of size k with the least average.\n",
    "\n",
    "A=[3, 7, 90, 20, 10, 50, 40]\n",
    "B=3\n"
   ]
  },
  {
   "cell_type": "code",
   "execution_count": 114,
   "id": "0ae90dd0",
   "metadata": {},
   "outputs": [
    {
     "name": "stdout",
     "output_type": "stream",
     "text": [
      "3\n"
     ]
    }
   ],
   "source": [
    "A = [ 20, 3, 13, 5, 10, 14, 8, 5, 11, 9, 1, 11 ]\n",
    "B = 9\n",
    "n = len(A)\n",
    "minavg = float('inf')\n",
    "minsubarrayindex = None\n",
    "for start in range(n-k+1):\n",
    "    end = start + k -1\n",
    "    \n",
    "    sum = 0\n",
    "    \n",
    "    for i in range(start,end+1):\n",
    "        sum = sum + A[i]\n",
    "    \n",
    "    average = sum/k\n",
    "    \n",
    "    if average < minavg:\n",
    "        minavg = average\n",
    "        minsubarrayindex = start\n",
    "print(minsubarrayindex)"
   ]
  },
  {
   "cell_type": "code",
   "execution_count": null,
   "id": "2bca9226",
   "metadata": {},
   "outputs": [],
   "source": [
    "\n",
    "        \n",
    "        # prefix sum \n",
    "        "
   ]
  },
  {
   "cell_type": "code",
   "execution_count": 115,
   "id": "7db03290",
   "metadata": {},
   "outputs": [
    {
     "name": "stdout",
     "output_type": "stream",
     "text": [
      "3\n"
     ]
    }
   ],
   "source": [
    "A = [ 20, 3, 13, 5, 10, 14, 8, 5, 11, 9, 1, 11 ]\n",
    "B = \n",
    "n = len(A)\n",
    "minavg = float('inf')\n",
    "minsubarrayindex = None\n",
    "\n",
    "p = [A[0]]\n",
    "for x in A[1:]:\n",
    "    p.append(x+p[-1])\n",
    "\n",
    "for start in range(n-k+1):\n",
    "    end = start + k -1\n",
    "    \n",
    "    if start == 0:\n",
    "        sum = p[end]\n",
    "    else:\n",
    "        sum = p[end]- p[start-1]\n",
    "    average = sum/k\n",
    "    \n",
    "    if average < minavg:\n",
    "        minavg = average\n",
    "        minsubarrayindex = start\n",
    "print(minsubarrayindex)"
   ]
  },
  {
   "cell_type": "code",
   "execution_count": null,
   "id": "7d06053b",
   "metadata": {},
   "outputs": [],
   "source": [
    "# carry forward"
   ]
  },
  {
   "cell_type": "code",
   "execution_count": 116,
   "id": "110ea0f1",
   "metadata": {},
   "outputs": [
    {
     "name": "stdout",
     "output_type": "stream",
     "text": [
      "3\n"
     ]
    }
   ],
   "source": [
    "A = [ 20, 3, 13, 5, 10, 14, 8, 5, 11, 9, 1, 11 ]\n",
    "B = 9\n",
    "n = len(A)\n",
    "minavg = float('inf')\n",
    "minsubarrayindex = None\n",
    "\n",
    "sum = 0\n",
    "for i in A:\n",
    "    sum = sum + i\n",
    "\n",
    "\n",
    "\n",
    "for start in range(n-k+1):\n",
    "    end = start + k -1\n",
    "    \n",
    "    if start > 0:\n",
    "        sum = sum - A[start-1] + A[end]\n",
    "        \n",
    "        \n",
    "    average = sum/k\n",
    "    \n",
    "    if average < minavg:\n",
    "        minavg = average\n",
    "        minsubarrayindex = start\n",
    "print(minsubarrayindex)"
   ]
  },
  {
   "cell_type": "code",
   "execution_count": 117,
   "id": "5756a61a",
   "metadata": {},
   "outputs": [
    {
     "name": "stdout",
     "output_type": "stream",
     "text": [
      "3\n"
     ]
    }
   ],
   "source": [
    "A = [ 20, 3, 13, 5, 10, 14, 8, 5, 11, 9, 1, 11 ]\n",
    "B = 9\n",
    "n = len(A)\n",
    "minsum = float('inf')\n",
    "minsubarrayindex = None\n",
    "\n",
    "sum = 0\n",
    "for i in A:\n",
    "    sum = sum + i\n",
    "\n",
    "\n",
    "\n",
    "for start in range(n-k+1):\n",
    "    end = start + k -1\n",
    "    \n",
    "    if start > 0:\n",
    "        sum = sum - A[start-1] + A[end]\n",
    "        \n",
    "    if sum < minsum:\n",
    "        minsum = sum\n",
    "        minsubarrayindex = start\n",
    "print(minsubarrayindex)"
   ]
  },
  {
   "cell_type": "code",
   "execution_count": 24,
   "id": "03a53654",
   "metadata": {},
   "outputs": [
    {
     "name": "stdout",
     "output_type": "stream",
     "text": [
      "[3, 7, 90]\n",
      "[20, 10, 50]\n",
      "26.666666666666668\n",
      "4.0\n"
     ]
    }
   ],
   "source": [
    "A = [3, 7, 90, 20, 10, 50, 40]\n",
    "k = 3\n",
    "n = len(A)\n",
    "p = [A[0]]\n",
    "for x in A[1:]:\n",
    "    p.append(x+p[-1])\n",
    "minavg = float('inf')\n",
    "    \n",
    "minimum_subarray_mid_index = None\n",
    "\n",
    "for s in range(n-k+1):\n",
    "    e = k+s-1\n",
    "    \n",
    "    if s == 0:\n",
    "        sum = p[e]\n",
    "    else:\n",
    "        sum = p[e]-p[s-1]\n",
    "    \n",
    "    avg = sum / k\n",
    "    if  avg < minavg:\n",
    "        minavg = avg\n",
    "        minimum_subarray_mid_index = (s+e) /2\n",
    "        print(A[s:e+1])\n",
    "        \n",
    "print(minavg)\n",
    "print(minimum_subarray_mid_index)\n",
    "    \n",
    "    "
   ]
  },
  {
   "cell_type": "code",
   "execution_count": null,
   "id": "4db62dd7",
   "metadata": {},
   "outputs": [],
   "source": []
  },
  {
   "cell_type": "code",
   "execution_count": null,
   "id": "6391781b",
   "metadata": {},
   "outputs": [],
   "source": []
  },
  {
   "cell_type": "code",
   "execution_count": null,
   "id": "bc3800d4",
   "metadata": {},
   "outputs": [],
   "source": []
  },
  {
   "cell_type": "markdown",
   "id": "c93db45f",
   "metadata": {},
   "source": [
    "# Given an array A of N non-negative numbers and you are also given non-negative number B.\n",
    "\n",
    "You need to find the number of subarrays in A having sum less than B. We may assume that there is no overflow."
   ]
  },
  {
   "cell_type": "code",
   "execution_count": 25,
   "id": "a5f0c26e",
   "metadata": {},
   "outputs": [
    {
     "name": "stdout",
     "output_type": "stream",
     "text": [
      "4\n"
     ]
    }
   ],
   "source": [
    "A = [1,11,2,3,15]\n",
    "B = 10\n",
    "\n",
    "n = len(A)\n",
    "c = 0\n",
    "for s in range(n):\n",
    "    sum = 0\n",
    "    for e in range(s,n):\n",
    "        sum += A[e]\n",
    "        \n",
    "        if sum < B:\n",
    "            c = c+1\n",
    "print(c)"
   ]
  },
  {
   "cell_type": "code",
   "execution_count": null,
   "id": "86953342",
   "metadata": {},
   "outputs": [],
   "source": []
  },
  {
   "cell_type": "code",
   "execution_count": null,
   "id": "b252bfe2",
   "metadata": {},
   "outputs": [],
   "source": []
  },
  {
   "cell_type": "markdown",
   "id": "1fc441df",
   "metadata": {},
   "source": [
    "# Given an array of integers A, a subarray of an array is said to be good if it fulfills any one of the criteria:\n",
    "1. Length of the subarray is be even, and the sum of all the elements of the subarray must be less than B.\n",
    "2. Length of the subarray is be odd, and the sum of all the elements of the subarray must be greater than B.\n",
    "Your task is to find the count of good subarrays in A."
   ]
  },
  {
   "cell_type": "code",
   "execution_count": 26,
   "id": "6e2700e6",
   "metadata": {},
   "outputs": [
    {
     "name": "stdout",
     "output_type": "stream",
     "text": [
      "36\n"
     ]
    }
   ],
   "source": [
    "\n",
    "def solve(A, B):\n",
    "    n = len(A)\n",
    "    dp = [0] * (n+1)\n",
    "    for i in range(n):\n",
    "        dp[i+1]=dp[i]+A[i]\n",
    "    ans = 0\n",
    "    for i in range(n):\n",
    "        for j in range(i,n):\n",
    "            sum = dp[j+1]-dp[i]\n",
    "            sz = j-i+1\n",
    "            if sz%2==0 and sum<B:\n",
    "                ans+=1\n",
    "            if sz&1 and sum>B:\n",
    "                ans+=1\n",
    "    return ans\n",
    "A = [13, 16, 16, 15, 9, 16, 2, 7, 6, 17, 3, 9]\n",
    "B = 65\n",
    "\n",
    "print(solve(A,B))"
   ]
  },
  {
   "cell_type": "code",
   "execution_count": 31,
   "id": "9d899c4b",
   "metadata": {},
   "outputs": [
    {
     "name": "stdout",
     "output_type": "stream",
     "text": [
      "36\n"
     ]
    }
   ],
   "source": [
    "def GoodSubarrayEasy(A, B):\n",
    "\n",
    "    length = None \n",
    "    n = len(A)\n",
    "    count = 0\n",
    "    for s in range(n):\n",
    "        sum = 0\n",
    "        for e in range(s,n):\n",
    "            sum += A[e]\n",
    "            length = e-s+1\n",
    "            if length%2==0 and sum < B:\n",
    "                count +=1\n",
    "            if length%2!=0 and sum >B:\n",
    "                count += 1\n",
    "    return (count)\n",
    "\n",
    "A = [13, 16, 16, 15, 9, 16, 2, 7, 6, 17, 3, 9]\n",
    "B = 65\n",
    "\n",
    "print(GoodSubarrayEasy(A,B))"
   ]
  },
  {
   "cell_type": "code",
   "execution_count": null,
   "id": "3329c43d",
   "metadata": {},
   "outputs": [],
   "source": []
  },
  {
   "cell_type": "code",
   "execution_count": null,
   "id": "b49f8d73",
   "metadata": {},
   "outputs": [],
   "source": []
  },
  {
   "cell_type": "code",
   "execution_count": null,
   "id": "00d5fbf5",
   "metadata": {},
   "outputs": [],
   "source": []
  },
  {
   "cell_type": "code",
   "execution_count": null,
   "id": "5faabc0f",
   "metadata": {},
   "outputs": [],
   "source": []
  },
  {
   "cell_type": "markdown",
   "id": "c06c896a",
   "metadata": {},
   "source": [
    "# You are given an integer array A. You have to find the second largest element/value in the array or report that no such element exists."
   ]
  },
  {
   "cell_type": "code",
   "execution_count": 24,
   "id": "027a55ce",
   "metadata": {},
   "outputs": [],
   "source": [
    "def secondLargestElement(A):\n",
    "\n",
    "    n = len(A)\n",
    "    largest = -float('inf')\n",
    "    for i in range(n):\n",
    "        if A[i]> largest:\n",
    "            ilar = i\n",
    "            largest = A[i]\n",
    "\n",
    "    secondlargest = -100000000\n",
    "    for x in range(n):\n",
    "        if A[x]>secondlargest and x != ilar:\n",
    "            secondlargest = A[x]\n",
    "    return (secondlargest)"
   ]
  },
  {
   "cell_type": "code",
   "execution_count": 25,
   "id": "4589a49e",
   "metadata": {},
   "outputs": [
    {
     "data": {
      "text/plain": [
       "56"
      ]
     },
     "execution_count": 25,
     "metadata": {},
     "output_type": "execute_result"
    }
   ],
   "source": [
    "secondLargestElement([1,2,3,4,56,99])"
   ]
  },
  {
   "cell_type": "code",
   "execution_count": null,
   "id": "4ce5ea26",
   "metadata": {},
   "outputs": [],
   "source": []
  },
  {
   "cell_type": "code",
   "execution_count": null,
   "id": "8c5d4d9b",
   "metadata": {},
   "outputs": [],
   "source": []
  },
  {
   "cell_type": "code",
   "execution_count": null,
   "id": "cc64b14c",
   "metadata": {},
   "outputs": [],
   "source": []
  },
  {
   "cell_type": "markdown",
   "id": "db0297d5",
   "metadata": {},
   "source": [
    "# Given an integer array A and an integer B, you have to print the same array after rotating it B times towards the right.\n",
    "\n",
    "NOTE: You can use extra memory."
   ]
  },
  {
   "cell_type": "code",
   "execution_count": 33,
   "id": "07f57f6c",
   "metadata": {},
   "outputs": [],
   "source": [
    "A = [1,2,3,4]\n",
    "\n",
    "B = 2\n",
    "\n",
    "A.insert(0,A.pop(-1))"
   ]
  },
  {
   "cell_type": "code",
   "execution_count": 68,
   "id": "cc0ece16",
   "metadata": {},
   "outputs": [
    {
     "name": "stdout",
     "output_type": "stream",
     "text": [
      "4\n",
      "3 4 1 2 "
     ]
    }
   ],
   "source": [
    "A = [1,2,3,4]\n",
    "n = len(A)\n",
    "print(n)\n",
    "B = 2\n",
    "B = B%n\n",
    "\n",
    "\n",
    "for i in range(B):\n",
    "    A.insert(0,A[-1])\n",
    "    A.pop()\n",
    "    \n",
    "for i in A:\n",
    "    print(i,end = \" \")"
   ]
  },
  {
   "cell_type": "code",
   "execution_count": null,
   "id": "d8bc8e62",
   "metadata": {},
   "outputs": [],
   "source": []
  },
  {
   "cell_type": "code",
   "execution_count": 60,
   "id": "d040d59c",
   "metadata": {},
   "outputs": [
    {
     "name": "stdout",
     "output_type": "stream",
     "text": [
      "0 0\n",
      "1 1\n",
      "2 2\n",
      "3 3\n",
      "4 0\n",
      "5 1\n",
      "6 2\n",
      "7 3\n",
      "8 0\n",
      "9 1\n",
      "10 2\n",
      "11 3\n",
      "12 0\n",
      "13 1\n",
      "14 2\n",
      "15 3\n",
      "16 0\n",
      "17 1\n",
      "18 2\n",
      "19 3\n"
     ]
    }
   ],
   "source": [
    "for i in range(0,20):\n",
    "    print(i,i%4)"
   ]
  },
  {
   "cell_type": "code",
   "execution_count": 49,
   "id": "cc5bf3b3",
   "metadata": {},
   "outputs": [
    {
     "data": {
      "text/plain": [
       "2"
      ]
     },
     "execution_count": 49,
     "metadata": {},
     "output_type": "execute_result"
    }
   ],
   "source": []
  },
  {
   "cell_type": "code",
   "execution_count": null,
   "id": "17a922e2",
   "metadata": {},
   "outputs": [],
   "source": []
  },
  {
   "cell_type": "code",
   "execution_count": null,
   "id": "36497342",
   "metadata": {},
   "outputs": [],
   "source": []
  },
  {
   "cell_type": "markdown",
   "id": "b97171ac",
   "metadata": {},
   "source": [
    "# Given an array of integers A, of size N.\n",
    "\n",
    "# Return the maximum size subarray of A having only non-negative elements. If there are more than one such subarray, return the one having the smallest starting index in A.\n",
    "\n",
    "NOTE: It is guaranteed that an answer always exists."
   ]
  },
  {
   "cell_type": "code",
   "execution_count": 79,
   "id": "ddaaaa0f",
   "metadata": {},
   "outputs": [
    {
     "name": "stdout",
     "output_type": "stream",
     "text": [
      "[5305422, 7665178, 205505]\n"
     ]
    }
   ],
   "source": [
    "A = [ -3674875, 5305422, 7665178, 205505, -7168198, -1398091, 5392310, -1700856, 1259052, -3056006 ]\n",
    "\n",
    "n = len(A)\n",
    "maxlen = -float('inf')\n",
    "ans = []\n",
    "for s in range(n):\n",
    "    for e in range(s,n):\n",
    "        onlypositive = True\n",
    "        for i in range(s,e+1):\n",
    "            if A[i]<=0:\n",
    "                onlypositive = False\n",
    "        \n",
    "        if onlypositive:\n",
    "            length = e-s+1\n",
    "            if length > maxlen:\n",
    "                maxlen = length\n",
    "                \n",
    "        \n",
    "        if length == maxlen and onlypositive:\n",
    "            ans.append(A[s:e+1])\n",
    "final = []\n",
    "maxl = -float('inf')\n",
    "\n",
    "for i in ans:\n",
    "    if len(i)==maxlen:\n",
    "        final.append(i)\n",
    "\n",
    "print(final[0])\n",
    "        "
   ]
  },
  {
   "cell_type": "code",
   "execution_count": null,
   "id": "17692f7d",
   "metadata": {
    "scrolled": false
   },
   "outputs": [],
   "source": []
  },
  {
   "cell_type": "code",
   "execution_count": 91,
   "id": "40243c12",
   "metadata": {},
   "outputs": [
    {
     "name": "stdout",
     "output_type": "stream",
     "text": [
      "[[5]]\n",
      "[[5, 6]]\n",
      "[[5, 6], []]\n",
      "[[5, 6], [7]]\n",
      "[[5, 6], [7, 8]]\n",
      "[[5, 6], [7, 8], []]\n",
      "\n",
      "2\n",
      "\n",
      "[5, 6]\n",
      "[7, 8]\n",
      "\n",
      "ans\n",
      "[5, 6]\n"
     ]
    }
   ],
   "source": [
    "A = [5,6,-1,7,8,-7]\n",
    "\n",
    "result = [[]]\n",
    "\n",
    "for i in A:\n",
    "    if i < 0:\n",
    "        result.append([])\n",
    "        print(result)\n",
    "    else:\n",
    "        result[-1].append(i)\n",
    "        print(result)\n",
    "print()        \n",
    "maxlen = max([len(i) for i in result])\n",
    "print(maxlen)\n",
    "print()\n",
    "for e in result:\n",
    "    if len(e)==maxlen:\n",
    "        print(e)\n",
    "print()\n",
    "print(\"ans\")\n",
    "print(result[0])"
   ]
  },
  {
   "cell_type": "code",
   "execution_count": null,
   "id": "cd5b29b5",
   "metadata": {},
   "outputs": [],
   "source": []
  },
  {
   "cell_type": "code",
   "execution_count": null,
   "id": "18259aa9",
   "metadata": {},
   "outputs": [],
   "source": []
  },
  {
   "cell_type": "code",
   "execution_count": null,
   "id": "646cf135",
   "metadata": {},
   "outputs": [],
   "source": []
  },
  {
   "cell_type": "code",
   "execution_count": null,
   "id": "67863a71",
   "metadata": {
    "scrolled": true
   },
   "outputs": [],
   "source": []
  },
  {
   "cell_type": "code",
   "execution_count": null,
   "id": "560eee53",
   "metadata": {},
   "outputs": [],
   "source": []
  },
  {
   "cell_type": "code",
   "execution_count": null,
   "id": "3f690c79",
   "metadata": {},
   "outputs": [],
   "source": []
  },
  {
   "cell_type": "code",
   "execution_count": null,
   "id": "450eaf3d",
   "metadata": {},
   "outputs": [],
   "source": []
  }
 ],
 "metadata": {
  "kernelspec": {
   "display_name": "Python 3 (ipykernel)",
   "language": "python",
   "name": "python3"
  },
  "language_info": {
   "codemirror_mode": {
    "name": "ipython",
    "version": 3
   },
   "file_extension": ".py",
   "mimetype": "text/x-python",
   "name": "python",
   "nbconvert_exporter": "python",
   "pygments_lexer": "ipython3",
   "version": "3.9.7"
  }
 },
 "nbformat": 4,
 "nbformat_minor": 5
}
