{
 "cells": [
  {
   "cell_type": "markdown",
   "id": "63ad6bc7",
   "metadata": {},
   "source": [
    "# convert_decimal_to_binary"
   ]
  },
  {
   "cell_type": "code",
   "execution_count": 65,
   "id": "c54d0914",
   "metadata": {},
   "outputs": [],
   "source": [
    "def convert_decimal_to_binary(num):\n",
    "    string = \"\"\n",
    "    while num > 0:\n",
    "        \n",
    "\n",
    "        bit = num % 2 \n",
    "        string += str(bit)\n",
    "        num = num //2\n",
    "       \n",
    "    return int(string[::-1])"
   ]
  },
  {
   "cell_type": "code",
   "execution_count": 39,
   "id": "12fde8e3",
   "metadata": {},
   "outputs": [
    {
     "data": {
      "text/plain": [
       "1010001"
      ]
     },
     "execution_count": 39,
     "metadata": {},
     "output_type": "execute_result"
    }
   ],
   "source": [
    "convert_decimal_to_binary(81)"
   ]
  },
  {
   "cell_type": "code",
   "execution_count": null,
   "id": "a381e590",
   "metadata": {},
   "outputs": [],
   "source": []
  },
  {
   "cell_type": "code",
   "execution_count": 40,
   "id": "5122e645",
   "metadata": {},
   "outputs": [
    {
     "data": {
      "text/plain": [
       "'0b1010001'"
      ]
     },
     "execution_count": 40,
     "metadata": {},
     "output_type": "execute_result"
    }
   ],
   "source": [
    "bin(81)"
   ]
  },
  {
   "cell_type": "code",
   "execution_count": 41,
   "id": "99e4ffd9",
   "metadata": {},
   "outputs": [],
   "source": [
    "import math"
   ]
  },
  {
   "cell_type": "code",
   "execution_count": 42,
   "id": "b06ae7d1",
   "metadata": {},
   "outputs": [
    {
     "data": {
      "text/plain": [
       "7"
      ]
     },
     "execution_count": 42,
     "metadata": {},
     "output_type": "execute_result"
    }
   ],
   "source": [
    "int(math.log(81,2))+1  # = exact time complexity  log2(n)+1"
   ]
  },
  {
   "cell_type": "markdown",
   "id": "8a899395",
   "metadata": {},
   "source": [
    "# convert_decimal_to_octal"
   ]
  },
  {
   "cell_type": "code",
   "execution_count": 54,
   "id": "ec61f3f1",
   "metadata": {},
   "outputs": [],
   "source": [
    "def convert_decimal_to_octal(num):\n",
    "    string = \"\"\n",
    "    while num > 0:\n",
    "         \n",
    "\n",
    "        bit = num % 8 \n",
    "        string += str(bit)\n",
    "        #print(num,bit)\n",
    "        num = num //8\n",
    "        \n",
    "       \n",
    "    return int(string[::-1])"
   ]
  },
  {
   "cell_type": "code",
   "execution_count": 55,
   "id": "efcedd5f",
   "metadata": {},
   "outputs": [
    {
     "data": {
      "text/plain": [
       "142"
      ]
     },
     "execution_count": 55,
     "metadata": {},
     "output_type": "execute_result"
    }
   ],
   "source": [
    "convert_decimal_to_octal(98)"
   ]
  },
  {
   "cell_type": "markdown",
   "id": "674162d5",
   "metadata": {},
   "source": [
    "# convert_decimal_to_baseX"
   ]
  },
  {
   "cell_type": "code",
   "execution_count": 156,
   "id": "f675795d",
   "metadata": {},
   "outputs": [],
   "source": [
    "def convert_decimal_to_baseX(num,base):\n",
    "    string = \"\"\n",
    "    while num > 0:\n",
    "         \n",
    "\n",
    "        bit = num % base \n",
    "        string += str(bit)\n",
    "        #print(num,bit)\n",
    "        num = num //base\n",
    "        \n",
    "       \n",
    "    return int(string[::-1])"
   ]
  },
  {
   "cell_type": "code",
   "execution_count": 157,
   "id": "29e10a57",
   "metadata": {},
   "outputs": [
    {
     "data": {
      "text/plain": [
       "72"
      ]
     },
     "execution_count": 157,
     "metadata": {},
     "output_type": "execute_result"
    }
   ],
   "source": [
    "convert_decimal_to_baseX(149,21)"
   ]
  },
  {
   "cell_type": "code",
   "execution_count": null,
   "id": "bb010e4e",
   "metadata": {},
   "outputs": [],
   "source": []
  },
  {
   "cell_type": "code",
   "execution_count": null,
   "id": "eae0c280",
   "metadata": {},
   "outputs": [],
   "source": []
  },
  {
   "cell_type": "markdown",
   "id": "96e4f586",
   "metadata": {},
   "source": [
    "# bitwise operators "
   ]
  },
  {
   "cell_type": "code",
   "execution_count": null,
   "id": "3213756e",
   "metadata": {},
   "outputs": [],
   "source": []
  },
  {
   "cell_type": "code",
   "execution_count": 152,
   "id": "bda87848",
   "metadata": {},
   "outputs": [
    {
     "data": {
      "text/plain": [
       "0"
      ]
     },
     "execution_count": 152,
     "metadata": {},
     "output_type": "execute_result"
    }
   ],
   "source": [
    "12&2"
   ]
  },
  {
   "cell_type": "code",
   "execution_count": 153,
   "id": "9d494f4a",
   "metadata": {},
   "outputs": [
    {
     "data": {
      "text/plain": [
       "1100"
      ]
     },
     "execution_count": 153,
     "metadata": {},
     "output_type": "execute_result"
    }
   ],
   "source": [
    "convert_decimal_to_binary(12)"
   ]
  },
  {
   "cell_type": "code",
   "execution_count": 154,
   "id": "7399ea84",
   "metadata": {},
   "outputs": [
    {
     "data": {
      "text/plain": [
       "10"
      ]
     },
     "execution_count": 154,
     "metadata": {},
     "output_type": "execute_result"
    }
   ],
   "source": [
    "convert_decimal_to_binary(2)"
   ]
  },
  {
   "cell_type": "raw",
   "id": "ca6f71f3",
   "metadata": {},
   "source": [
    "  1100\n",
    "& 0010\n",
    "\n",
    "  0000\n",
    "  \n",
    "= 0"
   ]
  },
  {
   "cell_type": "code",
   "execution_count": null,
   "id": "c27bdefa",
   "metadata": {},
   "outputs": [],
   "source": []
  },
  {
   "cell_type": "code",
   "execution_count": null,
   "id": "4458a5e6",
   "metadata": {},
   "outputs": [],
   "source": []
  },
  {
   "cell_type": "code",
   "execution_count": null,
   "id": "c263bb11",
   "metadata": {},
   "outputs": [],
   "source": []
  },
  {
   "cell_type": "code",
   "execution_count": 163,
   "id": "76b10236",
   "metadata": {},
   "outputs": [
    {
     "data": {
      "text/plain": [
       "1111101000"
      ]
     },
     "execution_count": 163,
     "metadata": {},
     "output_type": "execute_result"
    }
   ],
   "source": [
    "convert_decimal_to_binary()"
   ]
  },
  {
   "cell_type": "code",
   "execution_count": 158,
   "id": "d6f0b9a5",
   "metadata": {},
   "outputs": [
    {
     "data": {
      "text/plain": [
       "2"
      ]
     },
     "execution_count": 158,
     "metadata": {},
     "output_type": "execute_result"
    }
   ],
   "source": [
    "#1010\n",
    "#0010\n",
    "#0010\n",
    "# = 2\n",
    "\n",
    "10&2"
   ]
  },
  {
   "cell_type": "code",
   "execution_count": 141,
   "id": "a66ba88b",
   "metadata": {},
   "outputs": [
    {
     "data": {
      "text/plain": [
       "8"
      ]
     },
     "execution_count": 141,
     "metadata": {},
     "output_type": "execute_result"
    }
   ],
   "source": [
    "13&10"
   ]
  },
  {
   "cell_type": "code",
   "execution_count": null,
   "id": "50cd8e16",
   "metadata": {},
   "outputs": [],
   "source": []
  },
  {
   "cell_type": "code",
   "execution_count": 182,
   "id": "203979a5",
   "metadata": {},
   "outputs": [
    {
     "name": "stdout",
     "output_type": "stream",
     "text": [
      "111\n"
     ]
    }
   ],
   "source": [
    "a = 100\n",
    "b = 11\n",
    "print(a+b)"
   ]
  },
  {
   "cell_type": "code",
   "execution_count": 198,
   "id": "0f2b827a",
   "metadata": {},
   "outputs": [
    {
     "name": "stdout",
     "output_type": "stream",
     "text": [
      "6\n"
     ]
    }
   ],
   "source": [
    "A = [3,4,6,7,4,6,3]\n",
    "\n",
    "A.sort()\n",
    "\n",
    "xor  = A[0]\n",
    "ans = None\n",
    "for i in range(1,len(A)-1):\n",
    "    if xor ^ A[i] == 0:\n",
    "        ans = A[i]\n",
    "    xor = A[i]\n",
    "print(ans)"
   ]
  },
  {
   "cell_type": "code",
   "execution_count": 204,
   "id": "72b7573f",
   "metadata": {},
   "outputs": [],
   "source": [
    "A = [1,2,3,4,4,7,7]\n",
    "\n",
    "A.sort()"
   ]
  },
  {
   "cell_type": "code",
   "execution_count": 205,
   "id": "510724db",
   "metadata": {},
   "outputs": [
    {
     "data": {
      "text/plain": [
       "[1, 2, 3, 4, 4, 7, 7]"
      ]
     },
     "execution_count": 205,
     "metadata": {},
     "output_type": "execute_result"
    }
   ],
   "source": [
    "A"
   ]
  },
  {
   "cell_type": "code",
   "execution_count": null,
   "id": "f219b78b",
   "metadata": {},
   "outputs": [],
   "source": []
  },
  {
   "cell_type": "code",
   "execution_count": null,
   "id": "ca432a7e",
   "metadata": {},
   "outputs": [],
   "source": []
  },
  {
   "cell_type": "code",
   "execution_count": 249,
   "id": "39304317",
   "metadata": {},
   "outputs": [
    {
     "data": {
      "text/plain": [
       "0"
      ]
     },
     "execution_count": 249,
     "metadata": {},
     "output_type": "execute_result"
    }
   ],
   "source": [
    "5^5"
   ]
  },
  {
   "cell_type": "code",
   "execution_count": 253,
   "id": "c76cebad",
   "metadata": {},
   "outputs": [],
   "source": [
    "def singleNumber(A):\n",
    "\n",
    "    xor  = A[0]\n",
    "\n",
    "    for i in range(1,len(A)):\n",
    "        xor =  xor ^ A[i] \n",
    "        print(xor)\n",
    "\n",
    "    return (xor)"
   ]
  },
  {
   "cell_type": "code",
   "execution_count": 254,
   "id": "5b033665",
   "metadata": {},
   "outputs": [
    {
     "name": "stdout",
     "output_type": "stream",
     "text": [
      "3\n",
      "1\n",
      "2\n",
      "3\n"
     ]
    },
    {
     "data": {
      "text/plain": [
       "3"
      ]
     },
     "execution_count": 254,
     "metadata": {},
     "output_type": "execute_result"
    }
   ],
   "source": [
    "singleNumber([1,2,2,3,1])"
   ]
  },
  {
   "cell_type": "code",
   "execution_count": null,
   "id": "7a5a80de",
   "metadata": {},
   "outputs": [],
   "source": []
  },
  {
   "cell_type": "code",
   "execution_count": 255,
   "id": "78ec7b23",
   "metadata": {},
   "outputs": [
    {
     "data": {
      "text/plain": [
       "44"
      ]
     },
     "execution_count": 255,
     "metadata": {},
     "output_type": "execute_result"
    }
   ],
   "source": [
    "22<<1"
   ]
  },
  {
   "cell_type": "code",
   "execution_count": 264,
   "id": "bb17fadc",
   "metadata": {},
   "outputs": [
    {
     "data": {
      "text/plain": [
       "44"
      ]
     },
     "execution_count": 264,
     "metadata": {},
     "output_type": "execute_result"
    }
   ],
   "source": [
    "22<<1"
   ]
  },
  {
   "cell_type": "code",
   "execution_count": null,
   "id": "ffea3d73",
   "metadata": {},
   "outputs": [],
   "source": []
  },
  {
   "cell_type": "code",
   "execution_count": null,
   "id": "c5f4ad8f",
   "metadata": {},
   "outputs": [],
   "source": []
  },
  {
   "cell_type": "code",
   "execution_count": null,
   "id": "f2a0a513",
   "metadata": {},
   "outputs": [],
   "source": []
  },
  {
   "cell_type": "code",
   "execution_count": null,
   "id": "58b7e8ef",
   "metadata": {},
   "outputs": [],
   "source": []
  },
  {
   "cell_type": "code",
   "execution_count": null,
   "id": "83d1f910",
   "metadata": {},
   "outputs": [],
   "source": []
  },
  {
   "cell_type": "code",
   "execution_count": null,
   "id": "31592c46",
   "metadata": {},
   "outputs": [],
   "source": []
  },
  {
   "cell_type": "code",
   "execution_count": 4,
   "id": "783b8389",
   "metadata": {},
   "outputs": [],
   "source": [
    "def convert_decimal_to_binary(num):\n",
    "    string = \"\"\n",
    "    while num > 0:\n",
    "        \n",
    "\n",
    "        bit = num % 2 \n",
    "        string += str(bit)\n",
    "        num = num //2\n",
    "       \n",
    "    return string[::-1]"
   ]
  },
  {
   "cell_type": "code",
   "execution_count": 5,
   "id": "e9b1deba",
   "metadata": {},
   "outputs": [],
   "source": [
    "S = convert_decimal_to_binary(11)"
   ]
  },
  {
   "cell_type": "code",
   "execution_count": 6,
   "id": "5e7c90ff",
   "metadata": {},
   "outputs": [
    {
     "data": {
      "text/plain": [
       "'1011'"
      ]
     },
     "execution_count": 6,
     "metadata": {},
     "output_type": "execute_result"
    }
   ],
   "source": [
    "S"
   ]
  },
  {
   "cell_type": "code",
   "execution_count": 7,
   "id": "324e399e",
   "metadata": {},
   "outputs": [
    {
     "name": "stdout",
     "output_type": "stream",
     "text": [
      "3\n"
     ]
    }
   ],
   "source": [
    "c = 0\n",
    "for i in range(len(S)):\n",
    "    if S[i] == \"1\":\n",
    "        c += 1\n",
    "print(c)"
   ]
  },
  {
   "cell_type": "code",
   "execution_count": null,
   "id": "12ba6f3f",
   "metadata": {},
   "outputs": [],
   "source": []
  },
  {
   "cell_type": "code",
   "execution_count": null,
   "id": "95589222",
   "metadata": {},
   "outputs": [],
   "source": []
  },
  {
   "cell_type": "code",
   "execution_count": 2,
   "id": "6b2d36d1",
   "metadata": {},
   "outputs": [
    {
     "name": "stdout",
     "output_type": "stream",
     "text": [
      "20\n"
     ]
    }
   ],
   "source": [
    "def binarytodecimal(s):   # binary sting\n",
    "    s = str(s)\n",
    "    i = 0\n",
    "    result = 0\n",
    "    for d in s[::-1]:\n",
    "        result = result+ int(d)*(2**i)\n",
    "        i = i+1\n",
    "    return result\n",
    "x = str(binarytodecimal(10100))\n",
    "print(x)"
   ]
  },
  {
   "cell_type": "code",
   "execution_count": 27,
   "id": "7b283dea",
   "metadata": {},
   "outputs": [
    {
     "data": {
      "text/plain": [
       "7"
      ]
     },
     "execution_count": 27,
     "metadata": {},
     "output_type": "execute_result"
    }
   ],
   "source": [
    "binarytodecimal(100)+binarytodecimal(11)"
   ]
  },
  {
   "cell_type": "code",
   "execution_count": 125,
   "id": "6b5a7bfe",
   "metadata": {},
   "outputs": [
    {
     "data": {
      "text/plain": [
       "'101000'"
      ]
     },
     "execution_count": 125,
     "metadata": {},
     "output_type": "execute_result"
    }
   ],
   "source": [
    "convert_decimal_to_binary(40)"
   ]
  },
  {
   "cell_type": "code",
   "execution_count": 130,
   "id": "4a4be19d",
   "metadata": {},
   "outputs": [
    {
     "data": {
      "text/plain": [
       "255"
      ]
     },
     "execution_count": 130,
     "metadata": {},
     "output_type": "execute_result"
    }
   ],
   "source": [
    "binarytodecimal(11111111)"
   ]
  },
  {
   "cell_type": "code",
   "execution_count": 61,
   "id": "48de9a68",
   "metadata": {},
   "outputs": [
    {
     "data": {
      "text/plain": [
       "8"
      ]
     },
     "execution_count": 61,
     "metadata": {},
     "output_type": "execute_result"
    }
   ],
   "source": [
    "13&(1<<3)"
   ]
  },
  {
   "cell_type": "code",
   "execution_count": 103,
   "id": "5d4fb204",
   "metadata": {},
   "outputs": [
    {
     "data": {
      "text/plain": [
       "1"
      ]
     },
     "execution_count": 103,
     "metadata": {},
     "output_type": "execute_result"
    }
   ],
   "source": [
    "11>>3"
   ]
  },
  {
   "cell_type": "code",
   "execution_count": 67,
   "id": "5352c0cc",
   "metadata": {},
   "outputs": [
    {
     "data": {
      "text/plain": [
       "1"
      ]
     },
     "execution_count": 67,
     "metadata": {},
     "output_type": "execute_result"
    }
   ],
   "source": [
    "1<<0"
   ]
  },
  {
   "cell_type": "code",
   "execution_count": 68,
   "id": "095d20ac",
   "metadata": {},
   "outputs": [
    {
     "data": {
      "text/plain": [
       "0"
      ]
     },
     "execution_count": 68,
     "metadata": {},
     "output_type": "execute_result"
    }
   ],
   "source": [
    "44&3 # last bit is on or off\n"
   ]
  },
  {
   "cell_type": "code",
   "execution_count": 108,
   "id": "c95c5324",
   "metadata": {},
   "outputs": [
    {
     "data": {
      "text/plain": [
       "22"
      ]
     },
     "execution_count": 108,
     "metadata": {},
     "output_type": "execute_result"
    }
   ],
   "source": [
    "11<<1"
   ]
  },
  {
   "cell_type": "code",
   "execution_count": 131,
   "id": "aee5c6a7",
   "metadata": {},
   "outputs": [
    {
     "data": {
      "text/plain": [
       "39"
      ]
     },
     "execution_count": 131,
     "metadata": {},
     "output_type": "execute_result"
    }
   ],
   "source": [
    "255-(128+64+16+8)"
   ]
  },
  {
   "cell_type": "code",
   "execution_count": null,
   "id": "ca328422",
   "metadata": {},
   "outputs": [],
   "source": []
  },
  {
   "cell_type": "code",
   "execution_count": 69,
   "id": "8156d533",
   "metadata": {},
   "outputs": [],
   "source": [
    "# check if ith bit is on or off: \n",
    "def check(x,i):\n",
    "    print(convert_decimal_to_binary(x))\n",
    "    if x & (1 << (i-1)) == 0:\n",
    "        return False\n",
    "    return True"
   ]
  },
  {
   "cell_type": "code",
   "execution_count": 84,
   "id": "d14f5d7d",
   "metadata": {},
   "outputs": [
    {
     "name": "stdout",
     "output_type": "stream",
     "text": [
      "1010\n"
     ]
    },
    {
     "data": {
      "text/plain": [
       "False"
      ]
     },
     "execution_count": 84,
     "metadata": {},
     "output_type": "execute_result"
    }
   ],
   "source": [
    "check(10,1)"
   ]
  },
  {
   "cell_type": "code",
   "execution_count": null,
   "id": "82a1f4ba",
   "metadata": {},
   "outputs": [],
   "source": []
  },
  {
   "cell_type": "code",
   "execution_count": 96,
   "id": "65f5f5bd",
   "metadata": {},
   "outputs": [
    {
     "data": {
      "text/plain": [
       "7"
      ]
     },
     "execution_count": 96,
     "metadata": {},
     "output_type": "execute_result"
    }
   ],
   "source": [
    "29>>2"
   ]
  },
  {
   "cell_type": "code",
   "execution_count": 95,
   "id": "7fbf5e85",
   "metadata": {},
   "outputs": [
    {
     "data": {
      "text/plain": [
       "5"
      ]
     },
     "execution_count": 95,
     "metadata": {},
     "output_type": "execute_result"
    }
   ],
   "source": [
    "44>>3"
   ]
  },
  {
   "cell_type": "code",
   "execution_count": 132,
   "id": "2adb51ec",
   "metadata": {},
   "outputs": [
    {
     "data": {
      "text/plain": [
       "176"
      ]
     },
     "execution_count": 132,
     "metadata": {},
     "output_type": "execute_result"
    }
   ],
   "source": [
    "88*2"
   ]
  },
  {
   "cell_type": "code",
   "execution_count": 134,
   "id": "0ee92331",
   "metadata": {},
   "outputs": [
    {
     "data": {
      "text/plain": [
       "-2"
      ]
     },
     "execution_count": 134,
     "metadata": {},
     "output_type": "execute_result"
    }
   ],
   "source": [
    "~1"
   ]
  },
  {
   "cell_type": "code",
   "execution_count": 137,
   "id": "ae044359",
   "metadata": {},
   "outputs": [
    {
     "data": {
      "text/plain": [
       "1"
      ]
     },
     "execution_count": 137,
     "metadata": {},
     "output_type": "execute_result"
    }
   ],
   "source": [
    "~(-2)"
   ]
  },
  {
   "cell_type": "code",
   "execution_count": 141,
   "id": "86b6b32b",
   "metadata": {},
   "outputs": [
    {
     "data": {
      "text/plain": [
       "'00SUNNY'"
      ]
     },
     "execution_count": 141,
     "metadata": {},
     "output_type": "execute_result"
    }
   ],
   "source": [
    "\"SUNNY\".rjust(7,\"0\")"
   ]
  },
  {
   "cell_type": "markdown",
   "id": "2dd99dc2",
   "metadata": {},
   "source": [
    "# You have an array A with N elements. We have two types of operation available on this array :\n",
    "We can split an element B into two elements, C and D, such that B = C + D.\n",
    "We can merge two elements, P and Q, to one element, R, such that R = P ^ Q i.e., XOR of P and Q.\n",
    "You have to determine whether it is possible to convert array A to size 1, containing a single element equal to 0 after several splits and/or merge?"
   ]
  },
  {
   "cell_type": "code",
   "execution_count": 8,
   "id": "3a2cb3a8",
   "metadata": {},
   "outputs": [],
   "source": [
    "A = [9 , 17]\n"
   ]
  },
  {
   "cell_type": "code",
   "execution_count": 10,
   "id": "e95ba9b1",
   "metadata": {},
   "outputs": [],
   "source": [
    "# merge = 9^17 = 24\n",
    "# split : 24 : 12 & 12 "
   ]
  },
  {
   "cell_type": "code",
   "execution_count": null,
   "id": "73ab3170",
   "metadata": {},
   "outputs": [],
   "source": [
    "# merge 12 ^ 12  = 0"
   ]
  },
  {
   "cell_type": "code",
   "execution_count": 11,
   "id": "b152542a",
   "metadata": {},
   "outputs": [
    {
     "data": {
      "text/plain": [
       "0"
      ]
     },
     "execution_count": 11,
     "metadata": {},
     "output_type": "execute_result"
    }
   ],
   "source": [
    "9^9"
   ]
  },
  {
   "cell_type": "code",
   "execution_count": 12,
   "id": "1fa69862",
   "metadata": {},
   "outputs": [],
   "source": [
    "# # observations : if any elemkent in array is even , \n",
    "# then  it can be made 0 : \n",
    "#     split element in tow: 12 + 12\n",
    "#         ZOR of 12 ^ 12 = 0\n",
    "\n",
    "# if any element is odd, split it into 1 and Ai-1\n",
    "# ai = even : 0 \n",
    "# odd element can redue its size to 1"
   ]
  },
  {
   "cell_type": "code",
   "execution_count": 19,
   "id": "10146cc8",
   "metadata": {},
   "outputs": [
    {
     "name": "stdout",
     "output_type": "stream",
     "text": [
      "NO\n"
     ]
    }
   ],
   "source": [
    "A = [1,2,4]\n",
    "c = 0\n",
    "for i in range(len(A)):\n",
    "    if A[i]%2 != 0:\n",
    "        c = c+1\n",
    "if c%2 != 0:\n",
    "    print(\"NO\")\n",
    "else:\n",
    "    print(\"YES\")\n"
   ]
  },
  {
   "cell_type": "code",
   "execution_count": null,
   "id": "1ff0f47f",
   "metadata": {},
   "outputs": [],
   "source": []
  },
  {
   "cell_type": "code",
   "execution_count": null,
   "id": "5ce068b0",
   "metadata": {},
   "outputs": [],
   "source": []
  },
  {
   "cell_type": "code",
   "execution_count": null,
   "id": "28fb9be7",
   "metadata": {},
   "outputs": [],
   "source": []
  },
  {
   "cell_type": "code",
   "execution_count": 112,
   "id": "27bd1793",
   "metadata": {},
   "outputs": [
    {
     "data": {
      "text/plain": [
       "6"
      ]
     },
     "execution_count": 112,
     "metadata": {},
     "output_type": "execute_result"
    }
   ],
   "source": [
    "13>>1"
   ]
  },
  {
   "cell_type": "code",
   "execution_count": 110,
   "id": "6b46b8ce",
   "metadata": {},
   "outputs": [],
   "source": [
    "def setcountbit(x):\n",
    "    cnt = 0\n",
    "    binary = convert_decimal_to_binary(x)\n",
    "    for bit in binary:\n",
    "        if bit == \"1\":\n",
    "            cnt += 1\n",
    "    return cnt"
   ]
  },
  {
   "cell_type": "code",
   "execution_count": 111,
   "id": "d2725e30",
   "metadata": {},
   "outputs": [
    {
     "data": {
      "text/plain": [
       "3"
      ]
     },
     "execution_count": 111,
     "metadata": {},
     "output_type": "execute_result"
    }
   ],
   "source": [
    "setcountbit(13)"
   ]
  },
  {
   "cell_type": "code",
   "execution_count": 120,
   "id": "e835835a",
   "metadata": {},
   "outputs": [],
   "source": [
    "def countsetbitLeftshift(x):\n",
    "    # count of bits = log2(x)+1\n",
    "    # x & (1<<i-1)\n",
    "    \n",
    "    cnt = 0\n",
    "    k = 0\n",
    "    while True:\n",
    "        if x & (1<<k) !=0 :\n",
    "            print(x & (1<<k))\n",
    "            cnt += 1 \n",
    "        k += 1\n",
    "        \n",
    "        if x < (1<<k):\n",
    "            break\n",
    "    return cnt"
   ]
  },
  {
   "cell_type": "code",
   "execution_count": 121,
   "id": "5cb0aab9",
   "metadata": {},
   "outputs": [
    {
     "name": "stdout",
     "output_type": "stream",
     "text": [
      "16\n"
     ]
    },
    {
     "data": {
      "text/plain": [
       "1"
      ]
     },
     "execution_count": 121,
     "metadata": {},
     "output_type": "execute_result"
    }
   ],
   "source": []
  },
  {
   "cell_type": "code",
   "execution_count": null,
   "id": "4a4f0ecf",
   "metadata": {},
   "outputs": [],
   "source": []
  },
  {
   "cell_type": "code",
   "execution_count": null,
   "id": "e91de219",
   "metadata": {},
   "outputs": [],
   "source": []
  },
  {
   "cell_type": "markdown",
   "id": "b3335d66",
   "metadata": {},
   "source": [
    "# Bit Manipulation  2"
   ]
  },
  {
   "cell_type": "code",
   "execution_count": null,
   "id": "802c4d38",
   "metadata": {},
   "outputs": [],
   "source": []
  },
  {
   "cell_type": "code",
   "execution_count": null,
   "id": "ae2f097e",
   "metadata": {},
   "outputs": [],
   "source": []
  },
  {
   "cell_type": "code",
   "execution_count": 21,
   "id": "c69fc854",
   "metadata": {},
   "outputs": [
    {
     "data": {
      "text/plain": [
       "'\\n& operator : use : to check if number is even or odd: \\n'"
      ]
     },
     "execution_count": 21,
     "metadata": {},
     "output_type": "execute_result"
    }
   ],
   "source": [
    "'''\n",
    "A & 1    operator : use : to check if number is even or odd: \n",
    "'''"
   ]
  },
  {
   "cell_type": "code",
   "execution_count": 22,
   "id": "2b372119",
   "metadata": {},
   "outputs": [
    {
     "data": {
      "text/plain": [
       "1"
      ]
     },
     "execution_count": 22,
     "metadata": {},
     "output_type": "execute_result"
    }
   ],
   "source": [
    "97&1"
   ]
  },
  {
   "cell_type": "code",
   "execution_count": 23,
   "id": "358f61f0",
   "metadata": {},
   "outputs": [
    {
     "data": {
      "text/plain": [
       "0"
      ]
     },
     "execution_count": 23,
     "metadata": {},
     "output_type": "execute_result"
    }
   ],
   "source": [
    "98&1"
   ]
  },
  {
   "cell_type": "code",
   "execution_count": null,
   "id": "f5cc89be",
   "metadata": {},
   "outputs": [],
   "source": []
  },
  {
   "cell_type": "code",
   "execution_count": 26,
   "id": "53681c6a",
   "metadata": {},
   "outputs": [
    {
     "data": {
      "text/plain": [
       "11"
      ]
     },
     "execution_count": 26,
     "metadata": {},
     "output_type": "execute_result"
    }
   ],
   "source": [
    "10|1   # for increament X : X+1"
   ]
  },
  {
   "cell_type": "code",
   "execution_count": 34,
   "id": "038750bf",
   "metadata": {},
   "outputs": [
    {
     "data": {
      "text/plain": [
       "15"
      ]
     },
     "execution_count": 34,
     "metadata": {},
     "output_type": "execute_result"
    }
   ],
   "source": [
    "11|4"
   ]
  },
  {
   "cell_type": "code",
   "execution_count": 35,
   "id": "27bf9170",
   "metadata": {},
   "outputs": [],
   "source": [
    "def decimaltobinary(num):\n",
    "    string = \"\"\n",
    "    while num > 0:\n",
    "        \n",
    "\n",
    "        bit = num % 2 \n",
    "        string += str(bit)\n",
    "        num = num //2\n",
    "       \n",
    "    return string[::-1]"
   ]
  },
  {
   "cell_type": "code",
   "execution_count": 36,
   "id": "2bdd4ace",
   "metadata": {},
   "outputs": [],
   "source": [
    "def binarytodecimal(s):   # binary sting\n",
    "    s = str(s)\n",
    "    i = 0\n",
    "    result = 0\n",
    "    for d in s[::-1]:\n",
    "        result = result+ int(d)*(2**i)\n",
    "        i = i+1\n",
    "    return result\n"
   ]
  },
  {
   "cell_type": "code",
   "execution_count": 37,
   "id": "2a05a64b",
   "metadata": {},
   "outputs": [
    {
     "data": {
      "text/plain": [
       "'1010'"
      ]
     },
     "execution_count": 37,
     "metadata": {},
     "output_type": "execute_result"
    }
   ],
   "source": [
    "decimaltobinary(10)"
   ]
  },
  {
   "cell_type": "code",
   "execution_count": 39,
   "id": "359a2e4a",
   "metadata": {},
   "outputs": [
    {
     "data": {
      "text/plain": [
       "10"
      ]
     },
     "execution_count": 39,
     "metadata": {},
     "output_type": "execute_result"
    }
   ],
   "source": [
    "binarytodecimal(1010)"
   ]
  },
  {
   "cell_type": "code",
   "execution_count": null,
   "id": "6505d30a",
   "metadata": {},
   "outputs": [],
   "source": []
  },
  {
   "cell_type": "code",
   "execution_count": 40,
   "id": "7b60be72",
   "metadata": {},
   "outputs": [
    {
     "data": {
      "text/plain": [
       "0"
      ]
     },
     "execution_count": 40,
     "metadata": {},
     "output_type": "execute_result"
    }
   ],
   "source": [
    "22&1"
   ]
  },
  {
   "cell_type": "code",
   "execution_count": 41,
   "id": "5804ff5d",
   "metadata": {},
   "outputs": [
    {
     "data": {
      "text/plain": [
       "'10110'"
      ]
     },
     "execution_count": 41,
     "metadata": {},
     "output_type": "execute_result"
    }
   ],
   "source": [
    "decimaltobinary(22)"
   ]
  },
  {
   "cell_type": "code",
   "execution_count": 48,
   "id": "8d5b8e44",
   "metadata": {},
   "outputs": [
    {
     "data": {
      "text/plain": [
       "('10110', 0)"
      ]
     },
     "execution_count": 48,
     "metadata": {},
     "output_type": "execute_result"
    }
   ],
   "source": [
    "# checking its last bit is on or 0ff:\n",
    "\n",
    "decimaltobinary(22),22&1"
   ]
  },
  {
   "cell_type": "code",
   "execution_count": 47,
   "id": "7464f6de",
   "metadata": {},
   "outputs": [
    {
     "data": {
      "text/plain": [
       "('10101', 1)"
      ]
     },
     "execution_count": 47,
     "metadata": {},
     "output_type": "execute_result"
    }
   ],
   "source": [
    "decimaltobinary(21), 21&1"
   ]
  },
  {
   "cell_type": "code",
   "execution_count": 49,
   "id": "126525cc",
   "metadata": {},
   "outputs": [
    {
     "data": {
      "text/plain": [
       "('1101', 1)"
      ]
     },
     "execution_count": 49,
     "metadata": {},
     "output_type": "execute_result"
    }
   ],
   "source": [
    "decimaltobinary(13), 13&1"
   ]
  },
  {
   "cell_type": "code",
   "execution_count": 50,
   "id": "10d582f1",
   "metadata": {},
   "outputs": [
    {
     "data": {
      "text/plain": [
       "('1101', '100', 4)"
      ]
     },
     "execution_count": 50,
     "metadata": {},
     "output_type": "execute_result"
    }
   ],
   "source": [
    "decimaltobinary(13),decimaltobinary(4), 13&4\n",
    "\n",
    "#      1 1 0 1\n",
    "#    & 0 1 0 0\n",
    "#---------------\n",
    "#    = 0 1 0 0"
   ]
  },
  {
   "cell_type": "code",
   "execution_count": 51,
   "id": "afef4255",
   "metadata": {},
   "outputs": [
    {
     "data": {
      "text/plain": [
       "('1001', '100', 0)"
      ]
     },
     "execution_count": 51,
     "metadata": {},
     "output_type": "execute_result"
    }
   ],
   "source": [
    "decimaltobinary(9),decimaltobinary(4), 9&4\n"
   ]
  },
  {
   "cell_type": "raw",
   "id": "2fbc0f98",
   "metadata": {},
   "source": [
    "1001\n",
    "0100\n",
    "0000"
   ]
  },
  {
   "cell_type": "code",
   "execution_count": null,
   "id": "61c692b0",
   "metadata": {},
   "outputs": [],
   "source": []
  },
  {
   "cell_type": "code",
   "execution_count": null,
   "id": "3a7f9cdd",
   "metadata": {},
   "outputs": [],
   "source": []
  },
  {
   "cell_type": "code",
   "execution_count": null,
   "id": "e752f57e",
   "metadata": {},
   "outputs": [],
   "source": [
    "# can be used to turn on a bit\n",
    "\n",
    "# toggle a specific bit"
   ]
  },
  {
   "cell_type": "code",
   "execution_count": 57,
   "id": "228c6492",
   "metadata": {},
   "outputs": [
    {
     "data": {
      "text/plain": [
       "(39, 8, '101111')"
      ]
     },
     "execution_count": 57,
     "metadata": {},
     "output_type": "execute_result"
    }
   ],
   "source": [
    "binarytodecimal(100111),binarytodecimal(1000),decimaltobinary(47)"
   ]
  },
  {
   "cell_type": "code",
   "execution_count": 56,
   "id": "47503ef2",
   "metadata": {},
   "outputs": [
    {
     "data": {
      "text/plain": [
       "47"
      ]
     },
     "execution_count": 56,
     "metadata": {},
     "output_type": "execute_result"
    }
   ],
   "source": [
    "39^8"
   ]
  },
  {
   "cell_type": "code",
   "execution_count": null,
   "id": "7a3989e1",
   "metadata": {},
   "outputs": [],
   "source": [
    "100111\n",
    "001000\n",
    "101111"
   ]
  },
  {
   "cell_type": "code",
   "execution_count": null,
   "id": "f45a8f30",
   "metadata": {},
   "outputs": [],
   "source": []
  },
  {
   "cell_type": "code",
   "execution_count": 60,
   "id": "5b9bb5c6",
   "metadata": {},
   "outputs": [
    {
     "data": {
      "text/plain": [
       "9"
      ]
     },
     "execution_count": 60,
     "metadata": {},
     "output_type": "execute_result"
    }
   ],
   "source": [
    "13^4   "
   ]
  },
  {
   "cell_type": "code",
   "execution_count": null,
   "id": "7ef0112e",
   "metadata": {},
   "outputs": [],
   "source": [
    "1101\n",
    "0100\n",
    "1001"
   ]
  },
  {
   "cell_type": "code",
   "execution_count": null,
   "id": "041167dc",
   "metadata": {},
   "outputs": [],
   "source": []
  },
  {
   "cell_type": "code",
   "execution_count": 61,
   "id": "0145ba6b",
   "metadata": {},
   "outputs": [
    {
     "data": {
      "text/plain": [
       "0"
      ]
     },
     "execution_count": 61,
     "metadata": {},
     "output_type": "execute_result"
    }
   ],
   "source": [
    "10^10"
   ]
  },
  {
   "cell_type": "code",
   "execution_count": 62,
   "id": "41c999fc",
   "metadata": {},
   "outputs": [
    {
     "data": {
      "text/plain": [
       "11"
      ]
     },
     "execution_count": 62,
     "metadata": {},
     "output_type": "execute_result"
    }
   ],
   "source": [
    "10^1"
   ]
  },
  {
   "cell_type": "code",
   "execution_count": 63,
   "id": "4799ea87",
   "metadata": {},
   "outputs": [
    {
     "data": {
      "text/plain": [
       "10"
      ]
     },
     "execution_count": 63,
     "metadata": {},
     "output_type": "execute_result"
    }
   ],
   "source": [
    "11^1"
   ]
  },
  {
   "cell_type": "code",
   "execution_count": 64,
   "id": "81b62d6e",
   "metadata": {},
   "outputs": [
    {
     "data": {
      "text/plain": [
       "13"
      ]
     },
     "execution_count": 64,
     "metadata": {},
     "output_type": "execute_result"
    }
   ],
   "source": [
    "12^1"
   ]
  },
  {
   "cell_type": "code",
   "execution_count": 65,
   "id": "bec975b8",
   "metadata": {},
   "outputs": [
    {
     "data": {
      "text/plain": [
       "12"
      ]
     },
     "execution_count": 65,
     "metadata": {},
     "output_type": "execute_result"
    }
   ],
   "source": [
    "13^1"
   ]
  },
  {
   "cell_type": "code",
   "execution_count": 77,
   "id": "db184db3",
   "metadata": {},
   "outputs": [
    {
     "name": "stdout",
     "output_type": "stream",
     "text": [
      "i | i-1 | i^(i-1)\n",
      "-------------\n",
      "1 1 |  0  |  1 1\n",
      "2 10 |  1 1 |  11 3\n",
      "3 11 |  2 10 |  1 1\n",
      "4 100 |  3 11 |  111 7\n",
      "5 101 |  4 100 |  1 1\n",
      "6 110 |  5 101 |  11 3\n",
      "7 111 |  6 110 |  1 1\n",
      "8 1000 |  7 111 |  1111 15\n",
      "9 1001 |  8 1000 |  1 1\n",
      "10 1010 |  9 1001 |  11 3\n"
     ]
    }
   ],
   "source": [
    "print(\"i |\",\"i-1\",\"| i^(i-1)\")\n",
    "print(\"-------------\")\n",
    "for i in range(1,11):\n",
    "    print(i,decimaltobinary(i),\"| \",i-1,decimaltobinary(i-1),\"| \",decimaltobinary(i^i-1),i^i-1)"
   ]
  },
  {
   "cell_type": "code",
   "execution_count": 67,
   "id": "5dc463aa",
   "metadata": {},
   "outputs": [
    {
     "data": {
      "text/plain": [
       "7"
      ]
     },
     "execution_count": 67,
     "metadata": {},
     "output_type": "execute_result"
    }
   ],
   "source": [
    "1000\n",
    "0111\n",
    "1111"
   ]
  },
  {
   "cell_type": "code",
   "execution_count": 78,
   "id": "6d3b7190",
   "metadata": {},
   "outputs": [
    {
     "data": {
      "text/plain": [
       "0"
      ]
     },
     "execution_count": 78,
     "metadata": {},
     "output_type": "execute_result"
    }
   ],
   "source": [
    "15^15"
   ]
  },
  {
   "cell_type": "code",
   "execution_count": 83,
   "id": "2447f965",
   "metadata": {},
   "outputs": [
    {
     "data": {
      "text/plain": [
       "'1111'"
      ]
     },
     "execution_count": 83,
     "metadata": {},
     "output_type": "execute_result"
    }
   ],
   "source": [
    "decimaltobinary(15)"
   ]
  },
  {
   "cell_type": "code",
   "execution_count": 80,
   "id": "3f2989b3",
   "metadata": {},
   "outputs": [
    {
     "data": {
      "text/plain": [
       "0"
      ]
     },
     "execution_count": 80,
     "metadata": {},
     "output_type": "execute_result"
    }
   ],
   "source": [
    "1111\n",
    "1111\n",
    "0000"
   ]
  },
  {
   "cell_type": "code",
   "execution_count": 84,
   "id": "23908777",
   "metadata": {},
   "outputs": [
    {
     "data": {
      "text/plain": [
       "5"
      ]
     },
     "execution_count": 84,
     "metadata": {},
     "output_type": "execute_result"
    }
   ],
   "source": [
    "10^5^10"
   ]
  },
  {
   "cell_type": "code",
   "execution_count": null,
   "id": "730e8998",
   "metadata": {},
   "outputs": [],
   "source": []
  },
  {
   "cell_type": "code",
   "execution_count": null,
   "id": "e53565b4",
   "metadata": {},
   "outputs": [],
   "source": [
    "1010 10\n",
    "0101  5\n",
    "1111  15"
   ]
  },
  {
   "cell_type": "code",
   "execution_count": 85,
   "id": "d17f8714",
   "metadata": {},
   "outputs": [
    {
     "ename": "SyntaxError",
     "evalue": "invalid syntax (Temp/ipykernel_13984/2317402884.py, line 1)",
     "output_type": "error",
     "traceback": [
      "\u001b[1;36m  File \u001b[1;32m\"C:\\Users\\sunny\\AppData\\Local\\Temp/ipykernel_13984/2317402884.py\"\u001b[1;36m, line \u001b[1;32m1\u001b[0m\n\u001b[1;33m    1111 15\u001b[0m\n\u001b[1;37m         ^\u001b[0m\n\u001b[1;31mSyntaxError\u001b[0m\u001b[1;31m:\u001b[0m invalid syntax\n"
     ]
    }
   ],
   "source": [
    "1111 15 \n",
    "1010 10\n",
    "0101 5"
   ]
  },
  {
   "cell_type": "code",
   "execution_count": 86,
   "id": "2d9de126",
   "metadata": {},
   "outputs": [
    {
     "data": {
      "text/plain": [
       "15"
      ]
     },
     "execution_count": 86,
     "metadata": {},
     "output_type": "execute_result"
    }
   ],
   "source": [
    "10^5"
   ]
  },
  {
   "cell_type": "code",
   "execution_count": 88,
   "id": "bc36f458",
   "metadata": {},
   "outputs": [
    {
     "data": {
      "text/plain": [
       "5"
      ]
     },
     "execution_count": 88,
     "metadata": {},
     "output_type": "execute_result"
    }
   ],
   "source": [
    "15^10"
   ]
  },
  {
   "cell_type": "code",
   "execution_count": 90,
   "id": "2e0c311b",
   "metadata": {},
   "outputs": [
    {
     "data": {
      "text/plain": [
       "5"
      ]
     },
     "execution_count": 90,
     "metadata": {},
     "output_type": "execute_result"
    }
   ],
   "source": [
    "10^5^10"
   ]
  },
  {
   "cell_type": "code",
   "execution_count": 91,
   "id": "8acbf3b3",
   "metadata": {},
   "outputs": [
    {
     "data": {
      "text/plain": [
       "1"
      ]
     },
     "execution_count": 91,
     "metadata": {},
     "output_type": "execute_result"
    }
   ],
   "source": [
    "1^1^1"
   ]
  },
  {
   "cell_type": "code",
   "execution_count": 92,
   "id": "ab78254a",
   "metadata": {},
   "outputs": [
    {
     "data": {
      "text/plain": [
       "0"
      ]
     },
     "execution_count": 92,
     "metadata": {},
     "output_type": "execute_result"
    }
   ],
   "source": [
    "1^0^1"
   ]
  },
  {
   "cell_type": "code",
   "execution_count": null,
   "id": "0edd30d2",
   "metadata": {},
   "outputs": [],
   "source": [
    " "
   ]
  },
  {
   "cell_type": "code",
   "execution_count": 2,
   "id": "d7879641",
   "metadata": {},
   "outputs": [],
   "source": [
    "def b2d(s):   # binary sting\n",
    "    s = str(s)\n",
    "    i = 0\n",
    "    result = 0\n",
    "    for d in s[::-1]:\n",
    "        result = result+ int(d)*(2**i)\n",
    "        i = i+1\n",
    "    return result\n",
    "def d2b(num):\n",
    "    string = \"\"\n",
    "    while num > 0:\n",
    "        \n",
    "\n",
    "        bit = num % 2 \n",
    "        string += str(bit)\n",
    "        num = num //2\n",
    "       \n",
    "    return string[::-1]\n"
   ]
  },
  {
   "cell_type": "code",
   "execution_count": 101,
   "id": "7043db80",
   "metadata": {},
   "outputs": [
    {
     "data": {
      "text/plain": [
       "'10'"
      ]
     },
     "execution_count": 101,
     "metadata": {},
     "output_type": "execute_result"
    }
   ],
   "source": [
    "d2b( b2d(101) ^ b2d(10) ^ b2d(101) )"
   ]
  },
  {
   "cell_type": "code",
   "execution_count": 100,
   "id": "712e5cd9",
   "metadata": {},
   "outputs": [],
   "source": [
    "# 101 010 101 = 010"
   ]
  },
  {
   "cell_type": "code",
   "execution_count": 102,
   "id": "6054323a",
   "metadata": {},
   "outputs": [
    {
     "data": {
      "text/plain": [
       "1"
      ]
     },
     "execution_count": 102,
     "metadata": {},
     "output_type": "execute_result"
    }
   ],
   "source": [
    "1^1^1^1^1"
   ]
  },
  {
   "cell_type": "code",
   "execution_count": 104,
   "id": "cfba6461",
   "metadata": {},
   "outputs": [
    {
     "data": {
      "text/plain": [
       "1"
      ]
     },
     "execution_count": 104,
     "metadata": {},
     "output_type": "execute_result"
    }
   ],
   "source": [
    "1^0^1^1"
   ]
  },
  {
   "cell_type": "code",
   "execution_count": 105,
   "id": "dcb2599e",
   "metadata": {},
   "outputs": [
    {
     "data": {
      "text/plain": [
       "1"
      ]
     },
     "execution_count": 105,
     "metadata": {},
     "output_type": "execute_result"
    }
   ],
   "source": [
    "1^1^0^1"
   ]
  },
  {
   "cell_type": "code",
   "execution_count": null,
   "id": "ad03aa90",
   "metadata": {},
   "outputs": [],
   "source": []
  },
  {
   "cell_type": "code",
   "execution_count": null,
   "id": "f9285be3",
   "metadata": {},
   "outputs": [],
   "source": []
  },
  {
   "cell_type": "code",
   "execution_count": 111,
   "id": "6d7bc978",
   "metadata": {},
   "outputs": [],
   "source": [
    "# for i in range(0,11,2):\n",
    "#     print()"
   ]
  },
  {
   "cell_type": "code",
   "execution_count": null,
   "id": "4c2ec63e",
   "metadata": {},
   "outputs": [],
   "source": []
  },
  {
   "cell_type": "code",
   "execution_count": null,
   "id": "1e37ec8f",
   "metadata": {},
   "outputs": [],
   "source": []
  },
  {
   "cell_type": "markdown",
   "id": "516b759b",
   "metadata": {},
   "source": [
    "# Given an array of integers A, every element appears twice except for one. Find that integer that occurs once.\n",
    "\n",
    "NOTE: Your algorithm should have a linear runtime complexity. Could you implement it without using extra memory?"
   ]
  },
  {
   "cell_type": "code",
   "execution_count": 184,
   "id": "d530c2f9",
   "metadata": {},
   "outputs": [
    {
     "name": "stdout",
     "output_type": "stream",
     "text": [
      "1\n",
      "2 ans  : 3\n",
      "2 ans  : 1\n",
      "3 ans  : 2\n",
      "3 ans  : 1\n",
      "1 ans  : 0\n",
      "2 ans  : 2\n",
      "2\n"
     ]
    }
   ],
   "source": [
    "A = [1,2,2,3,3,1,2]\n",
    "ans = A[0]\n",
    "print(ans)\n",
    "for x in A[1:]:\n",
    "   \n",
    "    ans = ans^x\n",
    "    print(x, \"ans  :\",ans)\n",
    "print(ans)\n",
    "    "
   ]
  },
  {
   "cell_type": "code",
   "execution_count": null,
   "id": "2f58c168",
   "metadata": {},
   "outputs": [],
   "source": []
  },
  {
   "cell_type": "code",
   "execution_count": null,
   "id": "874d6185",
   "metadata": {},
   "outputs": [],
   "source": []
  },
  {
   "cell_type": "code",
   "execution_count": 130,
   "id": "aff16107",
   "metadata": {},
   "outputs": [
    {
     "name": "stdout",
     "output_type": "stream",
     "text": [
      "0 \n",
      "1 1\n",
      "2 10\n",
      "3 11\n",
      "4 100\n",
      "5 101\n",
      "6 110\n",
      "7 111\n",
      "8 1000\n",
      "9 1001\n",
      "10 1010\n"
     ]
    }
   ],
   "source": [
    "for i in range(0,11):\n",
    "    print(i,d2b(i))"
   ]
  },
  {
   "cell_type": "code",
   "execution_count": null,
   "id": "168baaae",
   "metadata": {},
   "outputs": [],
   "source": []
  },
  {
   "cell_type": "code",
   "execution_count": 133,
   "id": "f4af5c36",
   "metadata": {},
   "outputs": [
    {
     "name": "stdout",
     "output_type": "stream",
     "text": [
      "1 1\n",
      "2 10\n",
      "4 100\n",
      "8 1000\n",
      "16 10000\n",
      "32 100000\n",
      "64 1000000\n",
      "128 10000000\n",
      "256 100000000\n",
      "512 1000000000\n",
      "1024 10000000000\n"
     ]
    }
   ],
   "source": [
    "for i in range(0,11):\n",
    "    print(2**i,d2b(2**i))"
   ]
  },
  {
   "cell_type": "code",
   "execution_count": null,
   "id": "e27cad5b",
   "metadata": {},
   "outputs": [],
   "source": []
  },
  {
   "cell_type": "code",
   "execution_count": null,
   "id": "978753df",
   "metadata": {},
   "outputs": [],
   "source": []
  },
  {
   "cell_type": "code",
   "execution_count": null,
   "id": "fbb95d3e",
   "metadata": {},
   "outputs": [],
   "source": [
    "101100\n",
    "010000\n",
    "\n",
    "000000"
   ]
  },
  {
   "cell_type": "code",
   "execution_count": 128,
   "id": "e9baf249",
   "metadata": {},
   "outputs": [
    {
     "data": {
      "text/plain": [
       "'11110'"
      ]
     },
     "execution_count": 128,
     "metadata": {},
     "output_type": "execute_result"
    }
   ],
   "source": [
    "d2b(30)"
   ]
  },
  {
   "cell_type": "code",
   "execution_count": null,
   "id": "de5a55f2",
   "metadata": {},
   "outputs": [],
   "source": []
  },
  {
   "cell_type": "code",
   "execution_count": 123,
   "id": "dfa366c5",
   "metadata": {},
   "outputs": [
    {
     "data": {
      "text/plain": [
       "'101100'"
      ]
     },
     "execution_count": 123,
     "metadata": {},
     "output_type": "execute_result"
    }
   ],
   "source": [
    "d2b(44)"
   ]
  },
  {
   "cell_type": "code",
   "execution_count": 124,
   "id": "28b78563",
   "metadata": {},
   "outputs": [
    {
     "data": {
      "text/plain": [
       "0"
      ]
     },
     "execution_count": 124,
     "metadata": {},
     "output_type": "execute_result"
    }
   ],
   "source": [
    "# check if 1st bit is on or off : \n",
    "\n",
    "\n",
    "44&1    # if 0 its off . if 1 its on \n"
   ]
  },
  {
   "cell_type": "code",
   "execution_count": 125,
   "id": "dbe4bfb2",
   "metadata": {},
   "outputs": [
    {
     "data": {
      "text/plain": [
       "0"
      ]
     },
     "execution_count": 125,
     "metadata": {},
     "output_type": "execute_result"
    }
   ],
   "source": [
    "44&2    # for 2nd bit"
   ]
  },
  {
   "cell_type": "code",
   "execution_count": 134,
   "id": "52a6408d",
   "metadata": {},
   "outputs": [
    {
     "data": {
      "text/plain": [
       "4"
      ]
     },
     "execution_count": 134,
     "metadata": {},
     "output_type": "execute_result"
    }
   ],
   "source": [
    "44&4   # for 3rd bit "
   ]
  },
  {
   "cell_type": "code",
   "execution_count": 137,
   "id": "a8d0557b",
   "metadata": {},
   "outputs": [
    {
     "data": {
      "text/plain": [
       "8"
      ]
     },
     "execution_count": 137,
     "metadata": {},
     "output_type": "execute_result"
    }
   ],
   "source": [
    "44&8"
   ]
  },
  {
   "cell_type": "code",
   "execution_count": 138,
   "id": "695a20c6",
   "metadata": {},
   "outputs": [
    {
     "data": {
      "text/plain": [
       "0"
      ]
     },
     "execution_count": 138,
     "metadata": {},
     "output_type": "execute_result"
    }
   ],
   "source": [
    "44&16"
   ]
  },
  {
   "cell_type": "code",
   "execution_count": null,
   "id": "f2237694",
   "metadata": {},
   "outputs": [],
   "source": []
  },
  {
   "cell_type": "code",
   "execution_count": null,
   "id": "773c7904",
   "metadata": {},
   "outputs": [],
   "source": []
  },
  {
   "cell_type": "code",
   "execution_count": 174,
   "id": "d2c20e1d",
   "metadata": {},
   "outputs": [
    {
     "name": "stdout",
     "output_type": "stream",
     "text": [
      "---654321\n",
      "--------------\n",
      "44 101100 1 0    1\n",
      "44 101100 2 0    10\n",
      "44 101100 3 4    100\n",
      "44 101100 4 8    1000\n",
      "44 101100 5 0    10000\n",
      "44 101100 6 32    100000\n",
      "44 101100 7 0    1000000\n"
     ]
    }
   ],
   "source": [
    "# chck if kth bit is on or off : of number 44 \n",
    "# from 0 t0 11 \n",
    "print(\"---654321\")\n",
    "print(\"--------------\")\n",
    "for i in range(1,8):\n",
    "    t = 44&(2**(i-1))\n",
    "    print(44,d2b(44),i,t,\"  \",d2b(2**(i-1)))\n",
    "    \n",
    "\n"
   ]
  },
  {
   "cell_type": "code",
   "execution_count": 148,
   "id": "4e8d59a7",
   "metadata": {},
   "outputs": [
    {
     "data": {
      "text/plain": [
       "('1011', '10110', '101100', '1011000')"
      ]
     },
     "execution_count": 148,
     "metadata": {},
     "output_type": "execute_result"
    }
   ],
   "source": [
    "d2b(11),d2b(22),d2b(44),d2b(88)"
   ]
  },
  {
   "cell_type": "code",
   "execution_count": 160,
   "id": "c9392a64",
   "metadata": {},
   "outputs": [],
   "source": [
    "# multiplying  decimal by 2 = shifting all bits towards left"
   ]
  },
  {
   "cell_type": "code",
   "execution_count": null,
   "id": "d0d93481",
   "metadata": {},
   "outputs": [],
   "source": []
  },
  {
   "cell_type": "code",
   "execution_count": 175,
   "id": "0b06c0b4",
   "metadata": {},
   "outputs": [
    {
     "data": {
      "text/plain": [
       "2"
      ]
     },
     "execution_count": 175,
     "metadata": {},
     "output_type": "execute_result"
    }
   ],
   "source": [
    "1<<1\n",
    "# left shifting of 1 :: 10"
   ]
  },
  {
   "cell_type": "code",
   "execution_count": 178,
   "id": "39873553",
   "metadata": {},
   "outputs": [
    {
     "data": {
      "text/plain": [
       "('11', 6, '110')"
      ]
     },
     "execution_count": 178,
     "metadata": {},
     "output_type": "execute_result"
    }
   ],
   "source": [
    "d2b(3), 3<<1, d2b(3<<1)"
   ]
  },
  {
   "cell_type": "code",
   "execution_count": 183,
   "id": "c879dcc3",
   "metadata": {},
   "outputs": [
    {
     "data": {
      "text/plain": [
       "12"
      ]
     },
     "execution_count": 183,
     "metadata": {},
     "output_type": "execute_result"
    }
   ],
   "source": [
    "3<<2   #(2**n)"
   ]
  },
  {
   "cell_type": "code",
   "execution_count": 184,
   "id": "22ec14ed",
   "metadata": {},
   "outputs": [
    {
     "data": {
      "text/plain": [
       "48"
      ]
     },
     "execution_count": 184,
     "metadata": {},
     "output_type": "execute_result"
    }
   ],
   "source": [
    "3<<4     # (2**3 = 16, 16*3= 48)"
   ]
  },
  {
   "cell_type": "code",
   "execution_count": 185,
   "id": "12c66a76",
   "metadata": {},
   "outputs": [
    {
     "data": {
      "text/plain": [
       "16"
      ]
     },
     "execution_count": 185,
     "metadata": {},
     "output_type": "execute_result"
    }
   ],
   "source": [
    "2**4"
   ]
  },
  {
   "cell_type": "code",
   "execution_count": null,
   "id": "da9b504c",
   "metadata": {},
   "outputs": [],
   "source": []
  },
  {
   "cell_type": "code",
   "execution_count": null,
   "id": "6559c08e",
   "metadata": {},
   "outputs": [],
   "source": []
  },
  {
   "cell_type": "code",
   "execution_count": 190,
   "id": "f03dde20",
   "metadata": {},
   "outputs": [
    {
     "data": {
      "text/plain": [
       "'101100'"
      ]
     },
     "execution_count": 190,
     "metadata": {},
     "output_type": "execute_result"
    }
   ],
   "source": [
    "d2b(44)"
   ]
  },
  {
   "cell_type": "code",
   "execution_count": 198,
   "id": "de6390ca",
   "metadata": {},
   "outputs": [
    {
     "data": {
      "text/plain": [
       "(0, 0, 4, 8, 0, 32, 0)"
      ]
     },
     "execution_count": 198,
     "metadata": {},
     "output_type": "execute_result"
    }
   ],
   "source": [
    "44&1, 44&2,44&4,44&8,44&16,44&32,44&64"
   ]
  },
  {
   "cell_type": "code",
   "execution_count": 205,
   "id": "e7f4205f",
   "metadata": {},
   "outputs": [
    {
     "data": {
      "text/plain": [
       "(0, 0, 4, 8, 0, 32)"
      ]
     },
     "execution_count": 205,
     "metadata": {},
     "output_type": "execute_result"
    }
   ],
   "source": [
    "44&(1<<0),44&(1<<1),44&(1<<2),44&(1<<3),44&(1<<4),44&(1<<5)"
   ]
  },
  {
   "cell_type": "code",
   "execution_count": null,
   "id": "6ab94d49",
   "metadata": {},
   "outputs": [],
   "source": [
    "# genertal forumla to check kth bit is on or off : a & (1<<k-1)\n",
    "# whivh is equal to \"  :\"                          a&(2**(k-1))\n",
    "\n"
   ]
  },
  {
   "cell_type": "code",
   "execution_count": 210,
   "id": "43cbbc1c",
   "metadata": {},
   "outputs": [
    {
     "name": "stdout",
     "output_type": "stream",
     "text": [
      "---654321\n",
      "--------------\n",
      "44 101100 1 0    1\n",
      "44 101100 2 0    10\n",
      "44 101100 3 4    100\n",
      "44 101100 4 8    1000\n",
      "44 101100 5 0    10000\n",
      "44 101100 6 32    100000\n",
      "44 101100 7 0    1000000\n"
     ]
    }
   ],
   "source": [
    "# chck if kth bit is on or off : of number 44 \n",
    "# from 0 t0 11 \n",
    "print(\"---654321\")\n",
    "print(\"--------------\")\n",
    "for i in range(1,8):\n",
    "    t = 44&(1<<(i-1))\n",
    "    print(44,d2b(44),i,t,\"  \",d2b(1<<(i-1)))\n",
    "    \n",
    "\n"
   ]
  },
  {
   "cell_type": "code",
   "execution_count": null,
   "id": "3acaacd5",
   "metadata": {},
   "outputs": [],
   "source": []
  },
  {
   "cell_type": "code",
   "execution_count": 211,
   "id": "75fe9445",
   "metadata": {},
   "outputs": [
    {
     "data": {
      "text/plain": [
       "13"
      ]
     },
     "execution_count": 211,
     "metadata": {},
     "output_type": "execute_result"
    }
   ],
   "source": [
    "b2d(1101)"
   ]
  },
  {
   "cell_type": "code",
   "execution_count": 212,
   "id": "730a6faf",
   "metadata": {},
   "outputs": [
    {
     "data": {
      "text/plain": [
       "104"
      ]
     },
     "execution_count": 212,
     "metadata": {},
     "output_type": "execute_result"
    }
   ],
   "source": [
    "13<<3"
   ]
  },
  {
   "cell_type": "code",
   "execution_count": 213,
   "id": "1d9797f3",
   "metadata": {},
   "outputs": [
    {
     "data": {
      "text/plain": [
       "104"
      ]
     },
     "execution_count": 213,
     "metadata": {},
     "output_type": "execute_result"
    }
   ],
   "source": [
    "13"
   ]
  },
  {
   "cell_type": "code",
   "execution_count": 214,
   "id": "e5350a08",
   "metadata": {},
   "outputs": [
    {
     "data": {
      "text/plain": [
       "8"
      ]
     },
     "execution_count": 214,
     "metadata": {},
     "output_type": "execute_result"
    }
   ],
   "source": [
    "1<<3"
   ]
  },
  {
   "cell_type": "code",
   "execution_count": 215,
   "id": "95b38271",
   "metadata": {},
   "outputs": [
    {
     "data": {
      "text/plain": [
       "8"
      ]
     },
     "execution_count": 215,
     "metadata": {},
     "output_type": "execute_result"
    }
   ],
   "source": [
    "13&8"
   ]
  },
  {
   "cell_type": "code",
   "execution_count": null,
   "id": "e4f99c0d",
   "metadata": {},
   "outputs": [],
   "source": []
  },
  {
   "cell_type": "code",
   "execution_count": null,
   "id": "8f28f03e",
   "metadata": {},
   "outputs": [],
   "source": []
  },
  {
   "cell_type": "markdown",
   "id": "4775ac83",
   "metadata": {},
   "source": [
    "# check if ith bit is ON or OFF :\n"
   ]
  },
  {
   "cell_type": "code",
   "execution_count": 216,
   "id": "11af3d7a",
   "metadata": {},
   "outputs": [],
   "source": [
    "def check(x,i):\n",
    "    pass"
   ]
  },
  {
   "cell_type": "code",
   "execution_count": 218,
   "id": "4b315d47",
   "metadata": {},
   "outputs": [],
   "source": [
    "# i= 1  -> x&(1<<0)\n",
    "#    2     x&(1<<1)\n",
    "#    3     x&(1<<2)"
   ]
  },
  {
   "cell_type": "code",
   "execution_count": 236,
   "id": "249cbe40",
   "metadata": {},
   "outputs": [],
   "source": [
    "def check(x,i):\n",
    "    if x & (1 << (i-1)) == 0 :\n",
    "        return \"BIT IS OFF\"\n",
    "    return \"BIT IS ON\""
   ]
  },
  {
   "cell_type": "code",
   "execution_count": 238,
   "id": "cf988c25",
   "metadata": {},
   "outputs": [
    {
     "data": {
      "text/plain": [
       "'BIT IS OFF'"
      ]
     },
     "execution_count": 238,
     "metadata": {},
     "output_type": "execute_result"
    }
   ],
   "source": [
    "check(13,2)"
   ]
  },
  {
   "cell_type": "code",
   "execution_count": 244,
   "id": "b546d58d",
   "metadata": {},
   "outputs": [],
   "source": [
    "def check(x,i):\n",
    "    print(d2b(x))\n",
    "    if x & (1 << (i-1)) == 0 :\n",
    "        return \"BIT OFF\"\n",
    "    return \"BIT ON\""
   ]
  },
  {
   "cell_type": "code",
   "execution_count": 245,
   "id": "c2d8823a",
   "metadata": {},
   "outputs": [
    {
     "name": "stdout",
     "output_type": "stream",
     "text": [
      "111\n"
     ]
    },
    {
     "data": {
      "text/plain": [
       "'BIT OFF'"
      ]
     },
     "execution_count": 245,
     "metadata": {},
     "output_type": "execute_result"
    }
   ],
   "source": [
    "check(7,4)"
   ]
  },
  {
   "cell_type": "code",
   "execution_count": null,
   "id": "5d465e04",
   "metadata": {},
   "outputs": [],
   "source": []
  },
  {
   "cell_type": "code",
   "execution_count": null,
   "id": "7957ee48",
   "metadata": {},
   "outputs": [],
   "source": []
  },
  {
   "cell_type": "code",
   "execution_count": null,
   "id": "6c903e7f",
   "metadata": {},
   "outputs": [],
   "source": []
  },
  {
   "cell_type": "code",
   "execution_count": null,
   "id": "2b82d6ff",
   "metadata": {},
   "outputs": [],
   "source": []
  },
  {
   "cell_type": "code",
   "execution_count": 251,
   "id": "8d393ffc",
   "metadata": {},
   "outputs": [
    {
     "data": {
      "text/plain": [
       "11"
      ]
     },
     "execution_count": 251,
     "metadata": {},
     "output_type": "execute_result"
    }
   ],
   "source": [
    "44>>2"
   ]
  },
  {
   "cell_type": "code",
   "execution_count": 253,
   "id": "70bd4910",
   "metadata": {},
   "outputs": [],
   "source": [
    "# 101100 : shift  right  2 position '\n",
    "# 001011 : ans : 11"
   ]
  },
  {
   "cell_type": "code",
   "execution_count": 254,
   "id": "bb333902",
   "metadata": {},
   "outputs": [
    {
     "data": {
      "text/plain": [
       "5"
      ]
     },
     "execution_count": 254,
     "metadata": {},
     "output_type": "execute_result"
    }
   ],
   "source": [
    "44>>3 "
   ]
  },
  {
   "cell_type": "code",
   "execution_count": null,
   "id": "07f34de7",
   "metadata": {},
   "outputs": [],
   "source": [
    "# 101100\n",
    "# 000101 -> ans is 5"
   ]
  },
  {
   "cell_type": "code",
   "execution_count": null,
   "id": "13f9ef97",
   "metadata": {},
   "outputs": [],
   "source": []
  },
  {
   "cell_type": "code",
   "execution_count": 256,
   "id": "20086702",
   "metadata": {},
   "outputs": [
    {
     "data": {
      "text/plain": [
       "'11101'"
      ]
     },
     "execution_count": 256,
     "metadata": {},
     "output_type": "execute_result"
    }
   ],
   "source": [
    "d2b(29)"
   ]
  },
  {
   "cell_type": "code",
   "execution_count": 261,
   "id": "f4d119f6",
   "metadata": {},
   "outputs": [
    {
     "data": {
      "text/plain": [
       "1"
      ]
     },
     "execution_count": 261,
     "metadata": {},
     "output_type": "execute_result"
    }
   ],
   "source": [
    "b2d(1)"
   ]
  },
  {
   "cell_type": "code",
   "execution_count": null,
   "id": "8c8ec21c",
   "metadata": {},
   "outputs": [],
   "source": [
    "1011\n",
    "0001"
   ]
  },
  {
   "cell_type": "code",
   "execution_count": null,
   "id": "12547a14",
   "metadata": {},
   "outputs": [],
   "source": []
  },
  {
   "cell_type": "code",
   "execution_count": null,
   "id": "b81c3745",
   "metadata": {},
   "outputs": [],
   "source": []
  },
  {
   "cell_type": "markdown",
   "id": "2230cadc",
   "metadata": {},
   "source": [
    "# any number k shifted by : a << k  =  a* 2**(k) \n",
    "\n",
    "# 1 << k = 2**(k)"
   ]
  },
  {
   "cell_type": "markdown",
   "id": "429bc9a9",
   "metadata": {},
   "source": [
    "1<<K"
   ]
  },
  {
   "cell_type": "code",
   "execution_count": null,
   "id": "0ce44535",
   "metadata": {},
   "outputs": [],
   "source": []
  },
  {
   "cell_type": "markdown",
   "id": "87e7b34c",
   "metadata": {},
   "source": [
    "# check if kth bit ON or OFF : \n",
    "\n",
    "#    a & ( 1 << (k-1) ) "
   ]
  },
  {
   "cell_type": "code",
   "execution_count": null,
   "id": "e882f223",
   "metadata": {},
   "outputs": [],
   "source": []
  },
  {
   "cell_type": "code",
   "execution_count": null,
   "id": "3d9d6943",
   "metadata": {},
   "outputs": [],
   "source": []
  },
  {
   "cell_type": "raw",
   "id": "969363be",
   "metadata": {},
   "source": [
    "manually if we want to check the 1st bit on or off : \n",
    "\n",
    "   _ _ _ _ _ _ _  \n",
    "   7 6 5 4 3 2 1 \n",
    "   1 0 1 0 1 0 1 \n",
    "&  0 0 0 0 0 0 1 \n",
    "_____________________\n",
    "   0 0 0 0 0 0 1   : means its on \n",
    "   \n",
    "   \n",
    "   _ _ _ _ _ _ _  \n",
    "   7 6 5 4 3 2 1 \n",
    "   \n",
    "&  0 0 0 0 0 0 1  = 1  for checking 1st bit   2**0\n",
    "   0 0 0 0 0 1 0  = 2  for checking 2nd bit   2**1\n",
    "   0 0 0 0 1 0 0  = 4               3rd       2**2\n",
    "   0 0 0 1 0 0 0  = 8               4th       2**3    \n",
    "   \n",
    "   \n",
    "   \n",
    "   "
   ]
  },
  {
   "cell_type": "code",
   "execution_count": null,
   "id": "8e159195",
   "metadata": {},
   "outputs": [],
   "source": []
  },
  {
   "cell_type": "code",
   "execution_count": null,
   "id": "e138999b",
   "metadata": {},
   "outputs": [],
   "source": []
  },
  {
   "cell_type": "markdown",
   "id": "3b62979b",
   "metadata": {},
   "source": [
    "#  Write a function that takes an integer and returns the number of 1 bits it has.\n"
   ]
  },
  {
   "cell_type": "markdown",
   "id": "3b57b34f",
   "metadata": {},
   "source": [
    "#  10110101  = 5"
   ]
  },
  {
   "cell_type": "code",
   "execution_count": 275,
   "id": "4fab0daf",
   "metadata": {},
   "outputs": [],
   "source": [
    "def CountSetBits(x):\n",
    "    cnt = 0\n",
    "    binary = d2b(x)\n",
    "    #print(binary)\n",
    "    for bit in binary:\n",
    "        if bit =='1':\n",
    "            cnt += 1\n",
    "    return cnt"
   ]
  },
  {
   "cell_type": "code",
   "execution_count": 279,
   "id": "5758f3ae",
   "metadata": {},
   "outputs": [
    {
     "data": {
      "text/plain": [
       "3"
      ]
     },
     "execution_count": 279,
     "metadata": {},
     "output_type": "execute_result"
    }
   ],
   "source": [
    "CountSetBits(13)"
   ]
  },
  {
   "cell_type": "code",
   "execution_count": null,
   "id": "aa43274d",
   "metadata": {},
   "outputs": [],
   "source": []
  },
  {
   "cell_type": "code",
   "execution_count": 285,
   "id": "49c5f94b",
   "metadata": {},
   "outputs": [],
   "source": [
    "def CountSetBitsShift(x):\n",
    "    cnt = 0\n",
    "    k = 0\n",
    "    while True:\n",
    "        if x & (1<<k) != 0 :\n",
    "            cnt += 1\n",
    "        k = k+1\n",
    "        if x < (1<<k):\n",
    "            break\n",
    "    return cnt"
   ]
  },
  {
   "cell_type": "code",
   "execution_count": 286,
   "id": "e4767de1",
   "metadata": {},
   "outputs": [
    {
     "data": {
      "text/plain": [
       "3"
      ]
     },
     "execution_count": 286,
     "metadata": {},
     "output_type": "execute_result"
    }
   ],
   "source": [
    "CountSetBitsShift(13)"
   ]
  },
  {
   "cell_type": "code",
   "execution_count": null,
   "id": "cdeca3a7",
   "metadata": {},
   "outputs": [],
   "source": []
  },
  {
   "cell_type": "code",
   "execution_count": 278,
   "id": "9ab00f7f",
   "metadata": {},
   "outputs": [
    {
     "data": {
      "text/plain": [
       "3.3219280948873626"
      ]
     },
     "execution_count": 278,
     "metadata": {},
     "output_type": "execute_result"
    }
   ],
   "source": [
    "import math \n",
    "math.log(10,2)"
   ]
  },
  {
   "cell_type": "code",
   "execution_count": 299,
   "id": "acb11b9b",
   "metadata": {},
   "outputs": [
    {
     "data": {
      "text/plain": [
       "'11'"
      ]
     },
     "execution_count": 299,
     "metadata": {},
     "output_type": "execute_result"
    }
   ],
   "source": [
    "d2b(3)"
   ]
  },
  {
   "cell_type": "code",
   "execution_count": 304,
   "id": "60134cbd",
   "metadata": {},
   "outputs": [],
   "source": [
    "N = 2\n",
    "\n",
    "binary = d2b(N)"
   ]
  },
  {
   "cell_type": "code",
   "execution_count": 305,
   "id": "136a7a42",
   "metadata": {},
   "outputs": [],
   "source": [
    "S = binary.rjust(32,'0')"
   ]
  },
  {
   "cell_type": "code",
   "execution_count": 306,
   "id": "54fbe190",
   "metadata": {},
   "outputs": [
    {
     "data": {
      "text/plain": [
       "'00000000000000000000000000000010'"
      ]
     },
     "execution_count": 306,
     "metadata": {},
     "output_type": "execute_result"
    }
   ],
   "source": [
    "S"
   ]
  },
  {
   "cell_type": "code",
   "execution_count": 307,
   "id": "087d620d",
   "metadata": {},
   "outputs": [
    {
     "data": {
      "text/plain": [
       "1073741824"
      ]
     },
     "execution_count": 307,
     "metadata": {},
     "output_type": "execute_result"
    }
   ],
   "source": [
    "b2d(S[::-1])"
   ]
  },
  {
   "cell_type": "code",
   "execution_count": 3,
   "id": "8b1638ee",
   "metadata": {},
   "outputs": [],
   "source": [
    "def b2d(s):   # binary sting\n",
    "    s = str(s)\n",
    "    i = 0\n",
    "    result = 0\n",
    "    for d in s[::-1]:\n",
    "        result = result+ int(d)*(2**i)\n",
    "        i = i+1\n",
    "    return result\n",
    "def d2b(num):\n",
    "    string = \"\"\n",
    "    while num > 0:\n",
    "        \n",
    "\n",
    "        bit = num % 2 \n",
    "        string += str(bit)\n",
    "        num = num //2\n",
    "       \n",
    "    return string[::-1]\n"
   ]
  },
  {
   "cell_type": "code",
   "execution_count": 6,
   "id": "1f153699",
   "metadata": {},
   "outputs": [
    {
     "data": {
      "text/plain": [
       "258"
      ]
     },
     "execution_count": 6,
     "metadata": {},
     "output_type": "execute_result"
    }
   ],
   "source": [
    "b2d(100000010)"
   ]
  },
  {
   "cell_type": "code",
   "execution_count": 5,
   "id": "a8df5099",
   "metadata": {},
   "outputs": [
    {
     "data": {
      "text/plain": [
       "129.0"
      ]
     },
     "execution_count": 5,
     "metadata": {},
     "output_type": "execute_result"
    }
   ],
   "source": [
    "258/2"
   ]
  },
  {
   "cell_type": "code",
   "execution_count": null,
   "id": "a92f6feb",
   "metadata": {},
   "outputs": [],
   "source": []
  },
  {
   "cell_type": "code",
   "execution_count": null,
   "id": "82fe8f78",
   "metadata": {},
   "outputs": [],
   "source": []
  },
  {
   "cell_type": "code",
   "execution_count": null,
   "id": "bae25443",
   "metadata": {},
   "outputs": [],
   "source": []
  },
  {
   "cell_type": "code",
   "execution_count": 39,
   "id": "47615e13",
   "metadata": {},
   "outputs": [],
   "source": [
    "def to_binary(x):\n",
    "    string = \"\"\n",
    "    \n",
    "    while x > 0:\n",
    "\n",
    "        remainder = x % 2\n",
    "\n",
    "        string += str(remainder)\n",
    "        x = x//2\n",
    "    return string[::-1]"
   ]
  },
  {
   "cell_type": "code",
   "execution_count": 20,
   "id": "f10a5650",
   "metadata": {},
   "outputs": [
    {
     "data": {
      "text/plain": [
       "'1111101000'"
      ]
     },
     "execution_count": 20,
     "metadata": {},
     "output_type": "execute_result"
    }
   ],
   "source": [
    "to_binary(1000)"
   ]
  },
  {
   "cell_type": "code",
   "execution_count": 13,
   "id": "c16f4d80",
   "metadata": {},
   "outputs": [
    {
     "data": {
      "text/plain": [
       "0"
      ]
     },
     "execution_count": 13,
     "metadata": {},
     "output_type": "execute_result"
    }
   ],
   "source": [
    "1^1"
   ]
  },
  {
   "cell_type": "code",
   "execution_count": 14,
   "id": "b78be91f",
   "metadata": {},
   "outputs": [
    {
     "data": {
      "text/plain": [
       "3"
      ]
     },
     "execution_count": 14,
     "metadata": {},
     "output_type": "execute_result"
    }
   ],
   "source": [
    "2^1"
   ]
  },
  {
   "cell_type": "code",
   "execution_count": 15,
   "id": "3fc8b7ed",
   "metadata": {},
   "outputs": [
    {
     "data": {
      "text/plain": [
       "2"
      ]
     },
     "execution_count": 15,
     "metadata": {},
     "output_type": "execute_result"
    }
   ],
   "source": [
    "3^1"
   ]
  },
  {
   "cell_type": "code",
   "execution_count": 17,
   "id": "44fb0ed5",
   "metadata": {},
   "outputs": [
    {
     "name": "stdout",
     "output_type": "stream",
     "text": [
      "0    1\n",
      "1    0\n",
      "2    3\n",
      "3    2\n",
      "4    5\n",
      "5    4\n",
      "6    7\n",
      "7    6\n",
      "8    9\n",
      "9    8\n",
      "10    11\n",
      "11    10\n",
      "12    13\n",
      "13    12\n",
      "14    15\n",
      "15    14\n",
      "16    17\n",
      "17    16\n",
      "18    19\n",
      "19    18\n",
      "20    21\n"
     ]
    }
   ],
   "source": [
    "for i in range(0,21):\n",
    "    print(i,\"  \" , i^1)\n",
    "    "
   ]
  },
  {
   "cell_type": "code",
   "execution_count": null,
   "id": "e357ba1f",
   "metadata": {},
   "outputs": [],
   "source": []
  },
  {
   "cell_type": "code",
   "execution_count": null,
   "id": "91bcad9e",
   "metadata": {},
   "outputs": [],
   "source": []
  },
  {
   "cell_type": "code",
   "execution_count": 21,
   "id": "e738d389",
   "metadata": {},
   "outputs": [
    {
     "data": {
      "text/plain": [
       "'11000110010'"
      ]
     },
     "execution_count": 21,
     "metadata": {},
     "output_type": "execute_result"
    }
   ],
   "source": [
    "to_binary(1586) # of any random  number , if we\n",
    "                 # want to know th number of digits in\n",
    "                                  # binary log2(n)+1"
   ]
  },
  {
   "cell_type": "code",
   "execution_count": 22,
   "id": "b9ad41f8",
   "metadata": {},
   "outputs": [],
   "source": [
    "import math"
   ]
  },
  {
   "cell_type": "code",
   "execution_count": 24,
   "id": "c8285c29",
   "metadata": {},
   "outputs": [
    {
     "data": {
      "text/plain": [
       "11"
      ]
     },
     "execution_count": 24,
     "metadata": {},
     "output_type": "execute_result"
    }
   ],
   "source": [
    "int(math.log(1586,2)+1)"
   ]
  },
  {
   "cell_type": "code",
   "execution_count": 41,
   "id": "e61ac2fb",
   "metadata": {},
   "outputs": [
    {
     "data": {
      "text/plain": [
       "('1100010', 7)"
      ]
     },
     "execution_count": 41,
     "metadata": {},
     "output_type": "execute_result"
    }
   ],
   "source": [
    "to_binary(98),int(math.log(98,2)+1)"
   ]
  },
  {
   "cell_type": "code",
   "execution_count": 42,
   "id": "64f1b867",
   "metadata": {},
   "outputs": [
    {
     "name": "stdout",
     "output_type": "stream",
     "text": [
      "98\n"
     ]
    },
    {
     "data": {
      "text/plain": [
       "7"
      ]
     },
     "execution_count": 42,
     "metadata": {},
     "output_type": "execute_result"
    }
   ],
   "source": [
    "x = int(input())\n",
    "\n",
    "def num_of_digits_in_binary(x):\n",
    "    return int(math.log(x,2)+1)\n",
    "num_of_digits_in_binary(x)"
   ]
  },
  {
   "cell_type": "code",
   "execution_count": null,
   "id": "98235b10",
   "metadata": {},
   "outputs": [],
   "source": []
  },
  {
   "cell_type": "code",
   "execution_count": null,
   "id": "5743aa61",
   "metadata": {},
   "outputs": [],
   "source": []
  },
  {
   "cell_type": "code",
   "execution_count": null,
   "id": "e6c545f2",
   "metadata": {},
   "outputs": [],
   "source": []
  },
  {
   "cell_type": "code",
   "execution_count": 43,
   "id": "4f6cd0fa",
   "metadata": {},
   "outputs": [],
   "source": [
    "def convert_to_base(x,base):\n",
    "    string = \"\"\n",
    "    \n",
    "    while x > 0:\n",
    "\n",
    "        remainder = x % base\n",
    "\n",
    "        string += str(remainder)\n",
    "        x = x//base\n",
    "    return string[::-1]"
   ]
  },
  {
   "cell_type": "code",
   "execution_count": 56,
   "id": "db3ab473",
   "metadata": {},
   "outputs": [
    {
     "data": {
      "text/plain": [
       "'82'"
      ]
     },
     "execution_count": 56,
     "metadata": {},
     "output_type": "execute_result"
    }
   ],
   "source": [
    "convert_to_base(98,12)"
   ]
  },
  {
   "cell_type": "code",
   "execution_count": null,
   "id": "4dfe6a38",
   "metadata": {},
   "outputs": [],
   "source": []
  },
  {
   "cell_type": "code",
   "execution_count": null,
   "id": "1c58bcd4",
   "metadata": {},
   "outputs": [],
   "source": []
  },
  {
   "cell_type": "code",
   "execution_count": null,
   "id": "19fa3bd0",
   "metadata": {},
   "outputs": [],
   "source": []
  },
  {
   "cell_type": "code",
   "execution_count": null,
   "id": "8a346858",
   "metadata": {},
   "outputs": [],
   "source": [
    "# checks odd even\n"
   ]
  },
  {
   "cell_type": "code",
   "execution_count": 55,
   "id": "34b5c1a5",
   "metadata": {},
   "outputs": [
    {
     "name": "stdout",
     "output_type": "stream",
     "text": [
      "0    0\n",
      "1    1\n",
      "2    0\n",
      "3    1\n",
      "4    0\n",
      "5    1\n",
      "6    0\n",
      "7    1\n",
      "8    0\n",
      "9    1\n",
      "10    0\n",
      "11    1\n",
      "12    0\n",
      "13    1\n",
      "14    0\n",
      "15    1\n",
      "16    0\n",
      "17    1\n",
      "18    0\n",
      "19    1\n",
      "20    0\n"
     ]
    }
   ],
   "source": [
    "for i in range(0,21):\n",
    "    print(i,\"  \" , i&1)\n",
    "    "
   ]
  },
  {
   "cell_type": "code",
   "execution_count": 5,
   "id": "f9fa9594",
   "metadata": {},
   "outputs": [
    {
     "data": {
      "text/plain": [
       "0"
      ]
     },
     "execution_count": 5,
     "metadata": {},
     "output_type": "execute_result"
    }
   ],
   "source": [
    "10&1"
   ]
  },
  {
   "cell_type": "code",
   "execution_count": 13,
   "id": "387050c8",
   "metadata": {},
   "outputs": [
    {
     "data": {
      "text/plain": [
       "2"
      ]
     },
     "execution_count": 13,
     "metadata": {},
     "output_type": "execute_result"
    }
   ],
   "source": [
    "10&2"
   ]
  },
  {
   "cell_type": "code",
   "execution_count": 4,
   "id": "92dfd3a7",
   "metadata": {},
   "outputs": [
    {
     "data": {
      "text/plain": [
       "2"
      ]
     },
     "execution_count": 4,
     "metadata": {},
     "output_type": "execute_result"
    }
   ],
   "source": [
    "6&2"
   ]
  },
  {
   "cell_type": "code",
   "execution_count": 70,
   "id": "642bcbda",
   "metadata": {},
   "outputs": [
    {
     "name": "stdout",
     "output_type": "stream",
     "text": [
      "if x is odd : x|1 = x\n",
      "1    1\n",
      "3    3\n",
      "5    5\n",
      "7    7\n",
      "9    9\n",
      "11    11\n",
      "13    13\n",
      "15    15\n",
      "17    17\n",
      "19    19\n",
      "\n",
      "if x is even : x|1 = x+1\n",
      "0    1\n",
      "2    3\n",
      "4    5\n",
      "6    7\n",
      "8    9\n",
      "10    11\n",
      "12    13\n",
      "14    15\n",
      "16    17\n",
      "18    19\n",
      "20    21\n"
     ]
    }
   ],
   "source": [
    "print(\"if x is odd : x|1 = x\")\n",
    "for i in range(1,21,2):\n",
    "    print(i,\"  \" , i|1)\n",
    "print()\n",
    "print(\"if x is even : x|1 = x+1\")\n",
    "for i in range(0,21,2):\n",
    "    print(i,\"  \" , i|1)"
   ]
  },
  {
   "cell_type": "code",
   "execution_count": 60,
   "id": "1a8ff33c",
   "metadata": {},
   "outputs": [
    {
     "data": {
      "text/plain": [
       "15"
      ]
     },
     "execution_count": 60,
     "metadata": {},
     "output_type": "execute_result"
    }
   ],
   "source": [
    "10|5"
   ]
  },
  {
   "cell_type": "code",
   "execution_count": 63,
   "id": "e84d46de",
   "metadata": {},
   "outputs": [
    {
     "data": {
      "text/plain": [
       "15"
      ]
     },
     "execution_count": 63,
     "metadata": {},
     "output_type": "execute_result"
    }
   ],
   "source": [
    "10|7"
   ]
  },
  {
   "cell_type": "code",
   "execution_count": null,
   "id": "0d2de023",
   "metadata": {},
   "outputs": [],
   "source": []
  },
  {
   "cell_type": "code",
   "execution_count": 71,
   "id": "50cec22b",
   "metadata": {},
   "outputs": [
    {
     "data": {
      "text/plain": [
       "8"
      ]
     },
     "execution_count": 71,
     "metadata": {},
     "output_type": "execute_result"
    }
   ],
   "source": [
    "10^2"
   ]
  },
  {
   "cell_type": "code",
   "execution_count": 72,
   "id": "84fccec2",
   "metadata": {},
   "outputs": [
    {
     "data": {
      "text/plain": [
       "9"
      ]
     },
     "execution_count": 72,
     "metadata": {},
     "output_type": "execute_result"
    }
   ],
   "source": [
    "10^3"
   ]
  },
  {
   "cell_type": "code",
   "execution_count": 178,
   "id": "9b0639c0",
   "metadata": {},
   "outputs": [
    {
     "name": "stdout",
     "output_type": "stream",
     "text": [
      "if x is odd : x^1 = x-1\n",
      "1    0\n",
      "3    2\n",
      "5    4\n",
      "7    6\n",
      "9    8\n",
      "11    10\n",
      "13    12\n",
      "15    14\n",
      "17    16\n",
      "19    18\n",
      "\n",
      "if x is even : x^1 = x+1\n",
      "0    1\n",
      "2    3\n",
      "4    5\n",
      "6    7\n",
      "8    9\n",
      "10    11\n",
      "12    13\n",
      "14    15\n",
      "16    17\n",
      "18    19\n",
      "20    21\n",
      "Wall time: 2 ms\n"
     ]
    }
   ],
   "source": [
    "%%time\n",
    "print(\"if x is odd : x^1 = x-1\")\n",
    "for i in range(1,21,2):\n",
    "    print(i,\"  \" , i^1)\n",
    "print()\n",
    "print(\"if x is even : x^1 = x+1\")\n",
    "for i in range(0,21,2):\n",
    "    print(i,\"  \" , i^1)"
   ]
  },
  {
   "cell_type": "code",
   "execution_count": null,
   "id": "e5adbaaa",
   "metadata": {},
   "outputs": [],
   "source": []
  },
  {
   "cell_type": "code",
   "execution_count": null,
   "id": "c41428ec",
   "metadata": {},
   "outputs": [],
   "source": []
  },
  {
   "cell_type": "code",
   "execution_count": null,
   "id": "c08e7a03",
   "metadata": {},
   "outputs": [],
   "source": []
  },
  {
   "cell_type": "code",
   "execution_count": null,
   "id": "f85a59d3",
   "metadata": {},
   "outputs": [],
   "source": []
  },
  {
   "cell_type": "code",
   "execution_count": null,
   "id": "c6842951",
   "metadata": {},
   "outputs": [],
   "source": []
  },
  {
   "cell_type": "code",
   "execution_count": 85,
   "id": "c2bfc933",
   "metadata": {},
   "outputs": [
    {
     "data": {
      "text/plain": [
       "0"
      ]
     },
     "execution_count": 85,
     "metadata": {},
     "output_type": "execute_result"
    }
   ],
   "source": [
    "2&1"
   ]
  },
  {
   "cell_type": "code",
   "execution_count": 87,
   "id": "37fb03dc",
   "metadata": {},
   "outputs": [
    {
     "data": {
      "text/plain": [
       "3"
      ]
     },
     "execution_count": 87,
     "metadata": {},
     "output_type": "execute_result"
    }
   ],
   "source": [
    "2|1"
   ]
  },
  {
   "cell_type": "code",
   "execution_count": 88,
   "id": "ec2e51b5",
   "metadata": {},
   "outputs": [
    {
     "data": {
      "text/plain": [
       "3"
      ]
     },
     "execution_count": 88,
     "metadata": {},
     "output_type": "execute_result"
    }
   ],
   "source": []
  },
  {
   "cell_type": "code",
   "execution_count": 81,
   "id": "394a5948",
   "metadata": {},
   "outputs": [],
   "source": [
    "# when we XOR with 1 , in binary , we are toggling a bit"
   ]
  },
  {
   "cell_type": "code",
   "execution_count": 89,
   "id": "ede91e06",
   "metadata": {},
   "outputs": [
    {
     "data": {
      "text/plain": [
       "1"
      ]
     },
     "execution_count": 89,
     "metadata": {},
     "output_type": "execute_result"
    }
   ],
   "source": [
    "0^1"
   ]
  },
  {
   "cell_type": "code",
   "execution_count": 90,
   "id": "d8c1bce7",
   "metadata": {},
   "outputs": [
    {
     "data": {
      "text/plain": [
       "1"
      ]
     },
     "execution_count": 90,
     "metadata": {},
     "output_type": "execute_result"
    }
   ],
   "source": [
    "1^0"
   ]
  },
  {
   "cell_type": "code",
   "execution_count": 200,
   "id": "ab84fca3",
   "metadata": {},
   "outputs": [
    {
     "data": {
      "text/plain": [
       "63"
      ]
     },
     "execution_count": 200,
     "metadata": {},
     "output_type": "execute_result"
    }
   ],
   "source": [
    "b2d(111111)"
   ]
  },
  {
   "cell_type": "code",
   "execution_count": 201,
   "id": "81b20092",
   "metadata": {},
   "outputs": [
    {
     "name": "stdout",
     "output_type": "stream",
     "text": [
      "20 10100 & 111111 10100\n",
      "21 10101 & 111111 10101\n",
      "22 10110 & 111111 10110\n",
      "23 10111 & 111111 10111\n",
      "24 11000 & 111111 11000\n",
      "25 11001 & 111111 11001\n",
      "26 11010 & 111111 11010\n",
      "27 11011 & 111111 11011\n",
      "28 11100 & 111111 11100\n",
      "29 11101 & 111111 11101\n",
      "30 11110 & 111111 11110\n",
      "31 11111 & 111111 11111\n",
      "32 100000 & 111111 100000\n",
      "33 100001 & 111111 100001\n",
      "34 100010 & 111111 100010\n",
      "35 100011 & 111111 100011\n",
      "36 100100 & 111111 100100\n",
      "37 100101 & 111111 100101\n",
      "38 100110 & 111111 100110\n",
      "39 100111 & 111111 100111\n",
      "40 101000 & 111111 101000\n",
      "41 101001 & 111111 101001\n",
      "42 101010 & 111111 101010\n",
      "43 101011 & 111111 101011\n",
      "44 101100 & 111111 101100\n",
      "45 101101 & 111111 101101\n",
      "46 101110 & 111111 101110\n",
      "47 101111 & 111111 101111\n",
      "48 110000 & 111111 110000\n",
      "49 110001 & 111111 110001\n",
      "50 110010 & 111111 110010\n"
     ]
    }
   ],
   "source": [
    "for  i in range(20,51):\n",
    "    print(i,d2b(i),\"&\",111111,d2b(i&63))"
   ]
  },
  {
   "cell_type": "code",
   "execution_count": 185,
   "id": "44747896",
   "metadata": {},
   "outputs": [
    {
     "data": {
      "text/plain": [
       "87"
      ]
     },
     "execution_count": 185,
     "metadata": {},
     "output_type": "execute_result"
    }
   ],
   "source": [
    "b2d(1010111)"
   ]
  },
  {
   "cell_type": "code",
   "execution_count": 186,
   "id": "043f000d",
   "metadata": {},
   "outputs": [
    {
     "data": {
      "text/plain": [
       "4"
      ]
     },
     "execution_count": 186,
     "metadata": {},
     "output_type": "execute_result"
    }
   ],
   "source": [
    "b2d(100)"
   ]
  },
  {
   "cell_type": "code",
   "execution_count": 187,
   "id": "318f2dba",
   "metadata": {},
   "outputs": [
    {
     "data": {
      "text/plain": [
       "4"
      ]
     },
     "execution_count": 187,
     "metadata": {},
     "output_type": "execute_result"
    }
   ],
   "source": [
    "87&4"
   ]
  },
  {
   "cell_type": "code",
   "execution_count": 202,
   "id": "c6b6079e",
   "metadata": {},
   "outputs": [
    {
     "data": {
      "text/plain": [
       "1"
      ]
     },
     "execution_count": 202,
     "metadata": {},
     "output_type": "execute_result"
    }
   ],
   "source": [
    "13&1"
   ]
  },
  {
   "cell_type": "code",
   "execution_count": 205,
   "id": "77a45fc9",
   "metadata": {},
   "outputs": [
    {
     "data": {
      "text/plain": [
       "'101100'"
      ]
     },
     "execution_count": 205,
     "metadata": {},
     "output_type": "execute_result"
    }
   ],
   "source": [
    "d2b(44)"
   ]
  },
  {
   "cell_type": "code",
   "execution_count": null,
   "id": "4b814de2",
   "metadata": {},
   "outputs": [],
   "source": [
    "1101\n",
    "0001\n",
    "0001"
   ]
  },
  {
   "cell_type": "code",
   "execution_count": null,
   "id": "2078046c",
   "metadata": {},
   "outputs": [],
   "source": [
    "1101\n",
    "0100\n",
    "0100"
   ]
  },
  {
   "cell_type": "code",
   "execution_count": 207,
   "id": "485e51f9",
   "metadata": {},
   "outputs": [
    {
     "data": {
      "text/plain": [
       "0"
      ]
     },
     "execution_count": 207,
     "metadata": {},
     "output_type": "execute_result"
    }
   ],
   "source": [
    "44&2 "
   ]
  },
  {
   "cell_type": "code",
   "execution_count": 208,
   "id": "71edccd9",
   "metadata": {},
   "outputs": [
    {
     "data": {
      "text/plain": [
       "2"
      ]
     },
     "execution_count": 208,
     "metadata": {},
     "output_type": "execute_result"
    }
   ],
   "source": [
    "1<<1"
   ]
  },
  {
   "cell_type": "code",
   "execution_count": 211,
   "id": "155ac0c7",
   "metadata": {},
   "outputs": [
    {
     "data": {
      "text/plain": [
       "4"
      ]
     },
     "execution_count": 211,
     "metadata": {},
     "output_type": "execute_result"
    }
   ],
   "source": [
    "1<<2"
   ]
  },
  {
   "cell_type": "code",
   "execution_count": 212,
   "id": "7184ac83",
   "metadata": {},
   "outputs": [
    {
     "data": {
      "text/plain": [
       "8"
      ]
     },
     "execution_count": 212,
     "metadata": {},
     "output_type": "execute_result"
    }
   ],
   "source": [
    "1<<3"
   ]
  },
  {
   "cell_type": "code",
   "execution_count": 213,
   "id": "3b09f5b0",
   "metadata": {},
   "outputs": [
    {
     "data": {
      "text/plain": [
       "16"
      ]
     },
     "execution_count": 213,
     "metadata": {},
     "output_type": "execute_result"
    }
   ],
   "source": [
    "1<<4"
   ]
  },
  {
   "cell_type": "code",
   "execution_count": 217,
   "id": "fd26015a",
   "metadata": {},
   "outputs": [
    {
     "name": "stdout",
     "output_type": "stream",
     "text": [
      "0 1 1\n",
      "1 2 10\n",
      "2 4 100\n",
      "3 8 1000\n",
      "4 16 10000\n",
      "5 32 100000\n",
      "6 64 1000000\n",
      "7 128 10000000\n",
      "8 256 100000000\n",
      "9 512 1000000000\n",
      "10 1024 10000000000\n"
     ]
    }
   ],
   "source": [
    "for i in range(0,11):\n",
    "    print(i,1<<i,d2b(1<<i))"
   ]
  },
  {
   "cell_type": "code",
   "execution_count": 223,
   "id": "0f408ac4",
   "metadata": {},
   "outputs": [
    {
     "name": "stdout",
     "output_type": "stream",
     "text": [
      "0 <<1   =  0    \n",
      "1 <<1   =  2    10\n",
      "2 <<1   =  4    100\n",
      "3 <<1   =  6    110\n",
      "4 <<1   =  8    1000\n",
      "5 <<1   =  10    1010\n",
      "6 <<1   =  12    1100\n",
      "7 <<1   =  14    1110\n",
      "8 <<1   =  16    10000\n",
      "9 <<1   =  18    10010\n",
      "10 <<1   =  20    10100\n"
     ]
    }
   ],
   "source": [
    "for i in range(0,11):\n",
    "    print(i,\"<<1\",\"  = \",i<<1,\"  \",d2b(i<<1))"
   ]
  },
  {
   "cell_type": "code",
   "execution_count": 224,
   "id": "86c6f6c2",
   "metadata": {},
   "outputs": [
    {
     "data": {
      "text/plain": [
       "12"
      ]
     },
     "execution_count": 224,
     "metadata": {},
     "output_type": "execute_result"
    }
   ],
   "source": [
    "3<<2 # = 3*(2**2)"
   ]
  },
  {
   "cell_type": "code",
   "execution_count": 225,
   "id": "cbe6a083",
   "metadata": {},
   "outputs": [
    {
     "data": {
      "text/plain": [
       "24"
      ]
     },
     "execution_count": 225,
     "metadata": {},
     "output_type": "execute_result"
    }
   ],
   "source": [
    "3<<3"
   ]
  },
  {
   "cell_type": "code",
   "execution_count": 226,
   "id": "6e981304",
   "metadata": {},
   "outputs": [],
   "source": [
    "#  a << x : means = a*(2**X)"
   ]
  },
  {
   "cell_type": "code",
   "execution_count": 230,
   "id": "f06d1851",
   "metadata": {},
   "outputs": [
    {
     "data": {
      "text/plain": [
       "4"
      ]
     },
     "execution_count": 230,
     "metadata": {},
     "output_type": "execute_result"
    }
   ],
   "source": [
    "44&4\n"
   ]
  },
  {
   "cell_type": "code",
   "execution_count": 228,
   "id": "6620a36d",
   "metadata": {},
   "outputs": [
    {
     "data": {
      "text/plain": [
       "0"
      ]
     },
     "execution_count": 228,
     "metadata": {},
     "output_type": "execute_result"
    }
   ],
   "source": [
    "44&(1<<1)"
   ]
  },
  {
   "cell_type": "code",
   "execution_count": 232,
   "id": "735d43b6",
   "metadata": {},
   "outputs": [
    {
     "data": {
      "text/plain": [
       "4"
      ]
     },
     "execution_count": 232,
     "metadata": {},
     "output_type": "execute_result"
    }
   ],
   "source": [
    "44&(1<<2)"
   ]
  },
  {
   "cell_type": "code",
   "execution_count": 234,
   "id": "0651289e",
   "metadata": {},
   "outputs": [
    {
     "data": {
      "text/plain": [
       "0"
      ]
     },
     "execution_count": 234,
     "metadata": {},
     "output_type": "execute_result"
    }
   ],
   "source": [
    "3&8"
   ]
  },
  {
   "cell_type": "code",
   "execution_count": 235,
   "id": "e948aa86",
   "metadata": {},
   "outputs": [],
   "source": [
    "def checkif_ith_on_off(x,i):\n",
    "    print(d2b(x))\n",
    "    if x & (1<< (i-1)) == 0:\n",
    "        return \"OFF\"\n",
    "    return \"ON\""
   ]
  },
  {
   "cell_type": "code",
   "execution_count": 236,
   "id": "67513245",
   "metadata": {},
   "outputs": [
    {
     "name": "stdout",
     "output_type": "stream",
     "text": [
      "1101\n"
     ]
    },
    {
     "data": {
      "text/plain": [
       "'ON'"
      ]
     },
     "execution_count": 236,
     "metadata": {},
     "output_type": "execute_result"
    }
   ],
   "source": [
    "checkif_ith_on_off(13,4)"
   ]
  },
  {
   "cell_type": "code",
   "execution_count": 250,
   "id": "1139e6b0",
   "metadata": {},
   "outputs": [
    {
     "name": "stdout",
     "output_type": "stream",
     "text": [
      "101100\n"
     ]
    },
    {
     "data": {
      "text/plain": [
       "'OFF'"
      ]
     },
     "execution_count": 250,
     "metadata": {},
     "output_type": "execute_result"
    }
   ],
   "source": [
    "checkif_ith_on_off(44,2)"
   ]
  },
  {
   "cell_type": "code",
   "execution_count": 249,
   "id": "1c41e2cc",
   "metadata": {},
   "outputs": [
    {
     "data": {
      "text/plain": [
       "2"
      ]
     },
     "execution_count": 249,
     "metadata": {},
     "output_type": "execute_result"
    }
   ],
   "source": [
    "44>>4"
   ]
  },
  {
   "cell_type": "code",
   "execution_count": 257,
   "id": "0a963084",
   "metadata": {},
   "outputs": [
    {
     "data": {
      "text/plain": [
       "'11101'"
      ]
     },
     "execution_count": 257,
     "metadata": {},
     "output_type": "execute_result"
    }
   ],
   "source": [
    "d2b(29)"
   ]
  },
  {
   "cell_type": "code",
   "execution_count": 258,
   "id": "206f12b0",
   "metadata": {},
   "outputs": [
    {
     "data": {
      "text/plain": [
       "7"
      ]
     },
     "execution_count": 258,
     "metadata": {},
     "output_type": "execute_result"
    }
   ],
   "source": [
    "b2d(111)"
   ]
  },
  {
   "cell_type": "code",
   "execution_count": null,
   "id": "41afe473",
   "metadata": {},
   "outputs": [],
   "source": [
    "# count the set bits "
   ]
  },
  {
   "cell_type": "code",
   "execution_count": 280,
   "id": "779e9dcf",
   "metadata": {},
   "outputs": [],
   "source": [
    "def CountSetBitsfor(x):\n",
    "    print(d2b(x))\n",
    "\n",
    "    cnt = 0\n",
    "    k = 0\n",
    "    for _ in range(int(math.log(x,2)+1)):\n",
    "        if x & (1<<k) != 0 :\n",
    "            cnt += 1\n",
    "        k = k+1\n",
    "        \n",
    "    return cnt"
   ]
  },
  {
   "cell_type": "code",
   "execution_count": 282,
   "id": "c706bdcf",
   "metadata": {},
   "outputs": [
    {
     "name": "stdout",
     "output_type": "stream",
     "text": [
      "1100011\n"
     ]
    },
    {
     "data": {
      "text/plain": [
       "4"
      ]
     },
     "execution_count": 282,
     "metadata": {},
     "output_type": "execute_result"
    }
   ],
   "source": [
    "CountSetBitsfor(99)"
   ]
  },
  {
   "cell_type": "code",
   "execution_count": 259,
   "id": "5d0f6ea6",
   "metadata": {},
   "outputs": [],
   "source": [
    "# count the set bits "
   ]
  },
  {
   "cell_type": "code",
   "execution_count": 265,
   "id": "4b7710ae",
   "metadata": {},
   "outputs": [],
   "source": [
    "def count_set_bits(x):\n",
    "    print(d2b(x))\n",
    "    cnt = 0\n",
    "    k = 0\n",
    "    while True:\n",
    "        if x & (1<<k) != 0:\n",
    "            cnt += 1\n",
    "        k = k+1\n",
    "        if x < 1<<k:\n",
    "            break\n",
    "    return cnt"
   ]
  },
  {
   "cell_type": "code",
   "execution_count": 271,
   "id": "9a89039a",
   "metadata": {},
   "outputs": [
    {
     "name": "stdout",
     "output_type": "stream",
     "text": [
      "10000\n"
     ]
    },
    {
     "data": {
      "text/plain": [
       "1"
      ]
     },
     "execution_count": 271,
     "metadata": {},
     "output_type": "execute_result"
    }
   ],
   "source": [
    "count_set_bits(16)"
   ]
  },
  {
   "cell_type": "code",
   "execution_count": 285,
   "id": "dc201f8d",
   "metadata": {},
   "outputs": [],
   "source": [
    "# count set bits using right shift operator \n",
    "\n",
    "def count_set_bits_right_shift(x):\n",
    "    print(d2b(x))\n",
    "    cnt = 0\n",
    "    while x > 0:\n",
    "        cnt += x&1\n",
    "        x = x>>1\n",
    "    return cnt"
   ]
  },
  {
   "cell_type": "code",
   "execution_count": 286,
   "id": "bea66ce7",
   "metadata": {},
   "outputs": [
    {
     "name": "stdout",
     "output_type": "stream",
     "text": [
      "10000\n"
     ]
    },
    {
     "data": {
      "text/plain": [
       "1"
      ]
     },
     "execution_count": 286,
     "metadata": {},
     "output_type": "execute_result"
    }
   ],
   "source": [
    "count_set_bits_right_shift(16)"
   ]
  },
  {
   "cell_type": "code",
   "execution_count": 290,
   "id": "3f0fe301",
   "metadata": {},
   "outputs": [
    {
     "data": {
      "text/plain": [
       "'-0b101000'"
      ]
     },
     "execution_count": 290,
     "metadata": {},
     "output_type": "execute_result"
    }
   ],
   "source": [
    "bin(-40)"
   ]
  },
  {
   "cell_type": "code",
   "execution_count": 291,
   "id": "5130f901",
   "metadata": {},
   "outputs": [
    {
     "data": {
      "text/plain": [
       "'0b101000'"
      ]
     },
     "execution_count": 291,
     "metadata": {},
     "output_type": "execute_result"
    }
   ],
   "source": [
    "bin(40)"
   ]
  },
  {
   "cell_type": "code",
   "execution_count": 293,
   "id": "d3559012",
   "metadata": {},
   "outputs": [
    {
     "data": {
      "text/plain": [
       "-2"
      ]
     },
     "execution_count": 293,
     "metadata": {},
     "output_type": "execute_result"
    }
   ],
   "source": [
    "~1"
   ]
  },
  {
   "cell_type": "code",
   "execution_count": 294,
   "id": "b22982a0",
   "metadata": {},
   "outputs": [
    {
     "data": {
      "text/plain": [
       "-128"
      ]
     },
     "execution_count": 294,
     "metadata": {},
     "output_type": "execute_result"
    }
   ],
   "source": [
    "~127"
   ]
  },
  {
   "cell_type": "code",
   "execution_count": 295,
   "id": "9658cc8c",
   "metadata": {},
   "outputs": [
    {
     "data": {
      "text/plain": [
       "-6"
      ]
     },
     "execution_count": 295,
     "metadata": {},
     "output_type": "execute_result"
    }
   ],
   "source": [
    "~5"
   ]
  },
  {
   "cell_type": "code",
   "execution_count": 296,
   "id": "faf91fc4",
   "metadata": {},
   "outputs": [
    {
     "data": {
      "text/plain": [
       "-129"
      ]
     },
     "execution_count": 296,
     "metadata": {},
     "output_type": "execute_result"
    }
   ],
   "source": [
    "~128"
   ]
  },
  {
   "cell_type": "code",
   "execution_count": 297,
   "id": "3193ee6f",
   "metadata": {},
   "outputs": [
    {
     "data": {
      "text/plain": [
       "127"
      ]
     },
     "execution_count": 297,
     "metadata": {},
     "output_type": "execute_result"
    }
   ],
   "source": [
    "~(-128)"
   ]
  },
  {
   "cell_type": "code",
   "execution_count": null,
   "id": "a7407a3a",
   "metadata": {},
   "outputs": [],
   "source": []
  },
  {
   "cell_type": "code",
   "execution_count": null,
   "id": "8078c8c2",
   "metadata": {},
   "outputs": [],
   "source": []
  },
  {
   "cell_type": "code",
   "execution_count": null,
   "id": "03c76971",
   "metadata": {},
   "outputs": [],
   "source": []
  },
  {
   "cell_type": "code",
   "execution_count": null,
   "id": "e5547340",
   "metadata": {},
   "outputs": [],
   "source": []
  },
  {
   "cell_type": "code",
   "execution_count": null,
   "id": "7e4a9ef6",
   "metadata": {},
   "outputs": [],
   "source": []
  },
  {
   "cell_type": "code",
   "execution_count": 20,
   "id": "9b69e739",
   "metadata": {},
   "outputs": [],
   "source": [
    "'''Problem Description\n",
    "Alex and Sam are good friends.\n",
    "Alex is doing a lot of programming these days.\n",
    "He has set a target score of A for himself.\n",
    "Initially, Alex's score was zero. \n",
    "Alex can double his score by doing a question,\n",
    "or Alex can seek help from Sam for doing questions that will contribute 1 to Alex's score.\n",
    "Alex wants his score to be precisely A. Also, he does not want to take much help from Sam.\n",
    "\n",
    "Find and return the minimum number of times Alex needs to take help from Sam to achieve a score of A.\n",
    "'''\n",
    "\n",
    "\n",
    "def solve(A):\n",
    "    count = 0\n",
    "    while (A > 0):\n",
    "        print(count,A)\n",
    "        count += A & 1\n",
    "        \n",
    "        A >>= 1\n",
    "        \n",
    "    return count\n",
    "\n"
   ]
  },
  {
   "cell_type": "code",
   "execution_count": 21,
   "id": "049ffc44",
   "metadata": {},
   "outputs": [
    {
     "name": "stdout",
     "output_type": "stream",
     "text": [
      "0 20\n",
      "0 10\n",
      "0 5\n",
      "1 2\n",
      "1 1\n"
     ]
    },
    {
     "data": {
      "text/plain": [
       "2"
      ]
     },
     "execution_count": 21,
     "metadata": {},
     "output_type": "execute_result"
    }
   ],
   "source": [
    "solve(20)"
   ]
  },
  {
   "cell_type": "code",
   "execution_count": 24,
   "id": "f319af05",
   "metadata": {},
   "outputs": [
    {
     "name": "stdout",
     "output_type": "stream",
     "text": [
      "0 123\n",
      "1 61\n",
      "2 30\n",
      "2 15\n",
      "3 7\n",
      "4 3\n",
      "5 1\n"
     ]
    },
    {
     "data": {
      "text/plain": [
       "6"
      ]
     },
     "execution_count": 24,
     "metadata": {},
     "output_type": "execute_result"
    }
   ],
   "source": [
    "'''Alex has a cat named Boomer. He decides to put his cat to the test for eternity.\n",
    "\n",
    "He starts on day 1 with a stash of food unit, every next day, the stash doubles.\n",
    "\n",
    "If Boomer is well behaved during a particular day,\n",
    "she receives food worth equal to the stash on that day.\n",
    "\n",
    "Boomer receives a net worth of A units of food. What is the number of days he was well behaved?'''\n",
    "\n",
    "def solve(A):\n",
    "    count = 0\n",
    "    while (A > 0):\n",
    "        print(count,A)\n",
    "        count += A & 1\n",
    "        \n",
    "        A >>= 1\n",
    "        \n",
    "    return count\n",
    "\n",
    "\n",
    "solve(123)\n"
   ]
  },
  {
   "cell_type": "code",
   "execution_count": 26,
   "id": "3fae7f8a",
   "metadata": {},
   "outputs": [
    {
     "data": {
      "text/plain": [
       "30"
      ]
     },
     "execution_count": 26,
     "metadata": {},
     "output_type": "execute_result"
    }
   ],
   "source": [
    "(123//2)//2\n"
   ]
  },
  {
   "cell_type": "code",
   "execution_count": 39,
   "id": "135be146",
   "metadata": {},
   "outputs": [],
   "source": [
    "# all bt 2 elements appears twice\n",
    "# find those basterds\n",
    "\n",
    "A = [1,1,2,3,3,4,4,5,6,6,7,7,8,8,9,9]\n",
    "\n"
   ]
  },
  {
   "cell_type": "code",
   "execution_count": 41,
   "id": "b119191b",
   "metadata": {},
   "outputs": [
    {
     "name": "stdout",
     "output_type": "stream",
     "text": [
      "0b1 0 1\n",
      "0b10 2 2\n",
      "0b11 1 3\n",
      "0b11 2 3\n",
      "0b100 6 4\n",
      "0b100 2 4\n",
      "0b101 7 5\n",
      "0b110 1 6\n",
      "0b110 7 6\n",
      "0b111 0 7\n",
      "0b111 7 7\n",
      "0b1000 15 8\n",
      "0b1000 7 8\n",
      "0b1001 14 9\n",
      "0b1001 7 9\n",
      "\n",
      "7\n"
     ]
    }
   ],
   "source": [
    "xor  = A[0]\n",
    "\n",
    "for i in range(1,len(A)):\n",
    "    \n",
    "    xor =  xor ^ A[i] \n",
    "\n",
    "\n",
    "    print(bin(A[i]) , xor,A[i])\n",
    "print()\n",
    "print(xor)"
   ]
  },
  {
   "cell_type": "code",
   "execution_count": null,
   "id": "1b7a4219",
   "metadata": {},
   "outputs": [],
   "source": []
  }
 ],
 "metadata": {
  "kernelspec": {
   "display_name": "Python 3 (ipykernel)",
   "language": "python",
   "name": "python3"
  },
  "language_info": {
   "codemirror_mode": {
    "name": "ipython",
    "version": 3
   },
   "file_extension": ".py",
   "mimetype": "text/x-python",
   "name": "python",
   "nbconvert_exporter": "python",
   "pygments_lexer": "ipython3",
   "version": "3.9.7"
  }
 },
 "nbformat": 4,
 "nbformat_minor": 5
}
