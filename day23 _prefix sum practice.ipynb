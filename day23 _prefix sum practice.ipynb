{
 "cells": [
  {
   "cell_type": "code",
   "execution_count": 1,
   "id": "da8cdad2",
   "metadata": {},
   "outputs": [
    {
     "name": "stdout",
     "output_type": "stream",
     "text": [
      "[1, 3, 6, 10, 15]\n"
     ]
    }
   ],
   "source": [
    "# prefix sum array\n",
    "A = [1,2,3,4,5]\n",
    "#    0 1 2 3 4  = 5\n",
    "p = [A[0]]\n",
    "\n",
    "\n",
    "for i in range(1,len(A)-1+1):\n",
    "    p.append(A[i]+p[i-1])\n",
    "print(p)\n",
    "    "
   ]
  },
  {
   "cell_type": "code",
   "execution_count": 56,
   "id": "e2269085",
   "metadata": {},
   "outputs": [
    {
     "name": "stdout",
     "output_type": "stream",
     "text": [
      "[1]\n",
      "[1, 3]\n",
      "[1, 3, 6]\n",
      "[1, 3, 6, 10]\n",
      "[1, 3, 6, 10, 15]\n"
     ]
    }
   ],
   "source": [
    "# prefix sum array\n",
    "A = [1,2,3,4,5]\n",
    "#    0 1 2 3 4  = 5\n",
    "p = [A[0]]\n",
    "\n",
    "\n",
    "for i in range(1,len(A)-1+1):\n",
    "    print(p)\n",
    "    p.append(A[i]+p[-1])\n",
    "    \n",
    "print(p)\n",
    "    "
   ]
  },
  {
   "cell_type": "code",
   "execution_count": null,
   "id": "cd3d7c66",
   "metadata": {},
   "outputs": [],
   "source": []
  },
  {
   "cell_type": "code",
   "execution_count": 14,
   "id": "4e7c3e74",
   "metadata": {},
   "outputs": [],
   "source": [
    "# p[i] = p[i-1]+A[i]\n",
    "# i = 1\n",
    "# 1 =    p[0] + A[0]\n",
    "#         1   +  0 \n",
    "\n",
    "\n",
    "\n",
    "#   0  1  2  3  4  5  6  7  8  9\n",
    "#            i        j\n",
    "\n",
    "# A[i]+A[i+1]+......+A[j] = p[j]-p[i-1]\n"
   ]
  },
  {
   "cell_type": "markdown",
   "id": "74630cdc",
   "metadata": {},
   "source": [
    "You are given an integer array A of length N.\n",
    "You are also given a 2D integer array B with dimensions M x 2, where each row denotes a [L, R] query.\n",
    "For each query, you have to find the sum of all elements from L to R indices in A (1 - indexed).\n",
    "More formally, find A[L] + A[L + 1] + A[L + 2] +... + A[R - 1] + A[R] for each query.\n",
    "\n",
    "# range sum query"
   ]
  },
  {
   "cell_type": "code",
   "execution_count": 14,
   "id": "10649f42",
   "metadata": {},
   "outputs": [
    {
     "name": "stdout",
     "output_type": "stream",
     "text": [
      "1\n",
      "0\n",
      "4\n",
      "15\n"
     ]
    }
   ],
   "source": [
    "A = [1,2,3,4,5]\n",
    "\n",
    "p = [A[0]]\n",
    "for i in range(1,len(A)-1+1):\n",
    "    p.append(A[i]+p[i-1])\n",
    "    \n",
    "\n",
    "\n",
    "Q = int(input())\n",
    "\n",
    "for i in range(Q):\n",
    "    start = int(input())\n",
    "    end = int(input())\n",
    "    if start == 0:\n",
    "        sum = p[end]\n",
    "    else:\n",
    "        sum = p[end]-p[start-1]\n",
    "    print(sum)\n",
    "        "
   ]
  },
  {
   "cell_type": "code",
   "execution_count": 19,
   "id": "ad71915d",
   "metadata": {},
   "outputs": [
    {
     "name": "stdout",
     "output_type": "stream",
     "text": [
      "[10, 5]\n"
     ]
    }
   ],
   "source": [
    "## indexing starts from 1\n",
    "\n",
    "A = [1,2,3,4,5]\n",
    "\n",
    "p = [A[0]]\n",
    "for i in range(1,len(A)-1+1):\n",
    "    p.append(A[i]+p[i-1])\n",
    "    \n",
    "\n",
    "\n",
    "B = [[1,4],[2,3]]\n",
    "ans = []\n",
    "\n",
    "for (start,end) in B:\n",
    "\n",
    "    if start == 1:\n",
    "        sum = p[end-1]\n",
    "       \n",
    "    else:\n",
    "        sum = p[end-1]-p[start-2]\n",
    "    ans.append(sum)\n",
    "print(ans)   \n",
    "    \n",
    "    "
   ]
  },
  {
   "cell_type": "code",
   "execution_count": 37,
   "id": "7f6b9cca",
   "metadata": {},
   "outputs": [
    {
     "name": "stdout",
     "output_type": "stream",
     "text": [
      "[10, 5]\n"
     ]
    }
   ],
   "source": [
    "A = [1,2,3,4,5]\n",
    "p = [A[0]]\n",
    "for i in range(1,len(A)-1+1):\n",
    "    p.append(A[i]+p[i-1])\n",
    "B = [[1,4],[2,3]]\n",
    "ans = []\n",
    "for (start,end) in B:\n",
    "    if start == 1:\n",
    "        sum = p[end-1]\n",
    "    else:\n",
    "        sum = p[end-1]-p[start-2]\n",
    "    ans.append(sum)\n",
    "print(ans)   \n",
    "    \n",
    "    "
   ]
  },
  {
   "cell_type": "code",
   "execution_count": null,
   "id": "40088d90",
   "metadata": {},
   "outputs": [],
   "source": []
  },
  {
   "cell_type": "code",
   "execution_count": null,
   "id": "419fde36",
   "metadata": {},
   "outputs": [],
   "source": []
  },
  {
   "cell_type": "code",
   "execution_count": null,
   "id": "cbba0e11",
   "metadata": {},
   "outputs": [],
   "source": []
  },
  {
   "cell_type": "code",
   "execution_count": null,
   "id": "e6f02fa4",
   "metadata": {},
   "outputs": [],
   "source": []
  },
  {
   "cell_type": "markdown",
   "id": "871f99b9",
   "metadata": {},
   "source": [
    "# Q1. Equilibrium index of an array\n",
    "\n",
    "You are given an array A of integers of size N.\n",
    "\n",
    "Your task is to find the equilibrium index of the given array\n",
    "\n",
    "Equilibrium index of an array is an index such that the sum of elements at lower indexes is equal to the sum of elements at higher indexes.\n",
    "\n",
    "NOTE:\n",
    "\n",
    "Array indexing starts from 0.\n",
    "If there is no equilibrium index then return -1.\n",
    "If there are more than one equilibrium indexes then return the minimum index."
   ]
  },
  {
   "cell_type": "code",
   "execution_count": 72,
   "id": "b83dc637",
   "metadata": {},
   "outputs": [
    {
     "data": {
      "text/plain": [
       "3"
      ]
     },
     "execution_count": 72,
     "metadata": {},
     "output_type": "execute_result"
    }
   ],
   "source": [
    "X = [-7,1,5,2,-4,3,0]\n",
    "def eqlbbruteforce(A):\n",
    "    n = len(A)\n",
    "\n",
    "    for i in range(n):\n",
    "        left = 0\n",
    "        for j in range(i):\n",
    "            left = left + A[j]\n",
    "        right = 0\n",
    "        for j in range(i+1,n):\n",
    "            right = right + A[j]\n",
    "        if left == right : \n",
    "            return i\n",
    "    return -1\n",
    "eqlbbruteforce(X)    \n",
    "        \n",
    "    # O(N**2)"
   ]
  },
  {
   "cell_type": "code",
   "execution_count": 73,
   "id": "41598f10",
   "metadata": {},
   "outputs": [
    {
     "data": {
      "text/plain": [
       "3"
      ]
     },
     "execution_count": 73,
     "metadata": {},
     "output_type": "execute_result"
    }
   ],
   "source": [
    "A = [-7,1,5,2,-4,3,0]\n",
    "\n",
    "\n",
    "\n",
    "def equarprefix(A):\n",
    "    n = len(A)\n",
    "    p = [A[0]]\n",
    "    for x in A[1:]:\n",
    "        p.append(x+p[-1])\n",
    "\n",
    "\n",
    "    for i in range(n):\n",
    "        leftsum = p[i-1]           #a[0]+...+a[i-1]\n",
    "        rightsum = p[n-1]-p[i]     #a[i+1]+....+a[n-1]\n",
    "\n",
    "        if leftsum==rightsum:\n",
    "            return i\n",
    "    return -1\n",
    "equarprefix(A)\n",
    "\n",
    "# TC O(N**2)\n",
    "# SP O(N)"
   ]
  },
  {
   "cell_type": "code",
   "execution_count": null,
   "id": "1ac8e36d",
   "metadata": {},
   "outputs": [],
   "source": []
  },
  {
   "cell_type": "code",
   "execution_count": 74,
   "id": "3ea02de6",
   "metadata": {},
   "outputs": [
    {
     "data": {
      "text/plain": [
       "3"
      ]
     },
     "execution_count": 74,
     "metadata": {},
     "output_type": "execute_result"
    }
   ],
   "source": [
    "\n",
    "def equaroptimized(A):\n",
    "    n = len(A)\n",
    "        \n",
    "    total= 0\n",
    "    for i in A:\n",
    "        total = total + i\n",
    "        \n",
    "    left = 0\n",
    "    for i in range(n):\n",
    "        right = total - left - A[i]\n",
    "        \n",
    "        if left==right:\n",
    "            return i\n",
    "        \n",
    "        left = left + A[i]\n",
    "    return -1\n",
    "\n",
    "equaroptimized(A)"
   ]
  },
  {
   "cell_type": "code",
   "execution_count": null,
   "id": "79e2d25f",
   "metadata": {},
   "outputs": [],
   "source": []
  },
  {
   "cell_type": "code",
   "execution_count": null,
   "id": "ea5a56be",
   "metadata": {},
   "outputs": [],
   "source": []
  },
  {
   "cell_type": "code",
   "execution_count": null,
   "id": "c4f9b065",
   "metadata": {},
   "outputs": [],
   "source": []
  },
  {
   "cell_type": "code",
   "execution_count": null,
   "id": "03bd6e6a",
   "metadata": {},
   "outputs": [],
   "source": []
  },
  {
   "cell_type": "code",
   "execution_count": null,
   "id": "66aadfe9",
   "metadata": {},
   "outputs": [],
   "source": []
  },
  {
   "cell_type": "code",
   "execution_count": null,
   "id": "335f5f9d",
   "metadata": {},
   "outputs": [],
   "source": []
  },
  {
   "cell_type": "code",
   "execution_count": null,
   "id": "31a199e1",
   "metadata": {},
   "outputs": [],
   "source": []
  },
  {
   "cell_type": "code",
   "execution_count": 75,
   "id": "4bac1a96",
   "metadata": {},
   "outputs": [
    {
     "data": {
      "text/plain": [
       "[0, 0, 0, 0, 0]"
      ]
     },
     "execution_count": 75,
     "metadata": {},
     "output_type": "execute_result"
    }
   ],
   "source": [
    "[0]*5"
   ]
  },
  {
   "cell_type": "code",
   "execution_count": 78,
   "id": "796163f2",
   "metadata": {},
   "outputs": [
    {
     "data": {
      "text/plain": [
       "['X', 'X', 'X', 'X', 'X']"
      ]
     },
     "execution_count": 78,
     "metadata": {},
     "output_type": "execute_result"
    }
   ],
   "source": [
    "[\"X\"]*5"
   ]
  },
  {
   "cell_type": "code",
   "execution_count": 79,
   "id": "21e58cd8",
   "metadata": {},
   "outputs": [
    {
     "data": {
      "text/plain": [
       "[5, 5, 5, 5, 5]"
      ]
     },
     "execution_count": 79,
     "metadata": {},
     "output_type": "execute_result"
    }
   ],
   "source": [
    "[5]*5"
   ]
  },
  {
   "cell_type": "code",
   "execution_count": null,
   "id": "cdfdb9ca",
   "metadata": {},
   "outputs": [],
   "source": []
  },
  {
   "cell_type": "markdown",
   "id": "3661fe1f",
   "metadata": {},
   "source": [
    "# Q2. Count ways to make sum of odd and even indexed elements equal by removing an array element\n",
    "\n",
    "## Given an array, arr[] of size N, the task is to find the count of array indices such that removing an element from these indices makes the sum of even-indexed and odd-indexed array elements equal.\n",
    "\n"
   ]
  },
  {
   "cell_type": "code",
   "execution_count": 4,
   "id": "db8c8c2b",
   "metadata": {},
   "outputs": [],
   "source": [
    "def solve(A):\n",
    "    n = len(A)\n",
    "    count = 0\n",
    "    \n",
    "    for x in range(n):\n",
    "        templist = A.copy()\n",
    "        templist.pop(x)\n",
    "        even = 0\n",
    "        odd = 0\n",
    "        for i in range(len(templist)):\n",
    "            if i %2 == 0:\n",
    "                even += templist[i]\n",
    "            else:\n",
    "                odd += templist[i]\n",
    "        if odd == even:\n",
    "            count +=1\n",
    "    return count"
   ]
  },
  {
   "cell_type": "code",
   "execution_count": 11,
   "id": "676dccc7",
   "metadata": {},
   "outputs": [
    {
     "data": {
      "text/plain": [
       "3"
      ]
     },
     "execution_count": 11,
     "metadata": {},
     "output_type": "execute_result"
    }
   ],
   "source": [
    "solve([2,1,1,0,0,1,6,4])"
   ]
  },
  {
   "cell_type": "code",
   "execution_count": 12,
   "id": "81b7ccfc",
   "metadata": {},
   "outputs": [
    {
     "data": {
      "text/plain": [
       "1"
      ]
     },
     "execution_count": 12,
     "metadata": {},
     "output_type": "execute_result"
    }
   ],
   "source": [
    "solve([2,1,6,4])"
   ]
  },
  {
   "cell_type": "code",
   "execution_count": null,
   "id": "123b3339",
   "metadata": {},
   "outputs": [],
   "source": []
  },
  {
   "cell_type": "code",
   "execution_count": null,
   "id": "801baae7",
   "metadata": {},
   "outputs": [],
   "source": []
  },
  {
   "cell_type": "code",
   "execution_count": 19,
   "id": "deceb8b6",
   "metadata": {},
   "outputs": [
    {
     "name": "stdout",
     "output_type": "stream",
     "text": [
      "364\n"
     ]
    }
   ],
   "source": [
    "for i in range(0,400):\n",
    "    if i%7==0:\n",
    "        if i%6==4 and i%9==4 and i%15==4 and i%18==4:\n",
    "            print(i)"
   ]
  },
  {
   "cell_type": "code",
   "execution_count": null,
   "id": "b8f51e40",
   "metadata": {},
   "outputs": [],
   "source": []
  },
  {
   "cell_type": "code",
   "execution_count": null,
   "id": "af50f0c3",
   "metadata": {},
   "outputs": [],
   "source": []
  }
 ],
 "metadata": {
  "kernelspec": {
   "display_name": "Python 3 (ipykernel)",
   "language": "python",
   "name": "python3"
  },
  "language_info": {
   "codemirror_mode": {
    "name": "ipython",
    "version": 3
   },
   "file_extension": ".py",
   "mimetype": "text/x-python",
   "name": "python",
   "nbconvert_exporter": "python",
   "pygments_lexer": "ipython3",
   "version": "3.9.7"
  }
 },
 "nbformat": 4,
 "nbformat_minor": 5
}
