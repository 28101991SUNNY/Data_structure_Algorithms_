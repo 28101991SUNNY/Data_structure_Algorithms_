{
 "cells": [
  {
   "cell_type": "markdown",
   "id": "f0648c99",
   "metadata": {},
   "source": [
    "# 2D Matrices"
   ]
  },
  {
   "cell_type": "markdown",
   "id": "c4e57526",
   "metadata": {},
   "source": [
    "# 2D arrays "
   ]
  },
  {
   "cell_type": "code",
   "execution_count": 1,
   "id": "f9f974f3",
   "metadata": {},
   "outputs": [
    {
     "data": {
      "text/plain": [
       "'\\n#_of_row * #_of_column \\n\\nsize of a metrice = rows * columns\\n\\n\\n \\n\\n\\n'"
      ]
     },
     "execution_count": 1,
     "metadata": {},
     "output_type": "execute_result"
    }
   ],
   "source": [
    "# '''\n",
    "# #_of_row * #_of_column \n",
    "\n",
    "# size of a metrice = rows * columns\n",
    "\n",
    "\n",
    " \n",
    "# metrices as as list of a list\n"
   ]
  },
  {
   "cell_type": "code",
   "execution_count": null,
   "id": "17998bcc",
   "metadata": {},
   "outputs": [],
   "source": []
  },
  {
   "cell_type": "code",
   "execution_count": 53,
   "id": "c91eabb2",
   "metadata": {},
   "outputs": [],
   "source": [
    "M = [[i for i in range(41,52)],[i for i in range(21,32)],\n",
    "     [i for i in range(21,32)],[i for i in range(51,62)],\n",
    "     [i for i in range(20,31)]]"
   ]
  },
  {
   "cell_type": "code",
   "execution_count": 54,
   "id": "71c3882f",
   "metadata": {},
   "outputs": [
    {
     "data": {
      "text/plain": [
       "[[41, 42, 43, 44, 45, 46, 47, 48, 49, 50, 51],\n",
       " [21, 22, 23, 24, 25, 26, 27, 28, 29, 30, 31],\n",
       " [21, 22, 23, 24, 25, 26, 27, 28, 29, 30, 31],\n",
       " [51, 52, 53, 54, 55, 56, 57, 58, 59, 60, 61],\n",
       " [20, 21, 22, 23, 24, 25, 26, 27, 28, 29, 30]]"
      ]
     },
     "execution_count": 54,
     "metadata": {},
     "output_type": "execute_result"
    }
   ],
   "source": [
    "M\n",
    "#(n*m)"
   ]
  },
  {
   "cell_type": "code",
   "execution_count": 62,
   "id": "2be1510d",
   "metadata": {},
   "outputs": [
    {
     "data": {
      "text/plain": [
       "5"
      ]
     },
     "execution_count": 62,
     "metadata": {},
     "output_type": "execute_result"
    }
   ],
   "source": [
    "len(M) # no of rows"
   ]
  },
  {
   "cell_type": "code",
   "execution_count": 64,
   "id": "a70b3cdb",
   "metadata": {},
   "outputs": [
    {
     "data": {
      "text/plain": [
       "11"
      ]
     },
     "execution_count": 64,
     "metadata": {},
     "output_type": "execute_result"
    }
   ],
   "source": [
    "len(M[0]) # no of columns"
   ]
  },
  {
   "cell_type": "code",
   "execution_count": null,
   "id": "a93bea1f",
   "metadata": {},
   "outputs": [],
   "source": [
    "#   0,0            0,m-1\n",
    "#\n",
    "#\n",
    "#\n",
    "#\n",
    "#\n",
    "#   n-1,0           n-1,m-1\n"
   ]
  },
  {
   "cell_type": "code",
   "execution_count": 56,
   "id": "fbf94653",
   "metadata": {},
   "outputs": [
    {
     "data": {
      "text/plain": [
       "41"
      ]
     },
     "execution_count": 56,
     "metadata": {},
     "output_type": "execute_result"
    }
   ],
   "source": [
    "M[0][0]"
   ]
  },
  {
   "cell_type": "code",
   "execution_count": 57,
   "id": "a809bd68",
   "metadata": {},
   "outputs": [
    {
     "data": {
      "text/plain": [
       "20"
      ]
     },
     "execution_count": 57,
     "metadata": {},
     "output_type": "execute_result"
    }
   ],
   "source": [
    "M[4][0]"
   ]
  },
  {
   "cell_type": "code",
   "execution_count": 58,
   "id": "4b4f28b2",
   "metadata": {},
   "outputs": [
    {
     "data": {
      "text/plain": [
       "51"
      ]
     },
     "execution_count": 58,
     "metadata": {},
     "output_type": "execute_result"
    }
   ],
   "source": [
    "M[0][10]"
   ]
  },
  {
   "cell_type": "code",
   "execution_count": 71,
   "id": "71448ebe",
   "metadata": {},
   "outputs": [
    {
     "data": {
      "text/plain": [
       "30"
      ]
     },
     "execution_count": 71,
     "metadata": {},
     "output_type": "execute_result"
    }
   ],
   "source": [
    "M[4][10]"
   ]
  },
  {
   "cell_type": "code",
   "execution_count": 73,
   "id": "c4c08ab0",
   "metadata": {},
   "outputs": [
    {
     "data": {
      "text/plain": [
       "[[41, 42, 43, 44, 45, 46, 47, 48, 49, 50, 51],\n",
       " [21, 22, 23, 24, 25, 26, 27, 28, 29, 30, 31],\n",
       " [21, 22, 23, 24, 25, 26, 27, 28, 29, 30, 31],\n",
       " [51, 52, 53, 54, 55, 56, 57, 58, 59, 60, 61],\n",
       " [20, 21, 22, 23, 24, 25, 26, 27, 28, 29, 30]]"
      ]
     },
     "execution_count": 73,
     "metadata": {},
     "output_type": "execute_result"
    }
   ],
   "source": [
    "M"
   ]
  },
  {
   "cell_type": "code",
   "execution_count": 74,
   "id": "37e4ae25",
   "metadata": {},
   "outputs": [],
   "source": [
    "n = len(M) # no of rows\n",
    "m = len(M[0]) # no of columns"
   ]
  },
  {
   "cell_type": "code",
   "execution_count": 76,
   "id": "0b9ecb87",
   "metadata": {},
   "outputs": [
    {
     "name": "stdout",
     "output_type": "stream",
     "text": [
      "41 42 43 44 45 46 47 48 49 50 51 \n",
      "21 22 23 24 25 26 27 28 29 30 31 \n",
      "21 22 23 24 25 26 27 28 29 30 31 \n",
      "51 52 53 54 55 56 57 58 59 60 61 \n",
      "20 21 22 23 24 25 26 27 28 29 30 \n"
     ]
    }
   ],
   "source": [
    "# traversal ----row wise\n",
    "\n",
    "for row in range(n):\n",
    "    for column in range(m):\n",
    "        print(M[row][column],end = \" \")\n",
    "    print()"
   ]
  },
  {
   "cell_type": "code",
   "execution_count": 79,
   "id": "99f6959f",
   "metadata": {},
   "outputs": [
    {
     "name": "stdout",
     "output_type": "stream",
     "text": [
      "41 42 43 44 45 46 47 48 49 50 51 \n",
      "21 22 23 24 25 26 27 28 29 30 31 \n",
      "21 22 23 24 25 26 27 28 29 30 31 \n",
      "51 52 53 54 55 56 57 58 59 60 61 \n",
      "20 21 22 23 24 25 26 27 28 29 30 \n"
     ]
    }
   ],
   "source": [
    "for row in M:\n",
    "    for element in row:                  #OR\n",
    "        print(element,end=\" \")\n",
    "    print()"
   ]
  },
  {
   "cell_type": "code",
   "execution_count": null,
   "id": "53f1173c",
   "metadata": {},
   "outputs": [],
   "source": []
  },
  {
   "cell_type": "code",
   "execution_count": 81,
   "id": "6ff2aa73",
   "metadata": {},
   "outputs": [
    {
     "name": "stdout",
     "output_type": "stream",
     "text": [
      "41 21 21 51 20 \n",
      "42 22 22 52 21 \n",
      "43 23 23 53 22 \n",
      "44 24 24 54 23 \n",
      "45 25 25 55 24 \n",
      "46 26 26 56 25 \n",
      "47 27 27 57 26 \n",
      "48 28 28 58 27 \n",
      "49 29 29 59 28 \n",
      "50 30 30 60 29 \n",
      "51 31 31 61 30 \n"
     ]
    }
   ],
   "source": [
    "# traversal ----column wise\n",
    "\n",
    "for col in range(m):\n",
    "    for row in range(n):\n",
    "        print(M[row][col],end=\" \")\n",
    "    print()"
   ]
  },
  {
   "cell_type": "code",
   "execution_count": 88,
   "id": "f231701d",
   "metadata": {},
   "outputs": [
    {
     "data": {
      "text/plain": [
       "[[41, 42, 43, 44, 45, 46, 47, 48, 49, 50, 51],\n",
       " [21, 22, 23, 24, 25, 26, 27, 28, 29, 30, 31],\n",
       " [21, 22, 23, 24, 25, 26, 27, 28, 29, 30, 31],\n",
       " [51, 52, 53, 54, 55, 56, 57, 58, 59, 60, 61],\n",
       " [20, 21, 22, 23, 24, 25, 26, 27, 28, 29, 30]]"
      ]
     },
     "execution_count": 88,
     "metadata": {},
     "output_type": "execute_result"
    }
   ],
   "source": [
    "M"
   ]
  },
  {
   "cell_type": "code",
   "execution_count": null,
   "id": "6186939d",
   "metadata": {},
   "outputs": [],
   "source": []
  },
  {
   "cell_type": "code",
   "execution_count": null,
   "id": "8d568118",
   "metadata": {},
   "outputs": [],
   "source": []
  },
  {
   "cell_type": "code",
   "execution_count": null,
   "id": "ce013b69",
   "metadata": {},
   "outputs": [],
   "source": []
  },
  {
   "cell_type": "code",
   "execution_count": null,
   "id": "ecae1015",
   "metadata": {},
   "outputs": [],
   "source": []
  },
  {
   "cell_type": "code",
   "execution_count": null,
   "id": "e1ab1e24",
   "metadata": {},
   "outputs": [],
   "source": []
  },
  {
   "cell_type": "code",
   "execution_count": null,
   "id": "0306e167",
   "metadata": {},
   "outputs": [],
   "source": []
  },
  {
   "cell_type": "code",
   "execution_count": null,
   "id": "e2b68eae",
   "metadata": {},
   "outputs": [],
   "source": []
  },
  {
   "cell_type": "code",
   "execution_count": 110,
   "id": "0be32bca",
   "metadata": {},
   "outputs": [],
   "source": [
    "listM = [[s+i*i for i in range(5,10)] for s in range(0,50,10)]\n"
   ]
  },
  {
   "cell_type": "code",
   "execution_count": 111,
   "id": "c127287d",
   "metadata": {},
   "outputs": [
    {
     "data": {
      "text/plain": [
       "[[25, 36, 49, 64, 81],\n",
       " [35, 46, 59, 74, 91],\n",
       " [45, 56, 69, 84, 101],\n",
       " [55, 66, 79, 94, 111],\n",
       " [65, 76, 89, 104, 121]]"
      ]
     },
     "execution_count": 111,
     "metadata": {},
     "output_type": "execute_result"
    }
   ],
   "source": [
    "listM"
   ]
  },
  {
   "cell_type": "code",
   "execution_count": 112,
   "id": "93c88c6e",
   "metadata": {},
   "outputs": [],
   "source": [
    "n = len(listM)"
   ]
  },
  {
   "cell_type": "code",
   "execution_count": 113,
   "id": "45f35d54",
   "metadata": {},
   "outputs": [],
   "source": [
    "m = len(listM[0])"
   ]
  },
  {
   "cell_type": "code",
   "execution_count": 114,
   "id": "a2ee2716",
   "metadata": {},
   "outputs": [
    {
     "name": "stdout",
     "output_type": "stream",
     "text": [
      "5 5\n"
     ]
    }
   ],
   "source": [
    "print(n,m)"
   ]
  },
  {
   "cell_type": "code",
   "execution_count": 115,
   "id": "16461f69",
   "metadata": {},
   "outputs": [
    {
     "name": "stdout",
     "output_type": "stream",
     "text": [
      "25 36 49 64 81 \n",
      "35 46 59 74 91 \n",
      "45 56 69 84 101 \n",
      "55 66 79 94 111 \n",
      "65 76 89 104 121 \n"
     ]
    }
   ],
   "source": [
    "for irow in range(n):\n",
    "    for icol in range(m):\n",
    "        print(listM[irow][icol],end = \" \")\n",
    "    print()"
   ]
  },
  {
   "cell_type": "code",
   "execution_count": 116,
   "id": "bc358d9c",
   "metadata": {},
   "outputs": [
    {
     "name": "stdout",
     "output_type": "stream",
     "text": [
      "25 35 45 55 65 \n",
      "36 46 56 66 76 \n",
      "49 59 69 79 89 \n",
      "64 74 84 94 104 \n",
      "81 91 101 111 121 \n"
     ]
    }
   ],
   "source": [
    "for irow in range(n):\n",
    "    for icol in range(m):\n",
    "        print(listM[icol][irow],end = \" \")\n",
    "    print()"
   ]
  },
  {
   "cell_type": "code",
   "execution_count": 123,
   "id": "f1da8079",
   "metadata": {},
   "outputs": [
    {
     "name": "stdout",
     "output_type": "stream",
     "text": [
      "25 35 45 55 65 \n",
      "36 46 56 66 76 \n",
      "49 59 69 79 89 \n",
      "64 74 84 94 104 \n",
      "81 91 101 111 121 \n"
     ]
    }
   ],
   "source": [
    "for icol in range(m):\n",
    "    for irow in range(n):\n",
    "        print(listM[irow][icol],end = \" \")\n",
    "    print()"
   ]
  },
  {
   "cell_type": "code",
   "execution_count": null,
   "id": "6986f35d",
   "metadata": {},
   "outputs": [],
   "source": []
  },
  {
   "cell_type": "code",
   "execution_count": 121,
   "id": "db160fbe",
   "metadata": {},
   "outputs": [
    {
     "name": "stdout",
     "output_type": "stream",
     "text": [
      "25 | 36 | 49 | 64 | 81 | \n",
      "35 | 46 | 59 | 74 | 91 | \n",
      "45 | 56 | 69 | 84 | 101 | \n",
      "55 | 66 | 79 | 94 | 111 | \n",
      "65 | 76 | 89 | 104 | 121 | \n"
     ]
    }
   ],
   "source": [
    "for r in listM:\n",
    "    for e in r:\n",
    "        print(e,end=\" | \")\n",
    "    print()"
   ]
  },
  {
   "cell_type": "markdown",
   "id": "6aba2c17",
   "metadata": {},
   "source": [
    "# Q: print sum of each row of a matrix"
   ]
  },
  {
   "cell_type": "code",
   "execution_count": 124,
   "id": "79847baf",
   "metadata": {},
   "outputs": [
    {
     "data": {
      "text/plain": [
       "[[25, 36, 49, 64, 81],\n",
       " [35, 46, 59, 74, 91],\n",
       " [45, 56, 69, 84, 101],\n",
       " [55, 66, 79, 94, 111],\n",
       " [65, 76, 89, 104, 121]]"
      ]
     },
     "execution_count": 124,
     "metadata": {},
     "output_type": "execute_result"
    }
   ],
   "source": [
    "listM"
   ]
  },
  {
   "cell_type": "code",
   "execution_count": null,
   "id": "f1168910",
   "metadata": {},
   "outputs": [],
   "source": []
  },
  {
   "cell_type": "code",
   "execution_count": 139,
   "id": "183855b5",
   "metadata": {},
   "outputs": [
    {
     "name": "stdout",
     "output_type": "stream",
     "text": [
      "255\n",
      "305\n",
      "355\n",
      "405\n",
      "455\n"
     ]
    }
   ],
   "source": [
    "for irow in range(n):\n",
    "    sum = 0\n",
    "    for icol in range(m):\n",
    "        sum += listM[irow][icol]\n",
    "    print(sum)\n"
   ]
  },
  {
   "cell_type": "code",
   "execution_count": 143,
   "id": "8b97a0b8",
   "metadata": {},
   "outputs": [
    {
     "name": "stdout",
     "output_type": "stream",
     "text": [
      "[[255], [305], [355], [405], [455]]\n"
     ]
    }
   ],
   "source": [
    "row_sum = []\n",
    "for irow in range(n):\n",
    "    sum = 0\n",
    "    for icol in range(m):\n",
    "        sum += listM[irow][icol]\n",
    "    row_sum.append([sum])\n",
    "print(row_sum)"
   ]
  },
  {
   "cell_type": "code",
   "execution_count": 2,
   "id": "d93cd133",
   "metadata": {},
   "outputs": [
    {
     "name": "stdout",
     "output_type": "stream",
     "text": [
      "[25, 36, 49, 64, 81, [255]]\n",
      "[35, 46, 59, 74, 91, [305]]\n",
      "[45, 56, 69, 84, 101, [355]]\n",
      "[55, 66, 79, 94, 111, [405]]\n",
      "[65, 76, 89, 104, 121, [455]]\n"
     ]
    }
   ],
   "source": [
    "M = [[25, 36, 49, 64, 81],\n",
    " [35, 46, 59, 74, 91],\n",
    " [45, 56, 69, 84, 101],\n",
    " [55, 66, 79, 94, 111],\n",
    " [65, 76, 89, 104, 121]]\n",
    "n = len(M)\n",
    "m = len(M[0])\n",
    "ansrow = []\n",
    "for i in range(n):\n",
    "    sum =0\n",
    "    for j in range(m):\n",
    "        sum = sum + M[i][j]\n",
    "    ansrow.append([sum])\n",
    "#print(ansrow)\n",
    "for i in range(n):\n",
    "    M[i].append(ansrow[i])\n",
    "\n",
    "for i in range(n):\n",
    "    print(M[i])\n",
    "\n",
    "# for i in range(n):\n",
    "#     for j in range(m):\n",
    "#         print(M[i][j],end = \" \")\n",
    "#     print()"
   ]
  },
  {
   "cell_type": "markdown",
   "id": "e379c4c4",
   "metadata": {},
   "source": [
    "# Q: print sum of each column of a matrix"
   ]
  },
  {
   "cell_type": "code",
   "execution_count": null,
   "id": "35c4c497",
   "metadata": {},
   "outputs": [],
   "source": []
  },
  {
   "cell_type": "code",
   "execution_count": 5,
   "id": "5eb76d6e",
   "metadata": {},
   "outputs": [],
   "source": [
    "listM =[[25, 36, 49, 64, 81],\n",
    " [35, 46, 59, 74, 91],\n",
    " [45, 56, 69, 84, 101],\n",
    " [55, 66, 79, 94, 111],\n",
    " [65, 76, 89, 104, 121]]"
   ]
  },
  {
   "cell_type": "code",
   "execution_count": 6,
   "id": "5f9c67b6",
   "metadata": {},
   "outputs": [
    {
     "name": "stdout",
     "output_type": "stream",
     "text": [
      "225\n",
      "280\n",
      "345\n",
      "420\n",
      "505\n"
     ]
    }
   ],
   "source": [
    "\n",
    "for col in range(m):\n",
    "    sum = 0\n",
    "    for row in range(n):\n",
    "        sum += listM[row][col]\n",
    "    print(sum)"
   ]
  },
  {
   "cell_type": "code",
   "execution_count": null,
   "id": "e97e79d6",
   "metadata": {},
   "outputs": [],
   "source": []
  },
  {
   "cell_type": "code",
   "execution_count": 7,
   "id": "76e41bff",
   "metadata": {},
   "outputs": [
    {
     "name": "stdout",
     "output_type": "stream",
     "text": [
      "[[225], [280], [345], [420], [505]]\n"
     ]
    }
   ],
   "source": [
    "col_sum = []\n",
    "for col in range(m):\n",
    "    sum = 0\n",
    "    for row in range(n):\n",
    "        sum += listM[row][col]\n",
    "    col_sum.append([sum])\n",
    "print(col_sum)"
   ]
  },
  {
   "cell_type": "code",
   "execution_count": null,
   "id": "75169e95",
   "metadata": {},
   "outputs": [],
   "source": []
  },
  {
   "cell_type": "code",
   "execution_count": 8,
   "id": "8e51aa92",
   "metadata": {},
   "outputs": [
    {
     "name": "stdout",
     "output_type": "stream",
     "text": [
      "[25, 36, 49, 64, 81]\n",
      "[35, 46, 59, 74, 91]\n",
      "[45, 56, 69, 84, 101]\n",
      "[55, 66, 79, 94, 111]\n",
      "[65, 76, 89, 104, 121]\n",
      "[225, 280, 345, 420, 505]\n"
     ]
    }
   ],
   "source": [
    "M = [[25, 36, 49, 64, 81],\n",
    " [35, 46, 59, 74, 91],\n",
    " [45, 56, 69, 84, 101],\n",
    " [55, 66, 79, 94, 111],\n",
    " [65, 76, 89, 104, 121]]\n",
    "n = len(M)\n",
    "m = len(M[0])\n",
    "anscol = []\n",
    "\n",
    "for j in range(m):\n",
    "    sum =0\n",
    "    for i in range(n):\n",
    "        sum = sum + M[i][j]\n",
    "    anscol.append(sum)\n",
    "\n",
    "\n",
    "\n",
    "M.append(anscol)\n",
    "\n",
    "for x in M:\n",
    "    print(x)\n"
   ]
  },
  {
   "cell_type": "code",
   "execution_count": null,
   "id": "986e1e7c",
   "metadata": {},
   "outputs": [],
   "source": []
  },
  {
   "cell_type": "code",
   "execution_count": null,
   "id": "18b22502",
   "metadata": {},
   "outputs": [],
   "source": []
  },
  {
   "cell_type": "code",
   "execution_count": null,
   "id": "e08ad4a8",
   "metadata": {},
   "outputs": [],
   "source": []
  },
  {
   "cell_type": "code",
   "execution_count": null,
   "id": "68fad272",
   "metadata": {},
   "outputs": [],
   "source": []
  },
  {
   "cell_type": "markdown",
   "id": "e405cc44",
   "metadata": {},
   "source": [
    "# Q: given a square matrix, print the diagonals.:"
   ]
  },
  {
   "cell_type": "code",
   "execution_count": 146,
   "id": "59f91b65",
   "metadata": {},
   "outputs": [
    {
     "data": {
      "text/plain": [
       "(5, 5)"
      ]
     },
     "execution_count": 146,
     "metadata": {},
     "output_type": "execute_result"
    }
   ],
   "source": [
    "n, m"
   ]
  },
  {
   "cell_type": "code",
   "execution_count": 144,
   "id": "301305eb",
   "metadata": {},
   "outputs": [
    {
     "name": "stdout",
     "output_type": "stream",
     "text": [
      "25\n",
      "46\n",
      "69\n",
      "94\n",
      "121\n"
     ]
    }
   ],
   "source": [
    "# # # # #\n",
    "#00 \n",
    "#  11\n",
    "#    22\n",
    "#      33\n",
    "\n",
    "for i in range(n):\n",
    "    print(listM[i][i])"
   ]
  },
  {
   "cell_type": "code",
   "execution_count": 149,
   "id": "c9bc2042",
   "metadata": {},
   "outputs": [
    {
     "name": "stdout",
     "output_type": "stream",
     "text": [
      "81\n",
      "74\n",
      "69\n",
      "66\n",
      "65\n"
     ]
    }
   ],
   "source": [
    "# # # # #\n",
    "#      03\n",
    "#    12\n",
    "#  21\n",
    "#30\n",
    "# row going up      r++    row starts form = 0\n",
    "# col going down    c--    col starts from = m-1\n",
    "\n",
    "r = 0\n",
    "c = m-1\n",
    "while r<n:\n",
    "    print(listM[r][c])\n",
    "    r = r+1\n",
    "    c = c-1"
   ]
  },
  {
   "cell_type": "code",
   "execution_count": null,
   "id": "5fe9a3ca",
   "metadata": {},
   "outputs": [],
   "source": [
    "# in this case when m = n\n",
    "(r+c)+1 = n = m              IN 4*4 MATRIX\n",
    " 0+3 +1   4\n",
    " 1+2\n",
    " 2+1\n",
    " 3+0   \n",
    "# no of rows+columns   +  1    = len of m or n\n",
    "SO , c = n-r-1\n",
    "or   c = m-r-1\n"
   ]
  },
  {
   "cell_type": "code",
   "execution_count": 150,
   "id": "abd1eb0a",
   "metadata": {},
   "outputs": [
    {
     "name": "stdout",
     "output_type": "stream",
     "text": [
      "81\n",
      "74\n",
      "69\n",
      "66\n",
      "65\n"
     ]
    }
   ],
   "source": [
    "for r in range(n):\n",
    "    c= n-r-1\n",
    "    print(listM[r][c])"
   ]
  },
  {
   "cell_type": "code",
   "execution_count": 151,
   "id": "811b6ba6",
   "metadata": {},
   "outputs": [
    {
     "name": "stdout",
     "output_type": "stream",
     "text": [
      "81\n",
      "74\n",
      "69\n",
      "66\n",
      "65\n"
     ]
    }
   ],
   "source": [
    "for r in range(n):\n",
    "    c= n-r-1\n",
    "    print(listM[r][n-r-1])"
   ]
  },
  {
   "cell_type": "code",
   "execution_count": null,
   "id": "9b81929d",
   "metadata": {},
   "outputs": [],
   "source": [
    "\n",
    "    "
   ]
  },
  {
   "cell_type": "code",
   "execution_count": null,
   "id": "5c3f81e5",
   "metadata": {},
   "outputs": [],
   "source": [
    "\n"
   ]
  },
  {
   "cell_type": "code",
   "execution_count": null,
   "id": "f3a51657",
   "metadata": {},
   "outputs": [],
   "source": []
  },
  {
   "cell_type": "code",
   "execution_count": null,
   "id": "9a3a2bfd",
   "metadata": {},
   "outputs": [],
   "source": []
  },
  {
   "cell_type": "code",
   "execution_count": null,
   "id": "a0e73016",
   "metadata": {},
   "outputs": [],
   "source": []
  },
  {
   "cell_type": "code",
   "execution_count": null,
   "id": "fccab899",
   "metadata": {},
   "outputs": [],
   "source": []
  },
  {
   "cell_type": "code",
   "execution_count": null,
   "id": "d1384ceb",
   "metadata": {},
   "outputs": [],
   "source": []
  },
  {
   "cell_type": "code",
   "execution_count": null,
   "id": "0c62a41e",
   "metadata": {},
   "outputs": [],
   "source": []
  },
  {
   "cell_type": "code",
   "execution_count": null,
   "id": "bde9b632",
   "metadata": {},
   "outputs": [],
   "source": []
  },
  {
   "cell_type": "code",
   "execution_count": null,
   "id": "85601805",
   "metadata": {},
   "outputs": [],
   "source": []
  },
  {
   "cell_type": "code",
   "execution_count": null,
   "id": "743c2862",
   "metadata": {},
   "outputs": [],
   "source": []
  },
  {
   "cell_type": "code",
   "execution_count": null,
   "id": "f3190280",
   "metadata": {},
   "outputs": [],
   "source": []
  },
  {
   "cell_type": "markdown",
   "id": "5625eee2",
   "metadata": {},
   "source": [
    "# matrix subtraction "
   ]
  },
  {
   "cell_type": "code",
   "execution_count": 184,
   "id": "74f50db8",
   "metadata": {},
   "outputs": [
    {
     "name": "stdout",
     "output_type": "stream",
     "text": [
      "[[-8, -6, -4], [-2, 0, 2], [4, 6, 8]]\n"
     ]
    }
   ],
   "source": [
    "A = [[1, 2, 3],\n",
    "     [4, 5, 6],\n",
    "     [7, 8, 9]]\n",
    "B = [[9, 8, 7],\n",
    "     [6, 5, 4],\n",
    "     [3, 2, 1]]\n",
    "n = len(A)\n",
    "m = len(A[0])\n",
    "\n",
    "c = [[0]*m for i in range(n)]\n",
    "ans = 0\n",
    "for i in range(n):\n",
    "    for j in range(m):\n",
    "        c[i][j] = A[i][j]-B[i][j]\n",
    "        \n",
    "print(c)"
   ]
  },
  {
   "cell_type": "code",
   "execution_count": 42,
   "id": "decb08f0",
   "metadata": {},
   "outputs": [
    {
     "data": {
      "text/plain": [
       "[[0, 0, 0], [0, 0, 0], [0, 0, 0]]"
      ]
     },
     "execution_count": 42,
     "metadata": {},
     "output_type": "execute_result"
    }
   ],
   "source": [
    "c = [[0]*m for i in range(n)]\n",
    "c"
   ]
  },
  {
   "cell_type": "code",
   "execution_count": null,
   "id": "f2e91a89",
   "metadata": {},
   "outputs": [],
   "source": []
  },
  {
   "cell_type": "code",
   "execution_count": 183,
   "id": "549cecf5",
   "metadata": {},
   "outputs": [
    {
     "name": "stdout",
     "output_type": "stream",
     "text": [
      "[[-8, 3], [1, -2], [-6, -11]]\n"
     ]
    }
   ],
   "source": [
    "A = [[-5,7],\n",
    "     [3,1],\n",
    "     [4,-10]]\n",
    "B = [[3, 4],\n",
    "     [2,3],\n",
    "     [10,1]]\n",
    "n = len(A)\n",
    "m = len(A[0])\n",
    "\n",
    "c = [[0]*m for i in range(n)]\n",
    "ans = 0\n",
    "for i in range(n):\n",
    "    for j in range(m):\n",
    "        c[i][j] = A[i][j]-B[i][j]\n",
    "        \n",
    "print(c)"
   ]
  },
  {
   "cell_type": "code",
   "execution_count": null,
   "id": "2bd367d2",
   "metadata": {},
   "outputs": [],
   "source": []
  },
  {
   "cell_type": "markdown",
   "id": "2a40d499",
   "metadata": {},
   "source": [
    "# matrix Transpose "
   ]
  },
  {
   "cell_type": "code",
   "execution_count": 7,
   "id": "7c61dfec",
   "metadata": {},
   "outputs": [
    {
     "name": "stdout",
     "output_type": "stream",
     "text": [
      "[[0, 0, 0], [0, 0, 0], [0, 0, 0], [0, 0, 0]]\n",
      "[[1, 4, 7], [2, 5, 8], [3, 6, 9], [9, 4, 1]]\n"
     ]
    }
   ],
   "source": [
    "A = [[1, 2, 3,9],\n",
    "     [4, 5, 6,4],\n",
    "     [7, 8, 9,1]]\n",
    "n = len(A)\n",
    "m = len(A[0])\n",
    "T = [[0]*n for i in range(m)]\n",
    "print(T)\n",
    "for i in range(m):\n",
    "    for j in range(n):\n",
    "        T[i][j] = A[j][i]\n",
    "print(T)\n",
    "\n"
   ]
  },
  {
   "cell_type": "code",
   "execution_count": 40,
   "id": "34bba93e",
   "metadata": {},
   "outputs": [
    {
     "name": "stdout",
     "output_type": "stream",
     "text": [
      "[21, 62, 42, 5, 2, 18, 23]\n",
      "[62, 72, 44, 35, 65, 1, 57]\n",
      "[16, 85, 30, 12, 65, 16, 9]\n",
      "[44, 35, 56, 35, 82, 91, 28]\n",
      "[55, 14, 25, 55, 26, 42, 13]\n",
      "[100, 1, 52, 74, 36, 11, 44]\n",
      "[16, 89, 61, 50, 66, 72, 40]\n",
      "[86, 15, 23, 50, 60, 97, 47]\n",
      "[29, 73, 54, 80, 1, 35, 98]\n"
     ]
    }
   ],
   "source": [
    "A = [[21, 62, 16, 44, 55, 100, 16, 86, 29],\n",
    "      [62, 72, 85, 35, 14, 1, 89, 15, 73],\n",
    "      [42, 44, 30, 56, 25, 52, 61, 23, 54],\n",
    "      [5, 35, 12, 35, 55, 74, 50, 50, 80],\n",
    "      [2, 65, 65, 82, 26, 36, 66, 60, 1],\n",
    "      [18, 1, 16, 91, 42, 11, 72, 97, 35],\n",
    "      [23, 57, 9, 28, 13, 44, 40, 47, 98]\n",
    "]\n",
    "n = len(A)\n",
    "m = len(A[0])\n",
    "T = [[0]*n for i in range(m)]\n",
    "\n",
    "\n",
    "for i in range(len(A)):\n",
    "    for j in range(len(A[0])):\n",
    "        T[j][i]=A[i][j]\n",
    "\n",
    "for u in T:\n",
    "    print(u)\n",
    "\n"
   ]
  },
  {
   "cell_type": "code",
   "execution_count": null,
   "id": "ab814018",
   "metadata": {},
   "outputs": [],
   "source": []
  },
  {
   "cell_type": "code",
   "execution_count": null,
   "id": "5aa2b8fb",
   "metadata": {},
   "outputs": [],
   "source": []
  },
  {
   "cell_type": "markdown",
   "id": "5190024d",
   "metadata": {},
   "source": [
    "# matrix addition"
   ]
  },
  {
   "cell_type": "code",
   "execution_count": 41,
   "id": "8542d3b4",
   "metadata": {},
   "outputs": [
    {
     "name": "stdout",
     "output_type": "stream",
     "text": [
      "[[10, 10, 10], [10, 10, 10], [10, 10, 10]]\n"
     ]
    }
   ],
   "source": [
    "A = [[1, 2, 3],[4, 5, 6],[7, 8, 9]]\n",
    "B = [[9, 8, 7],[6, 5, 4],[3, 2, 1]]\n",
    "n = len(A)\n",
    "m = len(A[0])\n",
    "\n",
    "c = [[0]*m for i in range(n)]\n",
    "ans = 0\n",
    "for i in range(n):\n",
    "    for j in range(m):\n",
    "        c[i][j] = A[i][j]+B[i][j]\n",
    "        \n",
    "print(c)"
   ]
  },
  {
   "cell_type": "code",
   "execution_count": null,
   "id": "8f5cb74c",
   "metadata": {},
   "outputs": [],
   "source": []
  },
  {
   "cell_type": "code",
   "execution_count": null,
   "id": "17fe8e85",
   "metadata": {},
   "outputs": [],
   "source": []
  },
  {
   "cell_type": "code",
   "execution_count": null,
   "id": "b2cc240b",
   "metadata": {},
   "outputs": [],
   "source": []
  },
  {
   "cell_type": "code",
   "execution_count": null,
   "id": "9aff7f38",
   "metadata": {},
   "outputs": [],
   "source": []
  },
  {
   "cell_type": "markdown",
   "id": "1a4c51f6",
   "metadata": {},
   "source": [
    "# matrix Dot PRoduct  # multiplication  "
   ]
  },
  {
   "cell_type": "code",
   "execution_count": 38,
   "id": "5475f41a",
   "metadata": {},
   "outputs": [
    {
     "name": "stdout",
     "output_type": "stream",
     "text": [
      "[[19, 22], [43, 50]]\n"
     ]
    }
   ],
   "source": [
    "A = [[1, 2],         \n",
    "     [3, 4]]                \n",
    "B = [[5, 6],\n",
    "     [7, 8]] \n",
    "\n",
    "M = len(A)\n",
    "N = len(A[0])\n",
    "P = len(B[0])\n",
    "\n",
    "C = [[0]*P for i in range(M)]\n",
    "\n",
    "for i in range(M):\n",
    "    for j in range(P):\n",
    "        for k in range(N):\n",
    "            C[i][j] += A[i][k]*B[k][j]\n",
    "print(C)\n",
    "            "
   ]
  },
  {
   "cell_type": "code",
   "execution_count": 37,
   "id": "2016d651",
   "metadata": {},
   "outputs": [
    {
     "name": "stdout",
     "output_type": "stream",
     "text": [
      "[[5929, -6708, -4404, 1625, -2736, -4369]]\n"
     ]
    }
   ],
   "source": [
    "A =[[94, 91]]\n",
    "B =[[35, -52, -12, 26, -93, -61],\n",
    "  [29, -20, -36, -9, 66, 15]]\n",
    "\n",
    "M = len(A)\n",
    "N = len(A[0])\n",
    "P = len(B[0])\n",
    "\n",
    "C = [[0]*P for i in range(M)]\n",
    "\n",
    "for i in range(M):\n",
    "    for j in range(P):\n",
    "        for k in range(N):\n",
    "            C[i][j] += A[i][k]*B[k][j]\n",
    "print(C)\n",
    "            "
   ]
  },
  {
   "cell_type": "code",
   "execution_count": null,
   "id": "4d676ac1",
   "metadata": {},
   "outputs": [],
   "source": []
  },
  {
   "cell_type": "code",
   "execution_count": null,
   "id": "4acbdf30",
   "metadata": {},
   "outputs": [],
   "source": []
  },
  {
   "cell_type": "code",
   "execution_count": null,
   "id": "24ac57c0",
   "metadata": {},
   "outputs": [],
   "source": []
  },
  {
   "cell_type": "code",
   "execution_count": null,
   "id": "f24026d8",
   "metadata": {},
   "outputs": [],
   "source": []
  },
  {
   "cell_type": "code",
   "execution_count": null,
   "id": "196073d3",
   "metadata": {},
   "outputs": [],
   "source": []
  },
  {
   "cell_type": "code",
   "execution_count": null,
   "id": "7427019c",
   "metadata": {},
   "outputs": [],
   "source": []
  },
  {
   "cell_type": "code",
   "execution_count": null,
   "id": "c8d9c146",
   "metadata": {},
   "outputs": [],
   "source": []
  },
  {
   "cell_type": "code",
   "execution_count": null,
   "id": "55315cb8",
   "metadata": {},
   "outputs": [],
   "source": []
  },
  {
   "cell_type": "code",
   "execution_count": null,
   "id": "411304f8",
   "metadata": {},
   "outputs": [],
   "source": []
  },
  {
   "cell_type": "code",
   "execution_count": null,
   "id": "305c0b59",
   "metadata": {},
   "outputs": [],
   "source": []
  },
  {
   "cell_type": "code",
   "execution_count": null,
   "id": "0c421b4d",
   "metadata": {},
   "outputs": [],
   "source": []
  },
  {
   "cell_type": "code",
   "execution_count": null,
   "id": "5bb1289b",
   "metadata": {},
   "outputs": [],
   "source": []
  },
  {
   "cell_type": "code",
   "execution_count": 61,
   "id": "c290b69c",
   "metadata": {},
   "outputs": [],
   "source": [
    "def print_matrix(M):\n",
    "    for row in M:\n",
    "        print(row)\n",
    "    \n",
    "    "
   ]
  },
  {
   "cell_type": "code",
   "execution_count": null,
   "id": "6e0f165f",
   "metadata": {},
   "outputs": [],
   "source": []
  },
  {
   "cell_type": "code",
   "execution_count": null,
   "id": "f546aabb",
   "metadata": {},
   "outputs": [],
   "source": []
  },
  {
   "cell_type": "code",
   "execution_count": null,
   "id": "3dbbc755",
   "metadata": {},
   "outputs": [],
   "source": []
  },
  {
   "cell_type": "markdown",
   "id": "52aedd6a",
   "metadata": {},
   "source": [
    "### create empty matrix"
   ]
  },
  {
   "cell_type": "code",
   "execution_count": 62,
   "id": "37fa149a",
   "metadata": {},
   "outputs": [
    {
     "name": "stdout",
     "output_type": "stream",
     "text": [
      "[[0, 0, 0, 0, 0, 0, 0, 0], [0, 0, 0, 0, 0, 0, 0, 0], [0, 0, 0, 0, 0, 0, 0, 0], [0, 0, 0, 0, 0, 0, 0, 0]]\n",
      "\n",
      "[0, 0, 0, 0, 0, 0, 0, 0]\n",
      "[0, 0, 0, 0, 0, 0, 0, 0]\n",
      "[0, 0, 0, 0, 0, 0, 0, 0]\n",
      "[0, 0, 0, 0, 0, 0, 0, 0]\n"
     ]
    }
   ],
   "source": [
    "M = []\n",
    "n = 4\n",
    "m = 8  # 0*0 matrix\n",
    "for i in range(n):\n",
    "    M.append([])             # put a new row\n",
    "    for j in range(m):\n",
    "        value = 0\n",
    "        M[i].append(value)\n",
    "print(M)\n",
    "print()\n",
    "print_matrix(M)"
   ]
  },
  {
   "cell_type": "code",
   "execution_count": 64,
   "id": "b2795060",
   "metadata": {},
   "outputs": [
    {
     "name": "stdout",
     "output_type": "stream",
     "text": [
      "[[1, 2, 3, 4, 5, 6, 7, 8], [1, 4, 9, 16, 25, 36, 49, 64], [1, 8, 27, 64, 125, 216, 343, 512], [1, 16, 81, 256, 625, 1296, 2401, 4096]]\n",
      "\n",
      "[1, 2, 3, 4, 5, 6, 7, 8]\n",
      "[1, 4, 9, 16, 25, 36, 49, 64]\n",
      "[1, 8, 27, 64, 125, 216, 343, 512]\n",
      "[1, 16, 81, 256, 625, 1296, 2401, 4096]\n"
     ]
    }
   ],
   "source": [
    "M = []\n",
    "n = 4\n",
    "m = 8  # 0*0 matrix\n",
    "for i in range(n):\n",
    "    M.append([])             # put a new row\n",
    "    for j in range(m):\n",
    "        value = (j+1)**(i+1)\n",
    "        M[i].append(value)  # put value into current cell\n",
    "print(M)\n",
    "print()\n",
    "print_matrix(M)"
   ]
  },
  {
   "cell_type": "code",
   "execution_count": null,
   "id": "a6bfde89",
   "metadata": {},
   "outputs": [],
   "source": []
  },
  {
   "cell_type": "code",
   "execution_count": null,
   "id": "05f2cb67",
   "metadata": {},
   "outputs": [],
   "source": []
  },
  {
   "cell_type": "code",
   "execution_count": null,
   "id": "bd926a94",
   "metadata": {},
   "outputs": [],
   "source": []
  },
  {
   "cell_type": "code",
   "execution_count": null,
   "id": "6cde1dc0",
   "metadata": {},
   "outputs": [],
   "source": []
  },
  {
   "cell_type": "code",
   "execution_count": null,
   "id": "36782b23",
   "metadata": {},
   "outputs": [],
   "source": []
  },
  {
   "cell_type": "code",
   "execution_count": null,
   "id": "8b551d63",
   "metadata": {},
   "outputs": [],
   "source": []
  },
  {
   "cell_type": "code",
   "execution_count": null,
   "id": "4273e9df",
   "metadata": {},
   "outputs": [],
   "source": [
    "##### recommended  method"
   ]
  },
  {
   "cell_type": "code",
   "execution_count": 70,
   "id": "07b84b86",
   "metadata": {},
   "outputs": [
    {
     "name": "stdout",
     "output_type": "stream",
     "text": [
      "\n",
      "[0, 0, 0, 0, 0, 0, 0, 0]\n",
      "[0, 0, 0, 0, 0, 0, 0, 0]\n",
      "[0, 0, 0, 0, 0, 0, 0, 0]\n",
      "[0, 0, 0, 0, 0, 0, 0, 0]\n"
     ]
    }
   ],
   "source": [
    "n = 4\n",
    "m = 8\n",
    "\n",
    "M = [[0]*m for _ in range(n)]\n",
    "#print(M)\n",
    "\n",
    "print()\n",
    "print_matrix(M)"
   ]
  },
  {
   "cell_type": "code",
   "execution_count": 68,
   "id": "7468f32f",
   "metadata": {},
   "outputs": [
    {
     "name": "stdout",
     "output_type": "stream",
     "text": [
      "\n",
      "[1, 2, 3, 4, 5, 6, 7, 8]\n",
      "[1, 4, 9, 16, 25, 36, 49, 64]\n",
      "[1, 8, 27, 64, 125, 216, 343, 512]\n",
      "[1, 16, 81, 256, 625, 1296, 2401, 4096]\n"
     ]
    }
   ],
   "source": [
    "## now overwrite values\n",
    "\n",
    "\n",
    "for i in range(n):\n",
    "    for j in range(m):\n",
    "        value = (j+1)**(i+1)\n",
    "        M[i][j] = value\n",
    "        \n",
    "#print(M)\n",
    "\n",
    "print()\n",
    "print_matrix(M)"
   ]
  },
  {
   "cell_type": "code",
   "execution_count": null,
   "id": "db28566f",
   "metadata": {},
   "outputs": [],
   "source": []
  },
  {
   "cell_type": "code",
   "execution_count": null,
   "id": "92654cbc",
   "metadata": {},
   "outputs": [],
   "source": []
  },
  {
   "cell_type": "code",
   "execution_count": 104,
   "id": "428dc2b3",
   "metadata": {},
   "outputs": [
    {
     "name": "stdout",
     "output_type": "stream",
     "text": [
      "\n",
      "[1, 2, 3, 4, 5, 6, 7, 8]\n",
      "[1, 4, 9, 16, 25, 36, 49, 64]\n",
      "[1, 8, 27, 64, 125, 216, 343, 512]\n",
      "[1, 16, 81, 256, 625, 1296, 2401, 4096]\n"
     ]
    }
   ],
   "source": []
  },
  {
   "cell_type": "code",
   "execution_count": null,
   "id": "092ab1af",
   "metadata": {},
   "outputs": [],
   "source": []
  },
  {
   "cell_type": "markdown",
   "id": "4c714d92",
   "metadata": {},
   "source": [
    "### how matrix created, in both methods of creating "
   ]
  },
  {
   "cell_type": "code",
   "execution_count": 79,
   "id": "cc71cbdb",
   "metadata": {},
   "outputs": [],
   "source": [
    "def creation_of_matrix(M):\n",
    "    for rw in M:\n",
    "        print(rw)\n",
    "    print(\"-\" * 50)"
   ]
  },
  {
   "cell_type": "code",
   "execution_count": 99,
   "id": "1c4321f9",
   "metadata": {},
   "outputs": [
    {
     "name": "stdout",
     "output_type": "stream",
     "text": [
      "[]\n",
      "--------------------------------------------------\n",
      "[1]\n",
      "--------------------------------------------------\n",
      "[1, 1]\n",
      "--------------------------------------------------\n",
      "[1, 1, 1]\n",
      "--------------------------------------------------\n",
      "[1, 1, 1, 1]\n",
      "--------------------------------------------------\n",
      "[1, 1, 1, 1, 1]\n",
      "--------------------------------------------------\n",
      "[1, 1, 1, 1, 1, 1]\n",
      "--------------------------------------------------\n",
      "[1, 1, 1, 1, 1, 1, 1]\n",
      "--------------------------------------------------\n",
      "[1, 1, 1, 1, 1, 1, 1, 1]\n",
      "[]\n",
      "--------------------------------------------------\n",
      "[1, 1, 1, 1, 1, 1, 1, 1]\n",
      "[2]\n",
      "--------------------------------------------------\n",
      "[1, 1, 1, 1, 1, 1, 1, 1]\n",
      "[2, 2]\n",
      "--------------------------------------------------\n",
      "[1, 1, 1, 1, 1, 1, 1, 1]\n",
      "[2, 2, 2]\n",
      "--------------------------------------------------\n",
      "[1, 1, 1, 1, 1, 1, 1, 1]\n",
      "[2, 2, 2, 2]\n",
      "--------------------------------------------------\n",
      "[1, 1, 1, 1, 1, 1, 1, 1]\n",
      "[2, 2, 2, 2, 2]\n",
      "--------------------------------------------------\n",
      "[1, 1, 1, 1, 1, 1, 1, 1]\n",
      "[2, 2, 2, 2, 2, 2]\n",
      "--------------------------------------------------\n",
      "[1, 1, 1, 1, 1, 1, 1, 1]\n",
      "[2, 2, 2, 2, 2, 2, 2]\n",
      "--------------------------------------------------\n",
      "[1, 1, 1, 1, 1, 1, 1, 1]\n",
      "[2, 2, 2, 2, 2, 2, 2, 2]\n",
      "[]\n",
      "--------------------------------------------------\n",
      "[1, 1, 1, 1, 1, 1, 1, 1]\n",
      "[2, 2, 2, 2, 2, 2, 2, 2]\n",
      "[3]\n",
      "--------------------------------------------------\n",
      "[1, 1, 1, 1, 1, 1, 1, 1]\n",
      "[2, 2, 2, 2, 2, 2, 2, 2]\n",
      "[3, 3]\n",
      "--------------------------------------------------\n",
      "[1, 1, 1, 1, 1, 1, 1, 1]\n",
      "[2, 2, 2, 2, 2, 2, 2, 2]\n",
      "[3, 3, 3]\n",
      "--------------------------------------------------\n",
      "[1, 1, 1, 1, 1, 1, 1, 1]\n",
      "[2, 2, 2, 2, 2, 2, 2, 2]\n",
      "[3, 3, 3, 3]\n",
      "--------------------------------------------------\n",
      "[1, 1, 1, 1, 1, 1, 1, 1]\n",
      "[2, 2, 2, 2, 2, 2, 2, 2]\n",
      "[3, 3, 3, 3, 3]\n",
      "--------------------------------------------------\n",
      "[1, 1, 1, 1, 1, 1, 1, 1]\n",
      "[2, 2, 2, 2, 2, 2, 2, 2]\n",
      "[3, 3, 3, 3, 3, 3]\n",
      "--------------------------------------------------\n",
      "[1, 1, 1, 1, 1, 1, 1, 1]\n",
      "[2, 2, 2, 2, 2, 2, 2, 2]\n",
      "[3, 3, 3, 3, 3, 3, 3]\n",
      "--------------------------------------------------\n",
      "[1, 1, 1, 1, 1, 1, 1, 1]\n",
      "[2, 2, 2, 2, 2, 2, 2, 2]\n",
      "[3, 3, 3, 3, 3, 3, 3, 3]\n",
      "[]\n",
      "--------------------------------------------------\n",
      "[1, 1, 1, 1, 1, 1, 1, 1]\n",
      "[2, 2, 2, 2, 2, 2, 2, 2]\n",
      "[3, 3, 3, 3, 3, 3, 3, 3]\n",
      "[4]\n",
      "--------------------------------------------------\n",
      "[1, 1, 1, 1, 1, 1, 1, 1]\n",
      "[2, 2, 2, 2, 2, 2, 2, 2]\n",
      "[3, 3, 3, 3, 3, 3, 3, 3]\n",
      "[4, 4]\n",
      "--------------------------------------------------\n",
      "[1, 1, 1, 1, 1, 1, 1, 1]\n",
      "[2, 2, 2, 2, 2, 2, 2, 2]\n",
      "[3, 3, 3, 3, 3, 3, 3, 3]\n",
      "[4, 4, 4]\n",
      "--------------------------------------------------\n",
      "[1, 1, 1, 1, 1, 1, 1, 1]\n",
      "[2, 2, 2, 2, 2, 2, 2, 2]\n",
      "[3, 3, 3, 3, 3, 3, 3, 3]\n",
      "[4, 4, 4, 4]\n",
      "--------------------------------------------------\n",
      "[1, 1, 1, 1, 1, 1, 1, 1]\n",
      "[2, 2, 2, 2, 2, 2, 2, 2]\n",
      "[3, 3, 3, 3, 3, 3, 3, 3]\n",
      "[4, 4, 4, 4, 4]\n",
      "--------------------------------------------------\n",
      "[1, 1, 1, 1, 1, 1, 1, 1]\n",
      "[2, 2, 2, 2, 2, 2, 2, 2]\n",
      "[3, 3, 3, 3, 3, 3, 3, 3]\n",
      "[4, 4, 4, 4, 4, 4]\n",
      "--------------------------------------------------\n",
      "[1, 1, 1, 1, 1, 1, 1, 1]\n",
      "[2, 2, 2, 2, 2, 2, 2, 2]\n",
      "[3, 3, 3, 3, 3, 3, 3, 3]\n",
      "[4, 4, 4, 4, 4, 4, 4]\n",
      "--------------------------------------------------\n",
      "[1, 1, 1, 1, 1, 1, 1, 1]\n",
      "[2, 2, 2, 2, 2, 2, 2, 2]\n",
      "[3, 3, 3, 3, 3, 3, 3, 3]\n",
      "[4, 4, 4, 4, 4, 4, 4, 4]\n",
      "--------------------------------------------------\n"
     ]
    }
   ],
   "source": [
    "M = []\n",
    "n = 4\n",
    "m = 8  # 0*0 matrix\n",
    "for i in range(n):\n",
    "    M.append([])             # put a new row\n",
    "    for j in range(m):\n",
    "        creation_of_matrix(M)\n",
    "        value =  i+1\n",
    "        M[i].append(value)\n",
    "        \n",
    "creation_of_matrix(M)\n"
   ]
  },
  {
   "cell_type": "code",
   "execution_count": 98,
   "id": "27269433",
   "metadata": {},
   "outputs": [
    {
     "name": "stdout",
     "output_type": "stream",
     "text": [
      "[0, 0, 0, 0, 0, 0, 0, 0]\n",
      "[0, 0, 0, 0, 0, 0, 0, 0]\n",
      "[0, 0, 0, 0, 0, 0, 0, 0]\n",
      "[0, 0, 0, 0, 0, 0, 0, 0]\n",
      "--------------------------------------------------\n",
      "[1, 0, 0, 0, 0, 0, 0, 0]\n",
      "[0, 0, 0, 0, 0, 0, 0, 0]\n",
      "[0, 0, 0, 0, 0, 0, 0, 0]\n",
      "[0, 0, 0, 0, 0, 0, 0, 0]\n",
      "--------------------------------------------------\n",
      "[1, 1, 0, 0, 0, 0, 0, 0]\n",
      "[0, 0, 0, 0, 0, 0, 0, 0]\n",
      "[0, 0, 0, 0, 0, 0, 0, 0]\n",
      "[0, 0, 0, 0, 0, 0, 0, 0]\n",
      "--------------------------------------------------\n",
      "[1, 1, 1, 0, 0, 0, 0, 0]\n",
      "[0, 0, 0, 0, 0, 0, 0, 0]\n",
      "[0, 0, 0, 0, 0, 0, 0, 0]\n",
      "[0, 0, 0, 0, 0, 0, 0, 0]\n",
      "--------------------------------------------------\n",
      "[1, 1, 1, 1, 0, 0, 0, 0]\n",
      "[0, 0, 0, 0, 0, 0, 0, 0]\n",
      "[0, 0, 0, 0, 0, 0, 0, 0]\n",
      "[0, 0, 0, 0, 0, 0, 0, 0]\n",
      "--------------------------------------------------\n",
      "[1, 1, 1, 1, 1, 0, 0, 0]\n",
      "[0, 0, 0, 0, 0, 0, 0, 0]\n",
      "[0, 0, 0, 0, 0, 0, 0, 0]\n",
      "[0, 0, 0, 0, 0, 0, 0, 0]\n",
      "--------------------------------------------------\n",
      "[1, 1, 1, 1, 1, 1, 0, 0]\n",
      "[0, 0, 0, 0, 0, 0, 0, 0]\n",
      "[0, 0, 0, 0, 0, 0, 0, 0]\n",
      "[0, 0, 0, 0, 0, 0, 0, 0]\n",
      "--------------------------------------------------\n",
      "[1, 1, 1, 1, 1, 1, 1, 0]\n",
      "[0, 0, 0, 0, 0, 0, 0, 0]\n",
      "[0, 0, 0, 0, 0, 0, 0, 0]\n",
      "[0, 0, 0, 0, 0, 0, 0, 0]\n",
      "--------------------------------------------------\n",
      "[1, 1, 1, 1, 1, 1, 1, 1]\n",
      "[0, 0, 0, 0, 0, 0, 0, 0]\n",
      "[0, 0, 0, 0, 0, 0, 0, 0]\n",
      "[0, 0, 0, 0, 0, 0, 0, 0]\n",
      "--------------------------------------------------\n",
      "[1, 1, 1, 1, 1, 1, 1, 1]\n",
      "[2, 0, 0, 0, 0, 0, 0, 0]\n",
      "[0, 0, 0, 0, 0, 0, 0, 0]\n",
      "[0, 0, 0, 0, 0, 0, 0, 0]\n",
      "--------------------------------------------------\n",
      "[1, 1, 1, 1, 1, 1, 1, 1]\n",
      "[2, 2, 0, 0, 0, 0, 0, 0]\n",
      "[0, 0, 0, 0, 0, 0, 0, 0]\n",
      "[0, 0, 0, 0, 0, 0, 0, 0]\n",
      "--------------------------------------------------\n",
      "[1, 1, 1, 1, 1, 1, 1, 1]\n",
      "[2, 2, 2, 0, 0, 0, 0, 0]\n",
      "[0, 0, 0, 0, 0, 0, 0, 0]\n",
      "[0, 0, 0, 0, 0, 0, 0, 0]\n",
      "--------------------------------------------------\n",
      "[1, 1, 1, 1, 1, 1, 1, 1]\n",
      "[2, 2, 2, 2, 0, 0, 0, 0]\n",
      "[0, 0, 0, 0, 0, 0, 0, 0]\n",
      "[0, 0, 0, 0, 0, 0, 0, 0]\n",
      "--------------------------------------------------\n",
      "[1, 1, 1, 1, 1, 1, 1, 1]\n",
      "[2, 2, 2, 2, 2, 0, 0, 0]\n",
      "[0, 0, 0, 0, 0, 0, 0, 0]\n",
      "[0, 0, 0, 0, 0, 0, 0, 0]\n",
      "--------------------------------------------------\n",
      "[1, 1, 1, 1, 1, 1, 1, 1]\n",
      "[2, 2, 2, 2, 2, 2, 0, 0]\n",
      "[0, 0, 0, 0, 0, 0, 0, 0]\n",
      "[0, 0, 0, 0, 0, 0, 0, 0]\n",
      "--------------------------------------------------\n",
      "[1, 1, 1, 1, 1, 1, 1, 1]\n",
      "[2, 2, 2, 2, 2, 2, 2, 0]\n",
      "[0, 0, 0, 0, 0, 0, 0, 0]\n",
      "[0, 0, 0, 0, 0, 0, 0, 0]\n",
      "--------------------------------------------------\n",
      "[1, 1, 1, 1, 1, 1, 1, 1]\n",
      "[2, 2, 2, 2, 2, 2, 2, 2]\n",
      "[0, 0, 0, 0, 0, 0, 0, 0]\n",
      "[0, 0, 0, 0, 0, 0, 0, 0]\n",
      "--------------------------------------------------\n",
      "[1, 1, 1, 1, 1, 1, 1, 1]\n",
      "[2, 2, 2, 2, 2, 2, 2, 2]\n",
      "[3, 0, 0, 0, 0, 0, 0, 0]\n",
      "[0, 0, 0, 0, 0, 0, 0, 0]\n",
      "--------------------------------------------------\n",
      "[1, 1, 1, 1, 1, 1, 1, 1]\n",
      "[2, 2, 2, 2, 2, 2, 2, 2]\n",
      "[3, 3, 0, 0, 0, 0, 0, 0]\n",
      "[0, 0, 0, 0, 0, 0, 0, 0]\n",
      "--------------------------------------------------\n",
      "[1, 1, 1, 1, 1, 1, 1, 1]\n",
      "[2, 2, 2, 2, 2, 2, 2, 2]\n",
      "[3, 3, 3, 0, 0, 0, 0, 0]\n",
      "[0, 0, 0, 0, 0, 0, 0, 0]\n",
      "--------------------------------------------------\n",
      "[1, 1, 1, 1, 1, 1, 1, 1]\n",
      "[2, 2, 2, 2, 2, 2, 2, 2]\n",
      "[3, 3, 3, 3, 0, 0, 0, 0]\n",
      "[0, 0, 0, 0, 0, 0, 0, 0]\n",
      "--------------------------------------------------\n",
      "[1, 1, 1, 1, 1, 1, 1, 1]\n",
      "[2, 2, 2, 2, 2, 2, 2, 2]\n",
      "[3, 3, 3, 3, 3, 0, 0, 0]\n",
      "[0, 0, 0, 0, 0, 0, 0, 0]\n",
      "--------------------------------------------------\n",
      "[1, 1, 1, 1, 1, 1, 1, 1]\n",
      "[2, 2, 2, 2, 2, 2, 2, 2]\n",
      "[3, 3, 3, 3, 3, 3, 0, 0]\n",
      "[0, 0, 0, 0, 0, 0, 0, 0]\n",
      "--------------------------------------------------\n",
      "[1, 1, 1, 1, 1, 1, 1, 1]\n",
      "[2, 2, 2, 2, 2, 2, 2, 2]\n",
      "[3, 3, 3, 3, 3, 3, 3, 0]\n",
      "[0, 0, 0, 0, 0, 0, 0, 0]\n",
      "--------------------------------------------------\n",
      "[1, 1, 1, 1, 1, 1, 1, 1]\n",
      "[2, 2, 2, 2, 2, 2, 2, 2]\n",
      "[3, 3, 3, 3, 3, 3, 3, 3]\n",
      "[0, 0, 0, 0, 0, 0, 0, 0]\n",
      "--------------------------------------------------\n",
      "[1, 1, 1, 1, 1, 1, 1, 1]\n",
      "[2, 2, 2, 2, 2, 2, 2, 2]\n",
      "[3, 3, 3, 3, 3, 3, 3, 3]\n",
      "[4, 0, 0, 0, 0, 0, 0, 0]\n",
      "--------------------------------------------------\n",
      "[1, 1, 1, 1, 1, 1, 1, 1]\n",
      "[2, 2, 2, 2, 2, 2, 2, 2]\n",
      "[3, 3, 3, 3, 3, 3, 3, 3]\n",
      "[4, 4, 0, 0, 0, 0, 0, 0]\n",
      "--------------------------------------------------\n",
      "[1, 1, 1, 1, 1, 1, 1, 1]\n",
      "[2, 2, 2, 2, 2, 2, 2, 2]\n",
      "[3, 3, 3, 3, 3, 3, 3, 3]\n",
      "[4, 4, 4, 0, 0, 0, 0, 0]\n",
      "--------------------------------------------------\n",
      "[1, 1, 1, 1, 1, 1, 1, 1]\n",
      "[2, 2, 2, 2, 2, 2, 2, 2]\n",
      "[3, 3, 3, 3, 3, 3, 3, 3]\n",
      "[4, 4, 4, 4, 0, 0, 0, 0]\n",
      "--------------------------------------------------\n",
      "[1, 1, 1, 1, 1, 1, 1, 1]\n",
      "[2, 2, 2, 2, 2, 2, 2, 2]\n",
      "[3, 3, 3, 3, 3, 3, 3, 3]\n",
      "[4, 4, 4, 4, 4, 0, 0, 0]\n",
      "--------------------------------------------------\n",
      "[1, 1, 1, 1, 1, 1, 1, 1]\n",
      "[2, 2, 2, 2, 2, 2, 2, 2]\n",
      "[3, 3, 3, 3, 3, 3, 3, 3]\n",
      "[4, 4, 4, 4, 4, 4, 0, 0]\n",
      "--------------------------------------------------\n",
      "[1, 1, 1, 1, 1, 1, 1, 1]\n",
      "[2, 2, 2, 2, 2, 2, 2, 2]\n",
      "[3, 3, 3, 3, 3, 3, 3, 3]\n",
      "[4, 4, 4, 4, 4, 4, 4, 0]\n",
      "--------------------------------------------------\n",
      "\n",
      "[1, 1, 1, 1, 1, 1, 1, 1]\n",
      "[2, 2, 2, 2, 2, 2, 2, 2]\n",
      "[3, 3, 3, 3, 3, 3, 3, 3]\n",
      "[4, 4, 4, 4, 4, 4, 4, 4]\n"
     ]
    }
   ],
   "source": [
    "## now overwrite values\n",
    "n = 4\n",
    "m = 8\n",
    "\n",
    "M = [[0]*m for _ in range(n)]\n",
    "for i in range(n):\n",
    "    for j in range(m):\n",
    "        creation_of_matrix(M)\n",
    "        value = i+1\n",
    "        M[i][j] = value\n",
    "        \n",
    "#print(M)\n",
    "\n",
    "print()\n",
    "print_matrix(M)"
   ]
  },
  {
   "cell_type": "code",
   "execution_count": null,
   "id": "4cae1380",
   "metadata": {},
   "outputs": [],
   "source": []
  },
  {
   "cell_type": "code",
   "execution_count": null,
   "id": "8e9af5ac",
   "metadata": {},
   "outputs": [],
   "source": []
  },
  {
   "cell_type": "code",
   "execution_count": null,
   "id": "8186fb56",
   "metadata": {},
   "outputs": [],
   "source": []
  },
  {
   "cell_type": "code",
   "execution_count": null,
   "id": "230d1d74",
   "metadata": {},
   "outputs": [],
   "source": []
  },
  {
   "cell_type": "code",
   "execution_count": null,
   "id": "f3a95cd5",
   "metadata": {},
   "outputs": [],
   "source": []
  },
  {
   "cell_type": "code",
   "execution_count": null,
   "id": "d7335df3",
   "metadata": {},
   "outputs": [],
   "source": []
  },
  {
   "cell_type": "code",
   "execution_count": null,
   "id": "562cd305",
   "metadata": {},
   "outputs": [],
   "source": []
  },
  {
   "cell_type": "code",
   "execution_count": null,
   "id": "4cdaea70",
   "metadata": {},
   "outputs": [],
   "source": []
  },
  {
   "cell_type": "code",
   "execution_count": null,
   "id": "db6c3552",
   "metadata": {},
   "outputs": [],
   "source": []
  },
  {
   "cell_type": "code",
   "execution_count": null,
   "id": "9f36c8e1",
   "metadata": {},
   "outputs": [],
   "source": []
  },
  {
   "cell_type": "code",
   "execution_count": null,
   "id": "e04a8a9f",
   "metadata": {},
   "outputs": [],
   "source": []
  },
  {
   "cell_type": "code",
   "execution_count": null,
   "id": "f5d3960b",
   "metadata": {},
   "outputs": [],
   "source": []
  },
  {
   "cell_type": "markdown",
   "id": "c3a9c9ba",
   "metadata": {},
   "source": [
    "# diagonal matrix for square M"
   ]
  },
  {
   "cell_type": "code",
   "execution_count": 102,
   "id": "a004a3d8",
   "metadata": {},
   "outputs": [
    {
     "name": "stdout",
     "output_type": "stream",
     "text": [
      "1\n",
      "5\n",
      "9\n"
     ]
    }
   ],
   "source": [
    "M = [[1, 2, 3], [4, 5, 6], [7, 8, 9]]\n",
    "n = len(M)\n",
    "m = len(M[0])\n",
    "\n",
    "for i in range(n):\n",
    "    print(M[i][i])\n"
   ]
  },
  {
   "cell_type": "code",
   "execution_count": 103,
   "id": "95d8aaba",
   "metadata": {},
   "outputs": [
    {
     "name": "stdout",
     "output_type": "stream",
     "text": [
      "3\n",
      "5\n",
      "7\n"
     ]
    }
   ],
   "source": [
    "for i in range(n):\n",
    "    print(M[i][n-i-1])   # i+j = n-1   , j = n-1-i "
   ]
  },
  {
   "cell_type": "code",
   "execution_count": null,
   "id": "ab49f1cd",
   "metadata": {},
   "outputs": [],
   "source": []
  },
  {
   "cell_type": "markdown",
   "id": "4b973750",
   "metadata": {},
   "source": [
    "# Given a rectangular Matrix , N * M.  print all the right -->-- left diagonals"
   ]
  },
  {
   "attachments": {
    "Screenshot%202022-03-09%20103411.jpeg": {
     "image/jpeg": "[encoded data removed]"
    }
   },
   "cell_type": "markdown",
   "id": "e096f3fb",
   "metadata": {},
   "source": [
    "![Screenshot%202022-03-09%20103411.jpeg](attachment:Screenshot%202022-03-09%20103411.jpeg)"
   ]
  },
  {
   "cell_type": "code",
   "execution_count": null,
   "id": "61d3110f",
   "metadata": {},
   "outputs": [],
   "source": [
    "# number of diagonals\n"
   ]
  },
  {
   "cell_type": "raw",
   "id": "3fe860ed",
   "metadata": {},
   "source": [
    "M[0][0]\n",
    "M[0][1],[1][0]\n",
    "M[0][2],[1][1],[2][0]\n",
    "M[0][3][1][2][2][1][3][0]...\n",
    "\n",
    "total 11 diagonals here. \n",
    "n+m-1 total diagonals"
   ]
  },
  {
   "cell_type": "raw",
   "id": "102aae4e",
   "metadata": {},
   "source": [
    "each col start 1 diagonal  (m)\n",
    "\n",
    "then \n",
    "\n",
    "rows from right   ( n-1 )\n",
    "\n",
    "(m + n-1)"
   ]
  },
  {
   "cell_type": "raw",
   "id": "838a5dd3",
   "metadata": {},
   "source": [
    "current cell is : r,c\n",
    "   next cell is : r+1,c-1"
   ]
  },
  {
   "cell_type": "code",
   "execution_count": 333,
   "id": "e47748e0",
   "metadata": {},
   "outputs": [],
   "source": [
    "def print_right_to_left_diagonals(M):\n",
    "    n = len(M)\n",
    "    m = len(M[0])\n",
    "    for c in range(m):\n",
    "        r = 0\n",
    "        while r < n and c >= 0:     #    r<n : 0 to n-1 \n",
    "                                    #    c>=0 :0 to m-1\n",
    "            print(M[r][c])\n",
    "            r+=1\n",
    "            c-=1\n",
    "    print()\n",
    "    for r in range(1,n):\n",
    "        c = m-1\n",
    "        while r < n and c >= 0:     \n",
    "            print(M[r][c])\n",
    "            r+=1\n",
    "            c-=1"
   ]
  },
  {
   "cell_type": "code",
   "execution_count": 334,
   "id": "f7f78575",
   "metadata": {},
   "outputs": [
    {
     "name": "stdout",
     "output_type": "stream",
     "text": [
      "1\n",
      "2\n",
      "6\n",
      "3\n",
      "5\n",
      "1\n",
      "4\n",
      "4\n",
      "2\n",
      "6\n",
      "5\n",
      "3\n",
      "3\n",
      "5\n",
      "6\n",
      "2\n",
      "4\n",
      "4\n",
      "\n",
      "1\n",
      "5\n",
      "3\n",
      "6\n",
      "2\n",
      "1\n"
     ]
    }
   ],
   "source": [
    "print_right_to_left_diagonals([\n",
    "    [ 1, 2, 3, 4, 5, 6],\n",
    "    [ 6, 5, 4, 3, 2, 1],\n",
    "    [ 1, 2, 3, 4, 5, 6],\n",
    "    [ 6, 5, 4, 3, 2, 1]])"
   ]
  },
  {
   "cell_type": "code",
   "execution_count": null,
   "id": "62b835f4",
   "metadata": {},
   "outputs": [],
   "source": []
  },
  {
   "cell_type": "code",
   "execution_count": null,
   "id": "f78014d6",
   "metadata": {},
   "outputs": [],
   "source": []
  },
  {
   "cell_type": "code",
   "execution_count": 330,
   "id": "f78109a5",
   "metadata": {},
   "outputs": [],
   "source": [
    "def print_left_to_right_diagonals(M):\n",
    "    n = len(M)\n",
    "    m = len(M[0])\n",
    "   \n",
    "    for r in range(n-1,-1,-1):\n",
    "        c = 0\n",
    "        while r < n and c <= m:     \n",
    "            print(M[r][c])\n",
    "            r+=1\n",
    "            c+=1\n",
    "    print()\n",
    "    for c in range(1,m):\n",
    "        r = 0\n",
    "        \n",
    "        while r < n and c < m:     \n",
    "            print(M[r][c])\n",
    "            r+=1\n",
    "            c+=1"
   ]
  },
  {
   "cell_type": "code",
   "execution_count": 331,
   "id": "461f42da",
   "metadata": {},
   "outputs": [
    {
     "name": "stdout",
     "output_type": "stream",
     "text": [
      "6\n",
      "1\n",
      "5\n",
      "6\n",
      "2\n",
      "4\n",
      "1\n",
      "5\n",
      "3\n",
      "3\n",
      "\n",
      "2\n",
      "4\n",
      "4\n",
      "2\n",
      "3\n",
      "3\n",
      "5\n",
      "1\n",
      "4\n",
      "2\n",
      "6\n",
      "5\n",
      "1\n",
      "6\n"
     ]
    }
   ],
   "source": [
    "print_left_to_right_diagonals([\n",
    "    [ 1, 2, 3, 4, 5, 6],\n",
    "    [ 6, 5, 4, 3, 2, 1],\n",
    "    [ 1, 2, 3, 4, 5, 6],\n",
    "    [ 6, 5, 4, 3, 2, 1]])"
   ]
  },
  {
   "cell_type": "code",
   "execution_count": null,
   "id": "97c6423e",
   "metadata": {},
   "outputs": [],
   "source": []
  },
  {
   "cell_type": "code",
   "execution_count": 337,
   "id": "1c42afe0",
   "metadata": {},
   "outputs": [],
   "source": [
    "def print_bottom_left_to_right_diagonals(M):\n",
    "    n = len(M)\n",
    "    m = len(M[0])\n",
    "    for r in range(0,n-1):\n",
    "        c = 0\n",
    "        while r >= 0 and c !=m:  \n",
    "            print(M[r][c])\n",
    "            r-=1\n",
    "            c+=1\n",
    "    print()\n",
    "    for c in range(m):\n",
    "        r = n-1\n",
    "        while r >= 0 and c !=m :    \n",
    "                                    \n",
    "            print(M[r][c])\n",
    "            r-=1\n",
    "            c+=1\n",
    "    print()\n",
    "    "
   ]
  },
  {
   "cell_type": "code",
   "execution_count": 338,
   "id": "5c8ca11e",
   "metadata": {},
   "outputs": [
    {
     "name": "stdout",
     "output_type": "stream",
     "text": [
      "1\n",
      "6\n",
      "2\n",
      "1\n",
      "5\n",
      "3\n",
      "\n",
      "6\n",
      "2\n",
      "4\n",
      "4\n",
      "5\n",
      "3\n",
      "3\n",
      "5\n",
      "4\n",
      "4\n",
      "2\n",
      "6\n",
      "3\n",
      "5\n",
      "1\n",
      "2\n",
      "6\n",
      "1\n",
      "\n"
     ]
    }
   ],
   "source": [
    "print_bottom_left_to_right_diagonals([\n",
    "    [ 1, 2, 3, 4, 5, 6],\n",
    "    [ 6, 5, 4, 3, 2, 1],\n",
    "    [ 1, 2, 3, 4, 5, 6],\n",
    "    [ 6, 5, 4, 3, 2, 1]])"
   ]
  },
  {
   "cell_type": "code",
   "execution_count": 392,
   "id": "c419761e",
   "metadata": {},
   "outputs": [],
   "source": [
    "\n",
    "def print_bottom_right_to_left_diagonals(M):\n",
    "    n = len(M)\n",
    "    m = len(M[0])\n",
    "    for r in range(0,n):\n",
    "        c = m-1\n",
    "        while r >= 0 and c >= 0:  \n",
    "            print(M[r][c])\n",
    "            r-=1\n",
    "            c-=1\n",
    "            \n",
    "    print()\n",
    "    for c in range(m-2,-1,-1):\n",
    "        r = n-1\n",
    "        while r >= 0 and c >= 0:  \n",
    "                                  \n",
    "            print(M[r][c])\n",
    "            r-=1\n",
    "            c-=1\n",
    "    print()\n",
    "    "
   ]
  },
  {
   "cell_type": "code",
   "execution_count": 393,
   "id": "a3ea5b26",
   "metadata": {},
   "outputs": [
    {
     "name": "stdout",
     "output_type": "stream",
     "text": [
      "6\n",
      "1\n",
      "5\n",
      "6\n",
      "2\n",
      "4\n",
      "1\n",
      "5\n",
      "3\n",
      "3\n",
      "\n",
      "2\n",
      "4\n",
      "4\n",
      "2\n",
      "3\n",
      "3\n",
      "5\n",
      "1\n",
      "4\n",
      "2\n",
      "6\n",
      "5\n",
      "1\n",
      "6\n",
      "\n"
     ]
    }
   ],
   "source": [
    "print_bottom_right_to_left_diagonals([\n",
    "    [ 1, 2, 3, 4, 5, 6],\n",
    "    [ 6, 5, 4, 3, 2, 1],\n",
    "    [ 1, 2, 3, 4, 5, 6],\n",
    "    [ 6, 5, 4, 3, 2, 1]])\n",
    "n = 4\n",
    "m = 6\n",
    "\n",
    "ansM = [[0]*min(n,m) for _ in range(m+n-1)]"
   ]
  },
  {
   "cell_type": "code",
   "execution_count": null,
   "id": "f859f9a0",
   "metadata": {},
   "outputs": [],
   "source": []
  },
  {
   "cell_type": "code",
   "execution_count": null,
   "id": "3a06d0f3",
   "metadata": {},
   "outputs": [],
   "source": []
  },
  {
   "cell_type": "code",
   "execution_count": null,
   "id": "f155af9f",
   "metadata": {},
   "outputs": [],
   "source": []
  },
  {
   "cell_type": "code",
   "execution_count": 390,
   "id": "e1c0afed",
   "metadata": {},
   "outputs": [
    {
     "name": "stdout",
     "output_type": "stream",
     "text": [
      "[6, 1, 5, 6, 2, 4, 1, 5, 3, 3, 2, 4, 4, 2, 3, 3, 5, 1, 4, 2, 6, 5, 1, 6]\n"
     ]
    }
   ],
   "source": [
    "n = 4\n",
    "m = 6\n",
    "\n",
    "M = [\n",
    "    [ 1, 2, 3, 4, 5, 6],\n",
    "    [ 6, 5, 4, 3, 2, 1],\n",
    "    [ 1, 2, 3, 4, 5, 6],\n",
    "    [ 6, 5, 4, 3, 2, 1]]\n",
    "x = []\n",
    "ansM = [[0]*min(n,m) for _ in range(m+n-1)]\n",
    "n = len(M)\n",
    "m = len(M[0])\n",
    "for r in range(0,n):\n",
    "    c = m-1\n",
    "    \n",
    "    while r >= 0 and c >=0:  \n",
    "\n",
    "        x.append(M[r][c])\n",
    "        r-=1\n",
    "        c-=1\n",
    "\n",
    "\n",
    "for c in range(m-2,-1,-1):\n",
    "    r = n-1\n",
    "    while r >= 0 and c >= 0:  \n",
    " \n",
    "        x.append(M[r][c])\n",
    "        r-=1\n",
    "        c-=1\n",
    "\n",
    "\n",
    "\n",
    "print(x)\n"
   ]
  },
  {
   "cell_type": "code",
   "execution_count": 2,
   "id": "3bd9e90a",
   "metadata": {},
   "outputs": [
    {
     "name": "stdout",
     "output_type": "stream",
     "text": [
      "[[4], [3, 3], [4, 4, 2], [3, 3, 5, 1], [4, 2, 6], [5, 1], [6]]\n"
     ]
    }
   ],
   "source": [
    "\n",
    "\n",
    "M = [\n",
    "    [ 1, 2, 3, 4, ],\n",
    "    [ 6, 5, 4, 3, ],\n",
    "    [ 1, 2, 3, 4, ],\n",
    "    [ 6, 5, 4, 3, ]]\n",
    "\n",
    "ansM = []\n",
    "n = len(M)\n",
    "m = len(M[0])\n",
    "for r in range(0,n):\n",
    "    c = m-1\n",
    "    x = []\n",
    "    while r >= 0 and c >= 0:  \n",
    "\n",
    "        val = (M[r][c])\n",
    "        x.append(val)\n",
    "        r-=1\n",
    "        c-=1\n",
    "    ansM.append(x)\n",
    "\n",
    "for c in range(m-2,-1,-1):\n",
    "    r = n-1\n",
    "    y = []\n",
    "    while r >= 0 and c >= 0:  \n",
    " \n",
    "        y.append(M[r][c])\n",
    "        r-=1\n",
    "        c-=1\n",
    "    ansM.append(y)\n",
    "print(ansM)\n",
    "\n"
   ]
  },
  {
   "cell_type": "code",
   "execution_count": 3,
   "id": "bd42c434",
   "metadata": {},
   "outputs": [
    {
     "name": "stdout",
     "output_type": "stream",
     "text": [
      "[4]\n",
      "[3, 3]\n",
      "[4, 4, 2]\n",
      "[3, 3, 5, 1]\n",
      "[4, 2, 6]\n",
      "[5, 1]\n",
      "[6]\n"
     ]
    }
   ],
   "source": [
    "for x in ansM:\n",
    "    print(x)"
   ]
  },
  {
   "cell_type": "code",
   "execution_count": null,
   "id": "5991cc9a",
   "metadata": {},
   "outputs": [],
   "source": []
  },
  {
   "cell_type": "code",
   "execution_count": 19,
   "id": "108e6834",
   "metadata": {},
   "outputs": [],
   "source": [
    "X = [[0]*min(n,m) for _ in range(m+n-1)]\n"
   ]
  },
  {
   "cell_type": "code",
   "execution_count": null,
   "id": "fcb8e1c2",
   "metadata": {},
   "outputs": [],
   "source": []
  },
  {
   "cell_type": "code",
   "execution_count": null,
   "id": "72dc5048",
   "metadata": {},
   "outputs": [],
   "source": []
  },
  {
   "cell_type": "code",
   "execution_count": 50,
   "id": "ccec83e4",
   "metadata": {},
   "outputs": [],
   "source": [
    "ans = [[4], [3, 3], [4, 4, 2], [3, 3, 5, 1], [4, 2, 6], [5, 1], [6]]"
   ]
  },
  {
   "cell_type": "code",
   "execution_count": null,
   "id": "c377bf88",
   "metadata": {},
   "outputs": [],
   "source": []
  },
  {
   "cell_type": "markdown",
   "id": "900c99ac",
   "metadata": {},
   "source": [
    "## final anti diagonal with zero fills\n"
   ]
  },
  {
   "cell_type": "code",
   "execution_count": 2,
   "id": "e041afaa",
   "metadata": {},
   "outputs": [
    {
     "name": "stdout",
     "output_type": "stream",
     "text": [
      "1 0 0 0 0 \n",
      "2 8 0 0 0 \n",
      "3 9 5 0 0 \n",
      "4 8 4 1 0 \n",
      "5 7 6 5 1 \n",
      "6 6 5 9 3 \n",
      "7 5 9 7 9 \n",
      "4 8 2 7 0 \n",
      "3 8 4 0 0 \n",
      "4 8 0 0 0 \n",
      "5 0 0 0 0 \n"
     ]
    }
   ],
   "source": [
    "# M = [[1,2,3,4,5,6,7],\n",
    "#      [8,9,8,7,6,5,4],\n",
    "#      [5,4,6,5,9,8,3],\n",
    "#      [1,5,9,7,2,8,4],\n",
    "#      [1,3,9,7,4,8,5]]\n",
    "# n = len(M)\n",
    "# m = len(M[0])\n",
    "# final = []\n",
    "# for c in range(m):\n",
    "#     ans = []\n",
    "#     r = 0\n",
    "#     while r<n and c>=0:\n",
    "#         ans.append(M[r][c])\n",
    "#         r+=1\n",
    "#         c-=1\n",
    "#     final.append(ans)\n",
    "\n",
    "# for r in range(1,n):\n",
    "#     c = m-1\n",
    "#     ans = []\n",
    "#     while r<n and c>=0:\n",
    "#         ans.append(M[r][c])\n",
    "#         r+=1\n",
    "#         c-=1\n",
    "#     final.append(ans)\n",
    "\n",
    "    \n",
    "# maxl = len(max(final))\n",
    "\n",
    "# for i in range(len(final)):\n",
    "#     while len(final[i]) != maxl:\n",
    "#         final[i].append(0*(maxl-len(final[i])))\n",
    "\n",
    "# for i in range(len(final)):\n",
    "#     for j in range(len(final[0])):\n",
    "#         print(final[i][j],end = \" \")\n",
    "#     print()"
   ]
  },
  {
   "cell_type": "code",
   "execution_count": 30,
   "id": "887780d8",
   "metadata": {},
   "outputs": [
    {
     "name": "stdout",
     "output_type": "stream",
     "text": [
      "1 \n",
      "2 8 \n",
      "3 9 5 \n",
      "4 8 4 1 \n",
      "5 7 6 5 1 \n",
      "6 6 5 9 3 \n",
      "7 5 9 7 9 \n",
      "4 8 2 7 \n",
      "3 8 4 \n",
      "4 8 \n",
      "5 \n",
      "\n",
      "5\n"
     ]
    }
   ],
   "source": [
    "M =[[1,2,3,4,5,6,7],\n",
    "     [8,9,8,7,6,5,4],\n",
    "     [5,4,6,5,9,8,3],\n",
    "     [1,5,9,7,2,8,4],\n",
    "     [1,3,9,7,4,8,5]]\n",
    "n = len(M)\n",
    "m = len(M[0])\n",
    "\n",
    "for c in range(m):\n",
    "\n",
    "    r = 0\n",
    "    while r<n and c>=0:\n",
    "        print((M[r][c]),end = \" \")\n",
    "        r+=1\n",
    "        c-=1\n",
    "    print()\n",
    "\n",
    "for r in range(1,n):\n",
    "    c = m-1\n",
    "    while r<n and c>=0:\n",
    "        print(M[r][c],end = \" \")\n",
    "        r+=1\n",
    "        c-=1\n",
    "    print()\n",
    "\n",
    "    \n",
    "maxlendiag = min(n,m)\n",
    "print()\n",
    "print(maxlendiag)\n",
    "\n",
    "# total number of diagonals: (m+n-1) \n",
    "# answer matrix size : (m+n-1) * min(n,m)\n",
    "\n",
    "finalfillm = [[0]*min(n,m) for _ in range(m+n-1)]\n"
   ]
  },
  {
   "cell_type": "code",
   "execution_count": null,
   "id": "94f23767",
   "metadata": {},
   "outputs": [],
   "source": []
  },
  {
   "cell_type": "code",
   "execution_count": 38,
   "id": "1361a689",
   "metadata": {},
   "outputs": [
    {
     "name": "stdout",
     "output_type": "stream",
     "text": [
      "[[1], [2, 8], [3, 9, 5], [4, 8, 4, 1], [5, 7, 6, 5, 1], [6, 6, 5, 9, 3], [7, 5, 9, 7, 9], [4, 4, 8, 2, 7], [8, 3, 8, 4], [7, 4, 8], [7, 5], [7]]\n"
     ]
    }
   ],
   "source": [
    "M = [[1,2,3,4,5,6,7,4],\n",
    "     [8,9,8,7,6,5,4,8],\n",
    "     [5,4,6,5,9,8,3,7],\n",
    "     [1,5,9,7,2,8,4,7],\n",
    "     [1,3,9,7,4,8,5,7]]\n",
    "n = len(M)\n",
    "m = len(M[0])\n",
    "final = []\n",
    "for c in range(m):\n",
    "    ans = []\n",
    "    r = 0\n",
    "    while r<n and c>=0:\n",
    "        ans.append(M[r][c])\n",
    "        r+=1\n",
    "        c-=1\n",
    "    final.append(ans)\n",
    "\n",
    "for r in range(1,n):\n",
    "    c = m-1\n",
    "    ans = []\n",
    "    while r<n and c>=0:\n",
    "        ans.append(M[r][c])\n",
    "        r+=1\n",
    "        c-=1\n",
    "    final.append(ans)\n",
    "\n",
    "num = min(n,m)\n",
    "\n",
    "for i in final:\n",
    "    if len(final) < num:\n",
    "        for _ in range(num-len(i)):\n",
    "            i.append(0)\n",
    "\n",
    "print(final)\n",
    "\n"
   ]
  },
  {
   "cell_type": "code",
   "execution_count": 1,
   "id": "37fd5a48",
   "metadata": {},
   "outputs": [
    {
     "name": "stdout",
     "output_type": "stream",
     "text": [
      "[[1, 0, 0, 0, 0], [2, 8, 0, 0, 0], [3, 9, 5, 0, 0], [4, 8, 4, 1, 0], [5, 7, 6, 5, 1], [6, 6, 5, 9, 3], [7, 5, 9, 7, 9], [4, 4, 8, 2, 7], [8, 3, 8, 4, 0], [7, 4, 8, 0, 0], [7, 5, 0, 0, 0], [7, 0, 0, 0, 0]]\n"
     ]
    }
   ],
   "source": [
    "\n",
    "M = [[1,2,3,4,5,6,7,4],\n",
    "     [8,9,8,7,6,5,4,8],\n",
    "     [5,4,6,5,9,8,3,7],\n",
    "     [1,5,9,7,2,8,4,7],\n",
    "     [1,3,9,7,4,8,5,7]]\n",
    "n = len(M)\n",
    "m = len(M[0])\n",
    "Z = []\n",
    "for c in range(m):\n",
    "    ans = []\n",
    "    r = 0\n",
    "    while r<n and c>=0:\n",
    "        ans.append(M[r][c])\n",
    "        r+=1\n",
    "        c-=1\n",
    "    Z.append(ans)\n",
    "\n",
    "for r in range(1,n):\n",
    "    c = m-1\n",
    "    ans = []\n",
    "    while r<n and c>=0:\n",
    "        ans.append(M[r][c])\n",
    "        r+=1\n",
    "        c-=1\n",
    "    Z.append(ans)\n",
    "\n",
    "num = min(n,m)\n",
    "\n",
    "for i in Z:\n",
    "    if len(i) < num:\n",
    "        for _ in range(num-len(i)):\n",
    "            i.append(0)\n",
    "\n",
    "print(Z)\n",
    "\n"
   ]
  },
  {
   "cell_type": "code",
   "execution_count": 2,
   "id": "8e36b070",
   "metadata": {},
   "outputs": [
    {
     "data": {
      "text/plain": [
       "[[1, 0, 0, 0, 0],\n",
       " [2, 8, 0, 0, 0],\n",
       " [3, 9, 5, 0, 0],\n",
       " [4, 8, 4, 1, 0],\n",
       " [5, 7, 6, 5, 1],\n",
       " [6, 6, 5, 9, 3],\n",
       " [7, 5, 9, 7, 9],\n",
       " [4, 4, 8, 2, 7],\n",
       " [8, 3, 8, 4, 0],\n",
       " [7, 4, 8, 0, 0],\n",
       " [7, 5, 0, 0, 0],\n",
       " [7, 0, 0, 0, 0]]"
      ]
     },
     "execution_count": 2,
     "metadata": {},
     "output_type": "execute_result"
    }
   ],
   "source": [
    "Z"
   ]
  },
  {
   "cell_type": "code",
   "execution_count": null,
   "id": "3cb042ce",
   "metadata": {},
   "outputs": [],
   "source": []
  },
  {
   "cell_type": "code",
   "execution_count": null,
   "id": "321fac28",
   "metadata": {},
   "outputs": [],
   "source": []
  },
  {
   "cell_type": "code",
   "execution_count": null,
   "id": "d8037d60",
   "metadata": {},
   "outputs": [],
   "source": []
  },
  {
   "cell_type": "code",
   "execution_count": null,
   "id": "32b8ffea",
   "metadata": {},
   "outputs": [],
   "source": []
  },
  {
   "cell_type": "code",
   "execution_count": null,
   "id": "b34c4329",
   "metadata": {},
   "outputs": [],
   "source": []
  },
  {
   "cell_type": "code",
   "execution_count": null,
   "id": "c0437b17",
   "metadata": {},
   "outputs": [],
   "source": []
  },
  {
   "cell_type": "code",
   "execution_count": null,
   "id": "d7959b26",
   "metadata": {},
   "outputs": [],
   "source": []
  },
  {
   "cell_type": "code",
   "execution_count": null,
   "id": "374152d1",
   "metadata": {},
   "outputs": [],
   "source": []
  },
  {
   "cell_type": "code",
   "execution_count": null,
   "id": "0a2a581c",
   "metadata": {},
   "outputs": [],
   "source": []
  },
  {
   "cell_type": "code",
   "execution_count": null,
   "id": "82224fe9",
   "metadata": {},
   "outputs": [],
   "source": []
  },
  {
   "cell_type": "code",
   "execution_count": null,
   "id": "a87177a3",
   "metadata": {},
   "outputs": [],
   "source": []
  },
  {
   "cell_type": "code",
   "execution_count": null,
   "id": "4bc5b6a9",
   "metadata": {},
   "outputs": [],
   "source": []
  },
  {
   "cell_type": "code",
   "execution_count": null,
   "id": "0ba77420",
   "metadata": {},
   "outputs": [],
   "source": []
  },
  {
   "cell_type": "code",
   "execution_count": null,
   "id": "b4bb3a3b",
   "metadata": {},
   "outputs": [],
   "source": []
  },
  {
   "cell_type": "code",
   "execution_count": null,
   "id": "c80ea676",
   "metadata": {},
   "outputs": [],
   "source": []
  },
  {
   "cell_type": "code",
   "execution_count": null,
   "id": "becfe99c",
   "metadata": {},
   "outputs": [],
   "source": []
  },
  {
   "cell_type": "code",
   "execution_count": null,
   "id": "9575fb61",
   "metadata": {},
   "outputs": [],
   "source": []
  },
  {
   "cell_type": "code",
   "execution_count": null,
   "id": "18238ba7",
   "metadata": {},
   "outputs": [],
   "source": []
  },
  {
   "cell_type": "markdown",
   "id": "de7e027b",
   "metadata": {},
   "source": [
    "# Transpose Matrix"
   ]
  },
  {
   "cell_type": "code",
   "execution_count": null,
   "id": "1531a3df",
   "metadata": {},
   "outputs": [],
   "source": [
    " "
   ]
  },
  {
   "cell_type": "code",
   "execution_count": 404,
   "id": "63ab0d01",
   "metadata": {},
   "outputs": [],
   "source": [
    "def transpose_matrix(M):\n",
    "    n , m = len(M) , len(M[0])\n",
    "    Mt = [[0]*n for _ in range(m)] \n",
    "    for i in range(n):\n",
    "        for j in range(m):\n",
    "            Mt[j][i] = M[i][j]\n",
    "    print(Mt)"
   ]
  },
  {
   "cell_type": "code",
   "execution_count": 408,
   "id": "80a059ba",
   "metadata": {},
   "outputs": [
    {
     "name": "stdout",
     "output_type": "stream",
     "text": [
      "[[1, 4], [2, 5], [3, 6]]\n"
     ]
    }
   ],
   "source": [
    "(transpose_matrix([[1,2,3],\n",
    "                  [4,5,6]]))"
   ]
  },
  {
   "cell_type": "code",
   "execution_count": null,
   "id": "4284fba8",
   "metadata": {},
   "outputs": [],
   "source": []
  },
  {
   "cell_type": "code",
   "execution_count": null,
   "id": "5b287d3c",
   "metadata": {},
   "outputs": [],
   "source": []
  },
  {
   "cell_type": "raw",
   "id": "b55fdcef",
   "metadata": {},
   "source": [
    "transpose_inplace  [for 📐 square matrix']"
   ]
  },
  {
   "cell_type": "code",
   "execution_count": 417,
   "id": "a0d519ea",
   "metadata": {},
   "outputs": [],
   "source": [
    "def transpose_inplace(M):         # condition is its a square matrix\n",
    "    n = len(M)               # n=m \n",
    "    for i in range(n):\n",
    "        for j in range(i,n):                      # <<--------------\n",
    "            M[i][j],M[j][i]=M[j][i],M[i][j]\n",
    "    return M\n",
    "    "
   ]
  },
  {
   "cell_type": "code",
   "execution_count": 418,
   "id": "8a4b201c",
   "metadata": {},
   "outputs": [
    {
     "data": {
      "text/plain": [
       "[[1, 4, 7], [2, 5, 8], [3, 6, 9]]"
      ]
     },
     "execution_count": 418,
     "metadata": {},
     "output_type": "execute_result"
    }
   ],
   "source": [
    "transpose_inplace([[1,2,3],\n",
    "                   [4,5,6],\n",
    "                   [7,8,9]])"
   ]
  },
  {
   "cell_type": "code",
   "execution_count": null,
   "id": "7c802fb2",
   "metadata": {},
   "outputs": [],
   "source": []
  },
  {
   "cell_type": "code",
   "execution_count": null,
   "id": "5d806a97",
   "metadata": {},
   "outputs": [],
   "source": []
  },
  {
   "cell_type": "markdown",
   "id": "f1ebdce9",
   "metadata": {},
   "source": [
    "# Rotate a given Matrix n* m "
   ]
  },
  {
   "cell_type": "raw",
   "id": "6ba3cfb6",
   "metadata": {},
   "source": [
    "1  2  3  4\n",
    "5  6  7  8\n",
    "9  10 11 12\n",
    "\n",
    "rotation : \n",
    "9   5  1\n",
    "10  6  2\n",
    "11  7  3\n",
    "12  8  4 \n",
    "\n",
    "transpose:\n",
    "1  5  9\n",
    "2  6  10\n",
    "3  7  11\n",
    "4  8  12"
   ]
  },
  {
   "cell_type": "code",
   "execution_count": 483,
   "id": "be4a2649",
   "metadata": {},
   "outputs": [],
   "source": [
    "def transpose_matrix(M):\n",
    "    n , m = len(M) , len(M[0])\n",
    "    Mt = [[0]*n for _ in range(m)] \n",
    "    for i in range(n):\n",
    "        for j in range(m):\n",
    "            Mt[j][i] = M[i][j]\n",
    "    return Mt"
   ]
  },
  {
   "cell_type": "code",
   "execution_count": 492,
   "id": "ca989f20",
   "metadata": {},
   "outputs": [],
   "source": [
    "def fliphorizonatal(M):\n",
    "    n , m = len(M) , len(M[0])\n",
    "    Mh = [[0]*m for _ in range(n)] \n",
    "    for i in range(n):\n",
    "        for j in  range(m):\n",
    "            Mh[i][m-1-j]=M[i][j]\n",
    "    return Mh"
   ]
  },
  {
   "cell_type": "code",
   "execution_count": 493,
   "id": "4f5bc457",
   "metadata": {},
   "outputs": [],
   "source": [
    "def rotate_90_clockwise(M):\n",
    "    \n",
    "    Mt = transpose_matrix(M)\n",
    "    #print(Mt)  \n",
    "    M_fliph = fliphorizonatal(Mt)\n",
    "    return M_fliph"
   ]
  },
  {
   "cell_type": "code",
   "execution_count": 494,
   "id": "ba93d311",
   "metadata": {},
   "outputs": [
    {
     "data": {
      "text/plain": [
       "[[8, 4, 1], [9, 5, 2], [10, 6, 3], [11, 7, 4]]"
      ]
     },
     "execution_count": 494,
     "metadata": {},
     "output_type": "execute_result"
    }
   ],
   "source": [
    "rotate_90_clockwise([[1,2,3,4],\n",
    "                     [4,5,6,7],\n",
    "                     [8,9,10,11]])"
   ]
  },
  {
   "cell_type": "code",
   "execution_count": null,
   "id": "ca5dec9c",
   "metadata": {},
   "outputs": [],
   "source": []
  },
  {
   "cell_type": "code",
   "execution_count": null,
   "id": "283ea758",
   "metadata": {},
   "outputs": [],
   "source": []
  },
  {
   "cell_type": "raw",
   "id": "6ed66010",
   "metadata": {},
   "source": [
    "i,j = j, n-i-1"
   ]
  },
  {
   "cell_type": "code",
   "execution_count": null,
   "id": "46a19977",
   "metadata": {},
   "outputs": [],
   "source": []
  },
  {
   "cell_type": "markdown",
   "id": "5bcce65c",
   "metadata": {},
   "source": [
    "# direct 90 rotate , without using transpose and flip"
   ]
  },
  {
   "cell_type": "code",
   "execution_count": 503,
   "id": "115d9412",
   "metadata": {},
   "outputs": [
    {
     "name": "stdout",
     "output_type": "stream",
     "text": [
      "[[8, 4, 1], [9, 5, 2], [10, 6, 3], [11, 7, 4]]\n"
     ]
    }
   ],
   "source": [
    "M = [[1,2,3,4],\n",
    "     [4,5,6,7],\n",
    "     [8,9,10,11]]\n",
    "n , m = len(M) , len(M[0])\n",
    "M_r = [[0]*n for _ in range(m)] \n",
    "\n",
    "for i in range(n):\n",
    "    for j in range(m):\n",
    "        M_r[j][n-1-i] = M[i][j]\n",
    "print(M_r)\n"
   ]
  },
  {
   "cell_type": "code",
   "execution_count": null,
   "id": "c4ebc64c",
   "metadata": {},
   "outputs": [],
   "source": []
  },
  {
   "cell_type": "markdown",
   "id": "348dc10d",
   "metadata": {},
   "source": [
    "# rotate sq matrix in place "
   ]
  },
  {
   "cell_type": "code",
   "execution_count": null,
   "id": "6e7eb1ee",
   "metadata": {},
   "outputs": [],
   "source": [
    "i,j == j,n-i-1  \n",
    "swap these \n",
    "\n",
    "# 4 way swap "
   ]
  },
  {
   "cell_type": "code",
   "execution_count": null,
   "id": "1c39e23a",
   "metadata": {},
   "outputs": [],
   "source": [
    "i     ,j             ------   j        ,n-1-i\n",
    "j     ,n-1-i         ------   n-1-i    ,m-1-j\n",
    "n-1-i ,m-1-j         ------   m-1-j    ,n-1-(n-1-i)[i]\n",
    "m-1-j ,i             ------   i        ,m-1-m+1+j[j]"
   ]
  },
  {
   "cell_type": "code",
   "execution_count": null,
   "id": "e7335214",
   "metadata": {},
   "outputs": [],
   "source": [
    "i     ,j             ------   j        ,n-1-i\n",
    "j     ,n-1-i         ------   n-1-i    ,m-1-j\n",
    "n-1-i ,m-1-j         ------   m-1-j    ,i\n",
    "m-1-j ,i             ------   i        ,j"
   ]
  },
  {
   "cell_type": "code",
   "execution_count": null,
   "id": "96584b76",
   "metadata": {},
   "outputs": [],
   "source": []
  },
  {
   "cell_type": "code",
   "execution_count": null,
   "id": "e97be633",
   "metadata": {},
   "outputs": [],
   "source": [
    "a,b,c,d = b,c,d,a\n",
    "4 ways swap in a square matrix "
   ]
  },
  {
   "cell_type": "code",
   "execution_count": null,
   "id": "eff30897",
   "metadata": {},
   "outputs": [],
   "source": []
  },
  {
   "cell_type": "code",
   "execution_count": 532,
   "id": "320e2dc9",
   "metadata": {},
   "outputs": [
    {
     "name": "stdout",
     "output_type": "stream",
     "text": [
      "[[3, 6, 9], [2, 5, 8], [1, 4, 7]]\n"
     ]
    }
   ],
   "source": [
    "# M = [[1,2,3],\n",
    "#      [4,5,6],\n",
    "#      [7,8,9]]\n",
    "# n , m = len(M) , len(M[0])\n",
    "\n",
    "\n",
    "# for i in range(n//2):\n",
    "#     for j in range(i,m-i-1):\n",
    "#         temp = M[i][j]\n",
    "#         M[i][j] = M[j][n-1-i]\n",
    "#         M[j][n-1-i] = M[n-i-1][m-1-j]\n",
    "#         M[n-i-1][m-1-j] = M[m-1-j][i]\n",
    "#         M[m-1-j][i] = temp\n",
    "        \n",
    "# print(M)\n",
    "  "
   ]
  },
  {
   "cell_type": "code",
   "execution_count": null,
   "id": "8e4e6c7c",
   "metadata": {},
   "outputs": [],
   "source": []
  },
  {
   "cell_type": "code",
   "execution_count": null,
   "id": "25a13887",
   "metadata": {},
   "outputs": [],
   "source": []
  },
  {
   "cell_type": "code",
   "execution_count": null,
   "id": "7da05242",
   "metadata": {},
   "outputs": [],
   "source": []
  },
  {
   "cell_type": "code",
   "execution_count": null,
   "id": "9c5d2ce7",
   "metadata": {},
   "outputs": [],
   "source": []
  },
  {
   "cell_type": "code",
   "execution_count": null,
   "id": "d43ea448",
   "metadata": {},
   "outputs": [],
   "source": []
  },
  {
   "cell_type": "code",
   "execution_count": null,
   "id": "43f39dad",
   "metadata": {},
   "outputs": [],
   "source": []
  },
  {
   "cell_type": "code",
   "execution_count": null,
   "id": "2f01e037",
   "metadata": {},
   "outputs": [],
   "source": []
  },
  {
   "cell_type": "code",
   "execution_count": null,
   "id": "82efd54c",
   "metadata": {},
   "outputs": [],
   "source": []
  },
  {
   "cell_type": "code",
   "execution_count": null,
   "id": "6007cdd7",
   "metadata": {},
   "outputs": [],
   "source": []
  },
  {
   "cell_type": "code",
   "execution_count": null,
   "id": "19c2ffab",
   "metadata": {},
   "outputs": [],
   "source": []
  },
  {
   "cell_type": "markdown",
   "id": "f32e6d6b",
   "metadata": {},
   "source": [
    "# multiplication  of two matrix\n",
    ": "
   ]
  },
  {
   "cell_type": "raw",
   "id": "ea31f0c0",
   "metadata": {},
   "source": [
    "A    *   B     =   C\n",
    "m*n      n*p      m*p\n",
    "\n",
    "#col     #row \n",
    "\n"
   ]
  },
  {
   "cell_type": "raw",
   "id": "48f4a5e0",
   "metadata": {},
   "source": [
    "C[i][j] = sigma (k= 0)   A[i][k]*B[k][j]\n",
    "\n"
   ]
  },
  {
   "cell_type": "code",
   "execution_count": null,
   "id": "97bdfcae",
   "metadata": {},
   "outputs": [],
   "source": []
  },
  {
   "cell_type": "code",
   "execution_count": 527,
   "id": "7d768f6d",
   "metadata": {},
   "outputs": [],
   "source": [
    "def matrix_dot_product(A,B):\n",
    "    m = len(A)\n",
    "    n = len(A[0])\n",
    "    n = len(B)\n",
    "    p = len(B[0])\n",
    "    \n",
    "    R = [[0]*p for _ in range(m)]\n",
    "    \n",
    "    for i in range(m):\n",
    "        for j in range(p):\n",
    "            s = 0\n",
    "            for k in range(n):\n",
    "                s += A[i][k] * B[k][j]\n",
    "            R[i][j] = s\n",
    "    return R"
   ]
  },
  {
   "cell_type": "code",
   "execution_count": 529,
   "id": "2d28f82c",
   "metadata": {},
   "outputs": [
    {
     "data": {
      "text/plain": [
       "[[14]]"
      ]
     },
     "execution_count": 529,
     "metadata": {},
     "output_type": "execute_result"
    }
   ],
   "source": [
    "matrix_dot_product([[1,2,3]],\n",
    "                               [[1],\n",
    "                                [2],\n",
    "                                [3]])\n"
   ]
  },
  {
   "cell_type": "code",
   "execution_count": null,
   "id": "6104548a",
   "metadata": {},
   "outputs": [],
   "source": []
  },
  {
   "cell_type": "markdown",
   "id": "4d28876b",
   "metadata": {},
   "source": [
    "# You are given a matrix A and and an integer B, you have to perform scalar multiplication of matrix A with an integer B."
   ]
  },
  {
   "cell_type": "code",
   "execution_count": 43,
   "id": "6fc4162e",
   "metadata": {},
   "outputs": [
    {
     "name": "stdout",
     "output_type": "stream",
     "text": [
      "[[2, 4, 6], [8, 10, 12], [14, 16, 18]]\n"
     ]
    }
   ],
   "source": [
    "A = [[1,2,3],[4,5,6],[7,8,9]]\n",
    "B = 2\n",
    "n = len(A)\n",
    "m = len(A[0])\n",
    "\n",
    "ans = [[0]*m for _ in range(n)]\n",
    "\n",
    "for i in range(n):\n",
    "    for j in range(m):\n",
    "        ans[i][j] = A[i][j] * B\n",
    "print(ans)\n",
    "        \n",
    "        "
   ]
  },
  {
   "cell_type": "code",
   "execution_count": null,
   "id": "eb5f59e4",
   "metadata": {},
   "outputs": [],
   "source": []
  },
  {
   "cell_type": "code",
   "execution_count": null,
   "id": "88568bce",
   "metadata": {},
   "outputs": [],
   "source": []
  },
  {
   "cell_type": "markdown",
   "id": "98be4b33",
   "metadata": {},
   "source": [
    "# row sum"
   ]
  },
  {
   "cell_type": "code",
   "execution_count": 48,
   "id": "09219516",
   "metadata": {},
   "outputs": [
    {
     "name": "stdout",
     "output_type": "stream",
     "text": [
      "[10, 26, 18]\n"
     ]
    }
   ],
   "source": [
    "A = [[1,2,3,4],\n",
    "[5,6,7,8],\n",
    "[9,2,3,4]]\n",
    "n = len(A)\n",
    "m = len(A[0])\n",
    "ans = []\n",
    "\n",
    "for i in range(n):\n",
    "    sum = 0\n",
    "    for j in range(m):\n",
    "        sum += A[i][j]\n",
    "    ans.append(sum)\n",
    "print(ans)"
   ]
  },
  {
   "cell_type": "code",
   "execution_count": 45,
   "id": "c00a58fc",
   "metadata": {},
   "outputs": [
    {
     "data": {
      "text/plain": [
       "[[1, 2, 3, 4], [5, 6, 7, 8], [9, 2, 3, 4]]"
      ]
     },
     "execution_count": 45,
     "metadata": {},
     "output_type": "execute_result"
    }
   ],
   "source": []
  },
  {
   "cell_type": "code",
   "execution_count": null,
   "id": "4602711f",
   "metadata": {},
   "outputs": [],
   "source": []
  },
  {
   "cell_type": "code",
   "execution_count": null,
   "id": "f26a539c",
   "metadata": {},
   "outputs": [],
   "source": []
  },
  {
   "cell_type": "code",
   "execution_count": null,
   "id": "96ca3446",
   "metadata": {},
   "outputs": [],
   "source": []
  },
  {
   "cell_type": "markdown",
   "id": "90967fc3",
   "metadata": {},
   "source": [
    "# You are given two matrices A & B of equal dimensions and you have to check whether two matrices are equal or not.\n",
    "\n",
    "NOTE: Both matrices are equal if A[i][j] == B[i][j] for all i and j in the given range."
   ]
  },
  {
   "cell_type": "code",
   "execution_count": 3,
   "id": "6f8b88d0",
   "metadata": {},
   "outputs": [
    {
     "name": "stdout",
     "output_type": "stream",
     "text": [
      "1\n"
     ]
    }
   ],
   "source": [
    "A = [[1, 2, 3],[4, 5, 6],[7, 8, 9]]\n",
    "B = [[1, 2, 3],[4, 5, 6],[7, 8, 9]]\n",
    "n = len(A)\n",
    "m = len(A[0])\n",
    "ans = True\n",
    "for i in range(n):\n",
    "    for j in range(m):\n",
    "        if A[i][j]!=B[i][j]:\n",
    "            ans = False\n",
    "if ans:\n",
    "    print(1)\n",
    "else:\n",
    "    print(0)"
   ]
  },
  {
   "cell_type": "markdown",
   "id": "d381e5ec",
   "metadata": {},
   "source": [
    "# You are given a N X N integer matrix. You have to find the sum of all the minor diagonal elements of A.\n",
    "\n",
    "Minor diagonal of a M X M matrix A is a collection of elements A[i, j] such that i + j = M + 1 (where i, j are 1-based)."
   ]
  },
  {
   "cell_type": "code",
   "execution_count": 4,
   "id": "b5273d34",
   "metadata": {},
   "outputs": [
    {
     "name": "stdout",
     "output_type": "stream",
     "text": [
      "233\n"
     ]
    }
   ],
   "source": [
    "M =[\n",
    "  [47, -59, 20, 33, 20, -47, -87, -59, 85],\n",
    "  [8, -67, 48, -10, -23, -68, -28, 62, -94],\n",
    "  [-50, 77, -39, -57, 15, 71, 44, 13, -53], \n",
    "    [-30, 43, -92, -94, 42, 37, 95, 7, 19],\n",
    "  [-1, 92, -85, 20, -53, -16, 31, -95, 4],\n",
    "  [-62, 49, 0, 53, -93, -61, -49, 86, 97],\n",
    "  [62, -26, -1, -38, 59, -93, -93, 12, -90],\n",
    "  [78, 85, 90, 89, -65, 5, 48, 40, -86],\n",
    "  [-79, -68, -89, 90, -40, 47, 68, -25, 92]\n",
    "]\n",
    "n = len(M)\n",
    "m = len(M[0])\n",
    "\n",
    "r = 0\n",
    "c = m-1\n",
    "sum = 0\n",
    "while r<n:\n",
    "    sum += M[r][c]\n",
    "    r = r+1\n",
    "    c = c-1\n",
    "    \n",
    "print(sum)\n"
   ]
  },
  {
   "cell_type": "markdown",
   "id": "4682716f",
   "metadata": {},
   "source": [
    "# You are given a N X N integer matrix. You have to find the sum of all the main diagonal elements of A.\n",
    "\n",
    "Main diagonal of a matrix A is a collection of elements A[i, j] such that i = j."
   ]
  },
  {
   "cell_type": "code",
   "execution_count": 120,
   "id": "5ea25c62",
   "metadata": {},
   "outputs": [
    {
     "name": "stdout",
     "output_type": "stream",
     "text": [
      "15\n"
     ]
    }
   ],
   "source": [
    "\n",
    "M = [[1, -2, -3],\n",
    "      [-4, 5, -6],\n",
    "      [-7, -8, 9]]\n",
    "n = len(M)\n",
    "m = len(M[0])\n",
    "sum = 0\n",
    "for i in range(n):\n",
    "    sum += M[i][i]\n",
    "print(sum)"
   ]
  },
  {
   "cell_type": "code",
   "execution_count": null,
   "id": "02bb0295",
   "metadata": {},
   "outputs": [],
   "source": []
  },
  {
   "cell_type": "code",
   "execution_count": null,
   "id": "9a782e09",
   "metadata": {},
   "outputs": [],
   "source": []
  },
  {
   "cell_type": "code",
   "execution_count": null,
   "id": "0e6defc8",
   "metadata": {},
   "outputs": [],
   "source": []
  },
  {
   "cell_type": "code",
   "execution_count": null,
   "id": "09b14a26",
   "metadata": {},
   "outputs": [],
   "source": []
  },
  {
   "cell_type": "code",
   "execution_count": null,
   "id": "cf1c4b65",
   "metadata": {},
   "outputs": [],
   "source": []
  },
  {
   "cell_type": "markdown",
   "id": "8ec88fbb",
   "metadata": {},
   "source": [
    "# You are given a 2D integer matrix A, make all the elements in a row or column zero if the A[i][j] = 0. Specifically, make entire ith row and jth column zero.\n",
    "\n"
   ]
  },
  {
   "cell_type": "code",
   "execution_count": 5,
   "id": "d03156b0",
   "metadata": {},
   "outputs": [
    {
     "name": "stdout",
     "output_type": "stream",
     "text": [
      "[[0, 0, 0, 0], [1, 2, 3, 0], [1, 2, 3, 0]]\n"
     ]
    }
   ],
   "source": [
    "A = [[1,2,3,0],\n",
    "     [1,2,3,4],\n",
    "     [1,2,3,4]]\n",
    "\n",
    "def transpose_matrix(C):\n",
    "    a , b = len(C), len(C[0])\n",
    "    Mt = [[0]*a for  _ in range(b)]\n",
    "    for i in range(a):\n",
    "        for j in range(b):\n",
    "            Mt[j][i] = C[i][j]\n",
    "    return (Mt)\n",
    "\n",
    "M = A.copy()\n",
    "At = transpose_matrix(A)\n",
    "\n",
    "for i in range(len(A)):\n",
    "    for j in range(len(A[0])):\n",
    "        if A[i][j] == 0:\n",
    "            for c in range(len(A[0])):\n",
    "                M[i][c]=0\n",
    "Mt = transpose_matrix(M)\n",
    "\n",
    "Xt = Mt.copy()\n",
    "for i in range(len(Mt)):\n",
    "    for j in range(len(Mt[0])):\n",
    "        if At[i][j]==0:\n",
    "            for c in range(len(Mt[0])):\n",
    "                Xt[i][c]=0\n",
    "                \n",
    "ans = transpose_matrix(Xt)\n",
    "print(ans)"
   ]
  },
  {
   "cell_type": "code",
   "execution_count": null,
   "id": "d85e1c2d",
   "metadata": {},
   "outputs": [],
   "source": []
  },
  {
   "cell_type": "code",
   "execution_count": null,
   "id": "125b9010",
   "metadata": {},
   "outputs": [],
   "source": []
  },
  {
   "cell_type": "markdown",
   "id": "c5d6436e",
   "metadata": {},
   "source": [
    "# Given an integer A, Print an A X A square matrix filled with elements from 1 to A2 in spiral order.\n",
    "\n",
    "NOTE: Integers in same line are to be separated by single spaces."
   ]
  },
  {
   "cell_type": "code",
   "execution_count": 6,
   "id": "d7f4e481",
   "metadata": {},
   "outputs": [
    {
     "name": "stdout",
     "output_type": "stream",
     "text": [
      "5\n",
      "1 2 3 4 5 \n",
      "10 9 8 7 6 \n",
      "11 12 13 14 15 \n",
      "20 19 18 17 16 \n",
      "21 22 23 24 25 \n"
     ]
    }
   ],
   "source": [
    "def main():\n",
    "    # YOUR CODE GOES HERE\n",
    "    # Please take input and print output to standard input/output (stdin/stdout)\n",
    "    # E.g. 'input()/raw_input()' for input & 'print' for output\n",
    "\n",
    "    A = int(input())\n",
    "\n",
    "    M = [[0]*A for _ in range(A)]\n",
    "    \n",
    "\n",
    "    n = len(M)\n",
    "    m = len(M[0])\n",
    "    val = 1\n",
    "    \n",
    "    for i in range(n):\n",
    "        for j in range(m):\n",
    "            M[i][j]= val\n",
    "            val = val+1\n",
    "        \n",
    "\n",
    "    for i in range(len(M)):\n",
    "        if i%2==0:\n",
    "            for j in range(len(M[0])):\n",
    "\n",
    "                print(M[i][j],end = \" \")\n",
    "            print()\n",
    "        if i%2!=0:\n",
    "            for j in reversed(range(len(M[0]))):\n",
    "\n",
    "                print(M[i][j],end = \" \")\n",
    "            print()\n",
    "\n",
    "    return 0\n",
    "\n",
    "if __name__ == '__main__':\n",
    "    main()"
   ]
  },
  {
   "cell_type": "code",
   "execution_count": null,
   "id": "c6492c5e",
   "metadata": {},
   "outputs": [],
   "source": []
  },
  {
   "cell_type": "code",
   "execution_count": null,
   "id": "42e4e4a5",
   "metadata": {},
   "outputs": [],
   "source": []
  },
  {
   "cell_type": "code",
   "execution_count": null,
   "id": "099523f7",
   "metadata": {},
   "outputs": [],
   "source": []
  },
  {
   "cell_type": "markdown",
   "id": "1a5dab07",
   "metadata": {},
   "source": [
    "# Given an integer A, generate a square matrix filled with elements from 1 to A2 in spiral order.\n",
    "\n"
   ]
  },
  {
   "cell_type": "code",
   "execution_count": 14,
   "id": "2c923580",
   "metadata": {},
   "outputs": [
    {
     "name": "stdout",
     "output_type": "stream",
     "text": [
      "3\n",
      "\n",
      "[[1, 2, 3], [8, 9, 4], [7, 6, 5]]\n",
      "\n",
      "1 2 3 \n",
      "8 9 4 \n",
      "7 6 5 \n"
     ]
    }
   ],
   "source": [
    "A = int(input())\n",
    "\n",
    "M = [[0]*A for _ in range(A)]\n",
    "#print(M)\n",
    "\n",
    "n = len(M)\n",
    "m = len(M[0])\n",
    "\n",
    "r,c = 0,0 # initial position \n",
    "direction = \"right\"\n",
    "\n",
    "boundary  = 0\n",
    "val = 1\n",
    "for _ in range(m*n):\n",
    "    M[r][c] = val\n",
    "\n",
    "    if direction == \"right\":\n",
    "        if c == m-1 - boundary :\n",
    "            direction = \"down\"\n",
    "            r += 1\n",
    "        else:\n",
    "            c += 1\n",
    "    elif direction == \"down\":\n",
    "        if r == n-1 - boundary :\n",
    "            direction = \"left\"\n",
    "            c -= 1\n",
    "        else:\n",
    "            r += 1\n",
    "\n",
    "    elif direction == \"left\":\n",
    "        if c == 0 + boundary :\n",
    "            direction = \"up\"\n",
    "            r -= 1\n",
    "        else:\n",
    "            c -= 1\n",
    "\n",
    "   \n",
    "    elif direction == \"up\":\n",
    "        if r == 1 + boundary:\n",
    "            direction = \"right\"\n",
    "            boundary += 1\n",
    "            c = c+1\n",
    "        else:\n",
    "            r -= 1\n",
    "    val +=1\n",
    "print()\n",
    "print(M)\n",
    "print()\n",
    "for i in range(len(M)):\n",
    "    for j in range(len(M[0])):\n",
    "        print(M[i][j],end = \" \")\n",
    "    print()"
   ]
  },
  {
   "cell_type": "code",
   "execution_count": null,
   "id": "500593cc",
   "metadata": {},
   "outputs": [],
   "source": []
  },
  {
   "cell_type": "code",
   "execution_count": null,
   "id": "74e3286f",
   "metadata": {},
   "outputs": [],
   "source": []
  },
  {
   "cell_type": "code",
   "execution_count": null,
   "id": "8be1e746",
   "metadata": {},
   "outputs": [],
   "source": []
  }
 ],
 "metadata": {
  "kernelspec": {
   "display_name": "Python 3 (ipykernel)",
   "language": "python",
   "name": "python3"
  },
  "language_info": {
   "codemirror_mode": {
    "name": "ipython",
    "version": 3
   },
   "file_extension": ".py",
   "mimetype": "text/x-python",
   "name": "python",
   "nbconvert_exporter": "python",
   "pygments_lexer": "ipython3",
   "version": "3.9.7"
  }
 },
 "nbformat": 4,
 "nbformat_minor": 5
}
